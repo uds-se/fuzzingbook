{
 "cells": [
  {
   "cell_type": "markdown",
   "metadata": {
    "button": false,
    "new_sheet": false,
    "run_control": {
     "read_only": false
    },
    "slideshow": {
     "slide_type": "slide"
    }
   },
   "source": [
    "# Tracking Information Flow\n",
    "\n",
    "We have explored how one could generate better inputs that can penetrate deeper into the program in question. While doing so, we have relied on program crashes to tell us that we have succeeded in finding problems in the program. However, that is rather simplistic. What if the behavior of the program is simply incorrect, but does not lead to a crash? Can one do better?\n",
    "\n",
    "In this chapter, we explore in depth how to track information flows in Python, and how these flows can be used to determine whether a program behaved as expected."
   ]
  },
  {
   "cell_type": "code",
   "execution_count": 1,
   "metadata": {
    "execution": {
     "iopub.execute_input": "2023-11-12T12:46:54.921086Z",
     "iopub.status.busy": "2023-11-12T12:46:54.920884Z",
     "iopub.status.idle": "2023-11-12T12:46:54.960851Z",
     "shell.execute_reply": "2023-11-12T12:46:54.960555Z"
    },
    "slideshow": {
     "slide_type": "skip"
    }
   },
   "outputs": [
    {
     "data": {
      "text/html": [
       "\n",
       "        <iframe\n",
       "            width=\"640\"\n",
       "            height=\"360\"\n",
       "            src=\"https://www.youtube-nocookie.com/embed/WZi0dTvJ2Ug\"\n",
       "            frameborder=\"0\"\n",
       "            allowfullscreen\n",
       "            \n",
       "        ></iframe>\n",
       "        "
      ],
      "text/plain": [
       "<IPython.lib.display.IFrame at 0x1065f4a60>"
      ]
     },
     "execution_count": 1,
     "metadata": {},
     "output_type": "execute_result"
    }
   ],
   "source": [
    "from bookutils import YouTubeVideo\n",
    "YouTubeVideo('WZi0dTvJ2Ug')"
   ]
  },
  {
   "cell_type": "markdown",
   "metadata": {
    "button": false,
    "new_sheet": false,
    "run_control": {
     "read_only": false
    },
    "slideshow": {
     "slide_type": "subslide"
    }
   },
   "source": [
    "**Prerequisites**\n",
    "\n",
    "* You should have read the [chapter on coverage](Coverage.ipynb).\n",
    "* You should have read the [chapter on probabilistic fuzzing](ProbabilisticGrammarFuzzer.ipynb)."
   ]
  },
  {
   "cell_type": "markdown",
   "metadata": {
    "slideshow": {
     "slide_type": "fragment"
    }
   },
   "source": [
    "We first set up our infrastructure so that we can make use of previously defined functions."
   ]
  },
  {
   "cell_type": "code",
   "execution_count": 2,
   "metadata": {
    "execution": {
     "iopub.execute_input": "2023-11-12T12:46:55.024769Z",
     "iopub.status.busy": "2023-11-12T12:46:55.024482Z",
     "iopub.status.idle": "2023-11-12T12:46:55.027890Z",
     "shell.execute_reply": "2023-11-12T12:46:55.027326Z"
    },
    "slideshow": {
     "slide_type": "skip"
    }
   },
   "outputs": [],
   "source": [
    "import bookutils.setup"
   ]
  },
  {
   "cell_type": "code",
   "execution_count": 3,
   "metadata": {
    "execution": {
     "iopub.execute_input": "2023-11-12T12:46:55.029892Z",
     "iopub.status.busy": "2023-11-12T12:46:55.029784Z",
     "iopub.status.idle": "2023-11-12T12:46:55.031904Z",
     "shell.execute_reply": "2023-11-12T12:46:55.031466Z"
    },
    "slideshow": {
     "slide_type": "skip"
    }
   },
   "outputs": [],
   "source": [
    "from typing import List, Any, Optional, Union"
   ]
  },
  {
   "attachments": {},
   "cell_type": "markdown",
   "metadata": {
    "slideshow": {
     "slide_type": "skip"
    }
   },
   "source": [
    "## Synopsis\n",
    "<!-- Automatically generated. Do not edit. -->\n",
    "\n",
    "To [use the code provided in this chapter](Importing.ipynb), write\n",
    "\n",
    "```python\n",
    ">>> from fuzzingbook.InformationFlow import <identifier>\n",
    "```\n",
    "\n",
    "and then make use of the following features.\n",
    "\n",
    "\n",
    "This chapter provides two wrappers to Python _strings_ that allow one to track various properties. These include information on the security properties of the input, and information on originating indexes of the input string.\n",
    "\n",
    "### Tracking String Taints\n",
    "\n",
    "`tstr` objects are replacements for Python strings that allows tracking and checking _taints_ – that is, information on from where a string originated. For instance, one can mark strings that originate from third party input with a taint of \"LOW\", meaning that they have a low security level. The taint is passed in the constructor of a `tstr` object:\n",
    "\n",
    "```python\n",
    ">>> thello = tstr('hello', taint='LOW')\n",
    "```\n",
    "A `tstr` object is fully compatible with original Python strings. For instance, we can index it and access substrings:\n",
    "\n",
    "```python\n",
    ">>> thello[:4]\n",
    "'hell'\n",
    "```\n",
    "However, the `tstr` object also stores the taint, which can be accessed using the `taint` attribute:\n",
    "\n",
    "```python\n",
    ">>> thello.taint\n",
    "'LOW'\n",
    "```\n",
    "The neat thing about taints is that they propagate to all strings derived from the original tainted string.\n",
    "Indeed, any operation from a  `tstr` string that results in a string fragment produces another `tstr` object that includes the original taint. For example:\n",
    "\n",
    "```python\n",
    ">>> thello[1:2].taint  # type: ignore\n",
    "'LOW'\n",
    "```\n",
    "`tstr` objects duplicate most `str` methods, as indicated in the class diagram:\n",
    "\n",
    "![](PICS/InformationFlow-synopsis-1.svg)\n",
    "\n",
    "### Tracking Character Origins\n",
    "\n",
    "`ostr` objects extend `tstr` objects by not only tracking a taint, but also the originating _indexes_ from the input string, This allows you to exactly track where individual characters came from. Assume you have a long string, which at index 100 contains the password `\"joshua1234\"`. Then you can save this origin information using an `ostr` as follows:\n",
    "\n",
    "```python\n",
    ">>> secret = ostr(\"joshua1234\", origin=100, taint='SECRET')\n",
    "```\n",
    "The `origin` attribute of an `ostr` provides access to a list of indexes:\n",
    "\n",
    "```python\n",
    ">>> secret.origin\n",
    "[100, 101, 102, 103, 104, 105, 106, 107, 108, 109]\n",
    ">>> secret.taint\n",
    "'SECRET'\n",
    "```\n",
    "`ostr` objects are compatible with Python strings, except that string operations return `ostr` objects (together with the saved origin an index information). An index of `-1` indicates that the corresponding character has no origin as supplied to the `ostr()` constructor:\n",
    "\n",
    "```python\n",
    ">>> secret_substr = (secret[0:4] + \"-\" + secret[6:])\n",
    ">>> secret_substr.taint\n",
    "'SECRET'\n",
    ">>> secret_substr.origin\n",
    "[100, 101, 102, 103, -1, 106, 107, 108, 109]\n",
    "```\n",
    "`ostr` objects duplicate most `str` methods, as indicated in the class diagram:\n",
    "\n",
    "![](PICS/InformationFlow-synopsis-2.svg)\n",
    "\n"
   ]
  },
  {
   "cell_type": "markdown",
   "metadata": {
    "slideshow": {
     "slide_type": "slide"
    }
   },
   "source": [
    "## A Vulnerable Database\n",
    "\n",
    "Say we want to implement an *in-memory database* service in Python. Here is a rather flimsy attempt. We use the following dataset."
   ]
  },
  {
   "cell_type": "code",
   "execution_count": 4,
   "metadata": {
    "execution": {
     "iopub.execute_input": "2023-11-12T12:46:55.034075Z",
     "iopub.status.busy": "2023-11-12T12:46:55.033957Z",
     "iopub.status.idle": "2023-11-12T12:46:55.036270Z",
     "shell.execute_reply": "2023-11-12T12:46:55.035875Z"
    },
    "slideshow": {
     "slide_type": "fragment"
    }
   },
   "outputs": [],
   "source": [
    "INVENTORY = \"\"\"\\\n",
    "1997,van,Ford,E350\n",
    "2000,car,Mercury,Cougar\n",
    "1999,car,Chevy,Venture\\\n",
    "\"\"\""
   ]
  },
  {
   "cell_type": "code",
   "execution_count": 5,
   "metadata": {
    "execution": {
     "iopub.execute_input": "2023-11-12T12:46:55.038659Z",
     "iopub.status.busy": "2023-11-12T12:46:55.038492Z",
     "iopub.status.idle": "2023-11-12T12:46:55.040552Z",
     "shell.execute_reply": "2023-11-12T12:46:55.040177Z"
    },
    "slideshow": {
     "slide_type": "fragment"
    }
   },
   "outputs": [],
   "source": [
    "VEHICLES = INVENTORY.split('\\n')"
   ]
  },
  {
   "cell_type": "markdown",
   "metadata": {
    "slideshow": {
     "slide_type": "fragment"
    }
   },
   "source": [
    "Our DB is a Python class that parses its arguments and throws `SQLException` which is defined below."
   ]
  },
  {
   "cell_type": "code",
   "execution_count": 6,
   "metadata": {
    "execution": {
     "iopub.execute_input": "2023-11-12T12:46:55.042538Z",
     "iopub.status.busy": "2023-11-12T12:46:55.042394Z",
     "iopub.status.idle": "2023-11-12T12:46:55.044496Z",
     "shell.execute_reply": "2023-11-12T12:46:55.044076Z"
    },
    "slideshow": {
     "slide_type": "fragment"
    }
   },
   "outputs": [],
   "source": [
    "class SQLException(Exception):\n",
    "    pass"
   ]
  },
  {
   "cell_type": "markdown",
   "metadata": {
    "slideshow": {
     "slide_type": "subslide"
    }
   },
   "source": [
    "The database is simply a Python `dict` that is exposed only through SQL queries."
   ]
  },
  {
   "cell_type": "code",
   "execution_count": 7,
   "metadata": {
    "execution": {
     "iopub.execute_input": "2023-11-12T12:46:55.046986Z",
     "iopub.status.busy": "2023-11-12T12:46:55.046821Z",
     "iopub.status.idle": "2023-11-12T12:46:55.048934Z",
     "shell.execute_reply": "2023-11-12T12:46:55.048513Z"
    },
    "slideshow": {
     "slide_type": "fragment"
    }
   },
   "outputs": [],
   "source": [
    "class DB:\n",
    "    def __init__(self, db={}):\n",
    "        self.db = dict(db)"
   ]
  },
  {
   "cell_type": "markdown",
   "metadata": {
    "slideshow": {
     "slide_type": "subslide"
    }
   },
   "source": [
    "### Representing Tables\n",
    "\n",
    "The database contains tables, which are created by a method call `create_table()`. Each table data structure is a pair of values. The first one is the meta data containing column names and types. The second value is a list of values in the table."
   ]
  },
  {
   "cell_type": "code",
   "execution_count": 8,
   "metadata": {
    "execution": {
     "iopub.execute_input": "2023-11-12T12:46:55.050918Z",
     "iopub.status.busy": "2023-11-12T12:46:55.050769Z",
     "iopub.status.idle": "2023-11-12T12:46:55.052752Z",
     "shell.execute_reply": "2023-11-12T12:46:55.052436Z"
    },
    "slideshow": {
     "slide_type": "fragment"
    }
   },
   "outputs": [],
   "source": [
    "class DB(DB):\n",
    "    def create_table(self, table, defs):\n",
    "        self.db[table] = (defs, [])"
   ]
  },
  {
   "cell_type": "markdown",
   "metadata": {
    "slideshow": {
     "slide_type": "fragment"
    }
   },
   "source": [
    "The table can be retrieved using the name using the `table()` method call."
   ]
  },
  {
   "cell_type": "code",
   "execution_count": 9,
   "metadata": {
    "execution": {
     "iopub.execute_input": "2023-11-12T12:46:55.054756Z",
     "iopub.status.busy": "2023-11-12T12:46:55.054563Z",
     "iopub.status.idle": "2023-11-12T12:46:55.057116Z",
     "shell.execute_reply": "2023-11-12T12:46:55.056686Z"
    },
    "slideshow": {
     "slide_type": "subslide"
    }
   },
   "outputs": [],
   "source": [
    "class DB(DB):\n",
    "    def table(self, t_name):\n",
    "        if t_name in self.db:\n",
    "            return self.db[t_name]\n",
    "        raise SQLException('Table (%s) was not found' % repr(t_name))"
   ]
  },
  {
   "cell_type": "markdown",
   "metadata": {
    "slideshow": {
     "slide_type": "fragment"
    }
   },
   "source": [
    "Here is an example of how to use both.  We fill a table `inventory` with four columns: `year`, `kind`, `company`, and `model`.  Initially, our table is empty."
   ]
  },
  {
   "cell_type": "code",
   "execution_count": 10,
   "metadata": {
    "execution": {
     "iopub.execute_input": "2023-11-12T12:46:55.059564Z",
     "iopub.status.busy": "2023-11-12T12:46:55.059421Z",
     "iopub.status.idle": "2023-11-12T12:46:55.061696Z",
     "shell.execute_reply": "2023-11-12T12:46:55.061266Z"
    },
    "slideshow": {
     "slide_type": "fragment"
    }
   },
   "outputs": [],
   "source": [
    "def sample_db():\n",
    "    db = DB()\n",
    "    inventory_def = {'year': int, 'kind': str, 'company': str, 'model': str}\n",
    "    db.create_table('inventory', inventory_def)\n",
    "    return db"
   ]
  },
  {
   "cell_type": "markdown",
   "metadata": {
    "slideshow": {
     "slide_type": "fragment"
    }
   },
   "source": [
    "Using `table()`, we can retrieve the table definition as well as its contents."
   ]
  },
  {
   "cell_type": "code",
   "execution_count": 11,
   "metadata": {
    "execution": {
     "iopub.execute_input": "2023-11-12T12:46:55.063595Z",
     "iopub.status.busy": "2023-11-12T12:46:55.063455Z",
     "iopub.status.idle": "2023-11-12T12:46:55.065837Z",
     "shell.execute_reply": "2023-11-12T12:46:55.065563Z"
    },
    "slideshow": {
     "slide_type": "subslide"
    }
   },
   "outputs": [
    {
     "data": {
      "text/plain": [
       "({'year': int, 'kind': str, 'company': str, 'model': str}, [])"
      ]
     },
     "execution_count": 11,
     "metadata": {},
     "output_type": "execute_result"
    }
   ],
   "source": [
    "db = sample_db()\n",
    "db.table('inventory')"
   ]
  },
  {
   "cell_type": "markdown",
   "metadata": {
    "slideshow": {
     "slide_type": "fragment"
    }
   },
   "source": [
    "We also define `column()` for retrieving the column definition from a table declaration."
   ]
  },
  {
   "cell_type": "code",
   "execution_count": 12,
   "metadata": {
    "execution": {
     "iopub.execute_input": "2023-11-12T12:46:55.067679Z",
     "iopub.status.busy": "2023-11-12T12:46:55.067507Z",
     "iopub.status.idle": "2023-11-12T12:46:55.069598Z",
     "shell.execute_reply": "2023-11-12T12:46:55.069344Z"
    },
    "slideshow": {
     "slide_type": "fragment"
    }
   },
   "outputs": [],
   "source": [
    "class DB(DB):\n",
    "    def column(self, table_decl, c_name):\n",
    "        if c_name in table_decl: \n",
    "            return table_decl[c_name]\n",
    "        raise SQLException('Column (%s) was not found' % repr(c_name))"
   ]
  },
  {
   "cell_type": "code",
   "execution_count": 13,
   "metadata": {
    "execution": {
     "iopub.execute_input": "2023-11-12T12:46:55.071330Z",
     "iopub.status.busy": "2023-11-12T12:46:55.071198Z",
     "iopub.status.idle": "2023-11-12T12:46:55.073538Z",
     "shell.execute_reply": "2023-11-12T12:46:55.073243Z"
    },
    "slideshow": {
     "slide_type": "fragment"
    }
   },
   "outputs": [
    {
     "data": {
      "text/plain": [
       "int"
      ]
     },
     "execution_count": 13,
     "metadata": {},
     "output_type": "execute_result"
    }
   ],
   "source": [
    "db = sample_db()\n",
    "decl, rows = db.table('inventory')\n",
    "db.column(decl, 'year')"
   ]
  },
  {
   "cell_type": "markdown",
   "metadata": {
    "slideshow": {
     "slide_type": "subslide"
    }
   },
   "source": [
    "### Executing SQL Statements\n",
    "\n",
    "The `sql()` method of `DB` executes SQL statements.  It inspects its arguments, and dispatches the query based on the kind of SQL statement to be executed."
   ]
  },
  {
   "cell_type": "code",
   "execution_count": 14,
   "metadata": {
    "execution": {
     "iopub.execute_input": "2023-11-12T12:46:55.075313Z",
     "iopub.status.busy": "2023-11-12T12:46:55.075192Z",
     "iopub.status.idle": "2023-11-12T12:46:55.078001Z",
     "shell.execute_reply": "2023-11-12T12:46:55.077726Z"
    },
    "slideshow": {
     "slide_type": "subslide"
    }
   },
   "outputs": [],
   "source": [
    "class DB(DB):\n",
    "    def do_select(self, query):\n",
    "        ...\n",
    "\n",
    "    def do_update(self, query):\n",
    "        ...\n",
    "\n",
    "    def do_insert(self, query):\n",
    "        ...\n",
    "\n",
    "    def do_delete(self, query):\n",
    "        ...\n",
    "\n",
    "    def sql(self, query):\n",
    "        methods = [('select ', self.do_select),\n",
    "                   ('update ', self.do_update),\n",
    "                   ('insert into ', self.do_insert),\n",
    "                   ('delete from', self.do_delete)]\n",
    "        for key, method in methods:\n",
    "            if query.startswith(key):\n",
    "                return method(query[len(key):])\n",
    "        raise SQLException('Unknown SQL (%s)' % query)"
   ]
  },
  {
   "cell_type": "markdown",
   "metadata": {
    "slideshow": {
     "slide_type": "subslide"
    }
   },
   "source": [
    "Here's an example of how to use the `DB` class:"
   ]
  },
  {
   "cell_type": "code",
   "execution_count": 15,
   "metadata": {
    "execution": {
     "iopub.execute_input": "2023-11-12T12:46:55.079624Z",
     "iopub.status.busy": "2023-11-12T12:46:55.079500Z",
     "iopub.status.idle": "2023-11-12T12:46:55.081188Z",
     "shell.execute_reply": "2023-11-12T12:46:55.080880Z"
    },
    "slideshow": {
     "slide_type": "fragment"
    }
   },
   "outputs": [],
   "source": [
    "some_db = DB()\n",
    "some_db.sql('select year from inventory')"
   ]
  },
  {
   "cell_type": "markdown",
   "metadata": {
    "slideshow": {
     "slide_type": "fragment"
    }
   },
   "source": [
    "However, at this point, the individual methods for handling SQL statements are not yet defined. Let us do this in the next steps."
   ]
  },
  {
   "cell_type": "markdown",
   "metadata": {
    "slideshow": {
     "slide_type": "subslide"
    }
   },
   "source": [
    "### Excursion: Implementing SQL Statements"
   ]
  },
  {
   "cell_type": "markdown",
   "metadata": {
    "slideshow": {
     "slide_type": "subslide"
    }
   },
   "source": [
    "#### Selecting Data\n",
    "\n",
    "The `do_select()` method handles SQL `select` statements to retrieve data from a table."
   ]
  },
  {
   "cell_type": "code",
   "execution_count": 16,
   "metadata": {
    "execution": {
     "iopub.execute_input": "2023-11-12T12:46:55.083078Z",
     "iopub.status.busy": "2023-11-12T12:46:55.082949Z",
     "iopub.status.idle": "2023-11-12T12:46:55.086194Z",
     "shell.execute_reply": "2023-11-12T12:46:55.085842Z"
    },
    "slideshow": {
     "slide_type": "subslide"
    }
   },
   "outputs": [],
   "source": [
    "class DB(DB):\n",
    "    def do_select(self, query):\n",
    "        FROM, WHERE = ' from ', ' where '\n",
    "        table_start = query.find(FROM)\n",
    "        if table_start < 0:\n",
    "            raise SQLException('no table specified')\n",
    "\n",
    "        where_start = query.find(WHERE)\n",
    "        select = query[:table_start]\n",
    "\n",
    "        if where_start >= 0:\n",
    "            t_name = query[table_start + len(FROM):where_start]\n",
    "            where = query[where_start + len(WHERE):]\n",
    "        else:\n",
    "            t_name = query[table_start + len(FROM):]\n",
    "            where = ''\n",
    "        _, table = self.table(t_name)\n",
    "\n",
    "        if where:\n",
    "            selected = self.expression_clause(table, \"(%s)\" % where)\n",
    "            selected_rows = [hm for i, data, hm in selected if data]\n",
    "        else:\n",
    "            selected_rows = table\n",
    "\n",
    "        rows = self.expression_clause(selected_rows, \"(%s)\" % select)\n",
    "        return [data for i, data, hm in rows]"
   ]
  },
  {
   "cell_type": "markdown",
   "metadata": {
    "slideshow": {
     "slide_type": "subslide"
    }
   },
   "source": [
    "The `expression_clause()` method is used for two purposes:\n",
    "\n",
    "1. In the form `select` $x$, $y$, $z$ `from` $t$, it _evaluates_ (and returns) the expressions $x$, $y$, $z$ in the contexts of the selected rows.\n",
    "2. If a clause `where` $p$ is given, it also evaluates $p$ in the context of the rows and includes the rows in the selection only if $p$ holds.\n",
    "\n",
    "To evaluate expressions like $x$, $y$, $z$ or $p$, the method `expression_clause()` makes use of the Python `eval()` evaluation function."
   ]
  },
  {
   "cell_type": "code",
   "execution_count": 17,
   "metadata": {
    "execution": {
     "iopub.execute_input": "2023-11-12T12:46:55.087966Z",
     "iopub.status.busy": "2023-11-12T12:46:55.087869Z",
     "iopub.status.idle": "2023-11-12T12:46:55.090113Z",
     "shell.execute_reply": "2023-11-12T12:46:55.089852Z"
    },
    "slideshow": {
     "slide_type": "subslide"
    }
   },
   "outputs": [],
   "source": [
    "class DB(DB):\n",
    "    def expression_clause(self, table, statement):\n",
    "        selected = []\n",
    "        for i, hm in enumerate(table):\n",
    "            selected.append((i, self.my_eval(statement, {}, hm), hm))\n",
    "\n",
    "        return selected"
   ]
  },
  {
   "cell_type": "markdown",
   "metadata": {
    "slideshow": {
     "slide_type": "fragment"
    }
   },
   "source": [
    "If `eval()` fails for whatever reason, we raise an exception:"
   ]
  },
  {
   "cell_type": "code",
   "execution_count": 18,
   "metadata": {
    "execution": {
     "iopub.execute_input": "2023-11-12T12:46:55.091749Z",
     "iopub.status.busy": "2023-11-12T12:46:55.091657Z",
     "iopub.status.idle": "2023-11-12T12:46:55.093664Z",
     "shell.execute_reply": "2023-11-12T12:46:55.093356Z"
    },
    "slideshow": {
     "slide_type": "fragment"
    }
   },
   "outputs": [],
   "source": [
    "class DB(DB):\n",
    "    def my_eval(self, statement, g, l):\n",
    "        try:\n",
    "            return eval(statement, g, l)\n",
    "        except Exception:\n",
    "            raise SQLException('Invalid WHERE (%s)' % repr(statement))"
   ]
  },
  {
   "cell_type": "markdown",
   "metadata": {
    "slideshow": {
     "slide_type": "subslide"
    }
   },
   "source": [
    "**Note:** Using `eval()` here introduces some important security issues, which we will discuss later in this chapter."
   ]
  },
  {
   "cell_type": "markdown",
   "metadata": {
    "slideshow": {
     "slide_type": "fragment"
    }
   },
   "source": [
    "Here's how we can use `sql()` to issue a query.  Note that the table is yet empty."
   ]
  },
  {
   "cell_type": "code",
   "execution_count": 19,
   "metadata": {
    "execution": {
     "iopub.execute_input": "2023-11-12T12:46:55.095514Z",
     "iopub.status.busy": "2023-11-12T12:46:55.095386Z",
     "iopub.status.idle": "2023-11-12T12:46:55.097685Z",
     "shell.execute_reply": "2023-11-12T12:46:55.097346Z"
    },
    "slideshow": {
     "slide_type": "fragment"
    }
   },
   "outputs": [
    {
     "data": {
      "text/plain": [
       "[]"
      ]
     },
     "execution_count": 19,
     "metadata": {},
     "output_type": "execute_result"
    }
   ],
   "source": [
    "db = sample_db()\n",
    "db.sql('select year from inventory')"
   ]
  },
  {
   "cell_type": "code",
   "execution_count": 20,
   "metadata": {
    "execution": {
     "iopub.execute_input": "2023-11-12T12:46:55.099297Z",
     "iopub.status.busy": "2023-11-12T12:46:55.099173Z",
     "iopub.status.idle": "2023-11-12T12:46:55.101415Z",
     "shell.execute_reply": "2023-11-12T12:46:55.101093Z"
    },
    "slideshow": {
     "slide_type": "fragment"
    }
   },
   "outputs": [
    {
     "data": {
      "text/plain": [
       "[]"
      ]
     },
     "execution_count": 20,
     "metadata": {},
     "output_type": "execute_result"
    }
   ],
   "source": [
    "db = sample_db()\n",
    "db.sql('select year from inventory where year == 2018')"
   ]
  },
  {
   "cell_type": "markdown",
   "metadata": {
    "slideshow": {
     "slide_type": "subslide"
    }
   },
   "source": [
    "#### Inserting Data\n",
    "\n",
    "The `do_insert()` method handles SQL `insert` statements."
   ]
  },
  {
   "cell_type": "code",
   "execution_count": 21,
   "metadata": {
    "execution": {
     "iopub.execute_input": "2023-11-12T12:46:55.103039Z",
     "iopub.status.busy": "2023-11-12T12:46:55.102931Z",
     "iopub.status.idle": "2023-11-12T12:46:55.106459Z",
     "shell.execute_reply": "2023-11-12T12:46:55.106167Z"
    },
    "slideshow": {
     "slide_type": "subslide"
    }
   },
   "outputs": [],
   "source": [
    "class DB(DB):\n",
    "    def do_insert(self, query):\n",
    "        VALUES = ' values '\n",
    "        table_end = query.find('(')\n",
    "        t_name = query[:table_end].strip()\n",
    "        names_end = query.find(')')\n",
    "        decls, table = self.table(t_name)\n",
    "        names = [i.strip() for i in query[table_end + 1:names_end].split(',')]\n",
    "\n",
    "        # verify columns exist\n",
    "        for k in names:\n",
    "            self.column(decls, k)\n",
    "\n",
    "        values_start = query.find(VALUES)\n",
    "\n",
    "        if values_start < 0:\n",
    "            raise SQLException('Invalid INSERT (%s)' % repr(query))\n",
    "\n",
    "        values = [\n",
    "            i.strip() for i in query[values_start + len(VALUES) + 1:-1].split(',')\n",
    "        ]\n",
    "\n",
    "        if len(names) != len(values):\n",
    "            raise SQLException(\n",
    "                'names(%s) != values(%s)' % (repr(names), repr(values)))\n",
    "\n",
    "        # dict lookups happen in C code, so we can't use that\n",
    "        kvs = {}\n",
    "        for k,v in zip(names, values):\n",
    "            for key,kval in decls.items():\n",
    "                if k == key:\n",
    "                    kvs[key] = self.convert(kval, v)\n",
    "        table.append(kvs)"
   ]
  },
  {
   "cell_type": "markdown",
   "metadata": {
    "slideshow": {
     "slide_type": "subslide"
    }
   },
   "source": [
    "In SQL, a column can come in any supported data type.  To ensure it is stored using the type originally declared, we need the ability to convert the values to specific types which is provided by `convert()`."
   ]
  },
  {
   "cell_type": "code",
   "execution_count": 22,
   "metadata": {
    "execution": {
     "iopub.execute_input": "2023-11-12T12:46:55.107964Z",
     "iopub.status.busy": "2023-11-12T12:46:55.107879Z",
     "iopub.status.idle": "2023-11-12T12:46:55.109612Z",
     "shell.execute_reply": "2023-11-12T12:46:55.109306Z"
    },
    "slideshow": {
     "slide_type": "skip"
    }
   },
   "outputs": [],
   "source": [
    "import ast"
   ]
  },
  {
   "cell_type": "code",
   "execution_count": 23,
   "metadata": {
    "execution": {
     "iopub.execute_input": "2023-11-12T12:46:55.111108Z",
     "iopub.status.busy": "2023-11-12T12:46:55.111018Z",
     "iopub.status.idle": "2023-11-12T12:46:55.112988Z",
     "shell.execute_reply": "2023-11-12T12:46:55.112711Z"
    },
    "slideshow": {
     "slide_type": "fragment"
    }
   },
   "outputs": [],
   "source": [
    "class DB(DB):\n",
    "    def convert(self, cast, value):\n",
    "        try:\n",
    "            return cast(ast.literal_eval(value))\n",
    "        except:\n",
    "            raise SQLException('Invalid Conversion %s(%s)' % (cast, value))"
   ]
  },
  {
   "cell_type": "markdown",
   "metadata": {
    "slideshow": {
     "slide_type": "fragment"
    }
   },
   "source": [
    "Here is an example of how to use the SQL `insert` command:"
   ]
  },
  {
   "cell_type": "code",
   "execution_count": 24,
   "metadata": {
    "execution": {
     "iopub.execute_input": "2023-11-12T12:46:55.114525Z",
     "iopub.status.busy": "2023-11-12T12:46:55.114423Z",
     "iopub.status.idle": "2023-11-12T12:46:55.117052Z",
     "shell.execute_reply": "2023-11-12T12:46:55.116801Z"
    },
    "slideshow": {
     "slide_type": "fragment"
    }
   },
   "outputs": [
    {
     "data": {
      "text/plain": [
       "({'year': int, 'kind': str, 'company': str, 'model': str},\n",
       " [{'year': 1997, 'kind': 'van', 'company': 'Ford', 'model': 'E350'}])"
      ]
     },
     "execution_count": 24,
     "metadata": {},
     "output_type": "execute_result"
    }
   ],
   "source": [
    "db = sample_db()\n",
    "db.sql('insert into inventory (year, kind, company, model) values (1997, \"van\", \"Ford\", \"E350\")')\n",
    "db.table('inventory')"
   ]
  },
  {
   "cell_type": "markdown",
   "metadata": {
    "slideshow": {
     "slide_type": "subslide"
    }
   },
   "source": [
    "With the database filled, we can also run more complex queries:"
   ]
  },
  {
   "cell_type": "code",
   "execution_count": 25,
   "metadata": {
    "execution": {
     "iopub.execute_input": "2023-11-12T12:46:55.118751Z",
     "iopub.status.busy": "2023-11-12T12:46:55.118646Z",
     "iopub.status.idle": "2023-11-12T12:46:55.121108Z",
     "shell.execute_reply": "2023-11-12T12:46:55.120800Z"
    },
    "slideshow": {
     "slide_type": "fragment"
    }
   },
   "outputs": [
    {
     "data": {
      "text/plain": [
       "[(1998, 'van')]"
      ]
     },
     "execution_count": 25,
     "metadata": {},
     "output_type": "execute_result"
    }
   ],
   "source": [
    "db.sql('select year + 1, kind from inventory')"
   ]
  },
  {
   "cell_type": "code",
   "execution_count": 26,
   "metadata": {
    "execution": {
     "iopub.execute_input": "2023-11-12T12:46:55.122695Z",
     "iopub.status.busy": "2023-11-12T12:46:55.122574Z",
     "iopub.status.idle": "2023-11-12T12:46:55.124839Z",
     "shell.execute_reply": "2023-11-12T12:46:55.124493Z"
    },
    "slideshow": {
     "slide_type": "fragment"
    }
   },
   "outputs": [
    {
     "data": {
      "text/plain": [
       "[(1997, 'van')]"
      ]
     },
     "execution_count": 26,
     "metadata": {},
     "output_type": "execute_result"
    }
   ],
   "source": [
    "db.sql('select year, kind from inventory where year == 1997')"
   ]
  },
  {
   "cell_type": "markdown",
   "metadata": {
    "slideshow": {
     "slide_type": "subslide"
    }
   },
   "source": [
    "#### Updating Data\n",
    "\n",
    "Similarly, `do_update()` handles SQL `update` statements."
   ]
  },
  {
   "cell_type": "code",
   "execution_count": 27,
   "metadata": {
    "execution": {
     "iopub.execute_input": "2023-11-12T12:46:55.126769Z",
     "iopub.status.busy": "2023-11-12T12:46:55.126624Z",
     "iopub.status.idle": "2023-11-12T12:46:55.130566Z",
     "shell.execute_reply": "2023-11-12T12:46:55.130278Z"
    },
    "slideshow": {
     "slide_type": "subslide"
    }
   },
   "outputs": [],
   "source": [
    "class DB(DB):\n",
    "    def do_update(self, query):\n",
    "        SET, WHERE = ' set ', ' where '\n",
    "        table_end = query.find(SET)\n",
    "\n",
    "        if table_end < 0:\n",
    "            raise SQLException('Invalid UPDATE (%s)' % repr(query))\n",
    "\n",
    "        set_end = table_end + 5\n",
    "        t_name = query[:table_end]\n",
    "        decls, table = self.table(t_name)\n",
    "        names_end = query.find(WHERE)\n",
    "\n",
    "        if names_end >= 0:\n",
    "            names = query[set_end:names_end]\n",
    "            where = query[names_end + len(WHERE):]\n",
    "        else:\n",
    "            names = query[set_end:]\n",
    "            where = ''\n",
    "\n",
    "        sets = [[i.strip() for i in name.split('=')]\n",
    "                for name in names.split(',')]\n",
    "\n",
    "        # verify columns exist\n",
    "        for k, v in sets:\n",
    "            self.column(decls, k)\n",
    "\n",
    "        if where:\n",
    "            selected = self.expression_clause(table, \"(%s)\" % where)\n",
    "            updated = [hm for i, d, hm in selected if d]\n",
    "        else:\n",
    "            updated = table\n",
    "\n",
    "        for hm in updated:\n",
    "            for k, v in sets:\n",
    "                # we can not do dict lookups because it is implemented in C.\n",
    "                for key, kval in decls.items():\n",
    "                    if key == k:\n",
    "                        hm[key] = self.convert(kval, v)\n",
    "\n",
    "        return \"%d records were updated\" % len(updated)"
   ]
  },
  {
   "cell_type": "markdown",
   "metadata": {
    "slideshow": {
     "slide_type": "subslide"
    }
   },
   "source": [
    "Here is an example.  Let us first fill the database again with values:"
   ]
  },
  {
   "cell_type": "code",
   "execution_count": 28,
   "metadata": {
    "execution": {
     "iopub.execute_input": "2023-11-12T12:46:55.132353Z",
     "iopub.status.busy": "2023-11-12T12:46:55.132258Z",
     "iopub.status.idle": "2023-11-12T12:46:55.134941Z",
     "shell.execute_reply": "2023-11-12T12:46:55.134559Z"
    },
    "slideshow": {
     "slide_type": "fragment"
    }
   },
   "outputs": [
    {
     "data": {
      "text/plain": [
       "[1997]"
      ]
     },
     "execution_count": 28,
     "metadata": {},
     "output_type": "execute_result"
    }
   ],
   "source": [
    "db = sample_db()\n",
    "db.sql('insert into inventory (year, kind, company, model) values (1997, \"van\", \"Ford\", \"E350\")')\n",
    "db.sql('select year from inventory')"
   ]
  },
  {
   "cell_type": "markdown",
   "metadata": {
    "slideshow": {
     "slide_type": "fragment"
    }
   },
   "source": [
    "Now we can update things:"
   ]
  },
  {
   "cell_type": "code",
   "execution_count": 29,
   "metadata": {
    "execution": {
     "iopub.execute_input": "2023-11-12T12:46:55.136905Z",
     "iopub.status.busy": "2023-11-12T12:46:55.136790Z",
     "iopub.status.idle": "2023-11-12T12:46:55.139001Z",
     "shell.execute_reply": "2023-11-12T12:46:55.138737Z"
    },
    "slideshow": {
     "slide_type": "fragment"
    }
   },
   "outputs": [
    {
     "data": {
      "text/plain": [
       "[1998]"
      ]
     },
     "execution_count": 29,
     "metadata": {},
     "output_type": "execute_result"
    }
   ],
   "source": [
    "db.sql('update inventory set year = 1998 where year == 1997')\n",
    "db.sql('select year from inventory')"
   ]
  },
  {
   "cell_type": "code",
   "execution_count": 30,
   "metadata": {
    "execution": {
     "iopub.execute_input": "2023-11-12T12:46:55.140634Z",
     "iopub.status.busy": "2023-11-12T12:46:55.140521Z",
     "iopub.status.idle": "2023-11-12T12:46:55.142833Z",
     "shell.execute_reply": "2023-11-12T12:46:55.142465Z"
    },
    "slideshow": {
     "slide_type": "fragment"
    }
   },
   "outputs": [
    {
     "data": {
      "text/plain": [
       "({'year': int, 'kind': str, 'company': str, 'model': str},\n",
       " [{'year': 1998, 'kind': 'van', 'company': 'Ford', 'model': 'E350'}])"
      ]
     },
     "execution_count": 30,
     "metadata": {},
     "output_type": "execute_result"
    }
   ],
   "source": [
    "db.table('inventory')"
   ]
  },
  {
   "cell_type": "markdown",
   "metadata": {
    "slideshow": {
     "slide_type": "subslide"
    }
   },
   "source": [
    "#### Deleting Data\n",
    "\n",
    "Finally, SQL `delete` statements are handled by `do_delete()`."
   ]
  },
  {
   "cell_type": "code",
   "execution_count": 31,
   "metadata": {
    "execution": {
     "iopub.execute_input": "2023-11-12T12:46:55.144615Z",
     "iopub.status.busy": "2023-11-12T12:46:55.144496Z",
     "iopub.status.idle": "2023-11-12T12:46:55.147184Z",
     "shell.execute_reply": "2023-11-12T12:46:55.146902Z"
    },
    "slideshow": {
     "slide_type": "subslide"
    }
   },
   "outputs": [],
   "source": [
    "class DB(DB):\n",
    "    def do_delete(self, query):\n",
    "        WHERE = ' where '\n",
    "        table_end = query.find(WHERE)\n",
    "        if table_end < 0:\n",
    "            raise SQLException('Invalid DELETE (%s)' % query)\n",
    "\n",
    "        t_name = query[:table_end].strip()\n",
    "        _, table = self.table(t_name)\n",
    "        where = query[table_end + len(WHERE):]\n",
    "        selected = self.expression_clause(table, \"%s\" % where)\n",
    "        deleted = [i for i, d, hm in selected if d]\n",
    "        for i in sorted(deleted, reverse=True):\n",
    "            del table[i]\n",
    "\n",
    "        return \"%d records were deleted\" % len(deleted)"
   ]
  },
  {
   "cell_type": "markdown",
   "metadata": {
    "slideshow": {
     "slide_type": "subslide"
    }
   },
   "source": [
    "Here is an example.  Let us first fill the database again with values:"
   ]
  },
  {
   "cell_type": "code",
   "execution_count": 32,
   "metadata": {
    "execution": {
     "iopub.execute_input": "2023-11-12T12:46:55.148840Z",
     "iopub.status.busy": "2023-11-12T12:46:55.148720Z",
     "iopub.status.idle": "2023-11-12T12:46:55.151015Z",
     "shell.execute_reply": "2023-11-12T12:46:55.150742Z"
    },
    "slideshow": {
     "slide_type": "fragment"
    }
   },
   "outputs": [
    {
     "data": {
      "text/plain": [
       "[1997]"
      ]
     },
     "execution_count": 32,
     "metadata": {},
     "output_type": "execute_result"
    }
   ],
   "source": [
    "db = sample_db()\n",
    "db.sql('insert into inventory (year, kind, company, model) values (1997, \"van\", \"Ford\", \"E350\")')\n",
    "db.sql('select year from inventory')"
   ]
  },
  {
   "cell_type": "markdown",
   "metadata": {
    "slideshow": {
     "slide_type": "fragment"
    }
   },
   "source": [
    "Now we can delete data:"
   ]
  },
  {
   "cell_type": "code",
   "execution_count": 33,
   "metadata": {
    "execution": {
     "iopub.execute_input": "2023-11-12T12:46:55.152676Z",
     "iopub.status.busy": "2023-11-12T12:46:55.152539Z",
     "iopub.status.idle": "2023-11-12T12:46:55.154763Z",
     "shell.execute_reply": "2023-11-12T12:46:55.154491Z"
    },
    "slideshow": {
     "slide_type": "fragment"
    }
   },
   "outputs": [
    {
     "data": {
      "text/plain": [
       "'1 records were deleted'"
      ]
     },
     "execution_count": 33,
     "metadata": {},
     "output_type": "execute_result"
    }
   ],
   "source": [
    "db.sql('delete from inventory where company == \"Ford\"')"
   ]
  },
  {
   "cell_type": "markdown",
   "metadata": {
    "slideshow": {
     "slide_type": "fragment"
    }
   },
   "source": [
    "Our database is now empty:"
   ]
  },
  {
   "cell_type": "code",
   "execution_count": 34,
   "metadata": {
    "execution": {
     "iopub.execute_input": "2023-11-12T12:46:55.156412Z",
     "iopub.status.busy": "2023-11-12T12:46:55.156286Z",
     "iopub.status.idle": "2023-11-12T12:46:55.158376Z",
     "shell.execute_reply": "2023-11-12T12:46:55.158093Z"
    },
    "slideshow": {
     "slide_type": "fragment"
    }
   },
   "outputs": [
    {
     "data": {
      "text/plain": [
       "[]"
      ]
     },
     "execution_count": 34,
     "metadata": {},
     "output_type": "execute_result"
    }
   ],
   "source": [
    "db.sql('select year from inventory')"
   ]
  },
  {
   "cell_type": "markdown",
   "metadata": {
    "slideshow": {
     "slide_type": "subslide"
    }
   },
   "source": [
    "### End of Excursion"
   ]
  },
  {
   "cell_type": "markdown",
   "metadata": {
    "slideshow": {
     "slide_type": "fragment"
    }
   },
   "source": [
    "Here is how our database can be used."
   ]
  },
  {
   "cell_type": "code",
   "execution_count": 35,
   "metadata": {
    "execution": {
     "iopub.execute_input": "2023-11-12T12:46:55.160198Z",
     "iopub.status.busy": "2023-11-12T12:46:55.160086Z",
     "iopub.status.idle": "2023-11-12T12:46:55.161717Z",
     "shell.execute_reply": "2023-11-12T12:46:55.161408Z"
    },
    "slideshow": {
     "slide_type": "fragment"
    }
   },
   "outputs": [],
   "source": [
    "db = DB()"
   ]
  },
  {
   "cell_type": "markdown",
   "metadata": {
    "slideshow": {
     "slide_type": "fragment"
    }
   },
   "source": [
    "We first create a table in our database with the correct data types."
   ]
  },
  {
   "cell_type": "code",
   "execution_count": 36,
   "metadata": {
    "execution": {
     "iopub.execute_input": "2023-11-12T12:46:55.163432Z",
     "iopub.status.busy": "2023-11-12T12:46:55.163256Z",
     "iopub.status.idle": "2023-11-12T12:46:55.165225Z",
     "shell.execute_reply": "2023-11-12T12:46:55.164952Z"
    },
    "slideshow": {
     "slide_type": "fragment"
    }
   },
   "outputs": [],
   "source": [
    "inventory_def = {'year': int, 'kind': str, 'company': str, 'model': str}\n",
    "db.create_table('inventory', inventory_def)"
   ]
  },
  {
   "cell_type": "markdown",
   "metadata": {
    "slideshow": {
     "slide_type": "fragment"
    }
   },
   "source": [
    "Here is a simple convenience function to update the table using our dataset."
   ]
  },
  {
   "cell_type": "code",
   "execution_count": 37,
   "metadata": {
    "execution": {
     "iopub.execute_input": "2023-11-12T12:46:55.167085Z",
     "iopub.status.busy": "2023-11-12T12:46:55.166955Z",
     "iopub.status.idle": "2023-11-12T12:46:55.169229Z",
     "shell.execute_reply": "2023-11-12T12:46:55.168955Z"
    },
    "slideshow": {
     "slide_type": "fragment"
    }
   },
   "outputs": [],
   "source": [
    "def update_inventory(sqldb, vehicle):\n",
    "    inventory_def = sqldb.db['inventory'][0]\n",
    "    k, v = zip(*inventory_def.items())\n",
    "    val = [repr(cast(val)) for cast, val in zip(v, vehicle.split(','))]\n",
    "    sqldb.sql('insert into inventory (%s) values (%s)' % (','.join(k),\n",
    "                                                          ','.join(val)))"
   ]
  },
  {
   "cell_type": "code",
   "execution_count": 38,
   "metadata": {
    "execution": {
     "iopub.execute_input": "2023-11-12T12:46:55.170877Z",
     "iopub.status.busy": "2023-11-12T12:46:55.170756Z",
     "iopub.status.idle": "2023-11-12T12:46:55.172544Z",
     "shell.execute_reply": "2023-11-12T12:46:55.172293Z"
    },
    "slideshow": {
     "slide_type": "subslide"
    }
   },
   "outputs": [],
   "source": [
    "for V in VEHICLES:\n",
    "    update_inventory(db, V)"
   ]
  },
  {
   "cell_type": "markdown",
   "metadata": {
    "slideshow": {
     "slide_type": "fragment"
    }
   },
   "source": [
    "Our database now contains the same dataset as `VEHICLES` under `INVENTORY` table."
   ]
  },
  {
   "cell_type": "code",
   "execution_count": 39,
   "metadata": {
    "execution": {
     "iopub.execute_input": "2023-11-12T12:46:55.174055Z",
     "iopub.status.busy": "2023-11-12T12:46:55.173946Z",
     "iopub.status.idle": "2023-11-12T12:46:55.176226Z",
     "shell.execute_reply": "2023-11-12T12:46:55.175950Z"
    },
    "slideshow": {
     "slide_type": "fragment"
    }
   },
   "outputs": [
    {
     "data": {
      "text/plain": [
       "{'inventory': ({'year': int, 'kind': str, 'company': str, 'model': str},\n",
       "  [{'year': 1997, 'kind': 'van', 'company': 'Ford', 'model': 'E350'},\n",
       "   {'year': 2000, 'kind': 'car', 'company': 'Mercury', 'model': 'Cougar'},\n",
       "   {'year': 1999, 'kind': 'car', 'company': 'Chevy', 'model': 'Venture'}])}"
      ]
     },
     "execution_count": 39,
     "metadata": {},
     "output_type": "execute_result"
    }
   ],
   "source": [
    "db.db"
   ]
  },
  {
   "cell_type": "markdown",
   "metadata": {
    "slideshow": {
     "slide_type": "fragment"
    }
   },
   "source": [
    "Here is a sample select statement."
   ]
  },
  {
   "cell_type": "code",
   "execution_count": 40,
   "metadata": {
    "execution": {
     "iopub.execute_input": "2023-11-12T12:46:55.178070Z",
     "iopub.status.busy": "2023-11-12T12:46:55.177927Z",
     "iopub.status.idle": "2023-11-12T12:46:55.180259Z",
     "shell.execute_reply": "2023-11-12T12:46:55.180012Z"
    },
    "slideshow": {
     "slide_type": "fragment"
    }
   },
   "outputs": [
    {
     "data": {
      "text/plain": [
       "[(1997, 'van'), (2000, 'car'), (1999, 'car')]"
      ]
     },
     "execution_count": 40,
     "metadata": {},
     "output_type": "execute_result"
    }
   ],
   "source": [
    "db.sql('select year,kind from inventory')"
   ]
  },
  {
   "cell_type": "code",
   "execution_count": 41,
   "metadata": {
    "execution": {
     "iopub.execute_input": "2023-11-12T12:46:55.181871Z",
     "iopub.status.busy": "2023-11-12T12:46:55.181761Z",
     "iopub.status.idle": "2023-11-12T12:46:55.183911Z",
     "shell.execute_reply": "2023-11-12T12:46:55.183654Z"
    },
    "slideshow": {
     "slide_type": "fragment"
    }
   },
   "outputs": [
    {
     "data": {
      "text/plain": [
       "[('Mercury', 'Cougar'), ('Chevy', 'Venture')]"
      ]
     },
     "execution_count": 41,
     "metadata": {},
     "output_type": "execute_result"
    }
   ],
   "source": [
    "db.sql(\"select company,model from inventory where kind == 'car'\")"
   ]
  },
  {
   "cell_type": "markdown",
   "metadata": {
    "slideshow": {
     "slide_type": "fragment"
    }
   },
   "source": [
    "We can run updates on it."
   ]
  },
  {
   "cell_type": "code",
   "execution_count": 42,
   "metadata": {
    "execution": {
     "iopub.execute_input": "2023-11-12T12:46:55.185691Z",
     "iopub.status.busy": "2023-11-12T12:46:55.185567Z",
     "iopub.status.idle": "2023-11-12T12:46:55.187915Z",
     "shell.execute_reply": "2023-11-12T12:46:55.187570Z"
    },
    "slideshow": {
     "slide_type": "subslide"
    }
   },
   "outputs": [
    {
     "data": {
      "text/plain": [
       "'1 records were updated'"
      ]
     },
     "execution_count": 42,
     "metadata": {},
     "output_type": "execute_result"
    }
   ],
   "source": [
    "db.sql(\"update inventory set year = 1998, company = 'Suzuki' where kind == 'van'\")"
   ]
  },
  {
   "cell_type": "code",
   "execution_count": 43,
   "metadata": {
    "execution": {
     "iopub.execute_input": "2023-11-12T12:46:55.189632Z",
     "iopub.status.busy": "2023-11-12T12:46:55.189508Z",
     "iopub.status.idle": "2023-11-12T12:46:55.191895Z",
     "shell.execute_reply": "2023-11-12T12:46:55.191615Z"
    },
    "slideshow": {
     "slide_type": "fragment"
    }
   },
   "outputs": [
    {
     "data": {
      "text/plain": [
       "{'inventory': ({'year': int, 'kind': str, 'company': str, 'model': str},\n",
       "  [{'year': 1998, 'kind': 'van', 'company': 'Suzuki', 'model': 'E350'},\n",
       "   {'year': 2000, 'kind': 'car', 'company': 'Mercury', 'model': 'Cougar'},\n",
       "   {'year': 1999, 'kind': 'car', 'company': 'Chevy', 'model': 'Venture'}])}"
      ]
     },
     "execution_count": 43,
     "metadata": {},
     "output_type": "execute_result"
    }
   ],
   "source": [
    "db.db"
   ]
  },
  {
   "cell_type": "markdown",
   "metadata": {
    "slideshow": {
     "slide_type": "fragment"
    }
   },
   "source": [
    "It can even do mathematics on the fly!"
   ]
  },
  {
   "cell_type": "code",
   "execution_count": 44,
   "metadata": {
    "execution": {
     "iopub.execute_input": "2023-11-12T12:46:55.193484Z",
     "iopub.status.busy": "2023-11-12T12:46:55.193360Z",
     "iopub.status.idle": "2023-11-12T12:46:55.195372Z",
     "shell.execute_reply": "2023-11-12T12:46:55.195105Z"
    },
    "slideshow": {
     "slide_type": "fragment"
    }
   },
   "outputs": [
    {
     "data": {
      "text/plain": [
       "[2008, 2010, 2009]"
      ]
     },
     "execution_count": 44,
     "metadata": {},
     "output_type": "execute_result"
    }
   ],
   "source": [
    "db.sql('select int(year)+10 from inventory')"
   ]
  },
  {
   "cell_type": "markdown",
   "metadata": {
    "slideshow": {
     "slide_type": "fragment"
    }
   },
   "source": [
    "Adding a new row to our table."
   ]
  },
  {
   "cell_type": "code",
   "execution_count": 45,
   "metadata": {
    "execution": {
     "iopub.execute_input": "2023-11-12T12:46:55.197074Z",
     "iopub.status.busy": "2023-11-12T12:46:55.196951Z",
     "iopub.status.idle": "2023-11-12T12:46:55.198674Z",
     "shell.execute_reply": "2023-11-12T12:46:55.198381Z"
    },
    "slideshow": {
     "slide_type": "fragment"
    }
   },
   "outputs": [],
   "source": [
    "db.sql(\"insert into inventory (year, kind, company, model) values (1, 'charriot', 'Rome', 'Quadriga')\")"
   ]
  },
  {
   "cell_type": "code",
   "execution_count": 46,
   "metadata": {
    "execution": {
     "iopub.execute_input": "2023-11-12T12:46:55.200397Z",
     "iopub.status.busy": "2023-11-12T12:46:55.200281Z",
     "iopub.status.idle": "2023-11-12T12:46:55.203508Z",
     "shell.execute_reply": "2023-11-12T12:46:55.203220Z"
    },
    "slideshow": {
     "slide_type": "subslide"
    }
   },
   "outputs": [
    {
     "data": {
      "text/plain": [
       "{'inventory': ({'year': int, 'kind': str, 'company': str, 'model': str},\n",
       "  [{'year': 1998, 'kind': 'van', 'company': 'Suzuki', 'model': 'E350'},\n",
       "   {'year': 2000, 'kind': 'car', 'company': 'Mercury', 'model': 'Cougar'},\n",
       "   {'year': 1999, 'kind': 'car', 'company': 'Chevy', 'model': 'Venture'},\n",
       "   {'year': 1, 'kind': 'charriot', 'company': 'Rome', 'model': 'Quadriga'}])}"
      ]
     },
     "execution_count": 46,
     "metadata": {},
     "output_type": "execute_result"
    }
   ],
   "source": [
    "db.db"
   ]
  },
  {
   "cell_type": "markdown",
   "metadata": {
    "slideshow": {
     "slide_type": "fragment"
    }
   },
   "source": [
    "Which we then delete."
   ]
  },
  {
   "cell_type": "code",
   "execution_count": 47,
   "metadata": {
    "execution": {
     "iopub.execute_input": "2023-11-12T12:46:55.205204Z",
     "iopub.status.busy": "2023-11-12T12:46:55.205099Z",
     "iopub.status.idle": "2023-11-12T12:46:55.207565Z",
     "shell.execute_reply": "2023-11-12T12:46:55.207226Z"
    },
    "slideshow": {
     "slide_type": "fragment"
    }
   },
   "outputs": [
    {
     "data": {
      "text/plain": [
       "'1 records were deleted'"
      ]
     },
     "execution_count": 47,
     "metadata": {},
     "output_type": "execute_result"
    }
   ],
   "source": [
    "db.sql(\"delete from inventory where year < 1900\")"
   ]
  },
  {
   "cell_type": "markdown",
   "metadata": {
    "slideshow": {
     "slide_type": "subslide"
    },
    "tags": []
   },
   "source": [
    "### Fuzzing SQL\n",
    "\n",
    "To verify that everything is OK, let us fuzz. First we define our grammar."
   ]
  },
  {
   "cell_type": "markdown",
   "metadata": {
    "slideshow": {
     "slide_type": "subslide"
    }
   },
   "source": [
    "#### Excursion: Defining a SQL grammar"
   ]
  },
  {
   "cell_type": "code",
   "execution_count": 48,
   "metadata": {
    "execution": {
     "iopub.execute_input": "2023-11-12T12:46:55.209130Z",
     "iopub.status.busy": "2023-11-12T12:46:55.209040Z",
     "iopub.status.idle": "2023-11-12T12:46:55.210789Z",
     "shell.execute_reply": "2023-11-12T12:46:55.210509Z"
    },
    "slideshow": {
     "slide_type": "skip"
    },
    "tags": []
   },
   "outputs": [],
   "source": [
    "import string"
   ]
  },
  {
   "cell_type": "code",
   "execution_count": 49,
   "metadata": {
    "execution": {
     "iopub.execute_input": "2023-11-12T12:46:55.212299Z",
     "iopub.status.busy": "2023-11-12T12:46:55.212208Z",
     "iopub.status.idle": "2023-11-12T12:46:55.705891Z",
     "shell.execute_reply": "2023-11-12T12:46:55.705592Z"
    },
    "slideshow": {
     "slide_type": "skip"
    }
   },
   "outputs": [],
   "source": [
    "from Grammars import START_SYMBOL, Grammar, Expansion, \\\n",
    "    is_valid_grammar, extend_grammar"
   ]
  },
  {
   "cell_type": "code",
   "execution_count": 50,
   "metadata": {
    "execution": {
     "iopub.execute_input": "2023-11-12T12:46:55.707782Z",
     "iopub.status.busy": "2023-11-12T12:46:55.707638Z",
     "iopub.status.idle": "2023-11-12T12:46:55.710369Z",
     "shell.execute_reply": "2023-11-12T12:46:55.710088Z"
    },
    "slideshow": {
     "slide_type": "subslide"
    }
   },
   "outputs": [],
   "source": [
    "EXPR_GRAMMAR: Grammar = {\n",
    "    \"<start>\": [\"<expr>\"],\n",
    "    \"<expr>\": [\"<bexpr>\", \"<aexpr>\", \"(<expr>)\", \"<term>\"],\n",
    "    \"<bexpr>\": [\n",
    "        \"<aexpr><lt><aexpr>\",\n",
    "        \"<aexpr><gt><aexpr>\",\n",
    "        \"<expr>==<expr>\",\n",
    "        \"<expr>!=<expr>\",\n",
    "    ],\n",
    "    \"<aexpr>\": [\n",
    "        \"<aexpr>+<aexpr>\", \"<aexpr>-<aexpr>\", \"<aexpr>*<aexpr>\",\n",
    "        \"<aexpr>/<aexpr>\", \"<word>(<exprs>)\", \"<expr>\"\n",
    "    ],\n",
    "    \"<exprs>\": [\"<expr>,<exprs>\", \"<expr>\"],\n",
    "    \"<lt>\": [\"<\"],\n",
    "    \"<gt>\": [\">\"],\n",
    "    \"<term>\": [\"<number>\", \"<word>\"],\n",
    "    \"<number>\": [\"<integer>.<integer>\", \"<integer>\", \"-<number>\"],\n",
    "    \"<integer>\": [\"<digit><integer>\", \"<digit>\"],\n",
    "    \"<word>\": [\"<word><letter>\", \"<word><digit>\", \"<letter>\"],\n",
    "    \"<digit>\":\n",
    "    list(string.digits),\n",
    "    \"<letter>\":\n",
    "    list(string.ascii_letters + '_:.')\n",
    "}\n",
    "\n",
    "assert is_valid_grammar(EXPR_GRAMMAR)"
   ]
  },
  {
   "cell_type": "code",
   "execution_count": 51,
   "metadata": {
    "execution": {
     "iopub.execute_input": "2023-11-12T12:46:55.711822Z",
     "iopub.status.busy": "2023-11-12T12:46:55.711713Z",
     "iopub.status.idle": "2023-11-12T12:46:55.713392Z",
     "shell.execute_reply": "2023-11-12T12:46:55.713140Z"
    },
    "slideshow": {
     "slide_type": "subslide"
    }
   },
   "outputs": [],
   "source": [
    "PRINTABLE_CHARS: List[str] = [i for i in string.printable \n",
    "                                    if i not in \"<>'\\\"\\t\\n\\r\\x0b\\x0c\\x00\"] + ['<lt>', '<gt>']"
   ]
  },
  {
   "cell_type": "code",
   "execution_count": 52,
   "metadata": {
    "execution": {
     "iopub.execute_input": "2023-11-12T12:46:55.714845Z",
     "iopub.status.busy": "2023-11-12T12:46:55.714742Z",
     "iopub.status.idle": "2023-11-12T12:46:55.717294Z",
     "shell.execute_reply": "2023-11-12T12:46:55.717031Z"
    },
    "slideshow": {
     "slide_type": "subslide"
    }
   },
   "outputs": [],
   "source": [
    "INVENTORY_GRAMMAR = extend_grammar(EXPR_GRAMMAR,\n",
    "    {\n",
    "        '<start>': ['<query>'],\n",
    "        '<query>': [\n",
    "            'select <exprs> from <table>',\n",
    "            'select <exprs> from <table> where <bexpr>',\n",
    "            'insert into <table> (<names>) values (<literals>)',\n",
    "            'update <table> set <assignments> where <bexpr>',\n",
    "            'delete from <table> where <bexpr>',\n",
    "        ],\n",
    "        '<table>': ['<word>'],\n",
    "        '<names>': ['<column>,<names>', '<column>'],\n",
    "        '<column>': ['<word>'],\n",
    "        '<literals>': ['<literal>', '<literal>,<literals>'],\n",
    "        '<literal>': ['<number>', \"'<chars>'\"],\n",
    "        '<assignments>': ['<kvp>,<assignments>', '<kvp>'],\n",
    "        '<kvp>': ['<column>=<value>'],\n",
    "        '<value>': ['<word>'],\n",
    "        '<chars>': ['<char>', '<char><chars>'],\n",
    "        '<char>': PRINTABLE_CHARS,  # type: ignore\n",
    "    })\n",
    "\n",
    "assert is_valid_grammar(INVENTORY_GRAMMAR)"
   ]
  },
  {
   "cell_type": "markdown",
   "metadata": {
    "slideshow": {
     "slide_type": "subslide"
    }
   },
   "source": [
    "As can be seen from the source of our database, the functions always check whether the table name is correct. Hence, we modify the grammar to choose our particular table so that it will have a better chance of reaching deeper. We will see in the later sections how this can be done automatically."
   ]
  },
  {
   "cell_type": "code",
   "execution_count": 53,
   "metadata": {
    "execution": {
     "iopub.execute_input": "2023-11-12T12:46:55.718736Z",
     "iopub.status.busy": "2023-11-12T12:46:55.718634Z",
     "iopub.status.idle": "2023-11-12T12:46:55.720280Z",
     "shell.execute_reply": "2023-11-12T12:46:55.720033Z"
    },
    "slideshow": {
     "slide_type": "fragment"
    }
   },
   "outputs": [],
   "source": [
    "INVENTORY_GRAMMAR_F = extend_grammar(INVENTORY_GRAMMAR, \n",
    "                                     {'<table>': ['inventory']})"
   ]
  },
  {
   "cell_type": "markdown",
   "metadata": {
    "slideshow": {
     "slide_type": "subslide"
    }
   },
   "source": [
    "#### End of Excursion"
   ]
  },
  {
   "cell_type": "code",
   "execution_count": 54,
   "metadata": {
    "execution": {
     "iopub.execute_input": "2023-11-12T12:46:55.721673Z",
     "iopub.status.busy": "2023-11-12T12:46:55.721591Z",
     "iopub.status.idle": "2023-11-12T12:46:55.750080Z",
     "shell.execute_reply": "2023-11-12T12:46:55.749809Z"
    },
    "slideshow": {
     "slide_type": "skip"
    }
   },
   "outputs": [],
   "source": [
    "from GrammarFuzzer import GrammarFuzzer"
   ]
  },
  {
   "cell_type": "code",
   "execution_count": 55,
   "metadata": {
    "execution": {
     "iopub.execute_input": "2023-11-12T12:46:55.751714Z",
     "iopub.status.busy": "2023-11-12T12:46:55.751629Z",
     "iopub.status.idle": "2023-11-12T12:46:55.813476Z",
     "shell.execute_reply": "2023-11-12T12:46:55.813176Z"
    },
    "slideshow": {
     "slide_type": "subslide"
    }
   },
   "outputs": [
    {
     "name": "stdout",
     "output_type": "stream",
     "text": [
      "'select O6fo,-977091.1,-36.46 from inventory'\n",
      ">  Invalid WHERE ('(O6fo,-977091.1,-36.46)')\n",
      "\n",
      "'select g3 from inventory where -3.0!=V/g/b+Q*M*G'\n",
      ">  Invalid WHERE ('(-3.0!=V/g/b+Q*M*G)')\n",
      "\n",
      "'update inventory set z=a,x=F_,Q=K where p(M)<_*S'\n",
      ">  Column ('z') was not found\n",
      "\n",
      "'update inventory set R=L5pk where e*l*y-u>K+U(:)'\n",
      ">  Column ('R') was not found\n",
      "\n",
      "'select _/d*Q+H/d(k)<t+M-A+P from inventory'\n",
      ">  Invalid WHERE ('(_/d*Q+H/d(k)<t+M-A+P)')\n",
      "\n",
      "'select F5 from inventory'\n",
      ">  Invalid WHERE ('(F5)')\n",
      "\n",
      "'update inventory set jWh.=a6 where wcY(M)>IB7(i)'\n",
      ">  Column ('jWh.') was not found\n",
      "\n",
      "'update inventory set U=y where L(W<c,(U!=W))<V(((q)==m<F),O,l)'\n",
      ">  Column ('U') was not found\n",
      "\n",
      "'delete from inventory where M/b-O*h*E<H-W>e(Y)-P'\n",
      ">  Invalid WHERE ('M/b-O*h*E<H-W>e(Y)-P')\n",
      "\n",
      "'select ((kP(86)+b*S+J/Z/U+i(U))) from inventory'\n",
      ">  Invalid WHERE ('(((kP(86)+b*S+J/Z/U+i(U))))')\n",
      "\n"
     ]
    }
   ],
   "source": [
    "gf = GrammarFuzzer(INVENTORY_GRAMMAR_F)\n",
    "for _ in range(10):\n",
    "    query = gf.fuzz()\n",
    "    print(repr(query))\n",
    "    try:\n",
    "        res = db.sql(query)\n",
    "        print(repr(res))\n",
    "    except SQLException as e:\n",
    "        print(\"> \", e)\n",
    "        pass\n",
    "    except:\n",
    "        traceback.print_exc()\n",
    "        break\n",
    "    print()"
   ]
  },
  {
   "cell_type": "markdown",
   "metadata": {
    "slideshow": {
     "slide_type": "subslide"
    }
   },
   "source": [
    "Fuzzing does not seem to have triggered any crashes.  However, are crashes the only errors that we should be worried about?"
   ]
  },
  {
   "cell_type": "markdown",
   "metadata": {
    "slideshow": {
     "slide_type": "subslide"
    }
   },
   "source": [
    "### The Evil of Eval\n",
    "\n",
    "In our database implementation – notably in the `expression_clause()` method -, we have made use of `eval()` to evaluate expressions using the Python interpreter.  This allows us to unleash the full power of Python expressions within our SQL statements."
   ]
  },
  {
   "cell_type": "code",
   "execution_count": 56,
   "metadata": {
    "execution": {
     "iopub.execute_input": "2023-11-12T12:46:55.815824Z",
     "iopub.status.busy": "2023-11-12T12:46:55.815611Z",
     "iopub.status.idle": "2023-11-12T12:46:55.818061Z",
     "shell.execute_reply": "2023-11-12T12:46:55.817807Z"
    },
    "slideshow": {
     "slide_type": "fragment"
    }
   },
   "outputs": [
    {
     "data": {
      "text/plain": [
       "[1998, 1999]"
      ]
     },
     "execution_count": 56,
     "metadata": {},
     "output_type": "execute_result"
    }
   ],
   "source": [
    "db.sql('select year from inventory where year < 2000')"
   ]
  },
  {
   "cell_type": "markdown",
   "metadata": {
    "slideshow": {
     "slide_type": "fragment"
    }
   },
   "source": [
    "In the above query, the clause `year < 2000` is evaluated using `expression_clause()` using Python in the context of each row; hence, `year < 2000` evaluates to either `True` or `False`."
   ]
  },
  {
   "cell_type": "markdown",
   "metadata": {
    "slideshow": {
     "slide_type": "fragment"
    }
   },
   "source": [
    "The same holds for the expressions being `select`ed:"
   ]
  },
  {
   "cell_type": "code",
   "execution_count": 57,
   "metadata": {
    "execution": {
     "iopub.execute_input": "2023-11-12T12:46:55.819744Z",
     "iopub.status.busy": "2023-11-12T12:46:55.819618Z",
     "iopub.status.idle": "2023-11-12T12:46:55.821938Z",
     "shell.execute_reply": "2023-11-12T12:46:55.821698Z"
    },
    "slideshow": {
     "slide_type": "fragment"
    }
   },
   "outputs": [
    {
     "data": {
      "text/plain": [
       "[98, 0, 99]"
      ]
     },
     "execution_count": 57,
     "metadata": {},
     "output_type": "execute_result"
    }
   ],
   "source": [
    "db.sql('select year - 1900 if year < 2000 else year - 2000 from inventory')"
   ]
  },
  {
   "cell_type": "markdown",
   "metadata": {
    "slideshow": {
     "slide_type": "subslide"
    }
   },
   "source": [
    "This works because `year - 1900 if year < 2000 else year - 2000` is a valid Python expression.  (It is not a valid SQL expression, though.)"
   ]
  },
  {
   "cell_type": "markdown",
   "metadata": {
    "slideshow": {
     "slide_type": "fragment"
    }
   },
   "source": [
    "The problem with the above is that there is _no limitation_ to what the Python expression can do.  What if the user tries the following?"
   ]
  },
  {
   "cell_type": "code",
   "execution_count": 58,
   "metadata": {
    "execution": {
     "iopub.execute_input": "2023-11-12T12:46:55.823459Z",
     "iopub.status.busy": "2023-11-12T12:46:55.823357Z",
     "iopub.status.idle": "2023-11-12T12:46:55.841752Z",
     "shell.execute_reply": "2023-11-12T12:46:55.841398Z"
    },
    "slideshow": {
     "slide_type": "fragment"
    }
   },
   "outputs": [
    {
     "data": {
      "text/plain": [
       "['/Users/zeller/Projects/fuzzingbook/notebooks\\n',\n",
       " '/Users/zeller/Projects/fuzzingbook/notebooks\\n',\n",
       " '/Users/zeller/Projects/fuzzingbook/notebooks\\n']"
      ]
     },
     "execution_count": 58,
     "metadata": {},
     "output_type": "execute_result"
    }
   ],
   "source": [
    "db.sql('select __import__(\"os\").popen(\"pwd\").read() from inventory')"
   ]
  },
  {
   "cell_type": "markdown",
   "metadata": {
    "slideshow": {
     "slide_type": "fragment"
    }
   },
   "source": [
    "The above statement effectively reads from the users' file system.  Instead of `os.popen(\"pwd\").read()`, it could execute arbitrary Python commands – to access data, install software, run a background process.  This is where \"the full power of Python expressions\" turns back on us."
   ]
  },
  {
   "cell_type": "markdown",
   "metadata": {
    "slideshow": {
     "slide_type": "subslide"
    }
   },
   "source": [
    "What we want is to allow our _program_ to make full use of its power; yet, the _user_ (or any third party) should not be entrusted to do the same.  Hence, we need to differentiate between (trusted) _input from the program_ and (untrusted) _input from the user_.  "
   ]
  },
  {
   "attachments": {},
   "cell_type": "markdown",
   "metadata": {
    "slideshow": {
     "slide_type": "fragment"
    }
   },
   "source": [
    "One method that allows such differentiation is that of *dynamic taint analysis*. The idea is to identify the functions that accept user input as *sources* that *taint* any string that comes in through them, and those functions that perform dangerous operations as *sinks*. Finally, we bless certain functions as *taint sanitizers*. The idea is that an input from the source should never reach the sink without undergoing sanitization first. This allows us to use a stronger oracle than simply checking for crashes."
   ]
  },
  {
   "cell_type": "markdown",
   "metadata": {
    "button": false,
    "new_sheet": true,
    "run_control": {
     "read_only": false
    },
    "slideshow": {
     "slide_type": "slide"
    },
    "toc-hr-collapsed": true
   },
   "source": [
    "## Tracking String Taints\n",
    "\n",
    "There are various levels of taint tracking that one can perform. The simplest is to track that a string fragment originated in a specific environment, and has not undergone a taint removal process. For this, we simply need to wrap the original string with an environment identifier (the _taint_) with `tstr`, and produce `tstr` instances on each operation that results in another string fragment.  The attribute `taint` holds a label identifying the environment this instance was derived."
   ]
  },
  {
   "cell_type": "markdown",
   "metadata": {
    "slideshow": {
     "slide_type": "subslide"
    }
   },
   "source": [
    "### A Class for Tainted Strings\n",
    "\n",
    "For capturing information flows we need a new string class. The idea is to use the new tainted string class `tstr` as a wrapper on the original `str` class. However, `str` is an *immutable* class. Hence, it does not call its `__init__()` method after being constructed. This means that any subclasses of `str` also will not get the `__init__()` method called. If we want to get our initialization routine called, we need to [hook into `__new__()`](https://docs.python.org/3/reference/datamodel.html#basic-customization) and return an instance of our own class.  We combine this with our initialization code in `__init__()`."
   ]
  },
  {
   "cell_type": "code",
   "execution_count": 59,
   "metadata": {
    "execution": {
     "iopub.execute_input": "2023-11-12T12:46:55.843946Z",
     "iopub.status.busy": "2023-11-12T12:46:55.843816Z",
     "iopub.status.idle": "2023-11-12T12:46:55.846248Z",
     "shell.execute_reply": "2023-11-12T12:46:55.845974Z"
    },
    "slideshow": {
     "slide_type": "subslide"
    }
   },
   "outputs": [],
   "source": [
    "class tstr(str):\n",
    "    \"\"\"Wrapper for strings, saving taint information\"\"\"\n",
    "\n",
    "    def __new__(cls, value, *args, **kw):\n",
    "        \"\"\"Create a tstr() instance. Used internally.\"\"\"\n",
    "        return str.__new__(cls, value)\n",
    "\n",
    "    def __init__(self, value: Any, taint: Any = None, **kwargs) -> None:\n",
    "        \"\"\"Constructor.\n",
    "        `value` is the string value the `tstr` object is to be constructed from.\n",
    "        `taint` is an (optional) taint to be propagated to derived strings.\"\"\"\n",
    "        self.taint: Any = taint"
   ]
  },
  {
   "cell_type": "code",
   "execution_count": 60,
   "metadata": {
    "execution": {
     "iopub.execute_input": "2023-11-12T12:46:55.847669Z",
     "iopub.status.busy": "2023-11-12T12:46:55.847565Z",
     "iopub.status.idle": "2023-11-12T12:46:55.849541Z",
     "shell.execute_reply": "2023-11-12T12:46:55.849215Z"
    },
    "slideshow": {
     "slide_type": "subslide"
    }
   },
   "outputs": [],
   "source": [
    "class tstr(tstr):\n",
    "    def __repr__(self) -> tstr:\n",
    "        \"\"\"Return a representation.\"\"\"\n",
    "        return tstr(str.__repr__(self), taint=self.taint)"
   ]
  },
  {
   "cell_type": "code",
   "execution_count": 61,
   "metadata": {
    "execution": {
     "iopub.execute_input": "2023-11-12T12:46:55.851101Z",
     "iopub.status.busy": "2023-11-12T12:46:55.850992Z",
     "iopub.status.idle": "2023-11-12T12:46:55.852722Z",
     "shell.execute_reply": "2023-11-12T12:46:55.852464Z"
    },
    "slideshow": {
     "slide_type": "fragment"
    }
   },
   "outputs": [],
   "source": [
    "class tstr(tstr):\n",
    "    def __str__(self) -> str:\n",
    "        \"\"\"Convert to string\"\"\"\n",
    "        return str.__str__(self)"
   ]
  },
  {
   "cell_type": "markdown",
   "metadata": {
    "slideshow": {
     "slide_type": "fragment"
    }
   },
   "source": [
    "For example, if we wrap `\"hello\"` in `tstr`, then we should be able to access its taint:"
   ]
  },
  {
   "cell_type": "code",
   "execution_count": 62,
   "metadata": {
    "execution": {
     "iopub.execute_input": "2023-11-12T12:46:55.854231Z",
     "iopub.status.busy": "2023-11-12T12:46:55.854124Z",
     "iopub.status.idle": "2023-11-12T12:46:55.855916Z",
     "shell.execute_reply": "2023-11-12T12:46:55.855622Z"
    },
    "slideshow": {
     "slide_type": "fragment"
    }
   },
   "outputs": [],
   "source": [
    "thello: tstr = tstr('hello', taint='LOW')"
   ]
  },
  {
   "cell_type": "code",
   "execution_count": 63,
   "metadata": {
    "execution": {
     "iopub.execute_input": "2023-11-12T12:46:55.857513Z",
     "iopub.status.busy": "2023-11-12T12:46:55.857398Z",
     "iopub.status.idle": "2023-11-12T12:46:55.859551Z",
     "shell.execute_reply": "2023-11-12T12:46:55.859267Z"
    },
    "slideshow": {
     "slide_type": "fragment"
    }
   },
   "outputs": [
    {
     "data": {
      "text/plain": [
       "'LOW'"
      ]
     },
     "execution_count": 63,
     "metadata": {},
     "output_type": "execute_result"
    }
   ],
   "source": [
    "thello.taint"
   ]
  },
  {
   "cell_type": "code",
   "execution_count": 64,
   "metadata": {
    "execution": {
     "iopub.execute_input": "2023-11-12T12:46:55.861190Z",
     "iopub.status.busy": "2023-11-12T12:46:55.861076Z",
     "iopub.status.idle": "2023-11-12T12:46:55.863327Z",
     "shell.execute_reply": "2023-11-12T12:46:55.862997Z"
    },
    "slideshow": {
     "slide_type": "fragment"
    }
   },
   "outputs": [
    {
     "data": {
      "text/plain": [
       "'LOW'"
      ]
     },
     "execution_count": 64,
     "metadata": {},
     "output_type": "execute_result"
    }
   ],
   "source": [
    "repr(thello).taint  # type: ignore"
   ]
  },
  {
   "attachments": {},
   "cell_type": "markdown",
   "metadata": {
    "slideshow": {
     "slide_type": "subslide"
    }
   },
   "source": [
    "By default, when we wrap a string, it is tainted. Hence, we also need a way to clear the taint in the string. One way is to simply return a `str` instance as above. However, one may sometimes wish to remove the taint from an existing instance. This is accomplished with `clear_taint()`. During `clear_taint()`, we simply set the taint to `None`. This method comes with a paired method `has_taint()` which checks whether a `tstr` instance has a taint."
   ]
  },
  {
   "cell_type": "code",
   "execution_count": 65,
   "metadata": {
    "execution": {
     "iopub.execute_input": "2023-11-12T12:46:55.865004Z",
     "iopub.status.busy": "2023-11-12T12:46:55.864890Z",
     "iopub.status.idle": "2023-11-12T12:46:55.866894Z",
     "shell.execute_reply": "2023-11-12T12:46:55.866626Z"
    },
    "slideshow": {
     "slide_type": "subslide"
    }
   },
   "outputs": [],
   "source": [
    "class tstr(tstr):\n",
    "    def clear_taint(self):\n",
    "        \"\"\"Remove taint\"\"\"\n",
    "        self.taint = None\n",
    "        return self\n",
    "\n",
    "    def has_taint(self):\n",
    "        \"\"\"Check if taint is present\"\"\"\n",
    "        return self.taint is not None"
   ]
  },
  {
   "cell_type": "markdown",
   "metadata": {
    "slideshow": {
     "slide_type": "subslide"
    }
   },
   "source": [
    "### String Operators\n",
    "\n",
    "To propagate the taint, we have to extend string functions, such as operators.  We can do so in one single big step, overloading all string methods and operators."
   ]
  },
  {
   "cell_type": "markdown",
   "metadata": {
    "slideshow": {
     "slide_type": "fragment"
    }
   },
   "source": [
    "When we create a new string from an existing tainted string, we propagate its taint."
   ]
  },
  {
   "cell_type": "code",
   "execution_count": 66,
   "metadata": {
    "execution": {
     "iopub.execute_input": "2023-11-12T12:46:55.868544Z",
     "iopub.status.busy": "2023-11-12T12:46:55.868413Z",
     "iopub.status.idle": "2023-11-12T12:46:55.870145Z",
     "shell.execute_reply": "2023-11-12T12:46:55.869890Z"
    },
    "slideshow": {
     "slide_type": "fragment"
    }
   },
   "outputs": [],
   "source": [
    "class tstr(tstr):\n",
    "    def create(self, s):\n",
    "        return tstr(s, taint=self.taint)"
   ]
  },
  {
   "cell_type": "markdown",
   "metadata": {
    "slideshow": {
     "slide_type": "fragment"
    }
   },
   "source": [
    "The `make_str_wrapper()` function creates a wrapper around an existing string method which attaches the taint to the result of the method:"
   ]
  },
  {
   "cell_type": "code",
   "execution_count": 67,
   "metadata": {
    "execution": {
     "iopub.execute_input": "2023-11-12T12:46:55.871593Z",
     "iopub.status.busy": "2023-11-12T12:46:55.871482Z",
     "iopub.status.idle": "2023-11-12T12:46:55.873689Z",
     "shell.execute_reply": "2023-11-12T12:46:55.873410Z"
    },
    "slideshow": {
     "slide_type": "subslide"
    }
   },
   "outputs": [],
   "source": [
    "class tstr(tstr):\n",
    "    @staticmethod\n",
    "    def make_str_wrapper(fun):\n",
    "        \"\"\"Make `fun` (a `str` method) a method in `tstr`\"\"\"\n",
    "        def proxy(self, *args, **kwargs):\n",
    "            res = fun(self, *args, **kwargs)\n",
    "            return self.create(res)\n",
    "\n",
    "        if hasattr(fun, '__doc__'):\n",
    "            # Copy docstring\n",
    "            proxy.__doc__ = fun.__doc__\n",
    "\n",
    "        return proxy"
   ]
  },
  {
   "cell_type": "markdown",
   "metadata": {
    "slideshow": {
     "slide_type": "fragment"
    }
   },
   "source": [
    "We do this for all string methods that return a string:"
   ]
  },
  {
   "cell_type": "code",
   "execution_count": 68,
   "metadata": {
    "execution": {
     "iopub.execute_input": "2023-11-12T12:46:55.875326Z",
     "iopub.status.busy": "2023-11-12T12:46:55.875204Z",
     "iopub.status.idle": "2023-11-12T12:46:55.877498Z",
     "shell.execute_reply": "2023-11-12T12:46:55.877199Z"
    },
    "slideshow": {
     "slide_type": "subslide"
    }
   },
   "outputs": [],
   "source": [
    "def informationflow_init_1():\n",
    "    for name in ['__format__', '__mod__', '__rmod__', '__getitem__',\n",
    "                 '__add__', '__mul__', '__rmul__',\n",
    "                 'capitalize', 'casefold', 'center', 'encode',\n",
    "                 'expandtabs', 'format', 'format_map', 'join',\n",
    "                 'ljust', 'lower', 'lstrip', 'replace',\n",
    "                 'rjust', 'rstrip', 'strip', 'swapcase', 'title', 'translate', 'upper']:\n",
    "        fun = getattr(str, name)\n",
    "        setattr(tstr, name, tstr.make_str_wrapper(fun))"
   ]
  },
  {
   "cell_type": "code",
   "execution_count": 69,
   "metadata": {
    "execution": {
     "iopub.execute_input": "2023-11-12T12:46:55.879205Z",
     "iopub.status.busy": "2023-11-12T12:46:55.879072Z",
     "iopub.status.idle": "2023-11-12T12:46:55.880826Z",
     "shell.execute_reply": "2023-11-12T12:46:55.880564Z"
    },
    "slideshow": {
     "slide_type": "fragment"
    }
   },
   "outputs": [],
   "source": [
    "informationflow_init_1()"
   ]
  },
  {
   "cell_type": "code",
   "execution_count": 70,
   "metadata": {
    "execution": {
     "iopub.execute_input": "2023-11-12T12:46:55.882386Z",
     "iopub.status.busy": "2023-11-12T12:46:55.882263Z",
     "iopub.status.idle": "2023-11-12T12:46:55.883860Z",
     "shell.execute_reply": "2023-11-12T12:46:55.883614Z"
    },
    "slideshow": {
     "slide_type": "fragment"
    }
   },
   "outputs": [],
   "source": [
    "INITIALIZER_LIST = [informationflow_init_1]"
   ]
  },
  {
   "cell_type": "code",
   "execution_count": 71,
   "metadata": {
    "execution": {
     "iopub.execute_input": "2023-11-12T12:46:55.885327Z",
     "iopub.status.busy": "2023-11-12T12:46:55.885243Z",
     "iopub.status.idle": "2023-11-12T12:46:55.887044Z",
     "shell.execute_reply": "2023-11-12T12:46:55.886780Z"
    },
    "slideshow": {
     "slide_type": "fragment"
    }
   },
   "outputs": [],
   "source": [
    "def initialize():\n",
    "    for fn in INITIALIZER_LIST:\n",
    "        fn()"
   ]
  },
  {
   "cell_type": "markdown",
   "metadata": {
    "slideshow": {
     "slide_type": "subslide"
    }
   },
   "source": [
    "The one missing operator is `+` with a regular string on the left side and a tainted string on the right side.  Python supports a `__radd__()` method which is invoked if the associated object is used on the right side of an addition."
   ]
  },
  {
   "cell_type": "code",
   "execution_count": 72,
   "metadata": {
    "execution": {
     "iopub.execute_input": "2023-11-12T12:46:55.888577Z",
     "iopub.status.busy": "2023-11-12T12:46:55.888455Z",
     "iopub.status.idle": "2023-11-12T12:46:55.890305Z",
     "shell.execute_reply": "2023-11-12T12:46:55.890039Z"
    },
    "slideshow": {
     "slide_type": "fragment"
    }
   },
   "outputs": [],
   "source": [
    "class tstr(tstr):\n",
    "    def __radd__(self, value):\n",
    "        \"\"\"Return value + self, as a `tstr` object\"\"\"\n",
    "        return self.create(value + str(self))"
   ]
  },
  {
   "cell_type": "markdown",
   "metadata": {
    "slideshow": {
     "slide_type": "fragment"
    }
   },
   "source": [
    "With this, we are already done.  Let us create a string `thello` with a taint `LOW`."
   ]
  },
  {
   "cell_type": "code",
   "execution_count": 73,
   "metadata": {
    "execution": {
     "iopub.execute_input": "2023-11-12T12:46:55.891871Z",
     "iopub.status.busy": "2023-11-12T12:46:55.891759Z",
     "iopub.status.idle": "2023-11-12T12:46:55.893521Z",
     "shell.execute_reply": "2023-11-12T12:46:55.893278Z"
    },
    "slideshow": {
     "slide_type": "fragment"
    }
   },
   "outputs": [],
   "source": [
    "thello = tstr('hello', taint='LOW')"
   ]
  },
  {
   "cell_type": "markdown",
   "metadata": {
    "slideshow": {
     "slide_type": "fragment"
    }
   },
   "source": [
    "Now, any substring will also be tainted:"
   ]
  },
  {
   "cell_type": "code",
   "execution_count": 74,
   "metadata": {
    "execution": {
     "iopub.execute_input": "2023-11-12T12:46:55.895117Z",
     "iopub.status.busy": "2023-11-12T12:46:55.894998Z",
     "iopub.status.idle": "2023-11-12T12:46:55.897114Z",
     "shell.execute_reply": "2023-11-12T12:46:55.896860Z"
    },
    "slideshow": {
     "slide_type": "fragment"
    }
   },
   "outputs": [
    {
     "data": {
      "text/plain": [
       "'LOW'"
      ]
     },
     "execution_count": 74,
     "metadata": {},
     "output_type": "execute_result"
    }
   ],
   "source": [
    "thello[0].taint  # type: ignore"
   ]
  },
  {
   "cell_type": "code",
   "execution_count": 75,
   "metadata": {
    "execution": {
     "iopub.execute_input": "2023-11-12T12:46:55.898629Z",
     "iopub.status.busy": "2023-11-12T12:46:55.898504Z",
     "iopub.status.idle": "2023-11-12T12:46:55.900735Z",
     "shell.execute_reply": "2023-11-12T12:46:55.900448Z"
    },
    "slideshow": {
     "slide_type": "subslide"
    }
   },
   "outputs": [
    {
     "data": {
      "text/plain": [
       "'LOW'"
      ]
     },
     "execution_count": 75,
     "metadata": {},
     "output_type": "execute_result"
    }
   ],
   "source": [
    "thello[1:3].taint  # type: ignore"
   ]
  },
  {
   "cell_type": "markdown",
   "metadata": {
    "slideshow": {
     "slide_type": "fragment"
    }
   },
   "source": [
    "String additions will return a `tstr` object with the taint:"
   ]
  },
  {
   "cell_type": "code",
   "execution_count": 76,
   "metadata": {
    "execution": {
     "iopub.execute_input": "2023-11-12T12:46:55.902324Z",
     "iopub.status.busy": "2023-11-12T12:46:55.902190Z",
     "iopub.status.idle": "2023-11-12T12:46:55.904459Z",
     "shell.execute_reply": "2023-11-12T12:46:55.904181Z"
    },
    "slideshow": {
     "slide_type": "fragment"
    }
   },
   "outputs": [
    {
     "data": {
      "text/plain": [
       "'HIGH'"
      ]
     },
     "execution_count": 76,
     "metadata": {},
     "output_type": "execute_result"
    }
   ],
   "source": [
    "(tstr('foo', taint='HIGH') + 'bar').taint  # type: ignore"
   ]
  },
  {
   "cell_type": "markdown",
   "metadata": {
    "slideshow": {
     "slide_type": "fragment"
    }
   },
   "source": [
    "Our `__radd__()` method ensures this also works if the `tstr` occurs on the right side of a string addition:"
   ]
  },
  {
   "cell_type": "code",
   "execution_count": 77,
   "metadata": {
    "execution": {
     "iopub.execute_input": "2023-11-12T12:46:55.906048Z",
     "iopub.status.busy": "2023-11-12T12:46:55.905945Z",
     "iopub.status.idle": "2023-11-12T12:46:55.908293Z",
     "shell.execute_reply": "2023-11-12T12:46:55.908024Z"
    },
    "slideshow": {
     "slide_type": "fragment"
    }
   },
   "outputs": [
    {
     "data": {
      "text/plain": [
       "'HIGH'"
      ]
     },
     "execution_count": 77,
     "metadata": {},
     "output_type": "execute_result"
    }
   ],
   "source": [
    "('foo' + tstr('bar', taint='HIGH')).taint  # type: ignore"
   ]
  },
  {
   "cell_type": "code",
   "execution_count": 78,
   "metadata": {
    "execution": {
     "iopub.execute_input": "2023-11-12T12:46:55.909947Z",
     "iopub.status.busy": "2023-11-12T12:46:55.909826Z",
     "iopub.status.idle": "2023-11-12T12:46:55.911565Z",
     "shell.execute_reply": "2023-11-12T12:46:55.911288Z"
    },
    "slideshow": {
     "slide_type": "fragment"
    }
   },
   "outputs": [],
   "source": [
    "thello += ', world'  # type: ignore"
   ]
  },
  {
   "cell_type": "code",
   "execution_count": 79,
   "metadata": {
    "execution": {
     "iopub.execute_input": "2023-11-12T12:46:55.913138Z",
     "iopub.status.busy": "2023-11-12T12:46:55.913013Z",
     "iopub.status.idle": "2023-11-12T12:46:55.915149Z",
     "shell.execute_reply": "2023-11-12T12:46:55.914831Z"
    },
    "slideshow": {
     "slide_type": "fragment"
    }
   },
   "outputs": [
    {
     "data": {
      "text/plain": [
       "'LOW'"
      ]
     },
     "execution_count": 79,
     "metadata": {},
     "output_type": "execute_result"
    }
   ],
   "source": [
    "thello.taint  # type: ignore"
   ]
  },
  {
   "cell_type": "markdown",
   "metadata": {
    "slideshow": {
     "slide_type": "fragment"
    }
   },
   "source": [
    "Other operators such as multiplication also work:"
   ]
  },
  {
   "cell_type": "code",
   "execution_count": 80,
   "metadata": {
    "execution": {
     "iopub.execute_input": "2023-11-12T12:46:55.916898Z",
     "iopub.status.busy": "2023-11-12T12:46:55.916786Z",
     "iopub.status.idle": "2023-11-12T12:46:55.919248Z",
     "shell.execute_reply": "2023-11-12T12:46:55.918955Z"
    },
    "slideshow": {
     "slide_type": "fragment"
    }
   },
   "outputs": [
    {
     "data": {
      "text/plain": [
       "'LOW'"
      ]
     },
     "execution_count": 80,
     "metadata": {},
     "output_type": "execute_result"
    }
   ],
   "source": [
    "(thello * 5).taint  # type: ignore"
   ]
  },
  {
   "cell_type": "code",
   "execution_count": 81,
   "metadata": {
    "execution": {
     "iopub.execute_input": "2023-11-12T12:46:55.921067Z",
     "iopub.status.busy": "2023-11-12T12:46:55.920909Z",
     "iopub.status.idle": "2023-11-12T12:46:55.923542Z",
     "shell.execute_reply": "2023-11-12T12:46:55.923111Z"
    },
    "slideshow": {
     "slide_type": "subslide"
    }
   },
   "outputs": [
    {
     "data": {
      "text/plain": [
       "'LOW'"
      ]
     },
     "execution_count": 81,
     "metadata": {},
     "output_type": "execute_result"
    }
   ],
   "source": [
    "('hw %s' % thello).taint  # type: ignore"
   ]
  },
  {
   "cell_type": "code",
   "execution_count": 82,
   "metadata": {
    "execution": {
     "iopub.execute_input": "2023-11-12T12:46:55.925618Z",
     "iopub.status.busy": "2023-11-12T12:46:55.925457Z",
     "iopub.status.idle": "2023-11-12T12:46:55.928145Z",
     "shell.execute_reply": "2023-11-12T12:46:55.927772Z"
    },
    "slideshow": {
     "slide_type": "fragment"
    }
   },
   "outputs": [
    {
     "data": {
      "text/plain": [
       "'HIGH'"
      ]
     },
     "execution_count": 82,
     "metadata": {},
     "output_type": "execute_result"
    }
   ],
   "source": [
    "(tstr('hello %s', taint='HIGH') % 'world').taint  # type: ignore"
   ]
  },
  {
   "cell_type": "markdown",
   "metadata": {
    "slideshow": {
     "slide_type": "slide"
    }
   },
   "source": [
    "## Tracking Untrusted Input\n",
    "\n",
    "So, what can one do with tainted strings?  We reconsider the `DB` example.  We define a \"better\" `TrustedDB` which only accepts strings tainted as `\"TRUSTED\"`."
   ]
  },
  {
   "cell_type": "code",
   "execution_count": 83,
   "metadata": {
    "execution": {
     "iopub.execute_input": "2023-11-12T12:46:55.930096Z",
     "iopub.status.busy": "2023-11-12T12:46:55.929965Z",
     "iopub.status.idle": "2023-11-12T12:46:55.932153Z",
     "shell.execute_reply": "2023-11-12T12:46:55.931831Z"
    },
    "slideshow": {
     "slide_type": "fragment"
    }
   },
   "outputs": [],
   "source": [
    "class TrustedDB(DB):\n",
    "    def sql(self, s):\n",
    "        assert isinstance(s, tstr), \"Need a tainted string\"\n",
    "        assert s.taint == 'TRUSTED', \"Need a string with trusted taint\"\n",
    "        return super().sql(s)"
   ]
  },
  {
   "cell_type": "markdown",
   "metadata": {
    "slideshow": {
     "slide_type": "fragment"
    }
   },
   "source": [
    "Feeding a string with an \"unknown\" (i.e., non-existing) trust level will cause `TrustedDB` to fail:"
   ]
  },
  {
   "cell_type": "code",
   "execution_count": 84,
   "metadata": {
    "execution": {
     "iopub.execute_input": "2023-11-12T12:46:55.934060Z",
     "iopub.status.busy": "2023-11-12T12:46:55.933944Z",
     "iopub.status.idle": "2023-11-12T12:46:55.935673Z",
     "shell.execute_reply": "2023-11-12T12:46:55.935352Z"
    },
    "slideshow": {
     "slide_type": "fragment"
    }
   },
   "outputs": [],
   "source": [
    "bdb = TrustedDB(db.db)"
   ]
  },
  {
   "cell_type": "code",
   "execution_count": 85,
   "metadata": {
    "execution": {
     "iopub.execute_input": "2023-11-12T12:46:55.937399Z",
     "iopub.status.busy": "2023-11-12T12:46:55.937270Z",
     "iopub.status.idle": "2023-11-12T12:46:55.938980Z",
     "shell.execute_reply": "2023-11-12T12:46:55.938705Z"
    },
    "slideshow": {
     "slide_type": "skip"
    }
   },
   "outputs": [],
   "source": [
    "from ExpectError import ExpectError"
   ]
  },
  {
   "cell_type": "code",
   "execution_count": 86,
   "metadata": {
    "execution": {
     "iopub.execute_input": "2023-11-12T12:46:55.940500Z",
     "iopub.status.busy": "2023-11-12T12:46:55.940386Z",
     "iopub.status.idle": "2023-11-12T12:46:55.942746Z",
     "shell.execute_reply": "2023-11-12T12:46:55.942418Z"
    },
    "slideshow": {
     "slide_type": "subslide"
    }
   },
   "outputs": [
    {
     "name": "stderr",
     "output_type": "stream",
     "text": [
      "Traceback (most recent call last):\n",
      "  File \"/var/folders/n2/xd9445p97rb3xh7m1dfx8_4h0006ts/T/ipykernel_32812/3935989889.py\", line 2, in <cell line: 1>\n",
      "    bdb.sql(\"select year from INVENTORY\")\n",
      "  File \"/var/folders/n2/xd9445p97rb3xh7m1dfx8_4h0006ts/T/ipykernel_32812/995123203.py\", line 3, in sql\n",
      "    assert isinstance(s, tstr), \"Need a tainted string\"\n",
      "AssertionError: Need a tainted string (expected)\n"
     ]
    }
   ],
   "source": [
    "with ExpectError():\n",
    "    bdb.sql(\"select year from INVENTORY\")"
   ]
  },
  {
   "attachments": {},
   "cell_type": "markdown",
   "metadata": {
    "slideshow": {
     "slide_type": "fragment"
    }
   },
   "source": [
    "Additionally, any user input would be originally tagged with `\"UNTRUSTED\"` as taint.  If we place an untrusted string into our better calculator, it will also fail:"
   ]
  },
  {
   "cell_type": "code",
   "execution_count": 87,
   "metadata": {
    "execution": {
     "iopub.execute_input": "2023-11-12T12:46:55.944493Z",
     "iopub.status.busy": "2023-11-12T12:46:55.944378Z",
     "iopub.status.idle": "2023-11-12T12:46:55.946563Z",
     "shell.execute_reply": "2023-11-12T12:46:55.946209Z"
    },
    "slideshow": {
     "slide_type": "subslide"
    }
   },
   "outputs": [
    {
     "name": "stderr",
     "output_type": "stream",
     "text": [
      "Traceback (most recent call last):\n",
      "  File \"/var/folders/n2/xd9445p97rb3xh7m1dfx8_4h0006ts/T/ipykernel_32812/3307042773.py\", line 3, in <cell line: 2>\n",
      "    bdb.sql(bad_user_input)\n",
      "  File \"/var/folders/n2/xd9445p97rb3xh7m1dfx8_4h0006ts/T/ipykernel_32812/995123203.py\", line 4, in sql\n",
      "    assert s.taint == 'TRUSTED', \"Need a string with trusted taint\"\n",
      "AssertionError: Need a string with trusted taint (expected)\n"
     ]
    }
   ],
   "source": [
    "bad_user_input = tstr('__import__(\"os\").popen(\"ls\").read()', taint='UNTRUSTED')\n",
    "with ExpectError():\n",
    "    bdb.sql(bad_user_input)"
   ]
  },
  {
   "cell_type": "markdown",
   "metadata": {
    "slideshow": {
     "slide_type": "subslide"
    }
   },
   "source": [
    "Hence, somewhere along the computation, we have to turn the \"untrusted\" inputs into \"trusted\" strings.  This process is called *sanitization*.  A simple sanitization function for our purposes could ensure that the input consists only of few allowed characters (not including letters or quotes); if this is the case, then the input gets a new `\"TRUSTED\"` taint.  If not, we turn the string into an (untrusted) empty string; other alternatives would be to raise an error or to escape or delete \"untrusted\" characters."
   ]
  },
  {
   "cell_type": "code",
   "execution_count": 88,
   "metadata": {
    "execution": {
     "iopub.execute_input": "2023-11-12T12:46:55.948267Z",
     "iopub.status.busy": "2023-11-12T12:46:55.948150Z",
     "iopub.status.idle": "2023-11-12T12:46:55.949967Z",
     "shell.execute_reply": "2023-11-12T12:46:55.949633Z"
    },
    "slideshow": {
     "slide_type": "skip"
    }
   },
   "outputs": [],
   "source": [
    "import re"
   ]
  },
  {
   "cell_type": "code",
   "execution_count": 89,
   "metadata": {
    "execution": {
     "iopub.execute_input": "2023-11-12T12:46:55.951569Z",
     "iopub.status.busy": "2023-11-12T12:46:55.951454Z",
     "iopub.status.idle": "2023-11-12T12:46:55.953430Z",
     "shell.execute_reply": "2023-11-12T12:46:55.953179Z"
    },
    "slideshow": {
     "slide_type": "fragment"
    }
   },
   "outputs": [],
   "source": [
    "def sanitize(user_input):\n",
    "    assert isinstance(user_input, tstr)\n",
    "    if re.match(\n",
    "            r'^select +[-a-zA-Z0-9_, ()]+ from +[-a-zA-Z0-9_, ()]+$', user_input):\n",
    "        return tstr(user_input, taint='TRUSTED')\n",
    "    else:\n",
    "        return tstr('', taint='UNTRUSTED')"
   ]
  },
  {
   "cell_type": "code",
   "execution_count": 90,
   "metadata": {
    "execution": {
     "iopub.execute_input": "2023-11-12T12:46:55.955019Z",
     "iopub.status.busy": "2023-11-12T12:46:55.954899Z",
     "iopub.status.idle": "2023-11-12T12:46:55.957336Z",
     "shell.execute_reply": "2023-11-12T12:46:55.957074Z"
    },
    "slideshow": {
     "slide_type": "subslide"
    }
   },
   "outputs": [
    {
     "data": {
      "text/plain": [
       "'select year,model from inventory'"
      ]
     },
     "execution_count": 90,
     "metadata": {},
     "output_type": "execute_result"
    }
   ],
   "source": [
    "good_user_input = tstr(\"select year,model from inventory\", taint='UNTRUSTED')\n",
    "sanitized_input = sanitize(good_user_input)\n",
    "sanitized_input"
   ]
  },
  {
   "cell_type": "code",
   "execution_count": 91,
   "metadata": {
    "execution": {
     "iopub.execute_input": "2023-11-12T12:46:55.959164Z",
     "iopub.status.busy": "2023-11-12T12:46:55.959036Z",
     "iopub.status.idle": "2023-11-12T12:46:55.961201Z",
     "shell.execute_reply": "2023-11-12T12:46:55.960929Z"
    },
    "slideshow": {
     "slide_type": "fragment"
    }
   },
   "outputs": [
    {
     "data": {
      "text/plain": [
       "'TRUSTED'"
      ]
     },
     "execution_count": 91,
     "metadata": {},
     "output_type": "execute_result"
    }
   ],
   "source": [
    "sanitized_input.taint"
   ]
  },
  {
   "cell_type": "code",
   "execution_count": 92,
   "metadata": {
    "execution": {
     "iopub.execute_input": "2023-11-12T12:46:55.962809Z",
     "iopub.status.busy": "2023-11-12T12:46:55.962689Z",
     "iopub.status.idle": "2023-11-12T12:46:55.964962Z",
     "shell.execute_reply": "2023-11-12T12:46:55.964665Z"
    },
    "slideshow": {
     "slide_type": "fragment"
    }
   },
   "outputs": [
    {
     "data": {
      "text/plain": [
       "[(1998, 'E350'), (2000, 'Cougar'), (1999, 'Venture')]"
      ]
     },
     "execution_count": 92,
     "metadata": {},
     "output_type": "execute_result"
    }
   ],
   "source": [
    "bdb.sql(sanitized_input)"
   ]
  },
  {
   "cell_type": "markdown",
   "metadata": {
    "slideshow": {
     "slide_type": "fragment"
    }
   },
   "source": [
    "Let us now try out our untrusted input:"
   ]
  },
  {
   "cell_type": "code",
   "execution_count": 93,
   "metadata": {
    "execution": {
     "iopub.execute_input": "2023-11-12T12:46:55.966745Z",
     "iopub.status.busy": "2023-11-12T12:46:55.966627Z",
     "iopub.status.idle": "2023-11-12T12:46:55.968980Z",
     "shell.execute_reply": "2023-11-12T12:46:55.968658Z"
    },
    "slideshow": {
     "slide_type": "fragment"
    }
   },
   "outputs": [
    {
     "data": {
      "text/plain": [
       "''"
      ]
     },
     "execution_count": 93,
     "metadata": {},
     "output_type": "execute_result"
    }
   ],
   "source": [
    "sanitized_input = sanitize(bad_user_input)\n",
    "sanitized_input"
   ]
  },
  {
   "cell_type": "code",
   "execution_count": 94,
   "metadata": {
    "execution": {
     "iopub.execute_input": "2023-11-12T12:46:55.970554Z",
     "iopub.status.busy": "2023-11-12T12:46:55.970432Z",
     "iopub.status.idle": "2023-11-12T12:46:55.972683Z",
     "shell.execute_reply": "2023-11-12T12:46:55.972345Z"
    },
    "slideshow": {
     "slide_type": "fragment"
    }
   },
   "outputs": [
    {
     "data": {
      "text/plain": [
       "'UNTRUSTED'"
      ]
     },
     "execution_count": 94,
     "metadata": {},
     "output_type": "execute_result"
    }
   ],
   "source": [
    "sanitized_input.taint"
   ]
  },
  {
   "cell_type": "code",
   "execution_count": 95,
   "metadata": {
    "execution": {
     "iopub.execute_input": "2023-11-12T12:46:55.974284Z",
     "iopub.status.busy": "2023-11-12T12:46:55.974166Z",
     "iopub.status.idle": "2023-11-12T12:46:55.976205Z",
     "shell.execute_reply": "2023-11-12T12:46:55.975972Z"
    },
    "slideshow": {
     "slide_type": "subslide"
    }
   },
   "outputs": [
    {
     "name": "stderr",
     "output_type": "stream",
     "text": [
      "Traceback (most recent call last):\n",
      "  File \"/var/folders/n2/xd9445p97rb3xh7m1dfx8_4h0006ts/T/ipykernel_32812/249000876.py\", line 2, in <cell line: 1>\n",
      "    bdb.sql(sanitized_input)\n",
      "  File \"/var/folders/n2/xd9445p97rb3xh7m1dfx8_4h0006ts/T/ipykernel_32812/995123203.py\", line 4, in sql\n",
      "    assert s.taint == 'TRUSTED', \"Need a string with trusted taint\"\n",
      "AssertionError: Need a string with trusted taint (expected)\n"
     ]
    }
   ],
   "source": [
    "with ExpectError():\n",
    "    bdb.sql(sanitized_input)"
   ]
  },
  {
   "attachments": {},
   "cell_type": "markdown",
   "metadata": {
    "slideshow": {
     "slide_type": "fragment"
    }
   },
   "source": [
    "Similarly, we can prevent SQL and code injections discussed in [the chapter on Web fuzzing](WebFuzzer.ipynb)."
   ]
  },
  {
   "cell_type": "markdown",
   "metadata": {
    "slideshow": {
     "slide_type": "slide"
    },
    "toc-hr-collapsed": true
   },
   "source": [
    "## Taint Aware Fuzzing\n",
    "\n",
    "We can also use tainting to _direct fuzzing to those grammar rules that are likely to generate dangerous inputs._ The idea here is to identify inputs generated by our fuzzer that lead to untrusted execution. First we define the exception to be thrown when a tainted value reaches a dangerous operation."
   ]
  },
  {
   "cell_type": "code",
   "execution_count": 96,
   "metadata": {
    "execution": {
     "iopub.execute_input": "2023-11-12T12:46:55.977905Z",
     "iopub.status.busy": "2023-11-12T12:46:55.977791Z",
     "iopub.status.idle": "2023-11-12T12:46:55.979793Z",
     "shell.execute_reply": "2023-11-12T12:46:55.979520Z"
    },
    "slideshow": {
     "slide_type": "fragment"
    }
   },
   "outputs": [],
   "source": [
    "class Tainted(Exception):\n",
    "    def __init__(self, v):\n",
    "        self.v = v\n",
    "\n",
    "    def __str__(self):\n",
    "        return 'Tainted[%s]' % self.v"
   ]
  },
  {
   "cell_type": "markdown",
   "metadata": {
    "slideshow": {
     "slide_type": "subslide"
    }
   },
   "source": [
    "### TaintedDB\n",
    "\n",
    "Next, since `my_eval()` is the most dangerous operation in the `DB` class, we define a new class `TaintedDB` that overrides the `my_eval()` to throw an exception whenever an untrusted string reaches this part."
   ]
  },
  {
   "cell_type": "code",
   "execution_count": 97,
   "metadata": {
    "execution": {
     "iopub.execute_input": "2023-11-12T12:46:55.981378Z",
     "iopub.status.busy": "2023-11-12T12:46:55.981276Z",
     "iopub.status.idle": "2023-11-12T12:46:55.983571Z",
     "shell.execute_reply": "2023-11-12T12:46:55.983264Z"
    },
    "slideshow": {
     "slide_type": "fragment"
    }
   },
   "outputs": [],
   "source": [
    "class TaintedDB(DB):\n",
    "    def my_eval(self, statement, g, l):\n",
    "        if statement.taint != 'TRUSTED':\n",
    "            raise Tainted(statement)\n",
    "        try:\n",
    "            return eval(statement, g, l)\n",
    "        except:\n",
    "            raise SQLException('Invalid SQL (%s)' % repr(statement))"
   ]
  },
  {
   "cell_type": "markdown",
   "metadata": {
    "slideshow": {
     "slide_type": "fragment"
    }
   },
   "source": [
    "We initialize an instance of `TaintedDB`"
   ]
  },
  {
   "cell_type": "code",
   "execution_count": 98,
   "metadata": {
    "execution": {
     "iopub.execute_input": "2023-11-12T12:46:55.985408Z",
     "iopub.status.busy": "2023-11-12T12:46:55.985132Z",
     "iopub.status.idle": "2023-11-12T12:46:55.986929Z",
     "shell.execute_reply": "2023-11-12T12:46:55.986662Z"
    },
    "slideshow": {
     "slide_type": "subslide"
    }
   },
   "outputs": [],
   "source": [
    "tdb = TaintedDB()"
   ]
  },
  {
   "cell_type": "code",
   "execution_count": 99,
   "metadata": {
    "execution": {
     "iopub.execute_input": "2023-11-12T12:46:55.988467Z",
     "iopub.status.busy": "2023-11-12T12:46:55.988349Z",
     "iopub.status.idle": "2023-11-12T12:46:55.990053Z",
     "shell.execute_reply": "2023-11-12T12:46:55.989784Z"
    },
    "slideshow": {
     "slide_type": "fragment"
    }
   },
   "outputs": [],
   "source": [
    "tdb.db = db.db"
   ]
  },
  {
   "cell_type": "markdown",
   "metadata": {
    "slideshow": {
     "slide_type": "fragment"
    }
   },
   "source": [
    "Then we start fuzzing."
   ]
  },
  {
   "cell_type": "code",
   "execution_count": 100,
   "metadata": {
    "execution": {
     "iopub.execute_input": "2023-11-12T12:46:55.991553Z",
     "iopub.status.busy": "2023-11-12T12:46:55.991444Z",
     "iopub.status.idle": "2023-11-12T12:46:55.993014Z",
     "shell.execute_reply": "2023-11-12T12:46:55.992762Z"
    },
    "slideshow": {
     "slide_type": "skip"
    }
   },
   "outputs": [],
   "source": [
    "import traceback"
   ]
  },
  {
   "cell_type": "code",
   "execution_count": 101,
   "metadata": {
    "execution": {
     "iopub.execute_input": "2023-11-12T12:46:55.994491Z",
     "iopub.status.busy": "2023-11-12T12:46:55.994404Z",
     "iopub.status.idle": "2023-11-12T12:46:56.064043Z",
     "shell.execute_reply": "2023-11-12T12:46:56.063773Z"
    },
    "slideshow": {
     "slide_type": "subslide"
    }
   },
   "outputs": [
    {
     "name": "stdout",
     "output_type": "stream",
     "text": [
      "'delete from inventory where y/u-l+f/y<Y(c)/A-H*q'\n",
      ">  Tainted[y/u-l+f/y<Y(c)/A-H*q]\n",
      "\n",
      "\"insert into inventory (G,Wmp,sl3hku3) values ('<','?')\"\n",
      "\n",
      "\"insert into inventory (d0) values (',_G')\"\n",
      "\n",
      "'select P*Q-w/x from inventory where X<j==:==j*r-f'\n",
      ">  Tainted[(X<j==:==j*r-f)]\n",
      "\n",
      "'select a>F*i from inventory where Q/I-_+P*j>.'\n",
      ">  Tainted[(Q/I-_+P*j>.)]\n",
      "\n",
      "'select (V-i<T/g) from inventory where T/r/G<FK(m)/(i)'\n",
      ">  Tainted[(T/r/G<FK(m)/(i))]\n",
      "\n",
      "'select (((i))),_(S,_)/L-k<H(Sv,R,n,W,Y) from inventory'\n",
      ">  Tainted[((((i))),_(S,_)/L-k<H(Sv,R,n,W,Y))]\n",
      "\n",
      "'select (N==c*U/P/y),i-e/n*y,T!=w,u from inventory'\n",
      ">  Tainted[((N==c*U/P/y),i-e/n*y,T!=w,u)]\n",
      "\n",
      "'update inventory set _=B,n=v where o-p*k-J>T'\n",
      "\n",
      "'select s from inventory where w4g4<.m(_)/_>t'\n",
      ">  Tainted[(w4g4<.m(_)/_>t)]\n",
      "\n"
     ]
    }
   ],
   "source": [
    "for _ in range(10):\n",
    "    query = gf.fuzz()\n",
    "    print(repr(query))\n",
    "    try:\n",
    "        res = tdb.sql(tstr(query, taint='UNTRUSTED'))\n",
    "        print(repr(res))\n",
    "    except SQLException as e:\n",
    "        pass\n",
    "    except Tainted as e:\n",
    "        print(\"> \", e)\n",
    "    except:\n",
    "        traceback.print_exc()\n",
    "        break\n",
    "    print()"
   ]
  },
  {
   "cell_type": "markdown",
   "metadata": {
    "slideshow": {
     "slide_type": "subslide"
    }
   },
   "source": [
    "One can see that `insert`, `update`, `select` and `delete` statements on an existing table lead to taint exceptions. We can now focus on these specific kinds of inputs. However, this is not the only thing we can do. We will see how we can identify specific portions of input that reached tainted execution using character origins in the later sections. But before that, we explore other uses of taints."
   ]
  },
  {
   "cell_type": "markdown",
   "metadata": {
    "slideshow": {
     "slide_type": "slide"
    },
    "toc-hr-collapsed": true
   },
   "source": [
    "## Preventing Privacy Leaks\n",
    "\n",
    "Using taints, we can also ensure that secret information does not leak out.  We can assign a special taint `\"SECRET\"` to strings whose information must not leak out:"
   ]
  },
  {
   "cell_type": "code",
   "execution_count": 102,
   "metadata": {
    "execution": {
     "iopub.execute_input": "2023-11-12T12:46:56.065849Z",
     "iopub.status.busy": "2023-11-12T12:46:56.065685Z",
     "iopub.status.idle": "2023-11-12T12:46:56.067512Z",
     "shell.execute_reply": "2023-11-12T12:46:56.067249Z"
    },
    "slideshow": {
     "slide_type": "fragment"
    }
   },
   "outputs": [],
   "source": [
    "secrets = tstr('<Plenty of secret keys>', taint='SECRET')"
   ]
  },
  {
   "cell_type": "markdown",
   "metadata": {
    "slideshow": {
     "slide_type": "fragment"
    }
   },
   "source": [
    "Accessing any substring of `secrets` will propagate the taint:"
   ]
  },
  {
   "cell_type": "code",
   "execution_count": 103,
   "metadata": {
    "execution": {
     "iopub.execute_input": "2023-11-12T12:46:56.069191Z",
     "iopub.status.busy": "2023-11-12T12:46:56.069079Z",
     "iopub.status.idle": "2023-11-12T12:46:56.071200Z",
     "shell.execute_reply": "2023-11-12T12:46:56.070912Z"
    },
    "slideshow": {
     "slide_type": "fragment"
    }
   },
   "outputs": [
    {
     "data": {
      "text/plain": [
       "'SECRET'"
      ]
     },
     "execution_count": 103,
     "metadata": {},
     "output_type": "execute_result"
    }
   ],
   "source": [
    "secrets[1:3].taint  # type: ignore"
   ]
  },
  {
   "cell_type": "markdown",
   "metadata": {
    "slideshow": {
     "slide_type": "fragment"
    }
   },
   "source": [
    "Consider the _heartbeat_ security leak from [the chapter on Fuzzing](Fuzzer.ipynb), in which a server would accidentally reply not only the user input sent to it, but also secret memory.  If the reply consists only of the user input, there is no taint associated with it:"
   ]
  },
  {
   "cell_type": "code",
   "execution_count": 104,
   "metadata": {
    "execution": {
     "iopub.execute_input": "2023-11-12T12:46:56.072846Z",
     "iopub.status.busy": "2023-11-12T12:46:56.072735Z",
     "iopub.status.idle": "2023-11-12T12:46:56.074391Z",
     "shell.execute_reply": "2023-11-12T12:46:56.074122Z"
    },
    "slideshow": {
     "slide_type": "fragment"
    }
   },
   "outputs": [],
   "source": [
    "user_input = \"hello\"\n",
    "reply = user_input"
   ]
  },
  {
   "cell_type": "code",
   "execution_count": 105,
   "metadata": {
    "execution": {
     "iopub.execute_input": "2023-11-12T12:46:56.075948Z",
     "iopub.status.busy": "2023-11-12T12:46:56.075833Z",
     "iopub.status.idle": "2023-11-12T12:46:56.077964Z",
     "shell.execute_reply": "2023-11-12T12:46:56.077670Z"
    },
    "slideshow": {
     "slide_type": "subslide"
    }
   },
   "outputs": [
    {
     "data": {
      "text/plain": [
       "False"
      ]
     },
     "execution_count": 105,
     "metadata": {},
     "output_type": "execute_result"
    }
   ],
   "source": [
    "isinstance(reply, tstr)"
   ]
  },
  {
   "cell_type": "markdown",
   "metadata": {
    "slideshow": {
     "slide_type": "fragment"
    }
   },
   "source": [
    "If, however, the reply contains _any_ part of the secret, the reply will be tainted:"
   ]
  },
  {
   "cell_type": "code",
   "execution_count": 106,
   "metadata": {
    "execution": {
     "iopub.execute_input": "2023-11-12T12:46:56.079583Z",
     "iopub.status.busy": "2023-11-12T12:46:56.079465Z",
     "iopub.status.idle": "2023-11-12T12:46:56.081137Z",
     "shell.execute_reply": "2023-11-12T12:46:56.080879Z"
    },
    "slideshow": {
     "slide_type": "fragment"
    }
   },
   "outputs": [],
   "source": [
    "reply = user_input + secrets[0:5]"
   ]
  },
  {
   "cell_type": "code",
   "execution_count": 107,
   "metadata": {
    "execution": {
     "iopub.execute_input": "2023-11-12T12:46:56.082857Z",
     "iopub.status.busy": "2023-11-12T12:46:56.082726Z",
     "iopub.status.idle": "2023-11-12T12:46:56.084951Z",
     "shell.execute_reply": "2023-11-12T12:46:56.084649Z"
    },
    "slideshow": {
     "slide_type": "fragment"
    }
   },
   "outputs": [
    {
     "data": {
      "text/plain": [
       "'hello<Plen'"
      ]
     },
     "execution_count": 107,
     "metadata": {},
     "output_type": "execute_result"
    }
   ],
   "source": [
    "reply"
   ]
  },
  {
   "cell_type": "code",
   "execution_count": 108,
   "metadata": {
    "execution": {
     "iopub.execute_input": "2023-11-12T12:46:56.086522Z",
     "iopub.status.busy": "2023-11-12T12:46:56.086404Z",
     "iopub.status.idle": "2023-11-12T12:46:56.088441Z",
     "shell.execute_reply": "2023-11-12T12:46:56.088168Z"
    },
    "slideshow": {
     "slide_type": "fragment"
    }
   },
   "outputs": [
    {
     "data": {
      "text/plain": [
       "'SECRET'"
      ]
     },
     "execution_count": 108,
     "metadata": {},
     "output_type": "execute_result"
    }
   ],
   "source": [
    "reply.taint  # type: ignore"
   ]
  },
  {
   "cell_type": "markdown",
   "metadata": {
    "slideshow": {
     "slide_type": "fragment"
    }
   },
   "source": [
    "The output function of our server would now ensure that the data sent back does not contain any secret information:"
   ]
  },
  {
   "cell_type": "code",
   "execution_count": 109,
   "metadata": {
    "execution": {
     "iopub.execute_input": "2023-11-12T12:46:56.090024Z",
     "iopub.status.busy": "2023-11-12T12:46:56.089907Z",
     "iopub.status.idle": "2023-11-12T12:46:56.091647Z",
     "shell.execute_reply": "2023-11-12T12:46:56.091411Z"
    },
    "slideshow": {
     "slide_type": "fragment"
    }
   },
   "outputs": [],
   "source": [
    "def send_back(s):\n",
    "    assert not isinstance(s, tstr) and not s.taint == 'SECRET'  # type: ignore\n",
    "    ..."
   ]
  },
  {
   "cell_type": "code",
   "execution_count": 110,
   "metadata": {
    "execution": {
     "iopub.execute_input": "2023-11-12T12:46:56.093171Z",
     "iopub.status.busy": "2023-11-12T12:46:56.093064Z",
     "iopub.status.idle": "2023-11-12T12:46:56.094901Z",
     "shell.execute_reply": "2023-11-12T12:46:56.094659Z"
    },
    "slideshow": {
     "slide_type": "subslide"
    }
   },
   "outputs": [
    {
     "name": "stderr",
     "output_type": "stream",
     "text": [
      "Traceback (most recent call last):\n",
      "  File \"/var/folders/n2/xd9445p97rb3xh7m1dfx8_4h0006ts/T/ipykernel_32812/3747050841.py\", line 2, in <cell line: 1>\n",
      "    send_back(reply)\n",
      "  File \"/var/folders/n2/xd9445p97rb3xh7m1dfx8_4h0006ts/T/ipykernel_32812/3158733057.py\", line 2, in send_back\n",
      "    assert not isinstance(s, tstr) and not s.taint == 'SECRET'  # type: ignore\n",
      "AssertionError (expected)\n"
     ]
    }
   ],
   "source": [
    "with ExpectError():\n",
    "    send_back(reply)"
   ]
  },
  {
   "cell_type": "markdown",
   "metadata": {
    "button": false,
    "new_sheet": true,
    "run_control": {
     "read_only": false
    },
    "slideshow": {
     "slide_type": "fragment"
    },
    "toc-hr-collapsed": false
   },
   "source": [
    "Our `tstr` solution can help to identify information leaks – but it is by no means complete.  If we actually take the `heartbeat()` implementation from [the chapter on Fuzzing](Fuzzer.ipynb), we will see that _any_ reply is marked as `SECRET` – even those not even accessing secret memory:"
   ]
  },
  {
   "cell_type": "code",
   "execution_count": 111,
   "metadata": {
    "execution": {
     "iopub.execute_input": "2023-11-12T12:46:56.096382Z",
     "iopub.status.busy": "2023-11-12T12:46:56.096274Z",
     "iopub.status.idle": "2023-11-12T12:46:56.097898Z",
     "shell.execute_reply": "2023-11-12T12:46:56.097566Z"
    },
    "slideshow": {
     "slide_type": "skip"
    }
   },
   "outputs": [],
   "source": [
    "from Fuzzer import heartbeat"
   ]
  },
  {
   "cell_type": "code",
   "execution_count": 112,
   "metadata": {
    "execution": {
     "iopub.execute_input": "2023-11-12T12:46:56.099407Z",
     "iopub.status.busy": "2023-11-12T12:46:56.099303Z",
     "iopub.status.idle": "2023-11-12T12:46:56.100933Z",
     "shell.execute_reply": "2023-11-12T12:46:56.100689Z"
    },
    "slideshow": {
     "slide_type": "fragment"
    }
   },
   "outputs": [],
   "source": [
    "reply = heartbeat('hello', 5, memory=secrets)"
   ]
  },
  {
   "cell_type": "code",
   "execution_count": 113,
   "metadata": {
    "execution": {
     "iopub.execute_input": "2023-11-12T12:46:56.102465Z",
     "iopub.status.busy": "2023-11-12T12:46:56.102359Z",
     "iopub.status.idle": "2023-11-12T12:46:56.104457Z",
     "shell.execute_reply": "2023-11-12T12:46:56.104175Z"
    },
    "slideshow": {
     "slide_type": "subslide"
    }
   },
   "outputs": [
    {
     "data": {
      "text/plain": [
       "'SECRET'"
      ]
     },
     "execution_count": 113,
     "metadata": {},
     "output_type": "execute_result"
    }
   ],
   "source": [
    "reply.taint  # type: ignore"
   ]
  },
  {
   "cell_type": "markdown",
   "metadata": {
    "slideshow": {
     "slide_type": "fragment"
    }
   },
   "source": [
    "Why is this?  If we look into the implementation of `heartbeat()`, we will see that it first builds a long string `memory` from the (non-secret) reply and the (secret) memory, before returning the first characters from `memory`.\n",
    "```python\n",
    "    # Store reply in memory\n",
    "    memory = reply + memory[len(reply):]\n",
    "```\n",
    "At this point, the whole memory still is tainted as `SECRET`, _including_ the non-secret part from `reply`."
   ]
  },
  {
   "cell_type": "markdown",
   "metadata": {
    "slideshow": {
     "slide_type": "subslide"
    }
   },
   "source": [
    "We may be able to circumvent the issue by tagging the `reply` as `PUBLIC` – but then, this taint would be in conflict with the `SECRET` tag of `memory`.  What happens if we compose a string from two differently tainted strings?"
   ]
  },
  {
   "cell_type": "code",
   "execution_count": 114,
   "metadata": {
    "execution": {
     "iopub.execute_input": "2023-11-12T12:46:56.106084Z",
     "iopub.status.busy": "2023-11-12T12:46:56.105968Z",
     "iopub.status.idle": "2023-11-12T12:46:56.107649Z",
     "shell.execute_reply": "2023-11-12T12:46:56.107411Z"
    },
    "slideshow": {
     "slide_type": "fragment"
    }
   },
   "outputs": [],
   "source": [
    "thilo = tstr(\"High\", taint='HIGH') + tstr(\"Low\", taint='LOW')"
   ]
  },
  {
   "cell_type": "markdown",
   "metadata": {
    "slideshow": {
     "slide_type": "fragment"
    }
   },
   "source": [
    "It turns out that in this case, the `__add__()` method takes precedence over the `__radd__()` method, which means that the right-hand `\"Low\"` string is treated as a regular (non-tainted) string."
   ]
  },
  {
   "cell_type": "code",
   "execution_count": 115,
   "metadata": {
    "execution": {
     "iopub.execute_input": "2023-11-12T12:46:56.109243Z",
     "iopub.status.busy": "2023-11-12T12:46:56.109132Z",
     "iopub.status.idle": "2023-11-12T12:46:56.111277Z",
     "shell.execute_reply": "2023-11-12T12:46:56.110936Z"
    },
    "slideshow": {
     "slide_type": "fragment"
    }
   },
   "outputs": [
    {
     "data": {
      "text/plain": [
       "'HighLow'"
      ]
     },
     "execution_count": 115,
     "metadata": {},
     "output_type": "execute_result"
    }
   ],
   "source": [
    "thilo"
   ]
  },
  {
   "cell_type": "code",
   "execution_count": 116,
   "metadata": {
    "execution": {
     "iopub.execute_input": "2023-11-12T12:46:56.112882Z",
     "iopub.status.busy": "2023-11-12T12:46:56.112767Z",
     "iopub.status.idle": "2023-11-12T12:46:56.115033Z",
     "shell.execute_reply": "2023-11-12T12:46:56.114693Z"
    },
    "slideshow": {
     "slide_type": "fragment"
    }
   },
   "outputs": [
    {
     "data": {
      "text/plain": [
       "'HIGH'"
      ]
     },
     "execution_count": 116,
     "metadata": {},
     "output_type": "execute_result"
    }
   ],
   "source": [
    "thilo.taint  # type: ignore"
   ]
  },
  {
   "cell_type": "markdown",
   "metadata": {
    "slideshow": {
     "slide_type": "subslide"
    }
   },
   "source": [
    "We could set up the `__add__()` and other methods with special handling for conflicting taints.  However, the way this conflict should be resolved would be highly _application-dependent_:\n",
    "\n",
    "* If we use taints to indicate _privacy levels_, `SECRET` privacy should take precedence over `PUBLIC` privacy.  Any combination of a `SECRET`-tainted string and a `PUBLIC`-tainted string thus should have a `SECRET` taint.\n",
    "\n",
    "* If we use taints to indicate _origins_ of information, an `UNTRUSTED` origin should take precedence over a `TRUSTED` origin.  Any combination of an `UNTRUSTED`-tainted string and a `TRUSTED`-tainted string thus should have an `UNTRUSTED` taint.\n",
    "\n",
    "Of course, such conflict resolutions can be implemented.  But even so, they will not help us in the `heartbeat()` example differentiating secret from non-secret output data."
   ]
  },
  {
   "cell_type": "markdown",
   "metadata": {
    "slideshow": {
     "slide_type": "slide"
    }
   },
   "source": [
    "## Tracking Individual Characters\n",
    "\n",
    "Fortunately, there is a better, more generic way to solve the above problems.  The key to composition of differently tainted strings is to assign taints not only to strings, but actually to every bit of information – in our case, characters.  If every character has a taint on its own, a new composition of characters will simply inherit this very taint _per character_.  To this end, we introduce a second bit of information named _origin_."
   ]
  },
  {
   "attachments": {},
   "cell_type": "markdown",
   "metadata": {
    "slideshow": {
     "slide_type": "fragment"
    }
   },
   "source": [
    "Distinguishing various untrusted sources may be accomplished by originating each instance as separate instance (called *colors* in dynamic origin research). You will see an instance of this technique in the chapter on [Grammar Mining](GrammarMiner.ipynb)."
   ]
  },
  {
   "attachments": {},
   "cell_type": "markdown",
   "metadata": {
    "slideshow": {
     "slide_type": "subslide"
    }
   },
   "source": [
    "In this section, we carry *character level* origins. That is, given a fragment that resulted from a portion of the original originated string, one will be able to tell which portion of the input string the fragment was taken from. In essence, each input character index from an originated source gets its own color."
   ]
  },
  {
   "cell_type": "markdown",
   "metadata": {
    "slideshow": {
     "slide_type": "fragment"
    }
   },
   "source": [
    "More complex origining such as *bitmap origins* are possible where a single character may result from multiple origined character indexes (such as *checksum* operations on strings). We do not consider these in this chapter."
   ]
  },
  {
   "cell_type": "markdown",
   "metadata": {
    "slideshow": {
     "slide_type": "subslide"
    },
    "tags": [],
    "toc-hr-collapsed": true
   },
   "source": [
    "### A Class for Tracking Character Origins\n",
    "\n",
    "Let us introduce a class `ostr` which, like `tstr`, carries a taint for each string, and additionally an _origin_ for each character that indicates its source.  It is a consecutive number in a particular range (by default, starting with zero) indicating its _position_ within a specific origin."
   ]
  },
  {
   "cell_type": "code",
   "execution_count": 117,
   "metadata": {
    "execution": {
     "iopub.execute_input": "2023-11-12T12:46:56.116924Z",
     "iopub.status.busy": "2023-11-12T12:46:56.116771Z",
     "iopub.status.idle": "2023-11-12T12:46:56.119691Z",
     "shell.execute_reply": "2023-11-12T12:46:56.119402Z"
    },
    "slideshow": {
     "slide_type": "subslide"
    }
   },
   "outputs": [],
   "source": [
    "class ostr(str):\n",
    "    \"\"\"Wrapper for strings, saving taint and origin information\"\"\"\n",
    "    DEFAULT_ORIGIN = 0\n",
    "\n",
    "    def __new__(cls, value, *args, **kw):\n",
    "        \"\"\"Create an ostr() instance. Used internally.\"\"\"\n",
    "        return str.__new__(cls, value)\n",
    "\n",
    "    def __init__(self, value: Any, taint: Any = None,\n",
    "                 origin: Optional[Union[int, List[int]]] = None, **kwargs) -> None:\n",
    "        \"\"\"Constructor.\n",
    "        `value` is the string value the `ostr` object is to be constructed from.\n",
    "        `taint` is an (optional) taint to be propagated to derived strings.\n",
    "        `origin` (optional) is either\n",
    "        - an integer denoting the index of the first character in `value`, or\n",
    "        - a list of integers denoting the origins of the characters in `value`,\n",
    "        \"\"\"\n",
    "        self.taint = taint\n",
    "\n",
    "        if origin is None:\n",
    "            origin = ostr.DEFAULT_ORIGIN\n",
    "        if isinstance(origin, int):\n",
    "            self.origin = list(range(origin, origin + len(self)))\n",
    "        else:\n",
    "            self.origin = origin\n",
    "        assert len(self.origin) == len(self)"
   ]
  },
  {
   "cell_type": "markdown",
   "metadata": {
    "slideshow": {
     "slide_type": "subslide"
    }
   },
   "source": [
    "As with `tstr`, above, we implement methods for conversion into (regular) Python strings:"
   ]
  },
  {
   "cell_type": "code",
   "execution_count": 118,
   "metadata": {
    "execution": {
     "iopub.execute_input": "2023-11-12T12:46:56.121372Z",
     "iopub.status.busy": "2023-11-12T12:46:56.121250Z",
     "iopub.status.idle": "2023-11-12T12:46:56.123180Z",
     "shell.execute_reply": "2023-11-12T12:46:56.122920Z"
    },
    "slideshow": {
     "slide_type": "fragment"
    }
   },
   "outputs": [],
   "source": [
    "class ostr(ostr):\n",
    "    def create(self, s):\n",
    "        return ostr(s, taint=self.taint, origin=self.origin)"
   ]
  },
  {
   "cell_type": "code",
   "execution_count": 119,
   "metadata": {
    "execution": {
     "iopub.execute_input": "2023-11-12T12:46:56.124656Z",
     "iopub.status.busy": "2023-11-12T12:46:56.124547Z",
     "iopub.status.idle": "2023-11-12T12:46:56.126877Z",
     "shell.execute_reply": "2023-11-12T12:46:56.126598Z"
    },
    "slideshow": {
     "slide_type": "subslide"
    }
   },
   "outputs": [],
   "source": [
    "class ostr(ostr):\n",
    "    UNKNOWN_ORIGIN = -1\n",
    "\n",
    "    def __repr__(self):\n",
    "        # handle escaped chars\n",
    "        origin = [ostr.UNKNOWN_ORIGIN]\n",
    "        for s, o in zip(str(self), self.origin):\n",
    "            origin.extend([o] * (len(repr(s)) - 2))\n",
    "\n",
    "        origin.append(ostr.UNKNOWN_ORIGIN)\n",
    "        return ostr(str.__repr__(self), taint=self.taint, origin=origin)"
   ]
  },
  {
   "cell_type": "code",
   "execution_count": 120,
   "metadata": {
    "execution": {
     "iopub.execute_input": "2023-11-12T12:46:56.128471Z",
     "iopub.status.busy": "2023-11-12T12:46:56.128364Z",
     "iopub.status.idle": "2023-11-12T12:46:56.130084Z",
     "shell.execute_reply": "2023-11-12T12:46:56.129839Z"
    },
    "slideshow": {
     "slide_type": "fragment"
    }
   },
   "outputs": [],
   "source": [
    "class ostr(ostr):\n",
    "    def __str__(self):\n",
    "        return str.__str__(self)"
   ]
  },
  {
   "cell_type": "markdown",
   "metadata": {
    "slideshow": {
     "slide_type": "fragment"
    }
   },
   "source": [
    "By default, character origins start with `0`:"
   ]
  },
  {
   "cell_type": "code",
   "execution_count": 121,
   "metadata": {
    "execution": {
     "iopub.execute_input": "2023-11-12T12:46:56.131502Z",
     "iopub.status.busy": "2023-11-12T12:46:56.131400Z",
     "iopub.status.idle": "2023-11-12T12:46:56.133118Z",
     "shell.execute_reply": "2023-11-12T12:46:56.132868Z"
    },
    "slideshow": {
     "slide_type": "subslide"
    }
   },
   "outputs": [],
   "source": [
    "othello = ostr('hello')\n",
    "assert othello.origin == [0, 1, 2, 3, 4]"
   ]
  },
  {
   "cell_type": "markdown",
   "metadata": {
    "slideshow": {
     "slide_type": "fragment"
    }
   },
   "source": [
    "We can also specify the starting origin as below -- `6..10`"
   ]
  },
  {
   "cell_type": "code",
   "execution_count": 122,
   "metadata": {
    "execution": {
     "iopub.execute_input": "2023-11-12T12:46:56.134616Z",
     "iopub.status.busy": "2023-11-12T12:46:56.134511Z",
     "iopub.status.idle": "2023-11-12T12:46:56.136243Z",
     "shell.execute_reply": "2023-11-12T12:46:56.135989Z"
    },
    "slideshow": {
     "slide_type": "fragment"
    }
   },
   "outputs": [],
   "source": [
    "tworld = ostr('world', origin=6)\n",
    "assert tworld.origin == [6, 7, 8, 9, 10]"
   ]
  },
  {
   "cell_type": "code",
   "execution_count": 123,
   "metadata": {
    "execution": {
     "iopub.execute_input": "2023-11-12T12:46:56.137781Z",
     "iopub.status.busy": "2023-11-12T12:46:56.137666Z",
     "iopub.status.idle": "2023-11-12T12:46:56.139302Z",
     "shell.execute_reply": "2023-11-12T12:46:56.139019Z"
    },
    "slideshow": {
     "slide_type": "fragment"
    }
   },
   "outputs": [],
   "source": [
    "a = ostr(\"hello\\tworld\")"
   ]
  },
  {
   "cell_type": "code",
   "execution_count": 124,
   "metadata": {
    "execution": {
     "iopub.execute_input": "2023-11-12T12:46:56.140791Z",
     "iopub.status.busy": "2023-11-12T12:46:56.140688Z",
     "iopub.status.idle": "2023-11-12T12:46:56.142759Z",
     "shell.execute_reply": "2023-11-12T12:46:56.142480Z"
    },
    "slideshow": {
     "slide_type": "fragment"
    }
   },
   "outputs": [
    {
     "data": {
      "text/plain": [
       "[-1, 0, 1, 2, 3, 4, 5, 5, 6, 7, 8, 9, 10, -1]"
      ]
     },
     "execution_count": 124,
     "metadata": {},
     "output_type": "execute_result"
    }
   ],
   "source": [
    "repr(a).origin  # type: ignore"
   ]
  },
  {
   "cell_type": "markdown",
   "metadata": {
    "slideshow": {
     "slide_type": "fragment"
    }
   },
   "source": [
    "`str()` returns a `str` instance without origin or taint information:"
   ]
  },
  {
   "cell_type": "code",
   "execution_count": 125,
   "metadata": {
    "execution": {
     "iopub.execute_input": "2023-11-12T12:46:56.144320Z",
     "iopub.status.busy": "2023-11-12T12:46:56.144212Z",
     "iopub.status.idle": "2023-11-12T12:46:56.145886Z",
     "shell.execute_reply": "2023-11-12T12:46:56.145625Z"
    },
    "slideshow": {
     "slide_type": "fragment"
    }
   },
   "outputs": [],
   "source": [
    "assert type(str(othello)) == str"
   ]
  },
  {
   "cell_type": "markdown",
   "metadata": {
    "slideshow": {
     "slide_type": "fragment"
    }
   },
   "source": [
    "`repr()`, however, keeps the origin information for the original string:"
   ]
  },
  {
   "cell_type": "code",
   "execution_count": 126,
   "metadata": {
    "execution": {
     "iopub.execute_input": "2023-11-12T12:46:56.147445Z",
     "iopub.status.busy": "2023-11-12T12:46:56.147346Z",
     "iopub.status.idle": "2023-11-12T12:46:56.149274Z",
     "shell.execute_reply": "2023-11-12T12:46:56.149017Z"
    },
    "slideshow": {
     "slide_type": "fragment"
    }
   },
   "outputs": [
    {
     "data": {
      "text/plain": [
       "\"'hello'\""
      ]
     },
     "execution_count": 126,
     "metadata": {},
     "output_type": "execute_result"
    }
   ],
   "source": [
    "repr(othello)"
   ]
  },
  {
   "cell_type": "code",
   "execution_count": 127,
   "metadata": {
    "execution": {
     "iopub.execute_input": "2023-11-12T12:46:56.150917Z",
     "iopub.status.busy": "2023-11-12T12:46:56.150778Z",
     "iopub.status.idle": "2023-11-12T12:46:56.152981Z",
     "shell.execute_reply": "2023-11-12T12:46:56.152727Z"
    },
    "slideshow": {
     "slide_type": "subslide"
    }
   },
   "outputs": [
    {
     "data": {
      "text/plain": [
       "[-1, 0, 1, 2, 3, 4, -1]"
      ]
     },
     "execution_count": 127,
     "metadata": {},
     "output_type": "execute_result"
    }
   ],
   "source": [
    "repr(othello).origin  # type: ignore"
   ]
  },
  {
   "cell_type": "markdown",
   "metadata": {
    "slideshow": {
     "slide_type": "fragment"
    }
   },
   "source": [
    "Just as with taints, we can clear origins and check whether an origin is present:"
   ]
  },
  {
   "cell_type": "code",
   "execution_count": 128,
   "metadata": {
    "execution": {
     "iopub.execute_input": "2023-11-12T12:46:56.154536Z",
     "iopub.status.busy": "2023-11-12T12:46:56.154431Z",
     "iopub.status.idle": "2023-11-12T12:46:56.156290Z",
     "shell.execute_reply": "2023-11-12T12:46:56.156032Z"
    },
    "slideshow": {
     "slide_type": "fragment"
    }
   },
   "outputs": [],
   "source": [
    "class ostr(ostr):\n",
    "    def clear_taint(self):\n",
    "        self.taint = None\n",
    "        return self\n",
    "\n",
    "    def has_taint(self):\n",
    "        return self.taint is not None"
   ]
  },
  {
   "cell_type": "code",
   "execution_count": 129,
   "metadata": {
    "execution": {
     "iopub.execute_input": "2023-11-12T12:46:56.157742Z",
     "iopub.status.busy": "2023-11-12T12:46:56.157639Z",
     "iopub.status.idle": "2023-11-12T12:46:56.159622Z",
     "shell.execute_reply": "2023-11-12T12:46:56.159380Z"
    },
    "slideshow": {
     "slide_type": "subslide"
    }
   },
   "outputs": [],
   "source": [
    "class ostr(ostr):\n",
    "    def clear_origin(self):\n",
    "        self.origin = [self.UNKNOWN_ORIGIN] * len(self)\n",
    "        return self\n",
    "\n",
    "    def has_origin(self):\n",
    "        return any(origin != self.UNKNOWN_ORIGIN for origin in self.origin)"
   ]
  },
  {
   "cell_type": "code",
   "execution_count": 130,
   "metadata": {
    "execution": {
     "iopub.execute_input": "2023-11-12T12:46:56.161133Z",
     "iopub.status.busy": "2023-11-12T12:46:56.161024Z",
     "iopub.status.idle": "2023-11-12T12:46:56.162663Z",
     "shell.execute_reply": "2023-11-12T12:46:56.162403Z"
    },
    "slideshow": {
     "slide_type": "fragment"
    }
   },
   "outputs": [],
   "source": [
    "othello = ostr('Hello')\n",
    "assert othello.has_origin()"
   ]
  },
  {
   "cell_type": "code",
   "execution_count": 131,
   "metadata": {
    "execution": {
     "iopub.execute_input": "2023-11-12T12:46:56.164199Z",
     "iopub.status.busy": "2023-11-12T12:46:56.164099Z",
     "iopub.status.idle": "2023-11-12T12:46:56.165721Z",
     "shell.execute_reply": "2023-11-12T12:46:56.165439Z"
    },
    "slideshow": {
     "slide_type": "fragment"
    }
   },
   "outputs": [],
   "source": [
    "othello.clear_origin()\n",
    "assert not othello.has_origin()"
   ]
  },
  {
   "cell_type": "markdown",
   "metadata": {
    "slideshow": {
     "slide_type": "fragment"
    }
   },
   "source": [
    "In the remainder of this section, we re-implement various string methods such that they also keep track of origins.  If this is too tedious for you, jump right [to the next section](#Checking-Origins) which gives a number of usage examples."
   ]
  },
  {
   "cell_type": "markdown",
   "metadata": {
    "slideshow": {
     "slide_type": "subslide"
    }
   },
   "source": [
    "### Excursion: Implementing String Methods"
   ]
  },
  {
   "attachments": {},
   "cell_type": "markdown",
   "metadata": {
    "slideshow": {
     "slide_type": "subslide"
    },
    "toc-hr-collapsed": false
   },
   "source": [
    "#### Create\n",
    "\n",
    "We need to create new substrings that are wrapped in `ostr` objects. However, we also want to allow our subclasses to create their own instances. Hence, we again provide a `create()` method that produces a new `ostr` instance."
   ]
  },
  {
   "cell_type": "code",
   "execution_count": 132,
   "metadata": {
    "execution": {
     "iopub.execute_input": "2023-11-12T12:46:56.167423Z",
     "iopub.status.busy": "2023-11-12T12:46:56.167315Z",
     "iopub.status.idle": "2023-11-12T12:46:56.169404Z",
     "shell.execute_reply": "2023-11-12T12:46:56.169119Z"
    },
    "slideshow": {
     "slide_type": "fragment"
    }
   },
   "outputs": [],
   "source": [
    "class ostr(ostr):\n",
    "    def create(self, res, origin=None):\n",
    "        return ostr(res, taint=self.taint, origin=origin)"
   ]
  },
  {
   "cell_type": "code",
   "execution_count": 133,
   "metadata": {
    "execution": {
     "iopub.execute_input": "2023-11-12T12:46:56.170984Z",
     "iopub.status.busy": "2023-11-12T12:46:56.170869Z",
     "iopub.status.idle": "2023-11-12T12:46:56.172647Z",
     "shell.execute_reply": "2023-11-12T12:46:56.172382Z"
    },
    "slideshow": {
     "slide_type": "fragment"
    }
   },
   "outputs": [],
   "source": [
    "othello = ostr('hello', taint='HIGH')\n",
    "otworld = othello.create('world', origin=6)"
   ]
  },
  {
   "cell_type": "code",
   "execution_count": 134,
   "metadata": {
    "execution": {
     "iopub.execute_input": "2023-11-12T12:46:56.174217Z",
     "iopub.status.busy": "2023-11-12T12:46:56.174108Z",
     "iopub.status.idle": "2023-11-12T12:46:56.176101Z",
     "shell.execute_reply": "2023-11-12T12:46:56.175822Z"
    },
    "slideshow": {
     "slide_type": "fragment"
    }
   },
   "outputs": [
    {
     "data": {
      "text/plain": [
       "[6, 7, 8, 9, 10]"
      ]
     },
     "execution_count": 134,
     "metadata": {},
     "output_type": "execute_result"
    }
   ],
   "source": [
    "otworld.origin"
   ]
  },
  {
   "cell_type": "code",
   "execution_count": 135,
   "metadata": {
    "execution": {
     "iopub.execute_input": "2023-11-12T12:46:56.177580Z",
     "iopub.status.busy": "2023-11-12T12:46:56.177469Z",
     "iopub.status.idle": "2023-11-12T12:46:56.179587Z",
     "shell.execute_reply": "2023-11-12T12:46:56.179261Z"
    },
    "slideshow": {
     "slide_type": "fragment"
    }
   },
   "outputs": [
    {
     "data": {
      "text/plain": [
       "'HIGH'"
      ]
     },
     "execution_count": 135,
     "metadata": {},
     "output_type": "execute_result"
    }
   ],
   "source": [
    "otworld.taint"
   ]
  },
  {
   "cell_type": "code",
   "execution_count": 136,
   "metadata": {
    "execution": {
     "iopub.execute_input": "2023-11-12T12:46:56.181271Z",
     "iopub.status.busy": "2023-11-12T12:46:56.181161Z",
     "iopub.status.idle": "2023-11-12T12:46:56.182900Z",
     "shell.execute_reply": "2023-11-12T12:46:56.182632Z"
    },
    "slideshow": {
     "slide_type": "subslide"
    }
   },
   "outputs": [],
   "source": [
    "assert (othello.origin, otworld.origin) == (\n",
    "    [0, 1, 2, 3, 4], [6, 7, 8, 9, 10])"
   ]
  },
  {
   "cell_type": "markdown",
   "metadata": {
    "slideshow": {
     "slide_type": "subslide"
    }
   },
   "source": [
    "#### Index\n",
    "\n",
    "In Python, indexing is provided through `__getitem__()`. Indexing on positive integers is simple enough. However, it has two additional wrinkles. The first is that, if the index is negative, that many characters are counted from the end of the string which lies just after the last character. That is, the last character has a negative index `-1`"
   ]
  },
  {
   "cell_type": "code",
   "execution_count": 137,
   "metadata": {
    "execution": {
     "iopub.execute_input": "2023-11-12T12:46:56.184431Z",
     "iopub.status.busy": "2023-11-12T12:46:56.184318Z",
     "iopub.status.idle": "2023-11-12T12:46:56.186636Z",
     "shell.execute_reply": "2023-11-12T12:46:56.186365Z"
    },
    "slideshow": {
     "slide_type": "subslide"
    }
   },
   "outputs": [],
   "source": [
    "class ostr(ostr):\n",
    "    def __getitem__(self, key):\n",
    "        res = super().__getitem__(key)\n",
    "        if isinstance(key, int):\n",
    "            key = len(self) + key if key < 0 else key\n",
    "            return self.create(res, [self.origin[key]])\n",
    "        elif isinstance(key, slice):\n",
    "            return self.create(res, self.origin[key])\n",
    "        else:\n",
    "            assert False"
   ]
  },
  {
   "cell_type": "code",
   "execution_count": 138,
   "metadata": {
    "execution": {
     "iopub.execute_input": "2023-11-12T12:46:56.188216Z",
     "iopub.status.busy": "2023-11-12T12:46:56.188090Z",
     "iopub.status.idle": "2023-11-12T12:46:56.190439Z",
     "shell.execute_reply": "2023-11-12T12:46:56.190188Z"
    },
    "slideshow": {
     "slide_type": "fragment"
    }
   },
   "outputs": [
    {
     "data": {
      "text/plain": [
       "'HIGH'"
      ]
     },
     "execution_count": 138,
     "metadata": {},
     "output_type": "execute_result"
    }
   ],
   "source": [
    "ohello = ostr('hello', taint='HIGH')\n",
    "assert (ohello[0], ohello[-1]) == ('h', 'o')\n",
    "ohello[0].taint"
   ]
  },
  {
   "cell_type": "markdown",
   "metadata": {
    "slideshow": {
     "slide_type": "subslide"
    }
   },
   "source": [
    "The other wrinkle is that `__getitem__()` can accept a slice. We discuss this next."
   ]
  },
  {
   "cell_type": "markdown",
   "metadata": {
    "slideshow": {
     "slide_type": "subslide"
    }
   },
   "source": [
    "#### Slices\n",
    "\n",
    "The Python `slice` operator `[n:m]` relies on the object being an `iterator`. Hence, we define the `__iter__()` method, which returns a custom `iterator`."
   ]
  },
  {
   "cell_type": "code",
   "execution_count": 139,
   "metadata": {
    "execution": {
     "iopub.execute_input": "2023-11-12T12:46:56.192058Z",
     "iopub.status.busy": "2023-11-12T12:46:56.191943Z",
     "iopub.status.idle": "2023-11-12T12:46:56.193704Z",
     "shell.execute_reply": "2023-11-12T12:46:56.193444Z"
    },
    "slideshow": {
     "slide_type": "fragment"
    }
   },
   "outputs": [],
   "source": [
    "class ostr(ostr):\n",
    "    def __iter__(self):\n",
    "        return ostr_iterator(self)"
   ]
  },
  {
   "cell_type": "markdown",
   "metadata": {
    "slideshow": {
     "slide_type": "fragment"
    }
   },
   "source": [
    "The `__iter__()` method requires a supporting `iterator` object. The `iterator` is used to save the state of the current iteration, which it does by keeping a reference to the original `ostr`, and the current index of iteration `_str_idx`."
   ]
  },
  {
   "cell_type": "code",
   "execution_count": 140,
   "metadata": {
    "execution": {
     "iopub.execute_input": "2023-11-12T12:46:56.195274Z",
     "iopub.status.busy": "2023-11-12T12:46:56.195172Z",
     "iopub.status.idle": "2023-11-12T12:46:56.197314Z",
     "shell.execute_reply": "2023-11-12T12:46:56.197062Z"
    },
    "slideshow": {
     "slide_type": "subslide"
    }
   },
   "outputs": [],
   "source": [
    "class ostr_iterator():\n",
    "    def __init__(self, ostr):\n",
    "        self._ostr = ostr\n",
    "        self._str_idx = 0\n",
    "\n",
    "    def __next__(self):\n",
    "        if self._str_idx == len(self._ostr):\n",
    "            raise StopIteration\n",
    "        # calls ostr getitem should be ostr\n",
    "        c = self._ostr[self._str_idx]\n",
    "        assert isinstance(c, ostr)\n",
    "        self._str_idx += 1\n",
    "        return c"
   ]
  },
  {
   "cell_type": "markdown",
   "metadata": {
    "slideshow": {
     "slide_type": "fragment"
    }
   },
   "source": [
    "Bringing all these together:"
   ]
  },
  {
   "cell_type": "code",
   "execution_count": 141,
   "metadata": {
    "execution": {
     "iopub.execute_input": "2023-11-12T12:46:56.198823Z",
     "iopub.status.busy": "2023-11-12T12:46:56.198720Z",
     "iopub.status.idle": "2023-11-12T12:46:56.200974Z",
     "shell.execute_reply": "2023-11-12T12:46:56.200674Z"
    },
    "slideshow": {
     "slide_type": "subslide"
    }
   },
   "outputs": [
    {
     "data": {
      "text/plain": [
       "'hello'"
      ]
     },
     "execution_count": 141,
     "metadata": {},
     "output_type": "execute_result"
    }
   ],
   "source": [
    "thw = ostr('hello world', taint='HIGH')\n",
    "thw[0:5]"
   ]
  },
  {
   "cell_type": "code",
   "execution_count": 142,
   "metadata": {
    "execution": {
     "iopub.execute_input": "2023-11-12T12:46:56.202559Z",
     "iopub.status.busy": "2023-11-12T12:46:56.202449Z",
     "iopub.status.idle": "2023-11-12T12:46:56.204192Z",
     "shell.execute_reply": "2023-11-12T12:46:56.203947Z"
    },
    "slideshow": {
     "slide_type": "fragment"
    }
   },
   "outputs": [],
   "source": [
    "assert thw[0:5].has_taint()\n",
    "assert thw[0:5].has_origin()"
   ]
  },
  {
   "cell_type": "code",
   "execution_count": 143,
   "metadata": {
    "execution": {
     "iopub.execute_input": "2023-11-12T12:46:56.205801Z",
     "iopub.status.busy": "2023-11-12T12:46:56.205683Z",
     "iopub.status.idle": "2023-11-12T12:46:56.207739Z",
     "shell.execute_reply": "2023-11-12T12:46:56.207491Z"
    },
    "slideshow": {
     "slide_type": "fragment"
    }
   },
   "outputs": [
    {
     "data": {
      "text/plain": [
       "'HIGH'"
      ]
     },
     "execution_count": 143,
     "metadata": {},
     "output_type": "execute_result"
    }
   ],
   "source": [
    "thw[0:5].taint"
   ]
  },
  {
   "cell_type": "code",
   "execution_count": 144,
   "metadata": {
    "execution": {
     "iopub.execute_input": "2023-11-12T12:46:56.209277Z",
     "iopub.status.busy": "2023-11-12T12:46:56.209155Z",
     "iopub.status.idle": "2023-11-12T12:46:56.211259Z",
     "shell.execute_reply": "2023-11-12T12:46:56.210996Z"
    },
    "slideshow": {
     "slide_type": "fragment"
    }
   },
   "outputs": [
    {
     "data": {
      "text/plain": [
       "[0, 1, 2, 3, 4]"
      ]
     },
     "execution_count": 144,
     "metadata": {},
     "output_type": "execute_result"
    }
   ],
   "source": [
    "thw[0:5].origin"
   ]
  },
  {
   "cell_type": "markdown",
   "metadata": {
    "slideshow": {
     "slide_type": "subslide"
    }
   },
   "source": [
    "#### Splits"
   ]
  },
  {
   "cell_type": "code",
   "execution_count": 145,
   "metadata": {
    "execution": {
     "iopub.execute_input": "2023-11-12T12:46:56.212802Z",
     "iopub.status.busy": "2023-11-12T12:46:56.212690Z",
     "iopub.status.idle": "2023-11-12T12:46:56.214610Z",
     "shell.execute_reply": "2023-11-12T12:46:56.214386Z"
    },
    "slideshow": {
     "slide_type": "fragment"
    }
   },
   "outputs": [],
   "source": [
    "def make_split_wrapper(fun):\n",
    "    def proxy(self, *args, **kwargs):\n",
    "        lst = fun(self, *args, **kwargs)\n",
    "        return [self.create(elem) for elem in lst]\n",
    "    return proxy"
   ]
  },
  {
   "cell_type": "code",
   "execution_count": 146,
   "metadata": {
    "execution": {
     "iopub.execute_input": "2023-11-12T12:46:56.216187Z",
     "iopub.status.busy": "2023-11-12T12:46:56.216082Z",
     "iopub.status.idle": "2023-11-12T12:46:56.217829Z",
     "shell.execute_reply": "2023-11-12T12:46:56.217565Z"
    },
    "slideshow": {
     "slide_type": "fragment"
    }
   },
   "outputs": [],
   "source": [
    "for name in ['split', 'rsplit', 'splitlines']:\n",
    "    fun = getattr(str, name)\n",
    "    setattr(ostr, name, make_split_wrapper(fun))"
   ]
  },
  {
   "cell_type": "code",
   "execution_count": 147,
   "metadata": {
    "execution": {
     "iopub.execute_input": "2023-11-12T12:46:56.219285Z",
     "iopub.status.busy": "2023-11-12T12:46:56.219177Z",
     "iopub.status.idle": "2023-11-12T12:46:56.221256Z",
     "shell.execute_reply": "2023-11-12T12:46:56.221003Z"
    },
    "slideshow": {
     "slide_type": "fragment"
    }
   },
   "outputs": [
    {
     "data": {
      "text/plain": [
       "True"
      ]
     },
     "execution_count": 147,
     "metadata": {},
     "output_type": "execute_result"
    }
   ],
   "source": [
    "othello = ostr('hello world', taint='LOW')\n",
    "othello == 'hello world'"
   ]
  },
  {
   "cell_type": "code",
   "execution_count": 148,
   "metadata": {
    "execution": {
     "iopub.execute_input": "2023-11-12T12:46:56.222886Z",
     "iopub.status.busy": "2023-11-12T12:46:56.222774Z",
     "iopub.status.idle": "2023-11-12T12:46:56.224822Z",
     "shell.execute_reply": "2023-11-12T12:46:56.224566Z"
    },
    "slideshow": {
     "slide_type": "fragment"
    }
   },
   "outputs": [
    {
     "data": {
      "text/plain": [
       "'LOW'"
      ]
     },
     "execution_count": 148,
     "metadata": {},
     "output_type": "execute_result"
    }
   ],
   "source": [
    "othello.split()[0].taint  # type: ignore"
   ]
  },
  {
   "cell_type": "markdown",
   "metadata": {
    "slideshow": {
     "slide_type": "subslide"
    }
   },
   "source": [
    "(Exercise for the reader: handle _partitions_, i.e., splitting a string by substrings)"
   ]
  },
  {
   "cell_type": "markdown",
   "metadata": {
    "slideshow": {
     "slide_type": "subslide"
    }
   },
   "source": [
    "#### Concatenation\n",
    "\n",
    "If two origined strings are concatenated together, it may be desirable to transfer the origins from each to the corresponding portion of the resulting string. The concatenation of strings is accomplished by overriding `__add__()`."
   ]
  },
  {
   "cell_type": "code",
   "execution_count": 149,
   "metadata": {
    "execution": {
     "iopub.execute_input": "2023-11-12T12:46:56.226514Z",
     "iopub.status.busy": "2023-11-12T12:46:56.226291Z",
     "iopub.status.idle": "2023-11-12T12:46:56.228577Z",
     "shell.execute_reply": "2023-11-12T12:46:56.228280Z"
    },
    "slideshow": {
     "slide_type": "fragment"
    }
   },
   "outputs": [],
   "source": [
    "class ostr(ostr):\n",
    "    def __add__(self, other):\n",
    "        if isinstance(other, ostr):\n",
    "            return self.create(str.__add__(self, other),\n",
    "                               (self.origin + other.origin))\n",
    "        else:\n",
    "            return self.create(str.__add__(self, other),\n",
    "                               (self.origin + [self.UNKNOWN_ORIGIN for i in other]))"
   ]
  },
  {
   "cell_type": "raw",
   "metadata": {
    "slideshow": {
     "slide_type": "skip"
    }
   },
   "source": [
    "Testing concatenations between two `ostr` instances:"
   ]
  },
  {
   "cell_type": "code",
   "execution_count": 150,
   "metadata": {
    "execution": {
     "iopub.execute_input": "2023-11-12T12:46:56.230180Z",
     "iopub.status.busy": "2023-11-12T12:46:56.230058Z",
     "iopub.status.idle": "2023-11-12T12:46:56.232043Z",
     "shell.execute_reply": "2023-11-12T12:46:56.231787Z"
    },
    "slideshow": {
     "slide_type": "subslide"
    }
   },
   "outputs": [],
   "source": [
    "othello = ostr(\"hello\")\n",
    "otworld = ostr(\"world\", origin=6)\n",
    "othw = othello + otworld\n",
    "assert othw.origin == [0, 1, 2, 3, 4, 6, 7, 8, 9, 10]  # type: ignore"
   ]
  },
  {
   "cell_type": "markdown",
   "metadata": {
    "slideshow": {
     "slide_type": "fragment"
    }
   },
   "source": [
    "What if a `ostr` is concatenated with a `str`?"
   ]
  },
  {
   "cell_type": "code",
   "execution_count": 151,
   "metadata": {
    "execution": {
     "iopub.execute_input": "2023-11-12T12:46:56.233759Z",
     "iopub.status.busy": "2023-11-12T12:46:56.233601Z",
     "iopub.status.idle": "2023-11-12T12:46:56.235745Z",
     "shell.execute_reply": "2023-11-12T12:46:56.235467Z"
    },
    "slideshow": {
     "slide_type": "subslide"
    }
   },
   "outputs": [],
   "source": [
    "space = \"  \"\n",
    "th_w = othello + space + otworld\n",
    "assert th_w.origin == [\n",
    "    0,\n",
    "    1,\n",
    "    2,\n",
    "    3,\n",
    "    4,\n",
    "    ostr.UNKNOWN_ORIGIN,\n",
    "    ostr.UNKNOWN_ORIGIN,\n",
    "    6,\n",
    "    7,\n",
    "    8,\n",
    "    9,\n",
    "    10]"
   ]
  },
  {
   "cell_type": "markdown",
   "metadata": {
    "slideshow": {
     "slide_type": "subslide"
    }
   },
   "source": [
    "One wrinkle here is that when adding a `ostr` and a `str`, the user may place the `str` first, in which case, the `__add__()` method will be called on the `str` instance. Not on the `ostr` instance. However, Python provides a solution. If one defines `__radd__()` on the `ostr` instance, that method will be called rather than `str.__add__()`"
   ]
  },
  {
   "cell_type": "code",
   "execution_count": 152,
   "metadata": {
    "execution": {
     "iopub.execute_input": "2023-11-12T12:46:56.237281Z",
     "iopub.status.busy": "2023-11-12T12:46:56.237166Z",
     "iopub.status.idle": "2023-11-12T12:46:56.239200Z",
     "shell.execute_reply": "2023-11-12T12:46:56.238949Z"
    },
    "slideshow": {
     "slide_type": "fragment"
    }
   },
   "outputs": [],
   "source": [
    "class ostr(ostr):\n",
    "    def __radd__(self, other):\n",
    "        origin = other.origin if isinstance(other, ostr) else [\n",
    "            self.UNKNOWN_ORIGIN for i in other]\n",
    "        return self.create(str.__add__(other, self), (origin + self.origin))"
   ]
  },
  {
   "cell_type": "markdown",
   "metadata": {
    "slideshow": {
     "slide_type": "fragment"
    }
   },
   "source": [
    "We test it out:"
   ]
  },
  {
   "cell_type": "code",
   "execution_count": 153,
   "metadata": {
    "execution": {
     "iopub.execute_input": "2023-11-12T12:46:56.240740Z",
     "iopub.status.busy": "2023-11-12T12:46:56.240631Z",
     "iopub.status.idle": "2023-11-12T12:46:56.242494Z",
     "shell.execute_reply": "2023-11-12T12:46:56.242237Z"
    },
    "slideshow": {
     "slide_type": "fragment"
    }
   },
   "outputs": [],
   "source": [
    "shello = \"hello\"\n",
    "otworld = ostr(\"world\")\n",
    "thw = shello + otworld\n",
    "assert thw.origin == [ostr.UNKNOWN_ORIGIN] * len(shello) + [0, 1, 2, 3, 4]  # type: ignore"
   ]
  },
  {
   "attachments": {},
   "cell_type": "markdown",
   "metadata": {
    "slideshow": {
     "slide_type": "subslide"
    }
   },
   "source": [
    "These methods: `slicing` and `concatenation` is sufficient to implement other string methods that result in a string, and does not change the character underneath (i.e. no case change). Hence, we look at a helper method next."
   ]
  },
  {
   "attachments": {},
   "cell_type": "markdown",
   "metadata": {
    "slideshow": {
     "slide_type": "subslide"
    }
   },
   "source": [
    "#### Extract Origin String\n",
    "\n",
    "Given a specific input index, the method `x()` extracts the corresponding originated portion from a `ostr`. As a convenience it supports `slices` along with `ints`."
   ]
  },
  {
   "cell_type": "code",
   "execution_count": 154,
   "metadata": {
    "execution": {
     "iopub.execute_input": "2023-11-12T12:46:56.243999Z",
     "iopub.status.busy": "2023-11-12T12:46:56.243882Z",
     "iopub.status.idle": "2023-11-12T12:46:56.246734Z",
     "shell.execute_reply": "2023-11-12T12:46:56.246468Z"
    },
    "slideshow": {
     "slide_type": "subslide"
    }
   },
   "outputs": [],
   "source": [
    "class ostr(ostr):\n",
    "    class TaintException(Exception):\n",
    "        pass\n",
    "\n",
    "    def x(self, i=0):\n",
    "        \"\"\"Extract substring at index/slice `i`\"\"\"\n",
    "        if not self.origin:\n",
    "            raise origin.TaintException('Invalid request idx')\n",
    "        if isinstance(i, int):\n",
    "            return [self[p]\n",
    "                    for p in [k for k, j in enumerate(self.origin) if j == i]]\n",
    "        elif isinstance(i, slice):\n",
    "            r = range(i.start or 0, i.stop or len(self), i.step or 1)\n",
    "            return [self[p]\n",
    "                    for p in [k for k, j in enumerate(self.origin) if j in r]]"
   ]
  },
  {
   "cell_type": "code",
   "execution_count": 155,
   "metadata": {
    "execution": {
     "iopub.execute_input": "2023-11-12T12:46:56.248243Z",
     "iopub.status.busy": "2023-11-12T12:46:56.248140Z",
     "iopub.status.idle": "2023-11-12T12:46:56.249768Z",
     "shell.execute_reply": "2023-11-12T12:46:56.249528Z"
    },
    "slideshow": {
     "slide_type": "subslide"
    }
   },
   "outputs": [],
   "source": [
    "thw = ostr('hello world', origin=100)"
   ]
  },
  {
   "cell_type": "code",
   "execution_count": 156,
   "metadata": {
    "execution": {
     "iopub.execute_input": "2023-11-12T12:46:56.251298Z",
     "iopub.status.busy": "2023-11-12T12:46:56.251193Z",
     "iopub.status.idle": "2023-11-12T12:46:56.252823Z",
     "shell.execute_reply": "2023-11-12T12:46:56.252567Z"
    },
    "slideshow": {
     "slide_type": "fragment"
    }
   },
   "outputs": [],
   "source": [
    "assert thw.x(101) == ['e']"
   ]
  },
  {
   "cell_type": "code",
   "execution_count": 157,
   "metadata": {
    "execution": {
     "iopub.execute_input": "2023-11-12T12:46:56.254451Z",
     "iopub.status.busy": "2023-11-12T12:46:56.254341Z",
     "iopub.status.idle": "2023-11-12T12:46:56.256024Z",
     "shell.execute_reply": "2023-11-12T12:46:56.255762Z"
    },
    "slideshow": {
     "slide_type": "fragment"
    }
   },
   "outputs": [],
   "source": [
    "assert thw.x(slice(101, 105)) == ['e', 'l', 'l', 'o']"
   ]
  },
  {
   "cell_type": "markdown",
   "metadata": {
    "slideshow": {
     "slide_type": "subslide"
    }
   },
   "source": [
    "#### Replace"
   ]
  },
  {
   "cell_type": "markdown",
   "metadata": {
    "slideshow": {
     "slide_type": "fragment"
    }
   },
   "source": [
    "The `replace()` method replaces a portion of the string with another."
   ]
  },
  {
   "cell_type": "code",
   "execution_count": 158,
   "metadata": {
    "execution": {
     "iopub.execute_input": "2023-11-12T12:46:56.257557Z",
     "iopub.status.busy": "2023-11-12T12:46:56.257452Z",
     "iopub.status.idle": "2023-11-12T12:46:56.259995Z",
     "shell.execute_reply": "2023-11-12T12:46:56.259734Z"
    },
    "slideshow": {
     "slide_type": "subslide"
    }
   },
   "outputs": [],
   "source": [
    "class ostr(ostr):\n",
    "    def replace(self, a, b, n=None):\n",
    "        old_origin = self.origin\n",
    "        b_origin = b.origin if isinstance(\n",
    "            b, ostr) else [self.UNKNOWN_ORIGIN] * len(b)\n",
    "        mystr = str(self)\n",
    "        i = 0\n",
    "\n",
    "        while True:\n",
    "            if n and i >= n:\n",
    "                break\n",
    "            idx = mystr.find(a)\n",
    "            if idx == -1:\n",
    "                break\n",
    "            last = idx + len(a)\n",
    "            mystr = mystr.replace(a, b, 1)\n",
    "            partA, partB = old_origin[0:idx], old_origin[last:]\n",
    "            old_origin = partA + b_origin + partB\n",
    "            i += 1\n",
    "\n",
    "        return self.create(mystr, old_origin)"
   ]
  },
  {
   "cell_type": "code",
   "execution_count": 159,
   "metadata": {
    "execution": {
     "iopub.execute_input": "2023-11-12T12:46:56.261629Z",
     "iopub.status.busy": "2023-11-12T12:46:56.261509Z",
     "iopub.status.idle": "2023-11-12T12:46:56.263600Z",
     "shell.execute_reply": "2023-11-12T12:46:56.263319Z"
    },
    "slideshow": {
     "slide_type": "subslide"
    }
   },
   "outputs": [],
   "source": [
    "my_str = ostr(\"aa cde aa\")\n",
    "res = my_str.replace('aa', 'bb')\n",
    "assert res, res.origin == ('bb', 'cde', 'bb',\n",
    "                           [ostr.UNKNOWN_ORIGIN, ostr.UNKNOWN_ORIGIN,\n",
    "                            2, 3, 4, 5, 6,\n",
    "                            ostr.UNKNOWN_ORIGIN, ostr.UNKNOWN_ORIGIN])"
   ]
  },
  {
   "cell_type": "code",
   "execution_count": 160,
   "metadata": {
    "execution": {
     "iopub.execute_input": "2023-11-12T12:46:56.265245Z",
     "iopub.status.busy": "2023-11-12T12:46:56.265118Z",
     "iopub.status.idle": "2023-11-12T12:46:56.267167Z",
     "shell.execute_reply": "2023-11-12T12:46:56.266871Z"
    },
    "slideshow": {
     "slide_type": "fragment"
    }
   },
   "outputs": [],
   "source": [
    "my_str = ostr(\"aa cde aa\")\n",
    "res = my_str.replace('aa', ostr('bb', origin=100))\n",
    "assert (\n",
    "    res, res.origin) == (\n",
    "        ('bb cde bb'), [\n",
    "            100, 101, 2, 3, 4, 5, 6, 100, 101])"
   ]
  },
  {
   "cell_type": "markdown",
   "metadata": {
    "slideshow": {
     "slide_type": "subslide"
    }
   },
   "source": [
    "#### Split"
   ]
  },
  {
   "cell_type": "markdown",
   "metadata": {
    "slideshow": {
     "slide_type": "fragment"
    }
   },
   "source": [
    "We essentially have to re-implement split operations, and split by space is slightly different from other splits."
   ]
  },
  {
   "cell_type": "code",
   "execution_count": 161,
   "metadata": {
    "execution": {
     "iopub.execute_input": "2023-11-12T12:46:56.268891Z",
     "iopub.status.busy": "2023-11-12T12:46:56.268779Z",
     "iopub.status.idle": "2023-11-12T12:46:56.272349Z",
     "shell.execute_reply": "2023-11-12T12:46:56.272043Z"
    },
    "slideshow": {
     "slide_type": "subslide"
    }
   },
   "outputs": [],
   "source": [
    "class ostr(ostr):\n",
    "    def _split_helper(self, sep, splitted):\n",
    "        result_list = []\n",
    "        last_idx = 0\n",
    "        first_idx = 0\n",
    "        sep_len = len(sep)\n",
    "\n",
    "        for s in splitted:\n",
    "            last_idx = first_idx + len(s)\n",
    "            item = self[first_idx:last_idx]\n",
    "            result_list.append(item)\n",
    "            first_idx = last_idx + sep_len\n",
    "        return result_list\n",
    "\n",
    "    def _split_space(self, splitted):\n",
    "        result_list = []\n",
    "        last_idx = 0\n",
    "        first_idx = 0\n",
    "        sep_len = 0\n",
    "        for s in splitted:\n",
    "            last_idx = first_idx + len(s)\n",
    "            item = self[first_idx:last_idx]\n",
    "            result_list.append(item)\n",
    "            v = str(self[last_idx:])\n",
    "            sep_len = len(v) - len(v.lstrip(' '))\n",
    "            first_idx = last_idx + sep_len\n",
    "        return result_list\n",
    "\n",
    "    def rsplit(self, sep=None, maxsplit=-1):\n",
    "        splitted = super().rsplit(sep, maxsplit)\n",
    "        if not sep:\n",
    "            return self._split_space(splitted)\n",
    "        return self._split_helper(sep, splitted)\n",
    "\n",
    "    def split(self, sep=None, maxsplit=-1):\n",
    "        splitted = super().split(sep, maxsplit)\n",
    "        if not sep:\n",
    "            return self._split_space(splitted)\n",
    "        return self._split_helper(sep, splitted)"
   ]
  },
  {
   "cell_type": "code",
   "execution_count": 162,
   "metadata": {
    "execution": {
     "iopub.execute_input": "2023-11-12T12:46:56.273926Z",
     "iopub.status.busy": "2023-11-12T12:46:56.273829Z",
     "iopub.status.idle": "2023-11-12T12:46:56.276614Z",
     "shell.execute_reply": "2023-11-12T12:46:56.276350Z"
    },
    "slideshow": {
     "slide_type": "subslide"
    }
   },
   "outputs": [],
   "source": [
    "my_str = ostr('ab cdef ghij kl')\n",
    "ab, cdef, ghij, kl = my_str.rsplit(sep=' ')\n",
    "assert (ab.origin, cdef.origin, ghij.origin,\n",
    "        kl.origin) == ([0, 1], [3, 4, 5, 6], [8, 9, 10, 11], [13, 14])\n",
    "\n",
    "my_str = ostr('ab cdef ghij kl', origin=list(range(0, 15)))\n",
    "ab, cdef, ghij, kl = my_str.rsplit(sep=' ')\n",
    "assert(ab.origin, cdef.origin, kl.origin) == ([0, 1], [3, 4, 5, 6], [13, 14])"
   ]
  },
  {
   "cell_type": "code",
   "execution_count": 163,
   "metadata": {
    "execution": {
     "iopub.execute_input": "2023-11-12T12:46:56.278246Z",
     "iopub.status.busy": "2023-11-12T12:46:56.278153Z",
     "iopub.status.idle": "2023-11-12T12:46:56.280931Z",
     "shell.execute_reply": "2023-11-12T12:46:56.280664Z"
    },
    "slideshow": {
     "slide_type": "subslide"
    }
   },
   "outputs": [],
   "source": [
    "my_str = ostr('ab   cdef ghij    kl', origin=100, taint='HIGH')\n",
    "ab, cdef, ghij, kl = my_str.rsplit()\n",
    "assert (ab.origin, cdef.origin, ghij.origin,\n",
    "        kl.origin) == ([100, 101], [105, 106, 107, 108], [110, 111, 112, 113],\n",
    "                       [118, 119])\n",
    "\n",
    "my_str = ostr('ab   cdef ghij    kl', origin=list(range(0, 20)), taint='HIGH')\n",
    "ab, cdef, ghij, kl = my_str.split()\n",
    "assert (ab.origin, cdef.origin, kl.origin) == ([0, 1], [5, 6, 7, 8], [18, 19])\n",
    "assert ab.taint == 'HIGH'"
   ]
  },
  {
   "cell_type": "markdown",
   "metadata": {
    "slideshow": {
     "slide_type": "subslide"
    }
   },
   "source": [
    "#### Strip"
   ]
  },
  {
   "cell_type": "code",
   "execution_count": 164,
   "metadata": {
    "execution": {
     "iopub.execute_input": "2023-11-12T12:46:56.282554Z",
     "iopub.status.busy": "2023-11-12T12:46:56.282442Z",
     "iopub.status.idle": "2023-11-12T12:46:56.284740Z",
     "shell.execute_reply": "2023-11-12T12:46:56.284475Z"
    },
    "slideshow": {
     "slide_type": "fragment"
    }
   },
   "outputs": [],
   "source": [
    "class ostr(ostr):\n",
    "    def strip(self, cl=None):\n",
    "        return self.lstrip(cl).rstrip(cl)\n",
    "\n",
    "    def lstrip(self, cl=None):\n",
    "        res = super().lstrip(cl)\n",
    "        i = self.find(res)\n",
    "        return self[i:]\n",
    "\n",
    "    def rstrip(self, cl=None):\n",
    "        res = super().rstrip(cl)\n",
    "        return self[0:len(res)]"
   ]
  },
  {
   "cell_type": "code",
   "execution_count": 165,
   "metadata": {
    "execution": {
     "iopub.execute_input": "2023-11-12T12:46:56.286228Z",
     "iopub.status.busy": "2023-11-12T12:46:56.286120Z",
     "iopub.status.idle": "2023-11-12T12:46:56.287875Z",
     "shell.execute_reply": "2023-11-12T12:46:56.287618Z"
    },
    "slideshow": {
     "slide_type": "subslide"
    }
   },
   "outputs": [],
   "source": [
    "my_str1 = ostr(\"  abc  \")\n",
    "v = my_str1.strip()\n",
    "assert v, v.origin == ('abc', [2, 3, 4])"
   ]
  },
  {
   "cell_type": "code",
   "execution_count": 166,
   "metadata": {
    "execution": {
     "iopub.execute_input": "2023-11-12T12:46:56.289425Z",
     "iopub.status.busy": "2023-11-12T12:46:56.289282Z",
     "iopub.status.idle": "2023-11-12T12:46:56.291131Z",
     "shell.execute_reply": "2023-11-12T12:46:56.290886Z"
    },
    "slideshow": {
     "slide_type": "fragment"
    }
   },
   "outputs": [],
   "source": [
    "my_str1 = ostr(\"  abc  \")\n",
    "v = my_str1.lstrip()\n",
    "assert (v, v.origin) == ('abc  ', [2, 3, 4, 5, 6])"
   ]
  },
  {
   "cell_type": "code",
   "execution_count": 167,
   "metadata": {
    "execution": {
     "iopub.execute_input": "2023-11-12T12:46:56.292575Z",
     "iopub.status.busy": "2023-11-12T12:46:56.292477Z",
     "iopub.status.idle": "2023-11-12T12:46:56.294301Z",
     "shell.execute_reply": "2023-11-12T12:46:56.294029Z"
    },
    "slideshow": {
     "slide_type": "fragment"
    }
   },
   "outputs": [],
   "source": [
    "my_str1 = ostr(\"  abc  \")\n",
    "v = my_str1.rstrip()\n",
    "assert (v, v.origin) == ('  abc', [0, 1, 2, 3, 4])"
   ]
  },
  {
   "cell_type": "markdown",
   "metadata": {
    "slideshow": {
     "slide_type": "subslide"
    }
   },
   "source": [
    "#### Expand Tabs"
   ]
  },
  {
   "cell_type": "code",
   "execution_count": 168,
   "metadata": {
    "execution": {
     "iopub.execute_input": "2023-11-12T12:46:56.295823Z",
     "iopub.status.busy": "2023-11-12T12:46:56.295717Z",
     "iopub.status.idle": "2023-11-12T12:46:56.298080Z",
     "shell.execute_reply": "2023-11-12T12:46:56.297841Z"
    },
    "slideshow": {
     "slide_type": "fragment"
    }
   },
   "outputs": [],
   "source": [
    "class ostr(ostr):\n",
    "    def expandtabs(self, n=8):\n",
    "        parts = self.split('\\t')\n",
    "        res = super().expandtabs(n)\n",
    "        all_parts = []\n",
    "        for i, p in enumerate(parts):\n",
    "            all_parts.extend(p.origin)\n",
    "            if i < len(parts) - 1:\n",
    "                l = len(all_parts) % n\n",
    "                all_parts.extend([p.origin[-1]] * l)\n",
    "        return self.create(res, all_parts)"
   ]
  },
  {
   "cell_type": "code",
   "execution_count": 169,
   "metadata": {
    "execution": {
     "iopub.execute_input": "2023-11-12T12:46:56.299573Z",
     "iopub.status.busy": "2023-11-12T12:46:56.299474Z",
     "iopub.status.idle": "2023-11-12T12:46:56.301218Z",
     "shell.execute_reply": "2023-11-12T12:46:56.300940Z"
    },
    "slideshow": {
     "slide_type": "subslide"
    }
   },
   "outputs": [],
   "source": [
    "my_s = str(\"ab\\tcd\")\n",
    "my_ostr = ostr(\"ab\\tcd\")\n",
    "v1 = my_s.expandtabs(4)\n",
    "v2 = my_ostr.expandtabs(4)"
   ]
  },
  {
   "cell_type": "code",
   "execution_count": 170,
   "metadata": {
    "execution": {
     "iopub.execute_input": "2023-11-12T12:46:56.302753Z",
     "iopub.status.busy": "2023-11-12T12:46:56.302631Z",
     "iopub.status.idle": "2023-11-12T12:46:56.304499Z",
     "shell.execute_reply": "2023-11-12T12:46:56.304251Z"
    },
    "slideshow": {
     "slide_type": "fragment"
    }
   },
   "outputs": [],
   "source": [
    "assert str(v1) == str(v2)\n",
    "assert (len(v1), repr(v2), v2.origin) == (6, \"'ab  cd'\", [0, 1, 1, 1, 3, 4])"
   ]
  },
  {
   "cell_type": "code",
   "execution_count": 171,
   "metadata": {
    "execution": {
     "iopub.execute_input": "2023-11-12T12:46:56.305990Z",
     "iopub.status.busy": "2023-11-12T12:46:56.305884Z",
     "iopub.status.idle": "2023-11-12T12:46:56.308488Z",
     "shell.execute_reply": "2023-11-12T12:46:56.308252Z"
    },
    "slideshow": {
     "slide_type": "subslide"
    }
   },
   "outputs": [],
   "source": [
    "class ostr(ostr):\n",
    "    def join(self, iterable):\n",
    "        mystr = ''\n",
    "        myorigin = []\n",
    "        sep_origin = self.origin\n",
    "        lst = list(iterable)\n",
    "        for i, s in enumerate(lst):\n",
    "            sorigin = s.origin if isinstance(s, ostr) else [\n",
    "                self.UNKNOWN_ORIGIN] * len(s)\n",
    "            myorigin.extend(sorigin)\n",
    "            mystr += str(s)\n",
    "            if i < len(lst) - 1:\n",
    "                myorigin.extend(sep_origin)\n",
    "                mystr += str(self)\n",
    "        res = super().join(iterable)\n",
    "        assert len(res) == len(mystr)\n",
    "        return self.create(res, myorigin)"
   ]
  },
  {
   "cell_type": "code",
   "execution_count": 172,
   "metadata": {
    "execution": {
     "iopub.execute_input": "2023-11-12T12:46:56.310057Z",
     "iopub.status.busy": "2023-11-12T12:46:56.309945Z",
     "iopub.status.idle": "2023-11-12T12:46:56.311841Z",
     "shell.execute_reply": "2023-11-12T12:46:56.311592Z"
    },
    "slideshow": {
     "slide_type": "subslide"
    }
   },
   "outputs": [],
   "source": [
    "my_str = ostr(\"ab cd\", origin=100)\n",
    "(v1, v2), v3 = my_str.split(), 'ef'\n",
    "assert (v1.origin, v2.origin) == ([100, 101], [103, 104])  # type: ignore"
   ]
  },
  {
   "cell_type": "code",
   "execution_count": 173,
   "metadata": {
    "execution": {
     "iopub.execute_input": "2023-11-12T12:46:56.313356Z",
     "iopub.status.busy": "2023-11-12T12:46:56.313253Z",
     "iopub.status.idle": "2023-11-12T12:46:56.314994Z",
     "shell.execute_reply": "2023-11-12T12:46:56.314756Z"
    },
    "slideshow": {
     "slide_type": "fragment"
    }
   },
   "outputs": [],
   "source": [
    "v4 = ostr('').join([v2, v3, v1])\n",
    "assert (\n",
    "    v4, v4.origin) == (\n",
    "        'cdefab', [\n",
    "            103, 104, ostr.UNKNOWN_ORIGIN, ostr.UNKNOWN_ORIGIN, 100, 101])"
   ]
  },
  {
   "cell_type": "code",
   "execution_count": 174,
   "metadata": {
    "execution": {
     "iopub.execute_input": "2023-11-12T12:46:56.316528Z",
     "iopub.status.busy": "2023-11-12T12:46:56.316419Z",
     "iopub.status.idle": "2023-11-12T12:46:56.318324Z",
     "shell.execute_reply": "2023-11-12T12:46:56.318062Z"
    },
    "slideshow": {
     "slide_type": "fragment"
    }
   },
   "outputs": [],
   "source": [
    "my_str = ostr(\"ab cd\", origin=100)\n",
    "(v1, v2), v3 = my_str.split(), 'ef'\n",
    "assert (v1.origin, v2.origin) == ([100, 101], [103, 104])  # type: ignore"
   ]
  },
  {
   "cell_type": "code",
   "execution_count": 175,
   "metadata": {
    "execution": {
     "iopub.execute_input": "2023-11-12T12:46:56.319871Z",
     "iopub.status.busy": "2023-11-12T12:46:56.319767Z",
     "iopub.status.idle": "2023-11-12T12:46:56.321639Z",
     "shell.execute_reply": "2023-11-12T12:46:56.321393Z"
    },
    "slideshow": {
     "slide_type": "fragment"
    }
   },
   "outputs": [],
   "source": [
    "v4 = ostr(',').join([v2, v3, v1])\n",
    "assert (v4, v4.origin) == ('cd,ef,ab',\n",
    "                           [103, 104, 0, ostr.UNKNOWN_ORIGIN, ostr.UNKNOWN_ORIGIN, 0, 100, 101])  # type: ignore"
   ]
  },
  {
   "cell_type": "markdown",
   "metadata": {
    "slideshow": {
     "slide_type": "subslide"
    }
   },
   "source": [
    "#### Partitions"
   ]
  },
  {
   "cell_type": "code",
   "execution_count": 176,
   "metadata": {
    "execution": {
     "iopub.execute_input": "2023-11-12T12:46:56.323087Z",
     "iopub.status.busy": "2023-11-12T12:46:56.322988Z",
     "iopub.status.idle": "2023-11-12T12:46:56.325798Z",
     "shell.execute_reply": "2023-11-12T12:46:56.325533Z"
    },
    "slideshow": {
     "slide_type": "fragment"
    }
   },
   "outputs": [],
   "source": [
    "class ostr(ostr):\n",
    "    def partition(self, sep):\n",
    "        partA, sep, partB = super().partition(sep)\n",
    "        return (self.create(partA, self.origin[0:len(partA)]),\n",
    "                self.create(sep,\n",
    "                            self.origin[len(partA):len(partA) + len(sep)]),\n",
    "                self.create(partB, self.origin[len(partA) + len(sep):]))\n",
    "\n",
    "    def rpartition(self, sep):\n",
    "        partA, sep, partB = super().rpartition(sep)\n",
    "        return (self.create(partA, self.origin[0:len(partA)]),\n",
    "                self.create(sep,\n",
    "                            self.origin[len(partA):len(partA) + len(sep)]),\n",
    "                self.create(partB, self.origin[len(partA) + len(sep):]))"
   ]
  },
  {
   "cell_type": "markdown",
   "metadata": {
    "slideshow": {
     "slide_type": "subslide"
    }
   },
   "source": [
    "#### Justify"
   ]
  },
  {
   "cell_type": "code",
   "execution_count": 177,
   "metadata": {
    "execution": {
     "iopub.execute_input": "2023-11-12T12:46:56.327553Z",
     "iopub.status.busy": "2023-11-12T12:46:56.327299Z",
     "iopub.status.idle": "2023-11-12T12:46:56.329615Z",
     "shell.execute_reply": "2023-11-12T12:46:56.329362Z"
    },
    "slideshow": {
     "slide_type": "fragment"
    }
   },
   "outputs": [],
   "source": [
    "class ostr(ostr):\n",
    "    def ljust(self, width, fillchar=' '):\n",
    "        res = super().ljust(width, fillchar)\n",
    "        initial = len(res) - len(self)\n",
    "        if isinstance(fillchar, tstr):\n",
    "            t = fillchar.x()\n",
    "        else:\n",
    "            t = self.UNKNOWN_ORIGIN\n",
    "        return self.create(res, [t] * initial + self.origin)"
   ]
  },
  {
   "cell_type": "code",
   "execution_count": 178,
   "metadata": {
    "execution": {
     "iopub.execute_input": "2023-11-12T12:46:56.331101Z",
     "iopub.status.busy": "2023-11-12T12:46:56.330992Z",
     "iopub.status.idle": "2023-11-12T12:46:56.333161Z",
     "shell.execute_reply": "2023-11-12T12:46:56.332908Z"
    },
    "slideshow": {
     "slide_type": "subslide"
    }
   },
   "outputs": [],
   "source": [
    "class ostr(ostr):\n",
    "    def rjust(self, width, fillchar=' '):\n",
    "        res = super().rjust(width, fillchar)\n",
    "        final = len(res) - len(self)\n",
    "        if isinstance(fillchar, tstr):\n",
    "            t = fillchar.x()\n",
    "        else:\n",
    "            t = self.UNKNOWN_ORIGIN\n",
    "        return self.create(res, self.origin + [t] * final)"
   ]
  },
  {
   "cell_type": "markdown",
   "metadata": {
    "slideshow": {
     "slide_type": "subslide"
    }
   },
   "source": [
    "#### mod"
   ]
  },
  {
   "cell_type": "code",
   "execution_count": 179,
   "metadata": {
    "execution": {
     "iopub.execute_input": "2023-11-12T12:46:56.334754Z",
     "iopub.status.busy": "2023-11-12T12:46:56.334644Z",
     "iopub.status.idle": "2023-11-12T12:46:56.337250Z",
     "shell.execute_reply": "2023-11-12T12:46:56.336982Z"
    },
    "slideshow": {
     "slide_type": "fragment"
    }
   },
   "outputs": [],
   "source": [
    "class ostr(ostr):\n",
    "    def __mod__(self, s):\n",
    "        # nothing else implemented for the time being\n",
    "        assert isinstance(s, str)\n",
    "        s_origin = s.origin if isinstance(\n",
    "            s, ostr) else [self.UNKNOWN_ORIGIN] * len(s)\n",
    "        i = self.find('%s')\n",
    "        assert i >= 0\n",
    "        res = super().__mod__(s)\n",
    "        r_origin = self.origin[:]\n",
    "        r_origin[i:i + 2] = s_origin\n",
    "        return self.create(res, origin=r_origin)"
   ]
  },
  {
   "cell_type": "code",
   "execution_count": 180,
   "metadata": {
    "execution": {
     "iopub.execute_input": "2023-11-12T12:46:56.338735Z",
     "iopub.status.busy": "2023-11-12T12:46:56.338625Z",
     "iopub.status.idle": "2023-11-12T12:46:56.340883Z",
     "shell.execute_reply": "2023-11-12T12:46:56.340616Z"
    },
    "slideshow": {
     "slide_type": "subslide"
    }
   },
   "outputs": [],
   "source": [
    "class ostr(ostr):\n",
    "    def __rmod__(self, s):\n",
    "        # nothing else implemented for the time being\n",
    "        assert isinstance(s, str)\n",
    "        r_origin = s.origin if isinstance(\n",
    "            s, ostr) else [self.UNKNOWN_ORIGIN] * len(s)\n",
    "        i = s.find('%s')\n",
    "        assert i >= 0\n",
    "        res = super().__rmod__(s)\n",
    "        s_origin = self.origin[:]\n",
    "        r_origin[i:i + 2] = s_origin\n",
    "        return self.create(res, origin=r_origin)"
   ]
  },
  {
   "cell_type": "code",
   "execution_count": 181,
   "metadata": {
    "execution": {
     "iopub.execute_input": "2023-11-12T12:46:56.342405Z",
     "iopub.status.busy": "2023-11-12T12:46:56.342297Z",
     "iopub.status.idle": "2023-11-12T12:46:56.344521Z",
     "shell.execute_reply": "2023-11-12T12:46:56.344278Z"
    },
    "slideshow": {
     "slide_type": "fragment"
    }
   },
   "outputs": [
    {
     "data": {
      "text/plain": [
       "'hello %s world'"
      ]
     },
     "execution_count": 181,
     "metadata": {},
     "output_type": "execute_result"
    }
   ],
   "source": [
    "a = ostr('hello %s world', origin=100)\n",
    "a"
   ]
  },
  {
   "cell_type": "code",
   "execution_count": 182,
   "metadata": {
    "execution": {
     "iopub.execute_input": "2023-11-12T12:46:56.346110Z",
     "iopub.status.busy": "2023-11-12T12:46:56.345999Z",
     "iopub.status.idle": "2023-11-12T12:46:56.348254Z",
     "shell.execute_reply": "2023-11-12T12:46:56.348000Z"
    },
    "slideshow": {
     "slide_type": "subslide"
    }
   },
   "outputs": [
    {
     "data": {
      "text/plain": [
       "[100, 101, 102, 103, 104, 105, -1, -1, -1, -1, 108, 109, 110, 111, 112, 113]"
      ]
     },
     "execution_count": 182,
     "metadata": {},
     "output_type": "execute_result"
    }
   ],
   "source": [
    "(a % 'good').origin"
   ]
  },
  {
   "cell_type": "code",
   "execution_count": 183,
   "metadata": {
    "execution": {
     "iopub.execute_input": "2023-11-12T12:46:56.349802Z",
     "iopub.status.busy": "2023-11-12T12:46:56.349696Z",
     "iopub.status.idle": "2023-11-12T12:46:56.352058Z",
     "shell.execute_reply": "2023-11-12T12:46:56.351792Z"
    },
    "slideshow": {
     "slide_type": "fragment"
    }
   },
   "outputs": [
    {
     "data": {
      "text/plain": [
       "[-1, -1, -1, -1, -1, -1, 10, 11, 12, -1, -1, -1, -1, -1, -1]"
      ]
     },
     "execution_count": 183,
     "metadata": {},
     "output_type": "execute_result"
    }
   ],
   "source": [
    "b = 'hello %s world'\n",
    "c = ostr('bad', origin=10)\n",
    "(b % c).origin"
   ]
  },
  {
   "cell_type": "markdown",
   "metadata": {
    "slideshow": {
     "slide_type": "subslide"
    }
   },
   "source": [
    "#### String methods that do not change origin"
   ]
  },
  {
   "cell_type": "code",
   "execution_count": 184,
   "metadata": {
    "execution": {
     "iopub.execute_input": "2023-11-12T12:46:56.353674Z",
     "iopub.status.busy": "2023-11-12T12:46:56.353548Z",
     "iopub.status.idle": "2023-11-12T12:46:56.356115Z",
     "shell.execute_reply": "2023-11-12T12:46:56.355841Z"
    },
    "slideshow": {
     "slide_type": "subslide"
    }
   },
   "outputs": [],
   "source": [
    "class ostr(ostr):\n",
    "    def swapcase(self):\n",
    "        return self.create(str(self).swapcase(), self.origin)\n",
    "\n",
    "    def upper(self):\n",
    "        return self.create(str(self).upper(), self.origin)\n",
    "\n",
    "    def lower(self):\n",
    "        return self.create(str(self).lower(), self.origin)\n",
    "\n",
    "    def capitalize(self):\n",
    "        return self.create(str(self).capitalize(), self.origin)\n",
    "\n",
    "    def title(self):\n",
    "        return self.create(str(self).title(), self.origin)"
   ]
  },
  {
   "cell_type": "code",
   "execution_count": 185,
   "metadata": {
    "execution": {
     "iopub.execute_input": "2023-11-12T12:46:56.357662Z",
     "iopub.status.busy": "2023-11-12T12:46:56.357550Z",
     "iopub.status.idle": "2023-11-12T12:46:56.359647Z",
     "shell.execute_reply": "2023-11-12T12:46:56.359371Z"
    },
    "slideshow": {
     "slide_type": "subslide"
    }
   },
   "outputs": [
    {
     "data": {
      "text/plain": [
       "('AA', [100, 101])"
      ]
     },
     "execution_count": 185,
     "metadata": {},
     "output_type": "execute_result"
    }
   ],
   "source": [
    "a = ostr('aa', origin=100).upper()\n",
    "a, a.origin"
   ]
  },
  {
   "cell_type": "markdown",
   "metadata": {
    "slideshow": {
     "slide_type": "subslide"
    }
   },
   "source": [
    "#### General wrappers"
   ]
  },
  {
   "cell_type": "markdown",
   "metadata": {
    "slideshow": {
     "slide_type": "fragment"
    }
   },
   "source": [
    "These are not strictly needed for operation, but can be useful for tracing."
   ]
  },
  {
   "cell_type": "code",
   "execution_count": 186,
   "metadata": {
    "execution": {
     "iopub.execute_input": "2023-11-12T12:46:56.361166Z",
     "iopub.status.busy": "2023-11-12T12:46:56.361056Z",
     "iopub.status.idle": "2023-11-12T12:46:56.362980Z",
     "shell.execute_reply": "2023-11-12T12:46:56.362710Z"
    },
    "slideshow": {
     "slide_type": "fragment"
    }
   },
   "outputs": [],
   "source": [
    "def make_basic_str_wrapper(fun):  # type: ignore\n",
    "    def proxy(*args, **kwargs):\n",
    "        res = fun(*args, **kwargs)\n",
    "        return res\n",
    "    return proxy"
   ]
  },
  {
   "cell_type": "code",
   "execution_count": 187,
   "metadata": {
    "execution": {
     "iopub.execute_input": "2023-11-12T12:46:56.364638Z",
     "iopub.status.busy": "2023-11-12T12:46:56.364519Z",
     "iopub.status.idle": "2023-11-12T12:46:56.366240Z",
     "shell.execute_reply": "2023-11-12T12:46:56.365922Z"
    },
    "slideshow": {
     "slide_type": "skip"
    }
   },
   "outputs": [],
   "source": [
    "import inspect"
   ]
  },
  {
   "cell_type": "code",
   "execution_count": 188,
   "metadata": {
    "execution": {
     "iopub.execute_input": "2023-11-12T12:46:56.367885Z",
     "iopub.status.busy": "2023-11-12T12:46:56.367763Z",
     "iopub.status.idle": "2023-11-12T12:46:56.369320Z",
     "shell.execute_reply": "2023-11-12T12:46:56.369094Z"
    },
    "slideshow": {
     "slide_type": "skip"
    }
   },
   "outputs": [],
   "source": [
    "import types"
   ]
  },
  {
   "cell_type": "code",
   "execution_count": 189,
   "metadata": {
    "execution": {
     "iopub.execute_input": "2023-11-12T12:46:56.370701Z",
     "iopub.status.busy": "2023-11-12T12:46:56.370620Z",
     "iopub.status.idle": "2023-11-12T12:46:56.373042Z",
     "shell.execute_reply": "2023-11-12T12:46:56.372754Z"
    },
    "slideshow": {
     "slide_type": "subslide"
    }
   },
   "outputs": [],
   "source": [
    "def informationflow_init_2():\n",
    "    ostr_members = [name for name, fn in inspect.getmembers(ostr, callable)\n",
    "                    if isinstance(fn, types.FunctionType) and fn.__qualname__.startswith('ostr')]\n",
    "\n",
    "    for name, fn in inspect.getmembers(str, callable):\n",
    "        if name not in set(['__class__', '__new__', '__str__', '__init__',\n",
    "                            '__repr__', '__getattribute__']) | set(ostr_members):\n",
    "            setattr(ostr, name, make_basic_str_wrapper(fn))"
   ]
  },
  {
   "cell_type": "code",
   "execution_count": 190,
   "metadata": {
    "execution": {
     "iopub.execute_input": "2023-11-12T12:46:56.374686Z",
     "iopub.status.busy": "2023-11-12T12:46:56.374589Z",
     "iopub.status.idle": "2023-11-12T12:46:56.376600Z",
     "shell.execute_reply": "2023-11-12T12:46:56.376323Z"
    },
    "slideshow": {
     "slide_type": "fragment"
    }
   },
   "outputs": [],
   "source": [
    "informationflow_init_2()"
   ]
  },
  {
   "cell_type": "code",
   "execution_count": 191,
   "metadata": {
    "execution": {
     "iopub.execute_input": "2023-11-12T12:46:56.378214Z",
     "iopub.status.busy": "2023-11-12T12:46:56.378099Z",
     "iopub.status.idle": "2023-11-12T12:46:56.379693Z",
     "shell.execute_reply": "2023-11-12T12:46:56.379452Z"
    },
    "slideshow": {
     "slide_type": "fragment"
    }
   },
   "outputs": [],
   "source": [
    "INITIALIZER_LIST.append(informationflow_init_2)"
   ]
  },
  {
   "cell_type": "markdown",
   "metadata": {
    "slideshow": {
     "slide_type": "subslide"
    }
   },
   "source": [
    "#### Methods yet to be translated"
   ]
  },
  {
   "cell_type": "markdown",
   "metadata": {
    "slideshow": {
     "slide_type": "fragment"
    }
   },
   "source": [
    "These methods generate strings from other strings. However, we do not have the right implementations for any of these. Hence these are marked as dangerous until we can generate the right translations."
   ]
  },
  {
   "cell_type": "code",
   "execution_count": 192,
   "metadata": {
    "code_folding": [],
    "execution": {
     "iopub.execute_input": "2023-11-12T12:46:56.381300Z",
     "iopub.status.busy": "2023-11-12T12:46:56.381177Z",
     "iopub.status.idle": "2023-11-12T12:46:56.383138Z",
     "shell.execute_reply": "2023-11-12T12:46:56.382865Z"
    },
    "slideshow": {
     "slide_type": "fragment"
    }
   },
   "outputs": [],
   "source": [
    "def make_str_abort_wrapper(fun):\n",
    "    def proxy(*args, **kwargs):\n",
    "        raise ostr.TaintException(\n",
    "            '%s Not implemented in `ostr`' %\n",
    "            fun.__name__)\n",
    "    return proxy"
   ]
  },
  {
   "cell_type": "code",
   "execution_count": 193,
   "metadata": {
    "code_folding": [],
    "execution": {
     "iopub.execute_input": "2023-11-12T12:46:56.384666Z",
     "iopub.status.busy": "2023-11-12T12:46:56.384557Z",
     "iopub.status.idle": "2023-11-12T12:46:56.386552Z",
     "shell.execute_reply": "2023-11-12T12:46:56.386318Z"
    },
    "slideshow": {
     "slide_type": "subslide"
    }
   },
   "outputs": [],
   "source": [
    "def informationflow_init_3():\n",
    "    for name, fn in inspect.getmembers(str, callable):\n",
    "        # Omitted 'splitlines' as this is needed for formatting output in\n",
    "        # IPython/Jupyter\n",
    "        if name in ['__format__', 'format_map', 'format',\n",
    "                    '__mul__', '__rmul__', 'center', 'zfill', 'decode', 'encode']:\n",
    "            setattr(ostr, name, make_str_abort_wrapper(fn))"
   ]
  },
  {
   "cell_type": "code",
   "execution_count": 194,
   "metadata": {
    "execution": {
     "iopub.execute_input": "2023-11-12T12:46:56.388061Z",
     "iopub.status.busy": "2023-11-12T12:46:56.387948Z",
     "iopub.status.idle": "2023-11-12T12:46:56.389620Z",
     "shell.execute_reply": "2023-11-12T12:46:56.389338Z"
    },
    "slideshow": {
     "slide_type": "fragment"
    }
   },
   "outputs": [],
   "source": [
    "informationflow_init_3()"
   ]
  },
  {
   "cell_type": "code",
   "execution_count": 195,
   "metadata": {
    "execution": {
     "iopub.execute_input": "2023-11-12T12:46:56.391181Z",
     "iopub.status.busy": "2023-11-12T12:46:56.391060Z",
     "iopub.status.idle": "2023-11-12T12:46:56.392714Z",
     "shell.execute_reply": "2023-11-12T12:46:56.392454Z"
    },
    "slideshow": {
     "slide_type": "fragment"
    }
   },
   "outputs": [],
   "source": [
    "INITIALIZER_LIST.append(informationflow_init_3)"
   ]
  },
  {
   "attachments": {},
   "cell_type": "markdown",
   "metadata": {
    "slideshow": {
     "slide_type": "fragment"
    }
   },
   "source": [
    "While generating proxy wrappers for string operations can handle most common cases of transmission of information flow, some operations involving strings can not be overridden. For example, consider the following."
   ]
  },
  {
   "cell_type": "markdown",
   "metadata": {
    "slideshow": {
     "slide_type": "subslide"
    }
   },
   "source": [
    "### End of Excursion"
   ]
  },
  {
   "cell_type": "markdown",
   "metadata": {
    "slideshow": {
     "slide_type": "subslide"
    },
    "tags": []
   },
   "source": [
    "### Checking Origins\n",
    "\n",
    "With all this implemented, we now have full-fledged `ostr` strings where we can easily check the origin of each and every character.  \n",
    "\n",
    "To check whether a string originates from another string, we can convert the origin to a set and resort to standard set operations:"
   ]
  },
  {
   "cell_type": "code",
   "execution_count": 196,
   "metadata": {
    "execution": {
     "iopub.execute_input": "2023-11-12T12:46:56.394364Z",
     "iopub.status.busy": "2023-11-12T12:46:56.394257Z",
     "iopub.status.idle": "2023-11-12T12:46:56.396715Z",
     "shell.execute_reply": "2023-11-12T12:46:56.396446Z"
    },
    "slideshow": {
     "slide_type": "fragment"
    }
   },
   "outputs": [
    {
     "data": {
      "text/plain": [
       "'e'"
      ]
     },
     "execution_count": 196,
     "metadata": {},
     "output_type": "execute_result"
    }
   ],
   "source": [
    "s = ostr(\"hello\", origin=100)\n",
    "s[1]"
   ]
  },
  {
   "cell_type": "code",
   "execution_count": 197,
   "metadata": {
    "execution": {
     "iopub.execute_input": "2023-11-12T12:46:56.398166Z",
     "iopub.status.busy": "2023-11-12T12:46:56.398062Z",
     "iopub.status.idle": "2023-11-12T12:46:56.400127Z",
     "shell.execute_reply": "2023-11-12T12:46:56.399855Z"
    },
    "slideshow": {
     "slide_type": "fragment"
    }
   },
   "outputs": [
    {
     "data": {
      "text/plain": [
       "[101]"
      ]
     },
     "execution_count": 197,
     "metadata": {},
     "output_type": "execute_result"
    }
   ],
   "source": [
    "s[1].origin"
   ]
  },
  {
   "cell_type": "code",
   "execution_count": 198,
   "metadata": {
    "execution": {
     "iopub.execute_input": "2023-11-12T12:46:56.401622Z",
     "iopub.status.busy": "2023-11-12T12:46:56.401517Z",
     "iopub.status.idle": "2023-11-12T12:46:56.403776Z",
     "shell.execute_reply": "2023-11-12T12:46:56.403519Z"
    },
    "slideshow": {
     "slide_type": "subslide"
    }
   },
   "outputs": [
    {
     "data": {
      "text/plain": [
       "True"
      ]
     },
     "execution_count": 198,
     "metadata": {},
     "output_type": "execute_result"
    }
   ],
   "source": [
    "set(s[1].origin) <= set(s.origin)"
   ]
  },
  {
   "cell_type": "code",
   "execution_count": 199,
   "metadata": {
    "execution": {
     "iopub.execute_input": "2023-11-12T12:46:56.405318Z",
     "iopub.status.busy": "2023-11-12T12:46:56.405210Z",
     "iopub.status.idle": "2023-11-12T12:46:56.406920Z",
     "shell.execute_reply": "2023-11-12T12:46:56.406688Z"
    },
    "slideshow": {
     "slide_type": "fragment"
    }
   },
   "outputs": [],
   "source": [
    "t = ostr(\"world\", origin=200)"
   ]
  },
  {
   "cell_type": "code",
   "execution_count": 200,
   "metadata": {
    "execution": {
     "iopub.execute_input": "2023-11-12T12:46:56.408511Z",
     "iopub.status.busy": "2023-11-12T12:46:56.408395Z",
     "iopub.status.idle": "2023-11-12T12:46:56.410500Z",
     "shell.execute_reply": "2023-11-12T12:46:56.410221Z"
    },
    "slideshow": {
     "slide_type": "fragment"
    }
   },
   "outputs": [
    {
     "data": {
      "text/plain": [
       "False"
      ]
     },
     "execution_count": 200,
     "metadata": {},
     "output_type": "execute_result"
    }
   ],
   "source": [
    "set(s.origin) <= set(t.origin)"
   ]
  },
  {
   "cell_type": "code",
   "execution_count": 201,
   "metadata": {
    "execution": {
     "iopub.execute_input": "2023-11-12T12:46:56.412048Z",
     "iopub.status.busy": "2023-11-12T12:46:56.411935Z",
     "iopub.status.idle": "2023-11-12T12:46:56.413598Z",
     "shell.execute_reply": "2023-11-12T12:46:56.413344Z"
    },
    "slideshow": {
     "slide_type": "fragment"
    }
   },
   "outputs": [],
   "source": [
    "u = s + t + \"!\""
   ]
  },
  {
   "cell_type": "code",
   "execution_count": 202,
   "metadata": {
    "execution": {
     "iopub.execute_input": "2023-11-12T12:46:56.415122Z",
     "iopub.status.busy": "2023-11-12T12:46:56.415006Z",
     "iopub.status.idle": "2023-11-12T12:46:56.417044Z",
     "shell.execute_reply": "2023-11-12T12:46:56.416792Z"
    },
    "slideshow": {
     "slide_type": "fragment"
    }
   },
   "outputs": [
    {
     "data": {
      "text/plain": [
       "[100, 101, 102, 103, 104, 200, 201, 202, 203, 204, -1]"
      ]
     },
     "execution_count": 202,
     "metadata": {},
     "output_type": "execute_result"
    }
   ],
   "source": [
    "u.origin"
   ]
  },
  {
   "cell_type": "code",
   "execution_count": 203,
   "metadata": {
    "execution": {
     "iopub.execute_input": "2023-11-12T12:46:56.418530Z",
     "iopub.status.busy": "2023-11-12T12:46:56.418421Z",
     "iopub.status.idle": "2023-11-12T12:46:56.420465Z",
     "shell.execute_reply": "2023-11-12T12:46:56.420216Z"
    },
    "slideshow": {
     "slide_type": "fragment"
    }
   },
   "outputs": [
    {
     "data": {
      "text/plain": [
       "True"
      ]
     },
     "execution_count": 203,
     "metadata": {},
     "output_type": "execute_result"
    }
   ],
   "source": [
    "ostr.UNKNOWN_ORIGIN in u.origin"
   ]
  },
  {
   "cell_type": "markdown",
   "metadata": {
    "slideshow": {
     "slide_type": "subslide"
    }
   },
   "source": [
    "### Privacy Leaks Revisited\n",
    "\n",
    "Let us apply it to see whether we can come up with a satisfactory solution for checking the `heartbeat()` function against information leakage."
   ]
  },
  {
   "cell_type": "code",
   "execution_count": 204,
   "metadata": {
    "execution": {
     "iopub.execute_input": "2023-11-12T12:46:56.422085Z",
     "iopub.status.busy": "2023-11-12T12:46:56.421978Z",
     "iopub.status.idle": "2023-11-12T12:46:56.423584Z",
     "shell.execute_reply": "2023-11-12T12:46:56.423340Z"
    },
    "slideshow": {
     "slide_type": "fragment"
    }
   },
   "outputs": [],
   "source": [
    "SECRET_ORIGIN = 1000"
   ]
  },
  {
   "cell_type": "markdown",
   "metadata": {
    "slideshow": {
     "slide_type": "fragment"
    }
   },
   "source": [
    "We define a \"secret\" that must not leak out:"
   ]
  },
  {
   "cell_type": "code",
   "execution_count": 205,
   "metadata": {
    "execution": {
     "iopub.execute_input": "2023-11-12T12:46:56.425055Z",
     "iopub.status.busy": "2023-11-12T12:46:56.424970Z",
     "iopub.status.idle": "2023-11-12T12:46:56.426736Z",
     "shell.execute_reply": "2023-11-12T12:46:56.426495Z"
    },
    "slideshow": {
     "slide_type": "fragment"
    }
   },
   "outputs": [],
   "source": [
    "secret = ostr('<again, some super-secret input>', origin=SECRET_ORIGIN)"
   ]
  },
  {
   "cell_type": "markdown",
   "metadata": {
    "slideshow": {
     "slide_type": "fragment"
    }
   },
   "source": [
    "Each and every character in `secret` has an origin starting with `SECRET_ORIGIN`:"
   ]
  },
  {
   "cell_type": "code",
   "execution_count": 206,
   "metadata": {
    "execution": {
     "iopub.execute_input": "2023-11-12T12:46:56.428229Z",
     "iopub.status.busy": "2023-11-12T12:46:56.428118Z",
     "iopub.status.idle": "2023-11-12T12:46:56.429834Z",
     "shell.execute_reply": "2023-11-12T12:46:56.429566Z"
    },
    "slideshow": {
     "slide_type": "fragment"
    }
   },
   "outputs": [
    {
     "name": "stdout",
     "output_type": "stream",
     "text": [
      "[1000, 1001, 1002, 1003, 1004, 1005, 1006, 1007, 1008, 1009, 1010, 1011, 1012, 1013, 1014, 1015, 1016, 1017, 1018, 1019, 1020, 1021, 1022, 1023, 1024, 1025, 1026, 1027, 1028, 1029, 1030, 1031]\n"
     ]
    }
   ],
   "source": [
    "print(secret.origin)"
   ]
  },
  {
   "cell_type": "markdown",
   "metadata": {
    "slideshow": {
     "slide_type": "subslide"
    }
   },
   "source": [
    "If we now invoke `heartbeat()` with a given string, the origin of the reply should all be `UNKNOWN_ORIGIN` (from the input), and none of the characters should have a `SECRET_ORIGIN`."
   ]
  },
  {
   "cell_type": "code",
   "execution_count": 207,
   "metadata": {
    "execution": {
     "iopub.execute_input": "2023-11-12T12:46:56.431412Z",
     "iopub.status.busy": "2023-11-12T12:46:56.431303Z",
     "iopub.status.idle": "2023-11-12T12:46:56.433784Z",
     "shell.execute_reply": "2023-11-12T12:46:56.433514Z"
    },
    "slideshow": {
     "slide_type": "fragment"
    }
   },
   "outputs": [
    {
     "data": {
      "text/plain": [
       "'hello'"
      ]
     },
     "execution_count": 207,
     "metadata": {},
     "output_type": "execute_result"
    }
   ],
   "source": [
    "hello_s = heartbeat('hello', 5, memory=secret)\n",
    "hello_s"
   ]
  },
  {
   "cell_type": "code",
   "execution_count": 208,
   "metadata": {
    "execution": {
     "iopub.execute_input": "2023-11-12T12:46:56.435345Z",
     "iopub.status.busy": "2023-11-12T12:46:56.435228Z",
     "iopub.status.idle": "2023-11-12T12:46:56.436897Z",
     "shell.execute_reply": "2023-11-12T12:46:56.436639Z"
    },
    "slideshow": {
     "slide_type": "fragment"
    }
   },
   "outputs": [],
   "source": [
    "assert isinstance(hello_s, ostr)"
   ]
  },
  {
   "cell_type": "code",
   "execution_count": 209,
   "metadata": {
    "execution": {
     "iopub.execute_input": "2023-11-12T12:46:56.438434Z",
     "iopub.status.busy": "2023-11-12T12:46:56.438330Z",
     "iopub.status.idle": "2023-11-12T12:46:56.439957Z",
     "shell.execute_reply": "2023-11-12T12:46:56.439697Z"
    },
    "slideshow": {
     "slide_type": "fragment"
    }
   },
   "outputs": [
    {
     "name": "stdout",
     "output_type": "stream",
     "text": [
      "[-1, -1, -1, -1, -1]\n"
     ]
    }
   ],
   "source": [
    "print(hello_s.origin)"
   ]
  },
  {
   "cell_type": "markdown",
   "metadata": {
    "slideshow": {
     "slide_type": "fragment"
    }
   },
   "source": [
    "We can verify that the secret did not leak out by formulating appropriate assertions:"
   ]
  },
  {
   "cell_type": "code",
   "execution_count": 210,
   "metadata": {
    "execution": {
     "iopub.execute_input": "2023-11-12T12:46:56.441390Z",
     "iopub.status.busy": "2023-11-12T12:46:56.441307Z",
     "iopub.status.idle": "2023-11-12T12:46:56.442935Z",
     "shell.execute_reply": "2023-11-12T12:46:56.442686Z"
    },
    "slideshow": {
     "slide_type": "fragment"
    }
   },
   "outputs": [],
   "source": [
    "assert hello_s.origin == [ostr.UNKNOWN_ORIGIN] * len(hello_s)"
   ]
  },
  {
   "cell_type": "code",
   "execution_count": 211,
   "metadata": {
    "execution": {
     "iopub.execute_input": "2023-11-12T12:46:56.444442Z",
     "iopub.status.busy": "2023-11-12T12:46:56.444352Z",
     "iopub.status.idle": "2023-11-12T12:46:56.446024Z",
     "shell.execute_reply": "2023-11-12T12:46:56.445791Z"
    },
    "slideshow": {
     "slide_type": "fragment"
    }
   },
   "outputs": [],
   "source": [
    "assert all(origin == ostr.UNKNOWN_ORIGIN for origin in hello_s.origin)"
   ]
  },
  {
   "cell_type": "code",
   "execution_count": 212,
   "metadata": {
    "execution": {
     "iopub.execute_input": "2023-11-12T12:46:56.447477Z",
     "iopub.status.busy": "2023-11-12T12:46:56.447395Z",
     "iopub.status.idle": "2023-11-12T12:46:56.449244Z",
     "shell.execute_reply": "2023-11-12T12:46:56.448973Z"
    },
    "slideshow": {
     "slide_type": "fragment"
    }
   },
   "outputs": [],
   "source": [
    "assert not any(origin >= SECRET_ORIGIN for origin in hello_s.origin)"
   ]
  },
  {
   "cell_type": "markdown",
   "metadata": {
    "slideshow": {
     "slide_type": "subslide"
    }
   },
   "source": [
    "All assertions pass, again confirming that no secret leaked out."
   ]
  },
  {
   "cell_type": "markdown",
   "metadata": {
    "slideshow": {
     "slide_type": "fragment"
    }
   },
   "source": [
    "Let us now go and exploit `heartbeat()` to reveal its secrets.  As `heartbeat()` is unchanged, it is as vulnerable as it was:"
   ]
  },
  {
   "cell_type": "code",
   "execution_count": 213,
   "metadata": {
    "execution": {
     "iopub.execute_input": "2023-11-12T12:46:56.450801Z",
     "iopub.status.busy": "2023-11-12T12:46:56.450693Z",
     "iopub.status.idle": "2023-11-12T12:46:56.453038Z",
     "shell.execute_reply": "2023-11-12T12:46:56.452758Z"
    },
    "slideshow": {
     "slide_type": "fragment"
    }
   },
   "outputs": [
    {
     "data": {
      "text/plain": [
       "'hellon, some super-secret input>'"
      ]
     },
     "execution_count": 213,
     "metadata": {},
     "output_type": "execute_result"
    }
   ],
   "source": [
    "hello_s = heartbeat('hello', 32, memory=secret)\n",
    "hello_s"
   ]
  },
  {
   "cell_type": "markdown",
   "metadata": {
    "slideshow": {
     "slide_type": "fragment"
    }
   },
   "source": [
    "Now, however, the reply _does_ contain secret information:"
   ]
  },
  {
   "cell_type": "code",
   "execution_count": 214,
   "metadata": {
    "execution": {
     "iopub.execute_input": "2023-11-12T12:46:56.454560Z",
     "iopub.status.busy": "2023-11-12T12:46:56.454453Z",
     "iopub.status.idle": "2023-11-12T12:46:56.456112Z",
     "shell.execute_reply": "2023-11-12T12:46:56.455852Z"
    },
    "slideshow": {
     "slide_type": "fragment"
    }
   },
   "outputs": [],
   "source": [
    "assert isinstance(hello_s, ostr)"
   ]
  },
  {
   "cell_type": "code",
   "execution_count": 215,
   "metadata": {
    "execution": {
     "iopub.execute_input": "2023-11-12T12:46:56.457658Z",
     "iopub.status.busy": "2023-11-12T12:46:56.457538Z",
     "iopub.status.idle": "2023-11-12T12:46:56.459264Z",
     "shell.execute_reply": "2023-11-12T12:46:56.458981Z"
    },
    "slideshow": {
     "slide_type": "fragment"
    }
   },
   "outputs": [
    {
     "name": "stdout",
     "output_type": "stream",
     "text": [
      "[-1, -1, -1, -1, -1, 1005, 1006, 1007, 1008, 1009, 1010, 1011, 1012, 1013, 1014, 1015, 1016, 1017, 1018, 1019, 1020, 1021, 1022, 1023, 1024, 1025, 1026, 1027, 1028, 1029, 1030, 1031]\n"
     ]
    }
   ],
   "source": [
    "print(hello_s.origin)"
   ]
  },
  {
   "cell_type": "code",
   "execution_count": 216,
   "metadata": {
    "execution": {
     "iopub.execute_input": "2023-11-12T12:46:56.460921Z",
     "iopub.status.busy": "2023-11-12T12:46:56.460807Z",
     "iopub.status.idle": "2023-11-12T12:46:56.462663Z",
     "shell.execute_reply": "2023-11-12T12:46:56.462384Z"
    },
    "slideshow": {
     "slide_type": "subslide"
    }
   },
   "outputs": [
    {
     "name": "stderr",
     "output_type": "stream",
     "text": [
      "Traceback (most recent call last):\n",
      "  File \"/var/folders/n2/xd9445p97rb3xh7m1dfx8_4h0006ts/T/ipykernel_32812/2698516187.py\", line 2, in <cell line: 1>\n",
      "    assert hello_s.origin == [ostr.UNKNOWN_ORIGIN] * len(hello_s)\n",
      "AssertionError (expected)\n"
     ]
    }
   ],
   "source": [
    "with ExpectError():\n",
    "    assert hello_s.origin == [ostr.UNKNOWN_ORIGIN] * len(hello_s)"
   ]
  },
  {
   "cell_type": "code",
   "execution_count": 217,
   "metadata": {
    "execution": {
     "iopub.execute_input": "2023-11-12T12:46:56.464293Z",
     "iopub.status.busy": "2023-11-12T12:46:56.464176Z",
     "iopub.status.idle": "2023-11-12T12:46:56.466176Z",
     "shell.execute_reply": "2023-11-12T12:46:56.465916Z"
    },
    "slideshow": {
     "slide_type": "fragment"
    }
   },
   "outputs": [
    {
     "name": "stderr",
     "output_type": "stream",
     "text": [
      "Traceback (most recent call last):\n",
      "  File \"/var/folders/n2/xd9445p97rb3xh7m1dfx8_4h0006ts/T/ipykernel_32812/1358366226.py\", line 2, in <cell line: 1>\n",
      "    assert all(origin == ostr.UNKNOWN_ORIGIN for origin in hello_s.origin)\n",
      "AssertionError (expected)\n"
     ]
    }
   ],
   "source": [
    "with ExpectError():\n",
    "    assert all(origin == ostr.UNKNOWN_ORIGIN for origin in hello_s.origin)"
   ]
  },
  {
   "cell_type": "code",
   "execution_count": 218,
   "metadata": {
    "execution": {
     "iopub.execute_input": "2023-11-12T12:46:56.467782Z",
     "iopub.status.busy": "2023-11-12T12:46:56.467651Z",
     "iopub.status.idle": "2023-11-12T12:46:56.469515Z",
     "shell.execute_reply": "2023-11-12T12:46:56.469268Z"
    },
    "slideshow": {
     "slide_type": "subslide"
    }
   },
   "outputs": [
    {
     "name": "stderr",
     "output_type": "stream",
     "text": [
      "Traceback (most recent call last):\n",
      "  File \"/var/folders/n2/xd9445p97rb3xh7m1dfx8_4h0006ts/T/ipykernel_32812/1577803914.py\", line 2, in <cell line: 1>\n",
      "    assert not any(origin >= SECRET_ORIGIN for origin in hello_s.origin)\n",
      "AssertionError (expected)\n"
     ]
    }
   ],
   "source": [
    "with ExpectError():\n",
    "    assert not any(origin >= SECRET_ORIGIN for origin in hello_s.origin)"
   ]
  },
  {
   "cell_type": "markdown",
   "metadata": {
    "slideshow": {
     "slide_type": "fragment"
    }
   },
   "source": [
    "We can now integrate these assertions into the `heartbeat()` function, causing it to fail before leaking information.  Additionally (or alternatively?), we can also rewrite our output functions not to give out any secret information.  We will leave these two exercises for the reader."
   ]
  },
  {
   "cell_type": "markdown",
   "metadata": {
    "slideshow": {
     "slide_type": "slide"
    },
    "toc-hr-collapsed": true
   },
   "source": [
    "## Taint-Directed Fuzzing\n",
    "\n",
    "The previous _Taint Aware Fuzzing_ was a bit unsatisfactory in that we could not focus on the specific parts of the grammar that led to dangerous operations. We fix that with _taint directed fuzzing_ using `TrackingDB`.\n",
    "\n",
    "The idea here is to track the origins of each character that reaches `eval`. Then, track it back to the grammar nodes that generated it, and increase the probability of using those nodes again."
   ]
  },
  {
   "cell_type": "markdown",
   "metadata": {
    "slideshow": {
     "slide_type": "subslide"
    }
   },
   "source": [
    "### TrackingDB\n",
    "\n",
    "The `TrackingDB` is similar to `TaintedDB`. The difference is that, if we find that the execution has reached the `my_eval`, we simply raise the `Tainted`."
   ]
  },
  {
   "cell_type": "code",
   "execution_count": 219,
   "metadata": {
    "execution": {
     "iopub.execute_input": "2023-11-12T12:46:56.471121Z",
     "iopub.status.busy": "2023-11-12T12:46:56.471011Z",
     "iopub.status.idle": "2023-11-12T12:46:56.473194Z",
     "shell.execute_reply": "2023-11-12T12:46:56.472880Z"
    },
    "slideshow": {
     "slide_type": "fragment"
    }
   },
   "outputs": [],
   "source": [
    "class TrackingDB(TaintedDB):\n",
    "    def my_eval(self, statement, g, l):\n",
    "        if statement.origin:\n",
    "            raise Tainted(statement)\n",
    "        try:\n",
    "            return eval(statement, g, l)\n",
    "        except:\n",
    "            raise SQLException('Invalid SQL (%s)' % repr(statement))"
   ]
  },
  {
   "cell_type": "markdown",
   "metadata": {
    "slideshow": {
     "slide_type": "fragment"
    }
   },
   "source": [
    "Next, we need a specially crafted fuzzer that preserves the taints."
   ]
  },
  {
   "cell_type": "markdown",
   "metadata": {
    "slideshow": {
     "slide_type": "subslide"
    }
   },
   "source": [
    "### TaintedGrammarFuzzer\n",
    "\n",
    "We define a `TaintedGrammarFuzzer` class that ensures that the taints propagate to the derivation tree. This is similar to the `GrammarFuzzer` from the [chapter on grammar fuzzers](GrammarFuzzer.ipynb) except that the origins and taints are preserved."
   ]
  },
  {
   "cell_type": "code",
   "execution_count": 220,
   "metadata": {
    "execution": {
     "iopub.execute_input": "2023-11-12T12:46:56.474853Z",
     "iopub.status.busy": "2023-11-12T12:46:56.474738Z",
     "iopub.status.idle": "2023-11-12T12:46:56.476370Z",
     "shell.execute_reply": "2023-11-12T12:46:56.476091Z"
    },
    "slideshow": {
     "slide_type": "skip"
    }
   },
   "outputs": [],
   "source": [
    "import random"
   ]
  },
  {
   "cell_type": "code",
   "execution_count": 221,
   "metadata": {
    "execution": {
     "iopub.execute_input": "2023-11-12T12:46:56.477854Z",
     "iopub.status.busy": "2023-11-12T12:46:56.477747Z",
     "iopub.status.idle": "2023-11-12T12:46:56.479281Z",
     "shell.execute_reply": "2023-11-12T12:46:56.478998Z"
    },
    "slideshow": {
     "slide_type": "skip"
    }
   },
   "outputs": [],
   "source": [
    "from GrammarFuzzer import GrammarFuzzer"
   ]
  },
  {
   "cell_type": "code",
   "execution_count": 222,
   "metadata": {
    "execution": {
     "iopub.execute_input": "2023-11-12T12:46:56.480760Z",
     "iopub.status.busy": "2023-11-12T12:46:56.480665Z",
     "iopub.status.idle": "2023-11-12T12:46:56.537158Z",
     "shell.execute_reply": "2023-11-12T12:46:56.536842Z"
    },
    "slideshow": {
     "slide_type": "skip"
    }
   },
   "outputs": [],
   "source": [
    "from Parser import canonical"
   ]
  },
  {
   "cell_type": "code",
   "execution_count": 223,
   "metadata": {
    "execution": {
     "iopub.execute_input": "2023-11-12T12:46:56.538937Z",
     "iopub.status.busy": "2023-11-12T12:46:56.538835Z",
     "iopub.status.idle": "2023-11-12T12:46:56.543654Z",
     "shell.execute_reply": "2023-11-12T12:46:56.543404Z"
    },
    "slideshow": {
     "slide_type": "subslide"
    }
   },
   "outputs": [],
   "source": [
    "class TaintedGrammarFuzzer(GrammarFuzzer):\n",
    "    def __init__(self,\n",
    "                 grammar,\n",
    "                 start_symbol=START_SYMBOL,\n",
    "                 expansion_switch=1,\n",
    "                 log=False):\n",
    "        self.tainted_start_symbol = ostr(\n",
    "            start_symbol, origin=[1] * len(start_symbol))\n",
    "        self.expansion_switch = expansion_switch\n",
    "        self.log = log\n",
    "        self.grammar = grammar\n",
    "        self.c_grammar = canonical(grammar)\n",
    "        self.init_tainted_grammar()\n",
    "\n",
    "    def expansion_cost(self, expansion, seen=set()):\n",
    "        symbols = [e for e in expansion if e in self.c_grammar]\n",
    "        if len(symbols) == 0:\n",
    "            return 1\n",
    "\n",
    "        if any(s in seen for s in symbols):\n",
    "            return float('inf')\n",
    "\n",
    "        return sum(self.symbol_cost(s, seen) for s in symbols) + 1\n",
    "\n",
    "    def fuzz_tree(self):\n",
    "        tree = (self.tainted_start_symbol, [])\n",
    "        nt_leaves = [tree]\n",
    "        expansion_trials = 0\n",
    "        while nt_leaves:\n",
    "            idx = random.randint(0, len(nt_leaves) - 1)\n",
    "            key, children = nt_leaves[idx]\n",
    "            expansions = self.ct_grammar[key]\n",
    "            if expansion_trials < self.expansion_switch:\n",
    "                expansion = random.choice(expansions)\n",
    "            else:\n",
    "                costs = [self.expansion_cost(e) for e in expansions]\n",
    "                m = min(costs)\n",
    "                all_min = [i for i, c in enumerate(costs) if c == m]\n",
    "                expansion = expansions[random.choice(all_min)]\n",
    "\n",
    "            new_leaves = [(token, []) for token in expansion]\n",
    "            new_nt_leaves = [e for e in new_leaves if e[0] in self.ct_grammar]\n",
    "            children[:] = new_leaves\n",
    "            nt_leaves[idx:idx + 1] = new_nt_leaves\n",
    "            if self.log:\n",
    "                print(\"%-40s\" % (key + \" -> \" + str(expansion)))\n",
    "            expansion_trials += 1\n",
    "        return tree\n",
    "\n",
    "    def fuzz(self):\n",
    "        self.derivation_tree = self.fuzz_tree()\n",
    "        return self.tree_to_string(self.derivation_tree)"
   ]
  },
  {
   "cell_type": "markdown",
   "metadata": {
    "slideshow": {
     "slide_type": "subslide"
    }
   },
   "source": [
    "We use a specially prepared tainted grammar for fuzzing. We mark each individual definition, each individual rule, and each individual token with a separate origin (we chose a token boundary of 10 here, after inspecting the grammar). This allows us to track exactly which parts of the grammar were involved in the operations we are interested in."
   ]
  },
  {
   "cell_type": "code",
   "execution_count": 224,
   "metadata": {
    "execution": {
     "iopub.execute_input": "2023-11-12T12:46:56.545326Z",
     "iopub.status.busy": "2023-11-12T12:46:56.545240Z",
     "iopub.status.idle": "2023-11-12T12:46:56.548118Z",
     "shell.execute_reply": "2023-11-12T12:46:56.547847Z"
    },
    "slideshow": {
     "slide_type": "subslide"
    }
   },
   "outputs": [],
   "source": [
    "class TaintedGrammarFuzzer(TaintedGrammarFuzzer):\n",
    "    def init_tainted_grammar(self):\n",
    "        key_increment, alt_increment, token_increment = 1000, 100, 10\n",
    "        key_origin = key_increment\n",
    "        self.ct_grammar = {}\n",
    "        for key, val in self.c_grammar.items():\n",
    "            key_origin += key_increment\n",
    "            os = []\n",
    "            for v in val:\n",
    "                ts = []\n",
    "                key_origin += alt_increment\n",
    "                for t in v:\n",
    "                    nt = ostr(t, origin=key_origin)\n",
    "                    key_origin += token_increment\n",
    "                    ts.append(nt)\n",
    "                os.append(ts)\n",
    "            self.ct_grammar[key] = os\n",
    "\n",
    "        # a use tracking grammar\n",
    "        self.ctp_grammar = {}\n",
    "        for key, val in self.ct_grammar.items():\n",
    "            self.ctp_grammar[key] = [(v, dict(use=0)) for v in val]"
   ]
  },
  {
   "cell_type": "markdown",
   "metadata": {
    "slideshow": {
     "slide_type": "subslide"
    }
   },
   "source": [
    "As before, we initialize the `TrackingDB`"
   ]
  },
  {
   "cell_type": "code",
   "execution_count": 225,
   "metadata": {
    "execution": {
     "iopub.execute_input": "2023-11-12T12:46:56.549689Z",
     "iopub.status.busy": "2023-11-12T12:46:56.549601Z",
     "iopub.status.idle": "2023-11-12T12:46:56.551488Z",
     "shell.execute_reply": "2023-11-12T12:46:56.551182Z"
    },
    "slideshow": {
     "slide_type": "fragment"
    }
   },
   "outputs": [],
   "source": [
    "trdb = TrackingDB(db.db)"
   ]
  },
  {
   "cell_type": "markdown",
   "metadata": {
    "slideshow": {
     "slide_type": "fragment"
    }
   },
   "source": [
    "Finally, we need to ensure that the taints are preserved, when the tree is converted back to a string. For this, we define the `tainted_tree_to_string()`"
   ]
  },
  {
   "cell_type": "code",
   "execution_count": 226,
   "metadata": {
    "execution": {
     "iopub.execute_input": "2023-11-12T12:46:56.553303Z",
     "iopub.status.busy": "2023-11-12T12:46:56.553174Z",
     "iopub.status.idle": "2023-11-12T12:46:56.555419Z",
     "shell.execute_reply": "2023-11-12T12:46:56.555154Z"
    },
    "slideshow": {
     "slide_type": "fragment"
    }
   },
   "outputs": [],
   "source": [
    "class TaintedGrammarFuzzer(TaintedGrammarFuzzer):\n",
    "    def tree_to_string(self, tree):\n",
    "        symbol, children, *_ = tree\n",
    "        e = ostr('')\n",
    "        if children:\n",
    "            return e.join([self.tree_to_string(c) for c in children])\n",
    "        else:\n",
    "            return e if symbol in self.c_grammar else symbol"
   ]
  },
  {
   "cell_type": "markdown",
   "metadata": {
    "slideshow": {
     "slide_type": "subslide"
    }
   },
   "source": [
    "We define `update_grammar()` that accepts a set of origins that reached the dangerous operations and the derivation tree of the original string used for fuzzing to update the enhanced grammar."
   ]
  },
  {
   "cell_type": "code",
   "execution_count": 227,
   "metadata": {
    "execution": {
     "iopub.execute_input": "2023-11-12T12:46:56.557164Z",
     "iopub.status.busy": "2023-11-12T12:46:56.557051Z",
     "iopub.status.idle": "2023-11-12T12:46:56.560104Z",
     "shell.execute_reply": "2023-11-12T12:46:56.559848Z"
    },
    "slideshow": {
     "slide_type": "subslide"
    }
   },
   "outputs": [],
   "source": [
    "class TaintedGrammarFuzzer(TaintedGrammarFuzzer):\n",
    "    def update_grammar(self, origin, dtree):\n",
    "        def update_tree(dtree, origin):\n",
    "            key, children = dtree\n",
    "            if children:\n",
    "                updated_children = [update_tree(c, origin) for c in children]\n",
    "                corigin = set.union(\n",
    "                    *[o for (key, children, o) in updated_children])\n",
    "                corigin = corigin.union(set(key.origin))\n",
    "                return (key, children, corigin)\n",
    "            else:\n",
    "                my_origin = set(key.origin).intersection(origin)\n",
    "                return (key, [], my_origin)\n",
    "\n",
    "        key, children, oset = update_tree(dtree, set(origin))\n",
    "        for key, alts in self.ctp_grammar.items():\n",
    "            for alt, o in alts:\n",
    "                alt_origins = set([i for token in alt for i in token.origin])\n",
    "                if alt_origins.intersection(oset):\n",
    "                    o['use'] += 1"
   ]
  },
  {
   "cell_type": "markdown",
   "metadata": {
    "slideshow": {
     "slide_type": "subslide"
    }
   },
   "source": [
    "With these, we are now ready to fuzz."
   ]
  },
  {
   "cell_type": "code",
   "execution_count": 228,
   "metadata": {
    "execution": {
     "iopub.execute_input": "2023-11-12T12:46:56.561730Z",
     "iopub.status.busy": "2023-11-12T12:46:56.561640Z",
     "iopub.status.idle": "2023-11-12T12:46:56.563499Z",
     "shell.execute_reply": "2023-11-12T12:46:56.563233Z"
    },
    "slideshow": {
     "slide_type": "fragment"
    }
   },
   "outputs": [],
   "source": [
    "def tree_type(tree):\n",
    "    key, children = tree\n",
    "    return (type(key), key, [tree_type(c) for c in children])"
   ]
  },
  {
   "cell_type": "code",
   "execution_count": 229,
   "metadata": {
    "execution": {
     "iopub.execute_input": "2023-11-12T12:46:56.564991Z",
     "iopub.status.busy": "2023-11-12T12:46:56.564898Z",
     "iopub.status.idle": "2023-11-12T12:46:56.628287Z",
     "shell.execute_reply": "2023-11-12T12:46:56.627924Z"
    },
    "slideshow": {
     "slide_type": "subslide"
    }
   },
   "outputs": [
    {
     "name": "stdout",
     "output_type": "stream",
     "text": [
      "'select (g!=(9)!=((:)==2==9)!=J)==-7 from inventory'\n",
      "Tainted[((g!=(9)!=((:)==2==9)!=J)==-7)]\n",
      "\n",
      "'delete from inventory where ((c)==T)!=5==(8!=Y)!=-5'\n",
      "Tainted[((c)==T)!=5==(8!=Y)!=-5]\n",
      "\n",
      "'select (((w==(((X!=------8)))))) from inventory'\n",
      "Tainted[((((w==(((X!=------8)))))))]\n",
      "\n",
      "'delete from inventory where ((.==(-3)!=(((-3))))!=(S==(((n))==Y))!=--2!=N==-----0==--0)!=(((((R))))==((v)))!=((((((------2==Q==-8!=(q)!=(((.!=2))==J)!=(1)!=(((-4!=--5==J!=(((A==.)))))!=(((((0==(P!=((R))!=(((j)))!=7))))==O==K))==(q))==--1==((H)==(t)==s!=-6==((y))==R)!=((H))!=W==--4==(P==(u)==-0)!=O==((-5==-------2!=4!=U))!=-1==((((((R!=-6))))))!=1!=Z)))==(((I)!=((S))!=(-4==s)==(7!=(A))==(s)==p==((_)!=(C))==((w)))))))'\n",
      "Tainted[((.==(-3)!=(((-3))))!=(S==(((n))==Y))!=--2!=N==-----0==--0)!=(((((R))))==((v)))!=((((((------2==Q==-8!=(q)!=(((.!=2))==J)!=(1)!=(((-4!=--5==J!=(((A==.)))))!=(((((0==(P!=((R))!=(((j)))!=7))))==O==K))==(q))==--1==((H)==(t)==s!=-6==((y))==R)!=((H))!=W==--4==(P==(u)==-0)!=O==((-5==-------2!=4!=U))!=-1==((((((R!=-6))))))!=1!=Z)))==(((I)!=((S))!=(-4==s)==(7!=(A))==(s)==p==((_)!=(C))==((w)))))))]\n",
      "\n",
      "'delete from inventory where ((2)==T!=-1)==N==(P)==((((((6==a)))))!=8)==(3)!=((---7))'\n",
      "Tainted[((2)==T!=-1)==N==(P)==((((((6==a)))))!=8)==(3)!=((---7))]\n",
      "\n",
      "'delete from inventory where o!=2==---5==3!=t'\n",
      "Tainted[o!=2==---5==3!=t]\n",
      "\n",
      "'select (2) from inventory'\n",
      "Tainted[((2))]\n",
      "\n",
      "'select _ from inventory'\n",
      "Tainted[(_)]\n",
      "\n",
      "'select L!=(((1!=(Z)==C)!=C))==(((-0==-5==Q!=((--2!=(-0)==((0))==M)==(A))!=(X)!=e==(K==((b)))!=b==9==((((l)!=-7!=4)!=s==G))!=6==((((5==(((v==(((((((a!=d))==0!=4!=(4)==--1==(h)==-8!=(9)==-4)))))!=I!=-4))==v!=(Y==b)))==(a))!=((7)))))))==((4)) from inventory'\n",
      "Tainted[(L!=(((1!=(Z)==C)!=C))==(((-0==-5==Q!=((--2!=(-0)==((0))==M)==(A))!=(X)!=e==(K==((b)))!=b==9==((((l)!=-7!=4)!=s==G))!=6==((((5==(((v==(((((((a!=d))==0!=4!=(4)==--1==(h)==-8!=(9)==-4)))))!=I!=-4))==v!=(Y==b)))==(a))!=((7)))))))==((4)))]\n",
      "\n",
      "'delete from inventory where _==(7==(9)!=(---5)==1)==-8'\n",
      "Tainted[_==(7==(9)!=(---5)==1)==-8]\n",
      "\n"
     ]
    }
   ],
   "source": [
    "tgf = TaintedGrammarFuzzer(INVENTORY_GRAMMAR_F)\n",
    "x = None\n",
    "for _ in range(10):\n",
    "    qtree = tgf.fuzz_tree()\n",
    "    query = tgf.tree_to_string(qtree)\n",
    "    assert isinstance(query, ostr)\n",
    "    try:\n",
    "        print(repr(query))\n",
    "        res = trdb.sql(query)\n",
    "        print(repr(res))\n",
    "    except SQLException as e:\n",
    "        print(e)\n",
    "    except Tainted as e:\n",
    "        print(e)\n",
    "        origin = e.args[0].origin\n",
    "        tgf.update_grammar(origin, qtree)\n",
    "    except:\n",
    "        traceback.print_exc()\n",
    "        break\n",
    "    print()"
   ]
  },
  {
   "cell_type": "markdown",
   "metadata": {
    "slideshow": {
     "slide_type": "subslide"
    }
   },
   "source": [
    "We can now inspect our enhanced grammar to see how many times each rule was used."
   ]
  },
  {
   "cell_type": "code",
   "execution_count": 230,
   "metadata": {
    "execution": {
     "iopub.execute_input": "2023-11-12T12:46:56.630490Z",
     "iopub.status.busy": "2023-11-12T12:46:56.630324Z",
     "iopub.status.idle": "2023-11-12T12:46:56.643693Z",
     "shell.execute_reply": "2023-11-12T12:46:56.643210Z"
    },
    "slideshow": {
     "slide_type": "subslide"
    }
   },
   "outputs": [
    {
     "data": {
      "text/plain": [
       "{'<start>': [(['<query>'], {'use': 10})],\n",
       " '<expr>': [(['<bexpr>'], {'use': 8}),\n",
       "  (['<aexpr>'], {'use': 8}),\n",
       "  (['(', '<expr>', ')'], {'use': 8}),\n",
       "  (['<term>'], {'use': 10})],\n",
       " '<bexpr>': [(['<aexpr>', '<lt>', '<aexpr>'], {'use': 0}),\n",
       "  (['<aexpr>', '<gt>', '<aexpr>'], {'use': 0}),\n",
       "  (['<expr>', '==', '<expr>'], {'use': 8}),\n",
       "  (['<expr>', '!=', '<expr>'], {'use': 8})],\n",
       " '<aexpr>': [(['<aexpr>', '+', '<aexpr>'], {'use': 0}),\n",
       "  (['<aexpr>', '-', '<aexpr>'], {'use': 0}),\n",
       "  (['<aexpr>', '*', '<aexpr>'], {'use': 0}),\n",
       "  (['<aexpr>', '/', '<aexpr>'], {'use': 0}),\n",
       "  (['<word>', '(', '<exprs>', ')'], {'use': 0}),\n",
       "  (['<expr>'], {'use': 8})],\n",
       " '<exprs>': [(['<expr>', ',', '<exprs>'], {'use': 0}),\n",
       "  (['<expr>'], {'use': 5})],\n",
       " '<lt>': [(['<'], {'use': 0})],\n",
       " '<gt>': [(['>'], {'use': 0})],\n",
       " '<term>': [(['<number>'], {'use': 9}), (['<word>'], {'use': 9})],\n",
       " '<number>': [(['<integer>', '.', '<integer>'], {'use': 0}),\n",
       "  (['<integer>'], {'use': 9}),\n",
       "  (['-', '<number>'], {'use': 8})],\n",
       " '<integer>': [(['<digit>', '<integer>'], {'use': 0}),\n",
       "  (['<digit>'], {'use': 9})],\n",
       " '<word>': [(['<word>', '<letter>'], {'use': 0}),\n",
       "  (['<word>', '<digit>'], {'use': 0}),\n",
       "  (['<letter>'], {'use': 9})],\n",
       " '<digit>': [(['0'], {'use': 2}),\n",
       "  (['1'], {'use': 4}),\n",
       "  (['2'], {'use': 6}),\n",
       "  (['3'], {'use': 3}),\n",
       "  (['4'], {'use': 2}),\n",
       "  (['5'], {'use': 5}),\n",
       "  (['6'], {'use': 3}),\n",
       "  (['7'], {'use': 5}),\n",
       "  (['8'], {'use': 6}),\n",
       "  (['9'], {'use': 3})],\n",
       " '<letter>': [(['a'], {'use': 2}),\n",
       "  (['b'], {'use': 1}),\n",
       "  (['c'], {'use': 1}),\n",
       "  (['d'], {'use': 1}),\n",
       "  (['e'], {'use': 1}),\n",
       "  (['f'], {'use': 0}),\n",
       "  (['g'], {'use': 1}),\n",
       "  (['h'], {'use': 1}),\n",
       "  (['i'], {'use': 0}),\n",
       "  (['j'], {'use': 1}),\n",
       "  (['k'], {'use': 0}),\n",
       "  (['l'], {'use': 1}),\n",
       "  (['m'], {'use': 0}),\n",
       "  (['n'], {'use': 1}),\n",
       "  (['o'], {'use': 1}),\n",
       "  (['p'], {'use': 1}),\n",
       "  (['q'], {'use': 1}),\n",
       "  (['r'], {'use': 0}),\n",
       "  (['s'], {'use': 2}),\n",
       "  (['t'], {'use': 2}),\n",
       "  (['u'], {'use': 1}),\n",
       "  (['v'], {'use': 2}),\n",
       "  (['w'], {'use': 2}),\n",
       "  (['x'], {'use': 0}),\n",
       "  (['y'], {'use': 1}),\n",
       "  (['z'], {'use': 0}),\n",
       "  (['A'], {'use': 2}),\n",
       "  (['B'], {'use': 0}),\n",
       "  (['C'], {'use': 2}),\n",
       "  (['D'], {'use': 0}),\n",
       "  (['E'], {'use': 0}),\n",
       "  (['F'], {'use': 0}),\n",
       "  (['G'], {'use': 1}),\n",
       "  (['H'], {'use': 1}),\n",
       "  (['I'], {'use': 2}),\n",
       "  (['J'], {'use': 2}),\n",
       "  (['K'], {'use': 2}),\n",
       "  (['L'], {'use': 1}),\n",
       "  (['M'], {'use': 1}),\n",
       "  (['N'], {'use': 2}),\n",
       "  (['O'], {'use': 1}),\n",
       "  (['P'], {'use': 2}),\n",
       "  (['Q'], {'use': 2}),\n",
       "  (['R'], {'use': 1}),\n",
       "  (['S'], {'use': 1}),\n",
       "  (['T'], {'use': 2}),\n",
       "  (['U'], {'use': 1}),\n",
       "  (['V'], {'use': 0}),\n",
       "  (['W'], {'use': 1}),\n",
       "  (['X'], {'use': 2}),\n",
       "  (['Y'], {'use': 3}),\n",
       "  (['Z'], {'use': 2}),\n",
       "  (['_'], {'use': 3}),\n",
       "  ([':'], {'use': 1}),\n",
       "  (['.'], {'use': 1})],\n",
       " '<query>': [(['select ', '<exprs>', ' from ', '<table>'], {'use': 5}),\n",
       "  (['select ', '<exprs>', ' from ', '<table>', ' where ', '<bexpr>'],\n",
       "   {'use': 0}),\n",
       "  (['insert into ',\n",
       "    '<table>',\n",
       "    ' (',\n",
       "    '<names>',\n",
       "    ') values (',\n",
       "    '<literals>',\n",
       "    ')'],\n",
       "   {'use': 0}),\n",
       "  (['update ', '<table>', ' set ', '<assignments>', ' where ', '<bexpr>'],\n",
       "   {'use': 0}),\n",
       "  (['delete from ', '<table>', ' where ', '<bexpr>'], {'use': 5})],\n",
       " '<table>': [(['inventory'], {'use': 0})],\n",
       " '<names>': [(['<column>', ',', '<names>'], {'use': 0}),\n",
       "  (['<column>'], {'use': 0})],\n",
       " '<column>': [(['<word>'], {'use': 0})],\n",
       " '<literals>': [(['<literal>'], {'use': 0}),\n",
       "  (['<literal>', ',', '<literals>'], {'use': 0})],\n",
       " '<literal>': [(['<number>'], {'use': 0}),\n",
       "  ([\"'\", '<chars>', \"'\"], {'use': 0})],\n",
       " '<assignments>': [(['<kvp>', ',', '<assignments>'], {'use': 0}),\n",
       "  (['<kvp>'], {'use': 0})],\n",
       " '<kvp>': [(['<column>', '=', '<value>'], {'use': 0})],\n",
       " '<value>': [(['<word>'], {'use': 0})],\n",
       " '<chars>': [(['<char>'], {'use': 0}), (['<char>', '<chars>'], {'use': 0})],\n",
       " '<char>': [(['0'], {'use': 0}),\n",
       "  (['1'], {'use': 0}),\n",
       "  (['2'], {'use': 0}),\n",
       "  (['3'], {'use': 0}),\n",
       "  (['4'], {'use': 0}),\n",
       "  (['5'], {'use': 0}),\n",
       "  (['6'], {'use': 0}),\n",
       "  (['7'], {'use': 0}),\n",
       "  (['8'], {'use': 0}),\n",
       "  (['9'], {'use': 0}),\n",
       "  (['a'], {'use': 0}),\n",
       "  (['b'], {'use': 0}),\n",
       "  (['c'], {'use': 0}),\n",
       "  (['d'], {'use': 0}),\n",
       "  (['e'], {'use': 0}),\n",
       "  (['f'], {'use': 0}),\n",
       "  (['g'], {'use': 0}),\n",
       "  (['h'], {'use': 0}),\n",
       "  (['i'], {'use': 0}),\n",
       "  (['j'], {'use': 0}),\n",
       "  (['k'], {'use': 0}),\n",
       "  (['l'], {'use': 0}),\n",
       "  (['m'], {'use': 0}),\n",
       "  (['n'], {'use': 0}),\n",
       "  (['o'], {'use': 0}),\n",
       "  (['p'], {'use': 0}),\n",
       "  (['q'], {'use': 0}),\n",
       "  (['r'], {'use': 0}),\n",
       "  (['s'], {'use': 0}),\n",
       "  (['t'], {'use': 0}),\n",
       "  (['u'], {'use': 0}),\n",
       "  (['v'], {'use': 0}),\n",
       "  (['w'], {'use': 0}),\n",
       "  (['x'], {'use': 0}),\n",
       "  (['y'], {'use': 0}),\n",
       "  (['z'], {'use': 0}),\n",
       "  (['A'], {'use': 0}),\n",
       "  (['B'], {'use': 0}),\n",
       "  (['C'], {'use': 0}),\n",
       "  (['D'], {'use': 0}),\n",
       "  (['E'], {'use': 0}),\n",
       "  (['F'], {'use': 0}),\n",
       "  (['G'], {'use': 0}),\n",
       "  (['H'], {'use': 0}),\n",
       "  (['I'], {'use': 0}),\n",
       "  (['J'], {'use': 0}),\n",
       "  (['K'], {'use': 0}),\n",
       "  (['L'], {'use': 0}),\n",
       "  (['M'], {'use': 0}),\n",
       "  (['N'], {'use': 0}),\n",
       "  (['O'], {'use': 0}),\n",
       "  (['P'], {'use': 0}),\n",
       "  (['Q'], {'use': 0}),\n",
       "  (['R'], {'use': 0}),\n",
       "  (['S'], {'use': 0}),\n",
       "  (['T'], {'use': 0}),\n",
       "  (['U'], {'use': 0}),\n",
       "  (['V'], {'use': 0}),\n",
       "  (['W'], {'use': 0}),\n",
       "  (['X'], {'use': 0}),\n",
       "  (['Y'], {'use': 0}),\n",
       "  (['Z'], {'use': 0}),\n",
       "  (['!'], {'use': 0}),\n",
       "  (['#'], {'use': 0}),\n",
       "  (['$'], {'use': 0}),\n",
       "  (['%'], {'use': 0}),\n",
       "  (['&'], {'use': 0}),\n",
       "  (['('], {'use': 0}),\n",
       "  ([')'], {'use': 0}),\n",
       "  (['*'], {'use': 0}),\n",
       "  (['+'], {'use': 0}),\n",
       "  ([','], {'use': 0}),\n",
       "  (['-'], {'use': 0}),\n",
       "  (['.'], {'use': 0}),\n",
       "  (['/'], {'use': 0}),\n",
       "  ([':'], {'use': 0}),\n",
       "  ([';'], {'use': 0}),\n",
       "  (['='], {'use': 0}),\n",
       "  (['?'], {'use': 0}),\n",
       "  (['@'], {'use': 0}),\n",
       "  (['['], {'use': 0}),\n",
       "  (['\\\\'], {'use': 0}),\n",
       "  ([']'], {'use': 0}),\n",
       "  (['^'], {'use': 0}),\n",
       "  (['_'], {'use': 0}),\n",
       "  (['`'], {'use': 0}),\n",
       "  (['{'], {'use': 0}),\n",
       "  (['|'], {'use': 0}),\n",
       "  (['}'], {'use': 0}),\n",
       "  (['~'], {'use': 0}),\n",
       "  ([' '], {'use': 0}),\n",
       "  (['<lt>'], {'use': 0}),\n",
       "  (['<gt>'], {'use': 0})]}"
      ]
     },
     "execution_count": 230,
     "metadata": {},
     "output_type": "execute_result"
    }
   ],
   "source": [
    "tgf.ctp_grammar"
   ]
  },
  {
   "cell_type": "markdown",
   "metadata": {
    "slideshow": {
     "slide_type": "subslide"
    }
   },
   "source": [
    "From here, the idea is to focus on the rules that reached dangerous operations more often, and increase the probability of the values of that kind."
   ]
  },
  {
   "cell_type": "markdown",
   "metadata": {
    "slideshow": {
     "slide_type": "subslide"
    },
    "toc-hr-collapsed": false
   },
   "source": [
    "### The Limits of Taint Tracking\n",
    "\n",
    "While our framework can detect information leakage, it is by no means perfect.  There are several ways in which taints can get lost and information thus may still leak out."
   ]
  },
  {
   "cell_type": "markdown",
   "metadata": {
    "slideshow": {
     "slide_type": "subslide"
    }
   },
   "source": [
    "#### Conversions\n",
    "\n",
    "We only track taints and origins through _strings_ and _characters_.  If we convert these to numbers (or other data), the information is lost."
   ]
  },
  {
   "cell_type": "markdown",
   "metadata": {
    "slideshow": {
     "slide_type": "fragment"
    }
   },
   "source": [
    "As an example, consider this function, converting individual characters to numbers and back:"
   ]
  },
  {
   "cell_type": "code",
   "execution_count": 231,
   "metadata": {
    "execution": {
     "iopub.execute_input": "2023-11-12T12:46:56.646484Z",
     "iopub.status.busy": "2023-11-12T12:46:56.646355Z",
     "iopub.status.idle": "2023-11-12T12:46:56.648544Z",
     "shell.execute_reply": "2023-11-12T12:46:56.648184Z"
    },
    "slideshow": {
     "slide_type": "fragment"
    }
   },
   "outputs": [],
   "source": [
    "def strip_all_info(s):\n",
    "    t = \"\"\n",
    "    for c in s:\n",
    "        t += chr(ord(c))\n",
    "    return t"
   ]
  },
  {
   "cell_type": "code",
   "execution_count": 232,
   "metadata": {
    "execution": {
     "iopub.execute_input": "2023-11-12T12:46:56.650345Z",
     "iopub.status.busy": "2023-11-12T12:46:56.650220Z",
     "iopub.status.idle": "2023-11-12T12:46:56.653140Z",
     "shell.execute_reply": "2023-11-12T12:46:56.652800Z"
    },
    "slideshow": {
     "slide_type": "fragment"
    }
   },
   "outputs": [
    {
     "data": {
      "text/plain": [
       "'Secret'"
      ]
     },
     "execution_count": 232,
     "metadata": {},
     "output_type": "execute_result"
    }
   ],
   "source": [
    "othello = ostr(\"Secret\")\n",
    "othello"
   ]
  },
  {
   "cell_type": "code",
   "execution_count": 233,
   "metadata": {
    "execution": {
     "iopub.execute_input": "2023-11-12T12:46:56.655223Z",
     "iopub.status.busy": "2023-11-12T12:46:56.655074Z",
     "iopub.status.idle": "2023-11-12T12:46:56.657800Z",
     "shell.execute_reply": "2023-11-12T12:46:56.657372Z"
    },
    "slideshow": {
     "slide_type": "subslide"
    }
   },
   "outputs": [
    {
     "data": {
      "text/plain": [
       "[0, 1, 2, 3, 4, 5]"
      ]
     },
     "execution_count": 233,
     "metadata": {},
     "output_type": "execute_result"
    }
   ],
   "source": [
    "othello.origin  # type: ignore"
   ]
  },
  {
   "cell_type": "markdown",
   "metadata": {
    "slideshow": {
     "slide_type": "fragment"
    }
   },
   "source": [
    "The taints and origins will not propagate through the number conversion:"
   ]
  },
  {
   "cell_type": "code",
   "execution_count": 234,
   "metadata": {
    "execution": {
     "iopub.execute_input": "2023-11-12T12:46:56.660013Z",
     "iopub.status.busy": "2023-11-12T12:46:56.659881Z",
     "iopub.status.idle": "2023-11-12T12:46:56.663014Z",
     "shell.execute_reply": "2023-11-12T12:46:56.662689Z"
    },
    "slideshow": {
     "slide_type": "fragment"
    }
   },
   "outputs": [
    {
     "data": {
      "text/plain": [
       "'hello, world'"
      ]
     },
     "execution_count": 234,
     "metadata": {},
     "output_type": "execute_result"
    }
   ],
   "source": [
    "thello_stripped = strip_all_info(thello)\n",
    "thello_stripped"
   ]
  },
  {
   "cell_type": "code",
   "execution_count": 235,
   "metadata": {
    "execution": {
     "iopub.execute_input": "2023-11-12T12:46:56.665015Z",
     "iopub.status.busy": "2023-11-12T12:46:56.664884Z",
     "iopub.status.idle": "2023-11-12T12:46:56.667179Z",
     "shell.execute_reply": "2023-11-12T12:46:56.666863Z"
    },
    "slideshow": {
     "slide_type": "fragment"
    }
   },
   "outputs": [
    {
     "name": "stderr",
     "output_type": "stream",
     "text": [
      "Traceback (most recent call last):\n",
      "  File \"/var/folders/n2/xd9445p97rb3xh7m1dfx8_4h0006ts/T/ipykernel_32812/588526133.py\", line 2, in <cell line: 1>\n",
      "    thello_stripped.origin\n",
      "AttributeError: 'str' object has no attribute 'origin' (expected)\n"
     ]
    }
   ],
   "source": [
    "with ExpectError():\n",
    "    thello_stripped.origin"
   ]
  },
  {
   "cell_type": "markdown",
   "metadata": {
    "slideshow": {
     "slide_type": "subslide"
    }
   },
   "source": [
    "This issue could be addressed by extending numbers with taints and origins, just as we did for strings.  At some point, however, this will still break down, because as soon as an internal C function in the Python library is reached, the taint will not propagate into and across the C function.  (Unless one starts implementing dynamic taints for these, that is.)"
   ]
  },
  {
   "cell_type": "markdown",
   "metadata": {
    "slideshow": {
     "slide_type": "subslide"
    }
   },
   "source": [
    "#### Internal C libraries"
   ]
  },
  {
   "cell_type": "markdown",
   "metadata": {
    "slideshow": {
     "slide_type": "fragment"
    }
   },
   "source": [
    "As we mentioned before, calls to _internal_ C libraries do not propagate taints. For example, while the following preserves the taints,"
   ]
  },
  {
   "cell_type": "code",
   "execution_count": 236,
   "metadata": {
    "execution": {
     "iopub.execute_input": "2023-11-12T12:46:56.669221Z",
     "iopub.status.busy": "2023-11-12T12:46:56.669045Z",
     "iopub.status.idle": "2023-11-12T12:46:56.671816Z",
     "shell.execute_reply": "2023-11-12T12:46:56.671512Z"
    },
    "slideshow": {
     "slide_type": "fragment"
    }
   },
   "outputs": [
    {
     "data": {
      "text/plain": [
       "[100, 101, 102, 103, 104, -1, 200, 201, 202, 203, 204]"
      ]
     },
     "execution_count": 236,
     "metadata": {},
     "output_type": "execute_result"
    }
   ],
   "source": [
    "hello = ostr('hello', origin=100)\n",
    "world = ostr('world', origin=200)\n",
    "(hello + ' ' + world).origin"
   ]
  },
  {
   "cell_type": "markdown",
   "metadata": {
    "slideshow": {
     "slide_type": "fragment"
    }
   },
   "source": [
    "a call to a `join` that should be equivalent will fail."
   ]
  },
  {
   "cell_type": "code",
   "execution_count": 237,
   "metadata": {
    "execution": {
     "iopub.execute_input": "2023-11-12T12:46:56.673900Z",
     "iopub.status.busy": "2023-11-12T12:46:56.673741Z",
     "iopub.status.idle": "2023-11-12T12:46:56.676298Z",
     "shell.execute_reply": "2023-11-12T12:46:56.675890Z"
    },
    "slideshow": {
     "slide_type": "fragment"
    }
   },
   "outputs": [
    {
     "name": "stderr",
     "output_type": "stream",
     "text": [
      "Traceback (most recent call last):\n",
      "  File \"/var/folders/n2/xd9445p97rb3xh7m1dfx8_4h0006ts/T/ipykernel_32812/2341342688.py\", line 2, in <cell line: 1>\n",
      "    ''.join([hello, ' ', world]).origin  # type: ignore\n",
      "AttributeError: 'str' object has no attribute 'origin' (expected)\n"
     ]
    }
   ],
   "source": [
    "with ExpectError():\n",
    "    ''.join([hello, ' ', world]).origin  # type: ignore"
   ]
  },
  {
   "cell_type": "markdown",
   "metadata": {
    "slideshow": {
     "slide_type": "subslide"
    }
   },
   "source": [
    "#### Implicit Information Flow\n",
    "\n",
    "Even if one could taint all data in a program, there still would be means to break information flow – notably by turning explicit flow into _implicit_ flow, or data flow into _control flow_.  Here is an example:"
   ]
  },
  {
   "cell_type": "code",
   "execution_count": 238,
   "metadata": {
    "execution": {
     "iopub.execute_input": "2023-11-12T12:46:56.678299Z",
     "iopub.status.busy": "2023-11-12T12:46:56.678125Z",
     "iopub.status.idle": "2023-11-12T12:46:56.680341Z",
     "shell.execute_reply": "2023-11-12T12:46:56.680040Z"
    },
    "slideshow": {
     "slide_type": "subslide"
    }
   },
   "outputs": [],
   "source": [
    "def strip_all_info_again(s):\n",
    "    t = \"\"\n",
    "    for c in s:\n",
    "        if c == 'a':\n",
    "            t += 'a'\n",
    "        elif c == 'b':\n",
    "            t += 'b'\n",
    "        elif c == 'c':\n",
    "            t += 'c'\n",
    "    ..."
   ]
  },
  {
   "cell_type": "markdown",
   "metadata": {
    "slideshow": {
     "slide_type": "fragment"
    }
   },
   "source": [
    "With such a function, there is no explicit data flow between the characters in `s` and the characters in `t`; yet, the strings would be identical.  This problem frequently occurs in programs that process and manipulate external input."
   ]
  },
  {
   "attachments": {},
   "cell_type": "markdown",
   "metadata": {
    "slideshow": {
     "slide_type": "subslide"
    }
   },
   "source": [
    "#### Enforcing Tainting\n",
    "\n",
    "Both, conversions and implicit information flow are one of several possibilities how taint and origin information get lost.  To address the problem, the best solution is to _always assume the worst from untainted strings_:\n",
    "\n",
    "* As it comes to trust, an untainted string should be treated as _possibly untrusted_, and hence not relied upon unless sanitized.\n",
    "\n",
    "* As it comes to privacy, an untainted string should be treated as _possibly secret_, and hence not leaked out.\n",
    "\n",
    "As a consequence, your program should always have two kinds of taints: one for explicitly trusted (or secret) and one for explicitly untrusted (or non-secret).  If a taint gets lost along the way, you may have to restore it from its sources – not unlike the string methods discussed above.  The benefit is a trusted application, in which each and every information flow can be checked at runtime, with violations quickly discovered through automated tests."
   ]
  },
  {
   "cell_type": "markdown",
   "metadata": {
    "slideshow": {
     "slide_type": "slide"
    }
   },
   "source": [
    "## Synopsis"
   ]
  },
  {
   "cell_type": "markdown",
   "metadata": {
    "slideshow": {
     "slide_type": "fragment"
    }
   },
   "source": [
    "This chapter provides two wrappers to Python _strings_ that allow one to track various properties. These include information on the security properties of the input, and information on originating indexes of the input string."
   ]
  },
  {
   "cell_type": "markdown",
   "metadata": {
    "slideshow": {
     "slide_type": "subslide"
    }
   },
   "source": [
    "### Tracking String Taints\n",
    "\n",
    "`tstr` objects are replacements for Python strings that allows tracking and checking _taints_ – that is, information on from where a string originated. For instance, one can mark strings that originate from third party input with a taint of \"LOW\", meaning that they have a low security level. The taint is passed in the constructor of a `tstr` object:"
   ]
  },
  {
   "cell_type": "code",
   "execution_count": 239,
   "metadata": {
    "execution": {
     "iopub.execute_input": "2023-11-12T12:46:56.682556Z",
     "iopub.status.busy": "2023-11-12T12:46:56.682394Z",
     "iopub.status.idle": "2023-11-12T12:46:56.684555Z",
     "shell.execute_reply": "2023-11-12T12:46:56.684137Z"
    },
    "slideshow": {
     "slide_type": "fragment"
    }
   },
   "outputs": [],
   "source": [
    "thello = tstr('hello', taint='LOW')"
   ]
  },
  {
   "cell_type": "markdown",
   "metadata": {
    "slideshow": {
     "slide_type": "fragment"
    }
   },
   "source": [
    "A `tstr` object is fully compatible with original Python strings. For instance, we can index it and access substrings:"
   ]
  },
  {
   "cell_type": "code",
   "execution_count": 240,
   "metadata": {
    "execution": {
     "iopub.execute_input": "2023-11-12T12:46:56.686472Z",
     "iopub.status.busy": "2023-11-12T12:46:56.686314Z",
     "iopub.status.idle": "2023-11-12T12:46:56.688875Z",
     "shell.execute_reply": "2023-11-12T12:46:56.688517Z"
    },
    "slideshow": {
     "slide_type": "fragment"
    }
   },
   "outputs": [
    {
     "data": {
      "text/plain": [
       "'hell'"
      ]
     },
     "execution_count": 240,
     "metadata": {},
     "output_type": "execute_result"
    }
   ],
   "source": [
    "thello[:4]"
   ]
  },
  {
   "cell_type": "markdown",
   "metadata": {
    "slideshow": {
     "slide_type": "fragment"
    }
   },
   "source": [
    "However, the `tstr` object also stores the taint, which can be accessed using the `taint` attribute:"
   ]
  },
  {
   "cell_type": "code",
   "execution_count": 241,
   "metadata": {
    "execution": {
     "iopub.execute_input": "2023-11-12T12:46:56.690878Z",
     "iopub.status.busy": "2023-11-12T12:46:56.690676Z",
     "iopub.status.idle": "2023-11-12T12:46:56.696825Z",
     "shell.execute_reply": "2023-11-12T12:46:56.696484Z"
    },
    "slideshow": {
     "slide_type": "subslide"
    }
   },
   "outputs": [
    {
     "data": {
      "text/plain": [
       "'LOW'"
      ]
     },
     "execution_count": 241,
     "metadata": {},
     "output_type": "execute_result"
    }
   ],
   "source": [
    "thello.taint"
   ]
  },
  {
   "cell_type": "markdown",
   "metadata": {
    "slideshow": {
     "slide_type": "fragment"
    }
   },
   "source": [
    "The neat thing about taints is that they propagate to all strings derived from the original tainted string.\n",
    "Indeed, any operation from a  `tstr` string that results in a string fragment produces another `tstr` object that includes the original taint. For example:"
   ]
  },
  {
   "cell_type": "code",
   "execution_count": 242,
   "metadata": {
    "execution": {
     "iopub.execute_input": "2023-11-12T12:46:56.698726Z",
     "iopub.status.busy": "2023-11-12T12:46:56.698602Z",
     "iopub.status.idle": "2023-11-12T12:46:56.701186Z",
     "shell.execute_reply": "2023-11-12T12:46:56.700828Z"
    },
    "slideshow": {
     "slide_type": "fragment"
    }
   },
   "outputs": [
    {
     "data": {
      "text/plain": [
       "'LOW'"
      ]
     },
     "execution_count": 242,
     "metadata": {},
     "output_type": "execute_result"
    }
   ],
   "source": [
    "thello[1:2].taint  # type: ignore"
   ]
  },
  {
   "cell_type": "markdown",
   "metadata": {
    "slideshow": {
     "slide_type": "fragment"
    }
   },
   "source": [
    "`tstr` objects duplicate most `str` methods, as indicated in the class diagram:"
   ]
  },
  {
   "cell_type": "code",
   "execution_count": 243,
   "metadata": {
    "execution": {
     "iopub.execute_input": "2023-11-12T12:46:56.703201Z",
     "iopub.status.busy": "2023-11-12T12:46:56.703065Z",
     "iopub.status.idle": "2023-11-12T12:46:57.296624Z",
     "shell.execute_reply": "2023-11-12T12:46:57.296223Z"
    },
    "slideshow": {
     "slide_type": "fragment"
    }
   },
   "outputs": [
    {
     "data": {
      "image/svg+xml": [
       "<?xml version=\"1.0\" encoding=\"UTF-8\" standalone=\"no\"?>\n",
       "<!DOCTYPE svg PUBLIC \"-//W3C//DTD SVG 1.1//EN\"\n",
       " \"http://www.w3.org/Graphics/SVG/1.1/DTD/svg11.dtd\">\n",
       "<!-- Generated by graphviz version 9.0.0 (20230911.1827)\n",
       " -->\n",
       "<!-- Pages: 1 -->\n",
       "<svg width=\"270pt\" height=\"510pt\"\n",
       " viewBox=\"0.00 0.00 269.62 509.75\" xmlns=\"http://www.w3.org/2000/svg\" xmlns:xlink=\"http://www.w3.org/1999/xlink\">\n",
       "<g id=\"graph0\" class=\"graph\" transform=\"scale(1 1) rotate(0) translate(4 505.75)\">\n",
       "<g id=\"a_graph0\"><a xlink:title=\"tstr class hierarchy\">\n",
       "<polygon fill=\"white\" stroke=\"none\" points=\"-4,4 -4,-505.75 265.62,-505.75 265.62,4 -4,4\"/>\n",
       "</a>\n",
       "</g>\n",
       "<!-- tstr -->\n",
       "<g id=\"node1\" class=\"node\">\n",
       "<title>tstr</title>\n",
       "<g id=\"a_node1\"><a xlink:href=\"#\" xlink:title=\"class tstr:&#10;Wrapper for strings, saving taint information\">\n",
       "<polygon fill=\"none\" stroke=\"black\" points=\"0,-0.5 0,-428.25 124,-428.25 124,-0.5 0,-0.5\"/>\n",
       "<text text-anchor=\"start\" x=\"51.12\" y=\"-411.95\" font-family=\"Patua One, Helvetica, sans-serif\" font-weight=\"bold\" font-size=\"14.00\" fill=\"#b03a2e\">tstr</text>\n",
       "<polyline fill=\"none\" stroke=\"black\" points=\"0,-402.25 124,-402.25\"/>\n",
       "<g id=\"a_node1_0\"><a xlink:href=\"#\" xlink:title=\"tstr\">\n",
       "<g id=\"a_node1_1\"><a xlink:href=\"#\" xlink:title=\"__add__(self, *args, **kwargs):&#10;Return self+value.\">\n",
       "<text text-anchor=\"start\" x=\"8\" y=\"-389.75\" font-family=\"'Fira Mono', 'Source Code Pro', 'Courier', monospace\" font-weight=\"bold\" font-size=\"10.00\">__add__()</text>\n",
       "</a>\n",
       "</g>\n",
       "<g id=\"a_node1_2\"><a xlink:href=\"#\" xlink:title=\"__format__(self, *args, **kwargs):&#10;Return a formatted version of the string as described by format_spec.\">\n",
       "<text text-anchor=\"start\" x=\"8\" y=\"-378.5\" font-family=\"'Fira Mono', 'Source Code Pro', 'Courier', monospace\" font-weight=\"bold\" font-size=\"10.00\">__format__()</text>\n",
       "</a>\n",
       "</g>\n",
       "<g id=\"a_node1_3\"><a xlink:href=\"#\" xlink:title=\"__getitem__(self, *args, **kwargs):&#10;Return self[key].\">\n",
       "<text text-anchor=\"start\" x=\"8\" y=\"-367.25\" font-family=\"'Fira Mono', 'Source Code Pro', 'Courier', monospace\" font-weight=\"bold\" font-size=\"10.00\">__getitem__()</text>\n",
       "</a>\n",
       "</g>\n",
       "<g id=\"a_node1_4\"><a xlink:href=\"#\" xlink:title=\"__init__(self, value: Any, taint: Any = None, **kwargs) &#45;&gt; None:&#10;Constructor.&#10;`value` is the string value the `tstr` object is to be constructed from.&#10;`taint` is an (optional) taint to be propagated to derived strings.\">\n",
       "<text text-anchor=\"start\" x=\"8\" y=\"-356\" font-family=\"'Fira Mono', 'Source Code Pro', 'Courier', monospace\" font-weight=\"bold\" font-size=\"10.00\">__init__()</text>\n",
       "</a>\n",
       "</g>\n",
       "<g id=\"a_node1_5\"><a xlink:href=\"#\" xlink:title=\"__mod__(self, *args, **kwargs):&#10;Return self%value.\">\n",
       "<text text-anchor=\"start\" x=\"8\" y=\"-344.75\" font-family=\"'Fira Mono', 'Source Code Pro', 'Courier', monospace\" font-weight=\"bold\" font-size=\"10.00\">__mod__()</text>\n",
       "</a>\n",
       "</g>\n",
       "<g id=\"a_node1_6\"><a xlink:href=\"#\" xlink:title=\"__mul__(self, *args, **kwargs):&#10;Return self*value.\">\n",
       "<text text-anchor=\"start\" x=\"8\" y=\"-333.5\" font-family=\"'Fira Mono', 'Source Code Pro', 'Courier', monospace\" font-weight=\"bold\" font-size=\"10.00\">__mul__()</text>\n",
       "</a>\n",
       "</g>\n",
       "<g id=\"a_node1_7\"><a xlink:href=\"#\" xlink:title=\"__new__(cls, value, *args, **kw):&#10;Create a tstr() instance. Used internally.\">\n",
       "<text text-anchor=\"start\" x=\"8\" y=\"-322.25\" font-family=\"'Fira Mono', 'Source Code Pro', 'Courier', monospace\" font-weight=\"bold\" font-size=\"10.00\">__new__()</text>\n",
       "</a>\n",
       "</g>\n",
       "<g id=\"a_node1_8\"><a xlink:href=\"#\" xlink:title=\"__radd__(self, value):&#10;Return value + self, as a `tstr` object\">\n",
       "<text text-anchor=\"start\" x=\"8\" y=\"-311\" font-family=\"'Fira Mono', 'Source Code Pro', 'Courier', monospace\" font-weight=\"bold\" font-size=\"10.00\">__radd__()</text>\n",
       "</a>\n",
       "</g>\n",
       "<g id=\"a_node1_9\"><a xlink:href=\"#\" xlink:title=\"__repr__(self) &#45;&gt; tstr:&#10;Return a representation.\">\n",
       "<text text-anchor=\"start\" x=\"8\" y=\"-299.75\" font-family=\"'Fira Mono', 'Source Code Pro', 'Courier', monospace\" font-weight=\"bold\" font-size=\"10.00\">__repr__()</text>\n",
       "</a>\n",
       "</g>\n",
       "<g id=\"a_node1_10\"><a xlink:href=\"#\" xlink:title=\"__rmod__(self, *args, **kwargs):&#10;Return value%self.\">\n",
       "<text text-anchor=\"start\" x=\"8\" y=\"-288.5\" font-family=\"'Fira Mono', 'Source Code Pro', 'Courier', monospace\" font-weight=\"bold\" font-size=\"10.00\">__rmod__()</text>\n",
       "</a>\n",
       "</g>\n",
       "<g id=\"a_node1_11\"><a xlink:href=\"#\" xlink:title=\"__rmul__(self, *args, **kwargs):&#10;Return value*self.\">\n",
       "<text text-anchor=\"start\" x=\"8\" y=\"-277.25\" font-family=\"'Fira Mono', 'Source Code Pro', 'Courier', monospace\" font-weight=\"bold\" font-size=\"10.00\">__rmul__()</text>\n",
       "</a>\n",
       "</g>\n",
       "<g id=\"a_node1_12\"><a xlink:href=\"#\" xlink:title=\"__str__(self) &#45;&gt; str:&#10;Convert to string\">\n",
       "<text text-anchor=\"start\" x=\"8\" y=\"-266\" font-family=\"'Fira Mono', 'Source Code Pro', 'Courier', monospace\" font-weight=\"bold\" font-size=\"10.00\">__str__()</text>\n",
       "</a>\n",
       "</g>\n",
       "<g id=\"a_node1_13\"><a xlink:href=\"#\" xlink:title=\"capitalize(self, *args, **kwargs):&#10;Return a capitalized version of the string.&#10;&#10;More specifically, make the first character have upper case and the rest lower&#10;case.\">\n",
       "<text text-anchor=\"start\" x=\"8\" y=\"-254.75\" font-family=\"'Fira Mono', 'Source Code Pro', 'Courier', monospace\" font-weight=\"bold\" font-size=\"10.00\">capitalize()</text>\n",
       "</a>\n",
       "</g>\n",
       "<g id=\"a_node1_14\"><a xlink:href=\"#\" xlink:title=\"casefold(self, *args, **kwargs):&#10;Return a version of the string suitable for caseless comparisons.\">\n",
       "<text text-anchor=\"start\" x=\"8\" y=\"-243.5\" font-family=\"'Fira Mono', 'Source Code Pro', 'Courier', monospace\" font-weight=\"bold\" font-size=\"10.00\">casefold()</text>\n",
       "</a>\n",
       "</g>\n",
       "<g id=\"a_node1_15\"><a xlink:href=\"#\" xlink:title=\"center(self, *args, **kwargs):&#10;Return a centered string of length width.&#10;&#10;Padding is done using the specified fill character (default is a space).\">\n",
       "<text text-anchor=\"start\" x=\"8\" y=\"-232.25\" font-family=\"'Fira Mono', 'Source Code Pro', 'Courier', monospace\" font-weight=\"bold\" font-size=\"10.00\">center()</text>\n",
       "</a>\n",
       "</g>\n",
       "<g id=\"a_node1_16\"><a xlink:href=\"#\" xlink:title=\"clear_taint(self):&#10;Remove taint\">\n",
       "<text text-anchor=\"start\" x=\"8\" y=\"-221\" font-family=\"'Fira Mono', 'Source Code Pro', 'Courier', monospace\" font-weight=\"bold\" font-size=\"10.00\">clear_taint()</text>\n",
       "</a>\n",
       "</g>\n",
       "<g id=\"a_node1_17\"><a xlink:href=\"#\" xlink:title=\"encode(self, *args, **kwargs):&#10;Encode the string using the codec registered for encoding.&#10;&#10;encoding&#10;The encoding in which to encode the string.&#10;errors&#10;The error handling scheme to use for encoding errors.&#10;The default is &#39;strict&#39; meaning that encoding errors raise a&#10;UnicodeEncodeError. &#160;Other possible values are &#39;ignore&#39;, &#39;replace&#39; and&#10;&#39;xmlcharrefreplace&#39; as well as any other name registered with&#10;codecs.register_error that can handle UnicodeEncodeErrors.\">\n",
       "<text text-anchor=\"start\" x=\"8\" y=\"-209.75\" font-family=\"'Fira Mono', 'Source Code Pro', 'Courier', monospace\" font-weight=\"bold\" font-size=\"10.00\">encode()</text>\n",
       "</a>\n",
       "</g>\n",
       "<g id=\"a_node1_18\"><a xlink:href=\"#\" xlink:title=\"expandtabs(self, *args, **kwargs):&#10;Return a copy where all tab characters are expanded using spaces.&#10;&#10;If tabsize is not given, a tab size of 8 characters is assumed.\">\n",
       "<text text-anchor=\"start\" x=\"8\" y=\"-198.5\" font-family=\"'Fira Mono', 'Source Code Pro', 'Courier', monospace\" font-weight=\"bold\" font-size=\"10.00\">expandtabs()</text>\n",
       "</a>\n",
       "</g>\n",
       "<g id=\"a_node1_19\"><a xlink:href=\"#\" xlink:title=\"format(self, *args, **kwargs):&#10;S.format(*args, **kwargs) &#45;&gt; str&#10;&#10;Return a formatted version of S, using substitutions from args and kwargs.&#10;The substitutions are identified by braces (&#39;{&#39; and &#39;}&#39;).\">\n",
       "<text text-anchor=\"start\" x=\"8\" y=\"-187.25\" font-family=\"'Fira Mono', 'Source Code Pro', 'Courier', monospace\" font-weight=\"bold\" font-size=\"10.00\">format()</text>\n",
       "</a>\n",
       "</g>\n",
       "<g id=\"a_node1_20\"><a xlink:href=\"#\" xlink:title=\"format_map(self, *args, **kwargs):&#10;S.format_map(mapping) &#45;&gt; str&#10;&#10;Return a formatted version of S, using substitutions from mapping.&#10;The substitutions are identified by braces (&#39;{&#39; and &#39;}&#39;).\">\n",
       "<text text-anchor=\"start\" x=\"8\" y=\"-176\" font-family=\"'Fira Mono', 'Source Code Pro', 'Courier', monospace\" font-weight=\"bold\" font-size=\"10.00\">format_map()</text>\n",
       "</a>\n",
       "</g>\n",
       "<g id=\"a_node1_21\"><a xlink:href=\"#\" xlink:title=\"has_taint(self):&#10;Check if taint is present\">\n",
       "<text text-anchor=\"start\" x=\"8\" y=\"-164.75\" font-family=\"'Fira Mono', 'Source Code Pro', 'Courier', monospace\" font-weight=\"bold\" font-size=\"10.00\">has_taint()</text>\n",
       "</a>\n",
       "</g>\n",
       "<g id=\"a_node1_22\"><a xlink:href=\"#\" xlink:title=\"join(self, *args, **kwargs):&#10;Concatenate any number of strings.&#10;&#10;The string whose method is called is inserted in between each given string.&#10;The result is returned as a new string.&#10;&#10;Example: &#39;.&#39;.join([&#39;ab&#39;, &#39;pq&#39;, &#39;rs&#39;]) &#45;&gt; &#39;ab.pq.rs&#39;\">\n",
       "<text text-anchor=\"start\" x=\"8\" y=\"-153.5\" font-family=\"'Fira Mono', 'Source Code Pro', 'Courier', monospace\" font-weight=\"bold\" font-size=\"10.00\">join()</text>\n",
       "</a>\n",
       "</g>\n",
       "<g id=\"a_node1_23\"><a xlink:href=\"#\" xlink:title=\"ljust(self, *args, **kwargs):&#10;Return a left&#45;justified string of length width.&#10;&#10;Padding is done using the specified fill character (default is a space).\">\n",
       "<text text-anchor=\"start\" x=\"8\" y=\"-142.25\" font-family=\"'Fira Mono', 'Source Code Pro', 'Courier', monospace\" font-weight=\"bold\" font-size=\"10.00\">ljust()</text>\n",
       "</a>\n",
       "</g>\n",
       "<g id=\"a_node1_24\"><a xlink:href=\"#\" xlink:title=\"lower(self, *args, **kwargs):&#10;Return a copy of the string converted to lowercase.\">\n",
       "<text text-anchor=\"start\" x=\"8\" y=\"-131\" font-family=\"'Fira Mono', 'Source Code Pro', 'Courier', monospace\" font-weight=\"bold\" font-size=\"10.00\">lower()</text>\n",
       "</a>\n",
       "</g>\n",
       "<g id=\"a_node1_25\"><a xlink:href=\"#\" xlink:title=\"lstrip(self, *args, **kwargs):&#10;Return a copy of the string with leading whitespace removed.&#10;&#10;If chars is given and not None, remove characters in chars instead.\">\n",
       "<text text-anchor=\"start\" x=\"8\" y=\"-119.75\" font-family=\"'Fira Mono', 'Source Code Pro', 'Courier', monospace\" font-weight=\"bold\" font-size=\"10.00\">lstrip()</text>\n",
       "</a>\n",
       "</g>\n",
       "<g id=\"a_node1_26\"><a xlink:href=\"#\" xlink:title=\"make_str_wrapper(fun):&#10;Make `fun` (a `str` method) a method in `tstr`\">\n",
       "<text text-anchor=\"start\" x=\"8\" y=\"-108.5\" font-family=\"'Fira Mono', 'Source Code Pro', 'Courier', monospace\" font-weight=\"bold\" font-size=\"10.00\">make_str_wrapper()</text>\n",
       "</a>\n",
       "</g>\n",
       "<g id=\"a_node1_27\"><a xlink:href=\"#\" xlink:title=\"replace(self, *args, **kwargs):&#10;Return a copy with all occurrences of substring old replaced by new.&#10;&#10;count&#10;Maximum number of occurrences to replace.&#10;&#45;1 (the default value) means replace all occurrences.&#10;&#10;If the optional argument count is given, only the first count occurrences are&#10;replaced.\">\n",
       "<text text-anchor=\"start\" x=\"8\" y=\"-97.25\" font-family=\"'Fira Mono', 'Source Code Pro', 'Courier', monospace\" font-weight=\"bold\" font-size=\"10.00\">replace()</text>\n",
       "</a>\n",
       "</g>\n",
       "<g id=\"a_node1_28\"><a xlink:href=\"#\" xlink:title=\"rjust(self, *args, **kwargs):&#10;Return a right&#45;justified string of length width.&#10;&#10;Padding is done using the specified fill character (default is a space).\">\n",
       "<text text-anchor=\"start\" x=\"8\" y=\"-86\" font-family=\"'Fira Mono', 'Source Code Pro', 'Courier', monospace\" font-weight=\"bold\" font-size=\"10.00\">rjust()</text>\n",
       "</a>\n",
       "</g>\n",
       "<g id=\"a_node1_29\"><a xlink:href=\"#\" xlink:title=\"rstrip(self, *args, **kwargs):&#10;Return a copy of the string with trailing whitespace removed.&#10;&#10;If chars is given and not None, remove characters in chars instead.\">\n",
       "<text text-anchor=\"start\" x=\"8\" y=\"-74.75\" font-family=\"'Fira Mono', 'Source Code Pro', 'Courier', monospace\" font-weight=\"bold\" font-size=\"10.00\">rstrip()</text>\n",
       "</a>\n",
       "</g>\n",
       "<g id=\"a_node1_30\"><a xlink:href=\"#\" xlink:title=\"strip(self, *args, **kwargs):&#10;Return a copy of the string with leading and trailing whitespace removed.&#10;&#10;If chars is given and not None, remove characters in chars instead.\">\n",
       "<text text-anchor=\"start\" x=\"8\" y=\"-63.5\" font-family=\"'Fira Mono', 'Source Code Pro', 'Courier', monospace\" font-weight=\"bold\" font-size=\"10.00\">strip()</text>\n",
       "</a>\n",
       "</g>\n",
       "<g id=\"a_node1_31\"><a xlink:href=\"#\" xlink:title=\"swapcase(self, *args, **kwargs):&#10;Convert uppercase characters to lowercase and lowercase characters to uppercase.\">\n",
       "<text text-anchor=\"start\" x=\"8\" y=\"-52.25\" font-family=\"'Fira Mono', 'Source Code Pro', 'Courier', monospace\" font-weight=\"bold\" font-size=\"10.00\">swapcase()</text>\n",
       "</a>\n",
       "</g>\n",
       "<g id=\"a_node1_32\"><a xlink:href=\"#\" xlink:title=\"title(self, *args, **kwargs):&#10;Return a version of the string where each word is titlecased.&#10;&#10;More specifically, words start with uppercased characters and all remaining&#10;cased characters have lower case.\">\n",
       "<text text-anchor=\"start\" x=\"8\" y=\"-41\" font-family=\"'Fira Mono', 'Source Code Pro', 'Courier', monospace\" font-weight=\"bold\" font-size=\"10.00\">title()</text>\n",
       "</a>\n",
       "</g>\n",
       "<g id=\"a_node1_33\"><a xlink:href=\"#\" xlink:title=\"translate(self, *args, **kwargs):&#10;Replace each character in the string using the given translation table.&#10;&#10;table&#10;Translation table, which must be a mapping of Unicode ordinals to&#10;Unicode ordinals, strings, or None.&#10;&#10;The table must implement lookup/indexing via __getitem__, for instance a&#10;dictionary or list. &#160;If this operation raises LookupError, the character is&#10;left untouched. &#160;Characters mapped to None are deleted.\">\n",
       "<text text-anchor=\"start\" x=\"8\" y=\"-29.75\" font-family=\"'Fira Mono', 'Source Code Pro', 'Courier', monospace\" font-weight=\"bold\" font-size=\"10.00\">translate()</text>\n",
       "</a>\n",
       "</g>\n",
       "<g id=\"a_node1_34\"><a xlink:href=\"#\" xlink:title=\"upper(self, *args, **kwargs):&#10;Return a copy of the string converted to uppercase.\">\n",
       "<text text-anchor=\"start\" x=\"8\" y=\"-18.5\" font-family=\"'Fira Mono', 'Source Code Pro', 'Courier', monospace\" font-weight=\"bold\" font-size=\"10.00\">upper()</text>\n",
       "</a>\n",
       "</g>\n",
       "<g id=\"a_node1_35\"><a xlink:href=\"#\" xlink:title=\"create(self, s)\">\n",
       "<text text-anchor=\"start\" x=\"8\" y=\"-6.25\" font-family=\"'Fira Mono', 'Source Code Pro', 'Courier', monospace\" font-size=\"10.00\">create()</text>\n",
       "</a>\n",
       "</g>\n",
       "</a>\n",
       "</g>\n",
       "</a>\n",
       "</g>\n",
       "</g>\n",
       "<!-- str -->\n",
       "<g id=\"node2\" class=\"node\">\n",
       "<title>str</title>\n",
       "<g id=\"a_node2\"><a xlink:href=\"builtins.ipynb\" xlink:title=\"class str:&#10;str(object=&#39;&#39;) &#45;&gt; str&#10;str(bytes_or_buffer[, encoding[, errors]]) &#45;&gt; str&#10;&#10;Create a new string object from the given object. If encoding or&#10;errors is specified, then the object must expose a data buffer&#10;that will be decoded using the given encoding and error handler.&#10;Otherwise, returns the result of object.__str__() (if defined)&#10;or repr(object).&#10;encoding defaults to sys.getdefaultencoding().&#10;errors defaults to &#39;strict&#39;.\">\n",
       "<polygon fill=\"none\" stroke=\"black\" points=\"35,-465.25 35,-501.25 89,-501.25 89,-465.25 35,-465.25\"/>\n",
       "<text text-anchor=\"start\" x=\"53.5\" y=\"-479.95\" font-family=\"Patua One, Helvetica, sans-serif\" font-weight=\"bold\" font-size=\"14.00\" fill=\"#b03a2e\">str</text>\n",
       "</a>\n",
       "</g>\n",
       "</g>\n",
       "<!-- tstr&#45;&gt;str -->\n",
       "<g id=\"edge1\" class=\"edge\">\n",
       "<title>tstr&#45;&gt;str</title>\n",
       "<path fill=\"none\" stroke=\"black\" d=\"M62,-428.56C62,-437.76 62,-446.16 62,-453.45\"/>\n",
       "<polygon fill=\"none\" stroke=\"black\" points=\"58.5,-453.43 62,-463.43 65.5,-453.43 58.5,-453.43\"/>\n",
       "</g>\n",
       "<!-- Legend -->\n",
       "<g id=\"node3\" class=\"node\">\n",
       "<title>Legend</title>\n",
       "<text text-anchor=\"start\" x=\"142.38\" y=\"-230.38\" font-family=\"Patua One, Helvetica, sans-serif\" font-weight=\"bold\" font-size=\"10.00\" fill=\"#b03a2e\">Legend</text>\n",
       "<text text-anchor=\"start\" x=\"142.38\" y=\"-220.38\" font-family=\"Patua One, Helvetica, sans-serif\" font-size=\"10.00\">• </text>\n",
       "<text text-anchor=\"start\" x=\"148.38\" y=\"-220.38\" font-family=\"'Fira Mono', 'Source Code Pro', 'Courier', monospace\" font-weight=\"bold\" font-size=\"8.00\">public_method()</text>\n",
       "<text text-anchor=\"start\" x=\"142.38\" y=\"-210.38\" font-family=\"Patua One, Helvetica, sans-serif\" font-size=\"10.00\">• </text>\n",
       "<text text-anchor=\"start\" x=\"148.38\" y=\"-210.38\" font-family=\"'Fira Mono', 'Source Code Pro', 'Courier', monospace\" font-size=\"8.00\">private_method()</text>\n",
       "<text text-anchor=\"start\" x=\"142.38\" y=\"-200.38\" font-family=\"Patua One, Helvetica, sans-serif\" font-size=\"10.00\">• </text>\n",
       "<text text-anchor=\"start\" x=\"148.38\" y=\"-200.38\" font-family=\"'Fira Mono', 'Source Code Pro', 'Courier', monospace\" font-style=\"italic\" font-size=\"8.00\">overloaded_method()</text>\n",
       "<text text-anchor=\"start\" x=\"142.38\" y=\"-191.32\" font-family=\"Helvetica,sans-Serif\" font-size=\"9.00\">Hover over names to see doc</text>\n",
       "</g>\n",
       "</g>\n",
       "</svg>\n"
      ],
      "text/plain": [
       "<graphviz.graphs.Digraph at 0x1077c9960>"
      ]
     },
     "execution_count": 243,
     "metadata": {},
     "output_type": "execute_result"
    }
   ],
   "source": [
    "# ignore\n",
    "from ClassDiagram import display_class_hierarchy\n",
    "display_class_hierarchy(tstr)"
   ]
  },
  {
   "cell_type": "markdown",
   "metadata": {
    "slideshow": {
     "slide_type": "subslide"
    }
   },
   "source": [
    "### Tracking Character Origins\n",
    "\n",
    "`ostr` objects extend `tstr` objects by not only tracking a taint, but also the originating _indexes_ from the input string, This allows you to exactly track where individual characters came from. Assume you have a long string, which at index 100 contains the password `\"joshua1234\"`. Then you can save this origin information using an `ostr` as follows:"
   ]
  },
  {
   "cell_type": "code",
   "execution_count": 244,
   "metadata": {
    "execution": {
     "iopub.execute_input": "2023-11-12T12:46:57.298493Z",
     "iopub.status.busy": "2023-11-12T12:46:57.298349Z",
     "iopub.status.idle": "2023-11-12T12:46:57.300473Z",
     "shell.execute_reply": "2023-11-12T12:46:57.300212Z"
    },
    "slideshow": {
     "slide_type": "fragment"
    }
   },
   "outputs": [],
   "source": [
    "secret = ostr(\"joshua1234\", origin=100, taint='SECRET')"
   ]
  },
  {
   "cell_type": "markdown",
   "metadata": {
    "slideshow": {
     "slide_type": "fragment"
    }
   },
   "source": [
    "The `origin` attribute of an `ostr` provides access to a list of indexes:"
   ]
  },
  {
   "cell_type": "code",
   "execution_count": 245,
   "metadata": {
    "execution": {
     "iopub.execute_input": "2023-11-12T12:46:57.302028Z",
     "iopub.status.busy": "2023-11-12T12:46:57.301910Z",
     "iopub.status.idle": "2023-11-12T12:46:57.304166Z",
     "shell.execute_reply": "2023-11-12T12:46:57.303915Z"
    },
    "slideshow": {
     "slide_type": "fragment"
    }
   },
   "outputs": [
    {
     "data": {
      "text/plain": [
       "[100, 101, 102, 103, 104, 105, 106, 107, 108, 109]"
      ]
     },
     "execution_count": 245,
     "metadata": {},
     "output_type": "execute_result"
    }
   ],
   "source": [
    "secret.origin"
   ]
  },
  {
   "cell_type": "code",
   "execution_count": 246,
   "metadata": {
    "execution": {
     "iopub.execute_input": "2023-11-12T12:46:57.305580Z",
     "iopub.status.busy": "2023-11-12T12:46:57.305475Z",
     "iopub.status.idle": "2023-11-12T12:46:57.307452Z",
     "shell.execute_reply": "2023-11-12T12:46:57.307189Z"
    },
    "slideshow": {
     "slide_type": "fragment"
    }
   },
   "outputs": [
    {
     "data": {
      "text/plain": [
       "'SECRET'"
      ]
     },
     "execution_count": 246,
     "metadata": {},
     "output_type": "execute_result"
    }
   ],
   "source": [
    "secret.taint"
   ]
  },
  {
   "cell_type": "markdown",
   "metadata": {
    "slideshow": {
     "slide_type": "subslide"
    }
   },
   "source": [
    "`ostr` objects are compatible with Python strings, except that string operations return `ostr` objects (together with the saved origin an index information). An index of `-1` indicates that the corresponding character has no origin as supplied to the `ostr()` constructor:"
   ]
  },
  {
   "cell_type": "code",
   "execution_count": 247,
   "metadata": {
    "execution": {
     "iopub.execute_input": "2023-11-12T12:46:57.308850Z",
     "iopub.status.busy": "2023-11-12T12:46:57.308749Z",
     "iopub.status.idle": "2023-11-12T12:46:57.310920Z",
     "shell.execute_reply": "2023-11-12T12:46:57.310652Z"
    },
    "slideshow": {
     "slide_type": "fragment"
    },
    "tags": []
   },
   "outputs": [
    {
     "data": {
      "text/plain": [
       "'SECRET'"
      ]
     },
     "execution_count": 247,
     "metadata": {},
     "output_type": "execute_result"
    }
   ],
   "source": [
    "secret_substr = (secret[0:4] + \"-\" + secret[6:])\n",
    "secret_substr.taint"
   ]
  },
  {
   "cell_type": "code",
   "execution_count": 248,
   "metadata": {
    "execution": {
     "iopub.execute_input": "2023-11-12T12:46:57.312378Z",
     "iopub.status.busy": "2023-11-12T12:46:57.312280Z",
     "iopub.status.idle": "2023-11-12T12:46:57.314287Z",
     "shell.execute_reply": "2023-11-12T12:46:57.313994Z"
    },
    "slideshow": {
     "slide_type": "fragment"
    }
   },
   "outputs": [
    {
     "data": {
      "text/plain": [
       "[100, 101, 102, 103, -1, 106, 107, 108, 109]"
      ]
     },
     "execution_count": 248,
     "metadata": {},
     "output_type": "execute_result"
    }
   ],
   "source": [
    "secret_substr.origin"
   ]
  },
  {
   "cell_type": "markdown",
   "metadata": {
    "slideshow": {
     "slide_type": "fragment"
    }
   },
   "source": [
    "`ostr` objects duplicate most `str` methods, as indicated in the class diagram:"
   ]
  },
  {
   "cell_type": "code",
   "execution_count": 249,
   "metadata": {
    "execution": {
     "iopub.execute_input": "2023-11-12T12:46:57.315970Z",
     "iopub.status.busy": "2023-11-12T12:46:57.315835Z",
     "iopub.status.idle": "2023-11-12T12:46:57.735524Z",
     "shell.execute_reply": "2023-11-12T12:46:57.735114Z"
    },
    "slideshow": {
     "slide_type": "fragment"
    }
   },
   "outputs": [
    {
     "data": {
      "image/svg+xml": [
       "<?xml version=\"1.0\" encoding=\"UTF-8\" standalone=\"no\"?>\n",
       "<!DOCTYPE svg PUBLIC \"-//W3C//DTD SVG 1.1//EN\"\n",
       " \"http://www.w3.org/Graphics/SVG/1.1/DTD/svg11.dtd\">\n",
       "<!-- Generated by graphviz version 9.0.0 (20230911.1827)\n",
       " -->\n",
       "<!-- Pages: 1 -->\n",
       "<svg width=\"252pt\" height=\"540pt\"\n",
       " viewBox=\"0.00 0.00 251.62 540.25\" xmlns=\"http://www.w3.org/2000/svg\" xmlns:xlink=\"http://www.w3.org/1999/xlink\">\n",
       "<g id=\"graph0\" class=\"graph\" transform=\"scale(1 1) rotate(0) translate(4 536.25)\">\n",
       "<g id=\"a_graph0\"><a xlink:title=\"ostr class hierarchy\">\n",
       "<polygon fill=\"white\" stroke=\"none\" points=\"-4,4 -4,-536.25 247.62,-536.25 247.62,4 -4,4\"/>\n",
       "</a>\n",
       "</g>\n",
       "<!-- ostr -->\n",
       "<g id=\"node1\" class=\"node\">\n",
       "<title>ostr</title>\n",
       "<g id=\"a_node1\"><a xlink:href=\"#\" xlink:title=\"class ostr:&#10;Wrapper for strings, saving taint and origin information\">\n",
       "<polygon fill=\"none\" stroke=\"black\" points=\"0,-0.5 0,-458.75 106,-458.75 106,-0.5 0,-0.5\"/>\n",
       "<text text-anchor=\"start\" x=\"41\" y=\"-442.45\" font-family=\"Patua One, Helvetica, sans-serif\" font-weight=\"bold\" font-size=\"14.00\" fill=\"#b03a2e\">ostr</text>\n",
       "<polyline fill=\"none\" stroke=\"black\" points=\"0,-432.75 106,-432.75\"/>\n",
       "<g id=\"a_node1_0\"><a xlink:href=\"#\" xlink:title=\"ostr\">\n",
       "<g id=\"a_node1_1\"><a xlink:href=\"#\" xlink:title=\"DEFAULT_ORIGIN = 0\">\n",
       "<text text-anchor=\"start\" x=\"11\" y=\"-419.25\" font-family=\"'Fira Mono', 'Source Code Pro', 'Courier', monospace\" font-size=\"10.00\">DEFAULT_ORIGIN</text>\n",
       "</a>\n",
       "</g>\n",
       "<g id=\"a_node1_2\"><a xlink:href=\"#\" xlink:title=\"UNKNOWN_ORIGIN = &#45;1\">\n",
       "<text text-anchor=\"start\" x=\"11\" y=\"-408\" font-family=\"'Fira Mono', 'Source Code Pro', 'Courier', monospace\" font-size=\"10.00\">UNKNOWN_ORIGIN</text>\n",
       "</a>\n",
       "</g>\n",
       "</a>\n",
       "</g>\n",
       "<polyline fill=\"none\" stroke=\"black\" points=\"0,-402.25 106,-402.25\"/>\n",
       "<g id=\"a_node1_3\"><a xlink:href=\"#\" xlink:title=\"ostr\">\n",
       "<g id=\"a_node1_4\"><a xlink:href=\"#\" xlink:title=\"__add__(self, other):&#10;Return self+value.\">\n",
       "<text text-anchor=\"start\" x=\"8\" y=\"-389.75\" font-family=\"'Fira Mono', 'Source Code Pro', 'Courier', monospace\" font-weight=\"bold\" font-size=\"10.00\">__add__()</text>\n",
       "</a>\n",
       "</g>\n",
       "<g id=\"a_node1_5\"><a xlink:href=\"#\" xlink:title=\"__getitem__(self, key):&#10;Return self[key].\">\n",
       "<text text-anchor=\"start\" x=\"8\" y=\"-378.5\" font-family=\"'Fira Mono', 'Source Code Pro', 'Courier', monospace\" font-weight=\"bold\" font-size=\"10.00\">__getitem__()</text>\n",
       "</a>\n",
       "</g>\n",
       "<g id=\"a_node1_6\"><a xlink:href=\"#\" xlink:title=\"__init__(self, value: Any, taint: Any = None, origin: Union[int, List[int], NoneType] = None, **kwargs) &#45;&gt; None:&#10;Constructor.&#10;`value` is the string value the `ostr` object is to be constructed from.&#10;`taint` is an (optional) taint to be propagated to derived strings.&#10;`origin` (optional) is either&#10;&#45; an integer denoting the index of the first character in `value`, or&#10;&#45; a list of integers denoting the origins of the characters in `value`,\">\n",
       "<text text-anchor=\"start\" x=\"8\" y=\"-367.25\" font-family=\"'Fira Mono', 'Source Code Pro', 'Courier', monospace\" font-weight=\"bold\" font-size=\"10.00\">__init__()</text>\n",
       "</a>\n",
       "</g>\n",
       "<g id=\"a_node1_7\"><a xlink:href=\"#\" xlink:title=\"__iter__(self):&#10;Implement iter(self).\">\n",
       "<text text-anchor=\"start\" x=\"8\" y=\"-356\" font-family=\"'Fira Mono', 'Source Code Pro', 'Courier', monospace\" font-weight=\"bold\" font-size=\"10.00\">__iter__()</text>\n",
       "</a>\n",
       "</g>\n",
       "<g id=\"a_node1_8\"><a xlink:href=\"#\" xlink:title=\"__mod__(self, s):&#10;Return self%value.\">\n",
       "<text text-anchor=\"start\" x=\"8\" y=\"-344.75\" font-family=\"'Fira Mono', 'Source Code Pro', 'Courier', monospace\" font-weight=\"bold\" font-size=\"10.00\">__mod__()</text>\n",
       "</a>\n",
       "</g>\n",
       "<g id=\"a_node1_9\"><a xlink:href=\"#\" xlink:title=\"__new__(cls, value, *args, **kw):&#10;Create an ostr() instance. Used internally.\">\n",
       "<text text-anchor=\"start\" x=\"8\" y=\"-333.5\" font-family=\"'Fira Mono', 'Source Code Pro', 'Courier', monospace\" font-weight=\"bold\" font-size=\"10.00\">__new__()</text>\n",
       "</a>\n",
       "</g>\n",
       "<g id=\"a_node1_10\"><a xlink:href=\"#\" xlink:title=\"__repr__(self):&#10;Return repr(self).\">\n",
       "<text text-anchor=\"start\" x=\"8\" y=\"-322.25\" font-family=\"'Fira Mono', 'Source Code Pro', 'Courier', monospace\" font-weight=\"bold\" font-size=\"10.00\">__repr__()</text>\n",
       "</a>\n",
       "</g>\n",
       "<g id=\"a_node1_11\"><a xlink:href=\"#\" xlink:title=\"__rmod__(self, s):&#10;Return value%self.\">\n",
       "<text text-anchor=\"start\" x=\"8\" y=\"-311\" font-family=\"'Fira Mono', 'Source Code Pro', 'Courier', monospace\" font-weight=\"bold\" font-size=\"10.00\">__rmod__()</text>\n",
       "</a>\n",
       "</g>\n",
       "<g id=\"a_node1_12\"><a xlink:href=\"#\" xlink:title=\"__str__(self):&#10;Return str(self).\">\n",
       "<text text-anchor=\"start\" x=\"8\" y=\"-299.75\" font-family=\"'Fira Mono', 'Source Code Pro', 'Courier', monospace\" font-weight=\"bold\" font-size=\"10.00\">__str__()</text>\n",
       "</a>\n",
       "</g>\n",
       "<g id=\"a_node1_13\"><a xlink:href=\"#\" xlink:title=\"capitalize(self):&#10;Return a capitalized version of the string.&#10;&#10;More specifically, make the first character have upper case and the rest lower&#10;case.\">\n",
       "<text text-anchor=\"start\" x=\"8\" y=\"-288.5\" font-family=\"'Fira Mono', 'Source Code Pro', 'Courier', monospace\" font-weight=\"bold\" font-size=\"10.00\">capitalize()</text>\n",
       "</a>\n",
       "</g>\n",
       "<g id=\"a_node1_14\"><a xlink:href=\"#\" xlink:title=\"expandtabs(self, n=8):&#10;Return a copy where all tab characters are expanded using spaces.&#10;&#10;If tabsize is not given, a tab size of 8 characters is assumed.\">\n",
       "<text text-anchor=\"start\" x=\"8\" y=\"-277.25\" font-family=\"'Fira Mono', 'Source Code Pro', 'Courier', monospace\" font-weight=\"bold\" font-size=\"10.00\">expandtabs()</text>\n",
       "</a>\n",
       "</g>\n",
       "<g id=\"a_node1_15\"><a xlink:href=\"#\" xlink:title=\"join(self, iterable):&#10;Concatenate any number of strings.&#10;&#10;The string whose method is called is inserted in between each given string.&#10;The result is returned as a new string.&#10;&#10;Example: &#39;.&#39;.join([&#39;ab&#39;, &#39;pq&#39;, &#39;rs&#39;]) &#45;&gt; &#39;ab.pq.rs&#39;\">\n",
       "<text text-anchor=\"start\" x=\"8\" y=\"-266\" font-family=\"'Fira Mono', 'Source Code Pro', 'Courier', monospace\" font-weight=\"bold\" font-size=\"10.00\">join()</text>\n",
       "</a>\n",
       "</g>\n",
       "<g id=\"a_node1_16\"><a xlink:href=\"#\" xlink:title=\"ljust(self, width, fillchar=&#39; &#39;):&#10;Return a left&#45;justified string of length width.&#10;&#10;Padding is done using the specified fill character (default is a space).\">\n",
       "<text text-anchor=\"start\" x=\"8\" y=\"-254.75\" font-family=\"'Fira Mono', 'Source Code Pro', 'Courier', monospace\" font-weight=\"bold\" font-size=\"10.00\">ljust()</text>\n",
       "</a>\n",
       "</g>\n",
       "<g id=\"a_node1_17\"><a xlink:href=\"#\" xlink:title=\"lower(self):&#10;Return a copy of the string converted to lowercase.\">\n",
       "<text text-anchor=\"start\" x=\"8\" y=\"-243.5\" font-family=\"'Fira Mono', 'Source Code Pro', 'Courier', monospace\" font-weight=\"bold\" font-size=\"10.00\">lower()</text>\n",
       "</a>\n",
       "</g>\n",
       "<g id=\"a_node1_18\"><a xlink:href=\"#\" xlink:title=\"lstrip(self, cl=None):&#10;Return a copy of the string with leading whitespace removed.&#10;&#10;If chars is given and not None, remove characters in chars instead.\">\n",
       "<text text-anchor=\"start\" x=\"8\" y=\"-232.25\" font-family=\"'Fira Mono', 'Source Code Pro', 'Courier', monospace\" font-weight=\"bold\" font-size=\"10.00\">lstrip()</text>\n",
       "</a>\n",
       "</g>\n",
       "<g id=\"a_node1_19\"><a xlink:href=\"#\" xlink:title=\"partition(self, sep):&#10;Partition the string into three parts using the given separator.&#10;&#10;This will search for the separator in the string. &#160;If the separator is found,&#10;returns a 3&#45;tuple containing the part before the separator, the separator&#10;itself, and the part after it.&#10;&#10;If the separator is not found, returns a 3&#45;tuple containing the original string&#10;and two empty strings.\">\n",
       "<text text-anchor=\"start\" x=\"8\" y=\"-221\" font-family=\"'Fira Mono', 'Source Code Pro', 'Courier', monospace\" font-weight=\"bold\" font-size=\"10.00\">partition()</text>\n",
       "</a>\n",
       "</g>\n",
       "<g id=\"a_node1_20\"><a xlink:href=\"#\" xlink:title=\"replace(self, a, b, n=None):&#10;Return a copy with all occurrences of substring old replaced by new.&#10;&#10;count&#10;Maximum number of occurrences to replace.&#10;&#45;1 (the default value) means replace all occurrences.&#10;&#10;If the optional argument count is given, only the first count occurrences are&#10;replaced.\">\n",
       "<text text-anchor=\"start\" x=\"8\" y=\"-209.75\" font-family=\"'Fira Mono', 'Source Code Pro', 'Courier', monospace\" font-weight=\"bold\" font-size=\"10.00\">replace()</text>\n",
       "</a>\n",
       "</g>\n",
       "<g id=\"a_node1_21\"><a xlink:href=\"#\" xlink:title=\"rjust(self, width, fillchar=&#39; &#39;):&#10;Return a right&#45;justified string of length width.&#10;&#10;Padding is done using the specified fill character (default is a space).\">\n",
       "<text text-anchor=\"start\" x=\"8\" y=\"-198.5\" font-family=\"'Fira Mono', 'Source Code Pro', 'Courier', monospace\" font-weight=\"bold\" font-size=\"10.00\">rjust()</text>\n",
       "</a>\n",
       "</g>\n",
       "<g id=\"a_node1_22\"><a xlink:href=\"#\" xlink:title=\"rpartition(self, sep):&#10;Partition the string into three parts using the given separator.&#10;&#10;This will search for the separator in the string, starting at the end. If&#10;the separator is found, returns a 3&#45;tuple containing the part before the&#10;separator, the separator itself, and the part after it.&#10;&#10;If the separator is not found, returns a 3&#45;tuple containing two empty strings&#10;and the original string.\">\n",
       "<text text-anchor=\"start\" x=\"8\" y=\"-187.25\" font-family=\"'Fira Mono', 'Source Code Pro', 'Courier', monospace\" font-weight=\"bold\" font-size=\"10.00\">rpartition()</text>\n",
       "</a>\n",
       "</g>\n",
       "<g id=\"a_node1_23\"><a xlink:href=\"#\" xlink:title=\"rsplit(self, sep=None, maxsplit=&#45;1):&#10;Return a list of the words in the string, using sep as the delimiter string.&#10;&#10;sep&#10;The delimiter according which to split the string.&#10;None (the default value) means split according to any whitespace,&#10;and discard empty strings from the result.&#10;maxsplit&#10;Maximum number of splits to do.&#10;&#45;1 (the default value) means no limit.&#10;&#10;Splits are done starting at the end of the string and working to the front.\">\n",
       "<text text-anchor=\"start\" x=\"8\" y=\"-176\" font-family=\"'Fira Mono', 'Source Code Pro', 'Courier', monospace\" font-weight=\"bold\" font-size=\"10.00\">rsplit()</text>\n",
       "</a>\n",
       "</g>\n",
       "<g id=\"a_node1_24\"><a xlink:href=\"#\" xlink:title=\"rstrip(self, cl=None):&#10;Return a copy of the string with trailing whitespace removed.&#10;&#10;If chars is given and not None, remove characters in chars instead.\">\n",
       "<text text-anchor=\"start\" x=\"8\" y=\"-164.75\" font-family=\"'Fira Mono', 'Source Code Pro', 'Courier', monospace\" font-weight=\"bold\" font-size=\"10.00\">rstrip()</text>\n",
       "</a>\n",
       "</g>\n",
       "<g id=\"a_node1_25\"><a xlink:href=\"#\" xlink:title=\"split(self, sep=None, maxsplit=&#45;1):&#10;Return a list of the words in the string, using sep as the delimiter string.&#10;&#10;sep&#10;The delimiter according which to split the string.&#10;None (the default value) means split according to any whitespace,&#10;and discard empty strings from the result.&#10;maxsplit&#10;Maximum number of splits to do.&#10;&#45;1 (the default value) means no limit.\">\n",
       "<text text-anchor=\"start\" x=\"8\" y=\"-153.5\" font-family=\"'Fira Mono', 'Source Code Pro', 'Courier', monospace\" font-weight=\"bold\" font-size=\"10.00\">split()</text>\n",
       "</a>\n",
       "</g>\n",
       "<g id=\"a_node1_26\"><a xlink:href=\"#\" xlink:title=\"strip(self, cl=None):&#10;Return a copy of the string with leading and trailing whitespace removed.&#10;&#10;If chars is given and not None, remove characters in chars instead.\">\n",
       "<text text-anchor=\"start\" x=\"8\" y=\"-142.25\" font-family=\"'Fira Mono', 'Source Code Pro', 'Courier', monospace\" font-weight=\"bold\" font-size=\"10.00\">strip()</text>\n",
       "</a>\n",
       "</g>\n",
       "<g id=\"a_node1_27\"><a xlink:href=\"#\" xlink:title=\"swapcase(self):&#10;Convert uppercase characters to lowercase and lowercase characters to uppercase.\">\n",
       "<text text-anchor=\"start\" x=\"8\" y=\"-131\" font-family=\"'Fira Mono', 'Source Code Pro', 'Courier', monospace\" font-weight=\"bold\" font-size=\"10.00\">swapcase()</text>\n",
       "</a>\n",
       "</g>\n",
       "<g id=\"a_node1_28\"><a xlink:href=\"#\" xlink:title=\"title(self):&#10;Return a version of the string where each word is titlecased.&#10;&#10;More specifically, words start with uppercased characters and all remaining&#10;cased characters have lower case.\">\n",
       "<text text-anchor=\"start\" x=\"8\" y=\"-119.75\" font-family=\"'Fira Mono', 'Source Code Pro', 'Courier', monospace\" font-weight=\"bold\" font-size=\"10.00\">title()</text>\n",
       "</a>\n",
       "</g>\n",
       "<g id=\"a_node1_29\"><a xlink:href=\"#\" xlink:title=\"upper(self):&#10;Return a copy of the string converted to uppercase.\">\n",
       "<text text-anchor=\"start\" x=\"8\" y=\"-108.5\" font-family=\"'Fira Mono', 'Source Code Pro', 'Courier', monospace\" font-weight=\"bold\" font-size=\"10.00\">upper()</text>\n",
       "</a>\n",
       "</g>\n",
       "<g id=\"a_node1_30\"><a xlink:href=\"#\" xlink:title=\"x(self, i=0):&#10;Extract substring at index/slice `i`\">\n",
       "<text text-anchor=\"start\" x=\"8\" y=\"-97.25\" font-family=\"'Fira Mono', 'Source Code Pro', 'Courier', monospace\" font-weight=\"bold\" font-size=\"10.00\">x()</text>\n",
       "</a>\n",
       "</g>\n",
       "<g id=\"a_node1_31\"><a xlink:href=\"#\" xlink:title=\"__radd__(self, other)\">\n",
       "<text text-anchor=\"start\" x=\"8\" y=\"-85\" font-family=\"'Fira Mono', 'Source Code Pro', 'Courier', monospace\" font-size=\"10.00\">__radd__()</text>\n",
       "</a>\n",
       "</g>\n",
       "<g id=\"a_node1_32\"><a xlink:href=\"#\" xlink:title=\"_split_helper(self, sep, splitted)\">\n",
       "<text text-anchor=\"start\" x=\"8\" y=\"-73.75\" font-family=\"'Fira Mono', 'Source Code Pro', 'Courier', monospace\" font-size=\"10.00\">_split_helper()</text>\n",
       "</a>\n",
       "</g>\n",
       "<g id=\"a_node1_33\"><a xlink:href=\"#\" xlink:title=\"_split_space(self, splitted)\">\n",
       "<text text-anchor=\"start\" x=\"8\" y=\"-62.5\" font-family=\"'Fira Mono', 'Source Code Pro', 'Courier', monospace\" font-size=\"10.00\">_split_space()</text>\n",
       "</a>\n",
       "</g>\n",
       "<g id=\"a_node1_34\"><a xlink:href=\"#\" xlink:title=\"clear_origin(self)\">\n",
       "<text text-anchor=\"start\" x=\"8\" y=\"-51.25\" font-family=\"'Fira Mono', 'Source Code Pro', 'Courier', monospace\" font-size=\"10.00\">clear_origin()</text>\n",
       "</a>\n",
       "</g>\n",
       "<g id=\"a_node1_35\"><a xlink:href=\"#\" xlink:title=\"clear_taint(self)\">\n",
       "<text text-anchor=\"start\" x=\"8\" y=\"-40\" font-family=\"'Fira Mono', 'Source Code Pro', 'Courier', monospace\" font-size=\"10.00\">clear_taint()</text>\n",
       "</a>\n",
       "</g>\n",
       "<g id=\"a_node1_36\"><a xlink:href=\"#\" xlink:title=\"create(self, res, origin=None)\">\n",
       "<text text-anchor=\"start\" x=\"8\" y=\"-28.75\" font-family=\"'Fira Mono', 'Source Code Pro', 'Courier', monospace\" font-size=\"10.00\">create()</text>\n",
       "</a>\n",
       "</g>\n",
       "<g id=\"a_node1_37\"><a xlink:href=\"#\" xlink:title=\"has_origin(self)\">\n",
       "<text text-anchor=\"start\" x=\"8\" y=\"-17.5\" font-family=\"'Fira Mono', 'Source Code Pro', 'Courier', monospace\" font-size=\"10.00\">has_origin()</text>\n",
       "</a>\n",
       "</g>\n",
       "<g id=\"a_node1_38\"><a xlink:href=\"#\" xlink:title=\"has_taint(self)\">\n",
       "<text text-anchor=\"start\" x=\"8\" y=\"-6.25\" font-family=\"'Fira Mono', 'Source Code Pro', 'Courier', monospace\" font-size=\"10.00\">has_taint()</text>\n",
       "</a>\n",
       "</g>\n",
       "</a>\n",
       "</g>\n",
       "</a>\n",
       "</g>\n",
       "</g>\n",
       "<!-- str -->\n",
       "<g id=\"node2\" class=\"node\">\n",
       "<title>str</title>\n",
       "<g id=\"a_node2\"><a xlink:href=\"builtins.ipynb\" xlink:title=\"class str:&#10;str(object=&#39;&#39;) &#45;&gt; str&#10;str(bytes_or_buffer[, encoding[, errors]]) &#45;&gt; str&#10;&#10;Create a new string object from the given object. If encoding or&#10;errors is specified, then the object must expose a data buffer&#10;that will be decoded using the given encoding and error handler.&#10;Otherwise, returns the result of object.__str__() (if defined)&#10;or repr(object).&#10;encoding defaults to sys.getdefaultencoding().&#10;errors defaults to &#39;strict&#39;.\">\n",
       "<polygon fill=\"none\" stroke=\"black\" points=\"26,-495.75 26,-531.75 80,-531.75 80,-495.75 26,-495.75\"/>\n",
       "<text text-anchor=\"start\" x=\"44.5\" y=\"-510.45\" font-family=\"Patua One, Helvetica, sans-serif\" font-weight=\"bold\" font-size=\"14.00\" fill=\"#b03a2e\">str</text>\n",
       "</a>\n",
       "</g>\n",
       "</g>\n",
       "<!-- ostr&#45;&gt;str -->\n",
       "<g id=\"edge1\" class=\"edge\">\n",
       "<title>ostr&#45;&gt;str</title>\n",
       "<path fill=\"none\" stroke=\"black\" d=\"M53,-459.02C53,-468.27 53,-476.7 53,-483.99\"/>\n",
       "<polygon fill=\"none\" stroke=\"black\" points=\"49.5,-483.98 53,-493.98 56.5,-483.98 49.5,-483.98\"/>\n",
       "</g>\n",
       "<!-- Legend -->\n",
       "<g id=\"node3\" class=\"node\">\n",
       "<title>Legend</title>\n",
       "<text text-anchor=\"start\" x=\"124.38\" y=\"-245.62\" font-family=\"Patua One, Helvetica, sans-serif\" font-weight=\"bold\" font-size=\"10.00\" fill=\"#b03a2e\">Legend</text>\n",
       "<text text-anchor=\"start\" x=\"124.38\" y=\"-235.62\" font-family=\"Patua One, Helvetica, sans-serif\" font-size=\"10.00\">• </text>\n",
       "<text text-anchor=\"start\" x=\"130.38\" y=\"-235.62\" font-family=\"'Fira Mono', 'Source Code Pro', 'Courier', monospace\" font-weight=\"bold\" font-size=\"8.00\">public_method()</text>\n",
       "<text text-anchor=\"start\" x=\"124.38\" y=\"-225.62\" font-family=\"Patua One, Helvetica, sans-serif\" font-size=\"10.00\">• </text>\n",
       "<text text-anchor=\"start\" x=\"130.38\" y=\"-225.62\" font-family=\"'Fira Mono', 'Source Code Pro', 'Courier', monospace\" font-size=\"8.00\">private_method()</text>\n",
       "<text text-anchor=\"start\" x=\"124.38\" y=\"-215.62\" font-family=\"Patua One, Helvetica, sans-serif\" font-size=\"10.00\">• </text>\n",
       "<text text-anchor=\"start\" x=\"130.38\" y=\"-215.62\" font-family=\"'Fira Mono', 'Source Code Pro', 'Courier', monospace\" font-style=\"italic\" font-size=\"8.00\">overloaded_method()</text>\n",
       "<text text-anchor=\"start\" x=\"124.38\" y=\"-206.57\" font-family=\"Helvetica,sans-Serif\" font-size=\"9.00\">Hover over names to see doc</text>\n",
       "</g>\n",
       "</g>\n",
       "</svg>\n"
      ],
      "text/plain": [
       "<graphviz.graphs.Digraph at 0x107779150>"
      ]
     },
     "execution_count": 249,
     "metadata": {},
     "output_type": "execute_result"
    }
   ],
   "source": [
    "# ignore\n",
    "display_class_hierarchy(ostr)"
   ]
  },
  {
   "attachments": {},
   "cell_type": "markdown",
   "metadata": {
    "button": false,
    "new_sheet": true,
    "run_control": {
     "read_only": false
    },
    "slideshow": {
     "slide_type": "slide"
    }
   },
   "source": [
    "## Lessons Learned\n",
    "\n",
    "* String-based and character-based taints allow dynamically tracking the information flow from input to the internals of a system and back to the output.\n",
    "\n",
    "* Checking taints allows discovering untrusted inputs and information leakage at runtime.\n",
    "\n",
    "* Data conversions and implicit data flow may strip taint information; the resulting untainted strings should be treated as having the worst possible taint.\n",
    "\n",
    "* Taints can be used in conjunction with fuzzing to provide a more robust indication of incorrect behavior than to simply rely on program crashes."
   ]
  },
  {
   "cell_type": "markdown",
   "metadata": {
    "button": false,
    "new_sheet": false,
    "run_control": {
     "read_only": false
    },
    "slideshow": {
     "slide_type": "slide"
    }
   },
   "source": [
    "## Next Steps\n",
    "\n",
    "An even better alternative to our taint-directed fuzzing is to make use of _symbolic_ techniques that take the semantics of the program under test into account.  The chapter on [flow fuzzing](FlowFuzzer.ipynb) introduces these symbolic techniques for the purpose of exploring information flows; the subsequent chapter on [symbolic fuzzing](SymbolicFuzzer.ipynb) then shows how to make full-fledged use of symbolic execution for covering code.  Similarly, [search based fuzzing](SearchBasedFuzzer.ipynb) can often provide a cheaper exploration strategy."
   ]
  },
  {
   "cell_type": "markdown",
   "metadata": {
    "slideshow": {
     "slide_type": "slide"
    }
   },
   "source": [
    "## Background\n",
    "\n",
    "Taint analysis on Python using a library approach as we implemented in this chapter was discussed by Conti et al. \\cite{Conti2010}."
   ]
  },
  {
   "cell_type": "markdown",
   "metadata": {
    "button": false,
    "new_sheet": true,
    "run_control": {
     "read_only": false
    },
    "slideshow": {
     "slide_type": "slide"
    }
   },
   "source": [
    "## Exercises"
   ]
  },
  {
   "cell_type": "markdown",
   "metadata": {
    "button": false,
    "new_sheet": false,
    "run_control": {
     "read_only": false
    },
    "slideshow": {
     "slide_type": "subslide"
    },
    "toc-hr-collapsed": true
   },
   "source": [
    "### Exercise 1: Tainted Numbers\n",
    "\n",
    "Introduce a class `tint` (for tainted integer) that, like `tstr`, has a taint attribute that gets passed on from `tint` to `tint`."
   ]
  },
  {
   "cell_type": "markdown",
   "metadata": {
    "button": false,
    "new_sheet": false,
    "run_control": {
     "read_only": false
    },
    "slideshow": {
     "slide_type": "subslide"
    },
    "solution2": "hidden",
    "solution2_first": true
   },
   "source": [
    "#### Part 1: Creation\n",
    "\n",
    "Implement the `tint` class such that taints are set:\n",
    "\n",
    "```python\n",
    "x = tint(42, taint='SECRET')\n",
    "assert x.taint == 'SECRET'\n",
    "```"
   ]
  },
  {
   "cell_type": "markdown",
   "metadata": {
    "slideshow": {
     "slide_type": "skip"
    },
    "solution2": "hidden"
   },
   "source": [
    "**Solution.** This is pretty straightforward, as we can apply the same scheme as for `tstr`:"
   ]
  },
  {
   "cell_type": "code",
   "execution_count": 250,
   "metadata": {
    "execution": {
     "iopub.execute_input": "2023-11-12T12:46:57.737650Z",
     "iopub.status.busy": "2023-11-12T12:46:57.737506Z",
     "iopub.status.idle": "2023-11-12T12:46:57.740051Z",
     "shell.execute_reply": "2023-11-12T12:46:57.739762Z"
    },
    "slideshow": {
     "slide_type": "skip"
    },
    "solution2": "hidden"
   },
   "outputs": [],
   "source": [
    "class tint(int):\n",
    "    def __new__(cls, value, *args, **kw):\n",
    "        return int.__new__(cls, value)\n",
    "\n",
    "    def __init__(self, value, taint=None, **kwargs):\n",
    "        self.taint = taint"
   ]
  },
  {
   "cell_type": "code",
   "execution_count": 251,
   "metadata": {
    "execution": {
     "iopub.execute_input": "2023-11-12T12:46:57.741996Z",
     "iopub.status.busy": "2023-11-12T12:46:57.741876Z",
     "iopub.status.idle": "2023-11-12T12:46:57.743745Z",
     "shell.execute_reply": "2023-11-12T12:46:57.743354Z"
    },
    "slideshow": {
     "slide_type": "skip"
    },
    "solution2": "hidden"
   },
   "outputs": [],
   "source": [
    "x = tint(42, taint='SECRET')\n",
    "assert x.taint == 'SECRET'"
   ]
  },
  {
   "cell_type": "markdown",
   "metadata": {
    "button": false,
    "new_sheet": false,
    "run_control": {
     "read_only": false
    },
    "slideshow": {
     "slide_type": "subslide"
    },
    "solution2": "hidden",
    "solution2_first": true
   },
   "source": [
    "#### Part 2: Arithmetic expressions\n",
    "\n",
    "Ensure that taints get passed along arithmetic expressions; support addition, subtraction, multiplication, and division operators.\n",
    "```python\n",
    "y = x + 1\n",
    "assert y.taint == 'SECRET'\n",
    "```"
   ]
  },
  {
   "cell_type": "markdown",
   "metadata": {
    "slideshow": {
     "slide_type": "skip"
    },
    "solution2": "hidden"
   },
   "source": [
    "**Solution.** As with `tstr`, we implement a `create()` method and a convenience function to quickly define all arithmetic operations:"
   ]
  },
  {
   "cell_type": "code",
   "execution_count": 252,
   "metadata": {
    "execution": {
     "iopub.execute_input": "2023-11-12T12:46:57.745597Z",
     "iopub.status.busy": "2023-11-12T12:46:57.745476Z",
     "iopub.status.idle": "2023-11-12T12:46:57.747400Z",
     "shell.execute_reply": "2023-11-12T12:46:57.747127Z"
    },
    "slideshow": {
     "slide_type": "skip"
    },
    "solution2": "hidden"
   },
   "outputs": [],
   "source": [
    "class tint(tint):\n",
    "    def create(self, n):\n",
    "        # print(\"New tint from\", n)\n",
    "        return tint(n, taint=self.taint)"
   ]
  },
  {
   "cell_type": "markdown",
   "metadata": {
    "slideshow": {
     "slide_type": "skip"
    },
    "solution2": "hidden"
   },
   "source": [
    "The `make_int_wrapper()` function creates a wrapper around an existing `int` method which attaches the taint to the result of the method:"
   ]
  },
  {
   "cell_type": "code",
   "execution_count": 253,
   "metadata": {
    "execution": {
     "iopub.execute_input": "2023-11-12T12:46:57.749021Z",
     "iopub.status.busy": "2023-11-12T12:46:57.748914Z",
     "iopub.status.idle": "2023-11-12T12:46:57.750901Z",
     "shell.execute_reply": "2023-11-12T12:46:57.750604Z"
    },
    "slideshow": {
     "slide_type": "skip"
    },
    "solution2": "hidden"
   },
   "outputs": [],
   "source": [
    "def make_int_wrapper(fun):\n",
    "    def proxy(self, *args, **kwargs):\n",
    "        res = fun(self, *args, **kwargs)\n",
    "        # print(fun, args, kwargs, \"=\", repr(res))\n",
    "        return self.create(res)\n",
    "    return proxy"
   ]
  },
  {
   "cell_type": "markdown",
   "metadata": {
    "slideshow": {
     "slide_type": "skip"
    },
    "solution2": "hidden"
   },
   "source": [
    "We do this for all arithmetic operators:"
   ]
  },
  {
   "cell_type": "code",
   "execution_count": 254,
   "metadata": {
    "execution": {
     "iopub.execute_input": "2023-11-12T12:46:57.752576Z",
     "iopub.status.busy": "2023-11-12T12:46:57.752438Z",
     "iopub.status.idle": "2023-11-12T12:46:57.754419Z",
     "shell.execute_reply": "2023-11-12T12:46:57.754110Z"
    },
    "slideshow": {
     "slide_type": "skip"
    },
    "solution2": "hidden"
   },
   "outputs": [],
   "source": [
    "for name in ['__add__', '__radd__', '__mul__', '__rmul__', '__sub__',\n",
    "             '__floordiv__', '__truediv__']:\n",
    "    fun = getattr(int, name)\n",
    "    setattr(tint, name, make_int_wrapper(fun))"
   ]
  },
  {
   "cell_type": "code",
   "execution_count": 255,
   "metadata": {
    "execution": {
     "iopub.execute_input": "2023-11-12T12:46:57.755999Z",
     "iopub.status.busy": "2023-11-12T12:46:57.755873Z",
     "iopub.status.idle": "2023-11-12T12:46:57.758176Z",
     "shell.execute_reply": "2023-11-12T12:46:57.757906Z"
    },
    "slideshow": {
     "slide_type": "skip"
    },
    "solution2": "hidden"
   },
   "outputs": [
    {
     "data": {
      "text/plain": [
       "'SECRET'"
      ]
     },
     "execution_count": 255,
     "metadata": {},
     "output_type": "execute_result"
    }
   ],
   "source": [
    "x = tint(42, taint='SECRET')\n",
    "y = x + 1\n",
    "y.taint  # type: ignore"
   ]
  },
  {
   "cell_type": "markdown",
   "metadata": {
    "button": false,
    "new_sheet": false,
    "run_control": {
     "read_only": false
    },
    "slideshow": {
     "slide_type": "subslide"
    },
    "solution2": "hidden",
    "solution2_first": true
   },
   "source": [
    "#### Part 3: Passing taints from integers to strings\n",
    "\n",
    "Converting a tainted integer into a string (using `repr()`) should yield a tainted string:\n",
    "```python\n",
    "x_s = repr(x)\n",
    "assert x_s.taint == 'SECRET'\n",
    "```"
   ]
  },
  {
   "cell_type": "markdown",
   "metadata": {
    "slideshow": {
     "slide_type": "skip"
    },
    "solution2": "hidden"
   },
   "source": [
    "**Solution.** We define the string conversion functions such that they return a tainted string (`tstr`):"
   ]
  },
  {
   "cell_type": "code",
   "execution_count": 256,
   "metadata": {
    "execution": {
     "iopub.execute_input": "2023-11-12T12:46:57.759996Z",
     "iopub.status.busy": "2023-11-12T12:46:57.759882Z",
     "iopub.status.idle": "2023-11-12T12:46:57.761835Z",
     "shell.execute_reply": "2023-11-12T12:46:57.761585Z"
    },
    "slideshow": {
     "slide_type": "skip"
    },
    "solution2": "hidden"
   },
   "outputs": [],
   "source": [
    "class tint(tint):\n",
    "    def __repr__(self) -> tstr:\n",
    "        s = int.__repr__(self)\n",
    "        return tstr(s, taint=self.taint)"
   ]
  },
  {
   "cell_type": "code",
   "execution_count": 257,
   "metadata": {
    "execution": {
     "iopub.execute_input": "2023-11-12T12:46:57.763528Z",
     "iopub.status.busy": "2023-11-12T12:46:57.763421Z",
     "iopub.status.idle": "2023-11-12T12:46:57.765315Z",
     "shell.execute_reply": "2023-11-12T12:46:57.765041Z"
    },
    "slideshow": {
     "slide_type": "skip"
    },
    "solution2": "hidden"
   },
   "outputs": [],
   "source": [
    "class tint(tint):\n",
    "    def __str__(self) -> tstr:\n",
    "        return tstr(int.__str__(self), taint=self.taint)"
   ]
  },
  {
   "cell_type": "code",
   "execution_count": 258,
   "metadata": {
    "button": false,
    "execution": {
     "iopub.execute_input": "2023-11-12T12:46:57.766792Z",
     "iopub.status.busy": "2023-11-12T12:46:57.766678Z",
     "iopub.status.idle": "2023-11-12T12:46:57.768339Z",
     "shell.execute_reply": "2023-11-12T12:46:57.768015Z"
    },
    "new_sheet": false,
    "run_control": {
     "read_only": false
    },
    "slideshow": {
     "slide_type": "skip"
    },
    "solution2": "hidden"
   },
   "outputs": [],
   "source": [
    "x = tint(42, taint='SECRET')\n",
    "x_s = repr(x)"
   ]
  },
  {
   "cell_type": "code",
   "execution_count": 259,
   "metadata": {
    "button": false,
    "execution": {
     "iopub.execute_input": "2023-11-12T12:46:57.769995Z",
     "iopub.status.busy": "2023-11-12T12:46:57.769875Z",
     "iopub.status.idle": "2023-11-12T12:46:57.771580Z",
     "shell.execute_reply": "2023-11-12T12:46:57.771290Z"
    },
    "new_sheet": false,
    "run_control": {
     "read_only": false
    },
    "slideshow": {
     "slide_type": "skip"
    },
    "solution2": "hidden"
   },
   "outputs": [],
   "source": [
    "assert isinstance(x_s, tstr)\n",
    "assert x_s.taint == 'SECRET'"
   ]
  },
  {
   "cell_type": "markdown",
   "metadata": {
    "slideshow": {
     "slide_type": "subslide"
    },
    "solution2": "hidden",
    "solution2_first": true
   },
   "source": [
    "#### Part 4: Passing taints from strings to integers\n",
    "\n",
    "Converting a tainted object (with a `taint` attribute) to an integer should pass that taint:\n",
    "\n",
    "```python\n",
    "password = tstr('1234', taint='NOT_EXACTLY_SECRET')\n",
    "x = tint(password)\n",
    "assert x == 1234\n",
    "assert x.taint == 'NOT_EXACTLY_SECRET'\n",
    "```"
   ]
  },
  {
   "attachments": {},
   "cell_type": "markdown",
   "metadata": {
    "slideshow": {
     "slide_type": "skip"
    },
    "solution2": "hidden"
   },
   "source": [
    "**Solution.** This can be done by having the `__init__()` constructor check for a `taint` attribute:"
   ]
  },
  {
   "cell_type": "code",
   "execution_count": 260,
   "metadata": {
    "execution": {
     "iopub.execute_input": "2023-11-12T12:46:57.773053Z",
     "iopub.status.busy": "2023-11-12T12:46:57.772943Z",
     "iopub.status.idle": "2023-11-12T12:46:57.775372Z",
     "shell.execute_reply": "2023-11-12T12:46:57.775076Z"
    },
    "slideshow": {
     "slide_type": "skip"
    },
    "solution2": "hidden"
   },
   "outputs": [],
   "source": [
    "class tint(tint):\n",
    "    def __init__(self, value, taint=None, **kwargs):\n",
    "        if taint is not None:\n",
    "            self.taint = taint\n",
    "        else:\n",
    "            self.taint = getattr(value, 'taint', None)"
   ]
  },
  {
   "cell_type": "code",
   "execution_count": 261,
   "metadata": {
    "execution": {
     "iopub.execute_input": "2023-11-12T12:46:57.777053Z",
     "iopub.status.busy": "2023-11-12T12:46:57.776941Z",
     "iopub.status.idle": "2023-11-12T12:46:57.778845Z",
     "shell.execute_reply": "2023-11-12T12:46:57.778575Z"
    },
    "slideshow": {
     "slide_type": "skip"
    },
    "solution2": "hidden"
   },
   "outputs": [],
   "source": [
    "password = tstr('1234', taint='NOT_EXACTLY_SECRET')\n",
    "x = tint(password)"
   ]
  },
  {
   "cell_type": "code",
   "execution_count": 262,
   "metadata": {
    "execution": {
     "iopub.execute_input": "2023-11-12T12:46:57.780528Z",
     "iopub.status.busy": "2023-11-12T12:46:57.780411Z",
     "iopub.status.idle": "2023-11-12T12:46:57.782095Z",
     "shell.execute_reply": "2023-11-12T12:46:57.781824Z"
    },
    "slideshow": {
     "slide_type": "skip"
    },
    "solution2": "hidden"
   },
   "outputs": [],
   "source": [
    "assert x == 1234"
   ]
  },
  {
   "cell_type": "code",
   "execution_count": 263,
   "metadata": {
    "execution": {
     "iopub.execute_input": "2023-11-12T12:46:57.783609Z",
     "iopub.status.busy": "2023-11-12T12:46:57.783478Z",
     "iopub.status.idle": "2023-11-12T12:46:57.785259Z",
     "shell.execute_reply": "2023-11-12T12:46:57.784967Z"
    },
    "slideshow": {
     "slide_type": "skip"
    },
    "solution2": "hidden"
   },
   "outputs": [],
   "source": [
    "assert x.taint == 'NOT_EXACTLY_SECRET'"
   ]
  },
  {
   "cell_type": "markdown",
   "metadata": {
    "button": false,
    "new_sheet": false,
    "run_control": {
     "read_only": false
    },
    "slideshow": {
     "slide_type": "subslide"
    },
    "solution": "hidden",
    "solution2": "hidden",
    "solution2_first": true,
    "solution_first": true,
    "toc-hr-collapsed": true
   },
   "source": [
    "### Exercise 2: Information Flow Testing\n",
    "\n",
    "Generate tests that ensure a _maximum_ of information flow, propagating specific taints as much as possible.  Implement an appropriate fitness function for [search-based testing](SearchBasedFuzzer.ipynb) and let the search-based fuzzer search for solutions."
   ]
  },
  {
   "cell_type": "markdown",
   "metadata": {
    "button": false,
    "new_sheet": false,
    "run_control": {
     "read_only": false
    },
    "slideshow": {
     "slide_type": "skip"
    },
    "solution": "hidden",
    "solution2": "hidden"
   },
   "source": [
    "**Solution.** This will become a section on its own; as of now, it is an exercise for the reader."
   ]
  }
 ],
 "metadata": {
  "ipub": {
   "bibliography": "fuzzingbook.bib",
   "toc": true
  },
  "kernelspec": {
   "display_name": "Python 3",
   "language": "python",
   "name": "python3"
  },
  "language_info": {
   "codemirror_mode": {
    "name": "ipython",
    "version": 3
   },
   "file_extension": ".py",
   "mimetype": "text/x-python",
   "name": "python",
   "nbconvert_exporter": "python",
   "pygments_lexer": "ipython3",
   "version": "3.10.2"
  },
  "toc": {
   "base_numbering": 1,
   "nav_menu": {},
   "number_sections": true,
   "sideBar": true,
   "skip_h1_title": true,
   "title_cell": "",
   "title_sidebar": "Contents",
   "toc_cell": false,
   "toc_position": {},
   "toc_section_display": true,
   "toc_window_display": true
  },
  "toc-autonumbering": false,
  "varInspector": {
   "cols": {
    "lenName": 16,
    "lenType": 16,
    "lenVar": 40
   },
   "kernels_config": {
    "python": {
     "delete_cmd_postfix": "",
     "delete_cmd_prefix": "del ",
     "library": "var_list.py",
     "varRefreshCmd": "print(var_dic_list())"
    },
    "r": {
     "delete_cmd_postfix": ") ",
     "delete_cmd_prefix": "rm(",
     "library": "var_list.r",
     "varRefreshCmd": "cat(var_dic_list()) "
    }
   },
   "types_to_exclude": [
    "module",
    "function",
    "builtin_function_or_method",
    "instance",
    "_Feature"
   ],
   "window_display": false
  },
  "vscode": {
   "interpreter": {
    "hash": "4185989cf89c47c310c2629adcadd634093b57a2c49dffb5ae8d0d14fa302f2b"
   }
  }
 },
 "nbformat": 4,
 "nbformat_minor": 4
}