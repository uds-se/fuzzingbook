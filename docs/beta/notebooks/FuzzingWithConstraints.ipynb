{
 "cells": [
  {
   "cell_type": "markdown",
   "id": "76619533",
   "metadata": {
    "button": false,
    "new_sheet": false,
    "run_control": {
     "read_only": false
    },
    "slideshow": {
     "slide_type": "slide"
    }
   },
   "source": [
    "# Fuzzing with Constraints\n",
    "\n",
    "In previous chapters, we have seen how [Grammar-Based Fuzzing](GrammarFuzzer.ipynb) allows us to efficiently generate myriads of syntactically valid inputs.\n",
    "However, there are _semantic_ input features that cannot be expressed in a context-free grammar, such as\n",
    "\n",
    "* \"$X$ is the length of $Y$\";\n",
    "* \"$X$ is an identifier previously declared\"; or\n",
    "* \"$X$ should be longer than 4,096 bytes\".\n",
    "\n",
    "In this chapter, we show how the [ISLa](https://rindphi.github.io/isla/) framework allows us to express such features as _constraints_ added to a grammar.\n",
    "By having ISLa solve these constraints automatically, we produce inputs that are not only _syntactically_ valid, but actually _semantically_ valid.\n",
    "Furthermore, such constraints allow us to very precisely _shape_ the inputs we want for testing."
   ]
  },
  {
   "cell_type": "code",
   "execution_count": 1,
   "id": "371d240d",
   "metadata": {
    "execution": {
     "iopub.execute_input": "2023-11-12T12:45:30.079964Z",
     "iopub.status.busy": "2023-11-12T12:45:30.079826Z",
     "iopub.status.idle": "2023-11-12T12:45:30.119341Z",
     "shell.execute_reply": "2023-11-12T12:45:30.119013Z"
    },
    "slideshow": {
     "slide_type": "skip"
    }
   },
   "outputs": [
    {
     "data": {
      "text/html": [
       "\n",
       "        <iframe\n",
       "            width=\"640\"\n",
       "            height=\"360\"\n",
       "            src=\"https://www.youtube-nocookie.com/embed/dgaGuwn-1OU\"\n",
       "            frameborder=\"0\"\n",
       "            allowfullscreen\n",
       "            \n",
       "        ></iframe>\n",
       "        "
      ],
      "text/plain": [
       "<IPython.lib.display.IFrame at 0x1085f7520>"
      ]
     },
     "execution_count": 1,
     "metadata": {},
     "output_type": "execute_result"
    }
   ],
   "source": [
    "from bookutils import YouTubeVideo\n",
    "YouTubeVideo(\"dgaGuwn-1OU\")"
   ]
  },
  {
   "cell_type": "markdown",
   "id": "88ec37bf",
   "metadata": {
    "button": false,
    "new_sheet": false,
    "run_control": {
     "read_only": false
    },
    "slideshow": {
     "slide_type": "subslide"
    }
   },
   "source": [
    "**Prerequisites**\n",
    "\n",
    "* You should have read the [chapter on grammars](Grammars.ipynb).\n",
    "* The chapter on [generators and filters](GeneratorGrammarFuzzer.ipynb) addresses a similar problem, but with program code instead of constraints."
   ]
  },
  {
   "cell_type": "code",
   "execution_count": 2,
   "id": "b383c5ed",
   "metadata": {
    "button": false,
    "execution": {
     "iopub.execute_input": "2023-11-12T12:45:30.121107Z",
     "iopub.status.busy": "2023-11-12T12:45:30.120941Z",
     "iopub.status.idle": "2023-11-12T12:45:30.123316Z",
     "shell.execute_reply": "2023-11-12T12:45:30.123033Z"
    },
    "new_sheet": false,
    "run_control": {
     "read_only": false
    },
    "slideshow": {
     "slide_type": "skip"
    }
   },
   "outputs": [],
   "source": [
    "import bookutils.setup"
   ]
  },
  {
   "cell_type": "code",
   "execution_count": 3,
   "id": "286a4c94",
   "metadata": {
    "execution": {
     "iopub.execute_input": "2023-11-12T12:45:30.124833Z",
     "iopub.status.busy": "2023-11-12T12:45:30.124706Z",
     "iopub.status.idle": "2023-11-12T12:45:30.126448Z",
     "shell.execute_reply": "2023-11-12T12:45:30.126117Z"
    },
    "slideshow": {
     "slide_type": "fragment"
    }
   },
   "outputs": [],
   "source": [
    "# ignore\n",
    "import sys"
   ]
  },
  {
   "cell_type": "code",
   "execution_count": 4,
   "id": "a9e1f132",
   "metadata": {
    "execution": {
     "iopub.execute_input": "2023-11-12T12:45:30.127981Z",
     "iopub.status.busy": "2023-11-12T12:45:30.127869Z",
     "iopub.status.idle": "2023-11-12T12:45:30.129666Z",
     "shell.execute_reply": "2023-11-12T12:45:30.129274Z"
    },
    "slideshow": {
     "slide_type": "fragment"
    }
   },
   "outputs": [],
   "source": [
    "# ignore\n",
    "if sys.version_info < (3, 10):\n",
    "    print(\"This code requires Python 3.10 or later\")\n",
    "    sys.exit(0)"
   ]
  },
  {
   "attachments": {},
   "cell_type": "markdown",
   "id": "74cd055b",
   "metadata": {
    "slideshow": {
     "slide_type": "skip"
    }
   },
   "source": [
    "## Synopsis\n",
    "<!-- Automatically generated. Do not edit. -->\n",
    "\n",
    "To [use the code provided in this chapter](Importing.ipynb), write\n",
    "\n",
    "```python\n",
    ">>> from fuzzingbook.FuzzingWithConstraints import <identifier>\n",
    "```\n",
    "\n",
    "and then make use of the following features.\n",
    "\n",
    "\n",
    "This chapter introduces the [ISLa](https://rindphi.github.io/isla/) framework, consisting of \n",
    "* the _ISLa specification language_, allowing to add _constraints_ to a grammar\n",
    "* the _ISLa solver_, solving these constraints to produce semantically (and syntactically) valid inputs\n",
    "* the _ISLa checker_, checking given inputs for whether they satisfy these constraints.\n",
    "\n",
    "A typical usage of the ISLa solver is as follows.\n",
    "First, install ISLa, using \n",
    "```shell\n",
    "$ pip install isla-solver\n",
    "```\n",
    "Then, you can import the solver as\n",
    "\n",
    "```python\n",
    ">>> from isla.solver import ISLaSolver  # type: ignore\n",
    "```\n",
    "The ISLa solver needs two things. First, a _grammar_ - say, US phone numbers.\n",
    "\n",
    "```python\n",
    ">>> from Grammars import US_PHONE_GRAMMAR\n",
    "```\n",
    "Second, you need _constraints_ – a string expressing a condition over one or more grammar elements.\n",
    "Common functions include\n",
    "* `str.len()`, returning the length of a string\n",
    "* `str.to.int()`, converting a string to an integer\n",
    "\n",
    "Here, we instantiate the ISLa solver with a constraint stating that the area code should be above 900:\n",
    "\n",
    "```python\n",
    ">>> solver = ISLaSolver(US_PHONE_GRAMMAR, \n",
    ">>>             \"\"\"\n",
    ">>>             str.to.int(<area>) > 900\n",
    ">>>             \"\"\")\n",
    "```\n",
    "With that, invoking `solver.solve()` returns a _solution_ for the constraints.\n",
    "\n",
    "```python\n",
    ">>> str(solver.solve())\n",
    "'(908)828-1795'\n",
    "```\n",
    "`solve()` returns a derivation tree, which typically is converted into a string using `str()` as above. The `print()` function does this implicitly.\n",
    "\n",
    "Subsequent calls of `solve()` return more solutions:\n",
    "\n",
    "```python\n",
    ">>> for _ in range(10):\n",
    ">>>     print(solver.solve())\n",
    "(908)434-2906\n",
    "(908)244-7907\n",
    "(908)911-7009\n",
    "(908)757-9655\n",
    "(908)524-3710\n",
    "(908)610-9921\n",
    "(908)381-6159\n",
    "(908)560-2418\n",
    "(908)826-1334\n",
    "(906)339-8184\n",
    "\n",
    "```\n",
    "We see that the solver produces a number of inputs that all satisfy the constraint - the area code is always more than 900.\n",
    "\n",
    "The `ISLaSolver()` constructor provides several additional parameters to configure the solver, as documented below.\n",
    "Additional `ISLaSolver` methods allow checking inputs against constraints, and provide additional functionality.\n",
    "\n",
    "![](PICS/FuzzingWithConstraints-synopsis-1.svg)\n",
    "\n",
    "The ISLa functionality is also available on the command line:\n",
    "\n",
    "```python\n",
    ">>> !isla --help\n",
    "usage: isla [-h] [-v]\r\n",
    "            {solve,fuzz,check,find,parse,repair,mutate,create,config} ...\r\n",
    "\r\n",
    "The ISLa command line interface.\r\n",
    "\r\n",
    "options:\r\n",
    "  -h, --help            show this help message and exit\r\n",
    "  -v, --version         Print the ISLa version number\r\n",
    "\r\n",
    "Commands:\r\n",
    "  {solve,fuzz,check,find,parse,repair,mutate,create,config}\r\n",
    "    solve               create solutions to ISLa constraints or check their\r\n",
    "                        unsatisfiability\r\n",
    "    fuzz                pass solutions to an ISLa constraint to a test subject\r\n",
    "    check               check whether an input satisfies an ISLa constraint\r\n",
    "    find                filter files satisfying syntactic & semantic\r\n",
    "                        constraints\r\n",
    "    parse               parse an input into a derivation tree if it satisfies\r\n",
    "                        an ISLa constraint\r\n",
    "    repair              try to repair an existing input such that it satisfies\r\n",
    "                        an ISLa constraint\r\n",
    "    mutate              mutate an input such that the result satisfies an ISLa\r\n",
    "                        constraint\r\n",
    "    create              create grammar and constraint stubs\r\n",
    "    config              dumps the default configuration file\r\n",
    "\n",
    "```\n"
   ]
  },
  {
   "cell_type": "markdown",
   "id": "93f11201",
   "metadata": {
    "slideshow": {
     "slide_type": "slide"
    }
   },
   "source": [
    "## Semantic Input Properties"
   ]
  },
  {
   "cell_type": "markdown",
   "id": "0ca854cf",
   "metadata": {
    "slideshow": {
     "slide_type": "fragment"
    }
   },
   "source": [
    "In this book, we have frequently used [grammars](Grammars.ipynb) to [systematically generate inputs](GrammarFuzzer.ipynb) that [cover input structure](GrammarCoverageFuzzer.ipynb) and more.\n",
    "But while it is relatively easy to express the _syntax_ of an input using a grammar, there are input properties that _cannot_ be expressed using a grammar.\n",
    "Such input properties are called _semantic_ properties."
   ]
  },
  {
   "cell_type": "markdown",
   "id": "c2b7c2bd",
   "metadata": {
    "slideshow": {
     "slide_type": "subslide"
    }
   },
   "source": [
    "Let us illustrate semantic properties using a simple example.\n",
    "We want to test some system that is configured by two settings, a _page size_ and a _buffer size_. \n",
    "Both these come as integer numbers as part of a human-readable configuration file.\n",
    "The _syntax_ of this file is given by the following grammar:"
   ]
  },
  {
   "cell_type": "code",
   "execution_count": 5,
   "id": "3e8cb79d",
   "metadata": {
    "execution": {
     "iopub.execute_input": "2023-11-12T12:45:30.131379Z",
     "iopub.status.busy": "2023-11-12T12:45:30.131268Z",
     "iopub.status.idle": "2023-11-12T12:45:30.602555Z",
     "shell.execute_reply": "2023-11-12T12:45:30.602171Z"
    },
    "slideshow": {
     "slide_type": "skip"
    }
   },
   "outputs": [],
   "source": [
    "from Grammars import Grammar, is_valid_grammar, syntax_diagram, crange"
   ]
  },
  {
   "cell_type": "code",
   "execution_count": 6,
   "id": "e207e7fc",
   "metadata": {
    "execution": {
     "iopub.execute_input": "2023-11-12T12:45:30.604974Z",
     "iopub.status.busy": "2023-11-12T12:45:30.604499Z",
     "iopub.status.idle": "2023-11-12T12:45:30.606802Z",
     "shell.execute_reply": "2023-11-12T12:45:30.606203Z"
    },
    "slideshow": {
     "slide_type": "skip"
    }
   },
   "outputs": [],
   "source": [
    "import string"
   ]
  },
  {
   "cell_type": "code",
   "execution_count": 7,
   "id": "398f0dce",
   "metadata": {
    "execution": {
     "iopub.execute_input": "2023-11-12T12:45:30.608642Z",
     "iopub.status.busy": "2023-11-12T12:45:30.608503Z",
     "iopub.status.idle": "2023-11-12T12:45:30.610754Z",
     "shell.execute_reply": "2023-11-12T12:45:30.610422Z"
    },
    "slideshow": {
     "slide_type": "subslide"
    }
   },
   "outputs": [],
   "source": [
    "CONFIG_GRAMMAR: Grammar = {\n",
    "    \"<start>\": [\"<config>\"],\n",
    "    \"<config>\": [\n",
    "        \"pagesize=<pagesize>\\n\"\n",
    "        \"bufsize=<bufsize>\"\n",
    "    ],\n",
    "    \"<pagesize>\": [\"<int>\"],\n",
    "    \"<bufsize>\": [\"<int>\"],\n",
    "    \"<int>\": [\"<leaddigit><digits>\"],\n",
    "    \"<digits>\": [\"\", \"<digit><digits>\"],\n",
    "    \"<digit>\": list(\"0123456789\"),\n",
    "    \"<leaddigit>\": list(\"123456789\")\n",
    "}"
   ]
  },
  {
   "cell_type": "code",
   "execution_count": 8,
   "id": "82f60456",
   "metadata": {
    "execution": {
     "iopub.execute_input": "2023-11-12T12:45:30.612408Z",
     "iopub.status.busy": "2023-11-12T12:45:30.612275Z",
     "iopub.status.idle": "2023-11-12T12:45:30.614116Z",
     "shell.execute_reply": "2023-11-12T12:45:30.613841Z"
    },
    "slideshow": {
     "slide_type": "fragment"
    },
    "tags": []
   },
   "outputs": [],
   "source": [
    "assert is_valid_grammar(CONFIG_GRAMMAR)"
   ]
  },
  {
   "cell_type": "markdown",
   "id": "3201949c",
   "metadata": {
    "slideshow": {
     "slide_type": "subslide"
    }
   },
   "source": [
    "Here's a visualization of this grammar as a railroad diagram, showing its structure:"
   ]
  },
  {
   "cell_type": "code",
   "execution_count": 9,
   "id": "5c66275f",
   "metadata": {
    "execution": {
     "iopub.execute_input": "2023-11-12T12:45:30.616060Z",
     "iopub.status.busy": "2023-11-12T12:45:30.615775Z",
     "iopub.status.idle": "2023-11-12T12:45:30.631755Z",
     "shell.execute_reply": "2023-11-12T12:45:30.631395Z"
    },
    "slideshow": {
     "slide_type": "subslide"
    }
   },
   "outputs": [
    {
     "name": "stdout",
     "output_type": "stream",
     "text": [
      "start\n"
     ]
    },
    {
     "data": {
      "image/svg+xml": [
       "<svg xmlns=\"http://www.w3.org/2000/svg\" class=\"railroad-diagram\" height=\"62\" viewBox=\"0 0 191.0 62\" width=\"191.0\">\n",
       "<g transform=\"translate(.5 .5)\">\n",
       "<style>/* <![CDATA[ */\n",
       "    svg.railroad-diagram {\n",
       "    }\n",
       "    svg.railroad-diagram path {\n",
       "        stroke-width:3;\n",
       "        stroke:black;\n",
       "        fill:white;\n",
       "    }\n",
       "    svg.railroad-diagram text {\n",
       "        font:14px \"Fira Mono\", monospace;\n",
       "        text-anchor:middle;\n",
       "    }\n",
       "    svg.railroad-diagram text.label{\n",
       "        text-anchor:start;\n",
       "    }\n",
       "    svg.railroad-diagram text.comment{\n",
       "        font:italic 12px \"Fira Mono\", monospace;\n",
       "    }\n",
       "    svg.railroad-diagram rect{\n",
       "        stroke-width:2;\n",
       "        stroke:black;\n",
       "        fill:mistyrose;\n",
       "    }\n",
       "\n",
       "/* ]]> */\n",
       "</style><g>\n",
       "<path d=\"M20 21v20m10 -20v20m-10 -10h20\"/></g><g>\n",
       "<path d=\"M40 31h0.0\"/><path d=\"M151.0 31h0.0\"/><path d=\"M40.0 31h20\"/><g>\n",
       "<path d=\"M60.0 31h0.0\"/><path d=\"M131.0 31h0.0\"/><g class=\"non-terminal\">\n",
       "<path d=\"M60.0 31h0.0\"/><path d=\"M131.0 31h0.0\"/><rect height=\"22\" width=\"71.0\" x=\"60.0\" y=\"20\"/><text x=\"95.5\" y=\"35\">config</text></g></g><path d=\"M131.0 31h20\"/></g><path d=\"M 151.0 31 h 20 m -10 -10 v 20 m 10 -20 v 20\"/></g></svg>"
      ],
      "text/plain": [
       "<IPython.core.display.SVG object>"
      ]
     },
     "metadata": {},
     "output_type": "display_data"
    },
    {
     "name": "stdout",
     "output_type": "stream",
     "text": [
      "config\n"
     ]
    },
    {
     "data": {
      "image/svg+xml": [
       "<svg xmlns=\"http://www.w3.org/2000/svg\" class=\"railroad-diagram\" height=\"62\" viewBox=\"0 0 540.5 62\" width=\"540.5\">\n",
       "<g transform=\"translate(.5 .5)\">\n",
       "<style>/* <![CDATA[ */\n",
       "    svg.railroad-diagram {\n",
       "    }\n",
       "    svg.railroad-diagram path {\n",
       "        stroke-width:3;\n",
       "        stroke:black;\n",
       "        fill:white;\n",
       "    }\n",
       "    svg.railroad-diagram text {\n",
       "        font:14px \"Fira Mono\", monospace;\n",
       "        text-anchor:middle;\n",
       "    }\n",
       "    svg.railroad-diagram text.label{\n",
       "        text-anchor:start;\n",
       "    }\n",
       "    svg.railroad-diagram text.comment{\n",
       "        font:italic 12px \"Fira Mono\", monospace;\n",
       "    }\n",
       "    svg.railroad-diagram rect{\n",
       "        stroke-width:2;\n",
       "        stroke:black;\n",
       "        fill:mistyrose;\n",
       "    }\n",
       "\n",
       "/* ]]> */\n",
       "</style><g>\n",
       "<path d=\"M20 21v20m10 -20v20m-10 -10h20\"/></g><g>\n",
       "<path d=\"M40 31h0.0\"/><path d=\"M500.5 31h0.0\"/><path d=\"M40.0 31h20\"/><g>\n",
       "<path d=\"M60.0 31h0.0\"/><path d=\"M480.5 31h0.0\"/><g class=\"terminal\">\n",
       "<path d=\"M60.0 31h0.0\"/><path d=\"M156.5 31h0.0\"/><rect height=\"22\" rx=\"10\" ry=\"10\" width=\"96.5\" x=\"60.0\" y=\"20\"/><text x=\"108.25\" y=\"35\">pagesize=</text></g><path d=\"M156.5 31h10\"/><path d=\"M166.5 31h10\"/><g class=\"non-terminal\">\n",
       "<path d=\"M176.5 31h0.0\"/><path d=\"M264.5 31h0.0\"/><rect height=\"22\" width=\"88.0\" x=\"176.5\" y=\"20\"/><text x=\"220.5\" y=\"35\">pagesize</text></g><path d=\"M264.5 31h10\"/><path d=\"M274.5 31h10\"/><g class=\"terminal\">\n",
       "<path d=\"M284.5 31h0.0\"/><path d=\"M381.0 31h0.0\"/><rect height=\"22\" rx=\"10\" ry=\"10\" width=\"96.5\" x=\"284.5\" y=\"20\"/><text x=\"332.75\" y=\"35\">\n",
       "bufsize=</text></g><path d=\"M381.0 31h10\"/><path d=\"M391.0 31h10\"/><g class=\"non-terminal\">\n",
       "<path d=\"M401.0 31h0.0\"/><path d=\"M480.5 31h0.0\"/><rect height=\"22\" width=\"79.5\" x=\"401.0\" y=\"20\"/><text x=\"440.75\" y=\"35\">bufsize</text></g></g><path d=\"M480.5 31h20\"/></g><path d=\"M 500.5 31 h 20 m -10 -10 v 20 m 10 -20 v 20\"/></g></svg>"
      ],
      "text/plain": [
       "<IPython.core.display.SVG object>"
      ]
     },
     "metadata": {},
     "output_type": "display_data"
    },
    {
     "name": "stdout",
     "output_type": "stream",
     "text": [
      "pagesize\n"
     ]
    },
    {
     "data": {
      "image/svg+xml": [
       "<svg xmlns=\"http://www.w3.org/2000/svg\" class=\"railroad-diagram\" height=\"62\" viewBox=\"0 0 165.5 62\" width=\"165.5\">\n",
       "<g transform=\"translate(.5 .5)\">\n",
       "<style>/* <![CDATA[ */\n",
       "    svg.railroad-diagram {\n",
       "    }\n",
       "    svg.railroad-diagram path {\n",
       "        stroke-width:3;\n",
       "        stroke:black;\n",
       "        fill:white;\n",
       "    }\n",
       "    svg.railroad-diagram text {\n",
       "        font:14px \"Fira Mono\", monospace;\n",
       "        text-anchor:middle;\n",
       "    }\n",
       "    svg.railroad-diagram text.label{\n",
       "        text-anchor:start;\n",
       "    }\n",
       "    svg.railroad-diagram text.comment{\n",
       "        font:italic 12px \"Fira Mono\", monospace;\n",
       "    }\n",
       "    svg.railroad-diagram rect{\n",
       "        stroke-width:2;\n",
       "        stroke:black;\n",
       "        fill:mistyrose;\n",
       "    }\n",
       "\n",
       "/* ]]> */\n",
       "</style><g>\n",
       "<path d=\"M20 21v20m10 -20v20m-10 -10h20\"/></g><g>\n",
       "<path d=\"M40 31h0.0\"/><path d=\"M125.5 31h0.0\"/><path d=\"M40.0 31h20\"/><g>\n",
       "<path d=\"M60.0 31h0.0\"/><path d=\"M105.5 31h0.0\"/><g class=\"non-terminal\">\n",
       "<path d=\"M60.0 31h0.0\"/><path d=\"M105.5 31h0.0\"/><rect height=\"22\" width=\"45.5\" x=\"60.0\" y=\"20\"/><text x=\"82.75\" y=\"35\">int</text></g></g><path d=\"M105.5 31h20\"/></g><path d=\"M 125.5 31 h 20 m -10 -10 v 20 m 10 -20 v 20\"/></g></svg>"
      ],
      "text/plain": [
       "<IPython.core.display.SVG object>"
      ]
     },
     "metadata": {},
     "output_type": "display_data"
    },
    {
     "name": "stdout",
     "output_type": "stream",
     "text": [
      "bufsize\n"
     ]
    },
    {
     "data": {
      "image/svg+xml": [
       "<svg xmlns=\"http://www.w3.org/2000/svg\" class=\"railroad-diagram\" height=\"62\" viewBox=\"0 0 165.5 62\" width=\"165.5\">\n",
       "<g transform=\"translate(.5 .5)\">\n",
       "<style>/* <![CDATA[ */\n",
       "    svg.railroad-diagram {\n",
       "    }\n",
       "    svg.railroad-diagram path {\n",
       "        stroke-width:3;\n",
       "        stroke:black;\n",
       "        fill:white;\n",
       "    }\n",
       "    svg.railroad-diagram text {\n",
       "        font:14px \"Fira Mono\", monospace;\n",
       "        text-anchor:middle;\n",
       "    }\n",
       "    svg.railroad-diagram text.label{\n",
       "        text-anchor:start;\n",
       "    }\n",
       "    svg.railroad-diagram text.comment{\n",
       "        font:italic 12px \"Fira Mono\", monospace;\n",
       "    }\n",
       "    svg.railroad-diagram rect{\n",
       "        stroke-width:2;\n",
       "        stroke:black;\n",
       "        fill:mistyrose;\n",
       "    }\n",
       "\n",
       "/* ]]> */\n",
       "</style><g>\n",
       "<path d=\"M20 21v20m10 -20v20m-10 -10h20\"/></g><g>\n",
       "<path d=\"M40 31h0.0\"/><path d=\"M125.5 31h0.0\"/><path d=\"M40.0 31h20\"/><g>\n",
       "<path d=\"M60.0 31h0.0\"/><path d=\"M105.5 31h0.0\"/><g class=\"non-terminal\">\n",
       "<path d=\"M60.0 31h0.0\"/><path d=\"M105.5 31h0.0\"/><rect height=\"22\" width=\"45.5\" x=\"60.0\" y=\"20\"/><text x=\"82.75\" y=\"35\">int</text></g></g><path d=\"M105.5 31h20\"/></g><path d=\"M 125.5 31 h 20 m -10 -10 v 20 m 10 -20 v 20\"/></g></svg>"
      ],
      "text/plain": [
       "<IPython.core.display.SVG object>"
      ]
     },
     "metadata": {},
     "output_type": "display_data"
    },
    {
     "name": "stdout",
     "output_type": "stream",
     "text": [
      "int\n"
     ]
    },
    {
     "data": {
      "image/svg+xml": [
       "<svg xmlns=\"http://www.w3.org/2000/svg\" class=\"railroad-diagram\" height=\"62\" viewBox=\"0 0 307.5 62\" width=\"307.5\">\n",
       "<g transform=\"translate(.5 .5)\">\n",
       "<style>/* <![CDATA[ */\n",
       "    svg.railroad-diagram {\n",
       "    }\n",
       "    svg.railroad-diagram path {\n",
       "        stroke-width:3;\n",
       "        stroke:black;\n",
       "        fill:white;\n",
       "    }\n",
       "    svg.railroad-diagram text {\n",
       "        font:14px \"Fira Mono\", monospace;\n",
       "        text-anchor:middle;\n",
       "    }\n",
       "    svg.railroad-diagram text.label{\n",
       "        text-anchor:start;\n",
       "    }\n",
       "    svg.railroad-diagram text.comment{\n",
       "        font:italic 12px \"Fira Mono\", monospace;\n",
       "    }\n",
       "    svg.railroad-diagram rect{\n",
       "        stroke-width:2;\n",
       "        stroke:black;\n",
       "        fill:mistyrose;\n",
       "    }\n",
       "\n",
       "/* ]]> */\n",
       "</style><g>\n",
       "<path d=\"M20 21v20m10 -20v20m-10 -10h20\"/></g><g>\n",
       "<path d=\"M40 31h0.0\"/><path d=\"M267.5 31h0.0\"/><path d=\"M40.0 31h20\"/><g>\n",
       "<path d=\"M60.0 31h0.0\"/><path d=\"M247.5 31h0.0\"/><g class=\"non-terminal\">\n",
       "<path d=\"M60.0 31h0.0\"/><path d=\"M156.5 31h0.0\"/><rect height=\"22\" width=\"96.5\" x=\"60.0\" y=\"20\"/><text x=\"108.25\" y=\"35\">leaddigit</text></g><path d=\"M156.5 31h10\"/><path d=\"M166.5 31h10\"/><g class=\"non-terminal\">\n",
       "<path d=\"M176.5 31h0.0\"/><path d=\"M247.5 31h0.0\"/><rect height=\"22\" width=\"71.0\" x=\"176.5\" y=\"20\"/><text x=\"212.0\" y=\"35\">digits</text></g></g><path d=\"M247.5 31h20\"/></g><path d=\"M 267.5 31 h 20 m -10 -10 v 20 m 10 -20 v 20\"/></g></svg>"
      ],
      "text/plain": [
       "<IPython.core.display.SVG object>"
      ]
     },
     "metadata": {},
     "output_type": "display_data"
    },
    {
     "name": "stdout",
     "output_type": "stream",
     "text": [
      "digits\n"
     ]
    },
    {
     "data": {
      "image/svg+xml": [
       "<svg xmlns=\"http://www.w3.org/2000/svg\" class=\"railroad-diagram\" height=\"92\" viewBox=\"0 0 273.5 92\" width=\"273.5\">\n",
       "<g transform=\"translate(.5 .5)\">\n",
       "<style>/* <![CDATA[ */\n",
       "    svg.railroad-diagram {\n",
       "    }\n",
       "    svg.railroad-diagram path {\n",
       "        stroke-width:3;\n",
       "        stroke:black;\n",
       "        fill:white;\n",
       "    }\n",
       "    svg.railroad-diagram text {\n",
       "        font:14px \"Fira Mono\", monospace;\n",
       "        text-anchor:middle;\n",
       "    }\n",
       "    svg.railroad-diagram text.label{\n",
       "        text-anchor:start;\n",
       "    }\n",
       "    svg.railroad-diagram text.comment{\n",
       "        font:italic 12px \"Fira Mono\", monospace;\n",
       "    }\n",
       "    svg.railroad-diagram rect{\n",
       "        stroke-width:2;\n",
       "        stroke:black;\n",
       "        fill:mistyrose;\n",
       "    }\n",
       "\n",
       "/* ]]> */\n",
       "</style><g>\n",
       "<path d=\"M20 51v20m10 -20v20m-10 -10h20\"/></g><g>\n",
       "<path d=\"M40 61h0.0\"/><path d=\"M233.5 61h0.0\"/><path d=\"M40.0 61a10 10 0 0 0 10 -10v-10a10 10 0 0 1 10 -10\"/><g>\n",
       "<path d=\"M60.0 31h66.75\"/><path d=\"M146.75 31h66.75\"/><g class=\"terminal\">\n",
       "<path d=\"M126.75 31h0.0\"/><path d=\"M146.75 31h0.0\"/><rect height=\"22\" rx=\"10\" ry=\"10\" width=\"20.0\" x=\"126.75\" y=\"20\"/><text x=\"136.75\" y=\"35\"/></g></g><path d=\"M213.5 31a10 10 0 0 1 10 10v10a10 10 0 0 0 10 10\"/><path d=\"M40.0 61h20\"/><g>\n",
       "<path d=\"M60.0 61h0.0\"/><path d=\"M213.5 61h0.0\"/><g class=\"non-terminal\">\n",
       "<path d=\"M60.0 61h0.0\"/><path d=\"M122.5 61h0.0\"/><rect height=\"22\" width=\"62.5\" x=\"60.0\" y=\"50\"/><text x=\"91.25\" y=\"65\">digit</text></g><path d=\"M122.5 61h10\"/><path d=\"M132.5 61h10\"/><g class=\"non-terminal\">\n",
       "<path d=\"M142.5 61h0.0\"/><path d=\"M213.5 61h0.0\"/><rect height=\"22\" width=\"71.0\" x=\"142.5\" y=\"50\"/><text x=\"178.0\" y=\"65\">digits</text></g></g><path d=\"M213.5 61h20\"/></g><path d=\"M 233.5 61 h 20 m -10 -10 v 20 m 10 -20 v 20\"/></g></svg>"
      ],
      "text/plain": [
       "<IPython.core.display.SVG object>"
      ]
     },
     "metadata": {},
     "output_type": "display_data"
    },
    {
     "name": "stdout",
     "output_type": "stream",
     "text": [
      "digit\n"
     ]
    },
    {
     "data": {
      "image/svg+xml": [
       "<svg xmlns=\"http://www.w3.org/2000/svg\" class=\"railroad-diagram\" height=\"109\" viewBox=\"0 0 522.5 109\" width=\"522.5\">\n",
       "<g transform=\"translate(.5 .5)\">\n",
       "<style>/* <![CDATA[ */\n",
       "    svg.railroad-diagram {\n",
       "    }\n",
       "    svg.railroad-diagram path {\n",
       "        stroke-width:3;\n",
       "        stroke:black;\n",
       "        fill:white;\n",
       "    }\n",
       "    svg.railroad-diagram text {\n",
       "        font:14px \"Fira Mono\", monospace;\n",
       "        text-anchor:middle;\n",
       "    }\n",
       "    svg.railroad-diagram text.label{\n",
       "        text-anchor:start;\n",
       "    }\n",
       "    svg.railroad-diagram text.comment{\n",
       "        font:italic 12px \"Fira Mono\", monospace;\n",
       "    }\n",
       "    svg.railroad-diagram rect{\n",
       "        stroke-width:2;\n",
       "        stroke:black;\n",
       "        fill:mistyrose;\n",
       "    }\n",
       "\n",
       "/* ]]> */\n",
       "</style><g>\n",
       "<path d=\"M20 59v20m10 -20v20m-10 -10h20\"/></g><g>\n",
       "<path d=\"M40 69h0.0\"/><path d=\"M482.5 69h0.0\"/><path d=\"M40.0 69a10 10 0 0 0 10 -10v-29a10 10 0 0 1 10 -10h324.0\"/><path d=\"M138.5 89h324.0a10 10 0 0 0 10 -10v0a10 10 0 0 1 10 -10\"/><path d=\"M40.0 69h10\"/><g>\n",
       "<path d=\"M50.0 69h0.0\"/><path d=\"M118.5 69h0.0\"/><path d=\"M50.0 69a10 10 0 0 0 10 -10v-10a10 10 0 0 1 10 -10\"/><g>\n",
       "<path d=\"M70.0 39h0.0\"/><path d=\"M98.5 39h0.0\"/><g class=\"terminal\">\n",
       "<path d=\"M70.0 39h0.0\"/><path d=\"M98.5 39h0.0\"/><rect height=\"22\" rx=\"10\" ry=\"10\" width=\"28.5\" x=\"70.0\" y=\"28\"/><text x=\"84.25\" y=\"43\">0</text></g></g><path d=\"M98.5 39a10 10 0 0 1 10 10v10a10 10 0 0 0 10 10\"/><path d=\"M50.0 69h20\"/><g>\n",
       "<path d=\"M70.0 69h0.0\"/><path d=\"M98.5 69h0.0\"/><g class=\"terminal\">\n",
       "<path d=\"M70.0 69h0.0\"/><path d=\"M98.5 69h0.0\"/><rect height=\"22\" rx=\"10\" ry=\"10\" width=\"28.5\" x=\"70.0\" y=\"58\"/><text x=\"84.25\" y=\"73\">1</text></g></g><path d=\"M98.5 69h20\"/></g><path d=\"M118.5 69a10 10 0 0 1 10 10v0a10 10 0 0 0 10 10\"/><path d=\"M118.5 20a10 10 0 0 1 10 10v29a10 10 0 0 0 10 10\"/><g>\n",
       "<path d=\"M138.5 69h0.0\"/><path d=\"M207.0 69h0.0\"/><path d=\"M138.5 69a10 10 0 0 0 10 -10v-10a10 10 0 0 1 10 -10\"/><g>\n",
       "<path d=\"M158.5 39h0.0\"/><path d=\"M187.0 39h0.0\"/><g class=\"terminal\">\n",
       "<path d=\"M158.5 39h0.0\"/><path d=\"M187.0 39h0.0\"/><rect height=\"22\" rx=\"10\" ry=\"10\" width=\"28.5\" x=\"158.5\" y=\"28\"/><text x=\"172.75\" y=\"43\">2</text></g></g><path d=\"M187.0 39a10 10 0 0 1 10 10v10a10 10 0 0 0 10 10\"/><path d=\"M138.5 69h20\"/><g>\n",
       "<path d=\"M158.5 69h0.0\"/><path d=\"M187.0 69h0.0\"/><g class=\"terminal\">\n",
       "<path d=\"M158.5 69h0.0\"/><path d=\"M187.0 69h0.0\"/><rect height=\"22\" rx=\"10\" ry=\"10\" width=\"28.5\" x=\"158.5\" y=\"58\"/><text x=\"172.75\" y=\"73\">3</text></g></g><path d=\"M187.0 69h20\"/></g><path d=\"M207.0 69a10 10 0 0 1 10 10v0a10 10 0 0 0 10 10\"/><path d=\"M207.0 20a10 10 0 0 1 10 10v29a10 10 0 0 0 10 10\"/><g>\n",
       "<path d=\"M227.0 69h0.0\"/><path d=\"M295.5 69h0.0\"/><path d=\"M227.0 69a10 10 0 0 0 10 -10v-10a10 10 0 0 1 10 -10\"/><g>\n",
       "<path d=\"M247.0 39h0.0\"/><path d=\"M275.5 39h0.0\"/><g class=\"terminal\">\n",
       "<path d=\"M247.0 39h0.0\"/><path d=\"M275.5 39h0.0\"/><rect height=\"22\" rx=\"10\" ry=\"10\" width=\"28.5\" x=\"247.0\" y=\"28\"/><text x=\"261.25\" y=\"43\">4</text></g></g><path d=\"M275.5 39a10 10 0 0 1 10 10v10a10 10 0 0 0 10 10\"/><path d=\"M227.0 69h20\"/><g>\n",
       "<path d=\"M247.0 69h0.0\"/><path d=\"M275.5 69h0.0\"/><g class=\"terminal\">\n",
       "<path d=\"M247.0 69h0.0\"/><path d=\"M275.5 69h0.0\"/><rect height=\"22\" rx=\"10\" ry=\"10\" width=\"28.5\" x=\"247.0\" y=\"58\"/><text x=\"261.25\" y=\"73\">5</text></g></g><path d=\"M275.5 69h20\"/></g><path d=\"M295.5 69a10 10 0 0 1 10 10v0a10 10 0 0 0 10 10\"/><path d=\"M295.5 20a10 10 0 0 1 10 10v29a10 10 0 0 0 10 10\"/><g>\n",
       "<path d=\"M315.5 69h0.0\"/><path d=\"M384.0 69h0.0\"/><path d=\"M315.5 69a10 10 0 0 0 10 -10v-10a10 10 0 0 1 10 -10\"/><g>\n",
       "<path d=\"M335.5 39h0.0\"/><path d=\"M364.0 39h0.0\"/><g class=\"terminal\">\n",
       "<path d=\"M335.5 39h0.0\"/><path d=\"M364.0 39h0.0\"/><rect height=\"22\" rx=\"10\" ry=\"10\" width=\"28.5\" x=\"335.5\" y=\"28\"/><text x=\"349.75\" y=\"43\">6</text></g></g><path d=\"M364.0 39a10 10 0 0 1 10 10v10a10 10 0 0 0 10 10\"/><path d=\"M315.5 69h20\"/><g>\n",
       "<path d=\"M335.5 69h0.0\"/><path d=\"M364.0 69h0.0\"/><g class=\"terminal\">\n",
       "<path d=\"M335.5 69h0.0\"/><path d=\"M364.0 69h0.0\"/><rect height=\"22\" rx=\"10\" ry=\"10\" width=\"28.5\" x=\"335.5\" y=\"58\"/><text x=\"349.75\" y=\"73\">7</text></g></g><path d=\"M364.0 69h20\"/></g><path d=\"M384.0 69a10 10 0 0 1 10 10v0a10 10 0 0 0 10 10\"/><path d=\"M384.0 20a10 10 0 0 1 10 10v29a10 10 0 0 0 10 10\"/><g>\n",
       "<path d=\"M404.0 69h0.0\"/><path d=\"M472.5 69h0.0\"/><path d=\"M404.0 69a10 10 0 0 0 10 -10v-10a10 10 0 0 1 10 -10\"/><g>\n",
       "<path d=\"M424.0 39h0.0\"/><path d=\"M452.5 39h0.0\"/><g class=\"terminal\">\n",
       "<path d=\"M424.0 39h0.0\"/><path d=\"M452.5 39h0.0\"/><rect height=\"22\" rx=\"10\" ry=\"10\" width=\"28.5\" x=\"424.0\" y=\"28\"/><text x=\"438.25\" y=\"43\">8</text></g></g><path d=\"M452.5 39a10 10 0 0 1 10 10v10a10 10 0 0 0 10 10\"/><path d=\"M404.0 69h20\"/><g>\n",
       "<path d=\"M424.0 69h0.0\"/><path d=\"M452.5 69h0.0\"/><g class=\"terminal\">\n",
       "<path d=\"M424.0 69h0.0\"/><path d=\"M452.5 69h0.0\"/><rect height=\"22\" rx=\"10\" ry=\"10\" width=\"28.5\" x=\"424.0\" y=\"58\"/><text x=\"438.25\" y=\"73\">9</text></g></g><path d=\"M452.5 69h20\"/></g><path d=\"M472.5 69h10\"/></g><path d=\"M 482.5 69 h 20 m -10 -10 v 20 m 10 -20 v 20\"/></g></svg>"
      ],
      "text/plain": [
       "<IPython.core.display.SVG object>"
      ]
     },
     "metadata": {},
     "output_type": "display_data"
    },
    {
     "name": "stdout",
     "output_type": "stream",
     "text": [
      "leaddigit\n"
     ]
    },
    {
     "data": {
      "image/svg+xml": [
       "<svg xmlns=\"http://www.w3.org/2000/svg\" class=\"railroad-diagram\" height=\"80\" viewBox=\"0 0 876.5 80\" width=\"876.5\">\n",
       "<g transform=\"translate(.5 .5)\">\n",
       "<style>/* <![CDATA[ */\n",
       "    svg.railroad-diagram {\n",
       "    }\n",
       "    svg.railroad-diagram path {\n",
       "        stroke-width:3;\n",
       "        stroke:black;\n",
       "        fill:white;\n",
       "    }\n",
       "    svg.railroad-diagram text {\n",
       "        font:14px \"Fira Mono\", monospace;\n",
       "        text-anchor:middle;\n",
       "    }\n",
       "    svg.railroad-diagram text.label{\n",
       "        text-anchor:start;\n",
       "    }\n",
       "    svg.railroad-diagram text.comment{\n",
       "        font:italic 12px \"Fira Mono\", monospace;\n",
       "    }\n",
       "    svg.railroad-diagram rect{\n",
       "        stroke-width:2;\n",
       "        stroke:black;\n",
       "        fill:mistyrose;\n",
       "    }\n",
       "\n",
       "/* ]]> */\n",
       "</style><g>\n",
       "<path d=\"M20 30v20m10 -20v20m-10 -10h20\"/></g><g>\n",
       "<path d=\"M40 40h0.0\"/><path d=\"M836.5 40h0.0\"/><path d=\"M40.0 40a10 10 0 0 0 10 -10v0a10 10 0 0 1 10 -10h678.0\"/><path d=\"M138.5 60h678.0a10 10 0 0 0 10 -10v0a10 10 0 0 1 10 -10\"/><path d=\"M40.0 40h10\"/><g>\n",
       "<path d=\"M50.0 40h0.0\"/><path d=\"M118.5 40h0.0\"/><path d=\"M50.0 40h20\"/><g>\n",
       "<path d=\"M70.0 40h0.0\"/><path d=\"M98.5 40h0.0\"/><g class=\"terminal\">\n",
       "<path d=\"M70.0 40h0.0\"/><path d=\"M98.5 40h0.0\"/><rect height=\"22\" rx=\"10\" ry=\"10\" width=\"28.5\" x=\"70.0\" y=\"29\"/><text x=\"84.25\" y=\"44\">1</text></g></g><path d=\"M98.5 40h20\"/></g><path d=\"M118.5 40a10 10 0 0 1 10 10v0a10 10 0 0 0 10 10\"/><path d=\"M118.5 20a10 10 0 0 1 10 10v0a10 10 0 0 0 10 10\"/><g>\n",
       "<path d=\"M138.5 40h0.0\"/><path d=\"M207.0 40h0.0\"/><path d=\"M138.5 40h20\"/><g>\n",
       "<path d=\"M158.5 40h0.0\"/><path d=\"M187.0 40h0.0\"/><g class=\"terminal\">\n",
       "<path d=\"M158.5 40h0.0\"/><path d=\"M187.0 40h0.0\"/><rect height=\"22\" rx=\"10\" ry=\"10\" width=\"28.5\" x=\"158.5\" y=\"29\"/><text x=\"172.75\" y=\"44\">2</text></g></g><path d=\"M187.0 40h20\"/></g><path d=\"M207.0 40a10 10 0 0 1 10 10v0a10 10 0 0 0 10 10\"/><path d=\"M207.0 20a10 10 0 0 1 10 10v0a10 10 0 0 0 10 10\"/><g>\n",
       "<path d=\"M227.0 40h0.0\"/><path d=\"M295.5 40h0.0\"/><path d=\"M227.0 40h20\"/><g>\n",
       "<path d=\"M247.0 40h0.0\"/><path d=\"M275.5 40h0.0\"/><g class=\"terminal\">\n",
       "<path d=\"M247.0 40h0.0\"/><path d=\"M275.5 40h0.0\"/><rect height=\"22\" rx=\"10\" ry=\"10\" width=\"28.5\" x=\"247.0\" y=\"29\"/><text x=\"261.25\" y=\"44\">3</text></g></g><path d=\"M275.5 40h20\"/></g><path d=\"M295.5 40a10 10 0 0 1 10 10v0a10 10 0 0 0 10 10\"/><path d=\"M295.5 20a10 10 0 0 1 10 10v0a10 10 0 0 0 10 10\"/><g>\n",
       "<path d=\"M315.5 40h0.0\"/><path d=\"M384.0 40h0.0\"/><path d=\"M315.5 40h20\"/><g>\n",
       "<path d=\"M335.5 40h0.0\"/><path d=\"M364.0 40h0.0\"/><g class=\"terminal\">\n",
       "<path d=\"M335.5 40h0.0\"/><path d=\"M364.0 40h0.0\"/><rect height=\"22\" rx=\"10\" ry=\"10\" width=\"28.5\" x=\"335.5\" y=\"29\"/><text x=\"349.75\" y=\"44\">4</text></g></g><path d=\"M364.0 40h20\"/></g><path d=\"M384.0 40a10 10 0 0 1 10 10v0a10 10 0 0 0 10 10\"/><path d=\"M384.0 20a10 10 0 0 1 10 10v0a10 10 0 0 0 10 10\"/><g>\n",
       "<path d=\"M404.0 40h0.0\"/><path d=\"M472.5 40h0.0\"/><path d=\"M404.0 40h20\"/><g>\n",
       "<path d=\"M424.0 40h0.0\"/><path d=\"M452.5 40h0.0\"/><g class=\"terminal\">\n",
       "<path d=\"M424.0 40h0.0\"/><path d=\"M452.5 40h0.0\"/><rect height=\"22\" rx=\"10\" ry=\"10\" width=\"28.5\" x=\"424.0\" y=\"29\"/><text x=\"438.25\" y=\"44\">5</text></g></g><path d=\"M452.5 40h20\"/></g><path d=\"M472.5 40a10 10 0 0 1 10 10v0a10 10 0 0 0 10 10\"/><path d=\"M472.5 20a10 10 0 0 1 10 10v0a10 10 0 0 0 10 10\"/><g>\n",
       "<path d=\"M492.5 40h0.0\"/><path d=\"M561.0 40h0.0\"/><path d=\"M492.5 40h20\"/><g>\n",
       "<path d=\"M512.5 40h0.0\"/><path d=\"M541.0 40h0.0\"/><g class=\"terminal\">\n",
       "<path d=\"M512.5 40h0.0\"/><path d=\"M541.0 40h0.0\"/><rect height=\"22\" rx=\"10\" ry=\"10\" width=\"28.5\" x=\"512.5\" y=\"29\"/><text x=\"526.75\" y=\"44\">6</text></g></g><path d=\"M541.0 40h20\"/></g><path d=\"M561.0 40a10 10 0 0 1 10 10v0a10 10 0 0 0 10 10\"/><path d=\"M561.0 20a10 10 0 0 1 10 10v0a10 10 0 0 0 10 10\"/><g>\n",
       "<path d=\"M581.0 40h0.0\"/><path d=\"M649.5 40h0.0\"/><path d=\"M581.0 40h20\"/><g>\n",
       "<path d=\"M601.0 40h0.0\"/><path d=\"M629.5 40h0.0\"/><g class=\"terminal\">\n",
       "<path d=\"M601.0 40h0.0\"/><path d=\"M629.5 40h0.0\"/><rect height=\"22\" rx=\"10\" ry=\"10\" width=\"28.5\" x=\"601.0\" y=\"29\"/><text x=\"615.25\" y=\"44\">7</text></g></g><path d=\"M629.5 40h20\"/></g><path d=\"M649.5 40a10 10 0 0 1 10 10v0a10 10 0 0 0 10 10\"/><path d=\"M649.5 20a10 10 0 0 1 10 10v0a10 10 0 0 0 10 10\"/><g>\n",
       "<path d=\"M669.5 40h0.0\"/><path d=\"M738.0 40h0.0\"/><path d=\"M669.5 40h20\"/><g>\n",
       "<path d=\"M689.5 40h0.0\"/><path d=\"M718.0 40h0.0\"/><g class=\"terminal\">\n",
       "<path d=\"M689.5 40h0.0\"/><path d=\"M718.0 40h0.0\"/><rect height=\"22\" rx=\"10\" ry=\"10\" width=\"28.5\" x=\"689.5\" y=\"29\"/><text x=\"703.75\" y=\"44\">8</text></g></g><path d=\"M718.0 40h20\"/></g><path d=\"M738.0 40a10 10 0 0 1 10 10v0a10 10 0 0 0 10 10\"/><path d=\"M738.0 20a10 10 0 0 1 10 10v0a10 10 0 0 0 10 10\"/><g>\n",
       "<path d=\"M758.0 40h0.0\"/><path d=\"M826.5 40h0.0\"/><path d=\"M758.0 40h20\"/><g>\n",
       "<path d=\"M778.0 40h0.0\"/><path d=\"M806.5 40h0.0\"/><g class=\"terminal\">\n",
       "<path d=\"M778.0 40h0.0\"/><path d=\"M806.5 40h0.0\"/><rect height=\"22\" rx=\"10\" ry=\"10\" width=\"28.5\" x=\"778.0\" y=\"29\"/><text x=\"792.25\" y=\"44\">9</text></g></g><path d=\"M806.5 40h20\"/></g><path d=\"M826.5 40h10\"/></g><path d=\"M 836.5 40 h 20 m -10 -10 v 20 m 10 -20 v 20\"/></g></svg>"
      ],
      "text/plain": [
       "<IPython.core.display.SVG object>"
      ]
     },
     "metadata": {},
     "output_type": "display_data"
    }
   ],
   "source": [
    "# ignore\n",
    "syntax_diagram(CONFIG_GRAMMAR)"
   ]
  },
  {
   "cell_type": "markdown",
   "id": "c2ff4e64",
   "metadata": {
    "slideshow": {
     "slide_type": "subslide"
    }
   },
   "source": [
    "Using this grammar, we can now use any of our grammar-based fuzzers to generate valid inputs.\n",
    "For instance:"
   ]
  },
  {
   "cell_type": "code",
   "execution_count": 10,
   "id": "77f36f41",
   "metadata": {
    "execution": {
     "iopub.execute_input": "2023-11-12T12:45:30.633711Z",
     "iopub.status.busy": "2023-11-12T12:45:30.633559Z",
     "iopub.status.idle": "2023-11-12T12:45:30.666728Z",
     "shell.execute_reply": "2023-11-12T12:45:30.666402Z"
    },
    "slideshow": {
     "slide_type": "skip"
    }
   },
   "outputs": [],
   "source": [
    "from GrammarFuzzer import GrammarFuzzer, DerivationTree"
   ]
  },
  {
   "cell_type": "code",
   "execution_count": 11,
   "id": "aac93fc0",
   "metadata": {
    "execution": {
     "iopub.execute_input": "2023-11-12T12:45:30.668717Z",
     "iopub.status.busy": "2023-11-12T12:45:30.668571Z",
     "iopub.status.idle": "2023-11-12T12:45:30.670363Z",
     "shell.execute_reply": "2023-11-12T12:45:30.670100Z"
    },
    "slideshow": {
     "slide_type": "fragment"
    }
   },
   "outputs": [],
   "source": [
    "fuzzer = GrammarFuzzer(CONFIG_GRAMMAR)"
   ]
  },
  {
   "cell_type": "code",
   "execution_count": 12,
   "id": "e9af0141",
   "metadata": {
    "execution": {
     "iopub.execute_input": "2023-11-12T12:45:30.672050Z",
     "iopub.status.busy": "2023-11-12T12:45:30.671933Z",
     "iopub.status.idle": "2023-11-12T12:45:30.677594Z",
     "shell.execute_reply": "2023-11-12T12:45:30.677270Z"
    },
    "slideshow": {
     "slide_type": "subslide"
    }
   },
   "outputs": [
    {
     "name": "stdout",
     "output_type": "stream",
     "text": [
      "0\n",
      "pagesize=4057\n",
      "bufsize=817\n",
      "1\n",
      "pagesize=9\n",
      "bufsize=8\n",
      "2\n",
      "pagesize=5\n",
      "bufsize=25\n",
      "3\n",
      "pagesize=1\n",
      "bufsize=2\n",
      "4\n",
      "pagesize=62\n",
      "bufsize=57\n",
      "5\n",
      "pagesize=2\n",
      "bufsize=893\n",
      "6\n",
      "pagesize=1\n",
      "bufsize=33\n",
      "7\n",
      "pagesize=7537\n",
      "bufsize=3\n",
      "8\n",
      "pagesize=97\n",
      "bufsize=983\n",
      "9\n",
      "pagesize=2\n",
      "bufsize=2\n"
     ]
    }
   ],
   "source": [
    "for i in range(10):\n",
    "    print(i)\n",
    "    print(fuzzer.fuzz())"
   ]
  },
  {
   "cell_type": "markdown",
   "id": "70fe9cd2",
   "metadata": {
    "slideshow": {
     "slide_type": "subslide"
    }
   },
   "source": [
    "So far, so good - and indeed, these random values will help us test our (hypothetical) system.\n",
    "But what if we want to _control_ these values further, putting our system to the test?"
   ]
  },
  {
   "cell_type": "markdown",
   "id": "2cd32fe5",
   "metadata": {
    "slideshow": {
     "slide_type": "subslide"
    }
   },
   "source": [
    "A grammar gives us _some_ control. If we want to ensure a page size of at least 100,000, for instance, a rule like\n",
    "```python\n",
    "\"<bufsize>\": [\"<leaddigit><digit><digit><digit><digit><digit>\"]\n",
    "```\n",
    "would do the job.\n",
    "We could also express that the page size should be an odd number, by having it end in an odd digit.\n",
    "But if we want to state that the page size should be, say, a multiple of 8, or larger or less than the buffer size, we are out of luck."
   ]
  },
  {
   "cell_type": "markdown",
   "id": "7233e308",
   "metadata": {
    "slideshow": {
     "slide_type": "subslide"
    }
   },
   "source": [
    "In the [chapter on fuzzing with generators](GeneratorGrammarFuzzer.ipynb), we have seen how to attach _program code_ to individual rules - program code that would either _generate_ individual elements right away or _filter_ only these that satisfy specific conditions."
   ]
  },
  {
   "cell_type": "markdown",
   "id": "476f62c8",
   "metadata": {
    "slideshow": {
     "slide_type": "subslide"
    }
   },
   "source": [
    "Attaching code makes things very flexible, but also has several disadvantages:\n",
    "\n",
    "* First, it is pretty hard to generate inputs that satisfy multiple constraints at once.\n",
    "In essence, you have to code your own _strategy_ for generating inputs, which at some point negates the advantage of having an abstract representation such as a grammar.\n",
    "* Second, your code is not portable. While a grammar can be easily adapted to _any_ grammar-based fuzzer, adding, say, Python code, ties you to the Python environment forever.\n",
    "* Third, program code can only be used for _producing_ inputs or _checking_ inputs, but not both. This, again, is a downside compared to a pure grammar representation."
   ]
  },
  {
   "cell_type": "markdown",
   "id": "3e800960",
   "metadata": {
    "slideshow": {
     "slide_type": "subslide"
    }
   },
   "source": [
    "Hence, we are looking to a more _general_ way to express semantic properties - and also a more _declarative_ way to express semantic properties."
   ]
  },
  {
   "cell_type": "markdown",
   "id": "78f7cdf6",
   "metadata": {
    "slideshow": {
     "slide_type": "subslide"
    }
   },
   "source": [
    "### Excursion: Unrestricted Grammars"
   ]
  },
  {
   "attachments": {},
   "cell_type": "markdown",
   "id": "e163a786",
   "metadata": {
    "slideshow": {
     "slide_type": "subslide"
    }
   },
   "source": [
    "One very general solution to this problem would be to use _unrestricted_ grammars rather than the _context-free_ grammars we have used so far.\n",
    "In an unrestricted grammar, one can have multiple symbols also on the left-hand side of an expansion rule, making them very flexible.\n",
    "In fact, unrestricted grammars are _Turing-universal_, meaning that they can express any feature that could also be expressed in program code; and they could thus check and produce arbitrary strings with arbitrary features. (If they finish, that is – unrestricted grammars also suffer from the halting problem.)\n",
    "The downside is that there is literally no programming support for unrestricted grammars – we'd have to implement all arithmetics, strings, and other functionality from scratch in a grammar, which is - well - not fun."
   ]
  },
  {
   "cell_type": "markdown",
   "id": "1e84f753",
   "metadata": {
    "slideshow": {
     "slide_type": "subslide"
    }
   },
   "source": [
    "### End of Excursion"
   ]
  },
  {
   "cell_type": "markdown",
   "id": "0cd821cb",
   "metadata": {
    "slideshow": {
     "slide_type": "slide"
    }
   },
   "source": [
    "## Specifying Constraints"
   ]
  },
  {
   "cell_type": "markdown",
   "id": "c20ac501",
   "metadata": {
    "slideshow": {
     "slide_type": "fragment"
    }
   },
   "source": [
    "In recent work, _Dominic Steinhöfel_ and _Andreas Zeller_ (one of the authors of this book) have presented an infrastructure that allows producing inputs with _arbitrary properties_, but without having to go through the trouble of implementing producers or checkers.\n",
    "Instead, they suggest a dedicated _language_ for specifiying inputs, named [ISLa](https://rindphi.github.io/isla/) (for input specification language).\n",
    "_ISLa_ combines a standard context-free _grammar_ with _constraints_ that express _semantic_ properties of the inputs and their elements.\n",
    "ISLa can be used as a _fuzzer_ (producing inputs that satisfy the constraints) as well as a _checker_ (checking inputs whether they satisfy the given constraints)."
   ]
  },
  {
   "cell_type": "markdown",
   "id": "6d1a17d7",
   "metadata": {
    "slideshow": {
     "slide_type": "subslide"
    }
   },
   "source": [
    "Let us illustrate ISLa by example. ISLa comes as a Python package named `isla-solver` that can be easily installed using `pip`:\n",
    "\n",
    "```shell\n",
    "$ pip install isla-solver\n",
    "```\n",
    "\n",
    "This also installs all dependent packages."
   ]
  },
  {
   "cell_type": "markdown",
   "id": "473959be",
   "metadata": {
    "slideshow": {
     "slide_type": "fragment"
    }
   },
   "source": [
    "The core of ISLa is the _ISLa Solver_ – the component that actually _solves_ constraints to produce satisfying inputs."
   ]
  },
  {
   "cell_type": "code",
   "execution_count": 13,
   "id": "918b8ac1",
   "metadata": {
    "execution": {
     "iopub.execute_input": "2023-11-12T12:45:30.680611Z",
     "iopub.status.busy": "2023-11-12T12:45:30.680347Z",
     "iopub.status.idle": "2023-11-12T12:45:30.682957Z",
     "shell.execute_reply": "2023-11-12T12:45:30.682601Z"
    },
    "slideshow": {
     "slide_type": "skip"
    }
   },
   "outputs": [],
   "source": [
    "import isla  # type: ignore"
   ]
  },
  {
   "cell_type": "code",
   "execution_count": 14,
   "id": "9e4fcb78",
   "metadata": {
    "execution": {
     "iopub.execute_input": "2023-11-12T12:45:30.684508Z",
     "iopub.status.busy": "2023-11-12T12:45:30.684392Z",
     "iopub.status.idle": "2023-11-12T12:45:30.978074Z",
     "shell.execute_reply": "2023-11-12T12:45:30.977718Z"
    },
    "slideshow": {
     "slide_type": "skip"
    }
   },
   "outputs": [],
   "source": [
    "from isla.solver import ISLaSolver  # type: ignore"
   ]
  },
  {
   "cell_type": "markdown",
   "id": "1f671384",
   "metadata": {
    "slideshow": {
     "slide_type": "subslide"
    }
   },
   "source": [
    "The constructor of an `ISLaSolver` takes two mandatory arguments.\n",
    "* The _grammar_ is the grammar the solver should produce inputs from.\n",
    "* The _constraint_ is the constraint the produced inputs should satisfy."
   ]
  },
  {
   "cell_type": "markdown",
   "id": "57381334",
   "metadata": {
    "slideshow": {
     "slide_type": "fragment"
    }
   },
   "source": [
    "To express a constraint, we have a variety of _functions_ and _predicates_ at our disposition.\n",
    "These can be applied to individual elements of the grammar, notably their nonterminals.\n",
    "The function `str.len()`, for instance, returns the length of a string.\n",
    "If we want to have inputs in which the page size has at least 6 digits, we can write:"
   ]
  },
  {
   "cell_type": "code",
   "execution_count": 15,
   "id": "9f6fc3dd",
   "metadata": {
    "execution": {
     "iopub.execute_input": "2023-11-12T12:45:30.980280Z",
     "iopub.status.busy": "2023-11-12T12:45:30.980103Z",
     "iopub.status.idle": "2023-11-12T12:45:30.993008Z",
     "shell.execute_reply": "2023-11-12T12:45:30.992701Z"
    },
    "slideshow": {
     "slide_type": "fragment"
    }
   },
   "outputs": [],
   "source": [
    "solver = ISLaSolver(CONFIG_GRAMMAR, 'str.len(<pagesize>) >= 6')"
   ]
  },
  {
   "cell_type": "markdown",
   "id": "15e4f97b-e920-4021-ba0c-0088185351bb",
   "metadata": {
    "slideshow": {
     "slide_type": "subslide"
    }
   },
   "source": [
    "The method `solve()` returns the next produced string from the ISLa solver, as a _derivation tree_ (seen in the [Chapter on fuzzing with grammars](GrammarFuzzer.ipynb)).\n",
    "To convert these into a string, we can use the `str()` converter:"
   ]
  },
  {
   "cell_type": "code",
   "execution_count": 16,
   "id": "4989280e-ddf8-4c2b-81a9-b7862e906ec3",
   "metadata": {
    "execution": {
     "iopub.execute_input": "2023-11-12T12:45:30.994681Z",
     "iopub.status.busy": "2023-11-12T12:45:30.994579Z",
     "iopub.status.idle": "2023-11-12T12:45:31.112382Z",
     "shell.execute_reply": "2023-11-12T12:45:31.111997Z"
    },
    "slideshow": {
     "slide_type": "fragment"
    }
   },
   "outputs": [
    {
     "data": {
      "text/plain": [
       "'pagesize=769531\\nbufsize=3'"
      ]
     },
     "execution_count": 16,
     "metadata": {},
     "output_type": "execute_result"
    }
   ],
   "source": [
    "str(solver.solve())"
   ]
  },
  {
   "attachments": {},
   "cell_type": "markdown",
   "id": "f43126e4-4fb4-435c-be61-1966c6260320",
   "metadata": {
    "slideshow": {
     "slide_type": "fragment"
    }
   },
   "source": [
    "The `print()` method converts its arguments to strings implicitly.\n",
    "To get, say, the next 10 solutions, we can thus write"
   ]
  },
  {
   "cell_type": "code",
   "execution_count": 17,
   "id": "035571b5",
   "metadata": {
    "execution": {
     "iopub.execute_input": "2023-11-12T12:45:31.114456Z",
     "iopub.status.busy": "2023-11-12T12:45:31.114200Z",
     "iopub.status.idle": "2023-11-12T12:45:31.135431Z",
     "shell.execute_reply": "2023-11-12T12:45:31.135166Z"
    },
    "slideshow": {
     "slide_type": "subslide"
    }
   },
   "outputs": [
    {
     "name": "stdout",
     "output_type": "stream",
     "text": [
      "pagesize=769531\n",
      "bufsize=402493567181\n",
      "pagesize=769531\n",
      "bufsize=1\n",
      "pagesize=769531\n",
      "bufsize=96\n",
      "pagesize=769531\n",
      "bufsize=81\n",
      "pagesize=769531\n",
      "bufsize=514\n",
      "pagesize=769531\n",
      "bufsize=2\n",
      "pagesize=769531\n",
      "bufsize=635\n",
      "pagesize=769531\n",
      "bufsize=7\n",
      "pagesize=769531\n",
      "bufsize=3\n",
      "pagesize=111534185\n",
      "bufsize=44\n"
     ]
    }
   ],
   "source": [
    "for _ in range(10):\n",
    "    print(solver.solve())"
   ]
  },
  {
   "cell_type": "markdown",
   "id": "6e41cd49",
   "metadata": {
    "slideshow": {
     "slide_type": "subslide"
    }
   },
   "source": [
    "... and we see that, indeed, each page size has exactly six digits."
   ]
  },
  {
   "cell_type": "markdown",
   "id": "f2dba947-7523-482a-abba-a71823d61a75",
   "metadata": {
    "slideshow": {
     "slide_type": "subslide"
    }
   },
   "source": [
    "### Excursion: Derivation Trees"
   ]
  },
  {
   "cell_type": "markdown",
   "id": "4723868a-b463-4e57-a35b-13d8c5f7fa8e",
   "metadata": {
    "slideshow": {
     "slide_type": "fragment"
    }
   },
   "source": [
    "If you inspect a derivation tree as returned from `solve()` directly, you will get quite a structure:"
   ]
  },
  {
   "cell_type": "code",
   "execution_count": 18,
   "id": "434a8a9c-14a4-42bc-a3c8-6cfe3fafac79",
   "metadata": {
    "execution": {
     "iopub.execute_input": "2023-11-12T12:45:31.137239Z",
     "iopub.status.busy": "2023-11-12T12:45:31.137124Z",
     "iopub.status.idle": "2023-11-12T12:45:31.139358Z",
     "shell.execute_reply": "2023-11-12T12:45:31.139090Z"
    },
    "slideshow": {
     "slide_type": "fragment"
    }
   },
   "outputs": [
    {
     "data": {
      "text/plain": [
       "DerivationTree('<start>', (DerivationTree('<config>', (DerivationTree('pagesize=', (), id=2), DerivationTree('<pagesize>', (DerivationTree('<int>', (DerivationTree('<leaddigit>', (DerivationTree('1', (), id=244),), id=245), DerivationTree('<digits>', (DerivationTree('<digit>', (DerivationTree('1', (), id=254),), id=255), DerivationTree('<digits>', (DerivationTree('<digit>', (DerivationTree('1', (), id=264),), id=265), DerivationTree('<digits>', (DerivationTree('<digit>', (DerivationTree('5', (), id=274),), id=275), DerivationTree('<digits>', (DerivationTree('<digit>', (DerivationTree('3', (), id=284),), id=285), DerivationTree('<digits>', (DerivationTree('<digit>', (DerivationTree('4', (), id=294),), id=295), DerivationTree('<digits>', (DerivationTree('<digit>', (DerivationTree('1', (), id=304),), id=305), DerivationTree('<digits>', (DerivationTree('<digit>', (DerivationTree('8', (), id=314),), id=315), DerivationTree('<digits>', (DerivationTree('<digit>', (DerivationTree('5', (), id=324),), id=325), DerivationTree('<digits>', (), id=329)), id=318)), id=308)), id=298)), id=288)), id=278)), id=268)), id=258)), id=248)), id=239),), id=236), DerivationTree('\\nbufsize=', (), id=4), DerivationTree('<bufsize>', (DerivationTree('<int>', (DerivationTree('<leaddigit>', (DerivationTree('3', (), id=1614),), id=1621), DerivationTree('<digits>', (DerivationTree('<digit>', (DerivationTree('0', (), id=1630),), id=1640), DerivationTree('<digits>', (DerivationTree('<digit>', (DerivationTree('1', (), id=1646),), id=1655), DerivationTree('<digits>', (DerivationTree('', (), id=1641),), id=1644)), id=1629)), id=1625)), id=1611),), id=1608)), id=1),), id=0)"
      ]
     },
     "execution_count": 18,
     "metadata": {},
     "output_type": "execute_result"
    }
   ],
   "source": [
    "solution = solver.solve()\n",
    "solution"
   ]
  },
  {
   "cell_type": "markdown",
   "id": "dbbe1a8c-41c2-4cd0-b266-149c253320f7",
   "metadata": {
    "slideshow": {
     "slide_type": "fragment"
    }
   },
   "source": [
    "We can easily visualize the tree, revealing its structure:"
   ]
  },
  {
   "cell_type": "code",
   "execution_count": 19,
   "id": "59b5933d",
   "metadata": {
    "execution": {
     "iopub.execute_input": "2023-11-12T12:45:31.140921Z",
     "iopub.status.busy": "2023-11-12T12:45:31.140811Z",
     "iopub.status.idle": "2023-11-12T12:45:31.222545Z",
     "shell.execute_reply": "2023-11-12T12:45:31.222180Z"
    },
    "slideshow": {
     "slide_type": "fragment"
    }
   },
   "outputs": [],
   "source": [
    "# ignore\n",
    "from Parser import EarleyParser  # minor dependency\n",
    "from GrammarFuzzer import display_tree"
   ]
  },
  {
   "cell_type": "code",
   "execution_count": 20,
   "id": "a05ec520-48ac-486e-88c9-a6c7604486d3",
   "metadata": {
    "execution": {
     "iopub.execute_input": "2023-11-12T12:45:31.224517Z",
     "iopub.status.busy": "2023-11-12T12:45:31.224211Z",
     "iopub.status.idle": "2023-11-12T12:45:31.630754Z",
     "shell.execute_reply": "2023-11-12T12:45:31.630214Z"
    },
    "slideshow": {
     "slide_type": "fragment"
    }
   },
   "outputs": [
    {
     "data": {
      "image/svg+xml": [
       "<?xml version=\"1.0\" encoding=\"UTF-8\" standalone=\"no\"?>\n",
       "<!DOCTYPE svg PUBLIC \"-//W3C//DTD SVG 1.1//EN\"\n",
       " \"http://www.w3.org/Graphics/SVG/1.1/DTD/svg11.dtd\">\n",
       "<!-- Generated by graphviz version 9.0.0 (20230911.1827)\n",
       " -->\n",
       "<!-- Pages: 1 -->\n",
       "<svg width=\"608pt\" height=\"676pt\"\n",
       " viewBox=\"0.00 0.00 607.62 675.50\" xmlns=\"http://www.w3.org/2000/svg\" xmlns:xlink=\"http://www.w3.org/1999/xlink\">\n",
       "<g id=\"graph0\" class=\"graph\" transform=\"scale(1 1) rotate(0) translate(4 671.5)\">\n",
       "<polygon fill=\"white\" stroke=\"none\" points=\"-4,4 -4,-671.5 603.62,-671.5 603.62,4 -4,4\"/>\n",
       "<!-- 0 -->\n",
       "<g id=\"node1\" class=\"node\">\n",
       "<title>0</title>\n",
       "<text text-anchor=\"middle\" x=\"143.38\" y=\"-654.2\" font-family=\"Times,serif\" font-size=\"14.00\">&lt;start&gt;</text>\n",
       "</g>\n",
       "<!-- 1 -->\n",
       "<g id=\"node2\" class=\"node\">\n",
       "<title>1</title>\n",
       "<text text-anchor=\"middle\" x=\"143.38\" y=\"-603.95\" font-family=\"Times,serif\" font-size=\"14.00\">&lt;config&gt;</text>\n",
       "</g>\n",
       "<!-- 0&#45;&gt;1 -->\n",
       "<g id=\"edge1\" class=\"edge\">\n",
       "<title>0&#45;&gt;1</title>\n",
       "<path fill=\"none\" stroke=\"black\" d=\"M143.38,-653.46C143.38,-647.24 143.38,-637.15 143.38,-628.39\"/>\n",
       "<polygon fill=\"black\" stroke=\"black\" points=\"146.88,-628.6 143.38,-618.6 139.88,-628.6 146.88,-628.6\"/>\n",
       "</g>\n",
       "<!-- 2 -->\n",
       "<g id=\"node3\" class=\"node\">\n",
       "<title>2</title>\n",
       "<text text-anchor=\"middle\" x=\"27.38\" y=\"-553.7\" font-family=\"Times,serif\" font-size=\"14.00\">pagesize=</text>\n",
       "</g>\n",
       "<!-- 1&#45;&gt;2 -->\n",
       "<g id=\"edge2\" class=\"edge\">\n",
       "<title>1&#45;&gt;2</title>\n",
       "<path fill=\"none\" stroke=\"black\" d=\"M128.68,-603.01C109.51,-595.04 75.66,-580.96 52.4,-571.29\"/>\n",
       "<polygon fill=\"black\" stroke=\"black\" points=\"53.92,-568.13 43.34,-567.52 51.23,-574.59 53.92,-568.13\"/>\n",
       "</g>\n",
       "<!-- 3 -->\n",
       "<g id=\"node4\" class=\"node\">\n",
       "<title>3</title>\n",
       "<text text-anchor=\"middle\" x=\"104.38\" y=\"-553.7\" font-family=\"Times,serif\" font-size=\"14.00\">&lt;pagesize&gt;</text>\n",
       "</g>\n",
       "<!-- 1&#45;&gt;3 -->\n",
       "<g id=\"edge3\" class=\"edge\">\n",
       "<title>1&#45;&gt;3</title>\n",
       "<path fill=\"none\" stroke=\"black\" d=\"M138.59,-603.21C133.1,-596.41 123.87,-584.99 116.38,-575.73\"/>\n",
       "<polygon fill=\"black\" stroke=\"black\" points=\"119.16,-573.59 110.15,-568.02 113.71,-577.99 119.16,-573.59\"/>\n",
       "</g>\n",
       "<!-- 32 -->\n",
       "<g id=\"node33\" class=\"node\">\n",
       "<title>32</title>\n",
       "<text text-anchor=\"middle\" x=\"182.38\" y=\"-553.7\" font-family=\"Times,serif\" font-size=\"14.00\">\\nbufsize=</text>\n",
       "</g>\n",
       "<!-- 1&#45;&gt;32 -->\n",
       "<g id=\"edge32\" class=\"edge\">\n",
       "<title>1&#45;&gt;32</title>\n",
       "<path fill=\"none\" stroke=\"black\" d=\"M148.16,-603.21C153.65,-596.41 162.88,-584.99 170.37,-575.73\"/>\n",
       "<polygon fill=\"black\" stroke=\"black\" points=\"173.04,-577.99 176.6,-568.02 167.59,-573.59 173.04,-577.99\"/>\n",
       "</g>\n",
       "<!-- 33 -->\n",
       "<g id=\"node34\" class=\"node\">\n",
       "<title>33</title>\n",
       "<text text-anchor=\"middle\" x=\"257.38\" y=\"-553.7\" font-family=\"Times,serif\" font-size=\"14.00\">&lt;bufsize&gt;</text>\n",
       "</g>\n",
       "<!-- 1&#45;&gt;33 -->\n",
       "<g id=\"edge33\" class=\"edge\">\n",
       "<title>1&#45;&gt;33</title>\n",
       "<path fill=\"none\" stroke=\"black\" d=\"M157.81,-603.01C176.57,-595.07 209.62,-581.09 232.47,-571.42\"/>\n",
       "<polygon fill=\"black\" stroke=\"black\" points=\"233.82,-574.65 241.66,-567.53 231.09,-568.2 233.82,-574.65\"/>\n",
       "</g>\n",
       "<!-- 4 -->\n",
       "<g id=\"node5\" class=\"node\">\n",
       "<title>4</title>\n",
       "<text text-anchor=\"middle\" x=\"104.38\" y=\"-503.45\" font-family=\"Times,serif\" font-size=\"14.00\">&lt;int&gt;</text>\n",
       "</g>\n",
       "<!-- 3&#45;&gt;4 -->\n",
       "<g id=\"edge4\" class=\"edge\">\n",
       "<title>3&#45;&gt;4</title>\n",
       "<path fill=\"none\" stroke=\"black\" d=\"M104.38,-552.96C104.38,-546.74 104.38,-536.65 104.38,-527.89\"/>\n",
       "<polygon fill=\"black\" stroke=\"black\" points=\"107.88,-528.1 104.38,-518.1 100.88,-528.1 107.88,-528.1\"/>\n",
       "</g>\n",
       "<!-- 5 -->\n",
       "<g id=\"node6\" class=\"node\">\n",
       "<title>5</title>\n",
       "<text text-anchor=\"middle\" x=\"42.38\" y=\"-453.2\" font-family=\"Times,serif\" font-size=\"14.00\">&lt;leaddigit&gt;</text>\n",
       "</g>\n",
       "<!-- 4&#45;&gt;5 -->\n",
       "<g id=\"edge5\" class=\"edge\">\n",
       "<title>4&#45;&gt;5</title>\n",
       "<path fill=\"none\" stroke=\"black\" d=\"M96.52,-502.51C87.06,-495.15 70.92,-482.59 58.71,-473.09\"/>\n",
       "<polygon fill=\"black\" stroke=\"black\" points=\"61.21,-470.59 51.16,-467.21 56.91,-476.12 61.21,-470.59\"/>\n",
       "</g>\n",
       "<!-- 7 -->\n",
       "<g id=\"node8\" class=\"node\">\n",
       "<title>7</title>\n",
       "<text text-anchor=\"middle\" x=\"115.38\" y=\"-453.2\" font-family=\"Times,serif\" font-size=\"14.00\">&lt;digits&gt;</text>\n",
       "</g>\n",
       "<!-- 4&#45;&gt;7 -->\n",
       "<g id=\"edge7\" class=\"edge\">\n",
       "<title>4&#45;&gt;7</title>\n",
       "<path fill=\"none\" stroke=\"black\" d=\"M105.72,-502.71C107.16,-496.41 109.5,-486.17 111.51,-477.33\"/>\n",
       "<polygon fill=\"black\" stroke=\"black\" points=\"114.87,-478.34 113.68,-467.82 108.04,-476.79 114.87,-478.34\"/>\n",
       "</g>\n",
       "<!-- 6 -->\n",
       "<g id=\"node7\" class=\"node\">\n",
       "<title>6</title>\n",
       "<text text-anchor=\"middle\" x=\"42.38\" y=\"-402.95\" font-family=\"Times,serif\" font-size=\"14.00\">1 (49)</text>\n",
       "</g>\n",
       "<!-- 5&#45;&gt;6 -->\n",
       "<g id=\"edge6\" class=\"edge\">\n",
       "<title>5&#45;&gt;6</title>\n",
       "<path fill=\"none\" stroke=\"black\" d=\"M42.38,-452.46C42.38,-446.24 42.38,-436.15 42.38,-427.39\"/>\n",
       "<polygon fill=\"black\" stroke=\"black\" points=\"45.88,-427.6 42.38,-417.6 38.88,-427.6 45.88,-427.6\"/>\n",
       "</g>\n",
       "<!-- 8 -->\n",
       "<g id=\"node9\" class=\"node\">\n",
       "<title>8</title>\n",
       "<text text-anchor=\"middle\" x=\"106.38\" y=\"-402.95\" font-family=\"Times,serif\" font-size=\"14.00\">&lt;digit&gt;</text>\n",
       "</g>\n",
       "<!-- 7&#45;&gt;8 -->\n",
       "<g id=\"edge8\" class=\"edge\">\n",
       "<title>7&#45;&gt;8</title>\n",
       "<path fill=\"none\" stroke=\"black\" d=\"M114.27,-452.46C113.11,-446.24 111.23,-436.15 109.59,-427.39\"/>\n",
       "<polygon fill=\"black\" stroke=\"black\" points=\"113.04,-426.77 107.77,-417.58 106.16,-428.05 113.04,-426.77\"/>\n",
       "</g>\n",
       "<!-- 10 -->\n",
       "<g id=\"node11\" class=\"node\">\n",
       "<title>10</title>\n",
       "<text text-anchor=\"middle\" x=\"168.38\" y=\"-402.95\" font-family=\"Times,serif\" font-size=\"14.00\">&lt;digits&gt;</text>\n",
       "</g>\n",
       "<!-- 7&#45;&gt;10 -->\n",
       "<g id=\"edge10\" class=\"edge\">\n",
       "<title>7&#45;&gt;10</title>\n",
       "<path fill=\"none\" stroke=\"black\" d=\"M121.87,-452.46C129.66,-445.37 142.96,-433.26 153.35,-423.81\"/>\n",
       "<polygon fill=\"black\" stroke=\"black\" points=\"155.67,-426.43 160.7,-417.11 150.95,-421.25 155.67,-426.43\"/>\n",
       "</g>\n",
       "<!-- 9 -->\n",
       "<g id=\"node10\" class=\"node\">\n",
       "<title>9</title>\n",
       "<text text-anchor=\"middle\" x=\"106.38\" y=\"-352.7\" font-family=\"Times,serif\" font-size=\"14.00\">1 (49)</text>\n",
       "</g>\n",
       "<!-- 8&#45;&gt;9 -->\n",
       "<g id=\"edge9\" class=\"edge\">\n",
       "<title>8&#45;&gt;9</title>\n",
       "<path fill=\"none\" stroke=\"black\" d=\"M106.38,-402.21C106.38,-395.99 106.38,-385.9 106.38,-377.14\"/>\n",
       "<polygon fill=\"black\" stroke=\"black\" points=\"109.88,-377.35 106.38,-367.35 102.88,-377.35 109.88,-377.35\"/>\n",
       "</g>\n",
       "<!-- 11 -->\n",
       "<g id=\"node12\" class=\"node\">\n",
       "<title>11</title>\n",
       "<text text-anchor=\"middle\" x=\"165.38\" y=\"-352.7\" font-family=\"Times,serif\" font-size=\"14.00\">&lt;digit&gt;</text>\n",
       "</g>\n",
       "<!-- 10&#45;&gt;11 -->\n",
       "<g id=\"edge11\" class=\"edge\">\n",
       "<title>10&#45;&gt;11</title>\n",
       "<path fill=\"none\" stroke=\"black\" d=\"M168.01,-402.21C167.62,-395.99 166.99,-385.9 166.45,-377.14\"/>\n",
       "<polygon fill=\"black\" stroke=\"black\" points=\"169.95,-377.11 165.84,-367.35 162.97,-377.55 169.95,-377.11\"/>\n",
       "</g>\n",
       "<!-- 13 -->\n",
       "<g id=\"node14\" class=\"node\">\n",
       "<title>13</title>\n",
       "<text text-anchor=\"middle\" x=\"227.38\" y=\"-352.7\" font-family=\"Times,serif\" font-size=\"14.00\">&lt;digits&gt;</text>\n",
       "</g>\n",
       "<!-- 10&#45;&gt;13 -->\n",
       "<g id=\"edge13\" class=\"edge\">\n",
       "<title>10&#45;&gt;13</title>\n",
       "<path fill=\"none\" stroke=\"black\" d=\"M175.61,-402.21C184.46,-394.97 199.69,-382.52 211.35,-372.98\"/>\n",
       "<polygon fill=\"black\" stroke=\"black\" points=\"213.38,-375.84 218.91,-366.8 208.95,-370.42 213.38,-375.84\"/>\n",
       "</g>\n",
       "<!-- 12 -->\n",
       "<g id=\"node13\" class=\"node\">\n",
       "<title>12</title>\n",
       "<text text-anchor=\"middle\" x=\"165.38\" y=\"-302.45\" font-family=\"Times,serif\" font-size=\"14.00\">1 (49)</text>\n",
       "</g>\n",
       "<!-- 11&#45;&gt;12 -->\n",
       "<g id=\"edge12\" class=\"edge\">\n",
       "<title>11&#45;&gt;12</title>\n",
       "<path fill=\"none\" stroke=\"black\" d=\"M165.38,-351.96C165.38,-345.74 165.38,-335.65 165.38,-326.89\"/>\n",
       "<polygon fill=\"black\" stroke=\"black\" points=\"168.88,-327.1 165.38,-317.1 161.88,-327.1 168.88,-327.1\"/>\n",
       "</g>\n",
       "<!-- 14 -->\n",
       "<g id=\"node15\" class=\"node\">\n",
       "<title>14</title>\n",
       "<text text-anchor=\"middle\" x=\"224.38\" y=\"-302.45\" font-family=\"Times,serif\" font-size=\"14.00\">&lt;digit&gt;</text>\n",
       "</g>\n",
       "<!-- 13&#45;&gt;14 -->\n",
       "<g id=\"edge14\" class=\"edge\">\n",
       "<title>13&#45;&gt;14</title>\n",
       "<path fill=\"none\" stroke=\"black\" d=\"M227.01,-351.96C226.62,-345.74 225.99,-335.65 225.45,-326.89\"/>\n",
       "<polygon fill=\"black\" stroke=\"black\" points=\"228.95,-326.86 224.84,-317.1 221.97,-327.3 228.95,-326.86\"/>\n",
       "</g>\n",
       "<!-- 16 -->\n",
       "<g id=\"node17\" class=\"node\">\n",
       "<title>16</title>\n",
       "<text text-anchor=\"middle\" x=\"286.38\" y=\"-302.45\" font-family=\"Times,serif\" font-size=\"14.00\">&lt;digits&gt;</text>\n",
       "</g>\n",
       "<!-- 13&#45;&gt;16 -->\n",
       "<g id=\"edge16\" class=\"edge\">\n",
       "<title>13&#45;&gt;16</title>\n",
       "<path fill=\"none\" stroke=\"black\" d=\"M234.61,-351.96C243.46,-344.72 258.69,-332.27 270.35,-322.73\"/>\n",
       "<polygon fill=\"black\" stroke=\"black\" points=\"272.38,-325.59 277.91,-316.55 267.95,-320.17 272.38,-325.59\"/>\n",
       "</g>\n",
       "<!-- 15 -->\n",
       "<g id=\"node16\" class=\"node\">\n",
       "<title>15</title>\n",
       "<text text-anchor=\"middle\" x=\"224.38\" y=\"-252.2\" font-family=\"Times,serif\" font-size=\"14.00\">5 (53)</text>\n",
       "</g>\n",
       "<!-- 14&#45;&gt;15 -->\n",
       "<g id=\"edge15\" class=\"edge\">\n",
       "<title>14&#45;&gt;15</title>\n",
       "<path fill=\"none\" stroke=\"black\" d=\"M224.38,-301.71C224.38,-295.49 224.38,-285.4 224.38,-276.64\"/>\n",
       "<polygon fill=\"black\" stroke=\"black\" points=\"227.88,-276.85 224.38,-266.85 220.88,-276.85 227.88,-276.85\"/>\n",
       "</g>\n",
       "<!-- 17 -->\n",
       "<g id=\"node18\" class=\"node\">\n",
       "<title>17</title>\n",
       "<text text-anchor=\"middle\" x=\"282.38\" y=\"-252.2\" font-family=\"Times,serif\" font-size=\"14.00\">&lt;digit&gt;</text>\n",
       "</g>\n",
       "<!-- 16&#45;&gt;17 -->\n",
       "<g id=\"edge17\" class=\"edge\">\n",
       "<title>16&#45;&gt;17</title>\n",
       "<path fill=\"none\" stroke=\"black\" d=\"M285.88,-301.71C285.37,-295.49 284.53,-285.4 283.81,-276.64\"/>\n",
       "<polygon fill=\"black\" stroke=\"black\" points=\"287.31,-276.52 282.99,-266.85 280.33,-277.1 287.31,-276.52\"/>\n",
       "</g>\n",
       "<!-- 19 -->\n",
       "<g id=\"node20\" class=\"node\">\n",
       "<title>19</title>\n",
       "<text text-anchor=\"middle\" x=\"344.38\" y=\"-252.2\" font-family=\"Times,serif\" font-size=\"14.00\">&lt;digits&gt;</text>\n",
       "</g>\n",
       "<!-- 16&#45;&gt;19 -->\n",
       "<g id=\"edge19\" class=\"edge\">\n",
       "<title>16&#45;&gt;19</title>\n",
       "<path fill=\"none\" stroke=\"black\" d=\"M293.49,-301.71C302.18,-294.47 317.16,-282.02 328.62,-272.48\"/>\n",
       "<polygon fill=\"black\" stroke=\"black\" points=\"330.59,-275.39 336.04,-266.31 326.12,-270.01 330.59,-275.39\"/>\n",
       "</g>\n",
       "<!-- 18 -->\n",
       "<g id=\"node19\" class=\"node\">\n",
       "<title>18</title>\n",
       "<text text-anchor=\"middle\" x=\"282.38\" y=\"-201.95\" font-family=\"Times,serif\" font-size=\"14.00\">3 (51)</text>\n",
       "</g>\n",
       "<!-- 17&#45;&gt;18 -->\n",
       "<g id=\"edge18\" class=\"edge\">\n",
       "<title>17&#45;&gt;18</title>\n",
       "<path fill=\"none\" stroke=\"black\" d=\"M282.38,-251.46C282.38,-245.24 282.38,-235.15 282.38,-226.39\"/>\n",
       "<polygon fill=\"black\" stroke=\"black\" points=\"285.88,-226.6 282.38,-216.6 278.88,-226.6 285.88,-226.6\"/>\n",
       "</g>\n",
       "<!-- 20 -->\n",
       "<g id=\"node21\" class=\"node\">\n",
       "<title>20</title>\n",
       "<text text-anchor=\"middle\" x=\"340.38\" y=\"-201.95\" font-family=\"Times,serif\" font-size=\"14.00\">&lt;digit&gt;</text>\n",
       "</g>\n",
       "<!-- 19&#45;&gt;20 -->\n",
       "<g id=\"edge20\" class=\"edge\">\n",
       "<title>19&#45;&gt;20</title>\n",
       "<path fill=\"none\" stroke=\"black\" d=\"M343.88,-251.46C343.37,-245.24 342.53,-235.15 341.81,-226.39\"/>\n",
       "<polygon fill=\"black\" stroke=\"black\" points=\"345.31,-226.27 340.99,-216.6 338.33,-226.85 345.31,-226.27\"/>\n",
       "</g>\n",
       "<!-- 22 -->\n",
       "<g id=\"node23\" class=\"node\">\n",
       "<title>22</title>\n",
       "<text text-anchor=\"middle\" x=\"402.38\" y=\"-201.95\" font-family=\"Times,serif\" font-size=\"14.00\">&lt;digits&gt;</text>\n",
       "</g>\n",
       "<!-- 19&#45;&gt;22 -->\n",
       "<g id=\"edge22\" class=\"edge\">\n",
       "<title>19&#45;&gt;22</title>\n",
       "<path fill=\"none\" stroke=\"black\" d=\"M351.49,-251.46C360.18,-244.22 375.16,-231.77 386.62,-222.23\"/>\n",
       "<polygon fill=\"black\" stroke=\"black\" points=\"388.59,-225.14 394.04,-216.06 384.12,-219.76 388.59,-225.14\"/>\n",
       "</g>\n",
       "<!-- 21 -->\n",
       "<g id=\"node22\" class=\"node\">\n",
       "<title>21</title>\n",
       "<text text-anchor=\"middle\" x=\"340.38\" y=\"-151.7\" font-family=\"Times,serif\" font-size=\"14.00\">4 (52)</text>\n",
       "</g>\n",
       "<!-- 20&#45;&gt;21 -->\n",
       "<g id=\"edge21\" class=\"edge\">\n",
       "<title>20&#45;&gt;21</title>\n",
       "<path fill=\"none\" stroke=\"black\" d=\"M340.38,-201.21C340.38,-194.99 340.38,-184.9 340.38,-176.14\"/>\n",
       "<polygon fill=\"black\" stroke=\"black\" points=\"343.88,-176.35 340.38,-166.35 336.88,-176.35 343.88,-176.35\"/>\n",
       "</g>\n",
       "<!-- 23 -->\n",
       "<g id=\"node24\" class=\"node\">\n",
       "<title>23</title>\n",
       "<text text-anchor=\"middle\" x=\"398.38\" y=\"-151.7\" font-family=\"Times,serif\" font-size=\"14.00\">&lt;digit&gt;</text>\n",
       "</g>\n",
       "<!-- 22&#45;&gt;23 -->\n",
       "<g id=\"edge23\" class=\"edge\">\n",
       "<title>22&#45;&gt;23</title>\n",
       "<path fill=\"none\" stroke=\"black\" d=\"M401.88,-201.21C401.37,-194.99 400.53,-184.9 399.81,-176.14\"/>\n",
       "<polygon fill=\"black\" stroke=\"black\" points=\"403.31,-176.02 398.99,-166.35 396.33,-176.6 403.31,-176.02\"/>\n",
       "</g>\n",
       "<!-- 25 -->\n",
       "<g id=\"node26\" class=\"node\">\n",
       "<title>25</title>\n",
       "<text text-anchor=\"middle\" x=\"460.38\" y=\"-151.7\" font-family=\"Times,serif\" font-size=\"14.00\">&lt;digits&gt;</text>\n",
       "</g>\n",
       "<!-- 22&#45;&gt;25 -->\n",
       "<g id=\"edge25\" class=\"edge\">\n",
       "<title>22&#45;&gt;25</title>\n",
       "<path fill=\"none\" stroke=\"black\" d=\"M409.49,-201.21C418.18,-193.97 433.16,-181.52 444.62,-171.98\"/>\n",
       "<polygon fill=\"black\" stroke=\"black\" points=\"446.59,-174.89 452.04,-165.81 442.12,-169.51 446.59,-174.89\"/>\n",
       "</g>\n",
       "<!-- 24 -->\n",
       "<g id=\"node25\" class=\"node\">\n",
       "<title>24</title>\n",
       "<text text-anchor=\"middle\" x=\"398.38\" y=\"-101.45\" font-family=\"Times,serif\" font-size=\"14.00\">1 (49)</text>\n",
       "</g>\n",
       "<!-- 23&#45;&gt;24 -->\n",
       "<g id=\"edge24\" class=\"edge\">\n",
       "<title>23&#45;&gt;24</title>\n",
       "<path fill=\"none\" stroke=\"black\" d=\"M398.38,-150.96C398.38,-144.74 398.38,-134.65 398.38,-125.89\"/>\n",
       "<polygon fill=\"black\" stroke=\"black\" points=\"401.88,-126.1 398.38,-116.1 394.88,-126.1 401.88,-126.1\"/>\n",
       "</g>\n",
       "<!-- 26 -->\n",
       "<g id=\"node27\" class=\"node\">\n",
       "<title>26</title>\n",
       "<text text-anchor=\"middle\" x=\"456.38\" y=\"-101.45\" font-family=\"Times,serif\" font-size=\"14.00\">&lt;digit&gt;</text>\n",
       "</g>\n",
       "<!-- 25&#45;&gt;26 -->\n",
       "<g id=\"edge26\" class=\"edge\">\n",
       "<title>25&#45;&gt;26</title>\n",
       "<path fill=\"none\" stroke=\"black\" d=\"M459.88,-150.96C459.37,-144.74 458.53,-134.65 457.81,-125.89\"/>\n",
       "<polygon fill=\"black\" stroke=\"black\" points=\"461.31,-125.77 456.99,-116.1 454.33,-126.35 461.31,-125.77\"/>\n",
       "</g>\n",
       "<!-- 28 -->\n",
       "<g id=\"node29\" class=\"node\">\n",
       "<title>28</title>\n",
       "<text text-anchor=\"middle\" x=\"518.38\" y=\"-101.45\" font-family=\"Times,serif\" font-size=\"14.00\">&lt;digits&gt;</text>\n",
       "</g>\n",
       "<!-- 25&#45;&gt;28 -->\n",
       "<g id=\"edge28\" class=\"edge\">\n",
       "<title>25&#45;&gt;28</title>\n",
       "<path fill=\"none\" stroke=\"black\" d=\"M467.49,-150.96C476.18,-143.72 491.16,-131.27 502.62,-121.73\"/>\n",
       "<polygon fill=\"black\" stroke=\"black\" points=\"504.59,-124.64 510.04,-115.56 500.12,-119.26 504.59,-124.64\"/>\n",
       "</g>\n",
       "<!-- 27 -->\n",
       "<g id=\"node28\" class=\"node\">\n",
       "<title>27</title>\n",
       "<text text-anchor=\"middle\" x=\"456.38\" y=\"-51.2\" font-family=\"Times,serif\" font-size=\"14.00\">8 (56)</text>\n",
       "</g>\n",
       "<!-- 26&#45;&gt;27 -->\n",
       "<g id=\"edge27\" class=\"edge\">\n",
       "<title>26&#45;&gt;27</title>\n",
       "<path fill=\"none\" stroke=\"black\" d=\"M456.38,-100.71C456.38,-94.49 456.38,-84.4 456.38,-75.64\"/>\n",
       "<polygon fill=\"black\" stroke=\"black\" points=\"459.88,-75.85 456.38,-65.85 452.88,-75.85 459.88,-75.85\"/>\n",
       "</g>\n",
       "<!-- 29 -->\n",
       "<g id=\"node30\" class=\"node\">\n",
       "<title>29</title>\n",
       "<text text-anchor=\"middle\" x=\"514.38\" y=\"-51.2\" font-family=\"Times,serif\" font-size=\"14.00\">&lt;digit&gt;</text>\n",
       "</g>\n",
       "<!-- 28&#45;&gt;29 -->\n",
       "<g id=\"edge29\" class=\"edge\">\n",
       "<title>28&#45;&gt;29</title>\n",
       "<path fill=\"none\" stroke=\"black\" d=\"M517.88,-100.71C517.37,-94.49 516.53,-84.4 515.81,-75.64\"/>\n",
       "<polygon fill=\"black\" stroke=\"black\" points=\"519.31,-75.52 514.99,-65.85 512.33,-76.1 519.31,-75.52\"/>\n",
       "</g>\n",
       "<!-- 31 -->\n",
       "<g id=\"node32\" class=\"node\">\n",
       "<title>31</title>\n",
       "<text text-anchor=\"middle\" x=\"576.38\" y=\"-51.2\" font-family=\"Times,serif\" font-size=\"14.00\">&lt;digits&gt;</text>\n",
       "</g>\n",
       "<!-- 28&#45;&gt;31 -->\n",
       "<g id=\"edge31\" class=\"edge\">\n",
       "<title>28&#45;&gt;31</title>\n",
       "<path fill=\"none\" stroke=\"black\" d=\"M525.49,-100.71C534.18,-93.47 549.16,-81.02 560.62,-71.48\"/>\n",
       "<polygon fill=\"black\" stroke=\"black\" points=\"562.59,-74.39 568.04,-65.31 558.12,-69.01 562.59,-74.39\"/>\n",
       "</g>\n",
       "<!-- 30 -->\n",
       "<g id=\"node31\" class=\"node\">\n",
       "<title>30</title>\n",
       "<text text-anchor=\"middle\" x=\"514.38\" y=\"-0.95\" font-family=\"Times,serif\" font-size=\"14.00\">5 (53)</text>\n",
       "</g>\n",
       "<!-- 29&#45;&gt;30 -->\n",
       "<g id=\"edge30\" class=\"edge\">\n",
       "<title>29&#45;&gt;30</title>\n",
       "<path fill=\"none\" stroke=\"black\" d=\"M514.38,-50.46C514.38,-44.24 514.38,-34.15 514.38,-25.39\"/>\n",
       "<polygon fill=\"black\" stroke=\"black\" points=\"517.88,-25.6 514.38,-15.6 510.88,-25.6 517.88,-25.6\"/>\n",
       "</g>\n",
       "<!-- 34 -->\n",
       "<g id=\"node35\" class=\"node\">\n",
       "<title>34</title>\n",
       "<text text-anchor=\"middle\" x=\"257.38\" y=\"-503.45\" font-family=\"Times,serif\" font-size=\"14.00\">&lt;int&gt;</text>\n",
       "</g>\n",
       "<!-- 33&#45;&gt;34 -->\n",
       "<g id=\"edge34\" class=\"edge\">\n",
       "<title>33&#45;&gt;34</title>\n",
       "<path fill=\"none\" stroke=\"black\" d=\"M257.38,-552.96C257.38,-546.74 257.38,-536.65 257.38,-527.89\"/>\n",
       "<polygon fill=\"black\" stroke=\"black\" points=\"260.88,-528.1 257.38,-518.1 253.88,-528.1 260.88,-528.1\"/>\n",
       "</g>\n",
       "<!-- 35 -->\n",
       "<g id=\"node36\" class=\"node\">\n",
       "<title>35</title>\n",
       "<text text-anchor=\"middle\" x=\"247.38\" y=\"-453.2\" font-family=\"Times,serif\" font-size=\"14.00\">&lt;leaddigit&gt;</text>\n",
       "</g>\n",
       "<!-- 34&#45;&gt;35 -->\n",
       "<g id=\"edge35\" class=\"edge\">\n",
       "<title>34&#45;&gt;35</title>\n",
       "<path fill=\"none\" stroke=\"black\" d=\"M256.15,-502.71C254.84,-496.41 252.72,-486.17 250.89,-477.33\"/>\n",
       "<polygon fill=\"black\" stroke=\"black\" points=\"254.38,-476.9 248.92,-467.82 247.52,-478.32 254.38,-476.9\"/>\n",
       "</g>\n",
       "<!-- 37 -->\n",
       "<g id=\"node38\" class=\"node\">\n",
       "<title>37</title>\n",
       "<text text-anchor=\"middle\" x=\"320.38\" y=\"-453.2\" font-family=\"Times,serif\" font-size=\"14.00\">&lt;digits&gt;</text>\n",
       "</g>\n",
       "<!-- 34&#45;&gt;37 -->\n",
       "<g id=\"edge37\" class=\"edge\">\n",
       "<title>34&#45;&gt;37</title>\n",
       "<path fill=\"none\" stroke=\"black\" d=\"M265.35,-502.51C274.97,-495.15 291.37,-482.59 303.78,-473.09\"/>\n",
       "<polygon fill=\"black\" stroke=\"black\" points=\"305.65,-476.06 311.46,-467.21 301.39,-470.51 305.65,-476.06\"/>\n",
       "</g>\n",
       "<!-- 36 -->\n",
       "<g id=\"node37\" class=\"node\">\n",
       "<title>36</title>\n",
       "<text text-anchor=\"middle\" x=\"247.38\" y=\"-402.95\" font-family=\"Times,serif\" font-size=\"14.00\">3 (51)</text>\n",
       "</g>\n",
       "<!-- 35&#45;&gt;36 -->\n",
       "<g id=\"edge36\" class=\"edge\">\n",
       "<title>35&#45;&gt;36</title>\n",
       "<path fill=\"none\" stroke=\"black\" d=\"M247.38,-452.46C247.38,-446.24 247.38,-436.15 247.38,-427.39\"/>\n",
       "<polygon fill=\"black\" stroke=\"black\" points=\"250.88,-427.6 247.38,-417.6 243.88,-427.6 250.88,-427.6\"/>\n",
       "</g>\n",
       "<!-- 38 -->\n",
       "<g id=\"node39\" class=\"node\">\n",
       "<title>38</title>\n",
       "<text text-anchor=\"middle\" x=\"311.38\" y=\"-402.95\" font-family=\"Times,serif\" font-size=\"14.00\">&lt;digit&gt;</text>\n",
       "</g>\n",
       "<!-- 37&#45;&gt;38 -->\n",
       "<g id=\"edge38\" class=\"edge\">\n",
       "<title>37&#45;&gt;38</title>\n",
       "<path fill=\"none\" stroke=\"black\" d=\"M319.27,-452.46C318.11,-446.24 316.23,-436.15 314.59,-427.39\"/>\n",
       "<polygon fill=\"black\" stroke=\"black\" points=\"318.04,-426.77 312.77,-417.58 311.16,-428.05 318.04,-426.77\"/>\n",
       "</g>\n",
       "<!-- 40 -->\n",
       "<g id=\"node41\" class=\"node\">\n",
       "<title>40</title>\n",
       "<text text-anchor=\"middle\" x=\"373.38\" y=\"-402.95\" font-family=\"Times,serif\" font-size=\"14.00\">&lt;digits&gt;</text>\n",
       "</g>\n",
       "<!-- 37&#45;&gt;40 -->\n",
       "<g id=\"edge40\" class=\"edge\">\n",
       "<title>37&#45;&gt;40</title>\n",
       "<path fill=\"none\" stroke=\"black\" d=\"M326.87,-452.46C334.66,-445.37 347.96,-433.26 358.35,-423.81\"/>\n",
       "<polygon fill=\"black\" stroke=\"black\" points=\"360.67,-426.43 365.7,-417.11 355.95,-421.25 360.67,-426.43\"/>\n",
       "</g>\n",
       "<!-- 39 -->\n",
       "<g id=\"node40\" class=\"node\">\n",
       "<title>39</title>\n",
       "<text text-anchor=\"middle\" x=\"311.38\" y=\"-352.7\" font-family=\"Times,serif\" font-size=\"14.00\">0 (48)</text>\n",
       "</g>\n",
       "<!-- 38&#45;&gt;39 -->\n",
       "<g id=\"edge39\" class=\"edge\">\n",
       "<title>38&#45;&gt;39</title>\n",
       "<path fill=\"none\" stroke=\"black\" d=\"M311.38,-402.21C311.38,-395.99 311.38,-385.9 311.38,-377.14\"/>\n",
       "<polygon fill=\"black\" stroke=\"black\" points=\"314.88,-377.35 311.38,-367.35 307.88,-377.35 314.88,-377.35\"/>\n",
       "</g>\n",
       "<!-- 41 -->\n",
       "<g id=\"node42\" class=\"node\">\n",
       "<title>41</title>\n",
       "<text text-anchor=\"middle\" x=\"369.38\" y=\"-352.7\" font-family=\"Times,serif\" font-size=\"14.00\">&lt;digit&gt;</text>\n",
       "</g>\n",
       "<!-- 40&#45;&gt;41 -->\n",
       "<g id=\"edge41\" class=\"edge\">\n",
       "<title>40&#45;&gt;41</title>\n",
       "<path fill=\"none\" stroke=\"black\" d=\"M372.88,-402.21C372.37,-395.99 371.53,-385.9 370.81,-377.14\"/>\n",
       "<polygon fill=\"black\" stroke=\"black\" points=\"374.31,-377.02 369.99,-367.35 367.33,-377.6 374.31,-377.02\"/>\n",
       "</g>\n",
       "<!-- 43 -->\n",
       "<g id=\"node44\" class=\"node\">\n",
       "<title>43</title>\n",
       "<text text-anchor=\"middle\" x=\"431.38\" y=\"-352.7\" font-family=\"Times,serif\" font-size=\"14.00\">&lt;digits&gt;</text>\n",
       "</g>\n",
       "<!-- 40&#45;&gt;43 -->\n",
       "<g id=\"edge43\" class=\"edge\">\n",
       "<title>40&#45;&gt;43</title>\n",
       "<path fill=\"none\" stroke=\"black\" d=\"M380.49,-402.21C389.18,-394.97 404.16,-382.52 415.62,-372.98\"/>\n",
       "<polygon fill=\"black\" stroke=\"black\" points=\"417.59,-375.89 423.04,-366.81 413.12,-370.51 417.59,-375.89\"/>\n",
       "</g>\n",
       "<!-- 42 -->\n",
       "<g id=\"node43\" class=\"node\">\n",
       "<title>42</title>\n",
       "<text text-anchor=\"middle\" x=\"369.38\" y=\"-302.45\" font-family=\"Times,serif\" font-size=\"14.00\">1 (49)</text>\n",
       "</g>\n",
       "<!-- 41&#45;&gt;42 -->\n",
       "<g id=\"edge42\" class=\"edge\">\n",
       "<title>41&#45;&gt;42</title>\n",
       "<path fill=\"none\" stroke=\"black\" d=\"M369.38,-351.96C369.38,-345.74 369.38,-335.65 369.38,-326.89\"/>\n",
       "<polygon fill=\"black\" stroke=\"black\" points=\"372.88,-327.1 369.38,-317.1 365.88,-327.1 372.88,-327.1\"/>\n",
       "</g>\n",
       "<!-- 44 -->\n",
       "<g id=\"node45\" class=\"node\">\n",
       "<title>44</title>\n",
       "</g>\n",
       "<!-- 43&#45;&gt;44 -->\n",
       "<g id=\"edge44\" class=\"edge\">\n",
       "<title>43&#45;&gt;44</title>\n",
       "<path fill=\"none\" stroke=\"black\" d=\"M431.38,-351.96C431.38,-351.91 431.38,-351.86 431.38,-351.81\"/>\n",
       "<polygon fill=\"black\" stroke=\"black\" points=\"434.88,-363.16 431.38,-353.17 427.88,-363.17 434.88,-363.16\"/>\n",
       "</g>\n",
       "</g>\n",
       "</svg>\n"
      ],
      "text/plain": [
       "<graphviz.graphs.Digraph at 0x10f8ee5c0>"
      ]
     },
     "execution_count": 20,
     "metadata": {},
     "output_type": "execute_result"
    }
   ],
   "source": [
    "display_tree(solution)"
   ]
  },
  {
   "cell_type": "markdown",
   "id": "7add9ac1-c7ef-4782-9c5a-7a992bf12b31",
   "metadata": {
    "slideshow": {
     "slide_type": "fragment"
    }
   },
   "source": [
    "By converting the derivation tree into a string, we get the represented string:"
   ]
  },
  {
   "cell_type": "code",
   "execution_count": 21,
   "id": "891f8bc4-f2a6-4376-9628-e099477aa8f7",
   "metadata": {
    "execution": {
     "iopub.execute_input": "2023-11-12T12:45:31.632652Z",
     "iopub.status.busy": "2023-11-12T12:45:31.632531Z",
     "iopub.status.idle": "2023-11-12T12:45:31.634983Z",
     "shell.execute_reply": "2023-11-12T12:45:31.634660Z"
    },
    "slideshow": {
     "slide_type": "subslide"
    }
   },
   "outputs": [
    {
     "data": {
      "text/plain": [
       "'pagesize=111534185\\nbufsize=301'"
      ]
     },
     "execution_count": 21,
     "metadata": {},
     "output_type": "execute_result"
    }
   ],
   "source": [
    "str(solution)"
   ]
  },
  {
   "cell_type": "markdown",
   "id": "4443ecd1-1dd3-4a1b-bee7-a5449c820520",
   "metadata": {
    "slideshow": {
     "slide_type": "fragment"
    }
   },
   "source": [
    "`print()` does this implicitly, so `print`ing the solution gives us the string:"
   ]
  },
  {
   "cell_type": "code",
   "execution_count": 22,
   "id": "5fed8e1c-6218-497a-8a68-6be6f04020a6",
   "metadata": {
    "execution": {
     "iopub.execute_input": "2023-11-12T12:45:31.636512Z",
     "iopub.status.busy": "2023-11-12T12:45:31.636406Z",
     "iopub.status.idle": "2023-11-12T12:45:31.638433Z",
     "shell.execute_reply": "2023-11-12T12:45:31.637990Z"
    },
    "slideshow": {
     "slide_type": "fragment"
    }
   },
   "outputs": [
    {
     "name": "stdout",
     "output_type": "stream",
     "text": [
      "pagesize=111534185\n",
      "bufsize=301\n"
     ]
    }
   ],
   "source": [
    "print(solution)"
   ]
  },
  {
   "cell_type": "markdown",
   "id": "406fe997-77fa-4acf-849a-4da6e3254b50",
   "metadata": {
    "slideshow": {
     "slide_type": "fragment"
    }
   },
   "source": [
    "Unless you want to inspect the derivation tree or access its elements, converting it into a string makes it more manageable."
   ]
  },
  {
   "cell_type": "markdown",
   "id": "0c667f85-5a6f-40c8-b8c5-9d2488e38afe",
   "metadata": {
    "slideshow": {
     "slide_type": "subslide"
    }
   },
   "source": [
    "### End of Excursion"
   ]
  },
  {
   "cell_type": "markdown",
   "id": "9048ad09",
   "metadata": {
    "slideshow": {
     "slide_type": "fragment"
    }
   },
   "source": [
    "To express a minimum numeric value, we can use a more elegant way.\n",
    "The function `str.to_int()`, for instance, converts a string into an integer.\n",
    "To obtain a page size that of at least 100000, we can thus also write"
   ]
  },
  {
   "cell_type": "code",
   "execution_count": 23,
   "id": "b899651c-9ddd-4d81-83be-bef3c64afca1",
   "metadata": {
    "execution": {
     "iopub.execute_input": "2023-11-12T12:45:31.640022Z",
     "iopub.status.busy": "2023-11-12T12:45:31.639904Z",
     "iopub.status.idle": "2023-11-12T12:45:31.645304Z",
     "shell.execute_reply": "2023-11-12T12:45:31.644825Z"
    },
    "slideshow": {
     "slide_type": "fragment"
    }
   },
   "outputs": [],
   "source": [
    "solver = ISLaSolver(CONFIG_GRAMMAR,\n",
    "                    'str.to.int(<pagesize>) >= 100000')"
   ]
  },
  {
   "cell_type": "code",
   "execution_count": 24,
   "id": "e5dbd6fc-00cd-4193-a00f-d0c4a2e0b614",
   "metadata": {
    "execution": {
     "iopub.execute_input": "2023-11-12T12:45:31.646981Z",
     "iopub.status.busy": "2023-11-12T12:45:31.646818Z",
     "iopub.status.idle": "2023-11-12T12:45:33.023954Z",
     "shell.execute_reply": "2023-11-12T12:45:33.023651Z"
    },
    "slideshow": {
     "slide_type": "fragment"
    }
   },
   "outputs": [
    {
     "name": "stdout",
     "output_type": "stream",
     "text": [
      "pagesize=100009\n",
      "bufsize=25\n"
     ]
    }
   ],
   "source": [
    "print(solver.solve())"
   ]
  },
  {
   "cell_type": "markdown",
   "id": "8cc30857",
   "metadata": {
    "slideshow": {
     "slide_type": "fragment"
    }
   },
   "source": [
    "If we want the page size to be in the range of 100 to 200, we can state this as a logical conjunction (using `and`)"
   ]
  },
  {
   "cell_type": "code",
   "execution_count": 25,
   "id": "75683696",
   "metadata": {
    "execution": {
     "iopub.execute_input": "2023-11-12T12:45:33.025753Z",
     "iopub.status.busy": "2023-11-12T12:45:33.025634Z",
     "iopub.status.idle": "2023-11-12T12:45:34.435619Z",
     "shell.execute_reply": "2023-11-12T12:45:34.435293Z"
    },
    "slideshow": {
     "slide_type": "subslide"
    }
   },
   "outputs": [
    {
     "name": "stdout",
     "output_type": "stream",
     "text": [
      "pagesize=158\n",
      "bufsize=9\n"
     ]
    }
   ],
   "source": [
    "solver = ISLaSolver(CONFIG_GRAMMAR, \n",
    "                    '''\n",
    "                    str.to.int(<pagesize>) >= 100 and \n",
    "                    str.to.int(<pagesize>) <= 200\n",
    "                    ''')\n",
    "print(solver.solve())"
   ]
  },
  {
   "cell_type": "markdown",
   "id": "a0de0eac",
   "metadata": {
    "slideshow": {
     "slide_type": "fragment"
    }
   },
   "source": [
    "And if we want the page size to be a multiple of seven, we can write"
   ]
  },
  {
   "cell_type": "code",
   "execution_count": 26,
   "id": "f99bd224",
   "metadata": {
    "execution": {
     "iopub.execute_input": "2023-11-12T12:45:34.437409Z",
     "iopub.status.busy": "2023-11-12T12:45:34.437290Z",
     "iopub.status.idle": "2023-11-12T12:45:35.799216Z",
     "shell.execute_reply": "2023-11-12T12:45:35.798825Z"
    },
    "slideshow": {
     "slide_type": "subslide"
    },
    "tags": []
   },
   "outputs": [
    {
     "name": "stdout",
     "output_type": "stream",
     "text": [
      "pagesize=56\n",
      "bufsize=7\n"
     ]
    }
   ],
   "source": [
    "solver = ISLaSolver(CONFIG_GRAMMAR, \n",
    "                    '''\n",
    "                    str.to.int(<pagesize>) mod 7 = 0\n",
    "                    ''')\n",
    "print(solver.solve())"
   ]
  },
  {
   "cell_type": "code",
   "execution_count": 27,
   "id": "fdd0335e",
   "metadata": {
    "execution": {
     "iopub.execute_input": "2023-11-12T12:45:35.801172Z",
     "iopub.status.busy": "2023-11-12T12:45:35.801040Z",
     "iopub.status.idle": "2023-11-12T12:45:35.802873Z",
     "shell.execute_reply": "2023-11-12T12:45:35.802539Z"
    },
    "slideshow": {
     "slide_type": "skip"
    }
   },
   "outputs": [],
   "source": [
    "from bookutils import quiz"
   ]
  },
  {
   "cell_type": "code",
   "execution_count": 28,
   "id": "28120dfd",
   "metadata": {
    "execution": {
     "iopub.execute_input": "2023-11-12T12:45:35.804367Z",
     "iopub.status.busy": "2023-11-12T12:45:35.804253Z",
     "iopub.status.idle": "2023-11-12T12:45:35.809087Z",
     "shell.execute_reply": "2023-11-12T12:45:35.808815Z"
    },
    "slideshow": {
     "slide_type": "subslide"
    }
   },
   "outputs": [
    {
     "data": {
      "text/html": [
       "\n",
       "    \n",
       "    <script>\n",
       "    var bad_answers = new Map();\n",
       "\n",
       "    function answer(quiz_id) {\n",
       "        ans = 0;\n",
       "        for (i = 1;; i++) {\n",
       "            checkbox = document.getElementById(quiz_id + \"-\" + i.toString());\n",
       "            if (!checkbox)\n",
       "                break;\n",
       "            if (checkbox.checked)\n",
       "                ans |= (1 << i);\n",
       "        }\n",
       "        return ans;\n",
       "    }\n",
       "    function check_selection(quiz_id, correct_answer, multiple_choice, hint) {\n",
       "        given_answer = answer(quiz_id);\n",
       "        if (given_answer == correct_answer)\n",
       "        {\n",
       "            document.getElementById(quiz_id + \"-submit\").value = \"Correct!\";\n",
       "            document.getElementById(quiz_id + \"-hint\").innerHTML = \"\";\n",
       "\n",
       "            for (i = 1;; i++) {\n",
       "                checkbox = document.getElementById(quiz_id + \"-\" + i.toString());\n",
       "                label = document.getElementById(quiz_id + \"-\" + i.toString() + \"-label\")\n",
       "                if (!checkbox)\n",
       "                    break;\n",
       "    \n",
       "                if (checkbox.checked) {\n",
       "                    label.style.fontWeight = \"bold\";\n",
       "                }\n",
       "                else {\n",
       "                    label.style.textDecoration = \"line-through\";\n",
       "                }\n",
       "            }\n",
       "        }\n",
       "        else \n",
       "        {\n",
       "            document.getElementById(quiz_id + \"-submit\").value = \"Try again\";\n",
       "            \n",
       "            if (!bad_answers.has(quiz_id)) {\n",
       "                bad_answers.set(quiz_id, 1);\n",
       "            }\n",
       "            else {\n",
       "                bad_answers.set(quiz_id, bad_answers.get(quiz_id) + 1);\n",
       "            }\n",
       "\n",
       "            if (bad_answers.get(quiz_id) >= 2 && hint.length > 0) {\n",
       "                document.getElementById(quiz_id + \"-hint\").innerHTML = \n",
       "                    \"&nbsp;&nbsp;(Hint: <code>\" + hint + \"</code>)\";\n",
       "            }\n",
       "\n",
       "            if (!multiple_choice) {\n",
       "                for (i = 1;; i++) {\n",
       "                    checkbox = document.getElementById(quiz_id + \"-\" + i.toString());\n",
       "                    label = document.getElementById(quiz_id + \"-\" + i.toString() + \"-label\")\n",
       "\n",
       "                    if (!checkbox)\n",
       "                        break;\n",
       "                    if (checkbox.checked) {\n",
       "                        label.style.textDecoration = \"line-through\";\n",
       "                    }\n",
       "                }\n",
       "            }\n",
       "        }\n",
       "    }\n",
       "    function clear_selection(quiz_id) {\n",
       "        document.getElementById(quiz_id + \"-submit\").value = \"Submit\";\n",
       "        document.getElementById(quiz_id + \"-hint\").innerHTML = \"\";\n",
       "    }\n",
       "    </script>\n",
       "    \n",
       "    <div class=\"quiz\">\n",
       "    <h3 class=\"quiz_title\">Quiz</h3>\n",
       "    <p>\n",
       "    <div class=\"quiz_question\">Which of the following constraints expresses that the page size and the buffer size have to be equal? Try it out!</div>\n",
       "    </p>\n",
       "    <p>\n",
       "    <div class=\"quiz_options\" title=\"Check all that apply.\">\n",
       "    \n",
       "        <input type=\"checkbox\" name=\"600491e4-8159-11ee-a262-6298cf1a5790\" id=\"600491e4-8159-11ee-a262-6298cf1a5790-1\" onclick=\"clear_selection('600491e4-8159-11ee-a262-6298cf1a5790')\">\n",
       "        <label id=\"600491e4-8159-11ee-a262-6298cf1a5790-1-label\" for=\"600491e4-8159-11ee-a262-6298cf1a5790-1\"><code>&lt;pagesize&gt; is &lt;bufsize&gt;</code></label><br>\n",
       "    \n",
       "        <input type=\"checkbox\" name=\"600491e4-8159-11ee-a262-6298cf1a5790\" id=\"600491e4-8159-11ee-a262-6298cf1a5790-2\" onclick=\"clear_selection('600491e4-8159-11ee-a262-6298cf1a5790')\">\n",
       "        <label id=\"600491e4-8159-11ee-a262-6298cf1a5790-2-label\" for=\"600491e4-8159-11ee-a262-6298cf1a5790-2\"><code>str.to.int(&lt;pagesize&gt;) = str.to.int(&lt;bufsize&gt;)</code></label><br>\n",
       "    \n",
       "        <input type=\"checkbox\" name=\"600491e4-8159-11ee-a262-6298cf1a5790\" id=\"600491e4-8159-11ee-a262-6298cf1a5790-3\" onclick=\"clear_selection('600491e4-8159-11ee-a262-6298cf1a5790')\">\n",
       "        <label id=\"600491e4-8159-11ee-a262-6298cf1a5790-3-label\" for=\"600491e4-8159-11ee-a262-6298cf1a5790-3\"><code>&lt;pagesize&gt; = &lt;bufsize&gt;</code></label><br>\n",
       "    \n",
       "        <input type=\"checkbox\" name=\"600491e4-8159-11ee-a262-6298cf1a5790\" id=\"600491e4-8159-11ee-a262-6298cf1a5790-4\" onclick=\"clear_selection('600491e4-8159-11ee-a262-6298cf1a5790')\">\n",
       "        <label id=\"600491e4-8159-11ee-a262-6298cf1a5790-4-label\" for=\"600491e4-8159-11ee-a262-6298cf1a5790-4\"><code>atoi(&lt;pagesize&gt;) == atoi(&lt;bufsize&gt;)</code></label><br>\n",
       "    \n",
       "    </div>\n",
       "    </p>\n",
       "    <input id=\"600491e4-8159-11ee-a262-6298cf1a5790-submit\" type=\"submit\" value=\"Submit\" onclick=\"check_selection('600491e4-8159-11ee-a262-6298cf1a5790', 12, 1, '[4 ** 0.5, 9 ** 0.5]')\">\n",
       "    <span class=\"quiz_hint\" id=\"600491e4-8159-11ee-a262-6298cf1a5790-hint\"></span>\n",
       "    </div>\n",
       "    "
      ],
      "text/plain": [
       "<IPython.core.display.HTML object>"
      ]
     },
     "execution_count": 28,
     "metadata": {},
     "output_type": "execute_result"
    }
   ],
   "source": [
    "quiz(\"Which of the following constraints expresses \"\n",
    "     \"that the page size and the buffer size \"\n",
    "     \"have to be equal? Try it out!\",\n",
    "     [\n",
    "         \"`<pagesize> is <bufsize>`\",\n",
    "         \"`str.to.int(<pagesize>) = str.to.int(<bufsize>)`\",\n",
    "         \"`<pagesize> = <bufsize>`\",\n",
    "         \"`atoi(<pagesize>) == atoi(<bufsize>)`\",\n",
    "     ], \"[4 ** 0.5, 9 ** 0.5]\")"
   ]
  },
  {
   "attachments": {},
   "cell_type": "markdown",
   "id": "f863aeb2",
   "metadata": {
    "slideshow": {
     "slide_type": "fragment"
    }
   },
   "source": [
    "Indeed, ISLa constraints can also involve multiple elements. Expressing equality between two elements is easy, and uses a single equal sign. (There's no assignment in ISLa the `=` could be confused with.)"
   ]
  },
  {
   "cell_type": "code",
   "execution_count": 29,
   "id": "8d94f485",
   "metadata": {
    "execution": {
     "iopub.execute_input": "2023-11-12T12:45:35.810611Z",
     "iopub.status.busy": "2023-11-12T12:45:35.810496Z",
     "iopub.status.idle": "2023-11-12T12:45:37.176653Z",
     "shell.execute_reply": "2023-11-12T12:45:37.176360Z"
    },
    "slideshow": {
     "slide_type": "subslide"
    }
   },
   "outputs": [
    {
     "name": "stdout",
     "output_type": "stream",
     "text": [
      "pagesize=2\n",
      "bufsize=2\n"
     ]
    }
   ],
   "source": [
    "solver = ISLaSolver(CONFIG_GRAMMAR, \n",
    "                    '''\n",
    "                    <pagesize> = <bufsize>\n",
    "                    ''')\n",
    "print(solver.solve())"
   ]
  },
  {
   "cell_type": "markdown",
   "id": "ad7658fd",
   "metadata": {
    "slideshow": {
     "slide_type": "fragment"
    }
   },
   "source": [
    "We can also use numerical constraints, stating that the buffer size should always be exactly one more than the page size:"
   ]
  },
  {
   "cell_type": "code",
   "execution_count": 30,
   "id": "6f62782a",
   "metadata": {
    "execution": {
     "iopub.execute_input": "2023-11-12T12:45:37.178338Z",
     "iopub.status.busy": "2023-11-12T12:45:37.178225Z",
     "iopub.status.idle": "2023-11-12T12:45:38.493596Z",
     "shell.execute_reply": "2023-11-12T12:45:38.493265Z"
    },
    "slideshow": {
     "slide_type": "subslide"
    }
   },
   "outputs": [
    {
     "name": "stdout",
     "output_type": "stream",
     "text": [
      "pagesize=1025\n",
      "bufsize=1026\n"
     ]
    }
   ],
   "source": [
    "solver = ISLaSolver(CONFIG_GRAMMAR, \n",
    "                    '''\n",
    "                    str.to.int(<pagesize>) > 1024 and\n",
    "                    str.to.int(<bufsize>) = str.to.int(<pagesize>) + 1\n",
    "                    ''')\n",
    "print(solver.solve())"
   ]
  },
  {
   "cell_type": "markdown",
   "id": "3fe9034b",
   "metadata": {
    "slideshow": {
     "slide_type": "subslide"
    }
   },
   "source": [
    "All the above functions (like `str.to.int()`) actually stem from the _SMT-LIB_ library for _satisfiability modulo theories_ (SMT), a standard for expressing constraints for constraint solvers (like ISLa).\n",
    "The [list of all theories defined in SMT-LIB](https://smtlib.cs.uiowa.edu/theories.shtml) lists dozens of functions and predicates that can be used in ISLa constraints."
   ]
  },
  {
   "cell_type": "code",
   "execution_count": 31,
   "id": "d2c0b3ad",
   "metadata": {
    "execution": {
     "iopub.execute_input": "2023-11-12T12:45:38.495487Z",
     "iopub.status.busy": "2023-11-12T12:45:38.495339Z",
     "iopub.status.idle": "2023-11-12T12:45:38.499403Z",
     "shell.execute_reply": "2023-11-12T12:45:38.499006Z"
    },
    "slideshow": {
     "slide_type": "subslide"
    }
   },
   "outputs": [
    {
     "data": {
      "text/html": [
       "\n",
       "    \n",
       "    <script>\n",
       "    var bad_answers = new Map();\n",
       "\n",
       "    function answer(quiz_id) {\n",
       "        ans = 0;\n",
       "        for (i = 1;; i++) {\n",
       "            checkbox = document.getElementById(quiz_id + \"-\" + i.toString());\n",
       "            if (!checkbox)\n",
       "                break;\n",
       "            if (checkbox.checked)\n",
       "                ans |= (1 << i);\n",
       "        }\n",
       "        return ans;\n",
       "    }\n",
       "    function check_selection(quiz_id, correct_answer, multiple_choice, hint) {\n",
       "        given_answer = answer(quiz_id);\n",
       "        if (given_answer == correct_answer)\n",
       "        {\n",
       "            document.getElementById(quiz_id + \"-submit\").value = \"Correct!\";\n",
       "            document.getElementById(quiz_id + \"-hint\").innerHTML = \"\";\n",
       "\n",
       "            for (i = 1;; i++) {\n",
       "                checkbox = document.getElementById(quiz_id + \"-\" + i.toString());\n",
       "                label = document.getElementById(quiz_id + \"-\" + i.toString() + \"-label\")\n",
       "                if (!checkbox)\n",
       "                    break;\n",
       "    \n",
       "                if (checkbox.checked) {\n",
       "                    label.style.fontWeight = \"bold\";\n",
       "                }\n",
       "                else {\n",
       "                    label.style.textDecoration = \"line-through\";\n",
       "                }\n",
       "            }\n",
       "        }\n",
       "        else \n",
       "        {\n",
       "            document.getElementById(quiz_id + \"-submit\").value = \"Try again\";\n",
       "            \n",
       "            if (!bad_answers.has(quiz_id)) {\n",
       "                bad_answers.set(quiz_id, 1);\n",
       "            }\n",
       "            else {\n",
       "                bad_answers.set(quiz_id, bad_answers.get(quiz_id) + 1);\n",
       "            }\n",
       "\n",
       "            if (bad_answers.get(quiz_id) >= 2 && hint.length > 0) {\n",
       "                document.getElementById(quiz_id + \"-hint\").innerHTML = \n",
       "                    \"&nbsp;&nbsp;(Hint: <code>\" + hint + \"</code>)\";\n",
       "            }\n",
       "\n",
       "            if (!multiple_choice) {\n",
       "                for (i = 1;; i++) {\n",
       "                    checkbox = document.getElementById(quiz_id + \"-\" + i.toString());\n",
       "                    label = document.getElementById(quiz_id + \"-\" + i.toString() + \"-label\")\n",
       "\n",
       "                    if (!checkbox)\n",
       "                        break;\n",
       "                    if (checkbox.checked) {\n",
       "                        label.style.textDecoration = \"line-through\";\n",
       "                    }\n",
       "                }\n",
       "            }\n",
       "        }\n",
       "    }\n",
       "    function clear_selection(quiz_id) {\n",
       "        document.getElementById(quiz_id + \"-submit\").value = \"Submit\";\n",
       "        document.getElementById(quiz_id + \"-hint\").innerHTML = \"\";\n",
       "    }\n",
       "    </script>\n",
       "    \n",
       "    <div class=\"quiz\">\n",
       "    <h3 class=\"quiz_title\">Quiz</h3>\n",
       "    <p>\n",
       "    <div class=\"quiz_question\">Which constraints are necessary to ensure that all digits are between 1 and 3?</div>\n",
       "    </p>\n",
       "    <p>\n",
       "    <div class=\"quiz_options\" title=\"Check all that apply.\">\n",
       "    \n",
       "        <input type=\"checkbox\" name=\"619f34b4-8159-11ee-a262-6298cf1a5790\" id=\"619f34b4-8159-11ee-a262-6298cf1a5790-1\" onclick=\"clear_selection('619f34b4-8159-11ee-a262-6298cf1a5790')\">\n",
       "        <label id=\"619f34b4-8159-11ee-a262-6298cf1a5790-1-label\" for=\"619f34b4-8159-11ee-a262-6298cf1a5790-1\"><code>str.to.int(&lt;digit&gt;) &gt;= 1</code></label><br>\n",
       "    \n",
       "        <input type=\"checkbox\" name=\"619f34b4-8159-11ee-a262-6298cf1a5790\" id=\"619f34b4-8159-11ee-a262-6298cf1a5790-2\" onclick=\"clear_selection('619f34b4-8159-11ee-a262-6298cf1a5790')\">\n",
       "        <label id=\"619f34b4-8159-11ee-a262-6298cf1a5790-2-label\" for=\"619f34b4-8159-11ee-a262-6298cf1a5790-2\"><code>str.to.int(&lt;digit&gt;) &lt;= 3</code></label><br>\n",
       "    \n",
       "        <input type=\"checkbox\" name=\"619f34b4-8159-11ee-a262-6298cf1a5790\" id=\"619f34b4-8159-11ee-a262-6298cf1a5790-3\" onclick=\"clear_selection('619f34b4-8159-11ee-a262-6298cf1a5790')\">\n",
       "        <label id=\"619f34b4-8159-11ee-a262-6298cf1a5790-3-label\" for=\"619f34b4-8159-11ee-a262-6298cf1a5790-3\"><code>str.to.int(&lt;leaddigit&gt;) &gt;= 1</code></label><br>\n",
       "    \n",
       "        <input type=\"checkbox\" name=\"619f34b4-8159-11ee-a262-6298cf1a5790\" id=\"619f34b4-8159-11ee-a262-6298cf1a5790-4\" onclick=\"clear_selection('619f34b4-8159-11ee-a262-6298cf1a5790')\">\n",
       "        <label id=\"619f34b4-8159-11ee-a262-6298cf1a5790-4-label\" for=\"619f34b4-8159-11ee-a262-6298cf1a5790-4\"><code>str.to.int(&lt;leaddigit&gt;) &lt;= 3</code></label><br>\n",
       "    \n",
       "    </div>\n",
       "    </p>\n",
       "    <input id=\"619f34b4-8159-11ee-a262-6298cf1a5790-submit\" type=\"submit\" value=\"Submit\" onclick=\"check_selection('619f34b4-8159-11ee-a262-6298cf1a5790', 22, 1, '[1 ** 0, 4 ** 0.5, 16 ** 0.5]')\">\n",
       "    <span class=\"quiz_hint\" id=\"619f34b4-8159-11ee-a262-6298cf1a5790-hint\"></span>\n",
       "    </div>\n",
       "    "
      ],
      "text/plain": [
       "<IPython.core.display.HTML object>"
      ]
     },
     "execution_count": 31,
     "metadata": {},
     "output_type": "execute_result"
    }
   ],
   "source": [
    "quiz(\"Which constraints are necessary to \"\n",
    "     \"ensure that all digits are between 1 and 3?\",\n",
    "     [\n",
    "         \"`str.to.int(<digit>) >= 1`\",\n",
    "         \"`str.to.int(<digit>) <= 3`\",\n",
    "         \"`str.to.int(<leaddigit>) >= 1`\",\n",
    "         \"`str.to.int(<leaddigit>) <= 3`\",\n",
    "     ], \"[1 ** 0, 4 ** 0.5, 16 ** 0.5]\")"
   ]
  },
  {
   "cell_type": "markdown",
   "id": "63565c2d",
   "metadata": {
    "slideshow": {
     "slide_type": "subslide"
    },
    "tags": []
   },
   "source": [
    "### Excursion: Using SMT-LIB Syntax"
   ]
  },
  {
   "cell_type": "markdown",
   "id": "0f04e42c",
   "metadata": {
    "slideshow": {
     "slide_type": "fragment"
    }
   },
   "source": [
    "Instead of the above \"infix\" syntax which is familiar to programmers, ISLa also supports full SMT-LIB syntax.\n",
    "Instead of writing $f(x_1, x_2, x_3, \\dots)$ for a function $f$ and its arguments $x_1 \\dots x_n$, SMT-LIB uses a \"prefix\" LISP-like syntax in which all functions and operators are written as $(f x_1 x_2 x_3 \\dots)$.\n",
    "The above predicate would thus be written as"
   ]
  },
  {
   "cell_type": "code",
   "execution_count": 32,
   "id": "bbe79723",
   "metadata": {
    "execution": {
     "iopub.execute_input": "2023-11-12T12:45:38.501095Z",
     "iopub.status.busy": "2023-11-12T12:45:38.501002Z",
     "iopub.status.idle": "2023-11-12T12:45:39.821911Z",
     "shell.execute_reply": "2023-11-12T12:45:39.821604Z"
    },
    "slideshow": {
     "slide_type": "subslide"
    }
   },
   "outputs": [
    {
     "name": "stdout",
     "output_type": "stream",
     "text": [
      "pagesize=1025\n",
      "bufsize=1026\n"
     ]
    }
   ],
   "source": [
    "solver = ISLaSolver(CONFIG_GRAMMAR, \n",
    "                '''\n",
    "                (and\n",
    "                  (> (str.to.int <pagesize>) 1024)\n",
    "                  (= (str.to.int <bufsize>)\n",
    "                     (+ (str.to.int <pagesize>) 1)))\n",
    "                ''')\n",
    "print(solver.solve())"
   ]
  },
  {
   "cell_type": "markdown",
   "id": "c28b7d73",
   "metadata": {
    "slideshow": {
     "slide_type": "fragment"
    }
   },
   "source": [
    "Note that for boolean operators such as `and`, we still use the ISLa infix syntax; having ISLa handle these operators is more efficient than passing them on to the constraint solver."
   ]
  },
  {
   "cell_type": "markdown",
   "id": "27156f09",
   "metadata": {
    "slideshow": {
     "slide_type": "subslide"
    }
   },
   "source": [
    "### End of Excursion"
   ]
  },
  {
   "cell_type": "markdown",
   "id": "b7ff1b09-eb1e-4b90-8738-3ff6e690b6fd",
   "metadata": {
    "slideshow": {
     "slide_type": "slide"
    }
   },
   "source": [
    "## ISLa on the Command Line"
   ]
  },
  {
   "cell_type": "markdown",
   "id": "de99f7e2-e48f-4351-aef0-6cd1182d331b",
   "metadata": {
    "slideshow": {
     "slide_type": "fragment"
    }
   },
   "source": [
    "When you install `isla-solver`, you also get an `isla` command-line tool.\n",
    "This allows you to create inputs from the command line or shell scripts."
   ]
  },
  {
   "cell_type": "markdown",
   "id": "93af8e01-6a86-40e9-9140-5239a2463325",
   "metadata": {
    "slideshow": {
     "slide_type": "fragment"
    }
   },
   "source": [
    "Let us first create a _grammar file_ suitable for `isla`. `isla` accepts grammars in Fuzzingbook format; they need to define a variable named `grammar`."
   ]
  },
  {
   "cell_type": "code",
   "execution_count": 33,
   "id": "71fc003c-21ff-4d43-8ea3-1eb76a00c16c",
   "metadata": {
    "execution": {
     "iopub.execute_input": "2023-11-12T12:45:39.824458Z",
     "iopub.status.busy": "2023-11-12T12:45:39.824297Z",
     "iopub.status.idle": "2023-11-12T12:45:39.826619Z",
     "shell.execute_reply": "2023-11-12T12:45:39.826342Z"
    },
    "slideshow": {
     "slide_type": "fragment"
    }
   },
   "outputs": [],
   "source": [
    "with open('grammar.py', 'w') as f:\n",
    "    f.write('grammar = ')\n",
    "    f.write(str(CONFIG_GRAMMAR))"
   ]
  },
  {
   "cell_type": "code",
   "execution_count": 34,
   "id": "5781e7cf-8024-4358-9bf2-579c38e2ae80",
   "metadata": {
    "execution": {
     "iopub.execute_input": "2023-11-12T12:45:39.828264Z",
     "iopub.status.busy": "2023-11-12T12:45:39.828056Z",
     "iopub.status.idle": "2023-11-12T12:45:39.829766Z",
     "shell.execute_reply": "2023-11-12T12:45:39.829506Z"
    },
    "slideshow": {
     "slide_type": "skip"
    }
   },
   "outputs": [],
   "source": [
    "from bookutils import print_file"
   ]
  },
  {
   "cell_type": "code",
   "execution_count": 35,
   "id": "83cee5b6-e441-47e7-9857-5ee524b2f307",
   "metadata": {
    "execution": {
     "iopub.execute_input": "2023-11-12T12:45:39.831429Z",
     "iopub.status.busy": "2023-11-12T12:45:39.831294Z",
     "iopub.status.idle": "2023-11-12T12:45:39.906727Z",
     "shell.execute_reply": "2023-11-12T12:45:39.906432Z"
    },
    "slideshow": {
     "slide_type": "fragment"
    }
   },
   "outputs": [
    {
     "name": "stdout",
     "output_type": "stream",
     "text": [
      "grammar = {\u001b[33m'\u001b[39;49;00m\u001b[33m<start>\u001b[39;49;00m\u001b[33m'\u001b[39;49;00m: [\u001b[33m'\u001b[39;49;00m\u001b[33m<config>\u001b[39;49;00m\u001b[33m'\u001b[39;49;00m], \u001b[33m'\u001b[39;49;00m\u001b[33m<config>\u001b[39;49;00m\u001b[33m'\u001b[39;49;00m: [\u001b[33m'\u001b[39;49;00m\u001b[33mpagesize=<pagesize>\u001b[39;49;00m\u001b[33m\\n\u001b[39;49;00m\u001b[33mbufsize=<bufsize>\u001b[39;49;00m\u001b[33m'\u001b[39;49;00m], \u001b[33m'\u001b[39;49;00m\u001b[33m<pagesize>\u001b[39;49;00m\u001b[33m'\u001b[39;49;00m: [\u001b[33m'\u001b[39;49;00m\u001b[33m<int>\u001b[39;49;00m\u001b[33m'\u001b[39;49;00m], \u001b[33m'\u001b[39;49;00m\u001b[33m<bufsize>\u001b[39;49;00m\u001b[33m'\u001b[39;49;00m: [\u001b[33m'\u001b[39;49;00m\u001b[33m<int>\u001b[39;49;00m\u001b[33m'\u001b[39;49;00m], \u001b[33m'\u001b[39;49;00m\u001b[33m<int>\u001b[39;49;00m\u001b[33m'\u001b[39;49;00m: [\u001b[33m'\u001b[39;49;00m\u001b[33m<leaddigit><digits>\u001b[39;49;00m\u001b[33m'\u001b[39;49;00m], \u001b[33m'\u001b[39;49;00m\u001b[33m<digits>\u001b[39;49;00m\u001b[33m'\u001b[39;49;00m: [\u001b[33m'\u001b[39;49;00m\u001b[33m'\u001b[39;49;00m, \u001b[33m'\u001b[39;49;00m\u001b[33m<digit><digits>\u001b[39;49;00m\u001b[33m'\u001b[39;49;00m], \u001b[33m'\u001b[39;49;00m\u001b[33m<digit>\u001b[39;49;00m\u001b[33m'\u001b[39;49;00m: [\u001b[33m'\u001b[39;49;00m\u001b[33m0\u001b[39;49;00m\u001b[33m'\u001b[39;49;00m, \u001b[33m'\u001b[39;49;00m\u001b[33m1\u001b[39;49;00m\u001b[33m'\u001b[39;49;00m, \u001b[33m'\u001b[39;49;00m\u001b[33m2\u001b[39;49;00m\u001b[33m'\u001b[39;49;00m, \u001b[33m'\u001b[39;49;00m\u001b[33m3\u001b[39;49;00m\u001b[33m'\u001b[39;49;00m, \u001b[33m'\u001b[39;49;00m\u001b[33m4\u001b[39;49;00m\u001b[33m'\u001b[39;49;00m, \u001b[33m'\u001b[39;49;00m\u001b[33m5\u001b[39;49;00m\u001b[33m'\u001b[39;49;00m, \u001b[33m'\u001b[39;49;00m\u001b[33m6\u001b[39;49;00m\u001b[33m'\u001b[39;49;00m, \u001b[33m'\u001b[39;49;00m\u001b[33m7\u001b[39;49;00m\u001b[33m'\u001b[39;49;00m, \u001b[33m'\u001b[39;49;00m\u001b[33m8\u001b[39;49;00m\u001b[33m'\u001b[39;49;00m, \u001b[33m'\u001b[39;49;00m\u001b[33m9\u001b[39;49;00m\u001b[33m'\u001b[39;49;00m], \u001b[33m'\u001b[39;49;00m\u001b[33m<leaddigit>\u001b[39;49;00m\u001b[33m'\u001b[39;49;00m: [\u001b[33m'\u001b[39;49;00m\u001b[33m1\u001b[39;49;00m\u001b[33m'\u001b[39;49;00m, \u001b[33m'\u001b[39;49;00m\u001b[33m2\u001b[39;49;00m\u001b[33m'\u001b[39;49;00m, \u001b[33m'\u001b[39;49;00m\u001b[33m3\u001b[39;49;00m\u001b[33m'\u001b[39;49;00m, \u001b[33m'\u001b[39;49;00m\u001b[33m4\u001b[39;49;00m\u001b[33m'\u001b[39;49;00m, \u001b[33m'\u001b[39;49;00m\u001b[33m5\u001b[39;49;00m\u001b[33m'\u001b[39;49;00m, \u001b[33m'\u001b[39;49;00m\u001b[33m6\u001b[39;49;00m\u001b[33m'\u001b[39;49;00m, \u001b[33m'\u001b[39;49;00m\u001b[33m7\u001b[39;49;00m\u001b[33m'\u001b[39;49;00m, \u001b[33m'\u001b[39;49;00m\u001b[33m8\u001b[39;49;00m\u001b[33m'\u001b[39;49;00m, \u001b[33m'\u001b[39;49;00m\u001b[33m9\u001b[39;49;00m\u001b[33m'\u001b[39;49;00m]}\u001b[37m\u001b[39;49;00m"
     ]
    }
   ],
   "source": [
    "print_file('grammar.py')"
   ]
  },
  {
   "cell_type": "markdown",
   "id": "a4c2f941-2431-48de-aa42-2b552c5d6f77",
   "metadata": {
    "slideshow": {
     "slide_type": "subslide"
    }
   },
   "source": [
    "With this, we can use `isla` as a grammar fuzzer, plain and simple\n",
    "By default, `isla solve` produces one single matching output:"
   ]
  },
  {
   "cell_type": "code",
   "execution_count": 36,
   "id": "d4171b67-ca54-4e34-bbd2-9afc13bab108",
   "metadata": {
    "execution": {
     "iopub.execute_input": "2023-11-12T12:45:39.908470Z",
     "iopub.status.busy": "2023-11-12T12:45:39.908353Z",
     "iopub.status.idle": "2023-11-12T12:45:40.309097Z",
     "shell.execute_reply": "2023-11-12T12:45:40.308686Z"
    },
    "slideshow": {
     "slide_type": "fragment"
    }
   },
   "outputs": [
    {
     "name": "stdout",
     "output_type": "stream",
     "text": [
      "pagesize=86\r\n",
      "bufsize=33014257895\r\n"
     ]
    }
   ],
   "source": [
    "!isla solve grammar.py"
   ]
  },
  {
   "cell_type": "markdown",
   "id": "ac191770-40ab-48b1-a58c-0c43838a16e6",
   "metadata": {
    "slideshow": {
     "slide_type": "fragment"
    }
   },
   "source": [
    "The true power of `isla`, however, comes to be as we (again) add _constraints_ to be solved - either in separate _constraint files_ or (easier) directly on the command line:"
   ]
  },
  {
   "cell_type": "code",
   "execution_count": 37,
   "id": "3ec6eed7-67f1-409e-a361-8f996728b40d",
   "metadata": {
    "execution": {
     "iopub.execute_input": "2023-11-12T12:45:40.311310Z",
     "iopub.status.busy": "2023-11-12T12:45:40.311154Z",
     "iopub.status.idle": "2023-11-12T12:45:42.102280Z",
     "shell.execute_reply": "2023-11-12T12:45:42.101869Z"
    },
    "slideshow": {
     "slide_type": "fragment"
    }
   },
   "outputs": [
    {
     "name": "stdout",
     "output_type": "stream",
     "text": [
      "pagesize=8\r\n",
      "bufsize=8\r\n"
     ]
    }
   ],
   "source": [
    "!isla solve grammar.py --constraint '<pagesize> = <bufsize>'"
   ]
  },
  {
   "cell_type": "code",
   "execution_count": 38,
   "id": "6ed33140-5bf2-4f79-8c25-19c6042f59eb",
   "metadata": {
    "execution": {
     "iopub.execute_input": "2023-11-12T12:45:42.104457Z",
     "iopub.status.busy": "2023-11-12T12:45:42.104317Z",
     "iopub.status.idle": "2023-11-12T12:45:44.183128Z",
     "shell.execute_reply": "2023-11-12T12:45:44.182746Z"
    },
    "slideshow": {
     "slide_type": "subslide"
    }
   },
   "outputs": [
    {
     "name": "stdout",
     "output_type": "stream",
     "text": [
      "pagesize=99290248\r\n",
      "bufsize=99290248\r\n"
     ]
    }
   ],
   "source": [
    "!isla solve grammar.py \\\n",
    "    --constraint '<pagesize> = <bufsize> and str.to.int(<pagesize>) > 10000'"
   ]
  },
  {
   "cell_type": "markdown",
   "id": "c86bff4b-1d7a-4cd2-b8bf-70d1bb7a682a",
   "metadata": {
    "slideshow": {
     "slide_type": "fragment"
    }
   },
   "source": [
    "The `isla` executable provides several options and commands, and is a great alternative on the command line."
   ]
  },
  {
   "cell_type": "code",
   "execution_count": 39,
   "id": "b5b8c2ba-cea7-4fcf-81ac-639260277963",
   "metadata": {
    "execution": {
     "iopub.execute_input": "2023-11-12T12:45:44.185182Z",
     "iopub.status.busy": "2023-11-12T12:45:44.185038Z",
     "iopub.status.idle": "2023-11-12T12:45:44.535099Z",
     "shell.execute_reply": "2023-11-12T12:45:44.534694Z"
    },
    "slideshow": {
     "slide_type": "subslide"
    }
   },
   "outputs": [
    {
     "name": "stdout",
     "output_type": "stream",
     "text": [
      "usage: isla [-h] [-v]\r\n",
      "            {solve,fuzz,check,find,parse,repair,mutate,create,config} ...\r\n",
      "\r\n",
      "The ISLa command line interface.\r\n",
      "\r\n",
      "options:\r\n",
      "  -h, --help            show this help message and exit\r\n",
      "  -v, --version         Print the ISLa version number\r\n",
      "\r\n",
      "Commands:\r\n",
      "  {solve,fuzz,check,find,parse,repair,mutate,create,config}\r\n",
      "    solve               create solutions to ISLa constraints or check their\r\n",
      "                        unsatisfiability\r\n",
      "    fuzz                pass solutions to an ISLa constraint to a test subject\r\n",
      "    check               check whether an input satisfies an ISLa constraint\r\n",
      "    find                filter files satisfying syntactic & semantic\r\n",
      "                        constraints\r\n",
      "    parse               parse an input into a derivation tree if it satisfies\r\n",
      "                        an ISLa constraint\r\n",
      "    repair              try to repair an existing input such that it satisfies\r\n",
      "                        an ISLa constraint\r\n",
      "    mutate              mutate an input such that the result satisfies an ISLa\r\n",
      "                        constraint\r\n",
      "    create              create grammar and constraint stubs\r\n",
      "    config              dumps the default configuration file\r\n"
     ]
    }
   ],
   "source": [
    "!isla --help"
   ]
  },
  {
   "cell_type": "markdown",
   "id": "fcf359da",
   "metadata": {
    "slideshow": {
     "slide_type": "slide"
    },
    "tags": []
   },
   "source": [
    "## Accessing Elements"
   ]
  },
  {
   "cell_type": "markdown",
   "id": "fef0bfb9",
   "metadata": {
    "slideshow": {
     "slide_type": "fragment"
    }
   },
   "source": [
    "So far, we have accessed nonterminals simply by referencing their name, as in `<bufsize>` or `<pagesize>`.\n",
    "However, in some cases, this simple method is not sufficient.\n",
    "In our configuration grammar, for instance, we may want to access (or constrain) `<int>` elements.\n",
    "However, we do not want to constrain _all_ integers at once, but only those in a particular _context_ – say, those that occur as a part of a `<pagesize>` element, or only those that occur as part of a `<config>` element."
   ]
  },
  {
   "attachments": {},
   "cell_type": "markdown",
   "id": "c031c671",
   "metadata": {
    "slideshow": {
     "slide_type": "fragment"
    }
   },
   "source": [
    "To this end, ISLa allows referencing _parts_ of a given element, using two special operators."
   ]
  },
  {
   "cell_type": "markdown",
   "id": "fb62d267",
   "metadata": {
    "slideshow": {
     "slide_type": "subslide"
    }
   },
   "source": [
    "The expression `<a>.<b>` refers to the _immediate_ subpart `<b>` of some element `<a>`.\n",
    "That is, `<b>` has to appear in one of the expansion rules of `<a>`.\n",
    "For instance, `<pagesize>.<int>` refers to the `<int>` element of a page size.\n",
    "Here is an example using the dot operator:"
   ]
  },
  {
   "cell_type": "code",
   "execution_count": 40,
   "id": "44671d25",
   "metadata": {
    "execution": {
     "iopub.execute_input": "2023-11-12T12:45:44.537484Z",
     "iopub.status.busy": "2023-11-12T12:45:44.537338Z",
     "iopub.status.idle": "2023-11-12T12:45:45.835455Z",
     "shell.execute_reply": "2023-11-12T12:45:45.835183Z"
    },
    "slideshow": {
     "slide_type": "fragment"
    }
   },
   "outputs": [
    {
     "name": "stdout",
     "output_type": "stream",
     "text": [
      "pagesize=8\n",
      "bufsize=8\n"
     ]
    }
   ],
   "source": [
    "solver = ISLaSolver(CONFIG_GRAMMAR, \n",
    "                '''\n",
    "                <pagesize>.<int> = <bufsize>.<int>\n",
    "                ''')\n",
    "print(solver.solve())"
   ]
  },
  {
   "cell_type": "markdown",
   "id": "a1c08932",
   "metadata": {
    "slideshow": {
     "slide_type": "subslide"
    }
   },
   "source": [
    "The expression `<a>..<b>`, however, refers to _any_ subpart `<b>` of some element `<a>`. That is, `<b>` can appear in the expansion of `<a>`, but also in the expansion of any subelement (and any subelement thereof).\n",
    "Here is an example using the double dot operator, enforcing _every_ digit in a `<config>` element to be `7`:"
   ]
  },
  {
   "cell_type": "code",
   "execution_count": 41,
   "id": "942ed25a",
   "metadata": {
    "execution": {
     "iopub.execute_input": "2023-11-12T12:45:45.837451Z",
     "iopub.status.busy": "2023-11-12T12:45:45.837297Z",
     "iopub.status.idle": "2023-11-12T12:45:45.839650Z",
     "shell.execute_reply": "2023-11-12T12:45:45.839081Z"
    },
    "slideshow": {
     "slide_type": "skip"
    }
   },
   "outputs": [],
   "source": [
    "from ExpectError import ExpectError"
   ]
  },
  {
   "cell_type": "code",
   "execution_count": 42,
   "id": "9d75a50b",
   "metadata": {
    "execution": {
     "iopub.execute_input": "2023-11-12T12:45:45.841151Z",
     "iopub.status.busy": "2023-11-12T12:45:45.841023Z",
     "iopub.status.idle": "2023-11-12T12:45:47.176766Z",
     "shell.execute_reply": "2023-11-12T12:45:47.176464Z"
    },
    "slideshow": {
     "slide_type": "fragment"
    }
   },
   "outputs": [
    {
     "name": "stdout",
     "output_type": "stream",
     "text": [
      "pagesize=77\n",
      "bufsize=7\n"
     ]
    }
   ],
   "source": [
    "solver = ISLaSolver(CONFIG_GRAMMAR, \n",
    "            '''\n",
    "            <config>..<digit> = \"7\" and <config>..<leaddigit> = \"7\"\n",
    "            ''')\n",
    "print(solver.solve())"
   ]
  },
  {
   "attachments": {},
   "cell_type": "markdown",
   "id": "447bdd52",
   "metadata": {
    "slideshow": {
     "slide_type": "subslide"
    }
   },
   "source": [
    "To reason about dots and double dots, it helps to visualize the string in question as a _derivation tree_ discussed in the [chapter on grammar-based fuzzing](GrammarFuzzer.ipynb).\n",
    "The derivation tree of the input \n",
    "```\n",
    "pagesize=12\n",
    "bufsize=34\n",
    "```\n",
    "for instance, looks like this:"
   ]
  },
  {
   "cell_type": "code",
   "execution_count": 43,
   "id": "9132892f",
   "metadata": {
    "execution": {
     "iopub.execute_input": "2023-11-12T12:45:47.178520Z",
     "iopub.status.busy": "2023-11-12T12:45:47.178370Z",
     "iopub.status.idle": "2023-11-12T12:45:47.576377Z",
     "shell.execute_reply": "2023-11-12T12:45:47.575931Z"
    },
    "slideshow": {
     "slide_type": "subslide"
    }
   },
   "outputs": [
    {
     "data": {
      "image/svg+xml": [
       "<?xml version=\"1.0\" encoding=\"UTF-8\" standalone=\"no\"?>\n",
       "<!DOCTYPE svg PUBLIC \"-//W3C//DTD SVG 1.1//EN\"\n",
       " \"http://www.w3.org/Graphics/SVG/1.1/DTD/svg11.dtd\">\n",
       "<!-- Generated by graphviz version 9.0.0 (20230911.1827)\n",
       " -->\n",
       "<!-- Pages: 1 -->\n",
       "<svg width=\"405pt\" height=\"324pt\"\n",
       " viewBox=\"0.00 0.00 404.62 323.75\" xmlns=\"http://www.w3.org/2000/svg\" xmlns:xlink=\"http://www.w3.org/1999/xlink\">\n",
       "<g id=\"graph0\" class=\"graph\" transform=\"scale(1 1) rotate(0) translate(4 319.75)\">\n",
       "<polygon fill=\"white\" stroke=\"none\" points=\"-4,4 -4,-319.75 400.62,-319.75 400.62,4 -4,4\"/>\n",
       "<!-- 0 -->\n",
       "<g id=\"node1\" class=\"node\">\n",
       "<title>0</title>\n",
       "<text text-anchor=\"middle\" x=\"143.38\" y=\"-302.45\" font-family=\"Times,serif\" font-size=\"14.00\">&lt;start&gt;</text>\n",
       "</g>\n",
       "<!-- 1 -->\n",
       "<g id=\"node2\" class=\"node\">\n",
       "<title>1</title>\n",
       "<text text-anchor=\"middle\" x=\"143.38\" y=\"-252.2\" font-family=\"Times,serif\" font-size=\"14.00\">&lt;config&gt;</text>\n",
       "</g>\n",
       "<!-- 0&#45;&gt;1 -->\n",
       "<g id=\"edge1\" class=\"edge\">\n",
       "<title>0&#45;&gt;1</title>\n",
       "<path fill=\"none\" stroke=\"black\" d=\"M143.38,-301.71C143.38,-295.49 143.38,-285.4 143.38,-276.64\"/>\n",
       "<polygon fill=\"black\" stroke=\"black\" points=\"146.88,-276.85 143.38,-266.85 139.88,-276.85 146.88,-276.85\"/>\n",
       "</g>\n",
       "<!-- 2 -->\n",
       "<g id=\"node3\" class=\"node\">\n",
       "<title>2</title>\n",
       "<text text-anchor=\"middle\" x=\"27.38\" y=\"-201.95\" font-family=\"Times,serif\" font-size=\"14.00\">pagesize=</text>\n",
       "</g>\n",
       "<!-- 1&#45;&gt;2 -->\n",
       "<g id=\"edge2\" class=\"edge\">\n",
       "<title>1&#45;&gt;2</title>\n",
       "<path fill=\"none\" stroke=\"black\" d=\"M128.68,-251.26C109.51,-243.29 75.66,-229.21 52.4,-219.54\"/>\n",
       "<polygon fill=\"black\" stroke=\"black\" points=\"53.92,-216.38 43.34,-215.77 51.23,-222.84 53.92,-216.38\"/>\n",
       "</g>\n",
       "<!-- 3 -->\n",
       "<g id=\"node4\" class=\"node\">\n",
       "<title>3</title>\n",
       "<text text-anchor=\"middle\" x=\"104.38\" y=\"-201.95\" font-family=\"Times,serif\" font-size=\"14.00\">&lt;pagesize&gt;</text>\n",
       "</g>\n",
       "<!-- 1&#45;&gt;3 -->\n",
       "<g id=\"edge3\" class=\"edge\">\n",
       "<title>1&#45;&gt;3</title>\n",
       "<path fill=\"none\" stroke=\"black\" d=\"M138.59,-251.46C133.1,-244.66 123.87,-233.24 116.38,-223.98\"/>\n",
       "<polygon fill=\"black\" stroke=\"black\" points=\"119.16,-221.84 110.15,-216.27 113.71,-226.24 119.16,-221.84\"/>\n",
       "</g>\n",
       "<!-- 11 -->\n",
       "<g id=\"node12\" class=\"node\">\n",
       "<title>11</title>\n",
       "<text text-anchor=\"middle\" x=\"182.38\" y=\"-201.95\" font-family=\"Times,serif\" font-size=\"14.00\">\\nbufsize=</text>\n",
       "</g>\n",
       "<!-- 1&#45;&gt;11 -->\n",
       "<g id=\"edge11\" class=\"edge\">\n",
       "<title>1&#45;&gt;11</title>\n",
       "<path fill=\"none\" stroke=\"black\" d=\"M148.16,-251.46C153.65,-244.66 162.88,-233.24 170.37,-223.98\"/>\n",
       "<polygon fill=\"black\" stroke=\"black\" points=\"173.04,-226.24 176.6,-216.27 167.59,-221.84 173.04,-226.24\"/>\n",
       "</g>\n",
       "<!-- 12 -->\n",
       "<g id=\"node13\" class=\"node\">\n",
       "<title>12</title>\n",
       "<text text-anchor=\"middle\" x=\"257.38\" y=\"-201.95\" font-family=\"Times,serif\" font-size=\"14.00\">&lt;bufsize&gt;</text>\n",
       "</g>\n",
       "<!-- 1&#45;&gt;12 -->\n",
       "<g id=\"edge12\" class=\"edge\">\n",
       "<title>1&#45;&gt;12</title>\n",
       "<path fill=\"none\" stroke=\"black\" d=\"M157.81,-251.26C176.57,-243.32 209.62,-229.34 232.47,-219.67\"/>\n",
       "<polygon fill=\"black\" stroke=\"black\" points=\"233.82,-222.9 241.66,-215.78 231.09,-216.45 233.82,-222.9\"/>\n",
       "</g>\n",
       "<!-- 4 -->\n",
       "<g id=\"node5\" class=\"node\">\n",
       "<title>4</title>\n",
       "<text text-anchor=\"middle\" x=\"104.38\" y=\"-151.7\" font-family=\"Times,serif\" font-size=\"14.00\">&lt;int&gt;</text>\n",
       "</g>\n",
       "<!-- 3&#45;&gt;4 -->\n",
       "<g id=\"edge4\" class=\"edge\">\n",
       "<title>3&#45;&gt;4</title>\n",
       "<path fill=\"none\" stroke=\"black\" d=\"M104.38,-201.21C104.38,-194.99 104.38,-184.9 104.38,-176.14\"/>\n",
       "<polygon fill=\"black\" stroke=\"black\" points=\"107.88,-176.35 104.38,-166.35 100.88,-176.35 107.88,-176.35\"/>\n",
       "</g>\n",
       "<!-- 5 -->\n",
       "<g id=\"node6\" class=\"node\">\n",
       "<title>5</title>\n",
       "<text text-anchor=\"middle\" x=\"42.38\" y=\"-101.45\" font-family=\"Times,serif\" font-size=\"14.00\">&lt;leaddigit&gt;</text>\n",
       "</g>\n",
       "<!-- 4&#45;&gt;5 -->\n",
       "<g id=\"edge5\" class=\"edge\">\n",
       "<title>4&#45;&gt;5</title>\n",
       "<path fill=\"none\" stroke=\"black\" d=\"M96.52,-150.76C87.06,-143.4 70.92,-130.84 58.71,-121.34\"/>\n",
       "<polygon fill=\"black\" stroke=\"black\" points=\"61.21,-118.84 51.16,-115.46 56.91,-124.37 61.21,-118.84\"/>\n",
       "</g>\n",
       "<!-- 7 -->\n",
       "<g id=\"node8\" class=\"node\">\n",
       "<title>7</title>\n",
       "<text text-anchor=\"middle\" x=\"115.38\" y=\"-101.45\" font-family=\"Times,serif\" font-size=\"14.00\">&lt;digits&gt;</text>\n",
       "</g>\n",
       "<!-- 4&#45;&gt;7 -->\n",
       "<g id=\"edge7\" class=\"edge\">\n",
       "<title>4&#45;&gt;7</title>\n",
       "<path fill=\"none\" stroke=\"black\" d=\"M105.72,-150.96C107.16,-144.66 109.5,-134.42 111.51,-125.58\"/>\n",
       "<polygon fill=\"black\" stroke=\"black\" points=\"114.87,-126.59 113.68,-116.07 108.04,-125.04 114.87,-126.59\"/>\n",
       "</g>\n",
       "<!-- 6 -->\n",
       "<g id=\"node7\" class=\"node\">\n",
       "<title>6</title>\n",
       "<text text-anchor=\"middle\" x=\"42.38\" y=\"-51.2\" font-family=\"Times,serif\" font-size=\"14.00\">1 (49)</text>\n",
       "</g>\n",
       "<!-- 5&#45;&gt;6 -->\n",
       "<g id=\"edge6\" class=\"edge\">\n",
       "<title>5&#45;&gt;6</title>\n",
       "<path fill=\"none\" stroke=\"black\" d=\"M42.38,-100.71C42.38,-94.49 42.38,-84.4 42.38,-75.64\"/>\n",
       "<polygon fill=\"black\" stroke=\"black\" points=\"45.88,-75.85 42.38,-65.85 38.88,-75.85 45.88,-75.85\"/>\n",
       "</g>\n",
       "<!-- 8 -->\n",
       "<g id=\"node9\" class=\"node\">\n",
       "<title>8</title>\n",
       "<text text-anchor=\"middle\" x=\"106.38\" y=\"-51.2\" font-family=\"Times,serif\" font-size=\"14.00\">&lt;digit&gt;</text>\n",
       "</g>\n",
       "<!-- 7&#45;&gt;8 -->\n",
       "<g id=\"edge8\" class=\"edge\">\n",
       "<title>7&#45;&gt;8</title>\n",
       "<path fill=\"none\" stroke=\"black\" d=\"M114.27,-100.71C113.11,-94.49 111.23,-84.4 109.59,-75.64\"/>\n",
       "<polygon fill=\"black\" stroke=\"black\" points=\"113.04,-75.02 107.77,-65.83 106.16,-76.3 113.04,-75.02\"/>\n",
       "</g>\n",
       "<!-- 10 -->\n",
       "<g id=\"node11\" class=\"node\">\n",
       "<title>10</title>\n",
       "<text text-anchor=\"middle\" x=\"168.38\" y=\"-51.2\" font-family=\"Times,serif\" font-size=\"14.00\">&lt;digits&gt;</text>\n",
       "</g>\n",
       "<!-- 7&#45;&gt;10 -->\n",
       "<g id=\"edge10\" class=\"edge\">\n",
       "<title>7&#45;&gt;10</title>\n",
       "<path fill=\"none\" stroke=\"black\" d=\"M121.87,-100.71C129.66,-93.62 142.96,-81.51 153.35,-72.06\"/>\n",
       "<polygon fill=\"black\" stroke=\"black\" points=\"155.67,-74.68 160.7,-65.36 150.95,-69.5 155.67,-74.68\"/>\n",
       "</g>\n",
       "<!-- 9 -->\n",
       "<g id=\"node10\" class=\"node\">\n",
       "<title>9</title>\n",
       "<text text-anchor=\"middle\" x=\"106.38\" y=\"-0.95\" font-family=\"Times,serif\" font-size=\"14.00\">2 (50)</text>\n",
       "</g>\n",
       "<!-- 8&#45;&gt;9 -->\n",
       "<g id=\"edge9\" class=\"edge\">\n",
       "<title>8&#45;&gt;9</title>\n",
       "<path fill=\"none\" stroke=\"black\" d=\"M106.38,-50.46C106.38,-44.24 106.38,-34.15 106.38,-25.39\"/>\n",
       "<polygon fill=\"black\" stroke=\"black\" points=\"109.88,-25.6 106.38,-15.6 102.88,-25.6 109.88,-25.6\"/>\n",
       "</g>\n",
       "<!-- 13 -->\n",
       "<g id=\"node14\" class=\"node\">\n",
       "<title>13</title>\n",
       "<text text-anchor=\"middle\" x=\"257.38\" y=\"-151.7\" font-family=\"Times,serif\" font-size=\"14.00\">&lt;int&gt;</text>\n",
       "</g>\n",
       "<!-- 12&#45;&gt;13 -->\n",
       "<g id=\"edge13\" class=\"edge\">\n",
       "<title>12&#45;&gt;13</title>\n",
       "<path fill=\"none\" stroke=\"black\" d=\"M257.38,-201.21C257.38,-194.99 257.38,-184.9 257.38,-176.14\"/>\n",
       "<polygon fill=\"black\" stroke=\"black\" points=\"260.88,-176.35 257.38,-166.35 253.88,-176.35 260.88,-176.35\"/>\n",
       "</g>\n",
       "<!-- 14 -->\n",
       "<g id=\"node15\" class=\"node\">\n",
       "<title>14</title>\n",
       "<text text-anchor=\"middle\" x=\"247.38\" y=\"-101.45\" font-family=\"Times,serif\" font-size=\"14.00\">&lt;leaddigit&gt;</text>\n",
       "</g>\n",
       "<!-- 13&#45;&gt;14 -->\n",
       "<g id=\"edge14\" class=\"edge\">\n",
       "<title>13&#45;&gt;14</title>\n",
       "<path fill=\"none\" stroke=\"black\" d=\"M256.15,-150.96C254.84,-144.66 252.72,-134.42 250.89,-125.58\"/>\n",
       "<polygon fill=\"black\" stroke=\"black\" points=\"254.38,-125.15 248.92,-116.07 247.52,-126.57 254.38,-125.15\"/>\n",
       "</g>\n",
       "<!-- 16 -->\n",
       "<g id=\"node17\" class=\"node\">\n",
       "<title>16</title>\n",
       "<text text-anchor=\"middle\" x=\"320.38\" y=\"-101.45\" font-family=\"Times,serif\" font-size=\"14.00\">&lt;digits&gt;</text>\n",
       "</g>\n",
       "<!-- 13&#45;&gt;16 -->\n",
       "<g id=\"edge16\" class=\"edge\">\n",
       "<title>13&#45;&gt;16</title>\n",
       "<path fill=\"none\" stroke=\"black\" d=\"M265.35,-150.76C274.97,-143.4 291.37,-130.84 303.78,-121.34\"/>\n",
       "<polygon fill=\"black\" stroke=\"black\" points=\"305.65,-124.31 311.46,-115.46 301.39,-118.76 305.65,-124.31\"/>\n",
       "</g>\n",
       "<!-- 15 -->\n",
       "<g id=\"node16\" class=\"node\">\n",
       "<title>15</title>\n",
       "<text text-anchor=\"middle\" x=\"247.38\" y=\"-51.2\" font-family=\"Times,serif\" font-size=\"14.00\">3 (51)</text>\n",
       "</g>\n",
       "<!-- 14&#45;&gt;15 -->\n",
       "<g id=\"edge15\" class=\"edge\">\n",
       "<title>14&#45;&gt;15</title>\n",
       "<path fill=\"none\" stroke=\"black\" d=\"M247.38,-100.71C247.38,-94.49 247.38,-84.4 247.38,-75.64\"/>\n",
       "<polygon fill=\"black\" stroke=\"black\" points=\"250.88,-75.85 247.38,-65.85 243.88,-75.85 250.88,-75.85\"/>\n",
       "</g>\n",
       "<!-- 17 -->\n",
       "<g id=\"node18\" class=\"node\">\n",
       "<title>17</title>\n",
       "<text text-anchor=\"middle\" x=\"311.38\" y=\"-51.2\" font-family=\"Times,serif\" font-size=\"14.00\">&lt;digit&gt;</text>\n",
       "</g>\n",
       "<!-- 16&#45;&gt;17 -->\n",
       "<g id=\"edge17\" class=\"edge\">\n",
       "<title>16&#45;&gt;17</title>\n",
       "<path fill=\"none\" stroke=\"black\" d=\"M319.27,-100.71C318.11,-94.49 316.23,-84.4 314.59,-75.64\"/>\n",
       "<polygon fill=\"black\" stroke=\"black\" points=\"318.04,-75.02 312.77,-65.83 311.16,-76.3 318.04,-75.02\"/>\n",
       "</g>\n",
       "<!-- 19 -->\n",
       "<g id=\"node20\" class=\"node\">\n",
       "<title>19</title>\n",
       "<text text-anchor=\"middle\" x=\"373.38\" y=\"-51.2\" font-family=\"Times,serif\" font-size=\"14.00\">&lt;digits&gt;</text>\n",
       "</g>\n",
       "<!-- 16&#45;&gt;19 -->\n",
       "<g id=\"edge19\" class=\"edge\">\n",
       "<title>16&#45;&gt;19</title>\n",
       "<path fill=\"none\" stroke=\"black\" d=\"M326.87,-100.71C334.66,-93.62 347.96,-81.51 358.35,-72.06\"/>\n",
       "<polygon fill=\"black\" stroke=\"black\" points=\"360.67,-74.68 365.7,-65.36 355.95,-69.5 360.67,-74.68\"/>\n",
       "</g>\n",
       "<!-- 18 -->\n",
       "<g id=\"node19\" class=\"node\">\n",
       "<title>18</title>\n",
       "<text text-anchor=\"middle\" x=\"311.38\" y=\"-0.95\" font-family=\"Times,serif\" font-size=\"14.00\">4 (52)</text>\n",
       "</g>\n",
       "<!-- 17&#45;&gt;18 -->\n",
       "<g id=\"edge18\" class=\"edge\">\n",
       "<title>17&#45;&gt;18</title>\n",
       "<path fill=\"none\" stroke=\"black\" d=\"M311.38,-50.46C311.38,-44.24 311.38,-34.15 311.38,-25.39\"/>\n",
       "<polygon fill=\"black\" stroke=\"black\" points=\"314.88,-25.6 311.38,-15.6 307.88,-25.6 314.88,-25.6\"/>\n",
       "</g>\n",
       "</g>\n",
       "</svg>\n"
      ],
      "text/plain": [
       "<graphviz.graphs.Digraph at 0x11e19a5f0>"
      ]
     },
     "execution_count": 43,
     "metadata": {},
     "output_type": "execute_result"
    }
   ],
   "source": [
    "# ignore\n",
    "inp = 'pagesize=12\\nbufsize=34'\n",
    "parser = EarleyParser(CONFIG_GRAMMAR)\n",
    "tree = next(parser.parse(inp))\n",
    "display_tree(tree)"
   ]
  },
  {
   "cell_type": "markdown",
   "id": "09303e40",
   "metadata": {
    "slideshow": {
     "slide_type": "fragment"
    }
   },
   "source": [
    "In this tree, the `.` syntax refers to _immediate_ children. `<bufsize>.<int>` is the one `<int>` node that is the immediate descendant of `<bufsize>` (but not any other `<int>` node).\n",
    "In contrast, `<config>..<digit>` refers to _all_ `<digit>` descendants of the `<config>` node."
   ]
  },
  {
   "cell_type": "markdown",
   "id": "d0499b87",
   "metadata": {
    "slideshow": {
     "slide_type": "subslide"
    }
   },
   "source": [
    "If an element has multiple *immediate* children of the same type, one can use the special `<a>[$n$]` syntax to access the $n$-th child of type `<a>`. To access the first child, $n$ is equal to one, not zero, as in the [XPath abbreviated syntax](https://www.w3.org/TR/1999/REC-xpath-19991116/#path-abbrev). In our configuration grammar, there is no expansion including the same nonterminal more than once, so we do not need this feature.\n",
    "\n",
    "For a demonstration of indexed dots, consider the following grammar, which produces lines of three \"a\" or \"b\" characters:"
   ]
  },
  {
   "cell_type": "code",
   "execution_count": 44,
   "id": "bc2d3bc1-6bc5-4263-98e1-34bd8ce74ef5",
   "metadata": {
    "execution": {
     "iopub.execute_input": "2023-11-12T12:45:47.578152Z",
     "iopub.status.busy": "2023-11-12T12:45:47.577987Z",
     "iopub.status.idle": "2023-11-12T12:45:47.580189Z",
     "shell.execute_reply": "2023-11-12T12:45:47.579915Z"
    },
    "slideshow": {
     "slide_type": "fragment"
    }
   },
   "outputs": [],
   "source": [
    "LINES_OF_THREE_AS_OR_BS_GRAMMAR: Grammar = {\n",
    "    '<start>': ['<A>'],\n",
    "    '<A>': ['<B><B><B>', '<B><B><B>\\n<A>'],\n",
    "    '<B>': ['a', 'b']\n",
    "}"
   ]
  },
  {
   "cell_type": "code",
   "execution_count": 45,
   "id": "f8854080-828a-4964-b10e-6446a233704d",
   "metadata": {
    "execution": {
     "iopub.execute_input": "2023-11-12T12:45:47.581722Z",
     "iopub.status.busy": "2023-11-12T12:45:47.581596Z",
     "iopub.status.idle": "2023-11-12T12:45:47.584682Z",
     "shell.execute_reply": "2023-11-12T12:45:47.584389Z"
    },
    "slideshow": {
     "slide_type": "subslide"
    }
   },
   "outputs": [
    {
     "name": "stdout",
     "output_type": "stream",
     "text": [
      "0\n",
      "aab\n",
      "bab\n",
      "1\n",
      "aaa\n",
      "aba\n",
      "2\n",
      "aba\n",
      "baa\n",
      "bba\n",
      "3\n",
      "bbb\n",
      "abb\n",
      "4\n",
      "baa\n"
     ]
    }
   ],
   "source": [
    "fuzzer = GrammarFuzzer(LINES_OF_THREE_AS_OR_BS_GRAMMAR)\n",
    "for i in range(5):\n",
    "    print(i)\n",
    "    print(fuzzer.fuzz())"
   ]
  },
  {
   "cell_type": "markdown",
   "id": "17c97d39-c2f4-4865-be3f-6da2f6a883ed",
   "metadata": {
    "slideshow": {
     "slide_type": "subslide"
    }
   },
   "source": [
    "We can force, say, the second character in a line to always be a \"b:\""
   ]
  },
  {
   "cell_type": "code",
   "execution_count": 46,
   "id": "deec24f2",
   "metadata": {
    "execution": {
     "iopub.execute_input": "2023-11-12T12:45:47.586379Z",
     "iopub.status.busy": "2023-11-12T12:45:47.586282Z",
     "iopub.status.idle": "2023-11-12T12:45:48.230129Z",
     "shell.execute_reply": "2023-11-12T12:45:48.229705Z"
    },
    "slideshow": {
     "slide_type": "subslide"
    }
   },
   "outputs": [
    {
     "name": "stdout",
     "output_type": "stream",
     "text": [
      "0\n",
      "abb\n",
      "1\n",
      "bbb\n",
      "2\n",
      "abb\n",
      "3\n",
      "bbb\n",
      "4\n",
      "abb\n"
     ]
    }
   ],
   "source": [
    "solver = ISLaSolver(LINES_OF_THREE_AS_OR_BS_GRAMMAR, \n",
    "            '''\n",
    "            <A>.<B>[2] = \"b\"\n",
    "            ''')\n",
    "\n",
    "for i in range(5):\n",
    "    print(i)\n",
    "    print(solver.solve())"
   ]
  },
  {
   "cell_type": "markdown",
   "id": "31ab7ada",
   "metadata": {
    "slideshow": {
     "slide_type": "slide"
    }
   },
   "source": [
    "## Quantifiers"
   ]
  },
  {
   "cell_type": "markdown",
   "id": "83d5b6c4",
   "metadata": {
    "slideshow": {
     "slide_type": "fragment"
    }
   },
   "source": [
    "By default, all nonterminals in ISLa constraints are _universally_ quantified - that is, any constraint applying to, say, some `<int>` element applies to _all_ `<int>` elements in the resulting string.\n",
    "If you only want to constrain _one_ element, though, you have to (and can) specify this in ISLa, using an _existential quantifier_."
   ]
  },
  {
   "cell_type": "markdown",
   "id": "7d6886c3",
   "metadata": {
    "slideshow": {
     "slide_type": "subslide"
    }
   },
   "source": [
    "To use an existential quantifier in ISLa, use the construct\n",
    "```\n",
    "exists TYPE VARIABLE in CONTEXT:\n",
    "    (CONSTRAINT)\n",
    "```\n",
    "where `VARIABLE` is some identifier, `TYPE` is its type (as a nonterminal), and `CONTEXT` is the context (again a nonterminal) in which the constraint should hold.\n",
    "`CONSTRAINT` is again a constraint expression, in which you now can make use of `VARIABLE` as the element whose existence you assume."
   ]
  },
  {
   "cell_type": "markdown",
   "id": "baeb1c1e",
   "metadata": {
    "slideshow": {
     "slide_type": "subslide"
    }
   },
   "source": [
    "Let us illustrate existential quantification again using a simple example.\n",
    "We want to make sure that at least one integer in our generated string has a value of more than 1000.\n",
    "So we write"
   ]
  },
  {
   "cell_type": "code",
   "execution_count": 47,
   "id": "63263e05",
   "metadata": {
    "execution": {
     "iopub.execute_input": "2023-11-12T12:45:48.232274Z",
     "iopub.status.busy": "2023-11-12T12:45:48.232152Z",
     "iopub.status.idle": "2023-11-12T12:45:49.601191Z",
     "shell.execute_reply": "2023-11-12T12:45:49.600886Z"
    },
    "slideshow": {
     "slide_type": "subslide"
    }
   },
   "outputs": [
    {
     "name": "stdout",
     "output_type": "stream",
     "text": [
      "pagesize=5\n",
      "bufsize=1001\n",
      "pagesize=2280617349521\n",
      "bufsize=1001\n",
      "pagesize=8\n",
      "bufsize=1001\n",
      "pagesize=7\n",
      "bufsize=1001\n",
      "pagesize=3\n",
      "bufsize=1001\n",
      "pagesize=93\n",
      "bufsize=1001\n",
      "pagesize=630\n",
      "bufsize=1001\n",
      "pagesize=4\n",
      "bufsize=1001\n",
      "pagesize=14\n",
      "bufsize=1001\n",
      "pagesize=5\n",
      "bufsize=1001\n"
     ]
    }
   ],
   "source": [
    "solver = ISLaSolver(CONFIG_GRAMMAR, \n",
    "            '''\n",
    "            exists <int> i in <start>:\n",
    "                str.to.int(i) > 1000\n",
    "            ''')\n",
    "\n",
    "for _ in range(10):\n",
    "    print(solver.solve())"
   ]
  },
  {
   "cell_type": "markdown",
   "id": "79f8e04e",
   "metadata": {
    "slideshow": {
     "slide_type": "subslide"
    }
   },
   "source": [
    "We note that all generated inputs satisfy the constraint of having at least one integer that satisfies the constraint."
   ]
  },
  {
   "cell_type": "markdown",
   "id": "396f6948-dfc9-426f-901d-b518e1196242",
   "metadata": {
    "slideshow": {
     "slide_type": "fragment"
    }
   },
   "source": [
    "Specifying a variable name is optional; if you omit it, you can use the quantified nonterminal instead.\n",
    "The above constraint can thus also be expressed in a more compact fashion:"
   ]
  },
  {
   "cell_type": "code",
   "execution_count": 48,
   "id": "65046282-1b38-4310-b79e-fc05907d39c1",
   "metadata": {
    "execution": {
     "iopub.execute_input": "2023-11-12T12:45:49.603039Z",
     "iopub.status.busy": "2023-11-12T12:45:49.602910Z",
     "iopub.status.idle": "2023-11-12T12:45:50.902651Z",
     "shell.execute_reply": "2023-11-12T12:45:50.902228Z"
    },
    "slideshow": {
     "slide_type": "subslide"
    }
   },
   "outputs": [
    {
     "name": "stdout",
     "output_type": "stream",
     "text": [
      "pagesize=64\n",
      "bufsize=1003\n"
     ]
    }
   ],
   "source": [
    "solver = ISLaSolver(CONFIG_GRAMMAR, \n",
    "            '''\n",
    "            exists <int> in <start>:\n",
    "                str.to.int(<int>) > 1000\n",
    "            ''')\n",
    "\n",
    "print(solver.solve())"
   ]
  },
  {
   "cell_type": "markdown",
   "id": "fa61bece",
   "metadata": {
    "slideshow": {
     "slide_type": "fragment"
    }
   },
   "source": [
    "Besides existential quantification, there also is _universal_ quantification, using the `forall` keyword instead of `exists`.\n",
    "If we want _all_ elements in some context to satisfy a constraint, this comes in handy."
   ]
  },
  {
   "cell_type": "code",
   "execution_count": 49,
   "id": "5c83ead2",
   "metadata": {
    "execution": {
     "iopub.execute_input": "2023-11-12T12:45:50.904622Z",
     "iopub.status.busy": "2023-11-12T12:45:50.904457Z",
     "iopub.status.idle": "2023-11-12T12:45:52.189642Z",
     "shell.execute_reply": "2023-11-12T12:45:52.189344Z"
    },
    "slideshow": {
     "slide_type": "subslide"
    }
   },
   "outputs": [
    {
     "name": "stdout",
     "output_type": "stream",
     "text": [
      "pagesize=1001\n",
      "bufsize=1001\n",
      "pagesize=1001\n",
      "bufsize=1002\n",
      "pagesize=1001\n",
      "bufsize=1003\n",
      "pagesize=1001\n",
      "bufsize=1004\n",
      "pagesize=1002\n",
      "bufsize=1001\n",
      "pagesize=1002\n",
      "bufsize=1002\n",
      "pagesize=1002\n",
      "bufsize=1003\n",
      "pagesize=1002\n",
      "bufsize=1004\n",
      "pagesize=1003\n",
      "bufsize=1001\n",
      "pagesize=1003\n",
      "bufsize=1002\n"
     ]
    }
   ],
   "source": [
    "solver = ISLaSolver(CONFIG_GRAMMAR, \n",
    "            '''\n",
    "            forall <int> in <start>:\n",
    "                str.to.int(<int>) > 1000\n",
    "            ''')\n",
    "\n",
    "for _ in range(10):\n",
    "    print(solver.solve())"
   ]
  },
  {
   "cell_type": "markdown",
   "id": "5680dc33",
   "metadata": {
    "slideshow": {
     "slide_type": "subslide"
    }
   },
   "source": [
    "We see that all `<int>` elements satisfy the constraint."
   ]
  },
  {
   "attachments": {},
   "cell_type": "markdown",
   "id": "8d85d1d4",
   "metadata": {
    "slideshow": {
     "slide_type": "fragment"
    }
   },
   "source": [
    "By default, all nonterminals that are re-used directly in constraints are universally quantified within the `<start>` symbol, so the above can actually be simplified to"
   ]
  },
  {
   "cell_type": "code",
   "execution_count": 50,
   "id": "779634a6",
   "metadata": {
    "execution": {
     "iopub.execute_input": "2023-11-12T12:45:52.191414Z",
     "iopub.status.busy": "2023-11-12T12:45:52.191303Z",
     "iopub.status.idle": "2023-11-12T12:45:53.504693Z",
     "shell.execute_reply": "2023-11-12T12:45:53.504369Z"
    },
    "slideshow": {
     "slide_type": "subslide"
    }
   },
   "outputs": [
    {
     "name": "stdout",
     "output_type": "stream",
     "text": [
      "pagesize=1001\n",
      "bufsize=1001\n",
      "pagesize=1001\n",
      "bufsize=1002\n",
      "pagesize=1001\n",
      "bufsize=1003\n",
      "pagesize=1001\n",
      "bufsize=1004\n",
      "pagesize=1002\n",
      "bufsize=1001\n",
      "pagesize=1002\n",
      "bufsize=1002\n",
      "pagesize=1002\n",
      "bufsize=1003\n",
      "pagesize=1002\n",
      "bufsize=1004\n",
      "pagesize=1003\n",
      "bufsize=1001\n",
      "pagesize=1003\n",
      "bufsize=1002\n"
     ]
    }
   ],
   "source": [
    "solver = ISLaSolver(CONFIG_GRAMMAR, \n",
    "            '''\n",
    "            str.to.int(<int>) > 1000\n",
    "            ''')\n",
    "\n",
    "for _ in range(10):\n",
    "    print(solver.solve())"
   ]
  },
  {
   "cell_type": "markdown",
   "id": "907bc023",
   "metadata": {
    "slideshow": {
     "slide_type": "subslide"
    }
   },
   "source": [
    "... and you realize that in all our initial constraints, we always had an implicit universal quantification."
   ]
  },
  {
   "cell_type": "markdown",
   "id": "a37cf34a",
   "metadata": {
    "slideshow": {
     "slide_type": "slide"
    }
   },
   "source": [
    "## Picking Expansions"
   ]
  },
  {
   "cell_type": "markdown",
   "id": "fb094f75",
   "metadata": {
    "slideshow": {
     "slide_type": "fragment"
    }
   },
   "source": [
    "Sometimes, we'd like a quantifier to apply only for a specific expansion alternative of a nonterminal.\n",
    "The form\n",
    "```\n",
    "forall TYPE VARIABLE=PATTERN in CONTEXT:\n",
    "    (CONSTRAINT)\n",
    "```\n",
    "means that the CONSTRAINT only applies to a VARIABLE that actually matches the expansion given in PATTERN.\n",
    "(Again, we can replace `forall` with `exists`, and make this an existential quantification rather than a universal quantification.)"
   ]
  },
  {
   "cell_type": "markdown",
   "id": "ac94fbc7-3c94-4f91-8f95-c78a58f26c6f",
   "metadata": {
    "slideshow": {
     "slide_type": "fragment"
    }
   },
   "source": [
    "Here's an example of using `forall`:"
   ]
  },
  {
   "cell_type": "code",
   "execution_count": 51,
   "id": "6674fafe",
   "metadata": {
    "execution": {
     "iopub.execute_input": "2023-11-12T12:45:53.506845Z",
     "iopub.status.busy": "2023-11-12T12:45:53.506661Z",
     "iopub.status.idle": "2023-11-12T12:45:53.514726Z",
     "shell.execute_reply": "2023-11-12T12:45:53.514429Z"
    },
    "slideshow": {
     "slide_type": "subslide"
    }
   },
   "outputs": [],
   "source": [
    "solver = ISLaSolver(CONFIG_GRAMMAR, \n",
    "            '''\n",
    "            forall <int>=\"<leaddigit><digits>\" in <start>:\n",
    "                (<leaddigit> = \"7\")\n",
    "            ''')"
   ]
  },
  {
   "cell_type": "markdown",
   "id": "46da2aae",
   "metadata": {
    "slideshow": {
     "slide_type": "fragment"
    }
   },
   "source": [
    "This ensures that when `<int>` is expanded to a lead digit followed by more digits, the lead digit becomes `7`.\n",
    "The effect is that all `<int>` values now start with a `7` digit:"
   ]
  },
  {
   "cell_type": "code",
   "execution_count": 52,
   "id": "4bd0d0b0",
   "metadata": {
    "execution": {
     "iopub.execute_input": "2023-11-12T12:45:53.516221Z",
     "iopub.status.busy": "2023-11-12T12:45:53.516116Z",
     "iopub.status.idle": "2023-11-12T12:45:54.180383Z",
     "shell.execute_reply": "2023-11-12T12:45:54.180093Z"
    },
    "slideshow": {
     "slide_type": "fragment"
    }
   },
   "outputs": [
    {
     "data": {
      "text/plain": [
       "'pagesize=71\\nbufsize=770835426929713'"
      ]
     },
     "execution_count": 52,
     "metadata": {},
     "output_type": "execute_result"
    }
   ],
   "source": [
    "str(solver.solve())"
   ]
  },
  {
   "cell_type": "markdown",
   "id": "8934e88e",
   "metadata": {
    "slideshow": {
     "slide_type": "fragment"
    }
   },
   "source": [
    "Likewise, we can constrain `<int>` as a whole, and thus ensure that all numbers are greater than 100:"
   ]
  },
  {
   "cell_type": "code",
   "execution_count": 53,
   "id": "5725feab-1f54-476b-bf26-98a35b1fb406",
   "metadata": {
    "execution": {
     "iopub.execute_input": "2023-11-12T12:45:54.182095Z",
     "iopub.status.busy": "2023-11-12T12:45:54.181981Z",
     "iopub.status.idle": "2023-11-12T12:45:55.441089Z",
     "shell.execute_reply": "2023-11-12T12:45:55.440759Z"
    },
    "slideshow": {
     "slide_type": "subslide"
    }
   },
   "outputs": [
    {
     "data": {
      "text/plain": [
       "'pagesize=101\\nbufsize=101'"
      ]
     },
     "execution_count": 53,
     "metadata": {},
     "output_type": "execute_result"
    }
   ],
   "source": [
    "solver = ISLaSolver(CONFIG_GRAMMAR, \n",
    "            '''\n",
    "            forall <int> in <start>:\n",
    "                (str.to.int(<int>) > 100)\n",
    "            ''')\n",
    "\n",
    "str(solver.solve())"
   ]
  },
  {
   "cell_type": "markdown",
   "id": "597e2b5c-c43a-4230-ad64-0aa333930d63",
   "metadata": {
    "slideshow": {
     "slide_type": "fragment"
    }
   },
   "source": [
    "By default, all variables are universally quantified in `<start>`, so the above can also be expressed as"
   ]
  },
  {
   "cell_type": "code",
   "execution_count": 54,
   "id": "9fff23c3-822c-402a-b1f7-0f23caf3b5c6",
   "metadata": {
    "execution": {
     "iopub.execute_input": "2023-11-12T12:45:55.442862Z",
     "iopub.status.busy": "2023-11-12T12:45:55.442730Z",
     "iopub.status.idle": "2023-11-12T12:45:56.691072Z",
     "shell.execute_reply": "2023-11-12T12:45:56.690743Z"
    },
    "slideshow": {
     "slide_type": "subslide"
    }
   },
   "outputs": [
    {
     "data": {
      "text/plain": [
       "'pagesize=101\\nbufsize=101'"
      ]
     },
     "execution_count": 54,
     "metadata": {},
     "output_type": "execute_result"
    }
   ],
   "source": [
    "solver = ISLaSolver(CONFIG_GRAMMAR, \n",
    "            '''\n",
    "            str.to.int(<int>) > 100\n",
    "            ''')\n",
    "\n",
    "str(solver.solve())"
   ]
  },
  {
   "cell_type": "markdown",
   "id": "6217547d",
   "metadata": {
    "slideshow": {
     "slide_type": "slide"
    }
   },
   "source": [
    "## Matching Expansion Elements"
   ]
  },
  {
   "attachments": {},
   "cell_type": "markdown",
   "id": "3068a08a",
   "metadata": {
    "slideshow": {
     "slide_type": "fragment"
    }
   },
   "source": [
    "In a quantification pattern, we can also _name_ individual nonterminal elements and use them in our constraints.\n",
    "This is done by replacing the nonterminal `<ID>` with the special form `{<ID> VARIABLE}` (in curly braces) which then makes the variable `VARIABLE` a placeholder for the value matched by `ID`; `VARIABLE` can then be used in constraints."
   ]
  },
  {
   "cell_type": "markdown",
   "id": "59d96553",
   "metadata": {
    "slideshow": {
     "slide_type": "fragment"
    }
   },
   "source": [
    "Here is an example. In the expansion `<leaddigit><int>`, we want to ensure that the `<leaddigit>` is always `9`.\n",
    "Using the special brace form, we make `lead` a variable holding the value of `<leaddigit>`, and can then use it in a constraint:"
   ]
  },
  {
   "cell_type": "code",
   "execution_count": 55,
   "id": "5c6efe08",
   "metadata": {
    "execution": {
     "iopub.execute_input": "2023-11-12T12:45:56.693041Z",
     "iopub.status.busy": "2023-11-12T12:45:56.692909Z",
     "iopub.status.idle": "2023-11-12T12:45:56.701119Z",
     "shell.execute_reply": "2023-11-12T12:45:56.700774Z"
    },
    "slideshow": {
     "slide_type": "subslide"
    }
   },
   "outputs": [],
   "source": [
    "solver = ISLaSolver(CONFIG_GRAMMAR, \n",
    "            '''\n",
    "            forall <int> i=\"{<leaddigit> lead}<digits>\" in <start>:\n",
    "                (lead = \"9\")\n",
    "            ''')"
   ]
  },
  {
   "cell_type": "markdown",
   "id": "146beb34",
   "metadata": {
    "slideshow": {
     "slide_type": "fragment"
    }
   },
   "source": [
    "This (again) ensures that all lead digits should be `9`:"
   ]
  },
  {
   "cell_type": "code",
   "execution_count": 56,
   "id": "704eb3c3",
   "metadata": {
    "execution": {
     "iopub.execute_input": "2023-11-12T12:45:56.703006Z",
     "iopub.status.busy": "2023-11-12T12:45:56.702857Z",
     "iopub.status.idle": "2023-11-12T12:45:57.387306Z",
     "shell.execute_reply": "2023-11-12T12:45:57.386997Z"
    },
    "slideshow": {
     "slide_type": "subslide"
    }
   },
   "outputs": [
    {
     "name": "stdout",
     "output_type": "stream",
     "text": [
      "pagesize=92\n",
      "bufsize=9168435097796\n",
      "pagesize=9\n",
      "bufsize=9188\n",
      "pagesize=981\n",
      "bufsize=999\n",
      "pagesize=9\n",
      "bufsize=9\n",
      "pagesize=9\n",
      "bufsize=9\n",
      "pagesize=9\n",
      "bufsize=9\n",
      "pagesize=91\n",
      "bufsize=9\n",
      "pagesize=9\n",
      "bufsize=9\n",
      "pagesize=90\n",
      "bufsize=9\n",
      "pagesize=9\n",
      "bufsize=9242\n"
     ]
    }
   ],
   "source": [
    "for _ in range(10):\n",
    "    print(solver.solve())"
   ]
  },
  {
   "cell_type": "markdown",
   "id": "366bac30-feb1-4bac-8991-077e94c17067",
   "metadata": {
    "slideshow": {
     "slide_type": "subslide"
    }
   },
   "source": [
    "Could we express the above in a simpler fashion? Yes! For one, we can refer to `<leaddigit>` directly rather than introducing variables like `i` and `lead`:"
   ]
  },
  {
   "cell_type": "code",
   "execution_count": 57,
   "id": "b58e065d-ef7d-4320-971c-6feec74fc715",
   "metadata": {
    "execution": {
     "iopub.execute_input": "2023-11-12T12:45:57.389210Z",
     "iopub.status.busy": "2023-11-12T12:45:57.389072Z",
     "iopub.status.idle": "2023-11-12T12:45:58.069148Z",
     "shell.execute_reply": "2023-11-12T12:45:58.068854Z"
    },
    "slideshow": {
     "slide_type": "fragment"
    }
   },
   "outputs": [
    {
     "name": "stdout",
     "output_type": "stream",
     "text": [
      "pagesize=9\n",
      "bufsize=941890257631\n"
     ]
    }
   ],
   "source": [
    "solver = ISLaSolver(CONFIG_GRAMMAR, \n",
    "            '''\n",
    "            forall <int>=\"<leaddigit><digits>\" in <start>:\n",
    "                (<leaddigit> = \"9\")\n",
    "            ''')\n",
    "print(solver.solve())"
   ]
  },
  {
   "cell_type": "markdown",
   "id": "3ef24b8f",
   "metadata": {
    "slideshow": {
     "slide_type": "fragment"
    }
   },
   "source": [
    "Furthermore, using implicit universal quantification and the dot notation introduced earlier, we could write, for instance"
   ]
  },
  {
   "cell_type": "code",
   "execution_count": 58,
   "id": "73834f05",
   "metadata": {
    "execution": {
     "iopub.execute_input": "2023-11-12T12:45:58.070946Z",
     "iopub.status.busy": "2023-11-12T12:45:58.070711Z",
     "iopub.status.idle": "2023-11-12T12:45:58.731099Z",
     "shell.execute_reply": "2023-11-12T12:45:58.730767Z"
    },
    "slideshow": {
     "slide_type": "subslide"
    }
   },
   "outputs": [
    {
     "name": "stdout",
     "output_type": "stream",
     "text": [
      "pagesize=99\n",
      "bufsize=9501387624\n"
     ]
    }
   ],
   "source": [
    "solver = ISLaSolver(CONFIG_GRAMMAR, \n",
    "            '''\n",
    "            <int>.<leaddigit> = \"9\"\n",
    "            ''')\n",
    "print(solver.solve())"
   ]
  },
  {
   "cell_type": "markdown",
   "id": "f87e3b47-2889-4171-a7fc-50b246e70463",
   "metadata": {
    "slideshow": {
     "slide_type": "fragment"
    }
   },
   "source": [
    "or just"
   ]
  },
  {
   "cell_type": "code",
   "execution_count": 59,
   "id": "175be19e-2112-4b5f-9bba-c658db6b4c82",
   "metadata": {
    "execution": {
     "iopub.execute_input": "2023-11-12T12:45:58.733142Z",
     "iopub.status.busy": "2023-11-12T12:45:58.732966Z",
     "iopub.status.idle": "2023-11-12T12:45:59.365302Z",
     "shell.execute_reply": "2023-11-12T12:45:59.364942Z"
    },
    "slideshow": {
     "slide_type": "subslide"
    }
   },
   "outputs": [
    {
     "name": "stdout",
     "output_type": "stream",
     "text": [
      "pagesize=98\n",
      "bufsize=93762401955\n"
     ]
    }
   ],
   "source": [
    "solver = ISLaSolver(CONFIG_GRAMMAR, \n",
    "            '''\n",
    "            <leaddigit> = \"9\"\n",
    "            ''')\n",
    "print(solver.solve())"
   ]
  },
  {
   "cell_type": "markdown",
   "id": "e2256f3a",
   "metadata": {
    "slideshow": {
     "slide_type": "fragment"
    }
   },
   "source": [
    "and obtain the same result (not necessarily the exact same values, though, due to randomness):"
   ]
  },
  {
   "cell_type": "markdown",
   "id": "7c09a756",
   "metadata": {
    "slideshow": {
     "slide_type": "fragment"
    }
   },
   "source": [
    "But while universal quantification and dot notation are sufficient for many cases, the pattern matching notation is more general and more flexible – even if it may be harder to read."
   ]
  },
  {
   "cell_type": "markdown",
   "id": "5957e659",
   "metadata": {
    "slideshow": {
     "slide_type": "slide"
    }
   },
   "source": [
    "## Checking Strings"
   ]
  },
  {
   "cell_type": "markdown",
   "id": "9fab7e00-3053-4f91-b782-d99c91e2f4a7",
   "metadata": {
    "slideshow": {
     "slide_type": "fragment"
    }
   },
   "source": [
    "Using an `ISLaSolver`, we can also check if an string satisfies the constraints.\n",
    "This can be applied to inputs, but also to _outputs_; ISLa constraints can thus server as _oracles_ – that is, _predicates_ that check a test result."
   ]
  },
  {
   "cell_type": "markdown",
   "id": "c264847b-998f-47cf-b5ac-ad37ba60fbdb",
   "metadata": {
    "slideshow": {
     "slide_type": "fragment"
    }
   },
   "source": [
    "Let us check if in a given string, `<pagesize>` and `<bufsize>` are the same."
   ]
  },
  {
   "cell_type": "code",
   "execution_count": 60,
   "id": "60085464",
   "metadata": {
    "execution": {
     "iopub.execute_input": "2023-11-12T12:45:59.367479Z",
     "iopub.status.busy": "2023-11-12T12:45:59.367336Z",
     "iopub.status.idle": "2023-11-12T12:45:59.371402Z",
     "shell.execute_reply": "2023-11-12T12:45:59.371095Z"
    },
    "slideshow": {
     "slide_type": "fragment"
    }
   },
   "outputs": [],
   "source": [
    "constraint = '<pagesize> = <bufsize>'\n",
    "solver = ISLaSolver(CONFIG_GRAMMAR, constraint)"
   ]
  },
  {
   "cell_type": "markdown",
   "id": "ea689310",
   "metadata": {
    "slideshow": {
     "slide_type": "fragment"
    }
   },
   "source": [
    "To check the tree, we can pass it into the `evaluate()` method of the `solver` – and find that the given input does _not_ satisfy our constraint."
   ]
  },
  {
   "cell_type": "code",
   "execution_count": 61,
   "id": "aae16603",
   "metadata": {
    "execution": {
     "iopub.execute_input": "2023-11-12T12:45:59.373169Z",
     "iopub.status.busy": "2023-11-12T12:45:59.373070Z",
     "iopub.status.idle": "2023-11-12T12:45:59.380224Z",
     "shell.execute_reply": "2023-11-12T12:45:59.379789Z"
    },
    "slideshow": {
     "slide_type": "fragment"
    }
   },
   "outputs": [
    {
     "data": {
      "text/plain": [
       "False"
      ]
     },
     "execution_count": 61,
     "metadata": {},
     "output_type": "execute_result"
    }
   ],
   "source": [
    "solver.check('pagesize=12\\nbufsize=34')"
   ]
  },
  {
   "cell_type": "markdown",
   "id": "bdae179d",
   "metadata": {
    "slideshow": {
     "slide_type": "subslide"
    }
   },
   "source": [
    "If we repeat the above, however, with an input that satisfies the constraint, we obtain a `True` result."
   ]
  },
  {
   "cell_type": "code",
   "execution_count": 62,
   "id": "3b4ab9e5",
   "metadata": {
    "execution": {
     "iopub.execute_input": "2023-11-12T12:45:59.382141Z",
     "iopub.status.busy": "2023-11-12T12:45:59.382004Z",
     "iopub.status.idle": "2023-11-12T12:45:59.385595Z",
     "shell.execute_reply": "2023-11-12T12:45:59.385312Z"
    },
    "slideshow": {
     "slide_type": "fragment"
    }
   },
   "outputs": [
    {
     "data": {
      "text/plain": [
       "True"
      ]
     },
     "execution_count": 62,
     "metadata": {},
     "output_type": "execute_result"
    }
   ],
   "source": [
    "solver.check('pagesize=27\\nbufsize=27')"
   ]
  },
  {
   "cell_type": "markdown",
   "id": "c146e9ff-b58c-4743-9d41-62a6d6eeecd7",
   "metadata": {
    "slideshow": {
     "slide_type": "fragment"
    }
   },
   "source": [
    "Checking constraints is much more efficient than solving them, as ISLa does not have to search for possible solutions."
   ]
  },
  {
   "cell_type": "markdown",
   "id": "0f8b28ce",
   "metadata": {
    "slideshow": {
     "slide_type": "slide"
    }
   },
   "source": [
    "## Case Studies\n",
    "\n",
    "Let us further illustrate ISLa using a few case studies."
   ]
  },
  {
   "cell_type": "markdown",
   "id": "7bf5464f",
   "metadata": {
    "slideshow": {
     "slide_type": "subslide"
    }
   },
   "source": [
    "### Matching Identifiers in XML"
   ]
  },
  {
   "cell_type": "markdown",
   "id": "20bd8738",
   "metadata": {
    "slideshow": {
     "slide_type": "fragment"
    }
   },
   "source": [
    "The Extensible Markup Language (XML) is a typical example of an input language that cannot be fully expressed using a context-free grammar.\n",
    "The problem is not so much expressing the _syntax_ of XML – the basics are fairly easy:"
   ]
  },
  {
   "cell_type": "code",
   "execution_count": 63,
   "id": "3aa33f37",
   "metadata": {
    "execution": {
     "iopub.execute_input": "2023-11-12T12:45:59.387258Z",
     "iopub.status.busy": "2023-11-12T12:45:59.387163Z",
     "iopub.status.idle": "2023-11-12T12:45:59.389250Z",
     "shell.execute_reply": "2023-11-12T12:45:59.388958Z"
    },
    "slideshow": {
     "slide_type": "fragment"
    }
   },
   "outputs": [],
   "source": [
    "XML_GRAMMAR: Grammar = {\n",
    "    \"<start>\": [\"<xml-tree>\"],\n",
    "    \"<xml-tree>\": [\"<open-tag><xml-content><close-tag>\"],\n",
    "    \"<open-tag>\": [\"<<id>>\"],\n",
    "    \"<close-tag>\": [\"</<id>>\"],\n",
    "    \"<xml-content>\": [\"Text\", \"<xml-tree>\"],\n",
    "    \"<id>\": [\"<letter>\", \"<id><letter>\"],\n",
    "    \"<letter>\": crange('a', 'z')\n",
    "}"
   ]
  },
  {
   "cell_type": "code",
   "execution_count": 64,
   "id": "874854b1",
   "metadata": {
    "execution": {
     "iopub.execute_input": "2023-11-12T12:45:59.390823Z",
     "iopub.status.busy": "2023-11-12T12:45:59.390737Z",
     "iopub.status.idle": "2023-11-12T12:45:59.392445Z",
     "shell.execute_reply": "2023-11-12T12:45:59.392189Z"
    },
    "slideshow": {
     "slide_type": "subslide"
    }
   },
   "outputs": [],
   "source": [
    "assert is_valid_grammar(XML_GRAMMAR)"
   ]
  },
  {
   "cell_type": "code",
   "execution_count": 65,
   "id": "e017975d",
   "metadata": {
    "execution": {
     "iopub.execute_input": "2023-11-12T12:45:59.393968Z",
     "iopub.status.busy": "2023-11-12T12:45:59.393873Z",
     "iopub.status.idle": "2023-11-12T12:45:59.407282Z",
     "shell.execute_reply": "2023-11-12T12:45:59.407032Z"
    },
    "slideshow": {
     "slide_type": "subslide"
    }
   },
   "outputs": [
    {
     "name": "stdout",
     "output_type": "stream",
     "text": [
      "start\n"
     ]
    },
    {
     "data": {
      "image/svg+xml": [
       "<svg xmlns=\"http://www.w3.org/2000/svg\" class=\"railroad-diagram\" height=\"62\" viewBox=\"0 0 208.0 62\" width=\"208.0\">\n",
       "<g transform=\"translate(.5 .5)\">\n",
       "<style>/* <![CDATA[ */\n",
       "    svg.railroad-diagram {\n",
       "    }\n",
       "    svg.railroad-diagram path {\n",
       "        stroke-width:3;\n",
       "        stroke:black;\n",
       "        fill:white;\n",
       "    }\n",
       "    svg.railroad-diagram text {\n",
       "        font:14px \"Fira Mono\", monospace;\n",
       "        text-anchor:middle;\n",
       "    }\n",
       "    svg.railroad-diagram text.label{\n",
       "        text-anchor:start;\n",
       "    }\n",
       "    svg.railroad-diagram text.comment{\n",
       "        font:italic 12px \"Fira Mono\", monospace;\n",
       "    }\n",
       "    svg.railroad-diagram rect{\n",
       "        stroke-width:2;\n",
       "        stroke:black;\n",
       "        fill:mistyrose;\n",
       "    }\n",
       "\n",
       "/* ]]> */\n",
       "</style><g>\n",
       "<path d=\"M20 21v20m10 -20v20m-10 -10h20\"/></g><g>\n",
       "<path d=\"M40 31h0.0\"/><path d=\"M168.0 31h0.0\"/><path d=\"M40.0 31h20\"/><g>\n",
       "<path d=\"M60.0 31h0.0\"/><path d=\"M148.0 31h0.0\"/><g class=\"non-terminal\">\n",
       "<path d=\"M60.0 31h0.0\"/><path d=\"M148.0 31h0.0\"/><rect height=\"22\" width=\"88.0\" x=\"60.0\" y=\"20\"/><text x=\"104.0\" y=\"35\">xml-tree</text></g></g><path d=\"M148.0 31h20\"/></g><path d=\"M 168.0 31 h 20 m -10 -10 v 20 m 10 -20 v 20\"/></g></svg>"
      ],
      "text/plain": [
       "<IPython.core.display.SVG object>"
      ]
     },
     "metadata": {},
     "output_type": "display_data"
    },
    {
     "name": "stdout",
     "output_type": "stream",
     "text": [
      "xml-tree\n"
     ]
    },
    {
     "data": {
      "image/svg+xml": [
       "<svg xmlns=\"http://www.w3.org/2000/svg\" class=\"railroad-diagram\" height=\"62\" viewBox=\"0 0 458.0 62\" width=\"458.0\">\n",
       "<g transform=\"translate(.5 .5)\">\n",
       "<style>/* <![CDATA[ */\n",
       "    svg.railroad-diagram {\n",
       "    }\n",
       "    svg.railroad-diagram path {\n",
       "        stroke-width:3;\n",
       "        stroke:black;\n",
       "        fill:white;\n",
       "    }\n",
       "    svg.railroad-diagram text {\n",
       "        font:14px \"Fira Mono\", monospace;\n",
       "        text-anchor:middle;\n",
       "    }\n",
       "    svg.railroad-diagram text.label{\n",
       "        text-anchor:start;\n",
       "    }\n",
       "    svg.railroad-diagram text.comment{\n",
       "        font:italic 12px \"Fira Mono\", monospace;\n",
       "    }\n",
       "    svg.railroad-diagram rect{\n",
       "        stroke-width:2;\n",
       "        stroke:black;\n",
       "        fill:mistyrose;\n",
       "    }\n",
       "\n",
       "/* ]]> */\n",
       "</style><g>\n",
       "<path d=\"M20 21v20m10 -20v20m-10 -10h20\"/></g><g>\n",
       "<path d=\"M40 31h0.0\"/><path d=\"M418.0 31h0.0\"/><path d=\"M40.0 31h20\"/><g>\n",
       "<path d=\"M60.0 31h0.0\"/><path d=\"M398.0 31h0.0\"/><g class=\"non-terminal\">\n",
       "<path d=\"M60.0 31h0.0\"/><path d=\"M148.0 31h0.0\"/><rect height=\"22\" width=\"88.0\" x=\"60.0\" y=\"20\"/><text x=\"104.0\" y=\"35\">open-tag</text></g><path d=\"M148.0 31h10\"/><path d=\"M158.0 31h10\"/><g class=\"non-terminal\">\n",
       "<path d=\"M168.0 31h0.0\"/><path d=\"M281.5 31h0.0\"/><rect height=\"22\" width=\"113.5\" x=\"168.0\" y=\"20\"/><text x=\"224.75\" y=\"35\">xml-content</text></g><path d=\"M281.5 31h10\"/><path d=\"M291.5 31h10\"/><g class=\"non-terminal\">\n",
       "<path d=\"M301.5 31h0.0\"/><path d=\"M398.0 31h0.0\"/><rect height=\"22\" width=\"96.5\" x=\"301.5\" y=\"20\"/><text x=\"349.75\" y=\"35\">close-tag</text></g></g><path d=\"M398.0 31h20\"/></g><path d=\"M 418.0 31 h 20 m -10 -10 v 20 m 10 -20 v 20\"/></g></svg>"
      ],
      "text/plain": [
       "<IPython.core.display.SVG object>"
      ]
     },
     "metadata": {},
     "output_type": "display_data"
    },
    {
     "name": "stdout",
     "output_type": "stream",
     "text": [
      "open-tag\n"
     ]
    },
    {
     "data": {
      "image/svg+xml": [
       "<svg xmlns=\"http://www.w3.org/2000/svg\" class=\"railroad-diagram\" height=\"62\" viewBox=\"0 0 254.0 62\" width=\"254.0\">\n",
       "<g transform=\"translate(.5 .5)\">\n",
       "<style>/* <![CDATA[ */\n",
       "    svg.railroad-diagram {\n",
       "    }\n",
       "    svg.railroad-diagram path {\n",
       "        stroke-width:3;\n",
       "        stroke:black;\n",
       "        fill:white;\n",
       "    }\n",
       "    svg.railroad-diagram text {\n",
       "        font:14px \"Fira Mono\", monospace;\n",
       "        text-anchor:middle;\n",
       "    }\n",
       "    svg.railroad-diagram text.label{\n",
       "        text-anchor:start;\n",
       "    }\n",
       "    svg.railroad-diagram text.comment{\n",
       "        font:italic 12px \"Fira Mono\", monospace;\n",
       "    }\n",
       "    svg.railroad-diagram rect{\n",
       "        stroke-width:2;\n",
       "        stroke:black;\n",
       "        fill:mistyrose;\n",
       "    }\n",
       "\n",
       "/* ]]> */\n",
       "</style><g>\n",
       "<path d=\"M20 21v20m10 -20v20m-10 -10h20\"/></g><g>\n",
       "<path d=\"M40 31h0.0\"/><path d=\"M214.0 31h0.0\"/><path d=\"M40.0 31h20\"/><g>\n",
       "<path d=\"M60.0 31h0.0\"/><path d=\"M194.0 31h0.0\"/><g class=\"terminal\">\n",
       "<path d=\"M60.0 31h0.0\"/><path d=\"M88.5 31h0.0\"/><rect height=\"22\" rx=\"10\" ry=\"10\" width=\"28.5\" x=\"60.0\" y=\"20\"/><text x=\"74.25\" y=\"35\">&lt;</text></g><path d=\"M88.5 31h10\"/><path d=\"M98.5 31h10\"/><g class=\"non-terminal\">\n",
       "<path d=\"M108.5 31h0.0\"/><path d=\"M145.5 31h0.0\"/><rect height=\"22\" width=\"37.0\" x=\"108.5\" y=\"20\"/><text x=\"127.0\" y=\"35\">id</text></g><path d=\"M145.5 31h10\"/><path d=\"M155.5 31h10\"/><g class=\"terminal\">\n",
       "<path d=\"M165.5 31h0.0\"/><path d=\"M194.0 31h0.0\"/><rect height=\"22\" rx=\"10\" ry=\"10\" width=\"28.5\" x=\"165.5\" y=\"20\"/><text x=\"179.75\" y=\"35\">&gt;</text></g></g><path d=\"M194.0 31h20\"/></g><path d=\"M 214.0 31 h 20 m -10 -10 v 20 m 10 -20 v 20\"/></g></svg>"
      ],
      "text/plain": [
       "<IPython.core.display.SVG object>"
      ]
     },
     "metadata": {},
     "output_type": "display_data"
    },
    {
     "name": "stdout",
     "output_type": "stream",
     "text": [
      "close-tag\n"
     ]
    },
    {
     "data": {
      "image/svg+xml": [
       "<svg xmlns=\"http://www.w3.org/2000/svg\" class=\"railroad-diagram\" height=\"62\" viewBox=\"0 0 262.5 62\" width=\"262.5\">\n",
       "<g transform=\"translate(.5 .5)\">\n",
       "<style>/* <![CDATA[ */\n",
       "    svg.railroad-diagram {\n",
       "    }\n",
       "    svg.railroad-diagram path {\n",
       "        stroke-width:3;\n",
       "        stroke:black;\n",
       "        fill:white;\n",
       "    }\n",
       "    svg.railroad-diagram text {\n",
       "        font:14px \"Fira Mono\", monospace;\n",
       "        text-anchor:middle;\n",
       "    }\n",
       "    svg.railroad-diagram text.label{\n",
       "        text-anchor:start;\n",
       "    }\n",
       "    svg.railroad-diagram text.comment{\n",
       "        font:italic 12px \"Fira Mono\", monospace;\n",
       "    }\n",
       "    svg.railroad-diagram rect{\n",
       "        stroke-width:2;\n",
       "        stroke:black;\n",
       "        fill:mistyrose;\n",
       "    }\n",
       "\n",
       "/* ]]> */\n",
       "</style><g>\n",
       "<path d=\"M20 21v20m10 -20v20m-10 -10h20\"/></g><g>\n",
       "<path d=\"M40 31h0.0\"/><path d=\"M222.5 31h0.0\"/><path d=\"M40.0 31h20\"/><g>\n",
       "<path d=\"M60.0 31h0.0\"/><path d=\"M202.5 31h0.0\"/><g class=\"terminal\">\n",
       "<path d=\"M60.0 31h0.0\"/><path d=\"M97.0 31h0.0\"/><rect height=\"22\" rx=\"10\" ry=\"10\" width=\"37.0\" x=\"60.0\" y=\"20\"/><text x=\"78.5\" y=\"35\">&lt;/</text></g><path d=\"M97.0 31h10\"/><path d=\"M107.0 31h10\"/><g class=\"non-terminal\">\n",
       "<path d=\"M117.0 31h0.0\"/><path d=\"M154.0 31h0.0\"/><rect height=\"22\" width=\"37.0\" x=\"117.0\" y=\"20\"/><text x=\"135.5\" y=\"35\">id</text></g><path d=\"M154.0 31h10\"/><path d=\"M164.0 31h10\"/><g class=\"terminal\">\n",
       "<path d=\"M174.0 31h0.0\"/><path d=\"M202.5 31h0.0\"/><rect height=\"22\" rx=\"10\" ry=\"10\" width=\"28.5\" x=\"174.0\" y=\"20\"/><text x=\"188.25\" y=\"35\">&gt;</text></g></g><path d=\"M202.5 31h20\"/></g><path d=\"M 222.5 31 h 20 m -10 -10 v 20 m 10 -20 v 20\"/></g></svg>"
      ],
      "text/plain": [
       "<IPython.core.display.SVG object>"
      ]
     },
     "metadata": {},
     "output_type": "display_data"
    },
    {
     "name": "stdout",
     "output_type": "stream",
     "text": [
      "xml-content\n"
     ]
    },
    {
     "data": {
      "image/svg+xml": [
       "<svg xmlns=\"http://www.w3.org/2000/svg\" class=\"railroad-diagram\" height=\"92\" viewBox=\"0 0 208.0 92\" width=\"208.0\">\n",
       "<g transform=\"translate(.5 .5)\">\n",
       "<style>/* <![CDATA[ */\n",
       "    svg.railroad-diagram {\n",
       "    }\n",
       "    svg.railroad-diagram path {\n",
       "        stroke-width:3;\n",
       "        stroke:black;\n",
       "        fill:white;\n",
       "    }\n",
       "    svg.railroad-diagram text {\n",
       "        font:14px \"Fira Mono\", monospace;\n",
       "        text-anchor:middle;\n",
       "    }\n",
       "    svg.railroad-diagram text.label{\n",
       "        text-anchor:start;\n",
       "    }\n",
       "    svg.railroad-diagram text.comment{\n",
       "        font:italic 12px \"Fira Mono\", monospace;\n",
       "    }\n",
       "    svg.railroad-diagram rect{\n",
       "        stroke-width:2;\n",
       "        stroke:black;\n",
       "        fill:mistyrose;\n",
       "    }\n",
       "\n",
       "/* ]]> */\n",
       "</style><g>\n",
       "<path d=\"M20 51v20m10 -20v20m-10 -10h20\"/></g><g>\n",
       "<path d=\"M40 61h0.0\"/><path d=\"M168.0 61h0.0\"/><path d=\"M40.0 61a10 10 0 0 0 10 -10v-10a10 10 0 0 1 10 -10\"/><g>\n",
       "<path d=\"M60.0 31h17.0\"/><path d=\"M131.0 31h17.0\"/><g class=\"terminal\">\n",
       "<path d=\"M77.0 31h0.0\"/><path d=\"M131.0 31h0.0\"/><rect height=\"22\" rx=\"10\" ry=\"10\" width=\"54.0\" x=\"77.0\" y=\"20\"/><text x=\"104.0\" y=\"35\">Text</text></g></g><path d=\"M148.0 31a10 10 0 0 1 10 10v10a10 10 0 0 0 10 10\"/><path d=\"M40.0 61h20\"/><g>\n",
       "<path d=\"M60.0 61h0.0\"/><path d=\"M148.0 61h0.0\"/><g class=\"non-terminal\">\n",
       "<path d=\"M60.0 61h0.0\"/><path d=\"M148.0 61h0.0\"/><rect height=\"22\" width=\"88.0\" x=\"60.0\" y=\"50\"/><text x=\"104.0\" y=\"65\">xml-tree</text></g></g><path d=\"M148.0 61h20\"/></g><path d=\"M 168.0 61 h 20 m -10 -10 v 20 m 10 -20 v 20\"/></g></svg>"
      ],
      "text/plain": [
       "<IPython.core.display.SVG object>"
      ]
     },
     "metadata": {},
     "output_type": "display_data"
    },
    {
     "name": "stdout",
     "output_type": "stream",
     "text": [
      "id\n"
     ]
    },
    {
     "data": {
      "image/svg+xml": [
       "<svg xmlns=\"http://www.w3.org/2000/svg\" class=\"railroad-diagram\" height=\"92\" viewBox=\"0 0 248.0 92\" width=\"248.0\">\n",
       "<g transform=\"translate(.5 .5)\">\n",
       "<style>/* <![CDATA[ */\n",
       "    svg.railroad-diagram {\n",
       "    }\n",
       "    svg.railroad-diagram path {\n",
       "        stroke-width:3;\n",
       "        stroke:black;\n",
       "        fill:white;\n",
       "    }\n",
       "    svg.railroad-diagram text {\n",
       "        font:14px \"Fira Mono\", monospace;\n",
       "        text-anchor:middle;\n",
       "    }\n",
       "    svg.railroad-diagram text.label{\n",
       "        text-anchor:start;\n",
       "    }\n",
       "    svg.railroad-diagram text.comment{\n",
       "        font:italic 12px \"Fira Mono\", monospace;\n",
       "    }\n",
       "    svg.railroad-diagram rect{\n",
       "        stroke-width:2;\n",
       "        stroke:black;\n",
       "        fill:mistyrose;\n",
       "    }\n",
       "\n",
       "/* ]]> */\n",
       "</style><g>\n",
       "<path d=\"M20 51v20m10 -20v20m-10 -10h20\"/></g><g>\n",
       "<path d=\"M40 61h0.0\"/><path d=\"M208.0 61h0.0\"/><path d=\"M40.0 61a10 10 0 0 0 10 -10v-10a10 10 0 0 1 10 -10\"/><g>\n",
       "<path d=\"M60.0 31h28.5\"/><path d=\"M159.5 31h28.5\"/><g class=\"non-terminal\">\n",
       "<path d=\"M88.5 31h0.0\"/><path d=\"M159.5 31h0.0\"/><rect height=\"22\" width=\"71.0\" x=\"88.5\" y=\"20\"/><text x=\"124.0\" y=\"35\">letter</text></g></g><path d=\"M188.0 31a10 10 0 0 1 10 10v10a10 10 0 0 0 10 10\"/><path d=\"M40.0 61h20\"/><g>\n",
       "<path d=\"M60.0 61h0.0\"/><path d=\"M188.0 61h0.0\"/><g class=\"non-terminal\">\n",
       "<path d=\"M60.0 61h0.0\"/><path d=\"M97.0 61h0.0\"/><rect height=\"22\" width=\"37.0\" x=\"60.0\" y=\"50\"/><text x=\"78.5\" y=\"65\">id</text></g><path d=\"M97.0 61h10\"/><path d=\"M107.0 61h10\"/><g class=\"non-terminal\">\n",
       "<path d=\"M117.0 61h0.0\"/><path d=\"M188.0 61h0.0\"/><rect height=\"22\" width=\"71.0\" x=\"117.0\" y=\"50\"/><text x=\"152.5\" y=\"65\">letter</text></g></g><path d=\"M188.0 61h20\"/></g><path d=\"M 208.0 61 h 20 m -10 -10 v 20 m 10 -20 v 20\"/></g></svg>"
      ],
      "text/plain": [
       "<IPython.core.display.SVG object>"
      ]
     },
     "metadata": {},
     "output_type": "display_data"
    },
    {
     "name": "stdout",
     "output_type": "stream",
     "text": [
      "letter\n"
     ]
    },
    {
     "data": {
      "image/svg+xml": [
       "<svg xmlns=\"http://www.w3.org/2000/svg\" class=\"railroad-diagram\" height=\"198\" viewBox=\"0 0 611.0 198\" width=\"611.0\">\n",
       "<g transform=\"translate(.5 .5)\">\n",
       "<style>/* <![CDATA[ */\n",
       "    svg.railroad-diagram {\n",
       "    }\n",
       "    svg.railroad-diagram path {\n",
       "        stroke-width:3;\n",
       "        stroke:black;\n",
       "        fill:white;\n",
       "    }\n",
       "    svg.railroad-diagram text {\n",
       "        font:14px \"Fira Mono\", monospace;\n",
       "        text-anchor:middle;\n",
       "    }\n",
       "    svg.railroad-diagram text.label{\n",
       "        text-anchor:start;\n",
       "    }\n",
       "    svg.railroad-diagram text.comment{\n",
       "        font:italic 12px \"Fira Mono\", monospace;\n",
       "    }\n",
       "    svg.railroad-diagram rect{\n",
       "        stroke-width:2;\n",
       "        stroke:black;\n",
       "        fill:mistyrose;\n",
       "    }\n",
       "\n",
       "/* ]]> */\n",
       "</style><g>\n",
       "<path d=\"M20 89v20m10 -20v20m-10 -10h20\"/></g><g>\n",
       "<path d=\"M40 99h0.0\"/><path d=\"M571.0 99h0.0\"/><path d=\"M40.0 99a10 10 0 0 0 10 -10v-59a10 10 0 0 1 10 -10h412.5\"/><path d=\"M138.5 178h412.5a10 10 0 0 0 10 -10v-59a10 10 0 0 1 10 -10\"/><path d=\"M40.0 99h10\"/><g>\n",
       "<path d=\"M50.0 99h0.0\"/><path d=\"M118.5 99h0.0\"/><path d=\"M50.0 99a10 10 0 0 0 10 -10v-10a10 10 0 0 1 10 -10\"/><g>\n",
       "<path d=\"M70.0 69h0.0\"/><path d=\"M98.5 69h0.0\"/><g class=\"terminal\">\n",
       "<path d=\"M70.0 69h0.0\"/><path d=\"M98.5 69h0.0\"/><rect height=\"22\" rx=\"10\" ry=\"10\" width=\"28.5\" x=\"70.0\" y=\"58\"/><text x=\"84.25\" y=\"73\">b</text></g></g><path d=\"M98.5 69a10 10 0 0 1 10 10v10a10 10 0 0 0 10 10\"/><path d=\"M50.0 99a10 10 0 0 0 10 -10v-40a10 10 0 0 1 10 -10\"/><g>\n",
       "<path d=\"M70.0 39h0.0\"/><path d=\"M98.5 39h0.0\"/><g class=\"terminal\">\n",
       "<path d=\"M70.0 39h0.0\"/><path d=\"M98.5 39h0.0\"/><rect height=\"22\" rx=\"10\" ry=\"10\" width=\"28.5\" x=\"70.0\" y=\"28\"/><text x=\"84.25\" y=\"43\">a</text></g></g><path d=\"M98.5 39a10 10 0 0 1 10 10v40a10 10 0 0 0 10 10\"/><path d=\"M50.0 99h20\"/><g>\n",
       "<path d=\"M70.0 99h0.0\"/><path d=\"M98.5 99h0.0\"/><g class=\"terminal\">\n",
       "<path d=\"M70.0 99h0.0\"/><path d=\"M98.5 99h0.0\"/><rect height=\"22\" rx=\"10\" ry=\"10\" width=\"28.5\" x=\"70.0\" y=\"88\"/><text x=\"84.25\" y=\"103\">c</text></g></g><path d=\"M98.5 99h20\"/><path d=\"M50.0 99a10 10 0 0 1 10 10v10a10 10 0 0 0 10 10\"/><g>\n",
       "<path d=\"M70.0 129h0.0\"/><path d=\"M98.5 129h0.0\"/><g class=\"terminal\">\n",
       "<path d=\"M70.0 129h0.0\"/><path d=\"M98.5 129h0.0\"/><rect height=\"22\" rx=\"10\" ry=\"10\" width=\"28.5\" x=\"70.0\" y=\"118\"/><text x=\"84.25\" y=\"133\">d</text></g></g><path d=\"M98.5 129a10 10 0 0 0 10 -10v-10a10 10 0 0 1 10 -10\"/><path d=\"M50.0 99a10 10 0 0 1 10 10v40a10 10 0 0 0 10 10\"/><g>\n",
       "<path d=\"M70.0 159h0.0\"/><path d=\"M98.5 159h0.0\"/><g class=\"terminal\">\n",
       "<path d=\"M70.0 159h0.0\"/><path d=\"M98.5 159h0.0\"/><rect height=\"22\" rx=\"10\" ry=\"10\" width=\"28.5\" x=\"70.0\" y=\"148\"/><text x=\"84.25\" y=\"163\">e</text></g></g><path d=\"M98.5 159a10 10 0 0 0 10 -10v-40a10 10 0 0 1 10 -10\"/></g><path d=\"M118.5 99a10 10 0 0 1 10 10v59a10 10 0 0 0 10 10\"/><path d=\"M118.5 20a10 10 0 0 1 10 10v59a10 10 0 0 0 10 10\"/><g>\n",
       "<path d=\"M138.5 99h0.0\"/><path d=\"M207.0 99h0.0\"/><path d=\"M138.5 99a10 10 0 0 0 10 -10v-10a10 10 0 0 1 10 -10\"/><g>\n",
       "<path d=\"M158.5 69h0.0\"/><path d=\"M187.0 69h0.0\"/><g class=\"terminal\">\n",
       "<path d=\"M158.5 69h0.0\"/><path d=\"M187.0 69h0.0\"/><rect height=\"22\" rx=\"10\" ry=\"10\" width=\"28.5\" x=\"158.5\" y=\"58\"/><text x=\"172.75\" y=\"73\">g</text></g></g><path d=\"M187.0 69a10 10 0 0 1 10 10v10a10 10 0 0 0 10 10\"/><path d=\"M138.5 99a10 10 0 0 0 10 -10v-40a10 10 0 0 1 10 -10\"/><g>\n",
       "<path d=\"M158.5 39h0.0\"/><path d=\"M187.0 39h0.0\"/><g class=\"terminal\">\n",
       "<path d=\"M158.5 39h0.0\"/><path d=\"M187.0 39h0.0\"/><rect height=\"22\" rx=\"10\" ry=\"10\" width=\"28.5\" x=\"158.5\" y=\"28\"/><text x=\"172.75\" y=\"43\">f</text></g></g><path d=\"M187.0 39a10 10 0 0 1 10 10v40a10 10 0 0 0 10 10\"/><path d=\"M138.5 99h20\"/><g>\n",
       "<path d=\"M158.5 99h0.0\"/><path d=\"M187.0 99h0.0\"/><g class=\"terminal\">\n",
       "<path d=\"M158.5 99h0.0\"/><path d=\"M187.0 99h0.0\"/><rect height=\"22\" rx=\"10\" ry=\"10\" width=\"28.5\" x=\"158.5\" y=\"88\"/><text x=\"172.75\" y=\"103\">h</text></g></g><path d=\"M187.0 99h20\"/><path d=\"M138.5 99a10 10 0 0 1 10 10v10a10 10 0 0 0 10 10\"/><g>\n",
       "<path d=\"M158.5 129h0.0\"/><path d=\"M187.0 129h0.0\"/><g class=\"terminal\">\n",
       "<path d=\"M158.5 129h0.0\"/><path d=\"M187.0 129h0.0\"/><rect height=\"22\" rx=\"10\" ry=\"10\" width=\"28.5\" x=\"158.5\" y=\"118\"/><text x=\"172.75\" y=\"133\">i</text></g></g><path d=\"M187.0 129a10 10 0 0 0 10 -10v-10a10 10 0 0 1 10 -10\"/><path d=\"M138.5 99a10 10 0 0 1 10 10v40a10 10 0 0 0 10 10\"/><g>\n",
       "<path d=\"M158.5 159h0.0\"/><path d=\"M187.0 159h0.0\"/><g class=\"terminal\">\n",
       "<path d=\"M158.5 159h0.0\"/><path d=\"M187.0 159h0.0\"/><rect height=\"22\" rx=\"10\" ry=\"10\" width=\"28.5\" x=\"158.5\" y=\"148\"/><text x=\"172.75\" y=\"163\">j</text></g></g><path d=\"M187.0 159a10 10 0 0 0 10 -10v-40a10 10 0 0 1 10 -10\"/></g><path d=\"M207.0 99a10 10 0 0 1 10 10v59a10 10 0 0 0 10 10\"/><path d=\"M207.0 20a10 10 0 0 1 10 10v59a10 10 0 0 0 10 10\"/><g>\n",
       "<path d=\"M227.0 99h0.0\"/><path d=\"M295.5 99h0.0\"/><path d=\"M227.0 99a10 10 0 0 0 10 -10v-10a10 10 0 0 1 10 -10\"/><g>\n",
       "<path d=\"M247.0 69h0.0\"/><path d=\"M275.5 69h0.0\"/><g class=\"terminal\">\n",
       "<path d=\"M247.0 69h0.0\"/><path d=\"M275.5 69h0.0\"/><rect height=\"22\" rx=\"10\" ry=\"10\" width=\"28.5\" x=\"247.0\" y=\"58\"/><text x=\"261.25\" y=\"73\">l</text></g></g><path d=\"M275.5 69a10 10 0 0 1 10 10v10a10 10 0 0 0 10 10\"/><path d=\"M227.0 99a10 10 0 0 0 10 -10v-40a10 10 0 0 1 10 -10\"/><g>\n",
       "<path d=\"M247.0 39h0.0\"/><path d=\"M275.5 39h0.0\"/><g class=\"terminal\">\n",
       "<path d=\"M247.0 39h0.0\"/><path d=\"M275.5 39h0.0\"/><rect height=\"22\" rx=\"10\" ry=\"10\" width=\"28.5\" x=\"247.0\" y=\"28\"/><text x=\"261.25\" y=\"43\">k</text></g></g><path d=\"M275.5 39a10 10 0 0 1 10 10v40a10 10 0 0 0 10 10\"/><path d=\"M227.0 99h20\"/><g>\n",
       "<path d=\"M247.0 99h0.0\"/><path d=\"M275.5 99h0.0\"/><g class=\"terminal\">\n",
       "<path d=\"M247.0 99h0.0\"/><path d=\"M275.5 99h0.0\"/><rect height=\"22\" rx=\"10\" ry=\"10\" width=\"28.5\" x=\"247.0\" y=\"88\"/><text x=\"261.25\" y=\"103\">m</text></g></g><path d=\"M275.5 99h20\"/><path d=\"M227.0 99a10 10 0 0 1 10 10v10a10 10 0 0 0 10 10\"/><g>\n",
       "<path d=\"M247.0 129h0.0\"/><path d=\"M275.5 129h0.0\"/><g class=\"terminal\">\n",
       "<path d=\"M247.0 129h0.0\"/><path d=\"M275.5 129h0.0\"/><rect height=\"22\" rx=\"10\" ry=\"10\" width=\"28.5\" x=\"247.0\" y=\"118\"/><text x=\"261.25\" y=\"133\">n</text></g></g><path d=\"M275.5 129a10 10 0 0 0 10 -10v-10a10 10 0 0 1 10 -10\"/><path d=\"M227.0 99a10 10 0 0 1 10 10v40a10 10 0 0 0 10 10\"/><g>\n",
       "<path d=\"M247.0 159h0.0\"/><path d=\"M275.5 159h0.0\"/><g class=\"terminal\">\n",
       "<path d=\"M247.0 159h0.0\"/><path d=\"M275.5 159h0.0\"/><rect height=\"22\" rx=\"10\" ry=\"10\" width=\"28.5\" x=\"247.0\" y=\"148\"/><text x=\"261.25\" y=\"163\">o</text></g></g><path d=\"M275.5 159a10 10 0 0 0 10 -10v-40a10 10 0 0 1 10 -10\"/></g><path d=\"M295.5 99a10 10 0 0 1 10 10v59a10 10 0 0 0 10 10\"/><path d=\"M295.5 20a10 10 0 0 1 10 10v59a10 10 0 0 0 10 10\"/><g>\n",
       "<path d=\"M315.5 99h0.0\"/><path d=\"M384.0 99h0.0\"/><path d=\"M315.5 99a10 10 0 0 0 10 -10v-10a10 10 0 0 1 10 -10\"/><g>\n",
       "<path d=\"M335.5 69h0.0\"/><path d=\"M364.0 69h0.0\"/><g class=\"terminal\">\n",
       "<path d=\"M335.5 69h0.0\"/><path d=\"M364.0 69h0.0\"/><rect height=\"22\" rx=\"10\" ry=\"10\" width=\"28.5\" x=\"335.5\" y=\"58\"/><text x=\"349.75\" y=\"73\">q</text></g></g><path d=\"M364.0 69a10 10 0 0 1 10 10v10a10 10 0 0 0 10 10\"/><path d=\"M315.5 99a10 10 0 0 0 10 -10v-40a10 10 0 0 1 10 -10\"/><g>\n",
       "<path d=\"M335.5 39h0.0\"/><path d=\"M364.0 39h0.0\"/><g class=\"terminal\">\n",
       "<path d=\"M335.5 39h0.0\"/><path d=\"M364.0 39h0.0\"/><rect height=\"22\" rx=\"10\" ry=\"10\" width=\"28.5\" x=\"335.5\" y=\"28\"/><text x=\"349.75\" y=\"43\">p</text></g></g><path d=\"M364.0 39a10 10 0 0 1 10 10v40a10 10 0 0 0 10 10\"/><path d=\"M315.5 99h20\"/><g>\n",
       "<path d=\"M335.5 99h0.0\"/><path d=\"M364.0 99h0.0\"/><g class=\"terminal\">\n",
       "<path d=\"M335.5 99h0.0\"/><path d=\"M364.0 99h0.0\"/><rect height=\"22\" rx=\"10\" ry=\"10\" width=\"28.5\" x=\"335.5\" y=\"88\"/><text x=\"349.75\" y=\"103\">r</text></g></g><path d=\"M364.0 99h20\"/><path d=\"M315.5 99a10 10 0 0 1 10 10v10a10 10 0 0 0 10 10\"/><g>\n",
       "<path d=\"M335.5 129h0.0\"/><path d=\"M364.0 129h0.0\"/><g class=\"terminal\">\n",
       "<path d=\"M335.5 129h0.0\"/><path d=\"M364.0 129h0.0\"/><rect height=\"22\" rx=\"10\" ry=\"10\" width=\"28.5\" x=\"335.5\" y=\"118\"/><text x=\"349.75\" y=\"133\">s</text></g></g><path d=\"M364.0 129a10 10 0 0 0 10 -10v-10a10 10 0 0 1 10 -10\"/><path d=\"M315.5 99a10 10 0 0 1 10 10v40a10 10 0 0 0 10 10\"/><g>\n",
       "<path d=\"M335.5 159h0.0\"/><path d=\"M364.0 159h0.0\"/><g class=\"terminal\">\n",
       "<path d=\"M335.5 159h0.0\"/><path d=\"M364.0 159h0.0\"/><rect height=\"22\" rx=\"10\" ry=\"10\" width=\"28.5\" x=\"335.5\" y=\"148\"/><text x=\"349.75\" y=\"163\">t</text></g></g><path d=\"M364.0 159a10 10 0 0 0 10 -10v-40a10 10 0 0 1 10 -10\"/></g><path d=\"M384.0 99a10 10 0 0 1 10 10v59a10 10 0 0 0 10 10\"/><path d=\"M384.0 20a10 10 0 0 1 10 10v59a10 10 0 0 0 10 10\"/><g>\n",
       "<path d=\"M404.0 99h0.0\"/><path d=\"M472.5 99h0.0\"/><path d=\"M404.0 99a10 10 0 0 0 10 -10v-10a10 10 0 0 1 10 -10\"/><g>\n",
       "<path d=\"M424.0 69h0.0\"/><path d=\"M452.5 69h0.0\"/><g class=\"terminal\">\n",
       "<path d=\"M424.0 69h0.0\"/><path d=\"M452.5 69h0.0\"/><rect height=\"22\" rx=\"10\" ry=\"10\" width=\"28.5\" x=\"424.0\" y=\"58\"/><text x=\"438.25\" y=\"73\">v</text></g></g><path d=\"M452.5 69a10 10 0 0 1 10 10v10a10 10 0 0 0 10 10\"/><path d=\"M404.0 99a10 10 0 0 0 10 -10v-40a10 10 0 0 1 10 -10\"/><g>\n",
       "<path d=\"M424.0 39h0.0\"/><path d=\"M452.5 39h0.0\"/><g class=\"terminal\">\n",
       "<path d=\"M424.0 39h0.0\"/><path d=\"M452.5 39h0.0\"/><rect height=\"22\" rx=\"10\" ry=\"10\" width=\"28.5\" x=\"424.0\" y=\"28\"/><text x=\"438.25\" y=\"43\">u</text></g></g><path d=\"M452.5 39a10 10 0 0 1 10 10v40a10 10 0 0 0 10 10\"/><path d=\"M404.0 99h20\"/><g>\n",
       "<path d=\"M424.0 99h0.0\"/><path d=\"M452.5 99h0.0\"/><g class=\"terminal\">\n",
       "<path d=\"M424.0 99h0.0\"/><path d=\"M452.5 99h0.0\"/><rect height=\"22\" rx=\"10\" ry=\"10\" width=\"28.5\" x=\"424.0\" y=\"88\"/><text x=\"438.25\" y=\"103\">w</text></g></g><path d=\"M452.5 99h20\"/><path d=\"M404.0 99a10 10 0 0 1 10 10v10a10 10 0 0 0 10 10\"/><g>\n",
       "<path d=\"M424.0 129h0.0\"/><path d=\"M452.5 129h0.0\"/><g class=\"terminal\">\n",
       "<path d=\"M424.0 129h0.0\"/><path d=\"M452.5 129h0.0\"/><rect height=\"22\" rx=\"10\" ry=\"10\" width=\"28.5\" x=\"424.0\" y=\"118\"/><text x=\"438.25\" y=\"133\">x</text></g></g><path d=\"M452.5 129a10 10 0 0 0 10 -10v-10a10 10 0 0 1 10 -10\"/><path d=\"M404.0 99a10 10 0 0 1 10 10v40a10 10 0 0 0 10 10\"/><g>\n",
       "<path d=\"M424.0 159h0.0\"/><path d=\"M452.5 159h0.0\"/><g class=\"terminal\">\n",
       "<path d=\"M424.0 159h0.0\"/><path d=\"M452.5 159h0.0\"/><rect height=\"22\" rx=\"10\" ry=\"10\" width=\"28.5\" x=\"424.0\" y=\"148\"/><text x=\"438.25\" y=\"163\">y</text></g></g><path d=\"M452.5 159a10 10 0 0 0 10 -10v-40a10 10 0 0 1 10 -10\"/></g><path d=\"M472.5 99a10 10 0 0 1 10 10v59a10 10 0 0 0 10 10\"/><path d=\"M472.5 20a10 10 0 0 1 10 10v59a10 10 0 0 0 10 10\"/><g>\n",
       "<path d=\"M492.5 99h0.0\"/><path d=\"M561.0 99h0.0\"/><path d=\"M492.5 99h20\"/><g>\n",
       "<path d=\"M512.5 99h0.0\"/><path d=\"M541.0 99h0.0\"/><g class=\"terminal\">\n",
       "<path d=\"M512.5 99h0.0\"/><path d=\"M541.0 99h0.0\"/><rect height=\"22\" rx=\"10\" ry=\"10\" width=\"28.5\" x=\"512.5\" y=\"88\"/><text x=\"526.75\" y=\"103\">z</text></g></g><path d=\"M541.0 99h20\"/></g><path d=\"M561.0 99h10\"/></g><path d=\"M 571.0 99 h 20 m -10 -10 v 20 m 10 -20 v 20\"/></g></svg>"
      ],
      "text/plain": [
       "<IPython.core.display.SVG object>"
      ]
     },
     "metadata": {},
     "output_type": "display_data"
    }
   ],
   "source": [
    "# ignore\n",
    "syntax_diagram(XML_GRAMMAR)"
   ]
  },
  {
   "cell_type": "markdown",
   "id": "7edc51ce",
   "metadata": {
    "slideshow": {
     "slide_type": "subslide"
    }
   },
   "source": [
    "The problem becomes evident when we produce inputs from the grammar: The `<id>` elements in `<open-tag>` and `<close-tag>` do not match."
   ]
  },
  {
   "cell_type": "code",
   "execution_count": 66,
   "id": "cbf25c83",
   "metadata": {
    "execution": {
     "iopub.execute_input": "2023-11-12T12:45:59.409061Z",
     "iopub.status.busy": "2023-11-12T12:45:59.408915Z",
     "iopub.status.idle": "2023-11-12T12:45:59.413757Z",
     "shell.execute_reply": "2023-11-12T12:45:59.413515Z"
    },
    "slideshow": {
     "slide_type": "fragment"
    }
   },
   "outputs": [
    {
     "data": {
      "text/plain": [
       "'<xdps><s><x><f>Text</g></ka></k></hk>'"
      ]
     },
     "execution_count": 66,
     "metadata": {},
     "output_type": "execute_result"
    }
   ],
   "source": [
    "fuzzer = GrammarFuzzer(XML_GRAMMAR)\n",
    "fuzzer.fuzz()"
   ]
  },
  {
   "cell_type": "markdown",
   "id": "a7afbb85",
   "metadata": {
    "slideshow": {
     "slide_type": "fragment"
    }
   },
   "source": [
    "If we want the tag IDs to match, we need to come up with a _finite_ set of tags (as in, say, HTML); then we can extend the grammar with one rule for each tag - `<body>...</body>`, `<p>...</p>`, `<strong>...</strong>`, and so on.\n",
    "For an _infinite_ set of tags, though, as in our grammar, expressing that the two tag IDs must match is not possible in a context-free grammar."
   ]
  },
  {
   "cell_type": "markdown",
   "id": "f272db66",
   "metadata": {
    "slideshow": {
     "slide_type": "fragment"
    }
   },
   "source": [
    "With ISLa, however, constraining the grammar is easy.\n",
    "All we need is the rule that constrains the `<xml-tree>`:"
   ]
  },
  {
   "cell_type": "code",
   "execution_count": 67,
   "id": "81218746",
   "metadata": {
    "execution": {
     "iopub.execute_input": "2023-11-12T12:45:59.415493Z",
     "iopub.status.busy": "2023-11-12T12:45:59.415349Z",
     "iopub.status.idle": "2023-11-12T12:46:00.197852Z",
     "shell.execute_reply": "2023-11-12T12:46:00.197546Z"
    },
    "slideshow": {
     "slide_type": "subslide"
    }
   },
   "outputs": [
    {
     "name": "stdout",
     "output_type": "stream",
     "text": [
      "<p>Text</p>\n",
      "<p><p>Text</p></p>\n",
      "<p><p><a>Text</a></p></p>\n"
     ]
    }
   ],
   "source": [
    "solver = ISLaSolver(XML_GRAMMAR, \n",
    "            '''\n",
    "            <xml-tree>.<open-tag>.<id> = <xml-tree>.<close-tag>.<id>\n",
    "            ''', max_number_smt_instantiations=1)\n",
    "\n",
    "for _ in range(3):\n",
    "    print(solver.solve())"
   ]
  },
  {
   "cell_type": "markdown",
   "id": "9ab2abc5-197a-4281-be7d-8f69fa98ad5b",
   "metadata": {
    "slideshow": {
     "slide_type": "fragment"
    }
   },
   "source": [
    "and we see that the `<id>` tags now indeed match each other."
   ]
  },
  {
   "cell_type": "markdown",
   "id": "7e265eed-bf23-40b2-ab1f-c43bf81a9499",
   "metadata": {
    "slideshow": {
     "slide_type": "subslide"
    }
   },
   "source": [
    "### Excursion: Solver Configuration Parameters"
   ]
  },
  {
   "cell_type": "markdown",
   "id": "51cb2673-4df8-497d-a6dc-6f0e1fa487e1",
   "metadata": {
    "slideshow": {
     "slide_type": "fragment"
    }
   },
   "source": [
    "The configuration parameter `max_number_smt_instantiations` we passed to the `ISLaSolver` object above limits the number of calls to ISLa's underlying SMT solver. Generally, higher numbers lead to more inputs generated per time. Many of those will look structurally similar, though. If we aim for structurally diverse inputs and do not care about, e.g., the names of tags, it can make sense to choose a lower value for this parameter. This is what happens with `max_number_smt_instantiations=10`, which is the current default:"
   ]
  },
  {
   "cell_type": "code",
   "execution_count": 68,
   "id": "716cfdfb-bcb2-4a7a-b3d9-9f6d983a5259",
   "metadata": {
    "execution": {
     "iopub.execute_input": "2023-11-12T12:46:00.199734Z",
     "iopub.status.busy": "2023-11-12T12:46:00.199602Z",
     "iopub.status.idle": "2023-11-12T12:46:00.964427Z",
     "shell.execute_reply": "2023-11-12T12:46:00.964040Z"
    },
    "slideshow": {
     "slide_type": "subslide"
    }
   },
   "outputs": [
    {
     "name": "stdout",
     "output_type": "stream",
     "text": [
      "<p>Text</p>\n",
      "<h>Text</h>\n",
      "<c>Text</c>\n"
     ]
    }
   ],
   "source": [
    "solver = ISLaSolver(XML_GRAMMAR, \n",
    "            '''\n",
    "            <xml-tree>.<open-tag>.<id> = <xml-tree>.<close-tag>.<id>\n",
    "            ''', max_number_smt_instantiations=10)\n",
    "\n",
    "for _ in range(3):\n",
    "    print(solver.solve())"
   ]
  },
  {
   "cell_type": "markdown",
   "id": "ea992ebf-5d80-4bca-9ee2-c8377fd755d7",
   "metadata": {
    "slideshow": {
     "slide_type": "subslide"
    }
   },
   "source": [
    "The parameter `max_number_free_instantiations` serves a similar purpose: ISla randomly instantiates nonterminal symbols whose values are not restricted by a constraint. It chooses&mdash;surprise!&mdash;at most `max_number_free_instantiations` such random instantiations.\n",
    "\n",
    "Other configuration parameters of interest are `structural_predicates` and `semantic_predicates`, which let you extend the ISLa language by passing custom structural and semantic predicates to the solver. You can use all the predicates in these sets inside the ISLa constraint to solve. Per default, the semantic predicate `count(in_tree, NEEDLE, NUM)` and the following structural predicates are available:\n",
    "\n",
    "- `after(node_1, node_2)`\n",
    "- `before(node_1, node_2)`\n",
    "- `consecutive(node_1, node_2)`\n",
    "- `count(in_tree, NEEDLE, NUM)`\n",
    "- `different_position(node_1, node_2)`\n",
    "- `direct_child(node_1, node_2)`\n",
    "- `inside(node_1, node_2)`\n",
    "- `level(PRED, NONTERMINAL, node_1, node_2)`\n",
    "- `nth(N, node_1, node_2)`\n",
    "- `same_position(node_1, node_2)`"
   ]
  },
  {
   "cell_type": "markdown",
   "id": "1ec88c69-5b74-4205-bd67-8f28efdecc7e",
   "metadata": {
    "slideshow": {
     "slide_type": "subslide"
    }
   },
   "source": [
    "### End of Excursion"
   ]
  },
  {
   "cell_type": "markdown",
   "id": "353c90ea",
   "metadata": {
    "slideshow": {
     "slide_type": "fragment"
    }
   },
   "source": [
    "In contrast to the \"input generator\" solution in the [chapter on generators](GeneratorGrammarFuzzer), our constraint-based solution is purely declarative - and can also be used to parse and check inputs.\n",
    "Plus, of course, we can easily add more constraints:"
   ]
  },
  {
   "cell_type": "code",
   "execution_count": 69,
   "id": "abd57a96",
   "metadata": {
    "execution": {
     "iopub.execute_input": "2023-11-12T12:46:00.966243Z",
     "iopub.status.busy": "2023-11-12T12:46:00.966099Z",
     "iopub.status.idle": "2023-11-12T12:46:01.737467Z",
     "shell.execute_reply": "2023-11-12T12:46:01.737145Z"
    },
    "slideshow": {
     "slide_type": "subslide"
    }
   },
   "outputs": [
    {
     "name": "stdout",
     "output_type": "stream",
     "text": [
      "<ppnphklftkp>Text</ppnphklftkp>\n",
      "<ppnphklftkp><ppmxskqktdh>Text</ppmxskqktdh></ppnphklftkp>\n",
      "<ppnphklftkp><ppmxskqktdh><ppnxkclkahk>Text</ppnxkclkahk></ppmxskqktdh></ppnphklftkp>\n"
     ]
    }
   ],
   "source": [
    "solver = ISLaSolver(XML_GRAMMAR, \n",
    "            '''\n",
    "            <xml-tree>.<open-tag>.<id> = <xml-tree>.<close-tag>.<id>\n",
    "            and\n",
    "            str.len(<id>) > 10\n",
    "            ''', max_number_smt_instantiations=1)\n",
    "\n",
    "for _ in range(3):\n",
    "    print(solver.solve())"
   ]
  },
  {
   "cell_type": "markdown",
   "id": "acc5c358",
   "metadata": {
    "slideshow": {
     "slide_type": "subslide"
    }
   },
   "source": [
    "### Definitions and Usages in Programming Languages\n",
    "\n",
    "When testing compilers with generated program code, one often encounters the problem that before _using_ an identifier, one has to _declare_ it first - specifying its type, some initial value, and more."
   ]
  },
  {
   "cell_type": "markdown",
   "id": "69bb6e09",
   "metadata": {
    "slideshow": {
     "slide_type": "fragment"
    }
   },
   "source": [
    "This problem is easily illustrated in the following grammar, which produces _sequences of assignments_.\n",
    "Variable names consist of a single lowercase letter; values can only be digits; assignments are separated by semicolons."
   ]
  },
  {
   "cell_type": "code",
   "execution_count": 70,
   "id": "051c04c4",
   "metadata": {
    "execution": {
     "iopub.execute_input": "2023-11-12T12:46:01.739516Z",
     "iopub.status.busy": "2023-11-12T12:46:01.739368Z",
     "iopub.status.idle": "2023-11-12T12:46:01.741626Z",
     "shell.execute_reply": "2023-11-12T12:46:01.741329Z"
    },
    "slideshow": {
     "slide_type": "subslide"
    }
   },
   "outputs": [],
   "source": [
    "LANG_GRAMMAR: Grammar = {\n",
    "    \"<start>\":\n",
    "        [\"<stmt>\"],\n",
    "    \"<stmt>\":\n",
    "        [\"<assgn>\", \"<assgn>; <stmt>\"],\n",
    "    \"<assgn>\":\n",
    "        [\"<lhs> := <rhs>\"],\n",
    "    \"<lhs>\":\n",
    "        [\"<var>\"],\n",
    "    \"<rhs>\":\n",
    "        [\"<var>\", \"<digit>\"],\n",
    "    \"<var>\": list(string.ascii_lowercase),\n",
    "    \"<digit>\": list(string.digits)\n",
    "}"
   ]
  },
  {
   "cell_type": "code",
   "execution_count": 71,
   "id": "0e7267b1",
   "metadata": {
    "execution": {
     "iopub.execute_input": "2023-11-12T12:46:01.743377Z",
     "iopub.status.busy": "2023-11-12T12:46:01.743239Z",
     "iopub.status.idle": "2023-11-12T12:46:01.745029Z",
     "shell.execute_reply": "2023-11-12T12:46:01.744683Z"
    },
    "slideshow": {
     "slide_type": "fragment"
    }
   },
   "outputs": [],
   "source": [
    "assert is_valid_grammar(LANG_GRAMMAR)"
   ]
  },
  {
   "cell_type": "code",
   "execution_count": 72,
   "id": "c8e26d19",
   "metadata": {
    "execution": {
     "iopub.execute_input": "2023-11-12T12:46:01.746574Z",
     "iopub.status.busy": "2023-11-12T12:46:01.746447Z",
     "iopub.status.idle": "2023-11-12T12:46:01.761343Z",
     "shell.execute_reply": "2023-11-12T12:46:01.761003Z"
    },
    "slideshow": {
     "slide_type": "subslide"
    }
   },
   "outputs": [
    {
     "name": "stdout",
     "output_type": "stream",
     "text": [
      "start\n"
     ]
    },
    {
     "data": {
      "image/svg+xml": [
       "<svg xmlns=\"http://www.w3.org/2000/svg\" class=\"railroad-diagram\" height=\"62\" viewBox=\"0 0 174.0 62\" width=\"174.0\">\n",
       "<g transform=\"translate(.5 .5)\">\n",
       "<style>/* <![CDATA[ */\n",
       "    svg.railroad-diagram {\n",
       "    }\n",
       "    svg.railroad-diagram path {\n",
       "        stroke-width:3;\n",
       "        stroke:black;\n",
       "        fill:white;\n",
       "    }\n",
       "    svg.railroad-diagram text {\n",
       "        font:14px \"Fira Mono\", monospace;\n",
       "        text-anchor:middle;\n",
       "    }\n",
       "    svg.railroad-diagram text.label{\n",
       "        text-anchor:start;\n",
       "    }\n",
       "    svg.railroad-diagram text.comment{\n",
       "        font:italic 12px \"Fira Mono\", monospace;\n",
       "    }\n",
       "    svg.railroad-diagram rect{\n",
       "        stroke-width:2;\n",
       "        stroke:black;\n",
       "        fill:mistyrose;\n",
       "    }\n",
       "\n",
       "/* ]]> */\n",
       "</style><g>\n",
       "<path d=\"M20 21v20m10 -20v20m-10 -10h20\"/></g><g>\n",
       "<path d=\"M40 31h0.0\"/><path d=\"M134.0 31h0.0\"/><path d=\"M40.0 31h20\"/><g>\n",
       "<path d=\"M60.0 31h0.0\"/><path d=\"M114.0 31h0.0\"/><g class=\"non-terminal\">\n",
       "<path d=\"M60.0 31h0.0\"/><path d=\"M114.0 31h0.0\"/><rect height=\"22\" width=\"54.0\" x=\"60.0\" y=\"20\"/><text x=\"87.0\" y=\"35\">stmt</text></g></g><path d=\"M114.0 31h20\"/></g><path d=\"M 134.0 31 h 20 m -10 -10 v 20 m 10 -20 v 20\"/></g></svg>"
      ],
      "text/plain": [
       "<IPython.core.display.SVG object>"
      ]
     },
     "metadata": {},
     "output_type": "display_data"
    },
    {
     "name": "stdout",
     "output_type": "stream",
     "text": [
      "stmt\n"
     ]
    },
    {
     "data": {
      "image/svg+xml": [
       "<svg xmlns=\"http://www.w3.org/2000/svg\" class=\"railroad-diagram\" height=\"92\" viewBox=\"0 0 313.5 92\" width=\"313.5\">\n",
       "<g transform=\"translate(.5 .5)\">\n",
       "<style>/* <![CDATA[ */\n",
       "    svg.railroad-diagram {\n",
       "    }\n",
       "    svg.railroad-diagram path {\n",
       "        stroke-width:3;\n",
       "        stroke:black;\n",
       "        fill:white;\n",
       "    }\n",
       "    svg.railroad-diagram text {\n",
       "        font:14px \"Fira Mono\", monospace;\n",
       "        text-anchor:middle;\n",
       "    }\n",
       "    svg.railroad-diagram text.label{\n",
       "        text-anchor:start;\n",
       "    }\n",
       "    svg.railroad-diagram text.comment{\n",
       "        font:italic 12px \"Fira Mono\", monospace;\n",
       "    }\n",
       "    svg.railroad-diagram rect{\n",
       "        stroke-width:2;\n",
       "        stroke:black;\n",
       "        fill:mistyrose;\n",
       "    }\n",
       "\n",
       "/* ]]> */\n",
       "</style><g>\n",
       "<path d=\"M20 51v20m10 -20v20m-10 -10h20\"/></g><g>\n",
       "<path d=\"M40 61h0.0\"/><path d=\"M273.5 61h0.0\"/><path d=\"M40.0 61a10 10 0 0 0 10 -10v-10a10 10 0 0 1 10 -10\"/><g>\n",
       "<path d=\"M60.0 31h65.5\"/><path d=\"M188.0 31h65.5\"/><g class=\"non-terminal\">\n",
       "<path d=\"M125.5 31h0.0\"/><path d=\"M188.0 31h0.0\"/><rect height=\"22\" width=\"62.5\" x=\"125.5\" y=\"20\"/><text x=\"156.75\" y=\"35\">assgn</text></g></g><path d=\"M253.5 31a10 10 0 0 1 10 10v10a10 10 0 0 0 10 10\"/><path d=\"M40.0 61h20\"/><g>\n",
       "<path d=\"M60.0 61h0.0\"/><path d=\"M253.5 61h0.0\"/><g class=\"non-terminal\">\n",
       "<path d=\"M60.0 61h0.0\"/><path d=\"M122.5 61h0.0\"/><rect height=\"22\" width=\"62.5\" x=\"60.0\" y=\"50\"/><text x=\"91.25\" y=\"65\">assgn</text></g><path d=\"M122.5 61h10\"/><path d=\"M132.5 61h10\"/><g class=\"terminal\">\n",
       "<path d=\"M142.5 61h0.0\"/><path d=\"M179.5 61h0.0\"/><rect height=\"22\" rx=\"10\" ry=\"10\" width=\"37.0\" x=\"142.5\" y=\"50\"/><text x=\"161.0\" y=\"65\">; </text></g><path d=\"M179.5 61h10\"/><path d=\"M189.5 61h10\"/><g class=\"non-terminal\">\n",
       "<path d=\"M199.5 61h0.0\"/><path d=\"M253.5 61h0.0\"/><rect height=\"22\" width=\"54.0\" x=\"199.5\" y=\"50\"/><text x=\"226.5\" y=\"65\">stmt</text></g></g><path d=\"M253.5 61h20\"/></g><path d=\"M 273.5 61 h 20 m -10 -10 v 20 m 10 -20 v 20\"/></g></svg>"
      ],
      "text/plain": [
       "<IPython.core.display.SVG object>"
      ]
     },
     "metadata": {},
     "output_type": "display_data"
    },
    {
     "name": "stdout",
     "output_type": "stream",
     "text": [
      "assgn\n"
     ]
    },
    {
     "data": {
      "image/svg+xml": [
       "<svg xmlns=\"http://www.w3.org/2000/svg\" class=\"railroad-diagram\" height=\"62\" viewBox=\"0 0 305.0 62\" width=\"305.0\">\n",
       "<g transform=\"translate(.5 .5)\">\n",
       "<style>/* <![CDATA[ */\n",
       "    svg.railroad-diagram {\n",
       "    }\n",
       "    svg.railroad-diagram path {\n",
       "        stroke-width:3;\n",
       "        stroke:black;\n",
       "        fill:white;\n",
       "    }\n",
       "    svg.railroad-diagram text {\n",
       "        font:14px \"Fira Mono\", monospace;\n",
       "        text-anchor:middle;\n",
       "    }\n",
       "    svg.railroad-diagram text.label{\n",
       "        text-anchor:start;\n",
       "    }\n",
       "    svg.railroad-diagram text.comment{\n",
       "        font:italic 12px \"Fira Mono\", monospace;\n",
       "    }\n",
       "    svg.railroad-diagram rect{\n",
       "        stroke-width:2;\n",
       "        stroke:black;\n",
       "        fill:mistyrose;\n",
       "    }\n",
       "\n",
       "/* ]]> */\n",
       "</style><g>\n",
       "<path d=\"M20 21v20m10 -20v20m-10 -10h20\"/></g><g>\n",
       "<path d=\"M40 31h0.0\"/><path d=\"M265.0 31h0.0\"/><path d=\"M40.0 31h20\"/><g>\n",
       "<path d=\"M60.0 31h0.0\"/><path d=\"M245.0 31h0.0\"/><g class=\"non-terminal\">\n",
       "<path d=\"M60.0 31h0.0\"/><path d=\"M105.5 31h0.0\"/><rect height=\"22\" width=\"45.5\" x=\"60.0\" y=\"20\"/><text x=\"82.75\" y=\"35\">lhs</text></g><path d=\"M105.5 31h10\"/><path d=\"M115.5 31h10\"/><g class=\"terminal\">\n",
       "<path d=\"M125.5 31h0.0\"/><path d=\"M179.5 31h0.0\"/><rect height=\"22\" rx=\"10\" ry=\"10\" width=\"54.0\" x=\"125.5\" y=\"20\"/><text x=\"152.5\" y=\"35\"> := </text></g><path d=\"M179.5 31h10\"/><path d=\"M189.5 31h10\"/><g class=\"non-terminal\">\n",
       "<path d=\"M199.5 31h0.0\"/><path d=\"M245.0 31h0.0\"/><rect height=\"22\" width=\"45.5\" x=\"199.5\" y=\"20\"/><text x=\"222.25\" y=\"35\">rhs</text></g></g><path d=\"M245.0 31h20\"/></g><path d=\"M 265.0 31 h 20 m -10 -10 v 20 m 10 -20 v 20\"/></g></svg>"
      ],
      "text/plain": [
       "<IPython.core.display.SVG object>"
      ]
     },
     "metadata": {},
     "output_type": "display_data"
    },
    {
     "name": "stdout",
     "output_type": "stream",
     "text": [
      "lhs\n"
     ]
    },
    {
     "data": {
      "image/svg+xml": [
       "<svg xmlns=\"http://www.w3.org/2000/svg\" class=\"railroad-diagram\" height=\"62\" viewBox=\"0 0 165.5 62\" width=\"165.5\">\n",
       "<g transform=\"translate(.5 .5)\">\n",
       "<style>/* <![CDATA[ */\n",
       "    svg.railroad-diagram {\n",
       "    }\n",
       "    svg.railroad-diagram path {\n",
       "        stroke-width:3;\n",
       "        stroke:black;\n",
       "        fill:white;\n",
       "    }\n",
       "    svg.railroad-diagram text {\n",
       "        font:14px \"Fira Mono\", monospace;\n",
       "        text-anchor:middle;\n",
       "    }\n",
       "    svg.railroad-diagram text.label{\n",
       "        text-anchor:start;\n",
       "    }\n",
       "    svg.railroad-diagram text.comment{\n",
       "        font:italic 12px \"Fira Mono\", monospace;\n",
       "    }\n",
       "    svg.railroad-diagram rect{\n",
       "        stroke-width:2;\n",
       "        stroke:black;\n",
       "        fill:mistyrose;\n",
       "    }\n",
       "\n",
       "/* ]]> */\n",
       "</style><g>\n",
       "<path d=\"M20 21v20m10 -20v20m-10 -10h20\"/></g><g>\n",
       "<path d=\"M40 31h0.0\"/><path d=\"M125.5 31h0.0\"/><path d=\"M40.0 31h20\"/><g>\n",
       "<path d=\"M60.0 31h0.0\"/><path d=\"M105.5 31h0.0\"/><g class=\"non-terminal\">\n",
       "<path d=\"M60.0 31h0.0\"/><path d=\"M105.5 31h0.0\"/><rect height=\"22\" width=\"45.5\" x=\"60.0\" y=\"20\"/><text x=\"82.75\" y=\"35\">var</text></g></g><path d=\"M105.5 31h20\"/></g><path d=\"M 125.5 31 h 20 m -10 -10 v 20 m 10 -20 v 20\"/></g></svg>"
      ],
      "text/plain": [
       "<IPython.core.display.SVG object>"
      ]
     },
     "metadata": {},
     "output_type": "display_data"
    },
    {
     "name": "stdout",
     "output_type": "stream",
     "text": [
      "rhs\n"
     ]
    },
    {
     "data": {
      "image/svg+xml": [
       "<svg xmlns=\"http://www.w3.org/2000/svg\" class=\"railroad-diagram\" height=\"92\" viewBox=\"0 0 182.5 92\" width=\"182.5\">\n",
       "<g transform=\"translate(.5 .5)\">\n",
       "<style>/* <![CDATA[ */\n",
       "    svg.railroad-diagram {\n",
       "    }\n",
       "    svg.railroad-diagram path {\n",
       "        stroke-width:3;\n",
       "        stroke:black;\n",
       "        fill:white;\n",
       "    }\n",
       "    svg.railroad-diagram text {\n",
       "        font:14px \"Fira Mono\", monospace;\n",
       "        text-anchor:middle;\n",
       "    }\n",
       "    svg.railroad-diagram text.label{\n",
       "        text-anchor:start;\n",
       "    }\n",
       "    svg.railroad-diagram text.comment{\n",
       "        font:italic 12px \"Fira Mono\", monospace;\n",
       "    }\n",
       "    svg.railroad-diagram rect{\n",
       "        stroke-width:2;\n",
       "        stroke:black;\n",
       "        fill:mistyrose;\n",
       "    }\n",
       "\n",
       "/* ]]> */\n",
       "</style><g>\n",
       "<path d=\"M20 51v20m10 -20v20m-10 -10h20\"/></g><g>\n",
       "<path d=\"M40 61h0.0\"/><path d=\"M142.5 61h0.0\"/><path d=\"M40.0 61a10 10 0 0 0 10 -10v-10a10 10 0 0 1 10 -10\"/><g>\n",
       "<path d=\"M60.0 31h8.5\"/><path d=\"M114.0 31h8.5\"/><g class=\"non-terminal\">\n",
       "<path d=\"M68.5 31h0.0\"/><path d=\"M114.0 31h0.0\"/><rect height=\"22\" width=\"45.5\" x=\"68.5\" y=\"20\"/><text x=\"91.25\" y=\"35\">var</text></g></g><path d=\"M122.5 31a10 10 0 0 1 10 10v10a10 10 0 0 0 10 10\"/><path d=\"M40.0 61h20\"/><g>\n",
       "<path d=\"M60.0 61h0.0\"/><path d=\"M122.5 61h0.0\"/><g class=\"non-terminal\">\n",
       "<path d=\"M60.0 61h0.0\"/><path d=\"M122.5 61h0.0\"/><rect height=\"22\" width=\"62.5\" x=\"60.0\" y=\"50\"/><text x=\"91.25\" y=\"65\">digit</text></g></g><path d=\"M122.5 61h20\"/></g><path d=\"M 142.5 61 h 20 m -10 -10 v 20 m 10 -20 v 20\"/></g></svg>"
      ],
      "text/plain": [
       "<IPython.core.display.SVG object>"
      ]
     },
     "metadata": {},
     "output_type": "display_data"
    },
    {
     "name": "stdout",
     "output_type": "stream",
     "text": [
      "var\n"
     ]
    },
    {
     "data": {
      "image/svg+xml": [
       "<svg xmlns=\"http://www.w3.org/2000/svg\" class=\"railroad-diagram\" height=\"198\" viewBox=\"0 0 611.0 198\" width=\"611.0\">\n",
       "<g transform=\"translate(.5 .5)\">\n",
       "<style>/* <![CDATA[ */\n",
       "    svg.railroad-diagram {\n",
       "    }\n",
       "    svg.railroad-diagram path {\n",
       "        stroke-width:3;\n",
       "        stroke:black;\n",
       "        fill:white;\n",
       "    }\n",
       "    svg.railroad-diagram text {\n",
       "        font:14px \"Fira Mono\", monospace;\n",
       "        text-anchor:middle;\n",
       "    }\n",
       "    svg.railroad-diagram text.label{\n",
       "        text-anchor:start;\n",
       "    }\n",
       "    svg.railroad-diagram text.comment{\n",
       "        font:italic 12px \"Fira Mono\", monospace;\n",
       "    }\n",
       "    svg.railroad-diagram rect{\n",
       "        stroke-width:2;\n",
       "        stroke:black;\n",
       "        fill:mistyrose;\n",
       "    }\n",
       "\n",
       "/* ]]> */\n",
       "</style><g>\n",
       "<path d=\"M20 89v20m10 -20v20m-10 -10h20\"/></g><g>\n",
       "<path d=\"M40 99h0.0\"/><path d=\"M571.0 99h0.0\"/><path d=\"M40.0 99a10 10 0 0 0 10 -10v-59a10 10 0 0 1 10 -10h412.5\"/><path d=\"M138.5 178h412.5a10 10 0 0 0 10 -10v-59a10 10 0 0 1 10 -10\"/><path d=\"M40.0 99h10\"/><g>\n",
       "<path d=\"M50.0 99h0.0\"/><path d=\"M118.5 99h0.0\"/><path d=\"M50.0 99a10 10 0 0 0 10 -10v-10a10 10 0 0 1 10 -10\"/><g>\n",
       "<path d=\"M70.0 69h0.0\"/><path d=\"M98.5 69h0.0\"/><g class=\"terminal\">\n",
       "<path d=\"M70.0 69h0.0\"/><path d=\"M98.5 69h0.0\"/><rect height=\"22\" rx=\"10\" ry=\"10\" width=\"28.5\" x=\"70.0\" y=\"58\"/><text x=\"84.25\" y=\"73\">b</text></g></g><path d=\"M98.5 69a10 10 0 0 1 10 10v10a10 10 0 0 0 10 10\"/><path d=\"M50.0 99a10 10 0 0 0 10 -10v-40a10 10 0 0 1 10 -10\"/><g>\n",
       "<path d=\"M70.0 39h0.0\"/><path d=\"M98.5 39h0.0\"/><g class=\"terminal\">\n",
       "<path d=\"M70.0 39h0.0\"/><path d=\"M98.5 39h0.0\"/><rect height=\"22\" rx=\"10\" ry=\"10\" width=\"28.5\" x=\"70.0\" y=\"28\"/><text x=\"84.25\" y=\"43\">a</text></g></g><path d=\"M98.5 39a10 10 0 0 1 10 10v40a10 10 0 0 0 10 10\"/><path d=\"M50.0 99h20\"/><g>\n",
       "<path d=\"M70.0 99h0.0\"/><path d=\"M98.5 99h0.0\"/><g class=\"terminal\">\n",
       "<path d=\"M70.0 99h0.0\"/><path d=\"M98.5 99h0.0\"/><rect height=\"22\" rx=\"10\" ry=\"10\" width=\"28.5\" x=\"70.0\" y=\"88\"/><text x=\"84.25\" y=\"103\">c</text></g></g><path d=\"M98.5 99h20\"/><path d=\"M50.0 99a10 10 0 0 1 10 10v10a10 10 0 0 0 10 10\"/><g>\n",
       "<path d=\"M70.0 129h0.0\"/><path d=\"M98.5 129h0.0\"/><g class=\"terminal\">\n",
       "<path d=\"M70.0 129h0.0\"/><path d=\"M98.5 129h0.0\"/><rect height=\"22\" rx=\"10\" ry=\"10\" width=\"28.5\" x=\"70.0\" y=\"118\"/><text x=\"84.25\" y=\"133\">d</text></g></g><path d=\"M98.5 129a10 10 0 0 0 10 -10v-10a10 10 0 0 1 10 -10\"/><path d=\"M50.0 99a10 10 0 0 1 10 10v40a10 10 0 0 0 10 10\"/><g>\n",
       "<path d=\"M70.0 159h0.0\"/><path d=\"M98.5 159h0.0\"/><g class=\"terminal\">\n",
       "<path d=\"M70.0 159h0.0\"/><path d=\"M98.5 159h0.0\"/><rect height=\"22\" rx=\"10\" ry=\"10\" width=\"28.5\" x=\"70.0\" y=\"148\"/><text x=\"84.25\" y=\"163\">e</text></g></g><path d=\"M98.5 159a10 10 0 0 0 10 -10v-40a10 10 0 0 1 10 -10\"/></g><path d=\"M118.5 99a10 10 0 0 1 10 10v59a10 10 0 0 0 10 10\"/><path d=\"M118.5 20a10 10 0 0 1 10 10v59a10 10 0 0 0 10 10\"/><g>\n",
       "<path d=\"M138.5 99h0.0\"/><path d=\"M207.0 99h0.0\"/><path d=\"M138.5 99a10 10 0 0 0 10 -10v-10a10 10 0 0 1 10 -10\"/><g>\n",
       "<path d=\"M158.5 69h0.0\"/><path d=\"M187.0 69h0.0\"/><g class=\"terminal\">\n",
       "<path d=\"M158.5 69h0.0\"/><path d=\"M187.0 69h0.0\"/><rect height=\"22\" rx=\"10\" ry=\"10\" width=\"28.5\" x=\"158.5\" y=\"58\"/><text x=\"172.75\" y=\"73\">g</text></g></g><path d=\"M187.0 69a10 10 0 0 1 10 10v10a10 10 0 0 0 10 10\"/><path d=\"M138.5 99a10 10 0 0 0 10 -10v-40a10 10 0 0 1 10 -10\"/><g>\n",
       "<path d=\"M158.5 39h0.0\"/><path d=\"M187.0 39h0.0\"/><g class=\"terminal\">\n",
       "<path d=\"M158.5 39h0.0\"/><path d=\"M187.0 39h0.0\"/><rect height=\"22\" rx=\"10\" ry=\"10\" width=\"28.5\" x=\"158.5\" y=\"28\"/><text x=\"172.75\" y=\"43\">f</text></g></g><path d=\"M187.0 39a10 10 0 0 1 10 10v40a10 10 0 0 0 10 10\"/><path d=\"M138.5 99h20\"/><g>\n",
       "<path d=\"M158.5 99h0.0\"/><path d=\"M187.0 99h0.0\"/><g class=\"terminal\">\n",
       "<path d=\"M158.5 99h0.0\"/><path d=\"M187.0 99h0.0\"/><rect height=\"22\" rx=\"10\" ry=\"10\" width=\"28.5\" x=\"158.5\" y=\"88\"/><text x=\"172.75\" y=\"103\">h</text></g></g><path d=\"M187.0 99h20\"/><path d=\"M138.5 99a10 10 0 0 1 10 10v10a10 10 0 0 0 10 10\"/><g>\n",
       "<path d=\"M158.5 129h0.0\"/><path d=\"M187.0 129h0.0\"/><g class=\"terminal\">\n",
       "<path d=\"M158.5 129h0.0\"/><path d=\"M187.0 129h0.0\"/><rect height=\"22\" rx=\"10\" ry=\"10\" width=\"28.5\" x=\"158.5\" y=\"118\"/><text x=\"172.75\" y=\"133\">i</text></g></g><path d=\"M187.0 129a10 10 0 0 0 10 -10v-10a10 10 0 0 1 10 -10\"/><path d=\"M138.5 99a10 10 0 0 1 10 10v40a10 10 0 0 0 10 10\"/><g>\n",
       "<path d=\"M158.5 159h0.0\"/><path d=\"M187.0 159h0.0\"/><g class=\"terminal\">\n",
       "<path d=\"M158.5 159h0.0\"/><path d=\"M187.0 159h0.0\"/><rect height=\"22\" rx=\"10\" ry=\"10\" width=\"28.5\" x=\"158.5\" y=\"148\"/><text x=\"172.75\" y=\"163\">j</text></g></g><path d=\"M187.0 159a10 10 0 0 0 10 -10v-40a10 10 0 0 1 10 -10\"/></g><path d=\"M207.0 99a10 10 0 0 1 10 10v59a10 10 0 0 0 10 10\"/><path d=\"M207.0 20a10 10 0 0 1 10 10v59a10 10 0 0 0 10 10\"/><g>\n",
       "<path d=\"M227.0 99h0.0\"/><path d=\"M295.5 99h0.0\"/><path d=\"M227.0 99a10 10 0 0 0 10 -10v-10a10 10 0 0 1 10 -10\"/><g>\n",
       "<path d=\"M247.0 69h0.0\"/><path d=\"M275.5 69h0.0\"/><g class=\"terminal\">\n",
       "<path d=\"M247.0 69h0.0\"/><path d=\"M275.5 69h0.0\"/><rect height=\"22\" rx=\"10\" ry=\"10\" width=\"28.5\" x=\"247.0\" y=\"58\"/><text x=\"261.25\" y=\"73\">l</text></g></g><path d=\"M275.5 69a10 10 0 0 1 10 10v10a10 10 0 0 0 10 10\"/><path d=\"M227.0 99a10 10 0 0 0 10 -10v-40a10 10 0 0 1 10 -10\"/><g>\n",
       "<path d=\"M247.0 39h0.0\"/><path d=\"M275.5 39h0.0\"/><g class=\"terminal\">\n",
       "<path d=\"M247.0 39h0.0\"/><path d=\"M275.5 39h0.0\"/><rect height=\"22\" rx=\"10\" ry=\"10\" width=\"28.5\" x=\"247.0\" y=\"28\"/><text x=\"261.25\" y=\"43\">k</text></g></g><path d=\"M275.5 39a10 10 0 0 1 10 10v40a10 10 0 0 0 10 10\"/><path d=\"M227.0 99h20\"/><g>\n",
       "<path d=\"M247.0 99h0.0\"/><path d=\"M275.5 99h0.0\"/><g class=\"terminal\">\n",
       "<path d=\"M247.0 99h0.0\"/><path d=\"M275.5 99h0.0\"/><rect height=\"22\" rx=\"10\" ry=\"10\" width=\"28.5\" x=\"247.0\" y=\"88\"/><text x=\"261.25\" y=\"103\">m</text></g></g><path d=\"M275.5 99h20\"/><path d=\"M227.0 99a10 10 0 0 1 10 10v10a10 10 0 0 0 10 10\"/><g>\n",
       "<path d=\"M247.0 129h0.0\"/><path d=\"M275.5 129h0.0\"/><g class=\"terminal\">\n",
       "<path d=\"M247.0 129h0.0\"/><path d=\"M275.5 129h0.0\"/><rect height=\"22\" rx=\"10\" ry=\"10\" width=\"28.5\" x=\"247.0\" y=\"118\"/><text x=\"261.25\" y=\"133\">n</text></g></g><path d=\"M275.5 129a10 10 0 0 0 10 -10v-10a10 10 0 0 1 10 -10\"/><path d=\"M227.0 99a10 10 0 0 1 10 10v40a10 10 0 0 0 10 10\"/><g>\n",
       "<path d=\"M247.0 159h0.0\"/><path d=\"M275.5 159h0.0\"/><g class=\"terminal\">\n",
       "<path d=\"M247.0 159h0.0\"/><path d=\"M275.5 159h0.0\"/><rect height=\"22\" rx=\"10\" ry=\"10\" width=\"28.5\" x=\"247.0\" y=\"148\"/><text x=\"261.25\" y=\"163\">o</text></g></g><path d=\"M275.5 159a10 10 0 0 0 10 -10v-40a10 10 0 0 1 10 -10\"/></g><path d=\"M295.5 99a10 10 0 0 1 10 10v59a10 10 0 0 0 10 10\"/><path d=\"M295.5 20a10 10 0 0 1 10 10v59a10 10 0 0 0 10 10\"/><g>\n",
       "<path d=\"M315.5 99h0.0\"/><path d=\"M384.0 99h0.0\"/><path d=\"M315.5 99a10 10 0 0 0 10 -10v-10a10 10 0 0 1 10 -10\"/><g>\n",
       "<path d=\"M335.5 69h0.0\"/><path d=\"M364.0 69h0.0\"/><g class=\"terminal\">\n",
       "<path d=\"M335.5 69h0.0\"/><path d=\"M364.0 69h0.0\"/><rect height=\"22\" rx=\"10\" ry=\"10\" width=\"28.5\" x=\"335.5\" y=\"58\"/><text x=\"349.75\" y=\"73\">q</text></g></g><path d=\"M364.0 69a10 10 0 0 1 10 10v10a10 10 0 0 0 10 10\"/><path d=\"M315.5 99a10 10 0 0 0 10 -10v-40a10 10 0 0 1 10 -10\"/><g>\n",
       "<path d=\"M335.5 39h0.0\"/><path d=\"M364.0 39h0.0\"/><g class=\"terminal\">\n",
       "<path d=\"M335.5 39h0.0\"/><path d=\"M364.0 39h0.0\"/><rect height=\"22\" rx=\"10\" ry=\"10\" width=\"28.5\" x=\"335.5\" y=\"28\"/><text x=\"349.75\" y=\"43\">p</text></g></g><path d=\"M364.0 39a10 10 0 0 1 10 10v40a10 10 0 0 0 10 10\"/><path d=\"M315.5 99h20\"/><g>\n",
       "<path d=\"M335.5 99h0.0\"/><path d=\"M364.0 99h0.0\"/><g class=\"terminal\">\n",
       "<path d=\"M335.5 99h0.0\"/><path d=\"M364.0 99h0.0\"/><rect height=\"22\" rx=\"10\" ry=\"10\" width=\"28.5\" x=\"335.5\" y=\"88\"/><text x=\"349.75\" y=\"103\">r</text></g></g><path d=\"M364.0 99h20\"/><path d=\"M315.5 99a10 10 0 0 1 10 10v10a10 10 0 0 0 10 10\"/><g>\n",
       "<path d=\"M335.5 129h0.0\"/><path d=\"M364.0 129h0.0\"/><g class=\"terminal\">\n",
       "<path d=\"M335.5 129h0.0\"/><path d=\"M364.0 129h0.0\"/><rect height=\"22\" rx=\"10\" ry=\"10\" width=\"28.5\" x=\"335.5\" y=\"118\"/><text x=\"349.75\" y=\"133\">s</text></g></g><path d=\"M364.0 129a10 10 0 0 0 10 -10v-10a10 10 0 0 1 10 -10\"/><path d=\"M315.5 99a10 10 0 0 1 10 10v40a10 10 0 0 0 10 10\"/><g>\n",
       "<path d=\"M335.5 159h0.0\"/><path d=\"M364.0 159h0.0\"/><g class=\"terminal\">\n",
       "<path d=\"M335.5 159h0.0\"/><path d=\"M364.0 159h0.0\"/><rect height=\"22\" rx=\"10\" ry=\"10\" width=\"28.5\" x=\"335.5\" y=\"148\"/><text x=\"349.75\" y=\"163\">t</text></g></g><path d=\"M364.0 159a10 10 0 0 0 10 -10v-40a10 10 0 0 1 10 -10\"/></g><path d=\"M384.0 99a10 10 0 0 1 10 10v59a10 10 0 0 0 10 10\"/><path d=\"M384.0 20a10 10 0 0 1 10 10v59a10 10 0 0 0 10 10\"/><g>\n",
       "<path d=\"M404.0 99h0.0\"/><path d=\"M472.5 99h0.0\"/><path d=\"M404.0 99a10 10 0 0 0 10 -10v-10a10 10 0 0 1 10 -10\"/><g>\n",
       "<path d=\"M424.0 69h0.0\"/><path d=\"M452.5 69h0.0\"/><g class=\"terminal\">\n",
       "<path d=\"M424.0 69h0.0\"/><path d=\"M452.5 69h0.0\"/><rect height=\"22\" rx=\"10\" ry=\"10\" width=\"28.5\" x=\"424.0\" y=\"58\"/><text x=\"438.25\" y=\"73\">v</text></g></g><path d=\"M452.5 69a10 10 0 0 1 10 10v10a10 10 0 0 0 10 10\"/><path d=\"M404.0 99a10 10 0 0 0 10 -10v-40a10 10 0 0 1 10 -10\"/><g>\n",
       "<path d=\"M424.0 39h0.0\"/><path d=\"M452.5 39h0.0\"/><g class=\"terminal\">\n",
       "<path d=\"M424.0 39h0.0\"/><path d=\"M452.5 39h0.0\"/><rect height=\"22\" rx=\"10\" ry=\"10\" width=\"28.5\" x=\"424.0\" y=\"28\"/><text x=\"438.25\" y=\"43\">u</text></g></g><path d=\"M452.5 39a10 10 0 0 1 10 10v40a10 10 0 0 0 10 10\"/><path d=\"M404.0 99h20\"/><g>\n",
       "<path d=\"M424.0 99h0.0\"/><path d=\"M452.5 99h0.0\"/><g class=\"terminal\">\n",
       "<path d=\"M424.0 99h0.0\"/><path d=\"M452.5 99h0.0\"/><rect height=\"22\" rx=\"10\" ry=\"10\" width=\"28.5\" x=\"424.0\" y=\"88\"/><text x=\"438.25\" y=\"103\">w</text></g></g><path d=\"M452.5 99h20\"/><path d=\"M404.0 99a10 10 0 0 1 10 10v10a10 10 0 0 0 10 10\"/><g>\n",
       "<path d=\"M424.0 129h0.0\"/><path d=\"M452.5 129h0.0\"/><g class=\"terminal\">\n",
       "<path d=\"M424.0 129h0.0\"/><path d=\"M452.5 129h0.0\"/><rect height=\"22\" rx=\"10\" ry=\"10\" width=\"28.5\" x=\"424.0\" y=\"118\"/><text x=\"438.25\" y=\"133\">x</text></g></g><path d=\"M452.5 129a10 10 0 0 0 10 -10v-10a10 10 0 0 1 10 -10\"/><path d=\"M404.0 99a10 10 0 0 1 10 10v40a10 10 0 0 0 10 10\"/><g>\n",
       "<path d=\"M424.0 159h0.0\"/><path d=\"M452.5 159h0.0\"/><g class=\"terminal\">\n",
       "<path d=\"M424.0 159h0.0\"/><path d=\"M452.5 159h0.0\"/><rect height=\"22\" rx=\"10\" ry=\"10\" width=\"28.5\" x=\"424.0\" y=\"148\"/><text x=\"438.25\" y=\"163\">y</text></g></g><path d=\"M452.5 159a10 10 0 0 0 10 -10v-40a10 10 0 0 1 10 -10\"/></g><path d=\"M472.5 99a10 10 0 0 1 10 10v59a10 10 0 0 0 10 10\"/><path d=\"M472.5 20a10 10 0 0 1 10 10v59a10 10 0 0 0 10 10\"/><g>\n",
       "<path d=\"M492.5 99h0.0\"/><path d=\"M561.0 99h0.0\"/><path d=\"M492.5 99h20\"/><g>\n",
       "<path d=\"M512.5 99h0.0\"/><path d=\"M541.0 99h0.0\"/><g class=\"terminal\">\n",
       "<path d=\"M512.5 99h0.0\"/><path d=\"M541.0 99h0.0\"/><rect height=\"22\" rx=\"10\" ry=\"10\" width=\"28.5\" x=\"512.5\" y=\"88\"/><text x=\"526.75\" y=\"103\">z</text></g></g><path d=\"M541.0 99h20\"/></g><path d=\"M561.0 99h10\"/></g><path d=\"M 571.0 99 h 20 m -10 -10 v 20 m 10 -20 v 20\"/></g></svg>"
      ],
      "text/plain": [
       "<IPython.core.display.SVG object>"
      ]
     },
     "metadata": {},
     "output_type": "display_data"
    },
    {
     "name": "stdout",
     "output_type": "stream",
     "text": [
      "digit\n"
     ]
    },
    {
     "data": {
      "image/svg+xml": [
       "<svg xmlns=\"http://www.w3.org/2000/svg\" class=\"railroad-diagram\" height=\"109\" viewBox=\"0 0 522.5 109\" width=\"522.5\">\n",
       "<g transform=\"translate(.5 .5)\">\n",
       "<style>/* <![CDATA[ */\n",
       "    svg.railroad-diagram {\n",
       "    }\n",
       "    svg.railroad-diagram path {\n",
       "        stroke-width:3;\n",
       "        stroke:black;\n",
       "        fill:white;\n",
       "    }\n",
       "    svg.railroad-diagram text {\n",
       "        font:14px \"Fira Mono\", monospace;\n",
       "        text-anchor:middle;\n",
       "    }\n",
       "    svg.railroad-diagram text.label{\n",
       "        text-anchor:start;\n",
       "    }\n",
       "    svg.railroad-diagram text.comment{\n",
       "        font:italic 12px \"Fira Mono\", monospace;\n",
       "    }\n",
       "    svg.railroad-diagram rect{\n",
       "        stroke-width:2;\n",
       "        stroke:black;\n",
       "        fill:mistyrose;\n",
       "    }\n",
       "\n",
       "/* ]]> */\n",
       "</style><g>\n",
       "<path d=\"M20 59v20m10 -20v20m-10 -10h20\"/></g><g>\n",
       "<path d=\"M40 69h0.0\"/><path d=\"M482.5 69h0.0\"/><path d=\"M40.0 69a10 10 0 0 0 10 -10v-29a10 10 0 0 1 10 -10h324.0\"/><path d=\"M138.5 89h324.0a10 10 0 0 0 10 -10v0a10 10 0 0 1 10 -10\"/><path d=\"M40.0 69h10\"/><g>\n",
       "<path d=\"M50.0 69h0.0\"/><path d=\"M118.5 69h0.0\"/><path d=\"M50.0 69a10 10 0 0 0 10 -10v-10a10 10 0 0 1 10 -10\"/><g>\n",
       "<path d=\"M70.0 39h0.0\"/><path d=\"M98.5 39h0.0\"/><g class=\"terminal\">\n",
       "<path d=\"M70.0 39h0.0\"/><path d=\"M98.5 39h0.0\"/><rect height=\"22\" rx=\"10\" ry=\"10\" width=\"28.5\" x=\"70.0\" y=\"28\"/><text x=\"84.25\" y=\"43\">0</text></g></g><path d=\"M98.5 39a10 10 0 0 1 10 10v10a10 10 0 0 0 10 10\"/><path d=\"M50.0 69h20\"/><g>\n",
       "<path d=\"M70.0 69h0.0\"/><path d=\"M98.5 69h0.0\"/><g class=\"terminal\">\n",
       "<path d=\"M70.0 69h0.0\"/><path d=\"M98.5 69h0.0\"/><rect height=\"22\" rx=\"10\" ry=\"10\" width=\"28.5\" x=\"70.0\" y=\"58\"/><text x=\"84.25\" y=\"73\">1</text></g></g><path d=\"M98.5 69h20\"/></g><path d=\"M118.5 69a10 10 0 0 1 10 10v0a10 10 0 0 0 10 10\"/><path d=\"M118.5 20a10 10 0 0 1 10 10v29a10 10 0 0 0 10 10\"/><g>\n",
       "<path d=\"M138.5 69h0.0\"/><path d=\"M207.0 69h0.0\"/><path d=\"M138.5 69a10 10 0 0 0 10 -10v-10a10 10 0 0 1 10 -10\"/><g>\n",
       "<path d=\"M158.5 39h0.0\"/><path d=\"M187.0 39h0.0\"/><g class=\"terminal\">\n",
       "<path d=\"M158.5 39h0.0\"/><path d=\"M187.0 39h0.0\"/><rect height=\"22\" rx=\"10\" ry=\"10\" width=\"28.5\" x=\"158.5\" y=\"28\"/><text x=\"172.75\" y=\"43\">2</text></g></g><path d=\"M187.0 39a10 10 0 0 1 10 10v10a10 10 0 0 0 10 10\"/><path d=\"M138.5 69h20\"/><g>\n",
       "<path d=\"M158.5 69h0.0\"/><path d=\"M187.0 69h0.0\"/><g class=\"terminal\">\n",
       "<path d=\"M158.5 69h0.0\"/><path d=\"M187.0 69h0.0\"/><rect height=\"22\" rx=\"10\" ry=\"10\" width=\"28.5\" x=\"158.5\" y=\"58\"/><text x=\"172.75\" y=\"73\">3</text></g></g><path d=\"M187.0 69h20\"/></g><path d=\"M207.0 69a10 10 0 0 1 10 10v0a10 10 0 0 0 10 10\"/><path d=\"M207.0 20a10 10 0 0 1 10 10v29a10 10 0 0 0 10 10\"/><g>\n",
       "<path d=\"M227.0 69h0.0\"/><path d=\"M295.5 69h0.0\"/><path d=\"M227.0 69a10 10 0 0 0 10 -10v-10a10 10 0 0 1 10 -10\"/><g>\n",
       "<path d=\"M247.0 39h0.0\"/><path d=\"M275.5 39h0.0\"/><g class=\"terminal\">\n",
       "<path d=\"M247.0 39h0.0\"/><path d=\"M275.5 39h0.0\"/><rect height=\"22\" rx=\"10\" ry=\"10\" width=\"28.5\" x=\"247.0\" y=\"28\"/><text x=\"261.25\" y=\"43\">4</text></g></g><path d=\"M275.5 39a10 10 0 0 1 10 10v10a10 10 0 0 0 10 10\"/><path d=\"M227.0 69h20\"/><g>\n",
       "<path d=\"M247.0 69h0.0\"/><path d=\"M275.5 69h0.0\"/><g class=\"terminal\">\n",
       "<path d=\"M247.0 69h0.0\"/><path d=\"M275.5 69h0.0\"/><rect height=\"22\" rx=\"10\" ry=\"10\" width=\"28.5\" x=\"247.0\" y=\"58\"/><text x=\"261.25\" y=\"73\">5</text></g></g><path d=\"M275.5 69h20\"/></g><path d=\"M295.5 69a10 10 0 0 1 10 10v0a10 10 0 0 0 10 10\"/><path d=\"M295.5 20a10 10 0 0 1 10 10v29a10 10 0 0 0 10 10\"/><g>\n",
       "<path d=\"M315.5 69h0.0\"/><path d=\"M384.0 69h0.0\"/><path d=\"M315.5 69a10 10 0 0 0 10 -10v-10a10 10 0 0 1 10 -10\"/><g>\n",
       "<path d=\"M335.5 39h0.0\"/><path d=\"M364.0 39h0.0\"/><g class=\"terminal\">\n",
       "<path d=\"M335.5 39h0.0\"/><path d=\"M364.0 39h0.0\"/><rect height=\"22\" rx=\"10\" ry=\"10\" width=\"28.5\" x=\"335.5\" y=\"28\"/><text x=\"349.75\" y=\"43\">6</text></g></g><path d=\"M364.0 39a10 10 0 0 1 10 10v10a10 10 0 0 0 10 10\"/><path d=\"M315.5 69h20\"/><g>\n",
       "<path d=\"M335.5 69h0.0\"/><path d=\"M364.0 69h0.0\"/><g class=\"terminal\">\n",
       "<path d=\"M335.5 69h0.0\"/><path d=\"M364.0 69h0.0\"/><rect height=\"22\" rx=\"10\" ry=\"10\" width=\"28.5\" x=\"335.5\" y=\"58\"/><text x=\"349.75\" y=\"73\">7</text></g></g><path d=\"M364.0 69h20\"/></g><path d=\"M384.0 69a10 10 0 0 1 10 10v0a10 10 0 0 0 10 10\"/><path d=\"M384.0 20a10 10 0 0 1 10 10v29a10 10 0 0 0 10 10\"/><g>\n",
       "<path d=\"M404.0 69h0.0\"/><path d=\"M472.5 69h0.0\"/><path d=\"M404.0 69a10 10 0 0 0 10 -10v-10a10 10 0 0 1 10 -10\"/><g>\n",
       "<path d=\"M424.0 39h0.0\"/><path d=\"M452.5 39h0.0\"/><g class=\"terminal\">\n",
       "<path d=\"M424.0 39h0.0\"/><path d=\"M452.5 39h0.0\"/><rect height=\"22\" rx=\"10\" ry=\"10\" width=\"28.5\" x=\"424.0\" y=\"28\"/><text x=\"438.25\" y=\"43\">8</text></g></g><path d=\"M452.5 39a10 10 0 0 1 10 10v10a10 10 0 0 0 10 10\"/><path d=\"M404.0 69h20\"/><g>\n",
       "<path d=\"M424.0 69h0.0\"/><path d=\"M452.5 69h0.0\"/><g class=\"terminal\">\n",
       "<path d=\"M424.0 69h0.0\"/><path d=\"M452.5 69h0.0\"/><rect height=\"22\" rx=\"10\" ry=\"10\" width=\"28.5\" x=\"424.0\" y=\"58\"/><text x=\"438.25\" y=\"73\">9</text></g></g><path d=\"M452.5 69h20\"/></g><path d=\"M472.5 69h10\"/></g><path d=\"M 482.5 69 h 20 m -10 -10 v 20 m 10 -20 v 20\"/></g></svg>"
      ],
      "text/plain": [
       "<IPython.core.display.SVG object>"
      ]
     },
     "metadata": {},
     "output_type": "display_data"
    }
   ],
   "source": [
    "syntax_diagram(LANG_GRAMMAR)"
   ]
  },
  {
   "cell_type": "markdown",
   "id": "5126ae1e",
   "metadata": {
    "slideshow": {
     "slide_type": "subslide"
    }
   },
   "source": [
    "Here are some assignment sequences produced by the grammar:"
   ]
  },
  {
   "cell_type": "code",
   "execution_count": 73,
   "id": "dc16685f",
   "metadata": {
    "execution": {
     "iopub.execute_input": "2023-11-12T12:46:01.763060Z",
     "iopub.status.busy": "2023-11-12T12:46:01.762965Z",
     "iopub.status.idle": "2023-11-12T12:46:01.764967Z",
     "shell.execute_reply": "2023-11-12T12:46:01.764655Z"
    },
    "slideshow": {
     "slide_type": "fragment"
    }
   },
   "outputs": [],
   "source": [
    "fuzzer = GrammarFuzzer(LANG_GRAMMAR)"
   ]
  },
  {
   "cell_type": "code",
   "execution_count": 74,
   "id": "782b8aa5",
   "metadata": {
    "execution": {
     "iopub.execute_input": "2023-11-12T12:46:01.766649Z",
     "iopub.status.busy": "2023-11-12T12:46:01.766550Z",
     "iopub.status.idle": "2023-11-12T12:46:01.771532Z",
     "shell.execute_reply": "2023-11-12T12:46:01.771206Z"
    },
    "slideshow": {
     "slide_type": "fragment"
    }
   },
   "outputs": [
    {
     "name": "stdout",
     "output_type": "stream",
     "text": [
      "w := 7; g := 2\n",
      "f := m; x := 3\n",
      "p := 3\n",
      "h := f; h := u\n",
      "n := k; k := z; z := 6\n",
      "m := x; g := h\n",
      "d := 3\n",
      "h := 6\n",
      "s := m\n",
      "k := q\n"
     ]
    }
   ],
   "source": [
    "for _ in range(10):\n",
    "    print(fuzzer.fuzz())"
   ]
  },
  {
   "cell_type": "markdown",
   "id": "d60c24d4",
   "metadata": {
    "slideshow": {
     "slide_type": "subslide"
    }
   },
   "source": [
    "We see that the assignment _syntax_ is similar to what we have in common programming languages.\n",
    "The _semantics_, however, are, well, questionable, as we commonly access variables whose values have not been previously defined.\n",
    "Again, this is a _semantic_ property that cannot be expressed in a context-free grammar alone."
   ]
  },
  {
   "attachments": {},
   "cell_type": "markdown",
   "id": "244515ff",
   "metadata": {
    "slideshow": {
     "slide_type": "fragment"
    }
   },
   "source": [
    "What we need here is a constraint specifying that on the right-hand side of an assignment, we can only have variable names that occur on the left-hand side.\n",
    "In ISLa, we achieve this through the following constraint:"
   ]
  },
  {
   "cell_type": "code",
   "execution_count": 75,
   "id": "7ff03421",
   "metadata": {
    "execution": {
     "iopub.execute_input": "2023-11-12T12:46:01.773293Z",
     "iopub.status.busy": "2023-11-12T12:46:01.773196Z",
     "iopub.status.idle": "2023-11-12T12:46:01.784712Z",
     "shell.execute_reply": "2023-11-12T12:46:01.784387Z"
    },
    "slideshow": {
     "slide_type": "subslide"
    }
   },
   "outputs": [],
   "source": [
    "solver = ISLaSolver(LANG_GRAMMAR, \n",
    "            '''\n",
    "            forall <rhs> in <assgn>:\n",
    "                exists <assgn> declaration:\n",
    "                    <rhs>.<var> = declaration.<lhs>.<var>\n",
    "            ''',\n",
    "            max_number_smt_instantiations=1,\n",
    "            max_number_free_instantiations=1)"
   ]
  },
  {
   "cell_type": "code",
   "execution_count": 76,
   "id": "34556bfc",
   "metadata": {
    "execution": {
     "iopub.execute_input": "2023-11-12T12:46:01.786308Z",
     "iopub.status.busy": "2023-11-12T12:46:01.786197Z",
     "iopub.status.idle": "2023-11-12T12:46:02.603876Z",
     "shell.execute_reply": "2023-11-12T12:46:02.603564Z"
    },
    "slideshow": {
     "slide_type": "subslide"
    }
   },
   "outputs": [
    {
     "name": "stdout",
     "output_type": "stream",
     "text": [
      "y := 1\n",
      "a := 0; t := 5\n",
      "b := b\n",
      "u := 2; l := 4; p := 7\n",
      "c := 9; p := 6; v := p\n",
      "x := 8; d := 3; p := p\n",
      "p := 4; i := 3; e := p\n",
      "p := 6; f := p\n",
      "n := 5; p := p\n",
      "g := p; p := 6\n"
     ]
    }
   ],
   "source": [
    "for _ in range(10):\n",
    "    print(solver.solve())"
   ]
  },
  {
   "cell_type": "markdown",
   "id": "b92597ba",
   "metadata": {
    "slideshow": {
     "slide_type": "subslide"
    }
   },
   "source": [
    "This is much better already, but not perfect yet - we might still have assignments like `a := a` or `a := b; b := 5`.\n",
    "That is because our constraints do not yet take care of _ordering_ – in a `<rhs>` element, we can only use variables that are defined earlier."
   ]
  },
  {
   "cell_type": "markdown",
   "id": "f2cd187c",
   "metadata": {
    "slideshow": {
     "slide_type": "fragment"
    }
   },
   "source": [
    "For this purpose, ISLa provides a `before()` predicate: `before(A, B)` expresses that the element `A` must occur before the element `B`.\n",
    "With `before()`, we can rewrite our constraint as"
   ]
  },
  {
   "cell_type": "code",
   "execution_count": 77,
   "id": "71621ad9",
   "metadata": {
    "execution": {
     "iopub.execute_input": "2023-11-12T12:46:02.605601Z",
     "iopub.status.busy": "2023-11-12T12:46:02.605429Z",
     "iopub.status.idle": "2023-11-12T12:46:02.612429Z",
     "shell.execute_reply": "2023-11-12T12:46:02.612161Z"
    },
    "slideshow": {
     "slide_type": "subslide"
    }
   },
   "outputs": [],
   "source": [
    "solver = ISLaSolver(LANG_GRAMMAR, \n",
    "            '''\n",
    "            forall <rhs> in <assgn>:\n",
    "                exists <assgn> declaration:\n",
    "                    (before(declaration, <assgn>) and\n",
    "                     <rhs>.<var> = declaration.<lhs>.<var>)\n",
    "            ''',\n",
    "            max_number_free_instantiations=1,\n",
    "            max_number_smt_instantiations=1)"
   ]
  },
  {
   "cell_type": "markdown",
   "id": "b0b7bcfb",
   "metadata": {
    "slideshow": {
     "slide_type": "fragment"
    }
   },
   "source": [
    "... and thus ensure that on the right-hand-side of assignments, we only use identifiers defined earlier."
   ]
  },
  {
   "cell_type": "code",
   "execution_count": 78,
   "id": "b15fd9a5-1320-4f17-b139-0bfc716c8a7f",
   "metadata": {
    "execution": {
     "iopub.execute_input": "2023-11-12T12:46:02.613958Z",
     "iopub.status.busy": "2023-11-12T12:46:02.613866Z",
     "iopub.status.idle": "2023-11-12T12:46:04.259688Z",
     "shell.execute_reply": "2023-11-12T12:46:04.259347Z"
    },
    "slideshow": {
     "slide_type": "subslide"
    }
   },
   "outputs": [
    {
     "name": "stdout",
     "output_type": "stream",
     "text": [
      "e := 7\n",
      "u := 5; n := 9\n",
      "p := 6; h := p; p := h; i := p\n",
      "h := 2; g := h; h := 0; f := h\n",
      "h := 1; h := h; h := 4; t := h\n",
      "h := 3; q := h\n",
      "p := 8; b := p\n",
      "a := 9; v := a\n",
      "a := 5; w := a\n",
      "p := 3; p := 2; r := p\n"
     ]
    }
   ],
   "source": [
    "for _ in range(10):\n",
    "    print(solver.solve())"
   ]
  },
  {
   "cell_type": "markdown",
   "id": "e8022bb4",
   "metadata": {
    "slideshow": {
     "slide_type": "subslide"
    }
   },
   "source": [
    "In case you find that the assignment sequences are too short, you can use the ISLa `count()` predicate.\n",
    "`count(VARIABLE, NONTERMINAL, N)` ensures that the number of NONTERMINALs in VARIABLE is exactly N.\n",
    "To have statements with exactly 5 assignments, write"
   ]
  },
  {
   "cell_type": "code",
   "execution_count": 79,
   "id": "67d2232b",
   "metadata": {
    "execution": {
     "iopub.execute_input": "2023-11-12T12:46:04.261357Z",
     "iopub.status.busy": "2023-11-12T12:46:04.261222Z",
     "iopub.status.idle": "2023-11-12T12:46:04.268414Z",
     "shell.execute_reply": "2023-11-12T12:46:04.268139Z"
    },
    "slideshow": {
     "slide_type": "subslide"
    }
   },
   "outputs": [],
   "source": [
    "solver = ISLaSolver(LANG_GRAMMAR, \n",
    "            '''\n",
    "            forall <rhs> in <assgn>:\n",
    "                exists <assgn> declaration:\n",
    "                    (before(declaration, <assgn>) and\n",
    "                     <rhs>.<var> = declaration.<lhs>.<var>)\n",
    "            and\n",
    "            count(start, \"<assgn>\", \"5\")\n",
    "            ''', \n",
    "            max_number_smt_instantiations=1,\n",
    "            max_number_free_instantiations=1)"
   ]
  },
  {
   "cell_type": "code",
   "execution_count": 80,
   "id": "64db3b6b-1a03-478e-b498-bf7891b7bc76",
   "metadata": {
    "execution": {
     "iopub.execute_input": "2023-11-12T12:46:04.270048Z",
     "iopub.status.busy": "2023-11-12T12:46:04.269947Z",
     "iopub.status.idle": "2023-11-12T12:46:25.067945Z",
     "shell.execute_reply": "2023-11-12T12:46:25.067622Z"
    },
    "slideshow": {
     "slide_type": "subslide"
    }
   },
   "outputs": [
    {
     "name": "stdout",
     "output_type": "stream",
     "text": [
      "a := 5; l := a; w := 6; i := 7; q := 0\n",
      "h := 1; x := h; r := 8; p := 3; t := p\n",
      "h := 4; o := h; p := 2; k := 9; f := p\n",
      "h := 5; p := h; n := 4; u := 9; c := p\n",
      "d := 8; z := d; m := 2; v := 4; b := d\n",
      "d := 0; p := d; j := p; y := 4; g := 7\n",
      "h := 0; s := h; e := h; e := 8; u := 9\n",
      "p := 0; e := p; h := p; i := 4; r := h\n",
      "a := 3; d := a; h := d; q := 1; g := h\n",
      "p := 5; f := p; a := p; h := 0; z := h\n"
     ]
    }
   ],
   "source": [
    "for _ in range(10):\n",
    "    print(solver.solve())"
   ]
  },
  {
   "cell_type": "markdown",
   "id": "8935932c",
   "metadata": {
    "slideshow": {
     "slide_type": "slide"
    }
   },
   "source": [
    "## Synopsis"
   ]
  },
  {
   "cell_type": "markdown",
   "id": "29e72aef",
   "metadata": {
    "slideshow": {
     "slide_type": "fragment"
    }
   },
   "source": [
    "This chapter introduces the [ISLa](https://rindphi.github.io/isla/) framework, consisting of \n",
    "* the _ISLa specification language_, allowing to add _constraints_ to a grammar\n",
    "* the _ISLa solver_, solving these constraints to produce semantically (and syntactically) valid inputs\n",
    "* the _ISLa checker_, checking given inputs for whether they satisfy these constraints."
   ]
  },
  {
   "cell_type": "markdown",
   "id": "04a22bca",
   "metadata": {
    "slideshow": {
     "slide_type": "subslide"
    }
   },
   "source": [
    "A typical usage of the ISLa solver is as follows.\n",
    "First, install ISLa, using \n",
    "```shell\n",
    "$ pip install isla-solver\n",
    "```\n",
    "Then, you can import the solver as"
   ]
  },
  {
   "cell_type": "code",
   "execution_count": 81,
   "id": "5c746541",
   "metadata": {
    "execution": {
     "iopub.execute_input": "2023-11-12T12:46:25.069856Z",
     "iopub.status.busy": "2023-11-12T12:46:25.069693Z",
     "iopub.status.idle": "2023-11-12T12:46:25.071807Z",
     "shell.execute_reply": "2023-11-12T12:46:25.071435Z"
    },
    "slideshow": {
     "slide_type": "skip"
    },
    "tags": []
   },
   "outputs": [],
   "source": [
    "from isla.solver import ISLaSolver  # type: ignore"
   ]
  },
  {
   "cell_type": "markdown",
   "id": "e0565a30",
   "metadata": {
    "slideshow": {
     "slide_type": "fragment"
    }
   },
   "source": [
    "The ISLa solver needs two things. First, a _grammar_ - say, US phone numbers."
   ]
  },
  {
   "cell_type": "code",
   "execution_count": 82,
   "id": "16fb0c80",
   "metadata": {
    "execution": {
     "iopub.execute_input": "2023-11-12T12:46:25.073776Z",
     "iopub.status.busy": "2023-11-12T12:46:25.073611Z",
     "iopub.status.idle": "2023-11-12T12:46:25.075812Z",
     "shell.execute_reply": "2023-11-12T12:46:25.075322Z"
    },
    "slideshow": {
     "slide_type": "skip"
    }
   },
   "outputs": [],
   "source": [
    "from Grammars import US_PHONE_GRAMMAR"
   ]
  },
  {
   "cell_type": "markdown",
   "id": "d40aa06b",
   "metadata": {
    "slideshow": {
     "slide_type": "subslide"
    }
   },
   "source": [
    "Second, you need _constraints_ – a string expressing a condition over one or more grammar elements.\n",
    "Common functions include\n",
    "* `str.len()`, returning the length of a string\n",
    "* `str.to.int()`, converting a string to an integer"
   ]
  },
  {
   "cell_type": "markdown",
   "id": "b1f52612",
   "metadata": {
    "slideshow": {
     "slide_type": "fragment"
    }
   },
   "source": [
    "Here, we instantiate the ISLa solver with a constraint stating that the area code should be above 900:"
   ]
  },
  {
   "cell_type": "code",
   "execution_count": 83,
   "id": "f9f6670a",
   "metadata": {
    "execution": {
     "iopub.execute_input": "2023-11-12T12:46:25.077801Z",
     "iopub.status.busy": "2023-11-12T12:46:25.077649Z",
     "iopub.status.idle": "2023-11-12T12:46:25.086578Z",
     "shell.execute_reply": "2023-11-12T12:46:25.086181Z"
    },
    "slideshow": {
     "slide_type": "fragment"
    }
   },
   "outputs": [],
   "source": [
    "solver = ISLaSolver(US_PHONE_GRAMMAR, \n",
    "            \"\"\"\n",
    "            str.to.int(<area>) > 900\n",
    "            \"\"\")"
   ]
  },
  {
   "cell_type": "markdown",
   "id": "ce7a752d",
   "metadata": {
    "slideshow": {
     "slide_type": "fragment"
    }
   },
   "source": [
    "With that, invoking `solver.solve()` returns a _solution_ for the constraints."
   ]
  },
  {
   "cell_type": "code",
   "execution_count": 84,
   "id": "9655f046-9686-4b36-abb6-7a285c8f9919",
   "metadata": {
    "execution": {
     "iopub.execute_input": "2023-11-12T12:46:25.088618Z",
     "iopub.status.busy": "2023-11-12T12:46:25.088477Z",
     "iopub.status.idle": "2023-11-12T12:46:26.472540Z",
     "shell.execute_reply": "2023-11-12T12:46:26.472236Z"
    },
    "slideshow": {
     "slide_type": "subslide"
    }
   },
   "outputs": [
    {
     "data": {
      "text/plain": [
       "'(908)828-1795'"
      ]
     },
     "execution_count": 84,
     "metadata": {},
     "output_type": "execute_result"
    }
   ],
   "source": [
    "str(solver.solve())"
   ]
  },
  {
   "cell_type": "markdown",
   "id": "604e9cd1-cc8d-4988-952a-adcdfbe9ea81",
   "metadata": {
    "slideshow": {
     "slide_type": "fragment"
    }
   },
   "source": [
    "`solve()` returns a derivation tree, which typically is converted into a string using `str()` as above. The `print()` function does this implicitly."
   ]
  },
  {
   "cell_type": "markdown",
   "id": "a9f69c33-b274-41e9-b8e1-ecbd7267119c",
   "metadata": {
    "slideshow": {
     "slide_type": "fragment"
    }
   },
   "source": [
    "Subsequent calls of `solve()` return more solutions:"
   ]
  },
  {
   "cell_type": "code",
   "execution_count": 85,
   "id": "22923e91",
   "metadata": {
    "execution": {
     "iopub.execute_input": "2023-11-12T12:46:26.474352Z",
     "iopub.status.busy": "2023-11-12T12:46:26.474221Z",
     "iopub.status.idle": "2023-11-12T12:46:26.496739Z",
     "shell.execute_reply": "2023-11-12T12:46:26.496448Z"
    },
    "slideshow": {
     "slide_type": "subslide"
    }
   },
   "outputs": [
    {
     "name": "stdout",
     "output_type": "stream",
     "text": [
      "(908)434-2906\n",
      "(908)244-7907\n",
      "(908)911-7009\n",
      "(908)757-9655\n",
      "(908)524-3710\n",
      "(908)610-9921\n",
      "(908)381-6159\n",
      "(908)560-2418\n",
      "(908)826-1334\n",
      "(906)339-8184\n"
     ]
    }
   ],
   "source": [
    "for _ in range(10):\n",
    "    print(solver.solve())"
   ]
  },
  {
   "cell_type": "markdown",
   "id": "22ddee2b",
   "metadata": {
    "slideshow": {
     "slide_type": "fragment"
    }
   },
   "source": [
    "We see that the solver produces a number of inputs that all satisfy the constraint - the area code is always more than 900."
   ]
  },
  {
   "cell_type": "markdown",
   "id": "d1b40c79",
   "metadata": {
    "slideshow": {
     "slide_type": "subslide"
    }
   },
   "source": [
    "The `ISLaSolver()` constructor provides several additional parameters to configure the solver, as documented below.\n",
    "Additional `ISLaSolver` methods allow checking inputs against constraints, and provide additional functionality."
   ]
  },
  {
   "cell_type": "code",
   "execution_count": 86,
   "id": "54a3eeec-ff7e-48ad-b3b0-5beaafb79fb7",
   "metadata": {
    "execution": {
     "iopub.execute_input": "2023-11-12T12:46:26.498580Z",
     "iopub.status.busy": "2023-11-12T12:46:26.498463Z",
     "iopub.status.idle": "2023-11-12T12:46:26.500075Z",
     "shell.execute_reply": "2023-11-12T12:46:26.499832Z"
    },
    "slideshow": {
     "slide_type": "fragment"
    }
   },
   "outputs": [],
   "source": [
    "# ignore\n",
    "from ClassDiagram import display_class_hierarchy"
   ]
  },
  {
   "cell_type": "code",
   "execution_count": 87,
   "id": "f90bca25-2466-448d-a12e-a8afd45d7141",
   "metadata": {
    "execution": {
     "iopub.execute_input": "2023-11-12T12:46:26.501687Z",
     "iopub.status.busy": "2023-11-12T12:46:26.501572Z",
     "iopub.status.idle": "2023-11-12T12:46:26.982163Z",
     "shell.execute_reply": "2023-11-12T12:46:26.981661Z"
    },
    "slideshow": {
     "slide_type": "subslide"
    }
   },
   "outputs": [
    {
     "data": {
      "image/svg+xml": [
       "<?xml version=\"1.0\" encoding=\"UTF-8\" standalone=\"no\"?>\n",
       "<!DOCTYPE svg PUBLIC \"-//W3C//DTD SVG 1.1//EN\"\n",
       " \"http://www.w3.org/Graphics/SVG/1.1/DTD/svg11.dtd\">\n",
       "<!-- Generated by graphviz version 9.0.0 (20230911.1827)\n",
       " -->\n",
       "<!-- Pages: 1 -->\n",
       "<svg width=\"226pt\" height=\"88pt\"\n",
       " viewBox=\"0.00 0.00 226.25 88.00\" xmlns=\"http://www.w3.org/2000/svg\" xmlns:xlink=\"http://www.w3.org/1999/xlink\">\n",
       "<g id=\"graph0\" class=\"graph\" transform=\"scale(1 1) rotate(0) translate(4 84)\">\n",
       "<g id=\"a_graph0\"><a xlink:title=\"ISLaSolver class hierarchy\">\n",
       "<polygon fill=\"white\" stroke=\"none\" points=\"-4,4 -4,-84 222.25,-84 222.25,4 -4,4\"/>\n",
       "</a>\n",
       "</g>\n",
       "<!-- ISLaSolver -->\n",
       "<g id=\"node1\" class=\"node\">\n",
       "<title>ISLaSolver</title>\n",
       "<g id=\"a_node1\"><a xlink:href=\"isla.solver.ipynb\" xlink:title=\"class ISLaSolver:&#10;The solver class for ISLa formulas/constraints. Its top&#45;level methods are&#10;&#10;:meth:`~isla.solver.ISLaSolver.solve`&#10;Use to generate solutions for an ISLa constraint.&#10;&#10;:meth:`~isla.solver.ISLaSolver.check`&#10;Use to check if an ISLa constraint is satisfied for a given input.&#10;&#10;:meth:`~isla.solver.ISLaSolver.parse`&#10;Use to parse and validate an input.&#10;&#10;:meth:`~isla.solver.ISLaSolver.repair`&#10;Use to repair an input such that it satisfies a constraint.&#10;&#10;:meth:`~isla.solver.ISLaSolver.mutate`&#10;Use to mutate an input such that the result satisfies a constraint.\">\n",
       "<polygon fill=\"none\" stroke=\"black\" points=\"0,-0.5 0,-79.5 81.25,-79.5 81.25,-0.5 0,-0.5\"/>\n",
       "<text text-anchor=\"start\" x=\"8\" y=\"-63.2\" font-family=\"Patua One, Helvetica, sans-serif\" font-weight=\"bold\" font-size=\"14.00\" fill=\"#b03a2e\">ISLaSolver</text>\n",
       "<polyline fill=\"none\" stroke=\"black\" points=\"0,-53.5 81.25,-53.5\"/>\n",
       "<g id=\"a_node1_0\"><a xlink:href=\"#\" xlink:title=\"ISLaSolver\">\n",
       "<g id=\"a_node1_1\"><a xlink:href=\"isla.solver.ipynb\" xlink:title=\"__init__(self, grammar: Union[Dict[str, List[str]], str], formula: Union[isla.language.Formula, str, NoneType] = None, structural_predicates: Set[isla.language.StructuralPredicate] = frozenset({StructuralPredicate(name=&#39;after&#39;, arity=2, eval_fun=&lt;function is_after at 0x10e7c9750&gt;), StructuralPredicate(name=&#39;consecutive&#39;, arity=2, eval_fun=&lt;function consecutive at 0x10e7c9b40&gt;), StructuralPredicate(name=&#39;same_position&#39;, arity=2, eval_fun=&lt;function is_same_position at 0x10e7c9900&gt;), StructuralPredicate(name=&#39;direct_child&#39;, arity=2, eval_fun=&lt;function is_direct_child at 0x10e7cab90&gt;), StructuralPredicate(name=&#39;before&#39;, arity=2, eval_fun=&lt;function is_before at 0x10e4663b0&gt;), StructuralPredicate(name=&#39;level&#39;, arity=4, eval_fun=&lt;function level_check at 0x10e7c9c60&gt;), StructuralPredicate(name=&#39;nth&#39;, arity=3, eval_fun=&lt;function is_nth at 0x10e7c9a20&gt;), StructuralPredicate(name=&#39;inside&#39;, arity=2, eval_fun=&lt;function in_tree at 0x10e7c9ab0&gt;), StructuralPredicate(name=&#39;different_position&#39;, arity=2, eval_fun=&lt;function is_different_position at 0x10e7c9990&gt;)}), semantic_predicates: Set[isla.language.SemanticPredicate] = frozenset({SemanticPredicate(count, 3)}), max_number_free_instantiations: int = 10, max_number_smt_instantiations: int = 10, max_number_tree_insertion_results: int = 5, enforce_unique_trees_in_queue: bool = False, debug: bool = False, cost_computer: Optional[ForwardRef(&#39;CostComputer&#39;)] = None, timeout_seconds: Optional[int] = None, global_fuzzer: bool = False, predicates_unique_in_int_arg: Tuple[isla.language.SemanticPredicate, ...] = (SemanticPredicate(count, 3),), fuzzer_factory: Callable[[Dict[str, List[str]]], isla.fuzzer.GrammarFuzzer] = &lt;function SolverDefaults.&lt;lambda&gt; at 0x10e7de950&gt;, tree_insertion_methods: Optional[int] = None, activate_unsat_support: bool = False, grammar_unwinding_threshold: int = 4, initial_tree: isla.helpers.Maybe[isla.derivation_tree.DerivationTree] = Maybe(a=None), enable_optimized_z3_queries: bool = True, start_symbol: Optional[str] = None):&#10;The constructor of :class:`~isla.solver.ISLaSolver` accepts a large number of&#10;parameters. However, all but the first one, :code:`grammar`, are *optional.*&#10;&#10;The simplest way to construct an ISLa solver is by only providing it with a&#10;grammar only; it then works like a grammar fuzzer.&#10;&#10;&gt;&gt;&gt; import random&#10;&gt;&gt;&gt; random.seed(1)&#10;&#10;&gt;&gt;&gt; import string&#10;&gt;&gt;&gt; LANG_GRAMMAR = {&#10;... &#160;&#160;&#160;&#160;&quot;&lt;start&gt;&quot;:&#10;... &#160;&#160;&#160;&#160;&#160;&#160;&#160;&#160;[&quot;&lt;stmt&gt;&quot;],&#10;... &#160;&#160;&#160;&#160;&quot;&lt;stmt&gt;&quot;:&#10;... &#160;&#160;&#160;&#160;&#160;&#160;&#160;&#160;[&quot;&lt;assgn&gt; ; &lt;stmt&gt;&quot;, &quot;&lt;assgn&gt;&quot;],&#10;... &#160;&#160;&#160;&#160;&quot;&lt;assgn&gt;&quot;:&#10;... &#160;&#160;&#160;&#160;&#160;&#160;&#160;&#160;[&quot;&lt;var&gt; := &lt;rhs&gt;&quot;],&#10;... &#160;&#160;&#160;&#160;&quot;&lt;rhs&gt;&quot;:&#10;... &#160;&#160;&#160;&#160;&#160;&#160;&#160;&#160;[&quot;&lt;var&gt;&quot;, &quot;&lt;digit&gt;&quot;],&#10;... &#160;&#160;&#160;&#160;&quot;&lt;var&gt;&quot;: list(string.ascii_lowercase),&#10;... &#160;&#160;&#160;&#160;&quot;&lt;digit&gt;&quot;: list(string.digits)&#10;... }&#10;&gt;&gt;&gt;&#10;&gt;&gt;&gt; from isla.solver import ISLaSolver&#10;&gt;&gt;&gt; solver = ISLaSolver(LANG_GRAMMAR)&#10;&gt;&gt;&gt;&#10;&gt;&gt;&gt; str(solver.solve())&#10;&#39;d := 9&#39;&#10;&gt;&gt;&gt; str(solver.solve())&#10;&#39;v := n ; s := r&#39;&#10;&#10;:param grammar: The underlying grammar; either, as a &quot;Fuzzing Book&quot; dictionary&#10;or in BNF syntax.&#10;:param formula: The formula to solve; either a string or a readily parsed&#10;formula. If no formula is given, a default `true` constraint is assumed, and&#10;the solver falls back to a grammar fuzzer. The number of produced solutions&#10;will then be bound by `max_number_free_instantiations`.&#10;:param structural_predicates: Structural predicates to use when parsing a&#10;formula.&#10;:param semantic_predicates: Semantic predicates to use when parsing a formula.&#10;:param max_number_free_instantiations: Number of times that nonterminals that&#10;are not bound by any formula should be expanded by a coverage&#45;based fuzzer.&#10;:param max_number_smt_instantiations: Number of solutions of SMT formulas that&#10;should be produced.&#10;:param max_number_tree_insertion_results: The maximum number of results when&#10;solving existential quantifiers by tree insertion.&#10;:param enforce_unique_trees_in_queue: If true, states with the same tree as an&#10;already existing tree in the queue are discarded, irrespectively of the&#10;constraint.&#10;:param debug: If true, debug information about the evolution of states is&#10;collected, notably in the field state_tree. The root of the tree is in the&#10;field state_tree_root. The field costs stores the computed cost values for&#10;all new nodes.&#10;:param cost_computer: The `CostComputer` class for computing the cost relevant&#10;to placing states in ISLa&#39;s queue.&#10;:param timeout_seconds: Number of seconds after which the solver will terminate.&#10;:param global_fuzzer: If set to True, only one coverage&#45;guided grammar fuzzer&#10;object is used to finish off unconstrained open derivation trees throughout&#10;the whole generation time. This may be beneficial for some targets; e.g., we&#10;experienced that CSV works significantly faster. However, the achieved k&#45;path&#10;coverage can be lower with that setting.&#10;:param predicates_unique_in_int_arg: This is needed in certain cases for&#10;instantiating universal integer quantifiers. The supplied predicates should&#10;have exactly one integer argument, and hold for exactly one integer value&#10;once all other parameters are fixed.&#10;:param fuzzer_factory: Constructor of the fuzzer to use for instantiating&#10;&quot;free&quot; nonterminals.&#10;:param tree_insertion_methods: Combination of methods to use for existential&#10;quantifier elimination by tree insertion. Full selection: `DIRECT_EMBEDDING &amp;&#10;SELF_EMBEDDING &amp; CONTEXT_ADDITION`.&#10;:param activate_unsat_support: Set to True if you assume that a formula might&#10;be unsatisfiable. This triggers additional tests for unsatisfiability that&#10;reduce input generation performance, but might ensure termination (with a&#10;negative solver result) for unsatisfiable problems for which the solver could&#10;otherwise diverge.&#10;:param grammar_unwinding_threshold: When querying the SMT solver, ISLa passes a&#10;regular expression for the syntax of the involved nonterminals. If this&#10;syntax is not regular, we unwind the respective part in the reference grammar&#10;up to a depth of `grammar_unwinding_threshold`. If this is too shallow, it can&#10;happen that an equation etc. cannot be solved; if it is too deep, it can&#10;negatively impact performance (and quite tremendously so).&#10;:param initial_tree: An initial input tree for the queue, if the solver shall&#10;not start from the tree `(&lt;start&gt;, None)`.&#10;:param enable_optimized_z3_queries: Enables preprocessing of Z3 queries (mainly&#10;numeric problems concerning things like length). This can improve performance&#10;significantly; however, it might happen that certain problems cannot be solved&#10;anymore. In that case, this option can/should be deactivated.&#10;:param start_symbol: This is an alternative to `initial_tree` for starting with&#10;a start symbol different form `&lt;start&gt;`. If `start_symbol` is provided, a tree&#10;consisting of a single root node with the value of `start_symbol` is chosen as&#10;initial tree.\">\n",
       "<text text-anchor=\"start\" x=\"10.62\" y=\"-41\" font-family=\"'Fira Mono', 'Source Code Pro', 'Courier', monospace\" font-weight=\"bold\" font-size=\"10.00\">__init__()</text>\n",
       "</a>\n",
       "</g>\n",
       "<g id=\"a_node1_2\"><a xlink:href=\"isla.solver.ipynb\" xlink:title=\"check(self, inp: isla.derivation_tree.DerivationTree | str) &#45;&gt; bool:&#10;Evaluates whether the given derivation tree satisfies the constraint passed to&#10;the solver. Raises an `UnknownResultError` if this could not be evaluated&#10;(e.g., because of a solver timeout or a semantic predicate that cannot be&#10;evaluated).&#10;&#10;:param inp: The input to evaluate, either readily parsed or as a string.&#10;:return: A truth value.\">\n",
       "<text text-anchor=\"start\" x=\"10.62\" y=\"-29.75\" font-family=\"'Fira Mono', 'Source Code Pro', 'Courier', monospace\" font-weight=\"bold\" font-size=\"10.00\">check()</text>\n",
       "</a>\n",
       "</g>\n",
       "<g id=\"a_node1_3\"><a xlink:href=\"isla.solver.ipynb\" xlink:title=\"parse(self, inp: str, nonterminal: str = &#39;&lt;start&gt;&#39;, skip_check: bool = False, silent: bool = False) &#45;&gt; isla.derivation_tree.DerivationTree:&#10;Parses the given input `inp`. Raises a `SyntaxError` if the input does not&#10;satisfy the grammar, a `SemanticError` if it does not satisfy the constraint&#10;(this is only checked if `nonterminal` is &quot;&lt;start&gt;&quot;), and returns the parsed&#10;`DerivationTree` otherwise.&#10;&#10;:param inp: The input to parse.&#10;:param nonterminal: The nonterminal to start parsing with, if a string&#10;corresponding to a sub&#45;grammar shall be parsed. We don&#39;t check semantic&#10;correctness in that case.&#10;:param skip_check: If True, the semantic check is left out.&#10;:param silent: If True, no error is sent to the log stream in case of a&#10;failed parse.&#10;:return: A parsed `DerivationTree`.\">\n",
       "<text text-anchor=\"start\" x=\"10.62\" y=\"-18.5\" font-family=\"'Fira Mono', 'Source Code Pro', 'Courier', monospace\" font-weight=\"bold\" font-size=\"10.00\">parse()</text>\n",
       "</a>\n",
       "</g>\n",
       "<g id=\"a_node1_4\"><a xlink:href=\"isla.solver.ipynb\" xlink:title=\"solve(self) &#45;&gt; isla.derivation_tree.DerivationTree:&#10;Attempts to compute a solution to the given ISLa formula. Returns that solution,&#10;if any. This function can be called repeatedly to obtain more solutions until&#10;one of two exception types is raised: A :class:`StopIteration` indicates that&#10;no more solution can be found; a :class:`TimeoutError` is raised if a timeout&#10;occurred. After that, an exception will be raised every time.&#10;&#10;The timeout can be controlled by the :code:`timeout_seconds`&#10;:meth:`constructor &lt;isla.solver.ISLaSolver.__init__&gt;` parameter.&#10;&#10;:return: A solution for the ISLa formula passed to the&#10;:class:`isla.solver.ISLaSolver`.\">\n",
       "<text text-anchor=\"start\" x=\"10.62\" y=\"-7.25\" font-family=\"'Fira Mono', 'Source Code Pro', 'Courier', monospace\" font-weight=\"bold\" font-size=\"10.00\">solve()</text>\n",
       "</a>\n",
       "</g>\n",
       "</a>\n",
       "</g>\n",
       "</a>\n",
       "</g>\n",
       "</g>\n",
       "<!-- Legend -->\n",
       "<g id=\"node2\" class=\"node\">\n",
       "<title>Legend</title>\n",
       "<text text-anchor=\"start\" x=\"99\" y=\"-56\" font-family=\"Patua One, Helvetica, sans-serif\" font-weight=\"bold\" font-size=\"10.00\" fill=\"#b03a2e\">Legend</text>\n",
       "<text text-anchor=\"start\" x=\"99\" y=\"-46\" font-family=\"Patua One, Helvetica, sans-serif\" font-size=\"10.00\">• </text>\n",
       "<text text-anchor=\"start\" x=\"105\" y=\"-46\" font-family=\"'Fira Mono', 'Source Code Pro', 'Courier', monospace\" font-weight=\"bold\" font-size=\"8.00\">public_method()</text>\n",
       "<text text-anchor=\"start\" x=\"99\" y=\"-36\" font-family=\"Patua One, Helvetica, sans-serif\" font-size=\"10.00\">• </text>\n",
       "<text text-anchor=\"start\" x=\"105\" y=\"-36\" font-family=\"'Fira Mono', 'Source Code Pro', 'Courier', monospace\" font-size=\"8.00\">private_method()</text>\n",
       "<text text-anchor=\"start\" x=\"99\" y=\"-26\" font-family=\"Patua One, Helvetica, sans-serif\" font-size=\"10.00\">• </text>\n",
       "<text text-anchor=\"start\" x=\"105\" y=\"-26\" font-family=\"'Fira Mono', 'Source Code Pro', 'Courier', monospace\" font-style=\"italic\" font-size=\"8.00\">overloaded_method()</text>\n",
       "<text text-anchor=\"start\" x=\"99\" y=\"-16.95\" font-family=\"Helvetica,sans-Serif\" font-size=\"9.00\">Hover over names to see doc</text>\n",
       "</g>\n",
       "</g>\n",
       "</svg>\n"
      ],
      "text/plain": [
       "<graphviz.graphs.Digraph at 0x11e331f90>"
      ]
     },
     "execution_count": 87,
     "metadata": {},
     "output_type": "execute_result"
    }
   ],
   "source": [
    "# ignore\n",
    "display_class_hierarchy([ISLaSolver],\n",
    "                         public_methods=[\n",
    "                            ISLaSolver.__init__,\n",
    "                            ISLaSolver.solve,\n",
    "                            ISLaSolver.check,\n",
    "                            ISLaSolver.parse,\n",
    "                        ])"
   ]
  },
  {
   "cell_type": "markdown",
   "id": "b3fd6d14-10ff-4ac5-8c08-126808a9c8bb",
   "metadata": {
    "slideshow": {
     "slide_type": "fragment"
    }
   },
   "source": [
    "The ISLa functionality is also available on the command line:"
   ]
  },
  {
   "cell_type": "code",
   "execution_count": 88,
   "id": "0d06486f-8d9f-4162-9da7-f86bd25b975a",
   "metadata": {
    "execution": {
     "iopub.execute_input": "2023-11-12T12:46:26.984237Z",
     "iopub.status.busy": "2023-11-12T12:46:26.984062Z",
     "iopub.status.idle": "2023-11-12T12:46:27.357760Z",
     "shell.execute_reply": "2023-11-12T12:46:27.357336Z"
    },
    "slideshow": {
     "slide_type": "subslide"
    }
   },
   "outputs": [
    {
     "name": "stdout",
     "output_type": "stream",
     "text": [
      "usage: isla [-h] [-v]\r\n",
      "            {solve,fuzz,check,find,parse,repair,mutate,create,config} ...\r\n",
      "\r\n",
      "The ISLa command line interface.\r\n",
      "\r\n",
      "options:\r\n",
      "  -h, --help            show this help message and exit\r\n",
      "  -v, --version         Print the ISLa version number\r\n",
      "\r\n",
      "Commands:\r\n",
      "  {solve,fuzz,check,find,parse,repair,mutate,create,config}\r\n",
      "    solve               create solutions to ISLa constraints or check their\r\n",
      "                        unsatisfiability\r\n",
      "    fuzz                pass solutions to an ISLa constraint to a test subject\r\n",
      "    check               check whether an input satisfies an ISLa constraint\r\n",
      "    find                filter files satisfying syntactic & semantic\r\n",
      "                        constraints\r\n",
      "    parse               parse an input into a derivation tree if it satisfies\r\n",
      "                        an ISLa constraint\r\n",
      "    repair              try to repair an existing input such that it satisfies\r\n",
      "                        an ISLa constraint\r\n",
      "    mutate              mutate an input such that the result satisfies an ISLa\r\n",
      "                        constraint\r\n",
      "    create              create grammar and constraint stubs\r\n",
      "    config              dumps the default configuration file\r\n"
     ]
    }
   ],
   "source": [
    "!isla --help"
   ]
  },
  {
   "cell_type": "markdown",
   "id": "20044f68",
   "metadata": {
    "button": false,
    "new_sheet": true,
    "run_control": {
     "read_only": false
    },
    "slideshow": {
     "slide_type": "slide"
    }
   },
   "source": [
    "## Lessons Learned\n",
    "\n",
    "* Using ISLa, we can add and solve _constraints_ to grammars, allowing to express _semantic properties_ of our test inputs\n",
    "* Declaring constraints (and have a solver solve them) is much more versatile than adding generator code, and language-independent, too\n",
    "* Using ISLa is fun :-)"
   ]
  },
  {
   "cell_type": "markdown",
   "id": "d50b8cfc",
   "metadata": {
    "button": false,
    "new_sheet": false,
    "run_control": {
     "read_only": false
    },
    "slideshow": {
     "slide_type": "slide"
    }
   },
   "source": [
    "## Next Steps\n",
    "\n",
    "In the next chapters, we will continue to focus on semantics.\n",
    "Among others, we will learn how to\n",
    "\n",
    "* [mine grammars from existing inputs](GrammarMiner.ipynb)\n",
    "* use [symbolic fuzzing](SymbolicFuzzer.ipynb) - that is, using constraint solvers to reach particular locations\n",
    "* use [concolic fuzzing](ConcolicFuzzer.ipynb) - that is, combining symbolic fuzzing with concrete runs for higher efficiency"
   ]
  },
  {
   "cell_type": "markdown",
   "id": "cddb0711",
   "metadata": {
    "slideshow": {
     "slide_type": "slide"
    }
   },
   "source": [
    "## Background\n",
    "\n",
    "* ISLa is presented in the paper [\"Input Invariants\"](https://publications.cispa.saarland/3596/) at ESEC/FSE 2022.\n",
    "* The [ISLa project](https://github.com/rindPHI/isla) contains the full source code and a complete reference."
   ]
  },
  {
   "cell_type": "markdown",
   "id": "c0f3583e",
   "metadata": {
    "button": false,
    "new_sheet": true,
    "run_control": {
     "read_only": false
    },
    "slideshow": {
     "slide_type": "slide"
    }
   },
   "source": [
    "## Exercises"
   ]
  },
  {
   "cell_type": "markdown",
   "id": "df09d867",
   "metadata": {
    "button": false,
    "new_sheet": true,
    "run_control": {
     "read_only": false
    },
    "slideshow": {
     "slide_type": "subslide"
    }
   },
   "source": [
    "### Exercise 1: String Encodings\n",
    "\n",
    "A common way of representing strings is _length-prefixed strings_, a representation made popular by the _PASCAL_ programming language.\n",
    "A length-prefixed string starts with a few bytes that encode the length $L$ of the string, followed by the $L$ actual characters.\n",
    "For instance, assuming that two bytes are used to encode the length, the string `\"Hello\"` could be represented as the sequence\n",
    "\n",
    "```\n",
    "0x00 0x05 'H' 'e' 'l' 'l' 'o'\n",
    "```"
   ]
  },
  {
   "cell_type": "markdown",
   "id": "0f5f3156",
   "metadata": {
    "button": false,
    "new_sheet": true,
    "run_control": {
     "read_only": false
    },
    "slideshow": {
     "slide_type": "subslide"
    },
    "solution2": "hidden",
    "solution2_first": true
   },
   "source": [
    "#### Part 1: Syntax\n",
    "\n",
    "Write a grammar that defines the syntax of length-prefixed strings."
   ]
  },
  {
   "cell_type": "markdown",
   "id": "c990687f",
   "metadata": {
    "button": false,
    "new_sheet": true,
    "run_control": {
     "read_only": false
    },
    "slideshow": {
     "slide_type": "skip"
    },
    "solution2": "hidden"
   },
   "source": [
    "**Solution.** This is actually pretty easy:"
   ]
  },
  {
   "cell_type": "code",
   "execution_count": 89,
   "id": "9d4956b6",
   "metadata": {
    "execution": {
     "iopub.execute_input": "2023-11-12T12:46:27.360999Z",
     "iopub.status.busy": "2023-11-12T12:46:27.360834Z",
     "iopub.status.idle": "2023-11-12T12:46:27.362833Z",
     "shell.execute_reply": "2023-11-12T12:46:27.362562Z"
    },
    "slideshow": {
     "slide_type": "skip"
    },
    "solution2": "hidden"
   },
   "outputs": [],
   "source": [
    "import string"
   ]
  },
  {
   "cell_type": "code",
   "execution_count": 90,
   "id": "d82fc265",
   "metadata": {
    "execution": {
     "iopub.execute_input": "2023-11-12T12:46:27.364916Z",
     "iopub.status.busy": "2023-11-12T12:46:27.364785Z",
     "iopub.status.idle": "2023-11-12T12:46:27.366925Z",
     "shell.execute_reply": "2023-11-12T12:46:27.366614Z"
    },
    "slideshow": {
     "slide_type": "skip"
    },
    "solution2": "hidden"
   },
   "outputs": [],
   "source": [
    "PASCAL_STRING_GRAMMAR: Grammar = {\n",
    "    \"<start>\": [\"<string>\"],\n",
    "    \"<string>\": [\"<length><chars>\"],\n",
    "    \"<length>\": [\"<byte>\"],\n",
    "    \"<byte>\": crange('\\x00', '\\xff'),\n",
    "    \"<chars>\": [\"\", \"<char><chars>\"],\n",
    "    \"<char>\": list(string.printable),\n",
    "}"
   ]
  },
  {
   "cell_type": "code",
   "execution_count": 91,
   "id": "eb79cc85",
   "metadata": {
    "execution": {
     "iopub.execute_input": "2023-11-12T12:46:27.368584Z",
     "iopub.status.busy": "2023-11-12T12:46:27.368470Z",
     "iopub.status.idle": "2023-11-12T12:46:27.370438Z",
     "shell.execute_reply": "2023-11-12T12:46:27.370158Z"
    },
    "slideshow": {
     "slide_type": "skip"
    },
    "solution2": "hidden",
    "tags": []
   },
   "outputs": [],
   "source": [
    "assert is_valid_grammar(PASCAL_STRING_GRAMMAR)"
   ]
  },
  {
   "cell_type": "code",
   "execution_count": 92,
   "id": "5fc1511b",
   "metadata": {
    "execution": {
     "iopub.execute_input": "2023-11-12T12:46:27.372727Z",
     "iopub.status.busy": "2023-11-12T12:46:27.372615Z",
     "iopub.status.idle": "2023-11-12T12:46:27.374566Z",
     "shell.execute_reply": "2023-11-12T12:46:27.374253Z"
    },
    "slideshow": {
     "slide_type": "skip"
    },
    "solution2": "hidden"
   },
   "outputs": [],
   "source": [
    "fuzzer = GrammarFuzzer(PASCAL_STRING_GRAMMAR)"
   ]
  },
  {
   "cell_type": "code",
   "execution_count": 93,
   "id": "453aa873",
   "metadata": {
    "execution": {
     "iopub.execute_input": "2023-11-12T12:46:27.376200Z",
     "iopub.status.busy": "2023-11-12T12:46:27.376080Z",
     "iopub.status.idle": "2023-11-12T12:46:27.382131Z",
     "shell.execute_reply": "2023-11-12T12:46:27.381862Z"
    },
    "slideshow": {
     "slide_type": "skip"
    },
    "solution2": "hidden"
   },
   "outputs": [
    {
     "name": "stdout",
     "output_type": "stream",
     "text": [
      "'B'\n",
      "'ö~x'\n",
      "'2'\n",
      "'\\x02'\n",
      "'\\x1aI'\n",
      "'^'\n",
      "';'\n",
      "'\\x06'\n",
      "'k'\n",
      "'\\x8f'\n"
     ]
    }
   ],
   "source": [
    "for _ in range(10):\n",
    "    print(repr(fuzzer.fuzz()))"
   ]
  },
  {
   "cell_type": "markdown",
   "id": "0ebb3119",
   "metadata": {
    "button": false,
    "new_sheet": true,
    "run_control": {
     "read_only": false
    },
    "slideshow": {
     "slide_type": "subslide"
    },
    "solution2": "hidden",
    "solution2_first": true
   },
   "source": [
    "#### Part 2: Semantics\n",
    "\n",
    "Use ISLa to produce valid length-prefixed strings.\n",
    "Make use of the [SMT-LIB string library](https://smtlib.cs.uiowa.edu/theories-UnicodeStrings.shtml) to find appropriate conversion functions."
   ]
  },
  {
   "cell_type": "markdown",
   "id": "ee402aa8",
   "metadata": {
    "slideshow": {
     "slide_type": "skip"
    },
    "solution2": "hidden"
   },
   "source": [
    "**Solution.** \n",
    "The function we need is `str.to_code(c)` to convert a single character to its ordinal value (e.g. `str.to_code('0x03') = 3`).\n",
    "With this, we can formulate an appropriate constraint:"
   ]
  },
  {
   "cell_type": "code",
   "execution_count": 94,
   "id": "486858b3-9b71-4396-a448-3c4d2b3fdda6",
   "metadata": {
    "execution": {
     "iopub.execute_input": "2023-11-12T12:46:27.383964Z",
     "iopub.status.busy": "2023-11-12T12:46:27.383794Z",
     "iopub.status.idle": "2023-11-12T12:46:27.489051Z",
     "shell.execute_reply": "2023-11-12T12:46:27.488684Z"
    },
    "slideshow": {
     "slide_type": "skip"
    },
    "solution2": "hidden"
   },
   "outputs": [],
   "source": [
    "solver = ISLaSolver(PASCAL_STRING_GRAMMAR, \n",
    "            '''\n",
    "            str.to_code(<string>.<length>.<byte>) =\n",
    "            str.len(<string>.<chars>)\n",
    "            ''')"
   ]
  },
  {
   "cell_type": "code",
   "execution_count": 95,
   "id": "321ecd82",
   "metadata": {
    "execution": {
     "iopub.execute_input": "2023-11-12T12:46:27.490900Z",
     "iopub.status.busy": "2023-11-12T12:46:27.490776Z",
     "iopub.status.idle": "2023-11-12T12:46:30.043952Z",
     "shell.execute_reply": "2023-11-12T12:46:30.043688Z"
    },
    "slideshow": {
     "slide_type": "skip"
    },
    "solution2": "hidden"
   },
   "outputs": [
    {
     "name": "stdout",
     "output_type": "stream",
     "text": [
      "Solution: '\\x01\\t' (<length> = 1, len(<chars>) = 1)\n",
      "\n",
      "Solution: '\\x01A' (<length> = 1, len(<chars>) = 1)\n",
      "\n",
      "Solution: '\\x01!' (<length> = 1, len(<chars>) = 1)\n",
      "\n",
      "Solution: '\\x01@' (<length> = 1, len(<chars>) = 1)\n",
      "\n",
      "Solution: '\\x01N' (<length> = 1, len(<chars>) = 1)\n",
      "\n",
      "Solution: '\\x01O' (<length> = 1, len(<chars>) = 1)\n",
      "\n",
      "Solution: '\\x01o' (<length> = 1, len(<chars>) = 1)\n",
      "\n",
      "Solution: '\\x01F' (<length> = 1, len(<chars>) = 1)\n",
      "\n",
      "Solution: '\\x01H' (<length> = 1, len(<chars>) = 1)\n",
      "\n",
      "Solution: '\\x01G' (<length> = 1, len(<chars>) = 1)\n",
      "\n"
     ]
    }
   ],
   "source": [
    "for _ in range(10):\n",
    "    # Get the solution\n",
    "    solution = solver.solve()\n",
    "    print(f'Solution: {repr(str(solution))}', end=' ')\n",
    "\n",
    "    # Print statistics\n",
    "    low_byte = solution.filter(lambda n: n.value == \"<length>\")[0][1]\n",
    "    chars = solution.filter(lambda n: n.value == \"<chars>\")[0][1]\n",
    "    print(f'(<length> = {ord(str(low_byte))}, len(<chars>) = {len(str(chars))})')\n",
    "    print()"
   ]
  },
  {
   "cell_type": "code",
   "execution_count": 96,
   "id": "8a36208b-b07f-4007-9781-4083f147663b",
   "metadata": {
    "execution": {
     "iopub.execute_input": "2023-11-12T12:46:30.045734Z",
     "iopub.status.busy": "2023-11-12T12:46:30.045585Z",
     "iopub.status.idle": "2023-11-12T12:46:30.047751Z",
     "shell.execute_reply": "2023-11-12T12:46:30.047512Z"
    },
    "slideshow": {
     "slide_type": "skip"
    },
    "solution2": "hidden"
   },
   "outputs": [],
   "source": [
    "# ignore\n",
    "# We're done, so we can clean up:\n",
    "import os\n",
    "\n",
    "with ExpectError(FileNotFoundError, mute=True):\n",
    "    os.remove('grammar.py')"
   ]
  }
 ],
 "metadata": {
  "ipub": {
   "bibliography": "fuzzingbook.bib",
   "toc": true
  },
  "kernelspec": {
   "display_name": "Python 3 (ipykernel)",
   "language": "python",
   "name": "python3"
  },
  "language_info": {
   "codemirror_mode": {
    "name": "ipython",
    "version": 3
   },
   "file_extension": ".py",
   "mimetype": "text/x-python",
   "name": "python",
   "nbconvert_exporter": "python",
   "pygments_lexer": "ipython3",
   "version": "3.10.2"
  },
  "toc": {
   "base_numbering": 1,
   "nav_menu": {},
   "number_sections": true,
   "sideBar": true,
   "skip_h1_title": true,
   "title_cell": "",
   "title_sidebar": "Contents",
   "toc_cell": false,
   "toc_position": {},
   "toc_section_display": true,
   "toc_window_display": true
  },
  "toc-autonumbering": false
 },
 "nbformat": 4,
 "nbformat_minor": 5
}