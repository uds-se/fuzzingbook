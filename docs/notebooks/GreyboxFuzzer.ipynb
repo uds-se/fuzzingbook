{
 "cells": [
  {
   "attachments": {},
   "cell_type": "markdown",
   "metadata": {
    "button": false,
    "new_sheet": false,
    "run_control": {
     "read_only": false
    },
    "slideshow": {
     "slide_type": "slide"
    }
   },
   "source": [
    "# Greybox Fuzzing\n",
    "\n",
    "In the [previous chapter](MutationFuzzer.ipynb), we have introduced _mutation-based fuzzing_, a technique that generates fuzz inputs by applying small mutations to given inputs. In this chapter, we show how to _guide_ these mutations towards specific goals such as coverage. The algorithms in this chapter stem from the popular [American Fuzzy Lop](http://lcamtuf.coredump.cx/afl/) (AFL) fuzzer, in particular from its [AFLFast](https://github.com/mboehme/aflfast) and [AFLGo](https://github.com/aflgo/aflgo) flavors. We will explore the greybox fuzzing algorithm behind AFL and how we can exploit it to solve various problems for automated vulnerability detection."
   ]
  },
  {
   "cell_type": "code",
   "execution_count": 1,
   "metadata": {
    "execution": {
     "iopub.execute_input": "2023-11-12T12:40:32.692309Z",
     "iopub.status.busy": "2023-11-12T12:40:32.692149Z",
     "iopub.status.idle": "2023-11-12T12:40:32.732879Z",
     "shell.execute_reply": "2023-11-12T12:40:32.732560Z"
    },
    "slideshow": {
     "slide_type": "skip"
    }
   },
   "outputs": [
    {
     "data": {
      "text/html": [
       "\n",
       "        <iframe\n",
       "            width=\"640\"\n",
       "            height=\"360\"\n",
       "            src=\"https://www.youtube-nocookie.com/embed/vBrNT9q2t1Y\"\n",
       "            frameborder=\"0\"\n",
       "            allowfullscreen\n",
       "            \n",
       "        ></iframe>\n",
       "        "
      ],
      "text/plain": [
       "<IPython.lib.display.IFrame at 0x105a89ba0>"
      ]
     },
     "execution_count": 1,
     "metadata": {},
     "output_type": "execute_result"
    }
   ],
   "source": [
    "from bookutils import YouTubeVideo\n",
    "YouTubeVideo('vBrNT9q2t1Y')"
   ]
  },
  {
   "cell_type": "markdown",
   "metadata": {
    "button": false,
    "new_sheet": false,
    "run_control": {
     "read_only": false
    },
    "slideshow": {
     "slide_type": "subslide"
    }
   },
   "source": [
    "**Prerequisites**\n",
    "\n",
    "* Reading the introduction on [mutation-based fuzzing](MutationFuzzer.ipynb) is recommended."
   ]
  },
  {
   "attachments": {},
   "cell_type": "markdown",
   "metadata": {
    "slideshow": {
     "slide_type": "skip"
    }
   },
   "source": [
    "## Synopsis\n",
    "<!-- Automatically generated. Do not edit. -->\n",
    "\n",
    "To [use the code provided in this chapter](Importing.ipynb), write\n",
    "\n",
    "```python\n",
    ">>> from fuzzingbook.GreyboxFuzzer import <identifier>\n",
    "```\n",
    "\n",
    "and then make use of the following features.\n",
    "\n",
    "\n",
    "This chapter introduces advanced methods for grey-box fuzzing inspired by the popular AFL fuzzer. The `GreyboxFuzzer` class has three arguments. First, a list of seed inputs:\n",
    "\n",
    "```python\n",
    ">>> seed_input = \"http://www.google.com/search?q=fuzzing\"\n",
    ">>> seeds = [seed_input]\n",
    "```\n",
    "Second, a _mutator_ that changes individual parts of the input.\n",
    "\n",
    "```python\n",
    ">>> mutator = Mutator()\n",
    "```\n",
    "Third, a _power schedule_ that assigns fuzzing effort across the population:\n",
    "\n",
    "```python\n",
    ">>> schedule = PowerSchedule()\n",
    "```\n",
    "These three go into the `GreyboxFuzzer` constructor:\n",
    "\n",
    "```python\n",
    ">>> greybox_fuzzer = GreyboxFuzzer(seeds=seeds, mutator=mutator, schedule=schedule)\n",
    "```\n",
    "The `GreyboxFuzzer` class is used in conjunction with a `FunctionCoverageRunner`:\n",
    "\n",
    "```python\n",
    ">>> http_runner = FunctionCoverageRunner(http_program)\n",
    ">>> outcomes = greybox_fuzzer.runs(http_runner, trials=10000)\n",
    "```\n",
    "After fuzzing, we can inspect the population:\n",
    "\n",
    "```python\n",
    ">>> greybox_fuzzer.population[:20]\n",
    "[http://www.google.com/search?q=fuzzing,\n",
    " htpp://w.gfoogne.com/seaRchw?q=fuzzng,\n",
    " http://ww.google.com/search?q=furzing,\n",
    " xvtp:{/www.foogle.com/seapch=q=uzzing,\n",
    " ht:w/ww.goog\\l*#m/seaXrceh?bq=rzilgl,\n",
    " http:/wwwgoogne.coe/seazch?q=uzzin&,\n",
    " h|t4p://.PgoolL.com/sdrh?Qq=Fuzi,\n",
    " htzB</wqwgRjo%n.be/cac&cJDi?q=uZ4hn4,\n",
    " dtp\\/AwF!g.gmoel+b/hsech?=Nfu|r:fg,\n",
    " tpp:J//c.znoTogn{.com/ceachw?0q=fuzzng,\n",
    " http://www.gooole.com/searchq=fuzzing,\n",
    " 1dtp$:/-wgoogdeVcom/\u001aserca=uAzing,\n",
    " htzB</w1wgRjo%n.be/cac[&cJDi?q=uZ4hn4,\n",
    " Jh;vw//wwA,j7oo!'l#m/aX\\c%eh?.q-Xrzil,\n",
    " ht:wwW.goog\\l*#m/seRa<Xrch?bqrzIgl,\n",
    " h~tzbwqwgR`%n>jQex/c&*ieq=08T,\n",
    "  vpe7pJ5/nb/nUc{jICo-m /gacw0qmfQuzz#ng,\n",
    " htpp://w.gf/ogn.#m/seaRchw?q=fuzzng,\n",
    " J;w?G/&!7jwA,j7/o!fL\u0003mX\\gh?2-bz@\"i,\n",
    " ;?p8.gnoox\u0007n%ncooms'aRhqW=f\"Dzg]\n",
    "```\n",
    "Besides the simple `PowerSchedule`, we can have advanced power schedules.\n",
    "\n",
    "* `AFLFastSchedule` assigns high energy to \"unusual\" paths not taken very often.\n",
    "* `AFLGoSchedule` assigns high energy to paths close to uncovered program locations. \n",
    "\n",
    "The `AFLGoSchedule` class constructor requires a `distance` metric from each node towards target locations, as determined via analysis of the program code. See the chapter for details.\n",
    "\n",
    "![](PICS/GreyboxFuzzer-synopsis-1.svg)\n",
    "\n"
   ]
  },
  {
   "cell_type": "markdown",
   "metadata": {
    "button": false,
    "new_sheet": true,
    "run_control": {
     "read_only": false
    },
    "slideshow": {
     "slide_type": "slide"
    }
   },
   "source": [
    "## AFL: An Effective Greybox Fuzzer\n",
    "\n",
    "The algorithms in this chapter stem from the popular [American Fuzzy Lop](http://lcamtuf.coredump.cx/afl/) (AFL) fuzzer."
   ]
  },
  {
   "cell_type": "markdown",
   "metadata": {
    "button": false,
    "new_sheet": true,
    "run_control": {
     "read_only": false
    },
    "slideshow": {
     "slide_type": "slide"
    }
   },
   "source": [
    "AFL is a *mutation-based fuzzer*. Meaning, AFL generates new inputs by slightly modifying a seed input (i.e., mutation), or by joining the first half of one input with the second half of another (i.e., splicing)."
   ]
  },
  {
   "cell_type": "markdown",
   "metadata": {
    "button": false,
    "new_sheet": true,
    "run_control": {
     "read_only": false
    },
    "slideshow": {
     "slide_type": "slide"
    }
   },
   "source": [
    "AFL is also a *greybox fuzzer* (not blackbox nor whitebox). Meaning, AFL leverages coverage-feedback to learn how to reach deeper into the program. It is not entirely blackbox because AFL leverages at least *some* program analysis. It is not entirely whitebox either because AFL does not build on heavyweight program analysis or constraint solving. Instead, AFL uses lightweight program instrumentation to glean some information about the (branch) coverage of a generated input.\n",
    "If a generated input increases coverage, it is added to the seed corpus for further fuzzing."
   ]
  },
  {
   "attachments": {},
   "cell_type": "markdown",
   "metadata": {
    "button": false,
    "new_sheet": true,
    "run_control": {
     "read_only": false
    },
    "slideshow": {
     "slide_type": "slide"
    }
   },
   "source": [
    "To instrument a program, AFL injects a piece of code right after every conditional jump instruction. When executed, this so-called trampoline assigns the exercised branch a unique identifier and increments a counter that is associated with this branch. For efficiency, only a coarse branch hit count is maintained. In other words, for each input the fuzzer knows which branches and roughly how often they are exercised. \n",
    "The instrumentation is usually done at compile-time, i.e., when the program source code is compiled to an executable binary. However, it is possible to run AFL on non-instrumented binaries using tools such as a virtual machine (e.g., [QEMU](https://github.com/mirrorer/afl/blob/master/qemu_mode)) or a dynamic instrumentation tool (e.g., [Intel PinTool](https://github.com/vanhauser-thc/afl-pin)). For Python programs, we can collect coverage information without any instrumentation (see chapter on [collecting coverage](Coverage.ipynb#Coverage-of-Basic-Fuzzing))."
   ]
  },
  {
   "cell_type": "markdown",
   "metadata": {
    "button": false,
    "new_sheet": true,
    "run_control": {
     "read_only": false
    },
    "slideshow": {
     "slide_type": "slide"
    }
   },
   "source": [
    "## Ingredients for Greybox Fuzzing\n",
    "\n",
    "We start with discussing the most important parts we need for mutational testing and goal guidance."
   ]
  },
  {
   "cell_type": "markdown",
   "metadata": {
    "button": false,
    "new_sheet": true,
    "run_control": {
     "read_only": false
    },
    "slideshow": {
     "slide_type": "slide"
    }
   },
   "source": [
    "### Mutators\n",
    "\n",
    "We introduce specific classes for mutating a seed."
   ]
  },
  {
   "cell_type": "code",
   "execution_count": 2,
   "metadata": {
    "execution": {
     "iopub.execute_input": "2023-11-12T12:40:32.754561Z",
     "iopub.status.busy": "2023-11-12T12:40:32.754387Z",
     "iopub.status.idle": "2023-11-12T12:40:32.756642Z",
     "shell.execute_reply": "2023-11-12T12:40:32.756372Z"
    },
    "slideshow": {
     "slide_type": "skip"
    }
   },
   "outputs": [],
   "source": [
    "import bookutils.setup"
   ]
  },
  {
   "cell_type": "code",
   "execution_count": 3,
   "metadata": {
    "execution": {
     "iopub.execute_input": "2023-11-12T12:40:32.758499Z",
     "iopub.status.busy": "2023-11-12T12:40:32.758371Z",
     "iopub.status.idle": "2023-11-12T12:40:32.760338Z",
     "shell.execute_reply": "2023-11-12T12:40:32.760026Z"
    },
    "slideshow": {
     "slide_type": "skip"
    }
   },
   "outputs": [],
   "source": [
    "from typing import List, Set, Any, Tuple, Dict, Union\n",
    "from collections.abc import Sequence"
   ]
  },
  {
   "cell_type": "code",
   "execution_count": 4,
   "metadata": {
    "execution": {
     "iopub.execute_input": "2023-11-12T12:40:32.762245Z",
     "iopub.status.busy": "2023-11-12T12:40:32.761990Z",
     "iopub.status.idle": "2023-11-12T12:40:32.763791Z",
     "shell.execute_reply": "2023-11-12T12:40:32.763531Z"
    },
    "slideshow": {
     "slide_type": "skip"
    }
   },
   "outputs": [],
   "source": [
    "import random"
   ]
  },
  {
   "cell_type": "code",
   "execution_count": 5,
   "metadata": {
    "execution": {
     "iopub.execute_input": "2023-11-12T12:40:32.765215Z",
     "iopub.status.busy": "2023-11-12T12:40:32.765105Z",
     "iopub.status.idle": "2023-11-12T12:40:33.158868Z",
     "shell.execute_reply": "2023-11-12T12:40:33.158567Z"
    },
    "slideshow": {
     "slide_type": "skip"
    }
   },
   "outputs": [],
   "source": [
    "from Coverage import population_coverage"
   ]
  },
  {
   "cell_type": "markdown",
   "metadata": {
    "slideshow": {
     "slide_type": "fragment"
    }
   },
   "source": [
    "First, we'll introduce the `Mutator` class. Given a seed input `inp`, the mutator returns a slightly modified version of `inp`.  In the [chapter on greybox grammar fuzzing](GreyboxGrammarFuzzer.ipynb), we extend this class to consider the input grammar for smart greybox fuzzing."
   ]
  },
  {
   "cell_type": "code",
   "execution_count": 6,
   "metadata": {
    "execution": {
     "iopub.execute_input": "2023-11-12T12:40:33.160653Z",
     "iopub.status.busy": "2023-11-12T12:40:33.160496Z",
     "iopub.status.idle": "2023-11-12T12:40:33.162673Z",
     "shell.execute_reply": "2023-11-12T12:40:33.162405Z"
    },
    "slideshow": {
     "slide_type": "subslide"
    }
   },
   "outputs": [],
   "source": [
    "class Mutator:\n",
    "    \"\"\"Mutate strings\"\"\"\n",
    "\n",
    "    def __init__(self) -> None:\n",
    "        \"\"\"Constructor\"\"\"\n",
    "        self.mutators = [\n",
    "            self.delete_random_character,\n",
    "            self.insert_random_character,\n",
    "            self.flip_random_character\n",
    "        ]"
   ]
  },
  {
   "cell_type": "markdown",
   "metadata": {
    "slideshow": {
     "slide_type": "fragment"
    }
   },
   "source": [
    "For insertion, we add a random character in a random position."
   ]
  },
  {
   "cell_type": "code",
   "execution_count": 7,
   "metadata": {
    "execution": {
     "iopub.execute_input": "2023-11-12T12:40:33.164252Z",
     "iopub.status.busy": "2023-11-12T12:40:33.164118Z",
     "iopub.status.idle": "2023-11-12T12:40:33.166265Z",
     "shell.execute_reply": "2023-11-12T12:40:33.165941Z"
    },
    "slideshow": {
     "slide_type": "subslide"
    }
   },
   "outputs": [],
   "source": [
    "class Mutator(Mutator):\n",
    "    def insert_random_character(self, s: str) -> str:\n",
    "        \"\"\"Returns s with a random character inserted\"\"\"\n",
    "        pos = random.randint(0, len(s))\n",
    "        random_character = chr(random.randrange(32, 127))\n",
    "        return s[:pos] + random_character + s[pos:]"
   ]
  },
  {
   "cell_type": "markdown",
   "metadata": {
    "slideshow": {
     "slide_type": "fragment"
    }
   },
   "source": [
    "For deletion, if the string is non-empty choose a random position and delete the character. Otherwise, use the insertion-operation."
   ]
  },
  {
   "cell_type": "code",
   "execution_count": 8,
   "metadata": {
    "execution": {
     "iopub.execute_input": "2023-11-12T12:40:33.167803Z",
     "iopub.status.busy": "2023-11-12T12:40:33.167689Z",
     "iopub.status.idle": "2023-11-12T12:40:33.169913Z",
     "shell.execute_reply": "2023-11-12T12:40:33.169609Z"
    },
    "slideshow": {
     "slide_type": "subslide"
    }
   },
   "outputs": [],
   "source": [
    "class Mutator(Mutator):\n",
    "    def delete_random_character(self, s: str) -> str:\n",
    "        \"\"\"Returns s with a random character deleted\"\"\"\n",
    "        if s == \"\":\n",
    "            return self.insert_random_character(s)\n",
    "\n",
    "        pos = random.randint(0, len(s) - 1)\n",
    "        return s[:pos] + s[pos + 1:]"
   ]
  },
  {
   "cell_type": "markdown",
   "metadata": {
    "slideshow": {
     "slide_type": "fragment"
    }
   },
   "source": [
    "For substitution, if the string is non-empty choose a random position and flip a random bit in the character. Otherwise, use the insertion-operation."
   ]
  },
  {
   "cell_type": "code",
   "execution_count": 9,
   "metadata": {
    "execution": {
     "iopub.execute_input": "2023-11-12T12:40:33.171641Z",
     "iopub.status.busy": "2023-11-12T12:40:33.171519Z",
     "iopub.status.idle": "2023-11-12T12:40:33.174080Z",
     "shell.execute_reply": "2023-11-12T12:40:33.173728Z"
    },
    "slideshow": {
     "slide_type": "subslide"
    }
   },
   "outputs": [],
   "source": [
    "class Mutator(Mutator):\n",
    "    def flip_random_character(self, s: str) -> str:\n",
    "        \"\"\"Returns s with a random bit flipped in a random position\"\"\"\n",
    "        if s == \"\":\n",
    "            return self.insert_random_character(s)\n",
    "\n",
    "        pos = random.randint(0, len(s) - 1)\n",
    "        c = s[pos]\n",
    "        bit = 1 << random.randint(0, 6)\n",
    "        new_c = chr(ord(c) ^ bit)\n",
    "        return s[:pos] + new_c + s[pos + 1:]"
   ]
  },
  {
   "cell_type": "markdown",
   "metadata": {
    "slideshow": {
     "slide_type": "fragment"
    }
   },
   "source": [
    "The main method is `mutate` which chooses a random mutation operator from the list of operators."
   ]
  },
  {
   "cell_type": "code",
   "execution_count": 10,
   "metadata": {
    "execution": {
     "iopub.execute_input": "2023-11-12T12:40:33.176193Z",
     "iopub.status.busy": "2023-11-12T12:40:33.175859Z",
     "iopub.status.idle": "2023-11-12T12:40:33.178116Z",
     "shell.execute_reply": "2023-11-12T12:40:33.177847Z"
    },
    "slideshow": {
     "slide_type": "subslide"
    }
   },
   "outputs": [],
   "source": [
    "class Mutator(Mutator):\n",
    "    def mutate(self, inp: Any) -> Any:  # can be str or Seed (see below)\n",
    "        \"\"\"Return s with a random mutation applied. Can be overloaded in subclasses.\"\"\"\n",
    "        mutator = random.choice(self.mutators)\n",
    "        return mutator(inp)"
   ]
  },
  {
   "cell_type": "markdown",
   "metadata": {
    "slideshow": {
     "slide_type": "fragment"
    }
   },
   "source": [
    "Let's try the mutator. You can actually interact with such a \"cell\" and try other inputs by loading this chapter as Jupyter notebook. After opening, run all cells in the notebook using \"Kernel -> Restart & Run All\"."
   ]
  },
  {
   "cell_type": "code",
   "execution_count": 11,
   "metadata": {
    "execution": {
     "iopub.execute_input": "2023-11-12T12:40:33.179791Z",
     "iopub.status.busy": "2023-11-12T12:40:33.179677Z",
     "iopub.status.idle": "2023-11-12T12:40:33.182051Z",
     "shell.execute_reply": "2023-11-12T12:40:33.181749Z"
    },
    "slideshow": {
     "slide_type": "fragment"
    }
   },
   "outputs": [
    {
     "data": {
      "text/plain": [
       "'cood'"
      ]
     },
     "execution_count": 11,
     "metadata": {},
     "output_type": "execute_result"
    }
   ],
   "source": [
    "Mutator().mutate(\"good\")"
   ]
  },
  {
   "cell_type": "markdown",
   "metadata": {
    "slideshow": {
     "slide_type": "subslide"
    },
    "tags": []
   },
   "source": [
    "### Seeds and Power Schedules\n",
    "\n",
    "Now we introduce a new concept; the *power schedule*. A power schedule distributes the precious fuzzing time among the seeds in the population. Our objective is to maximize the time spent fuzzing those (most progressive) seeds which lead to higher coverage increase in shorter time.\n",
    "\n",
    "We call the likelihood with which a seed is chosen from the population as the seed's *energy*. Throughout a fuzzing campaign, we would like to prioritize seeds that are more promising. Simply said, we do not want to waste energy fuzzing non-progressive seeds. We call the procedure that decides a seed's energy as the fuzzer's *power schedule*. For instance, AFL's schedule assigns more energy to seeds that are shorter, that execute faster, and yield coverage increases more often.\n",
    "\n",
    "First, there is some information that we need to attach to each seed in addition to the seed's data. Hence, we define the following `Seed` class."
   ]
  },
  {
   "cell_type": "code",
   "execution_count": 12,
   "metadata": {
    "execution": {
     "iopub.execute_input": "2023-11-12T12:40:33.183781Z",
     "iopub.status.busy": "2023-11-12T12:40:33.183660Z",
     "iopub.status.idle": "2023-11-12T12:40:33.185444Z",
     "shell.execute_reply": "2023-11-12T12:40:33.185088Z"
    },
    "slideshow": {
     "slide_type": "skip"
    }
   },
   "outputs": [],
   "source": [
    "from Coverage import Location"
   ]
  },
  {
   "cell_type": "code",
   "execution_count": 13,
   "metadata": {
    "execution": {
     "iopub.execute_input": "2023-11-12T12:40:33.187319Z",
     "iopub.status.busy": "2023-11-12T12:40:33.187061Z",
     "iopub.status.idle": "2023-11-12T12:40:33.189731Z",
     "shell.execute_reply": "2023-11-12T12:40:33.189317Z"
    },
    "slideshow": {
     "slide_type": "subslide"
    }
   },
   "outputs": [],
   "source": [
    "class Seed:\n",
    "    \"\"\"Represent an input with additional attributes\"\"\"\n",
    "\n",
    "    def __init__(self, data: str) -> None:\n",
    "        \"\"\"Initialize from seed data\"\"\"\n",
    "        self.data = data\n",
    "\n",
    "        # These will be needed for advanced power schedules\n",
    "        self.coverage: Set[Location] = set()\n",
    "        self.distance: Union[int, float] = -1\n",
    "        self.energy = 0.0\n",
    "\n",
    "    def __str__(self) -> str:\n",
    "        \"\"\"Returns data as string representation of the seed\"\"\"\n",
    "        return self.data\n",
    "\n",
    "    __repr__ = __str__"
   ]
  },
  {
   "cell_type": "markdown",
   "metadata": {
    "slideshow": {
     "slide_type": "subslide"
    }
   },
   "source": [
    "The power schedule that is implemented below assigns each seed the same energy. Once a seed is in the population, it will be fuzzed as often as any other seed in the population.\n",
    "\n",
    "In Python, we can squeeze long for-loops into much smaller statements.\n",
    "* `lambda x: ...` returns a function that takes `x` as input. Lambda allows for quick definitions unnamed functions.\n",
    "* `map(f, l)` returns a list where the function `f` is applied to each element in list `l`.\n",
    "* `random.choices(l, weights)[0]` returns element `l[i]` with probability in `weights[i]`."
   ]
  },
  {
   "cell_type": "code",
   "execution_count": 14,
   "metadata": {
    "execution": {
     "iopub.execute_input": "2023-11-12T12:40:33.191592Z",
     "iopub.status.busy": "2023-11-12T12:40:33.191448Z",
     "iopub.status.idle": "2023-11-12T12:40:33.195334Z",
     "shell.execute_reply": "2023-11-12T12:40:33.195027Z"
    },
    "slideshow": {
     "slide_type": "subslide"
    }
   },
   "outputs": [],
   "source": [
    "class PowerSchedule:\n",
    "    \"\"\"Define how fuzzing time should be distributed across the population.\"\"\"\n",
    "\n",
    "    def __init__(self) -> None:\n",
    "        \"\"\"Constructor\"\"\"\n",
    "        self.path_frequency: Dict = {}\n",
    "\n",
    "    def assignEnergy(self, population: Sequence[Seed]) -> None:\n",
    "        \"\"\"Assigns each seed the same energy\"\"\"\n",
    "        for seed in population:\n",
    "            seed.energy = 1\n",
    "\n",
    "    def normalizedEnergy(self, population: Sequence[Seed]) -> List[float]:\n",
    "        \"\"\"Normalize energy\"\"\"\n",
    "        energy = list(map(lambda seed: seed.energy, population))\n",
    "        sum_energy = sum(energy)  # Add up all values in energy\n",
    "        assert sum_energy != 0\n",
    "        norm_energy = list(map(lambda nrg: nrg / sum_energy, energy))\n",
    "        return norm_energy\n",
    "\n",
    "    def choose(self, population: Sequence[Seed]) -> Seed:\n",
    "        \"\"\"Choose weighted by normalized energy.\"\"\"\n",
    "        self.assignEnergy(population)\n",
    "        norm_energy = self.normalizedEnergy(population)\n",
    "        seed: Seed = random.choices(population, weights=norm_energy)[0]\n",
    "        return seed"
   ]
  },
  {
   "cell_type": "markdown",
   "metadata": {
    "slideshow": {
     "slide_type": "subslide"
    }
   },
   "source": [
    "Let's see whether this power schedule chooses seeds uniformly at random. We ask the schedule 10k times to choose a seed from the population of three seeds (A, B, C) and keep track of the number of times we have seen each seed. We should see each seed about 3.3k times."
   ]
  },
  {
   "cell_type": "code",
   "execution_count": 15,
   "metadata": {
    "execution": {
     "iopub.execute_input": "2023-11-12T12:40:33.197148Z",
     "iopub.status.busy": "2023-11-12T12:40:33.197044Z",
     "iopub.status.idle": "2023-11-12T12:40:33.199511Z",
     "shell.execute_reply": "2023-11-12T12:40:33.199085Z"
    },
    "slideshow": {
     "slide_type": "fragment"
    }
   },
   "outputs": [],
   "source": [
    "population = [Seed(\"A\"), Seed(\"B\"), Seed(\"C\")]\n",
    "schedule = PowerSchedule()\n",
    "hits = {\n",
    "    \"A\": 0,\n",
    "    \"B\": 0,\n",
    "    \"C\": 0\n",
    "}"
   ]
  },
  {
   "cell_type": "code",
   "execution_count": 16,
   "metadata": {
    "execution": {
     "iopub.execute_input": "2023-11-12T12:40:33.201550Z",
     "iopub.status.busy": "2023-11-12T12:40:33.201202Z",
     "iopub.status.idle": "2023-11-12T12:40:33.225552Z",
     "shell.execute_reply": "2023-11-12T12:40:33.225115Z"
    },
    "slideshow": {
     "slide_type": "fragment"
    }
   },
   "outputs": [],
   "source": [
    "for i in range(10000):\n",
    "    seed = schedule.choose(population)\n",
    "    hits[seed.data] += 1"
   ]
  },
  {
   "cell_type": "code",
   "execution_count": 17,
   "metadata": {
    "execution": {
     "iopub.execute_input": "2023-11-12T12:40:33.227609Z",
     "iopub.status.busy": "2023-11-12T12:40:33.227372Z",
     "iopub.status.idle": "2023-11-12T12:40:33.230133Z",
     "shell.execute_reply": "2023-11-12T12:40:33.229720Z"
    },
    "slideshow": {
     "slide_type": "subslide"
    }
   },
   "outputs": [
    {
     "data": {
      "text/plain": [
       "{'A': 3387, 'B': 3255, 'C': 3358}"
      ]
     },
     "execution_count": 17,
     "metadata": {},
     "output_type": "execute_result"
    }
   ],
   "source": [
    "hits"
   ]
  },
  {
   "cell_type": "markdown",
   "metadata": {
    "slideshow": {
     "slide_type": "fragment"
    }
   },
   "source": [
    "Looks good. Every seed has been chosen about a third of the time."
   ]
  },
  {
   "cell_type": "markdown",
   "metadata": {
    "slideshow": {
     "slide_type": "subslide"
    }
   },
   "source": [
    "### Runners and a Sample Program\n",
    "\n",
    "We'll start with a small sample program of six lines. In order to collect coverage information during execution, we import the `FunctionCoverageRunner` class from the chapter on [mutation-based fuzzing](MutationFuzzer.ipynb#Guiding-by-Coverage). \n",
    "\n",
    "The `FunctionCoverageRunner` constructor takes a Python `function` to execute. The function `run` takes an input, passes it on to the Python `function`, and collects the coverage information for this execution. The function `coverage()` returns a list of tuples `(function name, line number)` for each statement that has been covered in the Python `function`."
   ]
  },
  {
   "cell_type": "code",
   "execution_count": 18,
   "metadata": {
    "execution": {
     "iopub.execute_input": "2023-11-12T12:40:33.231904Z",
     "iopub.status.busy": "2023-11-12T12:40:33.231773Z",
     "iopub.status.idle": "2023-11-12T12:40:33.245342Z",
     "shell.execute_reply": "2023-11-12T12:40:33.244983Z"
    },
    "slideshow": {
     "slide_type": "skip"
    }
   },
   "outputs": [],
   "source": [
    "from MutationFuzzer import FunctionCoverageRunner, http_program"
   ]
  },
  {
   "cell_type": "markdown",
   "metadata": {
    "slideshow": {
     "slide_type": "subslide"
    }
   },
   "source": [
    "The `crashme()` function raises an exception for the input \"bad!\". Let's see which statements are covered for the input \"good\"."
   ]
  },
  {
   "cell_type": "code",
   "execution_count": 19,
   "metadata": {
    "execution": {
     "iopub.execute_input": "2023-11-12T12:40:33.247063Z",
     "iopub.status.busy": "2023-11-12T12:40:33.246966Z",
     "iopub.status.idle": "2023-11-12T12:40:33.249481Z",
     "shell.execute_reply": "2023-11-12T12:40:33.249193Z"
    },
    "slideshow": {
     "slide_type": "fragment"
    }
   },
   "outputs": [],
   "source": [
    "def crashme(s: str) -> None:\n",
    "    if len(s) > 0 and s[0] == 'b':\n",
    "        if len(s) > 1 and s[1] == 'a':\n",
    "            if len(s) > 2 and s[2] == 'd':\n",
    "                if len(s) > 3 and s[3] == '!':\n",
    "                    raise Exception()"
   ]
  },
  {
   "cell_type": "code",
   "execution_count": 20,
   "metadata": {
    "execution": {
     "iopub.execute_input": "2023-11-12T12:40:33.251217Z",
     "iopub.status.busy": "2023-11-12T12:40:33.250958Z",
     "iopub.status.idle": "2023-11-12T12:40:33.253662Z",
     "shell.execute_reply": "2023-11-12T12:40:33.253355Z"
    },
    "slideshow": {
     "slide_type": "fragment"
    }
   },
   "outputs": [
    {
     "data": {
      "text/plain": [
       "[('crashme', 2), ('run_function', 132)]"
      ]
     },
     "execution_count": 20,
     "metadata": {},
     "output_type": "execute_result"
    }
   ],
   "source": [
    "crashme_runner = FunctionCoverageRunner(crashme)\n",
    "crashme_runner.run(\"good\")\n",
    "list(crashme_runner.coverage())"
   ]
  },
  {
   "cell_type": "markdown",
   "metadata": {
    "slideshow": {
     "slide_type": "fragment"
    }
   },
   "source": [
    "In `crashme`, the input \"good\" only covers the if-statement in line 2. The branch condition `len(s) > 0 and s[0] == 'b'` evaluates to False."
   ]
  },
  {
   "cell_type": "markdown",
   "metadata": {
    "slideshow": {
     "slide_type": "slide"
    }
   },
   "source": [
    "## Advanced Blackbox Mutation-based Fuzzing\n",
    "\n",
    "Let's integrate both the mutator and power schedule into a fuzzer. We'll start with a blackbox fuzzer -- which does *not* leverage any coverage information. \n",
    "\n",
    "Our `AdvancedMutationFuzzer` class is an advanced and _parameterized_ version of the `MutationFuzzer` class from the [chapter on mutation-based fuzzing](MutationFuzzer.ipynb). It also inherits from the [Fuzzer](Fuzzer.ipynb#Fuzzer-Classes) class. For now, we only need to know the functions `fuzz()` which returns a generated input and `runs()` which executes `fuzz()` a specified number of times. For our `AdvancedMutationFuzzer` class, we override the function `fuzz()`."
   ]
  },
  {
   "cell_type": "code",
   "execution_count": 21,
   "metadata": {
    "execution": {
     "iopub.execute_input": "2023-11-12T12:40:33.255449Z",
     "iopub.status.busy": "2023-11-12T12:40:33.255330Z",
     "iopub.status.idle": "2023-11-12T12:40:33.257307Z",
     "shell.execute_reply": "2023-11-12T12:40:33.256870Z"
    },
    "slideshow": {
     "slide_type": "skip"
    }
   },
   "outputs": [],
   "source": [
    "from Fuzzer import Fuzzer"
   ]
  },
  {
   "cell_type": "markdown",
   "metadata": {
    "slideshow": {
     "slide_type": "subslide"
    }
   },
   "source": [
    "The `AdvancedMutationFuzzer` is constructed with a set of initial seeds, a mutator, and a power schedule. Throughout the fuzzing campaign, it maintains a seed corpus called `population`. The function `fuzz` returns either an unfuzzed seed from the initial seeds, or the result of fuzzing a seed in the population. The function `create_candidate` handles the latter. It randomly chooses an input from the population and applies a number of mutations."
   ]
  },
  {
   "cell_type": "code",
   "execution_count": 22,
   "metadata": {
    "execution": {
     "iopub.execute_input": "2023-11-12T12:40:33.259138Z",
     "iopub.status.busy": "2023-11-12T12:40:33.259006Z",
     "iopub.status.idle": "2023-11-12T12:40:33.263332Z",
     "shell.execute_reply": "2023-11-12T12:40:33.262943Z"
    },
    "slideshow": {
     "slide_type": "subslide"
    }
   },
   "outputs": [],
   "source": [
    "class AdvancedMutationFuzzer(Fuzzer):\n",
    "    \"\"\"Base class for mutation-based fuzzing.\"\"\"\n",
    "\n",
    "    def __init__(self, seeds: List[str],\n",
    "                 mutator: Mutator,\n",
    "                 schedule: PowerSchedule) -> None:\n",
    "        \"\"\"Constructor.\n",
    "        `seeds` - a list of (input) strings to mutate.\n",
    "        `mutator` - the mutator to apply.\n",
    "        `schedule` - the power schedule to apply.\n",
    "        \"\"\"\n",
    "        self.seeds = seeds\n",
    "        self.mutator = mutator\n",
    "        self.schedule = schedule\n",
    "        self.inputs: List[str] = []\n",
    "        self.reset()\n",
    "\n",
    "    def reset(self) -> None:\n",
    "        \"\"\"Reset the initial population and seed index\"\"\"\n",
    "        self.population = list(map(lambda x: Seed(x), self.seeds))\n",
    "        self.seed_index = 0\n",
    "\n",
    "    def create_candidate(self) -> str:\n",
    "        \"\"\"Returns an input generated by fuzzing a seed in the population\"\"\"\n",
    "        seed = self.schedule.choose(self.population)\n",
    "\n",
    "        # Stacking: Apply multiple mutations to generate the candidate\n",
    "        candidate = seed.data\n",
    "        trials = min(len(candidate), 1 << random.randint(1, 5))\n",
    "        for i in range(trials):\n",
    "            candidate = self.mutator.mutate(candidate)\n",
    "        return candidate\n",
    "\n",
    "    def fuzz(self) -> str:\n",
    "        \"\"\"Returns first each seed once and then generates new inputs\"\"\"\n",
    "        if self.seed_index < len(self.seeds):\n",
    "            # Still seeding\n",
    "            self.inp = self.seeds[self.seed_index]\n",
    "            self.seed_index += 1\n",
    "        else:\n",
    "            # Mutating\n",
    "            self.inp = self.create_candidate()\n",
    "\n",
    "        self.inputs.append(self.inp)\n",
    "        return self.inp"
   ]
  },
  {
   "cell_type": "markdown",
   "metadata": {
    "slideshow": {
     "slide_type": "subslide"
    }
   },
   "source": [
    "Okay, let's take the mutation fuzzer for a spin. Given a single seed, we ask it to generate three inputs."
   ]
  },
  {
   "cell_type": "code",
   "execution_count": 23,
   "metadata": {
    "execution": {
     "iopub.execute_input": "2023-11-12T12:40:33.265083Z",
     "iopub.status.busy": "2023-11-12T12:40:33.264971Z",
     "iopub.status.idle": "2023-11-12T12:40:33.267703Z",
     "shell.execute_reply": "2023-11-12T12:40:33.267365Z"
    },
    "slideshow": {
     "slide_type": "fragment"
    }
   },
   "outputs": [
    {
     "name": "stdout",
     "output_type": "stream",
     "text": [
      "good\n",
      "gDoodC\n",
      "/\n"
     ]
    }
   ],
   "source": [
    "seed_input = \"good\"\n",
    "mutation_fuzzer = AdvancedMutationFuzzer([seed_input], Mutator(), PowerSchedule())\n",
    "print(mutation_fuzzer.fuzz())\n",
    "print(mutation_fuzzer.fuzz())\n",
    "print(mutation_fuzzer.fuzz())"
   ]
  },
  {
   "cell_type": "markdown",
   "metadata": {
    "slideshow": {
     "slide_type": "subslide"
    }
   },
   "source": [
    "Let's see how many statements the mutation-based blackbox fuzzer covers in a campaign with n=30k inputs.\n",
    "\n",
    "The fuzzer function `runs(crashme_runner, trials=n)` generates `n` inputs and executes them on the `crashme` function via the `crashme_runner`. As stated earlier, the `crashme_runner` also collects coverage information."
   ]
  },
  {
   "cell_type": "code",
   "execution_count": 24,
   "metadata": {
    "execution": {
     "iopub.execute_input": "2023-11-12T12:40:33.269937Z",
     "iopub.status.busy": "2023-11-12T12:40:33.269581Z",
     "iopub.status.idle": "2023-11-12T12:40:33.271675Z",
     "shell.execute_reply": "2023-11-12T12:40:33.271188Z"
    },
    "slideshow": {
     "slide_type": "skip"
    }
   },
   "outputs": [],
   "source": [
    "import time"
   ]
  },
  {
   "cell_type": "code",
   "execution_count": 25,
   "metadata": {
    "execution": {
     "iopub.execute_input": "2023-11-12T12:40:33.273469Z",
     "iopub.status.busy": "2023-11-12T12:40:33.273327Z",
     "iopub.status.idle": "2023-11-12T12:40:33.275283Z",
     "shell.execute_reply": "2023-11-12T12:40:33.274874Z"
    },
    "slideshow": {
     "slide_type": "fragment"
    }
   },
   "outputs": [],
   "source": [
    "n = 30000"
   ]
  },
  {
   "cell_type": "code",
   "execution_count": 26,
   "metadata": {
    "execution": {
     "iopub.execute_input": "2023-11-12T12:40:33.277075Z",
     "iopub.status.busy": "2023-11-12T12:40:33.276937Z",
     "iopub.status.idle": "2023-11-12T12:40:33.636072Z",
     "shell.execute_reply": "2023-11-12T12:40:33.635670Z"
    },
    "slideshow": {
     "slide_type": "subslide"
    }
   },
   "outputs": [
    {
     "data": {
      "text/plain": [
       "'It took the blackbox mutation-based fuzzer 0.36 seconds to generate and execute 30000 inputs.'"
      ]
     },
     "execution_count": 26,
     "metadata": {},
     "output_type": "execute_result"
    }
   ],
   "source": [
    "blackbox_fuzzer = AdvancedMutationFuzzer([seed_input], Mutator(), PowerSchedule())\n",
    "\n",
    "start = time.time()\n",
    "blackbox_fuzzer.runs(FunctionCoverageRunner(crashme), trials=n)\n",
    "end = time.time()\n",
    "\n",
    "\"It took the blackbox mutation-based fuzzer %0.2f seconds to generate and execute %d inputs.\" % (end - start, n)"
   ]
  },
  {
   "cell_type": "markdown",
   "metadata": {
    "slideshow": {
     "slide_type": "subslide"
    }
   },
   "source": [
    "In order to measure coverage, we import the [population_coverage](Coverage.ipynb#Coverage-of-Basic-Fuzzing) function. It takes a set of inputs and a Python function, executes the inputs on that function and collects coverage information. Specifically, it returns a tuple `(all_coverage, cumulative_coverage)` where `all_coverage` is the set of statements covered by all inputs, and `cumulative_coverage` is the number of statements covered as the number of executed inputs increases. We are just interested in the latter to plot coverage over time."
   ]
  },
  {
   "cell_type": "markdown",
   "metadata": {
    "slideshow": {
     "slide_type": "fragment"
    }
   },
   "source": [
    "We extract the generated inputs from the blackbox fuzzer and measure coverage as the number of inputs increases."
   ]
  },
  {
   "cell_type": "code",
   "execution_count": 27,
   "metadata": {
    "execution": {
     "iopub.execute_input": "2023-11-12T12:40:33.638075Z",
     "iopub.status.busy": "2023-11-12T12:40:33.637941Z",
     "iopub.status.idle": "2023-11-12T12:40:33.707099Z",
     "shell.execute_reply": "2023-11-12T12:40:33.706705Z"
    },
    "slideshow": {
     "slide_type": "fragment"
    }
   },
   "outputs": [
    {
     "data": {
      "text/plain": [
       "'The blackbox mutation-based fuzzer achieved a maximum coverage of 2 statements.'"
      ]
     },
     "execution_count": 27,
     "metadata": {},
     "output_type": "execute_result"
    }
   ],
   "source": [
    "_, blackbox_coverage = population_coverage(blackbox_fuzzer.inputs, crashme)\n",
    "bb_max_coverage = max(blackbox_coverage)\n",
    "\n",
    "\"The blackbox mutation-based fuzzer achieved a maximum coverage of %d statements.\" % bb_max_coverage"
   ]
  },
  {
   "cell_type": "markdown",
   "metadata": {
    "slideshow": {
     "slide_type": "subslide"
    }
   },
   "source": [
    "The following generated inputs increased the coverage for our `crashme` [example](#Runner-and-Sample-Program)."
   ]
  },
  {
   "cell_type": "code",
   "execution_count": 28,
   "metadata": {
    "execution": {
     "iopub.execute_input": "2023-11-12T12:40:33.709308Z",
     "iopub.status.busy": "2023-11-12T12:40:33.709174Z",
     "iopub.status.idle": "2023-11-12T12:40:33.713796Z",
     "shell.execute_reply": "2023-11-12T12:40:33.713449Z"
    },
    "slideshow": {
     "slide_type": "fragment"
    }
   },
   "outputs": [
    {
     "data": {
      "text/plain": [
       "['good', 'bo']"
      ]
     },
     "execution_count": 28,
     "metadata": {},
     "output_type": "execute_result"
    }
   ],
   "source": [
    "[seed_input] + \\\n",
    "    [\n",
    "        blackbox_fuzzer.inputs[idx] for idx in range(len(blackbox_coverage))\n",
    "        if blackbox_coverage[idx] > blackbox_coverage[idx - 1]\n",
    "    ]"
   ]
  },
  {
   "cell_type": "markdown",
   "metadata": {
    "slideshow": {
     "slide_type": "subslide"
    }
   },
   "source": [
    "***Summary***. This is how a blackbox mutation-based fuzzer works. We have integrated the *mutator* to generate inputs by fuzzing a provided set of initial seeds and the *power schedule* to decide which seed to choose next."
   ]
  },
  {
   "cell_type": "markdown",
   "metadata": {
    "slideshow": {
     "slide_type": "slide"
    }
   },
   "source": [
    "## Greybox Mutation-based Fuzzing\n",
    "\n",
    "In contrast to a blackbox fuzzer, a greybox fuzzer like [AFL](http://lcamtuf.coredump.cx/afl/) _does_ leverage coverage information. Specifically, a greybox fuzzer adds to the seed population generated inputs which increase code coverage.\n",
    "\n",
    "The method `run()` is inherited from the [Fuzzer](Fuzzer.ipynb#Fuzzer-Classes) class. It is called to generate and execute exactly one input. We override this function to add an input to the `population` that increases coverage. The greybox fuzzer attribute `coverages_seen` maintains the set of statements, that have previously been covered."
   ]
  },
  {
   "cell_type": "code",
   "execution_count": 29,
   "metadata": {
    "execution": {
     "iopub.execute_input": "2023-11-12T12:40:33.715726Z",
     "iopub.status.busy": "2023-11-12T12:40:33.715594Z",
     "iopub.status.idle": "2023-11-12T12:40:33.718888Z",
     "shell.execute_reply": "2023-11-12T12:40:33.718394Z"
    },
    "slideshow": {
     "slide_type": "subslide"
    }
   },
   "outputs": [],
   "source": [
    "class GreyboxFuzzer(AdvancedMutationFuzzer):\n",
    "    \"\"\"Coverage-guided mutational fuzzing.\"\"\"\n",
    "\n",
    "    def reset(self):\n",
    "        \"\"\"Reset the initial population, seed index, coverage information\"\"\"\n",
    "        super().reset()\n",
    "        self.coverages_seen = set()\n",
    "        self.population = []  # population is filled during greybox fuzzing\n",
    "\n",
    "    def run(self, runner: FunctionCoverageRunner) -> Tuple[Any, str]:  # type: ignore\n",
    "        \"\"\"Run function(inp) while tracking coverage.\n",
    "           If we reach new coverage,\n",
    "           add inp to population and its coverage to population_coverage\n",
    "        \"\"\"\n",
    "        result, outcome = super().run(runner)\n",
    "        new_coverage = frozenset(runner.coverage())\n",
    "        if new_coverage not in self.coverages_seen:\n",
    "            # We have new coverage\n",
    "            seed = Seed(self.inp)\n",
    "            seed.coverage = runner.coverage()\n",
    "            self.coverages_seen.add(new_coverage)\n",
    "            self.population.append(seed)\n",
    "\n",
    "        return (result, outcome)"
   ]
  },
  {
   "cell_type": "markdown",
   "metadata": {
    "slideshow": {
     "slide_type": "subslide"
    }
   },
   "source": [
    "Let's take our greybox fuzzer for a spin."
   ]
  },
  {
   "cell_type": "code",
   "execution_count": 30,
   "metadata": {
    "execution": {
     "iopub.execute_input": "2023-11-12T12:40:33.720722Z",
     "iopub.status.busy": "2023-11-12T12:40:33.720619Z",
     "iopub.status.idle": "2023-11-12T12:40:34.080790Z",
     "shell.execute_reply": "2023-11-12T12:40:34.080249Z"
    },
    "slideshow": {
     "slide_type": "fragment"
    }
   },
   "outputs": [
    {
     "data": {
      "text/plain": [
       "'It took the greybox mutation-based fuzzer 0.36 seconds to generate and execute 30000 inputs.'"
      ]
     },
     "execution_count": 30,
     "metadata": {},
     "output_type": "execute_result"
    }
   ],
   "source": [
    "seed_input = \"good\"\n",
    "greybox_fuzzer = GreyboxFuzzer([seed_input], Mutator(), PowerSchedule())\n",
    "\n",
    "start = time.time()\n",
    "greybox_fuzzer.runs(FunctionCoverageRunner(crashme), trials=n)\n",
    "end = time.time()\n",
    "\n",
    "\"It took the greybox mutation-based fuzzer %0.2f seconds to generate and execute %d inputs.\" % (end - start, n)"
   ]
  },
  {
   "cell_type": "markdown",
   "metadata": {
    "slideshow": {
     "slide_type": "fragment"
    }
   },
   "source": [
    "Does the greybox fuzzer cover more statements after generating the same number of test inputs?"
   ]
  },
  {
   "cell_type": "code",
   "execution_count": 31,
   "metadata": {
    "execution": {
     "iopub.execute_input": "2023-11-12T12:40:34.083043Z",
     "iopub.status.busy": "2023-11-12T12:40:34.082893Z",
     "iopub.status.idle": "2023-11-12T12:40:34.156386Z",
     "shell.execute_reply": "2023-11-12T12:40:34.156036Z"
    },
    "slideshow": {
     "slide_type": "subslide"
    }
   },
   "outputs": [
    {
     "data": {
      "text/plain": [
       "'Our greybox mutation-based fuzzer covers 2 more statements'"
      ]
     },
     "execution_count": 31,
     "metadata": {},
     "output_type": "execute_result"
    }
   ],
   "source": [
    "_, greybox_coverage = population_coverage(greybox_fuzzer.inputs, crashme)\n",
    "gb_max_coverage = max(greybox_coverage)\n",
    "\n",
    "\"Our greybox mutation-based fuzzer covers %d more statements\" % (gb_max_coverage - bb_max_coverage)"
   ]
  },
  {
   "cell_type": "markdown",
   "metadata": {
    "slideshow": {
     "slide_type": "fragment"
    }
   },
   "source": [
    "Our seed population for our [example](#Runner-and-Sample-Program) now contains the following seeds."
   ]
  },
  {
   "cell_type": "code",
   "execution_count": 32,
   "metadata": {
    "execution": {
     "iopub.execute_input": "2023-11-12T12:40:34.158561Z",
     "iopub.status.busy": "2023-11-12T12:40:34.158412Z",
     "iopub.status.idle": "2023-11-12T12:40:34.161283Z",
     "shell.execute_reply": "2023-11-12T12:40:34.160863Z"
    },
    "slideshow": {
     "slide_type": "fragment"
    }
   },
   "outputs": [
    {
     "data": {
      "text/plain": [
       "[good, bo, baof, bad4u]"
      ]
     },
     "execution_count": 32,
     "metadata": {},
     "output_type": "execute_result"
    }
   ],
   "source": [
    "greybox_fuzzer.population"
   ]
  },
  {
   "cell_type": "markdown",
   "metadata": {
    "slideshow": {
     "slide_type": "fragment"
    }
   },
   "source": [
    "Coverage-feedback is indeed helpful. The new seeds are like bread crumbs or milestones that guide the fuzzer to progress more quickly into deeper code regions. Following is a simple plot showing the coverage achieved over time for both fuzzers on our simple [example](#Runner-and-Sample-Program)."
   ]
  },
  {
   "cell_type": "code",
   "execution_count": 33,
   "metadata": {
    "execution": {
     "iopub.execute_input": "2023-11-12T12:40:34.164067Z",
     "iopub.status.busy": "2023-11-12T12:40:34.163856Z",
     "iopub.status.idle": "2023-11-12T12:40:34.170997Z",
     "shell.execute_reply": "2023-11-12T12:40:34.170682Z"
    },
    "slideshow": {
     "slide_type": "fragment"
    }
   },
   "outputs": [],
   "source": [
    "%matplotlib inline"
   ]
  },
  {
   "cell_type": "code",
   "execution_count": 34,
   "metadata": {
    "execution": {
     "iopub.execute_input": "2023-11-12T12:40:34.172803Z",
     "iopub.status.busy": "2023-11-12T12:40:34.172674Z",
     "iopub.status.idle": "2023-11-12T12:40:34.174824Z",
     "shell.execute_reply": "2023-11-12T12:40:34.174352Z"
    },
    "slideshow": {
     "slide_type": "skip"
    }
   },
   "outputs": [],
   "source": [
    "import matplotlib.pyplot as plt  # type: ignore"
   ]
  },
  {
   "cell_type": "code",
   "execution_count": 35,
   "metadata": {
    "execution": {
     "iopub.execute_input": "2023-11-12T12:40:34.176917Z",
     "iopub.status.busy": "2023-11-12T12:40:34.176737Z",
     "iopub.status.idle": "2023-11-12T12:40:34.350985Z",
     "shell.execute_reply": "2023-11-12T12:40:34.350624Z"
    },
    "slideshow": {
     "slide_type": "subslide"
    }
   },
   "outputs": [
    {
     "data": {
      "image/png": "[encoded data removed]",
      "text/plain": [
       "<Figure size 640x480 with 1 Axes>"
      ]
     },
     "metadata": {},
     "output_type": "display_data"
    }
   ],
   "source": [
    "line_bb, = plt.plot(blackbox_coverage, label=\"Blackbox\")\n",
    "line_gb, = plt.plot(greybox_coverage, label=\"Greybox\")\n",
    "plt.legend(handles=[line_bb, line_gb])\n",
    "plt.title('Coverage over time')\n",
    "plt.xlabel('# of inputs')\n",
    "plt.ylabel('lines covered');"
   ]
  },
  {
   "cell_type": "markdown",
   "metadata": {
    "slideshow": {
     "slide_type": "subslide"
    }
   },
   "source": [
    "***Summary***. We have seen how a greybox fuzzer \"discovers\" interesting seeds that can lead to more progress. From the input `good`, our greybox fuzzer has slowly learned how to generate the input `bad!` which raises the exception. Now, how can we do that even faster?\n",
    "\n",
    "***Try it***. How much coverage would be achieved over time using a blackbox *generation-based* fuzzer? Try plotting the coverage for all three fuzzers. You can define the blackbox generation-based fuzzer as follows.\n",
    "```Python\n",
    "from Fuzzer import RandomFuzzer\n",
    "blackbox_gen_fuzzer = RandomFuzzer(min_length=4, max_length=4, char_start=32, char_range=96)\n",
    "```\n",
    "You can execute your own code by opening this chapter as Jupyter notebook.\n",
    "\n",
    "***Read***. This is the high-level view how AFL works, one of the most successful vulnerability detection tools. If you are interested in the technical details, have a look at: https://github.com/mirrorer/afl/blob/master/docs/technical_details.txt"
   ]
  },
  {
   "cell_type": "markdown",
   "metadata": {
    "slideshow": {
     "slide_type": "slide"
    }
   },
   "source": [
    "## Boosted Greybox Fuzzing\n",
    "\n",
    "Our boosted greybox fuzzer assigns more energy to seeds that promise to achieve more coverage. We change the power schedule such that seeds that exercise \"unusual\" paths have more energy. With *unusual paths*, we mean paths that are not exercised very often by generated inputs.\n",
    "\n",
    "In order to identify which path is exercised by an input, we leverage the function `getPathID` from the section on [trace coverage](WhenIsEnough.ipynb#Trace-Coverage)."
   ]
  },
  {
   "cell_type": "code",
   "execution_count": 36,
   "metadata": {
    "execution": {
     "iopub.execute_input": "2023-11-12T12:40:34.352870Z",
     "iopub.status.busy": "2023-11-12T12:40:34.352740Z",
     "iopub.status.idle": "2023-11-12T12:40:34.354670Z",
     "shell.execute_reply": "2023-11-12T12:40:34.354211Z"
    },
    "slideshow": {
     "slide_type": "skip"
    }
   },
   "outputs": [],
   "source": [
    "import pickle   # serializes an object by producing a byte array from all the information in the object\n",
    "import hashlib  # produces a 128-bit hash value from a byte array"
   ]
  },
  {
   "cell_type": "markdown",
   "metadata": {
    "slideshow": {
     "slide_type": "fragment"
    }
   },
   "source": [
    "The function `getPathID` returns a unique hash for a coverage set."
   ]
  },
  {
   "cell_type": "code",
   "execution_count": 37,
   "metadata": {
    "execution": {
     "iopub.execute_input": "2023-11-12T12:40:34.356493Z",
     "iopub.status.busy": "2023-11-12T12:40:34.356301Z",
     "iopub.status.idle": "2023-11-12T12:40:34.358716Z",
     "shell.execute_reply": "2023-11-12T12:40:34.358294Z"
    },
    "slideshow": {
     "slide_type": "subslide"
    }
   },
   "outputs": [],
   "source": [
    "def getPathID(coverage: Any) -> str:\n",
    "    \"\"\"Returns a unique hash for the covered statements\"\"\"\n",
    "    pickled = pickle.dumps(sorted(coverage))\n",
    "    return hashlib.md5(pickled).hexdigest()"
   ]
  },
  {
   "cell_type": "markdown",
   "metadata": {
    "slideshow": {
     "slide_type": "fragment"
    }
   },
   "source": [
    "There are several ways to assign energy based on how unusual the exercised path is. In this case, we implement an _exponential power schedule_ which computes the energy $e(s)$ for a seed $s$ as follows\n",
    "$$e(s) = \\frac{1}{f(p(s))^a}$$\n",
    "where \n",
    "* $p(s)$ returns the ID of the path exercised by $s$, \n",
    "* $f(p)$ returns the number of times the path $p$ is exercised by generated inputs, and \n",
    "* $a$ is a given exponent."
   ]
  },
  {
   "cell_type": "code",
   "execution_count": 38,
   "metadata": {
    "execution": {
     "iopub.execute_input": "2023-11-12T12:40:34.361210Z",
     "iopub.status.busy": "2023-11-12T12:40:34.361027Z",
     "iopub.status.idle": "2023-11-12T12:40:34.363969Z",
     "shell.execute_reply": "2023-11-12T12:40:34.363517Z"
    },
    "slideshow": {
     "slide_type": "subslide"
    }
   },
   "outputs": [],
   "source": [
    "class AFLFastSchedule(PowerSchedule):\n",
    "    \"\"\"Exponential power schedule as implemented in AFL\"\"\"\n",
    "\n",
    "    def __init__(self, exponent: float) -> None:\n",
    "        self.exponent = exponent\n",
    "\n",
    "    def assignEnergy(self, population: Sequence[Seed]) -> None:\n",
    "        \"\"\"Assign exponential energy inversely proportional to path frequency\"\"\"\n",
    "        for seed in population:\n",
    "            seed.energy = 1 / (self.path_frequency[getPathID(seed.coverage)] ** self.exponent)"
   ]
  },
  {
   "attachments": {},
   "cell_type": "markdown",
   "metadata": {
    "slideshow": {
     "slide_type": "fragment"
    }
   },
   "source": [
    "In the greybox fuzzer, let's keep track of the number of times $f(p)$ each path $p$ is exercised, and update the power schedule."
   ]
  },
  {
   "cell_type": "code",
   "execution_count": 39,
   "metadata": {
    "execution": {
     "iopub.execute_input": "2023-11-12T12:40:34.366371Z",
     "iopub.status.busy": "2023-11-12T12:40:34.366199Z",
     "iopub.status.idle": "2023-11-12T12:40:34.369018Z",
     "shell.execute_reply": "2023-11-12T12:40:34.368691Z"
    },
    "slideshow": {
     "slide_type": "subslide"
    }
   },
   "outputs": [],
   "source": [
    "class CountingGreyboxFuzzer(GreyboxFuzzer):\n",
    "    \"\"\"Count how often individual paths are exercised.\"\"\"\n",
    "\n",
    "    def reset(self):\n",
    "        \"\"\"Reset path frequency\"\"\"\n",
    "        super().reset()\n",
    "        self.schedule.path_frequency = {}\n",
    "\n",
    "    def run(self, runner: FunctionCoverageRunner) -> Tuple[Any, str]:  # type: ignore\n",
    "        \"\"\"Inform scheduler about path frequency\"\"\"\n",
    "        result, outcome = super().run(runner)\n",
    "\n",
    "        path_id = getPathID(runner.coverage())\n",
    "        if path_id not in self.schedule.path_frequency:\n",
    "            self.schedule.path_frequency[path_id] = 1\n",
    "        else:\n",
    "            self.schedule.path_frequency[path_id] += 1\n",
    "\n",
    "        return(result, outcome)"
   ]
  },
  {
   "attachments": {},
   "cell_type": "markdown",
   "metadata": {
    "slideshow": {
     "slide_type": "subslide"
    }
   },
   "source": [
    "Okay, let's run our boosted greybox fuzzer $n=10k$ times on our simple [example](#Runner-and-Sample-Program). We set the exponentent of our exponential power schedule to $a=5$."
   ]
  },
  {
   "cell_type": "code",
   "execution_count": 40,
   "metadata": {
    "execution": {
     "iopub.execute_input": "2023-11-12T12:40:34.370773Z",
     "iopub.status.busy": "2023-11-12T12:40:34.370653Z",
     "iopub.status.idle": "2023-11-12T12:40:34.615460Z",
     "shell.execute_reply": "2023-11-12T12:40:34.615096Z"
    },
    "slideshow": {
     "slide_type": "fragment"
    }
   },
   "outputs": [
    {
     "data": {
      "text/plain": [
       "'It took the fuzzer w/ exponential schedule 0.24 seconds to generate and execute 10000 inputs.'"
      ]
     },
     "execution_count": 40,
     "metadata": {},
     "output_type": "execute_result"
    }
   ],
   "source": [
    "n = 10000\n",
    "seed_input = \"good\"\n",
    "fast_schedule = AFLFastSchedule(5)\n",
    "fast_fuzzer = CountingGreyboxFuzzer([seed_input], Mutator(), fast_schedule)\n",
    "start = time.time()\n",
    "fast_fuzzer.runs(FunctionCoverageRunner(crashme), trials=n)\n",
    "end = time.time()\n",
    "\n",
    "\"It took the fuzzer w/ exponential schedule %0.2f seconds to generate and execute %d inputs.\" % (end - start, n)"
   ]
  },
  {
   "cell_type": "code",
   "execution_count": 41,
   "metadata": {
    "execution": {
     "iopub.execute_input": "2023-11-12T12:40:34.617687Z",
     "iopub.status.busy": "2023-11-12T12:40:34.617540Z",
     "iopub.status.idle": "2023-11-12T12:40:34.619408Z",
     "shell.execute_reply": "2023-11-12T12:40:34.619061Z"
    },
    "slideshow": {
     "slide_type": "skip"
    }
   },
   "outputs": [],
   "source": [
    "import numpy as np"
   ]
  },
  {
   "cell_type": "code",
   "execution_count": 42,
   "metadata": {
    "execution": {
     "iopub.execute_input": "2023-11-12T12:40:34.621126Z",
     "iopub.status.busy": "2023-11-12T12:40:34.621005Z",
     "iopub.status.idle": "2023-11-12T12:40:34.686432Z",
     "shell.execute_reply": "2023-11-12T12:40:34.686052Z"
    },
    "slideshow": {
     "slide_type": "subslide"
    }
   },
   "outputs": [
    {
     "data": {
      "image/png": "[encoded data removed]",
      "text/plain": [
       "<Figure size 640x480 with 1 Axes>"
      ]
     },
     "metadata": {},
     "output_type": "display_data"
    }
   ],
   "source": [
    "x_axis = np.arange(len(fast_schedule.path_frequency))\n",
    "y_axis = list(fast_schedule.path_frequency.values())\n",
    "\n",
    "plt.bar(x_axis, y_axis)\n",
    "plt.xticks(x_axis)\n",
    "plt.ylim(0, n)\n",
    "# plt.yscale(\"log\")\n",
    "# plt.yticks([10,100,1000,10000])\n",
    "plt;"
   ]
  },
  {
   "cell_type": "code",
   "execution_count": 43,
   "metadata": {
    "execution": {
     "iopub.execute_input": "2023-11-12T12:40:34.688512Z",
     "iopub.status.busy": "2023-11-12T12:40:34.688371Z",
     "iopub.status.idle": "2023-11-12T12:40:34.691257Z",
     "shell.execute_reply": "2023-11-12T12:40:34.690820Z"
    },
    "slideshow": {
     "slide_type": "subslide"
    }
   },
   "outputs": [
    {
     "name": "stdout",
     "output_type": "stream",
     "text": [
      "             path id 'p'           : path frequency 'f(p)'\n"
     ]
    },
    {
     "data": {
      "text/plain": [
       "{'e014b68ad4f3bc2daf207e2498d14cbf': 5612,\n",
       " '0a1008773804033d8a4c0e3aba4b96a0': 2607,\n",
       " 'eae4df5b039511eac56625f47c337d24': 1105,\n",
       " 'b14f545c3b39716a455034d9a0c61b8c': 457,\n",
       " '11529f85aaa30be08110f3076748e420': 219}"
      ]
     },
     "execution_count": 43,
     "metadata": {},
     "output_type": "execute_result"
    }
   ],
   "source": [
    "print(\"             path id 'p'           : path frequency 'f(p)'\")\n",
    "fast_schedule.path_frequency"
   ]
  },
  {
   "cell_type": "markdown",
   "metadata": {
    "slideshow": {
     "slide_type": "fragment"
    }
   },
   "source": [
    "How does it compare to our greybox fuzzer with the classical power schedule?"
   ]
  },
  {
   "cell_type": "code",
   "execution_count": 44,
   "metadata": {
    "execution": {
     "iopub.execute_input": "2023-11-12T12:40:34.693673Z",
     "iopub.status.busy": "2023-11-12T12:40:34.693494Z",
     "iopub.status.idle": "2023-11-12T12:40:34.862618Z",
     "shell.execute_reply": "2023-11-12T12:40:34.862003Z"
    },
    "slideshow": {
     "slide_type": "subslide"
    }
   },
   "outputs": [
    {
     "data": {
      "text/plain": [
       "'It took the fuzzer w/ original schedule 0.17 seconds to generate and execute 10000 inputs.'"
      ]
     },
     "execution_count": 44,
     "metadata": {},
     "output_type": "execute_result"
    }
   ],
   "source": [
    "seed_input = \"good\"\n",
    "orig_schedule = PowerSchedule()\n",
    "orig_fuzzer = CountingGreyboxFuzzer([seed_input], Mutator(), orig_schedule)\n",
    "start = time.time()\n",
    "orig_fuzzer.runs(FunctionCoverageRunner(crashme), trials=n)\n",
    "end = time.time()\n",
    "\n",
    "\"It took the fuzzer w/ original schedule %0.2f seconds to generate and execute %d inputs.\" % (end - start, n)"
   ]
  },
  {
   "cell_type": "code",
   "execution_count": 45,
   "metadata": {
    "execution": {
     "iopub.execute_input": "2023-11-12T12:40:34.865170Z",
     "iopub.status.busy": "2023-11-12T12:40:34.865027Z",
     "iopub.status.idle": "2023-11-12T12:40:34.929051Z",
     "shell.execute_reply": "2023-11-12T12:40:34.928697Z"
    },
    "slideshow": {
     "slide_type": "subslide"
    }
   },
   "outputs": [
    {
     "data": {
      "image/png": "[encoded data removed]",
      "text/plain": [
       "<Figure size 640x480 with 1 Axes>"
      ]
     },
     "metadata": {},
     "output_type": "display_data"
    }
   ],
   "source": [
    "x_axis = np.arange(len(orig_schedule.path_frequency))\n",
    "y_axis = list(orig_schedule.path_frequency.values())\n",
    "\n",
    "plt.bar(x_axis, y_axis)\n",
    "plt.xticks(x_axis)\n",
    "plt.ylim(0, n)\n",
    "# plt.yscale(\"log\")\n",
    "# plt.yticks([10,100,1000,10000])\n",
    "plt;"
   ]
  },
  {
   "cell_type": "code",
   "execution_count": 46,
   "metadata": {
    "execution": {
     "iopub.execute_input": "2023-11-12T12:40:34.931252Z",
     "iopub.status.busy": "2023-11-12T12:40:34.930998Z",
     "iopub.status.idle": "2023-11-12T12:40:34.934127Z",
     "shell.execute_reply": "2023-11-12T12:40:34.933687Z"
    },
    "slideshow": {
     "slide_type": "subslide"
    }
   },
   "outputs": [
    {
     "name": "stdout",
     "output_type": "stream",
     "text": [
      "             path id 'p'           : path frequency 'f(p)'\n"
     ]
    },
    {
     "data": {
      "text/plain": [
       "{'e014b68ad4f3bc2daf207e2498d14cbf': 6581,\n",
       " '0a1008773804033d8a4c0e3aba4b96a0': 2379,\n",
       " 'eae4df5b039511eac56625f47c337d24': 737,\n",
       " 'b14f545c3b39716a455034d9a0c61b8c': 241,\n",
       " '11529f85aaa30be08110f3076748e420': 62}"
      ]
     },
     "execution_count": 46,
     "metadata": {},
     "output_type": "execute_result"
    }
   ],
   "source": [
    "print(\"             path id 'p'           : path frequency 'f(p)'\")\n",
    "orig_schedule.path_frequency"
   ]
  },
  {
   "cell_type": "markdown",
   "metadata": {
    "slideshow": {
     "slide_type": "subslide"
    }
   },
   "source": [
    "The exponential power schedule shaves some of the executions of the \"high-frequency path\" off and adds them to the lower-frequency paths. The path executed least often is either not at all exercised using the traditional power schedule or it is exercised much less often.\n",
    "\n",
    "Let's have a look at the energy that is assigned to the discovered seeds."
   ]
  },
  {
   "cell_type": "code",
   "execution_count": 47,
   "metadata": {
    "execution": {
     "iopub.execute_input": "2023-11-12T12:40:34.935993Z",
     "iopub.status.busy": "2023-11-12T12:40:34.935890Z",
     "iopub.status.idle": "2023-11-12T12:40:34.938510Z",
     "shell.execute_reply": "2023-11-12T12:40:34.938071Z"
    },
    "slideshow": {
     "slide_type": "subslide"
    }
   },
   "outputs": [
    {
     "name": "stdout",
     "output_type": "stream",
     "text": [
      "'e014b68ad4f3bc2daf207e2498d14cbf', 0.20000, 'good'\n",
      "'0a1008773804033d8a4c0e3aba4b96a0', 0.20000, 'bgI/d'\n",
      "'eae4df5b039511eac56625f47c337d24', 0.20000, 'baI/dt'\n",
      "'b14f545c3b39716a455034d9a0c61b8c', 0.20000, 'badtuS'\n",
      "'11529f85aaa30be08110f3076748e420', 0.20000, 'bad!`tuS'\n"
     ]
    }
   ],
   "source": [
    "orig_energy = orig_schedule.normalizedEnergy(orig_fuzzer.population)\n",
    "\n",
    "for (seed, norm_energy) in zip(orig_fuzzer.population, orig_energy):\n",
    "    print(\"'%s', %0.5f, %s\" % (getPathID(seed.coverage),  # type: ignore\n",
    "                               norm_energy, repr(seed.data)))"
   ]
  },
  {
   "cell_type": "code",
   "execution_count": 48,
   "metadata": {
    "execution": {
     "iopub.execute_input": "2023-11-12T12:40:34.940357Z",
     "iopub.status.busy": "2023-11-12T12:40:34.940154Z",
     "iopub.status.idle": "2023-11-12T12:40:34.942821Z",
     "shell.execute_reply": "2023-11-12T12:40:34.942506Z"
    },
    "slideshow": {
     "slide_type": "subslide"
    }
   },
   "outputs": [
    {
     "name": "stdout",
     "output_type": "stream",
     "text": [
      "'e014b68ad4f3bc2daf207e2498d14cbf', 0.00000, 'good'\n",
      "'0a1008773804033d8a4c0e3aba4b96a0', 0.00000, 'bnd'\n",
      "'eae4df5b039511eac56625f47c337d24', 0.00030, 'ba.'\n",
      "'b14f545c3b39716a455034d9a0c61b8c', 0.02464, 'bad.'\n",
      "'11529f85aaa30be08110f3076748e420', 0.97506, 'bad!\\\\.'\n"
     ]
    }
   ],
   "source": [
    "fast_energy = fast_schedule.normalizedEnergy(fast_fuzzer.population)\n",
    "\n",
    "for (seed, norm_energy) in zip(fast_fuzzer.population, fast_energy):\n",
    "    print(\"'%s', %0.5f, %s\" % (getPathID(seed.coverage),  # type: ignore\n",
    "                               norm_energy, repr(seed.data)))"
   ]
  },
  {
   "cell_type": "markdown",
   "metadata": {
    "slideshow": {
     "slide_type": "subslide"
    }
   },
   "source": [
    "Exactly. Our new exponential power schedule assigns most energy to the seed exercising the lowest-frequency path.\n",
    "\n",
    "Let's compare them in terms of coverage achieved over time for our simple [example](#Runner-and-Sample-Program)."
   ]
  },
  {
   "cell_type": "code",
   "execution_count": 49,
   "metadata": {
    "execution": {
     "iopub.execute_input": "2023-11-12T12:40:34.945440Z",
     "iopub.status.busy": "2023-11-12T12:40:34.945295Z",
     "iopub.status.idle": "2023-11-12T12:40:35.117794Z",
     "shell.execute_reply": "2023-11-12T12:40:35.117505Z"
    },
    "slideshow": {
     "slide_type": "fragment"
    }
   },
   "outputs": [
    {
     "data": {
      "image/png": "[encoded data removed]",
      "text/plain": [
       "<Figure size 640x480 with 1 Axes>"
      ]
     },
     "metadata": {},
     "output_type": "display_data"
    }
   ],
   "source": [
    "_, orig_coverage = population_coverage(orig_fuzzer.inputs, crashme)\n",
    "_, fast_coverage = population_coverage(fast_fuzzer.inputs, crashme)\n",
    "line_orig, = plt.plot(orig_coverage, label=\"Original Greybox Fuzzer\")\n",
    "line_fast, = plt.plot(fast_coverage, label=\"Boosted Greybox Fuzzer\")\n",
    "plt.legend(handles=[line_orig, line_fast])\n",
    "plt.title('Coverage over time')\n",
    "plt.xlabel('# of inputs')\n",
    "plt.ylabel('lines covered');"
   ]
  },
  {
   "cell_type": "markdown",
   "metadata": {
    "slideshow": {
     "slide_type": "subslide"
    }
   },
   "source": [
    "As expected, the boosted greybox fuzzer (with the exponential power schedule) achieves coverage much faster.\n",
    "\n",
    "***Summary***. By fuzzing seeds more often that exercise low-frequency paths, we can explore program paths in a much more efficient manner.\n",
    "\n",
    "***Try it***. You can try other exponents for the fast power schedule, or change the power schedule entirely. Note that a large exponent can lead to overflows and imprecisions in the floating point arithmetic producing unexpected results. You can execute your own code by opening this chapter as Jupyter notebook.\n",
    "\n",
    "***Read***. You can find out more about fuzzer boosting in the paper \"[Coverage-based Greybox Fuzzing as Markov Chain](https://mboehme.github.io/paper/CCS16.pdf)\" \\cite{boehme2018greybox} and check out the implementation into AFL at [http://github.com/mboehme/aflfast]."
   ]
  },
  {
   "cell_type": "markdown",
   "metadata": {
    "slideshow": {
     "slide_type": "slide"
    }
   },
   "source": [
    "## A Complex Example: HTMLParser\n",
    "\n",
    "Let's compare the three fuzzers on a more realistic example, the Python [HTML parser](https://docs.python.org/3/library/html.parser.html). We run all three fuzzers $n=5k$ times on the HTMLParser, starting with the \"empty\" seed."
   ]
  },
  {
   "cell_type": "code",
   "execution_count": 50,
   "metadata": {
    "execution": {
     "iopub.execute_input": "2023-11-12T12:40:35.119731Z",
     "iopub.status.busy": "2023-11-12T12:40:35.119425Z",
     "iopub.status.idle": "2023-11-12T12:40:35.121718Z",
     "shell.execute_reply": "2023-11-12T12:40:35.121431Z"
    },
    "slideshow": {
     "slide_type": "skip"
    }
   },
   "outputs": [],
   "source": [
    "from html.parser import HTMLParser"
   ]
  },
  {
   "cell_type": "code",
   "execution_count": 51,
   "metadata": {
    "execution": {
     "iopub.execute_input": "2023-11-12T12:40:35.123268Z",
     "iopub.status.busy": "2023-11-12T12:40:35.123144Z",
     "iopub.status.idle": "2023-11-12T12:40:35.125189Z",
     "shell.execute_reply": "2023-11-12T12:40:35.124819Z"
    },
    "slideshow": {
     "slide_type": "fragment"
    }
   },
   "outputs": [],
   "source": [
    "# create wrapper function\n",
    "def my_parser(inp: str) -> None:\n",
    "    parser = HTMLParser()  # resets the HTMLParser object for every fuzz input\n",
    "    parser.feed(inp)"
   ]
  },
  {
   "cell_type": "code",
   "execution_count": 52,
   "metadata": {
    "execution": {
     "iopub.execute_input": "2023-11-12T12:40:35.126739Z",
     "iopub.status.busy": "2023-11-12T12:40:35.126611Z",
     "iopub.status.idle": "2023-11-12T12:40:35.129367Z",
     "shell.execute_reply": "2023-11-12T12:40:35.129050Z"
    },
    "slideshow": {
     "slide_type": "fragment"
    }
   },
   "outputs": [],
   "source": [
    "n = 5000\n",
    "seed_input = \" \"  # empty seed\n",
    "blackbox_fuzzer = AdvancedMutationFuzzer([seed_input], Mutator(), PowerSchedule())\n",
    "greybox_fuzzer = GreyboxFuzzer([seed_input], Mutator(), PowerSchedule())\n",
    "boosted_fuzzer = CountingGreyboxFuzzer([seed_input], Mutator(), AFLFastSchedule(5))"
   ]
  },
  {
   "cell_type": "code",
   "execution_count": 53,
   "metadata": {
    "execution": {
     "iopub.execute_input": "2023-11-12T12:40:35.131329Z",
     "iopub.status.busy": "2023-11-12T12:40:35.131197Z",
     "iopub.status.idle": "2023-11-12T12:40:48.084870Z",
     "shell.execute_reply": "2023-11-12T12:40:48.084435Z"
    },
    "slideshow": {
     "slide_type": "subslide"
    }
   },
   "outputs": [
    {
     "data": {
      "text/plain": [
       "'It took all three fuzzers 12.95 seconds to generate and execute 5000 inputs.'"
      ]
     },
     "execution_count": 53,
     "metadata": {},
     "output_type": "execute_result"
    }
   ],
   "source": [
    "start = time.time()\n",
    "blackbox_fuzzer.runs(FunctionCoverageRunner(my_parser), trials=n)\n",
    "greybox_fuzzer.runs(FunctionCoverageRunner(my_parser), trials=n)\n",
    "boosted_fuzzer.runs(FunctionCoverageRunner(my_parser), trials=n)\n",
    "end = time.time()\n",
    "\n",
    "\"It took all three fuzzers %0.2f seconds to generate and execute %d inputs.\" % (end - start, n)"
   ]
  },
  {
   "cell_type": "markdown",
   "metadata": {
    "slideshow": {
     "slide_type": "fragment"
    }
   },
   "source": [
    "How do the fuzzers compare in terms of coverage over time?"
   ]
  },
  {
   "cell_type": "code",
   "execution_count": 54,
   "metadata": {
    "execution": {
     "iopub.execute_input": "2023-11-12T12:40:48.086860Z",
     "iopub.status.busy": "2023-11-12T12:40:48.086722Z",
     "iopub.status.idle": "2023-11-12T12:40:48.769848Z",
     "shell.execute_reply": "2023-11-12T12:40:48.769376Z"
    },
    "slideshow": {
     "slide_type": "subslide"
    }
   },
   "outputs": [
    {
     "data": {
      "image/png": "[encoded data removed]",
      "text/plain": [
       "<Figure size 640x480 with 1 Axes>"
      ]
     },
     "metadata": {},
     "output_type": "display_data"
    }
   ],
   "source": [
    "_, black_coverage = population_coverage(blackbox_fuzzer.inputs, my_parser)\n",
    "_, grey_coverage = population_coverage(greybox_fuzzer.inputs, my_parser)\n",
    "_, boost_coverage = population_coverage(boosted_fuzzer.inputs, my_parser)\n",
    "line_black, = plt.plot(black_coverage, label=\"Blackbox Fuzzer\")\n",
    "line_grey, = plt.plot(grey_coverage, label=\"Greybox Fuzzer\")\n",
    "line_boost, = plt.plot(boost_coverage, label=\"Boosted Greybox Fuzzer\")\n",
    "plt.legend(handles=[line_boost, line_grey, line_black])\n",
    "plt.title('Coverage over time')\n",
    "plt.xlabel('# of inputs')\n",
    "plt.ylabel('lines covered');"
   ]
  },
  {
   "cell_type": "markdown",
   "metadata": {
    "slideshow": {
     "slide_type": "fragment"
    }
   },
   "source": [
    "Both greybox fuzzers clearly outperform the blackbox fuzzer. The reason is that the greybox fuzzer \"discovers\" interesting inputs along the way. Let's have a look at the last 10 inputs generated by the greybox versus blackbox fuzzer."
   ]
  },
  {
   "cell_type": "code",
   "execution_count": 55,
   "metadata": {
    "execution": {
     "iopub.execute_input": "2023-11-12T12:40:48.771746Z",
     "iopub.status.busy": "2023-11-12T12:40:48.771601Z",
     "iopub.status.idle": "2023-11-12T12:40:48.773851Z",
     "shell.execute_reply": "2023-11-12T12:40:48.773560Z"
    },
    "slideshow": {
     "slide_type": "subslide"
    }
   },
   "outputs": [
    {
     "data": {
      "text/plain": [
       "[' H', '', '', '`', ' i', '', '(', 'j ', '', '0']"
      ]
     },
     "execution_count": 55,
     "metadata": {},
     "output_type": "execute_result"
    }
   ],
   "source": [
    "blackbox_fuzzer.inputs[-10:]"
   ]
  },
  {
   "cell_type": "code",
   "execution_count": 56,
   "metadata": {
    "execution": {
     "iopub.execute_input": "2023-11-12T12:40:48.775381Z",
     "iopub.status.busy": "2023-11-12T12:40:48.775274Z",
     "iopub.status.idle": "2023-11-12T12:40:48.777481Z",
     "shell.execute_reply": "2023-11-12T12:40:48.777146Z"
    },
    "slideshow": {
     "slide_type": "fragment"
    }
   },
   "outputs": [
    {
     "data": {
      "text/plain": [
       "['m*\\x08',\n",
       " 'r.5<)h',\n",
       " '</F/aG>iq',\n",
       " '\\x11G',\n",
       " '5<n5',\n",
       " 'i&<d$',\n",
       " '/Wi<`<4Gxs',\n",
       " '4$<?B\\x16g',\n",
       " '$G<!?Bg',\n",
       " '\\x06!|$v']"
      ]
     },
     "execution_count": 56,
     "metadata": {},
     "output_type": "execute_result"
    }
   ],
   "source": [
    "greybox_fuzzer.inputs[-10:]"
   ]
  },
  {
   "cell_type": "markdown",
   "metadata": {
    "slideshow": {
     "slide_type": "subslide"
    }
   },
   "source": [
    "The greybox fuzzer executes much more complicated inputs, many of which include special characters such as opening and closing brackets and chevrons (i.e., `<, >, [, ]`). Yet, many important keywords, such as `<html>` are still missing. \n",
    "\n",
    "To inform the fuzzer about these important keywords, we will need [grammars](Grammars.ipynb); in the section on [smart greybox fuzzing](LangFuzzer.ipynb), we combine them with the techniques above.\n",
    "\n",
    "***Try it***. You can re-run these experiments to understand the variance of fuzzing experiments. Sometimes, the fuzzer that we claim to be superior does not seem to outperform the inferior fuzzer. In order to do this, you just need to open this chapter as Jupyter notebook."
   ]
  },
  {
   "cell_type": "markdown",
   "metadata": {
    "slideshow": {
     "slide_type": "slide"
    }
   },
   "source": [
    "## Directed Greybox Fuzzing\n",
    "\n",
    "Sometimes, you just want the fuzzer to reach some dangerous location in the source code. This could be a location where you expect a buffer overflow. Or you want to test a recent change in your code base. How do we direct the fuzzer towards these locations?\n",
    "\n",
    "In this chapter, we introduce directed greybox fuzzing as an optimization problem."
   ]
  },
  {
   "cell_type": "markdown",
   "metadata": {
    "slideshow": {
     "slide_type": "subslide"
    }
   },
   "source": [
    "### Solving the Maze\n",
    "\n",
    "To provide a meaningful example where you can easily change the code complexity and target location, we generate the maze source code from the maze provided as string. This example is loosely based on an old [blog post](https://feliam.wordpress.com/2010/10/07/the-symbolic-maze/) on symbolic execution by Felipe Andres Manzano (Quick shout-out!).\n",
    "\n",
    "You simply specify the maze as a string. Like so."
   ]
  },
  {
   "cell_type": "code",
   "execution_count": 57,
   "metadata": {
    "execution": {
     "iopub.execute_input": "2023-11-12T12:40:48.779879Z",
     "iopub.status.busy": "2023-11-12T12:40:48.779707Z",
     "iopub.status.idle": "2023-11-12T12:40:48.781606Z",
     "shell.execute_reply": "2023-11-12T12:40:48.781305Z"
    },
    "slideshow": {
     "slide_type": "subslide"
    }
   },
   "outputs": [],
   "source": [
    "maze_string = \"\"\"\n",
    "+-+-----+\n",
    "|X|     |\n",
    "| | --+ |\n",
    "| |   | |\n",
    "| +-- | |\n",
    "|     |#|\n",
    "+-----+-+\n",
    "\"\"\""
   ]
  },
  {
   "cell_type": "markdown",
   "metadata": {
    "slideshow": {
     "slide_type": "fragment"
    }
   },
   "source": [
    "The code is generated using the function `generate_maze_code()`. We'll hide the implementation and instead explain what it does. If you are interested in the coding, go [here](ControlFlow.ipynb#Example:-Maze)."
   ]
  },
  {
   "cell_type": "code",
   "execution_count": 58,
   "metadata": {
    "execution": {
     "iopub.execute_input": "2023-11-12T12:40:48.783139Z",
     "iopub.status.busy": "2023-11-12T12:40:48.783026Z",
     "iopub.status.idle": "2023-11-12T12:40:48.888119Z",
     "shell.execute_reply": "2023-11-12T12:40:48.887819Z"
    },
    "slideshow": {
     "slide_type": "skip"
    }
   },
   "outputs": [],
   "source": [
    "from ControlFlow import generate_maze_code"
   ]
  },
  {
   "cell_type": "code",
   "execution_count": 59,
   "metadata": {
    "execution": {
     "iopub.execute_input": "2023-11-12T12:40:48.889975Z",
     "iopub.status.busy": "2023-11-12T12:40:48.889855Z",
     "iopub.status.idle": "2023-11-12T12:40:48.891843Z",
     "shell.execute_reply": "2023-11-12T12:40:48.891559Z"
    },
    "slideshow": {
     "slide_type": "fragment"
    }
   },
   "outputs": [],
   "source": [
    "# ignore\n",
    "def maze(s: str) -> str:\n",
    "    return \"\"  # Will be overwritten by exec()"
   ]
  },
  {
   "cell_type": "code",
   "execution_count": 60,
   "metadata": {
    "execution": {
     "iopub.execute_input": "2023-11-12T12:40:48.893634Z",
     "iopub.status.busy": "2023-11-12T12:40:48.893366Z",
     "iopub.status.idle": "2023-11-12T12:40:48.895220Z",
     "shell.execute_reply": "2023-11-12T12:40:48.894950Z"
    },
    "slideshow": {
     "slide_type": "subslide"
    }
   },
   "outputs": [],
   "source": [
    "# ignore\n",
    "def target_tile() -> str:\n",
    "    return ' '  # Will be overwritten by exec()"
   ]
  },
  {
   "cell_type": "code",
   "execution_count": 61,
   "metadata": {
    "execution": {
     "iopub.execute_input": "2023-11-12T12:40:48.896702Z",
     "iopub.status.busy": "2023-11-12T12:40:48.896597Z",
     "iopub.status.idle": "2023-11-12T12:40:48.898308Z",
     "shell.execute_reply": "2023-11-12T12:40:48.898051Z"
    },
    "slideshow": {
     "slide_type": "fragment"
    }
   },
   "outputs": [],
   "source": [
    "maze_code = generate_maze_code(maze_string)"
   ]
  },
  {
   "cell_type": "code",
   "execution_count": 62,
   "metadata": {
    "execution": {
     "iopub.execute_input": "2023-11-12T12:40:48.899847Z",
     "iopub.status.busy": "2023-11-12T12:40:48.899700Z",
     "iopub.status.idle": "2023-11-12T12:40:48.903438Z",
     "shell.execute_reply": "2023-11-12T12:40:48.903134Z"
    },
    "slideshow": {
     "slide_type": "fragment"
    }
   },
   "outputs": [],
   "source": [
    "exec(maze_code)"
   ]
  },
  {
   "cell_type": "markdown",
   "metadata": {
    "slideshow": {
     "slide_type": "fragment"
    }
   },
   "source": [
    "The objective is to get the \"X\" to the \"#\" by providing inputs `D` for down, `U` for up, `L` for left, and `R` for right."
   ]
  },
  {
   "cell_type": "code",
   "execution_count": 63,
   "metadata": {
    "execution": {
     "iopub.execute_input": "2023-11-12T12:40:48.904899Z",
     "iopub.status.busy": "2023-11-12T12:40:48.904812Z",
     "iopub.status.idle": "2023-11-12T12:40:48.906587Z",
     "shell.execute_reply": "2023-11-12T12:40:48.906329Z"
    },
    "slideshow": {
     "slide_type": "subslide"
    }
   },
   "outputs": [
    {
     "name": "stdout",
     "output_type": "stream",
     "text": [
      "SOLVED\n",
      "\n",
      "+-+-----+\n",
      "| |     |\n",
      "| | --+ |\n",
      "| |   | |\n",
      "| +-- | |\n",
      "|     |X|\n",
      "+-----+-+\n",
      "\n"
     ]
    }
   ],
   "source": [
    "print(maze(\"DDDDRRRRUULLUURRRRDDDD\"))  # Appending one more 'D', you have reached the target."
   ]
  },
  {
   "cell_type": "markdown",
   "metadata": {
    "slideshow": {
     "slide_type": "subslide"
    }
   },
   "source": [
    "Each character in `maze_string` represents a tile. For each tile, a tile-function is generated. \n",
    "* If the current tile is \"benign\" (` `), the tile-function corresponding to the next input character (D, U, L, R) is called. Unexpected input characters are ignored. If no more input characters are left, it returns \"VALID\" and the current maze state.\n",
    "* If the current tile is a \"trap\" (`+`,`|`,`-`), it returns \"INVALID\" and the current maze state.\n",
    "* If the current tile is the \"target\" (`#`), it returns \"SOLVED\" and the current maze state.\n",
    "\n",
    "***Try it***. You can test other sequences of input characters, or even change the maze entirely. In order to execute your own code, you just need to open this chapter as Jupyter notebook.\n",
    "\n",
    "To get an idea of the generated code, lets look at the static [call graph](https://en.wikipedia.org/wiki/Call_graph). A call graph shows the order in which functions can be executed."
   ]
  },
  {
   "cell_type": "code",
   "execution_count": 64,
   "metadata": {
    "execution": {
     "iopub.execute_input": "2023-11-12T12:40:48.908234Z",
     "iopub.status.busy": "2023-11-12T12:40:48.908134Z",
     "iopub.status.idle": "2023-11-12T12:40:48.910158Z",
     "shell.execute_reply": "2023-11-12T12:40:48.909762Z"
    },
    "slideshow": {
     "slide_type": "skip"
    }
   },
   "outputs": [],
   "source": [
    "from ControlFlow import callgraph"
   ]
  },
  {
   "cell_type": "code",
   "execution_count": 65,
   "metadata": {
    "execution": {
     "iopub.execute_input": "2023-11-12T12:40:48.911772Z",
     "iopub.status.busy": "2023-11-12T12:40:48.911676Z",
     "iopub.status.idle": "2023-11-12T12:40:49.564879Z",
     "shell.execute_reply": "2023-11-12T12:40:49.564294Z"
    },
    "slideshow": {
     "slide_type": "subslide"
    }
   },
   "outputs": [
    {
     "data": {
      "image/svg+xml": [
       "<?xml version=\"1.0\" encoding=\"UTF-8\" standalone=\"no\"?>\n",
       "<!DOCTYPE svg PUBLIC \"-//W3C//DTD SVG 1.1//EN\"\n",
       " \"http://www.w3.org/Graphics/SVG/1.1/DTD/svg11.dtd\">\n",
       "<!-- Generated by graphviz version 9.0.0 (20230911.1827)\n",
       " -->\n",
       "<!-- Title: G Pages: 1 -->\n",
       "<svg width=\"3824pt\" height=\"2233pt\"\n",
       " viewBox=\"0.00 0.00 3824.41 2232.72\" xmlns=\"http://www.w3.org/2000/svg\" xmlns:xlink=\"http://www.w3.org/1999/xlink\">\n",
       "<g id=\"graph0\" class=\"graph\" transform=\"scale(1 1) rotate(0) translate(4 2228.72)\">\n",
       "<title>G</title>\n",
       "<polygon fill=\"white\" stroke=\"none\" points=\"-4,4 -4,-2228.72 3820.41,-2228.72 3820.41,4 -4,4\"/>\n",
       "<g id=\"clust1\" class=\"cluster\">\n",
       "<title>cluster_G</title>\n",
       "<path fill=\"#808080\" fill-opacity=\"0.094118\" stroke=\"black\" d=\"M29.41,-8C29.41,-8 3796.41,-8 3796.41,-8 3802.41,-8 3808.41,-14 3808.41,-20 3808.41,-20 3808.41,-2204.72 3808.41,-2204.72 3808.41,-2210.72 3802.41,-2216.72 3796.41,-2216.72 3796.41,-2216.72 29.41,-2216.72 29.41,-2216.72 23.41,-2216.72 17.41,-2210.72 17.41,-2204.72 17.41,-2204.72 17.41,-20 17.41,-20 17.41,-14 23.41,-8 29.41,-8\"/>\n",
       "</g>\n",
       "<g id=\"clust2\" class=\"cluster\">\n",
       "<title>cluster_callgraphX</title>\n",
       "<path fill=\"#808080\" fill-opacity=\"0.094118\" stroke=\"black\" d=\"M37.41,-16C37.41,-16 3696.41,-16 3696.41,-16 3702.41,-16 3708.41,-22 3708.41,-28 3708.41,-28 3708.41,-2196.72 3708.41,-2196.72 3708.41,-2202.72 3702.41,-2208.72 3696.41,-2208.72 3696.41,-2208.72 37.41,-2208.72 37.41,-2208.72 31.41,-2208.72 25.41,-2202.72 25.41,-2196.72 25.41,-2196.72 25.41,-28 25.41,-28 25.41,-22 31.41,-16 37.41,-16\"/>\n",
       "<text text-anchor=\"middle\" x=\"1866.91\" y=\"-2191.42\" font-family=\"Times,serif\" font-size=\"14.00\">callgraph</text>\n",
       "</g>\n",
       "<!-- callgraphX -->\n",
       "<g id=\"node1\" class=\"node\">\n",
       "<title>callgraphX</title>\n",
       "<ellipse fill=\"#ffffff\" fill-opacity=\"0.698039\" stroke=\"black\" cx=\"3758.41\" cy=\"-1889.8\" rx=\"42.14\" ry=\"18\"/>\n",
       "<text text-anchor=\"middle\" x=\"3758.41\" y=\"-1883.63\" font-family=\"Times,serif\" font-size=\"14.00\" fill=\"#000000\">callgraph</text>\n",
       "</g>\n",
       "<!-- callgraphX__maze -->\n",
       "<g id=\"node2\" class=\"node\">\n",
       "<title>callgraphX__maze</title>\n",
       "<ellipse fill=\"#fecccc\" fill-opacity=\"0.698039\" stroke=\"black\" cx=\"1667.41\" cy=\"-2152.66\" rx=\"77.6\" ry=\"25.81\"/>\n",
       "<text text-anchor=\"middle\" x=\"1667.41\" y=\"-2153.61\" font-family=\"Times,serif\" font-size=\"14.00\" fill=\"#000000\">maze</text>\n",
       "<text text-anchor=\"middle\" x=\"1667.41\" y=\"-2139.36\" font-family=\"Times,serif\" font-size=\"14.00\" fill=\"#000000\">(callgraph.py:84)</text>\n",
       "</g>\n",
       "<!-- callgraphX&#45;&gt;callgraphX__maze -->\n",
       "<g id=\"edge66\" class=\"edge\">\n",
       "<title>callgraphX&#45;&gt;callgraphX__maze</title>\n",
       "<path fill=\"none\" stroke=\"#838b8b\" stroke-dasharray=\"5,2\" d=\"M3735.76,-1905.22C3728.55,-1909.2 3720.37,-1913.11 3712.41,-1915.61 3337.18,-2033.65 2095.24,-2123.22 1754.53,-2146.01\"/>\n",
       "<polygon fill=\"#838b8b\" stroke=\"#838b8b\" points=\"1754.52,-2142.5 1744.78,-2146.66 1754.99,-2149.48 1754.52,-2142.5\"/>\n",
       "</g>\n",
       "<!-- callgraphX__print_maze -->\n",
       "<g id=\"node3\" class=\"node\">\n",
       "<title>callgraphX__print_maze</title>\n",
       "<ellipse fill=\"#fecccc\" fill-opacity=\"0.698039\" stroke=\"black\" cx=\"1481.41\" cy=\"-49.81\" rx=\"72.83\" ry=\"25.81\"/>\n",
       "<text text-anchor=\"middle\" x=\"1481.41\" y=\"-50.76\" font-family=\"Times,serif\" font-size=\"14.00\" fill=\"#000000\">print_maze</text>\n",
       "<text text-anchor=\"middle\" x=\"1481.41\" y=\"-36.51\" font-family=\"Times,serif\" font-size=\"14.00\" fill=\"#000000\">(callgraph.py:2)</text>\n",
       "</g>\n",
       "<!-- callgraphX&#45;&gt;callgraphX__print_maze -->\n",
       "<g id=\"edge24\" class=\"edge\">\n",
       "<title>callgraphX&#45;&gt;callgraphX__print_maze</title>\n",
       "<path fill=\"none\" stroke=\"#838b8b\" stroke-dasharray=\"5,2\" d=\"M3755.1,-1871.67C3749.42,-1840.65 3738.41,-1773.09 3738.41,-1715.57 3738.41,-1715.57 3738.41,-1715.57 3738.41,-224.05 3738.41,-172.44 3749.76,-143.78 3709.41,-111.62 3666.72,-77.6 1967.32,-56.3 1565.8,-51.73\"/>\n",
       "<polygon fill=\"#838b8b\" stroke=\"#838b8b\" points=\"1565.85,-48.23 1555.81,-51.62 1565.77,-55.23 1565.85,-48.23\"/>\n",
       "</g>\n",
       "<!-- callgraphX__target_tile -->\n",
       "<g id=\"node4\" class=\"node\">\n",
       "<title>callgraphX__target_tile</title>\n",
       "<ellipse fill=\"#fecccc\" fill-opacity=\"0.698039\" stroke=\"black\" cx=\"3618.41\" cy=\"-2152.66\" rx=\"82.38\" ry=\"25.81\"/>\n",
       "<text text-anchor=\"middle\" x=\"3618.41\" y=\"-2153.61\" font-family=\"Times,serif\" font-size=\"14.00\" fill=\"#000000\">target_tile</text>\n",
       "<text text-anchor=\"middle\" x=\"3618.41\" y=\"-2139.36\" font-family=\"Times,serif\" font-size=\"14.00\" fill=\"#000000\">(callgraph.py:358)</text>\n",
       "</g>\n",
       "<!-- callgraphX&#45;&gt;callgraphX__target_tile -->\n",
       "<g id=\"edge37\" class=\"edge\">\n",
       "<title>callgraphX&#45;&gt;callgraphX__target_tile</title>\n",
       "<path fill=\"none\" stroke=\"#838b8b\" stroke-dasharray=\"5,2\" d=\"M3749.34,-1907.69C3726.7,-1949.88 3667.29,-2060.57 3636.9,-2117.2\"/>\n",
       "<polygon fill=\"#838b8b\" stroke=\"#838b8b\" points=\"3633.94,-2115.32 3632.29,-2125.79 3640.11,-2118.63 3633.94,-2115.32\"/>\n",
       "</g>\n",
       "<!-- callgraphX__tile_1_0 -->\n",
       "<g id=\"node5\" class=\"node\">\n",
       "<title>callgraphX__tile_1_0</title>\n",
       "<ellipse fill=\"#fecccc\" fill-opacity=\"0.698039\" stroke=\"black\" cx=\"3449.41\" cy=\"-137.43\" rx=\"77.6\" ry=\"25.81\"/>\n",
       "<text text-anchor=\"middle\" x=\"3449.41\" y=\"-138.38\" font-family=\"Times,serif\" font-size=\"14.00\" fill=\"#000000\">tile_1_0</text>\n",
       "<text text-anchor=\"middle\" x=\"3449.41\" y=\"-124.13\" font-family=\"Times,serif\" font-size=\"14.00\" fill=\"#000000\">(callgraph.py:26)</text>\n",
       "</g>\n",
       "<!-- callgraphX&#45;&gt;callgraphX__tile_1_0 -->\n",
       "<g id=\"edge35\" class=\"edge\">\n",
       "<title>callgraphX&#45;&gt;callgraphX__tile_1_0</title>\n",
       "<path fill=\"none\" stroke=\"#838b8b\" stroke-dasharray=\"5,2\" d=\"M3743.5,-1872.49C3733.73,-1860.9 3721.5,-1844.52 3714.41,-1827.99 3694.35,-1781.28 3693.41,-1766.4 3693.41,-1715.57 3693.41,-1715.57 3693.41,-1715.57 3693.41,-311.67 3693.41,-286.46 3695.18,-218.05 3678.41,-199.24 3634.78,-150.33 3598.68,-180.32 3535.41,-163.24 3529.59,-161.67 3523.57,-160 3517.53,-158.31\"/>\n",
       "<polygon fill=\"#838b8b\" stroke=\"#838b8b\" points=\"3518.72,-155.01 3508.15,-155.66 3516.82,-161.75 3518.72,-155.01\"/>\n",
       "</g>\n",
       "<!-- callgraphX__tile_1_1 -->\n",
       "<g id=\"node6\" class=\"node\">\n",
       "<title>callgraphX__tile_1_1</title>\n",
       "<ellipse fill=\"#fecccc\" fill-opacity=\"0.698039\" stroke=\"black\" cx=\"920.41\" cy=\"-1101.23\" rx=\"77.6\" ry=\"25.81\"/>\n",
       "<text text-anchor=\"middle\" x=\"920.41\" y=\"-1102.18\" font-family=\"Times,serif\" font-size=\"14.00\" fill=\"#000000\">tile_1_1</text>\n",
       "<text text-anchor=\"middle\" x=\"920.41\" y=\"-1087.93\" font-family=\"Times,serif\" font-size=\"14.00\" fill=\"#000000\">(callgraph.py:31)</text>\n",
       "</g>\n",
       "<!-- callgraphX&#45;&gt;callgraphX__tile_1_1 -->\n",
       "<g id=\"edge2\" class=\"edge\">\n",
       "<title>callgraphX&#45;&gt;callgraphX__tile_1_1</title>\n",
       "<path fill=\"none\" stroke=\"#838b8b\" stroke-dasharray=\"5,2\" d=\"M3736.38,-1874.14C3729.06,-1870.05 3720.66,-1866.14 3712.41,-1863.99 3636.33,-1844.27 940.09,-1882.43 883.41,-1827.99 847.31,-1793.34 877.41,-1765.61 877.41,-1715.57 877.41,-1715.57 877.41,-1715.57 877.41,-1275.47 877.41,-1226.68 893.67,-1172.37 906.2,-1137.79\"/>\n",
       "<polygon fill=\"#838b8b\" stroke=\"#838b8b\" points=\"909.37,-1139.3 909.58,-1128.71 902.81,-1136.86 909.37,-1139.3\"/>\n",
       "</g>\n",
       "<!-- callgraphX__tile_1_2 -->\n",
       "<g id=\"node7\" class=\"node\">\n",
       "<title>callgraphX__tile_1_2</title>\n",
       "<ellipse fill=\"#fecccc\" fill-opacity=\"0.698039\" stroke=\"black\" cx=\"3622.41\" cy=\"-137.43\" rx=\"77.6\" ry=\"25.81\"/>\n",
       "<text text-anchor=\"middle\" x=\"3622.41\" y=\"-138.38\" font-family=\"Times,serif\" font-size=\"14.00\" fill=\"#000000\">tile_1_2</text>\n",
       "<text text-anchor=\"middle\" x=\"3622.41\" y=\"-124.13\" font-family=\"Times,serif\" font-size=\"14.00\" fill=\"#000000\">(callgraph.py:36)</text>\n",
       "</g>\n",
       "<!-- callgraphX&#45;&gt;callgraphX__tile_1_2 -->\n",
       "<g id=\"edge8\" class=\"edge\">\n",
       "<title>callgraphX&#45;&gt;callgraphX__tile_1_2</title>\n",
       "<path fill=\"none\" stroke=\"#838b8b\" stroke-dasharray=\"5,2\" d=\"M3750.29,-1871.86C3744.83,-1859.85 3737.84,-1843.23 3733.41,-1827.99 3719.23,-1779.26 3713.41,-1766.32 3713.41,-1715.57 3713.41,-1715.57 3713.41,-1715.57 3713.41,-311.67 3713.41,-261.25 3723.2,-243.13 3698.41,-199.24 3691.39,-186.82 3680.73,-175.97 3669.6,-167.02\"/>\n",
       "<polygon fill=\"#838b8b\" stroke=\"#838b8b\" points=\"3671.93,-164.39 3661.84,-161.16 3667.71,-169.98 3671.93,-164.39\"/>\n",
       "</g>\n",
       "<!-- callgraphX__tile_1_3 -->\n",
       "<g id=\"node8\" class=\"node\">\n",
       "<title>callgraphX__tile_1_3</title>\n",
       "<ellipse fill=\"#fecccc\" fill-opacity=\"0.698039\" stroke=\"black\" cx=\"1074.41\" cy=\"-487.9\" rx=\"77.6\" ry=\"25.81\"/>\n",
       "<text text-anchor=\"middle\" x=\"1074.41\" y=\"-488.85\" font-family=\"Times,serif\" font-size=\"14.00\" fill=\"#000000\">tile_1_3</text>\n",
       "<text text-anchor=\"middle\" x=\"1074.41\" y=\"-474.6\" font-family=\"Times,serif\" font-size=\"14.00\" fill=\"#000000\">(callgraph.py:41)</text>\n",
       "</g>\n",
       "<!-- callgraphX&#45;&gt;callgraphX__tile_1_3 -->\n",
       "<g id=\"edge13\" class=\"edge\">\n",
       "<title>callgraphX&#45;&gt;callgraphX__tile_1_3</title>\n",
       "<path fill=\"none\" stroke=\"#838b8b\" stroke-dasharray=\"5,2\" d=\"M3736.38,-1874.14C3729.06,-1870.04 3720.66,-1866.13 3712.41,-1863.99 3630.38,-1842.77 723.29,-1886.92 662.41,-1827.99 626.47,-1793.21 657.41,-1765.58 657.41,-1715.57 657.41,-1715.57 657.41,-1715.57 657.41,-1450.71 657.41,-1256.3 623.41,-1209.02 623.41,-1014.62 623.41,-1014.62 623.41,-1014.62 623.41,-662.14 623.41,-607.72 651.45,-595.36 754.41,-549.71 796,-531.27 911.76,-511.98 992,-500.2\"/>\n",
       "<polygon fill=\"#838b8b\" stroke=\"#838b8b\" points=\"992.18,-503.71 1001.58,-498.81 991.18,-496.79 992.18,-503.71\"/>\n",
       "</g>\n",
       "<!-- callgraphX__tile_1_4 -->\n",
       "<g id=\"node9\" class=\"node\">\n",
       "<title>callgraphX__tile_1_4</title>\n",
       "<ellipse fill=\"#fecccc\" fill-opacity=\"0.698039\" stroke=\"black\" cx=\"2050.41\" cy=\"-663.14\" rx=\"77.6\" ry=\"25.81\"/>\n",
       "<text text-anchor=\"middle\" x=\"2050.41\" y=\"-664.09\" font-family=\"Times,serif\" font-size=\"14.00\" fill=\"#000000\">tile_1_4</text>\n",
       "<text text-anchor=\"middle\" x=\"2050.41\" y=\"-649.84\" font-family=\"Times,serif\" font-size=\"14.00\" fill=\"#000000\">(callgraph.py:46)</text>\n",
       "</g>\n",
       "<!-- callgraphX&#45;&gt;callgraphX__tile_1_4 -->\n",
       "<g id=\"edge6\" class=\"edge\">\n",
       "<title>callgraphX&#45;&gt;callgraphX__tile_1_4</title>\n",
       "<path fill=\"none\" stroke=\"#838b8b\" stroke-dasharray=\"5,2\" d=\"M3736.34,-1874.3C3729.01,-1870.21 3720.63,-1866.26 3712.41,-1863.99 3623.52,-1839.49 2955.53,-1885.43 2883.41,-1827.99 2842.86,-1795.7 2852.41,-1767.4 2852.41,-1715.57 2852.41,-1715.57 2852.41,-1715.57 2852.41,-837.38 2852.41,-786.91 2873.67,-758.99 2836.41,-724.95 2778.58,-672.12 2209.57,-702.39 2132.41,-688.95 2126.55,-687.93 2120.51,-686.62 2114.51,-685.14\"/>\n",
       "<polygon fill=\"#838b8b\" stroke=\"#838b8b\" points=\"2115.79,-681.86 2105.23,-682.7 2114.01,-688.63 2115.79,-681.86\"/>\n",
       "</g>\n",
       "<!-- callgraphX__tile_1_5 -->\n",
       "<g id=\"node10\" class=\"node\">\n",
       "<title>callgraphX__tile_1_5</title>\n",
       "<ellipse fill=\"#fecccc\" fill-opacity=\"0.698039\" stroke=\"black\" cx=\"1114.41\" cy=\"-575.52\" rx=\"77.6\" ry=\"25.81\"/>\n",
       "<text text-anchor=\"middle\" x=\"1114.41\" y=\"-576.47\" font-family=\"Times,serif\" font-size=\"14.00\" fill=\"#000000\">tile_1_5</text>\n",
       "<text text-anchor=\"middle\" x=\"1114.41\" y=\"-562.22\" font-family=\"Times,serif\" font-size=\"14.00\" fill=\"#000000\">(callgraph.py:51)</text>\n",
       "</g>\n",
       "<!-- callgraphX&#45;&gt;callgraphX__tile_1_5 -->\n",
       "<g id=\"edge11\" class=\"edge\">\n",
       "<title>callgraphX&#45;&gt;callgraphX__tile_1_5</title>\n",
       "<path fill=\"none\" stroke=\"#838b8b\" stroke-dasharray=\"5,2\" d=\"M3736.38,-1874.14C3729.06,-1870.04 3720.66,-1866.13 3712.41,-1863.99 3631.46,-1843.04 762.48,-1886.15 702.41,-1827.99 666.47,-1793.21 697.41,-1765.58 697.41,-1715.57 697.41,-1715.57 697.41,-1715.57 697.41,-1275.47 697.41,-1158.56 663.41,-1131.53 663.41,-1014.62 663.41,-1014.62 663.41,-1014.62 663.41,-749.76 663.41,-720.09 669.04,-680.96 744.41,-637.33 856.04,-572.7 906.22,-628.11 1032.41,-601.33 1037.9,-600.17 1043.56,-598.8 1049.22,-597.33\"/>\n",
       "<polygon fill=\"#838b8b\" stroke=\"#838b8b\" points=\"1049.86,-600.78 1058.59,-594.77 1048.02,-594.03 1049.86,-600.78\"/>\n",
       "</g>\n",
       "<!-- callgraphX__tile_1_6 -->\n",
       "<g id=\"node11\" class=\"node\">\n",
       "<title>callgraphX__tile_1_6</title>\n",
       "<ellipse fill=\"#fecccc\" fill-opacity=\"0.698039\" stroke=\"black\" cx=\"800.41\" cy=\"-487.9\" rx=\"77.6\" ry=\"25.81\"/>\n",
       "<text text-anchor=\"middle\" x=\"800.41\" y=\"-488.85\" font-family=\"Times,serif\" font-size=\"14.00\" fill=\"#000000\">tile_1_6</text>\n",
       "<text text-anchor=\"middle\" x=\"800.41\" y=\"-474.6\" font-family=\"Times,serif\" font-size=\"14.00\" fill=\"#000000\">(callgraph.py:56)</text>\n",
       "</g>\n",
       "<!-- callgraphX&#45;&gt;callgraphX__tile_1_6 -->\n",
       "<g id=\"edge15\" class=\"edge\">\n",
       "<title>callgraphX&#45;&gt;callgraphX__tile_1_6</title>\n",
       "<path fill=\"none\" stroke=\"#838b8b\" stroke-dasharray=\"5,2\" d=\"M3736.38,-1874.14C3729.06,-1870.04 3720.66,-1866.13 3712.41,-1863.99 3629.84,-1842.63 703.69,-1887.3 642.41,-1827.99 606.46,-1793.21 637.41,-1765.58 637.41,-1715.57 637.41,-1715.57 637.41,-1715.57 637.41,-1450.71 637.41,-1256.3 603.41,-1209.02 603.41,-1014.62 603.41,-1014.62 603.41,-1014.62 603.41,-662.14 603.41,-608.15 611.12,-587.78 649.41,-549.71 662.21,-536.98 699.85,-521.81 734.35,-509.8\"/>\n",
       "<polygon fill=\"#838b8b\" stroke=\"#838b8b\" points=\"735.16,-513.23 743.49,-506.68 732.89,-506.6 735.16,-513.23\"/>\n",
       "</g>\n",
       "<!-- callgraphX__tile_1_7 -->\n",
       "<g id=\"node12\" class=\"node\">\n",
       "<title>callgraphX__tile_1_7</title>\n",
       "<ellipse fill=\"#fecccc\" fill-opacity=\"0.698039\" stroke=\"black\" cx=\"1690.41\" cy=\"-400.28\" rx=\"77.6\" ry=\"25.81\"/>\n",
       "<text text-anchor=\"middle\" x=\"1690.41\" y=\"-401.23\" font-family=\"Times,serif\" font-size=\"14.00\" fill=\"#000000\">tile_1_7</text>\n",
       "<text text-anchor=\"middle\" x=\"1690.41\" y=\"-386.98\" font-family=\"Times,serif\" font-size=\"14.00\" fill=\"#000000\">(callgraph.py:61)</text>\n",
       "</g>\n",
       "<!-- callgraphX&#45;&gt;callgraphX__tile_1_7 -->\n",
       "<g id=\"edge19\" class=\"edge\">\n",
       "<title>callgraphX&#45;&gt;callgraphX__tile_1_7</title>\n",
       "<path fill=\"none\" stroke=\"#838b8b\" stroke-dasharray=\"5,2\" d=\"M3736.33,-1874.32C3729.01,-1870.24 3720.62,-1866.29 3712.41,-1863.99 3555.53,-1820.26 3121.32,-1909.65 2980.41,-1827.99 2929.07,-1798.25 2908.41,-1774.9 2908.41,-1715.57 2908.41,-1715.57 2908.41,-1715.57 2908.41,-574.52 2908.41,-549.32 2912.1,-479.01 2893.41,-462.09 2848.23,-421.22 1857.81,-434.01 1797.41,-426.09 1785.54,-424.54 1773.05,-422.25 1760.97,-419.69\"/>\n",
       "<polygon fill=\"#838b8b\" stroke=\"#838b8b\" points=\"1762.01,-416.34 1751.49,-417.6 1760.5,-423.17 1762.01,-416.34\"/>\n",
       "</g>\n",
       "<!-- callgraphX__tile_1_8 -->\n",
       "<g id=\"node13\" class=\"node\">\n",
       "<title>callgraphX__tile_1_8</title>\n",
       "<ellipse fill=\"#fecccc\" fill-opacity=\"0.698039\" stroke=\"black\" cx=\"506.41\" cy=\"-137.43\" rx=\"77.6\" ry=\"25.81\"/>\n",
       "<text text-anchor=\"middle\" x=\"506.41\" y=\"-138.38\" font-family=\"Times,serif\" font-size=\"14.00\" fill=\"#000000\">tile_1_8</text>\n",
       "<text text-anchor=\"middle\" x=\"506.41\" y=\"-124.13\" font-family=\"Times,serif\" font-size=\"14.00\" fill=\"#000000\">(callgraph.py:66)</text>\n",
       "</g>\n",
       "<!-- callgraphX&#45;&gt;callgraphX__tile_1_8 -->\n",
       "<g id=\"edge21\" class=\"edge\">\n",
       "<title>callgraphX&#45;&gt;callgraphX__tile_1_8</title>\n",
       "<path fill=\"none\" stroke=\"#838b8b\" stroke-dasharray=\"5,2\" d=\"M3736.38,-1874.14C3729.06,-1870.04 3720.66,-1866.13 3712.41,-1863.99 3628.76,-1842.36 664.6,-1887.97 602.41,-1827.99 341.89,-1576.77 563.41,-1376.53 563.41,-1014.62 563.41,-1014.62 563.41,-1014.62 563.41,-311.67 563.41,-261.6 541.66,-207.28 525.03,-173.07\"/>\n",
       "<polygon fill=\"#838b8b\" stroke=\"#838b8b\" points=\"528.33,-171.86 520.74,-164.48 522.07,-174.99 528.33,-171.86\"/>\n",
       "</g>\n",
       "<!-- callgraphX__tile_2_0 -->\n",
       "<g id=\"node14\" class=\"node\">\n",
       "<title>callgraphX__tile_2_0</title>\n",
       "<ellipse fill=\"#fecccc\" fill-opacity=\"0.698039\" stroke=\"black\" cx=\"1685.41\" cy=\"-1188.85\" rx=\"77.6\" ry=\"25.81\"/>\n",
       "<text text-anchor=\"middle\" x=\"1685.41\" y=\"-1189.8\" font-family=\"Times,serif\" font-size=\"14.00\" fill=\"#000000\">tile_2_0</text>\n",
       "<text text-anchor=\"middle\" x=\"1685.41\" y=\"-1175.55\" font-family=\"Times,serif\" font-size=\"14.00\" fill=\"#000000\">(callgraph.py:71)</text>\n",
       "</g>\n",
       "<!-- callgraphX&#45;&gt;callgraphX__tile_2_0 -->\n",
       "<g id=\"edge7\" class=\"edge\">\n",
       "<title>callgraphX&#45;&gt;callgraphX__tile_2_0</title>\n",
       "<path fill=\"none\" stroke=\"#838b8b\" stroke-dasharray=\"5,2\" d=\"M3736.35,-1874.25C3729.03,-1870.16 3720.64,-1866.22 3712.41,-1863.99 3654.29,-1848.29 2673.14,-1869.37 2629.41,-1827.99 2592.96,-1793.52 2619.41,-1765.73 2619.41,-1715.57 2619.41,-1715.57 2619.41,-1715.57 2619.41,-1363.09 2619.41,-1322.37 2632.35,-1307.81 2479.41,-1250.66 2471.19,-1247.59 1976.56,-1211.14 1772.25,-1196.19\"/>\n",
       "<polygon fill=\"#838b8b\" stroke=\"#838b8b\" points=\"1772.71,-1192.72 1762.48,-1195.48 1772.2,-1199.7 1772.71,-1192.72\"/>\n",
       "</g>\n",
       "<!-- callgraphX__tile_2_1 -->\n",
       "<g id=\"node15\" class=\"node\">\n",
       "<title>callgraphX__tile_2_1</title>\n",
       "<ellipse fill=\"#fecccc\" fill-opacity=\"0.698039\" stroke=\"black\" cx=\"482.41\" cy=\"-2065.04\" rx=\"77.6\" ry=\"25.81\"/>\n",
       "<text text-anchor=\"middle\" x=\"482.41\" y=\"-2065.99\" font-family=\"Times,serif\" font-size=\"14.00\" fill=\"#000000\">tile_2_1</text>\n",
       "<text text-anchor=\"middle\" x=\"482.41\" y=\"-2051.74\" font-family=\"Times,serif\" font-size=\"14.00\" fill=\"#000000\">(callgraph.py:76)</text>\n",
       "</g>\n",
       "<!-- callgraphX&#45;&gt;callgraphX__tile_2_1 -->\n",
       "<g id=\"edge1\" class=\"edge\">\n",
       "<title>callgraphX&#45;&gt;callgraphX__tile_2_1</title>\n",
       "<path fill=\"none\" stroke=\"#838b8b\" stroke-dasharray=\"5,2\" d=\"M3736.34,-1905.33C3729.02,-1909.42 3720.63,-1913.36 3712.41,-1915.61 3670.2,-1927.16 607.56,-2031.98 564.41,-2039.23 558.45,-2040.23 552.31,-2041.54 546.21,-2043.03\"/>\n",
       "<polygon fill=\"#838b8b\" stroke=\"#838b8b\" points=\"545.56,-2039.59 536.77,-2045.51 547.33,-2046.36 545.56,-2039.59\"/>\n",
       "</g>\n",
       "<!-- callgraphX__tile_2_2 -->\n",
       "<g id=\"node16\" class=\"node\">\n",
       "<title>callgraphX__tile_2_2</title>\n",
       "<ellipse fill=\"#fecccc\" fill-opacity=\"0.698039\" stroke=\"black\" cx=\"1831.41\" cy=\"-750.76\" rx=\"77.6\" ry=\"25.81\"/>\n",
       "<text text-anchor=\"middle\" x=\"1831.41\" y=\"-751.71\" font-family=\"Times,serif\" font-size=\"14.00\" fill=\"#000000\">tile_2_2</text>\n",
       "<text text-anchor=\"middle\" x=\"1831.41\" y=\"-737.46\" font-family=\"Times,serif\" font-size=\"14.00\" fill=\"#000000\">(callgraph.py:87)</text>\n",
       "</g>\n",
       "<!-- callgraphX&#45;&gt;callgraphX__tile_2_2 -->\n",
       "<g id=\"edge62\" class=\"edge\">\n",
       "<title>callgraphX&#45;&gt;callgraphX__tile_2_2</title>\n",
       "<path fill=\"none\" stroke=\"#838b8b\" stroke-dasharray=\"5,2\" d=\"M3736.34,-1874.28C3729.02,-1870.19 3720.63,-1866.25 3712.41,-1863.99 3615.13,-1837.37 2882.26,-1893.3 2805.41,-1827.99 2766.54,-1794.97 2782.41,-1766.57 2782.41,-1715.57 2782.41,-1715.57 2782.41,-1715.57 2782.41,-925 2782.41,-729.09 2104.6,-819.28 1913.41,-776.57 1907.92,-775.34 1902.27,-773.94 1896.62,-772.44\"/>\n",
       "<polygon fill=\"#838b8b\" stroke=\"#838b8b\" points=\"1897.83,-769.14 1887.26,-769.85 1895.97,-775.89 1897.83,-769.14\"/>\n",
       "</g>\n",
       "<!-- callgraphX__tile_2_3 -->\n",
       "<g id=\"node17\" class=\"node\">\n",
       "<title>callgraphX__tile_2_3</title>\n",
       "<ellipse fill=\"#fecccc\" fill-opacity=\"0.698039\" stroke=\"black\" cx=\"1611.41\" cy=\"-838.38\" rx=\"77.6\" ry=\"25.81\"/>\n",
       "<text text-anchor=\"middle\" x=\"1611.41\" y=\"-839.33\" font-family=\"Times,serif\" font-size=\"14.00\" fill=\"#000000\">tile_2_3</text>\n",
       "<text text-anchor=\"middle\" x=\"1611.41\" y=\"-825.08\" font-family=\"Times,serif\" font-size=\"14.00\" fill=\"#000000\">(callgraph.py:92)</text>\n",
       "</g>\n",
       "<!-- callgraphX&#45;&gt;callgraphX__tile_2_3 -->\n",
       "<g id=\"edge58\" class=\"edge\">\n",
       "<title>callgraphX&#45;&gt;callgraphX__tile_2_3</title>\n",
       "<path fill=\"none\" stroke=\"#838b8b\" stroke-dasharray=\"5,2\" d=\"M3736.34,-1874.27C3729.02,-1870.18 3720.63,-1866.24 3712.41,-1863.99 3612.11,-1836.61 2854.3,-1897.97 2777.41,-1827.99 2740.12,-1794.07 2762.41,-1765.98 2762.41,-1715.57 2762.41,-1715.57 2762.41,-1715.57 2762.41,-1012.62 2762.41,-961.43 2776.78,-932.9 2737.41,-900.19 2692.77,-863.1 1750.66,-873.67 1693.41,-864.19 1687.45,-863.2 1681.31,-861.9 1675.21,-860.42\"/>\n",
       "<polygon fill=\"#838b8b\" stroke=\"#838b8b\" points=\"1676.33,-857.09 1665.77,-857.95 1674.56,-863.86 1676.33,-857.09\"/>\n",
       "</g>\n",
       "<!-- callgraphX__tile_2_4 -->\n",
       "<g id=\"node18\" class=\"node\">\n",
       "<title>callgraphX__tile_2_4</title>\n",
       "<ellipse fill=\"#fecccc\" fill-opacity=\"0.698039\" stroke=\"black\" cx=\"1611.41\" cy=\"-750.76\" rx=\"82.38\" ry=\"25.81\"/>\n",
       "<text text-anchor=\"middle\" x=\"1611.41\" y=\"-751.71\" font-family=\"Times,serif\" font-size=\"14.00\" fill=\"#000000\">tile_2_4</text>\n",
       "<text text-anchor=\"middle\" x=\"1611.41\" y=\"-737.46\" font-family=\"Times,serif\" font-size=\"14.00\" fill=\"#000000\">(callgraph.py:100)</text>\n",
       "</g>\n",
       "<!-- callgraphX&#45;&gt;callgraphX__tile_2_4 -->\n",
       "<g id=\"edge54\" class=\"edge\">\n",
       "<title>callgraphX&#45;&gt;callgraphX__tile_2_4</title>\n",
       "<path fill=\"none\" stroke=\"#838b8b\" stroke-dasharray=\"5,2\" d=\"M3736.38,-1874.14C3729.06,-1870.05 3720.66,-1866.13 3712.41,-1863.99 3633.07,-1843.45 821.28,-1885 762.41,-1827.99 726.47,-1793.2 757.41,-1765.58 757.41,-1715.57 757.41,-1715.57 757.41,-1715.57 757.41,-1275.47 757.41,-1158.56 723.41,-1131.53 723.41,-1014.62 723.41,-1014.62 723.41,-1014.62 723.41,-925 723.41,-743.75 1347.38,-810.61 1525.41,-776.57 1531.32,-775.44 1537.41,-774.08 1543.5,-772.59\"/>\n",
       "<polygon fill=\"#838b8b\" stroke=\"#838b8b\" points=\"1544.12,-776.05 1552.93,-770.17 1542.38,-769.27 1544.12,-776.05\"/>\n",
       "</g>\n",
       "<!-- callgraphX__tile_2_5 -->\n",
       "<g id=\"node19\" class=\"node\">\n",
       "<title>callgraphX__tile_2_5</title>\n",
       "<ellipse fill=\"#fecccc\" fill-opacity=\"0.698039\" stroke=\"black\" cx=\"1794.41\" cy=\"-663.14\" rx=\"82.38\" ry=\"25.81\"/>\n",
       "<text text-anchor=\"middle\" x=\"1794.41\" y=\"-664.09\" font-family=\"Times,serif\" font-size=\"14.00\" fill=\"#000000\">tile_2_5</text>\n",
       "<text text-anchor=\"middle\" x=\"1794.41\" y=\"-649.84\" font-family=\"Times,serif\" font-size=\"14.00\" fill=\"#000000\">(callgraph.py:108)</text>\n",
       "</g>\n",
       "<!-- callgraphX&#45;&gt;callgraphX__tile_2_5 -->\n",
       "<g id=\"edge47\" class=\"edge\">\n",
       "<title>callgraphX&#45;&gt;callgraphX__tile_2_5</title>\n",
       "<path fill=\"none\" stroke=\"#838b8b\" stroke-dasharray=\"5,2\" d=\"M3736.34,-1874.29C3729.02,-1870.2 3720.63,-1866.25 3712.41,-1863.99 3619.65,-1838.51 2918.73,-1892.54 2847.41,-1827.99 2809.98,-1794.13 2831.41,-1766.04 2831.41,-1715.57 2831.41,-1715.57 2831.41,-1715.57 2831.41,-837.38 2831.41,-812.14 2834.11,-741.89 2815.41,-724.95 2780.29,-693.15 2010.57,-693.4 1963.41,-688.95 1935.12,-686.28 1904.34,-682.14 1876.89,-678\"/>\n",
       "<polygon fill=\"#838b8b\" stroke=\"#838b8b\" points=\"1877.66,-674.57 1867.25,-676.52 1876.6,-681.49 1877.66,-674.57\"/>\n",
       "</g>\n",
       "<!-- callgraphX__tile_2_6 -->\n",
       "<g id=\"node20\" class=\"node\">\n",
       "<title>callgraphX__tile_2_6</title>\n",
       "<ellipse fill=\"#fecccc\" fill-opacity=\"0.698039\" stroke=\"black\" cx=\"1565.41\" cy=\"-575.52\" rx=\"82.38\" ry=\"25.81\"/>\n",
       "<text text-anchor=\"middle\" x=\"1565.41\" y=\"-576.47\" font-family=\"Times,serif\" font-size=\"14.00\" fill=\"#000000\">tile_2_6</text>\n",
       "<text text-anchor=\"middle\" x=\"1565.41\" y=\"-562.22\" font-family=\"Times,serif\" font-size=\"14.00\" fill=\"#000000\">(callgraph.py:116)</text>\n",
       "</g>\n",
       "<!-- callgraphX&#45;&gt;callgraphX__tile_2_6 -->\n",
       "<g id=\"edge44\" class=\"edge\">\n",
       "<title>callgraphX&#45;&gt;callgraphX__tile_2_6</title>\n",
       "<path fill=\"none\" stroke=\"#838b8b\" stroke-dasharray=\"5,2\" d=\"M3736.38,-1874.14C3729.06,-1870.05 3720.66,-1866.13 3712.41,-1863.99 3632,-1843.18 782.08,-1885.77 722.41,-1827.99 686.47,-1793.2 717.41,-1765.58 717.41,-1715.57 717.41,-1715.57 717.41,-1715.57 717.41,-1275.47 717.41,-1158.56 683.41,-1131.53 683.41,-1014.62 683.41,-1014.62 683.41,-1014.62 683.41,-749.76 683.41,-695.01 753.96,-679.9 944.41,-637.33 1042.81,-615.34 1326.45,-593.18 1473.92,-582.72\"/>\n",
       "<polygon fill=\"#838b8b\" stroke=\"#838b8b\" points=\"1473.92,-586.23 1483.65,-582.03 1473.43,-579.25 1473.92,-586.23\"/>\n",
       "</g>\n",
       "<!-- callgraphX__tile_2_7 -->\n",
       "<g id=\"node21\" class=\"node\">\n",
       "<title>callgraphX__tile_2_7</title>\n",
       "<ellipse fill=\"#fecccc\" fill-opacity=\"0.698039\" stroke=\"black\" cx=\"1565.41\" cy=\"-487.9\" rx=\"82.38\" ry=\"25.81\"/>\n",
       "<text text-anchor=\"middle\" x=\"1565.41\" y=\"-488.85\" font-family=\"Times,serif\" font-size=\"14.00\" fill=\"#000000\">tile_2_7</text>\n",
       "<text text-anchor=\"middle\" x=\"1565.41\" y=\"-474.6\" font-family=\"Times,serif\" font-size=\"14.00\" fill=\"#000000\">(callgraph.py:124)</text>\n",
       "</g>\n",
       "<!-- callgraphX&#45;&gt;callgraphX__tile_2_7 -->\n",
       "<g id=\"edge40\" class=\"edge\">\n",
       "<title>callgraphX&#45;&gt;callgraphX__tile_2_7</title>\n",
       "<path fill=\"none\" stroke=\"#838b8b\" stroke-dasharray=\"5,2\" d=\"M3736.38,-1874.14C3729.06,-1870.04 3720.66,-1866.13 3712.41,-1863.99 3630.92,-1842.91 742.89,-1886.54 682.41,-1827.99 646.47,-1793.21 677.41,-1765.58 677.41,-1715.57 677.41,-1715.57 677.41,-1715.57 677.41,-1450.71 677.41,-1353.51 643.41,-1111.82 643.41,-1014.62 643.41,-1014.62 643.41,-1014.62 643.41,-662.14 643.41,-578.1 1242.69,-516.97 1474.95,-496.43\"/>\n",
       "<polygon fill=\"#838b8b\" stroke=\"#838b8b\" points=\"1475.24,-499.92 1484.89,-495.56 1474.62,-492.95 1475.24,-499.92\"/>\n",
       "</g>\n",
       "<!-- callgraphX__tile_2_8 -->\n",
       "<g id=\"node22\" class=\"node\">\n",
       "<title>callgraphX__tile_2_8</title>\n",
       "<ellipse fill=\"#fecccc\" fill-opacity=\"0.698039\" stroke=\"black\" cx=\"1512.41\" cy=\"-400.28\" rx=\"82.38\" ry=\"25.81\"/>\n",
       "<text text-anchor=\"middle\" x=\"1512.41\" y=\"-401.23\" font-family=\"Times,serif\" font-size=\"14.00\" fill=\"#000000\">tile_2_8</text>\n",
       "<text text-anchor=\"middle\" x=\"1512.41\" y=\"-386.98\" font-family=\"Times,serif\" font-size=\"14.00\" fill=\"#000000\">(callgraph.py:132)</text>\n",
       "</g>\n",
       "<!-- callgraphX&#45;&gt;callgraphX__tile_2_8 -->\n",
       "<g id=\"edge36\" class=\"edge\">\n",
       "<title>callgraphX&#45;&gt;callgraphX__tile_2_8</title>\n",
       "<path fill=\"none\" stroke=\"#838b8b\" stroke-dasharray=\"5,2\" d=\"M3736.33,-1874.31C3729.01,-1870.22 3720.63,-1866.27 3712.41,-1863.99 3627.08,-1840.39 2984.92,-1884.07 2916.41,-1827.99 2876.56,-1795.38 2888.41,-1767.06 2888.41,-1715.57 2888.41,-1715.57 2888.41,-1715.57 2888.41,-574.52 2888.41,-430.8 1744.53,-453.32 1603.41,-426.09 1596.55,-424.77 1589.45,-423.2 1582.38,-421.5\"/>\n",
       "<polygon fill=\"#838b8b\" stroke=\"#838b8b\" points=\"1583.35,-418.14 1572.8,-419.11 1581.65,-424.93 1583.35,-418.14\"/>\n",
       "</g>\n",
       "<!-- callgraphX__tile_3_0 -->\n",
       "<g id=\"node23\" class=\"node\">\n",
       "<title>callgraphX__tile_3_0</title>\n",
       "<ellipse fill=\"#fecccc\" fill-opacity=\"0.698039\" stroke=\"black\" cx=\"155.41\" cy=\"-1889.8\" rx=\"82.38\" ry=\"25.81\"/>\n",
       "<text text-anchor=\"middle\" x=\"155.41\" y=\"-1890.75\" font-family=\"Times,serif\" font-size=\"14.00\" fill=\"#000000\">tile_3_0</text>\n",
       "<text text-anchor=\"middle\" x=\"155.41\" y=\"-1876.5\" font-family=\"Times,serif\" font-size=\"14.00\" fill=\"#000000\">(callgraph.py:137)</text>\n",
       "</g>\n",
       "<!-- callgraphX&#45;&gt;callgraphX__tile_3_0 -->\n",
       "<g id=\"edge31\" class=\"edge\">\n",
       "<title>callgraphX&#45;&gt;callgraphX__tile_3_0</title>\n",
       "<path fill=\"none\" stroke=\"#838b8b\" stroke-dasharray=\"5,2\" d=\"M3742.9,-1906.94C3732.76,-1916.81 3718.62,-1928.3 3703.41,-1933.61 3614.83,-1964.58 418.49,-1945.42 325.41,-1933.61 291.61,-1929.33 254.92,-1920.43 224.3,-1911.77\"/>\n",
       "<polygon fill=\"#838b8b\" stroke=\"#838b8b\" points=\"225.35,-1908.43 214.77,-1909.02 223.4,-1915.16 225.35,-1908.43\"/>\n",
       "</g>\n",
       "<!-- callgraphX__tile_3_1 -->\n",
       "<g id=\"node24\" class=\"node\">\n",
       "<title>callgraphX__tile_3_1</title>\n",
       "<ellipse fill=\"#fecccc\" fill-opacity=\"0.698039\" stroke=\"black\" cx=\"407.41\" cy=\"-1977.42\" rx=\"82.38\" ry=\"25.81\"/>\n",
       "<text text-anchor=\"middle\" x=\"407.41\" y=\"-1978.37\" font-family=\"Times,serif\" font-size=\"14.00\" fill=\"#000000\">tile_3_1</text>\n",
       "<text text-anchor=\"middle\" x=\"407.41\" y=\"-1964.12\" font-family=\"Times,serif\" font-size=\"14.00\" fill=\"#000000\">(callgraph.py:142)</text>\n",
       "</g>\n",
       "<!-- callgraphX&#45;&gt;callgraphX__tile_3_1 -->\n",
       "<g id=\"edge27\" class=\"edge\">\n",
       "<title>callgraphX&#45;&gt;callgraphX__tile_3_1</title>\n",
       "<path fill=\"none\" stroke=\"#838b8b\" stroke-dasharray=\"5,2\" d=\"M3736.38,-1905.47C3729.06,-1909.57 3720.66,-1913.48 3712.41,-1915.61 3539.25,-1960.36 670.35,-1925.59 493.41,-1951.61 487,-1952.55 480.41,-1953.85 473.85,-1955.35\"/>\n",
       "<polygon fill=\"#838b8b\" stroke=\"#838b8b\" points=\"473.24,-1951.9 464.37,-1957.69 474.92,-1958.69 473.24,-1951.9\"/>\n",
       "</g>\n",
       "<!-- callgraphX__tile_3_2 -->\n",
       "<g id=\"node25\" class=\"node\">\n",
       "<title>callgraphX__tile_3_2</title>\n",
       "<ellipse fill=\"#fecccc\" fill-opacity=\"0.698039\" stroke=\"black\" cx=\"1246.41\" cy=\"-838.38\" rx=\"82.38\" ry=\"25.81\"/>\n",
       "<text text-anchor=\"middle\" x=\"1246.41\" y=\"-839.33\" font-family=\"Times,serif\" font-size=\"14.00\" fill=\"#000000\">tile_3_2</text>\n",
       "<text text-anchor=\"middle\" x=\"1246.41\" y=\"-825.08\" font-family=\"Times,serif\" font-size=\"14.00\" fill=\"#000000\">(callgraph.py:150)</text>\n",
       "</g>\n",
       "<!-- callgraphX&#45;&gt;callgraphX__tile_3_2 -->\n",
       "<g id=\"edge22\" class=\"edge\">\n",
       "<title>callgraphX&#45;&gt;callgraphX__tile_3_2</title>\n",
       "<path fill=\"none\" stroke=\"#838b8b\" stroke-dasharray=\"5,2\" d=\"M3736.34,-1874.27C3729.02,-1870.18 3720.64,-1866.24 3712.41,-1863.99 3609.31,-1835.9 2831.71,-1898.48 2751.41,-1827.99 2713.32,-1794.56 2732.41,-1766.24 2732.41,-1715.57 2732.41,-1715.57 2732.41,-1715.57 2732.41,-1012.62 2732.41,-977.28 1658.09,-876.79 1336.37,-847.49\"/>\n",
       "<polygon fill=\"#838b8b\" stroke=\"#838b8b\" points=\"1337.03,-844.04 1326.76,-846.62 1336.4,-851.01 1337.03,-844.04\"/>\n",
       "</g>\n",
       "<!-- callgraphX__tile_3_3 -->\n",
       "<g id=\"node26\" class=\"node\">\n",
       "<title>callgraphX__tile_3_3</title>\n",
       "<ellipse fill=\"#fecccc\" fill-opacity=\"0.698039\" stroke=\"black\" cx=\"1246.41\" cy=\"-926\" rx=\"82.38\" ry=\"25.81\"/>\n",
       "<text text-anchor=\"middle\" x=\"1246.41\" y=\"-926.95\" font-family=\"Times,serif\" font-size=\"14.00\" fill=\"#000000\">tile_3_3</text>\n",
       "<text text-anchor=\"middle\" x=\"1246.41\" y=\"-912.7\" font-family=\"Times,serif\" font-size=\"14.00\" fill=\"#000000\">(callgraph.py:155)</text>\n",
       "</g>\n",
       "<!-- callgraphX&#45;&gt;callgraphX__tile_3_3 -->\n",
       "<g id=\"edge18\" class=\"edge\">\n",
       "<title>callgraphX&#45;&gt;callgraphX__tile_3_3</title>\n",
       "<path fill=\"none\" stroke=\"#838b8b\" stroke-dasharray=\"5,2\" d=\"M3736.38,-1874.14C3729.06,-1870.05 3720.66,-1866.13 3712.41,-1863.99 3634.15,-1843.72 860.48,-1884.23 802.41,-1827.99 766.48,-1793.2 797.41,-1765.58 797.41,-1715.57 797.41,-1715.57 797.41,-1715.57 797.41,-1275.47 797.41,-1145.78 740.45,-1062.6 846.41,-987.81 859.13,-978.83 1046.19,-953.11 1159.93,-938.15\"/>\n",
       "<polygon fill=\"#838b8b\" stroke=\"#838b8b\" points=\"1160.08,-941.66 1169.54,-936.89 1159.17,-934.72 1160.08,-941.66\"/>\n",
       "</g>\n",
       "<!-- callgraphX__tile_3_4 -->\n",
       "<g id=\"node27\" class=\"node\">\n",
       "<title>callgraphX__tile_3_4</title>\n",
       "<ellipse fill=\"#fecccc\" fill-opacity=\"0.698039\" stroke=\"black\" cx=\"1611.41\" cy=\"-663.14\" rx=\"82.38\" ry=\"25.81\"/>\n",
       "<text text-anchor=\"middle\" x=\"1611.41\" y=\"-664.09\" font-family=\"Times,serif\" font-size=\"14.00\" fill=\"#000000\">tile_3_4</text>\n",
       "<text text-anchor=\"middle\" x=\"1611.41\" y=\"-649.84\" font-family=\"Times,serif\" font-size=\"14.00\" fill=\"#000000\">(callgraph.py:163)</text>\n",
       "</g>\n",
       "<!-- callgraphX&#45;&gt;callgraphX__tile_3_4 -->\n",
       "<g id=\"edge16\" class=\"edge\">\n",
       "<title>callgraphX&#45;&gt;callgraphX__tile_3_4</title>\n",
       "<path fill=\"none\" stroke=\"#838b8b\" stroke-dasharray=\"5,2\" d=\"M3736.34,-1874.28C3729.02,-1870.19 3720.63,-1866.25 3712.41,-1863.99 3616.74,-1837.78 2892.22,-1896.42 2820.41,-1827.99 2784.09,-1793.39 2810.41,-1765.73 2810.41,-1715.57 2810.41,-1715.57 2810.41,-1715.57 2810.41,-837.38 2810.41,-817.95 2827.59,-824.95 2012.41,-724.95 1875.17,-708.12 1839.19,-715.02 1703.41,-688.95 1696.29,-687.58 1688.91,-685.96 1681.57,-684.2\"/>\n",
       "<polygon fill=\"#838b8b\" stroke=\"#838b8b\" points=\"1682.51,-680.83 1671.96,-681.82 1680.83,-687.62 1682.51,-680.83\"/>\n",
       "</g>\n",
       "<!-- callgraphX__tile_3_5 -->\n",
       "<g id=\"node28\" class=\"node\">\n",
       "<title>callgraphX__tile_3_5</title>\n",
       "<ellipse fill=\"#fecccc\" fill-opacity=\"0.698039\" stroke=\"black\" cx=\"1986.41\" cy=\"-575.52\" rx=\"82.38\" ry=\"25.81\"/>\n",
       "<text text-anchor=\"middle\" x=\"1986.41\" y=\"-576.47\" font-family=\"Times,serif\" font-size=\"14.00\" fill=\"#000000\">tile_3_5</text>\n",
       "<text text-anchor=\"middle\" x=\"1986.41\" y=\"-562.22\" font-family=\"Times,serif\" font-size=\"14.00\" fill=\"#000000\">(callgraph.py:168)</text>\n",
       "</g>\n",
       "<!-- callgraphX&#45;&gt;callgraphX__tile_3_5 -->\n",
       "<g id=\"edge9\" class=\"edge\">\n",
       "<title>callgraphX&#45;&gt;callgraphX__tile_3_5</title>\n",
       "<path fill=\"none\" stroke=\"#838b8b\" stroke-dasharray=\"5,2\" d=\"M3736.38,-1874.14C3729.06,-1870.05 3720.66,-1866.13 3712.41,-1863.99 3632.53,-1843.31 801.68,-1885.38 742.41,-1827.99 706.47,-1793.2 737.41,-1765.58 737.41,-1715.57 737.41,-1715.57 737.41,-1715.57 737.41,-1275.47 737.41,-1158.56 703.41,-1131.53 703.41,-1014.62 703.41,-1014.62 703.41,-1014.62 703.41,-749.76 703.41,-689.53 1603.19,-608.68 1895.72,-583.99\"/>\n",
       "<polygon fill=\"#838b8b\" stroke=\"#838b8b\" points=\"1895.94,-587.49 1905.61,-583.16 1895.35,-580.51 1895.94,-587.49\"/>\n",
       "</g>\n",
       "<!-- callgraphX__tile_3_6 -->\n",
       "<g id=\"node29\" class=\"node\">\n",
       "<title>callgraphX__tile_3_6</title>\n",
       "<ellipse fill=\"#fecccc\" fill-opacity=\"0.698039\" stroke=\"black\" cx=\"1552.41\" cy=\"-312.67\" rx=\"82.38\" ry=\"25.81\"/>\n",
       "<text text-anchor=\"middle\" x=\"1552.41\" y=\"-313.62\" font-family=\"Times,serif\" font-size=\"14.00\" fill=\"#000000\">tile_3_6</text>\n",
       "<text text-anchor=\"middle\" x=\"1552.41\" y=\"-299.37\" font-family=\"Times,serif\" font-size=\"14.00\" fill=\"#000000\">(callgraph.py:173)</text>\n",
       "</g>\n",
       "<!-- callgraphX&#45;&gt;callgraphX__tile_3_6 -->\n",
       "<g id=\"edge3\" class=\"edge\">\n",
       "<title>callgraphX&#45;&gt;callgraphX__tile_3_6</title>\n",
       "<path fill=\"none\" stroke=\"#838b8b\" stroke-dasharray=\"5,2\" d=\"M3736.32,-1874.36C3729,-1870.28 3720.61,-1866.31 3712.41,-1863.99 3575.54,-1825.31 3193.79,-1903.73 3073.41,-1827.99 3025.11,-1797.61 3011.41,-1772.63 3011.41,-1715.57 3011.41,-1715.57 3011.41,-1715.57 3011.41,-486.9 3011.41,-417.72 1963.19,-341.35 1643.72,-319.69\"/>\n",
       "<polygon fill=\"#838b8b\" stroke=\"#838b8b\" points=\"1644.39,-316.23 1634.18,-319.04 1643.92,-323.21 1644.39,-316.23\"/>\n",
       "</g>\n",
       "<!-- callgraphX__tile_3_7 -->\n",
       "<g id=\"node30\" class=\"node\">\n",
       "<title>callgraphX__tile_3_7</title>\n",
       "<ellipse fill=\"#fecccc\" fill-opacity=\"0.698039\" stroke=\"black\" cx=\"1888.41\" cy=\"-400.28\" rx=\"82.38\" ry=\"25.81\"/>\n",
       "<text text-anchor=\"middle\" x=\"1888.41\" y=\"-401.23\" font-family=\"Times,serif\" font-size=\"14.00\" fill=\"#000000\">tile_3_7</text>\n",
       "<text text-anchor=\"middle\" x=\"1888.41\" y=\"-386.98\" font-family=\"Times,serif\" font-size=\"14.00\" fill=\"#000000\">(callgraph.py:178)</text>\n",
       "</g>\n",
       "<!-- callgraphX&#45;&gt;callgraphX__tile_3_7 -->\n",
       "<g id=\"edge65\" class=\"edge\">\n",
       "<title>callgraphX&#45;&gt;callgraphX__tile_3_7</title>\n",
       "<path fill=\"none\" stroke=\"#838b8b\" stroke-dasharray=\"5,2\" d=\"M3736.33,-1874.33C3729,-1870.25 3720.62,-1866.29 3712.41,-1863.99 3636.76,-1842.83 3064.17,-1881.22 3006.41,-1827.99 2969.33,-1793.83 2991.41,-1765.98 2991.41,-1715.57 2991.41,-1715.57 2991.41,-1715.57 2991.41,-574.52 2991.41,-513.71 2966.74,-491.32 2913.41,-462.09 2821.84,-411.92 2077.49,-442.69 1974.41,-426.09 1968.12,-425.08 1961.63,-423.76 1955.18,-422.25\"/>\n",
       "<polygon fill=\"#838b8b\" stroke=\"#838b8b\" points=\"1956.42,-418.95 1945.87,-419.92 1954.72,-425.74 1956.42,-418.95\"/>\n",
       "</g>\n",
       "<!-- callgraphX__tile_3_8 -->\n",
       "<g id=\"node31\" class=\"node\">\n",
       "<title>callgraphX__tile_3_8</title>\n",
       "<ellipse fill=\"#fecccc\" fill-opacity=\"0.698039\" stroke=\"black\" cx=\"1090.41\" cy=\"-312.67\" rx=\"82.38\" ry=\"25.81\"/>\n",
       "<text text-anchor=\"middle\" x=\"1090.41\" y=\"-313.62\" font-family=\"Times,serif\" font-size=\"14.00\" fill=\"#000000\">tile_3_8</text>\n",
       "<text text-anchor=\"middle\" x=\"1090.41\" y=\"-299.37\" font-family=\"Times,serif\" font-size=\"14.00\" fill=\"#000000\">(callgraph.py:186)</text>\n",
       "</g>\n",
       "<!-- callgraphX&#45;&gt;callgraphX__tile_3_8 -->\n",
       "<g id=\"edge59\" class=\"edge\">\n",
       "<title>callgraphX&#45;&gt;callgraphX__tile_3_8</title>\n",
       "<path fill=\"none\" stroke=\"#838b8b\" stroke-dasharray=\"5,2\" d=\"M3736.38,-1874.14C3729.06,-1870.04 3720.66,-1866.13 3712.41,-1863.99 3629.3,-1842.5 684.09,-1887.69 622.41,-1827.99 586.46,-1793.21 617.41,-1765.58 617.41,-1715.57 617.41,-1715.57 617.41,-1715.57 617.41,-1450.71 617.41,-1256.3 583.41,-1209.02 583.41,-1014.62 583.41,-1014.62 583.41,-1014.62 583.41,-486.9 583.41,-464.12 880.43,-374.72 1019.79,-334.03\"/>\n",
       "<polygon fill=\"#838b8b\" stroke=\"#838b8b\" points=\"1020.68,-337.42 1029.3,-331.26 1018.72,-330.7 1020.68,-337.42\"/>\n",
       "</g>\n",
       "<!-- callgraphX__tile_4_0 -->\n",
       "<g id=\"node32\" class=\"node\">\n",
       "<title>callgraphX__tile_4_0</title>\n",
       "<ellipse fill=\"#fecccc\" fill-opacity=\"0.698039\" stroke=\"black\" cx=\"255.41\" cy=\"-1802.19\" rx=\"82.38\" ry=\"25.81\"/>\n",
       "<text text-anchor=\"middle\" x=\"255.41\" y=\"-1803.14\" font-family=\"Times,serif\" font-size=\"14.00\" fill=\"#000000\">tile_4_0</text>\n",
       "<text text-anchor=\"middle\" x=\"255.41\" y=\"-1788.89\" font-family=\"Times,serif\" font-size=\"14.00\" fill=\"#000000\">(callgraph.py:191)</text>\n",
       "</g>\n",
       "<!-- callgraphX&#45;&gt;callgraphX__tile_4_0 -->\n",
       "<g id=\"edge55\" class=\"edge\">\n",
       "<title>callgraphX&#45;&gt;callgraphX__tile_4_0</title>\n",
       "<path fill=\"none\" stroke=\"#838b8b\" stroke-dasharray=\"5,2\" d=\"M3736.38,-1874.13C3729.06,-1870.04 3720.66,-1866.13 3712.41,-1863.99 3531.39,-1817.26 532.61,-1853.54 347.41,-1827.99 339.72,-1826.93 331.76,-1825.43 323.89,-1823.68\"/>\n",
       "<polygon fill=\"#838b8b\" stroke=\"#838b8b\" points=\"324.87,-1820.31 314.33,-1821.41 323.25,-1827.13 324.87,-1820.31\"/>\n",
       "</g>\n",
       "<!-- callgraphX__tile_4_1 -->\n",
       "<g id=\"node33\" class=\"node\">\n",
       "<title>callgraphX__tile_4_1</title>\n",
       "<ellipse fill=\"#fecccc\" fill-opacity=\"0.698039\" stroke=\"black\" cx=\"407.41\" cy=\"-1889.8\" rx=\"82.38\" ry=\"25.81\"/>\n",
       "<text text-anchor=\"middle\" x=\"407.41\" y=\"-1890.75\" font-family=\"Times,serif\" font-size=\"14.00\" fill=\"#000000\">tile_4_1</text>\n",
       "<text text-anchor=\"middle\" x=\"407.41\" y=\"-1876.5\" font-family=\"Times,serif\" font-size=\"14.00\" fill=\"#000000\">(callgraph.py:196)</text>\n",
       "</g>\n",
       "<!-- callgraphX&#45;&gt;callgraphX__tile_4_1 -->\n",
       "<g id=\"edge52\" class=\"edge\">\n",
       "<title>callgraphX&#45;&gt;callgraphX__tile_4_1</title>\n",
       "<path fill=\"none\" stroke=\"#838b8b\" stroke-dasharray=\"5,2\" d=\"M3716.12,-1889.8C2644.56,-1889.8 1573.01,-1889.8 501.46,-1889.8\"/>\n",
       "<polygon fill=\"#838b8b\" stroke=\"#838b8b\" points=\"501.55,-1886.3 491.55,-1889.8 501.55,-1893.3 501.55,-1886.3\"/>\n",
       "</g>\n",
       "<!-- callgraphX__tile_4_2 -->\n",
       "<g id=\"node34\" class=\"node\">\n",
       "<title>callgraphX__tile_4_2</title>\n",
       "<ellipse fill=\"#fecccc\" fill-opacity=\"0.698039\" stroke=\"black\" cx=\"944.41\" cy=\"-926\" rx=\"82.38\" ry=\"25.81\"/>\n",
       "<text text-anchor=\"middle\" x=\"944.41\" y=\"-926.95\" font-family=\"Times,serif\" font-size=\"14.00\" fill=\"#000000\">tile_4_2</text>\n",
       "<text text-anchor=\"middle\" x=\"944.41\" y=\"-912.7\" font-family=\"Times,serif\" font-size=\"14.00\" fill=\"#000000\">(callgraph.py:204)</text>\n",
       "</g>\n",
       "<!-- callgraphX&#45;&gt;callgraphX__tile_4_2 -->\n",
       "<g id=\"edge46\" class=\"edge\">\n",
       "<title>callgraphX&#45;&gt;callgraphX__tile_4_2</title>\n",
       "<path fill=\"none\" stroke=\"#838b8b\" stroke-dasharray=\"5,2\" d=\"M3736.38,-1874.14C3729.06,-1870.05 3720.66,-1866.13 3712.41,-1863.99 3633.61,-1843.59 840.88,-1884.62 782.41,-1827.99 746.47,-1793.2 777.41,-1765.58 777.41,-1715.57 777.41,-1715.57 777.41,-1715.57 777.41,-1275.47 777.41,-1147.4 713.56,-1087.14 794.41,-987.81 805.41,-974.29 840.98,-959.59 874.72,-948.03\"/>\n",
       "<polygon fill=\"#838b8b\" stroke=\"#838b8b\" points=\"875.77,-951.37 884.14,-944.87 873.55,-944.73 875.77,-951.37\"/>\n",
       "</g>\n",
       "<!-- callgraphX__tile_4_3 -->\n",
       "<g id=\"node35\" class=\"node\">\n",
       "<title>callgraphX__tile_4_3</title>\n",
       "<ellipse fill=\"#fecccc\" fill-opacity=\"0.698039\" stroke=\"black\" cx=\"1429.41\" cy=\"-1013.62\" rx=\"82.38\" ry=\"25.81\"/>\n",
       "<text text-anchor=\"middle\" x=\"1429.41\" y=\"-1014.57\" font-family=\"Times,serif\" font-size=\"14.00\" fill=\"#000000\">tile_4_3</text>\n",
       "<text text-anchor=\"middle\" x=\"1429.41\" y=\"-1000.32\" font-family=\"Times,serif\" font-size=\"14.00\" fill=\"#000000\">(callgraph.py:209)</text>\n",
       "</g>\n",
       "<!-- callgraphX&#45;&gt;callgraphX__tile_4_3 -->\n",
       "<g id=\"edge41\" class=\"edge\">\n",
       "<title>callgraphX&#45;&gt;callgraphX__tile_4_3</title>\n",
       "<path fill=\"none\" stroke=\"#838b8b\" stroke-dasharray=\"5,2\" d=\"M3736.38,-1874.14C3729.06,-1870.05 3720.66,-1866.13 3712.41,-1863.99 3635.23,-1843.99 899.67,-1883.46 842.41,-1827.99 806.48,-1793.2 837.41,-1765.58 837.41,-1715.57 837.41,-1715.57 837.41,-1715.57 837.41,-1275.47 837.41,-1253.18 807.2,-1091.72 822.41,-1075.43 862,-1033 1286.26,-1049.52 1343.41,-1039.43 1349.43,-1038.36 1355.64,-1037.04 1361.83,-1035.56\"/>\n",
       "<polygon fill=\"#838b8b\" stroke=\"#838b8b\" points=\"1362.6,-1038.97 1371.44,-1033.12 1360.89,-1032.19 1362.6,-1038.97\"/>\n",
       "</g>\n",
       "<!-- callgraphX__tile_4_4 -->\n",
       "<g id=\"node36\" class=\"node\">\n",
       "<title>callgraphX__tile_4_4</title>\n",
       "<ellipse fill=\"#fecccc\" fill-opacity=\"0.698039\" stroke=\"black\" cx=\"2048.41\" cy=\"-1101.23\" rx=\"82.38\" ry=\"25.81\"/>\n",
       "<text text-anchor=\"middle\" x=\"2048.41\" y=\"-1102.18\" font-family=\"Times,serif\" font-size=\"14.00\" fill=\"#000000\">tile_4_4</text>\n",
       "<text text-anchor=\"middle\" x=\"2048.41\" y=\"-1087.93\" font-family=\"Times,serif\" font-size=\"14.00\" fill=\"#000000\">(callgraph.py:217)</text>\n",
       "</g>\n",
       "<!-- callgraphX&#45;&gt;callgraphX__tile_4_4 -->\n",
       "<g id=\"edge39\" class=\"edge\">\n",
       "<title>callgraphX&#45;&gt;callgraphX__tile_4_4</title>\n",
       "<path fill=\"none\" stroke=\"#838b8b\" stroke-dasharray=\"5,2\" d=\"M3736.35,-1874.26C3729.03,-1870.17 3720.64,-1866.23 3712.41,-1863.99 3658.49,-1849.35 2748.78,-1865.54 2707.41,-1827.99 2670.08,-1794.12 2692.41,-1765.98 2692.41,-1715.57 2692.41,-1715.57 2692.41,-1715.57 2692.41,-1275.47 2692.41,-1225.27 2717.47,-1197.98 2681.41,-1163.04 2637.66,-1120.67 2194.4,-1137.55 2134.41,-1127.04 2128.38,-1125.99 2122.17,-1124.67 2115.98,-1123.2\"/>\n",
       "<polygon fill=\"#838b8b\" stroke=\"#838b8b\" points=\"2116.92,-1119.83 2106.37,-1120.77 2115.21,-1126.61 2116.92,-1119.83\"/>\n",
       "</g>\n",
       "<!-- callgraphX__tile_4_5 -->\n",
       "<g id=\"node37\" class=\"node\">\n",
       "<title>callgraphX__tile_4_5</title>\n",
       "<ellipse fill=\"#fecccc\" fill-opacity=\"0.698039\" stroke=\"black\" cx=\"2128.41\" cy=\"-1188.85\" rx=\"82.38\" ry=\"25.81\"/>\n",
       "<text text-anchor=\"middle\" x=\"2128.41\" y=\"-1189.8\" font-family=\"Times,serif\" font-size=\"14.00\" fill=\"#000000\">tile_4_5</text>\n",
       "<text text-anchor=\"middle\" x=\"2128.41\" y=\"-1175.55\" font-family=\"Times,serif\" font-size=\"14.00\" fill=\"#000000\">(callgraph.py:225)</text>\n",
       "</g>\n",
       "<!-- callgraphX&#45;&gt;callgraphX__tile_4_5 -->\n",
       "<g id=\"edge34\" class=\"edge\">\n",
       "<title>callgraphX&#45;&gt;callgraphX__tile_4_5</title>\n",
       "<path fill=\"none\" stroke=\"#838b8b\" stroke-dasharray=\"5,2\" d=\"M3736.35,-1874.25C3729.03,-1870.16 3720.64,-1866.22 3712.41,-1863.99 3655.64,-1848.63 2697.64,-1867.86 2654.41,-1827.99 2617.43,-1793.9 2641.41,-1765.87 2641.41,-1715.57 2641.41,-1715.57 2641.41,-1715.57 2641.41,-1363.09 2641.41,-1337.82 2642.52,-1268.28 2624.41,-1250.66 2596.01,-1223.05 2355.73,-1203.89 2220.31,-1195.17\"/>\n",
       "<polygon fill=\"#838b8b\" stroke=\"#838b8b\" points=\"2220.86,-1191.7 2210.66,-1194.56 2220.41,-1198.69 2220.86,-1191.7\"/>\n",
       "</g>\n",
       "<!-- callgraphX__tile_4_6 -->\n",
       "<g id=\"node38\" class=\"node\">\n",
       "<title>callgraphX__tile_4_6</title>\n",
       "<ellipse fill=\"#fecccc\" fill-opacity=\"0.698039\" stroke=\"black\" cx=\"2326.41\" cy=\"-225.05\" rx=\"82.38\" ry=\"25.81\"/>\n",
       "<text text-anchor=\"middle\" x=\"2326.41\" y=\"-226\" font-family=\"Times,serif\" font-size=\"14.00\" fill=\"#000000\">tile_4_6</text>\n",
       "<text text-anchor=\"middle\" x=\"2326.41\" y=\"-211.75\" font-family=\"Times,serif\" font-size=\"14.00\" fill=\"#000000\">(callgraph.py:233)</text>\n",
       "</g>\n",
       "<!-- callgraphX&#45;&gt;callgraphX__tile_4_6 -->\n",
       "<g id=\"edge30\" class=\"edge\">\n",
       "<title>callgraphX&#45;&gt;callgraphX__tile_4_6</title>\n",
       "<path fill=\"none\" stroke=\"#838b8b\" stroke-dasharray=\"5,2\" d=\"M3735.78,-1874.33C3728.57,-1870.35 3720.38,-1866.45 3712.41,-1863.99 3637.89,-1841.05 3419.35,-1882.3 3363.41,-1827.99 3327.23,-1792.88 3348.41,-1765.98 3348.41,-1715.57 3348.41,-1715.57 3348.41,-1715.57 3348.41,-399.28 3348.41,-348.81 3369.87,-320.67 3332.41,-286.86 3294.44,-252.58 2462.9,-259 2412.41,-250.86 2406.12,-249.84 2399.64,-248.52 2393.19,-247\"/>\n",
       "<polygon fill=\"#838b8b\" stroke=\"#838b8b\" points=\"2394.42,-243.7 2383.87,-244.67 2392.72,-250.5 2394.42,-243.7\"/>\n",
       "</g>\n",
       "<!-- callgraphX__tile_4_7 -->\n",
       "<g id=\"node39\" class=\"node\">\n",
       "<title>callgraphX__tile_4_7</title>\n",
       "<ellipse fill=\"#fecccc\" fill-opacity=\"0.698039\" stroke=\"black\" cx=\"2088.41\" cy=\"-312.67\" rx=\"82.38\" ry=\"25.81\"/>\n",
       "<text text-anchor=\"middle\" x=\"2088.41\" y=\"-313.62\" font-family=\"Times,serif\" font-size=\"14.00\" fill=\"#000000\">tile_4_7</text>\n",
       "<text text-anchor=\"middle\" x=\"2088.41\" y=\"-299.37\" font-family=\"Times,serif\" font-size=\"14.00\" fill=\"#000000\">(callgraph.py:238)</text>\n",
       "</g>\n",
       "<!-- callgraphX&#45;&gt;callgraphX__tile_4_7 -->\n",
       "<g id=\"edge29\" class=\"edge\">\n",
       "<title>callgraphX&#45;&gt;callgraphX__tile_4_7</title>\n",
       "<path fill=\"none\" stroke=\"#838b8b\" stroke-dasharray=\"5,2\" d=\"M3735.8,-1874.25C3728.59,-1870.27 3720.4,-1866.39 3712.41,-1863.99 3564.03,-1819.57 3031.41,-1870.45 3031.41,-1715.57 3031.41,-1715.57 3031.41,-1715.57 3031.41,-486.9 3031.41,-436.49 3053.62,-408.48 3016.41,-374.48 2981.84,-342.89 2220.62,-346.02 2174.41,-338.48 2168.12,-337.45 2161.64,-336.11 2155.19,-334.6\"/>\n",
       "<polygon fill=\"#838b8b\" stroke=\"#838b8b\" points=\"2156.42,-331.3 2145.87,-332.26 2154.72,-338.09 2156.42,-331.3\"/>\n",
       "</g>\n",
       "<!-- callgraphX__tile_4_8 -->\n",
       "<g id=\"node40\" class=\"node\">\n",
       "<title>callgraphX__tile_4_8</title>\n",
       "<ellipse fill=\"#fecccc\" fill-opacity=\"0.698039\" stroke=\"black\" cx=\"1912.41\" cy=\"-225.05\" rx=\"82.38\" ry=\"25.81\"/>\n",
       "<text text-anchor=\"middle\" x=\"1912.41\" y=\"-226\" font-family=\"Times,serif\" font-size=\"14.00\" fill=\"#000000\">tile_4_8</text>\n",
       "<text text-anchor=\"middle\" x=\"1912.41\" y=\"-211.75\" font-family=\"Times,serif\" font-size=\"14.00\" fill=\"#000000\">(callgraph.py:246)</text>\n",
       "</g>\n",
       "<!-- callgraphX&#45;&gt;callgraphX__tile_4_8 -->\n",
       "<g id=\"edge26\" class=\"edge\">\n",
       "<title>callgraphX&#45;&gt;callgraphX__tile_4_8</title>\n",
       "<path fill=\"none\" stroke=\"#838b8b\" stroke-dasharray=\"5,2\" d=\"M3735.8,-1874.27C3728.59,-1870.28 3720.4,-1866.4 3712.41,-1863.99 3627.37,-1838.4 3376.88,-1891.11 3314.41,-1827.99 3279.14,-1792.37 3305.41,-1765.69 3305.41,-1715.57 3305.41,-1715.57 3305.41,-1715.57 3305.41,-399.28 3305.41,-253.79 2147.32,-278.12 2004.41,-250.86 1997.28,-249.5 1989.9,-247.88 1982.56,-246.12\"/>\n",
       "<polygon fill=\"#838b8b\" stroke=\"#838b8b\" points=\"1983.51,-242.75 1972.96,-243.74 1981.82,-249.55 1983.51,-242.75\"/>\n",
       "</g>\n",
       "<!-- callgraphX__tile_5_0 -->\n",
       "<g id=\"node41\" class=\"node\">\n",
       "<title>callgraphX__tile_5_0</title>\n",
       "<ellipse fill=\"#fecccc\" fill-opacity=\"0.698039\" stroke=\"black\" cx=\"1583.41\" cy=\"-1714.57\" rx=\"82.38\" ry=\"25.81\"/>\n",
       "<text text-anchor=\"middle\" x=\"1583.41\" y=\"-1715.52\" font-family=\"Times,serif\" font-size=\"14.00\" fill=\"#000000\">tile_5_0</text>\n",
       "<text text-anchor=\"middle\" x=\"1583.41\" y=\"-1701.27\" font-family=\"Times,serif\" font-size=\"14.00\" fill=\"#000000\">(callgraph.py:251)</text>\n",
       "</g>\n",
       "<!-- callgraphX&#45;&gt;callgraphX__tile_5_0 -->\n",
       "<g id=\"edge49\" class=\"edge\">\n",
       "<title>callgraphX&#45;&gt;callgraphX__tile_5_0</title>\n",
       "<path fill=\"none\" stroke=\"#838b8b\" stroke-dasharray=\"5,2\" d=\"M3736.37,-1874.18C3729.05,-1870.09 3720.65,-1866.17 3712.41,-1863.99 3519.81,-1813.31 2116.65,-1861.89 1920.41,-1827.99 1819.08,-1810.49 1706.8,-1768.1 1640.81,-1740.67\"/>\n",
       "<polygon fill=\"#838b8b\" stroke=\"#838b8b\" points=\"1642.2,-1737.45 1631.63,-1736.81 1639.49,-1743.91 1642.2,-1737.45\"/>\n",
       "</g>\n",
       "<!-- callgraphX__tile_5_1 -->\n",
       "<g id=\"node42\" class=\"node\">\n",
       "<title>callgraphX__tile_5_1</title>\n",
       "<ellipse fill=\"#fecccc\" fill-opacity=\"0.698039\" stroke=\"black\" cx=\"438.41\" cy=\"-1802.19\" rx=\"82.38\" ry=\"25.81\"/>\n",
       "<text text-anchor=\"middle\" x=\"438.41\" y=\"-1803.14\" font-family=\"Times,serif\" font-size=\"14.00\" fill=\"#000000\">tile_5_1</text>\n",
       "<text text-anchor=\"middle\" x=\"438.41\" y=\"-1788.89\" font-family=\"Times,serif\" font-size=\"14.00\" fill=\"#000000\">(callgraph.py:256)</text>\n",
       "</g>\n",
       "<!-- callgraphX&#45;&gt;callgraphX__tile_5_1 -->\n",
       "<g id=\"edge45\" class=\"edge\">\n",
       "<title>callgraphX&#45;&gt;callgraphX__tile_5_1</title>\n",
       "<path fill=\"none\" stroke=\"#838b8b\" stroke-dasharray=\"5,2\" d=\"M3736.38,-1874.14C3729.06,-1870.04 3720.66,-1866.13 3712.41,-1863.99 3540.92,-1819.67 699.64,-1853.78 524.41,-1827.99 518,-1827.05 511.41,-1825.76 504.85,-1824.26\"/>\n",
       "<polygon fill=\"#838b8b\" stroke=\"#838b8b\" points=\"505.92,-1820.92 495.37,-1821.92 504.24,-1827.71 505.92,-1820.92\"/>\n",
       "</g>\n",
       "<!-- callgraphX__tile_5_2 -->\n",
       "<g id=\"node43\" class=\"node\">\n",
       "<title>callgraphX__tile_5_2</title>\n",
       "<ellipse fill=\"#fecccc\" fill-opacity=\"0.698039\" stroke=\"black\" cx=\"2259.41\" cy=\"-1539.33\" rx=\"82.38\" ry=\"25.81\"/>\n",
       "<text text-anchor=\"middle\" x=\"2259.41\" y=\"-1540.28\" font-family=\"Times,serif\" font-size=\"14.00\" fill=\"#000000\">tile_5_2</text>\n",
       "<text text-anchor=\"middle\" x=\"2259.41\" y=\"-1526.03\" font-family=\"Times,serif\" font-size=\"14.00\" fill=\"#000000\">(callgraph.py:264)</text>\n",
       "</g>\n",
       "<!-- callgraphX&#45;&gt;callgraphX__tile_5_2 -->\n",
       "<g id=\"edge38\" class=\"edge\">\n",
       "<title>callgraphX&#45;&gt;callgraphX__tile_5_2</title>\n",
       "<path fill=\"none\" stroke=\"#838b8b\" stroke-dasharray=\"5,2\" d=\"M3736.35,-1874.23C3729.03,-1870.14 3720.64,-1866.21 3712.41,-1863.99 3587.56,-1830.41 2666.99,-1881.73 2549.41,-1827.99 2424.72,-1771.01 2442.09,-1693.09 2340.41,-1601.14 2328.44,-1590.32 2314.65,-1579.45 2301.88,-1569.95\"/>\n",
       "<polygon fill=\"#838b8b\" stroke=\"#838b8b\" points=\"2304.16,-1567.27 2294.02,-1564.19 2300.02,-1572.92 2304.16,-1567.27\"/>\n",
       "</g>\n",
       "<!-- callgraphX__tile_5_3 -->\n",
       "<g id=\"node44\" class=\"node\">\n",
       "<title>callgraphX__tile_5_3</title>\n",
       "<ellipse fill=\"#fecccc\" fill-opacity=\"0.698039\" stroke=\"black\" cx=\"1447.41\" cy=\"-926\" rx=\"82.38\" ry=\"25.81\"/>\n",
       "<text text-anchor=\"middle\" x=\"1447.41\" y=\"-926.95\" font-family=\"Times,serif\" font-size=\"14.00\" fill=\"#000000\">tile_5_3</text>\n",
       "<text text-anchor=\"middle\" x=\"1447.41\" y=\"-912.7\" font-family=\"Times,serif\" font-size=\"14.00\" fill=\"#000000\">(callgraph.py:269)</text>\n",
       "</g>\n",
       "<!-- callgraphX&#45;&gt;callgraphX__tile_5_3 -->\n",
       "<g id=\"edge33\" class=\"edge\">\n",
       "<title>callgraphX&#45;&gt;callgraphX__tile_5_3</title>\n",
       "<path fill=\"none\" stroke=\"#838b8b\" stroke-dasharray=\"5,2\" d=\"M3736.38,-1874.14C3729.06,-1870.05 3720.66,-1866.13 3712.41,-1863.99 3634.69,-1843.86 880.08,-1883.85 822.41,-1827.99 786.48,-1793.2 817.41,-1765.58 817.41,-1715.57 817.41,-1715.57 817.41,-1715.57 817.41,-1275.47 817.41,-1231.01 786.69,-1110.19 814.41,-1075.43 968.16,-882.57 1116.07,-1011.4 1355.41,-951.81 1362.04,-950.15 1368.94,-948.39 1375.83,-946.59\"/>\n",
       "<polygon fill=\"#838b8b\" stroke=\"#838b8b\" points=\"1376.38,-950.06 1385.16,-944.13 1374.6,-943.29 1376.38,-950.06\"/>\n",
       "</g>\n",
       "<!-- callgraphX__tile_5_4 -->\n",
       "<g id=\"node45\" class=\"node\">\n",
       "<title>callgraphX__tile_5_4</title>\n",
       "<ellipse fill=\"#fecccc\" fill-opacity=\"0.698039\" stroke=\"black\" cx=\"1907.41\" cy=\"-1013.62\" rx=\"82.38\" ry=\"25.81\"/>\n",
       "<text text-anchor=\"middle\" x=\"1907.41\" y=\"-1014.57\" font-family=\"Times,serif\" font-size=\"14.00\" fill=\"#000000\">tile_5_4</text>\n",
       "<text text-anchor=\"middle\" x=\"1907.41\" y=\"-1000.32\" font-family=\"Times,serif\" font-size=\"14.00\" fill=\"#000000\">(callgraph.py:274)</text>\n",
       "</g>\n",
       "<!-- callgraphX&#45;&gt;callgraphX__tile_5_4 -->\n",
       "<g id=\"edge32\" class=\"edge\">\n",
       "<title>callgraphX&#45;&gt;callgraphX__tile_5_4</title>\n",
       "<path fill=\"none\" stroke=\"#838b8b\" stroke-dasharray=\"5,2\" d=\"M3736.38,-1874.14C3729.06,-1870.05 3720.66,-1866.13 3712.41,-1863.99 3635.77,-1844.13 919.27,-1883.08 862.41,-1827.99 826.48,-1793.19 857.41,-1765.58 857.41,-1715.57 857.41,-1715.57 857.41,-1715.57 857.41,-1275.47 857.41,-1225.06 851.87,-1212.56 842.41,-1163.04 839.31,-1146.85 835.42,-1143.41 833.41,-1127.04 830.6,-1104.27 817.6,-1092.06 833.41,-1075.43 860.42,-1047 1499.26,-1041.74 1538.41,-1039.43 1633.21,-1033.82 1741.64,-1026.41 1816.31,-1021.15\"/>\n",
       "<polygon fill=\"#838b8b\" stroke=\"#838b8b\" points=\"1816.29,-1024.66 1826.02,-1020.47 1815.8,-1017.68 1816.29,-1024.66\"/>\n",
       "</g>\n",
       "<!-- callgraphX__tile_5_5 -->\n",
       "<g id=\"node46\" class=\"node\">\n",
       "<title>callgraphX__tile_5_5</title>\n",
       "<ellipse fill=\"#fecccc\" fill-opacity=\"0.698039\" stroke=\"black\" cx=\"2128.41\" cy=\"-1276.47\" rx=\"82.38\" ry=\"25.81\"/>\n",
       "<text text-anchor=\"middle\" x=\"2128.41\" y=\"-1277.42\" font-family=\"Times,serif\" font-size=\"14.00\" fill=\"#000000\">tile_5_5</text>\n",
       "<text text-anchor=\"middle\" x=\"2128.41\" y=\"-1263.17\" font-family=\"Times,serif\" font-size=\"14.00\" fill=\"#000000\">(callgraph.py:279)</text>\n",
       "</g>\n",
       "<!-- callgraphX&#45;&gt;callgraphX__tile_5_5 -->\n",
       "<g id=\"edge28\" class=\"edge\">\n",
       "<title>callgraphX&#45;&gt;callgraphX__tile_5_5</title>\n",
       "<path fill=\"none\" stroke=\"#838b8b\" stroke-dasharray=\"5,2\" d=\"M3736.35,-1874.24C3729.03,-1870.15 3720.64,-1866.21 3712.41,-1863.99 3652.03,-1847.72 2632.86,-1870.94 2587.41,-1827.99 2550.94,-1793.54 2577.41,-1765.73 2577.41,-1715.57 2577.41,-1715.57 2577.41,-1715.57 2577.41,-1450.71 2577.41,-1372.97 2340.19,-1316.72 2210.6,-1291.79\"/>\n",
       "<polygon fill=\"#838b8b\" stroke=\"#838b8b\" points=\"2211.52,-1288.4 2201.04,-1289.97 2210.21,-1295.28 2211.52,-1288.4\"/>\n",
       "</g>\n",
       "<!-- callgraphX__tile_5_6 -->\n",
       "<g id=\"node47\" class=\"node\">\n",
       "<title>callgraphX__tile_5_6</title>\n",
       "<ellipse fill=\"#fecccc\" fill-opacity=\"0.698039\" stroke=\"black\" cx=\"1912.41\" cy=\"-137.43\" rx=\"82.38\" ry=\"25.81\"/>\n",
       "<text text-anchor=\"middle\" x=\"1912.41\" y=\"-138.38\" font-family=\"Times,serif\" font-size=\"14.00\" fill=\"#000000\">tile_5_6</text>\n",
       "<text text-anchor=\"middle\" x=\"1912.41\" y=\"-124.13\" font-family=\"Times,serif\" font-size=\"14.00\" fill=\"#000000\">(callgraph.py:287)</text>\n",
       "</g>\n",
       "<!-- callgraphX&#45;&gt;callgraphX__tile_5_6 -->\n",
       "<g id=\"edge25\" class=\"edge\">\n",
       "<title>callgraphX&#45;&gt;callgraphX__tile_5_6</title>\n",
       "<path fill=\"none\" stroke=\"#838b8b\" stroke-dasharray=\"5,2\" d=\"M3735.77,-1874.38C3728.55,-1870.4 3720.37,-1866.49 3712.41,-1863.99 3644.76,-1842.78 3448.52,-1874.96 3395.41,-1827.99 3356.91,-1793.95 3368.41,-1766.96 3368.41,-1715.57 3368.41,-1715.57 3368.41,-1715.57 3368.41,-311.67 3368.41,-163.52 2190.08,-184.03 2043.41,-163.24 2026.49,-160.84 2008.43,-157.76 1991.3,-154.59\"/>\n",
       "<polygon fill=\"#838b8b\" stroke=\"#838b8b\" points=\"1992.16,-151.19 1981.69,-152.79 1990.87,-158.07 1992.16,-151.19\"/>\n",
       "</g>\n",
       "<!-- callgraphX__tile_5_7 -->\n",
       "<g id=\"node48\" class=\"node\">\n",
       "<title>callgraphX__tile_5_7</title>\n",
       "<ellipse fill=\"#fecccc\" fill-opacity=\"0.698039\" stroke=\"black\" cx=\"2095.41\" cy=\"-225.05\" rx=\"82.38\" ry=\"25.81\"/>\n",
       "<text text-anchor=\"middle\" x=\"2095.41\" y=\"-226\" font-family=\"Times,serif\" font-size=\"14.00\" fill=\"#000000\">tile_5_7</text>\n",
       "<text text-anchor=\"middle\" x=\"2095.41\" y=\"-211.75\" font-family=\"Times,serif\" font-size=\"14.00\" fill=\"#000000\">(callgraph.py:292)</text>\n",
       "</g>\n",
       "<!-- callgraphX&#45;&gt;callgraphX__tile_5_7 -->\n",
       "<g id=\"edge23\" class=\"edge\">\n",
       "<title>callgraphX&#45;&gt;callgraphX__tile_5_7</title>\n",
       "<path fill=\"none\" stroke=\"#838b8b\" stroke-dasharray=\"5,2\" d=\"M3735.79,-1874.29C3728.58,-1870.31 3720.39,-1866.42 3712.41,-1863.99 3632.31,-1839.64 3396.4,-1887.4 3337.41,-1827.99 3302.06,-1792.4 3327.41,-1765.73 3327.41,-1715.57 3327.41,-1715.57 3327.41,-1715.57 3327.41,-399.28 3327.41,-374.02 3329.28,-303.65 3310.41,-286.86 3265.76,-247.14 2294.84,-257.09 2235.41,-250.86 2215.51,-248.77 2194.18,-245.52 2174.32,-242.05\"/>\n",
       "<polygon fill=\"#838b8b\" stroke=\"#838b8b\" points=\"2175.09,-238.63 2164.63,-240.31 2173.85,-245.52 2175.09,-238.63\"/>\n",
       "</g>\n",
       "<!-- callgraphX__tile_5_8 -->\n",
       "<g id=\"node49\" class=\"node\">\n",
       "<title>callgraphX__tile_5_8</title>\n",
       "<ellipse fill=\"#fecccc\" fill-opacity=\"0.698039\" stroke=\"black\" cx=\"2134.41\" cy=\"-137.43\" rx=\"82.38\" ry=\"25.81\"/>\n",
       "<text text-anchor=\"middle\" x=\"2134.41\" y=\"-138.38\" font-family=\"Times,serif\" font-size=\"14.00\" fill=\"#000000\">tile_5_8</text>\n",
       "<text text-anchor=\"middle\" x=\"2134.41\" y=\"-124.13\" font-family=\"Times,serif\" font-size=\"14.00\" fill=\"#000000\">(callgraph.py:300)</text>\n",
       "</g>\n",
       "<!-- callgraphX&#45;&gt;callgraphX__tile_5_8 -->\n",
       "<g id=\"edge20\" class=\"edge\">\n",
       "<title>callgraphX&#45;&gt;callgraphX__tile_5_8</title>\n",
       "<path fill=\"none\" stroke=\"#838b8b\" stroke-dasharray=\"5,2\" d=\"M3735.74,-1874.47C3728.52,-1870.5 3720.35,-1866.57 3712.41,-1863.99 3596.82,-1826.54 3538.43,-1901.13 3441.41,-1827.99 3397.88,-1795.18 3392.41,-1770.07 3392.41,-1715.57 3392.41,-1715.57 3392.41,-1715.57 3392.41,-311.67 3392.41,-260.99 3411.59,-232.55 3373.41,-199.24 3325.37,-157.33 2289.47,-172.6 2226.41,-163.24 2218.73,-162.1 2210.78,-160.54 2202.91,-158.76\"/>\n",
       "<polygon fill=\"#838b8b\" stroke=\"#838b8b\" points=\"2203.9,-155.4 2193.36,-156.47 2202.26,-162.21 2203.9,-155.4\"/>\n",
       "</g>\n",
       "<!-- callgraphX__tile_6_0 -->\n",
       "<g id=\"node50\" class=\"node\">\n",
       "<title>callgraphX__tile_6_0</title>\n",
       "<ellipse fill=\"#fecccc\" fill-opacity=\"0.698039\" stroke=\"black\" cx=\"1158.41\" cy=\"-1451.71\" rx=\"82.38\" ry=\"25.81\"/>\n",
       "<text text-anchor=\"middle\" x=\"1158.41\" y=\"-1452.66\" font-family=\"Times,serif\" font-size=\"14.00\" fill=\"#000000\">tile_6_0</text>\n",
       "<text text-anchor=\"middle\" x=\"1158.41\" y=\"-1438.41\" font-family=\"Times,serif\" font-size=\"14.00\" fill=\"#000000\">(callgraph.py:305)</text>\n",
       "</g>\n",
       "<!-- callgraphX&#45;&gt;callgraphX__tile_6_0 -->\n",
       "<g id=\"edge14\" class=\"edge\">\n",
       "<title>callgraphX&#45;&gt;callgraphX__tile_6_0</title>\n",
       "<path fill=\"none\" stroke=\"#838b8b\" stroke-dasharray=\"5,2\" d=\"M3736.38,-1874.15C3729.06,-1870.05 3720.66,-1866.14 3712.41,-1863.99 3638.51,-1844.82 1024.05,-1875.65 964.41,-1827.99 924.26,-1795.92 937.41,-1766.96 937.41,-1715.57 937.41,-1715.57 937.41,-1715.57 937.41,-1625.95 937.41,-1547.56 1024.6,-1499.3 1089.45,-1474.24\"/>\n",
       "<polygon fill=\"#838b8b\" stroke=\"#838b8b\" points=\"1090.5,-1477.59 1098.63,-1470.8 1088.04,-1471.03 1090.5,-1477.59\"/>\n",
       "</g>\n",
       "<!-- callgraphX__tile_6_1 -->\n",
       "<g id=\"node51\" class=\"node\">\n",
       "<title>callgraphX__tile_6_1</title>\n",
       "<ellipse fill=\"#fecccc\" fill-opacity=\"0.698039\" stroke=\"black\" cx=\"1382.41\" cy=\"-1714.57\" rx=\"82.38\" ry=\"25.81\"/>\n",
       "<text text-anchor=\"middle\" x=\"1382.41\" y=\"-1715.52\" font-family=\"Times,serif\" font-size=\"14.00\" fill=\"#000000\">tile_6_1</text>\n",
       "<text text-anchor=\"middle\" x=\"1382.41\" y=\"-1701.27\" font-family=\"Times,serif\" font-size=\"14.00\" fill=\"#000000\">(callgraph.py:310)</text>\n",
       "</g>\n",
       "<!-- callgraphX&#45;&gt;callgraphX__tile_6_1 -->\n",
       "<g id=\"edge10\" class=\"edge\">\n",
       "<title>callgraphX&#45;&gt;callgraphX__tile_6_1</title>\n",
       "<path fill=\"none\" stroke=\"#838b8b\" stroke-dasharray=\"5,2\" d=\"M3736.37,-1874.17C3729.05,-1870.08 3720.66,-1866.16 3712.41,-1863.99 3499.35,-1808.14 1947.66,-1864.24 1730.41,-1827.99 1625.48,-1810.49 1508.85,-1767.74 1440.77,-1740.29\"/>\n",
       "<polygon fill=\"#838b8b\" stroke=\"#838b8b\" points=\"1442.25,-1737.12 1431.67,-1736.59 1439.61,-1743.6 1442.25,-1737.12\"/>\n",
       "</g>\n",
       "<!-- callgraphX__tile_6_2 -->\n",
       "<g id=\"node52\" class=\"node\">\n",
       "<title>callgraphX__tile_6_2</title>\n",
       "<ellipse fill=\"#fecccc\" fill-opacity=\"0.698039\" stroke=\"black\" cx=\"1825.41\" cy=\"-1626.95\" rx=\"82.38\" ry=\"25.81\"/>\n",
       "<text text-anchor=\"middle\" x=\"1825.41\" y=\"-1627.9\" font-family=\"Times,serif\" font-size=\"14.00\" fill=\"#000000\">tile_6_2</text>\n",
       "<text text-anchor=\"middle\" x=\"1825.41\" y=\"-1613.65\" font-family=\"Times,serif\" font-size=\"14.00\" fill=\"#000000\">(callgraph.py:318)</text>\n",
       "</g>\n",
       "<!-- callgraphX&#45;&gt;callgraphX__tile_6_2 -->\n",
       "<g id=\"edge4\" class=\"edge\">\n",
       "<title>callgraphX&#45;&gt;callgraphX__tile_6_2</title>\n",
       "<path fill=\"none\" stroke=\"#838b8b\" stroke-dasharray=\"5,2\" d=\"M3736.36,-1874.21C3729.04,-1870.12 3720.65,-1866.19 3712.41,-1863.99 3415.54,-1784.92 2631.4,-1889.51 2330.41,-1827.99 2156.44,-1792.44 1965.18,-1700.96 1876.19,-1655.06\"/>\n",
       "<polygon fill=\"#838b8b\" stroke=\"#838b8b\" points=\"1877.93,-1652.03 1867.45,-1650.53 1874.71,-1658.24 1877.93,-1652.03\"/>\n",
       "</g>\n",
       "<!-- callgraphX__tile_6_3 -->\n",
       "<g id=\"node53\" class=\"node\">\n",
       "<title>callgraphX__tile_6_3</title>\n",
       "<ellipse fill=\"#fecccc\" fill-opacity=\"0.698039\" stroke=\"black\" cx=\"1865.41\" cy=\"-1539.33\" rx=\"82.38\" ry=\"25.81\"/>\n",
       "<text text-anchor=\"middle\" x=\"1865.41\" y=\"-1540.28\" font-family=\"Times,serif\" font-size=\"14.00\" fill=\"#000000\">tile_6_3</text>\n",
       "<text text-anchor=\"middle\" x=\"1865.41\" y=\"-1526.03\" font-family=\"Times,serif\" font-size=\"14.00\" fill=\"#000000\">(callgraph.py:326)</text>\n",
       "</g>\n",
       "<!-- callgraphX&#45;&gt;callgraphX__tile_6_3 -->\n",
       "<g id=\"edge63\" class=\"edge\">\n",
       "<title>callgraphX&#45;&gt;callgraphX__tile_6_3</title>\n",
       "<path fill=\"none\" stroke=\"#838b8b\" stroke-dasharray=\"5,2\" d=\"M3736.36,-1874.23C3729.04,-1870.13 3720.64,-1866.2 3712.41,-1863.99 3445.7,-1792.53 2738.84,-1892.66 2470.41,-1827.99 2246.04,-1773.94 2006,-1630.85 1909.39,-1569.22\"/>\n",
       "<polygon fill=\"#838b8b\" stroke=\"#838b8b\" points=\"1911.53,-1566.44 1901.22,-1563.99 1907.75,-1572.33 1911.53,-1566.44\"/>\n",
       "</g>\n",
       "<!-- callgraphX__tile_6_4 -->\n",
       "<g id=\"node54\" class=\"node\">\n",
       "<title>callgraphX__tile_6_4</title>\n",
       "<ellipse fill=\"#fecccc\" fill-opacity=\"0.698039\" stroke=\"black\" cx=\"1865.41\" cy=\"-1451.71\" rx=\"82.38\" ry=\"25.81\"/>\n",
       "<text text-anchor=\"middle\" x=\"1865.41\" y=\"-1452.66\" font-family=\"Times,serif\" font-size=\"14.00\" fill=\"#000000\">tile_6_4</text>\n",
       "<text text-anchor=\"middle\" x=\"1865.41\" y=\"-1438.41\" font-family=\"Times,serif\" font-size=\"14.00\" fill=\"#000000\">(callgraph.py:334)</text>\n",
       "</g>\n",
       "<!-- callgraphX&#45;&gt;callgraphX__tile_6_4 -->\n",
       "<g id=\"edge61\" class=\"edge\">\n",
       "<title>callgraphX&#45;&gt;callgraphX__tile_6_4</title>\n",
       "<path fill=\"none\" stroke=\"#838b8b\" stroke-dasharray=\"5,2\" d=\"M3736.37,-1874.16C3729.05,-1870.06 3720.66,-1866.15 3712.41,-1863.99 3458.52,-1797.83 1610.96,-1866.32 1351.41,-1827.99 1171.26,-1801.39 957.41,-1897.67 957.41,-1715.57 957.41,-1715.57 957.41,-1715.57 957.41,-1625.95 957.41,-1543.29 1545.48,-1481.47 1775.1,-1460.49\"/>\n",
       "<polygon fill=\"#838b8b\" stroke=\"#838b8b\" points=\"1775.27,-1463.99 1784.91,-1459.6 1774.63,-1457.02 1775.27,-1463.99\"/>\n",
       "</g>\n",
       "<!-- callgraphX__tile_6_5 -->\n",
       "<g id=\"node55\" class=\"node\">\n",
       "<title>callgraphX__tile_6_5</title>\n",
       "<ellipse fill=\"#fecccc\" fill-opacity=\"0.698039\" stroke=\"black\" cx=\"2128.41\" cy=\"-1364.09\" rx=\"82.38\" ry=\"25.81\"/>\n",
       "<text text-anchor=\"middle\" x=\"2128.41\" y=\"-1365.04\" font-family=\"Times,serif\" font-size=\"14.00\" fill=\"#000000\">tile_6_5</text>\n",
       "<text text-anchor=\"middle\" x=\"2128.41\" y=\"-1350.79\" font-family=\"Times,serif\" font-size=\"14.00\" fill=\"#000000\">(callgraph.py:342)</text>\n",
       "</g>\n",
       "<!-- callgraphX&#45;&gt;callgraphX__tile_6_5 -->\n",
       "<g id=\"edge56\" class=\"edge\">\n",
       "<title>callgraphX&#45;&gt;callgraphX__tile_6_5</title>\n",
       "<path fill=\"none\" stroke=\"#838b8b\" stroke-dasharray=\"5,2\" d=\"M3736.35,-1874.24C3729.03,-1870.15 3720.64,-1866.21 3712.41,-1863.99 3651.22,-1847.52 2619.97,-1869.86 2572.41,-1827.99 2534.42,-1794.56 2554.41,-1766.17 2554.41,-1715.57 2554.41,-1715.57 2554.41,-1715.57 2554.41,-1538.33 2554.41,-1500.34 2318.98,-1423.1 2198.16,-1385.95\"/>\n",
       "<polygon fill=\"#838b8b\" stroke=\"#838b8b\" points=\"2199.23,-1382.62 2188.64,-1383.04 2197.18,-1389.31 2199.23,-1382.62\"/>\n",
       "</g>\n",
       "<!-- callgraphX__tile_6_6 -->\n",
       "<g id=\"node56\" class=\"node\">\n",
       "<title>callgraphX__tile_6_6</title>\n",
       "<ellipse fill=\"#fecccc\" fill-opacity=\"0.698039\" stroke=\"black\" cx=\"2368.41\" cy=\"-1013.62\" rx=\"82.38\" ry=\"25.81\"/>\n",
       "<text text-anchor=\"middle\" x=\"2368.41\" y=\"-1014.57\" font-family=\"Times,serif\" font-size=\"14.00\" fill=\"#000000\">tile_6_6</text>\n",
       "<text text-anchor=\"middle\" x=\"2368.41\" y=\"-1000.32\" font-family=\"Times,serif\" font-size=\"14.00\" fill=\"#000000\">(callgraph.py:350)</text>\n",
       "</g>\n",
       "<!-- callgraphX&#45;&gt;callgraphX__tile_6_6 -->\n",
       "<g id=\"edge51\" class=\"edge\">\n",
       "<title>callgraphX&#45;&gt;callgraphX__tile_6_6</title>\n",
       "<path fill=\"none\" stroke=\"#838b8b\" stroke-dasharray=\"5,2\" d=\"M3736.34,-1874.26C3729.02,-1870.17 3720.64,-1866.23 3712.41,-1863.99 3659.57,-1849.62 2767.94,-1864.81 2727.41,-1827.99 2690.09,-1794.1 2712.41,-1765.98 2712.41,-1715.57 2712.41,-1715.57 2712.41,-1715.57 2712.41,-1187.85 2712.41,-1127.29 2540.16,-1065.69 2439.43,-1034.85\"/>\n",
       "<polygon fill=\"#838b8b\" stroke=\"#838b8b\" points=\"2440.75,-1031.6 2430.17,-1032.04 2438.72,-1038.29 2440.75,-1031.6\"/>\n",
       "</g>\n",
       "<!-- callgraphX__tile_6_7 -->\n",
       "<g id=\"node57\" class=\"node\">\n",
       "<title>callgraphX__tile_6_7</title>\n",
       "<ellipse fill=\"#fecccc\" fill-opacity=\"0.698039\" stroke=\"black\" cx=\"2317.41\" cy=\"-137.43\" rx=\"82.38\" ry=\"25.81\"/>\n",
       "<text text-anchor=\"middle\" x=\"2317.41\" y=\"-138.38\" font-family=\"Times,serif\" font-size=\"14.00\" fill=\"#000000\">tile_6_7</text>\n",
       "<text text-anchor=\"middle\" x=\"2317.41\" y=\"-124.13\" font-family=\"Times,serif\" font-size=\"14.00\" fill=\"#000000\">(callgraph.py:355)</text>\n",
       "</g>\n",
       "<!-- callgraphX&#45;&gt;callgraphX__tile_6_7 -->\n",
       "<g id=\"edge43\" class=\"edge\">\n",
       "<title>callgraphX&#45;&gt;callgraphX__tile_6_7</title>\n",
       "<path fill=\"none\" stroke=\"#838b8b\" stroke-dasharray=\"5,2\" d=\"M3735.23,-1874.31C3728.13,-1870.43 3720.15,-1866.59 3712.41,-1863.99 3612.22,-1830.42 3556.94,-1897.56 3477.41,-1827.99 3438.21,-1793.71 3444.41,-1767.64 3444.41,-1715.57 3444.41,-1715.57 3444.41,-1715.57 3444.41,-311.67 3444.41,-257.51 3441.91,-230.1 3397.41,-199.24 3354.05,-169.17 2500.83,-169.16 2448.41,-163.24 2431.14,-161.29 2412.74,-158.35 2395.35,-155.17\"/>\n",
       "<polygon fill=\"#838b8b\" stroke=\"#838b8b\" points=\"2396.06,-151.74 2385.58,-153.33 2394.76,-158.62 2396.06,-151.74\"/>\n",
       "</g>\n",
       "<!-- callgraphX__tile_6_8 -->\n",
       "<g id=\"node58\" class=\"node\">\n",
       "<title>callgraphX__tile_6_8</title>\n",
       "<ellipse fill=\"#fecccc\" fill-opacity=\"0.698039\" stroke=\"black\" cx=\"2539.41\" cy=\"-137.43\" rx=\"82.38\" ry=\"25.81\"/>\n",
       "<text text-anchor=\"middle\" x=\"2539.41\" y=\"-138.38\" font-family=\"Times,serif\" font-size=\"14.00\" fill=\"#000000\">tile_6_8</text>\n",
       "<text text-anchor=\"middle\" x=\"2539.41\" y=\"-124.13\" font-family=\"Times,serif\" font-size=\"14.00\" fill=\"#000000\">(callgraph.py:361)</text>\n",
       "</g>\n",
       "<!-- callgraphX&#45;&gt;callgraphX__tile_6_8 -->\n",
       "<g id=\"edge17\" class=\"edge\">\n",
       "<title>callgraphX&#45;&gt;callgraphX__tile_6_8</title>\n",
       "<path fill=\"none\" stroke=\"#838b8b\" stroke-dasharray=\"5,2\" d=\"M3734.46,-1874.84C3727.47,-1871.06 3719.74,-1867.14 3712.41,-1863.99 3594.37,-1813.33 3464.41,-1844.02 3464.41,-1715.57 3464.41,-1715.57 3464.41,-1715.57 3464.41,-311.67 3464.41,-286.46 3468,-216.25 3449.41,-199.24 3382.29,-137.82 2721.31,-177.16 2631.41,-163.24 2623.94,-162.08 2616.2,-160.55 2608.54,-158.81\"/>\n",
       "<polygon fill=\"#838b8b\" stroke=\"#838b8b\" points=\"2609.41,-155.42 2598.87,-156.48 2607.77,-162.22 2609.41,-155.42\"/>\n",
       "</g>\n",
       "<!-- callgraphX__tile_7_0 -->\n",
       "<g id=\"node59\" class=\"node\">\n",
       "<title>callgraphX__tile_7_0</title>\n",
       "<ellipse fill=\"#fecccc\" fill-opacity=\"0.698039\" stroke=\"black\" cx=\"2722.41\" cy=\"-137.43\" rx=\"82.38\" ry=\"25.81\"/>\n",
       "<text text-anchor=\"middle\" x=\"2722.41\" y=\"-138.38\" font-family=\"Times,serif\" font-size=\"14.00\" fill=\"#000000\">tile_7_0</text>\n",
       "<text text-anchor=\"middle\" x=\"2722.41\" y=\"-124.13\" font-family=\"Times,serif\" font-size=\"14.00\" fill=\"#000000\">(callgraph.py:366)</text>\n",
       "</g>\n",
       "<!-- callgraphX&#45;&gt;callgraphX__tile_7_0 -->\n",
       "<g id=\"edge12\" class=\"edge\">\n",
       "<title>callgraphX&#45;&gt;callgraphX__tile_7_0</title>\n",
       "<path fill=\"none\" stroke=\"#838b8b\" stroke-dasharray=\"5,2\" d=\"M3733.83,-1874.92C3726.97,-1871.22 3719.46,-1867.33 3712.41,-1863.99 3674.2,-1845.94 3649.94,-1861.67 3624.41,-1827.99 3594.01,-1787.91 3611.41,-1765.87 3611.41,-1715.57 3611.41,-1715.57 3611.41,-1715.57 3611.41,-311.67 3611.41,-231.17 3544.68,-227.77 3469.41,-199.24 3333.09,-147.57 2958.34,-186.34 2814.41,-163.24 2806.94,-162.04 2799.21,-160.48 2791.55,-158.72\"/>\n",
       "<polygon fill=\"#838b8b\" stroke=\"#838b8b\" points=\"2792.42,-155.33 2781.88,-156.39 2790.78,-162.14 2792.42,-155.33\"/>\n",
       "</g>\n",
       "<!-- callgraphX__tile_7_1 -->\n",
       "<g id=\"node60\" class=\"node\">\n",
       "<title>callgraphX__tile_7_1</title>\n",
       "<ellipse fill=\"#fecccc\" fill-opacity=\"0.698039\" stroke=\"black\" cx=\"1178.41\" cy=\"-1626.95\" rx=\"82.38\" ry=\"25.81\"/>\n",
       "<text text-anchor=\"middle\" x=\"1178.41\" y=\"-1627.9\" font-family=\"Times,serif\" font-size=\"14.00\" fill=\"#000000\">tile_7_1</text>\n",
       "<text text-anchor=\"middle\" x=\"1178.41\" y=\"-1613.65\" font-family=\"Times,serif\" font-size=\"14.00\" fill=\"#000000\">(callgraph.py:371)</text>\n",
       "</g>\n",
       "<!-- callgraphX&#45;&gt;callgraphX__tile_7_1 -->\n",
       "<g id=\"edge5\" class=\"edge\">\n",
       "<title>callgraphX&#45;&gt;callgraphX__tile_7_1</title>\n",
       "<path fill=\"none\" stroke=\"#838b8b\" stroke-dasharray=\"5,2\" d=\"M3736.37,-1874.16C3729.05,-1870.07 3720.66,-1866.15 3712.41,-1863.99 3478.23,-1802.81 1772.47,-1871.63 1534.41,-1827.99 1421.48,-1807.29 1388.4,-1801.79 1291.41,-1740.38 1257.46,-1718.88 1225.68,-1685.61 1204.52,-1660.83\"/>\n",
       "<polygon fill=\"#838b8b\" stroke=\"#838b8b\" points=\"1207.3,-1658.7 1198.19,-1653.29 1201.93,-1663.2 1207.3,-1658.7\"/>\n",
       "</g>\n",
       "<!-- callgraphX__tile_7_2 -->\n",
       "<g id=\"node61\" class=\"node\">\n",
       "<title>callgraphX__tile_7_2</title>\n",
       "<ellipse fill=\"#fecccc\" fill-opacity=\"0.698039\" stroke=\"black\" cx=\"1278.41\" cy=\"-1364.09\" rx=\"82.38\" ry=\"25.81\"/>\n",
       "<text text-anchor=\"middle\" x=\"1278.41\" y=\"-1365.04\" font-family=\"Times,serif\" font-size=\"14.00\" fill=\"#000000\">tile_7_2</text>\n",
       "<text text-anchor=\"middle\" x=\"1278.41\" y=\"-1350.79\" font-family=\"Times,serif\" font-size=\"14.00\" fill=\"#000000\">(callgraph.py:376)</text>\n",
       "</g>\n",
       "<!-- callgraphX&#45;&gt;callgraphX__tile_7_2 -->\n",
       "<g id=\"edge64\" class=\"edge\">\n",
       "<title>callgraphX&#45;&gt;callgraphX__tile_7_2</title>\n",
       "<path fill=\"none\" stroke=\"#838b8b\" stroke-dasharray=\"5,2\" d=\"M3736.38,-1874.15C3729.06,-1870.05 3720.66,-1866.14 3712.41,-1863.99 3637.62,-1844.6 988.98,-1879.51 931.41,-1827.99 893.88,-1794.42 917.41,-1765.92 917.41,-1715.57 917.41,-1715.57 917.41,-1715.57 917.41,-1538.33 917.41,-1399.44 1058.95,-1428.37 1192.41,-1389.9 1197.46,-1388.44 1202.68,-1386.94 1207.93,-1385.42\"/>\n",
       "<polygon fill=\"#838b8b\" stroke=\"#838b8b\" points=\"1208.63,-1388.86 1217.27,-1382.73 1206.69,-1382.14 1208.63,-1388.86\"/>\n",
       "</g>\n",
       "<!-- callgraphX__tile_7_3 -->\n",
       "<g id=\"node62\" class=\"node\">\n",
       "<title>callgraphX__tile_7_3</title>\n",
       "<ellipse fill=\"#fecccc\" fill-opacity=\"0.698039\" stroke=\"black\" cx=\"2590.41\" cy=\"-1188.85\" rx=\"82.38\" ry=\"25.81\"/>\n",
       "<text text-anchor=\"middle\" x=\"2590.41\" y=\"-1189.8\" font-family=\"Times,serif\" font-size=\"14.00\" fill=\"#000000\">tile_7_3</text>\n",
       "<text text-anchor=\"middle\" x=\"2590.41\" y=\"-1175.55\" font-family=\"Times,serif\" font-size=\"14.00\" fill=\"#000000\">(callgraph.py:381)</text>\n",
       "</g>\n",
       "<!-- callgraphX&#45;&gt;callgraphX__tile_7_3 -->\n",
       "<g id=\"edge60\" class=\"edge\">\n",
       "<title>callgraphX&#45;&gt;callgraphX__tile_7_3</title>\n",
       "<path fill=\"none\" stroke=\"#838b8b\" stroke-dasharray=\"5,2\" d=\"M3736.35,-1874.26C3729.03,-1870.17 3720.64,-1866.23 3712.41,-1863.99 3602.42,-1834.16 2775.35,-1900.47 2687.41,-1827.99 2647.83,-1795.38 2661.41,-1766.85 2661.41,-1715.57 2661.41,-1715.57 2661.41,-1715.57 2661.41,-1363.09 2661.41,-1312.68 2667.81,-1296.31 2646.41,-1250.66 2641.52,-1240.24 2634.19,-1230.37 2626.43,-1221.74\"/>\n",
       "<polygon fill=\"#838b8b\" stroke=\"#838b8b\" points=\"2629.09,-1219.45 2619.65,-1214.64 2624.03,-1224.29 2629.09,-1219.45\"/>\n",
       "</g>\n",
       "<!-- callgraphX__tile_7_4 -->\n",
       "<g id=\"node63\" class=\"node\">\n",
       "<title>callgraphX__tile_7_4</title>\n",
       "<ellipse fill=\"#fecccc\" fill-opacity=\"0.698039\" stroke=\"black\" cx=\"1158.41\" cy=\"-1101.23\" rx=\"82.38\" ry=\"25.81\"/>\n",
       "<text text-anchor=\"middle\" x=\"1158.41\" y=\"-1102.18\" font-family=\"Times,serif\" font-size=\"14.00\" fill=\"#000000\">tile_7_4</text>\n",
       "<text text-anchor=\"middle\" x=\"1158.41\" y=\"-1087.93\" font-family=\"Times,serif\" font-size=\"14.00\" fill=\"#000000\">(callgraph.py:386)</text>\n",
       "</g>\n",
       "<!-- callgraphX&#45;&gt;callgraphX__tile_7_4 -->\n",
       "<g id=\"edge57\" class=\"edge\">\n",
       "<title>callgraphX&#45;&gt;callgraphX__tile_7_4</title>\n",
       "<path fill=\"none\" stroke=\"#838b8b\" stroke-dasharray=\"5,2\" d=\"M3736.38,-1874.15C3729.06,-1870.05 3720.66,-1866.14 3712.41,-1863.99 3636.92,-1844.42 962.13,-1881.51 905.41,-1827.99 868.97,-1793.62 897.41,-1765.66 897.41,-1715.57 897.41,-1715.57 897.41,-1715.57 897.41,-1275.47 897.41,-1186.91 1003.01,-1140.92 1079.87,-1119.18\"/>\n",
       "<polygon fill=\"#838b8b\" stroke=\"#838b8b\" points=\"1080.33,-1122.68 1089.05,-1116.67 1078.48,-1115.93 1080.33,-1122.68\"/>\n",
       "</g>\n",
       "<!-- callgraphX__tile_7_5 -->\n",
       "<g id=\"node64\" class=\"node\">\n",
       "<title>callgraphX__tile_7_5</title>\n",
       "<ellipse fill=\"#fecccc\" fill-opacity=\"0.698039\" stroke=\"black\" cx=\"2388.41\" cy=\"-1276.47\" rx=\"82.38\" ry=\"25.81\"/>\n",
       "<text text-anchor=\"middle\" x=\"2388.41\" y=\"-1277.42\" font-family=\"Times,serif\" font-size=\"14.00\" fill=\"#000000\">tile_7_5</text>\n",
       "<text text-anchor=\"middle\" x=\"2388.41\" y=\"-1263.17\" font-family=\"Times,serif\" font-size=\"14.00\" fill=\"#000000\">(callgraph.py:391)</text>\n",
       "</g>\n",
       "<!-- callgraphX&#45;&gt;callgraphX__tile_7_5 -->\n",
       "<g id=\"edge53\" class=\"edge\">\n",
       "<title>callgraphX&#45;&gt;callgraphX__tile_7_5</title>\n",
       "<path fill=\"none\" stroke=\"#838b8b\" stroke-dasharray=\"5,2\" d=\"M3736.35,-1874.24C3729.03,-1870.15 3720.64,-1866.22 3712.41,-1863.99 3653.48,-1848.09 2659.84,-1868.75 2614.41,-1827.99 2576.83,-1794.3 2598.41,-1766.04 2598.41,-1715.57 2598.41,-1715.57 2598.41,-1715.57 2598.41,-1450.71 2598.41,-1400.24 2615.08,-1376.75 2582.41,-1338.28 2580.24,-1335.73 2512.57,-1314.87 2457.76,-1298.28\"/>\n",
       "<polygon fill=\"#838b8b\" stroke=\"#838b8b\" points=\"2459.03,-1295.01 2448.44,-1295.46 2457,-1301.71 2459.03,-1295.01\"/>\n",
       "</g>\n",
       "<!-- callgraphX__tile_7_6 -->\n",
       "<g id=\"node65\" class=\"node\">\n",
       "<title>callgraphX__tile_7_6</title>\n",
       "<ellipse fill=\"#fecccc\" fill-opacity=\"0.698039\" stroke=\"black\" cx=\"2905.41\" cy=\"-137.43\" rx=\"82.38\" ry=\"25.81\"/>\n",
       "<text text-anchor=\"middle\" x=\"2905.41\" y=\"-138.38\" font-family=\"Times,serif\" font-size=\"14.00\" fill=\"#000000\">tile_7_6</text>\n",
       "<text text-anchor=\"middle\" x=\"2905.41\" y=\"-124.13\" font-family=\"Times,serif\" font-size=\"14.00\" fill=\"#000000\">(callgraph.py:396)</text>\n",
       "</g>\n",
       "<!-- callgraphX&#45;&gt;callgraphX__tile_7_6 -->\n",
       "<g id=\"edge50\" class=\"edge\">\n",
       "<title>callgraphX&#45;&gt;callgraphX__tile_7_6</title>\n",
       "<path fill=\"none\" stroke=\"#838b8b\" stroke-dasharray=\"5,2\" d=\"M3733.14,-1875.14C3700.6,-1857.52 3648.1,-1828.99 3647.41,-1827.99 3618.68,-1786.5 3631.41,-1766.04 3631.41,-1715.57 3631.41,-1715.57 3631.41,-1715.57 3631.41,-311.67 3631.41,-286.46 3634.88,-216.38 3616.41,-199.24 3565.91,-152.37 3065.41,-174.26 2997.41,-163.24 2989.95,-162.03 2982.22,-160.46 2974.56,-158.7\"/>\n",
       "<polygon fill=\"#838b8b\" stroke=\"#838b8b\" points=\"2975.43,-155.31 2964.89,-156.36 2973.78,-162.11 2975.43,-155.31\"/>\n",
       "</g>\n",
       "<!-- callgraphX__tile_7_7 -->\n",
       "<g id=\"node66\" class=\"node\">\n",
       "<title>callgraphX__tile_7_7</title>\n",
       "<ellipse fill=\"#fecccc\" fill-opacity=\"0.698039\" stroke=\"black\" cx=\"3088.41\" cy=\"-137.43\" rx=\"82.38\" ry=\"25.81\"/>\n",
       "<text text-anchor=\"middle\" x=\"3088.41\" y=\"-138.38\" font-family=\"Times,serif\" font-size=\"14.00\" fill=\"#000000\">tile_7_7</text>\n",
       "<text text-anchor=\"middle\" x=\"3088.41\" y=\"-124.13\" font-family=\"Times,serif\" font-size=\"14.00\" fill=\"#000000\">(callgraph.py:401)</text>\n",
       "</g>\n",
       "<!-- callgraphX&#45;&gt;callgraphX__tile_7_7 -->\n",
       "<g id=\"edge48\" class=\"edge\">\n",
       "<title>callgraphX&#45;&gt;callgraphX__tile_7_7</title>\n",
       "<path fill=\"none\" stroke=\"#838b8b\" stroke-dasharray=\"5,2\" d=\"M3733.58,-1874.93C3710.1,-1861.28 3677.31,-1840.71 3669.41,-1827.99 3642.75,-1785.14 3653.41,-1766.04 3653.41,-1715.57 3653.41,-1715.57 3653.41,-1715.57 3653.41,-311.67 3653.41,-286.4 3654.9,-216.46 3636.41,-199.24 3599.21,-164.6 3230.49,-171.89 3180.41,-163.24 3173.07,-161.97 3165.47,-160.38 3157.92,-158.62\"/>\n",
       "<polygon fill=\"#838b8b\" stroke=\"#838b8b\" points=\"3158.96,-155.27 3148.41,-156.3 3157.3,-162.07 3158.96,-155.27\"/>\n",
       "</g>\n",
       "<!-- callgraphX__tile_7_8 -->\n",
       "<g id=\"node67\" class=\"node\">\n",
       "<title>callgraphX__tile_7_8</title>\n",
       "<ellipse fill=\"#fecccc\" fill-opacity=\"0.698039\" stroke=\"black\" cx=\"3271.41\" cy=\"-137.43\" rx=\"82.38\" ry=\"25.81\"/>\n",
       "<text text-anchor=\"middle\" x=\"3271.41\" y=\"-138.38\" font-family=\"Times,serif\" font-size=\"14.00\" fill=\"#000000\">tile_7_8</text>\n",
       "<text text-anchor=\"middle\" x=\"3271.41\" y=\"-124.13\" font-family=\"Times,serif\" font-size=\"14.00\" fill=\"#000000\">(callgraph.py:406)</text>\n",
       "</g>\n",
       "<!-- callgraphX&#45;&gt;callgraphX__tile_7_8 -->\n",
       "<g id=\"edge42\" class=\"edge\">\n",
       "<title>callgraphX&#45;&gt;callgraphX__tile_7_8</title>\n",
       "<path fill=\"none\" stroke=\"#838b8b\" stroke-dasharray=\"5,2\" d=\"M3736.12,-1874.24C3721.3,-1863.32 3702.73,-1847.03 3692.41,-1827.99 3668.25,-1783.45 3673.41,-1766.24 3673.41,-1715.57 3673.41,-1715.57 3673.41,-1715.57 3673.41,-311.67 3673.41,-286.46 3676.33,-216.96 3658.41,-199.24 3611.28,-152.66 3427.43,-175.99 3362.41,-163.24 3355.55,-161.89 3348.45,-160.31 3341.39,-158.6\"/>\n",
       "<polygon fill=\"#838b8b\" stroke=\"#838b8b\" points=\"3342.36,-155.24 3331.81,-156.2 3340.66,-162.03 3342.36,-155.24\"/>\n",
       "</g>\n",
       "<!-- callgraphX__maze&#45;&gt;callgraphX__tile_2_1 -->\n",
       "<g id=\"edge83\" class=\"edge\">\n",
       "<title>callgraphX__maze&#45;&gt;callgraphX__tile_2_1</title>\n",
       "<path fill=\"none\" stroke=\"#000000\" d=\"M1589.87,-2149.79C1372.78,-2144.18 761.9,-2125.65 564.41,-2090.85 558.55,-2089.82 552.52,-2088.5 546.51,-2087.02\"/>\n",
       "<polygon fill=\"#000000\" stroke=\"#000000\" points=\"547.8,-2083.74 537.24,-2084.57 546.01,-2090.51 547.8,-2083.74\"/>\n",
       "</g>\n",
       "<!-- callgraphX__tile_1_0&#45;&gt;callgraphX__print_maze -->\n",
       "<g id=\"edge67\" class=\"edge\">\n",
       "<title>callgraphX__tile_1_0&#45;&gt;callgraphX__print_maze</title>\n",
       "<path fill=\"none\" stroke=\"#000000\" d=\"M3395.1,-118.73C3384.37,-115.87 3373.11,-113.29 3362.41,-111.62 3008.96,-56.37 1883.85,-51.15 1565.86,-50.79\"/>\n",
       "<polygon fill=\"#000000\" stroke=\"#000000\" points=\"1565.96,-47.29 1555.95,-50.78 1565.95,-54.29 1565.96,-47.29\"/>\n",
       "</g>\n",
       "<!-- callgraphX__tile_1_1&#45;&gt;callgraphX__print_maze -->\n",
       "<g id=\"edge68\" class=\"edge\">\n",
       "<title>callgraphX__tile_1_1&#45;&gt;callgraphX__print_maze</title>\n",
       "<path fill=\"none\" stroke=\"#000000\" d=\"M873,-1080.36C853.93,-1070.41 833.04,-1056.75 818.41,-1039.43 802.53,-1020.63 812.38,-1008.06 798.41,-987.81 784.83,-968.12 769.33,-973.08 758.41,-951.81 742.35,-920.53 733.7,-670.95 723.41,-637.33 720.19,-626.82 684.93,-557.73 677.41,-549.71 656.4,-527.3 635.18,-539.44 618.41,-513.71 590.87,-471.48 603.41,-451.7 603.41,-401.28 603.41,-401.28 603.41,-401.28 603.41,-224.05 603.41,-173.64 581.67,-146.14 618.41,-111.62 674.3,-59.1 1190.43,-51.68 1396.76,-50.82\"/>\n",
       "<polygon fill=\"#000000\" stroke=\"#000000\" points=\"1396.62,-54.32 1406.61,-50.79 1396.6,-47.32 1396.62,-54.32\"/>\n",
       "</g>\n",
       "<!-- callgraphX__tile_1_2&#45;&gt;callgraphX__print_maze -->\n",
       "<g id=\"edge69\" class=\"edge\">\n",
       "<title>callgraphX__tile_1_2&#45;&gt;callgraphX__print_maze</title>\n",
       "<path fill=\"none\" stroke=\"#000000\" d=\"M3568.28,-118.58C3557.81,-115.77 3546.85,-113.25 3536.41,-111.62 3147.31,-50.73 1901.96,-49.63 1565.74,-50.49\"/>\n",
       "<polygon fill=\"#000000\" stroke=\"#000000\" points=\"1566.14,-46.98 1556.15,-50.51 1566.16,-53.98 1566.14,-46.98\"/>\n",
       "</g>\n",
       "<!-- callgraphX__tile_1_3&#45;&gt;callgraphX__print_maze -->\n",
       "<g id=\"edge70\" class=\"edge\">\n",
       "<title>callgraphX__tile_1_3&#45;&gt;callgraphX__print_maze</title>\n",
       "<path fill=\"none\" stroke=\"#000000\" d=\"M1043.19,-464.05C1006.16,-434.06 949.41,-377.64 949.41,-313.67 949.41,-313.67 949.41,-313.67 949.41,-224.05 949.41,-173.64 928.48,-146.99 964.41,-111.62 994.69,-81.8 1259.55,-62.97 1397.95,-55.08\"/>\n",
       "<polygon fill=\"#000000\" stroke=\"#000000\" points=\"1398.02,-58.58 1407.8,-54.53 1397.62,-51.6 1398.02,-58.58\"/>\n",
       "</g>\n",
       "<!-- callgraphX__tile_1_4&#45;&gt;callgraphX__print_maze -->\n",
       "<g id=\"edge71\" class=\"edge\">\n",
       "<title>callgraphX__tile_1_4&#45;&gt;callgraphX__print_maze</title>\n",
       "<path fill=\"none\" stroke=\"#000000\" d=\"M2082.62,-639.44C2094.3,-629.27 2106.16,-616.21 2112.41,-601.33 2131.92,-554.85 2145.61,-412.4 2112.41,-374.48 2032.66,-283.39 1943.59,-404.95 1842.41,-338.48 1820.04,-323.78 1833.15,-302.46 1811.41,-286.86 1750.42,-243.1 1699.41,-304 1646.41,-250.86 1601.7,-206.04 1656.21,-160.85 1616.41,-111.62 1600.15,-91.51 1575.82,-77.82 1552.28,-68.6\"/>\n",
       "<polygon fill=\"#000000\" stroke=\"#000000\" points=\"1553.57,-65.34 1542.97,-65.19 1551.16,-71.92 1553.57,-65.34\"/>\n",
       "</g>\n",
       "<!-- callgraphX__tile_1_5&#45;&gt;callgraphX__print_maze -->\n",
       "<g id=\"edge72\" class=\"edge\">\n",
       "<title>callgraphX__tile_1_5&#45;&gt;callgraphX__print_maze</title>\n",
       "<path fill=\"none\" stroke=\"#000000\" d=\"M1146.08,-551.58C1157.69,-541.38 1169.63,-528.35 1176.41,-513.71 1189.43,-485.56 1184.12,-405.41 1186.41,-374.48 1190.73,-316.05 1168.02,-155.87 1206.41,-111.62 1231.38,-82.83 1327.94,-66.55 1399.62,-58.22\"/>\n",
       "<polygon fill=\"#000000\" stroke=\"#000000\" points=\"1399.85,-61.72 1409.39,-57.12 1399.06,-54.76 1399.85,-61.72\"/>\n",
       "</g>\n",
       "<!-- callgraphX__tile_1_6&#45;&gt;callgraphX__print_maze -->\n",
       "<g id=\"edge73\" class=\"edge\">\n",
       "<title>callgraphX__tile_1_6&#45;&gt;callgraphX__print_maze</title>\n",
       "<path fill=\"none\" stroke=\"#000000\" d=\"M803.72,-461.71C807.86,-428.04 814.41,-366.47 814.41,-313.67 814.41,-313.67 814.41,-313.67 814.41,-224.05 814.41,-172.33 804.94,-145.04 844.41,-111.62 885.75,-76.61 1233.94,-59.65 1397.35,-53.55\"/>\n",
       "<polygon fill=\"#000000\" stroke=\"#000000\" points=\"1397.41,-57.05 1407.28,-53.19 1397.16,-50.06 1397.41,-57.05\"/>\n",
       "</g>\n",
       "<!-- callgraphX__tile_1_7&#45;&gt;callgraphX__print_maze -->\n",
       "<g id=\"edge74\" class=\"edge\">\n",
       "<title>callgraphX__tile_1_7&#45;&gt;callgraphX__print_maze</title>\n",
       "<path fill=\"none\" stroke=\"#000000\" d=\"M1632.91,-382.63C1623.08,-379.86 1612.96,-377.05 1603.41,-374.48 1540.54,-357.55 1501.39,-389.86 1461.41,-338.48 1451.58,-325.84 1435.42,-310.3 1464.41,-111.62 1465.6,-103.44 1467.57,-94.79 1469.75,-86.67\"/>\n",
       "<polygon fill=\"#000000\" stroke=\"#000000\" points=\"1473.1,-87.68 1472.5,-77.1 1466.37,-85.75 1473.1,-87.68\"/>\n",
       "</g>\n",
       "<!-- callgraphX__tile_1_8&#45;&gt;callgraphX__print_maze -->\n",
       "<g id=\"edge75\" class=\"edge\">\n",
       "<title>callgraphX__tile_1_8&#45;&gt;callgraphX__print_maze</title>\n",
       "<path fill=\"none\" stroke=\"#000000\" d=\"M562.95,-119.33C574.59,-116.33 586.82,-113.56 598.41,-111.62 888.56,-62.98 1238.6,-53.08 1396.66,-51.18\"/>\n",
       "<polygon fill=\"#000000\" stroke=\"#000000\" points=\"1396.69,-54.68 1406.65,-51.07 1396.61,-47.68 1396.69,-54.68\"/>\n",
       "</g>\n",
       "<!-- callgraphX__tile_2_0&#45;&gt;callgraphX__print_maze -->\n",
       "<g id=\"edge76\" class=\"edge\">\n",
       "<title>callgraphX__tile_2_0&#45;&gt;callgraphX__print_maze</title>\n",
       "<path fill=\"none\" stroke=\"#000000\" d=\"M1686.59,-1162.64C1687.77,-1107.62 1682.7,-975.65 1613.41,-900.19 1580.04,-863.85 1543.37,-898.99 1508.41,-864.19 1449.96,-806.01 1405.51,-593.94 1386.41,-513.71 1374.73,-464.67 1371.41,-451.7 1371.41,-401.28 1371.41,-401.28 1371.41,-401.28 1371.41,-224.05 1371.41,-173.64 1359.33,-154.14 1386.41,-111.62 1395.9,-96.71 1410.5,-84.76 1425.43,-75.53\"/>\n",
       "<polygon fill=\"#000000\" stroke=\"#000000\" points=\"1427.03,-78.65 1433.93,-70.61 1423.52,-72.59 1427.03,-78.65\"/>\n",
       "</g>\n",
       "<!-- callgraphX__tile_2_1&#45;&gt;callgraphX__print_maze -->\n",
       "<g id=\"edge80\" class=\"edge\">\n",
       "<title>callgraphX__tile_2_1&#45;&gt;callgraphX__print_maze</title>\n",
       "<path fill=\"none\" stroke=\"#000000\" d=\"M405.01,-2061.8C307.02,-2054.31 141.69,-2025.07 64.41,-1915.61 48.64,-1893.29 68.51,-1783.82 76.41,-1776.38 114.03,-1740.9 489.15,-1747.22 540.41,-1740.38 756.3,-1711.53 1017.41,-1845.76 1017.41,-1627.95 1017.41,-1627.95 1017.41,-1627.95 1017.41,-1187.85 1017.41,-1162.77 1024.14,-1094.11 1007.41,-1075.43 953.26,-1014.98 888.15,-1094.34 828.41,-1039.43 810.82,-1023.26 825.57,-1008.37 813.41,-987.81 801.89,-968.33 787.53,-972.04 777.41,-951.81 745.83,-888.67 751.13,-705.4 732.41,-637.33 727.81,-620.62 723.87,-617.41 717.41,-601.33 708.23,-578.5 713.26,-568.53 697.41,-549.71 677.37,-525.93 654.37,-539.77 637.41,-513.71 609.93,-471.51 623.41,-451.64 623.41,-401.28 623.41,-401.28 623.41,-401.28 623.41,-224.05 623.41,-173.88 597.63,-146.79 633.41,-111.62 687.06,-58.88 1193.18,-51.57 1396.99,-50.79\"/>\n",
       "<polygon fill=\"#000000\" stroke=\"#000000\" points=\"1396.71,-54.29 1406.7,-50.75 1396.69,-47.29 1396.71,-54.29\"/>\n",
       "</g>\n",
       "<!-- callgraphX__tile_2_1&#45;&gt;callgraphX__tile_1_1 -->\n",
       "<g id=\"edge78\" class=\"edge\">\n",
       "<title>callgraphX__tile_2_1&#45;&gt;callgraphX__tile_1_1</title>\n",
       "<path fill=\"none\" stroke=\"#000000\" d=\"M404.76,-2064.8C292.82,-2064.03 94.54,-2055.15 49.41,-2003.23 -16.74,-1927.14 -16.14,-1852.99 49.41,-1776.38 188.03,-1614.35 997.41,-1841.18 997.41,-1627.95 997.41,-1627.95 997.41,-1627.95 997.41,-1275.47 997.41,-1225.46 1014.47,-1207.93 992.41,-1163.04 986.37,-1150.77 976.6,-1140.03 966.18,-1131.13\"/>\n",
       "<polygon fill=\"#000000\" stroke=\"#000000\" points=\"968.52,-1128.52 958.52,-1125.03 964.16,-1134 968.52,-1128.52\"/>\n",
       "</g>\n",
       "<!-- callgraphX__tile_2_1&#45;&gt;callgraphX__tile_2_0 -->\n",
       "<g id=\"edge79\" class=\"edge\">\n",
       "<title>callgraphX__tile_2_1&#45;&gt;callgraphX__tile_2_0</title>\n",
       "<path fill=\"none\" stroke=\"#000000\" d=\"M498.2,-2039.34C504.56,-2028.58 511.52,-2015.61 516.41,-2003.23 525.94,-1979.08 552.23,-1792.72 572.41,-1776.38 667.61,-1699.27 1585.39,-1824.54 1674.41,-1740.38 1710.86,-1705.91 1684.41,-1678.11 1684.41,-1627.95 1684.41,-1627.95 1684.41,-1627.95 1684.41,-1363.09 1684.41,-1315.8 1684.78,-1261.26 1685.07,-1226.2\"/>\n",
       "<polygon fill=\"#000000\" stroke=\"#000000\" points=\"1688.57,-1226.64 1685.16,-1216.61 1681.57,-1226.58 1688.57,-1226.64\"/>\n",
       "</g>\n",
       "<!-- callgraphX__tile_2_1&#45;&gt;callgraphX__tile_2_1 -->\n",
       "<g id=\"edge77\" class=\"edge\">\n",
       "<title>callgraphX__tile_2_1&#45;&gt;callgraphX__tile_2_1</title>\n",
       "<path fill=\"none\" stroke=\"#000000\" d=\"M543.09,-2081.47C562.57,-2081.3 578.01,-2075.82 578.01,-2065.04 578.01,-2056.45 568.21,-2051.23 554.37,-2049.38\"/>\n",
       "<polygon fill=\"#000000\" stroke=\"#000000\" points=\"554.81,-2045.9 544.6,-2048.72 554.34,-2052.88 554.81,-2045.9\"/>\n",
       "</g>\n",
       "<!-- callgraphX__tile_2_1&#45;&gt;callgraphX__tile_2_2 -->\n",
       "<g id=\"edge82\" class=\"edge\">\n",
       "<title>callgraphX__tile_2_1&#45;&gt;callgraphX__tile_2_2</title>\n",
       "<path fill=\"none\" stroke=\"#000000\" d=\"M503.65,-2040.04C512.12,-2029.39 521.29,-2016.32 527.41,-2003.23 528.78,-2000.3 579.89,-1778.42 582.41,-1776.38 677.8,-1698.8 1590.28,-1814.46 1688.41,-1740.38 1730.28,-1708.76 1724.41,-1680.41 1724.41,-1627.95 1724.41,-1627.95 1724.41,-1627.95 1724.41,-1538.33 1724.41,-1342.8 1782.41,-1297.76 1782.41,-1102.23 1782.41,-1102.23 1782.41,-1102.23 1782.41,-925 1782.41,-875.78 1800.94,-821.57 1815.21,-787.13\"/>\n",
       "<polygon fill=\"#000000\" stroke=\"#000000\" points=\"1818.38,-788.63 1819.08,-778.06 1811.94,-785.89 1818.38,-788.63\"/>\n",
       "</g>\n",
       "<!-- callgraphX__tile_2_1&#45;&gt;callgraphX__tile_3_1 -->\n",
       "<g id=\"edge81\" class=\"edge\">\n",
       "<title>callgraphX__tile_2_1&#45;&gt;callgraphX__tile_3_1</title>\n",
       "<path fill=\"none\" stroke=\"#000000\" d=\"M455.82,-2040.65C447.33,-2031.7 438.07,-2021.32 429.9,-2011.63\"/>\n",
       "<polygon fill=\"#000000\" stroke=\"#000000\" points=\"432.79,-2009.63 423.72,-2004.15 427.39,-2014.09 432.79,-2009.63\"/>\n",
       "</g>\n",
       "<!-- callgraphX__tile_2_2&#45;&gt;callgraphX__print_maze -->\n",
       "<g id=\"edge84\" class=\"edge\">\n",
       "<title>callgraphX__tile_2_2&#45;&gt;callgraphX__print_maze</title>\n",
       "<path fill=\"none\" stroke=\"#000000\" d=\"M1861.02,-726.47C1874.38,-715.53 1890.11,-702.04 1903.41,-688.95 1925.1,-667.6 1922.67,-653.58 1948.41,-637.33 1998.74,-605.56 2041.42,-648.74 2077.41,-601.33 2093.54,-580.08 2111.53,-423.8 2065.41,-374.48 1984.53,-287.98 1901.62,-401.57 1801.41,-338.48 1778.16,-323.84 1790.01,-302.46 1767.41,-286.86 1707.06,-245.2 1659.61,-301.31 1606.41,-250.86 1559.77,-206.64 1604.44,-164.14 1567.41,-111.62 1558.08,-98.39 1544.92,-87.04 1531.69,-77.85\"/>\n",
       "<polygon fill=\"#000000\" stroke=\"#000000\" points=\"1533.65,-74.95 1523.37,-72.38 1529.8,-80.8 1533.65,-74.95\"/>\n",
       "</g>\n",
       "<!-- callgraphX__tile_2_3&#45;&gt;callgraphX__print_maze -->\n",
       "<g id=\"edge85\" class=\"edge\">\n",
       "<title>callgraphX__tile_2_3&#45;&gt;callgraphX__print_maze</title>\n",
       "<path fill=\"none\" stroke=\"#000000\" d=\"M1564.07,-817.51C1547.13,-807.81 1529.9,-794.33 1520.41,-776.57 1491.24,-721.99 1481.95,-685.81 1520.41,-637.33 1564.09,-582.26 1610.69,-631.01 1674.41,-601.33 1709.12,-585.16 1710.71,-569.65 1743.41,-549.71 1756.8,-541.54 1989.08,-439.4 1997.41,-426.09 2009.57,-406.64 2012.69,-391.59 1997.41,-374.48 1950.03,-321.43 1734.97,-382.86 1679.41,-338.48 1660.42,-323.31 1679.32,-303.27 1661.41,-286.86 1613.4,-242.87 1564.03,-298.27 1519.41,-250.86 1508.29,-239.04 1493.58,-141.35 1486.14,-86.98\"/>\n",
       "<polygon fill=\"#000000\" stroke=\"#000000\" points=\"1489.64,-86.71 1484.83,-77.27 1482.7,-87.65 1489.64,-86.71\"/>\n",
       "</g>\n",
       "<!-- callgraphX__tile_2_3&#45;&gt;callgraphX__tile_1_3 -->\n",
       "<g id=\"edge87\" class=\"edge\">\n",
       "<title>callgraphX__tile_2_3&#45;&gt;callgraphX__tile_1_3</title>\n",
       "<path fill=\"none\" stroke=\"#000000\" d=\"M1564.05,-817.52C1475.97,-780.76 1280.83,-700.16 1114.41,-637.33 1069.43,-620.35 1040.17,-640.58 1012.41,-601.33 999.16,-582.6 1003.52,-570.87 1012.41,-549.71 1017.19,-538.32 1025.26,-528 1034.02,-519.22\"/>\n",
       "<polygon fill=\"#000000\" stroke=\"#000000\" points=\"1036.16,-522.02 1041.09,-512.64 1031.38,-516.9 1036.16,-522.02\"/>\n",
       "</g>\n",
       "<!-- callgraphX__tile_2_3&#45;&gt;callgraphX__tile_2_2 -->\n",
       "<g id=\"edge89\" class=\"edge\">\n",
       "<title>callgraphX__tile_2_3&#45;&gt;callgraphX__tile_2_2</title>\n",
       "<path fill=\"none\" stroke=\"#000000\" d=\"M1660.78,-818.16C1693.5,-805.43 1736.63,-788.65 1771.34,-775.14\"/>\n",
       "<polygon fill=\"#000000\" stroke=\"#000000\" points=\"1772.36,-778.5 1780.41,-771.61 1769.82,-771.97 1772.36,-778.5\"/>\n",
       "</g>\n",
       "<!-- callgraphX__tile_2_3&#45;&gt;callgraphX__tile_2_3 -->\n",
       "<g id=\"edge88\" class=\"edge\">\n",
       "<title>callgraphX__tile_2_3&#45;&gt;callgraphX__tile_2_3</title>\n",
       "<path fill=\"none\" stroke=\"#000000\" d=\"M1672.09,-854.8C1691.57,-854.63 1707.01,-849.16 1707.01,-838.38 1707.01,-829.79 1697.21,-824.57 1683.37,-822.71\"/>\n",
       "<polygon fill=\"#000000\" stroke=\"#000000\" points=\"1683.81,-819.24 1673.6,-822.06 1683.34,-826.22 1683.81,-819.24\"/>\n",
       "</g>\n",
       "<!-- callgraphX__tile_2_3&#45;&gt;callgraphX__tile_2_4 -->\n",
       "<g id=\"edge86\" class=\"edge\">\n",
       "<title>callgraphX__tile_2_3&#45;&gt;callgraphX__tile_2_4</title>\n",
       "<path fill=\"none\" stroke=\"#000000\" d=\"M1605.19,-812.15C1604.71,-804.66 1604.55,-796.3 1604.72,-788.25\"/>\n",
       "<polygon fill=\"#000000\" stroke=\"#000000\" points=\"1608.22,-788.45 1605.14,-778.32 1601.22,-788.16 1608.22,-788.45\"/>\n",
       "</g>\n",
       "<!-- callgraphX__tile_2_3&#45;&gt;callgraphX__tile_3_3 -->\n",
       "<g id=\"edge90\" class=\"edge\">\n",
       "<title>callgraphX__tile_2_3&#45;&gt;callgraphX__tile_3_3</title>\n",
       "<path fill=\"none\" stroke=\"#000000\" d=\"M1550.66,-854.88C1488.51,-869.89 1391.83,-892.58 1324.14,-908.06\"/>\n",
       "<polygon fill=\"#000000\" stroke=\"#000000\" points=\"1323.56,-904.6 1314.59,-910.23 1325.12,-911.42 1323.56,-904.6\"/>\n",
       "</g>\n",
       "<!-- callgraphX__tile_2_4&#45;&gt;callgraphX__print_maze -->\n",
       "<g id=\"edge93\" class=\"edge\">\n",
       "<title>callgraphX__tile_2_4&#45;&gt;callgraphX__print_maze</title>\n",
       "<path fill=\"none\" stroke=\"#000000\" d=\"M1550.25,-733.08C1467.32,-710.59 1314.5,-669.67 1183.41,-637.33 1114.32,-620.29 1071.7,-657.02 1027.41,-601.33 1013.12,-583.38 1013.45,-567.92 1027.41,-549.71 1064.93,-500.78 1123.88,-562.65 1161.41,-513.71 1175.37,-495.51 1172.27,-482.3 1161.41,-462.09 1114.22,-374.34 1021.59,-426.22 974.41,-338.48 945.1,-283.97 952.03,-256.93 974.41,-199.24 993.47,-150.07 1007.78,-136.26 1054.41,-111.62 1112.45,-80.94 1291.34,-63.76 1398.27,-55.98\"/>\n",
       "<polygon fill=\"#000000\" stroke=\"#000000\" points=\"1398.43,-59.48 1408.16,-55.27 1397.93,-52.49 1398.43,-59.48\"/>\n",
       "</g>\n",
       "<!-- callgraphX__tile_2_4&#45;&gt;callgraphX__tile_1_4 -->\n",
       "<g id=\"edge92\" class=\"edge\">\n",
       "<title>callgraphX__tile_2_4&#45;&gt;callgraphX__tile_1_4</title>\n",
       "<path fill=\"none\" stroke=\"#000000\" d=\"M1680.48,-736.29C1760.01,-720.78 1890.3,-695.37 1973.13,-679.21\"/>\n",
       "<polygon fill=\"#000000\" stroke=\"#000000\" points=\"1973.61,-682.68 1982.76,-677.33 1972.27,-675.81 1973.61,-682.68\"/>\n",
       "</g>\n",
       "<!-- callgraphX__tile_2_4&#45;&gt;callgraphX__tile_2_3 -->\n",
       "<g id=\"edge95\" class=\"edge\">\n",
       "<title>callgraphX__tile_2_4&#45;&gt;callgraphX__tile_2_3</title>\n",
       "<path fill=\"none\" stroke=\"#000000\" d=\"M1617.61,-776.8C1618.1,-784.28 1618.26,-792.64 1618.09,-800.69\"/>\n",
       "<polygon fill=\"#000000\" stroke=\"#000000\" points=\"1614.6,-800.51 1617.68,-810.64 1621.59,-800.79 1614.6,-800.51\"/>\n",
       "</g>\n",
       "<!-- callgraphX__tile_2_4&#45;&gt;callgraphX__tile_2_4 -->\n",
       "<g id=\"edge94\" class=\"edge\">\n",
       "<title>callgraphX__tile_2_4&#45;&gt;callgraphX__tile_2_4</title>\n",
       "<path fill=\"none\" stroke=\"#000000\" d=\"M1676.09,-767.17C1696.08,-766.84 1711.78,-761.37 1711.78,-750.76 1711.78,-742.22 1701.62,-737.01 1687.23,-735.13\"/>\n",
       "<polygon fill=\"#000000\" stroke=\"#000000\" points=\"1687.82,-731.66 1677.6,-734.45 1687.33,-738.65 1687.82,-731.66\"/>\n",
       "</g>\n",
       "<!-- callgraphX__tile_2_4&#45;&gt;callgraphX__tile_2_5 -->\n",
       "<g id=\"edge91\" class=\"edge\">\n",
       "<title>callgraphX__tile_2_4&#45;&gt;callgraphX__tile_2_5</title>\n",
       "<path fill=\"none\" stroke=\"#000000\" d=\"M1652.09,-727.93C1676.57,-716.03 1708.1,-701.25 1735.28,-688.91\"/>\n",
       "<polygon fill=\"#000000\" stroke=\"#000000\" points=\"1736.41,-692.24 1744.08,-684.94 1733.53,-685.86 1736.41,-692.24\"/>\n",
       "</g>\n",
       "<!-- callgraphX__tile_2_4&#45;&gt;callgraphX__tile_3_4 -->\n",
       "<g id=\"edge96\" class=\"edge\">\n",
       "<title>callgraphX__tile_2_4&#45;&gt;callgraphX__tile_3_4</title>\n",
       "<path fill=\"none\" stroke=\"#000000\" d=\"M1611.41,-724.53C1611.41,-717.04 1611.41,-708.69 1611.41,-700.63\"/>\n",
       "<polygon fill=\"#000000\" stroke=\"#000000\" points=\"1614.91,-700.7 1611.41,-690.7 1607.91,-700.7 1614.91,-700.7\"/>\n",
       "</g>\n",
       "<!-- callgraphX__tile_2_5&#45;&gt;callgraphX__print_maze -->\n",
       "<g id=\"edge99\" class=\"edge\">\n",
       "<title>callgraphX__tile_2_5&#45;&gt;callgraphX__print_maze</title>\n",
       "<path fill=\"none\" stroke=\"#000000\" d=\"M1811.9,-637.73C1830.47,-613.12 1861.74,-575.23 1895.41,-549.71 1924.24,-527.86 1941.75,-538.17 1968.41,-513.71 2017.19,-468.94 2065.11,-424.22 2021.41,-374.48 1980.44,-327.84 1796.81,-371.74 1744.41,-338.48 1721.42,-323.88 1733.59,-302.65 1711.41,-286.86 1655.56,-247.09 1610.31,-298.91 1561.41,-250.86 1538.61,-228.46 1539.01,-140.54 1525.41,-111.62 1520.97,-102.19 1515.02,-92.73 1508.93,-84.16\"/>\n",
       "<polygon fill=\"#000000\" stroke=\"#000000\" points=\"1511.74,-82.08 1502.97,-76.14 1506.12,-86.26 1511.74,-82.08\"/>\n",
       "</g>\n",
       "<!-- callgraphX__tile_2_5&#45;&gt;callgraphX__tile_1_5 -->\n",
       "<g id=\"edge101\" class=\"edge\">\n",
       "<title>callgraphX__tile_2_5&#45;&gt;callgraphX__tile_1_5</title>\n",
       "<path fill=\"none\" stroke=\"#000000\" d=\"M1735.34,-644.72C1724.46,-641.93 1713.14,-639.32 1702.41,-637.33 1526.62,-604.76 1317.8,-588.36 1202.3,-581.2\"/>\n",
       "<polygon fill=\"#000000\" stroke=\"#000000\" points=\"1202.79,-577.73 1192.59,-580.61 1202.36,-584.71 1202.79,-577.73\"/>\n",
       "</g>\n",
       "<!-- callgraphX__tile_2_5&#45;&gt;callgraphX__tile_2_4 -->\n",
       "<g id=\"edge98\" class=\"edge\">\n",
       "<title>callgraphX__tile_2_5&#45;&gt;callgraphX__tile_2_4</title>\n",
       "<path fill=\"none\" stroke=\"#000000\" d=\"M1753.89,-685.89C1729.32,-697.83 1697.64,-712.69 1670.35,-725.07\"/>\n",
       "<polygon fill=\"#000000\" stroke=\"#000000\" points=\"1669.19,-721.76 1661.51,-729.06 1672.07,-728.14 1669.19,-721.76\"/>\n",
       "</g>\n",
       "<!-- callgraphX__tile_2_5&#45;&gt;callgraphX__tile_2_5 -->\n",
       "<g id=\"edge97\" class=\"edge\">\n",
       "<title>callgraphX__tile_2_5&#45;&gt;callgraphX__tile_2_5</title>\n",
       "<path fill=\"none\" stroke=\"#000000\" d=\"M1859.09,-679.55C1879.08,-679.22 1894.78,-673.75 1894.78,-663.14 1894.78,-654.6 1884.62,-649.39 1870.23,-647.51\"/>\n",
       "<polygon fill=\"#000000\" stroke=\"#000000\" points=\"1870.82,-644.04 1860.6,-646.83 1870.33,-651.03 1870.82,-644.04\"/>\n",
       "</g>\n",
       "<!-- callgraphX__tile_2_5&#45;&gt;callgraphX__tile_2_6 -->\n",
       "<g id=\"edge102\" class=\"edge\">\n",
       "<title>callgraphX__tile_2_5&#45;&gt;callgraphX__tile_2_6</title>\n",
       "<path fill=\"none\" stroke=\"#000000\" d=\"M1739.33,-643.67C1704.59,-631.15 1659.83,-614.47 1624.37,-600.87\"/>\n",
       "<polygon fill=\"#000000\" stroke=\"#000000\" points=\"1625.7,-597.63 1615.11,-597.3 1623.18,-604.16 1625.7,-597.63\"/>\n",
       "</g>\n",
       "<!-- callgraphX__tile_2_5&#45;&gt;callgraphX__tile_3_5 -->\n",
       "<g id=\"edge100\" class=\"edge\">\n",
       "<title>callgraphX__tile_2_5&#45;&gt;callgraphX__tile_3_5</title>\n",
       "<path fill=\"none\" stroke=\"#000000\" d=\"M1840.88,-641.42C1867.67,-629.47 1901.54,-614.37 1929.86,-601.74\"/>\n",
       "<polygon fill=\"#000000\" stroke=\"#000000\" points=\"1930.93,-605.09 1938.64,-597.82 1928.08,-598.7 1930.93,-605.09\"/>\n",
       "</g>\n",
       "<!-- callgraphX__tile_2_6&#45;&gt;callgraphX__print_maze -->\n",
       "<g id=\"edge105\" class=\"edge\">\n",
       "<title>callgraphX__tile_2_6&#45;&gt;callgraphX__print_maze</title>\n",
       "<path fill=\"none\" stroke=\"#000000\" d=\"M1525.75,-552.67C1480.12,-524.28 1411.41,-470.1 1411.41,-401.28 1411.41,-401.28 1411.41,-401.28 1411.41,-224.05 1411.41,-173.51 1407.18,-157.48 1428.41,-111.62 1433.21,-101.23 1440.36,-91.27 1447.85,-82.54\"/>\n",
       "<polygon fill=\"#000000\" stroke=\"#000000\" points=\"1450.24,-85.11 1454.37,-75.35 1445.06,-80.4 1450.24,-85.11\"/>\n",
       "</g>\n",
       "<!-- callgraphX__tile_2_6&#45;&gt;callgraphX__tile_1_6 -->\n",
       "<g id=\"edge107\" class=\"edge\">\n",
       "<title>callgraphX__tile_2_6&#45;&gt;callgraphX__tile_1_6</title>\n",
       "<path fill=\"none\" stroke=\"#000000\" d=\"M1487.27,-566.98C1376.12,-556.09 1166,-534.95 987.41,-513.71 953.08,-509.63 915.27,-504.7 882.68,-500.31\"/>\n",
       "<polygon fill=\"#000000\" stroke=\"#000000\" points=\"883.27,-496.86 872.89,-498.98 882.33,-503.79 883.27,-496.86\"/>\n",
       "</g>\n",
       "<!-- callgraphX__tile_2_6&#45;&gt;callgraphX__tile_2_5 -->\n",
       "<g id=\"edge103\" class=\"edge\">\n",
       "<title>callgraphX__tile_2_6&#45;&gt;callgraphX__tile_2_5</title>\n",
       "<path fill=\"none\" stroke=\"#000000\" d=\"M1620.66,-595.06C1655.34,-607.56 1699.95,-624.18 1735.32,-637.75\"/>\n",
       "<polygon fill=\"#000000\" stroke=\"#000000\" points=\"1733.97,-640.98 1744.56,-641.31 1736.49,-634.45 1733.97,-640.98\"/>\n",
       "</g>\n",
       "<!-- callgraphX__tile_2_6&#45;&gt;callgraphX__tile_2_6 -->\n",
       "<g id=\"edge108\" class=\"edge\">\n",
       "<title>callgraphX__tile_2_6&#45;&gt;callgraphX__tile_2_6</title>\n",
       "<path fill=\"none\" stroke=\"#000000\" d=\"M1630.09,-591.93C1650.08,-591.6 1665.78,-586.13 1665.78,-575.52 1665.78,-566.98 1655.62,-561.77 1641.23,-559.89\"/>\n",
       "<polygon fill=\"#000000\" stroke=\"#000000\" points=\"1641.82,-556.43 1631.6,-559.22 1641.33,-563.41 1641.82,-556.43\"/>\n",
       "</g>\n",
       "<!-- callgraphX__tile_2_6&#45;&gt;callgraphX__tile_2_7 -->\n",
       "<g id=\"edge106\" class=\"edge\">\n",
       "<title>callgraphX__tile_2_6&#45;&gt;callgraphX__tile_2_7</title>\n",
       "<path fill=\"none\" stroke=\"#000000\" d=\"M1559.19,-549.3C1558.71,-541.81 1558.55,-533.45 1558.72,-525.39\"/>\n",
       "<polygon fill=\"#000000\" stroke=\"#000000\" points=\"1562.22,-525.6 1559.14,-515.46 1555.22,-525.31 1562.22,-525.6\"/>\n",
       "</g>\n",
       "<!-- callgraphX__tile_2_6&#45;&gt;callgraphX__tile_3_6 -->\n",
       "<g id=\"edge104\" class=\"edge\">\n",
       "<title>callgraphX__tile_2_6&#45;&gt;callgraphX__tile_3_6</title>\n",
       "<path fill=\"none\" stroke=\"#000000\" d=\"M1616.48,-554.86C1696.04,-521.34 1834.78,-449.41 1777.41,-374.48 1776.19,-372.89 1690.91,-350.14 1625.71,-332.92\"/>\n",
       "<polygon fill=\"#000000\" stroke=\"#000000\" points=\"1626.64,-329.55 1616.08,-330.38 1624.86,-336.32 1626.64,-329.55\"/>\n",
       "</g>\n",
       "<!-- callgraphX__tile_2_7&#45;&gt;callgraphX__print_maze -->\n",
       "<g id=\"edge110\" class=\"edge\">\n",
       "<title>callgraphX__tile_2_7&#45;&gt;callgraphX__print_maze</title>\n",
       "<path fill=\"none\" stroke=\"#000000\" d=\"M1496.14,-473.63C1351.91,-445.31 1030.12,-378.29 999.41,-338.48 927.01,-244.64 1022.75,-180.25 1137.41,-111.62 1180.65,-85.73 1312.76,-67.83 1400.1,-58.45\"/>\n",
       "<polygon fill=\"#000000\" stroke=\"#000000\" points=\"1400.24,-61.96 1409.81,-57.43 1399.5,-54.99 1400.24,-61.96\"/>\n",
       "</g>\n",
       "<!-- callgraphX__tile_2_7&#45;&gt;callgraphX__tile_1_7 -->\n",
       "<g id=\"edge113\" class=\"edge\">\n",
       "<title>callgraphX__tile_2_7&#45;&gt;callgraphX__tile_1_7</title>\n",
       "<path fill=\"none\" stroke=\"#000000\" d=\"M1598.9,-463.96C1614.02,-453.61 1632.04,-441.26 1648.07,-430.28\"/>\n",
       "<polygon fill=\"#000000\" stroke=\"#000000\" points=\"1649.73,-433.39 1656,-424.85 1645.77,-427.61 1649.73,-433.39\"/>\n",
       "</g>\n",
       "<!-- callgraphX__tile_2_7&#45;&gt;callgraphX__tile_2_6 -->\n",
       "<g id=\"edge114\" class=\"edge\">\n",
       "<title>callgraphX__tile_2_7&#45;&gt;callgraphX__tile_2_6</title>\n",
       "<path fill=\"none\" stroke=\"#000000\" d=\"M1571.61,-513.95C1572.1,-521.42 1572.26,-529.78 1572.09,-537.84\"/>\n",
       "<polygon fill=\"#000000\" stroke=\"#000000\" points=\"1568.6,-537.65 1571.68,-547.78 1575.59,-537.94 1568.6,-537.65\"/>\n",
       "</g>\n",
       "<!-- callgraphX__tile_2_7&#45;&gt;callgraphX__tile_2_7 -->\n",
       "<g id=\"edge112\" class=\"edge\">\n",
       "<title>callgraphX__tile_2_7&#45;&gt;callgraphX__tile_2_7</title>\n",
       "<path fill=\"none\" stroke=\"#000000\" d=\"M1630.09,-504.32C1650.08,-503.98 1665.78,-498.51 1665.78,-487.9 1665.78,-479.37 1655.62,-474.16 1641.23,-472.27\"/>\n",
       "<polygon fill=\"#000000\" stroke=\"#000000\" points=\"1641.82,-468.81 1631.6,-471.6 1641.33,-475.79 1641.82,-468.81\"/>\n",
       "</g>\n",
       "<!-- callgraphX__tile_2_7&#45;&gt;callgraphX__tile_2_8 -->\n",
       "<g id=\"edge109\" class=\"edge\">\n",
       "<title>callgraphX__tile_2_7&#45;&gt;callgraphX__tile_2_8</title>\n",
       "<path fill=\"none\" stroke=\"#000000\" d=\"M1550.08,-462.14C1544.97,-453.89 1539.18,-444.54 1533.7,-435.69\"/>\n",
       "<polygon fill=\"#000000\" stroke=\"#000000\" points=\"1536.74,-433.94 1528.5,-427.28 1530.79,-437.63 1536.74,-433.94\"/>\n",
       "</g>\n",
       "<!-- callgraphX__tile_2_7&#45;&gt;callgraphX__tile_3_7 -->\n",
       "<g id=\"edge111\" class=\"edge\">\n",
       "<title>callgraphX__tile_2_7&#45;&gt;callgraphX__tile_3_7</title>\n",
       "<path fill=\"none\" stroke=\"#000000\" d=\"M1624.84,-469.68C1677.96,-455.18 1755.93,-434.5 1813.33,-419.68\"/>\n",
       "<polygon fill=\"#000000\" stroke=\"#000000\" points=\"1813.88,-423.16 1822.69,-417.27 1812.14,-416.38 1813.88,-423.16\"/>\n",
       "</g>\n",
       "<!-- callgraphX__tile_2_8&#45;&gt;callgraphX__print_maze -->\n",
       "<g id=\"edge115\" class=\"edge\">\n",
       "<title>callgraphX__tile_2_8&#45;&gt;callgraphX__print_maze</title>\n",
       "<path fill=\"none\" stroke=\"#000000\" d=\"M1477.81,-376.7C1465.49,-366.63 1453.04,-353.6 1446.41,-338.48 1405.92,-246.13 1420.38,-209.03 1446.41,-111.62 1448.84,-102.5 1453.01,-93.33 1457.64,-84.97\"/>\n",
       "<polygon fill=\"#000000\" stroke=\"#000000\" points=\"1460.55,-86.93 1462.66,-76.55 1454.53,-83.35 1460.55,-86.93\"/>\n",
       "</g>\n",
       "<!-- callgraphX__tile_3_0&#45;&gt;callgraphX__print_maze -->\n",
       "<g id=\"edge116\" class=\"edge\">\n",
       "<title>callgraphX__tile_3_0&#45;&gt;callgraphX__print_maze</title>\n",
       "<path fill=\"none\" stroke=\"#000000\" d=\"M120.81,-1866.22C108.49,-1856.15 96.04,-1843.12 89.41,-1827.99 80.2,-1806.98 73.5,-1792.91 89.41,-1776.38 161.34,-1701.62 945.68,-1810.2 1022.41,-1740.38 1059.69,-1706.45 1037.41,-1678.36 1037.41,-1627.95 1037.41,-1627.95 1037.41,-1627.95 1037.41,-1187.85 1037.41,-1137.44 1056.53,-1112.53 1022.41,-1075.43 971.89,-1020.5 918.7,-1083.4 858.41,-1039.43 836.97,-1023.79 843.62,-1009.55 828.41,-987.81 816.46,-970.74 806.72,-970.9 798.41,-951.81 742.16,-822.63 797.63,-772.66 758.41,-637.33 746.44,-596.04 746.09,-581.74 717.41,-549.71 696.91,-526.83 675.18,-539.44 658.41,-513.71 630.87,-471.48 643.41,-451.7 643.41,-401.28 643.41,-401.28 643.41,-401.28 643.41,-224.05 643.41,-173.64 621.73,-146.2 658.41,-111.62 711.33,-61.73 1198.09,-52.72 1397.16,-51.13\"/>\n",
       "<polygon fill=\"#000000\" stroke=\"#000000\" points=\"1396.94,-54.64 1406.91,-51.06 1396.88,-47.64 1396.94,-54.64\"/>\n",
       "</g>\n",
       "<!-- callgraphX__tile_3_1&#45;&gt;callgraphX__print_maze -->\n",
       "<g id=\"edge121\" class=\"edge\">\n",
       "<title>callgraphX__tile_3_1&#45;&gt;callgraphX__print_maze</title>\n",
       "<path fill=\"none\" stroke=\"#000000\" d=\"M340.25,-1962.11C312.41,-1953.05 281.9,-1938.54 261.41,-1915.61 245.48,-1897.8 263.06,-1881.12 246.41,-1863.99 209.96,-1826.51 165.21,-1870.25 134.41,-1827.99 120.89,-1809.46 118.51,-1792.92 134.41,-1776.38 203.98,-1703.97 961.74,-1806.38 1037.41,-1740.38 1075.65,-1707.01 1057.41,-1678.7 1057.41,-1627.95 1057.41,-1627.95 1057.41,-1627.95 1057.41,-1187.85 1057.41,-1137.1 1072.42,-1112.16 1037.41,-1075.43 987.72,-1023.29 937.73,-1081.68 879.41,-1039.43 857.74,-1023.72 864.25,-1009.37 848.41,-987.81 835.73,-970.56 825.48,-971.2 816.41,-951.81 756.53,-823.8 803.58,-774.46 769.41,-637.33 759.42,-597.25 764.78,-581.51 738.41,-549.71 718.06,-525.19 693.87,-540.37 676.41,-513.71 648.84,-471.64 663.41,-451.59 663.41,-401.28 663.41,-401.28 663.41,-401.28 663.41,-224.05 663.41,-173.88 637.69,-146.85 673.41,-111.62 724.1,-61.61 1200.01,-52.67 1396.83,-51.11\"/>\n",
       "<polygon fill=\"#000000\" stroke=\"#000000\" points=\"1396.77,-54.62 1406.75,-51.04 1396.72,-47.62 1396.77,-54.62\"/>\n",
       "</g>\n",
       "<!-- callgraphX__tile_3_1&#45;&gt;callgraphX__tile_2_1 -->\n",
       "<g id=\"edge118\" class=\"edge\">\n",
       "<title>callgraphX__tile_3_1&#45;&gt;callgraphX__tile_2_1</title>\n",
       "<path fill=\"none\" stroke=\"#000000\" d=\"M434.4,-2002.25C442.67,-2010.99 451.65,-2021.05 459.62,-2030.49\"/>\n",
       "<polygon fill=\"#000000\" stroke=\"#000000\" points=\"456.86,-2032.64 465.93,-2038.11 462.25,-2028.18 456.86,-2032.64\"/>\n",
       "</g>\n",
       "<!-- callgraphX__tile_3_1&#45;&gt;callgraphX__tile_3_0 -->\n",
       "<g id=\"edge117\" class=\"edge\">\n",
       "<title>callgraphX__tile_3_1&#45;&gt;callgraphX__tile_3_0</title>\n",
       "<path fill=\"none\" stroke=\"#000000\" d=\"M352.42,-1957.74C313.73,-1944.6 261.78,-1926.95 220.94,-1913.07\"/>\n",
       "<polygon fill=\"#000000\" stroke=\"#000000\" points=\"222.31,-1909.84 211.71,-1909.93 220.06,-1916.47 222.31,-1909.84\"/>\n",
       "</g>\n",
       "<!-- callgraphX__tile_3_1&#45;&gt;callgraphX__tile_3_1 -->\n",
       "<g id=\"edge122\" class=\"edge\">\n",
       "<title>callgraphX__tile_3_1&#45;&gt;callgraphX__tile_3_1</title>\n",
       "<path fill=\"none\" stroke=\"#000000\" d=\"M472.09,-1993.84C492.08,-1993.5 507.78,-1988.03 507.78,-1977.42 507.78,-1968.89 497.62,-1963.68 483.23,-1961.79\"/>\n",
       "<polygon fill=\"#000000\" stroke=\"#000000\" points=\"483.82,-1958.33 473.6,-1961.12 483.33,-1965.31 483.82,-1958.33\"/>\n",
       "</g>\n",
       "<!-- callgraphX__tile_3_1&#45;&gt;callgraphX__tile_3_2 -->\n",
       "<g id=\"edge119\" class=\"edge\">\n",
       "<title>callgraphX__tile_3_1&#45;&gt;callgraphX__tile_3_2</title>\n",
       "<path fill=\"none\" stroke=\"#000000\" d=\"M371.01,-1954.06C353.97,-1943.1 333.66,-1929.33 316.41,-1915.61 290.16,-1894.76 290.29,-1881.01 261.41,-1863.99 216.36,-1837.46 180.21,-1870.25 149.41,-1827.99 135.89,-1809.46 133.51,-1792.91 149.41,-1776.38 184.59,-1739.78 1012.87,-1751.45 1062.41,-1740.38 1086.78,-1734.93 1251.3,-1669.96 1269.41,-1652.76 1287.88,-1635.19 1282.51,-1623.68 1294.41,-1601.14 1329.88,-1533.91 1379.41,-1528.73 1379.41,-1452.71 1379.41,-1452.71 1379.41,-1452.71 1379.41,-1187.85 1379.41,-1139.46 1330.1,-1019.35 1293.41,-987.81 1245.34,-946.49 1194.16,-1001.97 1155.41,-951.81 1141.38,-933.65 1144.59,-920.42 1155.41,-900.19 1163.05,-885.89 1175.7,-874.37 1189.18,-865.36\"/>\n",
       "<polygon fill=\"#000000\" stroke=\"#000000\" points=\"1190.65,-868.57 1197.3,-860.32 1186.96,-862.62 1190.65,-868.57\"/>\n",
       "</g>\n",
       "<!-- callgraphX__tile_3_1&#45;&gt;callgraphX__tile_4_1 -->\n",
       "<g id=\"edge120\" class=\"edge\">\n",
       "<title>callgraphX__tile_3_1&#45;&gt;callgraphX__tile_4_1</title>\n",
       "<path fill=\"none\" stroke=\"#000000\" d=\"M401.19,-1951.2C400.71,-1943.71 400.55,-1935.35 400.72,-1927.29\"/>\n",
       "<polygon fill=\"#000000\" stroke=\"#000000\" points=\"404.22,-1927.5 401.14,-1917.36 397.22,-1927.21 404.22,-1927.5\"/>\n",
       "</g>\n",
       "<!-- callgraphX__tile_3_2&#45;&gt;callgraphX__print_maze -->\n",
       "<g id=\"edge123\" class=\"edge\">\n",
       "<title>callgraphX__tile_3_2&#45;&gt;callgraphX__print_maze</title>\n",
       "<path fill=\"none\" stroke=\"#000000\" d=\"M1230.78,-812.88C1203.64,-771.95 1144.16,-689.04 1076.41,-637.33 1046.37,-614.41 1023.34,-630.56 999.41,-601.33 994.2,-594.97 929.41,-321.89 929.41,-313.67 929.41,-313.67 929.41,-313.67 929.41,-224.05 929.41,-173.92 903.53,-147.62 938.41,-111.62 969.74,-79.28 1253.26,-61.46 1397.67,-54.41\"/>\n",
       "<polygon fill=\"#000000\" stroke=\"#000000\" points=\"1397.76,-57.91 1407.58,-53.94 1397.42,-50.92 1397.76,-57.91\"/>\n",
       "</g>\n",
       "<!-- callgraphX__tile_3_3&#45;&gt;callgraphX__print_maze -->\n",
       "<g id=\"edge125\" class=\"edge\">\n",
       "<title>callgraphX__tile_3_3&#45;&gt;callgraphX__print_maze</title>\n",
       "<path fill=\"none\" stroke=\"#000000\" d=\"M1206.65,-903.26C1189.69,-892.82 1170.39,-879.3 1155.41,-864.19 1070.45,-778.55 1074.85,-736.66 1006.41,-637.33 995.21,-621.08 988.7,-619.24 980.41,-601.33 973.49,-586.39 909.41,-330.13 909.41,-313.67 909.41,-313.67 909.41,-313.67 909.41,-224.05 909.41,-174.01 880.99,-147.94 915.41,-111.62 947.93,-77.3 1248.18,-60.31 1397.66,-53.92\"/>\n",
       "<polygon fill=\"#000000\" stroke=\"#000000\" points=\"1397.67,-57.42 1407.52,-53.5 1397.38,-50.42 1397.67,-57.42\"/>\n",
       "</g>\n",
       "<!-- callgraphX__tile_3_3&#45;&gt;callgraphX__tile_2_3 -->\n",
       "<g id=\"edge126\" class=\"edge\">\n",
       "<title>callgraphX__tile_3_3&#45;&gt;callgraphX__tile_2_3</title>\n",
       "<path fill=\"none\" stroke=\"#000000\" d=\"M1309.23,-908.99C1372.24,-893.79 1469.17,-871.05 1536.22,-855.74\"/>\n",
       "<polygon fill=\"#000000\" stroke=\"#000000\" points=\"1536.68,-859.22 1545.66,-853.59 1535.13,-852.4 1536.68,-859.22\"/>\n",
       "</g>\n",
       "<!-- callgraphX__tile_3_3&#45;&gt;callgraphX__tile_3_2 -->\n",
       "<g id=\"edge124\" class=\"edge\">\n",
       "<title>callgraphX__tile_3_3&#45;&gt;callgraphX__tile_3_2</title>\n",
       "<path fill=\"none\" stroke=\"#000000\" d=\"M1246.41,-899.77C1246.41,-892.28 1246.41,-883.92 1246.41,-875.87\"/>\n",
       "<polygon fill=\"#000000\" stroke=\"#000000\" points=\"1249.91,-875.94 1246.41,-865.94 1242.91,-875.94 1249.91,-875.94\"/>\n",
       "</g>\n",
       "<!-- callgraphX__tile_3_3&#45;&gt;callgraphX__tile_3_3 -->\n",
       "<g id=\"edge129\" class=\"edge\">\n",
       "<title>callgraphX__tile_3_3&#45;&gt;callgraphX__tile_3_3</title>\n",
       "<path fill=\"none\" stroke=\"#000000\" d=\"M1311.09,-942.41C1331.08,-942.08 1346.78,-936.61 1346.78,-926 1346.78,-917.46 1336.62,-912.25 1322.23,-910.37\"/>\n",
       "<polygon fill=\"#000000\" stroke=\"#000000\" points=\"1322.82,-906.9 1312.6,-909.69 1322.33,-913.88 1322.82,-906.9\"/>\n",
       "</g>\n",
       "<!-- callgraphX__tile_3_3&#45;&gt;callgraphX__tile_3_4 -->\n",
       "<g id=\"edge128\" class=\"edge\">\n",
       "<title>callgraphX__tile_3_3&#45;&gt;callgraphX__tile_3_4</title>\n",
       "<path fill=\"none\" stroke=\"#000000\" d=\"M1281.32,-902.39C1298.39,-891.15 1319.15,-877.21 1337.41,-864.19 1420.6,-804.83 1437.21,-784.31 1520.41,-724.95 1535.38,-714.27 1552.04,-702.97 1566.97,-693.05\"/>\n",
       "<polygon fill=\"#000000\" stroke=\"#000000\" points=\"1568.82,-696.02 1575.23,-687.58 1564.96,-690.18 1568.82,-696.02\"/>\n",
       "</g>\n",
       "<!-- callgraphX__tile_3_3&#45;&gt;callgraphX__tile_4_3 -->\n",
       "<g id=\"edge127\" class=\"edge\">\n",
       "<title>callgraphX__tile_3_3&#45;&gt;callgraphX__tile_4_3</title>\n",
       "<path fill=\"none\" stroke=\"#000000\" d=\"M1295.35,-947.17C1321.13,-958.74 1352.64,-973.41 1378.67,-985.93\"/>\n",
       "<polygon fill=\"#000000\" stroke=\"#000000\" points=\"1376.84,-988.93 1387.36,-990.13 1379.88,-982.63 1376.84,-988.93\"/>\n",
       "</g>\n",
       "<!-- callgraphX__tile_3_4&#45;&gt;callgraphX__print_maze -->\n",
       "<g id=\"edge130\" class=\"edge\">\n",
       "<title>callgraphX__tile_3_4&#45;&gt;callgraphX__print_maze</title>\n",
       "<path fill=\"none\" stroke=\"#000000\" d=\"M1659.89,-641.83C1685.22,-630.72 1716.46,-616.21 1743.41,-601.33 1868.31,-532.36 1944.41,-551.54 2012.41,-426.09 2023.34,-405.92 2027.55,-391.71 2012.41,-374.48 1971.28,-327.68 1790.73,-365.08 1734.41,-338.48 1704.09,-324.16 1708.68,-303.19 1679.41,-286.86 1625.93,-257.01 1588.56,-295.27 1546.41,-250.86 1502.83,-204.94 1539.13,-170.7 1516.41,-111.62 1512.99,-102.73 1508.39,-93.59 1503.65,-85.2\"/>\n",
       "<polygon fill=\"#000000\" stroke=\"#000000\" points=\"1506.73,-83.53 1498.65,-76.69 1500.7,-87.08 1506.73,-83.53\"/>\n",
       "</g>\n",
       "<!-- callgraphX__tile_3_5&#45;&gt;callgraphX__print_maze -->\n",
       "<g id=\"edge131\" class=\"edge\">\n",
       "<title>callgraphX__tile_3_5&#45;&gt;callgraphX__print_maze</title>\n",
       "<path fill=\"none\" stroke=\"#000000\" d=\"M2007.76,-550.3C2041.19,-509.39 2097.6,-426.05 2052.41,-374.48 2012.22,-328.62 1832.49,-370.17 1780.41,-338.48 1756.51,-323.93 1767.6,-302.49 1744.41,-286.86 1684.68,-246.61 1637.03,-302.08 1586.41,-250.86 1541.91,-205.83 1589.54,-165.56 1556.41,-111.62 1548.86,-99.33 1537.92,-88.44 1526.72,-79.39\"/>\n",
       "<polygon fill=\"#000000\" stroke=\"#000000\" points=\"1529.01,-76.74 1518.94,-73.45 1524.76,-82.3 1529.01,-76.74\"/>\n",
       "</g>\n",
       "<!-- callgraphX__tile_3_6&#45;&gt;callgraphX__print_maze -->\n",
       "<g id=\"edge132\" class=\"edge\">\n",
       "<title>callgraphX__tile_3_6&#45;&gt;callgraphX__print_maze</title>\n",
       "<path fill=\"none\" stroke=\"#000000\" d=\"M1518.01,-288.99C1505.71,-278.91 1493.23,-265.9 1486.41,-250.86 1462.4,-197.9 1467.64,-128.68 1474.16,-87.1\"/>\n",
       "<polygon fill=\"#000000\" stroke=\"#000000\" points=\"1477.58,-87.82 1475.8,-77.38 1470.68,-86.66 1477.58,-87.82\"/>\n",
       "</g>\n",
       "<!-- callgraphX__tile_3_7&#45;&gt;callgraphX__print_maze -->\n",
       "<g id=\"edge134\" class=\"edge\">\n",
       "<title>callgraphX__tile_3_7&#45;&gt;callgraphX__print_maze</title>\n",
       "<path fill=\"none\" stroke=\"#000000\" d=\"M1825.73,-383.21C1763.24,-366.98 1675.64,-343.59 1669.41,-338.48 1649.55,-322.17 1663.37,-303.02 1643.41,-286.86 1594.48,-247.24 1547.87,-298.23 1506.41,-250.86 1485.7,-227.21 1481.74,-138.28 1481.23,-87.31\"/>\n",
       "<polygon fill=\"#000000\" stroke=\"#000000\" points=\"1484.73,-87.33 1481.17,-77.35 1477.73,-87.37 1484.73,-87.33\"/>\n",
       "</g>\n",
       "<!-- callgraphX__tile_3_7&#45;&gt;callgraphX__tile_2_7 -->\n",
       "<g id=\"edge135\" class=\"edge\">\n",
       "<title>callgraphX__tile_3_7&#45;&gt;callgraphX__tile_2_7</title>\n",
       "<path fill=\"none\" stroke=\"#000000\" d=\"M1828.82,-418.55C1775.7,-433.04 1697.8,-453.71 1640.45,-468.51\"/>\n",
       "<polygon fill=\"#000000\" stroke=\"#000000\" points=\"1639.9,-465.04 1631.09,-470.92 1641.65,-471.82 1639.9,-465.04\"/>\n",
       "</g>\n",
       "<!-- callgraphX__tile_3_7&#45;&gt;callgraphX__tile_3_6 -->\n",
       "<g id=\"edge133\" class=\"edge\">\n",
       "<title>callgraphX__tile_3_7&#45;&gt;callgraphX__tile_3_6</title>\n",
       "<path fill=\"none\" stroke=\"#000000\" d=\"M1825.94,-383.06C1814.78,-380.19 1803.25,-377.23 1792.41,-374.48 1728.47,-358.22 1712.34,-354.73 1648.41,-338.48 1641.12,-336.62 1633.53,-334.68 1625.94,-332.73\"/>\n",
       "<polygon fill=\"#000000\" stroke=\"#000000\" points=\"1626.89,-329.36 1616.34,-330.26 1625.15,-336.14 1626.89,-329.36\"/>\n",
       "</g>\n",
       "<!-- callgraphX__tile_3_7&#45;&gt;callgraphX__tile_3_7 -->\n",
       "<g id=\"edge138\" class=\"edge\">\n",
       "<title>callgraphX__tile_3_7&#45;&gt;callgraphX__tile_3_7</title>\n",
       "<path fill=\"none\" stroke=\"#000000\" d=\"M1953.09,-416.7C1973.08,-416.37 1988.78,-410.89 1988.78,-400.28 1988.78,-391.75 1978.62,-386.54 1964.23,-384.65\"/>\n",
       "<polygon fill=\"#000000\" stroke=\"#000000\" points=\"1964.82,-381.19 1954.6,-383.98 1964.33,-388.17 1964.82,-381.19\"/>\n",
       "</g>\n",
       "<!-- callgraphX__tile_3_7&#45;&gt;callgraphX__tile_3_8 -->\n",
       "<g id=\"edge136\" class=\"edge\">\n",
       "<title>callgraphX__tile_3_7&#45;&gt;callgraphX__tile_3_8</title>\n",
       "<path fill=\"none\" stroke=\"#000000\" d=\"M1824.7,-383.54C1809.29,-380.15 1792.82,-376.87 1777.41,-374.48 1665.04,-357.02 1341.22,-331.99 1181.58,-320.24\"/>\n",
       "<polygon fill=\"#000000\" stroke=\"#000000\" points=\"1182.12,-316.77 1171.89,-319.52 1181.61,-323.75 1182.12,-316.77\"/>\n",
       "</g>\n",
       "<!-- callgraphX__tile_3_7&#45;&gt;callgraphX__tile_4_7 -->\n",
       "<g id=\"edge137\" class=\"edge\">\n",
       "<title>callgraphX__tile_3_7&#45;&gt;callgraphX__tile_4_7</title>\n",
       "<path fill=\"none\" stroke=\"#000000\" d=\"M1931.93,-378.12C1959.66,-365.81 1995.93,-350.25 2026.6,-337.5\"/>\n",
       "<polygon fill=\"#000000\" stroke=\"#000000\" points=\"2027.89,-340.76 2035.79,-333.7 2025.22,-334.29 2027.89,-340.76\"/>\n",
       "</g>\n",
       "<!-- callgraphX__tile_3_8&#45;&gt;callgraphX__print_maze -->\n",
       "<g id=\"edge139\" class=\"edge\">\n",
       "<title>callgraphX__tile_3_8&#45;&gt;callgraphX__print_maze</title>\n",
       "<path fill=\"none\" stroke=\"#000000\" d=\"M1094.98,-286.6C1104.18,-243.66 1129.19,-156.33 1186.41,-111.62 1219.18,-86.01 1325.14,-68.74 1400.67,-59.34\"/>\n",
       "<polygon fill=\"#000000\" stroke=\"#000000\" points=\"1401.04,-62.83 1410.55,-58.14 1400.2,-55.88 1401.04,-62.83\"/>\n",
       "</g>\n",
       "<!-- callgraphX__tile_4_0&#45;&gt;callgraphX__print_maze -->\n",
       "<g id=\"edge140\" class=\"edge\">\n",
       "<title>callgraphX__tile_4_0&#45;&gt;callgraphX__print_maze</title>\n",
       "<path fill=\"none\" stroke=\"#000000\" d=\"M313.39,-1783.46C324.58,-1780.64 336.29,-1778.08 347.41,-1776.38 442.81,-1761.72 1127.13,-1779.42 1215.41,-1740.38 1244.9,-1727.33 1243.36,-1711.32 1266.41,-1688.76 1283.03,-1672.48 1291.44,-1672.08 1304.41,-1652.76 1318.12,-1632.33 1307.48,-1618.99 1324.41,-1601.14 1351.23,-1572.84 1381.11,-1596.41 1404.41,-1565.14 1434.52,-1524.71 1419.41,-1503.12 1419.41,-1452.71 1419.41,-1452.71 1419.41,-1452.71 1419.41,-1363.09 1419.41,-1297.03 1384.02,-1128.3 1344.41,-1075.43 1327.77,-1053.22 1310.48,-1061.29 1293.41,-1039.43 1278.27,-1020.03 1291.84,-1004.1 1273.41,-987.81 1224.3,-944.4 1170.7,-1003.5 1130.41,-951.81 1116.3,-933.71 1129.62,-923.12 1130.41,-900.19 1131.74,-861.18 1129.28,-850.95 1136.41,-812.57 1143.85,-772.51 1149.36,-763.2 1163.41,-724.95 1184.01,-668.84 1202.79,-659.54 1216.41,-601.33 1228.82,-548.26 1210.33,-153.34 1245.41,-111.62 1265.63,-87.57 1341.81,-70.96 1402.22,-61.25\"/>\n",
       "<polygon fill=\"#000000\" stroke=\"#000000\" points=\"1402.46,-64.76 1411.8,-59.75 1401.38,-57.84 1402.46,-64.76\"/>\n",
       "</g>\n",
       "<!-- callgraphX__tile_4_1&#45;&gt;callgraphX__print_maze -->\n",
       "<g id=\"edge143\" class=\"edge\">\n",
       "<title>callgraphX__tile_4_1&#45;&gt;callgraphX__print_maze</title>\n",
       "<path fill=\"none\" stroke=\"#000000\" d=\"M340.8,-1874.25C270.79,-1858.64 169.97,-1835.12 164.41,-1827.99 150.29,-1809.91 148.49,-1792.9 164.41,-1776.38 201.78,-1737.58 1081.93,-1756.27 1133.41,-1740.38 1174.55,-1727.67 1177.94,-1709.99 1215.41,-1688.76 1246.19,-1671.31 1263.12,-1679.39 1286.41,-1652.76 1302.4,-1634.47 1290.83,-1621.29 1304.41,-1601.14 1317.96,-1581.03 1330.75,-1584.46 1345.41,-1565.14 1378.91,-1520.98 1399.41,-1508.14 1399.41,-1452.71 1399.41,-1452.71 1399.41,-1452.71 1399.41,-1363.09 1399.41,-1296.56 1352.72,-1131.18 1316.41,-1075.43 1302.8,-1054.54 1287.92,-1059.69 1273.41,-1039.43 1259.08,-1019.43 1271.71,-1004.25 1253.41,-987.81 1207.53,-946.6 1156.93,-1000.74 1119.41,-951.81 1105.45,-933.6 1118.49,-923.11 1119.41,-900.19 1122.53,-821.81 1119.54,-800.57 1140.41,-724.95 1151.56,-684.53 1155.2,-674.08 1175.41,-637.33 1184.92,-620.04 1194.89,-619.96 1201.41,-601.33 1237.37,-498.46 1156.56,-194.42 1227.41,-111.62 1249.84,-85.4 1335.37,-68.86 1401.05,-59.76\"/>\n",
       "<polygon fill=\"#000000\" stroke=\"#000000\" points=\"1401.29,-63.26 1410.74,-58.46 1400.36,-56.33 1401.29,-63.26\"/>\n",
       "</g>\n",
       "<!-- callgraphX__tile_4_1&#45;&gt;callgraphX__tile_3_1 -->\n",
       "<g id=\"edge145\" class=\"edge\">\n",
       "<title>callgraphX__tile_4_1&#45;&gt;callgraphX__tile_3_1</title>\n",
       "<path fill=\"none\" stroke=\"#000000\" d=\"M413.61,-1915.85C414.1,-1923.33 414.26,-1931.68 414.09,-1939.74\"/>\n",
       "<polygon fill=\"#000000\" stroke=\"#000000\" points=\"410.6,-1939.55 413.68,-1949.69 417.59,-1939.84 410.6,-1939.55\"/>\n",
       "</g>\n",
       "<!-- callgraphX__tile_4_1&#45;&gt;callgraphX__tile_4_0 -->\n",
       "<g id=\"edge144\" class=\"edge\">\n",
       "<title>callgraphX__tile_4_1&#45;&gt;callgraphX__tile_4_0</title>\n",
       "<path fill=\"none\" stroke=\"#000000\" d=\"M368.26,-1866.76C348.84,-1855.81 325.17,-1842.48 304.53,-1830.86\"/>\n",
       "<polygon fill=\"#000000\" stroke=\"#000000\" points=\"306.43,-1827.91 296,-1826.05 303,-1834.01 306.43,-1827.91\"/>\n",
       "</g>\n",
       "<!-- callgraphX__tile_4_1&#45;&gt;callgraphX__tile_4_1 -->\n",
       "<g id=\"edge142\" class=\"edge\">\n",
       "<title>callgraphX__tile_4_1&#45;&gt;callgraphX__tile_4_1</title>\n",
       "<path fill=\"none\" stroke=\"#000000\" d=\"M472.09,-1906.22C492.08,-1905.89 507.78,-1900.41 507.78,-1889.8 507.78,-1881.27 497.62,-1876.06 483.23,-1874.17\"/>\n",
       "<polygon fill=\"#000000\" stroke=\"#000000\" points=\"483.82,-1870.71 473.6,-1873.5 483.33,-1877.69 483.82,-1870.71\"/>\n",
       "</g>\n",
       "<!-- callgraphX__tile_4_1&#45;&gt;callgraphX__tile_4_2 -->\n",
       "<g id=\"edge141\" class=\"edge\">\n",
       "<title>callgraphX__tile_4_1&#45;&gt;callgraphX__tile_4_2</title>\n",
       "<path fill=\"none\" stroke=\"#000000\" d=\"M335.93,-1876.62C263.71,-1863.58 161.12,-1842.79 149.41,-1827.99 135.17,-1810.01 133.51,-1792.91 149.41,-1776.38 219.77,-1703.19 985.83,-1807.03 1062.41,-1740.38 1109.83,-1699.09 1054.63,-1654.79 1087.41,-1601.14 1134.61,-1523.85 1209.24,-1558.69 1249.41,-1477.52 1259.58,-1456.96 1261.72,-1445.26 1249.41,-1425.9 1229.12,-1394.03 1192.69,-1421.77 1172.41,-1389.9 1160.09,-1370.55 1167.73,-1360.74 1172.41,-1338.28 1185.03,-1277.7 1297.71,-1127.59 1264.41,-1075.43 1235.6,-1030.3 1096.88,-977.58 1011.82,-948.69\"/>\n",
       "<polygon fill=\"#000000\" stroke=\"#000000\" points=\"1012.99,-945.39 1002.39,-945.51 1010.75,-952.02 1012.99,-945.39\"/>\n",
       "</g>\n",
       "<!-- callgraphX__tile_4_1&#45;&gt;callgraphX__tile_5_1 -->\n",
       "<g id=\"edge146\" class=\"edge\">\n",
       "<title>callgraphX__tile_4_1&#45;&gt;callgraphX__tile_5_1</title>\n",
       "<path fill=\"none\" stroke=\"#000000\" d=\"M410.32,-1863.58C412.68,-1855.67 415.75,-1846.79 419.03,-1838.33\"/>\n",
       "<polygon fill=\"#000000\" stroke=\"#000000\" points=\"422.16,-1839.92 422.69,-1829.34 415.68,-1837.28 422.16,-1839.92\"/>\n",
       "</g>\n",
       "<!-- callgraphX__tile_4_2&#45;&gt;callgraphX__print_maze -->\n",
       "<g id=\"edge147\" class=\"edge\">\n",
       "<title>callgraphX__tile_4_2&#45;&gt;callgraphX__print_maze</title>\n",
       "<path fill=\"none\" stroke=\"#000000\" d=\"M933.15,-900.04C919.24,-866.88 897.41,-806.14 897.41,-751.76 897.41,-751.76 897.41,-751.76 897.41,-574.52 897.41,-524.36 903.6,-509.57 887.41,-462.09 881.28,-444.12 870.93,-443.93 864.41,-426.09 847.09,-378.75 849.41,-364.08 849.41,-313.67 849.41,-313.67 849.41,-313.67 849.41,-224.05 849.41,-173.64 828.15,-146.65 864.41,-111.62 901.99,-75.31 1237.66,-59.09 1397.5,-53.38\"/>\n",
       "<polygon fill=\"#000000\" stroke=\"#000000\" points=\"1397.32,-56.89 1407.19,-53.04 1397.07,-49.89 1397.32,-56.89\"/>\n",
       "</g>\n",
       "<!-- callgraphX__tile_4_3&#45;&gt;callgraphX__print_maze -->\n",
       "<g id=\"edge150\" class=\"edge\">\n",
       "<title>callgraphX__tile_4_3&#45;&gt;callgraphX__print_maze</title>\n",
       "<path fill=\"none\" stroke=\"#000000\" d=\"M1486.41,-994.58C1506.48,-985.18 1526.89,-971.43 1538.41,-951.81 1550.02,-932.02 1552.38,-918.38 1538.41,-900.19 1500.57,-850.95 1455.85,-897.44 1403.41,-864.19 1392.64,-857.36 1335.28,-787.88 1329.41,-776.57 1246.57,-617.07 1279.58,-554.07 1286.41,-374.48 1288.63,-315.94 1270.67,-158.04 1306.41,-111.62 1328.72,-82.64 1365.73,-67.41 1399.98,-59.43\"/>\n",
       "<polygon fill=\"#000000\" stroke=\"#000000\" points=\"1400.45,-62.91 1409.5,-57.4 1398.99,-56.06 1400.45,-62.91\"/>\n",
       "</g>\n",
       "<!-- callgraphX__tile_4_3&#45;&gt;callgraphX__tile_3_3 -->\n",
       "<g id=\"edge153\" class=\"edge\">\n",
       "<title>callgraphX__tile_4_3&#45;&gt;callgraphX__tile_3_3</title>\n",
       "<path fill=\"none\" stroke=\"#000000\" d=\"M1380.68,-992.54C1354.82,-980.94 1323.14,-966.19 1297.01,-953.62\"/>\n",
       "<polygon fill=\"#000000\" stroke=\"#000000\" points=\"1298.81,-950.61 1288.29,-949.4 1295.77,-956.91 1298.81,-950.61\"/>\n",
       "</g>\n",
       "<!-- callgraphX__tile_4_3&#45;&gt;callgraphX__tile_4_2 -->\n",
       "<g id=\"edge148\" class=\"edge\">\n",
       "<title>callgraphX__tile_4_3&#45;&gt;callgraphX__tile_4_2</title>\n",
       "<path fill=\"none\" stroke=\"#000000\" d=\"M1358.36,-1000.07C1270,-984.48 1119.44,-957.9 1026.31,-941.46\"/>\n",
       "<polygon fill=\"#000000\" stroke=\"#000000\" points=\"1027.19,-938.06 1016.73,-939.77 1025.97,-944.95 1027.19,-938.06\"/>\n",
       "</g>\n",
       "<!-- callgraphX__tile_4_3&#45;&gt;callgraphX__tile_4_3 -->\n",
       "<g id=\"edge152\" class=\"edge\">\n",
       "<title>callgraphX__tile_4_3&#45;&gt;callgraphX__tile_4_3</title>\n",
       "<path fill=\"none\" stroke=\"#000000\" d=\"M1494.09,-1030.03C1514.08,-1029.7 1529.78,-1024.23 1529.78,-1013.62 1529.78,-1005.08 1519.62,-999.87 1505.23,-997.99\"/>\n",
       "<polygon fill=\"#000000\" stroke=\"#000000\" points=\"1505.82,-994.52 1495.6,-997.31 1505.33,-1001.5 1505.82,-994.52\"/>\n",
       "</g>\n",
       "<!-- callgraphX__tile_4_3&#45;&gt;callgraphX__tile_4_4 -->\n",
       "<g id=\"edge151\" class=\"edge\">\n",
       "<title>callgraphX__tile_4_3&#45;&gt;callgraphX__tile_4_4</title>\n",
       "<path fill=\"none\" stroke=\"#000000\" d=\"M1504.49,-1024.38C1620.41,-1040.02 1842.06,-1070.66 1963.6,-1087.82\"/>\n",
       "<polygon fill=\"#000000\" stroke=\"#000000\" points=\"1962.79,-1091.24 1973.18,-1089.18 1963.77,-1084.31 1962.79,-1091.24\"/>\n",
       "</g>\n",
       "<!-- callgraphX__tile_4_3&#45;&gt;callgraphX__tile_5_3 -->\n",
       "<g id=\"edge149\" class=\"edge\">\n",
       "<title>callgraphX__tile_4_3&#45;&gt;callgraphX__tile_5_3</title>\n",
       "<path fill=\"none\" stroke=\"#000000\" d=\"M1434.71,-987.39C1436.3,-979.81 1438.08,-971.35 1439.79,-963.21\"/>\n",
       "<polygon fill=\"#000000\" stroke=\"#000000\" points=\"1443.2,-964.03 1441.83,-953.52 1436.35,-962.59 1443.2,-964.03\"/>\n",
       "</g>\n",
       "<!-- callgraphX__tile_4_4&#45;&gt;callgraphX__print_maze -->\n",
       "<g id=\"edge156\" class=\"edge\">\n",
       "<title>callgraphX__tile_4_4&#45;&gt;callgraphX__print_maze</title>\n",
       "<path fill=\"none\" stroke=\"#000000\" d=\"M2089.77,-1078.46C2136.88,-1050.33 2207.41,-996.6 2207.41,-927 2207.41,-927 2207.41,-927 2207.41,-399.28 2207.41,-310.36 2260.52,-268.22 2204.41,-199.24 2158.14,-142.36 2100.15,-209.67 2043.41,-163.24 2023.97,-147.33 2040.67,-126.46 2020.41,-111.62 1949.99,-60.06 1699,-51.29 1565.82,-50.37\"/>\n",
       "<polygon fill=\"#000000\" stroke=\"#000000\" points=\"1566.01,-46.87 1555.99,-50.31 1565.98,-53.87 1566.01,-46.87\"/>\n",
       "</g>\n",
       "<!-- callgraphX__tile_4_4&#45;&gt;callgraphX__tile_3_4 -->\n",
       "<g id=\"edge159\" class=\"edge\">\n",
       "<title>callgraphX__tile_4_4&#45;&gt;callgraphX__tile_3_4</title>\n",
       "<path fill=\"none\" stroke=\"#000000\" d=\"M2048.41,-1074.99C2048.41,-1041.26 2048.41,-979.63 2048.41,-927 2048.41,-927 2048.41,-927 2048.41,-837.38 2048.41,-670.46 1866.5,-724.51 1703.41,-688.95 1696.51,-687.45 1689.36,-685.76 1682.23,-683.98\"/>\n",
       "<polygon fill=\"#000000\" stroke=\"#000000\" points=\"1683.1,-680.59 1672.55,-681.51 1681.37,-687.38 1683.1,-680.59\"/>\n",
       "</g>\n",
       "<!-- callgraphX__tile_4_4&#45;&gt;callgraphX__tile_4_3 -->\n",
       "<g id=\"edge158\" class=\"edge\">\n",
       "<title>callgraphX__tile_4_4&#45;&gt;callgraphX__tile_4_3</title>\n",
       "<path fill=\"none\" stroke=\"#000000\" d=\"M1972.91,-1090.41C1856.88,-1074.76 1635.62,-1044.18 1514.22,-1027.03\"/>\n",
       "<polygon fill=\"#000000\" stroke=\"#000000\" points=\"1515.04,-1023.61 1504.65,-1025.68 1514.06,-1030.54 1515.04,-1023.61\"/>\n",
       "</g>\n",
       "<!-- callgraphX__tile_4_4&#45;&gt;callgraphX__tile_4_4 -->\n",
       "<g id=\"edge157\" class=\"edge\">\n",
       "<title>callgraphX__tile_4_4&#45;&gt;callgraphX__tile_4_4</title>\n",
       "<path fill=\"none\" stroke=\"#000000\" d=\"M2113.09,-1117.65C2133.08,-1117.32 2148.78,-1111.85 2148.78,-1101.23 2148.78,-1092.7 2138.62,-1087.49 2124.23,-1085.6\"/>\n",
       "<polygon fill=\"#000000\" stroke=\"#000000\" points=\"2124.82,-1082.14 2114.6,-1084.93 2124.33,-1089.12 2124.82,-1082.14\"/>\n",
       "</g>\n",
       "<!-- callgraphX__tile_4_4&#45;&gt;callgraphX__tile_4_5 -->\n",
       "<g id=\"edge155\" class=\"edge\">\n",
       "<title>callgraphX__tile_4_4&#45;&gt;callgraphX__tile_4_5</title>\n",
       "<path fill=\"none\" stroke=\"#000000\" d=\"M2076.44,-1125.72C2085.59,-1134.81 2095.62,-1145.37 2104.45,-1155.18\"/>\n",
       "<polygon fill=\"#000000\" stroke=\"#000000\" points=\"2101.6,-1157.24 2110.85,-1162.41 2106.85,-1152.6 2101.6,-1157.24\"/>\n",
       "</g>\n",
       "<!-- callgraphX__tile_4_4&#45;&gt;callgraphX__tile_5_4 -->\n",
       "<g id=\"edge154\" class=\"edge\">\n",
       "<title>callgraphX__tile_4_4&#45;&gt;callgraphX__tile_5_4</title>\n",
       "<path fill=\"none\" stroke=\"#000000\" d=\"M2011.36,-1077.74C1993.79,-1067.07 1972.62,-1054.21 1953.98,-1042.89\"/>\n",
       "<polygon fill=\"#000000\" stroke=\"#000000\" points=\"1955.86,-1039.95 1945.5,-1037.75 1952.23,-1045.93 1955.86,-1039.95\"/>\n",
       "</g>\n",
       "<!-- callgraphX__tile_4_5&#45;&gt;callgraphX__print_maze -->\n",
       "<g id=\"edge162\" class=\"edge\">\n",
       "<title>callgraphX__tile_4_5&#45;&gt;callgraphX__print_maze</title>\n",
       "<path fill=\"none\" stroke=\"#000000\" d=\"M2144.89,-1163.28C2151.47,-1152.54 2158.61,-1139.55 2163.41,-1127.04 2181.71,-1079.34 2187.41,-1065.71 2187.41,-1014.62 2187.41,-1014.62 2187.41,-1014.62 2187.41,-486.9 2187.41,-436.49 2208.05,-410.12 2172.41,-374.48 2086.8,-288.88 2003.11,-405.67 1902.41,-338.48 1880.33,-323.75 1893.86,-302.47 1872.41,-286.86 1811.36,-242.44 1759.75,-304.27 1706.41,-250.86 1661.67,-206.06 1719.11,-158.35 1676.41,-111.62 1647.71,-80.22 1603.1,-64.89 1563.79,-57.47\"/>\n",
       "<polygon fill=\"#000000\" stroke=\"#000000\" points=\"1564.53,-54.05 1554.08,-55.8 1563.34,-60.95 1564.53,-54.05\"/>\n",
       "</g>\n",
       "<!-- callgraphX__tile_4_5&#45;&gt;callgraphX__tile_3_5 -->\n",
       "<g id=\"edge163\" class=\"edge\">\n",
       "<title>callgraphX__tile_4_5&#45;&gt;callgraphX__tile_3_5</title>\n",
       "<path fill=\"none\" stroke=\"#000000\" d=\"M2143.33,-1163.03C2148.92,-1152.35 2154.59,-1139.48 2157.41,-1127.04 2162.47,-1104.67 2161.7,-1097.96 2157.41,-1075.43 2125.84,-909.84 2119.37,-855.24 2012.41,-724.95 1995.26,-704.06 1975.61,-713.06 1963.41,-688.95 1951.21,-664.86 1958.38,-634.76 1967.82,-611.77\"/>\n",
       "<polygon fill=\"#000000\" stroke=\"#000000\" points=\"1970.94,-613.38 1971.8,-602.82 1964.54,-610.54 1970.94,-613.38\"/>\n",
       "</g>\n",
       "<!-- callgraphX__tile_4_5&#45;&gt;callgraphX__tile_4_4 -->\n",
       "<g id=\"edge164\" class=\"edge\">\n",
       "<title>callgraphX__tile_4_5&#45;&gt;callgraphX__tile_4_4</title>\n",
       "<path fill=\"none\" stroke=\"#000000\" d=\"M2100.45,-1164.46C2091.35,-1155.42 2081.37,-1144.92 2072.57,-1135.14\"/>\n",
       "<polygon fill=\"#000000\" stroke=\"#000000\" points=\"2075.44,-1133.1 2066.19,-1127.93 2070.19,-1137.74 2075.44,-1133.1\"/>\n",
       "</g>\n",
       "<!-- callgraphX__tile_4_5&#45;&gt;callgraphX__tile_4_5 -->\n",
       "<g id=\"edge161\" class=\"edge\">\n",
       "<title>callgraphX__tile_4_5&#45;&gt;callgraphX__tile_4_5</title>\n",
       "<path fill=\"none\" stroke=\"#000000\" d=\"M2193.09,-1205.27C2213.08,-1204.93 2228.78,-1199.46 2228.78,-1188.85 2228.78,-1180.32 2218.62,-1175.11 2204.23,-1173.22\"/>\n",
       "<polygon fill=\"#000000\" stroke=\"#000000\" points=\"2204.82,-1169.76 2194.6,-1172.55 2204.33,-1176.74 2204.82,-1169.76\"/>\n",
       "</g>\n",
       "<!-- callgraphX__tile_4_5&#45;&gt;callgraphX__tile_4_6 -->\n",
       "<g id=\"edge160\" class=\"edge\">\n",
       "<title>callgraphX__tile_4_5&#45;&gt;callgraphX__tile_4_6</title>\n",
       "<path fill=\"none\" stroke=\"#000000\" d=\"M2159.08,-1164.47C2170.91,-1154.12 2183.66,-1141.1 2192.41,-1127.04 2220.04,-1082.6 2227.41,-1066.95 2227.41,-1014.62 2227.41,-1014.62 2227.41,-1014.62 2227.41,-399.28 2227.41,-344.27 2265.5,-290.85 2294.43,-258.21\"/>\n",
       "<polygon fill=\"#000000\" stroke=\"#000000\" points=\"2296.77,-260.84 2300.92,-251.09 2291.59,-256.13 2296.77,-260.84\"/>\n",
       "</g>\n",
       "<!-- callgraphX__tile_4_5&#45;&gt;callgraphX__tile_5_5 -->\n",
       "<g id=\"edge165\" class=\"edge\">\n",
       "<title>callgraphX__tile_4_5&#45;&gt;callgraphX__tile_5_5</title>\n",
       "<path fill=\"none\" stroke=\"#000000\" d=\"M2134.61,-1214.9C2135.1,-1222.37 2135.26,-1230.73 2135.09,-1238.79\"/>\n",
       "<polygon fill=\"#000000\" stroke=\"#000000\" points=\"2131.6,-1238.6 2134.68,-1248.73 2138.59,-1238.89 2131.6,-1238.6\"/>\n",
       "</g>\n",
       "<!-- callgraphX__tile_4_6&#45;&gt;callgraphX__print_maze -->\n",
       "<g id=\"edge166\" class=\"edge\">\n",
       "<title>callgraphX__tile_4_6&#45;&gt;callgraphX__print_maze</title>\n",
       "<path fill=\"none\" stroke=\"#000000\" d=\"M2369.6,-202.89C2384.74,-193.08 2400.04,-179.86 2408.41,-163.24 2418.72,-142.75 2424.09,-128.36 2408.41,-111.62 2379.81,-81.08 1788.45,-60.1 1565.48,-53.24\"/>\n",
       "<polygon fill=\"#000000\" stroke=\"#000000\" points=\"1565.81,-49.75 1555.7,-52.94 1565.59,-56.75 1565.81,-49.75\"/>\n",
       "</g>\n",
       "<!-- callgraphX__tile_4_7&#45;&gt;callgraphX__print_maze -->\n",
       "<g id=\"edge169\" class=\"edge\">\n",
       "<title>callgraphX__tile_4_7&#45;&gt;callgraphX__print_maze</title>\n",
       "<path fill=\"none\" stroke=\"#000000\" d=\"M2026.54,-295.24C2015.21,-292.35 2003.47,-289.45 1992.41,-286.86 1916.79,-269.14 1879.13,-302.81 1821.41,-250.86 1797.24,-229.1 1800.62,-133.32 1776.41,-111.62 1745.41,-83.84 1638.92,-67.1 1562.79,-58.41\"/>\n",
       "<polygon fill=\"#000000\" stroke=\"#000000\" points=\"1563.62,-54.98 1553.29,-57.35 1562.85,-61.93 1563.62,-54.98\"/>\n",
       "</g>\n",
       "<!-- callgraphX__tile_4_7&#45;&gt;callgraphX__tile_3_7 -->\n",
       "<g id=\"edge172\" class=\"edge\">\n",
       "<title>callgraphX__tile_4_7&#45;&gt;callgraphX__tile_3_7</title>\n",
       "<path fill=\"none\" stroke=\"#000000\" d=\"M2044.69,-334.92C2017.03,-347.2 1980.94,-362.68 1950.37,-375.38\"/>\n",
       "<polygon fill=\"#000000\" stroke=\"#000000\" points=\"1949.11,-372.11 1941.21,-379.17 1951.79,-378.58 1949.11,-372.11\"/>\n",
       "</g>\n",
       "<!-- callgraphX__tile_4_7&#45;&gt;callgraphX__tile_4_6 -->\n",
       "<g id=\"edge167\" class=\"edge\">\n",
       "<title>callgraphX__tile_4_7&#45;&gt;callgraphX__tile_4_6</title>\n",
       "<path fill=\"none\" stroke=\"#000000\" d=\"M2141.52,-292.56C2177.46,-279.63 2225.11,-262.49 2263.03,-248.85\"/>\n",
       "<polygon fill=\"#000000\" stroke=\"#000000\" points=\"2263.8,-252.29 2272.03,-245.61 2261.43,-245.7 2263.8,-252.29\"/>\n",
       "</g>\n",
       "<!-- callgraphX__tile_4_7&#45;&gt;callgraphX__tile_4_7 -->\n",
       "<g id=\"edge171\" class=\"edge\">\n",
       "<title>callgraphX__tile_4_7&#45;&gt;callgraphX__tile_4_7</title>\n",
       "<path fill=\"none\" stroke=\"#000000\" d=\"M2153.09,-329.08C2173.08,-328.75 2188.78,-323.28 2188.78,-312.67 2188.78,-304.13 2178.62,-298.92 2164.23,-297.04\"/>\n",
       "<polygon fill=\"#000000\" stroke=\"#000000\" points=\"2164.82,-293.57 2154.6,-296.36 2164.33,-300.55 2164.82,-293.57\"/>\n",
       "</g>\n",
       "<!-- callgraphX__tile_4_7&#45;&gt;callgraphX__tile_4_8 -->\n",
       "<g id=\"edge170\" class=\"edge\">\n",
       "<title>callgraphX__tile_4_7&#45;&gt;callgraphX__tile_4_8</title>\n",
       "<path fill=\"none\" stroke=\"#000000\" d=\"M2044.9,-290.5C2021.1,-278.92 1991.41,-264.48 1966.17,-252.2\"/>\n",
       "<polygon fill=\"#000000\" stroke=\"#000000\" points=\"1967.91,-249.15 1957.38,-247.93 1964.84,-255.45 1967.91,-249.15\"/>\n",
       "</g>\n",
       "<!-- callgraphX__tile_4_7&#45;&gt;callgraphX__tile_5_7 -->\n",
       "<g id=\"edge168\" class=\"edge\">\n",
       "<title>callgraphX__tile_4_7&#45;&gt;callgraphX__tile_5_7</title>\n",
       "<path fill=\"none\" stroke=\"#000000\" d=\"M2084.25,-286.44C2084.39,-278.86 2084.92,-270.4 2085.77,-262.26\"/>\n",
       "<polygon fill=\"#000000\" stroke=\"#000000\" points=\"2089.21,-262.95 2086.97,-252.59 2082.26,-262.09 2089.21,-262.95\"/>\n",
       "</g>\n",
       "<!-- callgraphX__tile_4_8&#45;&gt;callgraphX__print_maze -->\n",
       "<g id=\"edge173\" class=\"edge\">\n",
       "<title>callgraphX__tile_4_8&#45;&gt;callgraphX__print_maze</title>\n",
       "<path fill=\"none\" stroke=\"#000000\" d=\"M1870.76,-202.65C1853.86,-192.45 1835.13,-179 1821.41,-163.24 1804.67,-144.01 1816.62,-127.15 1796.41,-111.62 1760.61,-84.11 1643.81,-67.05 1562.97,-58.24\"/>\n",
       "<polygon fill=\"#000000\" stroke=\"#000000\" points=\"1563.64,-54.8 1553.32,-57.22 1562.89,-61.76 1563.64,-54.8\"/>\n",
       "</g>\n",
       "<!-- callgraphX__tile_5_0&#45;&gt;callgraphX__print_maze -->\n",
       "<g id=\"edge174\" class=\"edge\">\n",
       "<title>callgraphX__tile_5_0&#45;&gt;callgraphX__print_maze</title>\n",
       "<path fill=\"none\" stroke=\"#000000\" d=\"M1584.59,-1688.33C1586.07,-1654.6 1588.41,-1592.98 1588.41,-1540.33 1588.41,-1540.33 1588.41,-1540.33 1588.41,-1275.47 1588.41,-1233.77 1613.07,-932.25 1586.41,-900.19 1552.71,-859.66 1512.16,-899.91 1473.41,-864.19 1434.3,-828.14 1351.41,-454.47 1351.41,-401.28 1351.41,-401.28 1351.41,-401.28 1351.41,-224.05 1351.41,-173.75 1335.87,-153.04 1364.41,-111.62 1376.74,-93.72 1396.01,-80.74 1415.39,-71.48\"/>\n",
       "<polygon fill=\"#000000\" stroke=\"#000000\" points=\"1416.71,-74.72 1424.42,-67.46 1413.86,-68.33 1416.71,-74.72\"/>\n",
       "</g>\n",
       "<!-- callgraphX__tile_5_1&#45;&gt;callgraphX__print_maze -->\n",
       "<g id=\"edge177\" class=\"edge\">\n",
       "<title>callgraphX__tile_5_1&#45;&gt;callgraphX__print_maze</title>\n",
       "<path fill=\"none\" stroke=\"#000000\" d=\"M501.45,-1785.28C517.34,-1781.81 534.42,-1778.53 550.41,-1776.38 629.35,-1765.72 1200,-1784.36 1266.41,-1740.38 1287.66,-1726.3 1276.26,-1709.26 1291.41,-1688.76 1339.37,-1623.86 1384.47,-1635.26 1424.41,-1565.14 1498.78,-1434.56 1638.85,-1019.44 1547.41,-900.19 1509.88,-851.25 1459.7,-904.93 1413.41,-864.19 1381.8,-836.37 1390.57,-816.56 1377.41,-776.57 1328.18,-626.99 1339.72,-582.91 1325.41,-426.09 1319.06,-356.5 1282.96,-167.89 1324.41,-111.62 1343.09,-86.26 1373.86,-71.47 1403.24,-62.85\"/>\n",
       "<polygon fill=\"#000000\" stroke=\"#000000\" points=\"1403.77,-66.33 1412.51,-60.34 1401.94,-59.58 1403.77,-66.33\"/>\n",
       "</g>\n",
       "<!-- callgraphX__tile_5_1&#45;&gt;callgraphX__tile_4_1 -->\n",
       "<g id=\"edge176\" class=\"edge\">\n",
       "<title>callgraphX__tile_5_1&#45;&gt;callgraphX__tile_4_1</title>\n",
       "<path fill=\"none\" stroke=\"#000000\" d=\"M435.55,-1828.19C433.2,-1836.13 430.12,-1845.06 426.82,-1853.58\"/>\n",
       "<polygon fill=\"#000000\" stroke=\"#000000\" points=\"423.66,-1852.06 423.13,-1862.64 430.14,-1854.69 423.66,-1852.06\"/>\n",
       "</g>\n",
       "<!-- callgraphX__tile_5_1&#45;&gt;callgraphX__tile_5_0 -->\n",
       "<g id=\"edge175\" class=\"edge\">\n",
       "<title>callgraphX__tile_5_1&#45;&gt;callgraphX__tile_5_0</title>\n",
       "<path fill=\"none\" stroke=\"#000000\" d=\"M501.68,-1785.35C518.1,-1781.81 535.83,-1778.48 552.41,-1776.38 966.72,-1723.77 1078.51,-1803.14 1491.41,-1740.38 1498.88,-1739.24 1506.61,-1737.72 1514.28,-1735.99\"/>\n",
       "<polygon fill=\"#000000\" stroke=\"#000000\" points=\"1515.04,-1739.4 1523.95,-1733.67 1513.41,-1732.6 1515.04,-1739.4\"/>\n",
       "</g>\n",
       "<!-- callgraphX__tile_5_1&#45;&gt;callgraphX__tile_5_1 -->\n",
       "<g id=\"edge180\" class=\"edge\">\n",
       "<title>callgraphX__tile_5_1&#45;&gt;callgraphX__tile_5_1</title>\n",
       "<path fill=\"none\" stroke=\"#000000\" d=\"M503.09,-1818.6C523.08,-1818.27 538.78,-1812.8 538.78,-1802.19 538.78,-1793.65 528.62,-1788.44 514.23,-1786.56\"/>\n",
       "<polygon fill=\"#000000\" stroke=\"#000000\" points=\"514.82,-1783.09 504.6,-1785.88 514.33,-1790.07 514.82,-1783.09\"/>\n",
       "</g>\n",
       "<!-- callgraphX__tile_5_1&#45;&gt;callgraphX__tile_5_2 -->\n",
       "<g id=\"edge179\" class=\"edge\">\n",
       "<title>callgraphX__tile_5_1&#45;&gt;callgraphX__tile_5_2</title>\n",
       "<path fill=\"none\" stroke=\"#000000\" d=\"M494.39,-1782.86C504.29,-1780.25 514.58,-1777.92 524.41,-1776.38 650.69,-1756.5 1562.41,-1802.02 1674.41,-1740.38 1698.69,-1727.01 1686.02,-1703.64 1709.41,-1688.76 1794.84,-1634.38 1858.49,-1719.79 1934.41,-1652.76 1952.31,-1636.94 1931.78,-1617.26 1949.41,-1601.14 1980.96,-1572.28 2089.07,-1556.02 2168.78,-1547.71\"/>\n",
       "<polygon fill=\"#000000\" stroke=\"#000000\" points=\"2168.72,-1551.24 2178.32,-1546.75 2168.02,-1544.27 2168.72,-1551.24\"/>\n",
       "</g>\n",
       "<!-- callgraphX__tile_5_1&#45;&gt;callgraphX__tile_6_1 -->\n",
       "<g id=\"edge178\" class=\"edge\">\n",
       "<title>callgraphX__tile_5_1&#45;&gt;callgraphX__tile_6_1</title>\n",
       "<path fill=\"none\" stroke=\"#000000\" d=\"M498.62,-1784.25C513.18,-1781.17 528.75,-1778.32 543.41,-1776.38 867.19,-1733.5 954.51,-1789.49 1277.41,-1740.38 1287.47,-1738.85 1298,-1736.7 1308.36,-1734.3\"/>\n",
       "<polygon fill=\"#000000\" stroke=\"#000000\" points=\"1309.13,-1737.72 1318.04,-1731.98 1307.5,-1730.91 1309.13,-1737.72\"/>\n",
       "</g>\n",
       "<!-- callgraphX__tile_5_2&#45;&gt;callgraphX__print_maze -->\n",
       "<g id=\"edge181\" class=\"edge\">\n",
       "<title>callgraphX__tile_5_2&#45;&gt;callgraphX__print_maze</title>\n",
       "<path fill=\"none\" stroke=\"#000000\" d=\"M2259.97,-1513.29C2261.79,-1430.01 2267.41,-1154.67 2267.41,-927 2267.41,-927 2267.41,-927 2267.41,-574.52 2267.41,-478.77 2263.04,-433.21 2187.41,-374.48 2090.05,-298.87 2009.36,-414.6 1912.41,-338.48 1893.06,-323.28 1911.13,-302.82 1892.41,-286.86 1834.3,-237.31 1779.34,-303.89 1724.41,-250.86 1678.5,-206.54 1733.66,-157.59 1689.41,-111.62 1657.13,-78.09 1607.49,-62.77 1564.79,-55.88\"/>\n",
       "<polygon fill=\"#000000\" stroke=\"#000000\" points=\"1565.43,-52.44 1555.02,-54.45 1564.41,-59.36 1565.43,-52.44\"/>\n",
       "</g>\n",
       "<!-- callgraphX__tile_5_3&#45;&gt;callgraphX__print_maze -->\n",
       "<g id=\"edge182\" class=\"edge\">\n",
       "<title>callgraphX__tile_5_3&#45;&gt;callgraphX__print_maze</title>\n",
       "<path fill=\"none\" stroke=\"#000000\" d=\"M1408.55,-903.11C1392.77,-892.82 1375.27,-879.45 1362.41,-864.19 1345.98,-844.7 1352.46,-833.14 1337.41,-812.57 1323.67,-793.79 1310.15,-797.21 1299.41,-776.57 1258.02,-697.04 1263,-464.07 1266.41,-374.48 1268.63,-315.94 1249.93,-157.46 1286.41,-111.62 1313.15,-78.01 1358.24,-62.6 1398.32,-55.68\"/>\n",
       "<polygon fill=\"#000000\" stroke=\"#000000\" points=\"1398.64,-59.17 1407.98,-54.18 1397.56,-52.25 1398.64,-59.17\"/>\n",
       "</g>\n",
       "<!-- callgraphX__tile_5_4&#45;&gt;callgraphX__print_maze -->\n",
       "<g id=\"edge183\" class=\"edge\">\n",
       "<title>callgraphX__tile_5_4&#45;&gt;callgraphX__print_maze</title>\n",
       "<path fill=\"none\" stroke=\"#000000\" d=\"M1918.42,-987.63C1932.03,-954.45 1953.41,-893.68 1953.41,-839.38 1953.41,-839.38 1953.41,-839.38 1953.41,-749.76 1953.41,-699.59 1931.49,-676.04 1963.41,-637.33 2000.19,-592.73 2051.07,-645.47 2088.41,-601.33 2120.98,-562.82 2118.11,-409.07 2081.41,-374.48 1993.31,-291.44 1907.76,-411.76 1811.41,-338.48 1791.56,-323.38 1808.63,-302.74 1789.41,-286.86 1731.22,-238.76 1679.03,-301.89 1623.41,-250.86 1599.54,-228.96 1600.25,-137.21 1580.41,-111.62 1569.04,-96.97 1553.07,-85 1537.27,-75.67\"/>\n",
       "<polygon fill=\"#000000\" stroke=\"#000000\" points=\"1539.26,-72.77 1528.82,-70.95 1535.84,-78.88 1539.26,-72.77\"/>\n",
       "</g>\n",
       "<!-- callgraphX__tile_5_5&#45;&gt;callgraphX__print_maze -->\n",
       "<g id=\"edge186\" class=\"edge\">\n",
       "<title>callgraphX__tile_5_5&#45;&gt;callgraphX__print_maze</title>\n",
       "<path fill=\"none\" stroke=\"#000000\" d=\"M2085.36,-1254.13C2022.51,-1219.89 1917.23,-1149.01 1957.41,-1075.43 1971.58,-1049.46 1992.02,-1059.88 2013.41,-1039.43 2082.35,-973.48 2103.81,-953.49 2137.41,-864.19 2182.67,-743.88 2167.41,-705.07 2167.41,-576.52 2167.41,-576.52 2167.41,-576.52 2167.41,-486.9 2167.41,-461.7 2170.27,-392.26 2152.41,-374.48 2063.48,-285.97 1971.18,-415.85 1872.41,-338.48 1853.04,-323.3 1871.14,-302.81 1852.41,-286.86 1793.94,-237.06 1737.21,-305.66 1683.41,-250.86 1639.24,-205.88 1697.68,-159.26 1656.41,-111.62 1632.46,-83.98 1595.27,-68.9 1561.31,-60.67\"/>\n",
       "<polygon fill=\"#000000\" stroke=\"#000000\" points=\"1562.43,-57.33 1551.9,-58.56 1560.9,-64.16 1562.43,-57.33\"/>\n",
       "</g>\n",
       "<!-- callgraphX__tile_5_5&#45;&gt;callgraphX__tile_4_5 -->\n",
       "<g id=\"edge185\" class=\"edge\">\n",
       "<title>callgraphX__tile_5_5&#45;&gt;callgraphX__tile_4_5</title>\n",
       "<path fill=\"none\" stroke=\"#000000\" d=\"M2122.19,-1250.25C2121.71,-1242.76 2121.55,-1234.4 2121.72,-1226.34\"/>\n",
       "<polygon fill=\"#000000\" stroke=\"#000000\" points=\"2125.22,-1226.55 2122.14,-1216.41 2118.22,-1226.26 2125.22,-1226.55\"/>\n",
       "</g>\n",
       "<!-- callgraphX__tile_5_5&#45;&gt;callgraphX__tile_5_4 -->\n",
       "<g id=\"edge184\" class=\"edge\">\n",
       "<title>callgraphX__tile_5_5&#45;&gt;callgraphX__tile_5_4</title>\n",
       "<path fill=\"none\" stroke=\"#000000\" d=\"M2049.77,-1268.4C2012,-1260.89 1969.22,-1245.6 1942.41,-1214.66 1902.96,-1169.14 1900.58,-1095.29 1903.35,-1051.19\"/>\n",
       "<polygon fill=\"#000000\" stroke=\"#000000\" points=\"1906.83,-1051.6 1904.11,-1041.36 1899.85,-1051.07 1906.83,-1051.6\"/>\n",
       "</g>\n",
       "<!-- callgraphX__tile_5_5&#45;&gt;callgraphX__tile_5_5 -->\n",
       "<g id=\"edge189\" class=\"edge\">\n",
       "<title>callgraphX__tile_5_5&#45;&gt;callgraphX__tile_5_5</title>\n",
       "<path fill=\"none\" stroke=\"#000000\" d=\"M2193.09,-1292.89C2213.08,-1292.55 2228.78,-1287.08 2228.78,-1276.47 2228.78,-1267.93 2218.62,-1262.72 2204.23,-1260.84\"/>\n",
       "<polygon fill=\"#000000\" stroke=\"#000000\" points=\"2204.82,-1257.38 2194.6,-1260.17 2204.33,-1264.36 2204.82,-1257.38\"/>\n",
       "</g>\n",
       "<!-- callgraphX__tile_5_5&#45;&gt;callgraphX__tile_5_6 -->\n",
       "<g id=\"edge187\" class=\"edge\">\n",
       "<title>callgraphX__tile_5_5&#45;&gt;callgraphX__tile_5_6</title>\n",
       "<path fill=\"none\" stroke=\"#000000\" d=\"M2183.95,-1257.16C2204.07,-1247.67 2224.91,-1233.93 2237.41,-1214.66 2264.7,-1172.57 2247.41,-1152.4 2247.41,-1102.23 2247.41,-1102.23 2247.41,-1102.23 2247.41,-574.52 2247.41,-482.31 2260.34,-436.82 2192.41,-374.48 2127.47,-314.89 2081,-366.39 1997.41,-338.48 1996.11,-338.04 1822.12,-252.02 1821.41,-250.86 1809.33,-231.35 1810.59,-219.47 1821.41,-199.24 1829.05,-184.94 1841.7,-173.42 1855.18,-164.41\"/>\n",
       "<polygon fill=\"#000000\" stroke=\"#000000\" points=\"1856.65,-167.62 1863.3,-159.37 1852.96,-161.67 1856.65,-167.62\"/>\n",
       "</g>\n",
       "<!-- callgraphX__tile_5_5&#45;&gt;callgraphX__tile_6_5 -->\n",
       "<g id=\"edge188\" class=\"edge\">\n",
       "<title>callgraphX__tile_5_5&#45;&gt;callgraphX__tile_6_5</title>\n",
       "<path fill=\"none\" stroke=\"#000000\" d=\"M2134.61,-1302.52C2135.1,-1309.99 2135.26,-1318.35 2135.09,-1326.41\"/>\n",
       "<polygon fill=\"#000000\" stroke=\"#000000\" points=\"2131.6,-1326.22 2134.68,-1336.35 2138.59,-1326.51 2131.6,-1326.22\"/>\n",
       "</g>\n",
       "<!-- callgraphX__tile_5_6&#45;&gt;callgraphX__print_maze -->\n",
       "<g id=\"edge190\" class=\"edge\">\n",
       "<title>callgraphX__tile_5_6&#45;&gt;callgraphX__print_maze</title>\n",
       "<path fill=\"none\" stroke=\"#000000\" d=\"M1851.11,-119.87C1839.62,-116.97 1827.67,-114.09 1816.41,-111.62 1728.36,-92.28 1626.32,-74.4 1558.22,-63.11\"/>\n",
       "<polygon fill=\"#000000\" stroke=\"#000000\" points=\"1559.09,-59.7 1548.66,-61.53 1557.95,-66.61 1559.09,-59.7\"/>\n",
       "</g>\n",
       "<!-- callgraphX__tile_5_7&#45;&gt;callgraphX__print_maze -->\n",
       "<g id=\"edge193\" class=\"edge\">\n",
       "<title>callgraphX__tile_5_7&#45;&gt;callgraphX__print_maze</title>\n",
       "<path fill=\"none\" stroke=\"#000000\" d=\"M2064.99,-200.77C2052.58,-190.25 2038.76,-177.07 2028.41,-163.24 2013.13,-142.83 2024.18,-126.39 2003.41,-111.62 1935.01,-63.01 1695.39,-52.86 1565.93,-51\"/>\n",
       "<polygon fill=\"#000000\" stroke=\"#000000\" points=\"1566.07,-47.5 1556.03,-50.87 1565.98,-54.5 1566.07,-47.5\"/>\n",
       "</g>\n",
       "<!-- callgraphX__tile_5_7&#45;&gt;callgraphX__tile_4_7 -->\n",
       "<g id=\"edge195\" class=\"edge\">\n",
       "<title>callgraphX__tile_5_7&#45;&gt;callgraphX__tile_4_7</title>\n",
       "<path fill=\"none\" stroke=\"#000000\" d=\"M2099.56,-251.05C2099.44,-258.73 2098.89,-267.33 2098.03,-275.59\"/>\n",
       "<polygon fill=\"#000000\" stroke=\"#000000\" points=\"2094.57,-275.04 2096.8,-285.4 2101.52,-275.91 2094.57,-275.04\"/>\n",
       "</g>\n",
       "<!-- callgraphX__tile_5_7&#45;&gt;callgraphX__tile_5_6 -->\n",
       "<g id=\"edge194\" class=\"edge\">\n",
       "<title>callgraphX__tile_5_7&#45;&gt;callgraphX__tile_5_6</title>\n",
       "<path fill=\"none\" stroke=\"#000000\" d=\"M2050.64,-203.1C2025.6,-191.39 1994.19,-176.69 1967.64,-164.27\"/>\n",
       "<polygon fill=\"#000000\" stroke=\"#000000\" points=\"1969.26,-161.16 1958.72,-160.09 1966.29,-167.5 1969.26,-161.16\"/>\n",
       "</g>\n",
       "<!-- callgraphX__tile_5_7&#45;&gt;callgraphX__tile_5_7 -->\n",
       "<g id=\"edge192\" class=\"edge\">\n",
       "<title>callgraphX__tile_5_7&#45;&gt;callgraphX__tile_5_7</title>\n",
       "<path fill=\"none\" stroke=\"#000000\" d=\"M2160.09,-241.46C2180.08,-241.13 2195.78,-235.66 2195.78,-225.05 2195.78,-216.51 2185.62,-211.3 2171.23,-209.42\"/>\n",
       "<polygon fill=\"#000000\" stroke=\"#000000\" points=\"2171.82,-205.95 2161.6,-208.74 2171.33,-212.93 2171.82,-205.95\"/>\n",
       "</g>\n",
       "<!-- callgraphX__tile_5_7&#45;&gt;callgraphX__tile_5_8 -->\n",
       "<g id=\"edge191\" class=\"edge\">\n",
       "<title>callgraphX__tile_5_7&#45;&gt;callgraphX__tile_5_8</title>\n",
       "<path fill=\"none\" stroke=\"#000000\" d=\"M2106.69,-199.28C2110.33,-191.28 2114.45,-182.24 2118.37,-173.63\"/>\n",
       "<polygon fill=\"#000000\" stroke=\"#000000\" points=\"2121.43,-175.36 2122.39,-164.81 2115.06,-172.46 2121.43,-175.36\"/>\n",
       "</g>\n",
       "<!-- callgraphX__tile_5_7&#45;&gt;callgraphX__tile_6_7 -->\n",
       "<g id=\"edge196\" class=\"edge\">\n",
       "<title>callgraphX__tile_5_7&#45;&gt;callgraphX__tile_6_7</title>\n",
       "<path fill=\"none\" stroke=\"#000000\" d=\"M2146.34,-204.4C2178.94,-191.83 2221.43,-175.44 2255.9,-162.15\"/>\n",
       "<polygon fill=\"#000000\" stroke=\"#000000\" points=\"2256.85,-165.54 2264.92,-158.67 2254.33,-159.01 2256.85,-165.54\"/>\n",
       "</g>\n",
       "<!-- callgraphX__tile_5_8&#45;&gt;callgraphX__print_maze -->\n",
       "<g id=\"edge197\" class=\"edge\">\n",
       "<title>callgraphX__tile_5_8&#45;&gt;callgraphX__print_maze</title>\n",
       "<path fill=\"none\" stroke=\"#000000\" d=\"M2074.27,-119.47C2062.45,-116.54 2050.09,-113.75 2038.41,-111.62 1871.59,-81.12 1673.67,-63.96 1564.37,-56.12\"/>\n",
       "<polygon fill=\"#000000\" stroke=\"#000000\" points=\"1564.83,-52.64 1554.61,-55.42 1564.34,-59.62 1564.83,-52.64\"/>\n",
       "</g>\n",
       "<!-- callgraphX__tile_6_0&#45;&gt;callgraphX__print_maze -->\n",
       "<g id=\"edge198\" class=\"edge\">\n",
       "<title>callgraphX__tile_6_0&#45;&gt;callgraphX__print_maze</title>\n",
       "<path fill=\"none\" stroke=\"#000000\" d=\"M1157.66,-1425.6C1157.32,-1402.74 1157.64,-1368.11 1161.41,-1338.28 1171.79,-1256.02 1183.73,-1234.72 1225.41,-1163.04 1235.07,-1146.42 1243.83,-1145.45 1249.41,-1127.04 1256.05,-1105.09 1263.4,-1093.61 1249.41,-1075.43 1211.27,-1025.88 1173.29,-1057.42 1113.41,-1039.43 1098.81,-1035.04 862.84,-963.78 853.41,-951.81 822.36,-912.4 843.41,-889.54 843.41,-839.38 843.41,-839.38 843.41,-839.38 843.41,-662.14 843.41,-608.48 836.9,-588.1 799.41,-549.71 770.45,-520.07 737.87,-547.16 713.41,-513.71 683.79,-473.22 703.41,-451.45 703.41,-401.28 703.41,-401.28 703.41,-401.28 703.41,-224.05 703.41,-155.07 748.3,-141.64 810.41,-111.62 911.8,-62.61 1240.29,-52.92 1396.88,-51.13\"/>\n",
       "<polygon fill=\"#000000\" stroke=\"#000000\" points=\"1396.83,-54.63 1406.79,-51.03 1396.76,-47.63 1396.83,-54.63\"/>\n",
       "</g>\n",
       "<!-- callgraphX__tile_6_1&#45;&gt;callgraphX__print_maze -->\n",
       "<g id=\"edge201\" class=\"edge\">\n",
       "<title>callgraphX__tile_6_1&#45;&gt;callgraphX__print_maze</title>\n",
       "<path fill=\"none\" stroke=\"#000000\" d=\"M1431.28,-1693.45C1486.38,-1667.13 1568.41,-1615.35 1568.41,-1540.33 1568.41,-1540.33 1568.41,-1540.33 1568.41,-1275.47 1568.41,-1192.07 1622.36,-967.72 1573.41,-900.19 1543.21,-858.54 1504.68,-894.89 1463.41,-864.19 1425.33,-835.87 1421.28,-820.1 1402.41,-776.57 1354.9,-666.98 1358.92,-632.5 1346.41,-513.71 1337.05,-424.85 1297.9,-186.66 1346.41,-111.62 1360.38,-90 1384.09,-75.98 1407.77,-66.94\"/>\n",
       "<polygon fill=\"#000000\" stroke=\"#000000\" points=\"1408.91,-70.25 1417.19,-63.62 1406.59,-63.64 1408.91,-70.25\"/>\n",
       "</g>\n",
       "<!-- callgraphX__tile_6_1&#45;&gt;callgraphX__tile_5_1 -->\n",
       "<g id=\"edge204\" class=\"edge\">\n",
       "<title>callgraphX__tile_6_1&#45;&gt;callgraphX__tile_5_1</title>\n",
       "<path fill=\"none\" stroke=\"#000000\" d=\"M1327.11,-1734.07C1316.67,-1736.56 1305.79,-1738.8 1295.41,-1740.38 972.51,-1789.49 885.19,-1733.5 561.41,-1776.38 546.62,-1778.33 530.91,-1781.22 515.82,-1784.33\"/>\n",
       "<polygon fill=\"#000000\" stroke=\"#000000\" points=\"515.5,-1780.82 506.44,-1786.32 516.95,-1787.67 515.5,-1780.82\"/>\n",
       "</g>\n",
       "<!-- callgraphX__tile_6_1&#45;&gt;callgraphX__tile_6_0 -->\n",
       "<g id=\"edge203\" class=\"edge\">\n",
       "<title>callgraphX__tile_6_1&#45;&gt;callgraphX__tile_6_0</title>\n",
       "<path fill=\"none\" stroke=\"#000000\" d=\"M1361.73,-1689.49C1321.5,-1642.64 1232.6,-1539.11 1186.84,-1485.83\"/>\n",
       "<polygon fill=\"#000000\" stroke=\"#000000\" points=\"1189.51,-1483.56 1180.34,-1478.25 1184.2,-1488.12 1189.51,-1483.56\"/>\n",
       "</g>\n",
       "<!-- callgraphX__tile_6_1&#45;&gt;callgraphX__tile_6_1 -->\n",
       "<g id=\"edge202\" class=\"edge\">\n",
       "<title>callgraphX__tile_6_1&#45;&gt;callgraphX__tile_6_1</title>\n",
       "<path fill=\"none\" stroke=\"#000000\" d=\"M1447.09,-1730.98C1467.08,-1730.65 1482.78,-1725.18 1482.78,-1714.57 1482.78,-1706.03 1472.62,-1700.82 1458.23,-1698.94\"/>\n",
       "<polygon fill=\"#000000\" stroke=\"#000000\" points=\"1458.82,-1695.47 1448.6,-1698.26 1458.33,-1702.45 1458.82,-1695.47\"/>\n",
       "</g>\n",
       "<!-- callgraphX__tile_6_1&#45;&gt;callgraphX__tile_6_2 -->\n",
       "<g id=\"edge199\" class=\"edge\">\n",
       "<title>callgraphX__tile_6_1&#45;&gt;callgraphX__tile_6_2</title>\n",
       "<path fill=\"none\" stroke=\"#000000\" d=\"M1444.18,-1697.19C1457.1,-1694.28 1470.65,-1691.36 1483.41,-1688.76 1570.82,-1670.93 1671.65,-1652.86 1741.13,-1641.11\"/>\n",
       "<polygon fill=\"#000000\" stroke=\"#000000\" points=\"1741.66,-1644.57 1750.94,-1639.46 1740.5,-1637.67 1741.66,-1644.57\"/>\n",
       "</g>\n",
       "<!-- callgraphX__tile_6_1&#45;&gt;callgraphX__tile_7_1 -->\n",
       "<g id=\"edge200\" class=\"edge\">\n",
       "<title>callgraphX__tile_6_1&#45;&gt;callgraphX__tile_7_1</title>\n",
       "<path fill=\"none\" stroke=\"#000000\" d=\"M1334.06,-1693.28C1305.08,-1681.11 1268.01,-1665.56 1237.32,-1652.68\"/>\n",
       "<polygon fill=\"#000000\" stroke=\"#000000\" points=\"1238.73,-1649.47 1228.15,-1648.83 1236.02,-1655.92 1238.73,-1649.47\"/>\n",
       "</g>\n",
       "<!-- callgraphX__tile_6_2&#45;&gt;callgraphX__print_maze -->\n",
       "<g id=\"edge206\" class=\"edge\">\n",
       "<title>callgraphX__tile_6_2&#45;&gt;callgraphX__print_maze</title>\n",
       "<path fill=\"none\" stroke=\"#000000\" d=\"M1798.81,-1602.21C1789.18,-1591.89 1779.45,-1578.99 1774.41,-1565.14 1753.25,-1506.98 1760.55,-1486.21 1774.41,-1425.9 1813.17,-1257.17 1830.61,-1205.9 1944.41,-1075.43 1963.37,-1053.69 1981.35,-1062.68 1998.41,-1039.43 2012.54,-1020.16 2005.48,-1010.35 2013.41,-987.81 2061.1,-852.14 2103.08,-828.6 2137.41,-688.95 2149.38,-640.23 2147.41,-626.69 2147.41,-576.52 2147.41,-576.52 2147.41,-576.52 2147.41,-486.9 2147.41,-435.99 2162.51,-409.34 2125.41,-374.48 2036.22,-290.67 1949.26,-413.29 1852.41,-338.48 1832.81,-323.33 1850.4,-302.75 1831.41,-286.86 1772.17,-237.31 1716.67,-304.81 1661.41,-250.86 1615.9,-206.43 1669.65,-160.03 1628.41,-111.62 1609.75,-89.72 1581.95,-75.58 1555.52,-66.5\"/>\n",
       "<polygon fill=\"#000000\" stroke=\"#000000\" points=\"1556.74,-63.22 1546.15,-63.49 1554.6,-69.88 1556.74,-63.22\"/>\n",
       "</g>\n",
       "<!-- callgraphX__tile_6_2&#45;&gt;callgraphX__tile_5_2 -->\n",
       "<g id=\"edge208\" class=\"edge\">\n",
       "<title>callgraphX__tile_6_2&#45;&gt;callgraphX__tile_5_2</title>\n",
       "<path fill=\"none\" stroke=\"#000000\" d=\"M1891.65,-1611.22C1907.3,-1607.83 1923.93,-1604.29 1939.41,-1601.14 2020.47,-1584.62 2113.38,-1567.12 2178.13,-1555.16\"/>\n",
       "<polygon fill=\"#000000\" stroke=\"#000000\" points=\"2178.38,-1558.67 2187.58,-1553.42 2177.11,-1551.79 2178.38,-1558.67\"/>\n",
       "</g>\n",
       "<!-- callgraphX__tile_6_2&#45;&gt;callgraphX__tile_6_1 -->\n",
       "<g id=\"edge207\" class=\"edge\">\n",
       "<title>callgraphX__tile_6_2&#45;&gt;callgraphX__tile_6_1</title>\n",
       "<path fill=\"none\" stroke=\"#000000\" d=\"M1755.64,-1641.06C1689.92,-1652.81 1588.93,-1670.9 1501.41,-1688.76 1488.59,-1691.37 1474.98,-1694.31 1461.69,-1697.23\"/>\n",
       "<polygon fill=\"#000000\" stroke=\"#000000\" points=\"1461.12,-1693.77 1452.11,-1699.34 1462.63,-1700.6 1461.12,-1693.77\"/>\n",
       "</g>\n",
       "<!-- callgraphX__tile_6_2&#45;&gt;callgraphX__tile_6_2 -->\n",
       "<g id=\"edge205\" class=\"edge\">\n",
       "<title>callgraphX__tile_6_2&#45;&gt;callgraphX__tile_6_2</title>\n",
       "<path fill=\"none\" stroke=\"#000000\" d=\"M1890.09,-1643.36C1910.08,-1643.03 1925.78,-1637.56 1925.78,-1626.95 1925.78,-1618.41 1915.62,-1613.2 1901.23,-1611.32\"/>\n",
       "<polygon fill=\"#000000\" stroke=\"#000000\" points=\"1901.82,-1607.85 1891.6,-1610.64 1901.33,-1614.83 1901.82,-1607.85\"/>\n",
       "</g>\n",
       "<!-- callgraphX__tile_6_2&#45;&gt;callgraphX__tile_6_3 -->\n",
       "<g id=\"edge209\" class=\"edge\">\n",
       "<title>callgraphX__tile_6_2&#45;&gt;callgraphX__tile_6_3</title>\n",
       "<path fill=\"none\" stroke=\"#000000\" d=\"M1830.98,-1600.72C1834.23,-1592.66 1838.32,-1583.58 1842.58,-1574.97\"/>\n",
       "<polygon fill=\"#000000\" stroke=\"#000000\" points=\"1845.67,-1576.63 1847.12,-1566.13 1839.44,-1573.43 1845.67,-1576.63\"/>\n",
       "</g>\n",
       "<!-- callgraphX__tile_6_2&#45;&gt;callgraphX__tile_7_2 -->\n",
       "<g id=\"edge210\" class=\"edge\">\n",
       "<title>callgraphX__tile_6_2&#45;&gt;callgraphX__tile_7_2</title>\n",
       "<path fill=\"none\" stroke=\"#000000\" d=\"M1781.11,-1604.82C1681.79,-1557.46 1441.55,-1442.89 1333.12,-1391.18\"/>\n",
       "<polygon fill=\"#000000\" stroke=\"#000000\" points=\"1334.64,-1388.03 1324.1,-1386.88 1331.62,-1394.35 1334.64,-1388.03\"/>\n",
       "</g>\n",
       "<!-- callgraphX__tile_6_3&#45;&gt;callgraphX__print_maze -->\n",
       "<g id=\"edge213\" class=\"edge\">\n",
       "<title>callgraphX__tile_6_3&#45;&gt;callgraphX__print_maze</title>\n",
       "<path fill=\"none\" stroke=\"#000000\" d=\"M1945.71,-1532.92C2114.24,-1519.37 2489.41,-1476.68 2489.41,-1365.09 2489.41,-1365.09 2489.41,-1365.09 2489.41,-1100.23 2489.41,-933.12 2426.78,-473.84 2292.41,-374.48 2186.2,-295.94 2107.68,-411.18 1997.41,-338.48 1975.25,-323.87 1988.89,-302.43 1967.41,-286.86 1905.22,-241.79 1857.03,-300.46 1798.41,-250.86 1747.61,-207.88 1793.81,-155.06 1743.41,-111.62 1716.28,-88.24 1627.61,-71.05 1560.88,-61.02\"/>\n",
       "<polygon fill=\"#000000\" stroke=\"#000000\" points=\"1561.44,-57.56 1551.03,-59.57 1560.42,-64.49 1561.44,-57.56\"/>\n",
       "</g>\n",
       "<!-- callgraphX__tile_6_3&#45;&gt;callgraphX__tile_5_3 -->\n",
       "<g id=\"edge211\" class=\"edge\">\n",
       "<title>callgraphX__tile_6_3&#45;&gt;callgraphX__tile_5_3</title>\n",
       "<path fill=\"none\" stroke=\"#000000\" d=\"M1825.71,-1516.53C1808.76,-1506.08 1789.46,-1492.56 1774.41,-1477.52 1674.95,-1378.15 1656.28,-1342.79 1598.41,-1214.66 1555.47,-1119.62 1599.01,-1072.68 1538.41,-987.81 1528.81,-974.36 1515.23,-963.04 1501.49,-953.94\"/>\n",
       "<polygon fill=\"#000000\" stroke=\"#000000\" points=\"1503.61,-951.14 1493.28,-948.8 1499.9,-957.08 1503.61,-951.14\"/>\n",
       "</g>\n",
       "<!-- callgraphX__tile_6_3&#45;&gt;callgraphX__tile_6_2 -->\n",
       "<g id=\"edge212\" class=\"edge\">\n",
       "<title>callgraphX__tile_6_3&#45;&gt;callgraphX__tile_6_2</title>\n",
       "<path fill=\"none\" stroke=\"#000000\" d=\"M1859.94,-1565.29C1856.64,-1573.52 1852.43,-1582.83 1848.07,-1591.63\"/>\n",
       "<polygon fill=\"#000000\" stroke=\"#000000\" points=\"1845.07,-1589.8 1843.61,-1600.3 1851.3,-1593.01 1845.07,-1589.8\"/>\n",
       "</g>\n",
       "<!-- callgraphX__tile_6_3&#45;&gt;callgraphX__tile_6_3 -->\n",
       "<g id=\"edge216\" class=\"edge\">\n",
       "<title>callgraphX__tile_6_3&#45;&gt;callgraphX__tile_6_3</title>\n",
       "<path fill=\"none\" stroke=\"#000000\" d=\"M1930.09,-1555.74C1950.08,-1555.41 1965.78,-1549.94 1965.78,-1539.33 1965.78,-1530.79 1955.62,-1525.58 1941.23,-1523.7\"/>\n",
       "<polygon fill=\"#000000\" stroke=\"#000000\" points=\"1941.82,-1520.23 1931.6,-1523.02 1941.33,-1527.21 1941.82,-1520.23\"/>\n",
       "</g>\n",
       "<!-- callgraphX__tile_6_3&#45;&gt;callgraphX__tile_6_4 -->\n",
       "<g id=\"edge214\" class=\"edge\">\n",
       "<title>callgraphX__tile_6_3&#45;&gt;callgraphX__tile_6_4</title>\n",
       "<path fill=\"none\" stroke=\"#000000\" d=\"M1859.19,-1513.1C1858.71,-1505.61 1858.55,-1497.25 1858.72,-1489.2\"/>\n",
       "<polygon fill=\"#000000\" stroke=\"#000000\" points=\"1862.22,-1489.41 1859.14,-1479.27 1855.22,-1489.11 1862.22,-1489.41\"/>\n",
       "</g>\n",
       "<!-- callgraphX__tile_6_3&#45;&gt;callgraphX__tile_7_3 -->\n",
       "<g id=\"edge215\" class=\"edge\">\n",
       "<title>callgraphX__tile_6_3&#45;&gt;callgraphX__tile_7_3</title>\n",
       "<path fill=\"none\" stroke=\"#000000\" d=\"M1944.9,-1531.97C2111.93,-1518.42 2484.82,-1487.18 2494.41,-1477.52 2530.04,-1441.58 2490.5,-1295.27 2514.41,-1250.66 2521.08,-1238.21 2531.51,-1227.4 2542.52,-1218.49\"/>\n",
       "<polygon fill=\"#000000\" stroke=\"#000000\" points=\"2544.35,-1221.5 2550.21,-1212.67 2540.13,-1215.91 2544.35,-1221.5\"/>\n",
       "</g>\n",
       "<!-- callgraphX__tile_6_4&#45;&gt;callgraphX__print_maze -->\n",
       "<g id=\"edge218\" class=\"edge\">\n",
       "<title>callgraphX__tile_6_4&#45;&gt;callgraphX__print_maze</title>\n",
       "<path fill=\"none\" stroke=\"#000000\" d=\"M1831.56,-1427.72C1745.17,-1368.35 1511.15,-1203.03 1338.41,-1039.43 1316.31,-1018.5 1319.28,-1003.83 1293.41,-987.81 1239.52,-954.43 1194.16,-1001.97 1155.41,-951.81 1117.57,-902.84 1141.35,-872.83 1155.41,-812.57 1169.33,-752.9 1195.89,-746.68 1216.41,-688.95 1229.78,-651.31 1230.84,-640.89 1236.41,-601.33 1244,-547.37 1229.27,-154.1 1263.41,-111.62 1281.19,-89.48 1348.39,-72.96 1403.53,-62.77\"/>\n",
       "<polygon fill=\"#000000\" stroke=\"#000000\" points=\"1404.03,-66.23 1413.25,-61.02 1402.79,-59.34 1404.03,-66.23\"/>\n",
       "</g>\n",
       "<!-- callgraphX__tile_6_4&#45;&gt;callgraphX__tile_5_4 -->\n",
       "<g id=\"edge217\" class=\"edge\">\n",
       "<title>callgraphX__tile_6_4&#45;&gt;callgraphX__tile_5_4</title>\n",
       "<path fill=\"none\" stroke=\"#000000\" d=\"M1850.64,-1425.85C1832.59,-1393.05 1804.41,-1332.95 1804.41,-1277.47 1804.41,-1277.47 1804.41,-1277.47 1804.41,-1187.85 1804.41,-1132.45 1843.81,-1079.3 1873.88,-1046.82\"/>\n",
       "<polygon fill=\"#000000\" stroke=\"#000000\" points=\"1876.28,-1049.37 1880.64,-1039.72 1871.21,-1044.55 1876.28,-1049.37\"/>\n",
       "</g>\n",
       "<!-- callgraphX__tile_6_4&#45;&gt;callgraphX__tile_6_3 -->\n",
       "<g id=\"edge222\" class=\"edge\">\n",
       "<title>callgraphX__tile_6_4&#45;&gt;callgraphX__tile_6_3</title>\n",
       "<path fill=\"none\" stroke=\"#000000\" d=\"M1871.61,-1477.76C1872.1,-1485.23 1872.26,-1493.59 1872.09,-1501.64\"/>\n",
       "<polygon fill=\"#000000\" stroke=\"#000000\" points=\"1868.6,-1501.46 1871.68,-1511.59 1875.59,-1501.74 1868.6,-1501.46\"/>\n",
       "</g>\n",
       "<!-- callgraphX__tile_6_4&#45;&gt;callgraphX__tile_6_4 -->\n",
       "<g id=\"edge221\" class=\"edge\">\n",
       "<title>callgraphX__tile_6_4&#45;&gt;callgraphX__tile_6_4</title>\n",
       "<path fill=\"none\" stroke=\"#000000\" d=\"M1930.09,-1468.12C1950.08,-1467.79 1965.78,-1462.32 1965.78,-1451.71 1965.78,-1443.17 1955.62,-1437.96 1941.23,-1436.08\"/>\n",
       "<polygon fill=\"#000000\" stroke=\"#000000\" points=\"1941.82,-1432.61 1931.6,-1435.4 1941.33,-1439.6 1941.82,-1432.61\"/>\n",
       "</g>\n",
       "<!-- callgraphX__tile_6_4&#45;&gt;callgraphX__tile_6_5 -->\n",
       "<g id=\"edge219\" class=\"edge\">\n",
       "<title>callgraphX__tile_6_4&#45;&gt;callgraphX__tile_6_5</title>\n",
       "<path fill=\"none\" stroke=\"#000000\" d=\"M1918.37,-1431.6C1958.79,-1418.02 2014.76,-1399.78 2058.79,-1385.84\"/>\n",
       "<polygon fill=\"#000000\" stroke=\"#000000\" points=\"2059.78,-1389.2 2068.26,-1382.85 2057.67,-1382.52 2059.78,-1389.2\"/>\n",
       "</g>\n",
       "<!-- callgraphX__tile_6_4&#45;&gt;callgraphX__tile_7_4 -->\n",
       "<g id=\"edge220\" class=\"edge\">\n",
       "<title>callgraphX__tile_6_4&#45;&gt;callgraphX__tile_7_4</title>\n",
       "<path fill=\"none\" stroke=\"#000000\" d=\"M1821.98,-1429.31C1698.56,-1368.47 1346.02,-1194.71 1211.47,-1128.39\"/>\n",
       "<polygon fill=\"#000000\" stroke=\"#000000\" points=\"1213.28,-1125.38 1202.76,-1124.1 1210.18,-1131.66 1213.28,-1125.38\"/>\n",
       "</g>\n",
       "<!-- callgraphX__tile_6_5&#45;&gt;callgraphX__print_maze -->\n",
       "<g id=\"edge225\" class=\"edge\">\n",
       "<title>callgraphX__tile_6_5&#45;&gt;callgraphX__print_maze</title>\n",
       "<path fill=\"none\" stroke=\"#000000\" d=\"M2089.61,-1340.9C2044.25,-1314.03 1968.04,-1265.95 1910.41,-1214.66 1771.48,-1091.04 1789.61,-1002.62 1634.41,-900.19 1591.47,-871.85 1561.21,-900.13 1524.41,-864.19 1508.43,-848.59 1391.41,-493.62 1391.41,-401.28 1391.41,-401.28 1391.41,-401.28 1391.41,-224.05 1391.41,-173.58 1382.67,-155.61 1407.41,-111.62 1414.41,-99.15 1425.07,-88.2 1436.12,-79.15\"/>\n",
       "<polygon fill=\"#000000\" stroke=\"#000000\" points=\"1438.02,-82.1 1443.81,-73.23 1433.76,-76.55 1438.02,-82.1\"/>\n",
       "</g>\n",
       "<!-- callgraphX__tile_6_5&#45;&gt;callgraphX__tile_5_5 -->\n",
       "<g id=\"edge227\" class=\"edge\">\n",
       "<title>callgraphX__tile_6_5&#45;&gt;callgraphX__tile_5_5</title>\n",
       "<path fill=\"none\" stroke=\"#000000\" d=\"M2122.19,-1337.87C2121.71,-1330.38 2121.55,-1322.02 2121.72,-1313.96\"/>\n",
       "<polygon fill=\"#000000\" stroke=\"#000000\" points=\"2125.22,-1314.17 2122.14,-1304.03 2118.22,-1313.87 2125.22,-1314.17\"/>\n",
       "</g>\n",
       "<!-- callgraphX__tile_6_5&#45;&gt;callgraphX__tile_6_4 -->\n",
       "<g id=\"edge228\" class=\"edge\">\n",
       "<title>callgraphX__tile_6_5&#45;&gt;callgraphX__tile_6_4</title>\n",
       "<path fill=\"none\" stroke=\"#000000\" d=\"M2075.64,-1384.13C2035.32,-1397.68 1979.47,-1415.89 1935.43,-1429.83\"/>\n",
       "<polygon fill=\"#000000\" stroke=\"#000000\" points=\"1934.43,-1426.48 1925.95,-1432.83 1936.54,-1433.15 1934.43,-1426.48\"/>\n",
       "</g>\n",
       "<!-- callgraphX__tile_6_5&#45;&gt;callgraphX__tile_6_5 -->\n",
       "<g id=\"edge226\" class=\"edge\">\n",
       "<title>callgraphX__tile_6_5&#45;&gt;callgraphX__tile_6_5</title>\n",
       "<path fill=\"none\" stroke=\"#000000\" d=\"M2193.09,-1380.5C2213.08,-1380.17 2228.78,-1374.7 2228.78,-1364.09 2228.78,-1355.55 2218.62,-1350.34 2204.23,-1348.46\"/>\n",
       "<polygon fill=\"#000000\" stroke=\"#000000\" points=\"2204.82,-1344.99 2194.6,-1347.78 2204.33,-1351.98 2204.82,-1344.99\"/>\n",
       "</g>\n",
       "<!-- callgraphX__tile_6_5&#45;&gt;callgraphX__tile_6_6 -->\n",
       "<g id=\"edge223\" class=\"edge\">\n",
       "<title>callgraphX__tile_6_5&#45;&gt;callgraphX__tile_6_6</title>\n",
       "<path fill=\"none\" stroke=\"#000000\" d=\"M2178.84,-1343.28C2199.06,-1333.38 2221.33,-1319.73 2237.41,-1302.28 2306.61,-1227.19 2344.43,-1109.26 2359.92,-1050.45\"/>\n",
       "<polygon fill=\"#000000\" stroke=\"#000000\" points=\"2363.25,-1051.53 2362.35,-1040.98 2356.47,-1049.8 2363.25,-1051.53\"/>\n",
       "</g>\n",
       "<!-- callgraphX__tile_6_5&#45;&gt;callgraphX__tile_7_5 -->\n",
       "<g id=\"edge224\" class=\"edge\">\n",
       "<title>callgraphX__tile_6_5&#45;&gt;callgraphX__tile_7_5</title>\n",
       "<path fill=\"none\" stroke=\"#000000\" d=\"M2184.18,-1344.72C2224.54,-1331.43 2279.24,-1313.42 2321.88,-1299.38\"/>\n",
       "<polygon fill=\"#000000\" stroke=\"#000000\" points=\"2322.88,-1302.74 2331.28,-1296.28 2320.69,-1296.09 2322.88,-1302.74\"/>\n",
       "</g>\n",
       "<!-- callgraphX__tile_6_6&#45;&gt;callgraphX__print_maze -->\n",
       "<g id=\"edge229\" class=\"edge\">\n",
       "<title>callgraphX__tile_6_6&#45;&gt;callgraphX__print_maze</title>\n",
       "<path fill=\"none\" stroke=\"#000000\" d=\"M2348.59,-988.18C2324.61,-956.08 2287.41,-896.98 2287.41,-839.38 2287.41,-839.38 2287.41,-839.38 2287.41,-486.9 2287.41,-434.57 2292.56,-408.04 2252.41,-374.48 2152.76,-291.18 2078.64,-396.42 1962.41,-338.48 1933.82,-324.23 1940.32,-302.38 1912.41,-286.86 1846.43,-250.17 1799.75,-304.27 1746.41,-250.86 1701.67,-206.06 1760.24,-157.29 1716.41,-111.62 1694.78,-89.09 1619.44,-72.27 1559.82,-62.09\"/>\n",
       "<polygon fill=\"#000000\" stroke=\"#000000\" points=\"1560.44,-58.65 1550,-60.46 1559.29,-65.55 1560.44,-58.65\"/>\n",
       "</g>\n",
       "<!-- callgraphX__tile_6_7&#45;&gt;callgraphX__print_maze -->\n",
       "<g id=\"edge230\" class=\"edge\">\n",
       "<title>callgraphX__tile_6_7&#45;&gt;callgraphX__print_maze</title>\n",
       "<path fill=\"none\" stroke=\"#000000\" d=\"M2258.87,-118.94C2247.83,-116.13 2236.33,-113.52 2225.41,-111.62 1988.53,-70.35 1704.21,-56.96 1565.64,-52.72\"/>\n",
       "<polygon fill=\"#000000\" stroke=\"#000000\" points=\"1565.92,-49.22 1555.82,-52.42 1565.71,-56.22 1565.92,-49.22\"/>\n",
       "</g>\n",
       "<!-- callgraphX__tile_6_8&#45;&gt;callgraphX__print_maze -->\n",
       "<g id=\"edge231\" class=\"edge\">\n",
       "<title>callgraphX__tile_6_8&#45;&gt;callgraphX__print_maze</title>\n",
       "<path fill=\"none\" stroke=\"#000000\" d=\"M2479.86,-119.17C2467.88,-116.23 2455.31,-113.51 2443.41,-111.62 2122.28,-60.45 1734.41,-51.92 1566.13,-50.79\"/>\n",
       "<polygon fill=\"#000000\" stroke=\"#000000\" points=\"1566.17,-47.29 1556.15,-50.73 1566.13,-54.29 1566.17,-47.29\"/>\n",
       "</g>\n",
       "<!-- callgraphX__tile_7_0&#45;&gt;callgraphX__print_maze -->\n",
       "<g id=\"edge232\" class=\"edge\">\n",
       "<title>callgraphX__tile_7_0&#45;&gt;callgraphX__print_maze</title>\n",
       "<path fill=\"none\" stroke=\"#000000\" d=\"M2664.4,-118.81C2653.21,-115.97 2641.51,-113.39 2630.41,-111.62 2425.14,-78.89 1794.28,-59.19 1565.44,-52.96\"/>\n",
       "<polygon fill=\"#000000\" stroke=\"#000000\" points=\"1565.8,-49.47 1555.71,-52.7 1565.61,-56.47 1565.8,-49.47\"/>\n",
       "</g>\n",
       "<!-- callgraphX__tile_7_1&#45;&gt;callgraphX__print_maze -->\n",
       "<g id=\"edge233\" class=\"edge\">\n",
       "<title>callgraphX__tile_7_1&#45;&gt;callgraphX__print_maze</title>\n",
       "<path fill=\"none\" stroke=\"#000000\" d=\"M1196.53,-1601.54C1216.23,-1573.35 1246.48,-1524.78 1258.41,-1477.52 1264.02,-1455.28 1270.41,-1445.45 1258.41,-1425.9 1239.89,-1395.75 1205.92,-1420.05 1187.41,-1389.9 1175.4,-1370.35 1182.34,-1360.66 1187.41,-1338.28 1190.77,-1323.44 1240.95,-1228.87 1246.41,-1214.66 1260.98,-1176.75 1266.57,-1167.24 1272.41,-1127.04 1275.7,-1104.34 1281.77,-1096.37 1272.41,-1075.43 1271.66,-1073.76 1176,-988.69 1174.41,-987.81 1124.21,-959.99 1090.99,-992.38 1050.41,-951.81 1033.51,-934.92 1043.61,-922.63 1035.41,-900.19 1029.39,-883.74 1025.55,-880.58 1019.41,-864.19 1005.11,-826.03 1004,-815.63 992.41,-776.57 977.27,-725.55 869.41,-366.88 869.41,-313.67 869.41,-313.67 869.41,-313.67 869.41,-224.05 869.41,-199.04 857.22,-129.79 874.41,-111.62 909.68,-74.33 1239.57,-58.65 1397.68,-53.23\"/>\n",
       "<polygon fill=\"#000000\" stroke=\"#000000\" points=\"1397.37,-56.74 1407.25,-52.91 1397.14,-49.75 1397.37,-56.74\"/>\n",
       "</g>\n",
       "<!-- callgraphX__tile_7_2&#45;&gt;callgraphX__print_maze -->\n",
       "<g id=\"edge234\" class=\"edge\">\n",
       "<title>callgraphX__tile_7_2&#45;&gt;callgraphX__print_maze</title>\n",
       "<path fill=\"none\" stroke=\"#000000\" d=\"M1288.55,-1338.24C1307.98,-1286.64 1345.05,-1165.19 1304.41,-1075.43 1294.4,-1053.33 1278.81,-1058.15 1263.41,-1039.43 1246.55,-1018.93 1254.73,-1003.6 1233.41,-987.81 1177.28,-946.22 1132.12,-998.77 1080.41,-951.81 1049.96,-924.16 973.03,-640.78 961.41,-601.33 938.7,-524.31 936.89,-504 917.41,-426.09 904.91,-376.14 889.41,-365.16 889.41,-313.67 889.41,-313.67 889.41,-313.67 889.41,-224.05 889.41,-174.03 860.09,-148.01 894.41,-111.62 928.26,-75.71 1243.68,-59.41 1397.65,-53.54\"/>\n",
       "<polygon fill=\"#000000\" stroke=\"#000000\" points=\"1397.52,-57.05 1407.38,-53.18 1397.26,-50.05 1397.52,-57.05\"/>\n",
       "</g>\n",
       "<!-- callgraphX__tile_7_3&#45;&gt;callgraphX__print_maze -->\n",
       "<g id=\"edge235\" class=\"edge\">\n",
       "<title>callgraphX__tile_7_3&#45;&gt;callgraphX__print_maze</title>\n",
       "<path fill=\"none\" stroke=\"#000000\" d=\"M2551.48,-1165.91C2537.42,-1155.93 2522.93,-1142.8 2514.41,-1127.04 2498.12,-1096.94 2458.66,-547.79 2455.41,-513.71 2451.15,-469.04 2449.6,-142.88 2417.41,-111.62 2357.08,-53.04 1784.76,-49.4 1565.92,-50.18\"/>\n",
       "<polygon fill=\"#000000\" stroke=\"#000000\" points=\"1566.02,-46.68 1556.03,-50.22 1566.05,-53.68 1566.02,-46.68\"/>\n",
       "</g>\n",
       "<!-- callgraphX__tile_7_4&#45;&gt;callgraphX__print_maze -->\n",
       "<g id=\"edge236\" class=\"edge\">\n",
       "<title>callgraphX__tile_7_4&#45;&gt;callgraphX__print_maze</title>\n",
       "<path fill=\"none\" stroke=\"#000000\" d=\"M1102.78,-1081.93C1020.06,-1053.53 870.87,-997.38 838.41,-951.81 797.65,-894.59 818.55,-706.52 806.41,-637.33 799.47,-597.79 810.58,-580.16 784.41,-549.71 757.39,-518.29 723.6,-546.61 698.41,-513.71 667.76,-473.69 683.41,-451.7 683.41,-401.28 683.41,-401.28 683.41,-401.28 683.41,-224.05 683.41,-173.64 661.79,-146.27 698.41,-111.62 748.3,-64.41 1204.79,-53.84 1396.86,-51.48\"/>\n",
       "<polygon fill=\"#000000\" stroke=\"#000000\" points=\"1396.82,-54.99 1406.78,-51.37 1396.74,-47.99 1396.82,-54.99\"/>\n",
       "</g>\n",
       "<!-- callgraphX__tile_7_5&#45;&gt;callgraphX__print_maze -->\n",
       "<g id=\"edge237\" class=\"edge\">\n",
       "<title>callgraphX__tile_7_5&#45;&gt;callgraphX__print_maze</title>\n",
       "<path fill=\"none\" stroke=\"#000000\" d=\"M2398.56,-1250.53C2415.24,-1208.06 2447.76,-1118.6 2459.41,-1039.43 2462.75,-1016.73 2462.77,-1010.5 2459.41,-987.81 2448.96,-917.36 2327.89,-420.34 2273.41,-374.48 2173.71,-290.55 2095.67,-402.92 1982.41,-338.48 1957.18,-324.12 1967.05,-302.19 1942.41,-286.86 1874.62,-244.67 1824.48,-305.65 1766.41,-250.86 1719.84,-206.91 1775.12,-156.46 1729.41,-111.62 1705.52,-88.19 1623.59,-71.25 1560.36,-61.29\"/>\n",
       "<polygon fill=\"#000000\" stroke=\"#000000\" points=\"1561.11,-57.86 1550.69,-59.8 1560.04,-64.78 1561.11,-57.86\"/>\n",
       "</g>\n",
       "<!-- callgraphX__tile_7_6&#45;&gt;callgraphX__print_maze -->\n",
       "<g id=\"edge238\" class=\"edge\">\n",
       "<title>callgraphX__tile_7_6&#45;&gt;callgraphX__print_maze</title>\n",
       "<path fill=\"none\" stroke=\"#000000\" d=\"M2847.41,-118.74C2836.22,-115.91 2824.52,-113.35 2813.41,-111.62 2571.38,-73.92 1819.27,-57 1565.79,-52.26\"/>\n",
       "<polygon fill=\"#000000\" stroke=\"#000000\" points=\"1566.04,-48.76 1555.97,-52.08 1565.91,-55.76 1566.04,-48.76\"/>\n",
       "</g>\n",
       "<!-- callgraphX__tile_7_7&#45;&gt;callgraphX__print_maze -->\n",
       "<g id=\"edge239\" class=\"edge\">\n",
       "<title>callgraphX__tile_7_7&#45;&gt;callgraphX__print_maze</title>\n",
       "<path fill=\"none\" stroke=\"#000000\" d=\"M3030.42,-118.69C3019.23,-115.87 3007.53,-113.32 2996.41,-111.62 2717.14,-68.91 1841.08,-55.07 1565.36,-51.71\"/>\n",
       "<polygon fill=\"#000000\" stroke=\"#000000\" points=\"1565.8,-48.22 1555.76,-51.6 1565.71,-55.22 1565.8,-48.22\"/>\n",
       "</g>\n",
       "<!-- callgraphX__tile_7_8&#45;&gt;callgraphX__print_maze -->\n",
       "<g id=\"edge240\" class=\"edge\">\n",
       "<title>callgraphX__tile_7_8&#45;&gt;callgraphX__print_maze</title>\n",
       "<path fill=\"none\" stroke=\"#000000\" d=\"M3213.43,-118.65C3202.23,-115.83 3190.53,-113.3 3179.41,-111.62 2862.98,-63.93 1863.3,-53.4 1565.75,-51.29\"/>\n",
       "<polygon fill=\"#000000\" stroke=\"#000000\" points=\"1566.16,-47.8 1556.14,-51.23 1566.11,-54.8 1566.16,-47.8\"/>\n",
       "</g>\n",
       "</g>\n",
       "</svg>\n"
      ],
      "text/plain": [
       "<graphviz.sources.Source at 0x109c66c50>"
      ]
     },
     "execution_count": 65,
     "metadata": {},
     "output_type": "execute_result"
    }
   ],
   "source": [
    "callgraph(maze_code)"
   ]
  },
  {
   "cell_type": "markdown",
   "metadata": {
    "slideshow": {
     "slide_type": "subslide"
    }
   },
   "source": [
    "### A First Attempt\n",
    "\n",
    "We introduce a `DictMutator` class which mutates strings by inserting a keyword from a given dictionary:"
   ]
  },
  {
   "cell_type": "code",
   "execution_count": 66,
   "metadata": {
    "execution": {
     "iopub.execute_input": "2023-11-12T12:40:49.567088Z",
     "iopub.status.busy": "2023-11-12T12:40:49.566922Z",
     "iopub.status.idle": "2023-11-12T12:40:49.569987Z",
     "shell.execute_reply": "2023-11-12T12:40:49.569557Z"
    },
    "slideshow": {
     "slide_type": "subslide"
    }
   },
   "outputs": [],
   "source": [
    "class DictMutator(Mutator):\n",
    "    \"\"\"Variant of `Mutator` inserting keywords from a dictionary\"\"\"\n",
    "\n",
    "    def __init__(self, dictionary: Sequence[str]) -> None:\n",
    "        \"\"\"Constructor.\n",
    "        `dictionary` - a list of strings that can be used as keywords\n",
    "        \"\"\"\n",
    "        super().__init__()\n",
    "        self.dictionary = dictionary\n",
    "        self.mutators.append(self.insert_from_dictionary)\n",
    "\n",
    "    def insert_from_dictionary(self, s: str) -> str:\n",
    "        \"\"\"Returns `s` with a keyword from the dictionary inserted\"\"\"\n",
    "        pos = random.randint(0, len(s))\n",
    "        random_keyword = random.choice(self.dictionary)\n",
    "        return s[:pos] + random_keyword + s[pos:]"
   ]
  },
  {
   "cell_type": "markdown",
   "metadata": {
    "slideshow": {
     "slide_type": "subslide"
    }
   },
   "source": [
    "To fuzz the maze, we extend the `DictMutator` class to append dictionary keywords to the end of the seed and to remove a character from the end of the seed."
   ]
  },
  {
   "cell_type": "code",
   "execution_count": 67,
   "metadata": {
    "execution": {
     "iopub.execute_input": "2023-11-12T12:40:49.571694Z",
     "iopub.status.busy": "2023-11-12T12:40:49.571576Z",
     "iopub.status.idle": "2023-11-12T12:40:49.574786Z",
     "shell.execute_reply": "2023-11-12T12:40:49.574454Z"
    },
    "slideshow": {
     "slide_type": "subslide"
    }
   },
   "outputs": [],
   "source": [
    "class MazeMutator(DictMutator):\n",
    "    def __init__(self, dictionary: Sequence[str]) -> None:\n",
    "        super().__init__(dictionary)\n",
    "        self.mutators.append(self.delete_last_character)\n",
    "        self.mutators.append(self.append_from_dictionary)\n",
    "\n",
    "    def append_from_dictionary(self, s: str) -> str:\n",
    "        \"\"\"Returns s with a keyword from the dictionary appended\"\"\"\n",
    "        random_keyword = random.choice(self.dictionary)\n",
    "        return s + random_keyword\n",
    "\n",
    "    def delete_last_character(self, s: str) -> str:\n",
    "        \"\"\"Returns s without the last character\"\"\"\n",
    "        if len(s) > 0:\n",
    "            return s[:-1]\n",
    "        return s"
   ]
  },
  {
   "cell_type": "markdown",
   "metadata": {
    "slideshow": {
     "slide_type": "subslide"
    }
   },
   "source": [
    "Let's try a standard greybox fuzzer with the classic power schedule and our extended maze mutator (n=20k)."
   ]
  },
  {
   "cell_type": "code",
   "execution_count": 68,
   "metadata": {
    "execution": {
     "iopub.execute_input": "2023-11-12T12:40:49.576623Z",
     "iopub.status.busy": "2023-11-12T12:40:49.576477Z",
     "iopub.status.idle": "2023-11-12T12:40:57.154025Z",
     "shell.execute_reply": "2023-11-12T12:40:57.153466Z"
    },
    "slideshow": {
     "slide_type": "fragment"
    }
   },
   "outputs": [
    {
     "data": {
      "text/plain": [
       "'It took the fuzzer 7.57 seconds to generate and execute 20000 inputs.'"
      ]
     },
     "execution_count": 68,
     "metadata": {},
     "output_type": "execute_result"
    }
   ],
   "source": [
    "n = 20000\n",
    "seed_input = \" \"  # empty seed\n",
    "\n",
    "maze_mutator = MazeMutator([\"L\", \"R\", \"U\", \"D\"])\n",
    "maze_schedule = PowerSchedule()\n",
    "maze_fuzzer = GreyboxFuzzer([seed_input], maze_mutator, maze_schedule)\n",
    "\n",
    "start = time.time()\n",
    "maze_fuzzer.runs(FunctionCoverageRunner(maze), trials=n)\n",
    "end = time.time()\n",
    "\n",
    "\"It took the fuzzer %0.2f seconds to generate and execute %d inputs.\" % (end - start, n)"
   ]
  },
  {
   "cell_type": "markdown",
   "metadata": {
    "slideshow": {
     "slide_type": "subslide"
    }
   },
   "source": [
    "We will need to print statistics for several fuzzers. Why don't we define a function for that?"
   ]
  },
  {
   "cell_type": "code",
   "execution_count": 69,
   "metadata": {
    "execution": {
     "iopub.execute_input": "2023-11-12T12:40:57.158360Z",
     "iopub.status.busy": "2023-11-12T12:40:57.158040Z",
     "iopub.status.idle": "2023-11-12T12:40:57.161346Z",
     "shell.execute_reply": "2023-11-12T12:40:57.160954Z"
    },
    "slideshow": {
     "slide_type": "subslide"
    }
   },
   "outputs": [],
   "source": [
    "def print_stats(fuzzer: GreyboxFuzzer) -> None:\n",
    "    total = len(fuzzer.population)\n",
    "    solved = 0\n",
    "    invalid = 0\n",
    "    valid = 0\n",
    "    for seed in fuzzer.population:\n",
    "        s = maze(str(seed.data))\n",
    "        if \"INVALID\" in s:\n",
    "            invalid += 1\n",
    "        elif \"VALID\" in s:\n",
    "            valid += 1\n",
    "        elif \"SOLVED\" in s:\n",
    "            solved += 1\n",
    "            if solved == 1:\n",
    "                print(\"First solution: %s\" % repr(seed))\n",
    "        else:\n",
    "            print(\"??\")\n",
    "\n",
    "    print(\"\"\"Out of %d seeds,\n",
    "* %4d solved the maze,\n",
    "* %4d were valid but did not solve the maze, and\n",
    "* %4d were invalid\"\"\" % (total, solved, valid, invalid))"
   ]
  },
  {
   "cell_type": "markdown",
   "metadata": {
    "slideshow": {
     "slide_type": "subslide"
    }
   },
   "source": [
    "How well does our good, old greybox fuzzer do?"
   ]
  },
  {
   "cell_type": "code",
   "execution_count": 70,
   "metadata": {
    "execution": {
     "iopub.execute_input": "2023-11-12T12:40:57.163165Z",
     "iopub.status.busy": "2023-11-12T12:40:57.163061Z",
     "iopub.status.idle": "2023-11-12T12:40:57.183396Z",
     "shell.execute_reply": "2023-11-12T12:40:57.182112Z"
    },
    "slideshow": {
     "slide_type": "fragment"
    }
   },
   "outputs": [
    {
     "name": "stdout",
     "output_type": "stream",
     "text": [
      "Out of 1398 seeds,\n",
      "*    0 solved the maze,\n",
      "*  270 were valid but did not solve the maze, and\n",
      "* 1128 were invalid\n"
     ]
    }
   ],
   "source": [
    "print_stats(maze_fuzzer)"
   ]
  },
  {
   "cell_type": "markdown",
   "metadata": {
    "slideshow": {
     "slide_type": "subslide"
    }
   },
   "source": [
    "It probably didn't solve the maze a single time. How can we make the fuzzer aware how \"far\" a seed is from reaching the target? If we know that, we can just assign more energy to that seed.\n",
    "\n",
    "***Try it***. Print the statistics for the boosted fuzzer using the `AFLFastSchedule` and the `CountingGreyboxFuzzer`. It will likely perform much better than the unboosted greybox fuzzer: The lowest-probablity path happens to be also the path which reaches the target. You can execute your own code by opening this chapter as Jupyter notebook."
   ]
  },
  {
   "cell_type": "markdown",
   "metadata": {
    "slideshow": {
     "slide_type": "subslide"
    }
   },
   "source": [
    "### Computing Function-Level Distance\n",
    "\n",
    "Using the static call graph for the maze code and the target function, we can compute the distance of each function $f$ to the target $t$ as the length of the shortest path between $f$ and $t$.\n",
    "\n",
    "Fortunately, the generated maze code includes a function called `target_tile` which returns the name of the target-function."
   ]
  },
  {
   "cell_type": "code",
   "execution_count": 71,
   "metadata": {
    "execution": {
     "iopub.execute_input": "2023-11-12T12:40:57.186211Z",
     "iopub.status.busy": "2023-11-12T12:40:57.186064Z",
     "iopub.status.idle": "2023-11-12T12:40:57.189724Z",
     "shell.execute_reply": "2023-11-12T12:40:57.189336Z"
    },
    "slideshow": {
     "slide_type": "fragment"
    }
   },
   "outputs": [
    {
     "data": {
      "text/plain": [
       "'tile_6_7'"
      ]
     },
     "execution_count": 71,
     "metadata": {},
     "output_type": "execute_result"
    }
   ],
   "source": [
    "target = target_tile()\n",
    "target"
   ]
  },
  {
   "cell_type": "markdown",
   "metadata": {
    "slideshow": {
     "slide_type": "subslide"
    }
   },
   "source": [
    "Now, we need to find the corresponding function in the call graph. The function `get_callgraph` returns the call graph for the maze code as [networkx](https://networkx.github.io/) graph. Networkx provides some useful functions for graph analysis."
   ]
  },
  {
   "cell_type": "code",
   "execution_count": 72,
   "metadata": {
    "execution": {
     "iopub.execute_input": "2023-11-12T12:40:57.191531Z",
     "iopub.status.busy": "2023-11-12T12:40:57.191396Z",
     "iopub.status.idle": "2023-11-12T12:40:57.193357Z",
     "shell.execute_reply": "2023-11-12T12:40:57.193012Z"
    },
    "slideshow": {
     "slide_type": "skip"
    }
   },
   "outputs": [],
   "source": [
    "import networkx as nx  # type: ignore"
   ]
  },
  {
   "cell_type": "code",
   "execution_count": 73,
   "metadata": {
    "execution": {
     "iopub.execute_input": "2023-11-12T12:40:57.195210Z",
     "iopub.status.busy": "2023-11-12T12:40:57.195069Z",
     "iopub.status.idle": "2023-11-12T12:40:57.197175Z",
     "shell.execute_reply": "2023-11-12T12:40:57.196711Z"
    },
    "slideshow": {
     "slide_type": "skip"
    }
   },
   "outputs": [],
   "source": [
    "from ControlFlow import get_callgraph"
   ]
  },
  {
   "cell_type": "code",
   "execution_count": 74,
   "metadata": {
    "execution": {
     "iopub.execute_input": "2023-11-12T12:40:57.199920Z",
     "iopub.status.busy": "2023-11-12T12:40:57.199774Z",
     "iopub.status.idle": "2023-11-12T12:40:57.234401Z",
     "shell.execute_reply": "2023-11-12T12:40:57.233876Z"
    },
    "slideshow": {
     "slide_type": "fragment"
    }
   },
   "outputs": [],
   "source": [
    "cg = get_callgraph(maze_code)\n",
    "for node in cg.nodes():\n",
    "    if target in node:\n",
    "        target_node = node\n",
    "        break"
   ]
  },
  {
   "cell_type": "code",
   "execution_count": 75,
   "metadata": {
    "execution": {
     "iopub.execute_input": "2023-11-12T12:40:57.236984Z",
     "iopub.status.busy": "2023-11-12T12:40:57.236752Z",
     "iopub.status.idle": "2023-11-12T12:40:57.239246Z",
     "shell.execute_reply": "2023-11-12T12:40:57.238835Z"
    },
    "slideshow": {
     "slide_type": "fragment"
    }
   },
   "outputs": [
    {
     "data": {
      "text/plain": [
       "'callgraphX__tile_6_7'"
      ]
     },
     "execution_count": 75,
     "metadata": {},
     "output_type": "execute_result"
    }
   ],
   "source": [
    "target_node"
   ]
  },
  {
   "cell_type": "markdown",
   "metadata": {
    "slideshow": {
     "slide_type": "subslide"
    }
   },
   "source": [
    "We can now generate the function-level distance. The dictionary `distance` contains for each function the distance to the target-function.  If there is no path to the target, we assign a maximum distance (`0xFFFF`).\n",
    "\n",
    "The function `nx.shortest_path_length(CG, node, target_node)` returns the length of the shortest path from function `node` to function `target_node` in the call graph `CG`."
   ]
  },
  {
   "cell_type": "code",
   "execution_count": 76,
   "metadata": {
    "execution": {
     "iopub.execute_input": "2023-11-12T12:40:57.241063Z",
     "iopub.status.busy": "2023-11-12T12:40:57.240924Z",
     "iopub.status.idle": "2023-11-12T12:40:57.244729Z",
     "shell.execute_reply": "2023-11-12T12:40:57.244372Z"
    },
    "slideshow": {
     "slide_type": "subslide"
    }
   },
   "outputs": [],
   "source": [
    "distance = {}\n",
    "for node in cg.nodes():\n",
    "    if \"__\" in node:\n",
    "        name = node.split(\"__\")[-1]\n",
    "    else:\n",
    "        name = node\n",
    "    try:\n",
    "        distance[name] = nx.shortest_path_length(cg, node, target_node)\n",
    "    except:\n",
    "        distance[name] = 0xFFFF"
   ]
  },
  {
   "cell_type": "markdown",
   "metadata": {
    "slideshow": {
     "slide_type": "fragment"
    }
   },
   "source": [
    "These are the distance values for all tile-functions on the path to the target function."
   ]
  },
  {
   "cell_type": "code",
   "execution_count": 77,
   "metadata": {
    "execution": {
     "iopub.execute_input": "2023-11-12T12:40:57.247050Z",
     "iopub.status.busy": "2023-11-12T12:40:57.246916Z",
     "iopub.status.idle": "2023-11-12T12:40:57.250664Z",
     "shell.execute_reply": "2023-11-12T12:40:57.250278Z"
    },
    "slideshow": {
     "slide_type": "subslide"
    }
   },
   "outputs": [
    {
     "data": {
      "text/plain": [
       "{'callgraphX': 1,\n",
       " 'maze': 23,\n",
       " 'tile_2_1': 22,\n",
       " 'tile_2_3': 8,\n",
       " 'tile_2_4': 7,\n",
       " 'tile_2_5': 6,\n",
       " 'tile_2_6': 5,\n",
       " 'tile_2_7': 4,\n",
       " 'tile_3_1': 21,\n",
       " 'tile_3_3': 9,\n",
       " 'tile_3_7': 3,\n",
       " 'tile_4_1': 20,\n",
       " 'tile_4_3': 10,\n",
       " 'tile_4_4': 11,\n",
       " 'tile_4_5': 12,\n",
       " 'tile_4_7': 2,\n",
       " 'tile_5_1': 19,\n",
       " 'tile_5_5': 13,\n",
       " 'tile_5_7': 1,\n",
       " 'tile_6_1': 18,\n",
       " 'tile_6_2': 17,\n",
       " 'tile_6_3': 16,\n",
       " 'tile_6_4': 15,\n",
       " 'tile_6_5': 14,\n",
       " 'tile_6_7': 0}"
      ]
     },
     "execution_count": 77,
     "metadata": {},
     "output_type": "execute_result"
    }
   ],
   "source": [
    "{k: distance[k] for k in list(distance) if distance[k] < 0xFFFF}"
   ]
  },
  {
   "cell_type": "markdown",
   "metadata": {
    "slideshow": {
     "slide_type": "subslide"
    }
   },
   "source": [
    "***Summary***. Using the static call graph and the target function $t$, we have shown how to compute the function-level distance of each function $f$ to the target $t$.\n",
    "\n",
    "***Try it***. You can try and execute your own code by opening this chapter as Jupyter notebook.\n",
    "\n",
    "* How do we compute distance if there are multiple targets? (Hint: [Geometric Mean](https://en.wikipedia.org/wiki/Geometric_mean)).\n",
    "* Given the call graph (CG) and the control-flow graph (CFG$_f$) for each function $f$, how do we compute basic-block (BB)-level distance? (Hint: In CFG$_f$, measure the BB-level distance to *calls* of functions on the path to the target function. Remember that BB-level distance in functions with higher function-level distance is higher, too.)\n",
    "\n",
    "***Read***. If you are interested in other aspects of search, you can follow up by reading the chapter on [Search-based Fuzzing](SearchBasedFuzzer.ipynb). If you are interested, how to solve the problems above, you can have a look at our paper on \"[Directed Greybox Fuzzing](https://mboehme.github.io/paper/CCS17.pdf)\"."
   ]
  },
  {
   "cell_type": "markdown",
   "metadata": {
    "slideshow": {
     "slide_type": "subslide"
    }
   },
   "source": [
    "### Directed Power Schedule\n",
    "Now that we know how to compute the function-level distance, let's try to implement a power schedule that assigns *more energy to seeds with a lower average distance* to the target function. Notice that the distance values are all *pre-computed*. These values are injected into the program binary, just like the coverage instrumentation. In practice, this makes the computation of the average distance *extremely efficient*.\n",
    "\n",
    "If you really want to know. Given the function-level distance $d_f(s,t)$ of a function $s$ to a function $t$ in call graph $CG$, our directed power schedule computes the seed distance $d(i,t)$ for a seed $i$ to function $t$ as $d(i,t)=\\dfrac{\\sum_{s\\in CG} d_f(s,t)}{|CG|}$ where $|CG|$ is the number of nodes in the call graph $CG$."
   ]
  },
  {
   "cell_type": "code",
   "execution_count": 78,
   "metadata": {
    "execution": {
     "iopub.execute_input": "2023-11-12T12:40:57.252558Z",
     "iopub.status.busy": "2023-11-12T12:40:57.252418Z",
     "iopub.status.idle": "2023-11-12T12:40:57.255951Z",
     "shell.execute_reply": "2023-11-12T12:40:57.255540Z"
    },
    "slideshow": {
     "slide_type": "subslide"
    }
   },
   "outputs": [],
   "source": [
    "class DirectedSchedule(PowerSchedule):\n",
    "    \"\"\"Assign high energy to seeds close to some target\"\"\"\n",
    "\n",
    "    def __init__(self, distance: Dict[str, int], exponent: float) -> None:\n",
    "        self.distance = distance\n",
    "        self.exponent = exponent\n",
    "\n",
    "    def __getFunctions__(self, coverage: Set[Location]) -> Set[str]:\n",
    "        functions = set()\n",
    "        for f, _ in set(coverage):\n",
    "            functions.add(f)\n",
    "        return functions\n",
    "\n",
    "    def assignEnergy(self, population: Sequence[Seed]) -> None:\n",
    "        \"\"\"Assigns each seed energy inversely proportional\n",
    "           to the average function-level distance to target.\"\"\"\n",
    "        for seed in population:\n",
    "            if seed.distance < 0:\n",
    "                num_dist = 0\n",
    "                sum_dist = 0\n",
    "                for f in self.__getFunctions__(seed.coverage):\n",
    "                    if f in list(self.distance):\n",
    "                        sum_dist += self.distance[f]\n",
    "                        num_dist += 1\n",
    "                seed.distance = sum_dist / num_dist\n",
    "                seed.energy = (1 / seed.distance) ** self.exponent"
   ]
  },
  {
   "cell_type": "markdown",
   "metadata": {
    "slideshow": {
     "slide_type": "subslide"
    }
   },
   "source": [
    "Let's see how the directed schedule performs against the good, old greybox fuzzer."
   ]
  },
  {
   "cell_type": "code",
   "execution_count": 79,
   "metadata": {
    "execution": {
     "iopub.execute_input": "2023-11-12T12:40:57.258793Z",
     "iopub.status.busy": "2023-11-12T12:40:57.258615Z",
     "iopub.status.idle": "2023-11-12T12:41:07.066083Z",
     "shell.execute_reply": "2023-11-12T12:41:07.065759Z"
    },
    "slideshow": {
     "slide_type": "fragment"
    }
   },
   "outputs": [
    {
     "data": {
      "text/plain": [
       "'It took the fuzzer 9.80 seconds to generate and execute 20000 inputs.'"
      ]
     },
     "execution_count": 79,
     "metadata": {},
     "output_type": "execute_result"
    }
   ],
   "source": [
    "directed_schedule = DirectedSchedule(distance, 3)\n",
    "directed_fuzzer = GreyboxFuzzer([seed_input], maze_mutator, directed_schedule)\n",
    "\n",
    "start = time.time()\n",
    "directed_fuzzer.runs(FunctionCoverageRunner(maze), trials=n)\n",
    "end = time.time()\n",
    "\n",
    "\"It took the fuzzer %0.2f seconds to generate and execute %d inputs.\" % (end - start, n)"
   ]
  },
  {
   "cell_type": "code",
   "execution_count": 80,
   "metadata": {
    "execution": {
     "iopub.execute_input": "2023-11-12T12:41:07.068050Z",
     "iopub.status.busy": "2023-11-12T12:41:07.067898Z",
     "iopub.status.idle": "2023-11-12T12:41:07.097355Z",
     "shell.execute_reply": "2023-11-12T12:41:07.096941Z"
    },
    "slideshow": {
     "slide_type": "subslide"
    }
   },
   "outputs": [
    {
     "name": "stdout",
     "output_type": "stream",
     "text": [
      "Out of 2708 seeds,\n",
      "*    0 solved the maze,\n",
      "* 1020 were valid but did not solve the maze, and\n",
      "* 1688 were invalid\n"
     ]
    }
   ],
   "source": [
    "print_stats(directed_fuzzer)"
   ]
  },
  {
   "cell_type": "markdown",
   "metadata": {
    "slideshow": {
     "slide_type": "fragment"
    }
   },
   "source": [
    "It probably didn't solve a single maze either, but we have more valid solutions. So, there is definitely progress.\n",
    "\n",
    "Let's have a look at the distance values for each seed."
   ]
  },
  {
   "cell_type": "code",
   "execution_count": 81,
   "metadata": {
    "execution": {
     "iopub.execute_input": "2023-11-12T12:41:07.099243Z",
     "iopub.status.busy": "2023-11-12T12:41:07.099094Z",
     "iopub.status.idle": "2023-11-12T12:41:07.249960Z",
     "shell.execute_reply": "2023-11-12T12:41:07.249071Z"
    },
    "slideshow": {
     "slide_type": "subslide"
    }
   },
   "outputs": [
    {
     "data": {
      "image/png": "[encoded data removed]",
      "text/plain": [
       "<Figure size 640x480 with 1 Axes>"
      ]
     },
     "metadata": {},
     "output_type": "display_data"
    }
   ],
   "source": [
    "y = [seed.distance for seed in directed_fuzzer.population]  # type: ignore\n",
    "x = range(len(y))\n",
    "plt.scatter(x, y)\n",
    "plt.ylim(0, max(y))\n",
    "plt.xlabel(\"Seed ID\")\n",
    "plt.ylabel(\"Distance\");"
   ]
  },
  {
   "cell_type": "markdown",
   "metadata": {
    "slideshow": {
     "slide_type": "fragment"
    }
   },
   "source": [
    "Let's normalize the y-axis and improve the importance of the small distance seeds."
   ]
  },
  {
   "cell_type": "markdown",
   "metadata": {
    "slideshow": {
     "slide_type": "subslide"
    }
   },
   "source": [
    "### Improved Directed Power Schedule\n",
    "\n",
    "The improved directed schedule normalizes seed distance between the minimal and maximal distance.\n",
    "Again, if you really want to know. Given the seed distance $d(i,t)$ of a seed $i$ to a function $t$, our improved power schedule computes the new seed distance $d'(i,t)$ as \n",
    "$$\n",
    "d'(i,t)=\\begin{cases}\n",
    "1 & \\text{if } d(i,t) = \\text{minD} = \\text{maxD}\\\\\n",
    "\\text{maxD} - \\text{minD} & \\text{if } d(i,t) = \\text{minD} \\neq \\text{maxD}\\\\\n",
    "\\frac{\\text{maxD} - \\text{minD}}{d(i,t)-\\text{minD}} & \\text{otherwise}\n",
    "\\end{cases}\n",
    "$$\n",
    "where \n",
    "$$\\text{minD}=\\min_{i\\in T}[d(i,t)]$$\n",
    "and\n",
    "$$\\text{maxD}=\\max_{i\\in T}[d(i,t)]$$\n",
    "where $T$ is the set of seeds (i.e., the population)."
   ]
  },
  {
   "cell_type": "code",
   "execution_count": 82,
   "metadata": {
    "execution": {
     "iopub.execute_input": "2023-11-12T12:41:07.257797Z",
     "iopub.status.busy": "2023-11-12T12:41:07.257403Z",
     "iopub.status.idle": "2023-11-12T12:41:07.265476Z",
     "shell.execute_reply": "2023-11-12T12:41:07.262557Z"
    },
    "slideshow": {
     "slide_type": "subslide"
    }
   },
   "outputs": [],
   "source": [
    "class AFLGoSchedule(DirectedSchedule):\n",
    "    \"\"\"Assign high energy to seeds close to the target\"\"\"\n",
    "\n",
    "    def assignEnergy(self, population: Sequence[Seed]):\n",
    "        \"\"\"Assigns each seed energy inversely proportional\n",
    "           to the average function-level distance to target.\"\"\"\n",
    "        min_dist: Union[int, float] = 0xFFFF\n",
    "        max_dist: Union[int, float] = 0\n",
    "\n",
    "        for seed in population:\n",
    "            if seed.distance < 0:\n",
    "                num_dist = 0\n",
    "                sum_dist = 0\n",
    "                for f in self.__getFunctions__(seed.coverage):\n",
    "                    if f in list(self.distance):\n",
    "                        sum_dist += self.distance[f]\n",
    "                        num_dist += 1\n",
    "                seed.distance = sum_dist / num_dist\n",
    "            if seed.distance < min_dist:\n",
    "                min_dist = seed.distance\n",
    "            if seed.distance > max_dist:\n",
    "                max_dist = seed.distance\n",
    "\n",
    "        for seed in population:\n",
    "            if seed.distance == min_dist:\n",
    "                if min_dist == max_dist:\n",
    "                    seed.energy = 1\n",
    "                else:\n",
    "                    seed.energy = max_dist - min_dist\n",
    "            else:\n",
    "                seed.energy = (max_dist - min_dist) / (seed.distance - min_dist)"
   ]
  },
  {
   "cell_type": "markdown",
   "metadata": {
    "slideshow": {
     "slide_type": "subslide"
    }
   },
   "source": [
    "Let's see how the improved power schedule performs."
   ]
  },
  {
   "cell_type": "code",
   "execution_count": 83,
   "metadata": {
    "execution": {
     "iopub.execute_input": "2023-11-12T12:41:07.271246Z",
     "iopub.status.busy": "2023-11-12T12:41:07.271041Z",
     "iopub.status.idle": "2023-11-12T12:41:24.877722Z",
     "shell.execute_reply": "2023-11-12T12:41:24.877336Z"
    },
    "slideshow": {
     "slide_type": "fragment"
    }
   },
   "outputs": [
    {
     "data": {
      "text/plain": [
       "'It took the fuzzer 17.60 seconds to generate and execute 20000 inputs.'"
      ]
     },
     "execution_count": 83,
     "metadata": {},
     "output_type": "execute_result"
    }
   ],
   "source": [
    "aflgo_schedule = AFLGoSchedule(distance, 3)\n",
    "aflgo_fuzzer = GreyboxFuzzer([seed_input], maze_mutator, aflgo_schedule)\n",
    "\n",
    "start = time.time()\n",
    "aflgo_fuzzer.runs(FunctionCoverageRunner(maze), trials=n)\n",
    "end = time.time()\n",
    "\n",
    "\"It took the fuzzer %0.2f seconds to generate and execute %d inputs.\" % (end - start, n)"
   ]
  },
  {
   "cell_type": "code",
   "execution_count": 84,
   "metadata": {
    "execution": {
     "iopub.execute_input": "2023-11-12T12:41:24.879722Z",
     "iopub.status.busy": "2023-11-12T12:41:24.879505Z",
     "iopub.status.idle": "2023-11-12T12:41:24.937480Z",
     "shell.execute_reply": "2023-11-12T12:41:24.937153Z"
    },
    "slideshow": {
     "slide_type": "subslide"
    }
   },
   "outputs": [
    {
     "name": "stdout",
     "output_type": "stream",
     "text": [
      "First solution: DP{\u00049DsDmD)$gPRROR\"jRUUHtLFLPUU=DURRR/RDDDDD\n",
      "Out of 3918 seeds,\n",
      "*  680 solved the maze,\n",
      "*  348 were valid but did not solve the maze, and\n",
      "* 2890 were invalid\n"
     ]
    }
   ],
   "source": [
    "print_stats(aflgo_fuzzer)"
   ]
  },
  {
   "cell_type": "markdown",
   "metadata": {
    "slideshow": {
     "slide_type": "fragment"
    }
   },
   "source": [
    "In contrast to all previous power schedules, this one generates hundreds of solutions. It has generated many solutions. \n",
    "\n",
    "Let's filter out all ignored input characters from the first solution. The function `filter(f, seed.data)` returns a list of elements `e` in `seed.data` where the function `f` applied on `e` returns True."
   ]
  },
  {
   "cell_type": "code",
   "execution_count": 85,
   "metadata": {
    "execution": {
     "iopub.execute_input": "2023-11-12T12:41:24.939466Z",
     "iopub.status.busy": "2023-11-12T12:41:24.939331Z",
     "iopub.status.idle": "2023-11-12T12:41:24.948210Z",
     "shell.execute_reply": "2023-11-12T12:41:24.947890Z"
    },
    "slideshow": {
     "slide_type": "subslide"
    }
   },
   "outputs": [
    {
     "name": "stdout",
     "output_type": "stream",
     "text": [
      "DDDDRRRRUULLUUDURRRRDDDDD\n"
     ]
    }
   ],
   "source": [
    "for seed in aflgo_fuzzer.population:\n",
    "    s = maze(str(seed.data))\n",
    "    if \"SOLVED\" in s:\n",
    "        filtered = \"\".join(list(filter(lambda c: c in \"UDLR\", seed.data)))\n",
    "        print(filtered)\n",
    "        break"
   ]
  },
  {
   "cell_type": "markdown",
   "metadata": {
    "slideshow": {
     "slide_type": "subslide"
    }
   },
   "source": [
    "This is definitely a solution for the maze specified at the beginning!\n",
    "\n",
    "***Summary***. After pre-computing the function-level distance to the target, we can develop a power schedule that assigns more energy to a seed with a smaller average function-level distance to the target. By normalizing seed distance values between the minimum and maximum seed distance, we can further boost the directed power schedule.\n",
    "\n",
    "***Try it***. Implement and evaluate a simpler directed power that uses the minimal (rather than average) function-level distance. What is the downside of using the minimal distance? In order to execute your code, you just need to open this chapter as Jupyter notebook.\n",
    "\n",
    "***Read***. You can find out more about directed greybox fuzzing in the equally-named paper \"[Directed Greybox Fuzzing](https://mboehme.github.io/paper/CCS17.pdf)\" \\cite{boehme2017greybox} and check out the implementation into AFL at [http://github.com/aflgo/aflgo](http://github.com/aflgo/aflgo)."
   ]
  },
  {
   "cell_type": "markdown",
   "metadata": {
    "slideshow": {
     "slide_type": "slide"
    }
   },
   "source": [
    "## Synopsis\n",
    "\n",
    "This chapter introduces advanced methods for grey-box fuzzing inspired by the popular AFL fuzzer. The `GreyboxFuzzer` class has three arguments. First, a list of seed inputs:"
   ]
  },
  {
   "cell_type": "code",
   "execution_count": 86,
   "metadata": {
    "execution": {
     "iopub.execute_input": "2023-11-12T12:41:24.950002Z",
     "iopub.status.busy": "2023-11-12T12:41:24.949869Z",
     "iopub.status.idle": "2023-11-12T12:41:24.951607Z",
     "shell.execute_reply": "2023-11-12T12:41:24.951273Z"
    },
    "slideshow": {
     "slide_type": "fragment"
    }
   },
   "outputs": [],
   "source": [
    "seed_input = \"http://www.google.com/search?q=fuzzing\"\n",
    "seeds = [seed_input]"
   ]
  },
  {
   "cell_type": "markdown",
   "metadata": {
    "slideshow": {
     "slide_type": "fragment"
    }
   },
   "source": [
    "Second, a _mutator_ that changes individual parts of the input."
   ]
  },
  {
   "cell_type": "code",
   "execution_count": 87,
   "metadata": {
    "execution": {
     "iopub.execute_input": "2023-11-12T12:41:24.953437Z",
     "iopub.status.busy": "2023-11-12T12:41:24.953295Z",
     "iopub.status.idle": "2023-11-12T12:41:24.955128Z",
     "shell.execute_reply": "2023-11-12T12:41:24.954675Z"
    },
    "slideshow": {
     "slide_type": "fragment"
    }
   },
   "outputs": [],
   "source": [
    "mutator = Mutator()"
   ]
  },
  {
   "cell_type": "markdown",
   "metadata": {
    "slideshow": {
     "slide_type": "fragment"
    }
   },
   "source": [
    "Third, a _power schedule_ that assigns fuzzing effort across the population:"
   ]
  },
  {
   "cell_type": "code",
   "execution_count": 88,
   "metadata": {
    "execution": {
     "iopub.execute_input": "2023-11-12T12:41:24.957126Z",
     "iopub.status.busy": "2023-11-12T12:41:24.956990Z",
     "iopub.status.idle": "2023-11-12T12:41:24.958935Z",
     "shell.execute_reply": "2023-11-12T12:41:24.958552Z"
    },
    "slideshow": {
     "slide_type": "fragment"
    }
   },
   "outputs": [],
   "source": [
    "schedule = PowerSchedule()"
   ]
  },
  {
   "cell_type": "markdown",
   "metadata": {
    "slideshow": {
     "slide_type": "fragment"
    }
   },
   "source": [
    "These three go into the `GreyboxFuzzer` constructor:"
   ]
  },
  {
   "cell_type": "code",
   "execution_count": 89,
   "metadata": {
    "execution": {
     "iopub.execute_input": "2023-11-12T12:41:24.961450Z",
     "iopub.status.busy": "2023-11-12T12:41:24.961298Z",
     "iopub.status.idle": "2023-11-12T12:41:24.964269Z",
     "shell.execute_reply": "2023-11-12T12:41:24.963887Z"
    },
    "slideshow": {
     "slide_type": "fragment"
    },
    "tags": []
   },
   "outputs": [],
   "source": [
    "greybox_fuzzer = GreyboxFuzzer(seeds=seeds, mutator=mutator, schedule=schedule)"
   ]
  },
  {
   "cell_type": "markdown",
   "metadata": {
    "slideshow": {
     "slide_type": "subslide"
    }
   },
   "source": [
    "The `GreyboxFuzzer` class is used in conjunction with a `FunctionCoverageRunner`:"
   ]
  },
  {
   "cell_type": "code",
   "execution_count": 90,
   "metadata": {
    "execution": {
     "iopub.execute_input": "2023-11-12T12:41:24.966626Z",
     "iopub.status.busy": "2023-11-12T12:41:24.966412Z",
     "iopub.status.idle": "2023-11-12T12:41:25.935694Z",
     "shell.execute_reply": "2023-11-12T12:41:25.935365Z"
    },
    "slideshow": {
     "slide_type": "fragment"
    }
   },
   "outputs": [],
   "source": [
    "http_runner = FunctionCoverageRunner(http_program)\n",
    "outcomes = greybox_fuzzer.runs(http_runner, trials=10000)"
   ]
  },
  {
   "cell_type": "markdown",
   "metadata": {
    "slideshow": {
     "slide_type": "fragment"
    }
   },
   "source": [
    "After fuzzing, we can inspect the population:"
   ]
  },
  {
   "cell_type": "code",
   "execution_count": 91,
   "metadata": {
    "execution": {
     "iopub.execute_input": "2023-11-12T12:41:25.937812Z",
     "iopub.status.busy": "2023-11-12T12:41:25.937604Z",
     "iopub.status.idle": "2023-11-12T12:41:25.940298Z",
     "shell.execute_reply": "2023-11-12T12:41:25.939918Z"
    },
    "slideshow": {
     "slide_type": "subslide"
    }
   },
   "outputs": [
    {
     "data": {
      "text/plain": [
       "[http://www.google.com/search?q=fuzzing,\n",
       " htpp://w.gfoogne.com/seaRchw?q=fuzzng,\n",
       " http://ww.google.com/search?q=furzing,\n",
       " xvtp:{/www.foogle.com/seapch=q=uzzing,\n",
       " ht:w/ww.goog\\l*#m/seaXrceh?bq=rzilgl,\n",
       " http:/wwwgoogne.coe/seazch?q=uzzin&,\n",
       " h|t4p://.PgoolL.com/sdrh?Qq=Fuzi,\n",
       " htzB</wqwgRjo%n.be/cac&cJDi?q=uZ4hn4,\n",
       " dtp\\/AwF!g.gmoel+b/hsech?=Nfu|r:fg,\n",
       " tpp:J//c.znoTogn{.com/ceachw?0q=fuzzng,\n",
       " http://www.gooole.com/searchq=fuzzing,\n",
       " 1dtp$:/-wgoogdeVcom/\u001aserca=uAzing,\n",
       " htzB</w1wgRjo%n.be/cac[&cJDi?q=uZ4hn4,\n",
       " Jh;vw//wwA,j7oo!'l#m/aX\\c%eh?.q-Xrzil,\n",
       " ht:wwW.goog\\l*#m/seRa<Xrch?bqrzIgl,\n",
       " h~tzbwqwgR`%n>jQex/c&*ieq=08T,\n",
       "  vpe7pJ5/nb/nUc{jICo-m /gacw0qmfQuzz#ng,\n",
       " htpp://w.gf/ogn.#m/seaRchw?q=fuzzng,\n",
       " J;w?G/&!7jwA,j7/o!fL\u0003mX\\gh?2-bz@\"i,\n",
       " ;?p8.gnoox\u0007n%ncooms'aRhqW=f\"Dzg]"
      ]
     },
     "execution_count": 91,
     "metadata": {},
     "output_type": "execute_result"
    }
   ],
   "source": [
    "greybox_fuzzer.population[:20]"
   ]
  },
  {
   "cell_type": "markdown",
   "metadata": {
    "slideshow": {
     "slide_type": "subslide"
    }
   },
   "source": [
    "Besides the simple `PowerSchedule`, we can have advanced power schedules.\n",
    "\n",
    "* `AFLFastSchedule` assigns high energy to \"unusual\" paths not taken very often.\n",
    "* `AFLGoSchedule` assigns high energy to paths close to uncovered program locations. \n",
    "\n",
    "The `AFLGoSchedule` class constructor requires a `distance` metric from each node towards target locations, as determined via analysis of the program code. See the chapter for details."
   ]
  },
  {
   "cell_type": "code",
   "execution_count": 92,
   "metadata": {
    "execution": {
     "iopub.execute_input": "2023-11-12T12:41:25.942089Z",
     "iopub.status.busy": "2023-11-12T12:41:25.941947Z",
     "iopub.status.idle": "2023-11-12T12:41:25.943826Z",
     "shell.execute_reply": "2023-11-12T12:41:25.943521Z"
    },
    "slideshow": {
     "slide_type": "fragment"
    }
   },
   "outputs": [],
   "source": [
    "# ignore\n",
    "from ClassDiagram import display_class_hierarchy"
   ]
  },
  {
   "cell_type": "code",
   "execution_count": 93,
   "metadata": {
    "execution": {
     "iopub.execute_input": "2023-11-12T12:41:25.945521Z",
     "iopub.status.busy": "2023-11-12T12:41:25.945389Z",
     "iopub.status.idle": "2023-11-12T12:41:26.470127Z",
     "shell.execute_reply": "2023-11-12T12:41:26.469720Z"
    },
    "slideshow": {
     "slide_type": "subslide"
    }
   },
   "outputs": [
    {
     "data": {
      "image/svg+xml": [
       "<?xml version=\"1.0\" encoding=\"UTF-8\" standalone=\"no\"?>\n",
       "<!DOCTYPE svg PUBLIC \"-//W3C//DTD SVG 1.1//EN\"\n",
       " \"http://www.w3.org/Graphics/SVG/1.1/DTD/svg11.dtd\">\n",
       "<!-- Generated by graphviz version 9.0.0 (20230911.1827)\n",
       " -->\n",
       "<!-- Pages: 1 -->\n",
       "<svg width=\"861pt\" height=\"436pt\"\n",
       " viewBox=\"0.00 0.00 860.88 436.00\" xmlns=\"http://www.w3.org/2000/svg\" xmlns:xlink=\"http://www.w3.org/1999/xlink\">\n",
       "<g id=\"graph0\" class=\"graph\" transform=\"scale(1 1) rotate(0) translate(4 432)\">\n",
       "<g id=\"a_graph0\"><a xlink:title=\"CountingGreyboxFuzzer class hierarchy\">\n",
       "<polygon fill=\"white\" stroke=\"none\" points=\"-4,4 -4,-432 856.88,-432 856.88,4 -4,4\"/>\n",
       "</a>\n",
       "</g>\n",
       "<!-- CountingGreyboxFuzzer -->\n",
       "<g id=\"node1\" class=\"node\">\n",
       "<title>CountingGreyboxFuzzer</title>\n",
       "<g id=\"a_node1\"><a xlink:href=\"#\" xlink:title=\"class CountingGreyboxFuzzer:&#10;Count how often individual paths are exercised.\">\n",
       "<polygon fill=\"none\" stroke=\"black\" points=\"5.25,-6.12 5.25,-62.62 171.25,-62.62 171.25,-6.12 5.25,-6.12\"/>\n",
       "<text text-anchor=\"start\" x=\"13.25\" y=\"-46.33\" font-family=\"Patua One, Helvetica, sans-serif\" font-weight=\"bold\" font-size=\"14.00\" fill=\"#b03a2e\">CountingGreyboxFuzzer</text>\n",
       "<polyline fill=\"none\" stroke=\"black\" points=\"5.25,-36.62 171.25,-36.62\"/>\n",
       "<g id=\"a_node1_0\"><a xlink:href=\"#\" xlink:title=\"CountingGreyboxFuzzer\">\n",
       "<g id=\"a_node1_1\"><a xlink:href=\"#\" xlink:title=\"run(self, runner: MutationFuzzer.FunctionCoverageRunner) &#45;&gt; Tuple[Any, str]:&#10;Inform scheduler about path frequency\">\n",
       "<text text-anchor=\"start\" x=\"67.25\" y=\"-24.12\" font-family=\"'Fira Mono', 'Source Code Pro', 'Courier', monospace\" font-weight=\"bold\" font-style=\"italic\" font-size=\"10.00\">run()</text>\n",
       "</a>\n",
       "</g>\n",
       "<g id=\"a_node1_2\"><a xlink:href=\"#\" xlink:title=\"reset(self):&#10;Reset path frequency\">\n",
       "<text text-anchor=\"start\" x=\"67.25\" y=\"-12.88\" font-family=\"'Fira Mono', 'Source Code Pro', 'Courier', monospace\" font-style=\"italic\" font-size=\"10.00\">reset()</text>\n",
       "</a>\n",
       "</g>\n",
       "</a>\n",
       "</g>\n",
       "</a>\n",
       "</g>\n",
       "</g>\n",
       "<!-- GreyboxFuzzer -->\n",
       "<g id=\"node2\" class=\"node\">\n",
       "<title>GreyboxFuzzer</title>\n",
       "<g id=\"a_node2\"><a xlink:href=\"#\" xlink:title=\"class GreyboxFuzzer:&#10;Coverage&#45;guided mutational fuzzing.\">\n",
       "<polygon fill=\"none\" stroke=\"black\" points=\"33.75,-122.12 33.75,-178.62 142.75,-178.62 142.75,-122.12 33.75,-122.12\"/>\n",
       "<text text-anchor=\"start\" x=\"41.75\" y=\"-162.32\" font-family=\"Patua One, Helvetica, sans-serif\" font-weight=\"bold\" font-size=\"14.00\" fill=\"#b03a2e\">GreyboxFuzzer</text>\n",
       "<polyline fill=\"none\" stroke=\"black\" points=\"33.75,-152.62 142.75,-152.62\"/>\n",
       "<g id=\"a_node2_3\"><a xlink:href=\"#\" xlink:title=\"GreyboxFuzzer\">\n",
       "<g id=\"a_node2_4\"><a xlink:href=\"#\" xlink:title=\"run(self, runner: MutationFuzzer.FunctionCoverageRunner) &#45;&gt; Tuple[Any, str]:&#10;Run function(inp) while tracking coverage.&#10;If we reach new coverage,&#10;add inp to population and its coverage to population_coverage\">\n",
       "<text text-anchor=\"start\" x=\"67.25\" y=\"-140.12\" font-family=\"'Fira Mono', 'Source Code Pro', 'Courier', monospace\" font-weight=\"bold\" font-style=\"italic\" font-size=\"10.00\">run()</text>\n",
       "</a>\n",
       "</g>\n",
       "<g id=\"a_node2_5\"><a xlink:href=\"#\" xlink:title=\"reset(self):&#10;Reset the initial population, seed index, coverage information\">\n",
       "<text text-anchor=\"start\" x=\"67.25\" y=\"-128.88\" font-family=\"'Fira Mono', 'Source Code Pro', 'Courier', monospace\" font-style=\"italic\" font-size=\"10.00\">reset()</text>\n",
       "</a>\n",
       "</g>\n",
       "</a>\n",
       "</g>\n",
       "</a>\n",
       "</g>\n",
       "</g>\n",
       "<!-- CountingGreyboxFuzzer&#45;&gt;GreyboxFuzzer -->\n",
       "<g id=\"edge1\" class=\"edge\">\n",
       "<title>CountingGreyboxFuzzer&#45;&gt;GreyboxFuzzer</title>\n",
       "<path fill=\"none\" stroke=\"black\" d=\"M88.25,-62.97C88.25,-77.15 88.25,-94.67 88.25,-110.22\"/>\n",
       "<polygon fill=\"none\" stroke=\"black\" points=\"84.75,-110.12 88.25,-120.12 91.75,-110.12 84.75,-110.12\"/>\n",
       "</g>\n",
       "<!-- AdvancedMutationFuzzer -->\n",
       "<g id=\"node3\" class=\"node\">\n",
       "<title>AdvancedMutationFuzzer</title>\n",
       "<g id=\"a_node3\"><a xlink:href=\"#\" xlink:title=\"class AdvancedMutationFuzzer:&#10;Base class for mutation&#45;based fuzzing.\">\n",
       "<polygon fill=\"none\" stroke=\"black\" points=\"0,-232.5 0,-311.5 176.5,-311.5 176.5,-232.5 0,-232.5\"/>\n",
       "<text text-anchor=\"start\" x=\"8\" y=\"-295.2\" font-family=\"Patua One, Helvetica, sans-serif\" font-weight=\"bold\" font-size=\"14.00\" fill=\"#b03a2e\">AdvancedMutationFuzzer</text>\n",
       "<polyline fill=\"none\" stroke=\"black\" points=\"0,-285.5 176.5,-285.5\"/>\n",
       "<g id=\"a_node3_6\"><a xlink:href=\"#\" xlink:title=\"AdvancedMutationFuzzer\">\n",
       "<g id=\"a_node3_7\"><a xlink:href=\"#\" xlink:title=\"__init__(self, seeds: List[str], mutator: Mutator, schedule: PowerSchedule) &#45;&gt; None:&#10;Constructor.&#10;`seeds` &#45; a list of (input) strings to mutate.&#10;`mutator` &#45; the mutator to apply.&#10;`schedule` &#45; the power schedule to apply.\">\n",
       "<text text-anchor=\"start\" x=\"34.25\" y=\"-273\" font-family=\"'Fira Mono', 'Source Code Pro', 'Courier', monospace\" font-weight=\"bold\" font-style=\"italic\" font-size=\"10.00\">__init__()</text>\n",
       "</a>\n",
       "</g>\n",
       "<g id=\"a_node3_8\"><a xlink:href=\"#\" xlink:title=\"fuzz(self) &#45;&gt; str:&#10;Returns first each seed once and then generates new inputs\">\n",
       "<text text-anchor=\"start\" x=\"34.25\" y=\"-261.75\" font-family=\"'Fira Mono', 'Source Code Pro', 'Courier', monospace\" font-weight=\"bold\" font-style=\"italic\" font-size=\"10.00\">fuzz()</text>\n",
       "</a>\n",
       "</g>\n",
       "<g id=\"a_node3_9\"><a xlink:href=\"#\" xlink:title=\"create_candidate(self) &#45;&gt; str:&#10;Returns an input generated by fuzzing a seed in the population\">\n",
       "<text text-anchor=\"start\" x=\"34.25\" y=\"-249.5\" font-family=\"'Fira Mono', 'Source Code Pro', 'Courier', monospace\" font-size=\"10.00\">create_candidate()</text>\n",
       "</a>\n",
       "</g>\n",
       "<g id=\"a_node3_10\"><a xlink:href=\"#\" xlink:title=\"reset(self) &#45;&gt; None:&#10;Reset the initial population and seed index\">\n",
       "<text text-anchor=\"start\" x=\"34.25\" y=\"-239.25\" font-family=\"'Fira Mono', 'Source Code Pro', 'Courier', monospace\" font-style=\"italic\" font-size=\"10.00\">reset()</text>\n",
       "</a>\n",
       "</g>\n",
       "</a>\n",
       "</g>\n",
       "</a>\n",
       "</g>\n",
       "</g>\n",
       "<!-- GreyboxFuzzer&#45;&gt;AdvancedMutationFuzzer -->\n",
       "<g id=\"edge2\" class=\"edge\">\n",
       "<title>GreyboxFuzzer&#45;&gt;AdvancedMutationFuzzer</title>\n",
       "<path fill=\"none\" stroke=\"black\" d=\"M88.25,-179.12C88.25,-191.54 88.25,-206.57 88.25,-220.85\"/>\n",
       "<polygon fill=\"none\" stroke=\"black\" points=\"84.75,-220.56 88.25,-230.56 91.75,-220.57 84.75,-220.56\"/>\n",
       "</g>\n",
       "<!-- Fuzzer -->\n",
       "<g id=\"node4\" class=\"node\">\n",
       "<title>Fuzzer</title>\n",
       "<g id=\"a_node4\"><a xlink:href=\"Fuzzer.ipynb\" xlink:title=\"class Fuzzer:&#10;Base class for fuzzers.\">\n",
       "<polygon fill=\"none\" stroke=\"black\" points=\"50.25,-348.5 50.25,-427.5 126.25,-427.5 126.25,-348.5 50.25,-348.5\"/>\n",
       "<text text-anchor=\"start\" x=\"67.62\" y=\"-411.2\" font-family=\"Patua One, Helvetica, sans-serif\" font-weight=\"bold\" font-size=\"14.00\" fill=\"#b03a2e\">Fuzzer</text>\n",
       "<polyline fill=\"none\" stroke=\"black\" points=\"50.25,-401.5 126.25,-401.5\"/>\n",
       "<g id=\"a_node4_11\"><a xlink:href=\"#\" xlink:title=\"Fuzzer\">\n",
       "<g id=\"a_node4_12\"><a xlink:href=\"Fuzzer.ipynb\" xlink:title=\"__init__(self) &#45;&gt; None:&#10;Constructor\">\n",
       "<text text-anchor=\"start\" x=\"58.25\" y=\"-389\" font-family=\"'Fira Mono', 'Source Code Pro', 'Courier', monospace\" font-weight=\"bold\" font-style=\"italic\" font-size=\"10.00\">__init__()</text>\n",
       "</a>\n",
       "</g>\n",
       "<g id=\"a_node4_13\"><a xlink:href=\"Fuzzer.ipynb\" xlink:title=\"fuzz(self) &#45;&gt; str:&#10;Return fuzz input\">\n",
       "<text text-anchor=\"start\" x=\"58.25\" y=\"-377.75\" font-family=\"'Fira Mono', 'Source Code Pro', 'Courier', monospace\" font-weight=\"bold\" font-style=\"italic\" font-size=\"10.00\">fuzz()</text>\n",
       "</a>\n",
       "</g>\n",
       "<g id=\"a_node4_14\"><a xlink:href=\"Fuzzer.ipynb\" xlink:title=\"run(self, runner: Fuzzer.Runner = &lt;Fuzzer.Runner object at 0x10603e590&gt;) &#45;&gt; Tuple[subprocess.CompletedProcess, str]:&#10;Run `runner` with fuzz input\">\n",
       "<text text-anchor=\"start\" x=\"58.25\" y=\"-366.5\" font-family=\"'Fira Mono', 'Source Code Pro', 'Courier', monospace\" font-weight=\"bold\" font-style=\"italic\" font-size=\"10.00\">run()</text>\n",
       "</a>\n",
       "</g>\n",
       "<g id=\"a_node4_15\"><a xlink:href=\"Fuzzer.ipynb\" xlink:title=\"runs(self, runner: Fuzzer.Runner = &lt;Fuzzer.PrintRunner object at 0x10603dff0&gt;, trials: int = 10) &#45;&gt; List[Tuple[subprocess.CompletedProcess, str]]:&#10;Run `runner` with fuzz input, `trials` times\">\n",
       "<text text-anchor=\"start\" x=\"58.25\" y=\"-355.25\" font-family=\"'Fira Mono', 'Source Code Pro', 'Courier', monospace\" font-weight=\"bold\" font-size=\"10.00\">runs()</text>\n",
       "</a>\n",
       "</g>\n",
       "</a>\n",
       "</g>\n",
       "</a>\n",
       "</g>\n",
       "</g>\n",
       "<!-- AdvancedMutationFuzzer&#45;&gt;Fuzzer -->\n",
       "<g id=\"edge3\" class=\"edge\">\n",
       "<title>AdvancedMutationFuzzer&#45;&gt;Fuzzer</title>\n",
       "<path fill=\"none\" stroke=\"black\" d=\"M88.25,-311.91C88.25,-319.98 88.25,-328.59 88.25,-337\"/>\n",
       "<polygon fill=\"none\" stroke=\"black\" points=\"84.75,-336.75 88.25,-346.75 91.75,-336.75 84.75,-336.75\"/>\n",
       "</g>\n",
       "<!-- AFLFastSchedule -->\n",
       "<g id=\"node5\" class=\"node\">\n",
       "<title>AFLFastSchedule</title>\n",
       "<g id=\"a_node5\"><a xlink:href=\"#\" xlink:title=\"class AFLFastSchedule:&#10;Exponential power schedule as implemented in AFL\">\n",
       "<polygon fill=\"none\" stroke=\"black\" points=\"178.5,-122.12 178.5,-178.62 298,-178.62 298,-122.12 178.5,-122.12\"/>\n",
       "<text text-anchor=\"start\" x=\"186.5\" y=\"-162.32\" font-family=\"Patua One, Helvetica, sans-serif\" font-weight=\"bold\" font-size=\"14.00\" fill=\"#b03a2e\">AFLFastSchedule</text>\n",
       "<polyline fill=\"none\" stroke=\"black\" points=\"178.5,-152.62 298,-152.62\"/>\n",
       "<g id=\"a_node5_16\"><a xlink:href=\"#\" xlink:title=\"AFLFastSchedule\">\n",
       "<g id=\"a_node5_17\"><a xlink:href=\"#\" xlink:title=\"__init__(self, exponent: float) &#45;&gt; None:&#10;Constructor\">\n",
       "<text text-anchor=\"start\" x=\"196.25\" y=\"-140.12\" font-family=\"'Fira Mono', 'Source Code Pro', 'Courier', monospace\" font-weight=\"bold\" font-style=\"italic\" font-size=\"10.00\">__init__()</text>\n",
       "</a>\n",
       "</g>\n",
       "<g id=\"a_node5_18\"><a xlink:href=\"#\" xlink:title=\"assignEnergy(self, population: collections.abc.Sequence[Seed]) &#45;&gt; None:&#10;Assign exponential energy inversely proportional to path frequency\">\n",
       "<text text-anchor=\"start\" x=\"196.25\" y=\"-128.88\" font-family=\"'Fira Mono', 'Source Code Pro', 'Courier', monospace\" font-style=\"italic\" font-size=\"10.00\">assignEnergy()</text>\n",
       "</a>\n",
       "</g>\n",
       "</a>\n",
       "</g>\n",
       "</a>\n",
       "</g>\n",
       "</g>\n",
       "<!-- PowerSchedule -->\n",
       "<g id=\"node6\" class=\"node\">\n",
       "<title>PowerSchedule</title>\n",
       "<g id=\"a_node6\"><a xlink:href=\"#\" xlink:title=\"class PowerSchedule:&#10;Define how fuzzing time should be distributed across the population.\">\n",
       "<polygon fill=\"none\" stroke=\"black\" points=\"255.25,-232.5 255.25,-311.5 379.25,-311.5 379.25,-232.5 255.25,-232.5\"/>\n",
       "<text text-anchor=\"start\" x=\"270.38\" y=\"-295.2\" font-family=\"Patua One, Helvetica, sans-serif\" font-weight=\"bold\" font-size=\"14.00\" fill=\"#b03a2e\">PowerSchedule</text>\n",
       "<polyline fill=\"none\" stroke=\"black\" points=\"255.25,-285.5 379.25,-285.5\"/>\n",
       "<g id=\"a_node6_19\"><a xlink:href=\"#\" xlink:title=\"PowerSchedule\">\n",
       "<g id=\"a_node6_20\"><a xlink:href=\"#\" xlink:title=\"__init__(self) &#45;&gt; None:&#10;Constructor\">\n",
       "<text text-anchor=\"start\" x=\"263.25\" y=\"-273\" font-family=\"'Fira Mono', 'Source Code Pro', 'Courier', monospace\" font-weight=\"bold\" font-style=\"italic\" font-size=\"10.00\">__init__()</text>\n",
       "</a>\n",
       "</g>\n",
       "<g id=\"a_node6_21\"><a xlink:href=\"#\" xlink:title=\"assignEnergy(self, population: collections.abc.Sequence[Seed]) &#45;&gt; None:&#10;Assigns each seed the same energy\">\n",
       "<text text-anchor=\"start\" x=\"263.25\" y=\"-261.75\" font-family=\"'Fira Mono', 'Source Code Pro', 'Courier', monospace\" font-style=\"italic\" font-size=\"10.00\">assignEnergy()</text>\n",
       "</a>\n",
       "</g>\n",
       "<g id=\"a_node6_22\"><a xlink:href=\"#\" xlink:title=\"choose(self, population: collections.abc.Sequence[Seed]) &#45;&gt; Seed:&#10;Choose weighted by normalized energy.\">\n",
       "<text text-anchor=\"start\" x=\"263.25\" y=\"-249.5\" font-family=\"'Fira Mono', 'Source Code Pro', 'Courier', monospace\" font-size=\"10.00\">choose()</text>\n",
       "</a>\n",
       "</g>\n",
       "<g id=\"a_node6_23\"><a xlink:href=\"#\" xlink:title=\"normalizedEnergy(self, population: collections.abc.Sequence[Seed]) &#45;&gt; List[float]:&#10;Normalize energy\">\n",
       "<text text-anchor=\"start\" x=\"263.25\" y=\"-238.25\" font-family=\"'Fira Mono', 'Source Code Pro', 'Courier', monospace\" font-size=\"10.00\">normalizedEnergy()</text>\n",
       "</a>\n",
       "</g>\n",
       "</a>\n",
       "</g>\n",
       "</a>\n",
       "</g>\n",
       "</g>\n",
       "<!-- AFLFastSchedule&#45;&gt;PowerSchedule -->\n",
       "<g id=\"edge4\" class=\"edge\">\n",
       "<title>AFLFastSchedule&#45;&gt;PowerSchedule</title>\n",
       "<path fill=\"none\" stroke=\"black\" d=\"M256.57,-179.12C265.1,-192.03 275.49,-207.77 285.25,-222.55\"/>\n",
       "<polygon fill=\"none\" stroke=\"black\" points=\"282.28,-224.4 290.71,-230.82 288.12,-220.54 282.28,-224.4\"/>\n",
       "</g>\n",
       "<!-- AFLGoSchedule -->\n",
       "<g id=\"node7\" class=\"node\">\n",
       "<title>AFLGoSchedule</title>\n",
       "<g id=\"a_node7\"><a xlink:href=\"#\" xlink:title=\"class AFLGoSchedule:&#10;Assign high energy to seeds close to the target\">\n",
       "<polygon fill=\"none\" stroke=\"black\" points=\"323,-11.75 323,-57 433.5,-57 433.5,-11.75 323,-11.75\"/>\n",
       "<text text-anchor=\"start\" x=\"331\" y=\"-40.7\" font-family=\"Patua One, Helvetica, sans-serif\" font-weight=\"bold\" font-size=\"14.00\" fill=\"#b03a2e\">AFLGoSchedule</text>\n",
       "<polyline fill=\"none\" stroke=\"black\" points=\"323,-31 433.5,-31\"/>\n",
       "<g id=\"a_node7_24\"><a xlink:href=\"#\" xlink:title=\"AFLGoSchedule\">\n",
       "<g id=\"a_node7_25\"><a xlink:href=\"#\" xlink:title=\"assignEnergy(self, population: collections.abc.Sequence[Seed]):&#10;Assigns each seed energy inversely proportional&#10;to the average function&#45;level distance to target.\">\n",
       "<text text-anchor=\"start\" x=\"336.25\" y=\"-18.5\" font-family=\"'Fira Mono', 'Source Code Pro', 'Courier', monospace\" font-style=\"italic\" font-size=\"10.00\">assignEnergy()</text>\n",
       "</a>\n",
       "</g>\n",
       "</a>\n",
       "</g>\n",
       "</a>\n",
       "</g>\n",
       "</g>\n",
       "<!-- DirectedSchedule -->\n",
       "<g id=\"node8\" class=\"node\">\n",
       "<title>DirectedSchedule</title>\n",
       "<g id=\"a_node8\"><a xlink:href=\"#\" xlink:title=\"class DirectedSchedule:&#10;Assign high energy to seeds close to some target\">\n",
       "<polygon fill=\"none\" stroke=\"black\" points=\"316.25,-116.5 316.25,-184.25 440.25,-184.25 440.25,-116.5 316.25,-116.5\"/>\n",
       "<text text-anchor=\"start\" x=\"325.75\" y=\"-167.95\" font-family=\"Patua One, Helvetica, sans-serif\" font-weight=\"bold\" font-size=\"14.00\" fill=\"#b03a2e\">DirectedSchedule</text>\n",
       "<polyline fill=\"none\" stroke=\"black\" points=\"316.25,-158.25 440.25,-158.25\"/>\n",
       "<g id=\"a_node8_26\"><a xlink:href=\"#\" xlink:title=\"DirectedSchedule\">\n",
       "<g id=\"a_node8_27\"><a xlink:href=\"#\" xlink:title=\"__init__(self, distance: Dict[str, int], exponent: float) &#45;&gt; None:&#10;Constructor\">\n",
       "<text text-anchor=\"start\" x=\"324.25\" y=\"-145.75\" font-family=\"'Fira Mono', 'Source Code Pro', 'Courier', monospace\" font-weight=\"bold\" font-style=\"italic\" font-size=\"10.00\">__init__()</text>\n",
       "</a>\n",
       "</g>\n",
       "<g id=\"a_node8_28\"><a xlink:href=\"#\" xlink:title=\"__getFunctions__(self, coverage: Set[Location]) &#45;&gt; Set[str]\">\n",
       "<text text-anchor=\"start\" x=\"324.25\" y=\"-133.5\" font-family=\"'Fira Mono', 'Source Code Pro', 'Courier', monospace\" font-size=\"10.00\">__getFunctions__()</text>\n",
       "</a>\n",
       "</g>\n",
       "<g id=\"a_node8_29\"><a xlink:href=\"#\" xlink:title=\"assignEnergy(self, population: collections.abc.Sequence[Seed]) &#45;&gt; None:&#10;Assigns each seed energy inversely proportional&#10;to the average function&#45;level distance to target.\">\n",
       "<text text-anchor=\"start\" x=\"324.25\" y=\"-123.25\" font-family=\"'Fira Mono', 'Source Code Pro', 'Courier', monospace\" font-style=\"italic\" font-size=\"10.00\">assignEnergy()</text>\n",
       "</a>\n",
       "</g>\n",
       "</a>\n",
       "</g>\n",
       "</a>\n",
       "</g>\n",
       "</g>\n",
       "<!-- AFLGoSchedule&#45;&gt;DirectedSchedule -->\n",
       "<g id=\"edge5\" class=\"edge\">\n",
       "<title>AFLGoSchedule&#45;&gt;DirectedSchedule</title>\n",
       "<path fill=\"none\" stroke=\"black\" d=\"M378.25,-57.36C378.25,-70.79 378.25,-88.46 378.25,-104.72\"/>\n",
       "<polygon fill=\"none\" stroke=\"black\" points=\"374.75,-104.72 378.25,-114.72 381.75,-104.72 374.75,-104.72\"/>\n",
       "</g>\n",
       "<!-- DirectedSchedule&#45;&gt;PowerSchedule -->\n",
       "<g id=\"edge6\" class=\"edge\">\n",
       "<title>DirectedSchedule&#45;&gt;PowerSchedule</title>\n",
       "<path fill=\"none\" stroke=\"black\" d=\"M361.26,-184.7C355.31,-196.37 348.49,-209.73 342.03,-222.4\"/>\n",
       "<polygon fill=\"none\" stroke=\"black\" points=\"339.07,-220.51 337.64,-231.01 345.3,-223.69 339.07,-220.51\"/>\n",
       "</g>\n",
       "<!-- DictMutator -->\n",
       "<g id=\"node9\" class=\"node\">\n",
       "<title>DictMutator</title>\n",
       "<g id=\"a_node9\"><a xlink:href=\"#\" xlink:title=\"class DictMutator:&#10;Variant of `Mutator` inserting keywords from a dictionary\">\n",
       "<polygon fill=\"none\" stroke=\"black\" points=\"461.25,-6.12 461.25,-62.62 621.25,-62.62 621.25,-6.12 461.25,-6.12\"/>\n",
       "<text text-anchor=\"start\" x=\"503.38\" y=\"-46.33\" font-family=\"Patua One, Helvetica, sans-serif\" font-weight=\"bold\" font-size=\"14.00\" fill=\"#b03a2e\">DictMutator</text>\n",
       "<polyline fill=\"none\" stroke=\"black\" points=\"461.25,-36.62 621.25,-36.62\"/>\n",
       "<g id=\"a_node9_30\"><a xlink:href=\"#\" xlink:title=\"DictMutator\">\n",
       "<g id=\"a_node9_31\"><a xlink:href=\"#\" xlink:title=\"__init__(self, dictionary: collections.abc.Sequence[str]) &#45;&gt; None:&#10;Constructor.&#10;`dictionary` &#45; a list of strings that can be used as keywords\">\n",
       "<text text-anchor=\"start\" x=\"469.25\" y=\"-24.12\" font-family=\"'Fira Mono', 'Source Code Pro', 'Courier', monospace\" font-weight=\"bold\" font-style=\"italic\" font-size=\"10.00\">__init__()</text>\n",
       "</a>\n",
       "</g>\n",
       "<g id=\"a_node9_32\"><a xlink:href=\"#\" xlink:title=\"insert_from_dictionary(self, s: str) &#45;&gt; str:&#10;Returns `s` with a keyword from the dictionary inserted\">\n",
       "<text text-anchor=\"start\" x=\"469.25\" y=\"-11.88\" font-family=\"'Fira Mono', 'Source Code Pro', 'Courier', monospace\" font-size=\"10.00\">insert_from_dictionary()</text>\n",
       "</a>\n",
       "</g>\n",
       "</a>\n",
       "</g>\n",
       "</a>\n",
       "</g>\n",
       "</g>\n",
       "<!-- Mutator -->\n",
       "<g id=\"node10\" class=\"node\">\n",
       "<title>Mutator</title>\n",
       "<g id=\"a_node10\"><a xlink:href=\"#\" xlink:title=\"class Mutator:&#10;Mutate strings\">\n",
       "<polygon fill=\"none\" stroke=\"black\" points=\"458.25,-105.25 458.25,-195.5 624.25,-195.5 624.25,-105.25 458.25,-105.25\"/>\n",
       "<text text-anchor=\"start\" x=\"515.38\" y=\"-179.2\" font-family=\"Patua One, Helvetica, sans-serif\" font-weight=\"bold\" font-size=\"14.00\" fill=\"#b03a2e\">Mutator</text>\n",
       "<polyline fill=\"none\" stroke=\"black\" points=\"458.25,-169.5 624.25,-169.5\"/>\n",
       "<g id=\"a_node10_33\"><a xlink:href=\"#\" xlink:title=\"Mutator\">\n",
       "<g id=\"a_node10_34\"><a xlink:href=\"#\" xlink:title=\"__init__(self) &#45;&gt; None:&#10;Constructor\">\n",
       "<text text-anchor=\"start\" x=\"466.25\" y=\"-157\" font-family=\"'Fira Mono', 'Source Code Pro', 'Courier', monospace\" font-weight=\"bold\" font-style=\"italic\" font-size=\"10.00\">__init__()</text>\n",
       "</a>\n",
       "</g>\n",
       "<g id=\"a_node10_35\"><a xlink:href=\"#\" xlink:title=\"delete_random_character(self, s: str) &#45;&gt; str:&#10;Returns s with a random character deleted\">\n",
       "<text text-anchor=\"start\" x=\"466.25\" y=\"-144.75\" font-family=\"'Fira Mono', 'Source Code Pro', 'Courier', monospace\" font-size=\"10.00\">delete_random_character()</text>\n",
       "</a>\n",
       "</g>\n",
       "<g id=\"a_node10_36\"><a xlink:href=\"#\" xlink:title=\"flip_random_character(self, s: str) &#45;&gt; str:&#10;Returns s with a random bit flipped in a random position\">\n",
       "<text text-anchor=\"start\" x=\"466.25\" y=\"-133.5\" font-family=\"'Fira Mono', 'Source Code Pro', 'Courier', monospace\" font-size=\"10.00\">flip_random_character()</text>\n",
       "</a>\n",
       "</g>\n",
       "<g id=\"a_node10_37\"><a xlink:href=\"#\" xlink:title=\"insert_random_character(self, s: str) &#45;&gt; str:&#10;Returns s with a random character inserted\">\n",
       "<text text-anchor=\"start\" x=\"466.25\" y=\"-122.25\" font-family=\"'Fira Mono', 'Source Code Pro', 'Courier', monospace\" font-size=\"10.00\">insert_random_character()</text>\n",
       "</a>\n",
       "</g>\n",
       "<g id=\"a_node10_38\"><a xlink:href=\"#\" xlink:title=\"mutate(self, inp: Any) &#45;&gt; Any:&#10;Return s with a random mutation applied. Can be overloaded in subclasses.\">\n",
       "<text text-anchor=\"start\" x=\"466.25\" y=\"-112\" font-family=\"'Fira Mono', 'Source Code Pro', 'Courier', monospace\" font-style=\"italic\" font-size=\"10.00\">mutate()</text>\n",
       "</a>\n",
       "</g>\n",
       "</a>\n",
       "</g>\n",
       "</a>\n",
       "</g>\n",
       "</g>\n",
       "<!-- DictMutator&#45;&gt;Mutator -->\n",
       "<g id=\"edge7\" class=\"edge\">\n",
       "<title>DictMutator&#45;&gt;Mutator</title>\n",
       "<path fill=\"none\" stroke=\"black\" d=\"M541.25,-62.97C541.25,-72.26 541.25,-82.99 541.25,-93.66\"/>\n",
       "<polygon fill=\"none\" stroke=\"black\" points=\"537.75,-93.62 541.25,-103.62 544.75,-93.62 537.75,-93.62\"/>\n",
       "</g>\n",
       "<!-- Seed -->\n",
       "<g id=\"node11\" class=\"node\">\n",
       "<title>Seed</title>\n",
       "<g id=\"a_node11\"><a xlink:href=\"#\" xlink:title=\"class Seed:&#10;Represent an input with additional attributes\">\n",
       "<polygon fill=\"none\" stroke=\"black\" points=\"639.25,-0.5 639.25,-68.25 715.25,-68.25 715.25,-0.5 639.25,-0.5\"/>\n",
       "<text text-anchor=\"start\" x=\"663\" y=\"-51.95\" font-family=\"Patua One, Helvetica, sans-serif\" font-weight=\"bold\" font-size=\"14.00\" fill=\"#b03a2e\">Seed</text>\n",
       "<polyline fill=\"none\" stroke=\"black\" points=\"639.25,-42.25 715.25,-42.25\"/>\n",
       "<g id=\"a_node11_39\"><a xlink:href=\"#\" xlink:title=\"Seed\">\n",
       "<g id=\"a_node11_40\"><a xlink:href=\"#\" xlink:title=\"__init__(self, data: str) &#45;&gt; None:&#10;Initialize from seed data\">\n",
       "<text text-anchor=\"start\" x=\"647.25\" y=\"-29.75\" font-family=\"'Fira Mono', 'Source Code Pro', 'Courier', monospace\" font-weight=\"bold\" font-size=\"10.00\">__init__()</text>\n",
       "</a>\n",
       "</g>\n",
       "<g id=\"a_node11_41\"><a xlink:href=\"#\" xlink:title=\"__repr__(self) &#45;&gt; str:&#10;Returns data as string representation of the seed\">\n",
       "<text text-anchor=\"start\" x=\"647.25\" y=\"-17.5\" font-family=\"'Fira Mono', 'Source Code Pro', 'Courier', monospace\" font-size=\"10.00\">__repr__()</text>\n",
       "</a>\n",
       "</g>\n",
       "<g id=\"a_node11_42\"><a xlink:href=\"#\" xlink:title=\"__str__(self) &#45;&gt; str:&#10;Returns data as string representation of the seed\">\n",
       "<text text-anchor=\"start\" x=\"647.25\" y=\"-6.25\" font-family=\"'Fira Mono', 'Source Code Pro', 'Courier', monospace\" font-size=\"10.00\">__str__()</text>\n",
       "</a>\n",
       "</g>\n",
       "</a>\n",
       "</g>\n",
       "</a>\n",
       "</g>\n",
       "</g>\n",
       "<!-- Legend -->\n",
       "<g id=\"node12\" class=\"node\">\n",
       "<title>Legend</title>\n",
       "<text text-anchor=\"start\" x=\"733.62\" y=\"-50.38\" font-family=\"Patua One, Helvetica, sans-serif\" font-weight=\"bold\" font-size=\"10.00\" fill=\"#b03a2e\">Legend</text>\n",
       "<text text-anchor=\"start\" x=\"733.62\" y=\"-40.38\" font-family=\"Patua One, Helvetica, sans-serif\" font-size=\"10.00\">• </text>\n",
       "<text text-anchor=\"start\" x=\"739.62\" y=\"-40.38\" font-family=\"'Fira Mono', 'Source Code Pro', 'Courier', monospace\" font-weight=\"bold\" font-size=\"8.00\">public_method()</text>\n",
       "<text text-anchor=\"start\" x=\"733.62\" y=\"-30.38\" font-family=\"Patua One, Helvetica, sans-serif\" font-size=\"10.00\">• </text>\n",
       "<text text-anchor=\"start\" x=\"739.62\" y=\"-30.38\" font-family=\"'Fira Mono', 'Source Code Pro', 'Courier', monospace\" font-size=\"8.00\">private_method()</text>\n",
       "<text text-anchor=\"start\" x=\"733.62\" y=\"-20.38\" font-family=\"Patua One, Helvetica, sans-serif\" font-size=\"10.00\">• </text>\n",
       "<text text-anchor=\"start\" x=\"739.62\" y=\"-20.38\" font-family=\"'Fira Mono', 'Source Code Pro', 'Courier', monospace\" font-style=\"italic\" font-size=\"8.00\">overloaded_method()</text>\n",
       "<text text-anchor=\"start\" x=\"733.62\" y=\"-11.32\" font-family=\"Helvetica,sans-Serif\" font-size=\"9.00\">Hover over names to see doc</text>\n",
       "</g>\n",
       "</g>\n",
       "</svg>\n"
      ],
      "text/plain": [
       "<graphviz.graphs.Digraph at 0x16b0ff460>"
      ]
     },
     "execution_count": 93,
     "metadata": {},
     "output_type": "execute_result"
    }
   ],
   "source": [
    "# ignore\n",
    "display_class_hierarchy([CountingGreyboxFuzzer, AFLFastSchedule, AFLGoSchedule,\n",
    "                         DictMutator, Seed],\n",
    "                        public_methods=[\n",
    "                            Fuzzer.run,\n",
    "                            Fuzzer.__init__,\n",
    "                            Fuzzer.runs,\n",
    "                            Fuzzer.fuzz,\n",
    "                            AdvancedMutationFuzzer.__init__,\n",
    "                            AdvancedMutationFuzzer.fuzz,\n",
    "                            GreyboxFuzzer.run,\n",
    "                            CountingGreyboxFuzzer.run,\n",
    "                            PowerSchedule.__init__,\n",
    "                            DirectedSchedule.__init__,\n",
    "                            AFLGoSchedule.__init__,\n",
    "                            AFLFastSchedule.__init__,\n",
    "                            Seed.__init__,\n",
    "                            Mutator.__init__,\n",
    "                            DictMutator.__init__,\n",
    "                        ],\n",
    "                        types={'Location': Location},\n",
    "                        project='fuzzingbook')"
   ]
  },
  {
   "cell_type": "markdown",
   "metadata": {
    "button": false,
    "jp-MarkdownHeadingCollapsed": true,
    "new_sheet": true,
    "run_control": {
     "read_only": false
    },
    "slideshow": {
     "slide_type": "slide"
    },
    "tags": []
   },
   "source": [
    "## Lessons Learned\n",
    "\n",
    "* A *greybox fuzzer* generates thousands of inputs per second. Pre-processing and lightweight instrumentation \n",
    "  * allows maintaining the efficiency *during* the fuzzing campaign, and \n",
    "  * still provides enough information to control progress and slightly steer the fuzzer.\n",
    "* The *power schedule* allows _steering and controlling_ the fuzzer. For instance,\n",
    "  * Our [boosted greybox fuzzer](#Fuzzer-Boosting) spends more energy on seeds that exercise \"unlikely\" paths. The hope is that the generated inputs exercise even more unlikely paths. This in turn increases the number of paths explored per unit time.\n",
    "  * Our [directed greybox fuzzer](#Directed-Greybox-Fuzzing) spends more energy on seeds that are \"closer\" to a target location. The hope is that the generated inputs get even closer to the target.\n",
    "* The *mutator* defines the fuzzer's search space. [Customizing the mutator](GreyboxFuzzer.ipynb#A-First-Attempt) for the given program allows reducing the search space to only relevant inputs. In a couple of chapters, we'll learn about [dictionary-based, and grammar-based mutators](GreyboxGrammarFuzzer.ipynb) to increase the ratio of valid inputs generated."
   ]
  },
  {
   "cell_type": "markdown",
   "metadata": {
    "jp-MarkdownHeadingCollapsed": true,
    "slideshow": {
     "slide_type": "slide"
    },
    "tags": []
   },
   "source": [
    "## Background\n",
    "\n",
    "* **Find out more about AFL**: http://lcamtuf.coredump.cx/afl/\n",
    "* **Learn about LibFuzzer** (another famous greybox fuzzer): http://llvm.org/docs/LibFuzzer.html\n",
    "* **How quickly must a whitebox fuzzer exercise each path to remain more efficient than a greybox fuzzer?** Marcel Böhme and Soumya Paul. 2016. [A Probabilistic Analysis of the Efficiency of Automated Software Testing](https://mboehme.github.io/paper/TSE15.pdf), IEEE TSE, 42:345-360 \\cite{boehme2016efficiency}"
   ]
  },
  {
   "cell_type": "markdown",
   "metadata": {
    "button": false,
    "new_sheet": false,
    "run_control": {
     "read_only": false
    },
    "slideshow": {
     "slide_type": "slide"
    }
   },
   "source": [
    "## Next Steps\n",
    "\n",
    "Our aim is still to sufficiently cover functionality, such that we can trigger as many bugs as possible.  To this end, we focus on two classes of techniques:\n",
    "\n",
    "1. Try to cover as much _specified_ functionality as possible.  Here, we would need a _specification of the input format,_ distinguishing between individual input elements such as (in our case) numbers, operators, comments, and strings – and attempting to cover as many of these as possible.  We will explore this as it comes to [grammar-based testing](GrammarFuzzer.ipynb), and especially in [grammar-based mutations](GreyboxGrammarFuzzer.ipynb).\n",
    "\n",
    "2. Try to cover as much _implemented_ functionality as possible.  The concept of a \"population\" that is systematically \"evolved\" through \"mutations\" will be explored in depth when discussing [search-based testing](SearchBasedFuzzer.ipynb).  Furthermore, [symbolic testing](SymbolicFuzzer.ipynb) introduces how to systematically reach program locations by solving the conditions that lie on their paths.\n",
    "\n",
    "These two techniques make up the gist of the book; and, of course, they can also be combined with each other.  As usual, we provide runnable code for all.  Enjoy!"
   ]
  },
  {
   "cell_type": "markdown",
   "metadata": {
    "slideshow": {
     "slide_type": "subslide"
    }
   },
   "source": [
    "We're done, so we clean up:"
   ]
  },
  {
   "cell_type": "code",
   "execution_count": 94,
   "metadata": {
    "execution": {
     "iopub.execute_input": "2023-11-12T12:41:26.472288Z",
     "iopub.status.busy": "2023-11-12T12:41:26.472125Z",
     "iopub.status.idle": "2023-11-12T12:41:26.474276Z",
     "shell.execute_reply": "2023-11-12T12:41:26.473854Z"
    },
    "slideshow": {
     "slide_type": "skip"
    }
   },
   "outputs": [],
   "source": [
    "import os"
   ]
  },
  {
   "cell_type": "code",
   "execution_count": 95,
   "metadata": {
    "execution": {
     "iopub.execute_input": "2023-11-12T12:41:26.476073Z",
     "iopub.status.busy": "2023-11-12T12:41:26.475912Z",
     "iopub.status.idle": "2023-11-12T12:41:26.478376Z",
     "shell.execute_reply": "2023-11-12T12:41:26.478085Z"
    },
    "slideshow": {
     "slide_type": "fragment"
    }
   },
   "outputs": [],
   "source": [
    "if os.path.exists('callgraph.dot'):\n",
    "    os.remove('callgraph.dot')\n",
    "\n",
    "if os.path.exists('callgraph.py'):\n",
    "    os.remove('callgraph.py')"
   ]
  },
  {
   "cell_type": "markdown",
   "metadata": {
    "slideshow": {
     "slide_type": "slide"
    }
   },
   "source": [
    "## Compatibility"
   ]
  },
  {
   "cell_type": "markdown",
   "metadata": {
    "slideshow": {
     "slide_type": "fragment"
    }
   },
   "source": [
    "In previous version of the chapter, the `AdvancedMutationFuzzer` class was named simply `MutationFuzzer`, causing name confusion with the `MutationFuzzer` class in the [introduction to mutation-based fuzzing](MutationFuzzer.ipynb). The following declaration introduces a backward-compatible alias."
   ]
  },
  {
   "cell_type": "code",
   "execution_count": 96,
   "metadata": {
    "execution": {
     "iopub.execute_input": "2023-11-12T12:41:26.480143Z",
     "iopub.status.busy": "2023-11-12T12:41:26.480026Z",
     "iopub.status.idle": "2023-11-12T12:41:26.481833Z",
     "shell.execute_reply": "2023-11-12T12:41:26.481570Z"
    },
    "slideshow": {
     "slide_type": "fragment"
    }
   },
   "outputs": [],
   "source": [
    "class MutationFuzzer(AdvancedMutationFuzzer):\n",
    "    pass"
   ]
  },
  {
   "cell_type": "markdown",
   "metadata": {
    "button": false,
    "new_sheet": true,
    "run_control": {
     "read_only": false
    },
    "slideshow": {
     "slide_type": "slide"
    }
   },
   "source": [
    "## Exercises\n",
    "\n",
    "To be added. \\todo{}"
   ]
  }
 ],
 "metadata": {
  "ipub": {
   "bibliography": "fuzzingbook.bib",
   "toc": true
  },
  "kernelspec": {
   "display_name": "Python 3",
   "language": "python",
   "name": "python3"
  },
  "language_info": {
   "codemirror_mode": {
    "name": "ipython",
    "version": 3
   },
   "file_extension": ".py",
   "mimetype": "text/x-python",
   "name": "python",
   "nbconvert_exporter": "python",
   "pygments_lexer": "ipython3",
   "version": "3.10.2"
  },
  "toc": {
   "base_numbering": 1,
   "nav_menu": {},
   "number_sections": true,
   "sideBar": true,
   "skip_h1_title": true,
   "title_cell": "",
   "title_sidebar": "Contents",
   "toc_cell": false,
   "toc_position": {},
   "toc_section_display": true,
   "toc_window_display": true
  },
  "toc-autonumbering": false,
  "varInspector": {
   "cols": {
    "lenName": 16,
    "lenType": 16,
    "lenVar": 40
   },
   "kernels_config": {
    "python": {
     "delete_cmd_postfix": "",
     "delete_cmd_prefix": "del ",
     "library": "var_list.py",
     "varRefreshCmd": "print(var_dic_list())"
    },
    "r": {
     "delete_cmd_postfix": ") ",
     "delete_cmd_prefix": "rm(",
     "library": "var_list.r",
     "varRefreshCmd": "cat(var_dic_list()) "
    }
   },
   "types_to_exclude": [
    "module",
    "function",
    "builtin_function_or_method",
    "instance",
    "_Feature"
   ],
   "window_display": false
  },
  "vscode": {
   "interpreter": {
    "hash": "4185989cf89c47c310c2629adcadd634093b57a2c49dffb5ae8d0d14fa302f2b"
   }
  }
 },
 "nbformat": 4,
 "nbformat_minor": 4
}