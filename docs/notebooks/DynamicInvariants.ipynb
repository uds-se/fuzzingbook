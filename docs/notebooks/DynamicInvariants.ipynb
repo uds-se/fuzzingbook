{
 "cells": [
  {
   "attachments": {},
   "cell_type": "markdown",
   "metadata": {
    "button": false,
    "new_sheet": false,
    "run_control": {
     "read_only": false
    },
    "slideshow": {
     "slide_type": "slide"
    }
   },
   "source": [
    "# Mining Function Specifications\n",
    "\n",
    "When testing a program, one not only needs to cover its several behaviors; one also needs to _check_ whether the result is as expected.  In this chapter, we introduce a technique that allows us to _mine_ function specifications from a set of given executions, resulting in abstract and formal _descriptions_ of what the function expects and what it delivers.  \n",
    "\n",
    "These so-called _dynamic invariants_ produce pre- and post-conditions over function arguments and variables from a set of executions.  They are useful in a variety of contexts:\n",
    "\n",
    "* Dynamic invariants provide important information for [symbolic fuzzing](SymbolicFuzzer.ipynb), such as types and ranges of function arguments.\n",
    "* Dynamic invariants provide pre- and postconditions for formal program proofs and verification.\n",
    "* Dynamic invariants provide numerous assertions that can check whether function behavior has changed\n",
    "* Checks provided by dynamic invariants can be very useful as _oracles_ for checking the effects of generated tests\n",
    "\n",
    "Traditionally, dynamic invariants are dependent on the executions they are derived from.  However, when paired with comprehensive test generators, they quickly become very precise, as we show in this chapter."
   ]
  },
  {
   "cell_type": "markdown",
   "metadata": {
    "button": false,
    "new_sheet": false,
    "run_control": {
     "read_only": false
    },
    "slideshow": {
     "slide_type": "subslide"
    }
   },
   "source": [
    "**Prerequisites**\n",
    "\n",
    "* You should be familiar with tracing program executions, as in the [chapter on coverage](Coverage.ipynb).\n",
    "* Later in this section, we access the internal _abstract syntax tree_ representations of Python programs and transform them, as in the [chapter on information flow](InformationFlow.ipynb)."
   ]
  },
  {
   "cell_type": "code",
   "execution_count": 1,
   "metadata": {
    "execution": {
     "iopub.execute_input": "2023-11-12T12:47:43.698414Z",
     "iopub.status.busy": "2023-11-12T12:47:43.698296Z",
     "iopub.status.idle": "2023-11-12T12:47:43.734984Z",
     "shell.execute_reply": "2023-11-12T12:47:43.734713Z"
    },
    "slideshow": {
     "slide_type": "skip"
    }
   },
   "outputs": [],
   "source": [
    "import bookutils.setup"
   ]
  },
  {
   "cell_type": "code",
   "execution_count": 2,
   "metadata": {
    "execution": {
     "iopub.execute_input": "2023-11-12T12:47:43.736744Z",
     "iopub.status.busy": "2023-11-12T12:47:43.736630Z",
     "iopub.status.idle": "2023-11-12T12:47:44.086741Z",
     "shell.execute_reply": "2023-11-12T12:47:44.084472Z"
    },
    "slideshow": {
     "slide_type": "skip"
    }
   },
   "outputs": [],
   "source": [
    "import Coverage\n",
    "import Intro_Testing"
   ]
  },
  {
   "attachments": {},
   "cell_type": "markdown",
   "metadata": {
    "slideshow": {
     "slide_type": "skip"
    }
   },
   "source": [
    "## Synopsis\n",
    "<!-- Automatically generated. Do not edit. -->\n",
    "\n",
    "To [use the code provided in this chapter](Importing.ipynb), write\n",
    "\n",
    "```python\n",
    ">>> from fuzzingbook.DynamicInvariants import <identifier>\n",
    "```\n",
    "\n",
    "and then make use of the following features.\n",
    "\n",
    "\n",
    "This chapter provides two classes that automatically extract specifications from a function and a set of inputs:\n",
    "\n",
    "* `TypeAnnotator` for _types_, and\n",
    "* `InvariantAnnotator` for _pre-_ and _postconditions_.\n",
    "\n",
    "Both work by _observing_ a function and its invocations within a `with` clause.  Here is an example for the type annotator:\n",
    "\n",
    "```python\n",
    ">>> def sum(a, b):\n",
    ">>>     return a + b\n",
    ">>> with TypeAnnotator() as type_annotator:\n",
    ">>>     sum(1, 2)\n",
    ">>>     sum(-4, -5)\n",
    ">>>     sum(0, 0)\n",
    "```\n",
    "The `typed_functions()` method will return a representation of `sum2()` annotated with types observed during execution.\n",
    "\n",
    "```python\n",
    ">>> print(type_annotator.typed_functions())\n",
    "def sum(a: int, b: int) -> int:\n",
    "    return a + b\n",
    "\n",
    "```\n",
    "The invariant annotator works similarly:\n",
    "\n",
    "```python\n",
    ">>> with InvariantAnnotator() as inv_annotator:\n",
    ">>>     sum(1, 2)\n",
    ">>>     sum(-4, -5)\n",
    ">>>     sum(0, 0)\n",
    "```\n",
    "The `functions_with_invariants()` method will return a representation of `sum2()` annotated with inferred pre- and postconditions that all hold for the observed values.\n",
    "\n",
    "```python\n",
    ">>> print(inv_annotator.functions_with_invariants())\n",
    "@precondition(lambda b, a: isinstance(a, int))\n",
    "@precondition(lambda b, a: isinstance(b, int))\n",
    "@postcondition(lambda return_value, b, a: a == return_value - b)\n",
    "@postcondition(lambda return_value, b, a: b == return_value - a)\n",
    "@postcondition(lambda return_value, b, a: isinstance(return_value, int))\n",
    "@postcondition(lambda return_value, b, a: return_value == a + b)\n",
    "@postcondition(lambda return_value, b, a: return_value == b + a)\n",
    "def sum(a, b):\n",
    "    return a + b\n",
    "\n",
    "\n",
    "```\n",
    "Such type specifications and invariants can be helpful as _oracles_ (to detect deviations from a given set of runs) as well as for all kinds of _symbolic code analyses_.  The chapter gives details on how to customize the properties checked for.\n",
    "\n"
   ]
  },
  {
   "cell_type": "markdown",
   "metadata": {
    "button": false,
    "new_sheet": true,
    "run_control": {
     "read_only": false
    },
    "slideshow": {
     "slide_type": "slide"
    }
   },
   "source": [
    "## Specifications and Assertions\n",
    "\n",
    "When implementing a function or program, one usually works against a _specification_ – a set of documented requirements to be satisfied by the code.  Such specifications can come in natural language.  A formal specification, however, allows the computer to check whether the specification is satisfied.\n",
    "\n",
    "In the [introduction to testing](Intro_Testing.ipynb), we have seen how _preconditions_ and _postconditions_ can describe what a function does.  Consider the following (simple) square root function:"
   ]
  },
  {
   "cell_type": "code",
   "execution_count": 3,
   "metadata": {
    "execution": {
     "iopub.execute_input": "2023-11-12T12:47:44.097114Z",
     "iopub.status.busy": "2023-11-12T12:47:44.095899Z",
     "iopub.status.idle": "2023-11-12T12:47:44.100732Z",
     "shell.execute_reply": "2023-11-12T12:47:44.100439Z"
    },
    "slideshow": {
     "slide_type": "subslide"
    }
   },
   "outputs": [],
   "source": [
    "def any_sqrt(x):\n",
    "    assert x >= 0  # Precondition\n",
    "\n",
    "    ...\n",
    "\n",
    "    assert result * result == x  # Postcondition\n",
    "    return result"
   ]
  },
  {
   "cell_type": "markdown",
   "metadata": {
    "slideshow": {
     "slide_type": "subslide"
    }
   },
   "source": [
    "The assertion `assert p` checks the condition `p`; if it does not hold, execution is aborted.  Here, the actual body is not yet written; we use the assertions as a specification of what `any_sqrt()` _expects_, and what it _delivers_.\n",
    "\n",
    "The topmost assertion is the _precondition_, stating the requirements on the function arguments.  The assertion at the end is the _postcondition_, stating the properties of the function result (including its relationship with the original arguments).  Using these pre- and postconditions as a specification, we can now go and implement a square root function that satisfies them.  Once implemented, we can have the assertions check at runtime whether `any_sqrt()` works as expected; a [symbolic](SymbolicFuzzer.ipynb) or [concolic](ConcolicFuzzer.ipynb) test generator will even specifically try to find inputs where the assertions do _not_ hold.  (An assertion can be seen as a conditional branch towards aborting the execution, and any technique that tries to cover all code branches will also try to invalidate as many assertions as possible.)"
   ]
  },
  {
   "cell_type": "markdown",
   "metadata": {
    "slideshow": {
     "slide_type": "subslide"
    }
   },
   "source": [
    "However, not every piece of code is developed with explicit specifications in the first place; let alone does most code comes with formal pre- and post-conditions.  (Just take a look at the chapters in this book.)  This is a pity: As Ken Thompson famously said, \"Without specifications, there are no bugs – only surprises\".  It is also a problem for testing, since, of course, testing needs some specification to test against.  This raises the interesting question: Can we somehow _retrofit_ existing code with \"specifications\" that properly describe their behavior, allowing developers to simply _check_ them rather than having to write them from scratch?  This is what we do in this chapter."
   ]
  },
  {
   "cell_type": "markdown",
   "metadata": {
    "slideshow": {
     "slide_type": "slide"
    }
   },
   "source": [
    "## Why Generic Error Checking is Not Enough\n",
    "\n",
    "Before we go into _mining_ specifications, let us first discuss why it could be useful to _have_ them.  As a motivating example, consider the full implementation of a square root function from the [introduction to testing](Intro_Testing.ipynb):"
   ]
  },
  {
   "cell_type": "code",
   "execution_count": 4,
   "metadata": {
    "execution": {
     "iopub.execute_input": "2023-11-12T12:47:44.102653Z",
     "iopub.status.busy": "2023-11-12T12:47:44.102521Z",
     "iopub.status.idle": "2023-11-12T12:47:44.104296Z",
     "shell.execute_reply": "2023-11-12T12:47:44.104005Z"
    },
    "slideshow": {
     "slide_type": "skip"
    }
   },
   "outputs": [],
   "source": [
    "import bookutils.setup"
   ]
  },
  {
   "cell_type": "code",
   "execution_count": 5,
   "metadata": {
    "button": false,
    "execution": {
     "iopub.execute_input": "2023-11-12T12:47:44.105793Z",
     "iopub.status.busy": "2023-11-12T12:47:44.105685Z",
     "iopub.status.idle": "2023-11-12T12:47:44.107623Z",
     "shell.execute_reply": "2023-11-12T12:47:44.107380Z"
    },
    "new_sheet": false,
    "run_control": {
     "read_only": false
    },
    "slideshow": {
     "slide_type": "fragment"
    }
   },
   "outputs": [],
   "source": [
    "def my_sqrt(x):\n",
    "    \"\"\"Computes the square root of x, using the Newton-Raphson method\"\"\"\n",
    "    approx = None\n",
    "    guess = x / 2\n",
    "    while approx != guess:\n",
    "        approx = guess\n",
    "        guess = (approx + x / approx) / 2\n",
    "    return approx"
   ]
  },
  {
   "cell_type": "markdown",
   "metadata": {
    "slideshow": {
     "slide_type": "subslide"
    }
   },
   "source": [
    "`my_sqrt()` does not come with any functionality that would check types or values.  Hence, it is easy for callers to make mistakes when calling `my_sqrt()`:"
   ]
  },
  {
   "cell_type": "code",
   "execution_count": 6,
   "metadata": {
    "execution": {
     "iopub.execute_input": "2023-11-12T12:47:44.109124Z",
     "iopub.status.busy": "2023-11-12T12:47:44.109015Z",
     "iopub.status.idle": "2023-11-12T12:47:44.110614Z",
     "shell.execute_reply": "2023-11-12T12:47:44.110364Z"
    },
    "slideshow": {
     "slide_type": "skip"
    }
   },
   "outputs": [],
   "source": [
    "from ExpectError import ExpectError, ExpectTimeout"
   ]
  },
  {
   "cell_type": "code",
   "execution_count": 7,
   "metadata": {
    "execution": {
     "iopub.execute_input": "2023-11-12T12:47:44.112097Z",
     "iopub.status.busy": "2023-11-12T12:47:44.112016Z",
     "iopub.status.idle": "2023-11-12T12:47:44.113982Z",
     "shell.execute_reply": "2023-11-12T12:47:44.113701Z"
    },
    "slideshow": {
     "slide_type": "fragment"
    }
   },
   "outputs": [
    {
     "name": "stderr",
     "output_type": "stream",
     "text": [
      "Traceback (most recent call last):\n",
      "  File \"/var/folders/n2/xd9445p97rb3xh7m1dfx8_4h0006ts/T/ipykernel_33982/829521914.py\", line 2, in <cell line: 1>\n",
      "    my_sqrt(\"foo\")\n",
      "  File \"/var/folders/n2/xd9445p97rb3xh7m1dfx8_4h0006ts/T/ipykernel_33982/2661069967.py\", line 4, in my_sqrt\n",
      "    guess = x / 2\n",
      "TypeError: unsupported operand type(s) for /: 'str' and 'int' (expected)\n"
     ]
    }
   ],
   "source": [
    "with ExpectError():\n",
    "    my_sqrt(\"foo\")"
   ]
  },
  {
   "cell_type": "code",
   "execution_count": 8,
   "metadata": {
    "execution": {
     "iopub.execute_input": "2023-11-12T12:47:44.153228Z",
     "iopub.status.busy": "2023-11-12T12:47:44.153075Z",
     "iopub.status.idle": "2023-11-12T12:47:44.155254Z",
     "shell.execute_reply": "2023-11-12T12:47:44.154924Z"
    },
    "slideshow": {
     "slide_type": "subslide"
    }
   },
   "outputs": [
    {
     "name": "stderr",
     "output_type": "stream",
     "text": [
      "Traceback (most recent call last):\n",
      "  File \"/var/folders/n2/xd9445p97rb3xh7m1dfx8_4h0006ts/T/ipykernel_33982/1975547953.py\", line 2, in <cell line: 1>\n",
      "    x = my_sqrt(0.0)\n",
      "  File \"/var/folders/n2/xd9445p97rb3xh7m1dfx8_4h0006ts/T/ipykernel_33982/2661069967.py\", line 7, in my_sqrt\n",
      "    guess = (approx + x / approx) / 2\n",
      "ZeroDivisionError: float division by zero (expected)\n"
     ]
    }
   ],
   "source": [
    "with ExpectError():\n",
    "    x = my_sqrt(0.0)"
   ]
  },
  {
   "cell_type": "markdown",
   "metadata": {
    "slideshow": {
     "slide_type": "fragment"
    }
   },
   "source": [
    "At least, the Python system catches these errors at runtime.  The following call, however, simply lets the function enter an infinite loop:"
   ]
  },
  {
   "cell_type": "code",
   "execution_count": 9,
   "metadata": {
    "execution": {
     "iopub.execute_input": "2023-11-12T12:47:44.156891Z",
     "iopub.status.busy": "2023-11-12T12:47:44.156785Z",
     "iopub.status.idle": "2023-11-12T12:47:45.163429Z",
     "shell.execute_reply": "2023-11-12T12:47:45.163150Z"
    },
    "slideshow": {
     "slide_type": "subslide"
    }
   },
   "outputs": [
    {
     "name": "stderr",
     "output_type": "stream",
     "text": [
      "Traceback (most recent call last):\n",
      "  File \"/var/folders/n2/xd9445p97rb3xh7m1dfx8_4h0006ts/T/ipykernel_33982/1349814288.py\", line 2, in <cell line: 1>\n",
      "    x = my_sqrt(-1.0)\n",
      "  File \"/var/folders/n2/xd9445p97rb3xh7m1dfx8_4h0006ts/T/ipykernel_33982/2661069967.py\", line 5, in my_sqrt\n",
      "    while approx != guess:\n",
      "  File \"/Users/zeller/Projects/fuzzingbook/notebooks/Timeout.ipynb\", line 43, in timeout_handler\n",
      "    raise TimeoutError()\n",
      "TimeoutError (expected)\n"
     ]
    }
   ],
   "source": [
    "with ExpectTimeout(1):\n",
    "    x = my_sqrt(-1.0)"
   ]
  },
  {
   "cell_type": "markdown",
   "metadata": {
    "slideshow": {
     "slide_type": "fragment"
    }
   },
   "source": [
    "Our goal is to avoid such errors by _annotating_ functions with information that prevents errors like the above ones.  The idea is to provide a _specification_ of expected properties – a specification that can then be checked at runtime or statically."
   ]
  },
  {
   "cell_type": "markdown",
   "metadata": {
    "slideshow": {
     "slide_type": "subslide"
    }
   },
   "source": [
    "\\todo{Introduce the concept of *contract*.}"
   ]
  },
  {
   "cell_type": "markdown",
   "metadata": {
    "slideshow": {
     "slide_type": "slide"
    },
    "toc-hr-collapsed": false
   },
   "source": [
    "## Specifying and Checking Data Types\n",
    "\n",
    "For our Python code, one of the most important \"specifications\" we need is *types*.  Python being a \"dynamically\" typed language means that all data types are determined at run time; the code itself does not explicitly state whether a variable is an integer, a string, an array, a dictionary – or whatever."
   ]
  },
  {
   "attachments": {},
   "cell_type": "markdown",
   "metadata": {
    "slideshow": {
     "slide_type": "subslide"
    }
   },
   "source": [
    "As _writer_ of Python code, omitting explicit type declarations may save time (and allows for some fun hacks).  It is not sure whether a lack of types helps in _reading_ and _understanding_ code for humans.  For a _computer_ trying to analyze code, the lack of explicit types is detrimental.  If, say, a constraint solver, sees `if x:` and cannot know whether `x` is supposed to be a number or a string, this introduces an _ambiguity_.  Such ambiguities may multiply over the entire analysis in a combinatorial explosion – or in the analysis yielding an overly inaccurate result."
   ]
  },
  {
   "cell_type": "markdown",
   "metadata": {
    "slideshow": {
     "slide_type": "fragment"
    }
   },
   "source": [
    "Python 3.6 and later allows data types as _annotations_ to function arguments (actually, to all variables) and return values.  We can, for instance, state that `my_sqrt()` is a function that accepts a floating-point value and returns one:"
   ]
  },
  {
   "cell_type": "code",
   "execution_count": 10,
   "metadata": {
    "button": false,
    "execution": {
     "iopub.execute_input": "2023-11-12T12:47:45.165329Z",
     "iopub.status.busy": "2023-11-12T12:47:45.165207Z",
     "iopub.status.idle": "2023-11-12T12:47:45.167058Z",
     "shell.execute_reply": "2023-11-12T12:47:45.166788Z"
    },
    "new_sheet": false,
    "run_control": {
     "read_only": false
    },
    "slideshow": {
     "slide_type": "fragment"
    }
   },
   "outputs": [],
   "source": [
    "def my_sqrt_with_type_annotations(x: float) -> float:\n",
    "    \"\"\"Computes the square root of x, using the Newton-Raphson method\"\"\"\n",
    "    return my_sqrt(x)"
   ]
  },
  {
   "cell_type": "markdown",
   "metadata": {
    "slideshow": {
     "slide_type": "fragment"
    }
   },
   "source": [
    "By default, such annotations are ignored by the Python interpreter.  Therefore, one can still call `my_sqrt_typed()` with a string as an argument and get the exact same result as above.  However, one can make use of special _typechecking_ modules that would check types – _dynamically_ at runtime or _statically_ by analyzing the code without having to execute it."
   ]
  },
  {
   "cell_type": "markdown",
   "metadata": {
    "slideshow": {
     "slide_type": "subslide"
    }
   },
   "source": [
    "### Excursion: Runtime Type Checking\n",
    "\n",
    "(Commented out as `enforce` is not supported by Python 3.9)\n",
    "\n",
    "The Python `enforce` package provides a function decorator that automatically inserts type-checking code that is executed at runtime.  Here is how to use it:"
   ]
  },
  {
   "cell_type": "code",
   "execution_count": 11,
   "metadata": {
    "execution": {
     "iopub.execute_input": "2023-11-12T12:47:45.168660Z",
     "iopub.status.busy": "2023-11-12T12:47:45.168552Z",
     "iopub.status.idle": "2023-11-12T12:47:45.170138Z",
     "shell.execute_reply": "2023-11-12T12:47:45.169803Z"
    },
    "slideshow": {
     "slide_type": "fragment"
    }
   },
   "outputs": [],
   "source": [
    "# import enforce"
   ]
  },
  {
   "cell_type": "code",
   "execution_count": 12,
   "metadata": {
    "execution": {
     "iopub.execute_input": "2023-11-12T12:47:45.171750Z",
     "iopub.status.busy": "2023-11-12T12:47:45.171641Z",
     "iopub.status.idle": "2023-11-12T12:47:45.173128Z",
     "shell.execute_reply": "2023-11-12T12:47:45.172891Z"
    },
    "slideshow": {
     "slide_type": "fragment"
    }
   },
   "outputs": [],
   "source": [
    "# @enforce.runtime_validation\n",
    "# def my_sqrt_with_checked_type_annotations(x: float) -> float:\n",
    "#     \"\"\"Computes the square root of x, using the Newton-Raphson method\"\"\"\n",
    "#     return my_sqrt(x)"
   ]
  },
  {
   "attachments": {},
   "cell_type": "markdown",
   "metadata": {
    "slideshow": {
     "slide_type": "fragment"
    }
   },
   "source": [
    "Now, invoking `my_sqrt_with_checked_type_annotations()` raises an exception when invoked with a type different from the one declared:"
   ]
  },
  {
   "cell_type": "code",
   "execution_count": 13,
   "metadata": {
    "execution": {
     "iopub.execute_input": "2023-11-12T12:47:45.174603Z",
     "iopub.status.busy": "2023-11-12T12:47:45.174513Z",
     "iopub.status.idle": "2023-11-12T12:47:45.176299Z",
     "shell.execute_reply": "2023-11-12T12:47:45.176010Z"
    },
    "slideshow": {
     "slide_type": "subslide"
    }
   },
   "outputs": [],
   "source": [
    "# with ExpectError():\n",
    "#     my_sqrt_with_checked_type_annotations(True)"
   ]
  },
  {
   "cell_type": "markdown",
   "metadata": {
    "slideshow": {
     "slide_type": "fragment"
    }
   },
   "source": [
    "Note that this error is not caught by the \"untyped\" variant, where passing a boolean value happily returns $\\sqrt{1}$ as result. "
   ]
  },
  {
   "cell_type": "code",
   "execution_count": 14,
   "metadata": {
    "execution": {
     "iopub.execute_input": "2023-11-12T12:47:45.177963Z",
     "iopub.status.busy": "2023-11-12T12:47:45.177848Z",
     "iopub.status.idle": "2023-11-12T12:47:45.179391Z",
     "shell.execute_reply": "2023-11-12T12:47:45.179168Z"
    },
    "slideshow": {
     "slide_type": "fragment"
    }
   },
   "outputs": [],
   "source": [
    "# my_sqrt(True)"
   ]
  },
  {
   "cell_type": "markdown",
   "metadata": {
    "slideshow": {
     "slide_type": "fragment"
    }
   },
   "source": [
    "In Python (and other languages), the boolean values `True` and `False` can be implicitly converted to the integers 1 and 0; however, it is hard to think of a call to `sqrt()` where this would not be an error."
   ]
  },
  {
   "cell_type": "markdown",
   "metadata": {
    "slideshow": {
     "slide_type": "subslide"
    }
   },
   "source": [
    "### End of Excursion"
   ]
  },
  {
   "cell_type": "markdown",
   "metadata": {
    "slideshow": {
     "slide_type": "subslide"
    }
   },
   "source": [
    "### Static Type Checking\n",
    "\n",
    "Type annotations can also be checked _statically_ – that is, without even running the code.  Let us create a simple Python file consisting of the above `my_sqrt_typed()` definition and a bad invocation."
   ]
  },
  {
   "cell_type": "code",
   "execution_count": 15,
   "metadata": {
    "execution": {
     "iopub.execute_input": "2023-11-12T12:47:45.180976Z",
     "iopub.status.busy": "2023-11-12T12:47:45.180879Z",
     "iopub.status.idle": "2023-11-12T12:47:45.182392Z",
     "shell.execute_reply": "2023-11-12T12:47:45.182148Z"
    },
    "slideshow": {
     "slide_type": "skip"
    }
   },
   "outputs": [],
   "source": [
    "import inspect\n",
    "import tempfile"
   ]
  },
  {
   "cell_type": "code",
   "execution_count": 16,
   "metadata": {
    "execution": {
     "iopub.execute_input": "2023-11-12T12:47:45.183944Z",
     "iopub.status.busy": "2023-11-12T12:47:45.183862Z",
     "iopub.status.idle": "2023-11-12T12:47:45.187360Z",
     "shell.execute_reply": "2023-11-12T12:47:45.187103Z"
    },
    "slideshow": {
     "slide_type": "fragment"
    }
   },
   "outputs": [
    {
     "data": {
      "text/plain": [
       "'/var/folders/n2/xd9445p97rb3xh7m1dfx8_4h0006ts/T/tmprffjy9tz.py'"
      ]
     },
     "execution_count": 16,
     "metadata": {},
     "output_type": "execute_result"
    }
   ],
   "source": [
    "f = tempfile.NamedTemporaryFile(mode='w', suffix='.py')\n",
    "f.name"
   ]
  },
  {
   "cell_type": "code",
   "execution_count": 17,
   "metadata": {
    "execution": {
     "iopub.execute_input": "2023-11-12T12:47:45.188859Z",
     "iopub.status.busy": "2023-11-12T12:47:45.188773Z",
     "iopub.status.idle": "2023-11-12T12:47:45.191251Z",
     "shell.execute_reply": "2023-11-12T12:47:45.190993Z"
    },
    "slideshow": {
     "slide_type": "fragment"
    }
   },
   "outputs": [],
   "source": [
    "f.write(inspect.getsource(my_sqrt))\n",
    "f.write('\\n')\n",
    "f.write(inspect.getsource(my_sqrt_with_type_annotations))\n",
    "f.write('\\n')\n",
    "f.write(\"print(my_sqrt_with_type_annotations('123'))\\n\")\n",
    "f.flush()"
   ]
  },
  {
   "cell_type": "markdown",
   "metadata": {
    "slideshow": {
     "slide_type": "subslide"
    }
   },
   "source": [
    "These are the contents of our newly created Python file:"
   ]
  },
  {
   "cell_type": "code",
   "execution_count": 18,
   "metadata": {
    "execution": {
     "iopub.execute_input": "2023-11-12T12:47:45.192739Z",
     "iopub.status.busy": "2023-11-12T12:47:45.192653Z",
     "iopub.status.idle": "2023-11-12T12:47:45.194278Z",
     "shell.execute_reply": "2023-11-12T12:47:45.193997Z"
    },
    "slideshow": {
     "slide_type": "skip"
    }
   },
   "outputs": [],
   "source": [
    "from bookutils import print_file"
   ]
  },
  {
   "cell_type": "code",
   "execution_count": 19,
   "metadata": {
    "execution": {
     "iopub.execute_input": "2023-11-12T12:47:45.195922Z",
     "iopub.status.busy": "2023-11-12T12:47:45.195829Z",
     "iopub.status.idle": "2023-11-12T12:47:45.275933Z",
     "shell.execute_reply": "2023-11-12T12:47:45.275633Z"
    },
    "slideshow": {
     "slide_type": "subslide"
    }
   },
   "outputs": [
    {
     "name": "stdout",
     "output_type": "stream",
     "text": [
      "\u001b[34mdef\u001b[39;49;00m \u001b[32mmy_sqrt\u001b[39;49;00m(x):\u001b[37m\u001b[39;49;00m\n",
      "\u001b[37m    \u001b[39;49;00m\u001b[33m\"\"\"Computes the square root of x, using the Newton-Raphson method\"\"\"\u001b[39;49;00m\u001b[37m\u001b[39;49;00m\n",
      "    approx = \u001b[34mNone\u001b[39;49;00m\u001b[37m\u001b[39;49;00m\n",
      "    guess = x / \u001b[34m2\u001b[39;49;00m\u001b[37m\u001b[39;49;00m\n",
      "    \u001b[34mwhile\u001b[39;49;00m approx != guess:\u001b[37m\u001b[39;49;00m\n",
      "        approx = guess\u001b[37m\u001b[39;49;00m\n",
      "        guess = (approx + x / approx) / \u001b[34m2\u001b[39;49;00m\u001b[37m\u001b[39;49;00m\n",
      "    \u001b[34mreturn\u001b[39;49;00m approx\u001b[37m\u001b[39;49;00m\n",
      "\u001b[37m\u001b[39;49;00m\n",
      "\u001b[34mdef\u001b[39;49;00m \u001b[32mmy_sqrt_with_type_annotations\u001b[39;49;00m(x: \u001b[36mfloat\u001b[39;49;00m) -> \u001b[36mfloat\u001b[39;49;00m:\u001b[37m\u001b[39;49;00m\n",
      "\u001b[37m    \u001b[39;49;00m\u001b[33m\"\"\"Computes the square root of x, using the Newton-Raphson method\"\"\"\u001b[39;49;00m\u001b[37m\u001b[39;49;00m\n",
      "    \u001b[34mreturn\u001b[39;49;00m my_sqrt(x)\u001b[37m\u001b[39;49;00m\n",
      "\u001b[37m\u001b[39;49;00m\n",
      "\u001b[36mprint\u001b[39;49;00m(my_sqrt_with_type_annotations(\u001b[33m'\u001b[39;49;00m\u001b[33m123\u001b[39;49;00m\u001b[33m'\u001b[39;49;00m))\u001b[37m\u001b[39;49;00m"
     ]
    }
   ],
   "source": [
    "print_file(f.name)"
   ]
  },
  {
   "cell_type": "markdown",
   "metadata": {
    "slideshow": {
     "slide_type": "subslide"
    }
   },
   "source": [
    "[Mypy](http://mypy-lang.org) is a type checker for Python programs.  As it checks types statically, types induce no overhead at runtime; plus, a static check can be faster than a lengthy series of tests with runtime type checking enabled.  Let us see what `mypy` produces on the above file:"
   ]
  },
  {
   "cell_type": "code",
   "execution_count": 20,
   "metadata": {
    "execution": {
     "iopub.execute_input": "2023-11-12T12:47:45.277665Z",
     "iopub.status.busy": "2023-11-12T12:47:45.277556Z",
     "iopub.status.idle": "2023-11-12T12:47:45.279138Z",
     "shell.execute_reply": "2023-11-12T12:47:45.278900Z"
    },
    "slideshow": {
     "slide_type": "skip"
    }
   },
   "outputs": [],
   "source": [
    "import subprocess"
   ]
  },
  {
   "cell_type": "code",
   "execution_count": 21,
   "metadata": {
    "execution": {
     "iopub.execute_input": "2023-11-12T12:47:45.280667Z",
     "iopub.status.busy": "2023-11-12T12:47:45.280563Z",
     "iopub.status.idle": "2023-11-12T12:47:45.562737Z",
     "shell.execute_reply": "2023-11-12T12:47:45.562341Z"
    },
    "slideshow": {
     "slide_type": "fragment"
    }
   },
   "outputs": [],
   "source": [
    "result = subprocess.run([\"mypy\", \"--strict\", f.name], universal_newlines=True, stdout=subprocess.PIPE)\n",
    "del f  # Delete temporary file"
   ]
  },
  {
   "cell_type": "code",
   "execution_count": 22,
   "metadata": {
    "execution": {
     "iopub.execute_input": "2023-11-12T12:47:45.564766Z",
     "iopub.status.busy": "2023-11-12T12:47:45.564572Z",
     "iopub.status.idle": "2023-11-12T12:47:45.566601Z",
     "shell.execute_reply": "2023-11-12T12:47:45.566349Z"
    },
    "slideshow": {
     "slide_type": "fragment"
    }
   },
   "outputs": [
    {
     "name": "stdout",
     "output_type": "stream",
     "text": [
      "/var/folders/n2/xd9445p97rb3xh7m1dfx8_4h0006ts/T/tmprffjy9tz.py:1: error: Function is missing a type annotation  [no-untyped-def]\n",
      "/var/folders/n2/xd9445p97rb3xh7m1dfx8_4h0006ts/T/tmprffjy9tz.py:12: error: Returning Any from function declared to return \"float\"  [no-any-return]\n",
      "/var/folders/n2/xd9445p97rb3xh7m1dfx8_4h0006ts/T/tmprffjy9tz.py:12: error: Call to untyped function \"my_sqrt\" in typed context  [no-untyped-call]\n",
      "/var/folders/n2/xd9445p97rb3xh7m1dfx8_4h0006ts/T/tmprffjy9tz.py:14: error: Argument 1 to \"my_sqrt_with_type_annotations\" has incompatible type \"str\"; expected \"float\"  [arg-type]\n",
      "Found 4 errors in 1 file (checked 1 source file)\n",
      "\n"
     ]
    }
   ],
   "source": [
    "print(result.stdout)"
   ]
  },
  {
   "cell_type": "markdown",
   "metadata": {
    "slideshow": {
     "slide_type": "subslide"
    }
   },
   "source": [
    "We see that `mypy` complains about untyped function definitions such as `my_sqrt()`; most important, however, it finds that the  call to `my_sqrt_with_type_annotations()` in the last line has the wrong type."
   ]
  },
  {
   "cell_type": "markdown",
   "metadata": {
    "slideshow": {
     "slide_type": "fragment"
    }
   },
   "source": [
    "With `mypy`, we can achieve the same type safety with Python as in statically typed languages – provided that we as programmers also produce the necessary type annotations.  Is there a simple way to obtain these?"
   ]
  },
  {
   "cell_type": "markdown",
   "metadata": {
    "slideshow": {
     "slide_type": "slide"
    },
    "toc-hr-collapsed": false
   },
   "source": [
    "## Mining Type Specifications\n",
    "\n",
    "Our first task will be to mine type annotations (as part of the code) from _values_ we observe at run time.  These type annotations would be _mined_ from actual function executions, _learning_ from (normal) runs what the expected argument and return types should be.  By observing a series of calls such as these, we could infer that both `x` and the return value are of type `float`:"
   ]
  },
  {
   "cell_type": "code",
   "execution_count": 23,
   "metadata": {
    "execution": {
     "iopub.execute_input": "2023-11-12T12:47:45.568147Z",
     "iopub.status.busy": "2023-11-12T12:47:45.568046Z",
     "iopub.status.idle": "2023-11-12T12:47:45.570028Z",
     "shell.execute_reply": "2023-11-12T12:47:45.569793Z"
    },
    "slideshow": {
     "slide_type": "fragment"
    }
   },
   "outputs": [
    {
     "data": {
      "text/plain": [
       "5.0"
      ]
     },
     "execution_count": 23,
     "metadata": {},
     "output_type": "execute_result"
    }
   ],
   "source": [
    "y = my_sqrt(25.0)\n",
    "y"
   ]
  },
  {
   "cell_type": "code",
   "execution_count": 24,
   "metadata": {
    "execution": {
     "iopub.execute_input": "2023-11-12T12:47:45.571423Z",
     "iopub.status.busy": "2023-11-12T12:47:45.571323Z",
     "iopub.status.idle": "2023-11-12T12:47:45.573285Z",
     "shell.execute_reply": "2023-11-12T12:47:45.573036Z"
    },
    "slideshow": {
     "slide_type": "fragment"
    }
   },
   "outputs": [
    {
     "data": {
      "text/plain": [
       "1.414213562373095"
      ]
     },
     "execution_count": 24,
     "metadata": {},
     "output_type": "execute_result"
    }
   ],
   "source": [
    "y = my_sqrt(2.0)\n",
    "y"
   ]
  },
  {
   "cell_type": "markdown",
   "metadata": {
    "slideshow": {
     "slide_type": "subslide"
    }
   },
   "source": [
    "How can we mine types from executions?  The answer is simple: \n",
    "\n",
    "1. We _observe_ a function during execution\n",
    "2. We track the _types_ of its arguments\n",
    "3. We include these types as _annotations_ into the code.\n",
    "\n",
    "To do so, we can make use of Python's tracing facility we already observed in the [chapter on coverage](Coverage.ipynb).  With every call to a function, we retrieve the arguments, their values, and their types."
   ]
  },
  {
   "cell_type": "markdown",
   "metadata": {
    "slideshow": {
     "slide_type": "subslide"
    }
   },
   "source": [
    "### Tracking Calls\n",
    "\n",
    "To observe argument types at runtime, we define a _tracer function_ that tracks the execution of `my_sqrt()`, checking its arguments and return values.  The `Tracker` class is set to trace functions in a `with` block as follows:\n",
    "\n",
    "```python\n",
    "with Tracker() as tracker:\n",
    "    function_to_be_tracked(...)\n",
    "info = tracker.collected_information()\n",
    "```\n",
    "\n",
    "As in the [chapter on coverage](Coverage.ipynb), we use the `sys.settrace()` function to trace individual functions during execution.  We turn on tracking when the `with` block starts; at this point, the `__enter__()` method is called.  When execution of the `with` block ends, `__exit()__` is called.  "
   ]
  },
  {
   "cell_type": "code",
   "execution_count": 25,
   "metadata": {
    "execution": {
     "iopub.execute_input": "2023-11-12T12:47:45.574912Z",
     "iopub.status.busy": "2023-11-12T12:47:45.574663Z",
     "iopub.status.idle": "2023-11-12T12:47:45.576275Z",
     "shell.execute_reply": "2023-11-12T12:47:45.576041Z"
    },
    "slideshow": {
     "slide_type": "skip"
    }
   },
   "outputs": [],
   "source": [
    "import sys"
   ]
  },
  {
   "cell_type": "code",
   "execution_count": 26,
   "metadata": {
    "execution": {
     "iopub.execute_input": "2023-11-12T12:47:45.577868Z",
     "iopub.status.busy": "2023-11-12T12:47:45.577760Z",
     "iopub.status.idle": "2023-11-12T12:47:45.580154Z",
     "shell.execute_reply": "2023-11-12T12:47:45.579932Z"
    },
    "slideshow": {
     "slide_type": "subslide"
    }
   },
   "outputs": [],
   "source": [
    "class Tracker:\n",
    "    def __init__(self, log=False):\n",
    "        self._log = log\n",
    "        self.reset()\n",
    "\n",
    "    def reset(self):\n",
    "        self._calls = {}\n",
    "        self._stack = []\n",
    "\n",
    "    def traceit(self):\n",
    "        \"\"\"Placeholder to be overloaded in subclasses\"\"\"\n",
    "        pass\n",
    "\n",
    "    # Start of `with` block\n",
    "    def __enter__(self):\n",
    "        self.original_trace_function = sys.gettrace()\n",
    "        sys.settrace(self.traceit)\n",
    "        return self\n",
    "\n",
    "    # End of `with` block\n",
    "    def __exit__(self, exc_type, exc_value, tb):\n",
    "        sys.settrace(self.original_trace_function)"
   ]
  },
  {
   "cell_type": "markdown",
   "metadata": {
    "slideshow": {
     "slide_type": "subslide"
    }
   },
   "source": [
    "The `traceit()` method does nothing yet; this is done in specialized subclasses.  The `CallTracker` class implements a `traceit()` function that checks for function calls and returns:"
   ]
  },
  {
   "cell_type": "code",
   "execution_count": 27,
   "metadata": {
    "execution": {
     "iopub.execute_input": "2023-11-12T12:47:45.581763Z",
     "iopub.status.busy": "2023-11-12T12:47:45.581660Z",
     "iopub.status.idle": "2023-11-12T12:47:45.583660Z",
     "shell.execute_reply": "2023-11-12T12:47:45.583394Z"
    },
    "slideshow": {
     "slide_type": "fragment"
    }
   },
   "outputs": [],
   "source": [
    "class CallTracker(Tracker):\n",
    "    def traceit(self, frame, event, arg):\n",
    "        \"\"\"Tracking function: Record all calls and all args\"\"\"\n",
    "        if event == \"call\":\n",
    "            self.trace_call(frame, event, arg)\n",
    "        elif event == \"return\":\n",
    "            self.trace_return(frame, event, arg)\n",
    "            \n",
    "        return self.traceit"
   ]
  },
  {
   "cell_type": "markdown",
   "metadata": {
    "slideshow": {
     "slide_type": "fragment"
    }
   },
   "source": [
    "`trace_call()` is called when a function is called; it retrieves the function name and current arguments, and saves them on a stack."
   ]
  },
  {
   "cell_type": "code",
   "execution_count": 28,
   "metadata": {
    "execution": {
     "iopub.execute_input": "2023-11-12T12:47:45.585371Z",
     "iopub.status.busy": "2023-11-12T12:47:45.585261Z",
     "iopub.status.idle": "2023-11-12T12:47:45.587254Z",
     "shell.execute_reply": "2023-11-12T12:47:45.586990Z"
    },
    "slideshow": {
     "slide_type": "subslide"
    }
   },
   "outputs": [],
   "source": [
    "class CallTracker(CallTracker):\n",
    "    def trace_call(self, frame, event, arg):\n",
    "        \"\"\"Save current function name and args on the stack\"\"\"\n",
    "        code = frame.f_code\n",
    "        function_name = code.co_name\n",
    "        arguments = get_arguments(frame)\n",
    "        self._stack.append((function_name, arguments))\n",
    "\n",
    "        if self._log:\n",
    "            print(simple_call_string(function_name, arguments))"
   ]
  },
  {
   "cell_type": "code",
   "execution_count": 29,
   "metadata": {
    "execution": {
     "iopub.execute_input": "2023-11-12T12:47:45.588758Z",
     "iopub.status.busy": "2023-11-12T12:47:45.588647Z",
     "iopub.status.idle": "2023-11-12T12:47:45.590675Z",
     "shell.execute_reply": "2023-11-12T12:47:45.590387Z"
    },
    "slideshow": {
     "slide_type": "subslide"
    }
   },
   "outputs": [],
   "source": [
    "def get_arguments(frame):\n",
    "    \"\"\"Return call arguments in the given frame\"\"\"\n",
    "    # When called, all arguments are local variables\n",
    "    local_variables = dict(frame.f_locals)  # explicit copy\n",
    "    arguments = [(var, frame.f_locals[var]) for var in local_variables]\n",
    "    arguments.reverse()  # Want same order as call\n",
    "    return arguments"
   ]
  },
  {
   "cell_type": "markdown",
   "metadata": {
    "slideshow": {
     "slide_type": "fragment"
    }
   },
   "source": [
    "When the function returns, `trace_return()` is called.  We now also have the return value.  We log the whole call with arguments and return value (if desired) and save it in our list of calls."
   ]
  },
  {
   "cell_type": "code",
   "execution_count": 30,
   "metadata": {
    "execution": {
     "iopub.execute_input": "2023-11-12T12:47:45.592295Z",
     "iopub.status.busy": "2023-11-12T12:47:45.592194Z",
     "iopub.status.idle": "2023-11-12T12:47:45.594464Z",
     "shell.execute_reply": "2023-11-12T12:47:45.594177Z"
    },
    "slideshow": {
     "slide_type": "subslide"
    }
   },
   "outputs": [],
   "source": [
    "class CallTracker(CallTracker):\n",
    "    def trace_return(self, frame, event, arg):\n",
    "        \"\"\"Get return value and store complete call with arguments and return value\"\"\"\n",
    "        code = frame.f_code\n",
    "        function_name = code.co_name\n",
    "        return_value = arg\n",
    "        # TODO: Could call get_arguments() here to also retrieve _final_ values of argument variables\n",
    "\n",
    "        called_function_name, called_arguments = self._stack.pop()\n",
    "        assert function_name == called_function_name\n",
    "\n",
    "        if self._log:\n",
    "            print(simple_call_string(function_name, called_arguments), \"returns\", return_value)\n",
    "\n",
    "        self.add_call(function_name, called_arguments, return_value)"
   ]
  },
  {
   "cell_type": "markdown",
   "metadata": {
    "slideshow": {
     "slide_type": "subslide"
    }
   },
   "source": [
    "`simple_call_string()` is a helper for logging that prints out calls in a user-friendly manner."
   ]
  },
  {
   "cell_type": "code",
   "execution_count": 31,
   "metadata": {
    "execution": {
     "iopub.execute_input": "2023-11-12T12:47:45.595978Z",
     "iopub.status.busy": "2023-11-12T12:47:45.595874Z",
     "iopub.status.idle": "2023-11-12T12:47:45.597938Z",
     "shell.execute_reply": "2023-11-12T12:47:45.597678Z"
    },
    "slideshow": {
     "slide_type": "fragment"
    }
   },
   "outputs": [],
   "source": [
    "def simple_call_string(function_name, argument_list, return_value=None):\n",
    "    \"\"\"Return function_name(arg[0], arg[1], ...) as a string\"\"\"\n",
    "    call = function_name + \"(\" + \\\n",
    "        \", \".join([var + \"=\" + repr(value)\n",
    "                   for (var, value) in argument_list]) + \")\"\n",
    "\n",
    "    if return_value is not None:\n",
    "        call += \" = \" + repr(return_value)\n",
    "\n",
    "    return call"
   ]
  },
  {
   "cell_type": "markdown",
   "metadata": {
    "slideshow": {
     "slide_type": "fragment"
    }
   },
   "source": [
    "`add_call()` saves the calls in a list; each function name has its own list."
   ]
  },
  {
   "cell_type": "code",
   "execution_count": 32,
   "metadata": {
    "execution": {
     "iopub.execute_input": "2023-11-12T12:47:45.599615Z",
     "iopub.status.busy": "2023-11-12T12:47:45.599508Z",
     "iopub.status.idle": "2023-11-12T12:47:45.601464Z",
     "shell.execute_reply": "2023-11-12T12:47:45.601213Z"
    },
    "slideshow": {
     "slide_type": "subslide"
    }
   },
   "outputs": [],
   "source": [
    "class CallTracker(CallTracker):\n",
    "    def add_call(self, function_name, arguments, return_value=None):\n",
    "        \"\"\"Add given call to list of calls\"\"\"\n",
    "        if function_name not in self._calls:\n",
    "            self._calls[function_name] = []\n",
    "        self._calls[function_name].append((arguments, return_value))"
   ]
  },
  {
   "cell_type": "markdown",
   "metadata": {
    "slideshow": {
     "slide_type": "fragment"
    }
   },
   "source": [
    "Using `calls()`, we can retrieve the list of calls, either for a given function, or for all functions."
   ]
  },
  {
   "cell_type": "code",
   "execution_count": 33,
   "metadata": {
    "execution": {
     "iopub.execute_input": "2023-11-12T12:47:45.602949Z",
     "iopub.status.busy": "2023-11-12T12:47:45.602849Z",
     "iopub.status.idle": "2023-11-12T12:47:45.604555Z",
     "shell.execute_reply": "2023-11-12T12:47:45.604297Z"
    },
    "slideshow": {
     "slide_type": "subslide"
    }
   },
   "outputs": [],
   "source": [
    "class CallTracker(CallTracker):\n",
    "    def calls(self, function_name=None):\n",
    "        \"\"\"Return list of calls for function_name, \n",
    "        or a mapping function_name -> calls for all functions tracked\"\"\"\n",
    "        if function_name is None:\n",
    "            return self._calls\n",
    "\n",
    "        return self._calls[function_name]"
   ]
  },
  {
   "cell_type": "markdown",
   "metadata": {
    "slideshow": {
     "slide_type": "fragment"
    }
   },
   "source": [
    "Let us now put this to use.  We turn on logging to track the individual calls and their return values:"
   ]
  },
  {
   "cell_type": "code",
   "execution_count": 34,
   "metadata": {
    "execution": {
     "iopub.execute_input": "2023-11-12T12:47:45.606034Z",
     "iopub.status.busy": "2023-11-12T12:47:45.605936Z",
     "iopub.status.idle": "2023-11-12T12:47:45.607710Z",
     "shell.execute_reply": "2023-11-12T12:47:45.607453Z"
    },
    "slideshow": {
     "slide_type": "subslide"
    }
   },
   "outputs": [
    {
     "name": "stdout",
     "output_type": "stream",
     "text": [
      "my_sqrt(x=25)\n",
      "my_sqrt(x=25) returns 5.0\n",
      "my_sqrt(x=2.0)\n",
      "my_sqrt(x=2.0) returns 1.414213562373095\n",
      "__exit__(tb=None, exc_value=None, exc_type=None, self=<__main__.CallTracker object at 0x10f5789a0>)\n"
     ]
    }
   ],
   "source": [
    "with CallTracker(log=True) as tracker:\n",
    "    y = my_sqrt(25)\n",
    "    y = my_sqrt(2.0)"
   ]
  },
  {
   "cell_type": "markdown",
   "metadata": {
    "slideshow": {
     "slide_type": "fragment"
    }
   },
   "source": [
    "After execution, we can retrieve the individual calls:"
   ]
  },
  {
   "cell_type": "code",
   "execution_count": 35,
   "metadata": {
    "execution": {
     "iopub.execute_input": "2023-11-12T12:47:45.609294Z",
     "iopub.status.busy": "2023-11-12T12:47:45.609183Z",
     "iopub.status.idle": "2023-11-12T12:47:45.611324Z",
     "shell.execute_reply": "2023-11-12T12:47:45.611048Z"
    },
    "slideshow": {
     "slide_type": "fragment"
    }
   },
   "outputs": [
    {
     "data": {
      "text/plain": [
       "[([('x', 25)], 5.0), ([('x', 2.0)], 1.414213562373095)]"
      ]
     },
     "execution_count": 35,
     "metadata": {},
     "output_type": "execute_result"
    }
   ],
   "source": [
    "calls = tracker.calls('my_sqrt')\n",
    "calls"
   ]
  },
  {
   "cell_type": "markdown",
   "metadata": {
    "slideshow": {
     "slide_type": "fragment"
    }
   },
   "source": [
    "Each call is pair (`argument_list`, `return_value`), where `argument_list` is a list of pairs (`parameter_name`, `value`)."
   ]
  },
  {
   "cell_type": "code",
   "execution_count": 36,
   "metadata": {
    "execution": {
     "iopub.execute_input": "2023-11-12T12:47:45.612876Z",
     "iopub.status.busy": "2023-11-12T12:47:45.612769Z",
     "iopub.status.idle": "2023-11-12T12:47:45.614853Z",
     "shell.execute_reply": "2023-11-12T12:47:45.614617Z"
    },
    "slideshow": {
     "slide_type": "subslide"
    }
   },
   "outputs": [
    {
     "data": {
      "text/plain": [
       "'my_sqrt(x=25) = 5.0'"
      ]
     },
     "execution_count": 36,
     "metadata": {},
     "output_type": "execute_result"
    }
   ],
   "source": [
    "my_sqrt_argument_list, my_sqrt_return_value = calls[0]\n",
    "simple_call_string('my_sqrt', my_sqrt_argument_list, my_sqrt_return_value)"
   ]
  },
  {
   "cell_type": "markdown",
   "metadata": {
    "slideshow": {
     "slide_type": "fragment"
    }
   },
   "source": [
    "If the function does not return a value, `return_value` is `None`."
   ]
  },
  {
   "cell_type": "code",
   "execution_count": 37,
   "metadata": {
    "execution": {
     "iopub.execute_input": "2023-11-12T12:47:45.616364Z",
     "iopub.status.busy": "2023-11-12T12:47:45.616249Z",
     "iopub.status.idle": "2023-11-12T12:47:45.617915Z",
     "shell.execute_reply": "2023-11-12T12:47:45.617609Z"
    },
    "slideshow": {
     "slide_type": "fragment"
    }
   },
   "outputs": [],
   "source": [
    "def hello(name):\n",
    "    print(\"Hello,\", name)"
   ]
  },
  {
   "cell_type": "code",
   "execution_count": 38,
   "metadata": {
    "execution": {
     "iopub.execute_input": "2023-11-12T12:47:45.619707Z",
     "iopub.status.busy": "2023-11-12T12:47:45.619581Z",
     "iopub.status.idle": "2023-11-12T12:47:45.621541Z",
     "shell.execute_reply": "2023-11-12T12:47:45.621207Z"
    },
    "slideshow": {
     "slide_type": "fragment"
    }
   },
   "outputs": [
    {
     "name": "stdout",
     "output_type": "stream",
     "text": [
      "Hello, world\n"
     ]
    }
   ],
   "source": [
    "with CallTracker() as tracker:\n",
    "    hello(\"world\")"
   ]
  },
  {
   "cell_type": "code",
   "execution_count": 39,
   "metadata": {
    "execution": {
     "iopub.execute_input": "2023-11-12T12:47:45.623270Z",
     "iopub.status.busy": "2023-11-12T12:47:45.623143Z",
     "iopub.status.idle": "2023-11-12T12:47:45.625340Z",
     "shell.execute_reply": "2023-11-12T12:47:45.625078Z"
    },
    "slideshow": {
     "slide_type": "fragment"
    }
   },
   "outputs": [
    {
     "data": {
      "text/plain": [
       "[([('name', 'world')], None)]"
      ]
     },
     "execution_count": 39,
     "metadata": {},
     "output_type": "execute_result"
    }
   ],
   "source": [
    "hello_calls = tracker.calls('hello')\n",
    "hello_calls"
   ]
  },
  {
   "cell_type": "code",
   "execution_count": 40,
   "metadata": {
    "execution": {
     "iopub.execute_input": "2023-11-12T12:47:45.626910Z",
     "iopub.status.busy": "2023-11-12T12:47:45.626790Z",
     "iopub.status.idle": "2023-11-12T12:47:45.628809Z",
     "shell.execute_reply": "2023-11-12T12:47:45.628544Z"
    },
    "slideshow": {
     "slide_type": "subslide"
    }
   },
   "outputs": [
    {
     "data": {
      "text/plain": [
       "\"hello(name='world')\""
      ]
     },
     "execution_count": 40,
     "metadata": {},
     "output_type": "execute_result"
    }
   ],
   "source": [
    "hello_argument_list, hello_return_value = hello_calls[0]\n",
    "simple_call_string('hello', hello_argument_list, hello_return_value)"
   ]
  },
  {
   "cell_type": "markdown",
   "metadata": {
    "button": false,
    "new_sheet": false,
    "run_control": {
     "read_only": false
    },
    "slideshow": {
     "slide_type": "subslide"
    }
   },
   "source": [
    "### Getting Types\n",
    "\n",
    "Despite what you may have read or heard, Python actually _is_ a typed language.  It is just that it is _dynamically typed_ – types are used and checked only at runtime (rather than declared in the code, where they can be _statically checked_ at compile time).  We can thus retrieve types of all values within Python:"
   ]
  },
  {
   "cell_type": "code",
   "execution_count": 41,
   "metadata": {
    "execution": {
     "iopub.execute_input": "2023-11-12T12:47:45.630361Z",
     "iopub.status.busy": "2023-11-12T12:47:45.630258Z",
     "iopub.status.idle": "2023-11-12T12:47:45.632326Z",
     "shell.execute_reply": "2023-11-12T12:47:45.632075Z"
    },
    "slideshow": {
     "slide_type": "fragment"
    }
   },
   "outputs": [
    {
     "data": {
      "text/plain": [
       "int"
      ]
     },
     "execution_count": 41,
     "metadata": {},
     "output_type": "execute_result"
    }
   ],
   "source": [
    "type(4)"
   ]
  },
  {
   "cell_type": "code",
   "execution_count": 42,
   "metadata": {
    "execution": {
     "iopub.execute_input": "2023-11-12T12:47:45.633832Z",
     "iopub.status.busy": "2023-11-12T12:47:45.633729Z",
     "iopub.status.idle": "2023-11-12T12:47:45.635625Z",
     "shell.execute_reply": "2023-11-12T12:47:45.635267Z"
    },
    "slideshow": {
     "slide_type": "fragment"
    }
   },
   "outputs": [
    {
     "data": {
      "text/plain": [
       "float"
      ]
     },
     "execution_count": 42,
     "metadata": {},
     "output_type": "execute_result"
    }
   ],
   "source": [
    "type(2.0)"
   ]
  },
  {
   "cell_type": "code",
   "execution_count": 43,
   "metadata": {
    "execution": {
     "iopub.execute_input": "2023-11-12T12:47:45.637537Z",
     "iopub.status.busy": "2023-11-12T12:47:45.637386Z",
     "iopub.status.idle": "2023-11-12T12:47:45.639737Z",
     "shell.execute_reply": "2023-11-12T12:47:45.639317Z"
    },
    "slideshow": {
     "slide_type": "fragment"
    }
   },
   "outputs": [
    {
     "data": {
      "text/plain": [
       "list"
      ]
     },
     "execution_count": 43,
     "metadata": {},
     "output_type": "execute_result"
    }
   ],
   "source": [
    "type([4])"
   ]
  },
  {
   "cell_type": "markdown",
   "metadata": {
    "slideshow": {
     "slide_type": "fragment"
    }
   },
   "source": [
    "We can retrieve the type of the first argument to `my_sqrt()`:"
   ]
  },
  {
   "cell_type": "code",
   "execution_count": 44,
   "metadata": {
    "execution": {
     "iopub.execute_input": "2023-11-12T12:47:45.641447Z",
     "iopub.status.busy": "2023-11-12T12:47:45.641326Z",
     "iopub.status.idle": "2023-11-12T12:47:45.643503Z",
     "shell.execute_reply": "2023-11-12T12:47:45.643255Z"
    },
    "slideshow": {
     "slide_type": "subslide"
    }
   },
   "outputs": [
    {
     "data": {
      "text/plain": [
       "('x', int)"
      ]
     },
     "execution_count": 44,
     "metadata": {},
     "output_type": "execute_result"
    }
   ],
   "source": [
    "parameter, value = my_sqrt_argument_list[0]\n",
    "parameter, type(value)"
   ]
  },
  {
   "cell_type": "markdown",
   "metadata": {
    "slideshow": {
     "slide_type": "fragment"
    }
   },
   "source": [
    "as well as the type of the return value:"
   ]
  },
  {
   "cell_type": "code",
   "execution_count": 45,
   "metadata": {
    "execution": {
     "iopub.execute_input": "2023-11-12T12:47:45.645145Z",
     "iopub.status.busy": "2023-11-12T12:47:45.645019Z",
     "iopub.status.idle": "2023-11-12T12:47:45.647056Z",
     "shell.execute_reply": "2023-11-12T12:47:45.646809Z"
    },
    "slideshow": {
     "slide_type": "fragment"
    }
   },
   "outputs": [
    {
     "data": {
      "text/plain": [
       "float"
      ]
     },
     "execution_count": 45,
     "metadata": {},
     "output_type": "execute_result"
    }
   ],
   "source": [
    "type(my_sqrt_return_value)"
   ]
  },
  {
   "cell_type": "markdown",
   "metadata": {
    "slideshow": {
     "slide_type": "fragment"
    }
   },
   "source": [
    "Hence, we see that (so far), `my_sqrt()` is a function taking (among others) integers and floats and returning floats.  We could declare `my_sqrt()` as:"
   ]
  },
  {
   "cell_type": "code",
   "execution_count": 46,
   "metadata": {
    "execution": {
     "iopub.execute_input": "2023-11-12T12:47:45.648595Z",
     "iopub.status.busy": "2023-11-12T12:47:45.648491Z",
     "iopub.status.idle": "2023-11-12T12:47:45.650128Z",
     "shell.execute_reply": "2023-11-12T12:47:45.649885Z"
    },
    "slideshow": {
     "slide_type": "fragment"
    }
   },
   "outputs": [],
   "source": [
    "def my_sqrt_annotated(x: float) -> float:\n",
    "    return my_sqrt(x)"
   ]
  },
  {
   "cell_type": "markdown",
   "metadata": {
    "slideshow": {
     "slide_type": "subslide"
    }
   },
   "source": [
    "This is a representation we could place in a static type checker, allowing to check whether calls to `my_sqrt()` actually pass a number.  A dynamic type checker could run such checks at runtime.  And of course, any [symbolic interpretation](SymbolicFuzzer.ipynb) will greatly profit from the additional annotations."
   ]
  },
  {
   "cell_type": "markdown",
   "metadata": {
    "slideshow": {
     "slide_type": "fragment"
    }
   },
   "source": [
    "By default, Python does not do anything with such annotations.  However, tools can access annotations from functions and other objects:"
   ]
  },
  {
   "cell_type": "code",
   "execution_count": 47,
   "metadata": {
    "execution": {
     "iopub.execute_input": "2023-11-12T12:47:45.651683Z",
     "iopub.status.busy": "2023-11-12T12:47:45.651581Z",
     "iopub.status.idle": "2023-11-12T12:47:45.653555Z",
     "shell.execute_reply": "2023-11-12T12:47:45.653282Z"
    },
    "slideshow": {
     "slide_type": "fragment"
    }
   },
   "outputs": [
    {
     "data": {
      "text/plain": [
       "{'x': float, 'return': float}"
      ]
     },
     "execution_count": 47,
     "metadata": {},
     "output_type": "execute_result"
    }
   ],
   "source": [
    "my_sqrt_annotated.__annotations__"
   ]
  },
  {
   "cell_type": "markdown",
   "metadata": {
    "slideshow": {
     "slide_type": "fragment"
    }
   },
   "source": [
    "This is how run-time checkers access the annotations to check against."
   ]
  },
  {
   "cell_type": "markdown",
   "metadata": {
    "slideshow": {
     "slide_type": "subslide"
    }
   },
   "source": [
    "### Accessing Function Structure\n",
    "\n",
    "Our plan is to annotate functions automatically, based on the types we have seen.  To do so, we need a few modules that allow us to convert a function into a tree representation (called _abstract syntax trees_, or ASTs) and back; we already have seen these in the chapters on [concolic](ConcolicFuzzer.ipynb) and [symbolic](SymbolicFuzzer.ipynb) testing."
   ]
  },
  {
   "cell_type": "code",
   "execution_count": 48,
   "metadata": {
    "execution": {
     "iopub.execute_input": "2023-11-12T12:47:45.655242Z",
     "iopub.status.busy": "2023-11-12T12:47:45.654962Z",
     "iopub.status.idle": "2023-11-12T12:47:45.656732Z",
     "shell.execute_reply": "2023-11-12T12:47:45.656480Z"
    },
    "slideshow": {
     "slide_type": "skip"
    }
   },
   "outputs": [],
   "source": [
    "import ast\n",
    "import inspect"
   ]
  },
  {
   "cell_type": "markdown",
   "metadata": {
    "slideshow": {
     "slide_type": "fragment"
    }
   },
   "source": [
    "We can get the source of a Python function using `inspect.getsource()`.  (Note that this does not work for functions defined in other notebooks.)"
   ]
  },
  {
   "cell_type": "code",
   "execution_count": 49,
   "metadata": {
    "execution": {
     "iopub.execute_input": "2023-11-12T12:47:45.658189Z",
     "iopub.status.busy": "2023-11-12T12:47:45.658089Z",
     "iopub.status.idle": "2023-11-12T12:47:45.660531Z",
     "shell.execute_reply": "2023-11-12T12:47:45.660286Z"
    },
    "slideshow": {
     "slide_type": "fragment"
    }
   },
   "outputs": [
    {
     "data": {
      "text/plain": [
       "'def my_sqrt(x):\\n    \"\"\"Computes the square root of x, using the Newton-Raphson method\"\"\"\\n    approx = None\\n    guess = x / 2\\n    while approx != guess:\\n        approx = guess\\n        guess = (approx + x / approx) / 2\\n    return approx\\n'"
      ]
     },
     "execution_count": 49,
     "metadata": {},
     "output_type": "execute_result"
    }
   ],
   "source": [
    "my_sqrt_source = inspect.getsource(my_sqrt)\n",
    "my_sqrt_source"
   ]
  },
  {
   "cell_type": "markdown",
   "metadata": {
    "slideshow": {
     "slide_type": "subslide"
    }
   },
   "source": [
    "To view these in a visually pleasing form, our function `print_content(s, suffix)` formats and highlights the string `s` as if it were a file with ending `suffix`.  We can thus view (and highlight) the source as if it were a Python file:"
   ]
  },
  {
   "cell_type": "code",
   "execution_count": 50,
   "metadata": {
    "execution": {
     "iopub.execute_input": "2023-11-12T12:47:45.661997Z",
     "iopub.status.busy": "2023-11-12T12:47:45.661890Z",
     "iopub.status.idle": "2023-11-12T12:47:45.663385Z",
     "shell.execute_reply": "2023-11-12T12:47:45.663154Z"
    },
    "slideshow": {
     "slide_type": "skip"
    }
   },
   "outputs": [],
   "source": [
    "from bookutils import print_content"
   ]
  },
  {
   "cell_type": "code",
   "execution_count": 51,
   "metadata": {
    "execution": {
     "iopub.execute_input": "2023-11-12T12:47:45.664778Z",
     "iopub.status.busy": "2023-11-12T12:47:45.664691Z",
     "iopub.status.idle": "2023-11-12T12:47:45.697142Z",
     "shell.execute_reply": "2023-11-12T12:47:45.696894Z"
    },
    "slideshow": {
     "slide_type": "fragment"
    }
   },
   "outputs": [
    {
     "name": "stdout",
     "output_type": "stream",
     "text": [
      "\u001b[34mdef\u001b[39;49;00m \u001b[32mmy_sqrt\u001b[39;49;00m(x):\u001b[37m\u001b[39;49;00m\n",
      "\u001b[37m    \u001b[39;49;00m\u001b[33m\"\"\"Computes the square root of x, using the Newton-Raphson method\"\"\"\u001b[39;49;00m\u001b[37m\u001b[39;49;00m\n",
      "    approx = \u001b[34mNone\u001b[39;49;00m\u001b[37m\u001b[39;49;00m\n",
      "    guess = x / \u001b[34m2\u001b[39;49;00m\u001b[37m\u001b[39;49;00m\n",
      "    \u001b[34mwhile\u001b[39;49;00m approx != guess:\u001b[37m\u001b[39;49;00m\n",
      "        approx = guess\u001b[37m\u001b[39;49;00m\n",
      "        guess = (approx + x / approx) / \u001b[34m2\u001b[39;49;00m\u001b[37m\u001b[39;49;00m\n",
      "    \u001b[34mreturn\u001b[39;49;00m approx\u001b[37m\u001b[39;49;00m"
     ]
    }
   ],
   "source": [
    "print_content(my_sqrt_source, '.py')"
   ]
  },
  {
   "cell_type": "markdown",
   "metadata": {
    "slideshow": {
     "slide_type": "fragment"
    }
   },
   "source": [
    "Parsing this gives us an abstract syntax tree (AST) – a representation of the program in tree form."
   ]
  },
  {
   "cell_type": "code",
   "execution_count": 52,
   "metadata": {
    "execution": {
     "iopub.execute_input": "2023-11-12T12:47:45.698671Z",
     "iopub.status.busy": "2023-11-12T12:47:45.698583Z",
     "iopub.status.idle": "2023-11-12T12:47:45.700385Z",
     "shell.execute_reply": "2023-11-12T12:47:45.700114Z"
    },
    "slideshow": {
     "slide_type": "subslide"
    }
   },
   "outputs": [],
   "source": [
    "my_sqrt_ast = ast.parse(my_sqrt_source)"
   ]
  },
  {
   "cell_type": "markdown",
   "metadata": {
    "slideshow": {
     "slide_type": "fragment"
    }
   },
   "source": [
    "What does this AST look like?  The helper functions `ast.dump()` (textual output) and `showast.show_ast()` (graphical output with [showast](https://github.com/hchasestevens/show_ast)) allow us to inspect the structure of the tree.  We see that the function starts as a `FunctionDef` with name and arguments, followed by a body, which is a list of statements of type `Expr` (the docstring), type `Assign` (assignments), `While` (while loop with its own body), and finally `Return`."
   ]
  },
  {
   "cell_type": "code",
   "execution_count": 53,
   "metadata": {
    "execution": {
     "iopub.execute_input": "2023-11-12T12:47:45.701916Z",
     "iopub.status.busy": "2023-11-12T12:47:45.701825Z",
     "iopub.status.idle": "2023-11-12T12:47:45.703823Z",
     "shell.execute_reply": "2023-11-12T12:47:45.703535Z"
    },
    "slideshow": {
     "slide_type": "subslide"
    }
   },
   "outputs": [
    {
     "name": "stdout",
     "output_type": "stream",
     "text": [
      "Module(\n",
      "    body=[\n",
      "        FunctionDef(\n",
      "            name='my_sqrt',\n",
      "            args=arguments(\n",
      "                posonlyargs=[],\n",
      "                args=[\n",
      "                    arg(arg='x')],\n",
      "                kwonlyargs=[],\n",
      "                kw_defaults=[],\n",
      "                defaults=[]),\n",
      "            body=[\n",
      "                Expr(\n",
      "                    value=Constant(value='Computes the square root of x, using the Newton-Raphson method')),\n",
      "                Assign(\n",
      "                    targets=[\n",
      "                        Name(id='approx', ctx=Store())],\n",
      "                    value=Constant(value=None)),\n",
      "                Assign(\n",
      "                    targets=[\n",
      "                        Name(id='guess', ctx=Store())],\n",
      "                    value=BinOp(\n",
      "                        left=Name(id='x', ctx=Load()),\n",
      "                        op=Div(),\n",
      "                        right=Constant(value=2))),\n",
      "                While(\n",
      "                    test=Compare(\n",
      "                        left=Name(id='approx', ctx=Load()),\n",
      "                        ops=[\n",
      "                            NotEq()],\n",
      "                        comparators=[\n",
      "                            Name(id='guess', ctx=Load())]),\n",
      "                    body=[\n",
      "                        Assign(\n",
      "                            targets=[\n",
      "                                Name(id='approx', ctx=Store())],\n",
      "                            value=Name(id='guess', ctx=Load())),\n",
      "                        Assign(\n",
      "                            targets=[\n",
      "                                Name(id='guess', ctx=Store())],\n",
      "                            value=BinOp(\n",
      "                                left=BinOp(\n",
      "                                    left=Name(id='approx', ctx=Load()),\n",
      "                                    op=Add(),\n",
      "                                    right=BinOp(\n",
      "                                        left=Name(id='x', ctx=Load()),\n",
      "                                        op=Div(),\n",
      "                                        right=Name(id='approx', ctx=Load()))),\n",
      "                                op=Div(),\n",
      "                                right=Constant(value=2)))],\n",
      "                    orelse=[]),\n",
      "                Return(\n",
      "                    value=Name(id='approx', ctx=Load()))],\n",
      "            decorator_list=[])],\n",
      "    type_ignores=[])\n"
     ]
    }
   ],
   "source": [
    "print(ast.dump(my_sqrt_ast, indent=4))"
   ]
  },
  {
   "cell_type": "markdown",
   "metadata": {
    "slideshow": {
     "slide_type": "subslide"
    }
   },
   "source": [
    "Too much text for you?  This graphical representation may make things simpler."
   ]
  },
  {
   "cell_type": "code",
   "execution_count": 54,
   "metadata": {
    "execution": {
     "iopub.execute_input": "2023-11-12T12:47:45.705308Z",
     "iopub.status.busy": "2023-11-12T12:47:45.705225Z",
     "iopub.status.idle": "2023-11-12T12:47:45.706853Z",
     "shell.execute_reply": "2023-11-12T12:47:45.706610Z"
    },
    "slideshow": {
     "slide_type": "skip"
    }
   },
   "outputs": [],
   "source": [
    "from bookutils import rich_output"
   ]
  },
  {
   "cell_type": "code",
   "execution_count": 55,
   "metadata": {
    "execution": {
     "iopub.execute_input": "2023-11-12T12:47:45.708221Z",
     "iopub.status.busy": "2023-11-12T12:47:45.708134Z",
     "iopub.status.idle": "2023-11-12T12:47:46.111024Z",
     "shell.execute_reply": "2023-11-12T12:47:46.110656Z"
    },
    "slideshow": {
     "slide_type": "fragment"
    }
   },
   "outputs": [
    {
     "data": {
      "image/svg+xml": [
       "<svg xmlns=\"http://www.w3.org/2000/svg\" xmlns:xlink=\"http://www.w3.org/1999/xlink\" width=\"1685pt\" height=\"548pt\" viewBox=\"0.00 0.00 1685.00 548.00\">\n",
       "<g id=\"graph0\" class=\"graph\" transform=\"scale(1 1) rotate(0) translate(4 544)\">\n",
       "<polygon fill=\"white\" stroke=\"none\" points=\"-4,4 -4,-544 1681,-544 1681,4 -4,4\"/>\n",
       "<!-- 0 -->\n",
       "<g id=\"node1\" class=\"node\">\n",
       "<title>0</title>\n",
       "<text text-anchor=\"start\" x=\"283.62\" y=\"-517.95\" font-family=\"Courier,monospace\" font-weight=\"bold\" font-size=\"14.00\" fill=\"#004080\">FunctionDef</text>\n",
       "</g>\n",
       "<!-- 1 -->\n",
       "<g id=\"node2\" class=\"node\">\n",
       "<title>1</title>\n",
       "<text text-anchor=\"middle\" x=\"82\" y=\"-444.95\" font-family=\"Courier,monospace\" font-size=\"14.00\" fill=\"#008040\">&quot;my_sqrt&quot;</text>\n",
       "</g>\n",
       "<!-- 0&#45;&#45;1 -->\n",
       "<g id=\"edge1\" class=\"edge\">\n",
       "<title>0--1</title>\n",
       "<path fill=\"none\" stroke=\"black\" d=\"M330,-503C330,-503 221.07,-488.97 136,-468 133.04,-467.27 130.01,-466.47 126.96,-465.62\"/>\n",
       "</g>\n",
       "<!-- 2 -->\n",
       "<g id=\"node3\" class=\"node\">\n",
       "<title>2</title>\n",
       "<text text-anchor=\"start\" x=\"152.88\" y=\"-445.95\" font-family=\"Courier,monospace\" font-weight=\"bold\" font-size=\"14.00\" fill=\"#004080\">arguments</text>\n",
       "</g>\n",
       "<!-- 0&#45;&#45;2 -->\n",
       "<g id=\"edge2\" class=\"edge\">\n",
       "<title>0--2</title>\n",
       "<path fill=\"none\" stroke=\"black\" d=\"M330,-503C330,-503 275.99,-482.94 235.07,-467.74\"/>\n",
       "</g>\n",
       "<!-- 5 -->\n",
       "<g id=\"node6\" class=\"node\">\n",
       "<title>5</title>\n",
       "<text text-anchor=\"start\" x=\"261.25\" y=\"-445.95\" font-family=\"Courier,monospace\" font-weight=\"bold\" font-size=\"14.00\" fill=\"#004080\">Assign</text>\n",
       "</g>\n",
       "<!-- 0&#45;&#45;5 -->\n",
       "<g id=\"edge5\" class=\"edge\">\n",
       "<title>0--5</title>\n",
       "<path fill=\"none\" stroke=\"black\" d=\"M330,-503C330,-503 313.03,-482.94 300.16,-467.74\"/>\n",
       "</g>\n",
       "<!-- 10 -->\n",
       "<g id=\"node11\" class=\"node\">\n",
       "<title>10</title>\n",
       "<text text-anchor=\"start\" x=\"346.25\" y=\"-445.95\" font-family=\"Courier,monospace\" font-weight=\"bold\" font-size=\"14.00\" fill=\"#004080\">Assign</text>\n",
       "</g>\n",
       "<!-- 0&#45;&#45;10 -->\n",
       "<g id=\"edge10\" class=\"edge\">\n",
       "<title>0--10</title>\n",
       "<path fill=\"none\" stroke=\"black\" d=\"M330,-503C330,-503 345.82,-482.94 357.8,-467.74\"/>\n",
       "</g>\n",
       "<!-- 21 -->\n",
       "<g id=\"node22\" class=\"node\">\n",
       "<title>21</title>\n",
       "<text text-anchor=\"start\" x=\"909.38\" y=\"-445.95\" font-family=\"Courier,monospace\" font-weight=\"bold\" font-size=\"14.00\" fill=\"#004080\">While</text>\n",
       "</g>\n",
       "<!-- 0&#45;&#45;21 -->\n",
       "<g id=\"edge21\" class=\"edge\">\n",
       "<title>0--21</title>\n",
       "<path fill=\"none\" stroke=\"black\" d=\"M330,-503C330,-503 782.23,-463.81 901.46,-453.47\"/>\n",
       "</g>\n",
       "<!-- 58 -->\n",
       "<g id=\"node59\" class=\"node\">\n",
       "<title>58</title>\n",
       "<text text-anchor=\"start\" x=\"1316.25\" y=\"-445.95\" font-family=\"Courier,monospace\" font-weight=\"bold\" font-size=\"14.00\" fill=\"#004080\">Return</text>\n",
       "</g>\n",
       "<!-- 0&#45;&#45;58 -->\n",
       "<g id=\"edge58\" class=\"edge\">\n",
       "<title>0--58</title>\n",
       "<path fill=\"none\" stroke=\"black\" d=\"M330,-503C330,-503 1135.46,-461.57 1308.51,-452.67\"/>\n",
       "</g>\n",
       "<!-- 3 -->\n",
       "<g id=\"node4\" class=\"node\">\n",
       "<title>3</title>\n",
       "<text text-anchor=\"start\" x=\"63.62\" y=\"-373.95\" font-family=\"Courier,monospace\" font-weight=\"bold\" font-size=\"14.00\" fill=\"#004080\">arg</text>\n",
       "</g>\n",
       "<!-- 2&#45;&#45;3 -->\n",
       "<g id=\"edge3\" class=\"edge\">\n",
       "<title>2--3</title>\n",
       "<path fill=\"none\" stroke=\"black\" d=\"M162.4,-432.05C144.35,-420.97 120.87,-406.55 102.95,-395.55\"/>\n",
       "</g>\n",
       "<!-- 4 -->\n",
       "<g id=\"node5\" class=\"node\">\n",
       "<title>4</title>\n",
       "<text text-anchor=\"middle\" x=\"27\" y=\"-300.95\" font-family=\"Courier,monospace\" font-size=\"14.00\" fill=\"#008040\">&quot;x&quot;</text>\n",
       "</g>\n",
       "<!-- 3&#45;&#45;4 -->\n",
       "<g id=\"edge4\" class=\"edge\">\n",
       "<title>3--4</title>\n",
       "<path fill=\"none\" stroke=\"black\" d=\"M64.14,-360.05C56.43,-349.05 46.43,-334.76 38.75,-323.79\"/>\n",
       "</g>\n",
       "<!-- 6 -->\n",
       "<g id=\"node7\" class=\"node\">\n",
       "<title>6</title>\n",
       "<text text-anchor=\"start\" x=\"182.5\" y=\"-373.95\" font-family=\"Courier,monospace\" font-weight=\"bold\" font-size=\"14.00\" fill=\"#004080\">Name</text>\n",
       "</g>\n",
       "<!-- 5&#45;&#45;6 -->\n",
       "<g id=\"edge6\" class=\"edge\">\n",
       "<title>5--6</title>\n",
       "<path fill=\"none\" stroke=\"black\" d=\"M277,-431C277,-431 246.91,-410.94 224.11,-395.74\"/>\n",
       "</g>\n",
       "<!-- 9 -->\n",
       "<g id=\"node10\" class=\"node\">\n",
       "<title>9</title>\n",
       "<text text-anchor=\"middle\" x=\"285\" y=\"-372.95\" font-family=\"Courier,monospace\" font-size=\"14.00\" fill=\"#008040\">Constant</text>\n",
       "</g>\n",
       "<!-- 5&#45;&#45;9 -->\n",
       "<g id=\"edge9\" class=\"edge\">\n",
       "<title>5--9</title>\n",
       "<path fill=\"none\" stroke=\"black\" d=\"M277,-431C277,-431 280.09,-410.94 282.42,-395.74\"/>\n",
       "</g>\n",
       "<!-- 7 -->\n",
       "<g id=\"node8\" class=\"node\">\n",
       "<title>7</title>\n",
       "<text text-anchor=\"middle\" x=\"113\" y=\"-300.95\" font-family=\"Courier,monospace\" font-size=\"14.00\" fill=\"#008040\">&quot;approx&quot;</text>\n",
       "</g>\n",
       "<!-- 6&#45;&#45;7 -->\n",
       "<g id=\"edge7\" class=\"edge\">\n",
       "<title>6--7</title>\n",
       "<path fill=\"none\" stroke=\"black\" d=\"M191,-359C191,-359 160.91,-338.94 138.11,-323.74\"/>\n",
       "</g>\n",
       "<!-- 8 -->\n",
       "<g id=\"node9\" class=\"node\">\n",
       "<title>8</title>\n",
       "<text text-anchor=\"middle\" x=\"201\" y=\"-300.95\" font-family=\"Courier,monospace\" font-size=\"14.00\" fill=\"#008040\">Store</text>\n",
       "</g>\n",
       "<!-- 6&#45;&#45;8 -->\n",
       "<g id=\"edge8\" class=\"edge\">\n",
       "<title>6--8</title>\n",
       "<path fill=\"none\" stroke=\"black\" d=\"M191,-359C191,-359 194.86,-338.94 197.78,-323.74\"/>\n",
       "</g>\n",
       "<!-- 11 -->\n",
       "<g id=\"node12\" class=\"node\">\n",
       "<title>11</title>\n",
       "<text text-anchor=\"start\" x=\"354.5\" y=\"-373.95\" font-family=\"Courier,monospace\" font-weight=\"bold\" font-size=\"14.00\" fill=\"#004080\">Name</text>\n",
       "</g>\n",
       "<!-- 10&#45;&#45;11 -->\n",
       "<g id=\"edge11\" class=\"edge\">\n",
       "<title>10--11</title>\n",
       "<path fill=\"none\" stroke=\"black\" d=\"M381,-431C381,-431 377.14,-410.94 374.22,-395.74\"/>\n",
       "</g>\n",
       "<!-- 14 -->\n",
       "<g id=\"node15\" class=\"node\">\n",
       "<title>14</title>\n",
       "<text text-anchor=\"start\" x=\"460.38\" y=\"-373.95\" font-family=\"Courier,monospace\" font-weight=\"bold\" font-size=\"14.00\" fill=\"#004080\">BinOp</text>\n",
       "</g>\n",
       "<!-- 10&#45;&#45;14 -->\n",
       "<g id=\"edge14\" class=\"edge\">\n",
       "<title>10--14</title>\n",
       "<path fill=\"none\" stroke=\"black\" d=\"M381,-431C381,-431 423.05,-409.14 452.61,-393.76\"/>\n",
       "</g>\n",
       "<!-- 12 -->\n",
       "<g id=\"node13\" class=\"node\">\n",
       "<title>12</title>\n",
       "<text text-anchor=\"middle\" x=\"285\" y=\"-300.95\" font-family=\"Courier,monospace\" font-size=\"14.00\" fill=\"#008040\">&quot;guess&quot;</text>\n",
       "</g>\n",
       "<!-- 11&#45;&#45;12 -->\n",
       "<g id=\"edge12\" class=\"edge\">\n",
       "<title>11--12</title>\n",
       "<path fill=\"none\" stroke=\"black\" d=\"M362,-359C362,-359 332.3,-338.94 309.79,-323.74\"/>\n",
       "</g>\n",
       "<!-- 13 -->\n",
       "<g id=\"node14\" class=\"node\">\n",
       "<title>13</title>\n",
       "<text text-anchor=\"middle\" x=\"369\" y=\"-300.95\" font-family=\"Courier,monospace\" font-size=\"14.00\" fill=\"#008040\">Store</text>\n",
       "</g>\n",
       "<!-- 11&#45;&#45;13 -->\n",
       "<g id=\"edge13\" class=\"edge\">\n",
       "<title>11--13</title>\n",
       "<path fill=\"none\" stroke=\"black\" d=\"M362,-359C362,-359 364.7,-338.94 366.75,-323.74\"/>\n",
       "</g>\n",
       "<!-- 15 -->\n",
       "<g id=\"node16\" class=\"node\">\n",
       "<title>15</title>\n",
       "<text text-anchor=\"start\" x=\"426.5\" y=\"-301.95\" font-family=\"Courier,monospace\" font-weight=\"bold\" font-size=\"14.00\" fill=\"#004080\">Name</text>\n",
       "</g>\n",
       "<!-- 14&#45;&#45;15 -->\n",
       "<g id=\"edge15\" class=\"edge\">\n",
       "<title>14--15</title>\n",
       "<path fill=\"none\" stroke=\"black\" d=\"M487,-359C487,-359 470.03,-338.94 457.16,-323.74\"/>\n",
       "</g>\n",
       "<!-- 18 -->\n",
       "<g id=\"node19\" class=\"node\">\n",
       "<title>18</title>\n",
       "<text text-anchor=\"middle\" x=\"515\" y=\"-300.95\" font-family=\"Courier,monospace\" font-size=\"14.00\" fill=\"#008040\">Div</text>\n",
       "</g>\n",
       "<!-- 14&#45;&#45;18 -->\n",
       "<g id=\"edge18\" class=\"edge\">\n",
       "<title>14--18</title>\n",
       "<path fill=\"none\" stroke=\"black\" d=\"M487,-359C487,-359 497.8,-338.94 505.99,-323.74\"/>\n",
       "</g>\n",
       "<!-- 19 -->\n",
       "<g id=\"node20\" class=\"node\">\n",
       "<title>19</title>\n",
       "<text text-anchor=\"start\" x=\"568\" y=\"-301.95\" font-family=\"Courier,monospace\" font-weight=\"bold\" font-size=\"14.00\" fill=\"#004080\">Constant</text>\n",
       "</g>\n",
       "<!-- 14&#45;&#45;19 -->\n",
       "<g id=\"edge19\" class=\"edge\">\n",
       "<title>14--19</title>\n",
       "<path fill=\"none\" stroke=\"black\" d=\"M487,-359C487,-359 530.7,-339.07 563.99,-323.88\"/>\n",
       "</g>\n",
       "<!-- 16 -->\n",
       "<g id=\"node17\" class=\"node\">\n",
       "<title>16</title>\n",
       "<text text-anchor=\"middle\" x=\"371\" y=\"-228.95\" font-family=\"Courier,monospace\" font-size=\"14.00\" fill=\"#008040\">&quot;x&quot;</text>\n",
       "</g>\n",
       "<!-- 15&#45;&#45;16 -->\n",
       "<g id=\"edge16\" class=\"edge\">\n",
       "<title>15--16</title>\n",
       "<path fill=\"none\" stroke=\"black\" d=\"M436,-287C436,-287 410.93,-266.94 391.92,-251.74\"/>\n",
       "</g>\n",
       "<!-- 17 -->\n",
       "<g id=\"node18\" class=\"node\">\n",
       "<title>17</title>\n",
       "<text text-anchor=\"middle\" x=\"443\" y=\"-228.95\" font-family=\"Courier,monospace\" font-size=\"14.00\" fill=\"#008040\">Load</text>\n",
       "</g>\n",
       "<!-- 15&#45;&#45;17 -->\n",
       "<g id=\"edge17\" class=\"edge\">\n",
       "<title>15--17</title>\n",
       "<path fill=\"none\" stroke=\"black\" d=\"M436,-287C436,-287 438.7,-266.94 440.75,-251.74\"/>\n",
       "</g>\n",
       "<!-- 20 -->\n",
       "<g id=\"node21\" class=\"node\">\n",
       "<title>20</title>\n",
       "<text text-anchor=\"middle\" x=\"515\" y=\"-228.95\" font-family=\"Courier,monospace\" font-size=\"14.00\" fill=\"#008040\">2</text>\n",
       "</g>\n",
       "<!-- 19&#45;&#45;20 -->\n",
       "<g id=\"edge20\" class=\"edge\">\n",
       "<title>19--20</title>\n",
       "<path fill=\"none\" stroke=\"black\" d=\"M580.18,-288.05C566.66,-277.05 549.11,-262.76 535.63,-251.79\"/>\n",
       "</g>\n",
       "<!-- 22 -->\n",
       "<g id=\"node23\" class=\"node\">\n",
       "<title>22</title>\n",
       "<text text-anchor=\"start\" x=\"777.12\" y=\"-373.95\" font-family=\"Courier,monospace\" font-weight=\"bold\" font-size=\"14.00\" fill=\"#004080\">Compare</text>\n",
       "</g>\n",
       "<!-- 21&#45;&#45;22 -->\n",
       "<g id=\"edge22\" class=\"edge\">\n",
       "<title>21--22</title>\n",
       "<path fill=\"none\" stroke=\"black\" d=\"M938,-431C938,-431 881.83,-408.87 842.77,-393.48\"/>\n",
       "</g>\n",
       "<!-- 30 -->\n",
       "<g id=\"node31\" class=\"node\">\n",
       "<title>30</title>\n",
       "<text text-anchor=\"start\" x=\"956.25\" y=\"-373.95\" font-family=\"Courier,monospace\" font-weight=\"bold\" font-size=\"14.00\" fill=\"#004080\">Assign</text>\n",
       "</g>\n",
       "<!-- 21&#45;&#45;30 -->\n",
       "<g id=\"edge30\" class=\"edge\">\n",
       "<title>21--30</title>\n",
       "<path fill=\"none\" stroke=\"black\" d=\"M938,-431C938,-431 954.59,-410.94 967.16,-395.74\"/>\n",
       "</g>\n",
       "<!-- 37 -->\n",
       "<g id=\"node38\" class=\"node\">\n",
       "<title>37</title>\n",
       "<text text-anchor=\"start\" x=\"1290.25\" y=\"-373.95\" font-family=\"Courier,monospace\" font-weight=\"bold\" font-size=\"14.00\" fill=\"#004080\">Assign</text>\n",
       "</g>\n",
       "<!-- 21&#45;&#45;37 -->\n",
       "<g id=\"edge37\" class=\"edge\">\n",
       "<title>21--37</title>\n",
       "<path fill=\"none\" stroke=\"black\" d=\"M938,-431C938,-431 1191.08,-396.09 1282.53,-383.48\"/>\n",
       "</g>\n",
       "<!-- 23 -->\n",
       "<g id=\"node24\" class=\"node\">\n",
       "<title>23</title>\n",
       "<text text-anchor=\"start\" x=\"670.5\" y=\"-301.95\" font-family=\"Courier,monospace\" font-weight=\"bold\" font-size=\"14.00\" fill=\"#004080\">Name</text>\n",
       "</g>\n",
       "<!-- 22&#45;&#45;23 -->\n",
       "<g id=\"edge23\" class=\"edge\">\n",
       "<title>22--23</title>\n",
       "<path fill=\"none\" stroke=\"black\" d=\"M799,-359C799,-359 746.96,-334.84 713.83,-319.46\"/>\n",
       "</g>\n",
       "<!-- 26 -->\n",
       "<g id=\"node27\" class=\"node\">\n",
       "<title>26</title>\n",
       "<text text-anchor=\"middle\" x=\"769\" y=\"-300.95\" font-family=\"Courier,monospace\" font-size=\"14.00\" fill=\"#008040\">NotEq</text>\n",
       "</g>\n",
       "<!-- 22&#45;&#45;26 -->\n",
       "<g id=\"edge26\" class=\"edge\">\n",
       "<title>22--26</title>\n",
       "<path fill=\"none\" stroke=\"black\" d=\"M799,-359C799,-359 787.43,-338.94 778.66,-323.74\"/>\n",
       "</g>\n",
       "<!-- 27 -->\n",
       "<g id=\"node28\" class=\"node\">\n",
       "<title>27</title>\n",
       "<text text-anchor=\"start\" x=\"826.5\" y=\"-301.95\" font-family=\"Courier,monospace\" font-weight=\"bold\" font-size=\"14.00\" fill=\"#004080\">Name</text>\n",
       "</g>\n",
       "<!-- 22&#45;&#45;27 -->\n",
       "<g id=\"edge27\" class=\"edge\">\n",
       "<title>22--27</title>\n",
       "<path fill=\"none\" stroke=\"black\" d=\"M799,-359C799,-359 815.97,-338.94 828.84,-323.74\"/>\n",
       "</g>\n",
       "<!-- 24 -->\n",
       "<g id=\"node25\" class=\"node\">\n",
       "<title>24</title>\n",
       "<text text-anchor=\"middle\" x=\"601\" y=\"-228.95\" font-family=\"Courier,monospace\" font-size=\"14.00\" fill=\"#008040\">&quot;approx&quot;</text>\n",
       "</g>\n",
       "<!-- 23&#45;&#45;24 -->\n",
       "<g id=\"edge24\" class=\"edge\">\n",
       "<title>23--24</title>\n",
       "<path fill=\"none\" stroke=\"black\" d=\"M679,-287C679,-287 648.91,-266.94 626.11,-251.74\"/>\n",
       "</g>\n",
       "<!-- 25 -->\n",
       "<g id=\"node26\" class=\"node\">\n",
       "<title>25</title>\n",
       "<text text-anchor=\"middle\" x=\"687\" y=\"-228.95\" font-family=\"Courier,monospace\" font-size=\"14.00\" fill=\"#008040\">Load</text>\n",
       "</g>\n",
       "<!-- 23&#45;&#45;25 -->\n",
       "<g id=\"edge25\" class=\"edge\">\n",
       "<title>23--25</title>\n",
       "<path fill=\"none\" stroke=\"black\" d=\"M679,-287C679,-287 682.09,-266.94 684.42,-251.74\"/>\n",
       "</g>\n",
       "<!-- 28 -->\n",
       "<g id=\"node29\" class=\"node\">\n",
       "<title>28</title>\n",
       "<text text-anchor=\"middle\" x=\"769\" y=\"-228.95\" font-family=\"Courier,monospace\" font-size=\"14.00\" fill=\"#008040\">&quot;guess&quot;</text>\n",
       "</g>\n",
       "<!-- 27&#45;&#45;28 -->\n",
       "<g id=\"edge28\" class=\"edge\">\n",
       "<title>27--28</title>\n",
       "<path fill=\"none\" stroke=\"black\" d=\"M837,-287C837,-287 810.77,-266.94 790.89,-251.74\"/>\n",
       "</g>\n",
       "<!-- 29 -->\n",
       "<g id=\"node30\" class=\"node\">\n",
       "<title>29</title>\n",
       "<text text-anchor=\"middle\" x=\"851\" y=\"-228.95\" font-family=\"Courier,monospace\" font-size=\"14.00\" fill=\"#008040\">Load</text>\n",
       "</g>\n",
       "<!-- 27&#45;&#45;29 -->\n",
       "<g id=\"edge29\" class=\"edge\">\n",
       "<title>27--29</title>\n",
       "<path fill=\"none\" stroke=\"black\" d=\"M837,-287C837,-287 842.4,-266.94 846.49,-251.74\"/>\n",
       "</g>\n",
       "<!-- 31 -->\n",
       "<g id=\"node32\" class=\"node\">\n",
       "<title>31</title>\n",
       "<text text-anchor=\"start\" x=\"964.5\" y=\"-301.95\" font-family=\"Courier,monospace\" font-weight=\"bold\" font-size=\"14.00\" fill=\"#004080\">Name</text>\n",
       "</g>\n",
       "<!-- 30&#45;&#45;31 -->\n",
       "<g id=\"edge31\" class=\"edge\">\n",
       "<title>30--31</title>\n",
       "<path fill=\"none\" stroke=\"black\" d=\"M992,-359C992,-359 987.76,-338.94 984.54,-323.74\"/>\n",
       "</g>\n",
       "<!-- 34 -->\n",
       "<g id=\"node35\" class=\"node\">\n",
       "<title>34</title>\n",
       "<text text-anchor=\"start\" x=\"1092.5\" y=\"-301.95\" font-family=\"Courier,monospace\" font-weight=\"bold\" font-size=\"14.00\" fill=\"#004080\">Name</text>\n",
       "</g>\n",
       "<!-- 30&#45;&#45;34 -->\n",
       "<g id=\"edge34\" class=\"edge\">\n",
       "<title>30--34</title>\n",
       "<path fill=\"none\" stroke=\"black\" d=\"M992,-359C992,-359 1047.62,-334.28 1082.16,-318.93\"/>\n",
       "</g>\n",
       "<!-- 32 -->\n",
       "<g id=\"node33\" class=\"node\">\n",
       "<title>32</title>\n",
       "<text text-anchor=\"middle\" x=\"937\" y=\"-228.95\" font-family=\"Courier,monospace\" font-size=\"14.00\" fill=\"#008040\">&quot;approx&quot;</text>\n",
       "</g>\n",
       "<!-- 31&#45;&#45;32 -->\n",
       "<g id=\"edge32\" class=\"edge\">\n",
       "<title>31--32</title>\n",
       "<path fill=\"none\" stroke=\"black\" d=\"M981,-287C981,-287 964.03,-266.94 951.16,-251.74\"/>\n",
       "</g>\n",
       "<!-- 33 -->\n",
       "<g id=\"node34\" class=\"node\">\n",
       "<title>33</title>\n",
       "<text text-anchor=\"middle\" x=\"1025\" y=\"-228.95\" font-family=\"Courier,monospace\" font-size=\"14.00\" fill=\"#008040\">Store</text>\n",
       "</g>\n",
       "<!-- 31&#45;&#45;33 -->\n",
       "<g id=\"edge33\" class=\"edge\">\n",
       "<title>31--33</title>\n",
       "<path fill=\"none\" stroke=\"black\" d=\"M981,-287C981,-287 997.97,-266.94 1010.84,-251.74\"/>\n",
       "</g>\n",
       "<!-- 35 -->\n",
       "<g id=\"node36\" class=\"node\">\n",
       "<title>35</title>\n",
       "<text text-anchor=\"middle\" x=\"1109\" y=\"-228.95\" font-family=\"Courier,monospace\" font-size=\"14.00\" fill=\"#008040\">&quot;guess&quot;</text>\n",
       "</g>\n",
       "<!-- 34&#45;&#45;35 -->\n",
       "<g id=\"edge35\" class=\"edge\">\n",
       "<title>34--35</title>\n",
       "<path fill=\"none\" stroke=\"black\" d=\"M1117,-287C1117,-287 1113.91,-266.94 1111.58,-251.74\"/>\n",
       "</g>\n",
       "<!-- 36 -->\n",
       "<g id=\"node37\" class=\"node\">\n",
       "<title>36</title>\n",
       "<text text-anchor=\"middle\" x=\"1191\" y=\"-228.95\" font-family=\"Courier,monospace\" font-size=\"14.00\" fill=\"#008040\">Load</text>\n",
       "</g>\n",
       "<!-- 34&#45;&#45;36 -->\n",
       "<g id=\"edge36\" class=\"edge\">\n",
       "<title>34--36</title>\n",
       "<path fill=\"none\" stroke=\"black\" d=\"M1117,-287C1117,-287 1145.55,-266.94 1167.18,-251.74\"/>\n",
       "</g>\n",
       "<!-- 38 -->\n",
       "<g id=\"node39\" class=\"node\">\n",
       "<title>38</title>\n",
       "<text text-anchor=\"start\" x=\"1298.5\" y=\"-301.95\" font-family=\"Courier,monospace\" font-weight=\"bold\" font-size=\"14.00\" fill=\"#004080\">Name</text>\n",
       "</g>\n",
       "<!-- 37&#45;&#45;38 -->\n",
       "<g id=\"edge38\" class=\"edge\">\n",
       "<title>37--38</title>\n",
       "<path fill=\"none\" stroke=\"black\" d=\"M1325,-359C1325,-359 1321.14,-338.94 1318.22,-323.74\"/>\n",
       "</g>\n",
       "<!-- 41 -->\n",
       "<g id=\"node42\" class=\"node\">\n",
       "<title>41</title>\n",
       "<text text-anchor=\"start\" x=\"1411.38\" y=\"-301.95\" font-family=\"Courier,monospace\" font-weight=\"bold\" font-size=\"14.00\" fill=\"#004080\">BinOp</text>\n",
       "</g>\n",
       "<!-- 37&#45;&#45;41 -->\n",
       "<g id=\"edge41\" class=\"edge\">\n",
       "<title>37--41</title>\n",
       "<path fill=\"none\" stroke=\"black\" d=\"M1325,-359C1325,-359 1371.91,-336.2 1403.61,-320.8\"/>\n",
       "</g>\n",
       "<!-- 39 -->\n",
       "<g id=\"node40\" class=\"node\">\n",
       "<title>39</title>\n",
       "<text text-anchor=\"middle\" x=\"1273\" y=\"-228.95\" font-family=\"Courier,monospace\" font-size=\"14.00\" fill=\"#008040\">&quot;guess&quot;</text>\n",
       "</g>\n",
       "<!-- 38&#45;&#45;39 -->\n",
       "<g id=\"edge39\" class=\"edge\">\n",
       "<title>38--39</title>\n",
       "<path fill=\"none\" stroke=\"black\" d=\"M1315,-287C1315,-287 1298.8,-266.94 1286.52,-251.74\"/>\n",
       "</g>\n",
       "<!-- 40 -->\n",
       "<g id=\"node41\" class=\"node\">\n",
       "<title>40</title>\n",
       "<text text-anchor=\"middle\" x=\"1357\" y=\"-228.95\" font-family=\"Courier,monospace\" font-size=\"14.00\" fill=\"#008040\">Store</text>\n",
       "</g>\n",
       "<!-- 38&#45;&#45;40 -->\n",
       "<g id=\"edge40\" class=\"edge\">\n",
       "<title>38--40</title>\n",
       "<path fill=\"none\" stroke=\"black\" d=\"M1315,-287C1315,-287 1331.2,-266.94 1343.48,-251.74\"/>\n",
       "</g>\n",
       "<!-- 42 -->\n",
       "<g id=\"node43\" class=\"node\">\n",
       "<title>42</title>\n",
       "<text text-anchor=\"start\" x=\"1411.38\" y=\"-229.95\" font-family=\"Courier,monospace\" font-weight=\"bold\" font-size=\"14.00\" fill=\"#004080\">BinOp</text>\n",
       "</g>\n",
       "<!-- 41&#45;&#45;42 -->\n",
       "<g id=\"edge42\" class=\"edge\">\n",
       "<title>41--42</title>\n",
       "<path fill=\"none\" stroke=\"black\" d=\"M1446,-287C1446,-287 1440.6,-266.94 1436.51,-251.74\"/>\n",
       "</g>\n",
       "<!-- 55 -->\n",
       "<g id=\"node56\" class=\"node\">\n",
       "<title>55</title>\n",
       "<text text-anchor=\"middle\" x=\"1506\" y=\"-228.95\" font-family=\"Courier,monospace\" font-size=\"14.00\" fill=\"#008040\">Div</text>\n",
       "</g>\n",
       "<!-- 41&#45;&#45;55 -->\n",
       "<g id=\"edge55\" class=\"edge\">\n",
       "<title>41--55</title>\n",
       "<path fill=\"none\" stroke=\"black\" d=\"M1446,-287C1446,-287 1469.15,-266.94 1486.69,-251.74\"/>\n",
       "</g>\n",
       "<!-- 56 -->\n",
       "<g id=\"node57\" class=\"node\">\n",
       "<title>56</title>\n",
       "<text text-anchor=\"start\" x=\"1559\" y=\"-229.95\" font-family=\"Courier,monospace\" font-weight=\"bold\" font-size=\"14.00\" fill=\"#004080\">Constant</text>\n",
       "</g>\n",
       "<!-- 41&#45;&#45;56 -->\n",
       "<g id=\"edge56\" class=\"edge\">\n",
       "<title>41--56</title>\n",
       "<path fill=\"none\" stroke=\"black\" d=\"M1446,-287C1446,-287 1508.13,-264.87 1551.33,-249.48\"/>\n",
       "</g>\n",
       "<!-- 43 -->\n",
       "<g id=\"node44\" class=\"node\">\n",
       "<title>43</title>\n",
       "<text text-anchor=\"start\" x=\"1343.5\" y=\"-157.95\" font-family=\"Courier,monospace\" font-weight=\"bold\" font-size=\"14.00\" fill=\"#004080\">Name</text>\n",
       "</g>\n",
       "<!-- 42&#45;&#45;43 -->\n",
       "<g id=\"edge43\" class=\"edge\">\n",
       "<title>42--43</title>\n",
       "<path fill=\"none\" stroke=\"black\" d=\"M1432,-215C1432,-215 1404.23,-194.94 1383.18,-179.74\"/>\n",
       "</g>\n",
       "<!-- 46 -->\n",
       "<g id=\"node47\" class=\"node\">\n",
       "<title>46</title>\n",
       "<text text-anchor=\"middle\" x=\"1432\" y=\"-156.95\" font-family=\"Courier,monospace\" font-size=\"14.00\" fill=\"#008040\">Add</text>\n",
       "</g>\n",
       "<!-- 42&#45;&#45;46 -->\n",
       "<g id=\"edge46\" class=\"edge\">\n",
       "<title>42--46</title>\n",
       "<path fill=\"none\" stroke=\"black\" d=\"M1432,-215C1432,-215 1432,-194.94 1432,-179.74\"/>\n",
       "</g>\n",
       "<!-- 47 -->\n",
       "<g id=\"node48\" class=\"node\">\n",
       "<title>47</title>\n",
       "<text text-anchor=\"start\" x=\"1485.38\" y=\"-157.95\" font-family=\"Courier,monospace\" font-weight=\"bold\" font-size=\"14.00\" fill=\"#004080\">BinOp</text>\n",
       "</g>\n",
       "<!-- 42&#45;&#45;47 -->\n",
       "<g id=\"edge47\" class=\"edge\">\n",
       "<title>42--47</title>\n",
       "<path fill=\"none\" stroke=\"black\" d=\"M1432,-215C1432,-215 1460.55,-194.94 1482.18,-179.74\"/>\n",
       "</g>\n",
       "<!-- 44 -->\n",
       "<g id=\"node45\" class=\"node\">\n",
       "<title>44</title>\n",
       "<text text-anchor=\"middle\" x=\"1275\" y=\"-84.95\" font-family=\"Courier,monospace\" font-size=\"14.00\" fill=\"#008040\">&quot;approx&quot;</text>\n",
       "</g>\n",
       "<!-- 43&#45;&#45;44 -->\n",
       "<g id=\"edge44\" class=\"edge\">\n",
       "<title>43--44</title>\n",
       "<path fill=\"none\" stroke=\"black\" d=\"M1352,-143C1352,-143 1322.3,-122.94 1299.79,-107.74\"/>\n",
       "</g>\n",
       "<!-- 45 -->\n",
       "<g id=\"node46\" class=\"node\">\n",
       "<title>45</title>\n",
       "<text text-anchor=\"middle\" x=\"1361\" y=\"-84.95\" font-family=\"Courier,monospace\" font-size=\"14.00\" fill=\"#008040\">Load</text>\n",
       "</g>\n",
       "<!-- 43&#45;&#45;45 -->\n",
       "<g id=\"edge45\" class=\"edge\">\n",
       "<title>43--45</title>\n",
       "<path fill=\"none\" stroke=\"black\" d=\"M1352,-143C1352,-143 1355.47,-122.94 1358.1,-107.74\"/>\n",
       "</g>\n",
       "<!-- 48 -->\n",
       "<g id=\"node49\" class=\"node\">\n",
       "<title>48</title>\n",
       "<text text-anchor=\"start\" x=\"1417.5\" y=\"-85.95\" font-family=\"Courier,monospace\" font-weight=\"bold\" font-size=\"14.00\" fill=\"#004080\">Name</text>\n",
       "</g>\n",
       "<!-- 47&#45;&#45;48 -->\n",
       "<g id=\"edge48\" class=\"edge\">\n",
       "<title>47--48</title>\n",
       "<path fill=\"none\" stroke=\"black\" d=\"M1506,-143C1506,-143 1478.23,-122.94 1457.18,-107.74\"/>\n",
       "</g>\n",
       "<!-- 51 -->\n",
       "<g id=\"node52\" class=\"node\">\n",
       "<title>51</title>\n",
       "<text text-anchor=\"middle\" x=\"1506\" y=\"-84.95\" font-family=\"Courier,monospace\" font-size=\"14.00\" fill=\"#008040\">Div</text>\n",
       "</g>\n",
       "<!-- 47&#45;&#45;51 -->\n",
       "<g id=\"edge51\" class=\"edge\">\n",
       "<title>47--51</title>\n",
       "<path fill=\"none\" stroke=\"black\" d=\"M1506,-143C1506,-143 1506,-122.94 1506,-107.74\"/>\n",
       "</g>\n",
       "<!-- 52 -->\n",
       "<g id=\"node53\" class=\"node\">\n",
       "<title>52</title>\n",
       "<text text-anchor=\"start\" x=\"1561.5\" y=\"-85.95\" font-family=\"Courier,monospace\" font-weight=\"bold\" font-size=\"14.00\" fill=\"#004080\">Name</text>\n",
       "</g>\n",
       "<!-- 47&#45;&#45;52 -->\n",
       "<g id=\"edge52\" class=\"edge\">\n",
       "<title>47--52</title>\n",
       "<path fill=\"none\" stroke=\"black\" d=\"M1506,-143C1506,-143 1533.77,-122.94 1554.82,-107.74\"/>\n",
       "</g>\n",
       "<!-- 49 -->\n",
       "<g id=\"node50\" class=\"node\">\n",
       "<title>49</title>\n",
       "<text text-anchor=\"middle\" x=\"1377\" y=\"-12.95\" font-family=\"Courier,monospace\" font-size=\"14.00\" fill=\"#008040\">&quot;x&quot;</text>\n",
       "</g>\n",
       "<!-- 48&#45;&#45;49 -->\n",
       "<g id=\"edge49\" class=\"edge\">\n",
       "<title>48--49</title>\n",
       "<path fill=\"none\" stroke=\"black\" d=\"M1430,-71C1430,-71 1409.55,-50.94 1394.06,-35.74\"/>\n",
       "</g>\n",
       "<!-- 50 -->\n",
       "<g id=\"node51\" class=\"node\">\n",
       "<title>50</title>\n",
       "<text text-anchor=\"middle\" x=\"1449\" y=\"-12.95\" font-family=\"Courier,monospace\" font-size=\"14.00\" fill=\"#008040\">Load</text>\n",
       "</g>\n",
       "<!-- 48&#45;&#45;50 -->\n",
       "<g id=\"edge50\" class=\"edge\">\n",
       "<title>48--50</title>\n",
       "<path fill=\"none\" stroke=\"black\" d=\"M1430,-71C1430,-71 1437.33,-50.94 1442.88,-35.74\"/>\n",
       "</g>\n",
       "<!-- 53 -->\n",
       "<g id=\"node54\" class=\"node\">\n",
       "<title>53</title>\n",
       "<text text-anchor=\"middle\" x=\"1564\" y=\"-12.95\" font-family=\"Courier,monospace\" font-size=\"14.00\" fill=\"#008040\">&quot;approx&quot;</text>\n",
       "</g>\n",
       "<!-- 52&#45;&#45;53 -->\n",
       "<g id=\"edge53\" class=\"edge\">\n",
       "<title>52--53</title>\n",
       "<path fill=\"none\" stroke=\"black\" d=\"M1583,-71C1583,-71 1575.67,-50.94 1570.12,-35.74\"/>\n",
       "</g>\n",
       "<!-- 54 -->\n",
       "<g id=\"node55\" class=\"node\">\n",
       "<title>54</title>\n",
       "<text text-anchor=\"middle\" x=\"1650\" y=\"-12.95\" font-family=\"Courier,monospace\" font-size=\"14.00\" fill=\"#008040\">Load</text>\n",
       "</g>\n",
       "<!-- 52&#45;&#45;54 -->\n",
       "<g id=\"edge54\" class=\"edge\">\n",
       "<title>52--54</title>\n",
       "<path fill=\"none\" stroke=\"black\" d=\"M1583,-71C1583,-71 1608.85,-50.94 1628.43,-35.74\"/>\n",
       "</g>\n",
       "<!-- 57 -->\n",
       "<g id=\"node58\" class=\"node\">\n",
       "<title>57</title>\n",
       "<text text-anchor=\"middle\" x=\"1592\" y=\"-156.95\" font-family=\"Courier,monospace\" font-size=\"14.00\" fill=\"#008040\">2</text>\n",
       "</g>\n",
       "<!-- 56&#45;&#45;57 -->\n",
       "<g id=\"edge57\" class=\"edge\">\n",
       "<title>56--57</title>\n",
       "<path fill=\"none\" stroke=\"black\" d=\"M1592,-216.05C1592,-205.05 1592,-190.76 1592,-179.79\"/>\n",
       "</g>\n",
       "<!-- 59 -->\n",
       "<g id=\"node60\" class=\"node\">\n",
       "<title>59</title>\n",
       "<text text-anchor=\"start\" x=\"1503.5\" y=\"-373.95\" font-family=\"Courier,monospace\" font-weight=\"bold\" font-size=\"14.00\" fill=\"#004080\">Name</text>\n",
       "</g>\n",
       "<!-- 58&#45;&#45;59 -->\n",
       "<g id=\"edge59\" class=\"edge\">\n",
       "<title>58--59</title>\n",
       "<path fill=\"none\" stroke=\"black\" d=\"M1373.42,-436.32C1407.67,-422.93 1461.07,-402.04 1493.08,-389.53\"/>\n",
       "</g>\n",
       "<!-- 60 -->\n",
       "<g id=\"node61\" class=\"node\">\n",
       "<title>60</title>\n",
       "<text text-anchor=\"middle\" x=\"1520\" y=\"-300.95\" font-family=\"Courier,monospace\" font-size=\"14.00\" fill=\"#008040\">&quot;approx&quot;</text>\n",
       "</g>\n",
       "<!-- 59&#45;&#45;60 -->\n",
       "<g id=\"edge60\" class=\"edge\">\n",
       "<title>59--60</title>\n",
       "<path fill=\"none\" stroke=\"black\" d=\"M1528,-359C1528,-359 1524.91,-338.94 1522.58,-323.74\"/>\n",
       "</g>\n",
       "<!-- 61 -->\n",
       "<g id=\"node62\" class=\"node\">\n",
       "<title>61</title>\n",
       "<text text-anchor=\"middle\" x=\"1606\" y=\"-300.95\" font-family=\"Courier,monospace\" font-size=\"14.00\" fill=\"#008040\">Load</text>\n",
       "</g>\n",
       "<!-- 59&#45;&#45;61 -->\n",
       "<g id=\"edge61\" class=\"edge\">\n",
       "<title>59--61</title>\n",
       "<path fill=\"none\" stroke=\"black\" d=\"M1528,-359C1528,-359 1558.09,-338.94 1580.89,-323.74\"/>\n",
       "</g>\n",
       "</g>\n",
       "</svg>"
      ],
      "text/plain": [
       "<IPython.core.display.SVG object>"
      ]
     },
     "metadata": {},
     "output_type": "display_data"
    }
   ],
   "source": [
    "if rich_output():\n",
    "    import showast\n",
    "    showast.show_ast(my_sqrt_ast)"
   ]
  },
  {
   "cell_type": "markdown",
   "metadata": {
    "slideshow": {
     "slide_type": "fragment"
    }
   },
   "source": [
    "The function `ast.unparse()` converts such a tree back into the more familiar textual Python code representation.  Comments are gone, and there may be more parentheses than before, but the result has the same semantics:"
   ]
  },
  {
   "cell_type": "code",
   "execution_count": 56,
   "metadata": {
    "execution": {
     "iopub.execute_input": "2023-11-12T12:47:46.112710Z",
     "iopub.status.busy": "2023-11-12T12:47:46.112595Z",
     "iopub.status.idle": "2023-11-12T12:47:46.144759Z",
     "shell.execute_reply": "2023-11-12T12:47:46.144485Z"
    },
    "slideshow": {
     "slide_type": "subslide"
    }
   },
   "outputs": [
    {
     "name": "stdout",
     "output_type": "stream",
     "text": [
      "\u001b[34mdef\u001b[39;49;00m \u001b[32mmy_sqrt\u001b[39;49;00m(x):\u001b[37m\u001b[39;49;00m\n",
      "\u001b[37m    \u001b[39;49;00m\u001b[33m\"\"\"Computes the square root of x, using the Newton-Raphson method\"\"\"\u001b[39;49;00m\u001b[37m\u001b[39;49;00m\n",
      "    approx = \u001b[34mNone\u001b[39;49;00m\u001b[37m\u001b[39;49;00m\n",
      "    guess = x / \u001b[34m2\u001b[39;49;00m\u001b[37m\u001b[39;49;00m\n",
      "    \u001b[34mwhile\u001b[39;49;00m approx != guess:\u001b[37m\u001b[39;49;00m\n",
      "        approx = guess\u001b[37m\u001b[39;49;00m\n",
      "        guess = (approx + x / approx) / \u001b[34m2\u001b[39;49;00m\u001b[37m\u001b[39;49;00m\n",
      "    \u001b[34mreturn\u001b[39;49;00m approx\u001b[37m\u001b[39;49;00m"
     ]
    }
   ],
   "source": [
    "print_content(ast.unparse(my_sqrt_ast), '.py')"
   ]
  },
  {
   "attachments": {},
   "cell_type": "markdown",
   "metadata": {
    "slideshow": {
     "slide_type": "subslide"
    }
   },
   "source": [
    "### Annotating Functions with Given Types\n",
    "\n",
    "Let us now go and transform these trees to add type annotations.  We start with a helper function `parse_type(name)` which  parses a type name into an AST."
   ]
  },
  {
   "cell_type": "code",
   "execution_count": 57,
   "metadata": {
    "execution": {
     "iopub.execute_input": "2023-11-12T12:47:46.146272Z",
     "iopub.status.busy": "2023-11-12T12:47:46.146179Z",
     "iopub.status.idle": "2023-11-12T12:47:46.148275Z",
     "shell.execute_reply": "2023-11-12T12:47:46.148031Z"
    },
    "slideshow": {
     "slide_type": "fragment"
    }
   },
   "outputs": [],
   "source": [
    "def parse_type(name):\n",
    "    class ValueVisitor(ast.NodeVisitor):\n",
    "        def visit_Expr(self, node):\n",
    "            self.value_node = node.value\n",
    "\n",
    "    tree = ast.parse(name)\n",
    "    name_visitor = ValueVisitor()\n",
    "    name_visitor.visit(tree)\n",
    "    return name_visitor.value_node"
   ]
  },
  {
   "cell_type": "code",
   "execution_count": 58,
   "metadata": {
    "execution": {
     "iopub.execute_input": "2023-11-12T12:47:46.149783Z",
     "iopub.status.busy": "2023-11-12T12:47:46.149690Z",
     "iopub.status.idle": "2023-11-12T12:47:46.151542Z",
     "shell.execute_reply": "2023-11-12T12:47:46.151306Z"
    },
    "slideshow": {
     "slide_type": "subslide"
    }
   },
   "outputs": [
    {
     "name": "stdout",
     "output_type": "stream",
     "text": [
      "Name(id='int', ctx=Load())\n"
     ]
    }
   ],
   "source": [
    "print(ast.dump(parse_type('int')))"
   ]
  },
  {
   "cell_type": "code",
   "execution_count": 59,
   "metadata": {
    "execution": {
     "iopub.execute_input": "2023-11-12T12:47:46.152903Z",
     "iopub.status.busy": "2023-11-12T12:47:46.152813Z",
     "iopub.status.idle": "2023-11-12T12:47:46.154642Z",
     "shell.execute_reply": "2023-11-12T12:47:46.154368Z"
    },
    "slideshow": {
     "slide_type": "fragment"
    }
   },
   "outputs": [
    {
     "name": "stdout",
     "output_type": "stream",
     "text": [
      "List(elts=[Name(id='object', ctx=Load())], ctx=Load())\n"
     ]
    }
   ],
   "source": [
    "print(ast.dump(parse_type('[object]')))"
   ]
  },
  {
   "cell_type": "markdown",
   "metadata": {
    "slideshow": {
     "slide_type": "subslide"
    }
   },
   "source": [
    "We now define a helper function that actually adds type annotations to a function AST.  The `TypeTransformer` class builds on the Python standard library `ast.NodeTransformer` infrastructure.  It would be called as\n",
    "\n",
    "```python\n",
    "    TypeTransformer({'x': 'int'}, 'float').visit(ast)\n",
    "```\n",
    "\n",
    "to annotate the arguments of `my_sqrt()`: `x` with `int`, and the return type with `float`.  The returned AST can then be unparsed, compiled or analyzed."
   ]
  },
  {
   "cell_type": "code",
   "execution_count": 60,
   "metadata": {
    "execution": {
     "iopub.execute_input": "2023-11-12T12:47:46.156204Z",
     "iopub.status.busy": "2023-11-12T12:47:46.156115Z",
     "iopub.status.idle": "2023-11-12T12:47:46.158091Z",
     "shell.execute_reply": "2023-11-12T12:47:46.157873Z"
    },
    "slideshow": {
     "slide_type": "subslide"
    }
   },
   "outputs": [],
   "source": [
    "class TypeTransformer(ast.NodeTransformer):\n",
    "    def __init__(self, argument_types, return_type=None):\n",
    "        self.argument_types = argument_types\n",
    "        self.return_type = return_type\n",
    "        super().__init__()"
   ]
  },
  {
   "cell_type": "markdown",
   "metadata": {
    "slideshow": {
     "slide_type": "fragment"
    }
   },
   "source": [
    "The core of `TypeTransformer` is the method `visit_FunctionDef()`, which is called for every function definition in the AST.  Its argument `node` is the subtree of the function definition to be transformed.  Our implementation accesses the individual arguments and invokes `annotate_args()` on them; it also sets the return type in the `returns` attribute of the node."
   ]
  },
  {
   "cell_type": "code",
   "execution_count": 61,
   "metadata": {
    "execution": {
     "iopub.execute_input": "2023-11-12T12:47:46.159483Z",
     "iopub.status.busy": "2023-11-12T12:47:46.159406Z",
     "iopub.status.idle": "2023-11-12T12:47:46.161968Z",
     "shell.execute_reply": "2023-11-12T12:47:46.161721Z"
    },
    "slideshow": {
     "slide_type": "subslide"
    }
   },
   "outputs": [],
   "source": [
    "class TypeTransformer(TypeTransformer):\n",
    "    def visit_FunctionDef(self, node):\n",
    "        \"\"\"Add annotation to function\"\"\"\n",
    "        # Set argument types\n",
    "        new_args = []\n",
    "        for arg in node.args.args:\n",
    "            new_args.append(self.annotate_arg(arg))\n",
    "\n",
    "        new_arguments = ast.arguments(\n",
    "            node.args.posonlyargs,\n",
    "            new_args,\n",
    "            node.args.vararg,\n",
    "            node.args.kwonlyargs,\n",
    "            node.args.kw_defaults,\n",
    "            node.args.kwarg,\n",
    "            node.args.defaults\n",
    "        )\n",
    "\n",
    "        # Set return type\n",
    "        if self.return_type is not None:\n",
    "            node.returns = parse_type(self.return_type)\n",
    "\n",
    "        return ast.copy_location(\n",
    "            ast.FunctionDef(node.name, new_arguments, \n",
    "                            node.body, node.decorator_list,\n",
    "                            node.returns), node)"
   ]
  },
  {
   "cell_type": "markdown",
   "metadata": {
    "slideshow": {
     "slide_type": "subslide"
    }
   },
   "source": [
    "Each argument gets its own annotation, taken from the types originally passed to the class:"
   ]
  },
  {
   "cell_type": "code",
   "execution_count": 62,
   "metadata": {
    "execution": {
     "iopub.execute_input": "2023-11-12T12:47:46.163369Z",
     "iopub.status.busy": "2023-11-12T12:47:46.163285Z",
     "iopub.status.idle": "2023-11-12T12:47:46.165211Z",
     "shell.execute_reply": "2023-11-12T12:47:46.164955Z"
    },
    "slideshow": {
     "slide_type": "fragment"
    }
   },
   "outputs": [],
   "source": [
    "class TypeTransformer(TypeTransformer):\n",
    "    def annotate_arg(self, arg):\n",
    "        \"\"\"Add annotation to single function argument\"\"\"\n",
    "        arg_name = arg.arg\n",
    "        if arg_name in self.argument_types:\n",
    "            arg.annotation = parse_type(self.argument_types[arg_name])\n",
    "        return arg"
   ]
  },
  {
   "cell_type": "markdown",
   "metadata": {
    "slideshow": {
     "slide_type": "fragment"
    }
   },
   "source": [
    "Does this work?  Let us annotate the AST from `my_sqrt()` with types for the arguments and return types:"
   ]
  },
  {
   "cell_type": "code",
   "execution_count": 63,
   "metadata": {
    "execution": {
     "iopub.execute_input": "2023-11-12T12:47:46.166686Z",
     "iopub.status.busy": "2023-11-12T12:47:46.166594Z",
     "iopub.status.idle": "2023-11-12T12:47:46.168479Z",
     "shell.execute_reply": "2023-11-12T12:47:46.168215Z"
    },
    "slideshow": {
     "slide_type": "fragment"
    }
   },
   "outputs": [],
   "source": [
    "new_ast = TypeTransformer({'x': 'int'}, 'float').visit(my_sqrt_ast)"
   ]
  },
  {
   "cell_type": "markdown",
   "metadata": {
    "slideshow": {
     "slide_type": "fragment"
    }
   },
   "source": [
    "When we unparse the new AST, we see that the annotations actually are present:"
   ]
  },
  {
   "cell_type": "code",
   "execution_count": 64,
   "metadata": {
    "execution": {
     "iopub.execute_input": "2023-11-12T12:47:46.169977Z",
     "iopub.status.busy": "2023-11-12T12:47:46.169890Z",
     "iopub.status.idle": "2023-11-12T12:47:46.202767Z",
     "shell.execute_reply": "2023-11-12T12:47:46.202463Z"
    },
    "slideshow": {
     "slide_type": "subslide"
    }
   },
   "outputs": [
    {
     "name": "stdout",
     "output_type": "stream",
     "text": [
      "\u001b[34mdef\u001b[39;49;00m \u001b[32mmy_sqrt\u001b[39;49;00m(x: \u001b[36mint\u001b[39;49;00m) -> \u001b[36mfloat\u001b[39;49;00m:\u001b[37m\u001b[39;49;00m\n",
      "\u001b[37m    \u001b[39;49;00m\u001b[33m\"\"\"Computes the square root of x, using the Newton-Raphson method\"\"\"\u001b[39;49;00m\u001b[37m\u001b[39;49;00m\n",
      "    approx = \u001b[34mNone\u001b[39;49;00m\u001b[37m\u001b[39;49;00m\n",
      "    guess = x / \u001b[34m2\u001b[39;49;00m\u001b[37m\u001b[39;49;00m\n",
      "    \u001b[34mwhile\u001b[39;49;00m approx != guess:\u001b[37m\u001b[39;49;00m\n",
      "        approx = guess\u001b[37m\u001b[39;49;00m\n",
      "        guess = (approx + x / approx) / \u001b[34m2\u001b[39;49;00m\u001b[37m\u001b[39;49;00m\n",
      "    \u001b[34mreturn\u001b[39;49;00m approx\u001b[37m\u001b[39;49;00m"
     ]
    }
   ],
   "source": [
    "print_content(ast.unparse(new_ast), '.py')"
   ]
  },
  {
   "cell_type": "markdown",
   "metadata": {
    "slideshow": {
     "slide_type": "fragment"
    }
   },
   "source": [
    "Similarly, we can annotate the `hello()` function from above:"
   ]
  },
  {
   "cell_type": "code",
   "execution_count": 65,
   "metadata": {
    "execution": {
     "iopub.execute_input": "2023-11-12T12:47:46.204295Z",
     "iopub.status.busy": "2023-11-12T12:47:46.204208Z",
     "iopub.status.idle": "2023-11-12T12:47:46.206384Z",
     "shell.execute_reply": "2023-11-12T12:47:46.206122Z"
    },
    "slideshow": {
     "slide_type": "fragment"
    }
   },
   "outputs": [],
   "source": [
    "hello_source = inspect.getsource(hello)"
   ]
  },
  {
   "cell_type": "code",
   "execution_count": 66,
   "metadata": {
    "execution": {
     "iopub.execute_input": "2023-11-12T12:47:46.207861Z",
     "iopub.status.busy": "2023-11-12T12:47:46.207756Z",
     "iopub.status.idle": "2023-11-12T12:47:46.209383Z",
     "shell.execute_reply": "2023-11-12T12:47:46.209090Z"
    },
    "slideshow": {
     "slide_type": "fragment"
    }
   },
   "outputs": [],
   "source": [
    "hello_ast = ast.parse(hello_source)"
   ]
  },
  {
   "cell_type": "code",
   "execution_count": 67,
   "metadata": {
    "execution": {
     "iopub.execute_input": "2023-11-12T12:47:46.210736Z",
     "iopub.status.busy": "2023-11-12T12:47:46.210659Z",
     "iopub.status.idle": "2023-11-12T12:47:46.212497Z",
     "shell.execute_reply": "2023-11-12T12:47:46.212245Z"
    },
    "slideshow": {
     "slide_type": "fragment"
    }
   },
   "outputs": [],
   "source": [
    "new_ast = TypeTransformer({'name': 'str'}, 'None').visit(hello_ast)"
   ]
  },
  {
   "cell_type": "code",
   "execution_count": 68,
   "metadata": {
    "execution": {
     "iopub.execute_input": "2023-11-12T12:47:46.213792Z",
     "iopub.status.busy": "2023-11-12T12:47:46.213714Z",
     "iopub.status.idle": "2023-11-12T12:47:46.243701Z",
     "shell.execute_reply": "2023-11-12T12:47:46.243444Z"
    },
    "slideshow": {
     "slide_type": "subslide"
    }
   },
   "outputs": [
    {
     "name": "stdout",
     "output_type": "stream",
     "text": [
      "\u001b[34mdef\u001b[39;49;00m \u001b[32mhello\u001b[39;49;00m(name: \u001b[36mstr\u001b[39;49;00m) -> \u001b[34mNone\u001b[39;49;00m:\u001b[37m\u001b[39;49;00m\n",
      "    \u001b[36mprint\u001b[39;49;00m(\u001b[33m'\u001b[39;49;00m\u001b[33mHello,\u001b[39;49;00m\u001b[33m'\u001b[39;49;00m, name)\u001b[37m\u001b[39;49;00m"
     ]
    }
   ],
   "source": [
    "print_content(ast.unparse(new_ast), '.py')"
   ]
  },
  {
   "attachments": {},
   "cell_type": "markdown",
   "metadata": {
    "slideshow": {
     "slide_type": "subslide"
    }
   },
   "source": [
    "### Annotating Functions with Mined Types\n",
    "\n",
    "Let us now annotate functions with types mined at runtime. We start with a simple function `type_string()` that determines the appropriate type of a given value (as a string):"
   ]
  },
  {
   "cell_type": "code",
   "execution_count": 69,
   "metadata": {
    "execution": {
     "iopub.execute_input": "2023-11-12T12:47:46.245217Z",
     "iopub.status.busy": "2023-11-12T12:47:46.245124Z",
     "iopub.status.idle": "2023-11-12T12:47:46.246990Z",
     "shell.execute_reply": "2023-11-12T12:47:46.246724Z"
    },
    "slideshow": {
     "slide_type": "fragment"
    }
   },
   "outputs": [],
   "source": [
    "def type_string(value):\n",
    "    return type(value).__name__"
   ]
  },
  {
   "cell_type": "code",
   "execution_count": 70,
   "metadata": {
    "execution": {
     "iopub.execute_input": "2023-11-12T12:47:46.248360Z",
     "iopub.status.busy": "2023-11-12T12:47:46.248282Z",
     "iopub.status.idle": "2023-11-12T12:47:46.250398Z",
     "shell.execute_reply": "2023-11-12T12:47:46.250157Z"
    },
    "slideshow": {
     "slide_type": "fragment"
    }
   },
   "outputs": [
    {
     "data": {
      "text/plain": [
       "'int'"
      ]
     },
     "execution_count": 70,
     "metadata": {},
     "output_type": "execute_result"
    }
   ],
   "source": [
    "type_string(4)"
   ]
  },
  {
   "cell_type": "code",
   "execution_count": 71,
   "metadata": {
    "execution": {
     "iopub.execute_input": "2023-11-12T12:47:46.251663Z",
     "iopub.status.busy": "2023-11-12T12:47:46.251556Z",
     "iopub.status.idle": "2023-11-12T12:47:46.253675Z",
     "shell.execute_reply": "2023-11-12T12:47:46.253387Z"
    },
    "slideshow": {
     "slide_type": "fragment"
    }
   },
   "outputs": [
    {
     "data": {
      "text/plain": [
       "'list'"
      ]
     },
     "execution_count": 71,
     "metadata": {},
     "output_type": "execute_result"
    }
   ],
   "source": [
    "type_string([])"
   ]
  },
  {
   "cell_type": "markdown",
   "metadata": {
    "slideshow": {
     "slide_type": "fragment"
    }
   },
   "source": [
    "For composite structures, `type_string()` does not examine element types; hence, the type of `[3]` is simply `list` instead of, say, `list[int]`.  For now, `list` will do fine."
   ]
  },
  {
   "cell_type": "code",
   "execution_count": 72,
   "metadata": {
    "execution": {
     "iopub.execute_input": "2023-11-12T12:47:46.255036Z",
     "iopub.status.busy": "2023-11-12T12:47:46.254957Z",
     "iopub.status.idle": "2023-11-12T12:47:46.256953Z",
     "shell.execute_reply": "2023-11-12T12:47:46.256696Z"
    },
    "slideshow": {
     "slide_type": "subslide"
    }
   },
   "outputs": [
    {
     "data": {
      "text/plain": [
       "'list'"
      ]
     },
     "execution_count": 72,
     "metadata": {},
     "output_type": "execute_result"
    }
   ],
   "source": [
    "type_string([3])"
   ]
  },
  {
   "cell_type": "markdown",
   "metadata": {
    "slideshow": {
     "slide_type": "fragment"
    }
   },
   "source": [
    "`type_string()` will be used to infer the types of argument values found at runtime, as returned by `CallTracker.calls()`:"
   ]
  },
  {
   "cell_type": "code",
   "execution_count": 73,
   "metadata": {
    "button": false,
    "execution": {
     "iopub.execute_input": "2023-11-12T12:47:46.258536Z",
     "iopub.status.busy": "2023-11-12T12:47:46.258426Z",
     "iopub.status.idle": "2023-11-12T12:47:46.260158Z",
     "shell.execute_reply": "2023-11-12T12:47:46.259896Z"
    },
    "new_sheet": false,
    "run_control": {
     "read_only": false
    },
    "slideshow": {
     "slide_type": "skip"
    }
   },
   "outputs": [],
   "source": [
    "with CallTracker() as tracker:\n",
    "    y = my_sqrt(25.0)\n",
    "    y = my_sqrt(2.0)"
   ]
  },
  {
   "cell_type": "code",
   "execution_count": 74,
   "metadata": {
    "button": false,
    "code_folding": [],
    "execution": {
     "iopub.execute_input": "2023-11-12T12:47:46.261773Z",
     "iopub.status.busy": "2023-11-12T12:47:46.261652Z",
     "iopub.status.idle": "2023-11-12T12:47:46.263891Z",
     "shell.execute_reply": "2023-11-12T12:47:46.263626Z"
    },
    "new_sheet": false,
    "run_control": {
     "read_only": false
    },
    "slideshow": {
     "slide_type": "subslide"
    }
   },
   "outputs": [
    {
     "data": {
      "text/plain": [
       "{'my_sqrt': [([('x', 25.0)], 5.0), ([('x', 2.0)], 1.414213562373095)]}"
      ]
     },
     "execution_count": 74,
     "metadata": {},
     "output_type": "execute_result"
    }
   ],
   "source": [
    "tracker.calls()"
   ]
  },
  {
   "cell_type": "markdown",
   "metadata": {
    "slideshow": {
     "slide_type": "fragment"
    }
   },
   "source": [
    "The function `annotate_types()` takes such a list of calls and annotates each function listed:"
   ]
  },
  {
   "cell_type": "code",
   "execution_count": 75,
   "metadata": {
    "execution": {
     "iopub.execute_input": "2023-11-12T12:47:46.265444Z",
     "iopub.status.busy": "2023-11-12T12:47:46.265329Z",
     "iopub.status.idle": "2023-11-12T12:47:46.267485Z",
     "shell.execute_reply": "2023-11-12T12:47:46.267089Z"
    },
    "slideshow": {
     "slide_type": "subslide"
    }
   },
   "outputs": [],
   "source": [
    "def annotate_types(calls):\n",
    "    annotated_functions = {}\n",
    "    \n",
    "    for function_name in calls:\n",
    "        try:\n",
    "            annotated_functions[function_name] = annotate_function_with_types(function_name, calls[function_name])\n",
    "        except KeyError:\n",
    "            continue\n",
    "\n",
    "    return annotated_functions"
   ]
  },
  {
   "cell_type": "markdown",
   "metadata": {
    "slideshow": {
     "slide_type": "fragment"
    }
   },
   "source": [
    "For each function, we get the source and its AST and then get to the actual annotation in `annotate_function_ast_with_types()`:"
   ]
  },
  {
   "cell_type": "code",
   "execution_count": 76,
   "metadata": {
    "execution": {
     "iopub.execute_input": "2023-11-12T12:47:46.268917Z",
     "iopub.status.busy": "2023-11-12T12:47:46.268812Z",
     "iopub.status.idle": "2023-11-12T12:47:46.270606Z",
     "shell.execute_reply": "2023-11-12T12:47:46.270353Z"
    },
    "slideshow": {
     "slide_type": "subslide"
    }
   },
   "outputs": [],
   "source": [
    "def annotate_function_with_types(function_name, function_calls):\n",
    "    function = globals()[function_name]  # May raise KeyError for internal functions\n",
    "    function_code = inspect.getsource(function)\n",
    "    function_ast = ast.parse(function_code)\n",
    "    return annotate_function_ast_with_types(function_ast, function_calls)"
   ]
  },
  {
   "cell_type": "markdown",
   "metadata": {
    "slideshow": {
     "slide_type": "fragment"
    }
   },
   "source": [
    "The function `annotate_function_ast_with_types()` invokes the `TypeTransformer` with the calls seen, and for each call, iterate over the arguments, determine their types, and annotate the AST with these.  The universal type `Any` is used when we encounter type conflicts, which we will discuss below."
   ]
  },
  {
   "cell_type": "code",
   "execution_count": 77,
   "metadata": {
    "execution": {
     "iopub.execute_input": "2023-11-12T12:47:46.272114Z",
     "iopub.status.busy": "2023-11-12T12:47:46.272011Z",
     "iopub.status.idle": "2023-11-12T12:47:46.273440Z",
     "shell.execute_reply": "2023-11-12T12:47:46.273199Z"
    },
    "slideshow": {
     "slide_type": "skip"
    }
   },
   "outputs": [],
   "source": [
    "from typing import Any"
   ]
  },
  {
   "cell_type": "code",
   "execution_count": 78,
   "metadata": {
    "execution": {
     "iopub.execute_input": "2023-11-12T12:47:46.274826Z",
     "iopub.status.busy": "2023-11-12T12:47:46.274748Z",
     "iopub.status.idle": "2023-11-12T12:47:46.277481Z",
     "shell.execute_reply": "2023-11-12T12:47:46.277244Z"
    },
    "slideshow": {
     "slide_type": "subslide"
    }
   },
   "outputs": [],
   "source": [
    "def annotate_function_ast_with_types(function_ast, function_calls):\n",
    "    parameter_types = {}\n",
    "    return_type = None\n",
    "\n",
    "    for calls_seen in function_calls:\n",
    "        args, return_value = calls_seen\n",
    "        if return_value is not None:\n",
    "            if return_type is not None and return_type != type_string(return_value):\n",
    "                return_type = 'Any'\n",
    "            else:\n",
    "                return_type = type_string(return_value)\n",
    "            \n",
    "            \n",
    "        for parameter, value in args:\n",
    "            try:\n",
    "                different_type = parameter_types[parameter] != type_string(value)\n",
    "            except KeyError:\n",
    "                different_type = False\n",
    "                \n",
    "            if different_type:\n",
    "                parameter_types[parameter] = 'Any'\n",
    "            else:\n",
    "                parameter_types[parameter] = type_string(value)\n",
    "        \n",
    "    annotated_function_ast = TypeTransformer(parameter_types, return_type).visit(function_ast)\n",
    "    return annotated_function_ast"
   ]
  },
  {
   "cell_type": "markdown",
   "metadata": {
    "slideshow": {
     "slide_type": "subslide"
    }
   },
   "source": [
    "Here is `my_sqrt()` annotated with the types recorded usign the tracker, above."
   ]
  },
  {
   "cell_type": "code",
   "execution_count": 79,
   "metadata": {
    "execution": {
     "iopub.execute_input": "2023-11-12T12:47:46.278972Z",
     "iopub.status.busy": "2023-11-12T12:47:46.278883Z",
     "iopub.status.idle": "2023-11-12T12:47:46.310185Z",
     "shell.execute_reply": "2023-11-12T12:47:46.309893Z"
    },
    "slideshow": {
     "slide_type": "fragment"
    }
   },
   "outputs": [
    {
     "name": "stdout",
     "output_type": "stream",
     "text": [
      "\u001b[34mdef\u001b[39;49;00m \u001b[32mmy_sqrt\u001b[39;49;00m(x: \u001b[36mfloat\u001b[39;49;00m) -> \u001b[36mfloat\u001b[39;49;00m:\u001b[37m\u001b[39;49;00m\n",
      "\u001b[37m    \u001b[39;49;00m\u001b[33m\"\"\"Computes the square root of x, using the Newton-Raphson method\"\"\"\u001b[39;49;00m\u001b[37m\u001b[39;49;00m\n",
      "    approx = \u001b[34mNone\u001b[39;49;00m\u001b[37m\u001b[39;49;00m\n",
      "    guess = x / \u001b[34m2\u001b[39;49;00m\u001b[37m\u001b[39;49;00m\n",
      "    \u001b[34mwhile\u001b[39;49;00m approx != guess:\u001b[37m\u001b[39;49;00m\n",
      "        approx = guess\u001b[37m\u001b[39;49;00m\n",
      "        guess = (approx + x / approx) / \u001b[34m2\u001b[39;49;00m\u001b[37m\u001b[39;49;00m\n",
      "    \u001b[34mreturn\u001b[39;49;00m approx\u001b[37m\u001b[39;49;00m"
     ]
    }
   ],
   "source": [
    "print_content(ast.unparse(annotate_types(tracker.calls())['my_sqrt']), '.py')"
   ]
  },
  {
   "cell_type": "markdown",
   "metadata": {
    "slideshow": {
     "slide_type": "subslide"
    }
   },
   "source": [
    "### All-in-one Annotation\n",
    "\n",
    "Let us bring all of this together in a single class `TypeAnnotator` that first tracks calls of functions and then allows accesing the AST (and the source code form) of the tracked functions annotated with types.  The method `typed_functions()` returns the annotated functions as a string; `typed_functions_ast()` returns their AST."
   ]
  },
  {
   "cell_type": "code",
   "execution_count": 80,
   "metadata": {
    "execution": {
     "iopub.execute_input": "2023-11-12T12:47:46.311852Z",
     "iopub.status.busy": "2023-11-12T12:47:46.311752Z",
     "iopub.status.idle": "2023-11-12T12:47:46.313560Z",
     "shell.execute_reply": "2023-11-12T12:47:46.313329Z"
    },
    "slideshow": {
     "slide_type": "fragment"
    }
   },
   "outputs": [],
   "source": [
    "class TypeTracker(CallTracker):\n",
    "    pass"
   ]
  },
  {
   "cell_type": "code",
   "execution_count": 81,
   "metadata": {
    "execution": {
     "iopub.execute_input": "2023-11-12T12:47:46.314988Z",
     "iopub.status.busy": "2023-11-12T12:47:46.314888Z",
     "iopub.status.idle": "2023-11-12T12:47:46.317458Z",
     "shell.execute_reply": "2023-11-12T12:47:46.317224Z"
    },
    "slideshow": {
     "slide_type": "subslide"
    }
   },
   "outputs": [],
   "source": [
    "class TypeAnnotator(TypeTracker):\n",
    "    def typed_functions_ast(self, function_name=None):\n",
    "        if function_name is None:\n",
    "            return annotate_types(self.calls())\n",
    "\n",
    "        return annotate_function_with_types(function_name, \n",
    "                                            self.calls(function_name))\n",
    "\n",
    "    def typed_functions(self, function_name=None):\n",
    "        if function_name is None:\n",
    "            functions = ''\n",
    "            for f_name in self.calls():\n",
    "                try:\n",
    "                    f_text = ast.unparse(self.typed_functions_ast(f_name))\n",
    "                except KeyError:\n",
    "                    f_text = ''\n",
    "                functions += f_text\n",
    "            return functions\n",
    "\n",
    "        return ast.unparse(self.typed_functions_ast(function_name))"
   ]
  },
  {
   "cell_type": "markdown",
   "metadata": {
    "slideshow": {
     "slide_type": "subslide"
    }
   },
   "source": [
    "Here is how to use `TypeAnnotator`.  We first track a series of calls:"
   ]
  },
  {
   "cell_type": "code",
   "execution_count": 82,
   "metadata": {
    "execution": {
     "iopub.execute_input": "2023-11-12T12:47:46.318883Z",
     "iopub.status.busy": "2023-11-12T12:47:46.318774Z",
     "iopub.status.idle": "2023-11-12T12:47:46.320587Z",
     "shell.execute_reply": "2023-11-12T12:47:46.320303Z"
    },
    "slideshow": {
     "slide_type": "fragment"
    }
   },
   "outputs": [],
   "source": [
    "with TypeAnnotator() as annotator:\n",
    "    y = my_sqrt(25.0)\n",
    "    y = my_sqrt(2.0)"
   ]
  },
  {
   "cell_type": "markdown",
   "metadata": {
    "slideshow": {
     "slide_type": "fragment"
    }
   },
   "source": [
    "After tracking, we can immediately retrieve an annotated version of the functions tracked:"
   ]
  },
  {
   "cell_type": "code",
   "execution_count": 83,
   "metadata": {
    "execution": {
     "iopub.execute_input": "2023-11-12T12:47:46.322133Z",
     "iopub.status.busy": "2023-11-12T12:47:46.322029Z",
     "iopub.status.idle": "2023-11-12T12:47:46.353456Z",
     "shell.execute_reply": "2023-11-12T12:47:46.353163Z"
    },
    "slideshow": {
     "slide_type": "subslide"
    }
   },
   "outputs": [
    {
     "name": "stdout",
     "output_type": "stream",
     "text": [
      "\u001b[34mdef\u001b[39;49;00m \u001b[32mmy_sqrt\u001b[39;49;00m(x: \u001b[36mfloat\u001b[39;49;00m) -> \u001b[36mfloat\u001b[39;49;00m:\u001b[37m\u001b[39;49;00m\n",
      "\u001b[37m    \u001b[39;49;00m\u001b[33m\"\"\"Computes the square root of x, using the Newton-Raphson method\"\"\"\u001b[39;49;00m\u001b[37m\u001b[39;49;00m\n",
      "    approx = \u001b[34mNone\u001b[39;49;00m\u001b[37m\u001b[39;49;00m\n",
      "    guess = x / \u001b[34m2\u001b[39;49;00m\u001b[37m\u001b[39;49;00m\n",
      "    \u001b[34mwhile\u001b[39;49;00m approx != guess:\u001b[37m\u001b[39;49;00m\n",
      "        approx = guess\u001b[37m\u001b[39;49;00m\n",
      "        guess = (approx + x / approx) / \u001b[34m2\u001b[39;49;00m\u001b[37m\u001b[39;49;00m\n",
      "    \u001b[34mreturn\u001b[39;49;00m approx\u001b[37m\u001b[39;49;00m"
     ]
    }
   ],
   "source": [
    "print_content(annotator.typed_functions(), '.py')"
   ]
  },
  {
   "cell_type": "markdown",
   "metadata": {
    "slideshow": {
     "slide_type": "fragment"
    }
   },
   "source": [
    "This also works for multiple and diverse functions.  One could go and implement an automatic type annotator for Python files based on the types seen during execution."
   ]
  },
  {
   "cell_type": "code",
   "execution_count": 84,
   "metadata": {
    "execution": {
     "iopub.execute_input": "2023-11-12T12:47:46.354973Z",
     "iopub.status.busy": "2023-11-12T12:47:46.354883Z",
     "iopub.status.idle": "2023-11-12T12:47:46.357072Z",
     "shell.execute_reply": "2023-11-12T12:47:46.356820Z"
    },
    "slideshow": {
     "slide_type": "subslide"
    }
   },
   "outputs": [
    {
     "name": "stdout",
     "output_type": "stream",
     "text": [
      "Hello, type annotations\n"
     ]
    }
   ],
   "source": [
    "with TypeAnnotator() as annotator:\n",
    "    hello('type annotations')\n",
    "    y = my_sqrt(1.0)"
   ]
  },
  {
   "cell_type": "code",
   "execution_count": 85,
   "metadata": {
    "execution": {
     "iopub.execute_input": "2023-11-12T12:47:46.358682Z",
     "iopub.status.busy": "2023-11-12T12:47:46.358569Z",
     "iopub.status.idle": "2023-11-12T12:47:46.391410Z",
     "shell.execute_reply": "2023-11-12T12:47:46.391116Z"
    },
    "slideshow": {
     "slide_type": "fragment"
    }
   },
   "outputs": [
    {
     "name": "stdout",
     "output_type": "stream",
     "text": [
      "\u001b[34mdef\u001b[39;49;00m \u001b[32mhello\u001b[39;49;00m(name: \u001b[36mstr\u001b[39;49;00m):\u001b[37m\u001b[39;49;00m\n",
      "    \u001b[36mprint\u001b[39;49;00m(\u001b[33m'\u001b[39;49;00m\u001b[33mHello,\u001b[39;49;00m\u001b[33m'\u001b[39;49;00m, name)\u001b[34mdef\u001b[39;49;00m \u001b[32mmy_sqrt\u001b[39;49;00m(x: \u001b[36mfloat\u001b[39;49;00m) -> \u001b[36mfloat\u001b[39;49;00m:\u001b[37m\u001b[39;49;00m\n",
      "\u001b[37m    \u001b[39;49;00m\u001b[33m\"\"\"Computes the square root of x, using the Newton-Raphson method\"\"\"\u001b[39;49;00m\u001b[37m\u001b[39;49;00m\n",
      "    approx = \u001b[34mNone\u001b[39;49;00m\u001b[37m\u001b[39;49;00m\n",
      "    guess = x / \u001b[34m2\u001b[39;49;00m\u001b[37m\u001b[39;49;00m\n",
      "    \u001b[34mwhile\u001b[39;49;00m approx != guess:\u001b[37m\u001b[39;49;00m\n",
      "        approx = guess\u001b[37m\u001b[39;49;00m\n",
      "        guess = (approx + x / approx) / \u001b[34m2\u001b[39;49;00m\u001b[37m\u001b[39;49;00m\n",
      "    \u001b[34mreturn\u001b[39;49;00m approx\u001b[37m\u001b[39;49;00m"
     ]
    }
   ],
   "source": [
    "print_content(annotator.typed_functions(), '.py')"
   ]
  },
  {
   "cell_type": "markdown",
   "metadata": {
    "slideshow": {
     "slide_type": "subslide"
    }
   },
   "source": [
    "A content as above could now be sent to a type checker, which would detect any type inconsistency between callers and callees.  Likewise, type annotations such as the ones above greatly benefit symbolic code analysis (as in the chapter on [symbolic fuzzing](SymbolicFuzzer.ipynb)), as they effectively constrain the set of values that arguments and variables can take."
   ]
  },
  {
   "cell_type": "markdown",
   "metadata": {
    "slideshow": {
     "slide_type": "subslide"
    }
   },
   "source": [
    "### Multiple Types\n",
    "\n",
    "Let us now resolve the role of the magic `Any` type in `annotate_function_ast_with_types()`.  If we see multiple types for the same argument, we set its type to `Any`.  For `my_sqrt()`, this makes sense, as its arguments can be integers as well as floats:"
   ]
  },
  {
   "cell_type": "code",
   "execution_count": 86,
   "metadata": {
    "button": false,
    "execution": {
     "iopub.execute_input": "2023-11-12T12:47:46.392978Z",
     "iopub.status.busy": "2023-11-12T12:47:46.392888Z",
     "iopub.status.idle": "2023-11-12T12:47:46.394692Z",
     "shell.execute_reply": "2023-11-12T12:47:46.394430Z"
    },
    "new_sheet": false,
    "run_control": {
     "read_only": false
    },
    "slideshow": {
     "slide_type": "skip"
    }
   },
   "outputs": [],
   "source": [
    "with CallTracker() as tracker:\n",
    "    y = my_sqrt(25.0)\n",
    "    y = my_sqrt(4)"
   ]
  },
  {
   "cell_type": "code",
   "execution_count": 87,
   "metadata": {
    "execution": {
     "iopub.execute_input": "2023-11-12T12:47:46.396291Z",
     "iopub.status.busy": "2023-11-12T12:47:46.396195Z",
     "iopub.status.idle": "2023-11-12T12:47:46.429389Z",
     "shell.execute_reply": "2023-11-12T12:47:46.429121Z"
    },
    "slideshow": {
     "slide_type": "subslide"
    }
   },
   "outputs": [
    {
     "name": "stdout",
     "output_type": "stream",
     "text": [
      "\u001b[34mdef\u001b[39;49;00m \u001b[32mmy_sqrt\u001b[39;49;00m(x: Any) -> \u001b[36mfloat\u001b[39;49;00m:\u001b[37m\u001b[39;49;00m\n",
      "\u001b[37m    \u001b[39;49;00m\u001b[33m\"\"\"Computes the square root of x, using the Newton-Raphson method\"\"\"\u001b[39;49;00m\u001b[37m\u001b[39;49;00m\n",
      "    approx = \u001b[34mNone\u001b[39;49;00m\u001b[37m\u001b[39;49;00m\n",
      "    guess = x / \u001b[34m2\u001b[39;49;00m\u001b[37m\u001b[39;49;00m\n",
      "    \u001b[34mwhile\u001b[39;49;00m approx != guess:\u001b[37m\u001b[39;49;00m\n",
      "        approx = guess\u001b[37m\u001b[39;49;00m\n",
      "        guess = (approx + x / approx) / \u001b[34m2\u001b[39;49;00m\u001b[37m\u001b[39;49;00m\n",
      "    \u001b[34mreturn\u001b[39;49;00m approx\u001b[37m\u001b[39;49;00m"
     ]
    }
   ],
   "source": [
    "print_content(ast.unparse(annotate_types(tracker.calls())['my_sqrt']), '.py')"
   ]
  },
  {
   "cell_type": "markdown",
   "metadata": {
    "slideshow": {
     "slide_type": "fragment"
    }
   },
   "source": [
    "The following function `sum3()` can be called with floating-point numbers as arguments, resulting in the parameters getting a `float` type:"
   ]
  },
  {
   "cell_type": "code",
   "execution_count": 88,
   "metadata": {
    "execution": {
     "iopub.execute_input": "2023-11-12T12:47:46.431576Z",
     "iopub.status.busy": "2023-11-12T12:47:46.431350Z",
     "iopub.status.idle": "2023-11-12T12:47:46.433268Z",
     "shell.execute_reply": "2023-11-12T12:47:46.433002Z"
    },
    "slideshow": {
     "slide_type": "fragment"
    }
   },
   "outputs": [],
   "source": [
    "def sum3(a, b, c):\n",
    "    return a + b + c"
   ]
  },
  {
   "cell_type": "code",
   "execution_count": 89,
   "metadata": {
    "execution": {
     "iopub.execute_input": "2023-11-12T12:47:46.434852Z",
     "iopub.status.busy": "2023-11-12T12:47:46.434730Z",
     "iopub.status.idle": "2023-11-12T12:47:46.437159Z",
     "shell.execute_reply": "2023-11-12T12:47:46.436859Z"
    },
    "slideshow": {
     "slide_type": "subslide"
    }
   },
   "outputs": [
    {
     "data": {
      "text/plain": [
       "6.0"
      ]
     },
     "execution_count": 89,
     "metadata": {},
     "output_type": "execute_result"
    }
   ],
   "source": [
    "with TypeAnnotator() as annotator:\n",
    "    y = sum3(1.0, 2.0, 3.0)\n",
    "y"
   ]
  },
  {
   "cell_type": "code",
   "execution_count": 90,
   "metadata": {
    "execution": {
     "iopub.execute_input": "2023-11-12T12:47:46.438675Z",
     "iopub.status.busy": "2023-11-12T12:47:46.438566Z",
     "iopub.status.idle": "2023-11-12T12:47:46.470063Z",
     "shell.execute_reply": "2023-11-12T12:47:46.469773Z"
    },
    "slideshow": {
     "slide_type": "fragment"
    }
   },
   "outputs": [
    {
     "name": "stdout",
     "output_type": "stream",
     "text": [
      "\u001b[34mdef\u001b[39;49;00m \u001b[32msum3\u001b[39;49;00m(a: \u001b[36mfloat\u001b[39;49;00m, b: \u001b[36mfloat\u001b[39;49;00m, c: \u001b[36mfloat\u001b[39;49;00m) -> \u001b[36mfloat\u001b[39;49;00m:\u001b[37m\u001b[39;49;00m\n",
      "    \u001b[34mreturn\u001b[39;49;00m a + b + c\u001b[37m\u001b[39;49;00m"
     ]
    }
   ],
   "source": [
    "print_content(annotator.typed_functions(), '.py')"
   ]
  },
  {
   "cell_type": "markdown",
   "metadata": {
    "slideshow": {
     "slide_type": "fragment"
    }
   },
   "source": [
    "If we call `sum3()` with integers, though, the arguments get an `int` type:"
   ]
  },
  {
   "cell_type": "code",
   "execution_count": 91,
   "metadata": {
    "execution": {
     "iopub.execute_input": "2023-11-12T12:47:46.471796Z",
     "iopub.status.busy": "2023-11-12T12:47:46.471681Z",
     "iopub.status.idle": "2023-11-12T12:47:46.474004Z",
     "shell.execute_reply": "2023-11-12T12:47:46.473734Z"
    },
    "slideshow": {
     "slide_type": "fragment"
    }
   },
   "outputs": [
    {
     "data": {
      "text/plain": [
       "6"
      ]
     },
     "execution_count": 91,
     "metadata": {},
     "output_type": "execute_result"
    }
   ],
   "source": [
    "with TypeAnnotator() as annotator:\n",
    "    y = sum3(1, 2, 3)\n",
    "y"
   ]
  },
  {
   "cell_type": "code",
   "execution_count": 92,
   "metadata": {
    "execution": {
     "iopub.execute_input": "2023-11-12T12:47:46.475630Z",
     "iopub.status.busy": "2023-11-12T12:47:46.475517Z",
     "iopub.status.idle": "2023-11-12T12:47:46.506049Z",
     "shell.execute_reply": "2023-11-12T12:47:46.505776Z"
    },
    "slideshow": {
     "slide_type": "subslide"
    }
   },
   "outputs": [
    {
     "name": "stdout",
     "output_type": "stream",
     "text": [
      "\u001b[34mdef\u001b[39;49;00m \u001b[32msum3\u001b[39;49;00m(a: \u001b[36mint\u001b[39;49;00m, b: \u001b[36mint\u001b[39;49;00m, c: \u001b[36mint\u001b[39;49;00m) -> \u001b[36mint\u001b[39;49;00m:\u001b[37m\u001b[39;49;00m\n",
      "    \u001b[34mreturn\u001b[39;49;00m a + b + c\u001b[37m\u001b[39;49;00m"
     ]
    }
   ],
   "source": [
    "print_content(annotator.typed_functions(), '.py')"
   ]
  },
  {
   "cell_type": "markdown",
   "metadata": {
    "slideshow": {
     "slide_type": "fragment"
    }
   },
   "source": [
    "And we can also call `sum3()` with strings, giving the arguments a `str` type:"
   ]
  },
  {
   "cell_type": "code",
   "execution_count": 93,
   "metadata": {
    "execution": {
     "iopub.execute_input": "2023-11-12T12:47:46.507724Z",
     "iopub.status.busy": "2023-11-12T12:47:46.507634Z",
     "iopub.status.idle": "2023-11-12T12:47:46.510130Z",
     "shell.execute_reply": "2023-11-12T12:47:46.509838Z"
    },
    "slideshow": {
     "slide_type": "fragment"
    }
   },
   "outputs": [
    {
     "data": {
      "text/plain": [
       "'onetwothree'"
      ]
     },
     "execution_count": 93,
     "metadata": {},
     "output_type": "execute_result"
    }
   ],
   "source": [
    "with TypeAnnotator() as annotator:\n",
    "    y = sum3(\"one\", \"two\", \"three\")\n",
    "y"
   ]
  },
  {
   "cell_type": "code",
   "execution_count": 94,
   "metadata": {
    "execution": {
     "iopub.execute_input": "2023-11-12T12:47:46.511726Z",
     "iopub.status.busy": "2023-11-12T12:47:46.511603Z",
     "iopub.status.idle": "2023-11-12T12:47:46.542012Z",
     "shell.execute_reply": "2023-11-12T12:47:46.541766Z"
    },
    "slideshow": {
     "slide_type": "fragment"
    }
   },
   "outputs": [
    {
     "name": "stdout",
     "output_type": "stream",
     "text": [
      "\u001b[34mdef\u001b[39;49;00m \u001b[32msum3\u001b[39;49;00m(a: \u001b[36mstr\u001b[39;49;00m, b: \u001b[36mstr\u001b[39;49;00m, c: \u001b[36mstr\u001b[39;49;00m) -> \u001b[36mstr\u001b[39;49;00m:\u001b[37m\u001b[39;49;00m\n",
      "    \u001b[34mreturn\u001b[39;49;00m a + b + c\u001b[37m\u001b[39;49;00m"
     ]
    }
   ],
   "source": [
    "print_content(annotator.typed_functions(), '.py')"
   ]
  },
  {
   "cell_type": "markdown",
   "metadata": {
    "slideshow": {
     "slide_type": "fragment"
    }
   },
   "source": [
    "If we have multiple calls, but with different types, `TypeAnnotator()` will assign an `Any` type to both arguments and return values:"
   ]
  },
  {
   "cell_type": "code",
   "execution_count": 95,
   "metadata": {
    "execution": {
     "iopub.execute_input": "2023-11-12T12:47:46.543678Z",
     "iopub.status.busy": "2023-11-12T12:47:46.543585Z",
     "iopub.status.idle": "2023-11-12T12:47:46.545360Z",
     "shell.execute_reply": "2023-11-12T12:47:46.545126Z"
    },
    "slideshow": {
     "slide_type": "subslide"
    }
   },
   "outputs": [],
   "source": [
    "with TypeAnnotator() as annotator:\n",
    "    y = sum3(1, 2, 3)\n",
    "    y = sum3(\"one\", \"two\", \"three\")"
   ]
  },
  {
   "cell_type": "code",
   "execution_count": 96,
   "metadata": {
    "execution": {
     "iopub.execute_input": "2023-11-12T12:47:46.546769Z",
     "iopub.status.busy": "2023-11-12T12:47:46.546685Z",
     "iopub.status.idle": "2023-11-12T12:47:46.548781Z",
     "shell.execute_reply": "2023-11-12T12:47:46.548555Z"
    },
    "slideshow": {
     "slide_type": "fragment"
    }
   },
   "outputs": [],
   "source": [
    "typed_sum3_def = annotator.typed_functions('sum3')"
   ]
  },
  {
   "cell_type": "code",
   "execution_count": 97,
   "metadata": {
    "execution": {
     "iopub.execute_input": "2023-11-12T12:47:46.550193Z",
     "iopub.status.busy": "2023-11-12T12:47:46.550111Z",
     "iopub.status.idle": "2023-11-12T12:47:46.579308Z",
     "shell.execute_reply": "2023-11-12T12:47:46.579063Z"
    },
    "slideshow": {
     "slide_type": "fragment"
    }
   },
   "outputs": [
    {
     "name": "stdout",
     "output_type": "stream",
     "text": [
      "\u001b[34mdef\u001b[39;49;00m \u001b[32msum3\u001b[39;49;00m(a: Any, b: Any, c: Any) -> Any:\u001b[37m\u001b[39;49;00m\n",
      "    \u001b[34mreturn\u001b[39;49;00m a + b + c\u001b[37m\u001b[39;49;00m"
     ]
    }
   ],
   "source": [
    "print_content(typed_sum3_def, '.py')"
   ]
  },
  {
   "attachments": {},
   "cell_type": "markdown",
   "metadata": {
    "slideshow": {
     "slide_type": "fragment"
    }
   },
   "source": [
    "A type `Any` makes it explicit that an object can, indeed, have any type; it will not be type-checked at runtime or statically.  To some extent, this defeats the power of type checking; but it also preserves some of the type flexibility that many Python programmers enjoy.  Besides `Any`, the `typing` module supports several additional ways to define ambiguous types; we will keep this in mind for a later exercise."
   ]
  },
  {
   "cell_type": "markdown",
   "metadata": {
    "slideshow": {
     "slide_type": "slide"
    }
   },
   "source": [
    "## Specifying and Checking Invariants\n",
    "\n",
    "Besides basic data types. we can check several further properties from arguments.  We can, for instance, whether an argument can be negative, zero, or positive; or that one argument should be smaller than the second; or that the result should be the sum of two arguments – properties that cannot be expressed in a (Python) type.\n",
    "\n",
    "Such properties are called *invariants*, as they hold across all invocations of a function. Specifically, invariants come as _pre_- and _postconditions_ – conditions that always hold at the beginning and at the end of a function.  (There are also _data_ and _object_ invariants that express always-holding properties over the state of data or objects, but we do not consider these in this book.)"
   ]
  },
  {
   "cell_type": "markdown",
   "metadata": {
    "slideshow": {
     "slide_type": "subslide"
    },
    "toc-hr-collapsed": true,
    "toc-nb-collapsed": true
   },
   "source": [
    "### Annotating Functions with Pre- and Postconditions\n",
    "\n",
    "The classical means to specify pre- and postconditions is via _assertions_, which we have introduced in the [chapter on testing](Intro_Testing.ipynb).  A precondition checks whether the arguments to a function satisfy the expected properties; a postcondition does the same for the result.  We can express and check both using assertions as follows:"
   ]
  },
  {
   "cell_type": "code",
   "execution_count": 98,
   "metadata": {
    "execution": {
     "iopub.execute_input": "2023-11-12T12:47:46.581039Z",
     "iopub.status.busy": "2023-11-12T12:47:46.580945Z",
     "iopub.status.idle": "2023-11-12T12:47:46.582878Z",
     "shell.execute_reply": "2023-11-12T12:47:46.582639Z"
    },
    "slideshow": {
     "slide_type": "fragment"
    }
   },
   "outputs": [],
   "source": [
    "def my_sqrt_with_invariants(x):\n",
    "    assert x >= 0  # Precondition\n",
    "    \n",
    "    ...\n",
    "    \n",
    "    assert result * result == x  # Postcondition\n",
    "    return result"
   ]
  },
  {
   "cell_type": "markdown",
   "metadata": {
    "slideshow": {
     "slide_type": "subslide"
    }
   },
   "source": [
    "A nicer way, however, is to syntactically separate invariants from the function at hand.  Using appropriate decorators, we could specify pre- and postconditions as follows:\n",
    "\n",
    "```python\n",
    "@precondition lambda x: x >= 0\n",
    "@postcondition lambda return_value, x: return_value * return_value == x\n",
    "def my_sqrt_with_invariants(x):\n",
    "    # normal code without assertions\n",
    "    ...\n",
    "```\n",
    "\n",
    "The decorators `@precondition` and `@postcondition` would run the given functions (specified as anonymous `lambda` functions) before and after the decorated function, respectively.  If the functions return `False`, the condition is violated.  `@precondition` gets the function arguments as arguments; `@postcondition` additionally gets the return value as first argument."
   ]
  },
  {
   "cell_type": "markdown",
   "metadata": {
    "slideshow": {
     "slide_type": "subslide"
    }
   },
   "source": [
    "It turns out that implementing such decorators is not hard at all.  Our implementation builds on a [code snippet from StackOverflow](https://stackoverflow.com/questions/12151182/python-precondition-postcondition-for-member-function-how):"
   ]
  },
  {
   "cell_type": "code",
   "execution_count": 99,
   "metadata": {
    "execution": {
     "iopub.execute_input": "2023-11-12T12:47:46.584486Z",
     "iopub.status.busy": "2023-11-12T12:47:46.584403Z",
     "iopub.status.idle": "2023-11-12T12:47:46.586076Z",
     "shell.execute_reply": "2023-11-12T12:47:46.585808Z"
    },
    "slideshow": {
     "slide_type": "skip"
    }
   },
   "outputs": [],
   "source": [
    "import functools"
   ]
  },
  {
   "cell_type": "code",
   "execution_count": 100,
   "metadata": {
    "execution": {
     "iopub.execute_input": "2023-11-12T12:47:46.587609Z",
     "iopub.status.busy": "2023-11-12T12:47:46.587512Z",
     "iopub.status.idle": "2023-11-12T12:47:46.590179Z",
     "shell.execute_reply": "2023-11-12T12:47:46.589918Z"
    },
    "slideshow": {
     "slide_type": "subslide"
    }
   },
   "outputs": [],
   "source": [
    "def condition(precondition=None, postcondition=None):\n",
    "    def decorator(func):\n",
    "        @functools.wraps(func) # preserves name, docstring, etc\n",
    "        def wrapper(*args, **kwargs):\n",
    "            if precondition is not None:\n",
    "               assert precondition(*args, **kwargs), \"Precondition violated\"\n",
    "\n",
    "            retval = func(*args, **kwargs) # call original function or method\n",
    "            if postcondition is not None:\n",
    "               assert postcondition(retval, *args, **kwargs), \"Postcondition violated\"\n",
    "\n",
    "            return retval\n",
    "        return wrapper\n",
    "    return decorator\n",
    "\n",
    "def precondition(check):\n",
    "    return condition(precondition=check)\n",
    "\n",
    "def postcondition(check):\n",
    "    return condition(postcondition=check)"
   ]
  },
  {
   "cell_type": "markdown",
   "metadata": {
    "slideshow": {
     "slide_type": "subslide"
    }
   },
   "source": [
    "With these, we can now start decorating `my_sqrt()`:"
   ]
  },
  {
   "cell_type": "code",
   "execution_count": 101,
   "metadata": {
    "execution": {
     "iopub.execute_input": "2023-11-12T12:47:46.591715Z",
     "iopub.status.busy": "2023-11-12T12:47:46.591625Z",
     "iopub.status.idle": "2023-11-12T12:47:46.593498Z",
     "shell.execute_reply": "2023-11-12T12:47:46.593252Z"
    },
    "slideshow": {
     "slide_type": "fragment"
    }
   },
   "outputs": [],
   "source": [
    "@precondition(lambda x: x > 0)\n",
    "def my_sqrt_with_precondition(x):\n",
    "    return my_sqrt(x)"
   ]
  },
  {
   "cell_type": "markdown",
   "metadata": {
    "slideshow": {
     "slide_type": "fragment"
    }
   },
   "source": [
    "This catches arguments violating the precondition:"
   ]
  },
  {
   "cell_type": "code",
   "execution_count": 102,
   "metadata": {
    "execution": {
     "iopub.execute_input": "2023-11-12T12:47:46.594945Z",
     "iopub.status.busy": "2023-11-12T12:47:46.594862Z",
     "iopub.status.idle": "2023-11-12T12:47:46.596695Z",
     "shell.execute_reply": "2023-11-12T12:47:46.596450Z"
    },
    "slideshow": {
     "slide_type": "fragment"
    }
   },
   "outputs": [
    {
     "name": "stderr",
     "output_type": "stream",
     "text": [
      "Traceback (most recent call last):\n",
      "  File \"/var/folders/n2/xd9445p97rb3xh7m1dfx8_4h0006ts/T/ipykernel_33982/2353876897.py\", line 2, in <cell line: 1>\n",
      "    my_sqrt_with_precondition(-1.0)\n",
      "  File \"/var/folders/n2/xd9445p97rb3xh7m1dfx8_4h0006ts/T/ipykernel_33982/906718213.py\", line 6, in wrapper\n",
      "    assert precondition(*args, **kwargs), \"Precondition violated\"\n",
      "AssertionError: Precondition violated (expected)\n"
     ]
    }
   ],
   "source": [
    "with ExpectError():\n",
    "    my_sqrt_with_precondition(-1.0)"
   ]
  },
  {
   "cell_type": "markdown",
   "metadata": {
    "slideshow": {
     "slide_type": "fragment"
    }
   },
   "source": [
    "Likewise, we can provide a postcondition:"
   ]
  },
  {
   "cell_type": "code",
   "execution_count": 103,
   "metadata": {
    "execution": {
     "iopub.execute_input": "2023-11-12T12:47:46.598272Z",
     "iopub.status.busy": "2023-11-12T12:47:46.598191Z",
     "iopub.status.idle": "2023-11-12T12:47:46.599785Z",
     "shell.execute_reply": "2023-11-12T12:47:46.599531Z"
    },
    "slideshow": {
     "slide_type": "subslide"
    }
   },
   "outputs": [],
   "source": [
    "EPSILON = 1e-5"
   ]
  },
  {
   "cell_type": "code",
   "execution_count": 104,
   "metadata": {
    "execution": {
     "iopub.execute_input": "2023-11-12T12:47:46.601187Z",
     "iopub.status.busy": "2023-11-12T12:47:46.601101Z",
     "iopub.status.idle": "2023-11-12T12:47:46.602970Z",
     "shell.execute_reply": "2023-11-12T12:47:46.602716Z"
    },
    "slideshow": {
     "slide_type": "fragment"
    }
   },
   "outputs": [],
   "source": [
    "@postcondition(lambda ret, x: ret * ret - x < EPSILON)\n",
    "def my_sqrt_with_postcondition(x):\n",
    "    return my_sqrt(x)"
   ]
  },
  {
   "cell_type": "code",
   "execution_count": 105,
   "metadata": {
    "execution": {
     "iopub.execute_input": "2023-11-12T12:47:46.604425Z",
     "iopub.status.busy": "2023-11-12T12:47:46.604341Z",
     "iopub.status.idle": "2023-11-12T12:47:46.606422Z",
     "shell.execute_reply": "2023-11-12T12:47:46.606165Z"
    },
    "slideshow": {
     "slide_type": "fragment"
    }
   },
   "outputs": [
    {
     "data": {
      "text/plain": [
       "1.414213562373095"
      ]
     },
     "execution_count": 105,
     "metadata": {},
     "output_type": "execute_result"
    }
   ],
   "source": [
    "y = my_sqrt_with_postcondition(2.0)\n",
    "y"
   ]
  },
  {
   "cell_type": "markdown",
   "metadata": {
    "slideshow": {
     "slide_type": "fragment"
    }
   },
   "source": [
    "If we have a buggy implementation of $\\sqrt{x}$, this gets caught quickly:"
   ]
  },
  {
   "cell_type": "code",
   "execution_count": 106,
   "metadata": {
    "execution": {
     "iopub.execute_input": "2023-11-12T12:47:46.607971Z",
     "iopub.status.busy": "2023-11-12T12:47:46.607865Z",
     "iopub.status.idle": "2023-11-12T12:47:46.609595Z",
     "shell.execute_reply": "2023-11-12T12:47:46.609360Z"
    },
    "slideshow": {
     "slide_type": "fragment"
    }
   },
   "outputs": [],
   "source": [
    "@postcondition(lambda ret, x: ret * ret - x < EPSILON)\n",
    "def buggy_my_sqrt_with_postcondition(x):\n",
    "    return my_sqrt(x) + 0.1"
   ]
  },
  {
   "cell_type": "code",
   "execution_count": 107,
   "metadata": {
    "execution": {
     "iopub.execute_input": "2023-11-12T12:47:46.611003Z",
     "iopub.status.busy": "2023-11-12T12:47:46.610904Z",
     "iopub.status.idle": "2023-11-12T12:47:46.612557Z",
     "shell.execute_reply": "2023-11-12T12:47:46.612328Z"
    },
    "slideshow": {
     "slide_type": "subslide"
    }
   },
   "outputs": [
    {
     "name": "stderr",
     "output_type": "stream",
     "text": [
      "Traceback (most recent call last):\n",
      "  File \"/var/folders/n2/xd9445p97rb3xh7m1dfx8_4h0006ts/T/ipykernel_33982/1985029262.py\", line 2, in <cell line: 1>\n",
      "    y = buggy_my_sqrt_with_postcondition(2.0)\n",
      "  File \"/var/folders/n2/xd9445p97rb3xh7m1dfx8_4h0006ts/T/ipykernel_33982/906718213.py\", line 10, in wrapper\n",
      "    assert postcondition(retval, *args, **kwargs), \"Postcondition violated\"\n",
      "AssertionError: Postcondition violated (expected)\n"
     ]
    }
   ],
   "source": [
    "with ExpectError():\n",
    "    y = buggy_my_sqrt_with_postcondition(2.0)"
   ]
  },
  {
   "cell_type": "markdown",
   "metadata": {
    "slideshow": {
     "slide_type": "fragment"
    }
   },
   "source": [
    "While checking pre- and postconditions is a great way to catch errors, specifying them can be cumbersome.  Let us try to see whether we can (again) _mine_ some of them."
   ]
  },
  {
   "cell_type": "markdown",
   "metadata": {
    "slideshow": {
     "slide_type": "slide"
    },
    "toc-hr-collapsed": true,
    "toc-nb-collapsed": true
   },
   "source": [
    "## Mining Invariants\n",
    "\n",
    "To _mine_ invariants, we can use the same tracking functionality as before; instead of saving values for individual variables, though, we now check whether the values satisfy specific _properties_ or not.  For instance, if all values of `x` seen satisfy the condition `x > 0`, then we make `x > 0` an invariant of the function.  If we see positive, zero, and negative values of `x`, though, then there is no property of `x` left to talk about.\n",
    "\n",
    "The general idea is thus:\n",
    "\n",
    "1. Check all variable values observed against a set of predefined properties; and\n",
    "2. Keep only those properties that hold for all runs observed."
   ]
  },
  {
   "cell_type": "markdown",
   "metadata": {
    "slideshow": {
     "slide_type": "subslide"
    }
   },
   "source": [
    "### Defining Properties\n",
    "\n",
    "What precisely do we mean by properties?  Here is a small collection of value properties that would frequently be used in invariants.  All these properties would be evaluated with the _metavariables_ `X`, `Y`, and `Z` (actually, any upper-case identifier) being replaced with the names of function parameters: "
   ]
  },
  {
   "cell_type": "code",
   "execution_count": 108,
   "metadata": {
    "execution": {
     "iopub.execute_input": "2023-11-12T12:47:46.614223Z",
     "iopub.status.busy": "2023-11-12T12:47:46.614120Z",
     "iopub.status.idle": "2023-11-12T12:47:46.615766Z",
     "shell.execute_reply": "2023-11-12T12:47:46.615496Z"
    },
    "slideshow": {
     "slide_type": "fragment"
    }
   },
   "outputs": [],
   "source": [
    "INVARIANT_PROPERTIES = [\n",
    "    \"X < 0\",\n",
    "    \"X <= 0\",\n",
    "    \"X > 0\",\n",
    "    \"X >= 0\",\n",
    "    \"X == 0\",\n",
    "    \"X != 0\",\n",
    "]"
   ]
  },
  {
   "cell_type": "markdown",
   "metadata": {
    "slideshow": {
     "slide_type": "subslide"
    }
   },
   "source": [
    "When `my_sqrt(x)` is called as, say `my_sqrt(5.0)`, we see that `x = 5.0` holds.  The above properties would then all be checked for `x`.  Only the properties `X > 0`, `X >= 0`, and `X != 0` hold for the call seen; and hence `x > 0`, `x >= 0`, and `x != 0` would make potential preconditions for `my_sqrt(x)`."
   ]
  },
  {
   "cell_type": "markdown",
   "metadata": {
    "slideshow": {
     "slide_type": "fragment"
    }
   },
   "source": [
    "We can check for many more properties such as relations between two arguments:"
   ]
  },
  {
   "cell_type": "code",
   "execution_count": 109,
   "metadata": {
    "execution": {
     "iopub.execute_input": "2023-11-12T12:47:46.617290Z",
     "iopub.status.busy": "2023-11-12T12:47:46.617188Z",
     "iopub.status.idle": "2023-11-12T12:47:46.618788Z",
     "shell.execute_reply": "2023-11-12T12:47:46.618539Z"
    },
    "slideshow": {
     "slide_type": "fragment"
    }
   },
   "outputs": [],
   "source": [
    "INVARIANT_PROPERTIES += [\n",
    "    \"X == Y\",\n",
    "    \"X > Y\",\n",
    "    \"X < Y\",\n",
    "    \"X >= Y\",\n",
    "    \"X <= Y\",\n",
    "]"
   ]
  },
  {
   "cell_type": "markdown",
   "metadata": {
    "slideshow": {
     "slide_type": "subslide"
    }
   },
   "source": [
    "Types also can be checked using properties.  For any function parameter `X`, only one of these will hold:"
   ]
  },
  {
   "cell_type": "code",
   "execution_count": 110,
   "metadata": {
    "execution": {
     "iopub.execute_input": "2023-11-12T12:47:46.620202Z",
     "iopub.status.busy": "2023-11-12T12:47:46.620125Z",
     "iopub.status.idle": "2023-11-12T12:47:46.621671Z",
     "shell.execute_reply": "2023-11-12T12:47:46.621434Z"
    },
    "slideshow": {
     "slide_type": "fragment"
    }
   },
   "outputs": [],
   "source": [
    "INVARIANT_PROPERTIES += [\n",
    "    \"isinstance(X, bool)\",\n",
    "    \"isinstance(X, int)\",\n",
    "    \"isinstance(X, float)\",\n",
    "    \"isinstance(X, list)\",\n",
    "    \"isinstance(X, dict)\",\n",
    "]"
   ]
  },
  {
   "cell_type": "markdown",
   "metadata": {
    "slideshow": {
     "slide_type": "fragment"
    }
   },
   "source": [
    "We can check for arithmetic properties:"
   ]
  },
  {
   "cell_type": "code",
   "execution_count": 111,
   "metadata": {
    "execution": {
     "iopub.execute_input": "2023-11-12T12:47:46.623072Z",
     "iopub.status.busy": "2023-11-12T12:47:46.622996Z",
     "iopub.status.idle": "2023-11-12T12:47:46.624553Z",
     "shell.execute_reply": "2023-11-12T12:47:46.624304Z"
    },
    "slideshow": {
     "slide_type": "subslide"
    }
   },
   "outputs": [],
   "source": [
    "INVARIANT_PROPERTIES += [\n",
    "    \"X == Y + Z\",\n",
    "    \"X == Y * Z\",\n",
    "    \"X == Y - Z\",\n",
    "    \"X == Y / Z\",\n",
    "]"
   ]
  },
  {
   "cell_type": "markdown",
   "metadata": {
    "slideshow": {
     "slide_type": "fragment"
    }
   },
   "source": [
    "Here's relations over three values, a Python special:"
   ]
  },
  {
   "cell_type": "code",
   "execution_count": 112,
   "metadata": {
    "execution": {
     "iopub.execute_input": "2023-11-12T12:47:46.626063Z",
     "iopub.status.busy": "2023-11-12T12:47:46.625982Z",
     "iopub.status.idle": "2023-11-12T12:47:46.627888Z",
     "shell.execute_reply": "2023-11-12T12:47:46.627571Z"
    },
    "slideshow": {
     "slide_type": "fragment"
    }
   },
   "outputs": [],
   "source": [
    "INVARIANT_PROPERTIES += [\n",
    "    \"X < Y < Z\",\n",
    "    \"X <= Y <= Z\",\n",
    "    \"X > Y > Z\",\n",
    "    \"X >= Y >= Z\",\n",
    "]"
   ]
  },
  {
   "cell_type": "markdown",
   "metadata": {
    "slideshow": {
     "slide_type": "fragment"
    }
   },
   "source": [
    "Finally, we can also check for list or string properties.  Again, this is just a tiny selection."
   ]
  },
  {
   "cell_type": "code",
   "execution_count": 113,
   "metadata": {
    "execution": {
     "iopub.execute_input": "2023-11-12T12:47:46.629674Z",
     "iopub.status.busy": "2023-11-12T12:47:46.629526Z",
     "iopub.status.idle": "2023-11-12T12:47:46.631252Z",
     "shell.execute_reply": "2023-11-12T12:47:46.630998Z"
    },
    "slideshow": {
     "slide_type": "subslide"
    }
   },
   "outputs": [],
   "source": [
    "INVARIANT_PROPERTIES += [\n",
    "    \"X == len(Y)\",\n",
    "    \"X == sum(Y)\",\n",
    "    \"X.startswith(Y)\",\n",
    "]"
   ]
  },
  {
   "cell_type": "markdown",
   "metadata": {
    "slideshow": {
     "slide_type": "subslide"
    }
   },
   "source": [
    "### Extracting Meta-Variables\n",
    "\n",
    "Let us first introduce a few _helper functions_ before we can get to the actual mining.  `metavars()` extracts the set of meta-variables (`X`, `Y`, `Z`, etc.) from a property.  To this end, we parse the property as a Python expression and then visit the identifiers."
   ]
  },
  {
   "cell_type": "code",
   "execution_count": 114,
   "metadata": {
    "execution": {
     "iopub.execute_input": "2023-11-12T12:47:46.632811Z",
     "iopub.status.busy": "2023-11-12T12:47:46.632701Z",
     "iopub.status.idle": "2023-11-12T12:47:46.634748Z",
     "shell.execute_reply": "2023-11-12T12:47:46.634505Z"
    },
    "slideshow": {
     "slide_type": "subslide"
    }
   },
   "outputs": [],
   "source": [
    "def metavars(prop):\n",
    "    metavar_list = []\n",
    "    \n",
    "    class ArgVisitor(ast.NodeVisitor):\n",
    "        def visit_Name(self, node):\n",
    "            if node.id.isupper():\n",
    "                metavar_list.append(node.id)\n",
    "\n",
    "    ArgVisitor().visit(ast.parse(prop))\n",
    "    return metavar_list"
   ]
  },
  {
   "cell_type": "code",
   "execution_count": 115,
   "metadata": {
    "execution": {
     "iopub.execute_input": "2023-11-12T12:47:46.636201Z",
     "iopub.status.busy": "2023-11-12T12:47:46.636091Z",
     "iopub.status.idle": "2023-11-12T12:47:46.637683Z",
     "shell.execute_reply": "2023-11-12T12:47:46.637431Z"
    },
    "slideshow": {
     "slide_type": "fragment"
    }
   },
   "outputs": [],
   "source": [
    "assert metavars(\"X < 0\") == ['X']"
   ]
  },
  {
   "cell_type": "code",
   "execution_count": 116,
   "metadata": {
    "execution": {
     "iopub.execute_input": "2023-11-12T12:47:46.639157Z",
     "iopub.status.busy": "2023-11-12T12:47:46.639076Z",
     "iopub.status.idle": "2023-11-12T12:47:46.640753Z",
     "shell.execute_reply": "2023-11-12T12:47:46.640495Z"
    },
    "slideshow": {
     "slide_type": "fragment"
    }
   },
   "outputs": [],
   "source": [
    "assert metavars(\"X.startswith(Y)\") == ['X', 'Y']"
   ]
  },
  {
   "cell_type": "code",
   "execution_count": 117,
   "metadata": {
    "execution": {
     "iopub.execute_input": "2023-11-12T12:47:46.642257Z",
     "iopub.status.busy": "2023-11-12T12:47:46.642157Z",
     "iopub.status.idle": "2023-11-12T12:47:46.643735Z",
     "shell.execute_reply": "2023-11-12T12:47:46.643487Z"
    },
    "slideshow": {
     "slide_type": "fragment"
    }
   },
   "outputs": [],
   "source": [
    "assert metavars(\"isinstance(X, str)\") == ['X']"
   ]
  },
  {
   "cell_type": "markdown",
   "metadata": {
    "slideshow": {
     "slide_type": "subslide"
    }
   },
   "source": [
    "### Instantiating Properties\n",
    "\n",
    "To produce a property as invariant, we need to be able to _instantiate_ it with variable names.  The instantiation of `X > 0` with `X` being instantiated to `a`, for instance, gets us `a > 0`.  To this end, the function `instantiate_prop()` takes a property and a collection of variable names and instantiates the meta-variables left-to-right with the corresponding variables names in the collection."
   ]
  },
  {
   "cell_type": "code",
   "execution_count": 118,
   "metadata": {
    "execution": {
     "iopub.execute_input": "2023-11-12T12:47:46.645157Z",
     "iopub.status.busy": "2023-11-12T12:47:46.645069Z",
     "iopub.status.idle": "2023-11-12T12:47:46.647692Z",
     "shell.execute_reply": "2023-11-12T12:47:46.647463Z"
    },
    "slideshow": {
     "slide_type": "subslide"
    }
   },
   "outputs": [],
   "source": [
    "def instantiate_prop_ast(prop, var_names):\n",
    "    class NameTransformer(ast.NodeTransformer):\n",
    "        def visit_Name(self, node):\n",
    "            if node.id not in mapping:\n",
    "                return node\n",
    "            return ast.Name(id=mapping[node.id], ctx=ast.Load())\n",
    "\n",
    "    meta_variables = metavars(prop)\n",
    "    assert len(meta_variables) == len(var_names)\n",
    "\n",
    "    mapping = {}\n",
    "    for i in range(0, len(meta_variables)):\n",
    "        mapping[meta_variables[i]] = var_names[i]\n",
    "\n",
    "    prop_ast = ast.parse(prop, mode='eval')\n",
    "    new_ast = NameTransformer().visit(prop_ast)\n",
    "\n",
    "    return new_ast"
   ]
  },
  {
   "cell_type": "code",
   "execution_count": 119,
   "metadata": {
    "execution": {
     "iopub.execute_input": "2023-11-12T12:47:46.649218Z",
     "iopub.status.busy": "2023-11-12T12:47:46.649135Z",
     "iopub.status.idle": "2023-11-12T12:47:46.651161Z",
     "shell.execute_reply": "2023-11-12T12:47:46.650914Z"
    },
    "slideshow": {
     "slide_type": "subslide"
    }
   },
   "outputs": [],
   "source": [
    "def instantiate_prop(prop, var_names):\n",
    "    prop_ast = instantiate_prop_ast(prop, var_names)\n",
    "    prop_text = ast.unparse(prop_ast).strip()\n",
    "    while prop_text.startswith('(') and prop_text.endswith(')'):\n",
    "        prop_text = prop_text[1:-1]\n",
    "    return prop_text"
   ]
  },
  {
   "cell_type": "code",
   "execution_count": 120,
   "metadata": {
    "execution": {
     "iopub.execute_input": "2023-11-12T12:47:46.652747Z",
     "iopub.status.busy": "2023-11-12T12:47:46.652663Z",
     "iopub.status.idle": "2023-11-12T12:47:46.654466Z",
     "shell.execute_reply": "2023-11-12T12:47:46.654228Z"
    },
    "slideshow": {
     "slide_type": "fragment"
    }
   },
   "outputs": [],
   "source": [
    "assert instantiate_prop(\"X > Y\", ['a', 'b']) == 'a > b'"
   ]
  },
  {
   "cell_type": "code",
   "execution_count": 121,
   "metadata": {
    "execution": {
     "iopub.execute_input": "2023-11-12T12:47:46.656149Z",
     "iopub.status.busy": "2023-11-12T12:47:46.656055Z",
     "iopub.status.idle": "2023-11-12T12:47:46.657740Z",
     "shell.execute_reply": "2023-11-12T12:47:46.657472Z"
    },
    "slideshow": {
     "slide_type": "fragment"
    }
   },
   "outputs": [],
   "source": [
    "assert instantiate_prop(\"X.startswith(Y)\", ['x', 'y']) == 'x.startswith(y)'"
   ]
  },
  {
   "cell_type": "markdown",
   "metadata": {
    "slideshow": {
     "slide_type": "subslide"
    }
   },
   "source": [
    "### Evaluating Properties\n",
    "\n",
    "To actually _evaluate_ properties, we do not need to instantiate them.  Instead, we simply convert them into a boolean function, using `lambda`:"
   ]
  },
  {
   "cell_type": "code",
   "execution_count": 122,
   "metadata": {
    "execution": {
     "iopub.execute_input": "2023-11-12T12:47:46.659168Z",
     "iopub.status.busy": "2023-11-12T12:47:46.659089Z",
     "iopub.status.idle": "2023-11-12T12:47:46.661042Z",
     "shell.execute_reply": "2023-11-12T12:47:46.660791Z"
    },
    "slideshow": {
     "slide_type": "fragment"
    }
   },
   "outputs": [],
   "source": [
    "def prop_function_text(prop):\n",
    "    return \"lambda \" + \", \".join(metavars(prop)) + \": \" + prop\n",
    "\n",
    "def prop_function(prop):\n",
    "    return eval(prop_function_text(prop))"
   ]
  },
  {
   "cell_type": "markdown",
   "metadata": {
    "slideshow": {
     "slide_type": "fragment"
    }
   },
   "source": [
    "Here is a simple example:"
   ]
  },
  {
   "cell_type": "code",
   "execution_count": 123,
   "metadata": {
    "execution": {
     "iopub.execute_input": "2023-11-12T12:47:46.662835Z",
     "iopub.status.busy": "2023-11-12T12:47:46.662730Z",
     "iopub.status.idle": "2023-11-12T12:47:46.664623Z",
     "shell.execute_reply": "2023-11-12T12:47:46.664386Z"
    },
    "slideshow": {
     "slide_type": "fragment"
    }
   },
   "outputs": [
    {
     "data": {
      "text/plain": [
       "'lambda X, Y: X > Y'"
      ]
     },
     "execution_count": 123,
     "metadata": {},
     "output_type": "execute_result"
    }
   ],
   "source": [
    "prop_function_text(\"X > Y\")"
   ]
  },
  {
   "cell_type": "code",
   "execution_count": 124,
   "metadata": {
    "execution": {
     "iopub.execute_input": "2023-11-12T12:47:46.666079Z",
     "iopub.status.busy": "2023-11-12T12:47:46.665962Z",
     "iopub.status.idle": "2023-11-12T12:47:46.668027Z",
     "shell.execute_reply": "2023-11-12T12:47:46.667783Z"
    },
    "slideshow": {
     "slide_type": "subslide"
    }
   },
   "outputs": [
    {
     "data": {
      "text/plain": [
       "True"
      ]
     },
     "execution_count": 124,
     "metadata": {},
     "output_type": "execute_result"
    }
   ],
   "source": [
    "p = prop_function(\"X > Y\")\n",
    "p(100, 1)"
   ]
  },
  {
   "cell_type": "code",
   "execution_count": 125,
   "metadata": {
    "execution": {
     "iopub.execute_input": "2023-11-12T12:47:46.669468Z",
     "iopub.status.busy": "2023-11-12T12:47:46.669370Z",
     "iopub.status.idle": "2023-11-12T12:47:46.671415Z",
     "shell.execute_reply": "2023-11-12T12:47:46.671157Z"
    },
    "slideshow": {
     "slide_type": "fragment"
    }
   },
   "outputs": [
    {
     "data": {
      "text/plain": [
       "False"
      ]
     },
     "execution_count": 125,
     "metadata": {},
     "output_type": "execute_result"
    }
   ],
   "source": [
    "p(1, 100)"
   ]
  },
  {
   "cell_type": "markdown",
   "metadata": {
    "slideshow": {
     "slide_type": "subslide"
    }
   },
   "source": [
    "### Checking Invariants\n",
    "\n",
    "To extract invariants from an execution, we need to check them on all possible instantiations of arguments.  If the function to be checked has two arguments `a` and `b`, we instantiate the property `X < Y` both as `a < b` and `b < a` and check each of them."
   ]
  },
  {
   "cell_type": "markdown",
   "metadata": {
    "slideshow": {
     "slide_type": "fragment"
    }
   },
   "source": [
    "To get all combinations, we use the Python `permutations()` function:"
   ]
  },
  {
   "cell_type": "code",
   "execution_count": 126,
   "metadata": {
    "execution": {
     "iopub.execute_input": "2023-11-12T12:47:46.672983Z",
     "iopub.status.busy": "2023-11-12T12:47:46.672868Z",
     "iopub.status.idle": "2023-11-12T12:47:46.674441Z",
     "shell.execute_reply": "2023-11-12T12:47:46.674204Z"
    },
    "slideshow": {
     "slide_type": "skip"
    }
   },
   "outputs": [],
   "source": [
    "import itertools"
   ]
  },
  {
   "cell_type": "code",
   "execution_count": 127,
   "metadata": {
    "execution": {
     "iopub.execute_input": "2023-11-12T12:47:46.675855Z",
     "iopub.status.busy": "2023-11-12T12:47:46.675768Z",
     "iopub.status.idle": "2023-11-12T12:47:46.677753Z",
     "shell.execute_reply": "2023-11-12T12:47:46.677513Z"
    },
    "slideshow": {
     "slide_type": "subslide"
    }
   },
   "outputs": [
    {
     "name": "stdout",
     "output_type": "stream",
     "text": [
      "(1.0, 2.0)\n",
      "(1.0, 3.0)\n",
      "(2.0, 1.0)\n",
      "(2.0, 3.0)\n",
      "(3.0, 1.0)\n",
      "(3.0, 2.0)\n"
     ]
    }
   ],
   "source": [
    "for combination in itertools.permutations([1.0, 2.0, 3.0], 2):\n",
    "    print(combination)"
   ]
  },
  {
   "cell_type": "markdown",
   "metadata": {
    "slideshow": {
     "slide_type": "fragment"
    }
   },
   "source": [
    "The function `true_property_instantiations()` takes a property and a list of tuples (`var_name`, `value`).  It then produces all instantiations of the property with the given values and returns those that evaluate to True."
   ]
  },
  {
   "cell_type": "code",
   "execution_count": 128,
   "metadata": {
    "execution": {
     "iopub.execute_input": "2023-11-12T12:47:46.679325Z",
     "iopub.status.busy": "2023-11-12T12:47:46.679224Z",
     "iopub.status.idle": "2023-11-12T12:47:46.681757Z",
     "shell.execute_reply": "2023-11-12T12:47:46.681525Z"
    },
    "slideshow": {
     "slide_type": "subslide"
    }
   },
   "outputs": [],
   "source": [
    "def true_property_instantiations(prop, vars_and_values, log=False):\n",
    "    instantiations = set()\n",
    "    p = prop_function(prop)\n",
    "\n",
    "    len_metavars = len(metavars(prop))\n",
    "    for combination in itertools.permutations(vars_and_values, len_metavars):\n",
    "        args = [value for var_name, value in combination]\n",
    "        var_names = [var_name for var_name, value in combination]\n",
    "\n",
    "        try:\n",
    "            result = p(*args)\n",
    "        except:\n",
    "            result = None\n",
    "\n",
    "        if log:\n",
    "            print(prop, combination, result)\n",
    "        if result:\n",
    "            instantiations.add((prop, tuple(var_names)))\n",
    "\n",
    "    return instantiations"
   ]
  },
  {
   "attachments": {},
   "cell_type": "markdown",
   "metadata": {
    "slideshow": {
     "slide_type": "subslide"
    }
   },
   "source": [
    "Here is an example.  If `x == -1` and `y == 1`, the property `X < Y` holds for `x < y`, but not for `y < x`:"
   ]
  },
  {
   "cell_type": "code",
   "execution_count": 129,
   "metadata": {
    "execution": {
     "iopub.execute_input": "2023-11-12T12:47:46.683275Z",
     "iopub.status.busy": "2023-11-12T12:47:46.683162Z",
     "iopub.status.idle": "2023-11-12T12:47:46.685497Z",
     "shell.execute_reply": "2023-11-12T12:47:46.685257Z"
    },
    "slideshow": {
     "slide_type": "fragment"
    }
   },
   "outputs": [
    {
     "name": "stdout",
     "output_type": "stream",
     "text": [
      "X < Y (('x', -1), ('y', 1)) True\n",
      "X < Y (('y', 1), ('x', -1)) False\n"
     ]
    },
    {
     "data": {
      "text/plain": [
       "{('X < Y', ('x', 'y'))}"
      ]
     },
     "execution_count": 129,
     "metadata": {},
     "output_type": "execute_result"
    }
   ],
   "source": [
    "invs = true_property_instantiations(\"X < Y\", [('x', -1), ('y', 1)], log=True)\n",
    "invs"
   ]
  },
  {
   "cell_type": "markdown",
   "metadata": {
    "slideshow": {
     "slide_type": "fragment"
    }
   },
   "source": [
    "The instantiation retrieves the short form:"
   ]
  },
  {
   "cell_type": "code",
   "execution_count": 130,
   "metadata": {
    "execution": {
     "iopub.execute_input": "2023-11-12T12:47:46.687028Z",
     "iopub.status.busy": "2023-11-12T12:47:46.686929Z",
     "iopub.status.idle": "2023-11-12T12:47:46.688714Z",
     "shell.execute_reply": "2023-11-12T12:47:46.688482Z"
    },
    "slideshow": {
     "slide_type": "fragment"
    }
   },
   "outputs": [
    {
     "name": "stdout",
     "output_type": "stream",
     "text": [
      "x < y\n"
     ]
    }
   ],
   "source": [
    "for prop, var_names in invs:\n",
    "    print(instantiate_prop(prop, var_names))"
   ]
  },
  {
   "cell_type": "markdown",
   "metadata": {
    "slideshow": {
     "slide_type": "fragment"
    }
   },
   "source": [
    "Likewise, with values for `x` and `y` as above, the property `X < 0` only holds for `x`, but not for `y`:"
   ]
  },
  {
   "cell_type": "code",
   "execution_count": 131,
   "metadata": {
    "execution": {
     "iopub.execute_input": "2023-11-12T12:47:46.690416Z",
     "iopub.status.busy": "2023-11-12T12:47:46.690296Z",
     "iopub.status.idle": "2023-11-12T12:47:46.692184Z",
     "shell.execute_reply": "2023-11-12T12:47:46.691943Z"
    },
    "slideshow": {
     "slide_type": "subslide"
    }
   },
   "outputs": [
    {
     "name": "stdout",
     "output_type": "stream",
     "text": [
      "X < 0 (('x', -1),) True\n",
      "X < 0 (('y', 1),) False\n"
     ]
    }
   ],
   "source": [
    "invs = true_property_instantiations(\"X < 0\", [('x', -1), ('y', 1)], log=True)"
   ]
  },
  {
   "cell_type": "code",
   "execution_count": 132,
   "metadata": {
    "execution": {
     "iopub.execute_input": "2023-11-12T12:47:46.693592Z",
     "iopub.status.busy": "2023-11-12T12:47:46.693492Z",
     "iopub.status.idle": "2023-11-12T12:47:46.695248Z",
     "shell.execute_reply": "2023-11-12T12:47:46.695015Z"
    },
    "slideshow": {
     "slide_type": "fragment"
    }
   },
   "outputs": [
    {
     "name": "stdout",
     "output_type": "stream",
     "text": [
      "x < 0\n"
     ]
    }
   ],
   "source": [
    "for prop, var_names in invs:\n",
    "    print(instantiate_prop(prop, var_names))"
   ]
  },
  {
   "cell_type": "markdown",
   "metadata": {
    "slideshow": {
     "slide_type": "subslide"
    }
   },
   "source": [
    "### Extracting Invariants\n",
    "\n",
    "Let us now run the above invariant extraction on function arguments and return values as observed during a function execution.  To this end, we extend the `CallTracker` class into an `InvariantTracker` class, which automatically computes invariants for all functions and all calls observed during tracking."
   ]
  },
  {
   "cell_type": "markdown",
   "metadata": {
    "slideshow": {
     "slide_type": "fragment"
    }
   },
   "source": [
    "By default, an `InvariantTracker` uses the properties as defined above; however, one can specify alternate sets of properties."
   ]
  },
  {
   "cell_type": "code",
   "execution_count": 133,
   "metadata": {
    "execution": {
     "iopub.execute_input": "2023-11-12T12:47:46.696887Z",
     "iopub.status.busy": "2023-11-12T12:47:46.696778Z",
     "iopub.status.idle": "2023-11-12T12:47:46.698657Z",
     "shell.execute_reply": "2023-11-12T12:47:46.698421Z"
    },
    "slideshow": {
     "slide_type": "subslide"
    }
   },
   "outputs": [],
   "source": [
    "class InvariantTracker(CallTracker):\n",
    "    def __init__(self, props=None, **kwargs):\n",
    "        if props is None:\n",
    "            props = INVARIANT_PROPERTIES\n",
    "\n",
    "        self.props = props\n",
    "        super().__init__(**kwargs)"
   ]
  },
  {
   "cell_type": "markdown",
   "metadata": {
    "slideshow": {
     "slide_type": "fragment"
    }
   },
   "source": [
    "The key method of the `InvariantTracker` is the `invariants()` method.  This iterates over the calls observed and checks which properties hold.  Only the intersection of properties – that is, the set of properties that hold for all calls – is preserved, and eventually returned.  The special variable `return_value` is set to hold the return value."
   ]
  },
  {
   "cell_type": "code",
   "execution_count": 134,
   "metadata": {
    "execution": {
     "iopub.execute_input": "2023-11-12T12:47:46.700177Z",
     "iopub.status.busy": "2023-11-12T12:47:46.700077Z",
     "iopub.status.idle": "2023-11-12T12:47:46.701623Z",
     "shell.execute_reply": "2023-11-12T12:47:46.701379Z"
    },
    "slideshow": {
     "slide_type": "fragment"
    }
   },
   "outputs": [],
   "source": [
    "RETURN_VALUE = 'return_value'"
   ]
  },
  {
   "cell_type": "code",
   "execution_count": 135,
   "metadata": {
    "execution": {
     "iopub.execute_input": "2023-11-12T12:47:46.703131Z",
     "iopub.status.busy": "2023-11-12T12:47:46.703048Z",
     "iopub.status.idle": "2023-11-12T12:47:46.705679Z",
     "shell.execute_reply": "2023-11-12T12:47:46.705309Z"
    },
    "slideshow": {
     "slide_type": "subslide"
    }
   },
   "outputs": [],
   "source": [
    "class InvariantTracker(InvariantTracker):\n",
    "    def invariants(self, function_name=None):\n",
    "        if function_name is None:\n",
    "            return {function_name: self.invariants(function_name) for function_name in self.calls()}\n",
    "\n",
    "        invariants = None\n",
    "        for variables, return_value in self.calls(function_name):\n",
    "            vars_and_values = variables + [(RETURN_VALUE, return_value)]\n",
    "\n",
    "            s = set()\n",
    "            for prop in self.props:\n",
    "                s |= true_property_instantiations(prop, vars_and_values, self._log)\n",
    "            if invariants is None:\n",
    "                invariants = s\n",
    "            else:\n",
    "                invariants &= s\n",
    "\n",
    "        return invariants"
   ]
  },
  {
   "cell_type": "markdown",
   "metadata": {
    "slideshow": {
     "slide_type": "subslide"
    }
   },
   "source": [
    "Here's an example of how to use `invariants()`.  We run the tracker on a small set of calls."
   ]
  },
  {
   "cell_type": "code",
   "execution_count": 136,
   "metadata": {
    "execution": {
     "iopub.execute_input": "2023-11-12T12:47:46.707385Z",
     "iopub.status.busy": "2023-11-12T12:47:46.707256Z",
     "iopub.status.idle": "2023-11-12T12:47:46.709784Z",
     "shell.execute_reply": "2023-11-12T12:47:46.709432Z"
    },
    "slideshow": {
     "slide_type": "fragment"
    }
   },
   "outputs": [
    {
     "data": {
      "text/plain": [
       "{'my_sqrt': [([('x', 25.0)], 5.0), ([('x', 10.0)], 3.162277660168379)]}"
      ]
     },
     "execution_count": 136,
     "metadata": {},
     "output_type": "execute_result"
    }
   ],
   "source": [
    "with InvariantTracker() as tracker:\n",
    "    y = my_sqrt(25.0)\n",
    "    y = my_sqrt(10.0)\n",
    "\n",
    "tracker.calls()"
   ]
  },
  {
   "cell_type": "markdown",
   "metadata": {
    "slideshow": {
     "slide_type": "fragment"
    }
   },
   "source": [
    "The `invariants()` method produces a set of properties that hold for the observed runs, together with their instantiations over function arguments."
   ]
  },
  {
   "cell_type": "code",
   "execution_count": 137,
   "metadata": {
    "execution": {
     "iopub.execute_input": "2023-11-12T12:47:46.711368Z",
     "iopub.status.busy": "2023-11-12T12:47:46.711251Z",
     "iopub.status.idle": "2023-11-12T12:47:46.716684Z",
     "shell.execute_reply": "2023-11-12T12:47:46.716399Z"
    },
    "slideshow": {
     "slide_type": "subslide"
    }
   },
   "outputs": [
    {
     "data": {
      "text/plain": [
       "{('X != 0', ('return_value',)),\n",
       " ('X != 0', ('x',)),\n",
       " ('X < Y', ('return_value', 'x')),\n",
       " ('X <= Y', ('return_value', 'x')),\n",
       " ('X > 0', ('return_value',)),\n",
       " ('X > 0', ('x',)),\n",
       " ('X > Y', ('x', 'return_value')),\n",
       " ('X >= 0', ('return_value',)),\n",
       " ('X >= 0', ('x',)),\n",
       " ('X >= Y', ('x', 'return_value')),\n",
       " ('isinstance(X, float)', ('return_value',)),\n",
       " ('isinstance(X, float)', ('x',))}"
      ]
     },
     "execution_count": 137,
     "metadata": {},
     "output_type": "execute_result"
    }
   ],
   "source": [
    "invs = tracker.invariants('my_sqrt')\n",
    "invs"
   ]
  },
  {
   "cell_type": "markdown",
   "metadata": {
    "slideshow": {
     "slide_type": "subslide"
    }
   },
   "source": [
    "As before, the actual instantiations are easier to read:\n"
   ]
  },
  {
   "cell_type": "code",
   "execution_count": 138,
   "metadata": {
    "execution": {
     "iopub.execute_input": "2023-11-12T12:47:46.718132Z",
     "iopub.status.busy": "2023-11-12T12:47:46.718028Z",
     "iopub.status.idle": "2023-11-12T12:47:46.719896Z",
     "shell.execute_reply": "2023-11-12T12:47:46.719603Z"
    },
    "slideshow": {
     "slide_type": "fragment"
    }
   },
   "outputs": [],
   "source": [
    "def pretty_invariants(invariants):\n",
    "    props = []\n",
    "    for (prop, var_names) in invariants:\n",
    "        props.append(instantiate_prop(prop, var_names))\n",
    "    return sorted(props)"
   ]
  },
  {
   "cell_type": "code",
   "execution_count": 139,
   "metadata": {
    "execution": {
     "iopub.execute_input": "2023-11-12T12:47:46.721441Z",
     "iopub.status.busy": "2023-11-12T12:47:46.721286Z",
     "iopub.status.idle": "2023-11-12T12:47:46.724521Z",
     "shell.execute_reply": "2023-11-12T12:47:46.724168Z"
    },
    "slideshow": {
     "slide_type": "subslide"
    }
   },
   "outputs": [
    {
     "data": {
      "text/plain": [
       "['isinstance(return_value, float)',\n",
       " 'isinstance(x, float)',\n",
       " 'return_value != 0',\n",
       " 'return_value < x',\n",
       " 'return_value <= x',\n",
       " 'return_value > 0',\n",
       " 'return_value >= 0',\n",
       " 'x != 0',\n",
       " 'x > 0',\n",
       " 'x > return_value',\n",
       " 'x >= 0',\n",
       " 'x >= return_value']"
      ]
     },
     "execution_count": 139,
     "metadata": {},
     "output_type": "execute_result"
    }
   ],
   "source": [
    "pretty_invariants(invs)"
   ]
  },
  {
   "cell_type": "markdown",
   "metadata": {
    "slideshow": {
     "slide_type": "subslide"
    }
   },
   "source": [
    "We see that the both `x` and the return value have a `float` type.  We also see that both are always greater than zero.  These are properties that may make useful pre- and postconditions, notably for symbolic analysis."
   ]
  },
  {
   "cell_type": "markdown",
   "metadata": {
    "slideshow": {
     "slide_type": "fragment"
    }
   },
   "source": [
    "However, there's also an invariant which does _not_ universally hold, namely `return_value <= x`, as the following example shows:"
   ]
  },
  {
   "cell_type": "code",
   "execution_count": 140,
   "metadata": {
    "execution": {
     "iopub.execute_input": "2023-11-12T12:47:46.726027Z",
     "iopub.status.busy": "2023-11-12T12:47:46.725930Z",
     "iopub.status.idle": "2023-11-12T12:47:46.728169Z",
     "shell.execute_reply": "2023-11-12T12:47:46.727881Z"
    },
    "slideshow": {
     "slide_type": "fragment"
    }
   },
   "outputs": [
    {
     "data": {
      "text/plain": [
       "0.1"
      ]
     },
     "execution_count": 140,
     "metadata": {},
     "output_type": "execute_result"
    }
   ],
   "source": [
    "my_sqrt(0.01)"
   ]
  },
  {
   "cell_type": "markdown",
   "metadata": {
    "slideshow": {
     "slide_type": "fragment"
    }
   },
   "source": [
    "Clearly, 0.1 > 0.01 holds.  This is a case of us not learning from sufficiently diverse inputs.  As soon as we have a call including `x = 0.1`, though, the invariant `return_value <= x` is eliminated:"
   ]
  },
  {
   "cell_type": "code",
   "execution_count": 141,
   "metadata": {
    "execution": {
     "iopub.execute_input": "2023-11-12T12:47:46.730014Z",
     "iopub.status.busy": "2023-11-12T12:47:46.729912Z",
     "iopub.status.idle": "2023-11-12T12:47:46.737351Z",
     "shell.execute_reply": "2023-11-12T12:47:46.737029Z"
    },
    "slideshow": {
     "slide_type": "subslide"
    }
   },
   "outputs": [
    {
     "data": {
      "text/plain": [
       "['isinstance(return_value, float)',\n",
       " 'isinstance(x, float)',\n",
       " 'return_value != 0',\n",
       " 'return_value > 0',\n",
       " 'return_value >= 0',\n",
       " 'x != 0',\n",
       " 'x > 0',\n",
       " 'x >= 0']"
      ]
     },
     "execution_count": 141,
     "metadata": {},
     "output_type": "execute_result"
    }
   ],
   "source": [
    "with InvariantTracker() as tracker:\n",
    "    y = my_sqrt(25.0)\n",
    "    y = my_sqrt(10.0)\n",
    "    y = my_sqrt(0.01)\n",
    "    \n",
    "pretty_invariants(tracker.invariants('my_sqrt'))"
   ]
  },
  {
   "cell_type": "markdown",
   "metadata": {
    "slideshow": {
     "slide_type": "subslide"
    }
   },
   "source": [
    "We will discuss later how to ensure sufficient diversity in inputs.  (Hint: This involves test generation.)"
   ]
  },
  {
   "cell_type": "markdown",
   "metadata": {
    "slideshow": {
     "slide_type": "fragment"
    }
   },
   "source": [
    "Let us try out our invariant tracker on `sum3()`.  We see that all types are well-defined; the properties that all arguments are non-zero, however, is specific to the calls observed."
   ]
  },
  {
   "cell_type": "code",
   "execution_count": 142,
   "metadata": {
    "execution": {
     "iopub.execute_input": "2023-11-12T12:47:46.739115Z",
     "iopub.status.busy": "2023-11-12T12:47:46.738948Z",
     "iopub.status.idle": "2023-11-12T12:47:46.745020Z",
     "shell.execute_reply": "2023-11-12T12:47:46.744731Z"
    },
    "slideshow": {
     "slide_type": "subslide"
    }
   },
   "outputs": [
    {
     "data": {
      "text/plain": [
       "['a != 0',\n",
       " 'b != 0',\n",
       " 'c != 0',\n",
       " 'isinstance(a, int)',\n",
       " 'isinstance(b, int)',\n",
       " 'isinstance(c, int)',\n",
       " 'isinstance(return_value, int)',\n",
       " 'return_value != 0']"
      ]
     },
     "execution_count": 142,
     "metadata": {},
     "output_type": "execute_result"
    }
   ],
   "source": [
    "with InvariantTracker() as tracker:\n",
    "    y = sum3(1, 2, 3)\n",
    "    y = sum3(-4, -5, -6)\n",
    "    \n",
    "pretty_invariants(tracker.invariants('sum3'))"
   ]
  },
  {
   "cell_type": "markdown",
   "metadata": {
    "slideshow": {
     "slide_type": "subslide"
    }
   },
   "source": [
    "If we invoke `sum3()` with strings instead, we get different invariants.  Notably, we obtain the postcondition that the return value starts with the value of `a` – a universal postcondition if strings are used."
   ]
  },
  {
   "cell_type": "code",
   "execution_count": 143,
   "metadata": {
    "execution": {
     "iopub.execute_input": "2023-11-12T12:47:46.746786Z",
     "iopub.status.busy": "2023-11-12T12:47:46.746674Z",
     "iopub.status.idle": "2023-11-12T12:47:46.752584Z",
     "shell.execute_reply": "2023-11-12T12:47:46.752297Z"
    },
    "slideshow": {
     "slide_type": "subslide"
    }
   },
   "outputs": [
    {
     "data": {
      "text/plain": [
       "['a != 0',\n",
       " 'a < return_value',\n",
       " 'a <= return_value',\n",
       " 'b != 0',\n",
       " 'c != 0',\n",
       " 'return_value != 0',\n",
       " 'return_value > a',\n",
       " 'return_value >= a',\n",
       " 'return_value.startswith(a)']"
      ]
     },
     "execution_count": 143,
     "metadata": {},
     "output_type": "execute_result"
    }
   ],
   "source": [
    "with InvariantTracker() as tracker:\n",
    "    y = sum3('a', 'b', 'c')\n",
    "    y = sum3('f', 'e', 'd')\n",
    "    \n",
    "pretty_invariants(tracker.invariants('sum3'))"
   ]
  },
  {
   "cell_type": "markdown",
   "metadata": {
    "slideshow": {
     "slide_type": "subslide"
    }
   },
   "source": [
    "If we invoke `sum3()` with both strings and numbers (and zeros, too), there are no properties left that would hold across all calls.  That's the price of flexibility."
   ]
  },
  {
   "cell_type": "code",
   "execution_count": 144,
   "metadata": {
    "execution": {
     "iopub.execute_input": "2023-11-12T12:47:46.754135Z",
     "iopub.status.busy": "2023-11-12T12:47:46.754007Z",
     "iopub.status.idle": "2023-11-12T12:47:46.762491Z",
     "shell.execute_reply": "2023-11-12T12:47:46.762060Z"
    },
    "slideshow": {
     "slide_type": "fragment"
    }
   },
   "outputs": [
    {
     "data": {
      "text/plain": [
       "[]"
      ]
     },
     "execution_count": 144,
     "metadata": {},
     "output_type": "execute_result"
    }
   ],
   "source": [
    "with InvariantTracker() as tracker:\n",
    "    y = sum3('a', 'b', 'c')\n",
    "    y = sum3('c', 'b', 'a')\n",
    "    y = sum3(-4, -5, -6)\n",
    "    y = sum3(0, 0, 0)\n",
    "    \n",
    "pretty_invariants(tracker.invariants('sum3'))"
   ]
  },
  {
   "cell_type": "markdown",
   "metadata": {
    "slideshow": {
     "slide_type": "subslide"
    },
    "toc-hr-collapsed": true
   },
   "source": [
    "### Converting Mined Invariants to Annotations\n",
    "\n",
    "As with types, above, we would like to have some functionality where we can add the mined invariants as annotations to existing functions.  To this end, we introduce the `InvariantAnnotator` class, extending `InvariantTracker`."
   ]
  },
  {
   "cell_type": "markdown",
   "metadata": {
    "slideshow": {
     "slide_type": "fragment"
    }
   },
   "source": [
    "We start with a helper method.  `params()` returns a comma-separated list of parameter names as observed during calls."
   ]
  },
  {
   "cell_type": "code",
   "execution_count": 145,
   "metadata": {
    "execution": {
     "iopub.execute_input": "2023-11-12T12:47:46.764296Z",
     "iopub.status.busy": "2023-11-12T12:47:46.764181Z",
     "iopub.status.idle": "2023-11-12T12:47:46.766171Z",
     "shell.execute_reply": "2023-11-12T12:47:46.765909Z"
    },
    "slideshow": {
     "slide_type": "fragment"
    }
   },
   "outputs": [],
   "source": [
    "class InvariantAnnotator(InvariantTracker):\n",
    "    def params(self, function_name):\n",
    "        arguments, return_value = self.calls(function_name)[0]\n",
    "        return \", \".join(arg_name for (arg_name, arg_value) in arguments)"
   ]
  },
  {
   "cell_type": "code",
   "execution_count": 146,
   "metadata": {
    "execution": {
     "iopub.execute_input": "2023-11-12T12:47:46.767550Z",
     "iopub.status.busy": "2023-11-12T12:47:46.767444Z",
     "iopub.status.idle": "2023-11-12T12:47:46.769100Z",
     "shell.execute_reply": "2023-11-12T12:47:46.768876Z"
    },
    "slideshow": {
     "slide_type": "fragment"
    }
   },
   "outputs": [],
   "source": [
    "with InvariantAnnotator() as annotator:\n",
    "    y = my_sqrt(25.0)\n",
    "    y = sum3(1, 2, 3)"
   ]
  },
  {
   "cell_type": "code",
   "execution_count": 147,
   "metadata": {
    "execution": {
     "iopub.execute_input": "2023-11-12T12:47:46.770472Z",
     "iopub.status.busy": "2023-11-12T12:47:46.770362Z",
     "iopub.status.idle": "2023-11-12T12:47:46.772667Z",
     "shell.execute_reply": "2023-11-12T12:47:46.772410Z"
    },
    "slideshow": {
     "slide_type": "subslide"
    }
   },
   "outputs": [
    {
     "data": {
      "text/plain": [
       "'x'"
      ]
     },
     "execution_count": 147,
     "metadata": {},
     "output_type": "execute_result"
    }
   ],
   "source": [
    "annotator.params('my_sqrt')"
   ]
  },
  {
   "cell_type": "code",
   "execution_count": 148,
   "metadata": {
    "execution": {
     "iopub.execute_input": "2023-11-12T12:47:46.774131Z",
     "iopub.status.busy": "2023-11-12T12:47:46.774029Z",
     "iopub.status.idle": "2023-11-12T12:47:46.776157Z",
     "shell.execute_reply": "2023-11-12T12:47:46.775862Z"
    },
    "slideshow": {
     "slide_type": "fragment"
    }
   },
   "outputs": [
    {
     "data": {
      "text/plain": [
       "'c, b, a'"
      ]
     },
     "execution_count": 148,
     "metadata": {},
     "output_type": "execute_result"
    }
   ],
   "source": [
    "annotator.params('sum3')"
   ]
  },
  {
   "cell_type": "markdown",
   "metadata": {
    "slideshow": {
     "slide_type": "fragment"
    }
   },
   "source": [
    "Now for the actual annotation.  `preconditions()` returns the preconditions from the mined invariants (i.e., those propertes that do not depend on the return value) as a string with annotations:"
   ]
  },
  {
   "cell_type": "code",
   "execution_count": 149,
   "metadata": {
    "execution": {
     "iopub.execute_input": "2023-11-12T12:47:46.777665Z",
     "iopub.status.busy": "2023-11-12T12:47:46.777557Z",
     "iopub.status.idle": "2023-11-12T12:47:46.779771Z",
     "shell.execute_reply": "2023-11-12T12:47:46.779484Z"
    },
    "slideshow": {
     "slide_type": "subslide"
    }
   },
   "outputs": [],
   "source": [
    "class InvariantAnnotator(InvariantAnnotator):\n",
    "    def preconditions(self, function_name):\n",
    "        conditions = []\n",
    "\n",
    "        for inv in pretty_invariants(self.invariants(function_name)):\n",
    "            if inv.find(RETURN_VALUE) >= 0:\n",
    "                continue  # Postcondition\n",
    "\n",
    "            cond = \"@precondition(lambda \" + self.params(function_name) + \": \" + inv + \")\"\n",
    "            conditions.append(cond)\n",
    "\n",
    "        return conditions"
   ]
  },
  {
   "cell_type": "code",
   "execution_count": 150,
   "metadata": {
    "execution": {
     "iopub.execute_input": "2023-11-12T12:47:46.781100Z",
     "iopub.status.busy": "2023-11-12T12:47:46.780997Z",
     "iopub.status.idle": "2023-11-12T12:47:46.782750Z",
     "shell.execute_reply": "2023-11-12T12:47:46.782477Z"
    },
    "slideshow": {
     "slide_type": "subslide"
    }
   },
   "outputs": [],
   "source": [
    "with InvariantAnnotator() as annotator:\n",
    "    y = my_sqrt(25.0)\n",
    "    y = my_sqrt(0.01)\n",
    "    y = sum3(1, 2, 3)"
   ]
  },
  {
   "cell_type": "code",
   "execution_count": 151,
   "metadata": {
    "execution": {
     "iopub.execute_input": "2023-11-12T12:47:46.784145Z",
     "iopub.status.busy": "2023-11-12T12:47:46.784044Z",
     "iopub.status.idle": "2023-11-12T12:47:46.789008Z",
     "shell.execute_reply": "2023-11-12T12:47:46.788748Z"
    },
    "slideshow": {
     "slide_type": "fragment"
    }
   },
   "outputs": [
    {
     "data": {
      "text/plain": [
       "['@precondition(lambda x: isinstance(x, float))',\n",
       " '@precondition(lambda x: x != 0)',\n",
       " '@precondition(lambda x: x > 0)',\n",
       " '@precondition(lambda x: x >= 0)']"
      ]
     },
     "execution_count": 151,
     "metadata": {},
     "output_type": "execute_result"
    }
   ],
   "source": [
    "annotator.preconditions('my_sqrt')"
   ]
  },
  {
   "cell_type": "markdown",
   "metadata": {
    "slideshow": {
     "slide_type": "fragment"
    }
   },
   "source": [
    "`postconditions()` does the same for postconditions:"
   ]
  },
  {
   "cell_type": "code",
   "execution_count": 152,
   "metadata": {
    "execution": {
     "iopub.execute_input": "2023-11-12T12:47:46.790532Z",
     "iopub.status.busy": "2023-11-12T12:47:46.790416Z",
     "iopub.status.idle": "2023-11-12T12:47:46.792708Z",
     "shell.execute_reply": "2023-11-12T12:47:46.792438Z"
    },
    "slideshow": {
     "slide_type": "subslide"
    }
   },
   "outputs": [],
   "source": [
    "class InvariantAnnotator(InvariantAnnotator):\n",
    "    def postconditions(self, function_name):\n",
    "        conditions = []\n",
    "\n",
    "        for inv in pretty_invariants(self.invariants(function_name)):\n",
    "            if inv.find(RETURN_VALUE) < 0:\n",
    "                continue  # Precondition\n",
    "\n",
    "            cond = (\"@postcondition(lambda \" + \n",
    "                RETURN_VALUE + \", \" + self.params(function_name) + \": \" + inv + \")\")\n",
    "            conditions.append(cond)\n",
    "\n",
    "        return conditions"
   ]
  },
  {
   "cell_type": "code",
   "execution_count": 153,
   "metadata": {
    "execution": {
     "iopub.execute_input": "2023-11-12T12:47:46.794117Z",
     "iopub.status.busy": "2023-11-12T12:47:46.794001Z",
     "iopub.status.idle": "2023-11-12T12:47:46.795858Z",
     "shell.execute_reply": "2023-11-12T12:47:46.795590Z"
    },
    "slideshow": {
     "slide_type": "subslide"
    }
   },
   "outputs": [],
   "source": [
    "with InvariantAnnotator() as annotator:\n",
    "    y = my_sqrt(25.0)\n",
    "    y = my_sqrt(0.01)\n",
    "    y = sum3(1, 2, 3)"
   ]
  },
  {
   "cell_type": "code",
   "execution_count": 154,
   "metadata": {
    "execution": {
     "iopub.execute_input": "2023-11-12T12:47:46.797354Z",
     "iopub.status.busy": "2023-11-12T12:47:46.797246Z",
     "iopub.status.idle": "2023-11-12T12:47:46.802231Z",
     "shell.execute_reply": "2023-11-12T12:47:46.801912Z"
    },
    "slideshow": {
     "slide_type": "fragment"
    }
   },
   "outputs": [
    {
     "data": {
      "text/plain": [
       "['@postcondition(lambda return_value, x: isinstance(return_value, float))',\n",
       " '@postcondition(lambda return_value, x: return_value != 0)',\n",
       " '@postcondition(lambda return_value, x: return_value > 0)',\n",
       " '@postcondition(lambda return_value, x: return_value >= 0)']"
      ]
     },
     "execution_count": 154,
     "metadata": {},
     "output_type": "execute_result"
    }
   ],
   "source": [
    "annotator.postconditions('my_sqrt')"
   ]
  },
  {
   "cell_type": "markdown",
   "metadata": {
    "slideshow": {
     "slide_type": "fragment"
    }
   },
   "source": [
    "With these, we can take a function and add both pre- and postconditions as annotations:"
   ]
  },
  {
   "cell_type": "code",
   "execution_count": 155,
   "metadata": {
    "execution": {
     "iopub.execute_input": "2023-11-12T12:47:46.803671Z",
     "iopub.status.busy": "2023-11-12T12:47:46.803566Z",
     "iopub.status.idle": "2023-11-12T12:47:46.805924Z",
     "shell.execute_reply": "2023-11-12T12:47:46.805673Z"
    },
    "slideshow": {
     "slide_type": "subslide"
    }
   },
   "outputs": [],
   "source": [
    "class InvariantAnnotator(InvariantAnnotator):\n",
    "    def functions_with_invariants(self):\n",
    "        functions = \"\"\n",
    "        for function_name in self.invariants():\n",
    "            try:\n",
    "                function = self.function_with_invariants(function_name)\n",
    "            except KeyError:\n",
    "                continue\n",
    "            functions += function\n",
    "        return functions\n",
    "\n",
    "    def function_with_invariants(self, function_name):\n",
    "        function = globals()[function_name]  # Can throw KeyError\n",
    "        source = inspect.getsource(function)\n",
    "        return \"\\n\".join(self.preconditions(function_name) + \n",
    "                         self.postconditions(function_name)) + '\\n' + source"
   ]
  },
  {
   "cell_type": "markdown",
   "metadata": {
    "slideshow": {
     "slide_type": "subslide"
    }
   },
   "source": [
    "Here comes `function_with_invariants()` in all its glory:"
   ]
  },
  {
   "cell_type": "code",
   "execution_count": 156,
   "metadata": {
    "execution": {
     "iopub.execute_input": "2023-11-12T12:47:46.807378Z",
     "iopub.status.busy": "2023-11-12T12:47:46.807278Z",
     "iopub.status.idle": "2023-11-12T12:47:46.809084Z",
     "shell.execute_reply": "2023-11-12T12:47:46.808831Z"
    },
    "slideshow": {
     "slide_type": "fragment"
    }
   },
   "outputs": [],
   "source": [
    "with InvariantAnnotator() as annotator:\n",
    "    y = my_sqrt(25.0)\n",
    "    y = my_sqrt(0.01)\n",
    "    y = sum3(1, 2, 3)"
   ]
  },
  {
   "cell_type": "code",
   "execution_count": 157,
   "metadata": {
    "execution": {
     "iopub.execute_input": "2023-11-12T12:47:46.810649Z",
     "iopub.status.busy": "2023-11-12T12:47:46.810496Z",
     "iopub.status.idle": "2023-11-12T12:47:46.849231Z",
     "shell.execute_reply": "2023-11-12T12:47:46.848930Z"
    },
    "slideshow": {
     "slide_type": "subslide"
    }
   },
   "outputs": [
    {
     "name": "stdout",
     "output_type": "stream",
     "text": [
      "\u001b[90m@precondition\u001b[39;49;00m(\u001b[34mlambda\u001b[39;49;00m x: \u001b[36misinstance\u001b[39;49;00m(x, \u001b[36mfloat\u001b[39;49;00m))\u001b[37m\u001b[39;49;00m\n",
      "\u001b[90m@precondition\u001b[39;49;00m(\u001b[34mlambda\u001b[39;49;00m x: x != \u001b[34m0\u001b[39;49;00m)\u001b[37m\u001b[39;49;00m\n",
      "\u001b[90m@precondition\u001b[39;49;00m(\u001b[34mlambda\u001b[39;49;00m x: x > \u001b[34m0\u001b[39;49;00m)\u001b[37m\u001b[39;49;00m\n",
      "\u001b[90m@precondition\u001b[39;49;00m(\u001b[34mlambda\u001b[39;49;00m x: x >= \u001b[34m0\u001b[39;49;00m)\u001b[37m\u001b[39;49;00m\n",
      "\u001b[90m@postcondition\u001b[39;49;00m(\u001b[34mlambda\u001b[39;49;00m return_value, x: \u001b[36misinstance\u001b[39;49;00m(return_value, \u001b[36mfloat\u001b[39;49;00m))\u001b[37m\u001b[39;49;00m\n",
      "\u001b[90m@postcondition\u001b[39;49;00m(\u001b[34mlambda\u001b[39;49;00m return_value, x: return_value != \u001b[34m0\u001b[39;49;00m)\u001b[37m\u001b[39;49;00m\n",
      "\u001b[90m@postcondition\u001b[39;49;00m(\u001b[34mlambda\u001b[39;49;00m return_value, x: return_value > \u001b[34m0\u001b[39;49;00m)\u001b[37m\u001b[39;49;00m\n",
      "\u001b[90m@postcondition\u001b[39;49;00m(\u001b[34mlambda\u001b[39;49;00m return_value, x: return_value >= \u001b[34m0\u001b[39;49;00m)\u001b[37m\u001b[39;49;00m\n",
      "\u001b[34mdef\u001b[39;49;00m \u001b[32mmy_sqrt\u001b[39;49;00m(x):\u001b[37m\u001b[39;49;00m\n",
      "\u001b[37m    \u001b[39;49;00m\u001b[33m\"\"\"Computes the square root of x, using the Newton-Raphson method\"\"\"\u001b[39;49;00m\u001b[37m\u001b[39;49;00m\n",
      "    approx = \u001b[34mNone\u001b[39;49;00m\u001b[37m\u001b[39;49;00m\n",
      "    guess = x / \u001b[34m2\u001b[39;49;00m\u001b[37m\u001b[39;49;00m\n",
      "    \u001b[34mwhile\u001b[39;49;00m approx != guess:\u001b[37m\u001b[39;49;00m\n",
      "        approx = guess\u001b[37m\u001b[39;49;00m\n",
      "        guess = (approx + x / approx) / \u001b[34m2\u001b[39;49;00m\u001b[37m\u001b[39;49;00m\n",
      "    \u001b[34mreturn\u001b[39;49;00m approx\u001b[37m\u001b[39;49;00m"
     ]
    }
   ],
   "source": [
    "print_content(annotator.function_with_invariants('my_sqrt'), '.py')"
   ]
  },
  {
   "cell_type": "markdown",
   "metadata": {
    "slideshow": {
     "slide_type": "subslide"
    }
   },
   "source": [
    "Quite a lot of invariants, is it?  Further below (and in the exercises), we will discuss on how to focus on the most relevant properties."
   ]
  },
  {
   "cell_type": "markdown",
   "metadata": {
    "slideshow": {
     "slide_type": "subslide"
    }
   },
   "source": [
    "### Some Examples\n",
    "\n",
    "Here's another example.  `list_length()` recursively computes the length of a Python function.  Let us see whether we can mine its invariants:"
   ]
  },
  {
   "cell_type": "code",
   "execution_count": 158,
   "metadata": {
    "execution": {
     "iopub.execute_input": "2023-11-12T12:47:46.851034Z",
     "iopub.status.busy": "2023-11-12T12:47:46.850899Z",
     "iopub.status.idle": "2023-11-12T12:47:46.852894Z",
     "shell.execute_reply": "2023-11-12T12:47:46.852610Z"
    },
    "slideshow": {
     "slide_type": "fragment"
    }
   },
   "outputs": [],
   "source": [
    "def list_length(L):\n",
    "    if L == []:\n",
    "        length = 0\n",
    "    else:\n",
    "        length = 1 + list_length(L[1:])\n",
    "    return length"
   ]
  },
  {
   "cell_type": "code",
   "execution_count": 159,
   "metadata": {
    "execution": {
     "iopub.execute_input": "2023-11-12T12:47:46.854365Z",
     "iopub.status.busy": "2023-11-12T12:47:46.854253Z",
     "iopub.status.idle": "2023-11-12T12:47:46.900452Z",
     "shell.execute_reply": "2023-11-12T12:47:46.900154Z"
    },
    "slideshow": {
     "slide_type": "subslide"
    }
   },
   "outputs": [
    {
     "name": "stdout",
     "output_type": "stream",
     "text": [
      "\u001b[90m@precondition\u001b[39;49;00m(\u001b[34mlambda\u001b[39;49;00m L: L != \u001b[34m0\u001b[39;49;00m)\u001b[37m\u001b[39;49;00m\n",
      "\u001b[90m@precondition\u001b[39;49;00m(\u001b[34mlambda\u001b[39;49;00m L: \u001b[36misinstance\u001b[39;49;00m(L, \u001b[36mlist\u001b[39;49;00m))\u001b[37m\u001b[39;49;00m\n",
      "\u001b[90m@postcondition\u001b[39;49;00m(\u001b[34mlambda\u001b[39;49;00m return_value, L: \u001b[36misinstance\u001b[39;49;00m(return_value, \u001b[36mint\u001b[39;49;00m))\u001b[37m\u001b[39;49;00m\n",
      "\u001b[90m@postcondition\u001b[39;49;00m(\u001b[34mlambda\u001b[39;49;00m return_value, L: return_value == \u001b[36mlen\u001b[39;49;00m(L))\u001b[37m\u001b[39;49;00m\n",
      "\u001b[90m@postcondition\u001b[39;49;00m(\u001b[34mlambda\u001b[39;49;00m return_value, L: return_value >= \u001b[34m0\u001b[39;49;00m)\u001b[37m\u001b[39;49;00m\n",
      "\u001b[34mdef\u001b[39;49;00m \u001b[32mlist_length\u001b[39;49;00m(L):\u001b[37m\u001b[39;49;00m\n",
      "    \u001b[34mif\u001b[39;49;00m L == []:\u001b[37m\u001b[39;49;00m\n",
      "        length = \u001b[34m0\u001b[39;49;00m\u001b[37m\u001b[39;49;00m\n",
      "    \u001b[34melse\u001b[39;49;00m:\u001b[37m\u001b[39;49;00m\n",
      "        length = \u001b[34m1\u001b[39;49;00m + list_length(L[\u001b[34m1\u001b[39;49;00m:])\u001b[37m\u001b[39;49;00m\n",
      "    \u001b[34mreturn\u001b[39;49;00m length\u001b[37m\u001b[39;49;00m"
     ]
    }
   ],
   "source": [
    "with InvariantAnnotator() as annotator:\n",
    "    length = list_length([1, 2, 3])\n",
    "\n",
    "print_content(annotator.functions_with_invariants(), '.py')"
   ]
  },
  {
   "cell_type": "markdown",
   "metadata": {
    "slideshow": {
     "slide_type": "subslide"
    }
   },
   "source": [
    "Almost all these properties (except for the very first) are relevant.  Of course, the reason the invariants are so neat is that the return value is equal to `len(L)` is that `X == len(Y)` is part of the list of properties to be checked."
   ]
  },
  {
   "cell_type": "markdown",
   "metadata": {
    "slideshow": {
     "slide_type": "fragment"
    }
   },
   "source": [
    "The next example is a very simple function:"
   ]
  },
  {
   "cell_type": "code",
   "execution_count": 160,
   "metadata": {
    "execution": {
     "iopub.execute_input": "2023-11-12T12:47:46.902150Z",
     "iopub.status.busy": "2023-11-12T12:47:46.902000Z",
     "iopub.status.idle": "2023-11-12T12:47:46.903813Z",
     "shell.execute_reply": "2023-11-12T12:47:46.903487Z"
    },
    "slideshow": {
     "slide_type": "fragment"
    }
   },
   "outputs": [],
   "source": [
    "def sum2(a, b):\n",
    "    return a + b"
   ]
  },
  {
   "cell_type": "code",
   "execution_count": 161,
   "metadata": {
    "execution": {
     "iopub.execute_input": "2023-11-12T12:47:46.905318Z",
     "iopub.status.busy": "2023-11-12T12:47:46.905200Z",
     "iopub.status.idle": "2023-11-12T12:47:46.906981Z",
     "shell.execute_reply": "2023-11-12T12:47:46.906708Z"
    },
    "slideshow": {
     "slide_type": "fragment"
    }
   },
   "outputs": [],
   "source": [
    "with InvariantAnnotator() as annotator:\n",
    "    sum2(31, 45)\n",
    "    sum2(0, 0)\n",
    "    sum2(-1, -5)"
   ]
  },
  {
   "cell_type": "markdown",
   "metadata": {
    "slideshow": {
     "slide_type": "fragment"
    }
   },
   "source": [
    "The invariants all capture the relationship between `a`, `b`, and the return value as `return_value == a + b` in all its variations."
   ]
  },
  {
   "cell_type": "code",
   "execution_count": 162,
   "metadata": {
    "execution": {
     "iopub.execute_input": "2023-11-12T12:47:46.908467Z",
     "iopub.status.busy": "2023-11-12T12:47:46.908361Z",
     "iopub.status.idle": "2023-11-12T12:47:46.951092Z",
     "shell.execute_reply": "2023-11-12T12:47:46.950774Z"
    },
    "slideshow": {
     "slide_type": "subslide"
    }
   },
   "outputs": [
    {
     "name": "stdout",
     "output_type": "stream",
     "text": [
      "\u001b[90m@precondition\u001b[39;49;00m(\u001b[34mlambda\u001b[39;49;00m b, a: \u001b[36misinstance\u001b[39;49;00m(a, \u001b[36mint\u001b[39;49;00m))\u001b[37m\u001b[39;49;00m\n",
      "\u001b[90m@precondition\u001b[39;49;00m(\u001b[34mlambda\u001b[39;49;00m b, a: \u001b[36misinstance\u001b[39;49;00m(b, \u001b[36mint\u001b[39;49;00m))\u001b[37m\u001b[39;49;00m\n",
      "\u001b[90m@postcondition\u001b[39;49;00m(\u001b[34mlambda\u001b[39;49;00m return_value, b, a: a == return_value - b)\u001b[37m\u001b[39;49;00m\n",
      "\u001b[90m@postcondition\u001b[39;49;00m(\u001b[34mlambda\u001b[39;49;00m return_value, b, a: b == return_value - a)\u001b[37m\u001b[39;49;00m\n",
      "\u001b[90m@postcondition\u001b[39;49;00m(\u001b[34mlambda\u001b[39;49;00m return_value, b, a: \u001b[36misinstance\u001b[39;49;00m(return_value, \u001b[36mint\u001b[39;49;00m))\u001b[37m\u001b[39;49;00m\n",
      "\u001b[90m@postcondition\u001b[39;49;00m(\u001b[34mlambda\u001b[39;49;00m return_value, b, a: return_value == a + b)\u001b[37m\u001b[39;49;00m\n",
      "\u001b[90m@postcondition\u001b[39;49;00m(\u001b[34mlambda\u001b[39;49;00m return_value, b, a: return_value == b + a)\u001b[37m\u001b[39;49;00m\n",
      "\u001b[34mdef\u001b[39;49;00m \u001b[32msum2\u001b[39;49;00m(a, b):\u001b[37m\u001b[39;49;00m\n",
      "    \u001b[34mreturn\u001b[39;49;00m a + b\u001b[37m\u001b[39;49;00m"
     ]
    }
   ],
   "source": [
    "print_content(annotator.functions_with_invariants(), '.py')"
   ]
  },
  {
   "attachments": {},
   "cell_type": "markdown",
   "metadata": {
    "slideshow": {
     "slide_type": "fragment"
    }
   },
   "source": [
    "If we have a function without return value, the return value is `None`, and we can only mine preconditions.  (Well, we get a \"postcondition\" that the return value is non-zero, which holds for `None`)."
   ]
  },
  {
   "cell_type": "code",
   "execution_count": 163,
   "metadata": {
    "execution": {
     "iopub.execute_input": "2023-11-12T12:47:46.952587Z",
     "iopub.status.busy": "2023-11-12T12:47:46.952496Z",
     "iopub.status.idle": "2023-11-12T12:47:46.954375Z",
     "shell.execute_reply": "2023-11-12T12:47:46.954118Z"
    },
    "slideshow": {
     "slide_type": "fragment"
    }
   },
   "outputs": [],
   "source": [
    "def print_sum(a, b):\n",
    "    print(a + b)"
   ]
  },
  {
   "cell_type": "code",
   "execution_count": 164,
   "metadata": {
    "execution": {
     "iopub.execute_input": "2023-11-12T12:47:46.955946Z",
     "iopub.status.busy": "2023-11-12T12:47:46.955816Z",
     "iopub.status.idle": "2023-11-12T12:47:46.958225Z",
     "shell.execute_reply": "2023-11-12T12:47:46.957955Z"
    },
    "slideshow": {
     "slide_type": "subslide"
    }
   },
   "outputs": [
    {
     "name": "stdout",
     "output_type": "stream",
     "text": [
      "76\n",
      "0\n",
      "-6\n"
     ]
    }
   ],
   "source": [
    "with InvariantAnnotator() as annotator:\n",
    "    print_sum(31, 45)\n",
    "    print_sum(0, 0)\n",
    "    print_sum(-1, -5)"
   ]
  },
  {
   "cell_type": "code",
   "execution_count": 165,
   "metadata": {
    "execution": {
     "iopub.execute_input": "2023-11-12T12:47:46.959650Z",
     "iopub.status.busy": "2023-11-12T12:47:46.959547Z",
     "iopub.status.idle": "2023-11-12T12:47:47.088687Z",
     "shell.execute_reply": "2023-11-12T12:47:47.088294Z"
    },
    "slideshow": {
     "slide_type": "fragment"
    }
   },
   "outputs": [
    {
     "name": "stdout",
     "output_type": "stream",
     "text": [
      "\u001b[90m@precondition\u001b[39;49;00m(\u001b[34mlambda\u001b[39;49;00m b, a: \u001b[36misinstance\u001b[39;49;00m(a, \u001b[36mint\u001b[39;49;00m))\u001b[37m\u001b[39;49;00m\n",
      "\u001b[90m@precondition\u001b[39;49;00m(\u001b[34mlambda\u001b[39;49;00m b, a: \u001b[36misinstance\u001b[39;49;00m(b, \u001b[36mint\u001b[39;49;00m))\u001b[37m\u001b[39;49;00m\n",
      "\u001b[90m@postcondition\u001b[39;49;00m(\u001b[34mlambda\u001b[39;49;00m return_value, b, a: return_value != \u001b[34m0\u001b[39;49;00m)\u001b[37m\u001b[39;49;00m\n",
      "\u001b[34mdef\u001b[39;49;00m \u001b[32mprint_sum\u001b[39;49;00m(a, b):\u001b[37m\u001b[39;49;00m\n",
      "    \u001b[36mprint\u001b[39;49;00m(a + b)\u001b[37m\u001b[39;49;00m"
     ]
    }
   ],
   "source": [
    "print_content(annotator.functions_with_invariants(), '.py')"
   ]
  },
  {
   "cell_type": "markdown",
   "metadata": {
    "slideshow": {
     "slide_type": "subslide"
    }
   },
   "source": [
    "### Checking Specifications\n",
    "\n",
    "A function with invariants, as above, can be fed into the Python interpreter, such that all pre- and postconditions are checked.  We create a function `my_sqrt_annotated()` which includes all the invariants mined above."
   ]
  },
  {
   "cell_type": "code",
   "execution_count": 166,
   "metadata": {
    "execution": {
     "iopub.execute_input": "2023-11-12T12:47:47.090490Z",
     "iopub.status.busy": "2023-11-12T12:47:47.090301Z",
     "iopub.status.idle": "2023-11-12T12:47:47.092289Z",
     "shell.execute_reply": "2023-11-12T12:47:47.091992Z"
    },
    "slideshow": {
     "slide_type": "fragment"
    }
   },
   "outputs": [],
   "source": [
    "with InvariantAnnotator() as annotator:\n",
    "    y = my_sqrt(25.0)\n",
    "    y = my_sqrt(0.01)"
   ]
  },
  {
   "cell_type": "code",
   "execution_count": 167,
   "metadata": {
    "execution": {
     "iopub.execute_input": "2023-11-12T12:47:47.093875Z",
     "iopub.status.busy": "2023-11-12T12:47:47.093753Z",
     "iopub.status.idle": "2023-11-12T12:47:47.103378Z",
     "shell.execute_reply": "2023-11-12T12:47:47.102973Z"
    },
    "slideshow": {
     "slide_type": "fragment"
    }
   },
   "outputs": [],
   "source": [
    "my_sqrt_def = annotator.functions_with_invariants()\n",
    "my_sqrt_def = my_sqrt_def.replace('my_sqrt', 'my_sqrt_annotated')"
   ]
  },
  {
   "cell_type": "code",
   "execution_count": 168,
   "metadata": {
    "execution": {
     "iopub.execute_input": "2023-11-12T12:47:47.105036Z",
     "iopub.status.busy": "2023-11-12T12:47:47.104930Z",
     "iopub.status.idle": "2023-11-12T12:47:47.138859Z",
     "shell.execute_reply": "2023-11-12T12:47:47.138584Z"
    },
    "slideshow": {
     "slide_type": "subslide"
    }
   },
   "outputs": [
    {
     "name": "stdout",
     "output_type": "stream",
     "text": [
      "\u001b[90m@precondition\u001b[39;49;00m(\u001b[34mlambda\u001b[39;49;00m x: \u001b[36misinstance\u001b[39;49;00m(x, \u001b[36mfloat\u001b[39;49;00m))\u001b[37m\u001b[39;49;00m\n",
      "\u001b[90m@precondition\u001b[39;49;00m(\u001b[34mlambda\u001b[39;49;00m x: x != \u001b[34m0\u001b[39;49;00m)\u001b[37m\u001b[39;49;00m\n",
      "\u001b[90m@precondition\u001b[39;49;00m(\u001b[34mlambda\u001b[39;49;00m x: x > \u001b[34m0\u001b[39;49;00m)\u001b[37m\u001b[39;49;00m\n",
      "\u001b[90m@precondition\u001b[39;49;00m(\u001b[34mlambda\u001b[39;49;00m x: x >= \u001b[34m0\u001b[39;49;00m)\u001b[37m\u001b[39;49;00m\n",
      "\u001b[90m@postcondition\u001b[39;49;00m(\u001b[34mlambda\u001b[39;49;00m return_value, x: \u001b[36misinstance\u001b[39;49;00m(return_value, \u001b[36mfloat\u001b[39;49;00m))\u001b[37m\u001b[39;49;00m\n",
      "\u001b[90m@postcondition\u001b[39;49;00m(\u001b[34mlambda\u001b[39;49;00m return_value, x: return_value != \u001b[34m0\u001b[39;49;00m)\u001b[37m\u001b[39;49;00m\n",
      "\u001b[90m@postcondition\u001b[39;49;00m(\u001b[34mlambda\u001b[39;49;00m return_value, x: return_value > \u001b[34m0\u001b[39;49;00m)\u001b[37m\u001b[39;49;00m\n",
      "\u001b[90m@postcondition\u001b[39;49;00m(\u001b[34mlambda\u001b[39;49;00m return_value, x: return_value >= \u001b[34m0\u001b[39;49;00m)\u001b[37m\u001b[39;49;00m\n",
      "\u001b[34mdef\u001b[39;49;00m \u001b[32mmy_sqrt_annotated\u001b[39;49;00m(x):\u001b[37m\u001b[39;49;00m\n",
      "\u001b[37m    \u001b[39;49;00m\u001b[33m\"\"\"Computes the square root of x, using the Newton-Raphson method\"\"\"\u001b[39;49;00m\u001b[37m\u001b[39;49;00m\n",
      "    approx = \u001b[34mNone\u001b[39;49;00m\u001b[37m\u001b[39;49;00m\n",
      "    guess = x / \u001b[34m2\u001b[39;49;00m\u001b[37m\u001b[39;49;00m\n",
      "    \u001b[34mwhile\u001b[39;49;00m approx != guess:\u001b[37m\u001b[39;49;00m\n",
      "        approx = guess\u001b[37m\u001b[39;49;00m\n",
      "        guess = (approx + x / approx) / \u001b[34m2\u001b[39;49;00m\u001b[37m\u001b[39;49;00m\n",
      "    \u001b[34mreturn\u001b[39;49;00m approx\u001b[37m\u001b[39;49;00m"
     ]
    }
   ],
   "source": [
    "print_content(my_sqrt_def, '.py')"
   ]
  },
  {
   "cell_type": "code",
   "execution_count": 169,
   "metadata": {
    "execution": {
     "iopub.execute_input": "2023-11-12T12:47:47.140496Z",
     "iopub.status.busy": "2023-11-12T12:47:47.140397Z",
     "iopub.status.idle": "2023-11-12T12:47:47.142291Z",
     "shell.execute_reply": "2023-11-12T12:47:47.142046Z"
    },
    "slideshow": {
     "slide_type": "subslide"
    }
   },
   "outputs": [],
   "source": [
    "exec(my_sqrt_def)"
   ]
  },
  {
   "cell_type": "markdown",
   "metadata": {
    "slideshow": {
     "slide_type": "fragment"
    }
   },
   "source": [
    "The \"annotated\" version checks against invalid arguments – or more precisely, against arguments with properties that have not been observed yet:"
   ]
  },
  {
   "cell_type": "code",
   "execution_count": 170,
   "metadata": {
    "execution": {
     "iopub.execute_input": "2023-11-12T12:47:47.143754Z",
     "iopub.status.busy": "2023-11-12T12:47:47.143653Z",
     "iopub.status.idle": "2023-11-12T12:47:47.145478Z",
     "shell.execute_reply": "2023-11-12T12:47:47.145169Z"
    },
    "slideshow": {
     "slide_type": "subslide"
    }
   },
   "outputs": [
    {
     "name": "stderr",
     "output_type": "stream",
     "text": [
      "Traceback (most recent call last):\n",
      "  File \"/var/folders/n2/xd9445p97rb3xh7m1dfx8_4h0006ts/T/ipykernel_33982/3390953352.py\", line 2, in <cell line: 1>\n",
      "    my_sqrt_annotated(-1.0)\n",
      "  File \"/var/folders/n2/xd9445p97rb3xh7m1dfx8_4h0006ts/T/ipykernel_33982/906718213.py\", line 8, in wrapper\n",
      "    retval = func(*args, **kwargs) # call original function or method\n",
      "  File \"/var/folders/n2/xd9445p97rb3xh7m1dfx8_4h0006ts/T/ipykernel_33982/906718213.py\", line 8, in wrapper\n",
      "    retval = func(*args, **kwargs) # call original function or method\n",
      "  File \"/var/folders/n2/xd9445p97rb3xh7m1dfx8_4h0006ts/T/ipykernel_33982/906718213.py\", line 6, in wrapper\n",
      "    assert precondition(*args, **kwargs), \"Precondition violated\"\n",
      "AssertionError: Precondition violated (expected)\n"
     ]
    }
   ],
   "source": [
    "with ExpectError():\n",
    "    my_sqrt_annotated(-1.0)"
   ]
  },
  {
   "cell_type": "markdown",
   "metadata": {
    "slideshow": {
     "slide_type": "fragment"
    }
   },
   "source": [
    "This is in contrast to the original version, which just hangs on negative values:"
   ]
  },
  {
   "cell_type": "code",
   "execution_count": 171,
   "metadata": {
    "execution": {
     "iopub.execute_input": "2023-11-12T12:47:47.146968Z",
     "iopub.status.busy": "2023-11-12T12:47:47.146864Z",
     "iopub.status.idle": "2023-11-12T12:47:48.153542Z",
     "shell.execute_reply": "2023-11-12T12:47:48.153248Z"
    },
    "slideshow": {
     "slide_type": "subslide"
    }
   },
   "outputs": [
    {
     "name": "stderr",
     "output_type": "stream",
     "text": [
      "Traceback (most recent call last):\n",
      "  File \"/var/folders/n2/xd9445p97rb3xh7m1dfx8_4h0006ts/T/ipykernel_33982/2605599394.py\", line 2, in <cell line: 1>\n",
      "    my_sqrt(-1.0)\n",
      "  File \"/var/folders/n2/xd9445p97rb3xh7m1dfx8_4h0006ts/T/ipykernel_33982/2661069967.py\", line 5, in my_sqrt\n",
      "    while approx != guess:\n",
      "  File \"/Users/zeller/Projects/fuzzingbook/notebooks/Timeout.ipynb\", line 43, in timeout_handler\n",
      "    raise TimeoutError()\n",
      "TimeoutError (expected)\n"
     ]
    }
   ],
   "source": [
    "with ExpectTimeout(1):\n",
    "    my_sqrt(-1.0)"
   ]
  },
  {
   "cell_type": "markdown",
   "metadata": {
    "slideshow": {
     "slide_type": "fragment"
    }
   },
   "source": [
    "If we make changes to the function definition such that the properties of the return value change, such _regressions_ are caught as violations of the postconditions.  Let us illustrate this by simply inverting the result, and return $-2$ as square root of 4."
   ]
  },
  {
   "cell_type": "code",
   "execution_count": 172,
   "metadata": {
    "execution": {
     "iopub.execute_input": "2023-11-12T12:47:48.155214Z",
     "iopub.status.busy": "2023-11-12T12:47:48.155091Z",
     "iopub.status.idle": "2023-11-12T12:47:48.157208Z",
     "shell.execute_reply": "2023-11-12T12:47:48.156899Z"
    },
    "slideshow": {
     "slide_type": "subslide"
    }
   },
   "outputs": [],
   "source": [
    "my_sqrt_def = my_sqrt_def.replace('my_sqrt_annotated', 'my_sqrt_negative')\n",
    "my_sqrt_def = my_sqrt_def.replace('return approx', 'return -approx')"
   ]
  },
  {
   "cell_type": "code",
   "execution_count": 173,
   "metadata": {
    "execution": {
     "iopub.execute_input": "2023-11-12T12:47:48.158674Z",
     "iopub.status.busy": "2023-11-12T12:47:48.158557Z",
     "iopub.status.idle": "2023-11-12T12:47:48.191868Z",
     "shell.execute_reply": "2023-11-12T12:47:48.191554Z"
    },
    "slideshow": {
     "slide_type": "subslide"
    }
   },
   "outputs": [
    {
     "name": "stdout",
     "output_type": "stream",
     "text": [
      "\u001b[90m@precondition\u001b[39;49;00m(\u001b[34mlambda\u001b[39;49;00m x: \u001b[36misinstance\u001b[39;49;00m(x, \u001b[36mfloat\u001b[39;49;00m))\u001b[37m\u001b[39;49;00m\n",
      "\u001b[90m@precondition\u001b[39;49;00m(\u001b[34mlambda\u001b[39;49;00m x: x != \u001b[34m0\u001b[39;49;00m)\u001b[37m\u001b[39;49;00m\n",
      "\u001b[90m@precondition\u001b[39;49;00m(\u001b[34mlambda\u001b[39;49;00m x: x > \u001b[34m0\u001b[39;49;00m)\u001b[37m\u001b[39;49;00m\n",
      "\u001b[90m@precondition\u001b[39;49;00m(\u001b[34mlambda\u001b[39;49;00m x: x >= \u001b[34m0\u001b[39;49;00m)\u001b[37m\u001b[39;49;00m\n",
      "\u001b[90m@postcondition\u001b[39;49;00m(\u001b[34mlambda\u001b[39;49;00m return_value, x: \u001b[36misinstance\u001b[39;49;00m(return_value, \u001b[36mfloat\u001b[39;49;00m))\u001b[37m\u001b[39;49;00m\n",
      "\u001b[90m@postcondition\u001b[39;49;00m(\u001b[34mlambda\u001b[39;49;00m return_value, x: return_value != \u001b[34m0\u001b[39;49;00m)\u001b[37m\u001b[39;49;00m\n",
      "\u001b[90m@postcondition\u001b[39;49;00m(\u001b[34mlambda\u001b[39;49;00m return_value, x: return_value > \u001b[34m0\u001b[39;49;00m)\u001b[37m\u001b[39;49;00m\n",
      "\u001b[90m@postcondition\u001b[39;49;00m(\u001b[34mlambda\u001b[39;49;00m return_value, x: return_value >= \u001b[34m0\u001b[39;49;00m)\u001b[37m\u001b[39;49;00m\n",
      "\u001b[34mdef\u001b[39;49;00m \u001b[32mmy_sqrt_negative\u001b[39;49;00m(x):\u001b[37m\u001b[39;49;00m\n",
      "\u001b[37m    \u001b[39;49;00m\u001b[33m\"\"\"Computes the square root of x, using the Newton-Raphson method\"\"\"\u001b[39;49;00m\u001b[37m\u001b[39;49;00m\n",
      "    approx = \u001b[34mNone\u001b[39;49;00m\u001b[37m\u001b[39;49;00m\n",
      "    guess = x / \u001b[34m2\u001b[39;49;00m\u001b[37m\u001b[39;49;00m\n",
      "    \u001b[34mwhile\u001b[39;49;00m approx != guess:\u001b[37m\u001b[39;49;00m\n",
      "        approx = guess\u001b[37m\u001b[39;49;00m\n",
      "        guess = (approx + x / approx) / \u001b[34m2\u001b[39;49;00m\u001b[37m\u001b[39;49;00m\n",
      "    \u001b[34mreturn\u001b[39;49;00m -approx\u001b[37m\u001b[39;49;00m"
     ]
    }
   ],
   "source": [
    "print_content(my_sqrt_def, '.py')"
   ]
  },
  {
   "cell_type": "code",
   "execution_count": 174,
   "metadata": {
    "execution": {
     "iopub.execute_input": "2023-11-12T12:47:48.193580Z",
     "iopub.status.busy": "2023-11-12T12:47:48.193454Z",
     "iopub.status.idle": "2023-11-12T12:47:48.195244Z",
     "shell.execute_reply": "2023-11-12T12:47:48.194993Z"
    },
    "slideshow": {
     "slide_type": "subslide"
    },
    "tags": []
   },
   "outputs": [],
   "source": [
    "exec(my_sqrt_def)"
   ]
  },
  {
   "cell_type": "markdown",
   "metadata": {
    "slideshow": {
     "slide_type": "fragment"
    }
   },
   "source": [
    "Technically speaking, $-2$ _is_ a square root of 4, since $(-2)^2 = 4$ holds.  Yet, such a change may be unexpected by callers of `my_sqrt()`, and hence, this would be caught with the first call:"
   ]
  },
  {
   "cell_type": "code",
   "execution_count": 175,
   "metadata": {
    "execution": {
     "iopub.execute_input": "2023-11-12T12:47:48.196772Z",
     "iopub.status.busy": "2023-11-12T12:47:48.196668Z",
     "iopub.status.idle": "2023-11-12T12:47:48.198544Z",
     "shell.execute_reply": "2023-11-12T12:47:48.198221Z"
    },
    "slideshow": {
     "slide_type": "subslide"
    }
   },
   "outputs": [
    {
     "name": "stderr",
     "output_type": "stream",
     "text": [
      "Traceback (most recent call last):\n",
      "  File \"/var/folders/n2/xd9445p97rb3xh7m1dfx8_4h0006ts/T/ipykernel_33982/2428286732.py\", line 2, in <cell line: 1>\n",
      "    my_sqrt_negative(2.0)  # type: ignore\n",
      "  File \"/var/folders/n2/xd9445p97rb3xh7m1dfx8_4h0006ts/T/ipykernel_33982/906718213.py\", line 8, in wrapper\n",
      "    retval = func(*args, **kwargs) # call original function or method\n",
      "  File \"/var/folders/n2/xd9445p97rb3xh7m1dfx8_4h0006ts/T/ipykernel_33982/906718213.py\", line 8, in wrapper\n",
      "    retval = func(*args, **kwargs) # call original function or method\n",
      "  File \"/var/folders/n2/xd9445p97rb3xh7m1dfx8_4h0006ts/T/ipykernel_33982/906718213.py\", line 8, in wrapper\n",
      "    retval = func(*args, **kwargs) # call original function or method\n",
      "  [Previous line repeated 4 more times]\n",
      "  File \"/var/folders/n2/xd9445p97rb3xh7m1dfx8_4h0006ts/T/ipykernel_33982/906718213.py\", line 10, in wrapper\n",
      "    assert postcondition(retval, *args, **kwargs), \"Postcondition violated\"\n",
      "AssertionError: Postcondition violated (expected)\n"
     ]
    }
   ],
   "source": [
    "with ExpectError():\n",
    "    my_sqrt_negative(2.0)  # type: ignore"
   ]
  },
  {
   "cell_type": "markdown",
   "metadata": {
    "slideshow": {
     "slide_type": "subslide"
    }
   },
   "source": [
    "We see how pre- and postconditions, as well as types, can serve as *oracles* during testing.  In particular, once we have mined them for a set of functions, we can check them again and again with test generators – especially after code changes.  The more checks we have, and the more specific they are, the more likely it is we can detect unwanted effects of changes."
   ]
  },
  {
   "cell_type": "markdown",
   "metadata": {
    "slideshow": {
     "slide_type": "slide"
    }
   },
   "source": [
    "## Mining Specifications from Generated Tests\n",
    "\n",
    "Mined specifications can only be as good as the executions they were mined from.  If we only see a single call to, say, `sum2()` as defined above, we will be faced with several mined pre- and postconditions that _overspecialize_ towards the values seen:"
   ]
  },
  {
   "cell_type": "code",
   "execution_count": 176,
   "metadata": {
    "execution": {
     "iopub.execute_input": "2023-11-12T12:47:48.200107Z",
     "iopub.status.busy": "2023-11-12T12:47:48.200003Z",
     "iopub.status.idle": "2023-11-12T12:47:48.243214Z",
     "shell.execute_reply": "2023-11-12T12:47:48.242929Z"
    },
    "slideshow": {
     "slide_type": "subslide"
    }
   },
   "outputs": [
    {
     "name": "stdout",
     "output_type": "stream",
     "text": [
      "\u001b[90m@precondition\u001b[39;49;00m(\u001b[34mlambda\u001b[39;49;00m b, a: a != \u001b[34m0\u001b[39;49;00m)\u001b[37m\u001b[39;49;00m\n",
      "\u001b[90m@precondition\u001b[39;49;00m(\u001b[34mlambda\u001b[39;49;00m b, a: a <= b)\u001b[37m\u001b[39;49;00m\n",
      "\u001b[90m@precondition\u001b[39;49;00m(\u001b[34mlambda\u001b[39;49;00m b, a: a == b)\u001b[37m\u001b[39;49;00m\n",
      "\u001b[90m@precondition\u001b[39;49;00m(\u001b[34mlambda\u001b[39;49;00m b, a: a > \u001b[34m0\u001b[39;49;00m)\u001b[37m\u001b[39;49;00m\n",
      "\u001b[90m@precondition\u001b[39;49;00m(\u001b[34mlambda\u001b[39;49;00m b, a: a >= \u001b[34m0\u001b[39;49;00m)\u001b[37m\u001b[39;49;00m\n",
      "\u001b[90m@precondition\u001b[39;49;00m(\u001b[34mlambda\u001b[39;49;00m b, a: a >= b)\u001b[37m\u001b[39;49;00m\n",
      "\u001b[90m@precondition\u001b[39;49;00m(\u001b[34mlambda\u001b[39;49;00m b, a: b != \u001b[34m0\u001b[39;49;00m)\u001b[37m\u001b[39;49;00m\n",
      "\u001b[90m@precondition\u001b[39;49;00m(\u001b[34mlambda\u001b[39;49;00m b, a: b <= a)\u001b[37m\u001b[39;49;00m\n",
      "\u001b[90m@precondition\u001b[39;49;00m(\u001b[34mlambda\u001b[39;49;00m b, a: b == a)\u001b[37m\u001b[39;49;00m\n",
      "\u001b[90m@precondition\u001b[39;49;00m(\u001b[34mlambda\u001b[39;49;00m b, a: b > \u001b[34m0\u001b[39;49;00m)\u001b[37m\u001b[39;49;00m\n",
      "\u001b[90m@precondition\u001b[39;49;00m(\u001b[34mlambda\u001b[39;49;00m b, a: b >= \u001b[34m0\u001b[39;49;00m)\u001b[37m\u001b[39;49;00m\n",
      "\u001b[90m@precondition\u001b[39;49;00m(\u001b[34mlambda\u001b[39;49;00m b, a: b >= a)\u001b[37m\u001b[39;49;00m\n",
      "\u001b[90m@precondition\u001b[39;49;00m(\u001b[34mlambda\u001b[39;49;00m b, a: \u001b[36misinstance\u001b[39;49;00m(a, \u001b[36mint\u001b[39;49;00m))\u001b[37m\u001b[39;49;00m\n",
      "\u001b[90m@precondition\u001b[39;49;00m(\u001b[34mlambda\u001b[39;49;00m b, a: \u001b[36misinstance\u001b[39;49;00m(b, \u001b[36mint\u001b[39;49;00m))\u001b[37m\u001b[39;49;00m\n",
      "\u001b[90m@postcondition\u001b[39;49;00m(\u001b[34mlambda\u001b[39;49;00m return_value, b, a: a < return_value)\u001b[37m\u001b[39;49;00m\n",
      "\u001b[90m@postcondition\u001b[39;49;00m(\u001b[34mlambda\u001b[39;49;00m return_value, b, a: a <= b <= return_value)\u001b[37m\u001b[39;49;00m\n",
      "\u001b[90m@postcondition\u001b[39;49;00m(\u001b[34mlambda\u001b[39;49;00m return_value, b, a: a <= return_value)\u001b[37m\u001b[39;49;00m\n",
      "\u001b[90m@postcondition\u001b[39;49;00m(\u001b[34mlambda\u001b[39;49;00m return_value, b, a: a == return_value - b)\u001b[37m\u001b[39;49;00m\n",
      "\u001b[90m@postcondition\u001b[39;49;00m(\u001b[34mlambda\u001b[39;49;00m return_value, b, a: a == return_value / b)\u001b[37m\u001b[39;49;00m\n",
      "\u001b[90m@postcondition\u001b[39;49;00m(\u001b[34mlambda\u001b[39;49;00m return_value, b, a: b < return_value)\u001b[37m\u001b[39;49;00m\n",
      "\u001b[90m@postcondition\u001b[39;49;00m(\u001b[34mlambda\u001b[39;49;00m return_value, b, a: b <= a <= return_value)\u001b[37m\u001b[39;49;00m\n",
      "\u001b[90m@postcondition\u001b[39;49;00m(\u001b[34mlambda\u001b[39;49;00m return_value, b, a: b <= return_value)\u001b[37m\u001b[39;49;00m\n",
      "\u001b[90m@postcondition\u001b[39;49;00m(\u001b[34mlambda\u001b[39;49;00m return_value, b, a: b == return_value - a)\u001b[37m\u001b[39;49;00m\n",
      "\u001b[90m@postcondition\u001b[39;49;00m(\u001b[34mlambda\u001b[39;49;00m return_value, b, a: b == return_value / a)\u001b[37m\u001b[39;49;00m\n",
      "\u001b[90m@postcondition\u001b[39;49;00m(\u001b[34mlambda\u001b[39;49;00m return_value, b, a: \u001b[36misinstance\u001b[39;49;00m(return_value, \u001b[36mint\u001b[39;49;00m))\u001b[37m\u001b[39;49;00m\n",
      "\u001b[90m@postcondition\u001b[39;49;00m(\u001b[34mlambda\u001b[39;49;00m return_value, b, a: return_value != \u001b[34m0\u001b[39;49;00m)\u001b[37m\u001b[39;49;00m\n",
      "\u001b[90m@postcondition\u001b[39;49;00m(\u001b[34mlambda\u001b[39;49;00m return_value, b, a: return_value == a * b)\u001b[37m\u001b[39;49;00m\n",
      "\u001b[90m@postcondition\u001b[39;49;00m(\u001b[34mlambda\u001b[39;49;00m return_value, b, a: return_value == a + b)\u001b[37m\u001b[39;49;00m\n",
      "\u001b[90m@postcondition\u001b[39;49;00m(\u001b[34mlambda\u001b[39;49;00m return_value, b, a: return_value == b * a)\u001b[37m\u001b[39;49;00m\n",
      "\u001b[90m@postcondition\u001b[39;49;00m(\u001b[34mlambda\u001b[39;49;00m return_value, b, a: return_value == b + a)\u001b[37m\u001b[39;49;00m\n",
      "\u001b[90m@postcondition\u001b[39;49;00m(\u001b[34mlambda\u001b[39;49;00m return_value, b, a: return_value > \u001b[34m0\u001b[39;49;00m)\u001b[37m\u001b[39;49;00m\n",
      "\u001b[90m@postcondition\u001b[39;49;00m(\u001b[34mlambda\u001b[39;49;00m return_value, b, a: return_value > a)\u001b[37m\u001b[39;49;00m\n",
      "\u001b[90m@postcondition\u001b[39;49;00m(\u001b[34mlambda\u001b[39;49;00m return_value, b, a: return_value > b)\u001b[37m\u001b[39;49;00m\n",
      "\u001b[90m@postcondition\u001b[39;49;00m(\u001b[34mlambda\u001b[39;49;00m return_value, b, a: return_value >= \u001b[34m0\u001b[39;49;00m)\u001b[37m\u001b[39;49;00m\n",
      "\u001b[90m@postcondition\u001b[39;49;00m(\u001b[34mlambda\u001b[39;49;00m return_value, b, a: return_value >= a)\u001b[37m\u001b[39;49;00m\n",
      "\u001b[90m@postcondition\u001b[39;49;00m(\u001b[34mlambda\u001b[39;49;00m return_value, b, a: return_value >= a >= b)\u001b[37m\u001b[39;49;00m\n",
      "\u001b[90m@postcondition\u001b[39;49;00m(\u001b[34mlambda\u001b[39;49;00m return_value, b, a: return_value >= b)\u001b[37m\u001b[39;49;00m\n",
      "\u001b[90m@postcondition\u001b[39;49;00m(\u001b[34mlambda\u001b[39;49;00m return_value, b, a: return_value >= b >= a)\u001b[37m\u001b[39;49;00m\n",
      "\u001b[34mdef\u001b[39;49;00m \u001b[32msum2\u001b[39;49;00m(a, b):\u001b[37m\u001b[39;49;00m\n",
      "    \u001b[34mreturn\u001b[39;49;00m a + b\u001b[37m\u001b[39;49;00m"
     ]
    }
   ],
   "source": [
    "with InvariantAnnotator() as annotator:\n",
    "    y = sum2(2, 2)\n",
    "print_content(annotator.functions_with_invariants(), '.py')"
   ]
  },
  {
   "cell_type": "markdown",
   "metadata": {
    "slideshow": {
     "slide_type": "subslide"
    }
   },
   "source": [
    "The mined precondition `a == b`, for instance, only holds for the single call observed; the same holds for the mined postcondition `return_value == a * b`.  Yet, `sum2()` can obviously be successfully called with other values that do not satisfy these conditions."
   ]
  },
  {
   "cell_type": "markdown",
   "metadata": {
    "slideshow": {
     "slide_type": "fragment"
    }
   },
   "source": [
    "To get out of this trap, we have to _learn from more and more diverse runs_.  If we have a few more calls of `sum2()`, we see how the set of invariants quickly gets smaller:"
   ]
  },
  {
   "cell_type": "code",
   "execution_count": 177,
   "metadata": {
    "execution": {
     "iopub.execute_input": "2023-11-12T12:47:48.244882Z",
     "iopub.status.busy": "2023-11-12T12:47:48.244790Z",
     "iopub.status.idle": "2023-11-12T12:47:48.288562Z",
     "shell.execute_reply": "2023-11-12T12:47:48.288230Z"
    },
    "slideshow": {
     "slide_type": "subslide"
    }
   },
   "outputs": [
    {
     "name": "stdout",
     "output_type": "stream",
     "text": [
      "\u001b[90m@precondition\u001b[39;49;00m(\u001b[34mlambda\u001b[39;49;00m b, a: \u001b[36misinstance\u001b[39;49;00m(a, \u001b[36mint\u001b[39;49;00m))\u001b[37m\u001b[39;49;00m\n",
      "\u001b[90m@precondition\u001b[39;49;00m(\u001b[34mlambda\u001b[39;49;00m b, a: \u001b[36misinstance\u001b[39;49;00m(b, \u001b[36mint\u001b[39;49;00m))\u001b[37m\u001b[39;49;00m\n",
      "\u001b[90m@postcondition\u001b[39;49;00m(\u001b[34mlambda\u001b[39;49;00m return_value, b, a: a == return_value - b)\u001b[37m\u001b[39;49;00m\n",
      "\u001b[90m@postcondition\u001b[39;49;00m(\u001b[34mlambda\u001b[39;49;00m return_value, b, a: b == return_value - a)\u001b[37m\u001b[39;49;00m\n",
      "\u001b[90m@postcondition\u001b[39;49;00m(\u001b[34mlambda\u001b[39;49;00m return_value, b, a: \u001b[36misinstance\u001b[39;49;00m(return_value, \u001b[36mint\u001b[39;49;00m))\u001b[37m\u001b[39;49;00m\n",
      "\u001b[90m@postcondition\u001b[39;49;00m(\u001b[34mlambda\u001b[39;49;00m return_value, b, a: return_value == a + b)\u001b[37m\u001b[39;49;00m\n",
      "\u001b[90m@postcondition\u001b[39;49;00m(\u001b[34mlambda\u001b[39;49;00m return_value, b, a: return_value == b + a)\u001b[37m\u001b[39;49;00m\n",
      "\u001b[34mdef\u001b[39;49;00m \u001b[32msum2\u001b[39;49;00m(a, b):\u001b[37m\u001b[39;49;00m\n",
      "    \u001b[34mreturn\u001b[39;49;00m a + b\u001b[37m\u001b[39;49;00m"
     ]
    }
   ],
   "source": [
    "with InvariantAnnotator() as annotator:\n",
    "    length = sum2(1, 2)\n",
    "    length = sum2(-1, -2)\n",
    "    length = sum2(0, 0)\n",
    "\n",
    "print_content(annotator.functions_with_invariants(), '.py')"
   ]
  },
  {
   "cell_type": "markdown",
   "metadata": {
    "slideshow": {
     "slide_type": "subslide"
    }
   },
   "source": [
    "But where to we get such diverse runs from?  This is the job of generating software tests.  A simple grammar for calls of `sum2()` will easily resolve the problem."
   ]
  },
  {
   "cell_type": "code",
   "execution_count": 178,
   "metadata": {
    "execution": {
     "iopub.execute_input": "2023-11-12T12:47:48.290345Z",
     "iopub.status.busy": "2023-11-12T12:47:48.290234Z",
     "iopub.status.idle": "2023-11-12T12:47:48.393155Z",
     "shell.execute_reply": "2023-11-12T12:47:48.392853Z"
    },
    "slideshow": {
     "slide_type": "skip"
    }
   },
   "outputs": [],
   "source": [
    "from GrammarFuzzer import GrammarFuzzer  # minor dependency\n",
    "from Grammars import is_valid_grammar, crange  # minor dependency\n",
    "from Grammars import convert_ebnf_grammar, Grammar  # minor dependency"
   ]
  },
  {
   "cell_type": "code",
   "execution_count": 179,
   "metadata": {
    "execution": {
     "iopub.execute_input": "2023-11-12T12:47:48.394860Z",
     "iopub.status.busy": "2023-11-12T12:47:48.394767Z",
     "iopub.status.idle": "2023-11-12T12:47:48.396876Z",
     "shell.execute_reply": "2023-11-12T12:47:48.396591Z"
    },
    "slideshow": {
     "slide_type": "fragment"
    }
   },
   "outputs": [],
   "source": [
    "SUM2_EBNF_GRAMMAR: Grammar = {\n",
    "    \"<start>\": [\"<sum2>\"],\n",
    "    \"<sum2>\": [\"sum2(<int>, <int>)\"],\n",
    "    \"<int>\": [\"<_int>\"],\n",
    "    \"<_int>\": [\"(-)?<leaddigit><digit>*\", \"0\"],\n",
    "    \"<leaddigit>\": crange('1', '9'),\n",
    "    \"<digit>\": crange('0', '9')\n",
    "}"
   ]
  },
  {
   "cell_type": "code",
   "execution_count": 180,
   "metadata": {
    "execution": {
     "iopub.execute_input": "2023-11-12T12:47:48.398513Z",
     "iopub.status.busy": "2023-11-12T12:47:48.398398Z",
     "iopub.status.idle": "2023-11-12T12:47:48.400202Z",
     "shell.execute_reply": "2023-11-12T12:47:48.399917Z"
    },
    "slideshow": {
     "slide_type": "fragment"
    }
   },
   "outputs": [],
   "source": [
    "assert is_valid_grammar(SUM2_EBNF_GRAMMAR)"
   ]
  },
  {
   "cell_type": "code",
   "execution_count": 181,
   "metadata": {
    "execution": {
     "iopub.execute_input": "2023-11-12T12:47:48.401704Z",
     "iopub.status.busy": "2023-11-12T12:47:48.401587Z",
     "iopub.status.idle": "2023-11-12T12:47:48.403223Z",
     "shell.execute_reply": "2023-11-12T12:47:48.402960Z"
    },
    "slideshow": {
     "slide_type": "fragment"
    }
   },
   "outputs": [],
   "source": [
    "sum2_grammar =  convert_ebnf_grammar(SUM2_EBNF_GRAMMAR)"
   ]
  },
  {
   "cell_type": "code",
   "execution_count": 182,
   "metadata": {
    "execution": {
     "iopub.execute_input": "2023-11-12T12:47:48.404737Z",
     "iopub.status.busy": "2023-11-12T12:47:48.404607Z",
     "iopub.status.idle": "2023-11-12T12:47:48.409562Z",
     "shell.execute_reply": "2023-11-12T12:47:48.409302Z"
    },
    "slideshow": {
     "slide_type": "subslide"
    }
   },
   "outputs": [
    {
     "data": {
      "text/plain": [
       "['sum2(60, 3)',\n",
       " 'sum2(-4, 0)',\n",
       " 'sum2(-579, 34)',\n",
       " 'sum2(3, 0)',\n",
       " 'sum2(-8, 0)',\n",
       " 'sum2(0, 8)',\n",
       " 'sum2(3, -9)',\n",
       " 'sum2(0, 0)',\n",
       " 'sum2(0, 5)',\n",
       " 'sum2(-3181, 0)']"
      ]
     },
     "execution_count": 182,
     "metadata": {},
     "output_type": "execute_result"
    }
   ],
   "source": [
    "sum2_fuzzer = GrammarFuzzer(sum2_grammar)\n",
    "[sum2_fuzzer.fuzz() for i in range(10)]"
   ]
  },
  {
   "cell_type": "code",
   "execution_count": 183,
   "metadata": {
    "execution": {
     "iopub.execute_input": "2023-11-12T12:47:48.410968Z",
     "iopub.status.busy": "2023-11-12T12:47:48.410880Z",
     "iopub.status.idle": "2023-11-12T12:47:48.610814Z",
     "shell.execute_reply": "2023-11-12T12:47:48.610469Z"
    },
    "slideshow": {
     "slide_type": "subslide"
    }
   },
   "outputs": [
    {
     "name": "stdout",
     "output_type": "stream",
     "text": [
      "\u001b[90m@precondition\u001b[39;49;00m(\u001b[34mlambda\u001b[39;49;00m b, a: a != \u001b[34m0\u001b[39;49;00m)\u001b[37m\u001b[39;49;00m\n",
      "\u001b[90m@precondition\u001b[39;49;00m(\u001b[34mlambda\u001b[39;49;00m b, a: \u001b[36misinstance\u001b[39;49;00m(a, \u001b[36mint\u001b[39;49;00m))\u001b[37m\u001b[39;49;00m\n",
      "\u001b[90m@precondition\u001b[39;49;00m(\u001b[34mlambda\u001b[39;49;00m b, a: \u001b[36misinstance\u001b[39;49;00m(b, \u001b[36mint\u001b[39;49;00m))\u001b[37m\u001b[39;49;00m\n",
      "\u001b[90m@postcondition\u001b[39;49;00m(\u001b[34mlambda\u001b[39;49;00m return_value, b, a: a == return_value - b)\u001b[37m\u001b[39;49;00m\n",
      "\u001b[90m@postcondition\u001b[39;49;00m(\u001b[34mlambda\u001b[39;49;00m return_value, b, a: b == return_value - a)\u001b[37m\u001b[39;49;00m\n",
      "\u001b[90m@postcondition\u001b[39;49;00m(\u001b[34mlambda\u001b[39;49;00m return_value, b, a: \u001b[36misinstance\u001b[39;49;00m(return_value, \u001b[36mint\u001b[39;49;00m))\u001b[37m\u001b[39;49;00m\n",
      "\u001b[90m@postcondition\u001b[39;49;00m(\u001b[34mlambda\u001b[39;49;00m return_value, b, a: return_value != \u001b[34m0\u001b[39;49;00m)\u001b[37m\u001b[39;49;00m\n",
      "\u001b[90m@postcondition\u001b[39;49;00m(\u001b[34mlambda\u001b[39;49;00m return_value, b, a: return_value == a + b)\u001b[37m\u001b[39;49;00m\n",
      "\u001b[90m@postcondition\u001b[39;49;00m(\u001b[34mlambda\u001b[39;49;00m return_value, b, a: return_value == b + a)\u001b[37m\u001b[39;49;00m\n",
      "\u001b[34mdef\u001b[39;49;00m \u001b[32msum2\u001b[39;49;00m(a, b):\u001b[37m\u001b[39;49;00m\n",
      "    \u001b[34mreturn\u001b[39;49;00m a + b\u001b[37m\u001b[39;49;00m"
     ]
    }
   ],
   "source": [
    "with InvariantAnnotator() as annotator:\n",
    "    for i in range(10):\n",
    "        eval(sum2_fuzzer.fuzz())\n",
    "\n",
    "print_content(annotator.function_with_invariants('sum2'), '.py')"
   ]
  },
  {
   "cell_type": "markdown",
   "metadata": {
    "slideshow": {
     "slide_type": "subslide"
    }
   },
   "source": [
    "But then, writing tests (or a test driver) just to derive a set of pre- and postconditions may possibly be too much effort – in particular, since tests can easily be derived from given pre- and postconditions in the first place.  Hence, it would be wiser to first specify invariants and then let test generators or program provers do the job."
   ]
  },
  {
   "cell_type": "markdown",
   "metadata": {
    "slideshow": {
     "slide_type": "fragment"
    }
   },
   "source": [
    "Also, an API grammar, such as above, will have to be set up such that it actually respects preconditions – in our case, we invoke `sqrt()` with positive numbers only, already assuming its precondition.  In some way, one thus needs a specification (a model, a grammar) to mine another specification – a chicken-and-egg problem."
   ]
  },
  {
   "cell_type": "markdown",
   "metadata": {
    "slideshow": {
     "slide_type": "subslide"
    }
   },
   "source": [
    "However, there is one way out of this problem: If one can automatically generate tests at the system level, then one has an _infinite source of executions_ to learn invariants from.  In each of these executions, all functions would be called with values that satisfy the (implicit) precondition, allowing us to mine invariants for these functions.  This holds, because at the system level, invalid inputs must be rejected by the system in the first place.  The meaningful precondition at the system level, ensuring that only valid inputs get through, thus gets broken down into a multitude of meaningful preconditions (and subsequent postconditions) at the function level."
   ]
  },
  {
   "cell_type": "markdown",
   "metadata": {
    "slideshow": {
     "slide_type": "fragment"
    }
   },
   "source": [
    "The big requirement for this, though, is that one needs good test generators at the system level.  In [the next part](05_Domain-Specific_Fuzzing.ipynb), we will discuss how to automatically generate tests for a variety of domains, from configuration to graphical user interfaces."
   ]
  },
  {
   "cell_type": "markdown",
   "metadata": {
    "slideshow": {
     "slide_type": "slide"
    }
   },
   "source": [
    "## Synopsis\n",
    "\n",
    "This chapter provides two classes that automatically extract specifications from a function and a set of inputs:\n",
    "\n",
    "* `TypeAnnotator` for _types_, and\n",
    "* `InvariantAnnotator` for _pre-_ and _postconditions_.\n",
    "\n",
    "Both work by _observing_ a function and its invocations within a `with` clause.  Here is an example for the type annotator:"
   ]
  },
  {
   "cell_type": "code",
   "execution_count": 184,
   "metadata": {
    "execution": {
     "iopub.execute_input": "2023-11-12T12:47:48.612636Z",
     "iopub.status.busy": "2023-11-12T12:47:48.612488Z",
     "iopub.status.idle": "2023-11-12T12:47:48.614168Z",
     "shell.execute_reply": "2023-11-12T12:47:48.613932Z"
    },
    "slideshow": {
     "slide_type": "fragment"
    }
   },
   "outputs": [],
   "source": [
    "def sum(a, b):\n",
    "    return a + b"
   ]
  },
  {
   "cell_type": "code",
   "execution_count": 185,
   "metadata": {
    "execution": {
     "iopub.execute_input": "2023-11-12T12:47:48.615777Z",
     "iopub.status.busy": "2023-11-12T12:47:48.615667Z",
     "iopub.status.idle": "2023-11-12T12:47:48.617406Z",
     "shell.execute_reply": "2023-11-12T12:47:48.617165Z"
    },
    "slideshow": {
     "slide_type": "subslide"
    }
   },
   "outputs": [],
   "source": [
    "with TypeAnnotator() as type_annotator:\n",
    "    sum(1, 2)\n",
    "    sum(-4, -5)\n",
    "    sum(0, 0)"
   ]
  },
  {
   "cell_type": "markdown",
   "metadata": {
    "slideshow": {
     "slide_type": "fragment"
    }
   },
   "source": [
    "The `typed_functions()` method will return a representation of `sum2()` annotated with types observed during execution."
   ]
  },
  {
   "cell_type": "code",
   "execution_count": 186,
   "metadata": {
    "execution": {
     "iopub.execute_input": "2023-11-12T12:47:48.619029Z",
     "iopub.status.busy": "2023-11-12T12:47:48.618921Z",
     "iopub.status.idle": "2023-11-12T12:47:48.621104Z",
     "shell.execute_reply": "2023-11-12T12:47:48.620773Z"
    },
    "slideshow": {
     "slide_type": "fragment"
    }
   },
   "outputs": [
    {
     "name": "stdout",
     "output_type": "stream",
     "text": [
      "def sum(a: int, b: int) -> int:\n",
      "    return a + b\n"
     ]
    }
   ],
   "source": [
    "print(type_annotator.typed_functions())"
   ]
  },
  {
   "attachments": {},
   "cell_type": "markdown",
   "metadata": {
    "slideshow": {
     "slide_type": "fragment"
    }
   },
   "source": [
    "The invariant annotator works similarly:"
   ]
  },
  {
   "cell_type": "code",
   "execution_count": 187,
   "metadata": {
    "execution": {
     "iopub.execute_input": "2023-11-12T12:47:48.622656Z",
     "iopub.status.busy": "2023-11-12T12:47:48.622544Z",
     "iopub.status.idle": "2023-11-12T12:47:48.624307Z",
     "shell.execute_reply": "2023-11-12T12:47:48.624016Z"
    },
    "slideshow": {
     "slide_type": "fragment"
    }
   },
   "outputs": [],
   "source": [
    "with InvariantAnnotator() as inv_annotator:\n",
    "    sum(1, 2)\n",
    "    sum(-4, -5)\n",
    "    sum(0, 0)"
   ]
  },
  {
   "cell_type": "markdown",
   "metadata": {
    "slideshow": {
     "slide_type": "subslide"
    }
   },
   "source": [
    "The `functions_with_invariants()` method will return a representation of `sum2()` annotated with inferred pre- and postconditions that all hold for the observed values."
   ]
  },
  {
   "cell_type": "code",
   "execution_count": 188,
   "metadata": {
    "execution": {
     "iopub.execute_input": "2023-11-12T12:47:48.626100Z",
     "iopub.status.busy": "2023-11-12T12:47:48.625991Z",
     "iopub.status.idle": "2023-11-12T12:47:48.639340Z",
     "shell.execute_reply": "2023-11-12T12:47:48.639009Z"
    },
    "slideshow": {
     "slide_type": "fragment"
    }
   },
   "outputs": [
    {
     "name": "stdout",
     "output_type": "stream",
     "text": [
      "@precondition(lambda b, a: isinstance(a, int))\n",
      "@precondition(lambda b, a: isinstance(b, int))\n",
      "@postcondition(lambda return_value, b, a: a == return_value - b)\n",
      "@postcondition(lambda return_value, b, a: b == return_value - a)\n",
      "@postcondition(lambda return_value, b, a: isinstance(return_value, int))\n",
      "@postcondition(lambda return_value, b, a: return_value == a + b)\n",
      "@postcondition(lambda return_value, b, a: return_value == b + a)\n",
      "def sum(a, b):\n",
      "    return a + b\n",
      "\n"
     ]
    }
   ],
   "source": [
    "print(inv_annotator.functions_with_invariants())"
   ]
  },
  {
   "cell_type": "markdown",
   "metadata": {
    "slideshow": {
     "slide_type": "subslide"
    }
   },
   "source": [
    "Such type specifications and invariants can be helpful as _oracles_ (to detect deviations from a given set of runs) as well as for all kinds of _symbolic code analyses_.  The chapter gives details on how to customize the properties checked for."
   ]
  },
  {
   "cell_type": "markdown",
   "metadata": {
    "button": false,
    "new_sheet": true,
    "run_control": {
     "read_only": false
    },
    "slideshow": {
     "slide_type": "slide"
    }
   },
   "source": [
    "## Lessons Learned\n",
    "\n",
    "* Type annotations and explicit invariants allow for _checking_ arguments and results for expected data types and other properties.\n",
    "* One can automatically _mine_ data types and invariants by observing arguments and results at runtime.\n",
    "* The quality of mined invariants depends on the diversity of values observed during executions; this variety can be increased by generating tests."
   ]
  },
  {
   "attachments": {},
   "cell_type": "markdown",
   "metadata": {
    "button": false,
    "new_sheet": false,
    "run_control": {
     "read_only": false
    },
    "slideshow": {
     "slide_type": "slide"
    }
   },
   "source": [
    "## Next Steps\n",
    "\n",
    "This chapter concludes the [part on semantic fuzzing techniques](04_Semantical_Fuzzing.ipynb).  In the next part, we will explore [domain-specific fuzzing techniques](05_Domain-Specific_Fuzzing.ipynb) from configurations and APIs to graphical user interfaces."
   ]
  },
  {
   "cell_type": "markdown",
   "metadata": {
    "slideshow": {
     "slide_type": "slide"
    }
   },
   "source": [
    "## Background\n",
    "\n",
    "The [DAIKON dynamic invariant detector](https://plse.cs.washington.edu/daikon/) can be considered the mother of function specification miners.  Continuously maintained and extended for more than 20 years, it mines likely invariants in the style of this chapter for a variety of languages, including C, C++, C#, Eiffel, F#, Java, Perl, and Visual Basic.  On top of the functionality discussed above, it holds a rich catalog of patterns for likely invariants, supports data invariants, can eliminate invariants that are implied by others, and determines statistical confidence to disregard unlikely invariants.  The corresponding paper \\cite{Ernst2001} is one of the seminal and most-cited papers of Software Engineering.  A multitude of works have been published based on DAIKON and detecting invariants; see this [curated list](http://plse.cs.washington.edu/daikon/pubs/) for details."
   ]
  },
  {
   "cell_type": "markdown",
   "metadata": {
    "slideshow": {
     "slide_type": "subslide"
    }
   },
   "source": [
    "The interaction between test generators and invariant detection is already discussed in \\cite{Ernst2001} (incidentally also using grammars).  The Eclat tool \\cite{Pacheco2005} is a model example of tight interaction between a unit-level test generator and DAIKON-style invariant mining, where the mined invariants are used to produce oracles and to systematically guide the test generator towards fault-revealing inputs."
   ]
  },
  {
   "attachments": {},
   "cell_type": "markdown",
   "metadata": {
    "slideshow": {
     "slide_type": "fragment"
    }
   },
   "source": [
    "Mining specifications is not restricted to pre- and postconditions.  The paper \"Mining Specifications\" \\cite{Ammons2002} is another classic in the field, learning state protocols from executions.  Grammar mining, as described in [our chapter with the same name](GrammarMiner.ipynb) can also be seen as a specification mining approach, this time learning specifications of input formats."
   ]
  },
  {
   "cell_type": "markdown",
   "metadata": {
    "slideshow": {
     "slide_type": "subslide"
    }
   },
   "source": [
    "As it comes to adding type annotations to existing code, the blog post [\"The state of type hints in Python\"](https://www.bernat.tech/the-state-of-type-hints-in-python/) gives a great overview on how Python type hints can be used and checked.  To add type annotations, there are two important tools available that also implement our above approach:\n",
    "\n",
    "* [MonkeyType](https://instagram-engineering.com/let-your-code-type-hint-itself-introducing-open-source-monkeytype-a855c7284881) implements the above approach of tracing executions and annotating Python 3 arguments, returns, and variables with type hints.\n",
    "* [PyAnnotate](https://github.com/dropbox/pyannotate) does a similar job, focusing on code in Python 2.  It does not produce Python 3-style annotations, but instead produces annotations as comments that can be processed by static type checkers.\n",
    "\n",
    "These tools have been created by engineers at Facebook and Dropbox, respectively, assisting them in checking millions of lines of code for type issues."
   ]
  },
  {
   "cell_type": "markdown",
   "metadata": {
    "button": false,
    "new_sheet": true,
    "run_control": {
     "read_only": false
    },
    "slideshow": {
     "slide_type": "slide"
    }
   },
   "source": [
    "## Exercises\n",
    "\n",
    "Our code for mining types and invariants is in no way complete.  There are dozens of ways to extend our implementations, some of which we discuss in exercises."
   ]
  },
  {
   "cell_type": "markdown",
   "metadata": {
    "button": false,
    "new_sheet": true,
    "run_control": {
     "read_only": false
    },
    "slideshow": {
     "slide_type": "subslide"
    }
   },
   "source": [
    "### Exercise 1: Union Types\n",
    "\n",
    "The Python `typing` module allows expressing that an argument can have multiple types.  For `my_sqrt(x)`, this allows expressing that `x` can be an `int` or a `float`:"
   ]
  },
  {
   "cell_type": "code",
   "execution_count": 189,
   "metadata": {
    "execution": {
     "iopub.execute_input": "2023-11-12T12:47:48.641473Z",
     "iopub.status.busy": "2023-11-12T12:47:48.641342Z",
     "iopub.status.idle": "2023-11-12T12:47:48.643117Z",
     "shell.execute_reply": "2023-11-12T12:47:48.642856Z"
    },
    "slideshow": {
     "slide_type": "skip"
    }
   },
   "outputs": [],
   "source": [
    "from typing import Union, Optional"
   ]
  },
  {
   "cell_type": "code",
   "execution_count": 190,
   "metadata": {
    "execution": {
     "iopub.execute_input": "2023-11-12T12:47:48.644624Z",
     "iopub.status.busy": "2023-11-12T12:47:48.644521Z",
     "iopub.status.idle": "2023-11-12T12:47:48.646123Z",
     "shell.execute_reply": "2023-11-12T12:47:48.645861Z"
    },
    "slideshow": {
     "slide_type": "fragment"
    }
   },
   "outputs": [],
   "source": [
    "def my_sqrt_with_union_type(x: Union[int, float]) -> float:   # type: ignore\n",
    "    ..."
   ]
  },
  {
   "cell_type": "markdown",
   "metadata": {
    "slideshow": {
     "slide_type": "fragment"
    },
    "solution2": "hidden",
    "solution2_first": true
   },
   "source": [
    "Extend the `TypeAnnotator` such that it supports union types for arguments and return values.  Use `Optional[X]` as a shorthand for `Union[X, None]`."
   ]
  },
  {
   "cell_type": "markdown",
   "metadata": {
    "slideshow": {
     "slide_type": "skip"
    },
    "solution2": "hidden"
   },
   "source": [
    "**Solution.** Left to the reader. Hint: extend `type_string()`."
   ]
  },
  {
   "cell_type": "markdown",
   "metadata": {
    "slideshow": {
     "slide_type": "subslide"
    }
   },
   "source": [
    "### Exercise 2: Types for Local Variables\n",
    "\n",
    "In Python, one cannot only annotate arguments with types, but actually also local and global variables – for instance, `approx` and `guess` in our `my_sqrt()` implementation:"
   ]
  },
  {
   "cell_type": "code",
   "execution_count": 191,
   "metadata": {
    "button": false,
    "execution": {
     "iopub.execute_input": "2023-11-12T12:47:48.647739Z",
     "iopub.status.busy": "2023-11-12T12:47:48.647637Z",
     "iopub.status.idle": "2023-11-12T12:47:48.649861Z",
     "shell.execute_reply": "2023-11-12T12:47:48.649550Z"
    },
    "new_sheet": false,
    "run_control": {
     "read_only": false
    },
    "slideshow": {
     "slide_type": "fragment"
    }
   },
   "outputs": [],
   "source": [
    "def my_sqrt_with_local_types(x: Union[int, float]) -> float:\n",
    "    \"\"\"Computes the square root of x, using the Newton-Raphson method\"\"\"\n",
    "    approx: Optional[float] = None\n",
    "    guess: float = x / 2\n",
    "    while approx != guess:\n",
    "        approx = guess\n",
    "        guess = (approx + x / approx) / 2\n",
    "    return approx"
   ]
  },
  {
   "attachments": {},
   "cell_type": "markdown",
   "metadata": {
    "slideshow": {
     "slide_type": "subslide"
    },
    "solution2": "hidden",
    "solution2_first": true
   },
   "source": [
    "Extend the `TypeAnnotator` such that it also annotates local variables with types.  Search the function AST for assignments, determine the type of the assigned value, and make it an annotation on the left-hand side."
   ]
  },
  {
   "cell_type": "markdown",
   "metadata": {
    "slideshow": {
     "slide_type": "skip"
    },
    "solution2": "hidden"
   },
   "source": [
    "**Solution.** Left to the reader."
   ]
  },
  {
   "cell_type": "markdown",
   "metadata": {
    "slideshow": {
     "slide_type": "subslide"
    }
   },
   "source": [
    "### Exercise 3: Verbose Invariant Checkers\n",
    "\n",
    "Our implementation of invariant checkers does not make it clear for the user which pre-/postcondition failed."
   ]
  },
  {
   "cell_type": "code",
   "execution_count": 192,
   "metadata": {
    "execution": {
     "iopub.execute_input": "2023-11-12T12:47:48.651655Z",
     "iopub.status.busy": "2023-11-12T12:47:48.651539Z",
     "iopub.status.idle": "2023-11-12T12:47:48.653350Z",
     "shell.execute_reply": "2023-11-12T12:47:48.653093Z"
    },
    "slideshow": {
     "slide_type": "fragment"
    }
   },
   "outputs": [],
   "source": [
    "@precondition(lambda s: len(s) > 0)\n",
    "def remove_first_char(s):\n",
    "    return s[1:]"
   ]
  },
  {
   "cell_type": "code",
   "execution_count": 193,
   "metadata": {
    "execution": {
     "iopub.execute_input": "2023-11-12T12:47:48.654888Z",
     "iopub.status.busy": "2023-11-12T12:47:48.654775Z",
     "iopub.status.idle": "2023-11-12T12:47:48.656968Z",
     "shell.execute_reply": "2023-11-12T12:47:48.656687Z"
    },
    "slideshow": {
     "slide_type": "subslide"
    }
   },
   "outputs": [
    {
     "name": "stderr",
     "output_type": "stream",
     "text": [
      "Traceback (most recent call last):\n",
      "  File \"/var/folders/n2/xd9445p97rb3xh7m1dfx8_4h0006ts/T/ipykernel_33982/2212034949.py\", line 2, in <cell line: 1>\n",
      "    remove_first_char('')\n",
      "  File \"/var/folders/n2/xd9445p97rb3xh7m1dfx8_4h0006ts/T/ipykernel_33982/906718213.py\", line 6, in wrapper\n",
      "    assert precondition(*args, **kwargs), \"Precondition violated\"\n",
      "AssertionError: Precondition violated (expected)\n"
     ]
    }
   ],
   "source": [
    "with ExpectError():\n",
    "    remove_first_char('')"
   ]
  },
  {
   "cell_type": "markdown",
   "metadata": {
    "slideshow": {
     "slide_type": "fragment"
    }
   },
   "source": [
    "The following implementation adds an optional `doc` keyword argument which is printed if the invariant is violated:"
   ]
  },
  {
   "cell_type": "code",
   "execution_count": 194,
   "metadata": {
    "execution": {
     "iopub.execute_input": "2023-11-12T12:47:48.658539Z",
     "iopub.status.busy": "2023-11-12T12:47:48.658423Z",
     "iopub.status.idle": "2023-11-12T12:47:48.660832Z",
     "shell.execute_reply": "2023-11-12T12:47:48.660586Z"
    },
    "slideshow": {
     "slide_type": "subslide"
    }
   },
   "outputs": [],
   "source": [
    "def verbose_condition(precondition=None, postcondition=None, doc='Unknown'):\n",
    "    def decorator(func):\n",
    "        @functools.wraps(func) # preserves name, docstring, etc\n",
    "        def wrapper(*args, **kwargs):\n",
    "            if precondition is not None:\n",
    "                assert precondition(*args, **kwargs), \"Precondition violated: \" + doc\n",
    "\n",
    "            retval = func(*args, **kwargs) # call original function or method\n",
    "            if postcondition is not None:\n",
    "                assert postcondition(retval, *args, **kwargs), \"Postcondition violated: \" + doc\n",
    "\n",
    "            return retval\n",
    "        return wrapper\n",
    "    return decorator"
   ]
  },
  {
   "cell_type": "code",
   "execution_count": 195,
   "metadata": {
    "execution": {
     "iopub.execute_input": "2023-11-12T12:47:48.662265Z",
     "iopub.status.busy": "2023-11-12T12:47:48.662153Z",
     "iopub.status.idle": "2023-11-12T12:47:48.663968Z",
     "shell.execute_reply": "2023-11-12T12:47:48.663671Z"
    },
    "slideshow": {
     "slide_type": "subslide"
    }
   },
   "outputs": [],
   "source": [
    "def verbose_precondition(check, **kwargs):  # type: ignore\n",
    "    return verbose_condition(precondition=check, doc=kwargs.get('doc', 'Unknown'))"
   ]
  },
  {
   "cell_type": "code",
   "execution_count": 196,
   "metadata": {
    "execution": {
     "iopub.execute_input": "2023-11-12T12:47:48.665429Z",
     "iopub.status.busy": "2023-11-12T12:47:48.665317Z",
     "iopub.status.idle": "2023-11-12T12:47:48.667106Z",
     "shell.execute_reply": "2023-11-12T12:47:48.666854Z"
    },
    "slideshow": {
     "slide_type": "fragment"
    }
   },
   "outputs": [],
   "source": [
    "def verbose_postcondition(check, **kwargs):  # type: ignore\n",
    "    return verbose_condition(postcondition=check, doc=kwargs.get('doc', 'Unknown'))"
   ]
  },
  {
   "cell_type": "code",
   "execution_count": 197,
   "metadata": {
    "execution": {
     "iopub.execute_input": "2023-11-12T12:47:48.668694Z",
     "iopub.status.busy": "2023-11-12T12:47:48.668580Z",
     "iopub.status.idle": "2023-11-12T12:47:48.670976Z",
     "shell.execute_reply": "2023-11-12T12:47:48.670721Z"
    },
    "slideshow": {
     "slide_type": "fragment"
    }
   },
   "outputs": [
    {
     "data": {
      "text/plain": [
       "'bc'"
      ]
     },
     "execution_count": 197,
     "metadata": {},
     "output_type": "execute_result"
    }
   ],
   "source": [
    "@verbose_precondition(lambda s: len(s) > 0, doc=\"len(s) > 0\")  # type: ignore\n",
    "def remove_first_char(s):\n",
    "    return s[1:]\n",
    "\n",
    "remove_first_char('abc')"
   ]
  },
  {
   "cell_type": "code",
   "execution_count": 198,
   "metadata": {
    "execution": {
     "iopub.execute_input": "2023-11-12T12:47:48.672548Z",
     "iopub.status.busy": "2023-11-12T12:47:48.672444Z",
     "iopub.status.idle": "2023-11-12T12:47:48.674211Z",
     "shell.execute_reply": "2023-11-12T12:47:48.673944Z"
    },
    "slideshow": {
     "slide_type": "subslide"
    }
   },
   "outputs": [
    {
     "name": "stderr",
     "output_type": "stream",
     "text": [
      "Traceback (most recent call last):\n",
      "  File \"/var/folders/n2/xd9445p97rb3xh7m1dfx8_4h0006ts/T/ipykernel_33982/2212034949.py\", line 2, in <cell line: 1>\n",
      "    remove_first_char('')\n",
      "  File \"/var/folders/n2/xd9445p97rb3xh7m1dfx8_4h0006ts/T/ipykernel_33982/860932556.py\", line 6, in wrapper\n",
      "    assert precondition(*args, **kwargs), \"Precondition violated: \" + doc\n",
      "AssertionError: Precondition violated: len(s) > 0 (expected)\n"
     ]
    }
   ],
   "source": [
    "with ExpectError():\n",
    "    remove_first_char('')"
   ]
  },
  {
   "cell_type": "markdown",
   "metadata": {
    "slideshow": {
     "slide_type": "fragment"
    },
    "solution2": "hidden",
    "solution2_first": true
   },
   "source": [
    "Extend `InvariantAnnotator` such that it includes the conditions in the generated pre- and postconditions."
   ]
  },
  {
   "cell_type": "markdown",
   "metadata": {
    "slideshow": {
     "slide_type": "skip"
    },
    "solution2": "hidden"
   },
   "source": [
    "**Solution.** Here's a simple solution:"
   ]
  },
  {
   "cell_type": "code",
   "execution_count": 199,
   "metadata": {
    "execution": {
     "iopub.execute_input": "2023-11-12T12:47:48.675758Z",
     "iopub.status.busy": "2023-11-12T12:47:48.675651Z",
     "iopub.status.idle": "2023-11-12T12:47:48.677986Z",
     "shell.execute_reply": "2023-11-12T12:47:48.677718Z"
    },
    "slideshow": {
     "slide_type": "skip"
    },
    "solution2": "hidden"
   },
   "outputs": [],
   "source": [
    "class InvariantAnnotator(InvariantAnnotator):\n",
    "    def preconditions(self, function_name):\n",
    "        conditions = []\n",
    "\n",
    "        for inv in pretty_invariants(self.invariants(function_name)):\n",
    "            if inv.find(RETURN_VALUE) >= 0:\n",
    "                continue  # Postcondition\n",
    "\n",
    "            cond = \"@verbose_precondition(lambda \" + self.params(function_name) + \": \" + inv + ', doc=' + repr(inv) + \")\"\n",
    "            conditions.append(cond)\n",
    "\n",
    "        return conditions"
   ]
  },
  {
   "cell_type": "code",
   "execution_count": 200,
   "metadata": {
    "execution": {
     "iopub.execute_input": "2023-11-12T12:47:48.679433Z",
     "iopub.status.busy": "2023-11-12T12:47:48.679329Z",
     "iopub.status.idle": "2023-11-12T12:47:48.681547Z",
     "shell.execute_reply": "2023-11-12T12:47:48.681276Z"
    },
    "slideshow": {
     "slide_type": "skip"
    },
    "solution2": "hidden"
   },
   "outputs": [],
   "source": [
    "class InvariantAnnotator(InvariantAnnotator):\n",
    "    def postconditions(self, function_name):\n",
    "        conditions = []\n",
    "\n",
    "        for inv in pretty_invariants(self.invariants(function_name)):\n",
    "            if inv.find(RETURN_VALUE) < 0:\n",
    "                continue  # Precondition\n",
    "\n",
    "            cond = (\"@verbose_postcondition(lambda \" + \n",
    "                RETURN_VALUE + \", \" + self.params(function_name) + \": \" + inv + ', doc=' + repr(inv) + \")\")\n",
    "            conditions.append(cond)\n",
    "\n",
    "        return conditions"
   ]
  },
  {
   "cell_type": "markdown",
   "metadata": {
    "slideshow": {
     "slide_type": "skip"
    },
    "solution2": "hidden"
   },
   "source": [
    "The resulting annotations are harder to read, but easier to diagnose:"
   ]
  },
  {
   "cell_type": "code",
   "execution_count": 201,
   "metadata": {
    "execution": {
     "iopub.execute_input": "2023-11-12T12:47:48.683246Z",
     "iopub.status.busy": "2023-11-12T12:47:48.683135Z",
     "iopub.status.idle": "2023-11-12T12:47:48.726536Z",
     "shell.execute_reply": "2023-11-12T12:47:48.726255Z"
    },
    "slideshow": {
     "slide_type": "skip"
    },
    "solution2": "hidden"
   },
   "outputs": [
    {
     "name": "stdout",
     "output_type": "stream",
     "text": [
      "\u001b[90m@verbose_precondition\u001b[39;49;00m(\u001b[34mlambda\u001b[39;49;00m b, a: a != \u001b[34m0\u001b[39;49;00m, doc=\u001b[33m'\u001b[39;49;00m\u001b[33ma != 0\u001b[39;49;00m\u001b[33m'\u001b[39;49;00m)\u001b[37m\u001b[39;49;00m\n",
      "\u001b[90m@verbose_precondition\u001b[39;49;00m(\u001b[34mlambda\u001b[39;49;00m b, a: a <= b, doc=\u001b[33m'\u001b[39;49;00m\u001b[33ma <= b\u001b[39;49;00m\u001b[33m'\u001b[39;49;00m)\u001b[37m\u001b[39;49;00m\n",
      "\u001b[90m@verbose_precondition\u001b[39;49;00m(\u001b[34mlambda\u001b[39;49;00m b, a: a == b, doc=\u001b[33m'\u001b[39;49;00m\u001b[33ma == b\u001b[39;49;00m\u001b[33m'\u001b[39;49;00m)\u001b[37m\u001b[39;49;00m\n",
      "\u001b[90m@verbose_precondition\u001b[39;49;00m(\u001b[34mlambda\u001b[39;49;00m b, a: a > \u001b[34m0\u001b[39;49;00m, doc=\u001b[33m'\u001b[39;49;00m\u001b[33ma > 0\u001b[39;49;00m\u001b[33m'\u001b[39;49;00m)\u001b[37m\u001b[39;49;00m\n",
      "\u001b[90m@verbose_precondition\u001b[39;49;00m(\u001b[34mlambda\u001b[39;49;00m b, a: a >= \u001b[34m0\u001b[39;49;00m, doc=\u001b[33m'\u001b[39;49;00m\u001b[33ma >= 0\u001b[39;49;00m\u001b[33m'\u001b[39;49;00m)\u001b[37m\u001b[39;49;00m\n",
      "\u001b[90m@verbose_precondition\u001b[39;49;00m(\u001b[34mlambda\u001b[39;49;00m b, a: a >= b, doc=\u001b[33m'\u001b[39;49;00m\u001b[33ma >= b\u001b[39;49;00m\u001b[33m'\u001b[39;49;00m)\u001b[37m\u001b[39;49;00m\n",
      "\u001b[90m@verbose_precondition\u001b[39;49;00m(\u001b[34mlambda\u001b[39;49;00m b, a: b != \u001b[34m0\u001b[39;49;00m, doc=\u001b[33m'\u001b[39;49;00m\u001b[33mb != 0\u001b[39;49;00m\u001b[33m'\u001b[39;49;00m)\u001b[37m\u001b[39;49;00m\n",
      "\u001b[90m@verbose_precondition\u001b[39;49;00m(\u001b[34mlambda\u001b[39;49;00m b, a: b <= a, doc=\u001b[33m'\u001b[39;49;00m\u001b[33mb <= a\u001b[39;49;00m\u001b[33m'\u001b[39;49;00m)\u001b[37m\u001b[39;49;00m\n",
      "\u001b[90m@verbose_precondition\u001b[39;49;00m(\u001b[34mlambda\u001b[39;49;00m b, a: b == a, doc=\u001b[33m'\u001b[39;49;00m\u001b[33mb == a\u001b[39;49;00m\u001b[33m'\u001b[39;49;00m)\u001b[37m\u001b[39;49;00m\n",
      "\u001b[90m@verbose_precondition\u001b[39;49;00m(\u001b[34mlambda\u001b[39;49;00m b, a: b > \u001b[34m0\u001b[39;49;00m, doc=\u001b[33m'\u001b[39;49;00m\u001b[33mb > 0\u001b[39;49;00m\u001b[33m'\u001b[39;49;00m)\u001b[37m\u001b[39;49;00m\n",
      "\u001b[90m@verbose_precondition\u001b[39;49;00m(\u001b[34mlambda\u001b[39;49;00m b, a: b >= \u001b[34m0\u001b[39;49;00m, doc=\u001b[33m'\u001b[39;49;00m\u001b[33mb >= 0\u001b[39;49;00m\u001b[33m'\u001b[39;49;00m)\u001b[37m\u001b[39;49;00m\n",
      "\u001b[90m@verbose_precondition\u001b[39;49;00m(\u001b[34mlambda\u001b[39;49;00m b, a: b >= a, doc=\u001b[33m'\u001b[39;49;00m\u001b[33mb >= a\u001b[39;49;00m\u001b[33m'\u001b[39;49;00m)\u001b[37m\u001b[39;49;00m\n",
      "\u001b[90m@verbose_precondition\u001b[39;49;00m(\u001b[34mlambda\u001b[39;49;00m b, a: \u001b[36misinstance\u001b[39;49;00m(a, \u001b[36mint\u001b[39;49;00m), doc=\u001b[33m'\u001b[39;49;00m\u001b[33misinstance(a, int)\u001b[39;49;00m\u001b[33m'\u001b[39;49;00m)\u001b[37m\u001b[39;49;00m\n",
      "\u001b[90m@verbose_precondition\u001b[39;49;00m(\u001b[34mlambda\u001b[39;49;00m b, a: \u001b[36misinstance\u001b[39;49;00m(b, \u001b[36mint\u001b[39;49;00m), doc=\u001b[33m'\u001b[39;49;00m\u001b[33misinstance(b, int)\u001b[39;49;00m\u001b[33m'\u001b[39;49;00m)\u001b[37m\u001b[39;49;00m\n",
      "\u001b[90m@verbose_postcondition\u001b[39;49;00m(\u001b[34mlambda\u001b[39;49;00m return_value, b, a: a < return_value, doc=\u001b[33m'\u001b[39;49;00m\u001b[33ma < return_value\u001b[39;49;00m\u001b[33m'\u001b[39;49;00m)\u001b[37m\u001b[39;49;00m\n",
      "\u001b[90m@verbose_postcondition\u001b[39;49;00m(\u001b[34mlambda\u001b[39;49;00m return_value, b, a: a <= b <= return_value, doc=\u001b[33m'\u001b[39;49;00m\u001b[33ma <= b <= return_value\u001b[39;49;00m\u001b[33m'\u001b[39;49;00m)\u001b[37m\u001b[39;49;00m\n",
      "\u001b[90m@verbose_postcondition\u001b[39;49;00m(\u001b[34mlambda\u001b[39;49;00m return_value, b, a: a <= return_value, doc=\u001b[33m'\u001b[39;49;00m\u001b[33ma <= return_value\u001b[39;49;00m\u001b[33m'\u001b[39;49;00m)\u001b[37m\u001b[39;49;00m\n",
      "\u001b[90m@verbose_postcondition\u001b[39;49;00m(\u001b[34mlambda\u001b[39;49;00m return_value, b, a: a == return_value - b, doc=\u001b[33m'\u001b[39;49;00m\u001b[33ma == return_value - b\u001b[39;49;00m\u001b[33m'\u001b[39;49;00m)\u001b[37m\u001b[39;49;00m\n",
      "\u001b[90m@verbose_postcondition\u001b[39;49;00m(\u001b[34mlambda\u001b[39;49;00m return_value, b, a: a == return_value / b, doc=\u001b[33m'\u001b[39;49;00m\u001b[33ma == return_value / b\u001b[39;49;00m\u001b[33m'\u001b[39;49;00m)\u001b[37m\u001b[39;49;00m\n",
      "\u001b[90m@verbose_postcondition\u001b[39;49;00m(\u001b[34mlambda\u001b[39;49;00m return_value, b, a: b < return_value, doc=\u001b[33m'\u001b[39;49;00m\u001b[33mb < return_value\u001b[39;49;00m\u001b[33m'\u001b[39;49;00m)\u001b[37m\u001b[39;49;00m\n",
      "\u001b[90m@verbose_postcondition\u001b[39;49;00m(\u001b[34mlambda\u001b[39;49;00m return_value, b, a: b <= a <= return_value, doc=\u001b[33m'\u001b[39;49;00m\u001b[33mb <= a <= return_value\u001b[39;49;00m\u001b[33m'\u001b[39;49;00m)\u001b[37m\u001b[39;49;00m\n",
      "\u001b[90m@verbose_postcondition\u001b[39;49;00m(\u001b[34mlambda\u001b[39;49;00m return_value, b, a: b <= return_value, doc=\u001b[33m'\u001b[39;49;00m\u001b[33mb <= return_value\u001b[39;49;00m\u001b[33m'\u001b[39;49;00m)\u001b[37m\u001b[39;49;00m\n",
      "\u001b[90m@verbose_postcondition\u001b[39;49;00m(\u001b[34mlambda\u001b[39;49;00m return_value, b, a: b == return_value - a, doc=\u001b[33m'\u001b[39;49;00m\u001b[33mb == return_value - a\u001b[39;49;00m\u001b[33m'\u001b[39;49;00m)\u001b[37m\u001b[39;49;00m\n",
      "\u001b[90m@verbose_postcondition\u001b[39;49;00m(\u001b[34mlambda\u001b[39;49;00m return_value, b, a: b == return_value / a, doc=\u001b[33m'\u001b[39;49;00m\u001b[33mb == return_value / a\u001b[39;49;00m\u001b[33m'\u001b[39;49;00m)\u001b[37m\u001b[39;49;00m\n",
      "\u001b[90m@verbose_postcondition\u001b[39;49;00m(\u001b[34mlambda\u001b[39;49;00m return_value, b, a: \u001b[36misinstance\u001b[39;49;00m(return_value, \u001b[36mint\u001b[39;49;00m), doc=\u001b[33m'\u001b[39;49;00m\u001b[33misinstance(return_value, int)\u001b[39;49;00m\u001b[33m'\u001b[39;49;00m)\u001b[37m\u001b[39;49;00m\n",
      "\u001b[90m@verbose_postcondition\u001b[39;49;00m(\u001b[34mlambda\u001b[39;49;00m return_value, b, a: return_value != \u001b[34m0\u001b[39;49;00m, doc=\u001b[33m'\u001b[39;49;00m\u001b[33mreturn_value != 0\u001b[39;49;00m\u001b[33m'\u001b[39;49;00m)\u001b[37m\u001b[39;49;00m\n",
      "\u001b[90m@verbose_postcondition\u001b[39;49;00m(\u001b[34mlambda\u001b[39;49;00m return_value, b, a: return_value == a * b, doc=\u001b[33m'\u001b[39;49;00m\u001b[33mreturn_value == a * b\u001b[39;49;00m\u001b[33m'\u001b[39;49;00m)\u001b[37m\u001b[39;49;00m\n",
      "\u001b[90m@verbose_postcondition\u001b[39;49;00m(\u001b[34mlambda\u001b[39;49;00m return_value, b, a: return_value == a + b, doc=\u001b[33m'\u001b[39;49;00m\u001b[33mreturn_value == a + b\u001b[39;49;00m\u001b[33m'\u001b[39;49;00m)\u001b[37m\u001b[39;49;00m\n",
      "\u001b[90m@verbose_postcondition\u001b[39;49;00m(\u001b[34mlambda\u001b[39;49;00m return_value, b, a: return_value == b * a, doc=\u001b[33m'\u001b[39;49;00m\u001b[33mreturn_value == b * a\u001b[39;49;00m\u001b[33m'\u001b[39;49;00m)\u001b[37m\u001b[39;49;00m\n",
      "\u001b[90m@verbose_postcondition\u001b[39;49;00m(\u001b[34mlambda\u001b[39;49;00m return_value, b, a: return_value == b + a, doc=\u001b[33m'\u001b[39;49;00m\u001b[33mreturn_value == b + a\u001b[39;49;00m\u001b[33m'\u001b[39;49;00m)\u001b[37m\u001b[39;49;00m\n",
      "\u001b[90m@verbose_postcondition\u001b[39;49;00m(\u001b[34mlambda\u001b[39;49;00m return_value, b, a: return_value > \u001b[34m0\u001b[39;49;00m, doc=\u001b[33m'\u001b[39;49;00m\u001b[33mreturn_value > 0\u001b[39;49;00m\u001b[33m'\u001b[39;49;00m)\u001b[37m\u001b[39;49;00m\n",
      "\u001b[90m@verbose_postcondition\u001b[39;49;00m(\u001b[34mlambda\u001b[39;49;00m return_value, b, a: return_value > a, doc=\u001b[33m'\u001b[39;49;00m\u001b[33mreturn_value > a\u001b[39;49;00m\u001b[33m'\u001b[39;49;00m)\u001b[37m\u001b[39;49;00m\n",
      "\u001b[90m@verbose_postcondition\u001b[39;49;00m(\u001b[34mlambda\u001b[39;49;00m return_value, b, a: return_value > b, doc=\u001b[33m'\u001b[39;49;00m\u001b[33mreturn_value > b\u001b[39;49;00m\u001b[33m'\u001b[39;49;00m)\u001b[37m\u001b[39;49;00m\n",
      "\u001b[90m@verbose_postcondition\u001b[39;49;00m(\u001b[34mlambda\u001b[39;49;00m return_value, b, a: return_value >= \u001b[34m0\u001b[39;49;00m, doc=\u001b[33m'\u001b[39;49;00m\u001b[33mreturn_value >= 0\u001b[39;49;00m\u001b[33m'\u001b[39;49;00m)\u001b[37m\u001b[39;49;00m\n",
      "\u001b[90m@verbose_postcondition\u001b[39;49;00m(\u001b[34mlambda\u001b[39;49;00m return_value, b, a: return_value >= a, doc=\u001b[33m'\u001b[39;49;00m\u001b[33mreturn_value >= a\u001b[39;49;00m\u001b[33m'\u001b[39;49;00m)\u001b[37m\u001b[39;49;00m\n",
      "\u001b[90m@verbose_postcondition\u001b[39;49;00m(\u001b[34mlambda\u001b[39;49;00m return_value, b, a: return_value >= a >= b, doc=\u001b[33m'\u001b[39;49;00m\u001b[33mreturn_value >= a >= b\u001b[39;49;00m\u001b[33m'\u001b[39;49;00m)\u001b[37m\u001b[39;49;00m\n",
      "\u001b[90m@verbose_postcondition\u001b[39;49;00m(\u001b[34mlambda\u001b[39;49;00m return_value, b, a: return_value >= b, doc=\u001b[33m'\u001b[39;49;00m\u001b[33mreturn_value >= b\u001b[39;49;00m\u001b[33m'\u001b[39;49;00m)\u001b[37m\u001b[39;49;00m\n",
      "\u001b[90m@verbose_postcondition\u001b[39;49;00m(\u001b[34mlambda\u001b[39;49;00m return_value, b, a: return_value >= b >= a, doc=\u001b[33m'\u001b[39;49;00m\u001b[33mreturn_value >= b >= a\u001b[39;49;00m\u001b[33m'\u001b[39;49;00m)\u001b[37m\u001b[39;49;00m\n",
      "\u001b[34mdef\u001b[39;49;00m \u001b[32msum2\u001b[39;49;00m(a, b):\u001b[37m\u001b[39;49;00m\n",
      "    \u001b[34mreturn\u001b[39;49;00m a + b\u001b[37m\u001b[39;49;00m"
     ]
    }
   ],
   "source": [
    "with InvariantAnnotator() as annotator:\n",
    "    y = sum2(2, 2)\n",
    "print_content(annotator.functions_with_invariants(), '.py')"
   ]
  },
  {
   "cell_type": "markdown",
   "metadata": {
    "slideshow": {
     "slide_type": "skip"
    },
    "solution2": "hidden"
   },
   "source": [
    "As an alternative, one may be able to use `inspect.getsource()` on the lambda expression or unparse it.  This is left to the reader."
   ]
  },
  {
   "cell_type": "markdown",
   "metadata": {
    "slideshow": {
     "slide_type": "subslide"
    },
    "solution2": "hidden",
    "solution2_first": true
   },
   "source": [
    "### Exercise 4: Save Initial Values\n",
    "\n",
    "If the value of an argument changes during function execution, this can easily confuse our implementation: The values are tracked at the beginning of the function, but checked only when it returns.  Extend the `InvariantAnnotator` and the infrastructure it uses such that\n",
    "\n",
    "* it saves argument values both at the beginning and at the end of a function invocation;\n",
    "* postconditions can be expressed over both _initial_ values of arguments as well as the _final_ values of arguments;\n",
    "* the mined postconditions refer to both these values as well."
   ]
  },
  {
   "cell_type": "markdown",
   "metadata": {
    "button": false,
    "new_sheet": true,
    "run_control": {
     "read_only": false
    },
    "slideshow": {
     "slide_type": "skip"
    },
    "solution2": "hidden"
   },
   "source": [
    "**Solution.** To be added."
   ]
  },
  {
   "cell_type": "markdown",
   "metadata": {
    "slideshow": {
     "slide_type": "subslide"
    },
    "solution2": "hidden",
    "solution2_first": true
   },
   "source": [
    "### Exercise 5: Implications\n",
    "\n",
    "Several mined invariant are actually _implied_ by others: If `x > 0` holds, then this implies `x >= 0` and `x != 0`.  Extend the `InvariantAnnotator` such that implications between properties are explicitly encoded, and such that implied properties are no longer listed as invariants.  See \\cite{Ernst2001} for ideas."
   ]
  },
  {
   "cell_type": "markdown",
   "metadata": {
    "slideshow": {
     "slide_type": "skip"
    },
    "solution2": "hidden"
   },
   "source": [
    "**Solution.** Left to the reader."
   ]
  },
  {
   "cell_type": "markdown",
   "metadata": {
    "slideshow": {
     "slide_type": "subslide"
    },
    "solution2": "hidden",
    "solution2_first": true
   },
   "source": [
    "### Exercise 6: Local Variables\n",
    "\n",
    "Postconditions may also refer to the values of local variables.  Consider extending `InvariantAnnotator` and its infrastructure such that the values of local variables at the end of the execution are also recorded and made part of the invariant inference mechanism."
   ]
  },
  {
   "cell_type": "markdown",
   "metadata": {
    "slideshow": {
     "slide_type": "skip"
    },
    "solution2": "hidden"
   },
   "source": [
    "**Solution.** Left to the reader."
   ]
  },
  {
   "cell_type": "markdown",
   "metadata": {
    "slideshow": {
     "slide_type": "subslide"
    },
    "solution2": "hidden",
    "solution2_first": true
   },
   "source": [
    "### Exercise 7: Exploring Invariant Alternatives\n",
    "\n",
    "After mining a first set of invariants, have a [concolic fuzzer](ConcolicFuzzer.ipynb) generate tests that systematically attempt to invalidate pre- and postconditions.  How far can you generalize?"
   ]
  },
  {
   "cell_type": "markdown",
   "metadata": {
    "slideshow": {
     "slide_type": "skip"
    },
    "solution2": "hidden"
   },
   "source": [
    "**Solution.** To be added."
   ]
  },
  {
   "cell_type": "markdown",
   "metadata": {
    "slideshow": {
     "slide_type": "subslide"
    },
    "solution2": "hidden",
    "solution2_first": true
   },
   "source": [
    "### Exercise 8: Grammar-Generated Properties\n",
    "\n",
    "The larger the set of properties to be checked, the more potential invariants can be discovered.  Create a _grammar_ that systematically produces a large set of properties.  See \\cite{Ernst2001} for possible patterns."
   ]
  },
  {
   "cell_type": "markdown",
   "metadata": {
    "slideshow": {
     "slide_type": "skip"
    },
    "solution2": "hidden"
   },
   "source": [
    "**Solution.** Left to the reader."
   ]
  },
  {
   "cell_type": "markdown",
   "metadata": {
    "button": false,
    "new_sheet": false,
    "run_control": {
     "read_only": false
    },
    "slideshow": {
     "slide_type": "subslide"
    },
    "solution": "hidden",
    "solution2": "hidden",
    "solution2_first": true,
    "solution_first": true,
    "toc-hr-collapsed": false
   },
   "source": [
    "### Exercise 9: Embedding Invariants as Assertions\n",
    "\n",
    "Rather than producing invariants as annotations for pre- and postconditions, insert them as `assert` statements into the function code, as in:\n",
    "\n",
    "```python\n",
    "def my_sqrt(x):\n",
    "    'Computes the square root of x, using the Newton-Raphson method'\n",
    "    assert isinstance(x, int), 'violated precondition'\n",
    "    assert (x > 0), 'violated precondition'\n",
    "    approx = None\n",
    "    guess = (x / 2)\n",
    "    while (approx != guess):\n",
    "        approx = guess\n",
    "        guess = ((approx + (x / approx)) / 2)\n",
    "    return_value = approx\n",
    "    assert (return_value < x), 'violated postcondition'\n",
    "    assert isinstance(return_value, float), 'violated postcondition'\n",
    "    return approx\n",
    "```\n",
    "\n",
    "Such a formulation may make it easier for test generators and symbolic analysis to access and interpret pre- and postconditions."
   ]
  },
  {
   "cell_type": "markdown",
   "metadata": {
    "button": false,
    "new_sheet": false,
    "run_control": {
     "read_only": false
    },
    "slideshow": {
     "slide_type": "skip"
    },
    "solution": "hidden",
    "solution2": "hidden"
   },
   "source": [
    "**Solution.** Here is a tentative implementation that inserts invariants into function ASTs."
   ]
  },
  {
   "cell_type": "markdown",
   "metadata": {
    "slideshow": {
     "slide_type": "skip"
    },
    "solution2": "hidden",
    "toc-hr-collapsed": true
   },
   "source": [
    "Part 1: Embedding Invariants into Functions"
   ]
  },
  {
   "cell_type": "code",
   "execution_count": 202,
   "metadata": {
    "execution": {
     "iopub.execute_input": "2023-11-12T12:47:48.728502Z",
     "iopub.status.busy": "2023-11-12T12:47:48.728386Z",
     "iopub.status.idle": "2023-11-12T12:47:48.731189Z",
     "shell.execute_reply": "2023-11-12T12:47:48.730954Z"
    },
    "slideshow": {
     "slide_type": "skip"
    },
    "solution2": "hidden"
   },
   "outputs": [],
   "source": [
    "class EmbeddedInvariantAnnotator(InvariantTracker):\n",
    "    def functions_with_invariants_ast(self, function_name=None):\n",
    "        if function_name is None:\n",
    "            return annotate_functions_with_invariants(self.invariants())\n",
    "        \n",
    "        return annotate_function_with_invariants(function_name, self.invariants(function_name))\n",
    "    \n",
    "    def functions_with_invariants(self, function_name=None):\n",
    "        if function_name is None:\n",
    "            functions = ''\n",
    "            for f_name in self.invariants():\n",
    "                try:\n",
    "                    f_text = ast.unparse(self.functions_with_invariants_ast(f_name))\n",
    "                except KeyError:\n",
    "                    f_text = ''\n",
    "                functions += f_text\n",
    "            return functions\n",
    "\n",
    "        return ast.unparse(self.functions_with_invariants_ast(function_name))\n",
    "    \n",
    "    def function_with_invariants(self, function_name):\n",
    "        return self.functions_with_invariants(function_name)\n",
    "    def function_with_invariants_ast(self, function_name):\n",
    "        return self.functions_with_invariants_ast(function_name)"
   ]
  },
  {
   "cell_type": "code",
   "execution_count": 203,
   "metadata": {
    "execution": {
     "iopub.execute_input": "2023-11-12T12:47:48.732693Z",
     "iopub.status.busy": "2023-11-12T12:47:48.732592Z",
     "iopub.status.idle": "2023-11-12T12:47:48.734545Z",
     "shell.execute_reply": "2023-11-12T12:47:48.734282Z"
    },
    "slideshow": {
     "slide_type": "skip"
    },
    "solution2": "hidden"
   },
   "outputs": [],
   "source": [
    "def annotate_invariants(invariants):\n",
    "    annotated_functions = {}\n",
    "    \n",
    "    for function_name in invariants:\n",
    "        try:\n",
    "            annotated_functions[function_name] = annotate_function_with_invariants(function_name, invariants[function_name])\n",
    "        except KeyError:\n",
    "            continue\n",
    "\n",
    "    return annotated_functions"
   ]
  },
  {
   "cell_type": "code",
   "execution_count": 204,
   "metadata": {
    "execution": {
     "iopub.execute_input": "2023-11-12T12:47:48.736043Z",
     "iopub.status.busy": "2023-11-12T12:47:48.735929Z",
     "iopub.status.idle": "2023-11-12T12:47:48.737802Z",
     "shell.execute_reply": "2023-11-12T12:47:48.737556Z"
    },
    "slideshow": {
     "slide_type": "skip"
    },
    "solution2": "hidden"
   },
   "outputs": [],
   "source": [
    "def annotate_function_with_invariants(function_name, function_invariants):\n",
    "    function = globals()[function_name]\n",
    "    function_code = inspect.getsource(function)\n",
    "    function_ast = ast.parse(function_code)\n",
    "    return annotate_function_ast_with_invariants(function_ast, function_invariants)"
   ]
  },
  {
   "cell_type": "code",
   "execution_count": 205,
   "metadata": {
    "execution": {
     "iopub.execute_input": "2023-11-12T12:47:48.739377Z",
     "iopub.status.busy": "2023-11-12T12:47:48.739281Z",
     "iopub.status.idle": "2023-11-12T12:47:48.740889Z",
     "shell.execute_reply": "2023-11-12T12:47:48.740666Z"
    },
    "slideshow": {
     "slide_type": "skip"
    },
    "solution2": "hidden"
   },
   "outputs": [],
   "source": [
    "def annotate_function_ast_with_invariants(function_ast, function_invariants):\n",
    "    annotated_function_ast = EmbeddedInvariantTransformer(function_invariants).visit(function_ast)\n",
    "    return annotated_function_ast"
   ]
  },
  {
   "cell_type": "markdown",
   "metadata": {
    "slideshow": {
     "slide_type": "skip"
    },
    "solution2": "hidden"
   },
   "source": [
    "Part 2: Preconditions"
   ]
  },
  {
   "cell_type": "code",
   "execution_count": 206,
   "metadata": {
    "execution": {
     "iopub.execute_input": "2023-11-12T12:47:48.742587Z",
     "iopub.status.busy": "2023-11-12T12:47:48.742474Z",
     "iopub.status.idle": "2023-11-12T12:47:48.745448Z",
     "shell.execute_reply": "2023-11-12T12:47:48.745172Z"
    },
    "slideshow": {
     "slide_type": "skip"
    },
    "solution2": "hidden"
   },
   "outputs": [],
   "source": [
    "class PreconditionTransformer(ast.NodeTransformer):\n",
    "    def __init__(self, invariants):\n",
    "        self.invariants = invariants\n",
    "        super().__init__()\n",
    "\n",
    "    def preconditions(self):\n",
    "        preconditions = []\n",
    "        for (prop, var_names) in self.invariants:\n",
    "            assertion = \"assert \" + instantiate_prop(prop, var_names) + ', \"violated precondition\"'\n",
    "            assertion_ast = ast.parse(assertion)\n",
    "\n",
    "            if assertion.find(RETURN_VALUE) < 0:\n",
    "                preconditions += assertion_ast.body\n",
    "\n",
    "        return preconditions\n",
    "\n",
    "    def insert_assertions(self, body):\n",
    "        preconditions = self.preconditions()\n",
    "        try:\n",
    "            docstring = body[0].value.s\n",
    "        except:\n",
    "            docstring = None\n",
    "\n",
    "        if docstring:\n",
    "            return [body[0]] + preconditions + body[1:]\n",
    "        else:\n",
    "            return preconditions + body\n",
    "\n",
    "    def visit_FunctionDef(self, node):\n",
    "        \"\"\"Add invariants to function\"\"\"\n",
    "        # print(ast.dump(node))\n",
    "        node.body = self.insert_assertions(node.body)\n",
    "        return node    "
   ]
  },
  {
   "cell_type": "code",
   "execution_count": 207,
   "metadata": {
    "execution": {
     "iopub.execute_input": "2023-11-12T12:47:48.747054Z",
     "iopub.status.busy": "2023-11-12T12:47:48.746931Z",
     "iopub.status.idle": "2023-11-12T12:47:48.748557Z",
     "shell.execute_reply": "2023-11-12T12:47:48.748313Z"
    },
    "slideshow": {
     "slide_type": "skip"
    },
    "solution2": "hidden"
   },
   "outputs": [],
   "source": [
    "class EmbeddedInvariantTransformer(PreconditionTransformer):\n",
    "    pass"
   ]
  },
  {
   "cell_type": "code",
   "execution_count": 208,
   "metadata": {
    "execution": {
     "iopub.execute_input": "2023-11-12T12:47:48.750124Z",
     "iopub.status.busy": "2023-11-12T12:47:48.750024Z",
     "iopub.status.idle": "2023-11-12T12:47:48.751648Z",
     "shell.execute_reply": "2023-11-12T12:47:48.751392Z"
    },
    "slideshow": {
     "slide_type": "skip"
    },
    "solution2": "hidden"
   },
   "outputs": [],
   "source": [
    "with EmbeddedInvariantAnnotator() as annotator:\n",
    "    my_sqrt(5)"
   ]
  },
  {
   "cell_type": "code",
   "execution_count": 209,
   "metadata": {
    "execution": {
     "iopub.execute_input": "2023-11-12T12:47:48.753033Z",
     "iopub.status.busy": "2023-11-12T12:47:48.752953Z",
     "iopub.status.idle": "2023-11-12T12:47:48.786724Z",
     "shell.execute_reply": "2023-11-12T12:47:48.786455Z"
    },
    "slideshow": {
     "slide_type": "skip"
    },
    "solution2": "hidden"
   },
   "outputs": [
    {
     "name": "stdout",
     "output_type": "stream",
     "text": [
      "\u001b[34mdef\u001b[39;49;00m \u001b[32mmy_sqrt\u001b[39;49;00m(x):\u001b[37m\u001b[39;49;00m\n",
      "\u001b[37m    \u001b[39;49;00m\u001b[33m\"\"\"Computes the square root of x, using the Newton-Raphson method\"\"\"\u001b[39;49;00m\u001b[37m\u001b[39;49;00m\n",
      "    \u001b[34massert\u001b[39;49;00m \u001b[36misinstance\u001b[39;49;00m(x, \u001b[36mint\u001b[39;49;00m), \u001b[33m'\u001b[39;49;00m\u001b[33mviolated precondition\u001b[39;49;00m\u001b[33m'\u001b[39;49;00m\u001b[37m\u001b[39;49;00m\n",
      "    \u001b[34massert\u001b[39;49;00m x != \u001b[34m0\u001b[39;49;00m, \u001b[33m'\u001b[39;49;00m\u001b[33mviolated precondition\u001b[39;49;00m\u001b[33m'\u001b[39;49;00m\u001b[37m\u001b[39;49;00m\n",
      "    \u001b[34massert\u001b[39;49;00m x >= \u001b[34m0\u001b[39;49;00m, \u001b[33m'\u001b[39;49;00m\u001b[33mviolated precondition\u001b[39;49;00m\u001b[33m'\u001b[39;49;00m\u001b[37m\u001b[39;49;00m\n",
      "    \u001b[34massert\u001b[39;49;00m x > \u001b[34m0\u001b[39;49;00m, \u001b[33m'\u001b[39;49;00m\u001b[33mviolated precondition\u001b[39;49;00m\u001b[33m'\u001b[39;49;00m\u001b[37m\u001b[39;49;00m\n",
      "    approx = \u001b[34mNone\u001b[39;49;00m\u001b[37m\u001b[39;49;00m\n",
      "    guess = x / \u001b[34m2\u001b[39;49;00m\u001b[37m\u001b[39;49;00m\n",
      "    \u001b[34mwhile\u001b[39;49;00m approx != guess:\u001b[37m\u001b[39;49;00m\n",
      "        approx = guess\u001b[37m\u001b[39;49;00m\n",
      "        guess = (approx + x / approx) / \u001b[34m2\u001b[39;49;00m\u001b[37m\u001b[39;49;00m\n",
      "    \u001b[34mreturn\u001b[39;49;00m approx\u001b[37m\u001b[39;49;00m"
     ]
    }
   ],
   "source": [
    "print_content(annotator.functions_with_invariants(), '.py')"
   ]
  },
  {
   "cell_type": "code",
   "execution_count": 210,
   "metadata": {
    "execution": {
     "iopub.execute_input": "2023-11-12T12:47:48.788312Z",
     "iopub.status.busy": "2023-11-12T12:47:48.788221Z",
     "iopub.status.idle": "2023-11-12T12:47:48.790161Z",
     "shell.execute_reply": "2023-11-12T12:47:48.789909Z"
    },
    "slideshow": {
     "slide_type": "skip"
    },
    "solution2": "hidden"
   },
   "outputs": [],
   "source": [
    "with EmbeddedInvariantAnnotator() as annotator:\n",
    "    y = sum3(3, 4, 5)\n",
    "    y = sum3(-3, -4, -5)\n",
    "    y = sum3(0, 0, 0)"
   ]
  },
  {
   "cell_type": "code",
   "execution_count": 211,
   "metadata": {
    "execution": {
     "iopub.execute_input": "2023-11-12T12:47:48.791701Z",
     "iopub.status.busy": "2023-11-12T12:47:48.791612Z",
     "iopub.status.idle": "2023-11-12T12:47:48.831235Z",
     "shell.execute_reply": "2023-11-12T12:47:48.830963Z"
    },
    "slideshow": {
     "slide_type": "skip"
    },
    "solution2": "hidden"
   },
   "outputs": [
    {
     "name": "stdout",
     "output_type": "stream",
     "text": [
      "\u001b[34mdef\u001b[39;49;00m \u001b[32msum3\u001b[39;49;00m(a, b, c):\u001b[37m\u001b[39;49;00m\n",
      "    \u001b[34massert\u001b[39;49;00m \u001b[36misinstance\u001b[39;49;00m(a, \u001b[36mint\u001b[39;49;00m), \u001b[33m'\u001b[39;49;00m\u001b[33mviolated precondition\u001b[39;49;00m\u001b[33m'\u001b[39;49;00m\u001b[37m\u001b[39;49;00m\n",
      "    \u001b[34massert\u001b[39;49;00m \u001b[36misinstance\u001b[39;49;00m(b, \u001b[36mint\u001b[39;49;00m), \u001b[33m'\u001b[39;49;00m\u001b[33mviolated precondition\u001b[39;49;00m\u001b[33m'\u001b[39;49;00m\u001b[37m\u001b[39;49;00m\n",
      "    \u001b[34massert\u001b[39;49;00m \u001b[36misinstance\u001b[39;49;00m(c, \u001b[36mint\u001b[39;49;00m), \u001b[33m'\u001b[39;49;00m\u001b[33mviolated precondition\u001b[39;49;00m\u001b[33m'\u001b[39;49;00m\u001b[37m\u001b[39;49;00m\n",
      "    \u001b[34mreturn\u001b[39;49;00m a + b + c\u001b[37m\u001b[39;49;00m"
     ]
    }
   ],
   "source": [
    "print_content(annotator.functions_with_invariants(), '.py')"
   ]
  },
  {
   "cell_type": "markdown",
   "metadata": {
    "slideshow": {
     "slide_type": "skip"
    },
    "solution2": "hidden"
   },
   "source": [
    "Part 3: Postconditions\n",
    "\n",
    "We make a few simplifying assumptions: \n",
    "\n",
    "* Variables do not change during execution.\n",
    "* There is a single `return` statement at the end of the function."
   ]
  },
  {
   "cell_type": "code",
   "execution_count": 212,
   "metadata": {
    "execution": {
     "iopub.execute_input": "2023-11-12T12:47:48.833442Z",
     "iopub.status.busy": "2023-11-12T12:47:48.833296Z",
     "iopub.status.idle": "2023-11-12T12:47:48.836503Z",
     "shell.execute_reply": "2023-11-12T12:47:48.836240Z"
    },
    "slideshow": {
     "slide_type": "skip"
    },
    "solution2": "hidden"
   },
   "outputs": [],
   "source": [
    "class EmbeddedInvariantTransformer(PreconditionTransformer):\n",
    "    def postconditions(self):\n",
    "        postconditions = []\n",
    "\n",
    "        for (prop, var_names) in self.invariants:\n",
    "            assertion = \"assert \" + instantiate_prop(prop, var_names) + ', \"violated postcondition\"'\n",
    "            assertion_ast = ast.parse(assertion)\n",
    "\n",
    "            if assertion.find(RETURN_VALUE) >= 0:\n",
    "                postconditions += assertion_ast.body\n",
    "\n",
    "        return postconditions\n",
    "    \n",
    "    def insert_assertions(self, body):\n",
    "        new_body = super().insert_assertions(body)\n",
    "        postconditions = self.postconditions()\n",
    "\n",
    "        body_ends_with_return = isinstance(new_body[-1], ast.Return)\n",
    "        if body_ends_with_return:\n",
    "            saver = RETURN_VALUE + \" = \" + ast.unparse(new_body[-1].value)\n",
    "        else:\n",
    "            saver = RETURN_VALUE + \" = None\"\n",
    "    \n",
    "        saver_ast = ast.parse(saver)\n",
    "        postconditions = [saver_ast] + postconditions\n",
    "\n",
    "        if body_ends_with_return:\n",
    "            return new_body[:-1] + postconditions + [new_body[-1]]\n",
    "        else:\n",
    "            return new_body + postconditions"
   ]
  },
  {
   "cell_type": "code",
   "execution_count": 213,
   "metadata": {
    "execution": {
     "iopub.execute_input": "2023-11-12T12:47:48.838010Z",
     "iopub.status.busy": "2023-11-12T12:47:48.837924Z",
     "iopub.status.idle": "2023-11-12T12:47:48.839589Z",
     "shell.execute_reply": "2023-11-12T12:47:48.839327Z"
    },
    "slideshow": {
     "slide_type": "skip"
    },
    "solution2": "hidden"
   },
   "outputs": [],
   "source": [
    "with EmbeddedInvariantAnnotator() as annotator:\n",
    "    my_sqrt(5)"
   ]
  },
  {
   "cell_type": "code",
   "execution_count": 214,
   "metadata": {
    "execution": {
     "iopub.execute_input": "2023-11-12T12:47:48.841097Z",
     "iopub.status.busy": "2023-11-12T12:47:48.841010Z",
     "iopub.status.idle": "2023-11-12T12:47:48.846519Z",
     "shell.execute_reply": "2023-11-12T12:47:48.846278Z"
    },
    "slideshow": {
     "slide_type": "skip"
    },
    "solution2": "hidden"
   },
   "outputs": [],
   "source": [
    "my_sqrt_def = annotator.functions_with_invariants()"
   ]
  },
  {
   "cell_type": "markdown",
   "metadata": {
    "slideshow": {
     "slide_type": "skip"
    },
    "solution2": "hidden"
   },
   "source": [
    "Here's the full definition with included assertions:"
   ]
  },
  {
   "cell_type": "code",
   "execution_count": 215,
   "metadata": {
    "execution": {
     "iopub.execute_input": "2023-11-12T12:47:48.848031Z",
     "iopub.status.busy": "2023-11-12T12:47:48.847953Z",
     "iopub.status.idle": "2023-11-12T12:47:48.880014Z",
     "shell.execute_reply": "2023-11-12T12:47:48.879751Z"
    },
    "slideshow": {
     "slide_type": "skip"
    },
    "solution2": "hidden"
   },
   "outputs": [
    {
     "name": "stdout",
     "output_type": "stream",
     "text": [
      "\u001b[34mdef\u001b[39;49;00m \u001b[32mmy_sqrt\u001b[39;49;00m(x):\u001b[37m\u001b[39;49;00m\n",
      "\u001b[37m    \u001b[39;49;00m\u001b[33m\"\"\"Computes the square root of x, using the Newton-Raphson method\"\"\"\u001b[39;49;00m\u001b[37m\u001b[39;49;00m\n",
      "    \u001b[34massert\u001b[39;49;00m \u001b[36misinstance\u001b[39;49;00m(x, \u001b[36mint\u001b[39;49;00m), \u001b[33m'\u001b[39;49;00m\u001b[33mviolated precondition\u001b[39;49;00m\u001b[33m'\u001b[39;49;00m\u001b[37m\u001b[39;49;00m\n",
      "    \u001b[34massert\u001b[39;49;00m x != \u001b[34m0\u001b[39;49;00m, \u001b[33m'\u001b[39;49;00m\u001b[33mviolated precondition\u001b[39;49;00m\u001b[33m'\u001b[39;49;00m\u001b[37m\u001b[39;49;00m\n",
      "    \u001b[34massert\u001b[39;49;00m x >= \u001b[34m0\u001b[39;49;00m, \u001b[33m'\u001b[39;49;00m\u001b[33mviolated precondition\u001b[39;49;00m\u001b[33m'\u001b[39;49;00m\u001b[37m\u001b[39;49;00m\n",
      "    \u001b[34massert\u001b[39;49;00m x > \u001b[34m0\u001b[39;49;00m, \u001b[33m'\u001b[39;49;00m\u001b[33mviolated precondition\u001b[39;49;00m\u001b[33m'\u001b[39;49;00m\u001b[37m\u001b[39;49;00m\n",
      "    approx = \u001b[34mNone\u001b[39;49;00m\u001b[37m\u001b[39;49;00m\n",
      "    guess = x / \u001b[34m2\u001b[39;49;00m\u001b[37m\u001b[39;49;00m\n",
      "    \u001b[34mwhile\u001b[39;49;00m approx != guess:\u001b[37m\u001b[39;49;00m\n",
      "        approx = guess\u001b[37m\u001b[39;49;00m\n",
      "        guess = (approx + x / approx) / \u001b[34m2\u001b[39;49;00m\u001b[37m\u001b[39;49;00m\n",
      "    return_value = approx\u001b[37m\u001b[39;49;00m\n",
      "    \u001b[34massert\u001b[39;49;00m return_value > \u001b[34m0\u001b[39;49;00m, \u001b[33m'\u001b[39;49;00m\u001b[33mviolated postcondition\u001b[39;49;00m\u001b[33m'\u001b[39;49;00m\u001b[37m\u001b[39;49;00m\n",
      "    \u001b[34massert\u001b[39;49;00m x >= return_value, \u001b[33m'\u001b[39;49;00m\u001b[33mviolated postcondition\u001b[39;49;00m\u001b[33m'\u001b[39;49;00m\u001b[37m\u001b[39;49;00m\n",
      "    \u001b[34massert\u001b[39;49;00m \u001b[36misinstance\u001b[39;49;00m(return_value, \u001b[36mfloat\u001b[39;49;00m), \u001b[33m'\u001b[39;49;00m\u001b[33mviolated postcondition\u001b[39;49;00m\u001b[33m'\u001b[39;49;00m\u001b[37m\u001b[39;49;00m\n",
      "    \u001b[34massert\u001b[39;49;00m x > return_value, \u001b[33m'\u001b[39;49;00m\u001b[33mviolated postcondition\u001b[39;49;00m\u001b[33m'\u001b[39;49;00m\u001b[37m\u001b[39;49;00m\n",
      "    \u001b[34massert\u001b[39;49;00m return_value >= \u001b[34m0\u001b[39;49;00m, \u001b[33m'\u001b[39;49;00m\u001b[33mviolated postcondition\u001b[39;49;00m\u001b[33m'\u001b[39;49;00m\u001b[37m\u001b[39;49;00m\n",
      "    \u001b[34massert\u001b[39;49;00m return_value < x, \u001b[33m'\u001b[39;49;00m\u001b[33mviolated postcondition\u001b[39;49;00m\u001b[33m'\u001b[39;49;00m\u001b[37m\u001b[39;49;00m\n",
      "    \u001b[34massert\u001b[39;49;00m return_value != \u001b[34m0\u001b[39;49;00m, \u001b[33m'\u001b[39;49;00m\u001b[33mviolated postcondition\u001b[39;49;00m\u001b[33m'\u001b[39;49;00m\u001b[37m\u001b[39;49;00m\n",
      "    \u001b[34massert\u001b[39;49;00m return_value <= x, \u001b[33m'\u001b[39;49;00m\u001b[33mviolated postcondition\u001b[39;49;00m\u001b[33m'\u001b[39;49;00m\u001b[37m\u001b[39;49;00m\n",
      "    \u001b[34mreturn\u001b[39;49;00m approx\u001b[37m\u001b[39;49;00m"
     ]
    }
   ],
   "source": [
    "print_content(my_sqrt_def, '.py')"
   ]
  },
  {
   "cell_type": "code",
   "execution_count": 216,
   "metadata": {
    "execution": {
     "iopub.execute_input": "2023-11-12T12:47:48.881688Z",
     "iopub.status.busy": "2023-11-12T12:47:48.881591Z",
     "iopub.status.idle": "2023-11-12T12:47:48.883729Z",
     "shell.execute_reply": "2023-11-12T12:47:48.883355Z"
    },
    "slideshow": {
     "slide_type": "skip"
    },
    "solution2": "hidden"
   },
   "outputs": [],
   "source": [
    "exec(my_sqrt_def.replace('my_sqrt', 'my_sqrt_annotated'))"
   ]
  },
  {
   "cell_type": "code",
   "execution_count": 217,
   "metadata": {
    "execution": {
     "iopub.execute_input": "2023-11-12T12:47:48.885412Z",
     "iopub.status.busy": "2023-11-12T12:47:48.885276Z",
     "iopub.status.idle": "2023-11-12T12:47:48.887235Z",
     "shell.execute_reply": "2023-11-12T12:47:48.886896Z"
    },
    "slideshow": {
     "slide_type": "skip"
    },
    "solution2": "hidden"
   },
   "outputs": [
    {
     "name": "stderr",
     "output_type": "stream",
     "text": [
      "Traceback (most recent call last):\n",
      "  File \"/var/folders/n2/xd9445p97rb3xh7m1dfx8_4h0006ts/T/ipykernel_33982/1337162511.py\", line 2, in <cell line: 1>\n",
      "    my_sqrt_annotated(-1)\n",
      "  File \"<string>\", line 5, in my_sqrt_annotated\n",
      "AssertionError: violated precondition (expected)\n"
     ]
    }
   ],
   "source": [
    "with ExpectError():\n",
    "    my_sqrt_annotated(-1)"
   ]
  },
  {
   "cell_type": "markdown",
   "metadata": {
    "slideshow": {
     "slide_type": "skip"
    },
    "solution2": "hidden"
   },
   "source": [
    "Here come some more examples:"
   ]
  },
  {
   "cell_type": "code",
   "execution_count": 218,
   "metadata": {
    "execution": {
     "iopub.execute_input": "2023-11-12T12:47:48.888804Z",
     "iopub.status.busy": "2023-11-12T12:47:48.888694Z",
     "iopub.status.idle": "2023-11-12T12:47:48.890415Z",
     "shell.execute_reply": "2023-11-12T12:47:48.890159Z"
    },
    "slideshow": {
     "slide_type": "skip"
    },
    "solution2": "hidden"
   },
   "outputs": [],
   "source": [
    "with EmbeddedInvariantAnnotator() as annotator:\n",
    "    y = sum3(3, 4, 5)\n",
    "    y = sum3(-3, -4, -5)\n",
    "    y = sum3(0, 0, 0)"
   ]
  },
  {
   "cell_type": "code",
   "execution_count": 219,
   "metadata": {
    "execution": {
     "iopub.execute_input": "2023-11-12T12:47:48.891852Z",
     "iopub.status.busy": "2023-11-12T12:47:48.891743Z",
     "iopub.status.idle": "2023-11-12T12:47:48.930654Z",
     "shell.execute_reply": "2023-11-12T12:47:48.930410Z"
    },
    "slideshow": {
     "slide_type": "skip"
    },
    "solution2": "hidden"
   },
   "outputs": [
    {
     "name": "stdout",
     "output_type": "stream",
     "text": [
      "\u001b[34mdef\u001b[39;49;00m \u001b[32msum3\u001b[39;49;00m(a, b, c):\u001b[37m\u001b[39;49;00m\n",
      "    \u001b[34massert\u001b[39;49;00m \u001b[36misinstance\u001b[39;49;00m(a, \u001b[36mint\u001b[39;49;00m), \u001b[33m'\u001b[39;49;00m\u001b[33mviolated precondition\u001b[39;49;00m\u001b[33m'\u001b[39;49;00m\u001b[37m\u001b[39;49;00m\n",
      "    \u001b[34massert\u001b[39;49;00m \u001b[36misinstance\u001b[39;49;00m(b, \u001b[36mint\u001b[39;49;00m), \u001b[33m'\u001b[39;49;00m\u001b[33mviolated precondition\u001b[39;49;00m\u001b[33m'\u001b[39;49;00m\u001b[37m\u001b[39;49;00m\n",
      "    \u001b[34massert\u001b[39;49;00m \u001b[36misinstance\u001b[39;49;00m(c, \u001b[36mint\u001b[39;49;00m), \u001b[33m'\u001b[39;49;00m\u001b[33mviolated precondition\u001b[39;49;00m\u001b[33m'\u001b[39;49;00m\u001b[37m\u001b[39;49;00m\n",
      "    return_value = a + b + c\u001b[37m\u001b[39;49;00m\n",
      "    \u001b[34massert\u001b[39;49;00m \u001b[36misinstance\u001b[39;49;00m(return_value, \u001b[36mint\u001b[39;49;00m), \u001b[33m'\u001b[39;49;00m\u001b[33mviolated postcondition\u001b[39;49;00m\u001b[33m'\u001b[39;49;00m\u001b[37m\u001b[39;49;00m\n",
      "    \u001b[34mreturn\u001b[39;49;00m a + b + c\u001b[37m\u001b[39;49;00m"
     ]
    }
   ],
   "source": [
    "print_content(annotator.functions_with_invariants(), '.py')"
   ]
  },
  {
   "cell_type": "code",
   "execution_count": 220,
   "metadata": {
    "execution": {
     "iopub.execute_input": "2023-11-12T12:47:48.932185Z",
     "iopub.status.busy": "2023-11-12T12:47:48.932092Z",
     "iopub.status.idle": "2023-11-12T12:47:48.972058Z",
     "shell.execute_reply": "2023-11-12T12:47:48.971783Z"
    },
    "slideshow": {
     "slide_type": "skip"
    },
    "solution2": "hidden"
   },
   "outputs": [
    {
     "name": "stdout",
     "output_type": "stream",
     "text": [
      "\u001b[34mdef\u001b[39;49;00m \u001b[32mlist_length\u001b[39;49;00m(L):\u001b[37m\u001b[39;49;00m\n",
      "    \u001b[34massert\u001b[39;49;00m L != \u001b[34m0\u001b[39;49;00m, \u001b[33m'\u001b[39;49;00m\u001b[33mviolated precondition\u001b[39;49;00m\u001b[33m'\u001b[39;49;00m\u001b[37m\u001b[39;49;00m\n",
      "    \u001b[34massert\u001b[39;49;00m \u001b[36misinstance\u001b[39;49;00m(L, \u001b[36mlist\u001b[39;49;00m), \u001b[33m'\u001b[39;49;00m\u001b[33mviolated precondition\u001b[39;49;00m\u001b[33m'\u001b[39;49;00m\u001b[37m\u001b[39;49;00m\n",
      "    \u001b[34mif\u001b[39;49;00m L == []:\u001b[37m\u001b[39;49;00m\n",
      "        length = \u001b[34m0\u001b[39;49;00m\u001b[37m\u001b[39;49;00m\n",
      "    \u001b[34melse\u001b[39;49;00m:\u001b[37m\u001b[39;49;00m\n",
      "        length = \u001b[34m1\u001b[39;49;00m + list_length(L[\u001b[34m1\u001b[39;49;00m:])\u001b[37m\u001b[39;49;00m\n",
      "    return_value = length\u001b[37m\u001b[39;49;00m\n",
      "    \u001b[34massert\u001b[39;49;00m return_value == \u001b[36mlen\u001b[39;49;00m(L), \u001b[33m'\u001b[39;49;00m\u001b[33mviolated postcondition\u001b[39;49;00m\u001b[33m'\u001b[39;49;00m\u001b[37m\u001b[39;49;00m\n",
      "    \u001b[34massert\u001b[39;49;00m return_value >= \u001b[34m0\u001b[39;49;00m, \u001b[33m'\u001b[39;49;00m\u001b[33mviolated postcondition\u001b[39;49;00m\u001b[33m'\u001b[39;49;00m\u001b[37m\u001b[39;49;00m\n",
      "    \u001b[34massert\u001b[39;49;00m \u001b[36misinstance\u001b[39;49;00m(return_value, \u001b[36mint\u001b[39;49;00m), \u001b[33m'\u001b[39;49;00m\u001b[33mviolated postcondition\u001b[39;49;00m\u001b[33m'\u001b[39;49;00m\u001b[37m\u001b[39;49;00m\n",
      "    \u001b[34mreturn\u001b[39;49;00m length\u001b[37m\u001b[39;49;00m"
     ]
    }
   ],
   "source": [
    "with EmbeddedInvariantAnnotator() as annotator:\n",
    "    length = list_length([1, 2, 3])\n",
    "\n",
    "print_content(annotator.functions_with_invariants(), '.py')"
   ]
  },
  {
   "cell_type": "code",
   "execution_count": 221,
   "metadata": {
    "execution": {
     "iopub.execute_input": "2023-11-12T12:47:48.973539Z",
     "iopub.status.busy": "2023-11-12T12:47:48.973456Z",
     "iopub.status.idle": "2023-11-12T12:47:48.975428Z",
     "shell.execute_reply": "2023-11-12T12:47:48.975171Z"
    },
    "slideshow": {
     "slide_type": "skip"
    },
    "solution2": "hidden"
   },
   "outputs": [
    {
     "name": "stdout",
     "output_type": "stream",
     "text": [
      "76\n"
     ]
    }
   ],
   "source": [
    "with EmbeddedInvariantAnnotator() as annotator:\n",
    "    print_sum(31, 45)"
   ]
  },
  {
   "cell_type": "code",
   "execution_count": 222,
   "metadata": {
    "execution": {
     "iopub.execute_input": "2023-11-12T12:47:48.976913Z",
     "iopub.status.busy": "2023-11-12T12:47:48.976821Z",
     "iopub.status.idle": "2023-11-12T12:47:49.082160Z",
     "shell.execute_reply": "2023-11-12T12:47:49.081871Z"
    },
    "slideshow": {
     "slide_type": "skip"
    },
    "solution2": "hidden"
   },
   "outputs": [
    {
     "name": "stdout",
     "output_type": "stream",
     "text": [
      "\u001b[34mdef\u001b[39;49;00m \u001b[32mprint_sum\u001b[39;49;00m(a, b):\u001b[37m\u001b[39;49;00m\n",
      "    \u001b[34massert\u001b[39;49;00m a > \u001b[34m0\u001b[39;49;00m, \u001b[33m'\u001b[39;49;00m\u001b[33mviolated precondition\u001b[39;49;00m\u001b[33m'\u001b[39;49;00m\u001b[37m\u001b[39;49;00m\n",
      "    \u001b[34massert\u001b[39;49;00m b >= a, \u001b[33m'\u001b[39;49;00m\u001b[33mviolated precondition\u001b[39;49;00m\u001b[33m'\u001b[39;49;00m\u001b[37m\u001b[39;49;00m\n",
      "    \u001b[34massert\u001b[39;49;00m a <= b, \u001b[33m'\u001b[39;49;00m\u001b[33mviolated precondition\u001b[39;49;00m\u001b[33m'\u001b[39;49;00m\u001b[37m\u001b[39;49;00m\n",
      "    \u001b[34massert\u001b[39;49;00m a < b, \u001b[33m'\u001b[39;49;00m\u001b[33mviolated precondition\u001b[39;49;00m\u001b[33m'\u001b[39;49;00m\u001b[37m\u001b[39;49;00m\n",
      "    \u001b[34massert\u001b[39;49;00m b >= \u001b[34m0\u001b[39;49;00m, \u001b[33m'\u001b[39;49;00m\u001b[33mviolated precondition\u001b[39;49;00m\u001b[33m'\u001b[39;49;00m\u001b[37m\u001b[39;49;00m\n",
      "    \u001b[34massert\u001b[39;49;00m b > a, \u001b[33m'\u001b[39;49;00m\u001b[33mviolated precondition\u001b[39;49;00m\u001b[33m'\u001b[39;49;00m\u001b[37m\u001b[39;49;00m\n",
      "    \u001b[34massert\u001b[39;49;00m \u001b[36misinstance\u001b[39;49;00m(b, \u001b[36mint\u001b[39;49;00m), \u001b[33m'\u001b[39;49;00m\u001b[33mviolated precondition\u001b[39;49;00m\u001b[33m'\u001b[39;49;00m\u001b[37m\u001b[39;49;00m\n",
      "    \u001b[34massert\u001b[39;49;00m a >= \u001b[34m0\u001b[39;49;00m, \u001b[33m'\u001b[39;49;00m\u001b[33mviolated precondition\u001b[39;49;00m\u001b[33m'\u001b[39;49;00m\u001b[37m\u001b[39;49;00m\n",
      "    \u001b[34massert\u001b[39;49;00m b != \u001b[34m0\u001b[39;49;00m, \u001b[33m'\u001b[39;49;00m\u001b[33mviolated precondition\u001b[39;49;00m\u001b[33m'\u001b[39;49;00m\u001b[37m\u001b[39;49;00m\n",
      "    \u001b[34massert\u001b[39;49;00m \u001b[36misinstance\u001b[39;49;00m(a, \u001b[36mint\u001b[39;49;00m), \u001b[33m'\u001b[39;49;00m\u001b[33mviolated precondition\u001b[39;49;00m\u001b[33m'\u001b[39;49;00m\u001b[37m\u001b[39;49;00m\n",
      "    \u001b[34massert\u001b[39;49;00m a != \u001b[34m0\u001b[39;49;00m, \u001b[33m'\u001b[39;49;00m\u001b[33mviolated precondition\u001b[39;49;00m\u001b[33m'\u001b[39;49;00m\u001b[37m\u001b[39;49;00m\n",
      "    \u001b[34massert\u001b[39;49;00m b > \u001b[34m0\u001b[39;49;00m, \u001b[33m'\u001b[39;49;00m\u001b[33mviolated precondition\u001b[39;49;00m\u001b[33m'\u001b[39;49;00m\u001b[37m\u001b[39;49;00m\n",
      "    \u001b[36mprint\u001b[39;49;00m(a + b)\u001b[37m\u001b[39;49;00m\n",
      "    return_value = \u001b[34mNone\u001b[39;49;00m\u001b[37m\u001b[39;49;00m\n",
      "    \u001b[34massert\u001b[39;49;00m return_value != \u001b[34m0\u001b[39;49;00m, \u001b[33m'\u001b[39;49;00m\u001b[33mviolated postcondition\u001b[39;49;00m\u001b[33m'\u001b[39;49;00m\u001b[37m\u001b[39;49;00m"
     ]
    }
   ],
   "source": [
    "print_content(annotator.functions_with_invariants(), '.py')"
   ]
  },
  {
   "cell_type": "markdown",
   "metadata": {
    "slideshow": {
     "slide_type": "skip"
    },
    "solution2": "hidden"
   },
   "source": [
    "And we're done!"
   ]
  }
 ],
 "metadata": {
  "ipub": {
   "bibliography": "fuzzingbook.bib",
   "toc": true
  },
  "kernelspec": {
   "display_name": "Python 3 (ipykernel)",
   "language": "python",
   "name": "python3"
  },
  "language_info": {
   "codemirror_mode": {
    "name": "ipython",
    "version": 3
   },
   "file_extension": ".py",
   "mimetype": "text/x-python",
   "name": "python",
   "nbconvert_exporter": "python",
   "pygments_lexer": "ipython3",
   "version": "3.10.2"
  },
  "toc": {
   "base_numbering": 1,
   "nav_menu": {},
   "number_sections": true,
   "sideBar": true,
   "skip_h1_title": true,
   "title_cell": "",
   "title_sidebar": "Contents",
   "toc_cell": false,
   "toc_position": {},
   "toc_section_display": true,
   "toc_window_display": true
  },
  "toc-autonumbering": false
 },
 "nbformat": 4,
 "nbformat_minor": 4
}
