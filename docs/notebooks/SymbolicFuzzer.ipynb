{
 "cells": [
  {
   "attachments": {},
   "cell_type": "markdown",
   "metadata": {
    "button": false,
    "new_sheet": false,
    "run_control": {
     "read_only": false
    },
    "slideshow": {
     "slide_type": "slide"
    }
   },
   "source": [
    "# Symbolic Fuzzing\n",
    "\n",
    "One of the problems with traditional methods of fuzzing is that they fail to exercise all the possible behaviors that a system can have, especially when the input space is large. Quite often the execution of a specific branch of execution may happen only with very specific inputs, which could represent a minimal fraction of the input space. The traditional fuzzing methods relies on chance to produce inputs they need. However, relying on randomness to generate values that we want is a bad idea when the space to be explored is huge. For example, a function that accepts a string, even if one only considers the first $10$ characters, already has $2^{80}$ possible inputs. If one is looking for a specific string, random generation of values will take a few thousand years even in one of the super computers."
   ]
  },
  {
   "cell_type": "markdown",
   "metadata": {
    "button": false,
    "new_sheet": false,
    "run_control": {
     "read_only": false
    },
    "slideshow": {
     "slide_type": "subslide"
    }
   },
   "source": [
    "In the [chapter on concolic testing](ConcolicFuzzer.ipynb), we have seen how _concolic tracing_ can offer a way out. We saw how concolic tracing can be implemented using direct information flows using the Python interpreter. However, there are two problems with this approach.\n",
    "* The first is that concolic tracing relies on the existence of sample inputs. What if one has no sample inputs?\n",
    "* Second, direct information flows could be unreliable if the program has indirect information flows such as those based on control flow.\n",
    "\n",
    "In both cases, _static code analysis_ can bridge the gap. However, that raises the question: Can we determine the complete behavior of the program by examining it statically, and check if it behaves unexpectedly under some (unknown) input or result in an unexpected output?"
   ]
  },
  {
   "cell_type": "markdown",
   "metadata": {
    "button": false,
    "new_sheet": false,
    "run_control": {
     "read_only": false
    },
    "slideshow": {
     "slide_type": "subslide"
    }
   },
   "source": [
    "_Symbolic execution_ is one of the ways that we can reason about the behavior of a program without executing it. A program is a computation that can be treated as a system of equations that obtains the output values from the given inputs. Executing the program symbolically -- that is, solving these mathematically -- along with any specified objective such as covering a particular branch or obtaining a particular output will get us inputs that can accomplish this task."
   ]
  },
  {
   "cell_type": "markdown",
   "metadata": {
    "button": false,
    "new_sheet": false,
    "run_control": {
     "read_only": false
    },
    "slideshow": {
     "slide_type": "fragment"
    }
   },
   "source": [
    "In this chapter, we investigate how symbolic execution can be implemented, and how it can be used to obtain interesting values for fuzzing."
   ]
  },
  {
   "cell_type": "code",
   "execution_count": 1,
   "metadata": {
    "execution": {
     "iopub.execute_input": "2023-11-12T12:47:31.074972Z",
     "iopub.status.busy": "2023-11-12T12:47:31.074831Z",
     "iopub.status.idle": "2023-11-12T12:47:31.115169Z",
     "shell.execute_reply": "2023-11-12T12:47:31.114815Z"
    },
    "slideshow": {
     "slide_type": "skip"
    }
   },
   "outputs": [
    {
     "data": {
      "text/html": [
       "\n",
       "        <iframe\n",
       "            width=\"640\"\n",
       "            height=\"360\"\n",
       "            src=\"https://www.youtube-nocookie.com/embed/AJfRBF8NEWU\"\n",
       "            frameborder=\"0\"\n",
       "            allowfullscreen\n",
       "            \n",
       "        ></iframe>\n",
       "        "
      ],
      "text/plain": [
       "<IPython.lib.display.IFrame at 0x103b3dd50>"
      ]
     },
     "execution_count": 1,
     "metadata": {},
     "output_type": "execute_result"
    }
   ],
   "source": [
    "from bookutils import YouTubeVideo\n",
    "YouTubeVideo('AJfRBF8NEWU')"
   ]
  },
  {
   "cell_type": "markdown",
   "metadata": {
    "button": false,
    "new_sheet": false,
    "run_control": {
     "read_only": false
    },
    "slideshow": {
     "slide_type": "subslide"
    }
   },
   "source": [
    "**Prerequisites**\n",
    "\n",
    "* You should understand how to use [type annotations](https://docs.python.org/3/library/typing.html) in Python.\n",
    "* A working knowledge of [SMT solvers](https://en.wikipedia.org/wiki/Satisfiability_modulo_theories), especially [Z3](https://github.com/Z3Prover/z3) is useful.\n",
    "* You should have read the [chapter on coverage](Coverage.ipynb).\n",
    "* A familiarity with [chapter on concolic fuzzing](ConcolicFuzzer.ipynb) would be helpful."
   ]
  },
  {
   "cell_type": "code",
   "execution_count": 2,
   "metadata": {
    "execution": {
     "iopub.execute_input": "2023-11-12T12:47:31.136141Z",
     "iopub.status.busy": "2023-11-12T12:47:31.135945Z",
     "iopub.status.idle": "2023-11-12T12:47:31.137732Z",
     "shell.execute_reply": "2023-11-12T12:47:31.137434Z"
    },
    "slideshow": {
     "slide_type": "fragment"
    }
   },
   "outputs": [],
   "source": [
    "# ignore\n",
    "import sys"
   ]
  },
  {
   "cell_type": "code",
   "execution_count": 3,
   "metadata": {
    "execution": {
     "iopub.execute_input": "2023-11-12T12:47:31.139285Z",
     "iopub.status.busy": "2023-11-12T12:47:31.139148Z",
     "iopub.status.idle": "2023-11-12T12:47:31.141213Z",
     "shell.execute_reply": "2023-11-12T12:47:31.140869Z"
    },
    "slideshow": {
     "slide_type": "subslide"
    }
   },
   "outputs": [],
   "source": [
    "# ignore\n",
    "if sys.version_info > (3, 11):\n",
    "    print(\"This code requires Python 3.11 or earlier\")\n",
    "    sys.exit(0)"
   ]
  },
  {
   "cell_type": "markdown",
   "metadata": {
    "jp-MarkdownHeadingCollapsed": true,
    "slideshow": {
     "slide_type": "skip"
    },
    "tags": []
   },
   "source": [
    "## Synopsis\n",
    "<!-- Automatically generated. Do not edit. -->\n",
    "\n",
    "To [use the code provided in this chapter](Importing.ipynb), write\n",
    "\n",
    "```python\n",
    ">>> from fuzzingbook.SymbolicFuzzer import <identifier>\n",
    "```\n",
    "\n",
    "and then make use of the following features.\n",
    "\n",
    "\n",
    "This chapter provides an implementation of a symbolic fuzzing engine `SymbolicFuzzer`. The fuzzer uses symbolic execution to exhaustively explore paths in the program to a limited depth, and generate inputs that will reach these paths.\n",
    "\n",
    "As an example, consider the function `gcd()`, computing the greatest common divisor of `a` and `b`:\n",
    "\n",
    "```python\n",
    "def gcd(a: int, b: int) -> int:\n",
    "    if a < b:\n",
    "        c: int = a  # type: ignore\n",
    "        a = b\n",
    "        b = c\n",
    "\n",
    "    while b != 0:\n",
    "        c: int = a  # type: ignore\n",
    "        a = b\n",
    "        b = c % b\n",
    "\n",
    "    return a\n",
    "```\n",
    "To explore `gcd()`, the fuzzer can be used as follows, producing values for arguments that cover different paths in `gcd()` (including multiple times of loop iterations):\n",
    "\n",
    "```python\n",
    ">>> gcd_fuzzer = SymbolicFuzzer(gcd, max_tries=10, max_iter=10, max_depth=10)\n",
    ">>> for i in range(10):\n",
    ">>>     args = gcd_fuzzer.fuzz()\n",
    ">>>     print(args)\n",
    "{'a': 8, 'b': 3}\n",
    "{'a': 1, 'b': 2}\n",
    "{'a': 2, 'b': 5}\n",
    "{'a': 7, 'b': 6}\n",
    "{'a': 9, 'b': 10}\n",
    "{'a': 4, 'b': 4}\n",
    "{'a': 10, 'b': 9}\n",
    "{'a': 2, 'b': 10}\n",
    "{'a': 14, 'b': 7}\n",
    "{'a': 3, 'b': 2}\n",
    "\n",
    "```\n",
    "Note that the variable values returned by `fuzz()` are Z3 _symbolic_ values; to convert them to Python numbers, use their method `as_long()`:\n",
    "\n",
    "```python\n",
    ">>> for i in range(10):\n",
    ">>>     args = gcd_fuzzer.fuzz()\n",
    ">>>     a = args['a'].as_long()\n",
    ">>>     b = args['b'].as_long()\n",
    ">>>     d = gcd(a, b)\n",
    ">>>     print(f\"gcd({a}, {b}) = {d}\")\n",
    "gcd(0, 8) = 8\n",
    "gcd(-1, 10) = -1\n",
    "gcd(13, 2) = 1\n",
    "gcd(0, 10) = 10\n",
    "gcd(6, 7) = 1\n",
    "gcd(14, 2) = 2\n",
    "gcd(-1, 11) = -1\n",
    "gcd(15, 0) = 15\n",
    "gcd(0, -1) = -1\n",
    "gcd(-3, -2) = -1\n",
    "\n",
    "```\n",
    "The symbolic fuzzer is subject to a number of constraints. First, it requires that the function to be fuzzed has correct type annotations, including all local variables. Second, it solves loops by unrolling them, but only for a fixed amount.\n",
    "\n",
    "For programs without loops and variable reassignments, the `SimpleSymbolicFuzzer` is a faster, but more limited alternative.\n",
    "\n",
    "![](PICS/SymbolicFuzzer-synopsis-1.svg)\n",
    "\n"
   ]
  },
  {
   "cell_type": "markdown",
   "metadata": {
    "slideshow": {
     "slide_type": "slide"
    }
   },
   "source": [
    "## Obtaining Path Conditions for Coverage"
   ]
  },
  {
   "cell_type": "markdown",
   "metadata": {
    "slideshow": {
     "slide_type": "subslide"
    }
   },
   "source": [
    "In the chapter on [parsing and recombining inputs](SearchBasedFuzzer.ipynb), we saw how difficult it was to generate inputs for `process_vehicle()` -- a simple function that accepts a string. The solution given there was to rely on preexisting sample inputs. However, this solution is inadequate as it assumes the existence of sample inputs. What if there are no sample inputs at hand?\n",
    "\n",
    "For a simpler example, let us consider the following triangle function (which we already have seen in the [chapter on concolic fuzzing](ConcolicFuzzer.ipynb)). Can we generate inputs to cover all the paths?\n",
    "\n",
    "*Note.* We use type annotations to denote the argument types of programs. The [chapter on discovering dynamic invariants](DynamicInvariants.ipynb) will discuss how these types can be inferred automatically."
   ]
  },
  {
   "cell_type": "code",
   "execution_count": 4,
   "metadata": {
    "execution": {
     "iopub.execute_input": "2023-11-12T12:47:31.143242Z",
     "iopub.status.busy": "2023-11-12T12:47:31.142999Z",
     "iopub.status.idle": "2023-11-12T12:47:31.145594Z",
     "shell.execute_reply": "2023-11-12T12:47:31.145194Z"
    },
    "slideshow": {
     "slide_type": "subslide"
    }
   },
   "outputs": [],
   "source": [
    "def check_triangle(a: int, b: int, c: int) -> str:\n",
    "    if a == b:\n",
    "        if a == c:\n",
    "            if b == c:\n",
    "                return \"Equilateral\"\n",
    "            else:\n",
    "                return \"Isosceles\"\n",
    "        else:\n",
    "            return \"Isosceles\"\n",
    "    else:\n",
    "        if b != c:\n",
    "            if a == c:\n",
    "                return \"Isosceles\"\n",
    "            else:\n",
    "                return \"Scalene\"\n",
    "        else:\n",
    "            return \"Isosceles\""
   ]
  },
  {
   "cell_type": "markdown",
   "metadata": {
    "slideshow": {
     "slide_type": "subslide"
    }
   },
   "source": [
    "### The Control Flow Graph"
   ]
  },
  {
   "cell_type": "markdown",
   "metadata": {
    "slideshow": {
     "slide_type": "fragment"
    }
   },
   "source": [
    "The control flow graph of this function can be represented as follows:"
   ]
  },
  {
   "cell_type": "code",
   "execution_count": 5,
   "metadata": {
    "execution": {
     "iopub.execute_input": "2023-11-12T12:47:31.147347Z",
     "iopub.status.busy": "2023-11-12T12:47:31.147220Z",
     "iopub.status.idle": "2023-11-12T12:47:31.149504Z",
     "shell.execute_reply": "2023-11-12T12:47:31.149189Z"
    },
    "slideshow": {
     "slide_type": "skip"
    }
   },
   "outputs": [],
   "source": [
    "import bookutils.setup"
   ]
  },
  {
   "cell_type": "code",
   "execution_count": 6,
   "metadata": {
    "execution": {
     "iopub.execute_input": "2023-11-12T12:47:31.151075Z",
     "iopub.status.busy": "2023-11-12T12:47:31.150949Z",
     "iopub.status.idle": "2023-11-12T12:47:31.152562Z",
     "shell.execute_reply": "2023-11-12T12:47:31.152257Z"
    },
    "slideshow": {
     "slide_type": "skip"
    }
   },
   "outputs": [],
   "source": [
    "import inspect"
   ]
  },
  {
   "cell_type": "code",
   "execution_count": 7,
   "metadata": {
    "execution": {
     "iopub.execute_input": "2023-11-12T12:47:31.154184Z",
     "iopub.status.busy": "2023-11-12T12:47:31.154052Z",
     "iopub.status.idle": "2023-11-12T12:47:31.267753Z",
     "shell.execute_reply": "2023-11-12T12:47:31.267383Z"
    },
    "slideshow": {
     "slide_type": "skip"
    }
   },
   "outputs": [],
   "source": [
    "from ControlFlow import PyCFG, to_graph, gen_cfg"
   ]
  },
  {
   "cell_type": "code",
   "execution_count": 8,
   "metadata": {
    "execution": {
     "iopub.execute_input": "2023-11-12T12:47:31.269693Z",
     "iopub.status.busy": "2023-11-12T12:47:31.269565Z",
     "iopub.status.idle": "2023-11-12T12:47:31.271591Z",
     "shell.execute_reply": "2023-11-12T12:47:31.271233Z"
    },
    "slideshow": {
     "slide_type": "fragment"
    }
   },
   "outputs": [],
   "source": [
    "def show_cfg(fn, **kwargs):\n",
    "    return to_graph(gen_cfg(inspect.getsource(fn)), **kwargs)"
   ]
  },
  {
   "cell_type": "code",
   "execution_count": 9,
   "metadata": {
    "execution": {
     "iopub.execute_input": "2023-11-12T12:47:31.273714Z",
     "iopub.status.busy": "2023-11-12T12:47:31.273579Z",
     "iopub.status.idle": "2023-11-12T12:47:31.692481Z",
     "shell.execute_reply": "2023-11-12T12:47:31.692130Z"
    },
    "slideshow": {
     "slide_type": "fragment"
    }
   },
   "outputs": [
    {
     "data": {
      "image/svg+xml": [
       "<?xml version=\"1.0\" encoding=\"UTF-8\" standalone=\"no\"?>\n",
       "<!DOCTYPE svg PUBLIC \"-//W3C//DTD SVG 1.1//EN\"\n",
       " \"http://www.w3.org/Graphics/SVG/1.1/DTD/svg11.dtd\">\n",
       "<!-- Generated by graphviz version 9.0.0 (20230911.1827)\n",
       " -->\n",
       "<!-- Pages: 1 -->\n",
       "<svg width=\"676pt\" height=\"487pt\"\n",
       " viewBox=\"0.00 0.00 675.50 486.50\" xmlns=\"http://www.w3.org/2000/svg\" xmlns:xlink=\"http://www.w3.org/1999/xlink\">\n",
       "<g id=\"graph0\" class=\"graph\" transform=\"scale(1 1) rotate(0) translate(4 482.5)\">\n",
       "<polygon fill=\"white\" stroke=\"none\" points=\"-4,4 -4,-482.5 671.5,-482.5 671.5,4 -4,4\"/>\n",
       "<!-- 1 -->\n",
       "<g id=\"node1\" class=\"node\">\n",
       "<title>1</title>\n",
       "<ellipse fill=\"none\" stroke=\"black\" cx=\"259.75\" cy=\"-456.5\" rx=\"118.94\" ry=\"18\"/>\n",
       "<ellipse fill=\"none\" stroke=\"black\" cx=\"259.75\" cy=\"-456.5\" rx=\"122.94\" ry=\"22\"/>\n",
       "<text text-anchor=\"middle\" x=\"259.75\" y=\"-450.32\" font-family=\"Times,serif\" font-size=\"14.00\">1: enter: check_triangle(a, b, c)</text>\n",
       "</g>\n",
       "<!-- 3 -->\n",
       "<g id=\"node9\" class=\"node\">\n",
       "<title>3</title>\n",
       "<polygon fill=\"none\" stroke=\"black\" points=\"259.75,-397.5 185.32,-379.5 259.75,-361.5 334.18,-379.5 259.75,-397.5\"/>\n",
       "<text text-anchor=\"middle\" x=\"259.75\" y=\"-373.32\" font-family=\"Times,serif\" font-size=\"14.00\">2: if: a == b</text>\n",
       "</g>\n",
       "<!-- 1&#45;&gt;3 -->\n",
       "<g id=\"edge7\" class=\"edge\">\n",
       "<title>1&#45;&gt;3</title>\n",
       "<path fill=\"none\" stroke=\"black\" d=\"M259.75,-434.21C259.75,-426.32 259.75,-417.25 259.75,-408.83\"/>\n",
       "<polygon fill=\"black\" stroke=\"black\" points=\"263.25,-409.07 259.75,-399.07 256.25,-409.07 263.25,-409.07\"/>\n",
       "</g>\n",
       "<!-- 2 -->\n",
       "<g id=\"node2\" class=\"node\">\n",
       "<title>2</title>\n",
       "<ellipse fill=\"none\" stroke=\"black\" cx=\"353.75\" cy=\"-22\" rx=\"114.64\" ry=\"18\"/>\n",
       "<ellipse fill=\"none\" stroke=\"black\" cx=\"353.75\" cy=\"-22\" rx=\"118.64\" ry=\"22\"/>\n",
       "<text text-anchor=\"middle\" x=\"353.75\" y=\"-15.82\" font-family=\"Times,serif\" font-size=\"14.00\">1: exit: check_triangle(a, b, c)</text>\n",
       "</g>\n",
       "<!-- 6 -->\n",
       "<g id=\"node3\" class=\"node\">\n",
       "<title>6</title>\n",
       "<polygon fill=\"none\" stroke=\"black\" points=\"209.75,-117 79.75,-117 79.75,-81 209.75,-81 209.75,-117\"/>\n",
       "<text text-anchor=\"middle\" x=\"144.75\" y=\"-92.83\" font-family=\"Times,serif\" font-size=\"14.00\">5: return &#39;Equilateral&#39;</text>\n",
       "</g>\n",
       "<!-- 6&#45;&gt;2 -->\n",
       "<g id=\"edge1\" class=\"edge\">\n",
       "<title>6&#45;&gt;2</title>\n",
       "<path fill=\"none\" stroke=\"black\" d=\"M193.49,-80.51C222.19,-70.21 258.83,-57.06 289.82,-45.94\"/>\n",
       "<polygon fill=\"black\" stroke=\"black\" points=\"290.88,-49.28 299.11,-42.61 288.51,-42.69 290.88,-49.28\"/>\n",
       "</g>\n",
       "<!-- 7 -->\n",
       "<g id=\"node4\" class=\"node\">\n",
       "<title>7</title>\n",
       "<polygon fill=\"none\" stroke=\"black\" points=\"347.5,-117 228,-117 228,-81 347.5,-81 347.5,-117\"/>\n",
       "<text text-anchor=\"middle\" x=\"287.75\" y=\"-92.83\" font-family=\"Times,serif\" font-size=\"14.00\">7: return &#39;Isosceles&#39;</text>\n",
       "</g>\n",
       "<!-- 7&#45;&gt;2 -->\n",
       "<g id=\"edge2\" class=\"edge\">\n",
       "<title>7&#45;&gt;2</title>\n",
       "<path fill=\"none\" stroke=\"black\" d=\"M303.06,-80.6C310.4,-72.26 319.41,-62.02 327.79,-52.5\"/>\n",
       "<polygon fill=\"black\" stroke=\"black\" points=\"330.25,-55 334.23,-45.18 325,-50.37 330.25,-55\"/>\n",
       "</g>\n",
       "<!-- 8 -->\n",
       "<g id=\"node5\" class=\"node\">\n",
       "<title>8</title>\n",
       "<polygon fill=\"none\" stroke=\"black\" points=\"119.5,-171 0,-171 0,-135 119.5,-135 119.5,-171\"/>\n",
       "<text text-anchor=\"middle\" x=\"59.75\" y=\"-146.82\" font-family=\"Times,serif\" font-size=\"14.00\">9: return &#39;Isosceles&#39;</text>\n",
       "</g>\n",
       "<!-- 8&#45;&gt;2 -->\n",
       "<g id=\"edge3\" class=\"edge\">\n",
       "<title>8&#45;&gt;2</title>\n",
       "<path fill=\"none\" stroke=\"black\" d=\"M57.35,-134.72C56.17,-118.67 57.24,-95.18 70.75,-81 93.77,-56.84 169.35,-42.12 236.61,-33.56\"/>\n",
       "<polygon fill=\"black\" stroke=\"black\" points=\"236.75,-37.07 246.25,-32.37 235.9,-30.12 236.75,-37.07\"/>\n",
       "</g>\n",
       "<!-- 11 -->\n",
       "<g id=\"node6\" class=\"node\">\n",
       "<title>11</title>\n",
       "<polygon fill=\"none\" stroke=\"black\" points=\"529.88,-117 403.62,-117 403.62,-81 529.88,-81 529.88,-117\"/>\n",
       "<text text-anchor=\"middle\" x=\"466.75\" y=\"-92.83\" font-family=\"Times,serif\" font-size=\"14.00\">13: return &#39;Isosceles&#39;</text>\n",
       "</g>\n",
       "<!-- 11&#45;&gt;2 -->\n",
       "<g id=\"edge4\" class=\"edge\">\n",
       "<title>11&#45;&gt;2</title>\n",
       "<path fill=\"none\" stroke=\"black\" d=\"M440.54,-80.6C426.72,-71.43 409.46,-59.98 393.99,-49.71\"/>\n",
       "<polygon fill=\"black\" stroke=\"black\" points=\"396.16,-46.94 385.89,-44.33 392.29,-52.78 396.16,-46.94\"/>\n",
       "</g>\n",
       "<!-- 12 -->\n",
       "<g id=\"node7\" class=\"node\">\n",
       "<title>12</title>\n",
       "<polygon fill=\"none\" stroke=\"black\" points=\"667.5,-117 548,-117 548,-81 667.5,-81 667.5,-117\"/>\n",
       "<text text-anchor=\"middle\" x=\"607.75\" y=\"-92.83\" font-family=\"Times,serif\" font-size=\"14.00\">15: return &#39;Scalene&#39;</text>\n",
       "</g>\n",
       "<!-- 12&#45;&gt;2 -->\n",
       "<g id=\"edge5\" class=\"edge\">\n",
       "<title>12&#45;&gt;2</title>\n",
       "<path fill=\"none\" stroke=\"black\" d=\"M548.52,-80.51C511.94,-69.71 464.75,-55.78 425.98,-44.33\"/>\n",
       "<polygon fill=\"black\" stroke=\"black\" points=\"427.32,-41.07 416.74,-41.6 425.34,-47.79 427.32,-41.07\"/>\n",
       "</g>\n",
       "<!-- 13 -->\n",
       "<g id=\"node8\" class=\"node\">\n",
       "<title>13</title>\n",
       "<polygon fill=\"none\" stroke=\"black\" points=\"432.88,-171 306.62,-171 306.62,-135 432.88,-135 432.88,-171\"/>\n",
       "<text text-anchor=\"middle\" x=\"369.75\" y=\"-146.82\" font-family=\"Times,serif\" font-size=\"14.00\">17: return &#39;Isosceles&#39;</text>\n",
       "</g>\n",
       "<!-- 13&#45;&gt;2 -->\n",
       "<g id=\"edge6\" class=\"edge\">\n",
       "<title>13&#45;&gt;2</title>\n",
       "<path fill=\"none\" stroke=\"black\" d=\"M367.59,-134.6C365.09,-114.42 360.91,-80.7 357.79,-55.6\"/>\n",
       "<polygon fill=\"black\" stroke=\"black\" points=\"361.3,-55.4 356.59,-45.91 354.35,-56.26 361.3,-55.4\"/>\n",
       "</g>\n",
       "<!-- 4 -->\n",
       "<g id=\"node10\" class=\"node\">\n",
       "<title>4</title>\n",
       "<polygon fill=\"none\" stroke=\"black\" points=\"175.75,-311.25 101.99,-293.25 175.75,-275.25 249.51,-293.25 175.75,-311.25\"/>\n",
       "<text text-anchor=\"middle\" x=\"175.75\" y=\"-287.07\" font-family=\"Times,serif\" font-size=\"14.00\">3: if: a == c</text>\n",
       "</g>\n",
       "<!-- 3&#45;&gt;4 -->\n",
       "<g id=\"edge8\" class=\"edge\">\n",
       "<title>3&#45;&gt;4</title>\n",
       "<path fill=\"none\" stroke=\"blue\" d=\"M245.88,-364.59C232.75,-351.42 212.83,-331.44 197.57,-316.13\"/>\n",
       "<polygon fill=\"blue\" stroke=\"blue\" points=\"200.25,-313.87 190.71,-309.25 195.29,-318.81 200.25,-313.87\"/>\n",
       "<text text-anchor=\"middle\" x=\"227.88\" y=\"-330.2\" font-family=\"Times,serif\" font-size=\"14.00\">T</text>\n",
       "</g>\n",
       "<!-- 9 -->\n",
       "<g id=\"node12\" class=\"node\">\n",
       "<title>9</title>\n",
       "<polygon fill=\"none\" stroke=\"black\" points=\"368.75,-311.25 291.62,-293.25 368.75,-275.25 445.88,-293.25 368.75,-311.25\"/>\n",
       "<text text-anchor=\"middle\" x=\"368.75\" y=\"-287.07\" font-family=\"Times,serif\" font-size=\"14.00\">11: if: b != c</text>\n",
       "</g>\n",
       "<!-- 3&#45;&gt;9 -->\n",
       "<g id=\"edge13\" class=\"edge\">\n",
       "<title>3&#45;&gt;9</title>\n",
       "<path fill=\"none\" stroke=\"red\" d=\"M276.78,-365.34C294.36,-351.75 322,-330.38 342.4,-314.62\"/>\n",
       "<polygon fill=\"red\" stroke=\"red\" points=\"344.51,-317.41 350.28,-308.53 340.23,-311.87 344.51,-317.41\"/>\n",
       "<text text-anchor=\"middle\" x=\"324.5\" y=\"-330.2\" font-family=\"Times,serif\" font-size=\"14.00\">F</text>\n",
       "</g>\n",
       "<!-- 4&#45;&gt;8 -->\n",
       "<g id=\"edge12\" class=\"edge\">\n",
       "<title>4&#45;&gt;8</title>\n",
       "<path fill=\"none\" stroke=\"red\" d=\"M155.8,-279.92C137.47,-267.79 110.54,-247.81 92.75,-225 82.66,-212.06 74.74,-195.54 69.2,-181.68\"/>\n",
       "<polygon fill=\"red\" stroke=\"red\" points=\"72.61,-180.8 65.8,-172.68 66.06,-183.28 72.61,-180.8\"/>\n",
       "<text text-anchor=\"middle\" x=\"127.5\" y=\"-243.95\" font-family=\"Times,serif\" font-size=\"14.00\">F</text>\n",
       "</g>\n",
       "<!-- 5 -->\n",
       "<g id=\"node11\" class=\"node\">\n",
       "<title>5</title>\n",
       "<polygon fill=\"none\" stroke=\"black\" points=\"175.75,-225 101.32,-207 175.75,-189 250.18,-207 175.75,-225\"/>\n",
       "<text text-anchor=\"middle\" x=\"175.75\" y=\"-200.82\" font-family=\"Times,serif\" font-size=\"14.00\">4: if: b == c</text>\n",
       "</g>\n",
       "<!-- 4&#45;&gt;5 -->\n",
       "<g id=\"edge9\" class=\"edge\">\n",
       "<title>4&#45;&gt;5</title>\n",
       "<path fill=\"none\" stroke=\"blue\" d=\"M175.75,-274.79C175.75,-263.84 175.75,-249.44 175.75,-236.82\"/>\n",
       "<polygon fill=\"blue\" stroke=\"blue\" points=\"179.25,-236.95 175.75,-226.95 172.25,-236.95 179.25,-236.95\"/>\n",
       "<text text-anchor=\"middle\" x=\"179.88\" y=\"-243.95\" font-family=\"Times,serif\" font-size=\"14.00\">T</text>\n",
       "</g>\n",
       "<!-- 5&#45;&gt;6 -->\n",
       "<g id=\"edge10\" class=\"edge\">\n",
       "<title>5&#45;&gt;6</title>\n",
       "<path fill=\"none\" stroke=\"blue\" d=\"M171.04,-189.9C166.26,-173.54 158.75,-147.86 152.97,-128.12\"/>\n",
       "<polygon fill=\"blue\" stroke=\"blue\" points=\"156.4,-127.38 150.24,-118.76 149.68,-129.34 156.4,-127.38\"/>\n",
       "<text text-anchor=\"middle\" x=\"169.88\" y=\"-146.82\" font-family=\"Times,serif\" font-size=\"14.00\">T</text>\n",
       "</g>\n",
       "<!-- 5&#45;&gt;7 -->\n",
       "<g id=\"edge11\" class=\"edge\">\n",
       "<title>5&#45;&gt;7</title>\n",
       "<path fill=\"none\" stroke=\"red\" d=\"M190.39,-192.14C208.29,-175.2 238.94,-146.2 261.07,-125.25\"/>\n",
       "<polygon fill=\"red\" stroke=\"red\" points=\"263.43,-127.84 268.29,-118.42 258.62,-122.75 263.43,-127.84\"/>\n",
       "<text text-anchor=\"middle\" x=\"252.5\" y=\"-146.82\" font-family=\"Times,serif\" font-size=\"14.00\">F</text>\n",
       "</g>\n",
       "<!-- 9&#45;&gt;13 -->\n",
       "<g id=\"edge17\" class=\"edge\">\n",
       "<title>9&#45;&gt;13</title>\n",
       "<path fill=\"none\" stroke=\"red\" d=\"M368.87,-275.02C369.04,-251.94 369.34,-210.68 369.54,-182.83\"/>\n",
       "<polygon fill=\"red\" stroke=\"red\" points=\"373.04,-182.99 369.61,-172.96 366.04,-182.93 373.04,-182.99\"/>\n",
       "<text text-anchor=\"middle\" x=\"372.5\" y=\"-243.95\" font-family=\"Times,serif\" font-size=\"14.00\">F</text>\n",
       "</g>\n",
       "<!-- 10 -->\n",
       "<g id=\"node13\" class=\"node\">\n",
       "<title>10</title>\n",
       "<polygon fill=\"none\" stroke=\"black\" points=\"476.75,-225 396.92,-207 476.75,-189 556.58,-207 476.75,-225\"/>\n",
       "<text text-anchor=\"middle\" x=\"476.75\" y=\"-200.82\" font-family=\"Times,serif\" font-size=\"14.00\">12: if: a == c</text>\n",
       "</g>\n",
       "<!-- 9&#45;&gt;10 -->\n",
       "<g id=\"edge14\" class=\"edge\">\n",
       "<title>9&#45;&gt;10</title>\n",
       "<path fill=\"none\" stroke=\"blue\" d=\"M385.62,-279.09C403.04,-265.5 430.43,-244.13 450.64,-228.37\"/>\n",
       "<polygon fill=\"blue\" stroke=\"blue\" points=\"452.71,-231.19 458.44,-222.28 448.41,-225.67 452.71,-231.19\"/>\n",
       "<text text-anchor=\"middle\" x=\"432.88\" y=\"-243.95\" font-family=\"Times,serif\" font-size=\"14.00\">T</text>\n",
       "</g>\n",
       "<!-- 10&#45;&gt;11 -->\n",
       "<g id=\"edge15\" class=\"edge\">\n",
       "<title>10&#45;&gt;11</title>\n",
       "<path fill=\"none\" stroke=\"blue\" d=\"M475.14,-188.97C473.61,-172.76 471.28,-148.06 469.47,-128.79\"/>\n",
       "<polygon fill=\"blue\" stroke=\"blue\" points=\"472.95,-128.47 468.53,-118.85 465.98,-129.13 472.95,-128.47\"/>\n",
       "<text text-anchor=\"middle\" x=\"476.88\" y=\"-146.82\" font-family=\"Times,serif\" font-size=\"14.00\">T</text>\n",
       "</g>\n",
       "<!-- 10&#45;&gt;12 -->\n",
       "<g id=\"edge16\" class=\"edge\">\n",
       "<title>10&#45;&gt;12</title>\n",
       "<path fill=\"none\" stroke=\"red\" d=\"M493.61,-192.36C514.75,-175.25 551.38,-145.61 577.44,-124.53\"/>\n",
       "<polygon fill=\"red\" stroke=\"red\" points=\"579.42,-127.42 585,-118.41 575.02,-121.98 579.42,-127.42\"/>\n",
       "<text text-anchor=\"middle\" x=\"564.5\" y=\"-146.82\" font-family=\"Times,serif\" font-size=\"14.00\">F</text>\n",
       "</g>\n",
       "</g>\n",
       "</svg>\n"
      ],
      "text/plain": [
       "<graphviz.graphs.Digraph at 0x104354940>"
      ]
     },
     "execution_count": 9,
     "metadata": {},
     "output_type": "execute_result"
    }
   ],
   "source": [
    "show_cfg(check_triangle)"
   ]
  },
  {
   "cell_type": "markdown",
   "metadata": {
    "slideshow": {
     "slide_type": "fragment"
    }
   },
   "source": [
    "The possible execution paths traced by the program can be represented as follows, with the numbers indicating the specific line numbers executed."
   ]
  },
  {
   "cell_type": "code",
   "execution_count": 10,
   "metadata": {
    "execution": {
     "iopub.execute_input": "2023-11-12T12:47:31.694321Z",
     "iopub.status.busy": "2023-11-12T12:47:31.694165Z",
     "iopub.status.idle": "2023-11-12T12:47:31.696870Z",
     "shell.execute_reply": "2023-11-12T12:47:31.696566Z"
    },
    "slideshow": {
     "slide_type": "subslide"
    }
   },
   "outputs": [],
   "source": [
    "paths = {\n",
    "    '<path 1>': ([1, 2, 3, 4, 5], 'Equilateral'),\n",
    "    '<path 2>': ([1, 2, 3, 4, 7], 'Isosceles'),\n",
    "    '<path 3>': ([1, 2, 3, 9], 'Isosceles'),\n",
    "    '<path 4>': ([1, 2, 11, 12, 13], 'Isosceles'),\n",
    "    '<path 5>': ([1, 2, 11, 12, 15], 'Scalene'),\n",
    "    '<path 6>': ([1, 2, 11, 17], 'Isosceles'),\n",
    "}"
   ]
  },
  {
   "cell_type": "markdown",
   "metadata": {
    "slideshow": {
     "slide_type": "fragment"
    }
   },
   "source": [
    "Consider the `<path 1>`. To trace this path, we need to execute the following statements in order."
   ]
  },
  {
   "cell_type": "markdown",
   "metadata": {
    "slideshow": {
     "slide_type": "subslide"
    }
   },
   "source": [
    "```python\n",
    "1: check_triangle(a, b, c)\n",
    "2: if (a == b) -> True\n",
    "3: if (a == c) -> True\n",
    "4: if (b == c) -> True\n",
    "5: return 'Equilateral'\n",
    "```"
   ]
  },
  {
   "cell_type": "markdown",
   "metadata": {
    "slideshow": {
     "slide_type": "fragment"
    }
   },
   "source": [
    "That is, any execution that traces this path has to start with values for `a`, `b`, and `c` that obeys the constraints in line numbers `2: (a == b)` evaluates to `True`, `3: (a == c)` evaluates to `True`, and `4: (b == c)` evaluates to `True`. Can we generate inputs such that these constraints are satisfied?"
   ]
  },
  {
   "cell_type": "markdown",
   "metadata": {
    "slideshow": {
     "slide_type": "fragment"
    }
   },
   "source": [
    "We have seen from the [chapter on concolic fuzzing](ConcolicFuzzer.ipynb) how one can use an SMT solver such as Z3 to obtain a solution."
   ]
  },
  {
   "cell_type": "code",
   "execution_count": 11,
   "metadata": {
    "execution": {
     "iopub.execute_input": "2023-11-12T12:47:31.698593Z",
     "iopub.status.busy": "2023-11-12T12:47:31.698463Z",
     "iopub.status.idle": "2023-11-12T12:47:31.713284Z",
     "shell.execute_reply": "2023-11-12T12:47:31.713007Z"
    },
    "slideshow": {
     "slide_type": "skip"
    }
   },
   "outputs": [],
   "source": [
    "import z3  # type: ignore"
   ]
  },
  {
   "cell_type": "code",
   "execution_count": 12,
   "metadata": {
    "execution": {
     "iopub.execute_input": "2023-11-12T12:47:31.714968Z",
     "iopub.status.busy": "2023-11-12T12:47:31.714856Z",
     "iopub.status.idle": "2023-11-12T12:47:31.716994Z",
     "shell.execute_reply": "2023-11-12T12:47:31.716734Z"
    },
    "slideshow": {
     "slide_type": "subslide"
    }
   },
   "outputs": [
    {
     "name": "stdout",
     "output_type": "stream",
     "text": [
      "(4, 11, 2, 0)\n"
     ]
    }
   ],
   "source": [
    "z3_ver = z3.get_version()\n",
    "print(z3_ver)"
   ]
  },
  {
   "cell_type": "code",
   "execution_count": 13,
   "metadata": {
    "execution": {
     "iopub.execute_input": "2023-11-12T12:47:31.718420Z",
     "iopub.status.busy": "2023-11-12T12:47:31.718308Z",
     "iopub.status.idle": "2023-11-12T12:47:31.720104Z",
     "shell.execute_reply": "2023-11-12T12:47:31.719838Z"
    },
    "slideshow": {
     "slide_type": "fragment"
    }
   },
   "outputs": [],
   "source": [
    "assert z3_ver >= (4, 8, 6, 0), \"Please check z3 version\""
   ]
  },
  {
   "cell_type": "markdown",
   "metadata": {
    "slideshow": {
     "slide_type": "fragment"
    }
   },
   "source": [
    "What kind of symbolic variables do we need? We can obtain that information from the type annotations of the function."
   ]
  },
  {
   "cell_type": "code",
   "execution_count": 14,
   "metadata": {
    "execution": {
     "iopub.execute_input": "2023-11-12T12:47:31.721595Z",
     "iopub.status.busy": "2023-11-12T12:47:31.721490Z",
     "iopub.status.idle": "2023-11-12T12:47:31.723635Z",
     "shell.execute_reply": "2023-11-12T12:47:31.723387Z"
    },
    "slideshow": {
     "slide_type": "fragment"
    }
   },
   "outputs": [],
   "source": [
    "def get_annotations(fn):\n",
    "    sig = inspect.signature(fn)\n",
    "    return ([(i.name, i.annotation)\n",
    "             for i in sig.parameters.values()], sig.return_annotation)"
   ]
  },
  {
   "cell_type": "code",
   "execution_count": 15,
   "metadata": {
    "execution": {
     "iopub.execute_input": "2023-11-12T12:47:31.724953Z",
     "iopub.status.busy": "2023-11-12T12:47:31.724873Z",
     "iopub.status.idle": "2023-11-12T12:47:31.727157Z",
     "shell.execute_reply": "2023-11-12T12:47:31.726907Z"
    },
    "slideshow": {
     "slide_type": "fragment"
    }
   },
   "outputs": [
    {
     "data": {
      "text/plain": [
       "([('a', int), ('b', int), ('c', int)], str)"
      ]
     },
     "execution_count": 15,
     "metadata": {},
     "output_type": "execute_result"
    }
   ],
   "source": [
    "params, ret = get_annotations(check_triangle)\n",
    "params, ret"
   ]
  },
  {
   "cell_type": "markdown",
   "metadata": {
    "slideshow": {
     "slide_type": "fragment"
    }
   },
   "source": [
    "We create symbolic variables to represent each of the parameters"
   ]
  },
  {
   "cell_type": "code",
   "execution_count": 16,
   "metadata": {
    "execution": {
     "iopub.execute_input": "2023-11-12T12:47:31.728678Z",
     "iopub.status.busy": "2023-11-12T12:47:31.728562Z",
     "iopub.status.idle": "2023-11-12T12:47:31.730398Z",
     "shell.execute_reply": "2023-11-12T12:47:31.730104Z"
    },
    "slideshow": {
     "slide_type": "subslide"
    }
   },
   "outputs": [],
   "source": [
    "SYM_VARS = {\n",
    "    int: (\n",
    "        z3.Int, z3.IntVal), float: (\n",
    "            z3.Real, z3.RealVal), str: (\n",
    "                z3.String, z3.StringVal)}"
   ]
  },
  {
   "cell_type": "code",
   "execution_count": 17,
   "metadata": {
    "execution": {
     "iopub.execute_input": "2023-11-12T12:47:31.731898Z",
     "iopub.status.busy": "2023-11-12T12:47:31.731791Z",
     "iopub.status.idle": "2023-11-12T12:47:31.733829Z",
     "shell.execute_reply": "2023-11-12T12:47:31.733556Z"
    },
    "slideshow": {
     "slide_type": "fragment"
    }
   },
   "outputs": [],
   "source": [
    "def get_symbolicparams(fn):\n",
    "    params, ret = get_annotations(fn)\n",
    "    return [SYM_VARS[typ][0](name)\n",
    "            for name, typ in params], SYM_VARS[ret][0]('__return__')"
   ]
  },
  {
   "cell_type": "code",
   "execution_count": 18,
   "metadata": {
    "execution": {
     "iopub.execute_input": "2023-11-12T12:47:31.735363Z",
     "iopub.status.busy": "2023-11-12T12:47:31.735260Z",
     "iopub.status.idle": "2023-11-12T12:47:31.739606Z",
     "shell.execute_reply": "2023-11-12T12:47:31.739345Z"
    },
    "slideshow": {
     "slide_type": "fragment"
    }
   },
   "outputs": [
    {
     "data": {
      "text/plain": [
       "(a, b, c, __return__)"
      ]
     },
     "execution_count": 18,
     "metadata": {},
     "output_type": "execute_result"
    }
   ],
   "source": [
    "(a, b, c), r = get_symbolicparams(check_triangle)\n",
    "a, b, c, r"
   ]
  },
  {
   "cell_type": "markdown",
   "metadata": {
    "slideshow": {
     "slide_type": "fragment"
    }
   },
   "source": [
    "We can now ask *z3* to solve the set of equations for us as follows."
   ]
  },
  {
   "cell_type": "code",
   "execution_count": 19,
   "metadata": {
    "execution": {
     "iopub.execute_input": "2023-11-12T12:47:31.741059Z",
     "iopub.status.busy": "2023-11-12T12:47:31.740972Z",
     "iopub.status.idle": "2023-11-12T12:47:31.749105Z",
     "shell.execute_reply": "2023-11-12T12:47:31.748829Z"
    },
    "slideshow": {
     "slide_type": "subslide"
    }
   },
   "outputs": [
    {
     "name": "stdout",
     "output_type": "stream",
     "text": [
      "[a = 0, b = 0, c = 0]\n"
     ]
    }
   ],
   "source": [
    "z3.solve(a == b, a == c, b == c)"
   ]
  },
  {
   "cell_type": "markdown",
   "metadata": {
    "slideshow": {
     "slide_type": "fragment"
    }
   },
   "source": [
    "Here we find the first problem in our program. Our program seems to not check whether the sides are greater than zero. (Real-world triangles all have sides with a positive length.) Assume for now that we do not have that restriction. Does our program correctly follow the path described?\n",
    "\n",
    "We can use the `ArcCoverage` from the [chapter on concolic fuzzing](ConcolicFuzzer.ipynb) as a tracer to visualize that information as below."
   ]
  },
  {
   "cell_type": "code",
   "execution_count": 20,
   "metadata": {
    "execution": {
     "iopub.execute_input": "2023-11-12T12:47:31.750828Z",
     "iopub.status.busy": "2023-11-12T12:47:31.750715Z",
     "iopub.status.idle": "2023-11-12T12:47:32.899903Z",
     "shell.execute_reply": "2023-11-12T12:47:32.899580Z"
    },
    "slideshow": {
     "slide_type": "skip"
    }
   },
   "outputs": [],
   "source": [
    "from ConcolicFuzzer import ArcCoverage  # minor dependency"
   ]
  },
  {
   "cell_type": "markdown",
   "metadata": {
    "slideshow": {
     "slide_type": "fragment"
    }
   },
   "source": [
    "First, we recover the trace."
   ]
  },
  {
   "cell_type": "code",
   "execution_count": 21,
   "metadata": {
    "execution": {
     "iopub.execute_input": "2023-11-12T12:47:32.901625Z",
     "iopub.status.busy": "2023-11-12T12:47:32.901535Z",
     "iopub.status.idle": "2023-11-12T12:47:32.911978Z",
     "shell.execute_reply": "2023-11-12T12:47:32.911639Z"
    },
    "slideshow": {
     "slide_type": "subslide"
    }
   },
   "outputs": [
    {
     "data": {
      "text/plain": [
       "([('check_triangle', 1),\n",
       "  ('check_triangle', 2),\n",
       "  ('check_triangle', 3),\n",
       "  ('check_triangle', 4),\n",
       "  ('check_triangle', 5),\n",
       "  ('__exit__', 102),\n",
       "  ('__exit__', 105)],\n",
       " [(1, 2), (2, 3), (3, 4), (4, 5), (5, 102), (102, 105)])"
      ]
     },
     "execution_count": 21,
     "metadata": {},
     "output_type": "execute_result"
    }
   ],
   "source": [
    "with ArcCoverage() as cov:\n",
    "    assert check_triangle(0, 0, 0) == 'Equilateral'\n",
    "cov._trace, cov.arcs()"
   ]
  },
  {
   "cell_type": "markdown",
   "metadata": {
    "slideshow": {
     "slide_type": "fragment"
    }
   },
   "source": [
    "We can now determine the path taken."
   ]
  },
  {
   "cell_type": "markdown",
   "metadata": {
    "slideshow": {
     "slide_type": "subslide"
    }
   },
   "source": [
    "### The CFG with Path Taken"
   ]
  },
  {
   "cell_type": "code",
   "execution_count": 22,
   "metadata": {
    "execution": {
     "iopub.execute_input": "2023-11-12T12:47:32.913551Z",
     "iopub.status.busy": "2023-11-12T12:47:32.913463Z",
     "iopub.status.idle": "2023-11-12T12:47:33.313064Z",
     "shell.execute_reply": "2023-11-12T12:47:33.312711Z"
    },
    "slideshow": {
     "slide_type": "fragment"
    }
   },
   "outputs": [
    {
     "data": {
      "image/svg+xml": [
       "<?xml version=\"1.0\" encoding=\"UTF-8\" standalone=\"no\"?>\n",
       "<!DOCTYPE svg PUBLIC \"-//W3C//DTD SVG 1.1//EN\"\n",
       " \"http://www.w3.org/Graphics/SVG/1.1/DTD/svg11.dtd\">\n",
       "<!-- Generated by graphviz version 9.0.0 (20230911.1827)\n",
       " -->\n",
       "<!-- Pages: 1 -->\n",
       "<svg width=\"683pt\" height=\"420pt\"\n",
       " viewBox=\"0.00 0.00 682.50 420.00\" xmlns=\"http://www.w3.org/2000/svg\" xmlns:xlink=\"http://www.w3.org/1999/xlink\">\n",
       "<g id=\"graph0\" class=\"graph\" transform=\"scale(1 1) rotate(0) translate(4 416)\">\n",
       "<polygon fill=\"white\" stroke=\"none\" points=\"-4,4 -4,-416 678.5,-416 678.5,4 -4,4\"/>\n",
       "<!-- 1 -->\n",
       "<g id=\"node1\" class=\"node\">\n",
       "<title>1</title>\n",
       "<ellipse fill=\"none\" stroke=\"black\" cx=\"295.75\" cy=\"-390\" rx=\"118.94\" ry=\"18\"/>\n",
       "<ellipse fill=\"none\" stroke=\"black\" cx=\"295.75\" cy=\"-390\" rx=\"122.94\" ry=\"22\"/>\n",
       "<text text-anchor=\"middle\" x=\"295.75\" y=\"-383.82\" font-family=\"Times,serif\" font-size=\"14.00\">1: enter: check_triangle(a, b, c)</text>\n",
       "</g>\n",
       "<!-- 3 -->\n",
       "<g id=\"node9\" class=\"node\">\n",
       "<title>3</title>\n",
       "<polygon fill=\"none\" stroke=\"black\" points=\"295.75,-332 221.32,-314 295.75,-296 370.18,-314 295.75,-332\"/>\n",
       "<text text-anchor=\"middle\" x=\"295.75\" y=\"-307.82\" font-family=\"Times,serif\" font-size=\"14.00\">2: if: a == b</text>\n",
       "</g>\n",
       "<!-- 1&#45;&gt;3 -->\n",
       "<g id=\"edge7\" class=\"edge\">\n",
       "<title>1&#45;&gt;3</title>\n",
       "<path fill=\"none\" stroke=\"green\" d=\"M295.75,-367.6C295.75,-360.11 295.75,-351.59 295.75,-343.61\"/>\n",
       "<polygon fill=\"green\" stroke=\"green\" points=\"299.25,-343.65 295.75,-333.65 292.25,-343.65 299.25,-343.65\"/>\n",
       "</g>\n",
       "<!-- 2 -->\n",
       "<g id=\"node2\" class=\"node\">\n",
       "<title>2</title>\n",
       "<ellipse fill=\"none\" stroke=\"black\" cx=\"338.75\" cy=\"-22\" rx=\"114.64\" ry=\"18\"/>\n",
       "<ellipse fill=\"none\" stroke=\"black\" cx=\"338.75\" cy=\"-22\" rx=\"118.64\" ry=\"22\"/>\n",
       "<text text-anchor=\"middle\" x=\"338.75\" y=\"-15.82\" font-family=\"Times,serif\" font-size=\"14.00\">1: exit: check_triangle(a, b, c)</text>\n",
       "</g>\n",
       "<!-- 6 -->\n",
       "<g id=\"node3\" class=\"node\">\n",
       "<title>6</title>\n",
       "<polygon fill=\"none\" stroke=\"black\" points=\"216.75,-116 86.75,-116 86.75,-80 216.75,-80 216.75,-116\"/>\n",
       "<text text-anchor=\"middle\" x=\"151.75\" y=\"-91.83\" font-family=\"Times,serif\" font-size=\"14.00\">5: return &#39;Equilateral&#39;</text>\n",
       "</g>\n",
       "<!-- 6&#45;&gt;2 -->\n",
       "<g id=\"edge1\" class=\"edge\">\n",
       "<title>6&#45;&gt;2</title>\n",
       "<path fill=\"none\" stroke=\"green\" d=\"M195.59,-79.65C220.47,-69.81 251.95,-57.35 279.05,-46.63\"/>\n",
       "<polygon fill=\"green\" stroke=\"green\" points=\"280.16,-49.95 288.18,-43.01 277.59,-43.44 280.16,-49.95\"/>\n",
       "</g>\n",
       "<!-- 7 -->\n",
       "<g id=\"node4\" class=\"node\">\n",
       "<title>7</title>\n",
       "<polygon fill=\"none\" stroke=\"black\" points=\"354.5,-116 235,-116 235,-80 354.5,-80 354.5,-116\"/>\n",
       "<text text-anchor=\"middle\" x=\"294.75\" y=\"-91.83\" font-family=\"Times,serif\" font-size=\"14.00\">7: return &#39;Isosceles&#39;</text>\n",
       "</g>\n",
       "<!-- 7&#45;&gt;2 -->\n",
       "<g id=\"edge2\" class=\"edge\">\n",
       "<title>7&#45;&gt;2</title>\n",
       "<path fill=\"none\" stroke=\"red\" d=\"M304.96,-79.84C309.53,-72.14 315.07,-62.83 320.33,-53.98\"/>\n",
       "<polygon fill=\"red\" stroke=\"red\" points=\"323.21,-55.99 325.31,-45.61 317.19,-52.41 323.21,-55.99\"/>\n",
       "</g>\n",
       "<!-- 8 -->\n",
       "<g id=\"node5\" class=\"node\">\n",
       "<title>8</title>\n",
       "<polygon fill=\"none\" stroke=\"black\" points=\"119.5,-188 0,-188 0,-152 119.5,-152 119.5,-188\"/>\n",
       "<text text-anchor=\"middle\" x=\"59.75\" y=\"-163.82\" font-family=\"Times,serif\" font-size=\"14.00\">9: return &#39;Isosceles&#39;</text>\n",
       "</g>\n",
       "<!-- 8&#45;&gt;2 -->\n",
       "<g id=\"edge3\" class=\"edge\">\n",
       "<title>8&#45;&gt;2</title>\n",
       "<path fill=\"none\" stroke=\"red\" d=\"M58.1,-151.73C57.2,-131.69 59.06,-98.98 77.75,-80 98.81,-58.61 165.3,-44.28 225.9,-35.34\"/>\n",
       "<polygon fill=\"red\" stroke=\"red\" points=\"226.23,-38.82 235.63,-33.94 225.24,-31.89 226.23,-38.82\"/>\n",
       "</g>\n",
       "<!-- 11 -->\n",
       "<g id=\"node6\" class=\"node\">\n",
       "<title>11</title>\n",
       "<polygon fill=\"none\" stroke=\"black\" points=\"536.88,-116 410.62,-116 410.62,-80 536.88,-80 536.88,-116\"/>\n",
       "<text text-anchor=\"middle\" x=\"473.75\" y=\"-91.83\" font-family=\"Times,serif\" font-size=\"14.00\">13: return &#39;Isosceles&#39;</text>\n",
       "</g>\n",
       "<!-- 11&#45;&gt;2 -->\n",
       "<g id=\"edge4\" class=\"edge\">\n",
       "<title>11&#45;&gt;2</title>\n",
       "<path fill=\"none\" stroke=\"red\" d=\"M442.1,-79.65C425.19,-70.38 404.05,-58.79 385.3,-48.52\"/>\n",
       "<polygon fill=\"red\" stroke=\"red\" points=\"387.24,-45.59 376.79,-43.85 383.87,-51.73 387.24,-45.59\"/>\n",
       "</g>\n",
       "<!-- 12 -->\n",
       "<g id=\"node7\" class=\"node\">\n",
       "<title>12</title>\n",
       "<polygon fill=\"none\" stroke=\"black\" points=\"674.5,-116 555,-116 555,-80 674.5,-80 674.5,-116\"/>\n",
       "<text text-anchor=\"middle\" x=\"614.75\" y=\"-91.83\" font-family=\"Times,serif\" font-size=\"14.00\">15: return &#39;Scalene&#39;</text>\n",
       "</g>\n",
       "<!-- 12&#45;&gt;2 -->\n",
       "<g id=\"edge5\" class=\"edge\">\n",
       "<title>12&#45;&gt;2</title>\n",
       "<path fill=\"none\" stroke=\"red\" d=\"M554.52,-80.85C513.73,-69.91 459.47,-55.37 415.57,-43.6\"/>\n",
       "<polygon fill=\"red\" stroke=\"red\" points=\"416.67,-40.27 406.1,-41.06 414.86,-47.03 416.67,-40.27\"/>\n",
       "</g>\n",
       "<!-- 13 -->\n",
       "<g id=\"node8\" class=\"node\">\n",
       "<title>13</title>\n",
       "<polygon fill=\"none\" stroke=\"black\" points=\"444.88,-188 318.62,-188 318.62,-152 444.88,-152 444.88,-188\"/>\n",
       "<text text-anchor=\"middle\" x=\"381.75\" y=\"-163.82\" font-family=\"Times,serif\" font-size=\"14.00\">17: return &#39;Isosceles&#39;</text>\n",
       "</g>\n",
       "<!-- 13&#45;&gt;2 -->\n",
       "<g id=\"edge6\" class=\"edge\">\n",
       "<title>13&#45;&gt;2</title>\n",
       "<path fill=\"none\" stroke=\"red\" d=\"M379.37,-151.66C376.62,-133.52 371.45,-104.35 363.75,-80 361.08,-71.55 357.55,-62.66 353.99,-54.48\"/>\n",
       "<polygon fill=\"red\" stroke=\"red\" points=\"357.29,-53.29 349.98,-45.61 350.91,-56.17 357.29,-53.29\"/>\n",
       "</g>\n",
       "<!-- 4 -->\n",
       "<g id=\"node10\" class=\"node\">\n",
       "<title>4</title>\n",
       "<polygon fill=\"none\" stroke=\"black\" points=\"211.75,-260 137.99,-242 211.75,-224 285.51,-242 211.75,-260\"/>\n",
       "<text text-anchor=\"middle\" x=\"211.75\" y=\"-235.82\" font-family=\"Times,serif\" font-size=\"14.00\">3: if: a == c</text>\n",
       "</g>\n",
       "<!-- 3&#45;&gt;4 -->\n",
       "<g id=\"edge8\" class=\"edge\">\n",
       "<title>3&#45;&gt;4</title>\n",
       "<path fill=\"none\" stroke=\"green\" d=\"M279.55,-299.5C267.35,-289.34 250.41,-275.21 236.51,-263.63\"/>\n",
       "<polygon fill=\"green\" stroke=\"green\" points=\"238.98,-261.14 229.06,-257.42 234.5,-266.51 238.98,-261.14\"/>\n",
       "</g>\n",
       "<!-- 9 -->\n",
       "<g id=\"node12\" class=\"node\">\n",
       "<title>9</title>\n",
       "<polygon fill=\"none\" stroke=\"black\" points=\"381.75,-260 304.62,-242 381.75,-224 458.88,-242 381.75,-260\"/>\n",
       "<text text-anchor=\"middle\" x=\"381.75\" y=\"-235.82\" font-family=\"Times,serif\" font-size=\"14.00\">11: if: b != c</text>\n",
       "</g>\n",
       "<!-- 3&#45;&gt;9 -->\n",
       "<g id=\"edge13\" class=\"edge\">\n",
       "<title>3&#45;&gt;9</title>\n",
       "<path fill=\"none\" stroke=\"red\" d=\"M312.33,-299.5C324.82,-289.34 342.17,-275.21 356.4,-263.63\"/>\n",
       "<polygon fill=\"red\" stroke=\"red\" points=\"358.5,-266.44 364.05,-257.41 354.08,-261.01 358.5,-266.44\"/>\n",
       "</g>\n",
       "<!-- 4&#45;&gt;8 -->\n",
       "<g id=\"edge12\" class=\"edge\">\n",
       "<title>4&#45;&gt;8</title>\n",
       "<path fill=\"none\" stroke=\"red\" d=\"M186.99,-229.6C165.6,-219.75 134.08,-205.23 107.76,-193.11\"/>\n",
       "<polygon fill=\"red\" stroke=\"red\" points=\"109.51,-190.06 98.97,-189.06 106.59,-196.42 109.51,-190.06\"/>\n",
       "</g>\n",
       "<!-- 5 -->\n",
       "<g id=\"node11\" class=\"node\">\n",
       "<title>5</title>\n",
       "<polygon fill=\"none\" stroke=\"black\" points=\"211.75,-188 137.32,-170 211.75,-152 286.18,-170 211.75,-188\"/>\n",
       "<text text-anchor=\"middle\" x=\"211.75\" y=\"-163.82\" font-family=\"Times,serif\" font-size=\"14.00\">4: if: b == c</text>\n",
       "</g>\n",
       "<!-- 4&#45;&gt;5 -->\n",
       "<g id=\"edge9\" class=\"edge\">\n",
       "<title>4&#45;&gt;5</title>\n",
       "<path fill=\"none\" stroke=\"green\" d=\"M211.75,-223.7C211.75,-216.41 211.75,-207.73 211.75,-199.54\"/>\n",
       "<polygon fill=\"green\" stroke=\"green\" points=\"215.25,-199.62 211.75,-189.62 208.25,-199.62 215.25,-199.62\"/>\n",
       "</g>\n",
       "<!-- 5&#45;&gt;6 -->\n",
       "<g id=\"edge10\" class=\"edge\">\n",
       "<title>5&#45;&gt;6</title>\n",
       "<path fill=\"none\" stroke=\"green\" d=\"M199.32,-154.5C192.06,-146.03 182.7,-135.1 174.19,-125.18\"/>\n",
       "<polygon fill=\"green\" stroke=\"green\" points=\"176.86,-122.92 167.7,-117.61 171.55,-127.48 176.86,-122.92\"/>\n",
       "</g>\n",
       "<!-- 5&#45;&gt;7 -->\n",
       "<g id=\"edge11\" class=\"edge\">\n",
       "<title>5&#45;&gt;7</title>\n",
       "<path fill=\"none\" stroke=\"red\" d=\"M227.75,-155.5C238.47,-146.46 252.89,-134.3 265.61,-123.58\"/>\n",
       "<polygon fill=\"red\" stroke=\"red\" points=\"267.53,-126.54 272.92,-117.41 263.02,-121.19 267.53,-126.54\"/>\n",
       "</g>\n",
       "<!-- 9&#45;&gt;13 -->\n",
       "<g id=\"edge17\" class=\"edge\">\n",
       "<title>9&#45;&gt;13</title>\n",
       "<path fill=\"none\" stroke=\"red\" d=\"M381.75,-223.7C381.75,-216.41 381.75,-207.73 381.75,-199.54\"/>\n",
       "<polygon fill=\"red\" stroke=\"red\" points=\"385.25,-199.62 381.75,-189.62 378.25,-199.62 385.25,-199.62\"/>\n",
       "</g>\n",
       "<!-- 10 -->\n",
       "<g id=\"node13\" class=\"node\">\n",
       "<title>10</title>\n",
       "<polygon fill=\"none\" stroke=\"black\" points=\"542.75,-188 462.92,-170 542.75,-152 622.58,-170 542.75,-188\"/>\n",
       "<text text-anchor=\"middle\" x=\"542.75\" y=\"-163.82\" font-family=\"Times,serif\" font-size=\"14.00\">12: if: a == c</text>\n",
       "</g>\n",
       "<!-- 9&#45;&gt;10 -->\n",
       "<g id=\"edge14\" class=\"edge\">\n",
       "<title>9&#45;&gt;10</title>\n",
       "<path fill=\"none\" stroke=\"red\" d=\"M407.62,-229.75C434.22,-218.19 475.89,-200.07 505.92,-187.01\"/>\n",
       "<polygon fill=\"red\" stroke=\"red\" points=\"507.25,-190.25 515.02,-183.05 504.46,-183.83 507.25,-190.25\"/>\n",
       "</g>\n",
       "<!-- 10&#45;&gt;11 -->\n",
       "<g id=\"edge15\" class=\"edge\">\n",
       "<title>10&#45;&gt;11</title>\n",
       "<path fill=\"none\" stroke=\"red\" d=\"M528.79,-154.83C520.15,-146.07 508.81,-134.57 498.67,-124.28\"/>\n",
       "<polygon fill=\"red\" stroke=\"red\" points=\"501.45,-122.11 491.93,-117.45 496.46,-127.02 501.45,-122.11\"/>\n",
       "</g>\n",
       "<!-- 10&#45;&gt;12 -->\n",
       "<g id=\"edge16\" class=\"edge\">\n",
       "<title>10&#45;&gt;12</title>\n",
       "<path fill=\"none\" stroke=\"red\" d=\"M557.32,-154.83C566.33,-146.07 578.17,-134.57 588.75,-124.28\"/>\n",
       "<polygon fill=\"red\" stroke=\"red\" points=\"591.07,-126.9 595.8,-117.42 586.19,-121.88 591.07,-126.9\"/>\n",
       "</g>\n",
       "</g>\n",
       "</svg>\n"
      ],
      "text/plain": [
       "<graphviz.graphs.Digraph at 0x10fc8c7c0>"
      ]
     },
     "execution_count": 22,
     "metadata": {},
     "output_type": "execute_result"
    }
   ],
   "source": [
    "show_cfg(check_triangle, arcs=cov.arcs())"
   ]
  },
  {
   "cell_type": "markdown",
   "metadata": {
    "slideshow": {
     "slide_type": "fragment"
    }
   },
   "source": [
    "As you can see, the path taken is `<path 1>`."
   ]
  },
  {
   "cell_type": "markdown",
   "metadata": {
    "slideshow": {
     "slide_type": "fragment"
    }
   },
   "source": [
    "Similarly, for solving `<path 2>` we need to simply invert the condition at <line 2>:"
   ]
  },
  {
   "cell_type": "code",
   "execution_count": 23,
   "metadata": {
    "execution": {
     "iopub.execute_input": "2023-11-12T12:47:33.314855Z",
     "iopub.status.busy": "2023-11-12T12:47:33.314719Z",
     "iopub.status.idle": "2023-11-12T12:47:33.323663Z",
     "shell.execute_reply": "2023-11-12T12:47:33.323387Z"
    },
    "slideshow": {
     "slide_type": "fragment"
    }
   },
   "outputs": [
    {
     "name": "stdout",
     "output_type": "stream",
     "text": [
      "no solution\n"
     ]
    }
   ],
   "source": [
    "z3.solve(a == b, a == c, z3.Not(b == c))"
   ]
  },
  {
   "cell_type": "markdown",
   "metadata": {
    "slideshow": {
     "slide_type": "fragment"
    }
   },
   "source": [
    "The symbolic execution suggests that there is no solution. A moment's reflection will convince us that it is indeed true. Let us proceed with the other paths. The `<path 3>` can be obtained by inverting the condition at `<line 4>`."
   ]
  },
  {
   "cell_type": "code",
   "execution_count": 24,
   "metadata": {
    "execution": {
     "iopub.execute_input": "2023-11-12T12:47:33.325472Z",
     "iopub.status.busy": "2023-11-12T12:47:33.325307Z",
     "iopub.status.idle": "2023-11-12T12:47:33.334588Z",
     "shell.execute_reply": "2023-11-12T12:47:33.334317Z"
    },
    "slideshow": {
     "slide_type": "subslide"
    }
   },
   "outputs": [
    {
     "name": "stdout",
     "output_type": "stream",
     "text": [
      "[b = 1, c = 0, a = 1]\n"
     ]
    }
   ],
   "source": [
    "z3.solve(a == b, z3.Not(a == c))"
   ]
  },
  {
   "cell_type": "code",
   "execution_count": 25,
   "metadata": {
    "execution": {
     "iopub.execute_input": "2023-11-12T12:47:33.336114Z",
     "iopub.status.busy": "2023-11-12T12:47:33.335987Z",
     "iopub.status.idle": "2023-11-12T12:47:33.347572Z",
     "shell.execute_reply": "2023-11-12T12:47:33.347270Z"
    },
    "slideshow": {
     "slide_type": "fragment"
    }
   },
   "outputs": [
    {
     "data": {
      "text/plain": [
       "[1, 2, 3, 9]"
      ]
     },
     "execution_count": 25,
     "metadata": {},
     "output_type": "execute_result"
    }
   ],
   "source": [
    "with ArcCoverage() as cov:\n",
    "    assert check_triangle(1, 1, 0) == 'Isosceles'\n",
    "[i for fn, i in cov._trace if fn == 'check_triangle']"
   ]
  },
  {
   "cell_type": "code",
   "execution_count": 26,
   "metadata": {
    "execution": {
     "iopub.execute_input": "2023-11-12T12:47:33.349151Z",
     "iopub.status.busy": "2023-11-12T12:47:33.349020Z",
     "iopub.status.idle": "2023-11-12T12:47:33.351342Z",
     "shell.execute_reply": "2023-11-12T12:47:33.351068Z"
    },
    "slideshow": {
     "slide_type": "fragment"
    }
   },
   "outputs": [
    {
     "data": {
      "text/plain": [
       "([1, 2, 3, 9], 'Isosceles')"
      ]
     },
     "execution_count": 26,
     "metadata": {},
     "output_type": "execute_result"
    }
   ],
   "source": [
    "paths['<path 3>']"
   ]
  },
  {
   "cell_type": "markdown",
   "metadata": {
    "slideshow": {
     "slide_type": "fragment"
    }
   },
   "source": [
    "How about path <4>?"
   ]
  },
  {
   "cell_type": "code",
   "execution_count": 27,
   "metadata": {
    "execution": {
     "iopub.execute_input": "2023-11-12T12:47:33.353012Z",
     "iopub.status.busy": "2023-11-12T12:47:33.352902Z",
     "iopub.status.idle": "2023-11-12T12:47:33.364712Z",
     "shell.execute_reply": "2023-11-12T12:47:33.364429Z"
    },
    "slideshow": {
     "slide_type": "fragment"
    }
   },
   "outputs": [
    {
     "name": "stdout",
     "output_type": "stream",
     "text": [
      "[b = 0, c = 1, a = 1]\n"
     ]
    }
   ],
   "source": [
    "z3.solve(z3.Not(a == b), b != c, a == c)"
   ]
  },
  {
   "cell_type": "markdown",
   "metadata": {
    "slideshow": {
     "slide_type": "subslide"
    }
   },
   "source": [
    "As we mentioned earlier, our program does not account for sides with zero or negative length. We can modify our program to check for zero and negative input. However, do we always have to make sure that every function has to account for all possible inputs? It is possible that the `check_triangle` is not directly exposed to the user, and it is called from another function that already guarantees that the inputs would be positive. In the [chapter on dynamic invariants](DynamicInvariants.ipynb), we will show how to discover such preconditions and post conditions.\n",
    "\n",
    "We can easily add such a precondition here."
   ]
  },
  {
   "cell_type": "code",
   "execution_count": 28,
   "metadata": {
    "execution": {
     "iopub.execute_input": "2023-11-12T12:47:33.366351Z",
     "iopub.status.busy": "2023-11-12T12:47:33.366236Z",
     "iopub.status.idle": "2023-11-12T12:47:33.368648Z",
     "shell.execute_reply": "2023-11-12T12:47:33.368380Z"
    },
    "slideshow": {
     "slide_type": "fragment"
    }
   },
   "outputs": [],
   "source": [
    "pre_condition = z3.And(a > 0, b > 0, c > 0)"
   ]
  },
  {
   "cell_type": "code",
   "execution_count": 29,
   "metadata": {
    "execution": {
     "iopub.execute_input": "2023-11-12T12:47:33.370175Z",
     "iopub.status.busy": "2023-11-12T12:47:33.370045Z",
     "iopub.status.idle": "2023-11-12T12:47:33.378310Z",
     "shell.execute_reply": "2023-11-12T12:47:33.377997Z"
    },
    "slideshow": {
     "slide_type": "fragment"
    }
   },
   "outputs": [
    {
     "name": "stdout",
     "output_type": "stream",
     "text": [
      "[c = 2, b = 1, a = 2]\n"
     ]
    }
   ],
   "source": [
    "z3.solve(pre_condition, z3.Not(a == b), b != c, a == c)"
   ]
  },
  {
   "cell_type": "code",
   "execution_count": 30,
   "metadata": {
    "execution": {
     "iopub.execute_input": "2023-11-12T12:47:33.379875Z",
     "iopub.status.busy": "2023-11-12T12:47:33.379758Z",
     "iopub.status.idle": "2023-11-12T12:47:33.390832Z",
     "shell.execute_reply": "2023-11-12T12:47:33.390569Z"
    },
    "slideshow": {
     "slide_type": "subslide"
    }
   },
   "outputs": [
    {
     "data": {
      "text/plain": [
       "[1, 2, 11, 12, 13]"
      ]
     },
     "execution_count": 30,
     "metadata": {},
     "output_type": "execute_result"
    }
   ],
   "source": [
    "with ArcCoverage() as cov:\n",
    "    assert check_triangle(1, 2, 1) == 'Isosceles'\n",
    "[i for fn, i in cov._trace if fn == 'check_triangle']"
   ]
  },
  {
   "cell_type": "code",
   "execution_count": 31,
   "metadata": {
    "execution": {
     "iopub.execute_input": "2023-11-12T12:47:33.392269Z",
     "iopub.status.busy": "2023-11-12T12:47:33.392165Z",
     "iopub.status.idle": "2023-11-12T12:47:33.394342Z",
     "shell.execute_reply": "2023-11-12T12:47:33.394064Z"
    },
    "slideshow": {
     "slide_type": "fragment"
    }
   },
   "outputs": [
    {
     "data": {
      "text/plain": [
       "([1, 2, 11, 12, 13], 'Isosceles')"
      ]
     },
     "execution_count": 31,
     "metadata": {},
     "output_type": "execute_result"
    }
   ],
   "source": [
    "paths['<path 4>']"
   ]
  },
  {
   "cell_type": "markdown",
   "metadata": {
    "slideshow": {
     "slide_type": "fragment"
    }
   },
   "source": [
    "Continuing to path <5>:"
   ]
  },
  {
   "cell_type": "code",
   "execution_count": 32,
   "metadata": {
    "execution": {
     "iopub.execute_input": "2023-11-12T12:47:33.395729Z",
     "iopub.status.busy": "2023-11-12T12:47:33.395618Z",
     "iopub.status.idle": "2023-11-12T12:47:33.404135Z",
     "shell.execute_reply": "2023-11-12T12:47:33.403821Z"
    },
    "slideshow": {
     "slide_type": "fragment"
    }
   },
   "outputs": [
    {
     "name": "stdout",
     "output_type": "stream",
     "text": [
      "[a = 1, c = 3, b = 2]\n"
     ]
    }
   ],
   "source": [
    "z3.solve(pre_condition, z3.Not(a == b), b != c, z3.Not(a == c))"
   ]
  },
  {
   "cell_type": "markdown",
   "metadata": {
    "slideshow": {
     "slide_type": "fragment"
    }
   },
   "source": [
    "And indeed it is a *Scalene* triangle."
   ]
  },
  {
   "cell_type": "code",
   "execution_count": 33,
   "metadata": {
    "execution": {
     "iopub.execute_input": "2023-11-12T12:47:33.405729Z",
     "iopub.status.busy": "2023-11-12T12:47:33.405618Z",
     "iopub.status.idle": "2023-11-12T12:47:33.415872Z",
     "shell.execute_reply": "2023-11-12T12:47:33.415623Z"
    },
    "slideshow": {
     "slide_type": "fragment"
    }
   },
   "outputs": [],
   "source": [
    "with ArcCoverage() as cov:\n",
    "    assert check_triangle(3, 1, 2) == 'Scalene'"
   ]
  },
  {
   "cell_type": "code",
   "execution_count": 34,
   "metadata": {
    "execution": {
     "iopub.execute_input": "2023-11-12T12:47:33.417334Z",
     "iopub.status.busy": "2023-11-12T12:47:33.417239Z",
     "iopub.status.idle": "2023-11-12T12:47:33.419459Z",
     "shell.execute_reply": "2023-11-12T12:47:33.419189Z"
    },
    "slideshow": {
     "slide_type": "fragment"
    }
   },
   "outputs": [
    {
     "data": {
      "text/plain": [
       "([1, 2, 11, 12, 15], 'Scalene')"
      ]
     },
     "execution_count": 34,
     "metadata": {},
     "output_type": "execute_result"
    }
   ],
   "source": [
    "paths['<path 5>']"
   ]
  },
  {
   "cell_type": "markdown",
   "metadata": {
    "slideshow": {
     "slide_type": "subslide"
    }
   },
   "source": [
    "Finally, for `<path 6>` the procedure is similar."
   ]
  },
  {
   "cell_type": "code",
   "execution_count": 35,
   "metadata": {
    "execution": {
     "iopub.execute_input": "2023-11-12T12:47:33.420911Z",
     "iopub.status.busy": "2023-11-12T12:47:33.420823Z",
     "iopub.status.idle": "2023-11-12T12:47:33.428943Z",
     "shell.execute_reply": "2023-11-12T12:47:33.428665Z"
    },
    "slideshow": {
     "slide_type": "fragment"
    }
   },
   "outputs": [
    {
     "name": "stdout",
     "output_type": "stream",
     "text": [
      "[c = 2, a = 1, b = 2]\n"
     ]
    }
   ],
   "source": [
    "z3.solve(pre_condition, z3.Not(a == b), z3.Not(b != c))"
   ]
  },
  {
   "cell_type": "code",
   "execution_count": 36,
   "metadata": {
    "execution": {
     "iopub.execute_input": "2023-11-12T12:47:33.430516Z",
     "iopub.status.busy": "2023-11-12T12:47:33.430405Z",
     "iopub.status.idle": "2023-11-12T12:47:33.439174Z",
     "shell.execute_reply": "2023-11-12T12:47:33.438917Z"
    },
    "slideshow": {
     "slide_type": "fragment"
    }
   },
   "outputs": [
    {
     "data": {
      "text/plain": [
       "[1, 2, 11, 17]"
      ]
     },
     "execution_count": 36,
     "metadata": {},
     "output_type": "execute_result"
    }
   ],
   "source": [
    "with ArcCoverage() as cov:\n",
    "    assert check_triangle(2, 1, 1) == 'Isosceles'\n",
    "[i for fn, i in cov._trace if fn == 'check_triangle']"
   ]
  },
  {
   "cell_type": "code",
   "execution_count": 37,
   "metadata": {
    "execution": {
     "iopub.execute_input": "2023-11-12T12:47:33.440609Z",
     "iopub.status.busy": "2023-11-12T12:47:33.440524Z",
     "iopub.status.idle": "2023-11-12T12:47:33.442585Z",
     "shell.execute_reply": "2023-11-12T12:47:33.442348Z"
    },
    "slideshow": {
     "slide_type": "fragment"
    }
   },
   "outputs": [
    {
     "data": {
      "text/plain": [
       "([1, 2, 11, 17], 'Isosceles')"
      ]
     },
     "execution_count": 37,
     "metadata": {},
     "output_type": "execute_result"
    }
   ],
   "source": [
    "paths['<path 6>']"
   ]
  },
  {
   "cell_type": "markdown",
   "metadata": {
    "slideshow": {
     "slide_type": "fragment"
    }
   },
   "source": [
    "What if we wanted another solution? We can simply ask the solver to solve again, and not give us the same values."
   ]
  },
  {
   "cell_type": "code",
   "execution_count": 38,
   "metadata": {
    "execution": {
     "iopub.execute_input": "2023-11-12T12:47:33.443969Z",
     "iopub.status.busy": "2023-11-12T12:47:33.443891Z",
     "iopub.status.idle": "2023-11-12T12:47:33.446055Z",
     "shell.execute_reply": "2023-11-12T12:47:33.445810Z"
    },
    "slideshow": {
     "slide_type": "fragment"
    }
   },
   "outputs": [],
   "source": [
    "seen = [z3.And(a == 2, b == 1, c == 1)]"
   ]
  },
  {
   "cell_type": "code",
   "execution_count": 39,
   "metadata": {
    "execution": {
     "iopub.execute_input": "2023-11-12T12:47:33.447382Z",
     "iopub.status.busy": "2023-11-12T12:47:33.447300Z",
     "iopub.status.idle": "2023-11-12T12:47:33.456088Z",
     "shell.execute_reply": "2023-11-12T12:47:33.455824Z"
    },
    "slideshow": {
     "slide_type": "subslide"
    }
   },
   "outputs": [
    {
     "name": "stdout",
     "output_type": "stream",
     "text": [
      "[c = 2, a = 1, b = 2]\n"
     ]
    }
   ],
   "source": [
    "z3.solve(pre_condition, z3.Not(z3.Or(seen)), z3.Not(a == b), z3.Not(b != c))"
   ]
  },
  {
   "cell_type": "code",
   "execution_count": 40,
   "metadata": {
    "execution": {
     "iopub.execute_input": "2023-11-12T12:47:33.457649Z",
     "iopub.status.busy": "2023-11-12T12:47:33.457542Z",
     "iopub.status.idle": "2023-11-12T12:47:33.459577Z",
     "shell.execute_reply": "2023-11-12T12:47:33.459330Z"
    },
    "slideshow": {
     "slide_type": "fragment"
    }
   },
   "outputs": [],
   "source": [
    "seen.append(z3.And(a == 1, b == 2, c == 2))"
   ]
  },
  {
   "cell_type": "code",
   "execution_count": 41,
   "metadata": {
    "execution": {
     "iopub.execute_input": "2023-11-12T12:47:33.460917Z",
     "iopub.status.busy": "2023-11-12T12:47:33.460816Z",
     "iopub.status.idle": "2023-11-12T12:47:33.469166Z",
     "shell.execute_reply": "2023-11-12T12:47:33.468866Z"
    },
    "slideshow": {
     "slide_type": "fragment"
    }
   },
   "outputs": [
    {
     "name": "stdout",
     "output_type": "stream",
     "text": [
      "[c = 1, a = 3, b = 1]\n"
     ]
    }
   ],
   "source": [
    "z3.solve(pre_condition, z3.Not(z3.Or(seen)), z3.Not(a == b), z3.Not(b != c))"
   ]
  },
  {
   "attachments": {},
   "cell_type": "markdown",
   "metadata": {
    "slideshow": {
     "slide_type": "fragment"
    }
   },
   "source": [
    "That is, using simple symbolic computation, we were able to easily see that (1) some paths are not reachable, and (2) some conditions were insufficient -- we needed preconditions. What about the total coverage obtained?"
   ]
  },
  {
   "cell_type": "markdown",
   "metadata": {
    "slideshow": {
     "slide_type": "subslide"
    }
   },
   "source": [
    "### Visualizing the Coverage"
   ]
  },
  {
   "cell_type": "markdown",
   "metadata": {
    "slideshow": {
     "slide_type": "fragment"
    }
   },
   "source": [
    "Visualizing the statement coverage can be accomplished as below."
   ]
  },
  {
   "cell_type": "code",
   "execution_count": 42,
   "metadata": {
    "execution": {
     "iopub.execute_input": "2023-11-12T12:47:33.470771Z",
     "iopub.status.busy": "2023-11-12T12:47:33.470633Z",
     "iopub.status.idle": "2023-11-12T12:47:33.472966Z",
     "shell.execute_reply": "2023-11-12T12:47:33.472684Z"
    },
    "slideshow": {
     "slide_type": "fragment"
    }
   },
   "outputs": [],
   "source": [
    "class VisualizedArcCoverage(ArcCoverage):\n",
    "    def show_coverage(self, fn):\n",
    "        src = fn if isinstance(fn, str) else inspect.getsource(fn)\n",
    "        covered = set([lineno for method, lineno in self._trace])\n",
    "        for i, s in enumerate(src.split('\\n')):\n",
    "            print('%s %2d: %s' % ('#' if i + 1 in covered else ' ', i + 1, s))"
   ]
  },
  {
   "cell_type": "markdown",
   "metadata": {
    "slideshow": {
     "slide_type": "fragment"
    }
   },
   "source": [
    "We run all the inputs obtained under the coverage tracer."
   ]
  },
  {
   "cell_type": "code",
   "execution_count": 43,
   "metadata": {
    "execution": {
     "iopub.execute_input": "2023-11-12T12:47:33.474697Z",
     "iopub.status.busy": "2023-11-12T12:47:33.474443Z",
     "iopub.status.idle": "2023-11-12T12:47:33.515260Z",
     "shell.execute_reply": "2023-11-12T12:47:33.514934Z"
    },
    "slideshow": {
     "slide_type": "fragment"
    }
   },
   "outputs": [],
   "source": [
    "with VisualizedArcCoverage() as cov:\n",
    "    assert check_triangle(0, 0, 0) == 'Equilateral'\n",
    "    assert check_triangle(1, 1, 0) == 'Isosceles'\n",
    "    assert check_triangle(1, 2, 1) == 'Isosceles'\n",
    "    assert check_triangle(3, 1, 2) == 'Scalene'\n",
    "    assert check_triangle(2, 1, 1) == 'Isosceles'"
   ]
  },
  {
   "cell_type": "code",
   "execution_count": 44,
   "metadata": {
    "execution": {
     "iopub.execute_input": "2023-11-12T12:47:33.516843Z",
     "iopub.status.busy": "2023-11-12T12:47:33.516740Z",
     "iopub.status.idle": "2023-11-12T12:47:33.518995Z",
     "shell.execute_reply": "2023-11-12T12:47:33.518728Z"
    },
    "slideshow": {
     "slide_type": "subslide"
    }
   },
   "outputs": [
    {
     "name": "stdout",
     "output_type": "stream",
     "text": [
      "#  1: def check_triangle(a: int, b: int, c: int) -> str:\n",
      "#  2:     if a == b:\n",
      "#  3:         if a == c:\n",
      "#  4:             if b == c:\n",
      "#  5:                 return \"Equilateral\"\n",
      "   6:             else:\n",
      "   7:                 return \"Isosceles\"\n",
      "   8:         else:\n",
      "#  9:             return \"Isosceles\"\n",
      "  10:     else:\n",
      "# 11:         if b != c:\n",
      "# 12:             if a == c:\n",
      "# 13:                 return \"Isosceles\"\n",
      "  14:             else:\n",
      "# 15:                 return \"Scalene\"\n",
      "  16:         else:\n",
      "# 17:             return \"Isosceles\"\n",
      "  18: \n"
     ]
    }
   ],
   "source": [
    "cov.show_coverage(check_triangle)"
   ]
  },
  {
   "attachments": {},
   "cell_type": "markdown",
   "metadata": {
    "slideshow": {
     "slide_type": "subslide"
    }
   },
   "source": [
    "The coverage is as expected. The generated values do seem to cover all code that can be covered.\n",
    "\n",
    "We have seen how to reason about each path through the program. Can we combine them together to produce a single expression that represents the program behavior? This is what we will discuss next."
   ]
  },
  {
   "cell_type": "markdown",
   "metadata": {
    "slideshow": {
     "slide_type": "subslide"
    }
   },
   "source": [
    "### Function Summaries"
   ]
  },
  {
   "cell_type": "markdown",
   "metadata": {
    "slideshow": {
     "slide_type": "fragment"
    }
   },
   "source": [
    "Consider this equation for determining absolute value."
   ]
  },
  {
   "cell_type": "code",
   "execution_count": 45,
   "metadata": {
    "execution": {
     "iopub.execute_input": "2023-11-12T12:47:33.520908Z",
     "iopub.status.busy": "2023-11-12T12:47:33.520632Z",
     "iopub.status.idle": "2023-11-12T12:47:33.522869Z",
     "shell.execute_reply": "2023-11-12T12:47:33.522565Z"
    },
    "slideshow": {
     "slide_type": "fragment"
    }
   },
   "outputs": [],
   "source": [
    "def abs_value(x: float) -> float:\n",
    "    if x < 0:\n",
    "        v: float = -x  # type: ignore\n",
    "    else:\n",
    "        v: float = x  # type: ignore\n",
    "    return v"
   ]
  },
  {
   "cell_type": "code",
   "execution_count": 46,
   "metadata": {
    "execution": {
     "iopub.execute_input": "2023-11-12T12:47:33.524239Z",
     "iopub.status.busy": "2023-11-12T12:47:33.524138Z",
     "iopub.status.idle": "2023-11-12T12:47:33.903293Z",
     "shell.execute_reply": "2023-11-12T12:47:33.902850Z"
    },
    "slideshow": {
     "slide_type": "fragment"
    }
   },
   "outputs": [
    {
     "data": {
      "image/svg+xml": [
       "<?xml version=\"1.0\" encoding=\"UTF-8\" standalone=\"no\"?>\n",
       "<!DOCTYPE svg PUBLIC \"-//W3C//DTD SVG 1.1//EN\"\n",
       " \"http://www.w3.org/Graphics/SVG/1.1/DTD/svg11.dtd\">\n",
       "<!-- Generated by graphviz version 9.0.0 (20230911.1827)\n",
       " -->\n",
       "<!-- Pages: 1 -->\n",
       "<svg width=\"264pt\" height=\"365pt\"\n",
       " viewBox=\"0.00 0.00 263.62 365.25\" xmlns=\"http://www.w3.org/2000/svg\" xmlns:xlink=\"http://www.w3.org/1999/xlink\">\n",
       "<g id=\"graph0\" class=\"graph\" transform=\"scale(1 1) rotate(0) translate(4 361.25)\">\n",
       "<polygon fill=\"white\" stroke=\"none\" points=\"-4,4 -4,-361.25 259.62,-361.25 259.62,4 -4,4\"/>\n",
       "<!-- 1 -->\n",
       "<g id=\"node1\" class=\"node\">\n",
       "<title>1</title>\n",
       "<ellipse fill=\"none\" stroke=\"black\" cx=\"128.74\" cy=\"-335.25\" rx=\"85.55\" ry=\"18\"/>\n",
       "<ellipse fill=\"none\" stroke=\"black\" cx=\"128.74\" cy=\"-335.25\" rx=\"89.55\" ry=\"22\"/>\n",
       "<text text-anchor=\"middle\" x=\"128.74\" y=\"-329.07\" font-family=\"Times,serif\" font-size=\"14.00\">1: enter: abs_value(x)</text>\n",
       "</g>\n",
       "<!-- 3 -->\n",
       "<g id=\"node4\" class=\"node\">\n",
       "<title>3</title>\n",
       "<polygon fill=\"none\" stroke=\"black\" points=\"128.74,-276.25 61.05,-258.25 128.74,-240.25 196.43,-258.25 128.74,-276.25\"/>\n",
       "<text text-anchor=\"middle\" x=\"128.74\" y=\"-252.07\" font-family=\"Times,serif\" font-size=\"14.00\">2: if: x &lt; 0</text>\n",
       "</g>\n",
       "<!-- 1&#45;&gt;3 -->\n",
       "<g id=\"edge2\" class=\"edge\">\n",
       "<title>1&#45;&gt;3</title>\n",
       "<path fill=\"none\" stroke=\"black\" d=\"M128.74,-312.96C128.74,-305.07 128.74,-296 128.74,-287.58\"/>\n",
       "<polygon fill=\"black\" stroke=\"black\" points=\"132.24,-287.82 128.74,-277.82 125.24,-287.82 132.24,-287.82\"/>\n",
       "</g>\n",
       "<!-- 2 -->\n",
       "<g id=\"node2\" class=\"node\">\n",
       "<title>2</title>\n",
       "<ellipse fill=\"none\" stroke=\"black\" cx=\"128.74\" cy=\"-22\" rx=\"81.25\" ry=\"18\"/>\n",
       "<ellipse fill=\"none\" stroke=\"black\" cx=\"128.74\" cy=\"-22\" rx=\"85.25\" ry=\"22\"/>\n",
       "<text text-anchor=\"middle\" x=\"128.74\" y=\"-15.82\" font-family=\"Times,serif\" font-size=\"14.00\">1: exit: abs_value(x)</text>\n",
       "</g>\n",
       "<!-- 6 -->\n",
       "<g id=\"node3\" class=\"node\">\n",
       "<title>6</title>\n",
       "<polygon fill=\"none\" stroke=\"black\" points=\"165.24,-117 92.24,-117 92.24,-81 165.24,-81 165.24,-117\"/>\n",
       "<text text-anchor=\"middle\" x=\"128.74\" y=\"-92.83\" font-family=\"Times,serif\" font-size=\"14.00\">6: return v</text>\n",
       "</g>\n",
       "<!-- 6&#45;&gt;2 -->\n",
       "<g id=\"edge1\" class=\"edge\">\n",
       "<title>6&#45;&gt;2</title>\n",
       "<path fill=\"none\" stroke=\"black\" d=\"M128.74,-80.6C128.74,-73.17 128.74,-64.23 128.74,-55.64\"/>\n",
       "<polygon fill=\"black\" stroke=\"black\" points=\"132.24,-55.83 128.74,-45.83 125.24,-55.83 132.24,-55.83\"/>\n",
       "</g>\n",
       "<!-- 4 -->\n",
       "<g id=\"node5\" class=\"node\">\n",
       "<title>4</title>\n",
       "<ellipse fill=\"none\" stroke=\"black\" cx=\"60.74\" cy=\"-172\" rx=\"60.74\" ry=\"18\"/>\n",
       "<text text-anchor=\"middle\" x=\"60.74\" y=\"-165.82\" font-family=\"Times,serif\" font-size=\"14.00\">3: v: float = &#45;x</text>\n",
       "</g>\n",
       "<!-- 3&#45;&gt;4 -->\n",
       "<g id=\"edge3\" class=\"edge\">\n",
       "<title>3&#45;&gt;4</title>\n",
       "<path fill=\"none\" stroke=\"blue\" d=\"M117.2,-242.96C107.41,-230.83 93.13,-213.13 81.37,-198.56\"/>\n",
       "<polygon fill=\"blue\" stroke=\"blue\" points=\"84.4,-196.74 75.4,-191.16 78.95,-201.14 84.4,-196.74\"/>\n",
       "<text text-anchor=\"middle\" x=\"103.87\" y=\"-208.95\" font-family=\"Times,serif\" font-size=\"14.00\">T</text>\n",
       "</g>\n",
       "<!-- 5 -->\n",
       "<g id=\"node6\" class=\"node\">\n",
       "<title>5</title>\n",
       "<ellipse fill=\"none\" stroke=\"black\" cx=\"197.74\" cy=\"-172\" rx=\"57.88\" ry=\"18\"/>\n",
       "<text text-anchor=\"middle\" x=\"197.74\" y=\"-165.82\" font-family=\"Times,serif\" font-size=\"14.00\">5: v: float = x</text>\n",
       "</g>\n",
       "<!-- 3&#45;&gt;5 -->\n",
       "<g id=\"edge4\" class=\"edge\">\n",
       "<title>3&#45;&gt;5</title>\n",
       "<path fill=\"none\" stroke=\"red\" d=\"M140.45,-242.96C150.44,-230.75 165.06,-212.9 177.03,-198.28\"/>\n",
       "<polygon fill=\"red\" stroke=\"red\" points=\"179.49,-200.81 183.12,-190.85 174.08,-196.37 179.49,-200.81\"/>\n",
       "<text text-anchor=\"middle\" x=\"170.49\" y=\"-208.95\" font-family=\"Times,serif\" font-size=\"14.00\">F</text>\n",
       "</g>\n",
       "<!-- 4&#45;&gt;6 -->\n",
       "<g id=\"edge5\" class=\"edge\">\n",
       "<title>4&#45;&gt;6</title>\n",
       "<path fill=\"none\" stroke=\"black\" d=\"M76.86,-154.17C85.06,-145.61 95.2,-135.02 104.34,-125.48\"/>\n",
       "<polygon fill=\"black\" stroke=\"black\" points=\"106.59,-128.18 110.98,-118.54 101.54,-123.34 106.59,-128.18\"/>\n",
       "</g>\n",
       "<!-- 5&#45;&gt;6 -->\n",
       "<g id=\"edge6\" class=\"edge\">\n",
       "<title>5&#45;&gt;6</title>\n",
       "<path fill=\"none\" stroke=\"black\" d=\"M181.74,-154.53C173.36,-145.91 162.92,-135.17 153.53,-125.51\"/>\n",
       "<polygon fill=\"black\" stroke=\"black\" points=\"156.15,-123.19 146.67,-118.45 151.13,-128.06 156.15,-123.19\"/>\n",
       "</g>\n",
       "</g>\n",
       "</svg>\n"
      ],
      "text/plain": [
       "<graphviz.graphs.Digraph at 0x1045dd150>"
      ]
     },
     "execution_count": 46,
     "metadata": {},
     "output_type": "execute_result"
    }
   ],
   "source": [
    "show_cfg(abs_value)"
   ]
  },
  {
   "cell_type": "markdown",
   "metadata": {
    "slideshow": {
     "slide_type": "fragment"
    }
   },
   "source": [
    "What can we say about the value of `v` at `line: 5`? Let us trace and see. First, we have variable `x` at `line: 1`."
   ]
  },
  {
   "cell_type": "code",
   "execution_count": 47,
   "metadata": {
    "execution": {
     "iopub.execute_input": "2023-11-12T12:47:33.905162Z",
     "iopub.status.busy": "2023-11-12T12:47:33.905033Z",
     "iopub.status.idle": "2023-11-12T12:47:33.907300Z",
     "shell.execute_reply": "2023-11-12T12:47:33.907041Z"
    },
    "slideshow": {
     "slide_type": "fragment"
    }
   },
   "outputs": [],
   "source": [
    "(x,), r = get_symbolicparams(abs_value)"
   ]
  },
  {
   "cell_type": "markdown",
   "metadata": {
    "slideshow": {
     "slide_type": "fragment"
    }
   },
   "source": [
    "At `line: 2`, we face a bifurcation in the possible paths. Hence, we produce two paths with corresponding constraints."
   ]
  },
  {
   "cell_type": "code",
   "execution_count": 48,
   "metadata": {
    "execution": {
     "iopub.execute_input": "2023-11-12T12:47:33.908811Z",
     "iopub.status.busy": "2023-11-12T12:47:33.908703Z",
     "iopub.status.idle": "2023-11-12T12:47:33.910563Z",
     "shell.execute_reply": "2023-11-12T12:47:33.910312Z"
    },
    "slideshow": {
     "slide_type": "subslide"
    }
   },
   "outputs": [],
   "source": [
    "l2_T = x < 0\n",
    "l2_F = z3.Not(x < 0)"
   ]
  },
  {
   "cell_type": "markdown",
   "metadata": {
    "slideshow": {
     "slide_type": "fragment"
    }
   },
   "source": [
    "For `line: 3`, we only need to consider the `If` path. However, we have an assignment. So we use a new variable here. The type _float_ is indicated in the source, and its equivalent *z3* type is _Real_."
   ]
  },
  {
   "cell_type": "code",
   "execution_count": 49,
   "metadata": {
    "execution": {
     "iopub.execute_input": "2023-11-12T12:47:33.912364Z",
     "iopub.status.busy": "2023-11-12T12:47:33.912251Z",
     "iopub.status.idle": "2023-11-12T12:47:33.914250Z",
     "shell.execute_reply": "2023-11-12T12:47:33.913964Z"
    },
    "slideshow": {
     "slide_type": "fragment"
    }
   },
   "outputs": [],
   "source": [
    "v_0 = z3.Real('v_0')\n",
    "l3 = z3.And(l2_T, v_0 == -x)"
   ]
  },
  {
   "cell_type": "markdown",
   "metadata": {
    "slideshow": {
     "slide_type": "fragment"
    }
   },
   "source": [
    "Similarly, for `line: 5`, we have an assignment. (Can we reuse the variable `v_0` from before?)"
   ]
  },
  {
   "cell_type": "code",
   "execution_count": 50,
   "metadata": {
    "execution": {
     "iopub.execute_input": "2023-11-12T12:47:33.915864Z",
     "iopub.status.busy": "2023-11-12T12:47:33.915745Z",
     "iopub.status.idle": "2023-11-12T12:47:33.917787Z",
     "shell.execute_reply": "2023-11-12T12:47:33.917486Z"
    },
    "slideshow": {
     "slide_type": "fragment"
    }
   },
   "outputs": [],
   "source": [
    "v_1 = z3.Real('v_1')\n",
    "l5 = z3.And(l2_F, v_1 == x)"
   ]
  },
  {
   "cell_type": "markdown",
   "metadata": {
    "slideshow": {
     "slide_type": "fragment"
    }
   },
   "source": [
    "When we come to `line: 6`, we see that we have *two* input streams. We have a choice. We can either keep each path separate as we did previously."
   ]
  },
  {
   "cell_type": "code",
   "execution_count": 51,
   "metadata": {
    "execution": {
     "iopub.execute_input": "2023-11-12T12:47:33.919414Z",
     "iopub.status.busy": "2023-11-12T12:47:33.919287Z",
     "iopub.status.idle": "2023-11-12T12:47:33.936636Z",
     "shell.execute_reply": "2023-11-12T12:47:33.936350Z"
    },
    "slideshow": {
     "slide_type": "subslide"
    }
   },
   "outputs": [
    {
     "name": "stdout",
     "output_type": "stream",
     "text": [
      "[x = -1/2, v_0 = 1/2, v = 1/2]\n",
      "[v_1 = 1, x = 1, v = 1]\n"
     ]
    }
   ],
   "source": [
    "v = z3.Real('v')\n",
    "for s in [z3.And(l3, v == v_0), z3.And(l5, v == v_1)]:\n",
    "    z3.solve(x != 0, s)"
   ]
  },
  {
   "cell_type": "markdown",
   "metadata": {
    "slideshow": {
     "slide_type": "fragment"
    }
   },
   "source": [
    "Or, we can combine them together and produce a single predicate at `line: 6`."
   ]
  },
  {
   "cell_type": "code",
   "execution_count": 52,
   "metadata": {
    "execution": {
     "iopub.execute_input": "2023-11-12T12:47:33.938238Z",
     "iopub.status.busy": "2023-11-12T12:47:33.938126Z",
     "iopub.status.idle": "2023-11-12T12:47:33.946657Z",
     "shell.execute_reply": "2023-11-12T12:47:33.946402Z"
    },
    "slideshow": {
     "slide_type": "fragment"
    }
   },
   "outputs": [
    {
     "name": "stdout",
     "output_type": "stream",
     "text": [
      "[v_1 = 0, x = 0, v_0 = 1/2, v = 0]\n"
     ]
    }
   ],
   "source": [
    "v = z3.Real('v')\n",
    "l6 = z3.Or(z3.And(l3, v == v_0), z3.And(l5, v == v_1))\n",
    "z3.solve(l6)"
   ]
  },
  {
   "cell_type": "markdown",
   "metadata": {
    "slideshow": {
     "slide_type": "subslide"
    }
   },
   "source": [
    "**Note.** Merging two incoming streams of execution can be non-trivial, especially when the execution paths are traversed multiple times (E.g. loops and recursion). For those interested, lookup [inferring loop invariants](https://www.st.cs.uni-saarland.de/publications/details/galeotti-hvc-2014/)."
   ]
  },
  {
   "cell_type": "markdown",
   "metadata": {
    "slideshow": {
     "slide_type": "fragment"
    }
   },
   "source": [
    "We can get this to produce any number of solutions for `abs()` as below."
   ]
  },
  {
   "cell_type": "code",
   "execution_count": 53,
   "metadata": {
    "execution": {
     "iopub.execute_input": "2023-11-12T12:47:33.948278Z",
     "iopub.status.busy": "2023-11-12T12:47:33.948170Z",
     "iopub.status.idle": "2023-11-12T12:47:33.966410Z",
     "shell.execute_reply": "2023-11-12T12:47:33.966099Z"
    },
    "slideshow": {
     "slide_type": "subslide"
    }
   },
   "outputs": [
    {
     "name": "stdout",
     "output_type": "stream",
     "text": [
      "[v_1 = 1/2, x = 1/2, v_0 = 0, v = 1/2]\n",
      "[v_1 = 0, x = 0, v = 0]\n",
      "[v_1 = 1/4, x = 1/4, v = 1/4]\n",
      "[v_1 = 1/8, x = 1/8, v = 1/8]\n",
      "[v_1 = 1/16, x = 1/16, v = 1/16]\n"
     ]
    },
    {
     "data": {
      "text/html": [
       "[x &lt; 0 &and; v_0 = -x &and; v = v_0 &or; &not;(x &lt; 0) &and; v_1 = x &and; v = v_1,\n",
       " &not;(1/2 = x),\n",
       " &not;(0 = x),\n",
       " &not;(1/4 = x),\n",
       " &not;(1/8 = x),\n",
       " &not;(1/16 = x)]"
      ],
      "text/plain": [
       "[Or(And(And(x < 0, v_0 == -x), v == v_0),\n",
       "    And(And(Not(x < 0), v_1 == x), v == v_1)),\n",
       " Not(1/2 == x),\n",
       " Not(0 == x),\n",
       " Not(1/4 == x),\n",
       " Not(1/8 == x),\n",
       " Not(1/16 == x)]"
      ]
     },
     "execution_count": 53,
     "metadata": {},
     "output_type": "execute_result"
    }
   ],
   "source": [
    "s = z3.Solver()\n",
    "s.add(l6)\n",
    "for i in range(5):\n",
    "    if s.check() == z3.sat:\n",
    "        m = s.model()\n",
    "        x_val = m[x]\n",
    "        print(m)\n",
    "    else:\n",
    "        print('no solution')\n",
    "        break\n",
    "    s.add(z3.Not(x == x_val))\n",
    "s"
   ]
  },
  {
   "cell_type": "markdown",
   "metadata": {
    "slideshow": {
     "slide_type": "subslide"
    }
   },
   "source": [
    "The solver is not particularly random. So we need to help it a bit to produce values on the negative range."
   ]
  },
  {
   "cell_type": "code",
   "execution_count": 54,
   "metadata": {
    "execution": {
     "iopub.execute_input": "2023-11-12T12:47:33.967885Z",
     "iopub.status.busy": "2023-11-12T12:47:33.967777Z",
     "iopub.status.idle": "2023-11-12T12:47:33.972550Z",
     "shell.execute_reply": "2023-11-12T12:47:33.972322Z"
    },
    "slideshow": {
     "slide_type": "subslide"
    }
   },
   "outputs": [
    {
     "name": "stdout",
     "output_type": "stream",
     "text": [
      "[x = -1/32, v_0 = 1/32, v = 1/32]\n",
      "[x = -33/32, v_0 = 33/32, v = 33/32]\n",
      "[x = -65/32, v_0 = 65/32, v = 65/32]\n",
      "[x = -97/32, v_0 = 97/32, v = 97/32]\n",
      "[x = -129/32, v_0 = 129/32, v = 129/32]\n"
     ]
    }
   ],
   "source": [
    "s.add(x < 0)\n",
    "for i in range(5):\n",
    "    if s.check() == z3.sat:\n",
    "        m = s.model()\n",
    "        x_val = m[x]\n",
    "        print(m)\n",
    "    else:\n",
    "        print('no solution')\n",
    "        break\n",
    "    s.add(z3.Not(x == x_val))"
   ]
  },
  {
   "cell_type": "code",
   "execution_count": 55,
   "metadata": {
    "execution": {
     "iopub.execute_input": "2023-11-12T12:47:33.973910Z",
     "iopub.status.busy": "2023-11-12T12:47:33.973812Z",
     "iopub.status.idle": "2023-11-12T12:47:33.984057Z",
     "shell.execute_reply": "2023-11-12T12:47:33.983794Z"
    },
    "slideshow": {
     "slide_type": "subslide"
    }
   },
   "outputs": [
    {
     "data": {
      "text/html": [
       "[x &lt; 0 &and; v_0 = -x &and; v = v_0 &or; &not;(x &lt; 0) &and; v_1 = x &and; v = v_1,\n",
       " &not;(1/2 = x),\n",
       " &not;(0 = x),\n",
       " &not;(1/4 = x),\n",
       " &not;(1/8 = x),\n",
       " &not;(1/16 = x),\n",
       " x &lt; 0,\n",
       " &not;(-1/32 = x),\n",
       " &not;(-33/32 = x),\n",
       " &not;(-65/32 = x),\n",
       " &not;(-97/32 = x),\n",
       " &not;(-129/32 = x)]"
      ],
      "text/plain": [
       "[Or(And(And(x < 0, v_0 == -x), v == v_0),\n",
       "    And(And(Not(x < 0), v_1 == x), v == v_1)),\n",
       " Not(1/2 == x),\n",
       " Not(0 == x),\n",
       " Not(1/4 == x),\n",
       " Not(1/8 == x),\n",
       " Not(1/16 == x),\n",
       " x < 0,\n",
       " Not(-1/32 == x),\n",
       " Not(-33/32 == x),\n",
       " Not(-65/32 == x),\n",
       " Not(-97/32 == x),\n",
       " Not(-129/32 == x)]"
      ]
     },
     "execution_count": 55,
     "metadata": {},
     "output_type": "execute_result"
    }
   ],
   "source": [
    "s"
   ]
  },
  {
   "cell_type": "markdown",
   "metadata": {
    "slideshow": {
     "slide_type": "subslide"
    }
   },
   "source": [
    "Note that the single expression produced at `line: 6` is essentially a summary for `abs_value()`. "
   ]
  },
  {
   "cell_type": "code",
   "execution_count": 56,
   "metadata": {
    "execution": {
     "iopub.execute_input": "2023-11-12T12:47:33.985581Z",
     "iopub.status.busy": "2023-11-12T12:47:33.985489Z",
     "iopub.status.idle": "2023-11-12T12:47:33.992139Z",
     "shell.execute_reply": "2023-11-12T12:47:33.991868Z"
    },
    "slideshow": {
     "slide_type": "fragment"
    }
   },
   "outputs": [
    {
     "data": {
      "text/html": [
       "x &lt; 0 &and; v_0 = -x &and; v = v_0 &or; &not;(x &lt; 0) &and; v_1 = x &and; v = v_1"
      ],
      "text/plain": [
       "Or(And(And(x < 0, v_0 == -x), v == v_0),\n",
       "   And(And(Not(x < 0), v_1 == x), v == v_1))"
      ]
     },
     "execution_count": 56,
     "metadata": {},
     "output_type": "execute_result"
    }
   ],
   "source": [
    "abs_value_summary = l6\n",
    "abs_value_summary"
   ]
  },
  {
   "cell_type": "markdown",
   "metadata": {
    "slideshow": {
     "slide_type": "fragment"
    }
   },
   "source": [
    "The *z3* solver can be used to simplify the predicates where possible."
   ]
  },
  {
   "cell_type": "code",
   "execution_count": 57,
   "metadata": {
    "execution": {
     "iopub.execute_input": "2023-11-12T12:47:33.993613Z",
     "iopub.status.busy": "2023-11-12T12:47:33.993518Z",
     "iopub.status.idle": "2023-11-12T12:47:33.998853Z",
     "shell.execute_reply": "2023-11-12T12:47:33.998567Z"
    },
    "slideshow": {
     "slide_type": "fragment"
    }
   },
   "outputs": [
    {
     "data": {
      "text/html": [
       "&not;(0 &le; x) &and; v_0 = -1&middot;x &and; v = v_0 &or; 0 &le; x &and; v_1 = x &and; v = v_1"
      ],
      "text/plain": [
       "Or(And(Not(0 <= x), v_0 == -1*x, v == v_0),\n",
       "   And(0 <= x, v_1 == x, v == v_1))"
      ]
     },
     "execution_count": 57,
     "metadata": {},
     "output_type": "execute_result"
    }
   ],
   "source": [
    "z3.simplify(l6)"
   ]
  },
  {
   "attachments": {},
   "cell_type": "markdown",
   "metadata": {
    "slideshow": {
     "slide_type": "subslide"
    }
   },
   "source": [
    "One can use this summary rather than trace into `abs_value()` when `abs_value()` is used elsewhere. However, that presents us with a problem. It is possible that the same function may be called multiple times. In this case, using the same variables will lead to collision. One way to avoid that is to *prefix* some call specific value to the variables.\n",
    "\n",
    "**Note:** The SMT 2.0 standard allows one to define functions (*macros* in SMT parlance) directly. For example, the `abs-value` will be defined as follows:\n",
    "\n",
    "```lisp\n",
    "(define-fun abs-value ((x Int)) Int\n",
    "       (if (> x 0)\n",
    "           x\n",
    "           (* -1 x)))\n",
    "```\n",
    "\n",
    "Or equivalently, (especially if `abs-value` is recursively defined)\n",
    "\n",
    "```lisp\n",
    "(declare-fun abs-value (Int) Int)\n",
    "(assert (forall ((x Int))\n",
    "                (= (abs-value x)\n",
    "                   (if (> x 0)\n",
    "                       x\n",
    "                       (* -1 x)))))\n",
    "```\n",
    "One can then say\n",
    "```\n",
    "(> (abs-value x) (abs-value y))\n",
    "```\n",
    "\n",
    "Unfortunately, the z3py project does not expose this facility in Python. Hence, we have to use the `prefix_vars()` hack."
   ]
  },
  {
   "cell_type": "code",
   "execution_count": 58,
   "metadata": {
    "execution": {
     "iopub.execute_input": "2023-11-12T12:47:34.000310Z",
     "iopub.status.busy": "2023-11-12T12:47:34.000224Z",
     "iopub.status.idle": "2023-11-12T12:47:34.001935Z",
     "shell.execute_reply": "2023-11-12T12:47:34.001688Z"
    },
    "slideshow": {
     "slide_type": "skip"
    }
   },
   "outputs": [],
   "source": [
    "import ast"
   ]
  },
  {
   "cell_type": "markdown",
   "metadata": {
    "slideshow": {
     "slide_type": "subslide"
    }
   },
   "source": [
    "The method `prefix_vars()` modifies the variables in an expression such that the variables are prefixed with a given value."
   ]
  },
  {
   "cell_type": "code",
   "execution_count": 59,
   "metadata": {
    "execution": {
     "iopub.execute_input": "2023-11-12T12:47:34.003255Z",
     "iopub.status.busy": "2023-11-12T12:47:34.003176Z",
     "iopub.status.idle": "2023-11-12T12:47:34.006942Z",
     "shell.execute_reply": "2023-11-12T12:47:34.006667Z"
    },
    "slideshow": {
     "slide_type": "subslide"
    }
   },
   "outputs": [],
   "source": [
    "def prefix_vars(astnode, prefix):\n",
    "    if isinstance(astnode, ast.BoolOp):\n",
    "        return ast.BoolOp(astnode.op,\n",
    "                          [prefix_vars(i, prefix) for i in astnode.values], [])\n",
    "    elif isinstance(astnode, ast.BinOp):\n",
    "        return ast.BinOp(\n",
    "            prefix_vars(astnode.left, prefix), astnode.op,\n",
    "            prefix_vars(astnode.right, prefix))\n",
    "    elif isinstance(astnode, ast.UnaryOp):\n",
    "        return ast.UnaryOp(astnode.op, prefix_vars(astnode.operand, prefix))\n",
    "    elif isinstance(astnode, ast.Call):\n",
    "        return ast.Call(prefix_vars(astnode.func, prefix),\n",
    "                        [prefix_vars(i, prefix) for i in astnode.args],\n",
    "                        astnode.keywords)\n",
    "    elif isinstance(astnode, ast.Compare):\n",
    "        return ast.Compare(\n",
    "            prefix_vars(astnode.left, prefix), astnode.ops,\n",
    "            [prefix_vars(i, prefix) for i in astnode.comparators])\n",
    "    elif isinstance(astnode, ast.Name):\n",
    "        if astnode.id in {'And', 'Or', 'Not'}:\n",
    "            return ast.Name('z3.%s' % (astnode.id), astnode.ctx)\n",
    "        else:\n",
    "            return ast.Name('%s%s' % (prefix, astnode.id), astnode.ctx)\n",
    "    elif isinstance(astnode, ast.Return):\n",
    "        return ast.Return(prefix_vars(astnode.value, env))\n",
    "    else:\n",
    "        return astnode"
   ]
  },
  {
   "cell_type": "markdown",
   "metadata": {
    "slideshow": {
     "slide_type": "subslide"
    }
   },
   "source": [
    "For applying `prefix_vars()` one needs the _abstract syntax tree_ (AST) of the Python expression involved. We obtain this by invoking `ast.parse()`:"
   ]
  },
  {
   "cell_type": "code",
   "execution_count": 60,
   "metadata": {
    "execution": {
     "iopub.execute_input": "2023-11-12T12:47:34.008380Z",
     "iopub.status.busy": "2023-11-12T12:47:34.008283Z",
     "iopub.status.idle": "2023-11-12T12:47:34.010062Z",
     "shell.execute_reply": "2023-11-12T12:47:34.009816Z"
    },
    "slideshow": {
     "slide_type": "fragment"
    }
   },
   "outputs": [],
   "source": [
    "xy_ast = ast.parse('x+y')"
   ]
  },
  {
   "cell_type": "markdown",
   "metadata": {
    "slideshow": {
     "slide_type": "fragment"
    }
   },
   "source": [
    "We can visualize the resulting tree as follows:"
   ]
  },
  {
   "cell_type": "code",
   "execution_count": 61,
   "metadata": {
    "execution": {
     "iopub.execute_input": "2023-11-12T12:47:34.011525Z",
     "iopub.status.busy": "2023-11-12T12:47:34.011439Z",
     "iopub.status.idle": "2023-11-12T12:47:34.013230Z",
     "shell.execute_reply": "2023-11-12T12:47:34.012965Z"
    },
    "slideshow": {
     "slide_type": "skip"
    }
   },
   "outputs": [],
   "source": [
    "from bookutils import rich_output"
   ]
  },
  {
   "cell_type": "code",
   "execution_count": 62,
   "metadata": {
    "execution": {
     "iopub.execute_input": "2023-11-12T12:47:34.014693Z",
     "iopub.status.busy": "2023-11-12T12:47:34.014603Z",
     "iopub.status.idle": "2023-11-12T12:47:34.017159Z",
     "shell.execute_reply": "2023-11-12T12:47:34.016922Z"
    },
    "slideshow": {
     "slide_type": "fragment"
    }
   },
   "outputs": [],
   "source": [
    "if rich_output():\n",
    "    # Normally, this will do\n",
    "    from showast import show_ast\n",
    "else:\n",
    "    def show_ast(tree):\n",
    "        ast.dump(tree, indent=4)"
   ]
  },
  {
   "cell_type": "code",
   "execution_count": 63,
   "metadata": {
    "execution": {
     "iopub.execute_input": "2023-11-12T12:47:34.018492Z",
     "iopub.status.busy": "2023-11-12T12:47:34.018411Z",
     "iopub.status.idle": "2023-11-12T12:47:34.412184Z",
     "shell.execute_reply": "2023-11-12T12:47:34.411827Z"
    },
    "slideshow": {
     "slide_type": "fragment"
    }
   },
   "outputs": [
    {
     "data": {
      "image/svg+xml": [
       "<svg xmlns=\"http://www.w3.org/2000/svg\" xmlns:xlink=\"http://www.w3.org/1999/xlink\" width=\"296pt\" height=\"260pt\" viewBox=\"0.00 0.00 296.00 260.00\">\n",
       "<g id=\"graph0\" class=\"graph\" transform=\"scale(1 1) rotate(0) translate(4 256)\">\n",
       "<polygon fill=\"white\" stroke=\"none\" points=\"-4,4 -4,-256 292,-256 292,4 -4,4\"/>\n",
       "<!-- 0 -->\n",
       "<g id=\"node1\" class=\"node\">\n",
       "<title>0</title>\n",
       "<text text-anchor=\"start\" x=\"118.5\" y=\"-229.95\" font-family=\"Courier,monospace\" font-weight=\"bold\" font-size=\"14.00\" fill=\"#004080\">Expr</text>\n",
       "</g>\n",
       "<!-- 1 -->\n",
       "<g id=\"node2\" class=\"node\">\n",
       "<title>1</title>\n",
       "<text text-anchor=\"start\" x=\"114.38\" y=\"-157.95\" font-family=\"Courier,monospace\" font-weight=\"bold\" font-size=\"14.00\" fill=\"#004080\">BinOp</text>\n",
       "</g>\n",
       "<!-- 0&#45;&#45;1 -->\n",
       "<g id=\"edge1\" class=\"edge\">\n",
       "<title>0--1</title>\n",
       "<path fill=\"none\" stroke=\"black\" d=\"M135,-216.05C135,-205.05 135,-190.76 135,-179.79\"/>\n",
       "</g>\n",
       "<!-- 2 -->\n",
       "<g id=\"node3\" class=\"node\">\n",
       "<title>2</title>\n",
       "<text text-anchor=\"start\" x=\"46.5\" y=\"-85.95\" font-family=\"Courier,monospace\" font-weight=\"bold\" font-size=\"14.00\" fill=\"#004080\">Name</text>\n",
       "</g>\n",
       "<!-- 1&#45;&#45;2 -->\n",
       "<g id=\"edge2\" class=\"edge\">\n",
       "<title>1--2</title>\n",
       "<path fill=\"none\" stroke=\"black\" d=\"M135,-143C135,-143 107.23,-122.94 86.18,-107.74\"/>\n",
       "</g>\n",
       "<!-- 5 -->\n",
       "<g id=\"node6\" class=\"node\">\n",
       "<title>5</title>\n",
       "<text text-anchor=\"middle\" x=\"135\" y=\"-84.95\" font-family=\"Courier,monospace\" font-size=\"14.00\" fill=\"#008040\">Add</text>\n",
       "</g>\n",
       "<!-- 1&#45;&#45;5 -->\n",
       "<g id=\"edge5\" class=\"edge\">\n",
       "<title>1--5</title>\n",
       "<path fill=\"none\" stroke=\"black\" d=\"M135,-143C135,-143 135,-122.94 135,-107.74\"/>\n",
       "</g>\n",
       "<!-- 6 -->\n",
       "<g id=\"node7\" class=\"node\">\n",
       "<title>6</title>\n",
       "<text text-anchor=\"start\" x=\"190.5\" y=\"-85.95\" font-family=\"Courier,monospace\" font-weight=\"bold\" font-size=\"14.00\" fill=\"#004080\">Name</text>\n",
       "</g>\n",
       "<!-- 1&#45;&#45;6 -->\n",
       "<g id=\"edge6\" class=\"edge\">\n",
       "<title>1--6</title>\n",
       "<path fill=\"none\" stroke=\"black\" d=\"M135,-143C135,-143 162.77,-122.94 183.82,-107.74\"/>\n",
       "</g>\n",
       "<!-- 3 -->\n",
       "<g id=\"node4\" class=\"node\">\n",
       "<title>3</title>\n",
       "<text text-anchor=\"middle\" x=\"27\" y=\"-12.95\" font-family=\"Courier,monospace\" font-size=\"14.00\" fill=\"#008040\">&quot;x&quot;</text>\n",
       "</g>\n",
       "<!-- 2&#45;&#45;3 -->\n",
       "<g id=\"edge3\" class=\"edge\">\n",
       "<title>2--3</title>\n",
       "<path fill=\"none\" stroke=\"black\" d=\"M63,-71C63,-71 49.11,-50.94 38.59,-35.74\"/>\n",
       "</g>\n",
       "<!-- 4 -->\n",
       "<g id=\"node5\" class=\"node\">\n",
       "<title>4</title>\n",
       "<text text-anchor=\"middle\" x=\"99\" y=\"-12.95\" font-family=\"Courier,monospace\" font-size=\"14.00\" fill=\"#008040\">Load</text>\n",
       "</g>\n",
       "<!-- 2&#45;&#45;4 -->\n",
       "<g id=\"edge4\" class=\"edge\">\n",
       "<title>2--4</title>\n",
       "<path fill=\"none\" stroke=\"black\" d=\"M63,-71C63,-71 76.89,-50.94 87.41,-35.74\"/>\n",
       "</g>\n",
       "<!-- 7 -->\n",
       "<g id=\"node8\" class=\"node\">\n",
       "<title>7</title>\n",
       "<text text-anchor=\"middle\" x=\"189\" y=\"-12.95\" font-family=\"Courier,monospace\" font-size=\"14.00\" fill=\"#008040\">&quot;y&quot;</text>\n",
       "</g>\n",
       "<!-- 6&#45;&#45;7 -->\n",
       "<g id=\"edge7\" class=\"edge\">\n",
       "<title>6--7</title>\n",
       "<path fill=\"none\" stroke=\"black\" d=\"M211,-71C211,-71 202.51,-50.94 196.08,-35.74\"/>\n",
       "</g>\n",
       "<!-- 8 -->\n",
       "<g id=\"node9\" class=\"node\">\n",
       "<title>8</title>\n",
       "<text text-anchor=\"middle\" x=\"261\" y=\"-12.95\" font-family=\"Courier,monospace\" font-size=\"14.00\" fill=\"#008040\">Load</text>\n",
       "</g>\n",
       "<!-- 6&#45;&#45;8 -->\n",
       "<g id=\"edge8\" class=\"edge\">\n",
       "<title>6--8</title>\n",
       "<path fill=\"none\" stroke=\"black\" d=\"M211,-71C211,-71 230.29,-50.94 244.9,-35.74\"/>\n",
       "</g>\n",
       "</g>\n",
       "</svg>"
      ],
      "text/plain": [
       "<IPython.core.display.SVG object>"
      ]
     },
     "metadata": {},
     "output_type": "display_data"
    }
   ],
   "source": [
    "show_ast(xy_ast)"
   ]
  },
  {
   "cell_type": "markdown",
   "metadata": {
    "slideshow": {
     "slide_type": "subslide"
    }
   },
   "source": [
    "What the visualization does _not_ show, though, is that when parsing Python source code, the resulting AST comes wrapped in a `Module` by default:"
   ]
  },
  {
   "cell_type": "code",
   "execution_count": 64,
   "metadata": {
    "execution": {
     "iopub.execute_input": "2023-11-12T12:47:34.414180Z",
     "iopub.status.busy": "2023-11-12T12:47:34.414027Z",
     "iopub.status.idle": "2023-11-12T12:47:34.416491Z",
     "shell.execute_reply": "2023-11-12T12:47:34.416198Z"
    },
    "slideshow": {
     "slide_type": "fragment"
    }
   },
   "outputs": [
    {
     "data": {
      "text/plain": [
       "<ast.Module at 0x1045df610>"
      ]
     },
     "execution_count": 64,
     "metadata": {},
     "output_type": "execute_result"
    }
   ],
   "source": [
    "xy_ast"
   ]
  },
  {
   "cell_type": "markdown",
   "metadata": {
    "slideshow": {
     "slide_type": "fragment"
    }
   },
   "source": [
    "And to access the expression (`Expr`), we need to access the first child of that \"module\":"
   ]
  },
  {
   "cell_type": "code",
   "execution_count": 65,
   "metadata": {
    "execution": {
     "iopub.execute_input": "2023-11-12T12:47:34.418147Z",
     "iopub.status.busy": "2023-11-12T12:47:34.418012Z",
     "iopub.status.idle": "2023-11-12T12:47:34.420126Z",
     "shell.execute_reply": "2023-11-12T12:47:34.419872Z"
    },
    "slideshow": {
     "slide_type": "fragment"
    }
   },
   "outputs": [
    {
     "data": {
      "text/plain": [
       "<ast.Expr at 0x1045dd630>"
      ]
     },
     "execution_count": 65,
     "metadata": {},
     "output_type": "execute_result"
    }
   ],
   "source": [
    "xy_ast.body[0]"
   ]
  },
  {
   "cell_type": "markdown",
   "metadata": {
    "slideshow": {
     "slide_type": "fragment"
    }
   },
   "source": [
    "The actual expression is within that `Expr` object:"
   ]
  },
  {
   "cell_type": "code",
   "execution_count": 66,
   "metadata": {
    "execution": {
     "iopub.execute_input": "2023-11-12T12:47:34.421756Z",
     "iopub.status.busy": "2023-11-12T12:47:34.421649Z",
     "iopub.status.idle": "2023-11-12T12:47:34.423917Z",
     "shell.execute_reply": "2023-11-12T12:47:34.423613Z"
    },
    "slideshow": {
     "slide_type": "fragment"
    }
   },
   "outputs": [
    {
     "data": {
      "text/plain": [
       "<ast.BinOp at 0x1045df190>"
      ]
     },
     "execution_count": 66,
     "metadata": {},
     "output_type": "execute_result"
    }
   ],
   "source": [
    "xy_ast.body[0].value  # type: ignore"
   ]
  },
  {
   "cell_type": "markdown",
   "metadata": {
    "slideshow": {
     "slide_type": "fragment"
    }
   },
   "source": [
    "Hence, for easier manipulation of an expression AST, we define a function `get_expression()` which unwraps it and returns the AST representation of the expression inside."
   ]
  },
  {
   "cell_type": "code",
   "execution_count": 67,
   "metadata": {
    "execution": {
     "iopub.execute_input": "2023-11-12T12:47:34.425471Z",
     "iopub.status.busy": "2023-11-12T12:47:34.425362Z",
     "iopub.status.idle": "2023-11-12T12:47:34.427114Z",
     "shell.execute_reply": "2023-11-12T12:47:34.426844Z"
    },
    "slideshow": {
     "slide_type": "subslide"
    }
   },
   "outputs": [],
   "source": [
    "def get_expression(src):\n",
    "    return ast.parse(src).body[0].value"
   ]
  },
  {
   "cell_type": "markdown",
   "metadata": {
    "slideshow": {
     "slide_type": "fragment"
    }
   },
   "source": [
    "It is used as follows:"
   ]
  },
  {
   "cell_type": "code",
   "execution_count": 68,
   "metadata": {
    "execution": {
     "iopub.execute_input": "2023-11-12T12:47:34.428779Z",
     "iopub.status.busy": "2023-11-12T12:47:34.428651Z",
     "iopub.status.idle": "2023-11-12T12:47:34.430825Z",
     "shell.execute_reply": "2023-11-12T12:47:34.430570Z"
    },
    "slideshow": {
     "slide_type": "fragment"
    }
   },
   "outputs": [
    {
     "data": {
      "text/plain": [
       "<ast.BinOp at 0x1045de890>"
      ]
     },
     "execution_count": 68,
     "metadata": {},
     "output_type": "execute_result"
    }
   ],
   "source": [
    "e = get_expression('x+y')\n",
    "e"
   ]
  },
  {
   "cell_type": "markdown",
   "metadata": {
    "slideshow": {
     "slide_type": "fragment"
    }
   },
   "source": [
    "The function `to_src()` allows us to *unparse* an expression."
   ]
  },
  {
   "cell_type": "code",
   "execution_count": 69,
   "metadata": {
    "execution": {
     "iopub.execute_input": "2023-11-12T12:47:34.432244Z",
     "iopub.status.busy": "2023-11-12T12:47:34.432140Z",
     "iopub.status.idle": "2023-11-12T12:47:34.433792Z",
     "shell.execute_reply": "2023-11-12T12:47:34.433503Z"
    },
    "slideshow": {
     "slide_type": "fragment"
    }
   },
   "outputs": [],
   "source": [
    "def to_src(astnode):\n",
    "    return ast.unparse(astnode).strip()"
   ]
  },
  {
   "cell_type": "markdown",
   "metadata": {
    "slideshow": {
     "slide_type": "fragment"
    }
   },
   "source": [
    "It is used as follows:"
   ]
  },
  {
   "cell_type": "code",
   "execution_count": 70,
   "metadata": {
    "execution": {
     "iopub.execute_input": "2023-11-12T12:47:34.435373Z",
     "iopub.status.busy": "2023-11-12T12:47:34.435237Z",
     "iopub.status.idle": "2023-11-12T12:47:34.437558Z",
     "shell.execute_reply": "2023-11-12T12:47:34.437249Z"
    },
    "slideshow": {
     "slide_type": "fragment"
    }
   },
   "outputs": [
    {
     "data": {
      "text/plain": [
       "'x + y'"
      ]
     },
     "execution_count": 70,
     "metadata": {},
     "output_type": "execute_result"
    }
   ],
   "source": [
    "to_src(e)"
   ]
  },
  {
   "cell_type": "markdown",
   "metadata": {
    "slideshow": {
     "slide_type": "fragment"
    }
   },
   "source": [
    "We can combine both pieces to produce a prefixed expression. Let us prefix all variables with `x1_`:"
   ]
  },
  {
   "cell_type": "code",
   "execution_count": 71,
   "metadata": {
    "execution": {
     "iopub.execute_input": "2023-11-12T12:47:34.439151Z",
     "iopub.status.busy": "2023-11-12T12:47:34.439038Z",
     "iopub.status.idle": "2023-11-12T12:47:34.443411Z",
     "shell.execute_reply": "2023-11-12T12:47:34.443168Z"
    },
    "slideshow": {
     "slide_type": "subslide"
    }
   },
   "outputs": [
    {
     "name": "stdout",
     "output_type": "stream",
     "text": [
      "z3.Or(z3.And(z3.And(x1_x < 0, x1_v_0 == -x1_x), x1_v == x1_v_0), z3.And(z3.And(z3.Not(x1_x < 0), x1_v_1 == x1_x), x1_v == x1_v_1))\n"
     ]
    }
   ],
   "source": [
    "abs_value_summary_ast = get_expression(str(abs_value_summary))\n",
    "print(to_src(prefix_vars(abs_value_summary_ast, 'x1_')))"
   ]
  },
  {
   "cell_type": "markdown",
   "metadata": {
    "slideshow": {
     "slide_type": "subslide"
    }
   },
   "source": [
    "#### Get Names and Types of Variables Used"
   ]
  },
  {
   "cell_type": "markdown",
   "metadata": {
    "slideshow": {
     "slide_type": "fragment"
    }
   },
   "source": [
    "What about the declarations used? Given that we have all equations in *Z3*, we can retrieve this information directly. We define `z3_names_and_types()` that takes in a *Z3* expression, and extracts the variable definitions required."
   ]
  },
  {
   "cell_type": "code",
   "execution_count": 72,
   "metadata": {
    "execution": {
     "iopub.execute_input": "2023-11-12T12:47:34.444994Z",
     "iopub.status.busy": "2023-11-12T12:47:34.444901Z",
     "iopub.status.idle": "2023-11-12T12:47:34.447311Z",
     "shell.execute_reply": "2023-11-12T12:47:34.447071Z"
    },
    "slideshow": {
     "slide_type": "subslide"
    }
   },
   "outputs": [],
   "source": [
    "def z3_names_and_types(z3_ast):\n",
    "    hm = {}\n",
    "    children = z3_ast.children()\n",
    "    if children:\n",
    "        for c in children:\n",
    "            hm.update(z3_names_and_types(c))\n",
    "    else:\n",
    "        # HACK.. How else to distinguish literals and vars?\n",
    "        if (str(z3_ast.decl()) != str(z3_ast.sort())):\n",
    "            hm[\"%s\" % str(z3_ast.decl())] = 'z3.%s' % str(z3_ast.sort())\n",
    "        else:\n",
    "            pass\n",
    "    return hm"
   ]
  },
  {
   "cell_type": "code",
   "execution_count": 73,
   "metadata": {
    "execution": {
     "iopub.execute_input": "2023-11-12T12:47:34.448746Z",
     "iopub.status.busy": "2023-11-12T12:47:34.448644Z",
     "iopub.status.idle": "2023-11-12T12:47:34.452330Z",
     "shell.execute_reply": "2023-11-12T12:47:34.452085Z"
    },
    "slideshow": {
     "slide_type": "subslide"
    }
   },
   "outputs": [
    {
     "data": {
      "text/plain": [
       "{'x': 'z3.Real', 'v_0': 'z3.Real', 'v': 'z3.Real', 'v_1': 'z3.Real'}"
      ]
     },
     "execution_count": 73,
     "metadata": {},
     "output_type": "execute_result"
    }
   ],
   "source": [
    "abs_value_declarations = z3_names_and_types(abs_value_summary)\n",
    "abs_value_declarations"
   ]
  },
  {
   "attachments": {},
   "cell_type": "markdown",
   "metadata": {
    "slideshow": {
     "slide_type": "fragment"
    }
   },
   "source": [
    "However, `z3_names_and_types()` is limited in that it requires the *Z3* AST to operate. Hence, we also define `used_identifiers()` that can extract identifiers directly from the string representation of any Python expression, (including *Z3* constraints). One trade-off here is that we lose track of the type information. But we will see how to recover that later."
   ]
  },
  {
   "cell_type": "code",
   "execution_count": 74,
   "metadata": {
    "execution": {
     "iopub.execute_input": "2023-11-12T12:47:34.454024Z",
     "iopub.status.busy": "2023-11-12T12:47:34.453914Z",
     "iopub.status.idle": "2023-11-12T12:47:34.457906Z",
     "shell.execute_reply": "2023-11-12T12:47:34.457612Z"
    },
    "slideshow": {
     "slide_type": "subslide"
    }
   },
   "outputs": [],
   "source": [
    "def used_identifiers(src):\n",
    "    def names(astnode):\n",
    "        lst = []\n",
    "        if isinstance(astnode, ast.BoolOp):\n",
    "            for i in astnode.values:\n",
    "                lst.extend(names(i))\n",
    "        elif isinstance(astnode, ast.BinOp):\n",
    "            lst.extend(names(astnode.left))\n",
    "            lst.extend(names(astnode.right))\n",
    "        elif isinstance(astnode, ast.UnaryOp):\n",
    "            lst.extend(names(astnode.operand))\n",
    "        elif isinstance(astnode, ast.Call):\n",
    "            for i in astnode.args:\n",
    "                lst.extend(names(i))\n",
    "        elif isinstance(astnode, ast.Compare):\n",
    "            lst.extend(names(astnode.left))\n",
    "            for i in astnode.comparators:\n",
    "                lst.extend(names(i))\n",
    "        elif isinstance(astnode, ast.Name):\n",
    "            lst.append(astnode.id)\n",
    "        elif isinstance(astnode, ast.Expr):\n",
    "            lst.extend(names(astnode.value))\n",
    "        elif isinstance(astnode, (ast.Num, ast.Str, ast.Tuple, ast.NameConstant)):\n",
    "            pass\n",
    "        elif isinstance(astnode, ast.Assign):\n",
    "            for t in astnode.targets:\n",
    "                lst.extend(names(t))\n",
    "            lst.extend(names(astnode.value))\n",
    "        elif isinstance(astnode, ast.Module):\n",
    "            for b in astnode.body:\n",
    "                lst.extend(names(b))\n",
    "        else:\n",
    "            raise Exception(str(astnode))\n",
    "        return list(set(lst))\n",
    "    return names(ast.parse(src))"
   ]
  },
  {
   "cell_type": "code",
   "execution_count": 75,
   "metadata": {
    "execution": {
     "iopub.execute_input": "2023-11-12T12:47:34.459299Z",
     "iopub.status.busy": "2023-11-12T12:47:34.459213Z",
     "iopub.status.idle": "2023-11-12T12:47:34.463255Z",
     "shell.execute_reply": "2023-11-12T12:47:34.463008Z"
    },
    "slideshow": {
     "slide_type": "subslide"
    }
   },
   "outputs": [
    {
     "data": {
      "text/plain": [
       "['x', 'v', 'v_0', 'v_1']"
      ]
     },
     "execution_count": 75,
     "metadata": {},
     "output_type": "execute_result"
    }
   ],
   "source": [
    "used_identifiers(str(abs_value_summary))"
   ]
  },
  {
   "cell_type": "markdown",
   "metadata": {
    "slideshow": {
     "slide_type": "fragment"
    }
   },
   "source": [
    "We can now register the function summary `abs_value` for later use."
   ]
  },
  {
   "cell_type": "code",
   "execution_count": 76,
   "metadata": {
    "execution": {
     "iopub.execute_input": "2023-11-12T12:47:34.464656Z",
     "iopub.status.busy": "2023-11-12T12:47:34.464573Z",
     "iopub.status.idle": "2023-11-12T12:47:34.467945Z",
     "shell.execute_reply": "2023-11-12T12:47:34.467686Z"
    },
    "slideshow": {
     "slide_type": "fragment"
    }
   },
   "outputs": [],
   "source": [
    "function_summaries = {}\n",
    "function_summaries['abs_value'] = {\n",
    "    'predicate': str(abs_value_summary),\n",
    "    'vars': abs_value_declarations}"
   ]
  },
  {
   "cell_type": "markdown",
   "metadata": {
    "slideshow": {
     "slide_type": "fragment"
    }
   },
   "source": [
    "As we mentioned previously, we do not want to rely on *Z3* to extract the type information. A better alternative is to let the user specify the type information as annotations, and extract this information from the program. We will see next how this can be achieved.\n",
    "\n",
    "First, we convert the *Python type to Z3 type* map to its string equivalent."
   ]
  },
  {
   "cell_type": "code",
   "execution_count": 77,
   "metadata": {
    "execution": {
     "iopub.execute_input": "2023-11-12T12:47:34.469437Z",
     "iopub.status.busy": "2023-11-12T12:47:34.469338Z",
     "iopub.status.idle": "2023-11-12T12:47:34.472028Z",
     "shell.execute_reply": "2023-11-12T12:47:34.471766Z"
    },
    "slideshow": {
     "slide_type": "subslide"
    }
   },
   "outputs": [
    {
     "data": {
      "text/plain": [
       "{'int': ('z3.Int', 'z3.IntVal'),\n",
       " 'float': ('z3.Real', 'z3.RealVal'),\n",
       " 'str': ('z3.String', 'z3.StringVal')}"
      ]
     },
     "execution_count": 77,
     "metadata": {},
     "output_type": "execute_result"
    }
   ],
   "source": [
    "SYM_VARS_STR = {\n",
    "    k.__name__: (\"z3.%s\" % v1.__name__, \"z3.%s\" % v2.__name__)\n",
    "    for k, (v1, v2) in SYM_VARS.items()\n",
    "}\n",
    "SYM_VARS_STR"
   ]
  },
  {
   "cell_type": "markdown",
   "metadata": {
    "slideshow": {
     "slide_type": "fragment"
    }
   },
   "source": [
    "We also define a convenience method `translate_to_z3_name()` for accessing the *Z3* type for symbolic variables."
   ]
  },
  {
   "cell_type": "code",
   "execution_count": 78,
   "metadata": {
    "execution": {
     "iopub.execute_input": "2023-11-12T12:47:34.473579Z",
     "iopub.status.busy": "2023-11-12T12:47:34.473448Z",
     "iopub.status.idle": "2023-11-12T12:47:34.475283Z",
     "shell.execute_reply": "2023-11-12T12:47:34.474994Z"
    },
    "slideshow": {
     "slide_type": "fragment"
    }
   },
   "outputs": [],
   "source": [
    "def translate_to_z3_name(v):\n",
    "    return SYM_VARS_STR[v][0]"
   ]
  },
  {
   "cell_type": "markdown",
   "metadata": {
    "slideshow": {
     "slide_type": "subslide"
    }
   },
   "source": [
    "We now define the method `declarations()` that extracts variables used in Python _statements_. The idea is to look for augmented assignments that contain annotated type information. These are collected and returned.\n",
    "\n",
    "If there are `call` nodes, they represent function calls. The used variables in these function calls are recovered from the corresponding function summaries."
   ]
  },
  {
   "cell_type": "code",
   "execution_count": 79,
   "metadata": {
    "execution": {
     "iopub.execute_input": "2023-11-12T12:47:34.476797Z",
     "iopub.status.busy": "2023-11-12T12:47:34.476686Z",
     "iopub.status.idle": "2023-11-12T12:47:34.480695Z",
     "shell.execute_reply": "2023-11-12T12:47:34.480405Z"
    },
    "slideshow": {
     "slide_type": "subslide"
    }
   },
   "outputs": [],
   "source": [
    "def declarations(astnode, hm=None):\n",
    "    if hm is None:\n",
    "        hm = {}\n",
    "    if isinstance(astnode, ast.Module):\n",
    "        for b in astnode.body:\n",
    "            declarations(b, hm)\n",
    "    elif isinstance(astnode, ast.FunctionDef):\n",
    "        # hm[astnode.name + '__return__'] = \\\n",
    "        # translate_to_z3_name(astnode.returns.id)\n",
    "        for a in astnode.args.args:\n",
    "            hm[a.arg] = translate_to_z3_name(a.annotation.id)\n",
    "        for b in astnode.body:\n",
    "            declarations(b, hm)\n",
    "    elif isinstance(astnode, ast.Call):\n",
    "        # get declarations from the function summary.\n",
    "        n = astnode.function\n",
    "        assert isinstance(n, ast.Name)  # for now.\n",
    "        name = n.id\n",
    "        hm.update(dict(function_summaries[name]['vars']))\n",
    "    elif isinstance(astnode, ast.AnnAssign):\n",
    "        assert isinstance(astnode.target, ast.Name)\n",
    "        hm[astnode.target.id] = translate_to_z3_name(astnode.annotation.id)\n",
    "    elif isinstance(astnode, ast.Assign):\n",
    "        # verify it is already defined\n",
    "        for t in astnode.targets:\n",
    "            assert isinstance(t, ast.Name)\n",
    "            assert t.id in hm\n",
    "    elif isinstance(astnode, ast.AugAssign):\n",
    "        assert isinstance(astnode.target, ast.Name)\n",
    "        assert astnode.target.id in hm\n",
    "    elif isinstance(astnode, (ast.If, ast.For, ast.While)):\n",
    "        for b in astnode.body:\n",
    "            declarations(b, hm)\n",
    "        for b in astnode.orelse:\n",
    "            declarations(b, hm)\n",
    "    elif isinstance(astnode, ast.Return):\n",
    "        pass\n",
    "    else:\n",
    "        raise Exception(str(astnode))\n",
    "    return hm"
   ]
  },
  {
   "cell_type": "markdown",
   "metadata": {
    "slideshow": {
     "slide_type": "subslide"
    }
   },
   "source": [
    "With this, we can now extract the variables used in an expression."
   ]
  },
  {
   "cell_type": "code",
   "execution_count": 80,
   "metadata": {
    "execution": {
     "iopub.execute_input": "2023-11-12T12:47:34.482144Z",
     "iopub.status.busy": "2023-11-12T12:47:34.482054Z",
     "iopub.status.idle": "2023-11-12T12:47:34.484259Z",
     "shell.execute_reply": "2023-11-12T12:47:34.483983Z"
    },
    "slideshow": {
     "slide_type": "fragment"
    }
   },
   "outputs": [
    {
     "data": {
      "text/plain": [
       "{'s': 'z3.Int', 'p': 'z3.Real'}"
      ]
     },
     "execution_count": 80,
     "metadata": {},
     "output_type": "execute_result"
    }
   ],
   "source": [
    "declarations(ast.parse('s: int = 3\\np: float = 4.0\\ns += 1'))"
   ]
  },
  {
   "cell_type": "markdown",
   "metadata": {
    "slideshow": {
     "slide_type": "fragment"
    }
   },
   "source": [
    "We wrap `declarations()` in the method `used_vars()` that operates directly on function objects."
   ]
  },
  {
   "cell_type": "code",
   "execution_count": 81,
   "metadata": {
    "execution": {
     "iopub.execute_input": "2023-11-12T12:47:34.485659Z",
     "iopub.status.busy": "2023-11-12T12:47:34.485561Z",
     "iopub.status.idle": "2023-11-12T12:47:34.487210Z",
     "shell.execute_reply": "2023-11-12T12:47:34.486912Z"
    },
    "slideshow": {
     "slide_type": "fragment"
    }
   },
   "outputs": [],
   "source": [
    "def used_vars(fn):\n",
    "    return declarations(ast.parse(inspect.getsource(fn)))"
   ]
  },
  {
   "cell_type": "markdown",
   "metadata": {
    "slideshow": {
     "slide_type": "fragment"
    }
   },
   "source": [
    "Here is how it can be used:"
   ]
  },
  {
   "cell_type": "code",
   "execution_count": 82,
   "metadata": {
    "execution": {
     "iopub.execute_input": "2023-11-12T12:47:34.488486Z",
     "iopub.status.busy": "2023-11-12T12:47:34.488386Z",
     "iopub.status.idle": "2023-11-12T12:47:34.490798Z",
     "shell.execute_reply": "2023-11-12T12:47:34.490551Z"
    },
    "slideshow": {
     "slide_type": "fragment"
    }
   },
   "outputs": [
    {
     "data": {
      "text/plain": [
       "{'a': 'z3.Int', 'b': 'z3.Int', 'c': 'z3.Int'}"
      ]
     },
     "execution_count": 82,
     "metadata": {},
     "output_type": "execute_result"
    }
   ],
   "source": [
    "used_vars(check_triangle)"
   ]
  },
  {
   "cell_type": "code",
   "execution_count": 83,
   "metadata": {
    "execution": {
     "iopub.execute_input": "2023-11-12T12:47:34.492103Z",
     "iopub.status.busy": "2023-11-12T12:47:34.492013Z",
     "iopub.status.idle": "2023-11-12T12:47:34.494167Z",
     "shell.execute_reply": "2023-11-12T12:47:34.493910Z"
    },
    "slideshow": {
     "slide_type": "fragment"
    }
   },
   "outputs": [
    {
     "data": {
      "text/plain": [
       "{'x': 'z3.Real', 'v': 'z3.Real'}"
      ]
     },
     "execution_count": 83,
     "metadata": {},
     "output_type": "execute_result"
    }
   ],
   "source": [
    "used_vars(abs_value)"
   ]
  },
  {
   "attachments": {},
   "cell_type": "markdown",
   "metadata": {
    "slideshow": {
     "slide_type": "subslide"
    }
   },
   "source": [
    "Given the extracted variables and their *Z3* types, we need a way to re-instantiate them when needed. We define `define_symbolic_vars()` that translates these descriptions to a form that can be directly `exec()`ed."
   ]
  },
  {
   "cell_type": "code",
   "execution_count": 84,
   "metadata": {
    "execution": {
     "iopub.execute_input": "2023-11-12T12:47:34.495572Z",
     "iopub.status.busy": "2023-11-12T12:47:34.495477Z",
     "iopub.status.idle": "2023-11-12T12:47:34.497359Z",
     "shell.execute_reply": "2023-11-12T12:47:34.497095Z"
    },
    "slideshow": {
     "slide_type": "fragment"
    }
   },
   "outputs": [],
   "source": [
    "def define_symbolic_vars(fn_vars, prefix):\n",
    "    sym_var_dec = ', '.join([prefix + n for n in fn_vars])\n",
    "    sym_var_def = ', '.join([\"%s('%s%s')\" % (t, prefix, n)\n",
    "                             for n, t in fn_vars.items()])\n",
    "    return \"%s = %s\" % (sym_var_dec, sym_var_def)"
   ]
  },
  {
   "cell_type": "markdown",
   "metadata": {
    "slideshow": {
     "slide_type": "fragment"
    }
   },
   "source": [
    "Here is how it can be used:"
   ]
  },
  {
   "cell_type": "code",
   "execution_count": 85,
   "metadata": {
    "execution": {
     "iopub.execute_input": "2023-11-12T12:47:34.498685Z",
     "iopub.status.busy": "2023-11-12T12:47:34.498593Z",
     "iopub.status.idle": "2023-11-12T12:47:34.500536Z",
     "shell.execute_reply": "2023-11-12T12:47:34.500275Z"
    },
    "slideshow": {
     "slide_type": "fragment"
    }
   },
   "outputs": [
    {
     "data": {
      "text/plain": [
       "\"x, v_0, v, v_1 = z3.Real('x'), z3.Real('v_0'), z3.Real('v'), z3.Real('v_1')\""
      ]
     },
     "execution_count": 85,
     "metadata": {},
     "output_type": "execute_result"
    }
   ],
   "source": [
    "define_symbolic_vars(abs_value_declarations, '')"
   ]
  },
  {
   "cell_type": "markdown",
   "metadata": {
    "slideshow": {
     "slide_type": "fragment"
    }
   },
   "source": [
    "We next define `gen_fn_summary()` that returns a function summary in instantiable form using *Z3*. "
   ]
  },
  {
   "cell_type": "code",
   "execution_count": 86,
   "metadata": {
    "execution": {
     "iopub.execute_input": "2023-11-12T12:47:34.501912Z",
     "iopub.status.busy": "2023-11-12T12:47:34.501809Z",
     "iopub.status.idle": "2023-11-12T12:47:34.503872Z",
     "shell.execute_reply": "2023-11-12T12:47:34.503580Z"
    },
    "slideshow": {
     "slide_type": "subslide"
    }
   },
   "outputs": [],
   "source": [
    "def gen_fn_summary(prefix, fn):\n",
    "    summary = function_summaries[fn.__name__]['predicate']\n",
    "    fn_vars = function_summaries[fn.__name__]['vars']\n",
    "    decl = define_symbolic_vars(fn_vars, prefix)\n",
    "    summary_ast = get_expression(summary)\n",
    "    return decl, to_src(prefix_vars(summary_ast, prefix))"
   ]
  },
  {
   "cell_type": "markdown",
   "metadata": {
    "slideshow": {
     "slide_type": "fragment"
    }
   },
   "source": [
    "Here is how it can be used:"
   ]
  },
  {
   "cell_type": "code",
   "execution_count": 87,
   "metadata": {
    "execution": {
     "iopub.execute_input": "2023-11-12T12:47:34.505245Z",
     "iopub.status.busy": "2023-11-12T12:47:34.505139Z",
     "iopub.status.idle": "2023-11-12T12:47:34.507344Z",
     "shell.execute_reply": "2023-11-12T12:47:34.507086Z"
    },
    "slideshow": {
     "slide_type": "fragment"
    }
   },
   "outputs": [
    {
     "data": {
      "text/plain": [
       "(\"a_x, a_v_0, a_v, a_v_1 = z3.Real('a_x'), z3.Real('a_v_0'), z3.Real('a_v'), z3.Real('a_v_1')\",\n",
       " 'z3.Or(z3.And(z3.And(a_x < 0, a_v_0 == -a_x), a_v == a_v_0), z3.And(z3.And(z3.Not(a_x < 0), a_v_1 == a_x), a_v == a_v_1))')"
      ]
     },
     "execution_count": 87,
     "metadata": {},
     "output_type": "execute_result"
    }
   ],
   "source": [
    "gen_fn_summary('a_', abs_value)"
   ]
  },
  {
   "cell_type": "code",
   "execution_count": 88,
   "metadata": {
    "execution": {
     "iopub.execute_input": "2023-11-12T12:47:34.508759Z",
     "iopub.status.busy": "2023-11-12T12:47:34.508650Z",
     "iopub.status.idle": "2023-11-12T12:47:34.510813Z",
     "shell.execute_reply": "2023-11-12T12:47:34.510569Z"
    },
    "slideshow": {
     "slide_type": "fragment"
    }
   },
   "outputs": [
    {
     "data": {
      "text/plain": [
       "(\"b_x, b_v_0, b_v, b_v_1 = z3.Real('b_x'), z3.Real('b_v_0'), z3.Real('b_v'), z3.Real('b_v_1')\",\n",
       " 'z3.Or(z3.And(z3.And(b_x < 0, b_v_0 == -b_x), b_v == b_v_0), z3.And(z3.And(z3.Not(b_x < 0), b_v_1 == b_x), b_v == b_v_1))')"
      ]
     },
     "execution_count": 88,
     "metadata": {},
     "output_type": "execute_result"
    }
   ],
   "source": [
    "gen_fn_summary('b_', abs_value)"
   ]
  },
  {
   "cell_type": "markdown",
   "metadata": {
    "slideshow": {
     "slide_type": "fragment"
    }
   },
   "source": [
    "How do we use our function summaries? Here is a function `abs_max()` that uses `abs_value()`."
   ]
  },
  {
   "cell_type": "code",
   "execution_count": 89,
   "metadata": {
    "execution": {
     "iopub.execute_input": "2023-11-12T12:47:34.512210Z",
     "iopub.status.busy": "2023-11-12T12:47:34.512119Z",
     "iopub.status.idle": "2023-11-12T12:47:34.514045Z",
     "shell.execute_reply": "2023-11-12T12:47:34.513797Z"
    },
    "slideshow": {
     "slide_type": "subslide"
    }
   },
   "outputs": [],
   "source": [
    "def abs_max(a: float, b: float):\n",
    "    a1: float = abs_value(a)\n",
    "    b1: float = abs_value(b)\n",
    "    if a1 > b1:\n",
    "        c: float = a1  # type: ignore\n",
    "    else:\n",
    "        c: float = b1  # type: ignore\n",
    "    return c"
   ]
  },
  {
   "cell_type": "markdown",
   "metadata": {
    "slideshow": {
     "slide_type": "fragment"
    }
   },
   "source": [
    "To trace this function symbolically, we first define the two variables `a` and `b`."
   ]
  },
  {
   "cell_type": "code",
   "execution_count": 90,
   "metadata": {
    "execution": {
     "iopub.execute_input": "2023-11-12T12:47:34.515540Z",
     "iopub.status.busy": "2023-11-12T12:47:34.515445Z",
     "iopub.status.idle": "2023-11-12T12:47:34.517196Z",
     "shell.execute_reply": "2023-11-12T12:47:34.516913Z"
    },
    "slideshow": {
     "slide_type": "fragment"
    }
   },
   "outputs": [],
   "source": [
    "a = z3.Real('a')\n",
    "b = z3.Real('b')"
   ]
  },
  {
   "cell_type": "markdown",
   "metadata": {
    "slideshow": {
     "slide_type": "fragment"
    }
   },
   "source": [
    "The `line: 2` contains definition for `a1`, which we define as a symbolic variable."
   ]
  },
  {
   "cell_type": "code",
   "execution_count": 91,
   "metadata": {
    "execution": {
     "iopub.execute_input": "2023-11-12T12:47:34.518659Z",
     "iopub.status.busy": "2023-11-12T12:47:34.518566Z",
     "iopub.status.idle": "2023-11-12T12:47:34.520313Z",
     "shell.execute_reply": "2023-11-12T12:47:34.520016Z"
    },
    "slideshow": {
     "slide_type": "fragment"
    }
   },
   "outputs": [],
   "source": [
    "a1 = z3.Real('a1')"
   ]
  },
  {
   "cell_type": "markdown",
   "metadata": {
    "slideshow": {
     "slide_type": "subslide"
    }
   },
   "source": [
    "We also need to call `abs_value()`, which is accomplished as follows. Since this is the first call to `abs_value()`, we use `abs1` as the prefix."
   ]
  },
  {
   "cell_type": "code",
   "execution_count": 92,
   "metadata": {
    "execution": {
     "iopub.execute_input": "2023-11-12T12:47:34.521821Z",
     "iopub.status.busy": "2023-11-12T12:47:34.521723Z",
     "iopub.status.idle": "2023-11-12T12:47:34.524177Z",
     "shell.execute_reply": "2023-11-12T12:47:34.523946Z"
    },
    "slideshow": {
     "slide_type": "fragment"
    }
   },
   "outputs": [
    {
     "data": {
      "text/plain": [
       "(\"abs1_x, abs1_v_0, abs1_v, abs1_v_1 = z3.Real('abs1_x'), z3.Real('abs1_v_0'), z3.Real('abs1_v'), z3.Real('abs1_v_1')\",\n",
       " 'z3.Or(z3.And(z3.And(abs1_x < 0, abs1_v_0 == -abs1_x), abs1_v == abs1_v_0), z3.And(z3.And(z3.Not(abs1_x < 0), abs1_v_1 == abs1_x), abs1_v == abs1_v_1))')"
      ]
     },
     "execution_count": 92,
     "metadata": {},
     "output_type": "execute_result"
    }
   ],
   "source": [
    "d, v = gen_fn_summary('abs1_', abs_value)\n",
    "d, v"
   ]
  },
  {
   "cell_type": "markdown",
   "metadata": {
    "slideshow": {
     "slide_type": "fragment"
    }
   },
   "source": [
    "We also need to equate the resulting value (`<prefix>_v`) to the symbolic variable `a1` we defined earlier."
   ]
  },
  {
   "cell_type": "code",
   "execution_count": 93,
   "metadata": {
    "execution": {
     "iopub.execute_input": "2023-11-12T12:47:34.525539Z",
     "iopub.status.busy": "2023-11-12T12:47:34.525460Z",
     "iopub.status.idle": "2023-11-12T12:47:34.527472Z",
     "shell.execute_reply": "2023-11-12T12:47:34.527193Z"
    },
    "slideshow": {
     "slide_type": "fragment"
    }
   },
   "outputs": [
    {
     "data": {
      "text/plain": [
       "'l2 = z3.And(a == abs1_x, a1 == abs1_v, z3.Or(z3.And(z3.And(abs1_x < 0, abs1_v_0 == -abs1_x), abs1_v == abs1_v_0), z3.And(z3.And(z3.Not(abs1_x < 0), abs1_v_1 == abs1_x), abs1_v == abs1_v_1)))'"
      ]
     },
     "execution_count": 93,
     "metadata": {},
     "output_type": "execute_result"
    }
   ],
   "source": [
    "l2_src = \"l2 = z3.And(a == abs1_x, a1 == abs1_v, %s)\" % v\n",
    "l2_src"
   ]
  },
  {
   "cell_type": "markdown",
   "metadata": {
    "slideshow": {
     "slide_type": "fragment"
    }
   },
   "source": [
    "Applying both declaration and the assignment."
   ]
  },
  {
   "cell_type": "code",
   "execution_count": 94,
   "metadata": {
    "execution": {
     "iopub.execute_input": "2023-11-12T12:47:34.528936Z",
     "iopub.status.busy": "2023-11-12T12:47:34.528850Z",
     "iopub.status.idle": "2023-11-12T12:47:34.531432Z",
     "shell.execute_reply": "2023-11-12T12:47:34.531185Z"
    },
    "slideshow": {
     "slide_type": "fragment"
    }
   },
   "outputs": [],
   "source": [
    "exec(d)\n",
    "exec(l2_src)"
   ]
  },
  {
   "cell_type": "code",
   "execution_count": 95,
   "metadata": {
    "execution": {
     "iopub.execute_input": "2023-11-12T12:47:34.532815Z",
     "iopub.status.busy": "2023-11-12T12:47:34.532726Z",
     "iopub.status.idle": "2023-11-12T12:47:34.540331Z",
     "shell.execute_reply": "2023-11-12T12:47:34.540040Z"
    },
    "slideshow": {
     "slide_type": "subslide"
    }
   },
   "outputs": [
    {
     "data": {
      "text/html": [
       "a = abs1_x &and;\n",
       "a1 = abs1_v &and;\n",
       "(abs1_x &lt; 0 &and; abs1_v_0 = -abs1_x &and; abs1_v = abs1_v_0 &or;\n",
       " &not;(abs1_x &lt; 0) &and; abs1_v_1 = abs1_x &and; abs1_v = abs1_v_1)"
      ],
      "text/plain": [
       "And(a == abs1_x,\n",
       "    a1 == abs1_v,\n",
       "    Or(And(And(abs1_x < 0, abs1_v_0 == -abs1_x),\n",
       "           abs1_v == abs1_v_0),\n",
       "       And(And(Not(abs1_x < 0), abs1_v_1 == abs1_x),\n",
       "           abs1_v == abs1_v_1)))"
      ]
     },
     "execution_count": 95,
     "metadata": {},
     "output_type": "execute_result"
    }
   ],
   "source": [
    "l2  # type: ignore"
   ]
  },
  {
   "cell_type": "markdown",
   "metadata": {
    "slideshow": {
     "slide_type": "fragment"
    }
   },
   "source": [
    "We need to do the same for `line: 3`, but with `abs2` as the prefix."
   ]
  },
  {
   "cell_type": "code",
   "execution_count": 96,
   "metadata": {
    "execution": {
     "iopub.execute_input": "2023-11-12T12:47:34.542143Z",
     "iopub.status.busy": "2023-11-12T12:47:34.541992Z",
     "iopub.status.idle": "2023-11-12T12:47:34.545325Z",
     "shell.execute_reply": "2023-11-12T12:47:34.545006Z"
    },
    "slideshow": {
     "slide_type": "fragment"
    }
   },
   "outputs": [],
   "source": [
    "b1 = z3.Real('b1')\n",
    "d, v = gen_fn_summary('abs2_', abs_value)\n",
    "l3_src = \"l3_ = z3.And(b == abs2_x, b1 == abs2_v, %s)\" % v\n",
    "exec(d)\n",
    "exec(l3_src)"
   ]
  },
  {
   "cell_type": "code",
   "execution_count": 97,
   "metadata": {
    "execution": {
     "iopub.execute_input": "2023-11-12T12:47:34.546985Z",
     "iopub.status.busy": "2023-11-12T12:47:34.546891Z",
     "iopub.status.idle": "2023-11-12T12:47:34.554890Z",
     "shell.execute_reply": "2023-11-12T12:47:34.554589Z"
    },
    "slideshow": {
     "slide_type": "subslide"
    }
   },
   "outputs": [
    {
     "data": {
      "text/html": [
       "b = abs2_x &and;\n",
       "b1 = abs2_v &and;\n",
       "(abs2_x &lt; 0 &and; abs2_v_0 = -abs2_x &and; abs2_v = abs2_v_0 &or;\n",
       " &not;(abs2_x &lt; 0) &and; abs2_v_1 = abs2_x &and; abs2_v = abs2_v_1)"
      ],
      "text/plain": [
       "And(b == abs2_x,\n",
       "    b1 == abs2_v,\n",
       "    Or(And(And(abs2_x < 0, abs2_v_0 == -abs2_x),\n",
       "           abs2_v == abs2_v_0),\n",
       "       And(And(Not(abs2_x < 0), abs2_v_1 == abs2_x),\n",
       "           abs2_v == abs2_v_1)))"
      ]
     },
     "execution_count": 97,
     "metadata": {},
     "output_type": "execute_result"
    }
   ],
   "source": [
    "l3_  # type: ignore"
   ]
  },
  {
   "cell_type": "markdown",
   "metadata": {
    "slideshow": {
     "slide_type": "fragment"
    }
   },
   "source": [
    "To get the true set of predicates at `line: 3`, we need to add the predicates from `line: 2`."
   ]
  },
  {
   "cell_type": "code",
   "execution_count": 98,
   "metadata": {
    "execution": {
     "iopub.execute_input": "2023-11-12T12:47:34.556524Z",
     "iopub.status.busy": "2023-11-12T12:47:34.556411Z",
     "iopub.status.idle": "2023-11-12T12:47:34.558260Z",
     "shell.execute_reply": "2023-11-12T12:47:34.558010Z"
    },
    "slideshow": {
     "slide_type": "fragment"
    }
   },
   "outputs": [],
   "source": [
    "l3 = z3.And(l2, l3_)  # type: ignore"
   ]
  },
  {
   "cell_type": "code",
   "execution_count": 99,
   "metadata": {
    "execution": {
     "iopub.execute_input": "2023-11-12T12:47:34.559808Z",
     "iopub.status.busy": "2023-11-12T12:47:34.559556Z",
     "iopub.status.idle": "2023-11-12T12:47:34.576593Z",
     "shell.execute_reply": "2023-11-12T12:47:34.576281Z"
    },
    "slideshow": {
     "slide_type": "subslide"
    }
   },
   "outputs": [
    {
     "data": {
      "text/html": [
       "a = abs1_x &and;\n",
       "a1 = abs1_v &and;\n",
       "(abs1_x &lt; 0 &and; abs1_v_0 = -abs1_x &and; abs1_v = abs1_v_0 &or;\n",
       " &not;(abs1_x &lt; 0) &and; abs1_v_1 = abs1_x &and; abs1_v = abs1_v_1) &and;\n",
       "b = abs2_x &and;\n",
       "b1 = abs2_v &and;\n",
       "(abs2_x &lt; 0 &and; abs2_v_0 = -abs2_x &and; abs2_v = abs2_v_0 &or;\n",
       " &not;(abs2_x &lt; 0) &and; abs2_v_1 = abs2_x &and; abs2_v = abs2_v_1)"
      ],
      "text/plain": [
       "And(And(a == abs1_x,\n",
       "        a1 == abs1_v,\n",
       "        Or(And(And(abs1_x < 0, abs1_v_0 == -abs1_x),\n",
       "               abs1_v == abs1_v_0),\n",
       "           And(And(Not(abs1_x < 0), abs1_v_1 == abs1_x),\n",
       "               abs1_v == abs1_v_1))),\n",
       "    And(b == abs2_x,\n",
       "        b1 == abs2_v,\n",
       "        Or(And(And(abs2_x < 0, abs2_v_0 == -abs2_x),\n",
       "               abs2_v == abs2_v_0),\n",
       "           And(And(Not(abs2_x < 0), abs2_v_1 == abs2_x),\n",
       "               abs2_v == abs2_v_1))))"
      ]
     },
     "execution_count": 99,
     "metadata": {},
     "output_type": "execute_result"
    }
   ],
   "source": [
    "l3"
   ]
  },
  {
   "cell_type": "markdown",
   "metadata": {
    "slideshow": {
     "slide_type": "fragment"
    }
   },
   "source": [
    "This equation can be simplified a bit using z3."
   ]
  },
  {
   "cell_type": "code",
   "execution_count": 100,
   "metadata": {
    "execution": {
     "iopub.execute_input": "2023-11-12T12:47:34.578238Z",
     "iopub.status.busy": "2023-11-12T12:47:34.578117Z",
     "iopub.status.idle": "2023-11-12T12:47:34.588233Z",
     "shell.execute_reply": "2023-11-12T12:47:34.587963Z"
    },
    "slideshow": {
     "slide_type": "subslide"
    }
   },
   "outputs": [
    {
     "data": {
      "text/html": [
       "a = abs1_x &and;\n",
       "a1 = abs1_v &and;\n",
       "(&not;(0 &le; abs1_x) &and; abs1_v_0 = -1&middot;abs1_x &and; abs1_v = abs1_v_0 &or;\n",
       " 0 &le; abs1_x &and; abs1_v_1 = abs1_x &and; abs1_v = abs1_v_1) &and;\n",
       "b = abs2_x &and;\n",
       "b1 = abs2_v &and;\n",
       "(&not;(0 &le; abs2_x) &and; abs2_v_0 = -1&middot;abs2_x &and; abs2_v = abs2_v_0 &or;\n",
       " 0 &le; abs2_x &and; abs2_v_1 = abs2_x &and; abs2_v = abs2_v_1)"
      ],
      "text/plain": [
       "And(a == abs1_x,\n",
       "    a1 == abs1_v,\n",
       "    Or(And(Not(0 <= abs1_x),\n",
       "           abs1_v_0 == -1*abs1_x,\n",
       "           abs1_v == abs1_v_0),\n",
       "       And(0 <= abs1_x,\n",
       "           abs1_v_1 == abs1_x,\n",
       "           abs1_v == abs1_v_1)),\n",
       "    b == abs2_x,\n",
       "    b1 == abs2_v,\n",
       "    Or(And(Not(0 <= abs2_x),\n",
       "           abs2_v_0 == -1*abs2_x,\n",
       "           abs2_v == abs2_v_0),\n",
       "       And(0 <= abs2_x,\n",
       "           abs2_v_1 == abs2_x,\n",
       "           abs2_v == abs2_v_1)))"
      ]
     },
     "execution_count": 100,
     "metadata": {},
     "output_type": "execute_result"
    }
   ],
   "source": [
    "z3.simplify(l3)"
   ]
  },
  {
   "cell_type": "markdown",
   "metadata": {
    "slideshow": {
     "slide_type": "subslide"
    }
   },
   "source": [
    "Coming to `line: 4`, we have a condition."
   ]
  },
  {
   "cell_type": "code",
   "execution_count": 101,
   "metadata": {
    "execution": {
     "iopub.execute_input": "2023-11-12T12:47:34.589985Z",
     "iopub.status.busy": "2023-11-12T12:47:34.589843Z",
     "iopub.status.idle": "2023-11-12T12:47:34.592041Z",
     "shell.execute_reply": "2023-11-12T12:47:34.591777Z"
    },
    "slideshow": {
     "slide_type": "fragment"
    }
   },
   "outputs": [],
   "source": [
    "l4_cond = a1 > b1\n",
    "l4 = z3.And(l3, l4_cond)"
   ]
  },
  {
   "cell_type": "markdown",
   "metadata": {
    "slideshow": {
     "slide_type": "fragment"
    }
   },
   "source": [
    "For `line: 5`, we define the symbolic variable `c_0` assuming we took the *IF* branch."
   ]
  },
  {
   "cell_type": "code",
   "execution_count": 102,
   "metadata": {
    "execution": {
     "iopub.execute_input": "2023-11-12T12:47:34.593718Z",
     "iopub.status.busy": "2023-11-12T12:47:34.593603Z",
     "iopub.status.idle": "2023-11-12T12:47:34.595836Z",
     "shell.execute_reply": "2023-11-12T12:47:34.595528Z"
    },
    "slideshow": {
     "slide_type": "fragment"
    }
   },
   "outputs": [],
   "source": [
    "c_0 = z3.Real('c_0')\n",
    "l5 = z3.And(l4, c_0 == a1)"
   ]
  },
  {
   "cell_type": "markdown",
   "metadata": {
    "slideshow": {
     "slide_type": "fragment"
    }
   },
   "source": [
    "For `line: 6`, the *ELSE* branch was taken. So we invert that condition."
   ]
  },
  {
   "cell_type": "code",
   "execution_count": 103,
   "metadata": {
    "execution": {
     "iopub.execute_input": "2023-11-12T12:47:34.597288Z",
     "iopub.status.busy": "2023-11-12T12:47:34.597185Z",
     "iopub.status.idle": "2023-11-12T12:47:34.599076Z",
     "shell.execute_reply": "2023-11-12T12:47:34.598783Z"
    },
    "slideshow": {
     "slide_type": "fragment"
    }
   },
   "outputs": [],
   "source": [
    "l6 = z3.And(l3, z3.Not(l4_cond))"
   ]
  },
  {
   "cell_type": "markdown",
   "metadata": {
    "slideshow": {
     "slide_type": "fragment"
    }
   },
   "source": [
    "For `line: 7`, we define `c_1`."
   ]
  },
  {
   "cell_type": "code",
   "execution_count": 104,
   "metadata": {
    "execution": {
     "iopub.execute_input": "2023-11-12T12:47:34.600606Z",
     "iopub.status.busy": "2023-11-12T12:47:34.600487Z",
     "iopub.status.idle": "2023-11-12T12:47:34.602511Z",
     "shell.execute_reply": "2023-11-12T12:47:34.602258Z"
    },
    "slideshow": {
     "slide_type": "fragment"
    }
   },
   "outputs": [],
   "source": [
    "c_1 = z3.Real('c_1')\n",
    "l7 = z3.And(l6, c_1 == b1)"
   ]
  },
  {
   "cell_type": "code",
   "execution_count": 105,
   "metadata": {
    "execution": {
     "iopub.execute_input": "2023-11-12T12:47:34.603931Z",
     "iopub.status.busy": "2023-11-12T12:47:34.603818Z",
     "iopub.status.idle": "2023-11-12T12:47:34.612681Z",
     "shell.execute_reply": "2023-11-12T12:47:34.612360Z"
    },
    "slideshow": {
     "slide_type": "subslide"
    }
   },
   "outputs": [
    {
     "data": {
      "text/html": [
       "<b>sat</b>"
      ],
      "text/plain": [
       "sat"
      ]
     },
     "execution_count": 105,
     "metadata": {},
     "output_type": "execute_result"
    }
   ],
   "source": [
    "s1 = z3.Solver()\n",
    "s1.add(l5)\n",
    "s1.check()"
   ]
  },
  {
   "cell_type": "code",
   "execution_count": 106,
   "metadata": {
    "execution": {
     "iopub.execute_input": "2023-11-12T12:47:34.614142Z",
     "iopub.status.busy": "2023-11-12T12:47:34.614059Z",
     "iopub.status.idle": "2023-11-12T12:47:34.617241Z",
     "shell.execute_reply": "2023-11-12T12:47:34.616963Z"
    },
    "slideshow": {
     "slide_type": "fragment"
    }
   },
   "outputs": [
    {
     "data": {
      "text/plain": [
       "[(a, 1/2), (a1, 1/2), (b, -1/4), (b1, 1/4), (c_0, 1/2)]"
      ]
     },
     "execution_count": 106,
     "metadata": {},
     "output_type": "execute_result"
    }
   ],
   "source": [
    "m1 = s1.model()\n",
    "sorted([(d, m1[d]) for d in m1.decls() if not d.name(\n",
    ").startswith('abs')], key=lambda x: x[0].name())"
   ]
  },
  {
   "cell_type": "code",
   "execution_count": 107,
   "metadata": {
    "execution": {
     "iopub.execute_input": "2023-11-12T12:47:34.618642Z",
     "iopub.status.busy": "2023-11-12T12:47:34.618555Z",
     "iopub.status.idle": "2023-11-12T12:47:34.626811Z",
     "shell.execute_reply": "2023-11-12T12:47:34.626550Z"
    },
    "slideshow": {
     "slide_type": "fragment"
    }
   },
   "outputs": [
    {
     "data": {
      "text/html": [
       "<b>sat</b>"
      ],
      "text/plain": [
       "sat"
      ]
     },
     "execution_count": 107,
     "metadata": {},
     "output_type": "execute_result"
    }
   ],
   "source": [
    "s2 = z3.Solver()\n",
    "s2.add(l7)\n",
    "s2.check()"
   ]
  },
  {
   "cell_type": "code",
   "execution_count": 108,
   "metadata": {
    "execution": {
     "iopub.execute_input": "2023-11-12T12:47:34.628298Z",
     "iopub.status.busy": "2023-11-12T12:47:34.628211Z",
     "iopub.status.idle": "2023-11-12T12:47:34.631314Z",
     "shell.execute_reply": "2023-11-12T12:47:34.631064Z"
    },
    "slideshow": {
     "slide_type": "subslide"
    }
   },
   "outputs": [
    {
     "data": {
      "text/plain": [
       "[(a, -1/4), (a1, 1/4), (b, -1/4), (b1, 1/4), (c_1, 1/4)]"
      ]
     },
     "execution_count": 108,
     "metadata": {},
     "output_type": "execute_result"
    }
   ],
   "source": [
    "m2 = s2.model()\n",
    "sorted([(d, m2[d]) for d in m2.decls() if not d.name(\n",
    ").startswith('abs')], key=lambda x: x[0].name())"
   ]
  },
  {
   "attachments": {},
   "cell_type": "markdown",
   "metadata": {
    "slideshow": {
     "slide_type": "fragment"
    }
   },
   "source": [
    "What we really want to do is to automate this process, because doing this by hand is tedious and error-prone. Essentially, we want the ability to extract *all paths* in the program, and symbolically execute each path, which will generate the inputs required to cover all reachable portions of the program."
   ]
  },
  {
   "cell_type": "markdown",
   "metadata": {
    "slideshow": {
     "slide_type": "slide"
    }
   },
   "source": [
    "## Simple Symbolic Fuzzing"
   ]
  },
  {
   "attachments": {},
   "cell_type": "markdown",
   "metadata": {
    "slideshow": {
     "slide_type": "subslide"
    }
   },
   "source": [
    "We define a simple *symbolic fuzzer* that can generate input values *symbolically* with the following assumptions:\n",
    "\n",
    "* There are no loops in the program\n",
    "* The function is self-contained.\n",
    "* No recursion.\n",
    "* No reassignments for variables.\n",
    "\n",
    "The key idea is as follows: We traverse through the control flow graph from the entry point, and generate all possible paths to a given depth. Then we collect constraints that we encountered along the path, and generate inputs that will traverse the program up to that point."
   ]
  },
  {
   "cell_type": "markdown",
   "metadata": {
    "slideshow": {
     "slide_type": "subslide"
    }
   },
   "source": [
    "We build our fuzzer based on the class `Fuzzer`."
   ]
  },
  {
   "cell_type": "code",
   "execution_count": 109,
   "metadata": {
    "execution": {
     "iopub.execute_input": "2023-11-12T12:47:34.633149Z",
     "iopub.status.busy": "2023-11-12T12:47:34.632979Z",
     "iopub.status.idle": "2023-11-12T12:47:34.634817Z",
     "shell.execute_reply": "2023-11-12T12:47:34.634550Z"
    },
    "slideshow": {
     "slide_type": "skip"
    }
   },
   "outputs": [],
   "source": [
    "from Fuzzer import Fuzzer"
   ]
  },
  {
   "cell_type": "markdown",
   "metadata": {
    "slideshow": {
     "slide_type": "fragment"
    }
   },
   "source": [
    "We start by extracting the control flow graph of the function passed. We also provide a hook for child classes to do their processing."
   ]
  },
  {
   "cell_type": "code",
   "execution_count": 110,
   "metadata": {
    "execution": {
     "iopub.execute_input": "2023-11-12T12:47:34.636297Z",
     "iopub.status.busy": "2023-11-12T12:47:34.636191Z",
     "iopub.status.idle": "2023-11-12T12:47:34.638852Z",
     "shell.execute_reply": "2023-11-12T12:47:34.638617Z"
    },
    "slideshow": {
     "slide_type": "subslide"
    }
   },
   "outputs": [],
   "source": [
    "class SimpleSymbolicFuzzer(Fuzzer):\n",
    "    \"\"\"Simple symbolic fuzzer\"\"\"\n",
    "\n",
    "    def __init__(self, fn, **kwargs):\n",
    "        \"\"\"Constructor.\n",
    "        `fn` is the function to be fuzzed.\n",
    "        Possible keyword parameters:\n",
    "        * `max_depth` - the depth to which one should attempt\n",
    "          to trace the execution (default 100) \n",
    "        * `max_tries` - the maximum number of attempts\n",
    "          we will try to produce a value before giving up (default 100)\n",
    "        * `max_iter` - the number of iterations we will attempt (default 100).\n",
    "        \"\"\"\n",
    "        self.fn_name = fn.__name__\n",
    "        py_cfg = PyCFG()\n",
    "        py_cfg.gen_cfg(inspect.getsource(fn))\n",
    "        self.fnenter, self.fnexit = py_cfg.functions[self.fn_name]\n",
    "        self.used_variables = used_vars(fn)\n",
    "        self.fn_args = list(inspect.signature(fn).parameters)\n",
    "        self.z3 = z3.Solver()\n",
    "\n",
    "        self.paths = None\n",
    "        self.last_path = None\n",
    "\n",
    "        self.options(kwargs)\n",
    "        self.process()\n",
    "\n",
    "    def process(self):\n",
    "        ...  # to be defined later"
   ]
  },
  {
   "cell_type": "markdown",
   "metadata": {
    "slideshow": {
     "slide_type": "subslide"
    }
   },
   "source": [
    "We need a few variables to control how much we are willing to traverse."
   ]
  },
  {
   "cell_type": "markdown",
   "metadata": {
    "slideshow": {
     "slide_type": "fragment"
    }
   },
   "source": [
    "`MAX_DEPTH` is the depth to which one should attempt to trace the execution."
   ]
  },
  {
   "cell_type": "code",
   "execution_count": 111,
   "metadata": {
    "execution": {
     "iopub.execute_input": "2023-11-12T12:47:34.640484Z",
     "iopub.status.busy": "2023-11-12T12:47:34.640383Z",
     "iopub.status.idle": "2023-11-12T12:47:34.641941Z",
     "shell.execute_reply": "2023-11-12T12:47:34.641689Z"
    },
    "slideshow": {
     "slide_type": "fragment"
    }
   },
   "outputs": [],
   "source": [
    "MAX_DEPTH = 100"
   ]
  },
  {
   "cell_type": "markdown",
   "metadata": {
    "slideshow": {
     "slide_type": "fragment"
    }
   },
   "source": [
    "`MAX_TRIES` is the maximum number of attempts we will try to produce a value before giving up."
   ]
  },
  {
   "cell_type": "code",
   "execution_count": 112,
   "metadata": {
    "execution": {
     "iopub.execute_input": "2023-11-12T12:47:34.643424Z",
     "iopub.status.busy": "2023-11-12T12:47:34.643344Z",
     "iopub.status.idle": "2023-11-12T12:47:34.645010Z",
     "shell.execute_reply": "2023-11-12T12:47:34.644739Z"
    },
    "slideshow": {
     "slide_type": "fragment"
    }
   },
   "outputs": [],
   "source": [
    "MAX_TRIES = 100"
   ]
  },
  {
   "cell_type": "markdown",
   "metadata": {
    "slideshow": {
     "slide_type": "fragment"
    }
   },
   "source": [
    "`MAX_ITER` is the number of iterations we will attempt."
   ]
  },
  {
   "cell_type": "code",
   "execution_count": 113,
   "metadata": {
    "execution": {
     "iopub.execute_input": "2023-11-12T12:47:34.646527Z",
     "iopub.status.busy": "2023-11-12T12:47:34.646418Z",
     "iopub.status.idle": "2023-11-12T12:47:34.648195Z",
     "shell.execute_reply": "2023-11-12T12:47:34.647814Z"
    },
    "slideshow": {
     "slide_type": "fragment"
    }
   },
   "outputs": [],
   "source": [
    "MAX_ITER = 100"
   ]
  },
  {
   "cell_type": "markdown",
   "metadata": {
    "slideshow": {
     "slide_type": "fragment"
    }
   },
   "source": [
    "The `options()` method sets these parameters in the fuzzing class."
   ]
  },
  {
   "cell_type": "code",
   "execution_count": 114,
   "metadata": {
    "execution": {
     "iopub.execute_input": "2023-11-12T12:47:34.649677Z",
     "iopub.status.busy": "2023-11-12T12:47:34.649572Z",
     "iopub.status.idle": "2023-11-12T12:47:34.651531Z",
     "shell.execute_reply": "2023-11-12T12:47:34.651298Z"
    },
    "slideshow": {
     "slide_type": "subslide"
    }
   },
   "outputs": [],
   "source": [
    "class SimpleSymbolicFuzzer(SimpleSymbolicFuzzer):\n",
    "    def options(self, kwargs):\n",
    "        self.max_depth = kwargs.get('max_depth', MAX_DEPTH)\n",
    "        self.max_tries = kwargs.get('max_tries', MAX_TRIES)\n",
    "        self.max_iter = kwargs.get('max_iter', MAX_ITER)\n",
    "        self._options = kwargs"
   ]
  },
  {
   "cell_type": "markdown",
   "metadata": {
    "slideshow": {
     "slide_type": "fragment"
    }
   },
   "source": [
    "The initialization generates a control flow graph and hooks it to `fnenter` and `fnexit`."
   ]
  },
  {
   "cell_type": "code",
   "execution_count": 115,
   "metadata": {
    "execution": {
     "iopub.execute_input": "2023-11-12T12:47:34.653035Z",
     "iopub.status.busy": "2023-11-12T12:47:34.652920Z",
     "iopub.status.idle": "2023-11-12T12:47:34.655652Z",
     "shell.execute_reply": "2023-11-12T12:47:34.655402Z"
    },
    "slideshow": {
     "slide_type": "fragment"
    }
   },
   "outputs": [],
   "source": [
    "symfz_ct = SimpleSymbolicFuzzer(check_triangle)"
   ]
  },
  {
   "cell_type": "code",
   "execution_count": 116,
   "metadata": {
    "execution": {
     "iopub.execute_input": "2023-11-12T12:47:34.657179Z",
     "iopub.status.busy": "2023-11-12T12:47:34.657004Z",
     "iopub.status.idle": "2023-11-12T12:47:34.659276Z",
     "shell.execute_reply": "2023-11-12T12:47:34.659005Z"
    },
    "slideshow": {
     "slide_type": "fragment"
    }
   },
   "outputs": [
    {
     "data": {
      "text/plain": [
       "(id:9 line[1] parents: [] : enter: check_triangle(a, b, c),\n",
       " id:10 line[1] parents: [14, 15, 16, 19, 20, 21] : exit: check_triangle(a, b, c))"
      ]
     },
     "execution_count": 116,
     "metadata": {},
     "output_type": "execute_result"
    }
   ],
   "source": [
    "symfz_ct.fnenter, symfz_ct.fnexit"
   ]
  },
  {
   "attachments": {},
   "cell_type": "markdown",
   "metadata": {
    "slideshow": {
     "slide_type": "subslide"
    }
   },
   "source": [
    "### Generating All Possible Paths\n",
    "We can use the procedure `get_all_paths()` starting from `fnenter` to recursively retrieve all paths in the function.\n",
    "\n",
    "The idea is as follows: Start with the function entry point `fnenter`, and recursively follow the children using the CFG. At any node there is a branching, there would be multiple children. On other nodes there would be only one child. Let us say a node had $n$ children. Such a node would result in $n$ paths. We attach the current node to the head of each path, and return all paths thus generated."
   ]
  },
  {
   "cell_type": "code",
   "execution_count": 117,
   "metadata": {
    "execution": {
     "iopub.execute_input": "2023-11-12T12:47:34.660684Z",
     "iopub.status.busy": "2023-11-12T12:47:34.660577Z",
     "iopub.status.idle": "2023-11-12T12:47:34.663013Z",
     "shell.execute_reply": "2023-11-12T12:47:34.662748Z"
    },
    "slideshow": {
     "slide_type": "subslide"
    }
   },
   "outputs": [],
   "source": [
    "class SimpleSymbolicFuzzer(SimpleSymbolicFuzzer):\n",
    "    def get_all_paths(self, fenter, depth=0):\n",
    "        if depth > self.max_depth:\n",
    "            raise Exception('Maximum depth exceeded')\n",
    "        if not fenter.children:\n",
    "            return [[(0, fenter)]]\n",
    "\n",
    "        fnpaths = []\n",
    "        for idx, child in enumerate(fenter.children):\n",
    "            child_paths = self.get_all_paths(child, depth + 1)\n",
    "            for path in child_paths:\n",
    "                # In a conditional branch, idx is 0 for IF, and 1 for Else\n",
    "                fnpaths.append([(idx, fenter)] + path)\n",
    "        return fnpaths"
   ]
  },
  {
   "cell_type": "markdown",
   "metadata": {
    "slideshow": {
     "slide_type": "fragment"
    }
   },
   "source": [
    "This can be used as follows."
   ]
  },
  {
   "cell_type": "code",
   "execution_count": 118,
   "metadata": {
    "execution": {
     "iopub.execute_input": "2023-11-12T12:47:34.664599Z",
     "iopub.status.busy": "2023-11-12T12:47:34.664471Z",
     "iopub.status.idle": "2023-11-12T12:47:34.667412Z",
     "shell.execute_reply": "2023-11-12T12:47:34.667147Z"
    },
    "slideshow": {
     "slide_type": "subslide"
    }
   },
   "outputs": [],
   "source": [
    "symfz_ct = SimpleSymbolicFuzzer(check_triangle)\n",
    "all_paths = symfz_ct.get_all_paths(symfz_ct.fnenter)"
   ]
  },
  {
   "cell_type": "code",
   "execution_count": 119,
   "metadata": {
    "execution": {
     "iopub.execute_input": "2023-11-12T12:47:34.668842Z",
     "iopub.status.busy": "2023-11-12T12:47:34.668739Z",
     "iopub.status.idle": "2023-11-12T12:47:34.670779Z",
     "shell.execute_reply": "2023-11-12T12:47:34.670519Z"
    },
    "slideshow": {
     "slide_type": "fragment"
    }
   },
   "outputs": [
    {
     "data": {
      "text/plain": [
       "6"
      ]
     },
     "execution_count": 119,
     "metadata": {},
     "output_type": "execute_result"
    }
   ],
   "source": [
    "len(all_paths)"
   ]
  },
  {
   "cell_type": "code",
   "execution_count": 120,
   "metadata": {
    "execution": {
     "iopub.execute_input": "2023-11-12T12:47:34.672260Z",
     "iopub.status.busy": "2023-11-12T12:47:34.672147Z",
     "iopub.status.idle": "2023-11-12T12:47:34.674439Z",
     "shell.execute_reply": "2023-11-12T12:47:34.674163Z"
    },
    "slideshow": {
     "slide_type": "fragment"
    }
   },
   "outputs": [
    {
     "data": {
      "text/plain": [
       "[(0, id:24 line[1] parents: [] : enter: check_triangle(a, b, c)),\n",
       " (0, id:26 line[2] parents: [24] : _if: a == b),\n",
       " (0, id:27 line[3] parents: [26] : _if: a == c),\n",
       " (1, id:28 line[4] parents: [27] : _if: b == c),\n",
       " (0, id:30 line[7] parents: [28] : return 'Isosceles'),\n",
       " (0,\n",
       "  id:25 line[1] parents: [29, 30, 31, 34, 35, 36] : exit: check_triangle(a, b, c))]"
      ]
     },
     "execution_count": 120,
     "metadata": {},
     "output_type": "execute_result"
    }
   ],
   "source": [
    "all_paths[1]"
   ]
  },
  {
   "cell_type": "markdown",
   "metadata": {
    "slideshow": {
     "slide_type": "fragment"
    }
   },
   "source": [
    "We hook `get_all_paths()` to initialization as below."
   ]
  },
  {
   "cell_type": "code",
   "execution_count": 121,
   "metadata": {
    "execution": {
     "iopub.execute_input": "2023-11-12T12:47:34.675957Z",
     "iopub.status.busy": "2023-11-12T12:47:34.675838Z",
     "iopub.status.idle": "2023-11-12T12:47:34.677672Z",
     "shell.execute_reply": "2023-11-12T12:47:34.677401Z"
    },
    "slideshow": {
     "slide_type": "subslide"
    }
   },
   "outputs": [],
   "source": [
    "class SimpleSymbolicFuzzer(SimpleSymbolicFuzzer):\n",
    "    def process(self):\n",
    "        self.paths = self.get_all_paths(self.fnenter)\n",
    "        self.last_path = len(self.paths)"
   ]
  },
  {
   "cell_type": "markdown",
   "metadata": {
    "slideshow": {
     "slide_type": "subslide"
    }
   },
   "source": [
    "### Extracting All Constraints\n",
    "\n",
    "For any given path, we define a function `extract_constraints()` to extract the constraints such that they are executable directly with *Z3*. The `idx` represents the particular branch that was taken. Hence, if the `False` branch was taken in a conditional, we attach a negation of the conditional."
   ]
  },
  {
   "cell_type": "code",
   "execution_count": 122,
   "metadata": {
    "execution": {
     "iopub.execute_input": "2023-11-12T12:47:34.679225Z",
     "iopub.status.busy": "2023-11-12T12:47:34.679118Z",
     "iopub.status.idle": "2023-11-12T12:47:34.682364Z",
     "shell.execute_reply": "2023-11-12T12:47:34.682102Z"
    },
    "slideshow": {
     "slide_type": "subslide"
    }
   },
   "outputs": [],
   "source": [
    "class SimpleSymbolicFuzzer(SimpleSymbolicFuzzer):\n",
    "    def extract_constraints(self, path):\n",
    "        predicates = []\n",
    "        for (idx, elt) in path:\n",
    "            if isinstance(elt.ast_node, ast.AnnAssign):\n",
    "                if elt.ast_node.target.id in {'_if', '_while'}:\n",
    "                    s = to_src(elt.ast_node.annotation)\n",
    "                    predicates.append((\"%s\" if idx == 0 else \"z3.Not(%s)\") % s)\n",
    "                elif isinstance(elt.ast_node.annotation, ast.Call):\n",
    "                    assert elt.ast_node.annotation.func.id == self.fn_name\n",
    "                else:\n",
    "                    node = elt.ast_node\n",
    "                    t = ast.Compare(node.target, [ast.Eq()], [node.value])\n",
    "                    predicates.append(to_src(t))\n",
    "            elif isinstance(elt.ast_node, ast.Assign):\n",
    "                node = elt.ast_node\n",
    "                t = ast.Compare(node.targets[0], [ast.Eq()], [node.value])\n",
    "                predicates.append(to_src(t))\n",
    "            else:\n",
    "                pass\n",
    "        return predicates"
   ]
  },
  {
   "cell_type": "code",
   "execution_count": 123,
   "metadata": {
    "execution": {
     "iopub.execute_input": "2023-11-12T12:47:34.683771Z",
     "iopub.status.busy": "2023-11-12T12:47:34.683685Z",
     "iopub.status.idle": "2023-11-12T12:47:34.686961Z",
     "shell.execute_reply": "2023-11-12T12:47:34.686709Z"
    },
    "slideshow": {
     "slide_type": "subslide"
    }
   },
   "outputs": [
    {
     "data": {
      "text/plain": [
       "['a == b', 'a == c', 'b == c']"
      ]
     },
     "execution_count": 123,
     "metadata": {},
     "output_type": "execute_result"
    }
   ],
   "source": [
    "symfz_ct = SimpleSymbolicFuzzer(check_triangle)\n",
    "all_paths = symfz_ct.get_all_paths(symfz_ct.fnenter)\n",
    "symfz_ct.extract_constraints(all_paths[0])"
   ]
  },
  {
   "cell_type": "code",
   "execution_count": 124,
   "metadata": {
    "execution": {
     "iopub.execute_input": "2023-11-12T12:47:34.688434Z",
     "iopub.status.busy": "2023-11-12T12:47:34.688343Z",
     "iopub.status.idle": "2023-11-12T12:47:34.690716Z",
     "shell.execute_reply": "2023-11-12T12:47:34.690452Z"
    },
    "slideshow": {
     "slide_type": "fragment"
    }
   },
   "outputs": [
    {
     "data": {
      "text/plain": [
       "['a == b', 'a == c', 'z3.Not(b == c)']"
      ]
     },
     "execution_count": 124,
     "metadata": {},
     "output_type": "execute_result"
    }
   ],
   "source": [
    "constraints = symfz_ct.extract_constraints(all_paths[1])\n",
    "constraints"
   ]
  },
  {
   "cell_type": "markdown",
   "metadata": {
    "slideshow": {
     "slide_type": "subslide"
    }
   },
   "source": [
    "### Fuzzing with Simple Symbolic Fuzzer\n",
    "\n",
    "To actually generate solutions, we define `fuzz()`. For that, we need to first extract all paths. Then choose a particular path, and extract the constraints in that path, which is then solved using *z3*."
   ]
  },
  {
   "cell_type": "code",
   "execution_count": 125,
   "metadata": {
    "execution": {
     "iopub.execute_input": "2023-11-12T12:47:34.692210Z",
     "iopub.status.busy": "2023-11-12T12:47:34.692086Z",
     "iopub.status.idle": "2023-11-12T12:47:34.693703Z",
     "shell.execute_reply": "2023-11-12T12:47:34.693444Z"
    },
    "slideshow": {
     "slide_type": "skip"
    }
   },
   "outputs": [],
   "source": [
    "from contextlib import contextmanager"
   ]
  },
  {
   "cell_type": "markdown",
   "metadata": {
    "slideshow": {
     "slide_type": "fragment"
    }
   },
   "source": [
    "First we create a checkpoint for our current solver so that we can check a predicate, and rollback if necessary."
   ]
  },
  {
   "cell_type": "code",
   "execution_count": 126,
   "metadata": {
    "execution": {
     "iopub.execute_input": "2023-11-12T12:47:34.695226Z",
     "iopub.status.busy": "2023-11-12T12:47:34.695123Z",
     "iopub.status.idle": "2023-11-12T12:47:34.696848Z",
     "shell.execute_reply": "2023-11-12T12:47:34.696583Z"
    },
    "slideshow": {
     "slide_type": "fragment"
    }
   },
   "outputs": [],
   "source": [
    "@contextmanager\n",
    "def checkpoint(z3solver):\n",
    "    z3solver.push()\n",
    "    yield z3solver\n",
    "    z3solver.pop()"
   ]
  },
  {
   "cell_type": "markdown",
   "metadata": {
    "slideshow": {
     "slide_type": "subslide"
    }
   },
   "source": [
    "The `use_path()` function extracts constraints for a single function, applies it to our current solver (under a checkpoint), and returns the results if some solutions can be found.\n",
    "If solutions were found, we also make sure that we never reuse those solutions."
   ]
  },
  {
   "cell_type": "code",
   "execution_count": 127,
   "metadata": {
    "execution": {
     "iopub.execute_input": "2023-11-12T12:47:34.698329Z",
     "iopub.status.busy": "2023-11-12T12:47:34.698207Z",
     "iopub.status.idle": "2023-11-12T12:47:34.701019Z",
     "shell.execute_reply": "2023-11-12T12:47:34.700774Z"
    },
    "slideshow": {
     "slide_type": "subslide"
    }
   },
   "outputs": [],
   "source": [
    "class SimpleSymbolicFuzzer(SimpleSymbolicFuzzer):\n",
    "    def solve_path_constraint(self, path):\n",
    "        # re-initializing does not seem problematic.\n",
    "        # a = z3.Int('a').get_id() remains the same.\n",
    "        constraints = self.extract_constraints(path)\n",
    "        decl = define_symbolic_vars(self.used_variables, '')\n",
    "        exec(decl)\n",
    "\n",
    "        solutions = {}\n",
    "        with checkpoint(self.z3):\n",
    "            st = 'self.z3.add(%s)' % ', '.join(constraints)\n",
    "            eval(st)\n",
    "            if self.z3.check() != z3.sat:\n",
    "                return {}\n",
    "            m = self.z3.model()\n",
    "            solutions = {d.name(): m[d] for d in m.decls()}\n",
    "            my_args = {k: solutions.get(k, None) for k in self.fn_args}\n",
    "        predicate = 'z3.And(%s)' % ','.join(\n",
    "            [\"%s == %s\" % (k, v) for k, v in my_args.items()])\n",
    "        eval('self.z3.add(z3.Not(%s))' % predicate)\n",
    "        return my_args"
   ]
  },
  {
   "cell_type": "markdown",
   "metadata": {
    "slideshow": {
     "slide_type": "subslide"
    }
   },
   "source": [
    "We define `get_path()` that retrieves the current path and updates the path used."
   ]
  },
  {
   "cell_type": "code",
   "execution_count": 128,
   "metadata": {
    "execution": {
     "iopub.execute_input": "2023-11-12T12:47:34.702663Z",
     "iopub.status.busy": "2023-11-12T12:47:34.702552Z",
     "iopub.status.idle": "2023-11-12T12:47:34.704392Z",
     "shell.execute_reply": "2023-11-12T12:47:34.704140Z"
    },
    "slideshow": {
     "slide_type": "fragment"
    }
   },
   "outputs": [],
   "source": [
    "class SimpleSymbolicFuzzer(SimpleSymbolicFuzzer):\n",
    "    def get_next_path(self):\n",
    "        self.last_path -= 1\n",
    "        if self.last_path == -1:\n",
    "            self.last_path = len(self.paths) - 1\n",
    "        return self.paths[self.last_path]"
   ]
  },
  {
   "cell_type": "markdown",
   "metadata": {
    "slideshow": {
     "slide_type": "fragment"
    }
   },
   "source": [
    "The `fuzz()` method simply solves each path in order."
   ]
  },
  {
   "cell_type": "code",
   "execution_count": 129,
   "metadata": {
    "execution": {
     "iopub.execute_input": "2023-11-12T12:47:34.705772Z",
     "iopub.status.busy": "2023-11-12T12:47:34.705672Z",
     "iopub.status.idle": "2023-11-12T12:47:34.707767Z",
     "shell.execute_reply": "2023-11-12T12:47:34.707465Z"
    },
    "slideshow": {
     "slide_type": "subslide"
    }
   },
   "outputs": [],
   "source": [
    "class SimpleSymbolicFuzzer(SimpleSymbolicFuzzer):\n",
    "    def fuzz(self):\n",
    "        \"\"\"Produce one solution for each path.\n",
    "        Returns a mapping of variable names to (symbolic) Z3 values.\"\"\"\n",
    "        for i in range(self.max_tries):\n",
    "            res = self.solve_path_constraint(self.get_next_path())\n",
    "            if res:\n",
    "                return res\n",
    "\n",
    "        return {}"
   ]
  },
  {
   "cell_type": "markdown",
   "metadata": {
    "slideshow": {
     "slide_type": "fragment"
    }
   },
   "source": [
    "The fuzzer can be used as follows. Note that we need to convert the symbolic variables returned to Python numbers, using `as_long()`:"
   ]
  },
  {
   "cell_type": "code",
   "execution_count": 130,
   "metadata": {
    "execution": {
     "iopub.execute_input": "2023-11-12T12:47:34.709232Z",
     "iopub.status.busy": "2023-11-12T12:47:34.709126Z",
     "iopub.status.idle": "2023-11-12T12:47:34.725395Z",
     "shell.execute_reply": "2023-11-12T12:47:34.725088Z"
    },
    "slideshow": {
     "slide_type": "subslide"
    }
   },
   "outputs": [
    {
     "name": "stdout",
     "output_type": "stream",
     "text": [
      "{'a': 2, 'b': 3, 'c': 3} result: Isosceles\n",
      "{'a': 6, 'b': 4, 'c': 5} result: Scalene\n",
      "{'a': 8, 'b': 7, 'c': 8} result: Isosceles\n",
      "{'a': 9, 'b': 9, 'c': 10} result: Isosceles\n",
      "{'a': 11, 'b': 11, 'c': 11} result: Equilateral\n",
      "{'a': 13, 'b': 12, 'c': 12} result: Isosceles\n",
      "{'a': 16, 'b': 14, 'c': 15} result: Scalene\n",
      "{'a': 18, 'b': 17, 'c': 18} result: Isosceles\n",
      "{'a': 19, 'b': 19, 'c': 20} result: Isosceles\n"
     ]
    }
   ],
   "source": [
    "a, b, c = None, None, None\n",
    "symfz_ct = SimpleSymbolicFuzzer(check_triangle)\n",
    "for i in range(1, 10):\n",
    "    args = symfz_ct.fuzz()\n",
    "    res = check_triangle(args['a'].as_long(),\n",
    "                         args['b'].as_long(),\n",
    "                         args['c'].as_long())\n",
    "    print(args, \"result:\", res)"
   ]
  },
  {
   "cell_type": "markdown",
   "metadata": {
    "slideshow": {
     "slide_type": "subslide"
    }
   },
   "source": [
    "For symbolic fractions, we access their numerators and denominators:"
   ]
  },
  {
   "cell_type": "code",
   "execution_count": 131,
   "metadata": {
    "execution": {
     "iopub.execute_input": "2023-11-12T12:47:34.726991Z",
     "iopub.status.busy": "2023-11-12T12:47:34.726897Z",
     "iopub.status.idle": "2023-11-12T12:47:34.740772Z",
     "shell.execute_reply": "2023-11-12T12:47:34.740494Z"
    },
    "slideshow": {
     "slide_type": "subslide"
    }
   },
   "outputs": [
    {
     "name": "stdout",
     "output_type": "stream",
     "text": [
      "{'x': 0} result: 0.0\n",
      "{'x': -1/2} result: 0.5\n",
      "{'x': 1/2} result: 0.5\n",
      "{'x': -1/4} result: 0.25\n",
      "{'x': 3/2} result: 1.5\n",
      "{'x': -3/8} result: 0.375\n",
      "{'x': 5/2} result: 2.5\n",
      "{'x': -1/8} result: 0.125\n",
      "{'x': 2} result: 2.0\n"
     ]
    }
   ],
   "source": [
    "symfz_av = SimpleSymbolicFuzzer(abs_value)\n",
    "for i in range(1, 10):\n",
    "    args = symfz_av.fuzz()\n",
    "    abs_res = abs_value(args['x'].numerator_as_long() /\n",
    "                        args['x'].denominator_as_long())\n",
    "    print(args, \"result:\", abs_res)"
   ]
  },
  {
   "cell_type": "markdown",
   "metadata": {
    "slideshow": {
     "slide_type": "subslide"
    }
   },
   "source": [
    "The _SimpleSymbolicFuzzer_ seems to work well for the _simple_ programs we checked above."
   ]
  },
  {
   "cell_type": "markdown",
   "metadata": {
    "slideshow": {
     "slide_type": "subslide"
    }
   },
   "source": [
    "### Problems with the Simple Fuzzer\n",
    "\n",
    "As we mentioned earlier, the `SimpleSymbolicFuzzer` cannot yet deal with variable reassignments. Further, it also fails to account for any loops. For example, consider the following program."
   ]
  },
  {
   "cell_type": "code",
   "execution_count": 132,
   "metadata": {
    "execution": {
     "iopub.execute_input": "2023-11-12T12:47:34.742370Z",
     "iopub.status.busy": "2023-11-12T12:47:34.742282Z",
     "iopub.status.idle": "2023-11-12T12:47:34.744296Z",
     "shell.execute_reply": "2023-11-12T12:47:34.744056Z"
    },
    "slideshow": {
     "slide_type": "subslide"
    }
   },
   "outputs": [],
   "source": [
    "def gcd(a: int, b: int) -> int:\n",
    "    if a < b:\n",
    "        c: int = a  # type: ignore\n",
    "        a = b\n",
    "        b = c\n",
    "\n",
    "    while b != 0:\n",
    "        c: int = a  # type: ignore\n",
    "        a = b\n",
    "        b = c % b\n",
    "\n",
    "    return a"
   ]
  },
  {
   "cell_type": "code",
   "execution_count": 133,
   "metadata": {
    "execution": {
     "iopub.execute_input": "2023-11-12T12:47:34.745806Z",
     "iopub.status.busy": "2023-11-12T12:47:34.745682Z",
     "iopub.status.idle": "2023-11-12T12:47:35.127335Z",
     "shell.execute_reply": "2023-11-12T12:47:35.126918Z"
    },
    "slideshow": {
     "slide_type": "fragment"
    }
   },
   "outputs": [
    {
     "data": {
      "image/svg+xml": [
       "<?xml version=\"1.0\" encoding=\"UTF-8\" standalone=\"no\"?>\n",
       "<!DOCTYPE svg PUBLIC \"-//W3C//DTD SVG 1.1//EN\"\n",
       " \"http://www.w3.org/Graphics/SVG/1.1/DTD/svg11.dtd\">\n",
       "<!-- Generated by graphviz version 9.0.0 (20230911.1827)\n",
       " -->\n",
       "<!-- Pages: 1 -->\n",
       "<svg width=\"282pt\" height=\"671pt\"\n",
       " viewBox=\"0.00 0.00 281.77 670.50\" xmlns=\"http://www.w3.org/2000/svg\" xmlns:xlink=\"http://www.w3.org/1999/xlink\">\n",
       "<g id=\"graph0\" class=\"graph\" transform=\"scale(1 1) rotate(0) translate(4 666.5)\">\n",
       "<polygon fill=\"white\" stroke=\"none\" points=\"-4,4 -4,-666.5 277.77,-666.5 277.77,4 -4,4\"/>\n",
       "<!-- 1 -->\n",
       "<g id=\"node1\" class=\"node\">\n",
       "<title>1</title>\n",
       "<ellipse fill=\"none\" stroke=\"black\" cx=\"169.9\" cy=\"-640.5\" rx=\"72.19\" ry=\"18\"/>\n",
       "<ellipse fill=\"none\" stroke=\"black\" cx=\"169.9\" cy=\"-640.5\" rx=\"76.19\" ry=\"22\"/>\n",
       "<text text-anchor=\"middle\" x=\"169.9\" y=\"-634.33\" font-family=\"Times,serif\" font-size=\"14.00\">1: enter: gcd(a, b)</text>\n",
       "</g>\n",
       "<!-- 3 -->\n",
       "<g id=\"node4\" class=\"node\">\n",
       "<title>3</title>\n",
       "<polygon fill=\"none\" stroke=\"black\" points=\"169.9,-581.5 102.88,-563.5 169.9,-545.5 236.91,-563.5 169.9,-581.5\"/>\n",
       "<text text-anchor=\"middle\" x=\"169.9\" y=\"-557.33\" font-family=\"Times,serif\" font-size=\"14.00\">2: if: a &lt; b</text>\n",
       "</g>\n",
       "<!-- 1&#45;&gt;3 -->\n",
       "<g id=\"edge2\" class=\"edge\">\n",
       "<title>1&#45;&gt;3</title>\n",
       "<path fill=\"none\" stroke=\"black\" d=\"M169.9,-618.21C169.9,-610.32 169.9,-601.25 169.9,-592.83\"/>\n",
       "<polygon fill=\"black\" stroke=\"black\" points=\"173.4,-593.07 169.9,-583.07 166.4,-593.07 173.4,-593.07\"/>\n",
       "</g>\n",
       "<!-- 2 -->\n",
       "<g id=\"node2\" class=\"node\">\n",
       "<title>2</title>\n",
       "<ellipse fill=\"none\" stroke=\"black\" cx=\"71.9\" cy=\"-95\" rx=\"67.9\" ry=\"18\"/>\n",
       "<ellipse fill=\"none\" stroke=\"black\" cx=\"71.9\" cy=\"-95\" rx=\"71.9\" ry=\"22\"/>\n",
       "<text text-anchor=\"middle\" x=\"71.9\" y=\"-88.83\" font-family=\"Times,serif\" font-size=\"14.00\">1: exit: gcd(a, b)</text>\n",
       "</g>\n",
       "<!-- 11 -->\n",
       "<g id=\"node3\" class=\"node\">\n",
       "<title>11</title>\n",
       "<polygon fill=\"none\" stroke=\"black\" points=\"111.4,-190 32.4,-190 32.4,-154 111.4,-154 111.4,-190\"/>\n",
       "<text text-anchor=\"middle\" x=\"71.9\" y=\"-165.82\" font-family=\"Times,serif\" font-size=\"14.00\">12: return a</text>\n",
       "</g>\n",
       "<!-- 11&#45;&gt;2 -->\n",
       "<g id=\"edge1\" class=\"edge\">\n",
       "<title>11&#45;&gt;2</title>\n",
       "<path fill=\"none\" stroke=\"black\" d=\"M71.9,-153.6C71.9,-146.17 71.9,-137.23 71.9,-128.64\"/>\n",
       "<polygon fill=\"black\" stroke=\"black\" points=\"75.4,-128.83 71.9,-118.83 68.4,-128.83 75.4,-128.83\"/>\n",
       "</g>\n",
       "<!-- 4 -->\n",
       "<g id=\"node5\" class=\"node\">\n",
       "<title>4</title>\n",
       "<ellipse fill=\"none\" stroke=\"black\" cx=\"130.9\" cy=\"-477.25\" rx=\"50.72\" ry=\"18\"/>\n",
       "<text text-anchor=\"middle\" x=\"130.9\" y=\"-471.07\" font-family=\"Times,serif\" font-size=\"14.00\">3: c: int = a</text>\n",
       "</g>\n",
       "<!-- 3&#45;&gt;4 -->\n",
       "<g id=\"edge3\" class=\"edge\">\n",
       "<title>3&#45;&gt;4</title>\n",
       "<path fill=\"none\" stroke=\"blue\" d=\"M162.74,-547.05C157.4,-535.5 149.95,-519.42 143.6,-505.7\"/>\n",
       "<polygon fill=\"blue\" stroke=\"blue\" points=\"146.82,-504.32 139.44,-496.72 140.47,-507.26 146.82,-504.32\"/>\n",
       "<text text-anchor=\"middle\" x=\"157.02\" y=\"-514.2\" font-family=\"Times,serif\" font-size=\"14.00\">T</text>\n",
       "</g>\n",
       "<!-- 7 -->\n",
       "<g id=\"node8\" class=\"node\">\n",
       "<title>7</title>\n",
       "<polygon fill=\"none\" stroke=\"black\" points=\"179.9,-276.25 88.6,-258.25 179.9,-240.25 271.19,-258.25 179.9,-276.25\"/>\n",
       "<text text-anchor=\"middle\" x=\"179.9\" y=\"-252.07\" font-family=\"Times,serif\" font-size=\"14.00\">7: while: b != 0</text>\n",
       "</g>\n",
       "<!-- 3&#45;&gt;7 -->\n",
       "<g id=\"edge7\" class=\"edge\">\n",
       "<title>3&#45;&gt;7</title>\n",
       "<path fill=\"none\" stroke=\"red\" d=\"M181.47,-548.26C193.28,-532.24 209.9,-504.97 209.9,-478.25 209.9,-478.25 209.9,-478.25 209.9,-330.25 209.9,-314.09 203.22,-297.39 196.17,-284.24\"/>\n",
       "<polygon fill=\"red\" stroke=\"red\" points=\"199.35,-282.75 191.32,-275.85 193.3,-286.26 199.35,-282.75\"/>\n",
       "<text text-anchor=\"middle\" x=\"213.65\" y=\"-398.07\" font-family=\"Times,serif\" font-size=\"14.00\">F</text>\n",
       "</g>\n",
       "<!-- 5 -->\n",
       "<g id=\"node6\" class=\"node\">\n",
       "<title>5</title>\n",
       "<polygon fill=\"none\" stroke=\"black\" points=\"171.27,-422.25 112.52,-422.25 112.52,-386.25 171.27,-386.25 171.27,-422.25\"/>\n",
       "<text text-anchor=\"middle\" x=\"141.9\" y=\"-398.07\" font-family=\"Times,serif\" font-size=\"14.00\">4: a = b</text>\n",
       "</g>\n",
       "<!-- 4&#45;&gt;5 -->\n",
       "<g id=\"edge4\" class=\"edge\">\n",
       "<title>4&#45;&gt;5</title>\n",
       "<path fill=\"none\" stroke=\"black\" d=\"M133.56,-459.06C134.75,-451.39 136.18,-442.14 137.52,-433.49\"/>\n",
       "<polygon fill=\"black\" stroke=\"black\" points=\"140.95,-434.19 139.03,-423.77 134.04,-433.12 140.95,-434.19\"/>\n",
       "</g>\n",
       "<!-- 6 -->\n",
       "<g id=\"node7\" class=\"node\">\n",
       "<title>6</title>\n",
       "<polygon fill=\"none\" stroke=\"black\" points=\"179.27,-349.25 120.52,-349.25 120.52,-313.25 179.27,-313.25 179.27,-349.25\"/>\n",
       "<text text-anchor=\"middle\" x=\"149.9\" y=\"-325.07\" font-family=\"Times,serif\" font-size=\"14.00\">5: b = c</text>\n",
       "</g>\n",
       "<!-- 5&#45;&gt;6 -->\n",
       "<g id=\"edge5\" class=\"edge\">\n",
       "<title>5&#45;&gt;6</title>\n",
       "<path fill=\"none\" stroke=\"black\" d=\"M143.83,-386.06C144.7,-378.39 145.74,-369.14 146.71,-360.49\"/>\n",
       "<polygon fill=\"black\" stroke=\"black\" points=\"150.17,-361.11 147.81,-350.78 143.21,-360.33 150.17,-361.11\"/>\n",
       "</g>\n",
       "<!-- 6&#45;&gt;7 -->\n",
       "<g id=\"edge6\" class=\"edge\">\n",
       "<title>6&#45;&gt;7</title>\n",
       "<path fill=\"none\" stroke=\"black\" d=\"M157.16,-313.06C160.61,-304.89 164.81,-294.94 168.66,-285.83\"/>\n",
       "<polygon fill=\"black\" stroke=\"black\" points=\"171.85,-287.27 172.52,-276.7 165.41,-284.55 171.85,-287.27\"/>\n",
       "</g>\n",
       "<!-- 7&#45;&gt;11 -->\n",
       "<g id=\"edge12\" class=\"edge\">\n",
       "<title>7&#45;&gt;11</title>\n",
       "<path fill=\"none\" stroke=\"red\" d=\"M162.06,-243.34C146.1,-230.89 122.34,-212.35 103.21,-197.43\"/>\n",
       "<polygon fill=\"red\" stroke=\"red\" points=\"105.48,-194.76 95.45,-191.37 101.18,-200.28 105.48,-194.76\"/>\n",
       "<text text-anchor=\"middle\" x=\"136.65\" y=\"-208.95\" font-family=\"Times,serif\" font-size=\"14.00\">F</text>\n",
       "</g>\n",
       "<!-- 8 -->\n",
       "<g id=\"node10\" class=\"node\">\n",
       "<title>8</title>\n",
       "<ellipse fill=\"none\" stroke=\"black\" cx=\"179.9\" cy=\"-172\" rx=\"50.72\" ry=\"18\"/>\n",
       "<text text-anchor=\"middle\" x=\"179.9\" y=\"-165.82\" font-family=\"Times,serif\" font-size=\"14.00\">8: c: int = a</text>\n",
       "</g>\n",
       "<!-- 7&#45;&gt;8 -->\n",
       "<g id=\"edge9\" class=\"edge\">\n",
       "<title>7&#45;&gt;8</title>\n",
       "<path fill=\"none\" stroke=\"blue\" d=\"M179.9,-239.79C179.9,-228.84 179.9,-214.44 179.9,-201.82\"/>\n",
       "<polygon fill=\"blue\" stroke=\"blue\" points=\"183.4,-201.95 179.9,-191.95 176.4,-201.95 183.4,-201.95\"/>\n",
       "<text text-anchor=\"middle\" x=\"184.02\" y=\"-208.95\" font-family=\"Times,serif\" font-size=\"14.00\">T</text>\n",
       "</g>\n",
       "<!-- 10 -->\n",
       "<g id=\"node9\" class=\"node\">\n",
       "<title>10</title>\n",
       "<polygon fill=\"none\" stroke=\"black\" points=\"273.77,-36 182.02,-36 182.02,0 273.77,0 273.77,-36\"/>\n",
       "<text text-anchor=\"middle\" x=\"227.9\" y=\"-11.82\" font-family=\"Times,serif\" font-size=\"14.00\">10: b = c % b</text>\n",
       "</g>\n",
       "<!-- 10&#45;&gt;7 -->\n",
       "<g id=\"edge8\" class=\"edge\">\n",
       "<title>10&#45;&gt;7</title>\n",
       "<path fill=\"none\" stroke=\"black\" d=\"M233.82,-36.45C243.59,-68.2 260.09,-137.03 239.9,-190 233.1,-207.82 219.18,-223.91 206.45,-235.89\"/>\n",
       "<polygon fill=\"black\" stroke=\"black\" points=\"204.2,-233.21 199.07,-242.48 208.86,-238.43 204.2,-233.21\"/>\n",
       "</g>\n",
       "<!-- 9 -->\n",
       "<g id=\"node11\" class=\"node\">\n",
       "<title>9</title>\n",
       "<polygon fill=\"none\" stroke=\"black\" points=\"226.27,-113 167.52,-113 167.52,-77 226.27,-77 226.27,-113\"/>\n",
       "<text text-anchor=\"middle\" x=\"196.9\" y=\"-88.83\" font-family=\"Times,serif\" font-size=\"14.00\">9: a = b</text>\n",
       "</g>\n",
       "<!-- 8&#45;&gt;9 -->\n",
       "<g id=\"edge10\" class=\"edge\">\n",
       "<title>8&#45;&gt;9</title>\n",
       "<path fill=\"none\" stroke=\"black\" d=\"M183.84,-153.6C185.81,-144.9 188.25,-134.13 190.49,-124.28\"/>\n",
       "<polygon fill=\"black\" stroke=\"black\" points=\"193.84,-125.3 192.64,-114.78 187.02,-123.76 193.84,-125.3\"/>\n",
       "</g>\n",
       "<!-- 9&#45;&gt;10 -->\n",
       "<g id=\"edge11\" class=\"edge\">\n",
       "<title>9&#45;&gt;10</title>\n",
       "<path fill=\"none\" stroke=\"black\" d=\"M204.09,-76.6C207.76,-67.71 212.33,-56.66 216.47,-46.64\"/>\n",
       "<polygon fill=\"black\" stroke=\"black\" points=\"219.58,-48.28 220.17,-37.7 213.11,-45.6 219.58,-48.28\"/>\n",
       "</g>\n",
       "</g>\n",
       "</svg>\n"
      ],
      "text/plain": [
       "<graphviz.graphs.Digraph at 0x103f1ffd0>"
      ]
     },
     "execution_count": 133,
     "metadata": {},
     "output_type": "execute_result"
    }
   ],
   "source": [
    "show_cfg(gcd)"
   ]
  },
  {
   "cell_type": "code",
   "execution_count": 134,
   "metadata": {
    "execution": {
     "iopub.execute_input": "2023-11-12T12:47:35.129201Z",
     "iopub.status.busy": "2023-11-12T12:47:35.129024Z",
     "iopub.status.idle": "2023-11-12T12:47:35.131012Z",
     "shell.execute_reply": "2023-11-12T12:47:35.130721Z"
    },
    "slideshow": {
     "slide_type": "skip"
    }
   },
   "outputs": [],
   "source": [
    "from ExpectError import ExpectError"
   ]
  },
  {
   "cell_type": "code",
   "execution_count": 135,
   "metadata": {
    "execution": {
     "iopub.execute_input": "2023-11-12T12:47:35.132525Z",
     "iopub.status.busy": "2023-11-12T12:47:35.132414Z",
     "iopub.status.idle": "2023-11-12T12:47:35.138460Z",
     "shell.execute_reply": "2023-11-12T12:47:35.138139Z"
    },
    "slideshow": {
     "slide_type": "subslide"
    }
   },
   "outputs": [
    {
     "name": "stderr",
     "output_type": "stream",
     "text": [
      "Traceback (most recent call last):\n",
      "  File \"/var/folders/n2/xd9445p97rb3xh7m1dfx8_4h0006ts/T/ipykernel_33775/3731434224.py\", line 2, in <cell line: 1>\n",
      "    symfz_gcd = SimpleSymbolicFuzzer(gcd, max_depth=1000, max_iter=10)\n",
      "  File \"/var/folders/n2/xd9445p97rb3xh7m1dfx8_4h0006ts/T/ipykernel_33775/2089833100.py\", line 26, in __init__\n",
      "    self.process()\n",
      "  File \"/var/folders/n2/xd9445p97rb3xh7m1dfx8_4h0006ts/T/ipykernel_33775/4234366425.py\", line 3, in process\n",
      "    self.paths = self.get_all_paths(self.fnenter)\n",
      "  File \"/var/folders/n2/xd9445p97rb3xh7m1dfx8_4h0006ts/T/ipykernel_33775/228300930.py\", line 10, in get_all_paths\n",
      "    child_paths = self.get_all_paths(child, depth + 1)\n",
      "  File \"/var/folders/n2/xd9445p97rb3xh7m1dfx8_4h0006ts/T/ipykernel_33775/228300930.py\", line 10, in get_all_paths\n",
      "    child_paths = self.get_all_paths(child, depth + 1)\n",
      "  File \"/var/folders/n2/xd9445p97rb3xh7m1dfx8_4h0006ts/T/ipykernel_33775/228300930.py\", line 10, in get_all_paths\n",
      "    child_paths = self.get_all_paths(child, depth + 1)\n",
      "  [Previous line repeated 998 more times]\n",
      "  File \"/var/folders/n2/xd9445p97rb3xh7m1dfx8_4h0006ts/T/ipykernel_33775/228300930.py\", line 4, in get_all_paths\n",
      "    raise Exception('Maximum depth exceeded')\n",
      "Exception: Maximum depth exceeded (expected)\n"
     ]
    }
   ],
   "source": [
    "with ExpectError():\n",
    "    symfz_gcd = SimpleSymbolicFuzzer(gcd, max_depth=1000, max_iter=10)\n",
    "    for i in range(1, 100):\n",
    "        r = symfz_gcd.fuzz()\n",
    "        v = gcd(r['a'].as_long(), r['b'].as_long())\n",
    "        print(r, v)"
   ]
  },
  {
   "cell_type": "markdown",
   "metadata": {
    "slideshow": {
     "slide_type": "subslide"
    }
   },
   "source": [
    "The problem here is that our *SimpleSymbolicFuzzer* has no concept of loops and variable reassignments. We will see how to fix this shortcoming next."
   ]
  },
  {
   "cell_type": "markdown",
   "metadata": {
    "slideshow": {
     "slide_type": "slide"
    }
   },
   "source": [
    "## Advanced Symbolic Fuzzing"
   ]
  },
  {
   "cell_type": "markdown",
   "metadata": {
    "slideshow": {
     "slide_type": "fragment"
    }
   },
   "source": [
    "We next define `SymbolicFuzzer` that can deal with reassignments and *unrolling of loops*."
   ]
  },
  {
   "cell_type": "code",
   "execution_count": 136,
   "metadata": {
    "execution": {
     "iopub.execute_input": "2023-11-12T12:47:35.140203Z",
     "iopub.status.busy": "2023-11-12T12:47:35.140094Z",
     "iopub.status.idle": "2023-11-12T12:47:35.141839Z",
     "shell.execute_reply": "2023-11-12T12:47:35.141577Z"
    },
    "slideshow": {
     "slide_type": "fragment"
    }
   },
   "outputs": [],
   "source": [
    "class SymbolicFuzzer(SimpleSymbolicFuzzer):\n",
    "    \"\"\"Symbolic fuzzing with reassignments and loop unrolling\"\"\"\n",
    "\n",
    "    def options(self, kwargs):\n",
    "        super().options(kwargs)"
   ]
  },
  {
   "cell_type": "markdown",
   "metadata": {
    "slideshow": {
     "slide_type": "fragment"
    }
   },
   "source": [
    "Once we allow reassignments and loop unrolling, we have to deal with what to call the new variables generated. This is what we will tackle next."
   ]
  },
  {
   "attachments": {},
   "cell_type": "markdown",
   "metadata": {
    "slideshow": {
     "slide_type": "subslide"
    }
   },
   "source": [
    "### Dealing with Reassignments\n",
    "\n",
    "We want to rename all variables present in an expression such that the variables are annotated with their usage count. This makes it possible to determine variable reassignments.  To do that, we define the `rename_variables()` function that, when given an `env` that contains the current usage index of different variables, renames the variables in the passed AST node with the annotations, and returns a copy with the modifications. Note that we can't use [NodeTransformer](https://docs.python.org/3/library/ast.html#ast.NodeTransformer) here as it would modify the AST.\n",
    "\n",
    "That is, if the expression is `env[v] == 1`, `v` is renamed to `_v_1`"
   ]
  },
  {
   "cell_type": "code",
   "execution_count": 137,
   "metadata": {
    "execution": {
     "iopub.execute_input": "2023-11-12T12:47:35.143278Z",
     "iopub.status.busy": "2023-11-12T12:47:35.143177Z",
     "iopub.status.idle": "2023-11-12T12:47:35.147201Z",
     "shell.execute_reply": "2023-11-12T12:47:35.146916Z"
    },
    "slideshow": {
     "slide_type": "subslide"
    }
   },
   "outputs": [],
   "source": [
    "def rename_variables(astnode, env):\n",
    "    if isinstance(astnode, ast.BoolOp):\n",
    "        fn = 'z3.And' if isinstance(astnode.op, ast.And) else 'z3.Or'\n",
    "        return ast.Call(\n",
    "            ast.Name(fn, None),\n",
    "            [rename_variables(i, env) for i in astnode.values], [])\n",
    "    elif isinstance(astnode, ast.BinOp):\n",
    "        return ast.BinOp(\n",
    "            rename_variables(astnode.left, env), astnode.op,\n",
    "            rename_variables(astnode.right, env))\n",
    "    elif isinstance(astnode, ast.UnaryOp):\n",
    "        if isinstance(astnode.op, ast.Not):\n",
    "            return ast.Call(\n",
    "                ast.Name('z3.Not', None),\n",
    "                [rename_variables(astnode.operand, env)], [])\n",
    "        else:\n",
    "            return ast.UnaryOp(astnode.op,\n",
    "                               rename_variables(astnode.operand, env))\n",
    "    elif isinstance(astnode, ast.Call):\n",
    "        return ast.Call(astnode.func,\n",
    "                        [rename_variables(i, env) for i in astnode.args],\n",
    "                        astnode.keywords)\n",
    "    elif isinstance(astnode, ast.Compare):\n",
    "        return ast.Compare(\n",
    "            rename_variables(astnode.left, env), astnode.ops,\n",
    "            [rename_variables(i, env) for i in astnode.comparators])\n",
    "    elif isinstance(astnode, ast.Name):\n",
    "        if astnode.id not in env:\n",
    "            env[astnode.id] = 0\n",
    "        num = env[astnode.id]\n",
    "        return ast.Name('_%s_%d' % (astnode.id, num), astnode.ctx)\n",
    "    elif isinstance(astnode, ast.Return):\n",
    "        return ast.Return(rename_variables(astnode.value, env))\n",
    "    else:\n",
    "        return astnode"
   ]
  },
  {
   "cell_type": "markdown",
   "metadata": {
    "slideshow": {
     "slide_type": "subslide"
    }
   },
   "source": [
    "To verify that it works as intended, we start with an environment."
   ]
  },
  {
   "cell_type": "code",
   "execution_count": 138,
   "metadata": {
    "execution": {
     "iopub.execute_input": "2023-11-12T12:47:35.148704Z",
     "iopub.status.busy": "2023-11-12T12:47:35.148612Z",
     "iopub.status.idle": "2023-11-12T12:47:35.150369Z",
     "shell.execute_reply": "2023-11-12T12:47:35.150075Z"
    },
    "slideshow": {
     "slide_type": "fragment"
    }
   },
   "outputs": [],
   "source": [
    "env = {'x': 1}"
   ]
  },
  {
   "cell_type": "code",
   "execution_count": 139,
   "metadata": {
    "execution": {
     "iopub.execute_input": "2023-11-12T12:47:35.151693Z",
     "iopub.status.busy": "2023-11-12T12:47:35.151608Z",
     "iopub.status.idle": "2023-11-12T12:47:35.153690Z",
     "shell.execute_reply": "2023-11-12T12:47:35.153418Z"
    },
    "slideshow": {
     "slide_type": "fragment"
    }
   },
   "outputs": [
    {
     "data": {
      "text/plain": [
       "ast.BoolOp"
      ]
     },
     "execution_count": 139,
     "metadata": {},
     "output_type": "execute_result"
    }
   ],
   "source": [
    "ba = get_expression('x == 1 and y == 2')\n",
    "type(ba)"
   ]
  },
  {
   "cell_type": "code",
   "execution_count": 140,
   "metadata": {
    "execution": {
     "iopub.execute_input": "2023-11-12T12:47:35.155132Z",
     "iopub.status.busy": "2023-11-12T12:47:35.155038Z",
     "iopub.status.idle": "2023-11-12T12:47:35.156758Z",
     "shell.execute_reply": "2023-11-12T12:47:35.156496Z"
    },
    "slideshow": {
     "slide_type": "fragment"
    }
   },
   "outputs": [],
   "source": [
    "assert to_src(rename_variables(ba, env)) == 'z3.And(_x_1 == 1, _y_0 == 2)'"
   ]
  },
  {
   "cell_type": "code",
   "execution_count": 141,
   "metadata": {
    "execution": {
     "iopub.execute_input": "2023-11-12T12:47:35.158236Z",
     "iopub.status.busy": "2023-11-12T12:47:35.158144Z",
     "iopub.status.idle": "2023-11-12T12:47:35.160367Z",
     "shell.execute_reply": "2023-11-12T12:47:35.160092Z"
    },
    "slideshow": {
     "slide_type": "fragment"
    }
   },
   "outputs": [
    {
     "data": {
      "text/plain": [
       "ast.Or"
      ]
     },
     "execution_count": 141,
     "metadata": {},
     "output_type": "execute_result"
    }
   ],
   "source": [
    "bo = get_expression('x == 1 or y == 2')\n",
    "type(bo.op)"
   ]
  },
  {
   "cell_type": "code",
   "execution_count": 142,
   "metadata": {
    "execution": {
     "iopub.execute_input": "2023-11-12T12:47:35.161883Z",
     "iopub.status.busy": "2023-11-12T12:47:35.161785Z",
     "iopub.status.idle": "2023-11-12T12:47:35.163531Z",
     "shell.execute_reply": "2023-11-12T12:47:35.163253Z"
    },
    "slideshow": {
     "slide_type": "fragment"
    }
   },
   "outputs": [],
   "source": [
    "assert to_src(rename_variables(bo, env)) == 'z3.Or(_x_1 == 1, _y_0 == 2)'"
   ]
  },
  {
   "cell_type": "code",
   "execution_count": 143,
   "metadata": {
    "execution": {
     "iopub.execute_input": "2023-11-12T12:47:35.165108Z",
     "iopub.status.busy": "2023-11-12T12:47:35.165004Z",
     "iopub.status.idle": "2023-11-12T12:47:35.167416Z",
     "shell.execute_reply": "2023-11-12T12:47:35.167155Z"
    },
    "slideshow": {
     "slide_type": "fragment"
    }
   },
   "outputs": [
    {
     "data": {
      "text/plain": [
       "ast.BinOp"
      ]
     },
     "execution_count": 143,
     "metadata": {},
     "output_type": "execute_result"
    }
   ],
   "source": [
    "b = get_expression('x + y')\n",
    "type(b)"
   ]
  },
  {
   "cell_type": "code",
   "execution_count": 144,
   "metadata": {
    "execution": {
     "iopub.execute_input": "2023-11-12T12:47:35.168783Z",
     "iopub.status.busy": "2023-11-12T12:47:35.168699Z",
     "iopub.status.idle": "2023-11-12T12:47:35.170527Z",
     "shell.execute_reply": "2023-11-12T12:47:35.170287Z"
    },
    "slideshow": {
     "slide_type": "fragment"
    }
   },
   "outputs": [],
   "source": [
    "assert to_src(rename_variables(b, env)) == '_x_1 + _y_0'"
   ]
  },
  {
   "cell_type": "code",
   "execution_count": 145,
   "metadata": {
    "execution": {
     "iopub.execute_input": "2023-11-12T12:47:35.171977Z",
     "iopub.status.busy": "2023-11-12T12:47:35.171893Z",
     "iopub.status.idle": "2023-11-12T12:47:35.174130Z",
     "shell.execute_reply": "2023-11-12T12:47:35.173876Z"
    },
    "slideshow": {
     "slide_type": "subslide"
    }
   },
   "outputs": [
    {
     "data": {
      "text/plain": [
       "ast.UnaryOp"
      ]
     },
     "execution_count": 145,
     "metadata": {},
     "output_type": "execute_result"
    }
   ],
   "source": [
    "u = get_expression('-y')\n",
    "type(u)"
   ]
  },
  {
   "cell_type": "code",
   "execution_count": 146,
   "metadata": {
    "execution": {
     "iopub.execute_input": "2023-11-12T12:47:35.175708Z",
     "iopub.status.busy": "2023-11-12T12:47:35.175622Z",
     "iopub.status.idle": "2023-11-12T12:47:35.177310Z",
     "shell.execute_reply": "2023-11-12T12:47:35.177031Z"
    },
    "slideshow": {
     "slide_type": "fragment"
    }
   },
   "outputs": [],
   "source": [
    "assert to_src(rename_variables(u, env)) == '-_y_0'"
   ]
  },
  {
   "cell_type": "code",
   "execution_count": 147,
   "metadata": {
    "execution": {
     "iopub.execute_input": "2023-11-12T12:47:35.178687Z",
     "iopub.status.busy": "2023-11-12T12:47:35.178605Z",
     "iopub.status.idle": "2023-11-12T12:47:35.180878Z",
     "shell.execute_reply": "2023-11-12T12:47:35.180638Z"
    },
    "slideshow": {
     "slide_type": "fragment"
    }
   },
   "outputs": [
    {
     "data": {
      "text/plain": [
       "ast.Not"
      ]
     },
     "execution_count": 147,
     "metadata": {},
     "output_type": "execute_result"
    }
   ],
   "source": [
    "un = get_expression('not y')\n",
    "type(un.op)"
   ]
  },
  {
   "cell_type": "code",
   "execution_count": 148,
   "metadata": {
    "execution": {
     "iopub.execute_input": "2023-11-12T12:47:35.182226Z",
     "iopub.status.busy": "2023-11-12T12:47:35.182120Z",
     "iopub.status.idle": "2023-11-12T12:47:35.183844Z",
     "shell.execute_reply": "2023-11-12T12:47:35.183606Z"
    },
    "slideshow": {
     "slide_type": "fragment"
    }
   },
   "outputs": [],
   "source": [
    "assert to_src(rename_variables(un, env)) == 'z3.Not(_y_0)'"
   ]
  },
  {
   "cell_type": "code",
   "execution_count": 149,
   "metadata": {
    "execution": {
     "iopub.execute_input": "2023-11-12T12:47:35.185154Z",
     "iopub.status.busy": "2023-11-12T12:47:35.185070Z",
     "iopub.status.idle": "2023-11-12T12:47:35.187381Z",
     "shell.execute_reply": "2023-11-12T12:47:35.187073Z"
    },
    "slideshow": {
     "slide_type": "fragment"
    }
   },
   "outputs": [
    {
     "data": {
      "text/plain": [
       "ast.Compare"
      ]
     },
     "execution_count": 149,
     "metadata": {},
     "output_type": "execute_result"
    }
   ],
   "source": [
    "c = get_expression('x == y')\n",
    "type(c)"
   ]
  },
  {
   "cell_type": "code",
   "execution_count": 150,
   "metadata": {
    "execution": {
     "iopub.execute_input": "2023-11-12T12:47:35.188835Z",
     "iopub.status.busy": "2023-11-12T12:47:35.188736Z",
     "iopub.status.idle": "2023-11-12T12:47:35.190402Z",
     "shell.execute_reply": "2023-11-12T12:47:35.190147Z"
    },
    "slideshow": {
     "slide_type": "fragment"
    }
   },
   "outputs": [],
   "source": [
    "assert to_src(rename_variables(c, env)) == '_x_1 == _y_0'"
   ]
  },
  {
   "cell_type": "code",
   "execution_count": 151,
   "metadata": {
    "execution": {
     "iopub.execute_input": "2023-11-12T12:47:35.191725Z",
     "iopub.status.busy": "2023-11-12T12:47:35.191647Z",
     "iopub.status.idle": "2023-11-12T12:47:35.193634Z",
     "shell.execute_reply": "2023-11-12T12:47:35.193374Z"
    },
    "slideshow": {
     "slide_type": "fragment"
    }
   },
   "outputs": [
    {
     "data": {
      "text/plain": [
       "ast.Call"
      ]
     },
     "execution_count": 151,
     "metadata": {},
     "output_type": "execute_result"
    }
   ],
   "source": [
    "f = get_expression('fn(x,y)')\n",
    "type(f)"
   ]
  },
  {
   "cell_type": "code",
   "execution_count": 152,
   "metadata": {
    "execution": {
     "iopub.execute_input": "2023-11-12T12:47:35.195027Z",
     "iopub.status.busy": "2023-11-12T12:47:35.194935Z",
     "iopub.status.idle": "2023-11-12T12:47:35.196644Z",
     "shell.execute_reply": "2023-11-12T12:47:35.196389Z"
    },
    "slideshow": {
     "slide_type": "subslide"
    }
   },
   "outputs": [],
   "source": [
    "assert to_src(rename_variables(f, env)) == 'fn(_x_1, _y_0)'"
   ]
  },
  {
   "cell_type": "code",
   "execution_count": 153,
   "metadata": {
    "execution": {
     "iopub.execute_input": "2023-11-12T12:47:35.197975Z",
     "iopub.status.busy": "2023-11-12T12:47:35.197897Z",
     "iopub.status.idle": "2023-11-12T12:47:35.199955Z",
     "shell.execute_reply": "2023-11-12T12:47:35.199699Z"
    },
    "slideshow": {
     "slide_type": "fragment"
    }
   },
   "outputs": [
    {
     "data": {
      "text/plain": [
       "{'x': 1, 'y': 0}"
      ]
     },
     "execution_count": 153,
     "metadata": {},
     "output_type": "execute_result"
    }
   ],
   "source": [
    "env"
   ]
  },
  {
   "cell_type": "markdown",
   "metadata": {
    "slideshow": {
     "slide_type": "fragment"
    }
   },
   "source": [
    "Next, we want to process the CFG, and correctly transform the paths."
   ]
  },
  {
   "cell_type": "markdown",
   "metadata": {
    "slideshow": {
     "slide_type": "subslide"
    }
   },
   "source": [
    "### Tracking Assignments\n",
    "\n",
    "For keeping track of assignments in the CFG, We define a data structure `PNode` that stores the current CFG node."
   ]
  },
  {
   "cell_type": "code",
   "execution_count": 154,
   "metadata": {
    "execution": {
     "iopub.execute_input": "2023-11-12T12:47:35.201391Z",
     "iopub.status.busy": "2023-11-12T12:47:35.201307Z",
     "iopub.status.idle": "2023-11-12T12:47:35.203560Z",
     "shell.execute_reply": "2023-11-12T12:47:35.203300Z"
    },
    "slideshow": {
     "slide_type": "fragment"
    }
   },
   "outputs": [],
   "source": [
    "class PNode:\n",
    "    def __init__(self, idx, cfgnode, parent=None, order=0, seen=None):\n",
    "        self.seen = {} if seen is None else seen\n",
    "        self.max_iter = MAX_ITER\n",
    "        self.idx, self.cfgnode, self.parent, self.order = idx, cfgnode, parent, order\n",
    "\n",
    "    def __repr__(self):\n",
    "        return \"PNode:%d[%s order:%d]\" % (self.idx, str(self.cfgnode),\n",
    "                                          self.order)"
   ]
  },
  {
   "cell_type": "markdown",
   "metadata": {
    "slideshow": {
     "slide_type": "fragment"
    }
   },
   "source": [
    "Defining a new `PNode` is done as follows."
   ]
  },
  {
   "cell_type": "code",
   "execution_count": 155,
   "metadata": {
    "execution": {
     "iopub.execute_input": "2023-11-12T12:47:35.204980Z",
     "iopub.status.busy": "2023-11-12T12:47:35.204875Z",
     "iopub.status.idle": "2023-11-12T12:47:35.207076Z",
     "shell.execute_reply": "2023-11-12T12:47:35.206831Z"
    },
    "slideshow": {
     "slide_type": "subslide"
    }
   },
   "outputs": [],
   "source": [
    "cfg = PyCFG()\n",
    "cfg.gen_cfg(inspect.getsource(gcd))\n",
    "gcd_fnenter, _ = cfg.functions['gcd']"
   ]
  },
  {
   "cell_type": "code",
   "execution_count": 156,
   "metadata": {
    "execution": {
     "iopub.execute_input": "2023-11-12T12:47:35.208506Z",
     "iopub.status.busy": "2023-11-12T12:47:35.208404Z",
     "iopub.status.idle": "2023-11-12T12:47:35.210480Z",
     "shell.execute_reply": "2023-11-12T12:47:35.210229Z"
    },
    "slideshow": {
     "slide_type": "fragment"
    }
   },
   "outputs": [
    {
     "data": {
      "text/plain": [
       "PNode:0[id:27 line[1] parents: [] : enter: gcd(a, b) order:0]"
      ]
     },
     "execution_count": 156,
     "metadata": {},
     "output_type": "execute_result"
    }
   ],
   "source": [
    "PNode(0, gcd_fnenter)"
   ]
  },
  {
   "cell_type": "markdown",
   "metadata": {
    "slideshow": {
     "slide_type": "fragment"
    }
   },
   "source": [
    "The `copy()` method generates a copy for the child's keep, indicating which path was taken (with `order` of the child)."
   ]
  },
  {
   "cell_type": "code",
   "execution_count": 157,
   "metadata": {
    "execution": {
     "iopub.execute_input": "2023-11-12T12:47:35.211800Z",
     "iopub.status.busy": "2023-11-12T12:47:35.211700Z",
     "iopub.status.idle": "2023-11-12T12:47:35.213594Z",
     "shell.execute_reply": "2023-11-12T12:47:35.213367Z"
    },
    "slideshow": {
     "slide_type": "fragment"
    }
   },
   "outputs": [],
   "source": [
    "class PNode(PNode):\n",
    "    def copy(self, order):\n",
    "        p = PNode(self.idx, self.cfgnode, self.parent, order, self.seen)\n",
    "        assert p.order == order\n",
    "        return p"
   ]
  },
  {
   "cell_type": "markdown",
   "metadata": {
    "slideshow": {
     "slide_type": "fragment"
    }
   },
   "source": [
    "Using the copy operation."
   ]
  },
  {
   "cell_type": "code",
   "execution_count": 158,
   "metadata": {
    "execution": {
     "iopub.execute_input": "2023-11-12T12:47:35.215128Z",
     "iopub.status.busy": "2023-11-12T12:47:35.215007Z",
     "iopub.status.idle": "2023-11-12T12:47:35.217232Z",
     "shell.execute_reply": "2023-11-12T12:47:35.216969Z"
    },
    "slideshow": {
     "slide_type": "fragment"
    }
   },
   "outputs": [
    {
     "data": {
      "text/plain": [
       "PNode:0[id:27 line[1] parents: [] : enter: gcd(a, b) order:1]"
      ]
     },
     "execution_count": 158,
     "metadata": {},
     "output_type": "execute_result"
    }
   ],
   "source": [
    "PNode(0, gcd_fnenter).copy(1)"
   ]
  },
  {
   "attachments": {},
   "cell_type": "markdown",
   "metadata": {
    "slideshow": {
     "slide_type": "subslide"
    }
   },
   "source": [
    "#### Stepwise Exploration of Paths\n",
    "\n",
    "A problem we had with our `SimpleSymbolicFuzzer` is that it explored a path to completion before attempting another. However, this is non-optimal. One may want to explore the graph in a more step-wise manner, expanding every possible execution one step at a time.\n",
    "\n",
    "Hence, we define `explore()` which explores the children of a node if any, one step at a time. If done exhaustively, this will generate all paths from a starting node until no more children are left. We made `PNode` to a container class so that this iteration can be driven from outside, and stopped if say a maximum iteration is complete, or certain paths need to be prioritized."
   ]
  },
  {
   "cell_type": "code",
   "execution_count": 159,
   "metadata": {
    "execution": {
     "iopub.execute_input": "2023-11-12T12:47:35.218802Z",
     "iopub.status.busy": "2023-11-12T12:47:35.218680Z",
     "iopub.status.idle": "2023-11-12T12:47:35.221200Z",
     "shell.execute_reply": "2023-11-12T12:47:35.220938Z"
    },
    "slideshow": {
     "slide_type": "subslide"
    }
   },
   "outputs": [],
   "source": [
    "class PNode(PNode):\n",
    "    def explore(self):\n",
    "        ret = []\n",
    "        for (i, n) in enumerate(self.cfgnode.children):\n",
    "            key = \"[%d]%s\" % (self.idx + 1, n)\n",
    "            ccount = self.seen.get(key, 0)\n",
    "            if ccount > self.max_iter:\n",
    "                continue  # drop this child\n",
    "            self.seen[key] = ccount + 1\n",
    "            pn = PNode(self.idx + 1, n, self.copy(i), seen=self.seen)\n",
    "            ret.append(pn)\n",
    "        return ret"
   ]
  },
  {
   "cell_type": "markdown",
   "metadata": {
    "slideshow": {
     "slide_type": "fragment"
    }
   },
   "source": [
    "We can use `explore()` as follows."
   ]
  },
  {
   "cell_type": "code",
   "execution_count": 160,
   "metadata": {
    "execution": {
     "iopub.execute_input": "2023-11-12T12:47:35.222594Z",
     "iopub.status.busy": "2023-11-12T12:47:35.222488Z",
     "iopub.status.idle": "2023-11-12T12:47:35.224615Z",
     "shell.execute_reply": "2023-11-12T12:47:35.224374Z"
    },
    "slideshow": {
     "slide_type": "fragment"
    }
   },
   "outputs": [
    {
     "data": {
      "text/plain": [
       "[PNode:1[id:29 line[2] parents: [27] : _if: a < b order:0]]"
      ]
     },
     "execution_count": 160,
     "metadata": {},
     "output_type": "execute_result"
    }
   ],
   "source": [
    "PNode(0, gcd_fnenter).explore()"
   ]
  },
  {
   "cell_type": "code",
   "execution_count": 161,
   "metadata": {
    "execution": {
     "iopub.execute_input": "2023-11-12T12:47:35.226055Z",
     "iopub.status.busy": "2023-11-12T12:47:35.225947Z",
     "iopub.status.idle": "2023-11-12T12:47:35.228261Z",
     "shell.execute_reply": "2023-11-12T12:47:35.227902Z"
    },
    "slideshow": {
     "slide_type": "subslide"
    }
   },
   "outputs": [
    {
     "data": {
      "text/plain": [
       "[PNode:2[id:30 line[3] parents: [29] : c: int = a order:0],\n",
       " PNode:2[id:33 line[7] parents: [32, 29, 36] : _while: b != 0 order:0]]"
      ]
     },
     "execution_count": 161,
     "metadata": {},
     "output_type": "execute_result"
    }
   ],
   "source": [
    "PNode(0, gcd_fnenter).explore()[0].explore()"
   ]
  },
  {
   "cell_type": "markdown",
   "metadata": {
    "slideshow": {
     "slide_type": "fragment"
    }
   },
   "source": [
    "The method `get_path_to_root()` recursively goes up through child->parent chain retrieving the complete chain to the topmost parent."
   ]
  },
  {
   "cell_type": "code",
   "execution_count": 162,
   "metadata": {
    "code_folding": [],
    "execution": {
     "iopub.execute_input": "2023-11-12T12:47:35.229804Z",
     "iopub.status.busy": "2023-11-12T12:47:35.229697Z",
     "iopub.status.idle": "2023-11-12T12:47:35.231563Z",
     "shell.execute_reply": "2023-11-12T12:47:35.231315Z"
    },
    "slideshow": {
     "slide_type": "fragment"
    }
   },
   "outputs": [],
   "source": [
    "class PNode(PNode):\n",
    "    def get_path_to_root(self):\n",
    "        path = []\n",
    "        n = self\n",
    "        while n:\n",
    "            path.append(n)\n",
    "            n = n.parent\n",
    "        return list(reversed(path))"
   ]
  },
  {
   "cell_type": "code",
   "execution_count": 163,
   "metadata": {
    "execution": {
     "iopub.execute_input": "2023-11-12T12:47:35.232994Z",
     "iopub.status.busy": "2023-11-12T12:47:35.232882Z",
     "iopub.status.idle": "2023-11-12T12:47:35.235459Z",
     "shell.execute_reply": "2023-11-12T12:47:35.235198Z"
    },
    "slideshow": {
     "slide_type": "subslide"
    }
   },
   "outputs": [
    {
     "data": {
      "text/plain": [
       "[[PNode:0[id:27 line[1] parents: [] : enter: gcd(a, b) order:0],\n",
       "  PNode:1[id:29 line[2] parents: [27] : _if: a < b order:0],\n",
       "  PNode:2[id:30 line[3] parents: [29] : c: int = a order:0],\n",
       "  PNode:3[id:31 line[4] parents: [30] : a = b order:0],\n",
       "  PNode:4[id:32 line[5] parents: [31] : b = c order:0]]]"
      ]
     },
     "execution_count": 163,
     "metadata": {},
     "output_type": "execute_result"
    }
   ],
   "source": [
    "p = PNode(0, gcd_fnenter)\n",
    "[s.get_path_to_root() for s in p.explore()[0].explore()[0].explore()[0].explore()]"
   ]
  },
  {
   "cell_type": "markdown",
   "metadata": {
    "slideshow": {
     "slide_type": "fragment"
    }
   },
   "source": [
    "The string representation of the node is in `z3` solvable form."
   ]
  },
  {
   "cell_type": "code",
   "execution_count": 164,
   "metadata": {
    "execution": {
     "iopub.execute_input": "2023-11-12T12:47:35.236991Z",
     "iopub.status.busy": "2023-11-12T12:47:35.236786Z",
     "iopub.status.idle": "2023-11-12T12:47:35.238917Z",
     "shell.execute_reply": "2023-11-12T12:47:35.238660Z"
    },
    "slideshow": {
     "slide_type": "fragment"
    }
   },
   "outputs": [],
   "source": [
    "class PNode(PNode):\n",
    "    def __str__(self):\n",
    "        path = self.get_path_to_root()\n",
    "        ssa_path = to_single_assignment_predicates(path)\n",
    "        return ', '.join([to_src(p) for p in ssa_path])"
   ]
  },
  {
   "cell_type": "markdown",
   "metadata": {
    "slideshow": {
     "slide_type": "fragment"
    }
   },
   "source": [
    "However, before using it, we need to take care of variable renaming so that reassignments can work."
   ]
  },
  {
   "cell_type": "markdown",
   "metadata": {
    "slideshow": {
     "slide_type": "subslide"
    }
   },
   "source": [
    "#### Renaming Used Variables\n",
    "\n",
    "We need to rename used variables. Any variable `v = xxx` should be renamed to `_v_0` and any later assignment such as `v = v + 1` should be transformed to `_v_1 = _v_0 + 1` and later conditionals such as `v == x` should be transformed to `(_v_1 == _x_0)`. The method `to_single_assignment_predicates()` does this for a given path."
   ]
  },
  {
   "cell_type": "code",
   "execution_count": 165,
   "metadata": {
    "execution": {
     "iopub.execute_input": "2023-11-12T12:47:35.240443Z",
     "iopub.status.busy": "2023-11-12T12:47:35.240331Z",
     "iopub.status.idle": "2023-11-12T12:47:35.245073Z",
     "shell.execute_reply": "2023-11-12T12:47:35.244760Z"
    },
    "slideshow": {
     "slide_type": "subslide"
    }
   },
   "outputs": [],
   "source": [
    "def to_single_assignment_predicates(path):\n",
    "    env = {}\n",
    "    new_path = []\n",
    "    for i, node in enumerate(path):\n",
    "        ast_node = node.cfgnode.ast_node\n",
    "        new_node = None\n",
    "        if isinstance(ast_node, ast.AnnAssign) and ast_node.target.id in {\n",
    "                'exit'}:\n",
    "            new_node = None\n",
    "        elif isinstance(ast_node, ast.AnnAssign) and ast_node.target.id in {'enter'}:\n",
    "            args = [\n",
    "                ast.parse(\n",
    "                    \"%s == _%s_0\" %\n",
    "                    (a.id, a.id)).body[0].value for a in ast_node.annotation.args]\n",
    "            new_node = ast.Call(ast.Name('z3.And', None), args, [])\n",
    "        elif isinstance(ast_node, ast.AnnAssign) and ast_node.target.id in {'_if', '_while'}:\n",
    "            new_node = rename_variables(ast_node.annotation, env)\n",
    "            if node.order != 0:\n",
    "                assert node.order == 1\n",
    "                new_node = ast.Call(ast.Name('z3.Not', None), [new_node], [])\n",
    "        elif isinstance(ast_node, ast.AnnAssign):\n",
    "            assigned = ast_node.target.id\n",
    "            val = [rename_variables(ast_node.value, env)]\n",
    "            env[assigned] = 0 if assigned not in env else env[assigned] + 1\n",
    "            target = ast.Name('_%s_%d' %\n",
    "                              (ast_node.target.id, env[assigned]), None)\n",
    "            new_node = ast.Expr(ast.Compare(target, [ast.Eq()], val))\n",
    "        elif isinstance(ast_node, ast.Assign):\n",
    "            assigned = ast_node.targets[0].id\n",
    "            val = [rename_variables(ast_node.value, env)]\n",
    "            env[assigned] = 0 if assigned not in env else env[assigned] + 1\n",
    "            target = ast.Name('_%s_%d' %\n",
    "                              (ast_node.targets[0].id, env[assigned]), None)\n",
    "            new_node = ast.Expr(ast.Compare(target, [ast.Eq()], val))\n",
    "        elif isinstance(ast_node, (ast.Return, ast.Pass)):\n",
    "            new_node = None\n",
    "        else:\n",
    "            s = \"NI %s %s\" % (type(ast_node), ast_node.target.id)\n",
    "            raise Exception(s)\n",
    "        new_path.append(new_node)\n",
    "    return new_path"
   ]
  },
  {
   "cell_type": "markdown",
   "metadata": {
    "slideshow": {
     "slide_type": "subslide"
    }
   },
   "source": [
    "Here is how it can be used:"
   ]
  },
  {
   "cell_type": "code",
   "execution_count": 166,
   "metadata": {
    "execution": {
     "iopub.execute_input": "2023-11-12T12:47:35.246673Z",
     "iopub.status.busy": "2023-11-12T12:47:35.246580Z",
     "iopub.status.idle": "2023-11-12T12:47:35.248680Z",
     "shell.execute_reply": "2023-11-12T12:47:35.248419Z"
    },
    "slideshow": {
     "slide_type": "fragment"
    }
   },
   "outputs": [],
   "source": [
    "p = PNode(0, gcd_fnenter)\n",
    "path = p.explore()[0].explore()[0].explore()[0].get_path_to_root()\n",
    "spath = to_single_assignment_predicates(path)"
   ]
  },
  {
   "cell_type": "code",
   "execution_count": 167,
   "metadata": {
    "execution": {
     "iopub.execute_input": "2023-11-12T12:47:35.250131Z",
     "iopub.status.busy": "2023-11-12T12:47:35.250043Z",
     "iopub.status.idle": "2023-11-12T12:47:35.252331Z",
     "shell.execute_reply": "2023-11-12T12:47:35.252058Z"
    },
    "slideshow": {
     "slide_type": "fragment"
    }
   },
   "outputs": [
    {
     "data": {
      "text/plain": [
       "['z3.And(a == _a_0, b == _b_0)', '_a_0 < _b_0', '_c_0 == _a_0', '_a_1 == _b_0']"
      ]
     },
     "execution_count": 167,
     "metadata": {},
     "output_type": "execute_result"
    }
   ],
   "source": [
    "[to_src(s) for s in spath]"
   ]
  },
  {
   "cell_type": "markdown",
   "metadata": {
    "slideshow": {
     "slide_type": "subslide"
    }
   },
   "source": [
    "#### Check Before You Loop\n",
    "\n",
    "One of the ways in which the *concolic* execution simplifies *symbolic* execution is in the treatment of loops. Rather than trying to determine an invariant for a loop, we simply _unroll_ the loops a number of times until we hit the `MAX_DEPTH` limit.\n",
    "However, not all loops will need to be unrolled until `MAX_DEPTH` is reached. Some of them may exit before. Hence, it is necessary to check whether the given set of constraints can be satisfied before continuing to explore further. "
   ]
  },
  {
   "cell_type": "code",
   "execution_count": 168,
   "metadata": {
    "execution": {
     "iopub.execute_input": "2023-11-12T12:47:35.253828Z",
     "iopub.status.busy": "2023-11-12T12:47:35.253708Z",
     "iopub.status.idle": "2023-11-12T12:47:35.255896Z",
     "shell.execute_reply": "2023-11-12T12:47:35.255643Z"
    },
    "slideshow": {
     "slide_type": "subslide"
    }
   },
   "outputs": [],
   "source": [
    "def identifiers_with_types(identifiers, defined):\n",
    "    with_types = dict(defined)\n",
    "    for i in identifiers:\n",
    "        if i[0] == '_':\n",
    "            nxt = i[1:].find('_', 1)\n",
    "            name = i[1:nxt + 1]\n",
    "            assert name in defined\n",
    "            typ = defined[name]\n",
    "            with_types[i] = typ\n",
    "    return with_types"
   ]
  },
  {
   "cell_type": "markdown",
   "metadata": {
    "slideshow": {
     "slide_type": "fragment"
    }
   },
   "source": [
    "The `extract_constraints()` generates the `z3` constraints from a path. The main work is done by `to_single_assignment_predicates()`. The `extract_constraints()` then converts the AST to source."
   ]
  },
  {
   "cell_type": "code",
   "execution_count": 169,
   "metadata": {
    "execution": {
     "iopub.execute_input": "2023-11-12T12:47:35.257509Z",
     "iopub.status.busy": "2023-11-12T12:47:35.257401Z",
     "iopub.status.idle": "2023-11-12T12:47:35.259282Z",
     "shell.execute_reply": "2023-11-12T12:47:35.258991Z"
    },
    "slideshow": {
     "slide_type": "subslide"
    }
   },
   "outputs": [],
   "source": [
    "class SymbolicFuzzer(SymbolicFuzzer):\n",
    "    def extract_constraints(self, path):\n",
    "        return [to_src(p) for p in to_single_assignment_predicates(path) if p]"
   ]
  },
  {
   "cell_type": "markdown",
   "metadata": {
    "slideshow": {
     "slide_type": "subslide"
    }
   },
   "source": [
    "### Solving Path Constraints\n",
    "\n",
    "We now update our `solve_path_constraint()` method to take into account the new identifiers created during reassignments."
   ]
  },
  {
   "cell_type": "code",
   "execution_count": 170,
   "metadata": {
    "execution": {
     "iopub.execute_input": "2023-11-12T12:47:35.260836Z",
     "iopub.status.busy": "2023-11-12T12:47:35.260710Z",
     "iopub.status.idle": "2023-11-12T12:47:35.263911Z",
     "shell.execute_reply": "2023-11-12T12:47:35.263603Z"
    },
    "slideshow": {
     "slide_type": "subslide"
    }
   },
   "outputs": [],
   "source": [
    "class SymbolicFuzzer(SymbolicFuzzer):\n",
    "    def solve_path_constraint(self, path):\n",
    "        # re-initializing does not seem problematic.\n",
    "        # a = z3.Int('a').get_id() remains the same.\n",
    "        constraints = self.extract_constraints(path)\n",
    "        identifiers = [\n",
    "            c for i in constraints for c in used_identifiers(i)]  # <- changes\n",
    "        with_types = identifiers_with_types(\n",
    "            identifiers, self.used_variables)  # <- changes\n",
    "        decl = define_symbolic_vars(with_types, '')\n",
    "        exec(decl)\n",
    "\n",
    "        solutions = {}\n",
    "        with checkpoint(self.z3):\n",
    "            st = 'self.z3.add(%s)' % ', '.join(constraints)\n",
    "            eval(st)\n",
    "            if self.z3.check() != z3.sat:\n",
    "                return {}\n",
    "            m = self.z3.model()\n",
    "            solutions = {d.name(): m[d] for d in m.decls()}\n",
    "            my_args = {k: solutions.get(k, None) for k in self.fn_args}\n",
    "\n",
    "        predicate = 'z3.And(%s)' % ','.join(\n",
    "            [\"%s == %s\" % (k, v) for k, v in my_args.items()])\n",
    "        eval('self.z3.add(z3.Not(%s))' % predicate)\n",
    "\n",
    "        return my_args"
   ]
  },
  {
   "cell_type": "markdown",
   "metadata": {
    "slideshow": {
     "slide_type": "subslide"
    }
   },
   "source": [
    "### Generating All Paths"
   ]
  },
  {
   "cell_type": "markdown",
   "metadata": {
    "slideshow": {
     "slide_type": "fragment"
    }
   },
   "source": [
    "The `get_all_paths()` is now similarly updated so that we unroll loops only to a specified height. It is also converted to an iterative exploration style so that we explore the CFG in a breadth first manner."
   ]
  },
  {
   "cell_type": "code",
   "execution_count": 171,
   "metadata": {
    "execution": {
     "iopub.execute_input": "2023-11-12T12:47:35.265409Z",
     "iopub.status.busy": "2023-11-12T12:47:35.265312Z",
     "iopub.status.idle": "2023-11-12T12:47:35.267946Z",
     "shell.execute_reply": "2023-11-12T12:47:35.267680Z"
    },
    "slideshow": {
     "slide_type": "subslide"
    }
   },
   "outputs": [],
   "source": [
    "class SymbolicFuzzer(SymbolicFuzzer):\n",
    "    def get_all_paths(self, fenter):\n",
    "        path_lst = [PNode(0, fenter)]\n",
    "        completed = []\n",
    "        for i in range(self.max_iter):\n",
    "            new_paths = [PNode(0, fenter)]\n",
    "            for path in path_lst:\n",
    "                # explore each path once\n",
    "                if path.cfgnode.children:\n",
    "                    np = path.explore()\n",
    "                    for p in np:\n",
    "                        if path.idx > self.max_depth:\n",
    "                            break\n",
    "                        new_paths.append(p)\n",
    "                else:\n",
    "                    completed.append(path)\n",
    "            path_lst = new_paths\n",
    "        return completed + path_lst"
   ]
  },
  {
   "cell_type": "markdown",
   "metadata": {
    "slideshow": {
     "slide_type": "subslide"
    }
   },
   "source": [
    "We can now obtain all paths using our advanced symbolic fuzzer as follows."
   ]
  },
  {
   "cell_type": "code",
   "execution_count": 172,
   "metadata": {
    "execution": {
     "iopub.execute_input": "2023-11-12T12:47:35.269379Z",
     "iopub.status.busy": "2023-11-12T12:47:35.269293Z",
     "iopub.status.idle": "2023-11-12T12:47:35.273955Z",
     "shell.execute_reply": "2023-11-12T12:47:35.273694Z"
    },
    "slideshow": {
     "slide_type": "fragment"
    }
   },
   "outputs": [],
   "source": [
    "asymfz_gcd = SymbolicFuzzer(\n",
    "    gcd, max_iter=10, max_tries=10, max_depth=10)\n",
    "all_paths = asymfz_gcd.get_all_paths(asymfz_gcd.fnenter)"
   ]
  },
  {
   "cell_type": "code",
   "execution_count": 173,
   "metadata": {
    "execution": {
     "iopub.execute_input": "2023-11-12T12:47:35.275476Z",
     "iopub.status.busy": "2023-11-12T12:47:35.275395Z",
     "iopub.status.idle": "2023-11-12T12:47:35.277569Z",
     "shell.execute_reply": "2023-11-12T12:47:35.277316Z"
    },
    "slideshow": {
     "slide_type": "fragment"
    }
   },
   "outputs": [
    {
     "data": {
      "text/plain": [
       "38"
      ]
     },
     "execution_count": 173,
     "metadata": {},
     "output_type": "execute_result"
    }
   ],
   "source": [
    "len(all_paths)"
   ]
  },
  {
   "cell_type": "code",
   "execution_count": 174,
   "metadata": {
    "execution": {
     "iopub.execute_input": "2023-11-12T12:47:35.279116Z",
     "iopub.status.busy": "2023-11-12T12:47:35.279012Z",
     "iopub.status.idle": "2023-11-12T12:47:35.281308Z",
     "shell.execute_reply": "2023-11-12T12:47:35.281063Z"
    },
    "slideshow": {
     "slide_type": "subslide"
    }
   },
   "outputs": [
    {
     "data": {
      "text/plain": [
       "[PNode:0[id:40 line[1] parents: [] : enter: gcd(a, b) order:0],\n",
       " PNode:1[id:42 line[2] parents: [40] : _if: a < b order:1],\n",
       " PNode:2[id:46 line[7] parents: [45, 42, 49] : _while: b != 0 order:0],\n",
       " PNode:3[id:47 line[8] parents: [46] : c: int = a order:0],\n",
       " PNode:4[id:48 line[9] parents: [47] : a = b order:0],\n",
       " PNode:5[id:49 line[10] parents: [48] : b = c % b order:0],\n",
       " PNode:6[id:46 line[7] parents: [45, 42, 49] : _while: b != 0 order:0],\n",
       " PNode:7[id:47 line[8] parents: [46] : c: int = a order:0],\n",
       " PNode:8[id:48 line[9] parents: [47] : a = b order:0],\n",
       " PNode:9[id:49 line[10] parents: [48] : b = c % b order:0],\n",
       " PNode:10[id:46 line[7] parents: [45, 42, 49] : _while: b != 0 order:0]]"
      ]
     },
     "execution_count": 174,
     "metadata": {},
     "output_type": "execute_result"
    }
   ],
   "source": [
    "all_paths[37].get_path_to_root()"
   ]
  },
  {
   "cell_type": "markdown",
   "metadata": {
    "slideshow": {
     "slide_type": "fragment"
    }
   },
   "source": [
    "We can also list the predicates in each path."
   ]
  },
  {
   "cell_type": "code",
   "execution_count": 175,
   "metadata": {
    "execution": {
     "iopub.execute_input": "2023-11-12T12:47:35.282735Z",
     "iopub.status.busy": "2023-11-12T12:47:35.282634Z",
     "iopub.status.idle": "2023-11-12T12:47:35.284848Z",
     "shell.execute_reply": "2023-11-12T12:47:35.284614Z"
    },
    "slideshow": {
     "slide_type": "subslide"
    }
   },
   "outputs": [
    {
     "name": "stdout",
     "output_type": "stream",
     "text": [
      "z3.And(a == _a_0, b == _b_0)\n",
      "z3.Not(_a_0 < _b_0)\n",
      "_b_0 != 0\n",
      "_c_0 == _a_0\n",
      "_a_1 == _b_0\n",
      "_b_1 == _c_0 % _b_0\n",
      "_b_1 != 0\n",
      "_c_1 == _a_1\n",
      "_a_2 == _b_1\n",
      "_b_2 == _c_1 % _b_1\n",
      "_b_2 != 0\n"
     ]
    }
   ],
   "source": [
    "for s in to_single_assignment_predicates(all_paths[37].get_path_to_root()):\n",
    "    if s is not None:\n",
    "        print(to_src(s))"
   ]
  },
  {
   "cell_type": "code",
   "execution_count": 176,
   "metadata": {
    "execution": {
     "iopub.execute_input": "2023-11-12T12:47:35.286543Z",
     "iopub.status.busy": "2023-11-12T12:47:35.286293Z",
     "iopub.status.idle": "2023-11-12T12:47:35.288480Z",
     "shell.execute_reply": "2023-11-12T12:47:35.288195Z"
    },
    "slideshow": {
     "slide_type": "subslide"
    }
   },
   "outputs": [],
   "source": [
    "constraints = asymfz_gcd.extract_constraints(all_paths[37].get_path_to_root())"
   ]
  },
  {
   "cell_type": "code",
   "execution_count": 177,
   "metadata": {
    "execution": {
     "iopub.execute_input": "2023-11-12T12:47:35.289885Z",
     "iopub.status.busy": "2023-11-12T12:47:35.289780Z",
     "iopub.status.idle": "2023-11-12T12:47:35.291908Z",
     "shell.execute_reply": "2023-11-12T12:47:35.291666Z"
    },
    "slideshow": {
     "slide_type": "fragment"
    }
   },
   "outputs": [
    {
     "data": {
      "text/plain": [
       "['z3.And(a == _a_0, b == _b_0)',\n",
       " 'z3.Not(_a_0 < _b_0)',\n",
       " '_b_0 != 0',\n",
       " '_c_0 == _a_0',\n",
       " '_a_1 == _b_0',\n",
       " '_b_1 == _c_0 % _b_0',\n",
       " '_b_1 != 0',\n",
       " '_c_1 == _a_1',\n",
       " '_a_2 == _b_1',\n",
       " '_b_2 == _c_1 % _b_1',\n",
       " '_b_2 != 0']"
      ]
     },
     "execution_count": 177,
     "metadata": {},
     "output_type": "execute_result"
    }
   ],
   "source": [
    "constraints"
   ]
  },
  {
   "cell_type": "markdown",
   "metadata": {
    "slideshow": {
     "slide_type": "subslide"
    }
   },
   "source": [
    "The constraints printed out demonstrates that our approach for renaming variables was successful. We need only one more piece to complete the puzzle. Our path is still a `PNode`. We need to modify `get_next_path()` so that we return the corresponding predicate chain."
   ]
  },
  {
   "cell_type": "code",
   "execution_count": 178,
   "metadata": {
    "execution": {
     "iopub.execute_input": "2023-11-12T12:47:35.293277Z",
     "iopub.status.busy": "2023-11-12T12:47:35.293180Z",
     "iopub.status.idle": "2023-11-12T12:47:35.295276Z",
     "shell.execute_reply": "2023-11-12T12:47:35.295032Z"
    },
    "slideshow": {
     "slide_type": "fragment"
    }
   },
   "outputs": [],
   "source": [
    "class SymbolicFuzzer(SymbolicFuzzer):\n",
    "    def get_next_path(self):\n",
    "        self.last_path -= 1\n",
    "        if self.last_path == -1:\n",
    "            self.last_path = len(self.paths) - 1\n",
    "        return self.paths[self.last_path].get_path_to_root()"
   ]
  },
  {
   "cell_type": "markdown",
   "metadata": {
    "slideshow": {
     "slide_type": "fragment"
    }
   },
   "source": [
    "We will see next how to use our fuzzer for fuzzing."
   ]
  },
  {
   "cell_type": "markdown",
   "metadata": {
    "slideshow": {
     "slide_type": "subslide"
    }
   },
   "source": [
    "### Fuzzing with Advanced Symbolic Fuzzer\n",
    "\n",
    "We use our advanced symbolic fuzzer on *gcd* to generate plausible inputs."
   ]
  },
  {
   "cell_type": "code",
   "execution_count": 179,
   "metadata": {
    "execution": {
     "iopub.execute_input": "2023-11-12T12:47:35.296761Z",
     "iopub.status.busy": "2023-11-12T12:47:35.296642Z",
     "iopub.status.idle": "2023-11-12T12:47:35.333233Z",
     "shell.execute_reply": "2023-11-12T12:47:35.332932Z"
    },
    "slideshow": {
     "slide_type": "subslide"
    }
   },
   "outputs": [
    {
     "name": "stdout",
     "output_type": "stream",
     "text": [
      "{'a': 8, 'b': 3} result: 1\n",
      "{'a': 1, 'b': 2} result: 1\n",
      "{'a': 2, 'b': 5} result: 1\n",
      "{'a': 5, 'b': 2} result: 1\n",
      "{'a': 3, 'b': 4} result: 1\n",
      "{'a': 9, 'b': 9} result: 9\n",
      "{'a': 7, 'b': 6} result: 1\n",
      "{'a': 5, 'b': 10} result: 5\n",
      "{'a': 3, 'b': 1} result: 1\n",
      "{'a': 10, 'b': 7} result: 1\n"
     ]
    }
   ],
   "source": [
    "asymfz_gcd = SymbolicFuzzer(\n",
    "    gcd, max_tries=10, max_iter=10, max_depth=10)\n",
    "data = []\n",
    "for i in range(10):\n",
    "    r = asymfz_gcd.fuzz()\n",
    "    data.append((r['a'].as_long(), r['b'].as_long()))\n",
    "    v = gcd(*data[-1])\n",
    "    print(r, \"result:\", repr(v))"
   ]
  },
  {
   "cell_type": "markdown",
   "metadata": {
    "slideshow": {
     "slide_type": "subslide"
    }
   },
   "source": [
    "The outputs look reasonable. However, what is the coverage obtained?"
   ]
  },
  {
   "cell_type": "code",
   "execution_count": 180,
   "metadata": {
    "execution": {
     "iopub.execute_input": "2023-11-12T12:47:35.334926Z",
     "iopub.status.busy": "2023-11-12T12:47:35.334806Z",
     "iopub.status.idle": "2023-11-12T12:47:35.527537Z",
     "shell.execute_reply": "2023-11-12T12:47:35.527228Z"
    },
    "slideshow": {
     "slide_type": "fragment"
    }
   },
   "outputs": [],
   "source": [
    "with VisualizedArcCoverage() as cov:\n",
    "    for a, b in data:\n",
    "        gcd(a, b)"
   ]
  },
  {
   "cell_type": "code",
   "execution_count": 181,
   "metadata": {
    "execution": {
     "iopub.execute_input": "2023-11-12T12:47:35.529371Z",
     "iopub.status.busy": "2023-11-12T12:47:35.529281Z",
     "iopub.status.idle": "2023-11-12T12:47:35.531563Z",
     "shell.execute_reply": "2023-11-12T12:47:35.531314Z"
    },
    "slideshow": {
     "slide_type": "subslide"
    }
   },
   "outputs": [
    {
     "name": "stdout",
     "output_type": "stream",
     "text": [
      "#  1: def gcd(a: int, b: int) -> int:\n",
      "#  2:     if a < b:\n",
      "#  3:         c: int = a  # type: ignore\n",
      "#  4:         a = b\n",
      "#  5:         b = c\n",
      "   6: \n",
      "#  7:     while b != 0:\n",
      "#  8:         c: int = a  # type: ignore\n",
      "#  9:         a = b\n",
      "# 10:         b = c % b\n",
      "  11: \n",
      "# 12:     return a\n",
      "  13: \n"
     ]
    }
   ],
   "source": [
    "cov.show_coverage(gcd)"
   ]
  },
  {
   "cell_type": "code",
   "execution_count": 182,
   "metadata": {
    "execution": {
     "iopub.execute_input": "2023-11-12T12:47:35.533425Z",
     "iopub.status.busy": "2023-11-12T12:47:35.533164Z",
     "iopub.status.idle": "2023-11-12T12:47:35.925758Z",
     "shell.execute_reply": "2023-11-12T12:47:35.925369Z"
    },
    "slideshow": {
     "slide_type": "subslide"
    }
   },
   "outputs": [
    {
     "data": {
      "image/svg+xml": [
       "<?xml version=\"1.0\" encoding=\"UTF-8\" standalone=\"no\"?>\n",
       "<!DOCTYPE svg PUBLIC \"-//W3C//DTD SVG 1.1//EN\"\n",
       " \"http://www.w3.org/Graphics/SVG/1.1/DTD/svg11.dtd\">\n",
       "<!-- Generated by graphviz version 9.0.0 (20230911.1827)\n",
       " -->\n",
       "<!-- Pages: 1 -->\n",
       "<svg width=\"282pt\" height=\"636pt\"\n",
       " viewBox=\"0.00 0.00 281.77 636.00\" xmlns=\"http://www.w3.org/2000/svg\" xmlns:xlink=\"http://www.w3.org/1999/xlink\">\n",
       "<g id=\"graph0\" class=\"graph\" transform=\"scale(1 1) rotate(0) translate(4 632)\">\n",
       "<polygon fill=\"white\" stroke=\"none\" points=\"-4,4 -4,-632 277.77,-632 277.77,4 -4,4\"/>\n",
       "<!-- 1 -->\n",
       "<g id=\"node1\" class=\"node\">\n",
       "<title>1</title>\n",
       "<ellipse fill=\"none\" stroke=\"black\" cx=\"173.9\" cy=\"-606\" rx=\"72.19\" ry=\"18\"/>\n",
       "<ellipse fill=\"none\" stroke=\"black\" cx=\"173.9\" cy=\"-606\" rx=\"76.19\" ry=\"22\"/>\n",
       "<text text-anchor=\"middle\" x=\"173.9\" y=\"-599.83\" font-family=\"Times,serif\" font-size=\"14.00\">1: enter: gcd(a, b)</text>\n",
       "</g>\n",
       "<!-- 3 -->\n",
       "<g id=\"node4\" class=\"node\">\n",
       "<title>3</title>\n",
       "<polygon fill=\"none\" stroke=\"black\" points=\"173.9,-548 106.88,-530 173.9,-512 240.91,-530 173.9,-548\"/>\n",
       "<text text-anchor=\"middle\" x=\"173.9\" y=\"-523.83\" font-family=\"Times,serif\" font-size=\"14.00\">2: if: a &lt; b</text>\n",
       "</g>\n",
       "<!-- 1&#45;&gt;3 -->\n",
       "<g id=\"edge2\" class=\"edge\">\n",
       "<title>1&#45;&gt;3</title>\n",
       "<path fill=\"none\" stroke=\"green\" d=\"M173.9,-583.6C173.9,-576.11 173.9,-567.59 173.9,-559.61\"/>\n",
       "<polygon fill=\"green\" stroke=\"green\" points=\"177.4,-559.65 173.9,-549.65 170.4,-559.65 177.4,-559.65\"/>\n",
       "</g>\n",
       "<!-- 2 -->\n",
       "<g id=\"node2\" class=\"node\">\n",
       "<title>2</title>\n",
       "<ellipse fill=\"none\" stroke=\"black\" cx=\"71.9\" cy=\"-94\" rx=\"67.9\" ry=\"18\"/>\n",
       "<ellipse fill=\"none\" stroke=\"black\" cx=\"71.9\" cy=\"-94\" rx=\"71.9\" ry=\"22\"/>\n",
       "<text text-anchor=\"middle\" x=\"71.9\" y=\"-87.83\" font-family=\"Times,serif\" font-size=\"14.00\">1: exit: gcd(a, b)</text>\n",
       "</g>\n",
       "<!-- 11 -->\n",
       "<g id=\"node3\" class=\"node\">\n",
       "<title>11</title>\n",
       "<polygon fill=\"none\" stroke=\"black\" points=\"111.4,-188 32.4,-188 32.4,-152 111.4,-152 111.4,-188\"/>\n",
       "<text text-anchor=\"middle\" x=\"71.9\" y=\"-163.82\" font-family=\"Times,serif\" font-size=\"14.00\">12: return a</text>\n",
       "</g>\n",
       "<!-- 11&#45;&gt;2 -->\n",
       "<g id=\"edge1\" class=\"edge\">\n",
       "<title>11&#45;&gt;2</title>\n",
       "<path fill=\"none\" stroke=\"green\" d=\"M71.9,-151.84C71.9,-144.64 71.9,-136.02 71.9,-127.7\"/>\n",
       "<polygon fill=\"green\" stroke=\"green\" points=\"75.4,-127.82 71.9,-117.82 68.4,-127.82 75.4,-127.82\"/>\n",
       "</g>\n",
       "<!-- 4 -->\n",
       "<g id=\"node5\" class=\"node\">\n",
       "<title>4</title>\n",
       "<ellipse fill=\"none\" stroke=\"black\" cx=\"134.9\" cy=\"-458\" rx=\"50.72\" ry=\"18\"/>\n",
       "<text text-anchor=\"middle\" x=\"134.9\" y=\"-451.82\" font-family=\"Times,serif\" font-size=\"14.00\">3: c: int = a</text>\n",
       "</g>\n",
       "<!-- 3&#45;&gt;4 -->\n",
       "<g id=\"edge3\" class=\"edge\">\n",
       "<title>3&#45;&gt;4</title>\n",
       "<path fill=\"none\" stroke=\"green\" d=\"M165.43,-513.81C160.89,-505.66 155.16,-495.37 149.89,-485.92\"/>\n",
       "<polygon fill=\"green\" stroke=\"green\" points=\"153.1,-484.48 145.17,-477.45 146.98,-487.89 153.1,-484.48\"/>\n",
       "</g>\n",
       "<!-- 7 -->\n",
       "<g id=\"node8\" class=\"node\">\n",
       "<title>7</title>\n",
       "<polygon fill=\"none\" stroke=\"black\" points=\"179.9,-260 88.6,-242 179.9,-224 271.19,-242 179.9,-260\"/>\n",
       "<text text-anchor=\"middle\" x=\"179.9\" y=\"-235.82\" font-family=\"Times,serif\" font-size=\"14.00\">7: while: b != 0</text>\n",
       "</g>\n",
       "<!-- 3&#45;&gt;7 -->\n",
       "<g id=\"edge7\" class=\"edge\">\n",
       "<title>3&#45;&gt;7</title>\n",
       "<path fill=\"none\" stroke=\"green\" d=\"M181.75,-513.7C186.6,-503.35 192.37,-489.22 194.9,-476 208.86,-402.85 195.05,-314.68 186.15,-270.74\"/>\n",
       "<polygon fill=\"green\" stroke=\"green\" points=\"189.59,-270.11 184.1,-261.04 182.74,-271.55 189.59,-270.11\"/>\n",
       "</g>\n",
       "<!-- 5 -->\n",
       "<g id=\"node6\" class=\"node\">\n",
       "<title>5</title>\n",
       "<polygon fill=\"none\" stroke=\"black\" points=\"175.27,-404 116.52,-404 116.52,-368 175.27,-368 175.27,-404\"/>\n",
       "<text text-anchor=\"middle\" x=\"145.9\" y=\"-379.82\" font-family=\"Times,serif\" font-size=\"14.00\">4: a = b</text>\n",
       "</g>\n",
       "<!-- 4&#45;&gt;5 -->\n",
       "<g id=\"edge4\" class=\"edge\">\n",
       "<title>4&#45;&gt;5</title>\n",
       "<path fill=\"none\" stroke=\"green\" d=\"M137.61,-439.7C138.77,-432.32 140.16,-423.52 141.46,-415.25\"/>\n",
       "<polygon fill=\"green\" stroke=\"green\" points=\"144.88,-416.02 142.97,-405.6 137.96,-414.93 144.88,-416.02\"/>\n",
       "</g>\n",
       "<!-- 6 -->\n",
       "<g id=\"node7\" class=\"node\">\n",
       "<title>6</title>\n",
       "<polygon fill=\"none\" stroke=\"black\" points=\"181.27,-332 122.52,-332 122.52,-296 181.27,-296 181.27,-332\"/>\n",
       "<text text-anchor=\"middle\" x=\"151.9\" y=\"-307.82\" font-family=\"Times,serif\" font-size=\"14.00\">5: b = c</text>\n",
       "</g>\n",
       "<!-- 5&#45;&gt;6 -->\n",
       "<g id=\"edge5\" class=\"edge\">\n",
       "<title>5&#45;&gt;6</title>\n",
       "<path fill=\"none\" stroke=\"green\" d=\"M147.38,-367.7C148,-360.41 148.75,-351.73 149.45,-343.54\"/>\n",
       "<polygon fill=\"green\" stroke=\"green\" points=\"152.93,-343.87 150.3,-333.61 145.96,-343.28 152.93,-343.87\"/>\n",
       "</g>\n",
       "<!-- 6&#45;&gt;7 -->\n",
       "<g id=\"edge6\" class=\"edge\">\n",
       "<title>6&#45;&gt;7</title>\n",
       "<path fill=\"none\" stroke=\"green\" d=\"M158.82,-295.7C161.96,-287.84 165.75,-278.37 169.24,-269.63\"/>\n",
       "<polygon fill=\"green\" stroke=\"green\" points=\"172.41,-271.13 172.88,-260.55 165.91,-268.53 172.41,-271.13\"/>\n",
       "</g>\n",
       "<!-- 7&#45;&gt;11 -->\n",
       "<g id=\"edge12\" class=\"edge\">\n",
       "<title>7&#45;&gt;11</title>\n",
       "<path fill=\"none\" stroke=\"green\" d=\"M159.33,-227.67C144.77,-218.23 124.86,-205.33 107.71,-194.22\"/>\n",
       "<polygon fill=\"green\" stroke=\"green\" points=\"110.09,-191.59 99.8,-189.08 106.28,-197.46 110.09,-191.59\"/>\n",
       "</g>\n",
       "<!-- 8 -->\n",
       "<g id=\"node10\" class=\"node\">\n",
       "<title>8</title>\n",
       "<ellipse fill=\"none\" stroke=\"black\" cx=\"179.9\" cy=\"-170\" rx=\"50.72\" ry=\"18\"/>\n",
       "<text text-anchor=\"middle\" x=\"179.9\" y=\"-163.82\" font-family=\"Times,serif\" font-size=\"14.00\">8: c: int = a</text>\n",
       "</g>\n",
       "<!-- 7&#45;&gt;8 -->\n",
       "<g id=\"edge9\" class=\"edge\">\n",
       "<title>7&#45;&gt;8</title>\n",
       "<path fill=\"none\" stroke=\"green\" d=\"M179.9,-223.7C179.9,-216.41 179.9,-207.73 179.9,-199.54\"/>\n",
       "<polygon fill=\"green\" stroke=\"green\" points=\"183.4,-199.62 179.9,-189.62 176.4,-199.62 183.4,-199.62\"/>\n",
       "</g>\n",
       "<!-- 10 -->\n",
       "<g id=\"node9\" class=\"node\">\n",
       "<title>10</title>\n",
       "<polygon fill=\"none\" stroke=\"black\" points=\"273.77,-36 182.02,-36 182.02,0 273.77,0 273.77,-36\"/>\n",
       "<text text-anchor=\"middle\" x=\"227.9\" y=\"-11.82\" font-family=\"Times,serif\" font-size=\"14.00\">10: b = c % b</text>\n",
       "</g>\n",
       "<!-- 10&#45;&gt;7 -->\n",
       "<g id=\"edge8\" class=\"edge\">\n",
       "<title>10&#45;&gt;7</title>\n",
       "<path fill=\"none\" stroke=\"green\" d=\"M234.37,-36.5C245.04,-68.28 262.93,-136.92 239.9,-188 233.87,-201.36 222.62,-212.71 211.48,-221.44\"/>\n",
       "<polygon fill=\"green\" stroke=\"green\" points=\"209.52,-218.53 203.49,-227.25 213.64,-224.2 209.52,-218.53\"/>\n",
       "</g>\n",
       "<!-- 9 -->\n",
       "<g id=\"node11\" class=\"node\">\n",
       "<title>9</title>\n",
       "<polygon fill=\"none\" stroke=\"black\" points=\"226.27,-112 167.52,-112 167.52,-76 226.27,-76 226.27,-112\"/>\n",
       "<text text-anchor=\"middle\" x=\"196.9\" y=\"-87.83\" font-family=\"Times,serif\" font-size=\"14.00\">9: a = b</text>\n",
       "</g>\n",
       "<!-- 8&#45;&gt;9 -->\n",
       "<g id=\"edge10\" class=\"edge\">\n",
       "<title>8&#45;&gt;9</title>\n",
       "<path fill=\"none\" stroke=\"green\" d=\"M183.84,-151.84C185.78,-143.4 188.16,-133.01 190.37,-123.42\"/>\n",
       "<polygon fill=\"green\" stroke=\"green\" points=\"193.75,-124.33 192.58,-113.8 186.93,-122.76 193.75,-124.33\"/>\n",
       "</g>\n",
       "<!-- 9&#45;&gt;10 -->\n",
       "<g id=\"edge11\" class=\"edge\">\n",
       "<title>9&#45;&gt;10</title>\n",
       "<path fill=\"none\" stroke=\"green\" d=\"M204.09,-75.84C207.7,-67.21 212.17,-56.55 216.25,-46.79\"/>\n",
       "<polygon fill=\"green\" stroke=\"green\" points=\"219.42,-48.3 220.05,-37.72 212.96,-45.59 219.42,-48.3\"/>\n",
       "</g>\n",
       "</g>\n",
       "</svg>\n"
      ],
      "text/plain": [
       "<graphviz.graphs.Digraph at 0x10478c7f0>"
      ]
     },
     "execution_count": 182,
     "metadata": {},
     "output_type": "execute_result"
    }
   ],
   "source": [
    "show_cfg(gcd, arcs=cov.arcs())"
   ]
  },
  {
   "attachments": {},
   "cell_type": "markdown",
   "metadata": {
    "slideshow": {
     "slide_type": "fragment"
    }
   },
   "source": [
    "Indeed, both branch and statement coverage visualization seems to indicate that we achieved complete coverage.\n",
    "How do we make use of our fuzzer in practice? We explore a small case study of a program to solve the roots of a quadratic equation."
   ]
  },
  {
   "cell_type": "markdown",
   "metadata": {
    "slideshow": {
     "slide_type": "subslide"
    }
   },
   "source": [
    "#### Example: Roots of a Quadratic Equation\n",
    "Here is the famous equation for finding the roots of a quadratic equation."
   ]
  },
  {
   "cell_type": "code",
   "execution_count": 183,
   "metadata": {
    "execution": {
     "iopub.execute_input": "2023-11-12T12:47:35.927639Z",
     "iopub.status.busy": "2023-11-12T12:47:35.927516Z",
     "iopub.status.idle": "2023-11-12T12:47:35.929363Z",
     "shell.execute_reply": "2023-11-12T12:47:35.929098Z"
    },
    "slideshow": {
     "slide_type": "skip"
    }
   },
   "outputs": [],
   "source": [
    "from typing import Tuple"
   ]
  },
  {
   "cell_type": "code",
   "execution_count": 184,
   "metadata": {
    "execution": {
     "iopub.execute_input": "2023-11-12T12:47:35.930820Z",
     "iopub.status.busy": "2023-11-12T12:47:35.930717Z",
     "iopub.status.idle": "2023-11-12T12:47:35.933161Z",
     "shell.execute_reply": "2023-11-12T12:47:35.932912Z"
    },
    "slideshow": {
     "slide_type": "subslide"
    }
   },
   "outputs": [],
   "source": [
    "def roots(a: float, b: float, c: float) -> Tuple[float, float]:\n",
    "    d: float = b * b - 4 * a * c\n",
    "    ax: float = 0.5 * d\n",
    "    bx: float = 0\n",
    "    while (ax - bx) > 0.1:\n",
    "        bx = 0.5 * (ax + d / ax)\n",
    "        ax = bx\n",
    "\n",
    "    s: float = bx\n",
    "    a2: float = 2 * a\n",
    "    ba2: float = b / a2\n",
    "\n",
    "    return -ba2 + s / a2, -ba2 - s / a2"
   ]
  },
  {
   "cell_type": "markdown",
   "metadata": {
    "slideshow": {
     "slide_type": "subslide"
    }
   },
   "source": [
    "Does the program look correct? Let us investigate if the program is reasonable. But before that, we need a helper\n",
    "function `sym_to_float()` to convert symbolic values to floating point."
   ]
  },
  {
   "cell_type": "code",
   "execution_count": 185,
   "metadata": {
    "execution": {
     "iopub.execute_input": "2023-11-12T12:47:35.934564Z",
     "iopub.status.busy": "2023-11-12T12:47:35.934462Z",
     "iopub.status.idle": "2023-11-12T12:47:35.936476Z",
     "shell.execute_reply": "2023-11-12T12:47:35.936196Z"
    },
    "slideshow": {
     "slide_type": "fragment"
    }
   },
   "outputs": [],
   "source": [
    "def sym_to_float(v):\n",
    "    if v is None:\n",
    "        return math.inf\n",
    "    elif isinstance(v, z3.IntNumRef):\n",
    "        return v.as_long()\n",
    "    return v.numerator_as_long() / v.denominator_as_long()"
   ]
  },
  {
   "cell_type": "markdown",
   "metadata": {
    "slideshow": {
     "slide_type": "fragment"
    }
   },
   "source": [
    "Now we are ready to fuzz."
   ]
  },
  {
   "cell_type": "code",
   "execution_count": 186,
   "metadata": {
    "execution": {
     "iopub.execute_input": "2023-11-12T12:47:35.937972Z",
     "iopub.status.busy": "2023-11-12T12:47:35.937862Z",
     "iopub.status.idle": "2023-11-12T12:47:35.942171Z",
     "shell.execute_reply": "2023-11-12T12:47:35.941883Z"
    },
    "slideshow": {
     "slide_type": "subslide"
    }
   },
   "outputs": [],
   "source": [
    "asymfz_roots = SymbolicFuzzer(\n",
    "    roots,\n",
    "    max_tries=10,\n",
    "    max_iter=10,\n",
    "    max_depth=10)"
   ]
  },
  {
   "cell_type": "code",
   "execution_count": 187,
   "metadata": {
    "execution": {
     "iopub.execute_input": "2023-11-12T12:47:35.943768Z",
     "iopub.status.busy": "2023-11-12T12:47:35.943674Z",
     "iopub.status.idle": "2023-11-12T12:47:35.960577Z",
     "shell.execute_reply": "2023-11-12T12:47:35.960326Z"
    },
    "slideshow": {
     "slide_type": "subslide"
    }
   },
   "outputs": [
    {
     "name": "stdout",
     "output_type": "stream",
     "text": [
      "{'a': 12740931985/17179869184, 'b': -12740931985/8589934592, 'c': -132816557332956785631/218887544784541450240}\n",
      "[0.7416198487044312, -1.4832396974088624, -0.6067798762313895] (2.3483997249358204, -0.3483997249358206)\n",
      "{'a': 0, 'b': 0, 'c': 0}\n"
     ]
    },
    {
     "name": "stderr",
     "output_type": "stream",
     "text": [
      "Traceback (most recent call last):\n",
      "  File \"/var/folders/n2/xd9445p97rb3xh7m1dfx8_4h0006ts/T/ipykernel_33775/94617992.py\", line 6, in <cell line: 1>\n",
      "    v = roots(*d)\n",
      "  File \"/var/folders/n2/xd9445p97rb3xh7m1dfx8_4h0006ts/T/ipykernel_33775/2299859991.py\", line 11, in roots\n",
      "    ba2: float = b / a2\n",
      "ZeroDivisionError: float division by zero (expected)\n"
     ]
    }
   ],
   "source": [
    "with ExpectError():\n",
    "    for i in range(100):\n",
    "        r = asymfz_roots.fuzz()\n",
    "        print(r)\n",
    "        d = [sym_to_float(r[i]) for i in ['a', 'b', 'c']]\n",
    "        v = roots(*d)\n",
    "        print(d, v)"
   ]
  },
  {
   "cell_type": "markdown",
   "metadata": {
    "slideshow": {
     "slide_type": "subslide"
    }
   },
   "source": [
    "We have a `ZeroDivisionError`. Can we eliminate it?"
   ]
  },
  {
   "cell_type": "markdown",
   "metadata": {
    "slideshow": {
     "slide_type": "subslide"
    }
   },
   "source": [
    "#####  Roots - Check Before Divide"
   ]
  },
  {
   "cell_type": "code",
   "execution_count": 188,
   "metadata": {
    "execution": {
     "iopub.execute_input": "2023-11-12T12:47:35.962076Z",
     "iopub.status.busy": "2023-11-12T12:47:35.961982Z",
     "iopub.status.idle": "2023-11-12T12:47:35.964739Z",
     "shell.execute_reply": "2023-11-12T12:47:35.964471Z"
    },
    "slideshow": {
     "slide_type": "subslide"
    }
   },
   "outputs": [],
   "source": [
    "def roots2(a: float, b: float, c: float) -> Tuple[float, float]:\n",
    "    d: float = b * b - 4 * a * c\n",
    "\n",
    "    xa: float = 0.5 * d\n",
    "    xb: float = 0\n",
    "    while (xa - xb) > 0.1:\n",
    "        xb = 0.5 * (xa + d / xa)\n",
    "        xa = xb\n",
    "\n",
    "    s: float = xb\n",
    "\n",
    "    if a == 0:\n",
    "        return -c / b, -c / b  # only one solution\n",
    "\n",
    "    a2: float = 2 * a\n",
    "    ba2: float = b / a2\n",
    "    return -ba2 + s / a2, -ba2 - s / a2"
   ]
  },
  {
   "cell_type": "code",
   "execution_count": 189,
   "metadata": {
    "execution": {
     "iopub.execute_input": "2023-11-12T12:47:35.966271Z",
     "iopub.status.busy": "2023-11-12T12:47:35.966159Z",
     "iopub.status.idle": "2023-11-12T12:47:35.970428Z",
     "shell.execute_reply": "2023-11-12T12:47:35.970158Z"
    },
    "slideshow": {
     "slide_type": "subslide"
    }
   },
   "outputs": [],
   "source": [
    "asymfz_roots = SymbolicFuzzer(\n",
    "    roots2,\n",
    "    max_tries=10,\n",
    "    max_iter=10,\n",
    "    max_depth=10)"
   ]
  },
  {
   "cell_type": "code",
   "execution_count": 190,
   "metadata": {
    "execution": {
     "iopub.execute_input": "2023-11-12T12:47:35.971834Z",
     "iopub.status.busy": "2023-11-12T12:47:35.971748Z",
     "iopub.status.idle": "2023-11-12T12:47:36.016938Z",
     "shell.execute_reply": "2023-11-12T12:47:36.016658Z"
    },
    "slideshow": {
     "slide_type": "subslide"
    }
   },
   "outputs": [
    {
     "name": "stderr",
     "output_type": "stream",
     "text": [
      "Traceback (most recent call last):\n",
      "  File \"/var/folders/n2/xd9445p97rb3xh7m1dfx8_4h0006ts/T/ipykernel_33775/567876003.py\", line 5, in <cell line: 1>\n",
      "    v = roots2(*d)\n",
      "  File \"/var/folders/n2/xd9445p97rb3xh7m1dfx8_4h0006ts/T/ipykernel_33775/714795544.py\", line 13, in roots2\n",
      "    return -c / b, -c / b  # only one solution\n",
      "ZeroDivisionError: float division by zero (expected)\n"
     ]
    }
   ],
   "source": [
    "with ExpectError():\n",
    "    for i in range(1000):\n",
    "        r = asymfz_roots.fuzz()\n",
    "        d = [sym_to_float(r[i]) for i in ['a', 'b', 'c']]\n",
    "        v = roots2(*d)\n",
    "        #print(d, v)"
   ]
  },
  {
   "cell_type": "markdown",
   "metadata": {
    "slideshow": {
     "slide_type": "fragment"
    }
   },
   "source": [
    "Apparently, our fix was incomplete. Let us try again."
   ]
  },
  {
   "cell_type": "markdown",
   "metadata": {
    "slideshow": {
     "slide_type": "subslide"
    }
   },
   "source": [
    "#####  Roots - Eliminating the Zero Division Error"
   ]
  },
  {
   "cell_type": "code",
   "execution_count": 191,
   "metadata": {
    "execution": {
     "iopub.execute_input": "2023-11-12T12:47:36.018508Z",
     "iopub.status.busy": "2023-11-12T12:47:36.018421Z",
     "iopub.status.idle": "2023-11-12T12:47:36.020271Z",
     "shell.execute_reply": "2023-11-12T12:47:36.020000Z"
    },
    "slideshow": {
     "slide_type": "skip"
    }
   },
   "outputs": [],
   "source": [
    "import math"
   ]
  },
  {
   "cell_type": "code",
   "execution_count": 192,
   "metadata": {
    "execution": {
     "iopub.execute_input": "2023-11-12T12:47:36.021893Z",
     "iopub.status.busy": "2023-11-12T12:47:36.021784Z",
     "iopub.status.idle": "2023-11-12T12:47:36.024392Z",
     "shell.execute_reply": "2023-11-12T12:47:36.024124Z"
    },
    "slideshow": {
     "slide_type": "subslide"
    }
   },
   "outputs": [],
   "source": [
    "def roots3(a: float, b: float, c: float) -> Tuple[float, float]:\n",
    "    d: float = b * b - 4 * a * c\n",
    "\n",
    "    xa: float = 0.5 * d\n",
    "    xb: float = 0\n",
    "    while (xa - xb) > 0.1:\n",
    "        xb = 0.5 * (xa + d / xa)\n",
    "        xa = xb\n",
    "    s: float = xb\n",
    "\n",
    "    if a == 0:\n",
    "        if b == 0:\n",
    "            return math.inf, math.inf\n",
    "        return -c / b, -c / b  # only one solution\n",
    "\n",
    "    a2: float = 2 * a\n",
    "    ba2: float = b / a2\n",
    "    return -ba2 + s / a2, -ba2 - s / a2"
   ]
  },
  {
   "cell_type": "code",
   "execution_count": 193,
   "metadata": {
    "execution": {
     "iopub.execute_input": "2023-11-12T12:47:36.026042Z",
     "iopub.status.busy": "2023-11-12T12:47:36.025916Z",
     "iopub.status.idle": "2023-11-12T12:47:36.030641Z",
     "shell.execute_reply": "2023-11-12T12:47:36.030344Z"
    },
    "slideshow": {
     "slide_type": "subslide"
    }
   },
   "outputs": [],
   "source": [
    "asymfz_roots = SymbolicFuzzer(\n",
    "    roots3,\n",
    "    max_tries=10,\n",
    "    max_iter=10,\n",
    "    max_depth=10)"
   ]
  },
  {
   "cell_type": "code",
   "execution_count": 194,
   "metadata": {
    "execution": {
     "iopub.execute_input": "2023-11-12T12:47:36.032225Z",
     "iopub.status.busy": "2023-11-12T12:47:36.032138Z",
     "iopub.status.idle": "2023-11-12T12:47:36.074086Z",
     "shell.execute_reply": "2023-11-12T12:47:36.073802Z"
    },
    "slideshow": {
     "slide_type": "subslide"
    }
   },
   "outputs": [
    {
     "name": "stdout",
     "output_type": "stream",
     "text": [
      "{'a': -1, 'b': 0, 'c': 0}\n",
      "[-1.0, 0.0, 0.0] (0.0, 0.0)\n",
      "{'a': -11/20, 'b': 0, 'c': 1}\n",
      "[-0.55, 0.0, 1.0] (-1.409090909090909, 1.409090909090909)\n",
      "{'a': -31/20, 'b': -1, 'c': -1}\n",
      "[-1.55, -1.0, -1.0] (-0.3225806451612903, -0.3225806451612903)\n",
      "{'a': 0, 'b': 1/4, 'c': 2}\n",
      "[0.0, 0.25, 2.0] (-8.0, -8.0)\n",
      "{'a': 0, 'b': 0, 'c': 3}\n",
      "[0.0, 0.0, 3.0] (inf, inf)\n",
      "{'a': 0, 'b': 203854911761/137438953472, 'c': 4}\n",
      "[0.0, 1.4832396974161384, 4.0] (-2.6967994498584122, -2.6967994498584122)\n",
      "{'a': -11/40, 'b': 0, 'c': 0}\n",
      "[-0.275, 0.0, 0.0] (0.0, 0.0)\n",
      "{'a': 0, 'b': 1/4, 'c': 5}\n",
      "[0.0, 0.25, 5.0] (-20.0, -20.0)\n",
      "{'a': 0, 'b': 0, 'c': 6}\n",
      "[0.0, 0.0, 6.0] (inf, inf)\n",
      "{'a': -53/89, 'b': 0, 'c': 89/40}\n",
      "[-0.5955056179775281, 0.0, 2.225] (-1.9521226415094342, 1.9521226415094342)\n"
     ]
    }
   ],
   "source": [
    "for i in range(10):\n",
    "    r = asymfz_roots.fuzz()\n",
    "    print(r)\n",
    "    d = [sym_to_float(r[i]) for i in ['a', 'b', 'c']]\n",
    "    v = roots3(*d)\n",
    "    print(d, v)"
   ]
  },
  {
   "cell_type": "markdown",
   "metadata": {
    "slideshow": {
     "slide_type": "subslide"
    }
   },
   "source": [
    "With this, we have demonstrated that we can use our *SymbolicFuzzer* to fuzz programs, and it can aid in identifying problems in code."
   ]
  },
  {
   "cell_type": "markdown",
   "metadata": {
    "slideshow": {
     "slide_type": "slide"
    },
    "tags": []
   },
   "source": [
    "## Limitations\n",
    "\n",
    "There is an evident error in the `roots3()` function. We are not checking for negative roots. However, the symbolic execution does not seem to have detected it. Why are we not able to detect the problem of negative roots? Because we stop execution at a predetermined depth without throwing an error. That is, our symbolic execution is wide but shallow. One of the ways this limitation can be overcome is by relying on [concolic execution](ConcolicFuzzer.ipynb), that allows one to go deeper than pure symbolic execution."
   ]
  },
  {
   "cell_type": "markdown",
   "metadata": {
    "jp-MarkdownHeadingCollapsed": true,
    "slideshow": {
     "slide_type": "fragment"
    },
    "tags": []
   },
   "source": [
    "A second problem is that symbolic execution is necessarily computation intensive. This means that specification based fuzzers are often able to generate a much larger set of inputs, and consecutively more coverage on programs that do not check for magic bytes, such that they provide a reasonable gradient of exploration."
   ]
  },
  {
   "cell_type": "markdown",
   "metadata": {
    "slideshow": {
     "slide_type": "slide"
    }
   },
   "source": [
    "## Synopsis"
   ]
  },
  {
   "cell_type": "markdown",
   "metadata": {
    "slideshow": {
     "slide_type": "fragment"
    }
   },
   "source": [
    "This chapter provides an implementation of a symbolic fuzzing engine `SymbolicFuzzer`. The fuzzer uses symbolic execution to exhaustively explore paths in the program to a limited depth, and generate inputs that will reach these paths."
   ]
  },
  {
   "cell_type": "markdown",
   "metadata": {
    "slideshow": {
     "slide_type": "fragment"
    }
   },
   "source": [
    "As an example, consider the function `gcd()`, computing the greatest common divisor of `a` and `b`:"
   ]
  },
  {
   "cell_type": "code",
   "execution_count": 195,
   "metadata": {
    "execution": {
     "iopub.execute_input": "2023-11-12T12:47:36.075802Z",
     "iopub.status.busy": "2023-11-12T12:47:36.075716Z",
     "iopub.status.idle": "2023-11-12T12:47:36.077394Z",
     "shell.execute_reply": "2023-11-12T12:47:36.077146Z"
    },
    "slideshow": {
     "slide_type": "fragment"
    }
   },
   "outputs": [],
   "source": [
    "# ignore\n",
    "from bookutils import print_content"
   ]
  },
  {
   "cell_type": "code",
   "execution_count": 196,
   "metadata": {
    "execution": {
     "iopub.execute_input": "2023-11-12T12:47:36.078871Z",
     "iopub.status.busy": "2023-11-12T12:47:36.078757Z",
     "iopub.status.idle": "2023-11-12T12:47:36.144515Z",
     "shell.execute_reply": "2023-11-12T12:47:36.144220Z"
    },
    "slideshow": {
     "slide_type": "subslide"
    }
   },
   "outputs": [
    {
     "name": "stdout",
     "output_type": "stream",
     "text": [
      "\u001b[34mdef\u001b[39;49;00m \u001b[32mgcd\u001b[39;49;00m(a: \u001b[36mint\u001b[39;49;00m, b: \u001b[36mint\u001b[39;49;00m) -> \u001b[36mint\u001b[39;49;00m:\u001b[37m\u001b[39;49;00m\n",
      "    \u001b[34mif\u001b[39;49;00m a < b:\u001b[37m\u001b[39;49;00m\n",
      "        c: \u001b[36mint\u001b[39;49;00m = a  \u001b[37m# type: ignore\u001b[39;49;00m\u001b[37m\u001b[39;49;00m\n",
      "        a = b\u001b[37m\u001b[39;49;00m\n",
      "        b = c\u001b[37m\u001b[39;49;00m\n",
      "\u001b[37m\u001b[39;49;00m\n",
      "    \u001b[34mwhile\u001b[39;49;00m b != \u001b[34m0\u001b[39;49;00m:\u001b[37m\u001b[39;49;00m\n",
      "        c: \u001b[36mint\u001b[39;49;00m = a  \u001b[37m# type: ignore\u001b[39;49;00m\u001b[37m\u001b[39;49;00m\n",
      "        a = b\u001b[37m\u001b[39;49;00m\n",
      "        b = c % b\u001b[37m\u001b[39;49;00m\n",
      "\u001b[37m\u001b[39;49;00m\n",
      "    \u001b[34mreturn\u001b[39;49;00m a\u001b[37m\u001b[39;49;00m"
     ]
    }
   ],
   "source": [
    "# ignore\n",
    "print_content(inspect.getsource(gcd), '.py')"
   ]
  },
  {
   "cell_type": "markdown",
   "metadata": {
    "slideshow": {
     "slide_type": "subslide"
    }
   },
   "source": [
    "To explore `gcd()`, the fuzzer can be used as follows, producing values for arguments that cover different paths in `gcd()` (including multiple times of loop iterations):"
   ]
  },
  {
   "cell_type": "code",
   "execution_count": 197,
   "metadata": {
    "execution": {
     "iopub.execute_input": "2023-11-12T12:47:36.146214Z",
     "iopub.status.busy": "2023-11-12T12:47:36.146090Z",
     "iopub.status.idle": "2023-11-12T12:47:36.173820Z",
     "shell.execute_reply": "2023-11-12T12:47:36.173531Z"
    },
    "slideshow": {
     "slide_type": "subslide"
    }
   },
   "outputs": [
    {
     "name": "stdout",
     "output_type": "stream",
     "text": [
      "{'a': 8, 'b': 3}\n",
      "{'a': 1, 'b': 2}\n",
      "{'a': 2, 'b': 5}\n",
      "{'a': 7, 'b': 6}\n",
      "{'a': 9, 'b': 10}\n",
      "{'a': 4, 'b': 4}\n",
      "{'a': 10, 'b': 9}\n",
      "{'a': 2, 'b': 10}\n",
      "{'a': 14, 'b': 7}\n",
      "{'a': 3, 'b': 2}\n"
     ]
    }
   ],
   "source": [
    "gcd_fuzzer = SymbolicFuzzer(gcd, max_tries=10, max_iter=10, max_depth=10)\n",
    "for i in range(10):\n",
    "    args = gcd_fuzzer.fuzz()\n",
    "    print(args)"
   ]
  },
  {
   "cell_type": "markdown",
   "metadata": {
    "slideshow": {
     "slide_type": "subslide"
    }
   },
   "source": [
    "Note that the variable values returned by `fuzz()` are Z3 _symbolic_ values; to convert them to Python numbers, use their method `as_long()`:"
   ]
  },
  {
   "cell_type": "code",
   "execution_count": 198,
   "metadata": {
    "execution": {
     "iopub.execute_input": "2023-11-12T12:47:36.175484Z",
     "iopub.status.busy": "2023-11-12T12:47:36.175388Z",
     "iopub.status.idle": "2023-11-12T12:47:36.192160Z",
     "shell.execute_reply": "2023-11-12T12:47:36.191871Z"
    },
    "slideshow": {
     "slide_type": "subslide"
    }
   },
   "outputs": [
    {
     "name": "stdout",
     "output_type": "stream",
     "text": [
      "gcd(0, 8) = 8\n",
      "gcd(-1, 10) = -1\n",
      "gcd(13, 2) = 1\n",
      "gcd(0, 10) = 10\n",
      "gcd(6, 7) = 1\n",
      "gcd(14, 2) = 2\n",
      "gcd(-1, 11) = -1\n",
      "gcd(15, 0) = 15\n",
      "gcd(0, -1) = -1\n",
      "gcd(-3, -2) = -1\n"
     ]
    }
   ],
   "source": [
    "for i in range(10):\n",
    "    args = gcd_fuzzer.fuzz()\n",
    "    a = args['a'].as_long()\n",
    "    b = args['b'].as_long()\n",
    "    d = gcd(a, b)\n",
    "    print(f\"gcd({a}, {b}) = {d}\")"
   ]
  },
  {
   "cell_type": "markdown",
   "metadata": {
    "slideshow": {
     "slide_type": "subslide"
    }
   },
   "source": [
    "The symbolic fuzzer is subject to a number of constraints. First, it requires that the function to be fuzzed has correct type annotations, including all local variables. Second, it solves loops by unrolling them, but only for a fixed amount."
   ]
  },
  {
   "cell_type": "markdown",
   "metadata": {
    "slideshow": {
     "slide_type": "fragment"
    }
   },
   "source": [
    "For programs without loops and variable reassignments, the `SimpleSymbolicFuzzer` is a faster, but more limited alternative."
   ]
  },
  {
   "cell_type": "code",
   "execution_count": 199,
   "metadata": {
    "execution": {
     "iopub.execute_input": "2023-11-12T12:47:36.193917Z",
     "iopub.status.busy": "2023-11-12T12:47:36.193791Z",
     "iopub.status.idle": "2023-11-12T12:47:36.627057Z",
     "shell.execute_reply": "2023-11-12T12:47:36.626639Z"
    },
    "slideshow": {
     "slide_type": "fragment"
    }
   },
   "outputs": [
    {
     "data": {
      "image/svg+xml": [
       "<?xml version=\"1.0\" encoding=\"UTF-8\" standalone=\"no\"?>\n",
       "<!DOCTYPE svg PUBLIC \"-//W3C//DTD SVG 1.1//EN\"\n",
       " \"http://www.w3.org/Graphics/SVG/1.1/DTD/svg11.dtd\">\n",
       "<!-- Generated by graphviz version 9.0.0 (20230911.1827)\n",
       " -->\n",
       "<!-- Pages: 1 -->\n",
       "<svg width=\"300pt\" height=\"376pt\"\n",
       " viewBox=\"0.00 0.00 300.00 376.25\" xmlns=\"http://www.w3.org/2000/svg\" xmlns:xlink=\"http://www.w3.org/1999/xlink\">\n",
       "<g id=\"graph0\" class=\"graph\" transform=\"scale(1 1) rotate(0) translate(4 372.25)\">\n",
       "<g id=\"a_graph0\"><a xlink:title=\"SymbolicFuzzer class hierarchy\">\n",
       "<polygon fill=\"white\" stroke=\"none\" points=\"-4,4 -4,-372.25 296,-372.25 296,4 -4,4\"/>\n",
       "</a>\n",
       "</g>\n",
       "<!-- SymbolicFuzzer -->\n",
       "<g id=\"node1\" class=\"node\">\n",
       "<title>SymbolicFuzzer</title>\n",
       "<g id=\"a_node1\"><a xlink:href=\"#\" xlink:title=\"class SymbolicFuzzer:&#10;Symbolic fuzzing with reassignments and loop unrolling\">\n",
       "<polygon fill=\"none\" stroke=\"black\" points=\"0.38,-0.5 0.38,-90.75 154.38,-90.75 154.38,-0.5 0.38,-0.5\"/>\n",
       "<text text-anchor=\"start\" x=\"28.62\" y=\"-74.45\" font-family=\"Patua One, Helvetica, sans-serif\" font-weight=\"bold\" font-size=\"14.00\" fill=\"#b03a2e\">SymbolicFuzzer</text>\n",
       "<polyline fill=\"none\" stroke=\"black\" points=\"0.38,-64.75 154.38,-64.75\"/>\n",
       "<g id=\"a_node1_0\"><a xlink:href=\"#\" xlink:title=\"SymbolicFuzzer\">\n",
       "<g id=\"a_node1_1\"><a xlink:href=\"#\" xlink:title=\"extract_constraints(self, path)\">\n",
       "<text text-anchor=\"start\" x=\"8.38\" y=\"-52.25\" font-family=\"'Fira Mono', 'Source Code Pro', 'Courier', monospace\" font-style=\"italic\" font-size=\"10.00\">extract_constraints()</text>\n",
       "</a>\n",
       "</g>\n",
       "<g id=\"a_node1_2\"><a xlink:href=\"#\" xlink:title=\"get_all_paths(self, fenter)\">\n",
       "<text text-anchor=\"start\" x=\"8.38\" y=\"-41\" font-family=\"'Fira Mono', 'Source Code Pro', 'Courier', monospace\" font-style=\"italic\" font-size=\"10.00\">get_all_paths()</text>\n",
       "</a>\n",
       "</g>\n",
       "<g id=\"a_node1_3\"><a xlink:href=\"#\" xlink:title=\"get_next_path(self)\">\n",
       "<text text-anchor=\"start\" x=\"8.38\" y=\"-29.75\" font-family=\"'Fira Mono', 'Source Code Pro', 'Courier', monospace\" font-style=\"italic\" font-size=\"10.00\">get_next_path()</text>\n",
       "</a>\n",
       "</g>\n",
       "<g id=\"a_node1_4\"><a xlink:href=\"#\" xlink:title=\"options(self, kwargs)\">\n",
       "<text text-anchor=\"start\" x=\"8.38\" y=\"-18.5\" font-family=\"'Fira Mono', 'Source Code Pro', 'Courier', monospace\" font-style=\"italic\" font-size=\"10.00\">options()</text>\n",
       "</a>\n",
       "</g>\n",
       "<g id=\"a_node1_5\"><a xlink:href=\"#\" xlink:title=\"solve_path_constraint(self, path)\">\n",
       "<text text-anchor=\"start\" x=\"8.38\" y=\"-7.25\" font-family=\"'Fira Mono', 'Source Code Pro', 'Courier', monospace\" font-style=\"italic\" font-size=\"10.00\">solve_path_constraint()</text>\n",
       "</a>\n",
       "</g>\n",
       "</a>\n",
       "</g>\n",
       "</a>\n",
       "</g>\n",
       "</g>\n",
       "<!-- SimpleSymbolicFuzzer -->\n",
       "<g id=\"node2\" class=\"node\">\n",
       "<title>SimpleSymbolicFuzzer</title>\n",
       "<g id=\"a_node2\"><a xlink:href=\"#\" xlink:title=\"class SimpleSymbolicFuzzer:&#10;Simple symbolic fuzzer\">\n",
       "<polygon fill=\"none\" stroke=\"black\" points=\"0,-127.75 0,-251.75 154.75,-251.75 154.75,-127.75 0,-127.75\"/>\n",
       "<text text-anchor=\"start\" x=\"8\" y=\"-235.45\" font-family=\"Patua One, Helvetica, sans-serif\" font-weight=\"bold\" font-size=\"14.00\" fill=\"#b03a2e\">SimpleSymbolicFuzzer</text>\n",
       "<polyline fill=\"none\" stroke=\"black\" points=\"0,-225.75 154.75,-225.75\"/>\n",
       "<g id=\"a_node2_6\"><a xlink:href=\"#\" xlink:title=\"SimpleSymbolicFuzzer\">\n",
       "<g id=\"a_node2_7\"><a xlink:href=\"#\" xlink:title=\"__init__(self, fn, **kwargs):&#10;Constructor.&#10;`fn` is the function to be fuzzed.&#10;Possible keyword parameters:&#10;* `max_depth` &#45; the depth to which one should attempt&#10;to trace the execution (default 100)&#10;* `max_tries` &#45; the maximum number of attempts&#10;we will try to produce a value before giving up (default 100)&#10;* `max_iter` &#45; the number of iterations we will attempt (default 100).\">\n",
       "<text text-anchor=\"start\" x=\"8.38\" y=\"-213.25\" font-family=\"'Fira Mono', 'Source Code Pro', 'Courier', monospace\" font-weight=\"bold\" font-style=\"italic\" font-size=\"10.00\">__init__()</text>\n",
       "</a>\n",
       "</g>\n",
       "<g id=\"a_node2_8\"><a xlink:href=\"#\" xlink:title=\"fuzz(self):&#10;Produce one solution for each path.&#10;Returns a mapping of variable names to (symbolic) Z3 values.\">\n",
       "<text text-anchor=\"start\" x=\"8.38\" y=\"-202\" font-family=\"'Fira Mono', 'Source Code Pro', 'Courier', monospace\" font-weight=\"bold\" font-style=\"italic\" font-size=\"10.00\">fuzz()</text>\n",
       "</a>\n",
       "</g>\n",
       "<g id=\"a_node2_9\"><a xlink:href=\"#\" xlink:title=\"extract_constraints(self, path)\">\n",
       "<text text-anchor=\"start\" x=\"8.38\" y=\"-190.75\" font-family=\"'Fira Mono', 'Source Code Pro', 'Courier', monospace\" font-style=\"italic\" font-size=\"10.00\">extract_constraints()</text>\n",
       "</a>\n",
       "</g>\n",
       "<g id=\"a_node2_10\"><a xlink:href=\"#\" xlink:title=\"get_all_paths(self, fenter, depth=0)\">\n",
       "<text text-anchor=\"start\" x=\"8.38\" y=\"-179.5\" font-family=\"'Fira Mono', 'Source Code Pro', 'Courier', monospace\" font-style=\"italic\" font-size=\"10.00\">get_all_paths()</text>\n",
       "</a>\n",
       "</g>\n",
       "<g id=\"a_node2_11\"><a xlink:href=\"#\" xlink:title=\"get_next_path(self)\">\n",
       "<text text-anchor=\"start\" x=\"8.38\" y=\"-168.25\" font-family=\"'Fira Mono', 'Source Code Pro', 'Courier', monospace\" font-style=\"italic\" font-size=\"10.00\">get_next_path()</text>\n",
       "</a>\n",
       "</g>\n",
       "<g id=\"a_node2_12\"><a xlink:href=\"#\" xlink:title=\"options(self, kwargs)\">\n",
       "<text text-anchor=\"start\" x=\"8.38\" y=\"-157\" font-family=\"'Fira Mono', 'Source Code Pro', 'Courier', monospace\" font-style=\"italic\" font-size=\"10.00\">options()</text>\n",
       "</a>\n",
       "</g>\n",
       "<g id=\"a_node2_13\"><a xlink:href=\"#\" xlink:title=\"process(self)\">\n",
       "<text text-anchor=\"start\" x=\"8.38\" y=\"-144.75\" font-family=\"'Fira Mono', 'Source Code Pro', 'Courier', monospace\" font-size=\"10.00\">process()</text>\n",
       "</a>\n",
       "</g>\n",
       "<g id=\"a_node2_14\"><a xlink:href=\"#\" xlink:title=\"solve_path_constraint(self, path)\">\n",
       "<text text-anchor=\"start\" x=\"8.38\" y=\"-134.5\" font-family=\"'Fira Mono', 'Source Code Pro', 'Courier', monospace\" font-style=\"italic\" font-size=\"10.00\">solve_path_constraint()</text>\n",
       "</a>\n",
       "</g>\n",
       "</a>\n",
       "</g>\n",
       "</a>\n",
       "</g>\n",
       "</g>\n",
       "<!-- SymbolicFuzzer&#45;&gt;SimpleSymbolicFuzzer -->\n",
       "<g id=\"edge1\" class=\"edge\">\n",
       "<title>SymbolicFuzzer&#45;&gt;SimpleSymbolicFuzzer</title>\n",
       "<path fill=\"none\" stroke=\"black\" d=\"M77.38,-91.2C77.38,-99.1 77.38,-107.5 77.38,-115.93\"/>\n",
       "<polygon fill=\"none\" stroke=\"black\" points=\"73.88,-115.89 77.38,-125.89 80.88,-115.89 73.88,-115.89\"/>\n",
       "</g>\n",
       "<!-- Fuzzer -->\n",
       "<g id=\"node3\" class=\"node\">\n",
       "<title>Fuzzer</title>\n",
       "<g id=\"a_node3\"><a xlink:href=\"Fuzzer.ipynb\" xlink:title=\"class Fuzzer:&#10;Base class for fuzzers.\">\n",
       "<polygon fill=\"none\" stroke=\"black\" points=\"39.38,-288.75 39.38,-367.75 115.38,-367.75 115.38,-288.75 39.38,-288.75\"/>\n",
       "<text text-anchor=\"start\" x=\"56.75\" y=\"-351.45\" font-family=\"Patua One, Helvetica, sans-serif\" font-weight=\"bold\" font-size=\"14.00\" fill=\"#b03a2e\">Fuzzer</text>\n",
       "<polyline fill=\"none\" stroke=\"black\" points=\"39.38,-341.75 115.38,-341.75\"/>\n",
       "<g id=\"a_node3_15\"><a xlink:href=\"#\" xlink:title=\"Fuzzer\">\n",
       "<g id=\"a_node3_16\"><a xlink:href=\"Fuzzer.ipynb\" xlink:title=\"__init__(self) &#45;&gt; None:&#10;Constructor\">\n",
       "<text text-anchor=\"start\" x=\"47.38\" y=\"-329.25\" font-family=\"'Fira Mono', 'Source Code Pro', 'Courier', monospace\" font-weight=\"bold\" font-style=\"italic\" font-size=\"10.00\">__init__()</text>\n",
       "</a>\n",
       "</g>\n",
       "<g id=\"a_node3_17\"><a xlink:href=\"Fuzzer.ipynb\" xlink:title=\"fuzz(self) &#45;&gt; str:&#10;Return fuzz input\">\n",
       "<text text-anchor=\"start\" x=\"47.38\" y=\"-318\" font-family=\"'Fira Mono', 'Source Code Pro', 'Courier', monospace\" font-weight=\"bold\" font-style=\"italic\" font-size=\"10.00\">fuzz()</text>\n",
       "</a>\n",
       "</g>\n",
       "<g id=\"a_node3_18\"><a xlink:href=\"Fuzzer.ipynb\" xlink:title=\"run(self, runner: Fuzzer.Runner = &lt;Fuzzer.Runner object at 0x1047ffbe0&gt;) &#45;&gt; Tuple[subprocess.CompletedProcess, str]:&#10;Run `runner` with fuzz input\">\n",
       "<text text-anchor=\"start\" x=\"47.38\" y=\"-306.75\" font-family=\"'Fira Mono', 'Source Code Pro', 'Courier', monospace\" font-weight=\"bold\" font-size=\"10.00\">run()</text>\n",
       "</a>\n",
       "</g>\n",
       "<g id=\"a_node3_19\"><a xlink:href=\"Fuzzer.ipynb\" xlink:title=\"runs(self, runner: Fuzzer.Runner = &lt;Fuzzer.PrintRunner object at 0x1047fee60&gt;, trials: int = 10) &#45;&gt; List[Tuple[subprocess.CompletedProcess, str]]:&#10;Run `runner` with fuzz input, `trials` times\">\n",
       "<text text-anchor=\"start\" x=\"47.38\" y=\"-295.5\" font-family=\"'Fira Mono', 'Source Code Pro', 'Courier', monospace\" font-weight=\"bold\" font-size=\"10.00\">runs()</text>\n",
       "</a>\n",
       "</g>\n",
       "</a>\n",
       "</g>\n",
       "</a>\n",
       "</g>\n",
       "</g>\n",
       "<!-- SimpleSymbolicFuzzer&#45;&gt;Fuzzer -->\n",
       "<g id=\"edge2\" class=\"edge\">\n",
       "<title>SimpleSymbolicFuzzer&#45;&gt;Fuzzer</title>\n",
       "<path fill=\"none\" stroke=\"black\" d=\"M77.38,-252.21C77.38,-260.48 77.38,-268.89 77.38,-276.94\"/>\n",
       "<polygon fill=\"none\" stroke=\"black\" points=\"73.88,-276.9 77.38,-286.9 80.88,-276.9 73.88,-276.9\"/>\n",
       "</g>\n",
       "<!-- Legend -->\n",
       "<g id=\"node4\" class=\"node\">\n",
       "<title>Legend</title>\n",
       "<text text-anchor=\"start\" x=\"172.75\" y=\"-61.62\" font-family=\"Patua One, Helvetica, sans-serif\" font-weight=\"bold\" font-size=\"10.00\" fill=\"#b03a2e\">Legend</text>\n",
       "<text text-anchor=\"start\" x=\"172.75\" y=\"-51.62\" font-family=\"Patua One, Helvetica, sans-serif\" font-size=\"10.00\">• </text>\n",
       "<text text-anchor=\"start\" x=\"178.75\" y=\"-51.62\" font-family=\"'Fira Mono', 'Source Code Pro', 'Courier', monospace\" font-weight=\"bold\" font-size=\"8.00\">public_method()</text>\n",
       "<text text-anchor=\"start\" x=\"172.75\" y=\"-41.62\" font-family=\"Patua One, Helvetica, sans-serif\" font-size=\"10.00\">• </text>\n",
       "<text text-anchor=\"start\" x=\"178.75\" y=\"-41.62\" font-family=\"'Fira Mono', 'Source Code Pro', 'Courier', monospace\" font-size=\"8.00\">private_method()</text>\n",
       "<text text-anchor=\"start\" x=\"172.75\" y=\"-31.62\" font-family=\"Patua One, Helvetica, sans-serif\" font-size=\"10.00\">• </text>\n",
       "<text text-anchor=\"start\" x=\"178.75\" y=\"-31.62\" font-family=\"'Fira Mono', 'Source Code Pro', 'Courier', monospace\" font-style=\"italic\" font-size=\"8.00\">overloaded_method()</text>\n",
       "<text text-anchor=\"start\" x=\"172.75\" y=\"-22.57\" font-family=\"Helvetica,sans-Serif\" font-size=\"9.00\">Hover over names to see doc</text>\n",
       "</g>\n",
       "</g>\n",
       "</svg>\n"
      ],
      "text/plain": [
       "<graphviz.graphs.Digraph at 0x147721060>"
      ]
     },
     "execution_count": 199,
     "metadata": {},
     "output_type": "execute_result"
    }
   ],
   "source": [
    "# ignore\n",
    "from ClassDiagram import display_class_hierarchy\n",
    "display_class_hierarchy(SymbolicFuzzer)"
   ]
  },
  {
   "cell_type": "markdown",
   "metadata": {
    "button": false,
    "new_sheet": true,
    "run_control": {
     "read_only": false
    },
    "slideshow": {
     "slide_type": "slide"
    }
   },
   "source": [
    "## Lessons Learned\n",
    "\n",
    "* One can use symbolic execution to augment the inputs that explore all characteristics of a program.\n",
    "* Symbolic execution can be broad but shallow.\n",
    "* Symbolic execution is well suited for programs that rely on specific values to be present in the input, however, its utility decreases when such values are not present, and the input space represents a gradient in terms of coverage."
   ]
  },
  {
   "cell_type": "markdown",
   "metadata": {
    "button": false,
    "new_sheet": false,
    "run_control": {
     "read_only": false
    },
    "slideshow": {
     "slide_type": "slide"
    }
   },
   "source": [
    "## Next Steps\n",
    "\n",
    "* [Search based fuzzing](SearchBasedFuzzer.ipynb) can often be an acceptable middle ground when random fuzzing does not provide sufficient results, but symbolic fuzzing is too heavyweight."
   ]
  },
  {
   "attachments": {},
   "cell_type": "markdown",
   "metadata": {
    "slideshow": {
     "slide_type": "slide"
    }
   },
   "source": [
    "## Background\n",
    "\n",
    "Symbolic execution of programs was originally described by King \\cite{king1976symbolic} in 1976. It is used extensively in vulnerability analysis of software, especially binary programs. Some well known symbolic execution tools include *KLEE* \\cite{KLEE}, *angr* \\cite{wang2017angr}, *Driller* \\cite{stephens2016driller}, and *SAGE* \\cite{godefroid2012sage}. The best known symbolic execution environment for Python is CHEF \\cite{bucur2014prototyping} which does symbolic execution by modifying the interpreter.\n",
    "\n",
    "The Z3 solver we use in this chapter was developed at Microsoft Research under the lead of Leonardo de Moura and Nikolaj Bjørner \\cite{z3}. It is one of the most popular solvers."
   ]
  },
  {
   "cell_type": "markdown",
   "metadata": {
    "button": false,
    "new_sheet": true,
    "run_control": {
     "read_only": false
    },
    "slideshow": {
     "slide_type": "slide"
    }
   },
   "source": [
    "## Exercises"
   ]
  },
  {
   "cell_type": "markdown",
   "metadata": {
    "button": false,
    "new_sheet": false,
    "run_control": {
     "read_only": false
    },
    "slideshow": {
     "slide_type": "subslide"
    },
    "solution": "hidden",
    "solution2": "hidden",
    "solution2_first": true,
    "solution_first": true
   },
   "source": [
    "### Exercise 1: Extending Symbolic Fuzzer to use function summaries\n",
    "\n",
    "We showed in the first section how function summaries may be produced. Can you extend the `SymbolicFuzzer` to use function summaries when needed?"
   ]
  },
  {
   "cell_type": "markdown",
   "metadata": {
    "button": false,
    "new_sheet": false,
    "run_control": {
     "read_only": false
    },
    "slideshow": {
     "slide_type": "skip"
    },
    "solution": "hidden",
    "solution2": "hidden"
   },
   "source": [
    "**Solution.** _None yet available._"
   ]
  },
  {
   "attachments": {},
   "cell_type": "markdown",
   "metadata": {
    "slideshow": {
     "slide_type": "subslide"
    }
   },
   "source": [
    "### Exercise 2: Statically checking if a loop should be unrolled further\n",
    "\n",
    "We examined how loops would be unrolled during exploration to a fixed depth. However, not all loops need to be unrolled completely. Some loops may contain only a constant number of iterations. For example, consider the loop below."
   ]
  },
  {
   "cell_type": "code",
   "execution_count": 200,
   "metadata": {
    "execution": {
     "iopub.execute_input": "2023-11-12T12:47:36.629026Z",
     "iopub.status.busy": "2023-11-12T12:47:36.628902Z",
     "iopub.status.idle": "2023-11-12T12:47:36.631121Z",
     "shell.execute_reply": "2023-11-12T12:47:36.630802Z"
    },
    "slideshow": {
     "slide_type": "fragment"
    }
   },
   "outputs": [],
   "source": [
    "i = 0\n",
    "while i < 10:\n",
    "    i += 1"
   ]
  },
  {
   "cell_type": "markdown",
   "metadata": {
    "slideshow": {
     "slide_type": "fragment"
    }
   },
   "source": [
    "This loop needs to be unrolled exactly $10$ times. For such cases, can you implement a method `can_be_satisfied()` which is invoked as below, to only unroll further if the path condition can be satisfied."
   ]
  },
  {
   "cell_type": "code",
   "execution_count": 201,
   "metadata": {
    "execution": {
     "iopub.execute_input": "2023-11-12T12:47:36.632847Z",
     "iopub.status.busy": "2023-11-12T12:47:36.632734Z",
     "iopub.status.idle": "2023-11-12T12:47:36.635669Z",
     "shell.execute_reply": "2023-11-12T12:47:36.635414Z"
    },
    "slideshow": {
     "slide_type": "subslide"
    },
    "solution2": "hidden",
    "solution2_first": true
   },
   "outputs": [],
   "source": [
    "class SymbolicFuzzer(SymbolicFuzzer):\n",
    "    def get_all_paths(self, fenter):\n",
    "        path_lst = [PNode(0, fenter)]\n",
    "        completed = []\n",
    "        for i in range(self.max_iter):\n",
    "            new_paths = [PNode(0, fenter)]\n",
    "            for path in path_lst:\n",
    "                # explore each path once\n",
    "                if path.cfgnode.children:\n",
    "                    np = path.explore()\n",
    "                    for p in np:\n",
    "                        if path.idx > self.max_depth:\n",
    "                            break\n",
    "                        if self.can_be_satisfied(p):\n",
    "                            new_paths.append(p)\n",
    "                        else:\n",
    "                            break\n",
    "                else:\n",
    "                    completed.append(path)\n",
    "            path_lst = new_paths\n",
    "        return completed + path_lst"
   ]
  },
  {
   "cell_type": "markdown",
   "metadata": {
    "slideshow": {
     "slide_type": "skip"
    },
    "solution2": "hidden",
    "solution2_first": true
   },
   "source": [
    "**Solution.** Here is a solution."
   ]
  },
  {
   "cell_type": "code",
   "execution_count": 202,
   "metadata": {
    "execution": {
     "iopub.execute_input": "2023-11-12T12:47:36.637227Z",
     "iopub.status.busy": "2023-11-12T12:47:36.637118Z",
     "iopub.status.idle": "2023-11-12T12:47:36.639719Z",
     "shell.execute_reply": "2023-11-12T12:47:36.639449Z"
    },
    "slideshow": {
     "slide_type": "skip"
    },
    "solution2": "hidden"
   },
   "outputs": [],
   "source": [
    "class SymbolicFuzzer(SymbolicFuzzer):\n",
    "    def can_be_satisfied(self, p):\n",
    "        s2 = self.extract_constraints(p.get_path_to_root())\n",
    "        s = z3.Solver()\n",
    "        identifiers = [c for i in s2 for c in used_identifiers(i)]\n",
    "        with_types = identifiers_with_types(identifiers, self.used_variables)\n",
    "        decl = define_symbolic_vars(with_types, '')\n",
    "        exec(decl)\n",
    "        exec(\"s.add(z3.And(%s))\" % ','.join(s2), globals(), locals())\n",
    "        return s.check() == z3.sat"
   ]
  },
  {
   "cell_type": "markdown",
   "metadata": {
    "slideshow": {
     "slide_type": "skip"
    },
    "solution2": "hidden"
   },
   "source": [
    "With this implementation, new conditions are appended to paths if and only if the paths are still satisfiable after incorporating the condition."
   ]
  },
  {
   "cell_type": "markdown",
   "metadata": {
    "slideshow": {
     "slide_type": "subslide"
    }
   },
   "source": [
    "### Exercise 3: Implementing a Concolic Fuzzer\n"
   ]
  },
  {
   "attachments": {},
   "cell_type": "markdown",
   "metadata": {
    "slideshow": {
     "slide_type": "fragment"
    },
    "solution2": "hidden",
    "solution2_first": true
   },
   "source": [
    "We have seen in the chapter on [concolic fuzzing](ConcolicFuzzer.ipynb) how to trace a function concolically using information flow. However, this is somewhat suboptimal as the constraints can get dropped when the information flow is indirect (as in control flow based information flow). Can you implement concolic tracing using the infrastructure we built for symbolic execution?"
   ]
  },
  {
   "cell_type": "markdown",
   "metadata": {
    "slideshow": {
     "slide_type": "skip"
    },
    "solution2": "hidden",
    "solution2_first": true
   },
   "source": [
    "**Solution.** Here is a possible solution."
   ]
  },
  {
   "cell_type": "markdown",
   "metadata": {
    "slideshow": {
     "slide_type": "skip"
    },
    "solution2": "hidden"
   },
   "source": [
    "In *concolic execution*, we rely on a seed input to guide our symbolic execution. We collect the line numbers that our seed input traces, and feed it to the symbolic execution such that in the `explore` step, only the child node that correspond to the seed input execution path is chosen. This allows us to collect the complete set of constraints along a *representative path*. Once we have it, we can choose any particular predicate and invert it to explore the program execution paths near the representative path."
   ]
  },
  {
   "cell_type": "markdown",
   "metadata": {
    "slideshow": {
     "slide_type": "skip"
    },
    "solution2": "hidden"
   },
   "source": [
    "We modify our original `ArcCoverage` to provide *all* line numbers that the program traversed."
   ]
  },
  {
   "cell_type": "code",
   "execution_count": 203,
   "metadata": {
    "execution": {
     "iopub.execute_input": "2023-11-12T12:47:36.641421Z",
     "iopub.status.busy": "2023-11-12T12:47:36.641288Z",
     "iopub.status.idle": "2023-11-12T12:47:36.643345Z",
     "shell.execute_reply": "2023-11-12T12:47:36.643090Z"
    },
    "slideshow": {
     "slide_type": "skip"
    },
    "solution2": "hidden"
   },
   "outputs": [],
   "source": [
    "class TrackingArcCoverage(ArcCoverage):\n",
    "    def offsets_from_entry(self, fn):\n",
    "        zero = self._trace[0][1] - 1\n",
    "        return [l - zero for (f, l) in self._trace if f == fn]"
   ]
  },
  {
   "cell_type": "code",
   "execution_count": 204,
   "metadata": {
    "execution": {
     "iopub.execute_input": "2023-11-12T12:47:36.644743Z",
     "iopub.status.busy": "2023-11-12T12:47:36.644631Z",
     "iopub.status.idle": "2023-11-12T12:47:36.665244Z",
     "shell.execute_reply": "2023-11-12T12:47:36.664959Z"
    },
    "slideshow": {
     "slide_type": "skip"
    },
    "solution2": "hidden"
   },
   "outputs": [],
   "source": [
    "with TrackingArcCoverage() as cov:\n",
    "    roots3(1, 1, 1)"
   ]
  },
  {
   "cell_type": "code",
   "execution_count": 205,
   "metadata": {
    "execution": {
     "iopub.execute_input": "2023-11-12T12:47:36.666738Z",
     "iopub.status.busy": "2023-11-12T12:47:36.666640Z",
     "iopub.status.idle": "2023-11-12T12:47:36.669061Z",
     "shell.execute_reply": "2023-11-12T12:47:36.668765Z"
    },
    "slideshow": {
     "slide_type": "skip"
    },
    "solution2": "hidden"
   },
   "outputs": [
    {
     "data": {
      "text/plain": [
       "[1, 2, 4, 5, 6, 9, 11, 16, 17, 18]"
      ]
     },
     "execution_count": 205,
     "metadata": {},
     "output_type": "execute_result"
    }
   ],
   "source": [
    "cov.offsets_from_entry('roots3')"
   ]
  },
  {
   "cell_type": "markdown",
   "metadata": {
    "slideshow": {
     "slide_type": "skip"
    },
    "solution2": "hidden"
   },
   "source": [
    "The `ConcolicTracer` first extracts the program trace on a seed input."
   ]
  },
  {
   "cell_type": "code",
   "execution_count": 206,
   "metadata": {
    "execution": {
     "iopub.execute_input": "2023-11-12T12:47:36.670591Z",
     "iopub.status.busy": "2023-11-12T12:47:36.670465Z",
     "iopub.status.idle": "2023-11-12T12:47:36.672694Z",
     "shell.execute_reply": "2023-11-12T12:47:36.672433Z"
    },
    "slideshow": {
     "slide_type": "skip"
    },
    "solution2": "hidden"
   },
   "outputs": [],
   "source": [
    "class ConcolicTracer(SymbolicFuzzer):\n",
    "    def __init__(self, fn, fnargs, **kwargs):\n",
    "        with TrackingArcCoverage() as cov:\n",
    "            fn(*fnargs)\n",
    "        self.lines = cov.offsets_from_entry(fn.__name__)\n",
    "        self.current_line = 0\n",
    "        super().__init__(fn, **kwargs)"
   ]
  },
  {
   "cell_type": "markdown",
   "metadata": {
    "slideshow": {
     "slide_type": "skip"
    },
    "solution2": "hidden"
   },
   "source": [
    "The method `get_all_paths()` now tries to follow the seed execution path."
   ]
  },
  {
   "cell_type": "code",
   "execution_count": 207,
   "metadata": {
    "execution": {
     "iopub.execute_input": "2023-11-12T12:47:36.674159Z",
     "iopub.status.busy": "2023-11-12T12:47:36.674053Z",
     "iopub.status.idle": "2023-11-12T12:47:36.676696Z",
     "shell.execute_reply": "2023-11-12T12:47:36.676451Z"
    },
    "slideshow": {
     "slide_type": "skip"
    },
    "solution2": "hidden"
   },
   "outputs": [],
   "source": [
    "class ConcolicTracer(ConcolicTracer):\n",
    "    def get_all_paths(self, fenter):\n",
    "        assert fenter.ast_node.lineno == self.lines[self.current_line]\n",
    "        self.current_line += 1\n",
    "        last_node = PNode(0, fenter)\n",
    "        while last_node and self.current_line < len(self.lines):\n",
    "            if last_node.cfgnode.children:\n",
    "                np = last_node.explore()\n",
    "                for p in np:\n",
    "                    if self.lines[self.current_line] == p.cfgnode.ast_node.lineno:\n",
    "                        self.current_line += 1\n",
    "                        last_node = p\n",
    "                        break\n",
    "                else:\n",
    "                    last_node = None\n",
    "                    break\n",
    "            else:\n",
    "                break\n",
    "        assert len(self.lines) == self.current_line\n",
    "        return [last_node]"
   ]
  },
  {
   "attachments": {},
   "cell_type": "markdown",
   "metadata": {
    "slideshow": {
     "slide_type": "skip"
    },
    "solution2": "hidden"
   },
   "source": [
    "We are now ready to concolically trace our execution."
   ]
  },
  {
   "attachments": {},
   "cell_type": "markdown",
   "metadata": {
    "slideshow": {
     "slide_type": "subslide"
    },
    "solution2": "hidden"
   },
   "source": [
    "#### Tracing the Execution Concolically"
   ]
  },
  {
   "cell_type": "code",
   "execution_count": 208,
   "metadata": {
    "execution": {
     "iopub.execute_input": "2023-11-12T12:47:36.678079Z",
     "iopub.status.busy": "2023-11-12T12:47:36.677970Z",
     "iopub.status.idle": "2023-11-12T12:47:36.697712Z",
     "shell.execute_reply": "2023-11-12T12:47:36.697435Z"
    },
    "slideshow": {
     "slide_type": "fragment"
    },
    "solution2": "hidden"
   },
   "outputs": [],
   "source": [
    "acfz_roots = ConcolicTracer(\n",
    "    roots3,\n",
    "    fnargs=[1, 1, 1],\n",
    "    max_tries=10,\n",
    "    max_iter=10,\n",
    "    max_depth=10)"
   ]
  },
  {
   "cell_type": "code",
   "execution_count": 209,
   "metadata": {
    "execution": {
     "iopub.execute_input": "2023-11-12T12:47:36.699615Z",
     "iopub.status.busy": "2023-11-12T12:47:36.699514Z",
     "iopub.status.idle": "2023-11-12T12:47:36.702230Z",
     "shell.execute_reply": "2023-11-12T12:47:36.701969Z"
    },
    "slideshow": {
     "slide_type": "subslide"
    },
    "solution2": "hidden"
   },
   "outputs": [
    {
     "data": {
      "text/plain": [
       "[PNode:0[id:75 line[1] parents: [] : enter: roots3(a, b, c) order:0],\n",
       " PNode:1[id:77 line[2] parents: [75] : d: float = b * b - 4 * a * c order:0],\n",
       " PNode:2[id:78 line[4] parents: [77] : xa: float = 0.5 * d order:0],\n",
       " PNode:3[id:79 line[5] parents: [78] : xb: float = 0 order:0],\n",
       " PNode:4[id:80 line[6] parents: [79, 82] : _while: xa - xb > 0.1 order:1],\n",
       " PNode:5[id:83 line[9] parents: [80] : s: float = xb order:0],\n",
       " PNode:6[id:84 line[11] parents: [83] : _if: a == 0 order:1],\n",
       " PNode:7[id:88 line[16] parents: [84] : a2: float = 2 * a order:0],\n",
       " PNode:8[id:89 line[17] parents: [88] : ba2: float = b / a2 order:0],\n",
       " PNode:9[id:90 line[18] parents: [89] : return (-ba2 + s / a2, -ba2 - s / a2) order:0]]"
      ]
     },
     "execution_count": 209,
     "metadata": {},
     "output_type": "execute_result"
    }
   ],
   "source": [
    "acfz_roots.paths[0].get_path_to_root()"
   ]
  },
  {
   "cell_type": "code",
   "execution_count": 210,
   "metadata": {
    "execution": {
     "iopub.execute_input": "2023-11-12T12:47:36.703692Z",
     "iopub.status.busy": "2023-11-12T12:47:36.703564Z",
     "iopub.status.idle": "2023-11-12T12:47:36.705730Z",
     "shell.execute_reply": "2023-11-12T12:47:36.705478Z"
    },
    "slideshow": {
     "slide_type": "subslide"
    },
    "solution2": "hidden"
   },
   "outputs": [
    {
     "name": "stdout",
     "output_type": "stream",
     "text": [
      "[1, 2, 4, 5, 6, 9, 11, 16, 17, 18]\n",
      "[1, 2, 4, 5, 6, 9, 11, 16, 17, 18]\n",
      "[1, 2, 4, 5, 6, 9, 11, 16, 17, 18]\n"
     ]
    }
   ],
   "source": [
    "print(cov.offsets_from_entry('roots3'))\n",
    "print([i.cfgnode.ast_node.lineno for i in acfz_roots.paths[0].get_path_to_root()])\n",
    "print(acfz_roots.lines)"
   ]
  },
  {
   "cell_type": "markdown",
   "metadata": {
    "slideshow": {
     "slide_type": "fragment"
    },
    "solution2": "hidden"
   },
   "source": [
    "As can be seen above, we recovered the trace information correctly.\n",
    "Next, we extract the constraints as usual."
   ]
  },
  {
   "cell_type": "code",
   "execution_count": 211,
   "metadata": {
    "execution": {
     "iopub.execute_input": "2023-11-12T12:47:36.707370Z",
     "iopub.status.busy": "2023-11-12T12:47:36.707259Z",
     "iopub.status.idle": "2023-11-12T12:47:36.709132Z",
     "shell.execute_reply": "2023-11-12T12:47:36.708836Z"
    },
    "slideshow": {
     "slide_type": "fragment"
    },
    "solution2": "hidden"
   },
   "outputs": [],
   "source": [
    "constraints = acfz_roots.extract_constraints(\n",
    "    acfz_roots.paths[0].get_path_to_root())"
   ]
  },
  {
   "cell_type": "code",
   "execution_count": 212,
   "metadata": {
    "execution": {
     "iopub.execute_input": "2023-11-12T12:47:36.710531Z",
     "iopub.status.busy": "2023-11-12T12:47:36.710428Z",
     "iopub.status.idle": "2023-11-12T12:47:36.712502Z",
     "shell.execute_reply": "2023-11-12T12:47:36.712242Z"
    },
    "slideshow": {
     "slide_type": "subslide"
    },
    "solution2": "hidden"
   },
   "outputs": [
    {
     "data": {
      "text/plain": [
       "['z3.And(a == _a_0, b == _b_0, c == _c_0)',\n",
       " '_d_0 == _b_0 * _b_0 - 4 * _a_0 * _c_0',\n",
       " '_xa_0 == 0.5 * _d_0',\n",
       " '_xb_0 == 0',\n",
       " 'z3.Not(_xa_0 - _xb_0 > 0.1)',\n",
       " '_s_0 == _xb_0',\n",
       " 'z3.Not(_a_0 == 0)',\n",
       " '_a2_0 == 2 * _a_0',\n",
       " '_ba2_0 == _b_0 / _a2_0']"
      ]
     },
     "execution_count": 212,
     "metadata": {},
     "output_type": "execute_result"
    }
   ],
   "source": [
    "constraints"
   ]
  },
  {
   "cell_type": "markdown",
   "metadata": {
    "slideshow": {
     "slide_type": "fragment"
    },
    "solution2": "hidden"
   },
   "source": [
    "Next, we change our constraints to symbolic variables and solve them."
   ]
  },
  {
   "cell_type": "code",
   "execution_count": 213,
   "metadata": {
    "execution": {
     "iopub.execute_input": "2023-11-12T12:47:36.714303Z",
     "iopub.status.busy": "2023-11-12T12:47:36.714171Z",
     "iopub.status.idle": "2023-11-12T12:47:36.717169Z",
     "shell.execute_reply": "2023-11-12T12:47:36.716881Z"
    },
    "slideshow": {
     "slide_type": "fragment"
    },
    "solution2": "hidden"
   },
   "outputs": [],
   "source": [
    "identifiers = [c for i in constraints for c in used_identifiers(i)]\n",
    "with_types = identifiers_with_types(identifiers, acfz_roots.used_variables)\n",
    "decl = define_symbolic_vars(with_types, '')\n",
    "exec(decl)"
   ]
  },
  {
   "attachments": {},
   "cell_type": "markdown",
   "metadata": {
    "slideshow": {
     "slide_type": "subslide"
    },
    "solution2": "hidden"
   },
   "source": [
    "We are ready to solve our constraints. However, before that, here is a question for you.\n",
    "*Should it result in exactly the same arguments?*"
   ]
  },
  {
   "cell_type": "code",
   "execution_count": 214,
   "metadata": {
    "execution": {
     "iopub.execute_input": "2023-11-12T12:47:36.718878Z",
     "iopub.status.busy": "2023-11-12T12:47:36.718748Z",
     "iopub.status.idle": "2023-11-12T12:47:36.730820Z",
     "shell.execute_reply": "2023-11-12T12:47:36.730298Z"
    },
    "slideshow": {
     "slide_type": "subslide"
    },
    "solution2": "hidden"
   },
   "outputs": [
    {
     "name": "stdout",
     "output_type": "stream",
     "text": [
      "[a = 1,\n",
      " _a_0 = 1,\n",
      " _b_0 = 1/8,\n",
      " _c_0 = 1,\n",
      " _ba2_0 = 1/16,\n",
      " _a2_0 = 2,\n",
      " _s_0 = 0,\n",
      " _xb_0 = 0,\n",
      " _xa_0 = -255/128,\n",
      " _d_0 = -255/64,\n",
      " c = 1,\n",
      " b = 1/8,\n",
      " /0 = [(1/8, 2) -> 1/16, else -> 0]]\n"
     ]
    }
   ],
   "source": [
    "eval('z3.solve(%s)' % ','.join(constraints))"
   ]
  },
  {
   "cell_type": "code",
   "execution_count": 215,
   "metadata": {
    "execution": {
     "iopub.execute_input": "2023-11-12T12:47:36.732692Z",
     "iopub.status.busy": "2023-11-12T12:47:36.732547Z",
     "iopub.status.idle": "2023-11-12T12:47:36.740647Z",
     "shell.execute_reply": "2023-11-12T12:47:36.740313Z"
    },
    "slideshow": {
     "slide_type": "subslide"
    },
    "solution2": "hidden"
   },
   "outputs": [
    {
     "data": {
      "text/plain": [
       "{'a': -1, 'b': 0, 'c': 0}"
      ]
     },
     "execution_count": 215,
     "metadata": {},
     "output_type": "execute_result"
    }
   ],
   "source": [
    "acfz_roots.fuzz()"
   ]
  },
  {
   "cell_type": "markdown",
   "metadata": {
    "slideshow": {
     "slide_type": "fragment"
    },
    "solution2": "hidden"
   },
   "source": [
    "Did they take the same path?"
   ]
  },
  {
   "cell_type": "code",
   "execution_count": 216,
   "metadata": {
    "execution": {
     "iopub.execute_input": "2023-11-12T12:47:36.742159Z",
     "iopub.status.busy": "2023-11-12T12:47:36.742067Z",
     "iopub.status.idle": "2023-11-12T12:47:37.142063Z",
     "shell.execute_reply": "2023-11-12T12:47:37.141726Z"
    },
    "slideshow": {
     "slide_type": "fragment"
    },
    "solution2": "hidden"
   },
   "outputs": [
    {
     "data": {
      "image/svg+xml": [
       "<?xml version=\"1.0\" encoding=\"UTF-8\" standalone=\"no\"?>\n",
       "<!DOCTYPE svg PUBLIC \"-//W3C//DTD SVG 1.1//EN\"\n",
       " \"http://www.w3.org/Graphics/SVG/1.1/DTD/svg11.dtd\">\n",
       "<!-- Generated by graphviz version 9.0.0 (20230911.1827)\n",
       " -->\n",
       "<!-- Pages: 1 -->\n",
       "<svg width=\"397pt\" height=\"708pt\"\n",
       " viewBox=\"0.00 0.00 396.50 708.00\" xmlns=\"http://www.w3.org/2000/svg\" xmlns:xlink=\"http://www.w3.org/1999/xlink\">\n",
       "<g id=\"graph0\" class=\"graph\" transform=\"scale(1 1) rotate(0) translate(4 704)\">\n",
       "<polygon fill=\"white\" stroke=\"none\" points=\"-4,4 -4,-704 392.5,-704 392.5,4 -4,4\"/>\n",
       "<!-- 1 -->\n",
       "<g id=\"node1\" class=\"node\">\n",
       "<title>1</title>\n",
       "<ellipse fill=\"none\" stroke=\"black\" cx=\"187.62\" cy=\"-678\" rx=\"85.55\" ry=\"18\"/>\n",
       "<ellipse fill=\"none\" stroke=\"black\" cx=\"187.62\" cy=\"-678\" rx=\"89.55\" ry=\"22\"/>\n",
       "<text text-anchor=\"middle\" x=\"187.62\" y=\"-671.83\" font-family=\"Times,serif\" font-size=\"14.00\">1: enter: roots(a, b, c)</text>\n",
       "</g>\n",
       "<!-- 3 -->\n",
       "<g id=\"node4\" class=\"node\">\n",
       "<title>3</title>\n",
       "<ellipse fill=\"none\" stroke=\"black\" cx=\"187.62\" cy=\"-602\" rx=\"108.92\" ry=\"18\"/>\n",
       "<text text-anchor=\"middle\" x=\"187.62\" y=\"-595.83\" font-family=\"Times,serif\" font-size=\"14.00\">2: d: float = b * b &#45; 4 * a * c</text>\n",
       "</g>\n",
       "<!-- 1&#45;&gt;3 -->\n",
       "<g id=\"edge2\" class=\"edge\">\n",
       "<title>1&#45;&gt;3</title>\n",
       "<path fill=\"none\" stroke=\"green\" d=\"M187.62,-655.6C187.62,-648.11 187.62,-639.59 187.62,-631.61\"/>\n",
       "<polygon fill=\"green\" stroke=\"green\" points=\"191.13,-631.65 187.63,-621.65 184.13,-631.65 191.13,-631.65\"/>\n",
       "</g>\n",
       "<!-- 2 -->\n",
       "<g id=\"node2\" class=\"node\">\n",
       "<title>2</title>\n",
       "<ellipse fill=\"none\" stroke=\"black\" cx=\"276.62\" cy=\"-22\" rx=\"81.25\" ry=\"18\"/>\n",
       "<ellipse fill=\"none\" stroke=\"black\" cx=\"276.62\" cy=\"-22\" rx=\"85.25\" ry=\"22\"/>\n",
       "<text text-anchor=\"middle\" x=\"276.62\" y=\"-15.82\" font-family=\"Times,serif\" font-size=\"14.00\">1: exit: roots(a, b, c)</text>\n",
       "</g>\n",
       "<!-- 12 -->\n",
       "<g id=\"node3\" class=\"node\">\n",
       "<title>12</title>\n",
       "<polygon fill=\"none\" stroke=\"black\" points=\"388.5,-116 164.75,-116 164.75,-80 388.5,-80 388.5,-116\"/>\n",
       "<text text-anchor=\"middle\" x=\"276.62\" y=\"-91.83\" font-family=\"Times,serif\" font-size=\"14.00\">13: return (&#45;ba2 + s / a2, &#45;ba2 &#45; s / a2)</text>\n",
       "</g>\n",
       "<!-- 12&#45;&gt;2 -->\n",
       "<g id=\"edge1\" class=\"edge\">\n",
       "<title>12&#45;&gt;2</title>\n",
       "<path fill=\"none\" stroke=\"green\" d=\"M276.62,-79.84C276.62,-72.64 276.62,-64.02 276.62,-55.7\"/>\n",
       "<polygon fill=\"green\" stroke=\"green\" points=\"280.13,-55.82 276.63,-45.82 273.13,-55.82 280.13,-55.82\"/>\n",
       "</g>\n",
       "<!-- 4 -->\n",
       "<g id=\"node5\" class=\"node\">\n",
       "<title>4</title>\n",
       "<ellipse fill=\"none\" stroke=\"black\" cx=\"187.62\" cy=\"-530\" rx=\"81.73\" ry=\"18\"/>\n",
       "<text text-anchor=\"middle\" x=\"187.62\" y=\"-523.83\" font-family=\"Times,serif\" font-size=\"14.00\">3: ax: float = 0.5 * d</text>\n",
       "</g>\n",
       "<!-- 3&#45;&gt;4 -->\n",
       "<g id=\"edge3\" class=\"edge\">\n",
       "<title>3&#45;&gt;4</title>\n",
       "<path fill=\"none\" stroke=\"green\" d=\"M187.62,-583.7C187.62,-576.41 187.62,-567.73 187.62,-559.54\"/>\n",
       "<polygon fill=\"green\" stroke=\"green\" points=\"191.13,-559.62 187.63,-549.62 184.13,-559.62 191.13,-559.62\"/>\n",
       "</g>\n",
       "<!-- 5 -->\n",
       "<g id=\"node6\" class=\"node\">\n",
       "<title>5</title>\n",
       "<ellipse fill=\"none\" stroke=\"black\" cx=\"187.62\" cy=\"-458\" rx=\"62.17\" ry=\"18\"/>\n",
       "<text text-anchor=\"middle\" x=\"187.62\" y=\"-451.82\" font-family=\"Times,serif\" font-size=\"14.00\">4: bx: float = 0</text>\n",
       "</g>\n",
       "<!-- 4&#45;&gt;5 -->\n",
       "<g id=\"edge4\" class=\"edge\">\n",
       "<title>4&#45;&gt;5</title>\n",
       "<path fill=\"none\" stroke=\"green\" d=\"M187.62,-511.7C187.62,-504.41 187.62,-495.73 187.62,-487.54\"/>\n",
       "<polygon fill=\"green\" stroke=\"green\" points=\"191.13,-487.62 187.63,-477.62 184.13,-487.62 191.13,-487.62\"/>\n",
       "</g>\n",
       "<!-- 6 -->\n",
       "<g id=\"node7\" class=\"node\">\n",
       "<title>6</title>\n",
       "<polygon fill=\"none\" stroke=\"black\" points=\"187.62,-404 62.6,-386 187.62,-368 312.65,-386 187.62,-404\"/>\n",
       "<text text-anchor=\"middle\" x=\"187.62\" y=\"-379.82\" font-family=\"Times,serif\" font-size=\"14.00\">5: while: ax &#45; bx &gt; 0.1</text>\n",
       "</g>\n",
       "<!-- 5&#45;&gt;6 -->\n",
       "<g id=\"edge5\" class=\"edge\">\n",
       "<title>5&#45;&gt;6</title>\n",
       "<path fill=\"none\" stroke=\"green\" d=\"M187.62,-439.7C187.62,-432.41 187.62,-423.73 187.62,-415.54\"/>\n",
       "<polygon fill=\"green\" stroke=\"green\" points=\"191.13,-415.62 187.63,-405.62 184.13,-415.62 191.13,-415.62\"/>\n",
       "</g>\n",
       "<!-- 7 -->\n",
       "<g id=\"node9\" class=\"node\">\n",
       "<title>7</title>\n",
       "<polygon fill=\"none\" stroke=\"black\" points=\"159.25,-332 0,-332 0,-296 159.25,-296 159.25,-332\"/>\n",
       "<text text-anchor=\"middle\" x=\"79.62\" y=\"-307.82\" font-family=\"Times,serif\" font-size=\"14.00\">6: bx = 0.5 * (ax + d / ax)</text>\n",
       "</g>\n",
       "<!-- 6&#45;&gt;7 -->\n",
       "<g id=\"edge7\" class=\"edge\">\n",
       "<title>6&#45;&gt;7</title>\n",
       "<path fill=\"none\" stroke=\"red\" d=\"M165.77,-370.83C151.45,-361.55 132.38,-349.19 115.82,-338.46\"/>\n",
       "<polygon fill=\"red\" stroke=\"red\" points=\"117.99,-335.69 107.69,-333.19 114.18,-341.57 117.99,-335.69\"/>\n",
       "</g>\n",
       "<!-- 9 -->\n",
       "<g id=\"node10\" class=\"node\">\n",
       "<title>9</title>\n",
       "<ellipse fill=\"none\" stroke=\"black\" cx=\"276.62\" cy=\"-314\" rx=\"61.22\" ry=\"18\"/>\n",
       "<text text-anchor=\"middle\" x=\"276.62\" y=\"-307.82\" font-family=\"Times,serif\" font-size=\"14.00\">9: s: float = bx</text>\n",
       "</g>\n",
       "<!-- 6&#45;&gt;9 -->\n",
       "<g id=\"edge9\" class=\"edge\">\n",
       "<title>6&#45;&gt;9</title>\n",
       "<path fill=\"none\" stroke=\"green\" d=\"M206.07,-370.5C217.9,-361.19 233.52,-348.9 247.06,-338.25\"/>\n",
       "<polygon fill=\"green\" stroke=\"green\" points=\"249.14,-341.07 254.84,-332.13 244.82,-335.56 249.14,-341.07\"/>\n",
       "</g>\n",
       "<!-- 8 -->\n",
       "<g id=\"node8\" class=\"node\">\n",
       "<title>8</title>\n",
       "<polygon fill=\"none\" stroke=\"black\" points=\"147.75,-260 75.5,-260 75.5,-224 147.75,-224 147.75,-260\"/>\n",
       "<text text-anchor=\"middle\" x=\"111.62\" y=\"-235.82\" font-family=\"Times,serif\" font-size=\"14.00\">7: ax = bx</text>\n",
       "</g>\n",
       "<!-- 8&#45;&gt;6 -->\n",
       "<g id=\"edge6\" class=\"edge\">\n",
       "<title>8&#45;&gt;6</title>\n",
       "<path fill=\"none\" stroke=\"red\" d=\"M136.31,-260.27C147.82,-269.58 160.69,-282.01 168.62,-296 179.13,-314.51 183.84,-338.18 185.94,-356.46\"/>\n",
       "<polygon fill=\"red\" stroke=\"red\" points=\"182.45,-356.71 186.87,-366.35 189.42,-356.06 182.45,-356.71\"/>\n",
       "</g>\n",
       "<!-- 7&#45;&gt;8 -->\n",
       "<g id=\"edge8\" class=\"edge\">\n",
       "<title>7&#45;&gt;8</title>\n",
       "<path fill=\"none\" stroke=\"red\" d=\"M87.54,-295.7C91.02,-288.07 95.21,-278.92 99.1,-270.4\"/>\n",
       "<polygon fill=\"red\" stroke=\"red\" points=\"102.2,-272.03 103.18,-261.48 95.84,-269.12 102.2,-272.03\"/>\n",
       "</g>\n",
       "<!-- 10 -->\n",
       "<g id=\"node11\" class=\"node\">\n",
       "<title>10</title>\n",
       "<ellipse fill=\"none\" stroke=\"black\" cx=\"276.62\" cy=\"-242\" rx=\"78.87\" ry=\"18\"/>\n",
       "<text text-anchor=\"middle\" x=\"276.62\" y=\"-235.82\" font-family=\"Times,serif\" font-size=\"14.00\">10: a2: float = 2 * a</text>\n",
       "</g>\n",
       "<!-- 9&#45;&gt;10 -->\n",
       "<g id=\"edge10\" class=\"edge\">\n",
       "<title>9&#45;&gt;10</title>\n",
       "<path fill=\"none\" stroke=\"green\" d=\"M276.62,-295.7C276.62,-288.41 276.62,-279.73 276.62,-271.54\"/>\n",
       "<polygon fill=\"green\" stroke=\"green\" points=\"280.13,-271.62 276.63,-261.62 273.13,-271.62 280.13,-271.62\"/>\n",
       "</g>\n",
       "<!-- 11 -->\n",
       "<g id=\"node12\" class=\"node\">\n",
       "<title>11</title>\n",
       "<ellipse fill=\"none\" stroke=\"black\" cx=\"276.62\" cy=\"-170\" rx=\"85.55\" ry=\"18\"/>\n",
       "<text text-anchor=\"middle\" x=\"276.62\" y=\"-163.82\" font-family=\"Times,serif\" font-size=\"14.00\">11: ba2: float = b / a2</text>\n",
       "</g>\n",
       "<!-- 10&#45;&gt;11 -->\n",
       "<g id=\"edge11\" class=\"edge\">\n",
       "<title>10&#45;&gt;11</title>\n",
       "<path fill=\"none\" stroke=\"green\" d=\"M276.62,-223.7C276.62,-216.41 276.62,-207.73 276.62,-199.54\"/>\n",
       "<polygon fill=\"green\" stroke=\"green\" points=\"280.13,-199.62 276.63,-189.62 273.13,-199.62 280.13,-199.62\"/>\n",
       "</g>\n",
       "<!-- 11&#45;&gt;12 -->\n",
       "<g id=\"edge12\" class=\"edge\">\n",
       "<title>11&#45;&gt;12</title>\n",
       "<path fill=\"none\" stroke=\"green\" d=\"M276.62,-151.7C276.62,-144.41 276.62,-135.73 276.62,-127.54\"/>\n",
       "<polygon fill=\"green\" stroke=\"green\" points=\"280.13,-127.62 276.63,-117.62 273.13,-127.62 280.13,-127.62\"/>\n",
       "</g>\n",
       "</g>\n",
       "</svg>\n"
      ],
      "text/plain": [
       "<graphviz.graphs.Digraph at 0x1476a3fa0>"
      ]
     },
     "execution_count": 216,
     "metadata": {},
     "output_type": "execute_result"
    }
   ],
   "source": [
    "with ArcCoverage() as cov:\n",
    "    roots(1, 1, 1)\n",
    "show_cfg(roots, arcs=cov.arcs())"
   ]
  },
  {
   "cell_type": "code",
   "execution_count": 217,
   "metadata": {
    "execution": {
     "iopub.execute_input": "2023-11-12T12:47:37.143776Z",
     "iopub.status.busy": "2023-11-12T12:47:37.143654Z",
     "iopub.status.idle": "2023-11-12T12:47:37.547275Z",
     "shell.execute_reply": "2023-11-12T12:47:37.546842Z"
    },
    "slideshow": {
     "slide_type": "fragment"
    },
    "solution2": "hidden"
   },
   "outputs": [
    {
     "data": {
      "image/svg+xml": [
       "<?xml version=\"1.0\" encoding=\"UTF-8\" standalone=\"no\"?>\n",
       "<!DOCTYPE svg PUBLIC \"-//W3C//DTD SVG 1.1//EN\"\n",
       " \"http://www.w3.org/Graphics/SVG/1.1/DTD/svg11.dtd\">\n",
       "<!-- Generated by graphviz version 9.0.0 (20230911.1827)\n",
       " -->\n",
       "<!-- Pages: 1 -->\n",
       "<svg width=\"397pt\" height=\"708pt\"\n",
       " viewBox=\"0.00 0.00 396.50 708.00\" xmlns=\"http://www.w3.org/2000/svg\" xmlns:xlink=\"http://www.w3.org/1999/xlink\">\n",
       "<g id=\"graph0\" class=\"graph\" transform=\"scale(1 1) rotate(0) translate(4 704)\">\n",
       "<polygon fill=\"white\" stroke=\"none\" points=\"-4,4 -4,-704 392.5,-704 392.5,4 -4,4\"/>\n",
       "<!-- 1 -->\n",
       "<g id=\"node1\" class=\"node\">\n",
       "<title>1</title>\n",
       "<ellipse fill=\"none\" stroke=\"black\" cx=\"187.62\" cy=\"-678\" rx=\"85.55\" ry=\"18\"/>\n",
       "<ellipse fill=\"none\" stroke=\"black\" cx=\"187.62\" cy=\"-678\" rx=\"89.55\" ry=\"22\"/>\n",
       "<text text-anchor=\"middle\" x=\"187.62\" y=\"-671.83\" font-family=\"Times,serif\" font-size=\"14.00\">1: enter: roots(a, b, c)</text>\n",
       "</g>\n",
       "<!-- 3 -->\n",
       "<g id=\"node4\" class=\"node\">\n",
       "<title>3</title>\n",
       "<ellipse fill=\"none\" stroke=\"black\" cx=\"187.62\" cy=\"-602\" rx=\"108.92\" ry=\"18\"/>\n",
       "<text text-anchor=\"middle\" x=\"187.62\" y=\"-595.83\" font-family=\"Times,serif\" font-size=\"14.00\">2: d: float = b * b &#45; 4 * a * c</text>\n",
       "</g>\n",
       "<!-- 1&#45;&gt;3 -->\n",
       "<g id=\"edge2\" class=\"edge\">\n",
       "<title>1&#45;&gt;3</title>\n",
       "<path fill=\"none\" stroke=\"green\" d=\"M187.62,-655.6C187.62,-648.11 187.62,-639.59 187.62,-631.61\"/>\n",
       "<polygon fill=\"green\" stroke=\"green\" points=\"191.13,-631.65 187.63,-621.65 184.13,-631.65 191.13,-631.65\"/>\n",
       "</g>\n",
       "<!-- 2 -->\n",
       "<g id=\"node2\" class=\"node\">\n",
       "<title>2</title>\n",
       "<ellipse fill=\"none\" stroke=\"black\" cx=\"276.62\" cy=\"-22\" rx=\"81.25\" ry=\"18\"/>\n",
       "<ellipse fill=\"none\" stroke=\"black\" cx=\"276.62\" cy=\"-22\" rx=\"85.25\" ry=\"22\"/>\n",
       "<text text-anchor=\"middle\" x=\"276.62\" y=\"-15.82\" font-family=\"Times,serif\" font-size=\"14.00\">1: exit: roots(a, b, c)</text>\n",
       "</g>\n",
       "<!-- 12 -->\n",
       "<g id=\"node3\" class=\"node\">\n",
       "<title>12</title>\n",
       "<polygon fill=\"none\" stroke=\"black\" points=\"388.5,-116 164.75,-116 164.75,-80 388.5,-80 388.5,-116\"/>\n",
       "<text text-anchor=\"middle\" x=\"276.62\" y=\"-91.83\" font-family=\"Times,serif\" font-size=\"14.00\">13: return (&#45;ba2 + s / a2, &#45;ba2 &#45; s / a2)</text>\n",
       "</g>\n",
       "<!-- 12&#45;&gt;2 -->\n",
       "<g id=\"edge1\" class=\"edge\">\n",
       "<title>12&#45;&gt;2</title>\n",
       "<path fill=\"none\" stroke=\"green\" d=\"M276.62,-79.84C276.62,-72.64 276.62,-64.02 276.62,-55.7\"/>\n",
       "<polygon fill=\"green\" stroke=\"green\" points=\"280.13,-55.82 276.63,-45.82 273.13,-55.82 280.13,-55.82\"/>\n",
       "</g>\n",
       "<!-- 4 -->\n",
       "<g id=\"node5\" class=\"node\">\n",
       "<title>4</title>\n",
       "<ellipse fill=\"none\" stroke=\"black\" cx=\"187.62\" cy=\"-530\" rx=\"81.73\" ry=\"18\"/>\n",
       "<text text-anchor=\"middle\" x=\"187.62\" y=\"-523.83\" font-family=\"Times,serif\" font-size=\"14.00\">3: ax: float = 0.5 * d</text>\n",
       "</g>\n",
       "<!-- 3&#45;&gt;4 -->\n",
       "<g id=\"edge3\" class=\"edge\">\n",
       "<title>3&#45;&gt;4</title>\n",
       "<path fill=\"none\" stroke=\"green\" d=\"M187.62,-583.7C187.62,-576.41 187.62,-567.73 187.62,-559.54\"/>\n",
       "<polygon fill=\"green\" stroke=\"green\" points=\"191.13,-559.62 187.63,-549.62 184.13,-559.62 191.13,-559.62\"/>\n",
       "</g>\n",
       "<!-- 5 -->\n",
       "<g id=\"node6\" class=\"node\">\n",
       "<title>5</title>\n",
       "<ellipse fill=\"none\" stroke=\"black\" cx=\"187.62\" cy=\"-458\" rx=\"62.17\" ry=\"18\"/>\n",
       "<text text-anchor=\"middle\" x=\"187.62\" y=\"-451.82\" font-family=\"Times,serif\" font-size=\"14.00\">4: bx: float = 0</text>\n",
       "</g>\n",
       "<!-- 4&#45;&gt;5 -->\n",
       "<g id=\"edge4\" class=\"edge\">\n",
       "<title>4&#45;&gt;5</title>\n",
       "<path fill=\"none\" stroke=\"green\" d=\"M187.62,-511.7C187.62,-504.41 187.62,-495.73 187.62,-487.54\"/>\n",
       "<polygon fill=\"green\" stroke=\"green\" points=\"191.13,-487.62 187.63,-477.62 184.13,-487.62 191.13,-487.62\"/>\n",
       "</g>\n",
       "<!-- 6 -->\n",
       "<g id=\"node7\" class=\"node\">\n",
       "<title>6</title>\n",
       "<polygon fill=\"none\" stroke=\"black\" points=\"187.62,-404 62.6,-386 187.62,-368 312.65,-386 187.62,-404\"/>\n",
       "<text text-anchor=\"middle\" x=\"187.62\" y=\"-379.82\" font-family=\"Times,serif\" font-size=\"14.00\">5: while: ax &#45; bx &gt; 0.1</text>\n",
       "</g>\n",
       "<!-- 5&#45;&gt;6 -->\n",
       "<g id=\"edge5\" class=\"edge\">\n",
       "<title>5&#45;&gt;6</title>\n",
       "<path fill=\"none\" stroke=\"green\" d=\"M187.62,-439.7C187.62,-432.41 187.62,-423.73 187.62,-415.54\"/>\n",
       "<polygon fill=\"green\" stroke=\"green\" points=\"191.13,-415.62 187.63,-405.62 184.13,-415.62 191.13,-415.62\"/>\n",
       "</g>\n",
       "<!-- 7 -->\n",
       "<g id=\"node9\" class=\"node\">\n",
       "<title>7</title>\n",
       "<polygon fill=\"none\" stroke=\"black\" points=\"159.25,-332 0,-332 0,-296 159.25,-296 159.25,-332\"/>\n",
       "<text text-anchor=\"middle\" x=\"79.62\" y=\"-307.82\" font-family=\"Times,serif\" font-size=\"14.00\">6: bx = 0.5 * (ax + d / ax)</text>\n",
       "</g>\n",
       "<!-- 6&#45;&gt;7 -->\n",
       "<g id=\"edge7\" class=\"edge\">\n",
       "<title>6&#45;&gt;7</title>\n",
       "<path fill=\"none\" stroke=\"red\" d=\"M165.77,-370.83C151.45,-361.55 132.38,-349.19 115.82,-338.46\"/>\n",
       "<polygon fill=\"red\" stroke=\"red\" points=\"117.99,-335.69 107.69,-333.19 114.18,-341.57 117.99,-335.69\"/>\n",
       "</g>\n",
       "<!-- 9 -->\n",
       "<g id=\"node10\" class=\"node\">\n",
       "<title>9</title>\n",
       "<ellipse fill=\"none\" stroke=\"black\" cx=\"276.62\" cy=\"-314\" rx=\"61.22\" ry=\"18\"/>\n",
       "<text text-anchor=\"middle\" x=\"276.62\" y=\"-307.82\" font-family=\"Times,serif\" font-size=\"14.00\">9: s: float = bx</text>\n",
       "</g>\n",
       "<!-- 6&#45;&gt;9 -->\n",
       "<g id=\"edge9\" class=\"edge\">\n",
       "<title>6&#45;&gt;9</title>\n",
       "<path fill=\"none\" stroke=\"green\" d=\"M206.07,-370.5C217.9,-361.19 233.52,-348.9 247.06,-338.25\"/>\n",
       "<polygon fill=\"green\" stroke=\"green\" points=\"249.14,-341.07 254.84,-332.13 244.82,-335.56 249.14,-341.07\"/>\n",
       "</g>\n",
       "<!-- 8 -->\n",
       "<g id=\"node8\" class=\"node\">\n",
       "<title>8</title>\n",
       "<polygon fill=\"none\" stroke=\"black\" points=\"147.75,-260 75.5,-260 75.5,-224 147.75,-224 147.75,-260\"/>\n",
       "<text text-anchor=\"middle\" x=\"111.62\" y=\"-235.82\" font-family=\"Times,serif\" font-size=\"14.00\">7: ax = bx</text>\n",
       "</g>\n",
       "<!-- 8&#45;&gt;6 -->\n",
       "<g id=\"edge6\" class=\"edge\">\n",
       "<title>8&#45;&gt;6</title>\n",
       "<path fill=\"none\" stroke=\"red\" d=\"M136.31,-260.27C147.82,-269.58 160.69,-282.01 168.62,-296 179.13,-314.51 183.84,-338.18 185.94,-356.46\"/>\n",
       "<polygon fill=\"red\" stroke=\"red\" points=\"182.45,-356.71 186.87,-366.35 189.42,-356.06 182.45,-356.71\"/>\n",
       "</g>\n",
       "<!-- 7&#45;&gt;8 -->\n",
       "<g id=\"edge8\" class=\"edge\">\n",
       "<title>7&#45;&gt;8</title>\n",
       "<path fill=\"none\" stroke=\"red\" d=\"M87.54,-295.7C91.02,-288.07 95.21,-278.92 99.1,-270.4\"/>\n",
       "<polygon fill=\"red\" stroke=\"red\" points=\"102.2,-272.03 103.18,-261.48 95.84,-269.12 102.2,-272.03\"/>\n",
       "</g>\n",
       "<!-- 10 -->\n",
       "<g id=\"node11\" class=\"node\">\n",
       "<title>10</title>\n",
       "<ellipse fill=\"none\" stroke=\"black\" cx=\"276.62\" cy=\"-242\" rx=\"78.87\" ry=\"18\"/>\n",
       "<text text-anchor=\"middle\" x=\"276.62\" y=\"-235.82\" font-family=\"Times,serif\" font-size=\"14.00\">10: a2: float = 2 * a</text>\n",
       "</g>\n",
       "<!-- 9&#45;&gt;10 -->\n",
       "<g id=\"edge10\" class=\"edge\">\n",
       "<title>9&#45;&gt;10</title>\n",
       "<path fill=\"none\" stroke=\"green\" d=\"M276.62,-295.7C276.62,-288.41 276.62,-279.73 276.62,-271.54\"/>\n",
       "<polygon fill=\"green\" stroke=\"green\" points=\"280.13,-271.62 276.63,-261.62 273.13,-271.62 280.13,-271.62\"/>\n",
       "</g>\n",
       "<!-- 11 -->\n",
       "<g id=\"node12\" class=\"node\">\n",
       "<title>11</title>\n",
       "<ellipse fill=\"none\" stroke=\"black\" cx=\"276.62\" cy=\"-170\" rx=\"85.55\" ry=\"18\"/>\n",
       "<text text-anchor=\"middle\" x=\"276.62\" y=\"-163.82\" font-family=\"Times,serif\" font-size=\"14.00\">11: ba2: float = b / a2</text>\n",
       "</g>\n",
       "<!-- 10&#45;&gt;11 -->\n",
       "<g id=\"edge11\" class=\"edge\">\n",
       "<title>10&#45;&gt;11</title>\n",
       "<path fill=\"none\" stroke=\"green\" d=\"M276.62,-223.7C276.62,-216.41 276.62,-207.73 276.62,-199.54\"/>\n",
       "<polygon fill=\"green\" stroke=\"green\" points=\"280.13,-199.62 276.63,-189.62 273.13,-199.62 280.13,-199.62\"/>\n",
       "</g>\n",
       "<!-- 11&#45;&gt;12 -->\n",
       "<g id=\"edge12\" class=\"edge\">\n",
       "<title>11&#45;&gt;12</title>\n",
       "<path fill=\"none\" stroke=\"green\" d=\"M276.62,-151.7C276.62,-144.41 276.62,-135.73 276.62,-127.54\"/>\n",
       "<polygon fill=\"green\" stroke=\"green\" points=\"280.13,-127.62 276.63,-117.62 273.13,-127.62 280.13,-127.62\"/>\n",
       "</g>\n",
       "</g>\n",
       "</svg>\n"
      ],
      "text/plain": [
       "<graphviz.graphs.Digraph at 0x10ff1bc10>"
      ]
     },
     "execution_count": 217,
     "metadata": {},
     "output_type": "execute_result"
    }
   ],
   "source": [
    "with ArcCoverage() as cov:\n",
    "    roots(-1, 0, 0)\n",
    "show_cfg(roots, arcs=cov.arcs())"
   ]
  },
  {
   "cell_type": "markdown",
   "metadata": {
    "slideshow": {
     "slide_type": "subslide"
    },
    "solution2": "hidden"
   },
   "source": [
    "Indeed, even though the arguments were different, the path traced is exactly the same.\n",
    "\n",
    "As we saw in the chapter on [concolic fuzzing](ConcolicFuzzer.ipynb), concolic tracing has another use, namely that we can use it to explore nearby paths. We will see how to do that next."
   ]
  },
  {
   "cell_type": "markdown",
   "metadata": {
    "slideshow": {
     "slide_type": "subslide"
    },
    "solution2": "hidden"
   },
   "source": [
    "#### Exploring Nearby Paths\n",
    "\n",
    "We collected the following constraints."
   ]
  },
  {
   "cell_type": "code",
   "execution_count": 218,
   "metadata": {
    "execution": {
     "iopub.execute_input": "2023-11-12T12:47:37.549226Z",
     "iopub.status.busy": "2023-11-12T12:47:37.549094Z",
     "iopub.status.idle": "2023-11-12T12:47:37.551708Z",
     "shell.execute_reply": "2023-11-12T12:47:37.551433Z"
    },
    "slideshow": {
     "slide_type": "fragment"
    },
    "solution2": "hidden"
   },
   "outputs": [
    {
     "data": {
      "text/plain": [
       "['z3.And(a == _a_0, b == _b_0, c == _c_0)',\n",
       " '_d_0 == _b_0 * _b_0 - 4 * _a_0 * _c_0',\n",
       " '_xa_0 == 0.5 * _d_0',\n",
       " '_xb_0 == 0',\n",
       " 'z3.Not(_xa_0 - _xb_0 > 0.1)',\n",
       " '_s_0 == _xb_0',\n",
       " 'z3.Not(_a_0 == 0)',\n",
       " '_a2_0 == 2 * _a_0',\n",
       " '_ba2_0 == _b_0 / _a2_0']"
      ]
     },
     "execution_count": 218,
     "metadata": {},
     "output_type": "execute_result"
    }
   ],
   "source": [
    "constraints"
   ]
  },
  {
   "cell_type": "markdown",
   "metadata": {
    "slideshow": {
     "slide_type": "subslide"
    },
    "solution2": "hidden"
   },
   "source": [
    "We can explore nearby paths by negating the conditionals starting from the very last. (A question for the student: Why do we want to start negating from the very last?)"
   ]
  },
  {
   "cell_type": "code",
   "execution_count": 219,
   "metadata": {
    "execution": {
     "iopub.execute_input": "2023-11-12T12:47:37.553398Z",
     "iopub.status.busy": "2023-11-12T12:47:37.553278Z",
     "iopub.status.idle": "2023-11-12T12:47:37.555005Z",
     "shell.execute_reply": "2023-11-12T12:47:37.554714Z"
    },
    "slideshow": {
     "slide_type": "fragment"
    },
    "solution2": "hidden"
   },
   "outputs": [],
   "source": [
    "new_constraints = constraints[0:4] + ['z3.Not(%s)' % constraints[4]]"
   ]
  },
  {
   "cell_type": "code",
   "execution_count": 220,
   "metadata": {
    "execution": {
     "iopub.execute_input": "2023-11-12T12:47:37.556514Z",
     "iopub.status.busy": "2023-11-12T12:47:37.556393Z",
     "iopub.status.idle": "2023-11-12T12:47:37.558597Z",
     "shell.execute_reply": "2023-11-12T12:47:37.558311Z"
    },
    "slideshow": {
     "slide_type": "fragment"
    },
    "solution2": "hidden"
   },
   "outputs": [
    {
     "data": {
      "text/plain": [
       "['z3.And(a == _a_0, b == _b_0, c == _c_0)',\n",
       " '_d_0 == _b_0 * _b_0 - 4 * _a_0 * _c_0',\n",
       " '_xa_0 == 0.5 * _d_0',\n",
       " '_xb_0 == 0',\n",
       " 'z3.Not(z3.Not(_xa_0 - _xb_0 > 0.1))']"
      ]
     },
     "execution_count": 220,
     "metadata": {},
     "output_type": "execute_result"
    }
   ],
   "source": [
    "new_constraints"
   ]
  },
  {
   "cell_type": "code",
   "execution_count": 221,
   "metadata": {
    "execution": {
     "iopub.execute_input": "2023-11-12T12:47:37.560090Z",
     "iopub.status.busy": "2023-11-12T12:47:37.559978Z",
     "iopub.status.idle": "2023-11-12T12:47:37.602563Z",
     "shell.execute_reply": "2023-11-12T12:47:37.602285Z"
    },
    "slideshow": {
     "slide_type": "subslide"
    },
    "solution2": "hidden"
   },
   "outputs": [
    {
     "name": "stdout",
     "output_type": "stream",
     "text": [
      "[_a_0 = -11/20,\n",
      " _b_0 = 0,\n",
      " _c_0 = 1,\n",
      " _xb_0 = 0,\n",
      " _xa_0 = 11/10,\n",
      " _d_0 = 11/5,\n",
      " c = 1,\n",
      " b = 0,\n",
      " a = -11/20]\n"
     ]
    }
   ],
   "source": [
    "eval('z3.solve(%s)' % ','.join(new_constraints))"
   ]
  },
  {
   "cell_type": "code",
   "execution_count": 222,
   "metadata": {
    "execution": {
     "iopub.execute_input": "2023-11-12T12:47:37.604268Z",
     "iopub.status.busy": "2023-11-12T12:47:37.604143Z",
     "iopub.status.idle": "2023-11-12T12:47:38.002033Z",
     "shell.execute_reply": "2023-11-12T12:47:38.001639Z"
    },
    "slideshow": {
     "slide_type": "fragment"
    },
    "solution2": "hidden"
   },
   "outputs": [
    {
     "data": {
      "image/svg+xml": [
       "<?xml version=\"1.0\" encoding=\"UTF-8\" standalone=\"no\"?>\n",
       "<!DOCTYPE svg PUBLIC \"-//W3C//DTD SVG 1.1//EN\"\n",
       " \"http://www.w3.org/Graphics/SVG/1.1/DTD/svg11.dtd\">\n",
       "<!-- Generated by graphviz version 9.0.0 (20230911.1827)\n",
       " -->\n",
       "<!-- Pages: 1 -->\n",
       "<svg width=\"597pt\" height=\"780pt\"\n",
       " viewBox=\"0.00 0.00 597.12 780.00\" xmlns=\"http://www.w3.org/2000/svg\" xmlns:xlink=\"http://www.w3.org/1999/xlink\">\n",
       "<g id=\"graph0\" class=\"graph\" transform=\"scale(1 1) rotate(0) translate(4 776)\">\n",
       "<polygon fill=\"white\" stroke=\"none\" points=\"-4,4 -4,-776 593.12,-776 593.12,4 -4,4\"/>\n",
       "<!-- 1 -->\n",
       "<g id=\"node1\" class=\"node\">\n",
       "<title>1</title>\n",
       "<ellipse fill=\"none\" stroke=\"black\" cx=\"287.25\" cy=\"-750\" rx=\"89.84\" ry=\"18\"/>\n",
       "<ellipse fill=\"none\" stroke=\"black\" cx=\"287.25\" cy=\"-750\" rx=\"93.84\" ry=\"22\"/>\n",
       "<text text-anchor=\"middle\" x=\"287.25\" y=\"-743.83\" font-family=\"Times,serif\" font-size=\"14.00\">1: enter: roots3(a, b, c)</text>\n",
       "</g>\n",
       "<!-- 3 -->\n",
       "<g id=\"node6\" class=\"node\">\n",
       "<title>3</title>\n",
       "<ellipse fill=\"none\" stroke=\"black\" cx=\"287.25\" cy=\"-674\" rx=\"108.92\" ry=\"18\"/>\n",
       "<text text-anchor=\"middle\" x=\"287.25\" y=\"-667.83\" font-family=\"Times,serif\" font-size=\"14.00\">2: d: float = b * b &#45; 4 * a * c</text>\n",
       "</g>\n",
       "<!-- 1&#45;&gt;3 -->\n",
       "<g id=\"edge4\" class=\"edge\">\n",
       "<title>1&#45;&gt;3</title>\n",
       "<path fill=\"none\" stroke=\"green\" d=\"M287.25,-727.6C287.25,-720.11 287.25,-711.59 287.25,-703.61\"/>\n",
       "<polygon fill=\"green\" stroke=\"green\" points=\"290.75,-703.65 287.25,-693.65 283.75,-703.65 290.75,-703.65\"/>\n",
       "</g>\n",
       "<!-- 2 -->\n",
       "<g id=\"node2\" class=\"node\">\n",
       "<title>2</title>\n",
       "<ellipse fill=\"none\" stroke=\"black\" cx=\"274.25\" cy=\"-22\" rx=\"85.55\" ry=\"18\"/>\n",
       "<ellipse fill=\"none\" stroke=\"black\" cx=\"274.25\" cy=\"-22\" rx=\"89.55\" ry=\"22\"/>\n",
       "<text text-anchor=\"middle\" x=\"274.25\" y=\"-15.82\" font-family=\"Times,serif\" font-size=\"14.00\">1: exit: roots3(a, b, c)</text>\n",
       "</g>\n",
       "<!-- 12 -->\n",
       "<g id=\"node3\" class=\"node\">\n",
       "<title>12</title>\n",
       "<polygon fill=\"none\" stroke=\"black\" points=\"182.5,-116 0,-116 0,-80 182.5,-80 182.5,-116\"/>\n",
       "<text text-anchor=\"middle\" x=\"91.25\" y=\"-91.83\" font-family=\"Times,serif\" font-size=\"14.00\">13: return (math.inf, math.inf)</text>\n",
       "</g>\n",
       "<!-- 12&#45;&gt;2 -->\n",
       "<g id=\"edge1\" class=\"edge\">\n",
       "<title>12&#45;&gt;2</title>\n",
       "<path fill=\"none\" stroke=\"red\" d=\"M134.16,-79.65C159.24,-69.51 191.2,-56.58 218.25,-45.64\"/>\n",
       "<polygon fill=\"red\" stroke=\"red\" points=\"219.38,-48.96 227.33,-41.97 216.75,-42.48 219.38,-48.96\"/>\n",
       "</g>\n",
       "<!-- 13 -->\n",
       "<g id=\"node4\" class=\"node\">\n",
       "<title>13</title>\n",
       "<polygon fill=\"none\" stroke=\"black\" points=\"347.5,-116 201,-116 201,-80 347.5,-80 347.5,-116\"/>\n",
       "<text text-anchor=\"middle\" x=\"274.25\" y=\"-91.83\" font-family=\"Times,serif\" font-size=\"14.00\">14: return (&#45;c / b, &#45;c / b)</text>\n",
       "</g>\n",
       "<!-- 13&#45;&gt;2 -->\n",
       "<g id=\"edge2\" class=\"edge\">\n",
       "<title>13&#45;&gt;2</title>\n",
       "<path fill=\"none\" stroke=\"red\" d=\"M274.25,-79.84C274.25,-72.64 274.25,-64.02 274.25,-55.7\"/>\n",
       "<polygon fill=\"red\" stroke=\"red\" points=\"277.75,-55.82 274.25,-45.82 270.75,-55.82 277.75,-55.82\"/>\n",
       "</g>\n",
       "<!-- 16 -->\n",
       "<g id=\"node5\" class=\"node\">\n",
       "<title>16</title>\n",
       "<polygon fill=\"none\" stroke=\"black\" points=\"589.12,-116 365.38,-116 365.38,-80 589.12,-80 589.12,-116\"/>\n",
       "<text text-anchor=\"middle\" x=\"477.25\" y=\"-91.83\" font-family=\"Times,serif\" font-size=\"14.00\">18: return (&#45;ba2 + s / a2, &#45;ba2 &#45; s / a2)</text>\n",
       "</g>\n",
       "<!-- 16&#45;&gt;2 -->\n",
       "<g id=\"edge3\" class=\"edge\">\n",
       "<title>16&#45;&gt;2</title>\n",
       "<path fill=\"none\" stroke=\"green\" d=\"M429.4,-79.56C400.77,-69.12 364.16,-55.77 333.69,-44.67\"/>\n",
       "<polygon fill=\"green\" stroke=\"green\" points=\"335.21,-41.5 324.61,-41.36 332.81,-48.07 335.21,-41.5\"/>\n",
       "</g>\n",
       "<!-- 4 -->\n",
       "<g id=\"node7\" class=\"node\">\n",
       "<title>4</title>\n",
       "<ellipse fill=\"none\" stroke=\"black\" cx=\"287.25\" cy=\"-602\" rx=\"81.73\" ry=\"18\"/>\n",
       "<text text-anchor=\"middle\" x=\"287.25\" y=\"-595.83\" font-family=\"Times,serif\" font-size=\"14.00\">4: xa: float = 0.5 * d</text>\n",
       "</g>\n",
       "<!-- 3&#45;&gt;4 -->\n",
       "<g id=\"edge5\" class=\"edge\">\n",
       "<title>3&#45;&gt;4</title>\n",
       "<path fill=\"none\" stroke=\"green\" d=\"M287.25,-655.7C287.25,-648.41 287.25,-639.73 287.25,-631.54\"/>\n",
       "<polygon fill=\"green\" stroke=\"green\" points=\"290.75,-631.62 287.25,-621.62 283.75,-631.62 290.75,-631.62\"/>\n",
       "</g>\n",
       "<!-- 5 -->\n",
       "<g id=\"node8\" class=\"node\">\n",
       "<title>5</title>\n",
       "<ellipse fill=\"none\" stroke=\"black\" cx=\"287.25\" cy=\"-530\" rx=\"62.17\" ry=\"18\"/>\n",
       "<text text-anchor=\"middle\" x=\"287.25\" y=\"-523.83\" font-family=\"Times,serif\" font-size=\"14.00\">5: xb: float = 0</text>\n",
       "</g>\n",
       "<!-- 4&#45;&gt;5 -->\n",
       "<g id=\"edge6\" class=\"edge\">\n",
       "<title>4&#45;&gt;5</title>\n",
       "<path fill=\"none\" stroke=\"green\" d=\"M287.25,-583.7C287.25,-576.41 287.25,-567.73 287.25,-559.54\"/>\n",
       "<polygon fill=\"green\" stroke=\"green\" points=\"290.75,-559.62 287.25,-549.62 283.75,-559.62 290.75,-559.62\"/>\n",
       "</g>\n",
       "<!-- 6 -->\n",
       "<g id=\"node9\" class=\"node\">\n",
       "<title>6</title>\n",
       "<polygon fill=\"none\" stroke=\"black\" points=\"287.25,-476 162.22,-458 287.25,-440 412.28,-458 287.25,-476\"/>\n",
       "<text text-anchor=\"middle\" x=\"287.25\" y=\"-451.82\" font-family=\"Times,serif\" font-size=\"14.00\">6: while: xa &#45; xb &gt; 0.1</text>\n",
       "</g>\n",
       "<!-- 5&#45;&gt;6 -->\n",
       "<g id=\"edge7\" class=\"edge\">\n",
       "<title>5&#45;&gt;6</title>\n",
       "<path fill=\"none\" stroke=\"green\" d=\"M287.25,-511.7C287.25,-504.41 287.25,-495.73 287.25,-487.54\"/>\n",
       "<polygon fill=\"green\" stroke=\"green\" points=\"290.75,-487.62 287.25,-477.62 283.75,-487.62 290.75,-487.62\"/>\n",
       "</g>\n",
       "<!-- 7 -->\n",
       "<g id=\"node11\" class=\"node\">\n",
       "<title>7</title>\n",
       "<polygon fill=\"none\" stroke=\"black\" points=\"258.88,-404 99.62,-404 99.62,-368 258.88,-368 258.88,-404\"/>\n",
       "<text text-anchor=\"middle\" x=\"179.25\" y=\"-379.82\" font-family=\"Times,serif\" font-size=\"14.00\">7: xb = 0.5 * (xa + d / xa)</text>\n",
       "</g>\n",
       "<!-- 6&#45;&gt;7 -->\n",
       "<g id=\"edge9\" class=\"edge\">\n",
       "<title>6&#45;&gt;7</title>\n",
       "<path fill=\"none\" stroke=\"green\" d=\"M265.39,-442.83C251.07,-433.55 232,-421.19 215.45,-410.46\"/>\n",
       "<polygon fill=\"green\" stroke=\"green\" points=\"217.61,-407.69 207.32,-405.19 213.8,-413.57 217.61,-407.69\"/>\n",
       "</g>\n",
       "<!-- 9 -->\n",
       "<g id=\"node12\" class=\"node\">\n",
       "<title>9</title>\n",
       "<ellipse fill=\"none\" stroke=\"black\" cx=\"376.25\" cy=\"-386\" rx=\"61.22\" ry=\"18\"/>\n",
       "<text text-anchor=\"middle\" x=\"376.25\" y=\"-379.82\" font-family=\"Times,serif\" font-size=\"14.00\">9: s: float = xb</text>\n",
       "</g>\n",
       "<!-- 6&#45;&gt;9 -->\n",
       "<g id=\"edge11\" class=\"edge\">\n",
       "<title>6&#45;&gt;9</title>\n",
       "<path fill=\"none\" stroke=\"green\" d=\"M305.69,-442.5C317.52,-433.19 333.15,-420.9 346.69,-410.25\"/>\n",
       "<polygon fill=\"green\" stroke=\"green\" points=\"348.77,-413.07 354.47,-404.13 344.44,-407.56 348.77,-413.07\"/>\n",
       "</g>\n",
       "<!-- 8 -->\n",
       "<g id=\"node10\" class=\"node\">\n",
       "<title>8</title>\n",
       "<polygon fill=\"none\" stroke=\"black\" points=\"246.38,-332 174.12,-332 174.12,-296 246.38,-296 246.38,-332\"/>\n",
       "<text text-anchor=\"middle\" x=\"210.25\" y=\"-307.82\" font-family=\"Times,serif\" font-size=\"14.00\">8: xa = xb</text>\n",
       "</g>\n",
       "<!-- 8&#45;&gt;6 -->\n",
       "<g id=\"edge8\" class=\"edge\">\n",
       "<title>8&#45;&gt;6</title>\n",
       "<path fill=\"none\" stroke=\"green\" d=\"M235.67,-332.42C247.3,-341.68 260.25,-354.03 268.25,-368 278.83,-386.47 283.54,-410.14 285.62,-428.43\"/>\n",
       "<polygon fill=\"green\" stroke=\"green\" points=\"282.13,-428.69 286.53,-438.32 289.1,-428.05 282.13,-428.69\"/>\n",
       "</g>\n",
       "<!-- 7&#45;&gt;8 -->\n",
       "<g id=\"edge10\" class=\"edge\">\n",
       "<title>7&#45;&gt;8</title>\n",
       "<path fill=\"none\" stroke=\"green\" d=\"M186.91,-367.7C190.29,-360.07 194.34,-350.92 198.12,-342.4\"/>\n",
       "<polygon fill=\"green\" stroke=\"green\" points=\"201.21,-344.05 202.06,-333.49 194.81,-341.21 201.21,-344.05\"/>\n",
       "</g>\n",
       "<!-- 10 -->\n",
       "<g id=\"node13\" class=\"node\">\n",
       "<title>10</title>\n",
       "<polygon fill=\"none\" stroke=\"black\" points=\"376.25,-332 295.75,-314 376.25,-296 456.75,-314 376.25,-332\"/>\n",
       "<text text-anchor=\"middle\" x=\"376.25\" y=\"-307.82\" font-family=\"Times,serif\" font-size=\"14.00\">11: if: a == 0</text>\n",
       "</g>\n",
       "<!-- 9&#45;&gt;10 -->\n",
       "<g id=\"edge12\" class=\"edge\">\n",
       "<title>9&#45;&gt;10</title>\n",
       "<path fill=\"none\" stroke=\"green\" d=\"M376.25,-367.7C376.25,-360.41 376.25,-351.73 376.25,-343.54\"/>\n",
       "<polygon fill=\"green\" stroke=\"green\" points=\"379.75,-343.62 376.25,-333.62 372.75,-343.62 379.75,-343.62\"/>\n",
       "</g>\n",
       "<!-- 11 -->\n",
       "<g id=\"node14\" class=\"node\">\n",
       "<title>11</title>\n",
       "<polygon fill=\"none\" stroke=\"black\" points=\"274.25,-188 193.07,-170 274.25,-152 355.43,-170 274.25,-188\"/>\n",
       "<text text-anchor=\"middle\" x=\"274.25\" y=\"-163.82\" font-family=\"Times,serif\" font-size=\"14.00\">12: if: b == 0</text>\n",
       "</g>\n",
       "<!-- 10&#45;&gt;11 -->\n",
       "<g id=\"edge13\" class=\"edge\">\n",
       "<title>10&#45;&gt;11</title>\n",
       "<path fill=\"none\" stroke=\"red\" d=\"M365.53,-298.07C347.88,-273.51 312.57,-224.35 291.42,-194.9\"/>\n",
       "<polygon fill=\"red\" stroke=\"red\" points=\"294.39,-193.04 285.71,-186.96 288.7,-197.12 294.39,-193.04\"/>\n",
       "</g>\n",
       "<!-- 14 -->\n",
       "<g id=\"node15\" class=\"node\">\n",
       "<title>14</title>\n",
       "<ellipse fill=\"none\" stroke=\"black\" cx=\"439.25\" cy=\"-242\" rx=\"78.87\" ry=\"18\"/>\n",
       "<text text-anchor=\"middle\" x=\"439.25\" y=\"-235.82\" font-family=\"Times,serif\" font-size=\"14.00\">16: a2: float = 2 * a</text>\n",
       "</g>\n",
       "<!-- 10&#45;&gt;14 -->\n",
       "<g id=\"edge16\" class=\"edge\">\n",
       "<title>10&#45;&gt;14</title>\n",
       "<path fill=\"none\" stroke=\"green\" d=\"M389.3,-298.5C397.11,-289.82 407.25,-278.56 416.35,-268.45\"/>\n",
       "<polygon fill=\"green\" stroke=\"green\" points=\"418.89,-270.85 422.98,-261.08 413.69,-266.17 418.89,-270.85\"/>\n",
       "</g>\n",
       "<!-- 11&#45;&gt;12 -->\n",
       "<g id=\"edge14\" class=\"edge\">\n",
       "<title>11&#45;&gt;12</title>\n",
       "<path fill=\"none\" stroke=\"red\" d=\"M245.66,-158.06C219.46,-148.04 179.95,-132.93 147.44,-120.5\"/>\n",
       "<polygon fill=\"red\" stroke=\"red\" points=\"148.73,-117.24 138.13,-116.93 146.22,-123.78 148.73,-117.24\"/>\n",
       "</g>\n",
       "<!-- 11&#45;&gt;13 -->\n",
       "<g id=\"edge15\" class=\"edge\">\n",
       "<title>11&#45;&gt;13</title>\n",
       "<path fill=\"none\" stroke=\"red\" d=\"M274.25,-151.7C274.25,-144.41 274.25,-135.73 274.25,-127.54\"/>\n",
       "<polygon fill=\"red\" stroke=\"red\" points=\"277.75,-127.62 274.25,-117.62 270.75,-127.62 277.75,-127.62\"/>\n",
       "</g>\n",
       "<!-- 15 -->\n",
       "<g id=\"node16\" class=\"node\">\n",
       "<title>15</title>\n",
       "<ellipse fill=\"none\" stroke=\"black\" cx=\"468.25\" cy=\"-170\" rx=\"85.55\" ry=\"18\"/>\n",
       "<text text-anchor=\"middle\" x=\"468.25\" y=\"-163.82\" font-family=\"Times,serif\" font-size=\"14.00\">17: ba2: float = b / a2</text>\n",
       "</g>\n",
       "<!-- 14&#45;&gt;15 -->\n",
       "<g id=\"edge17\" class=\"edge\">\n",
       "<title>14&#45;&gt;15</title>\n",
       "<path fill=\"none\" stroke=\"green\" d=\"M446.42,-223.7C449.54,-216.15 453.29,-207.12 456.78,-198.68\"/>\n",
       "<polygon fill=\"green\" stroke=\"green\" points=\"459.99,-200.08 460.58,-189.5 453.52,-197.4 459.99,-200.08\"/>\n",
       "</g>\n",
       "<!-- 15&#45;&gt;16 -->\n",
       "<g id=\"edge18\" class=\"edge\">\n",
       "<title>15&#45;&gt;16</title>\n",
       "<path fill=\"none\" stroke=\"green\" d=\"M470.47,-151.7C471.42,-144.32 472.55,-135.52 473.62,-127.25\"/>\n",
       "<polygon fill=\"green\" stroke=\"green\" points=\"477.05,-127.97 474.86,-117.61 470.11,-127.08 477.05,-127.97\"/>\n",
       "</g>\n",
       "</g>\n",
       "</svg>\n"
      ],
      "text/plain": [
       "<graphviz.graphs.Digraph at 0x10fdf74c0>"
      ]
     },
     "execution_count": 222,
     "metadata": {},
     "output_type": "execute_result"
    }
   ],
   "source": [
    "with ArcCoverage() as cov:\n",
    "    roots3(1, 0, -11 / 20)\n",
    "show_cfg(roots3, arcs=cov.arcs())"
   ]
  },
  {
   "cell_type": "markdown",
   "metadata": {
    "slideshow": {
     "slide_type": "subslide"
    },
    "solution2": "hidden",
    "solution2_first": true
   },
   "source": [
    "Indeed, the path traced is now different. One can continue this procedure to the necessary number of times to explore all nearby paths to the execution.\n",
    "\n",
    "Can you incorporate this exploration into the concolic fuzzer?"
   ]
  },
  {
   "cell_type": "markdown",
   "metadata": {
    "slideshow": {
     "slide_type": "skip"
    },
    "solution2": "hidden"
   },
   "source": [
    "**Solution.** _None yet available._"
   ]
  },
  {
   "cell_type": "markdown",
   "metadata": {
    "slideshow": {
     "slide_type": "slide"
    }
   },
   "source": [
    "## Compatibility"
   ]
  },
  {
   "cell_type": "markdown",
   "metadata": {
    "slideshow": {
     "slide_type": "fragment"
    }
   },
   "source": [
    "Earlier versions of this chapter used the name `AdvancedSymbolicFuzzer` for `SymbolicFuzzer`."
   ]
  },
  {
   "cell_type": "code",
   "execution_count": 223,
   "metadata": {
    "execution": {
     "iopub.execute_input": "2023-11-12T12:47:38.003959Z",
     "iopub.status.busy": "2023-11-12T12:47:38.003829Z",
     "iopub.status.idle": "2023-11-12T12:47:38.005719Z",
     "shell.execute_reply": "2023-11-12T12:47:38.005435Z"
    },
    "slideshow": {
     "slide_type": "fragment"
    }
   },
   "outputs": [],
   "source": [
    "AdvancedSymbolicFuzzer = SymbolicFuzzer"
   ]
  }
 ],
 "metadata": {
  "ipub": {
   "bibliography": "fuzzingbook.bib",
   "toc": true
  },
  "kernelspec": {
   "display_name": "Python 3",
   "language": "python",
   "name": "python3"
  },
  "language_info": {
   "codemirror_mode": {
    "name": "ipython",
    "version": 3
   },
   "file_extension": ".py",
   "mimetype": "text/x-python",
   "name": "python",
   "nbconvert_exporter": "python",
   "pygments_lexer": "ipython3",
   "version": "3.10.2"
  },
  "toc": {
   "base_numbering": 1,
   "nav_menu": {},
   "number_sections": true,
   "sideBar": true,
   "skip_h1_title": true,
   "title_cell": "",
   "title_sidebar": "Contents",
   "toc_cell": false,
   "toc_position": {},
   "toc_section_display": true,
   "toc_window_display": true
  },
  "toc-autonumbering": false,
  "varInspector": {
   "cols": {
    "lenName": 16,
    "lenType": 16,
    "lenVar": 40
   },
   "kernels_config": {
    "python": {
     "delete_cmd_postfix": "",
     "delete_cmd_prefix": "del ",
     "library": "var_list.py",
     "varRefreshCmd": "print(var_dic_list())"
    },
    "r": {
     "delete_cmd_postfix": ") ",
     "delete_cmd_prefix": "rm(",
     "library": "var_list.r",
     "varRefreshCmd": "cat(var_dic_list()) "
    }
   },
   "types_to_exclude": [
    "module",
    "function",
    "builtin_function_or_method",
    "instance",
    "_Feature"
   ],
   "window_display": false
  },
  "vscode": {
   "interpreter": {
    "hash": "4185989cf89c47c310c2629adcadd634093b57a2c49dffb5ae8d0d14fa302f2b"
   }
  }
 },
 "nbformat": 4,
 "nbformat_minor": 4
}