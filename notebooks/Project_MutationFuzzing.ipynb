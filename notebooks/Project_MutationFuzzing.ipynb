{
 "cells": [
  {
   "cell_type": "code",
   "execution_count": null,
   "metadata": {},
   "outputs": [],
   "source": [
    "import bookutils.setup"
   ]
  },
  {
   "cell_type": "markdown",
   "metadata": {},
   "source": [
    "# Project 1 - Mutation Fuzzing\n",
    "\n",
    "Mutation fuzzers are effective at testing and perform well for unstructured or for simple inputs formats. However, when dealing with complex structured inputs their random mutations are innefficient. Consider, for example, the following SVG file:\n",
    "\n",
    "```\n",
    "<svg xmlns=\"http://www.w3.org/2000/svg\" viewBox=\"0 0 100 100\">\n",
    "  <path d=\"M17,30l19-12l43,54l-17,15zM14,84c12-20 46-61 61-72l13,19 c-17,10-50,50-60,64z\" fill=\"#C30\" stroke-linejoin=\"round\" stroke-width=\"6\" stroke=\"#C30\"></path>\n",
    "</svg>\n",
    "```\n",
    "\n",
    "A random mutation replacing `</svg>` for `=/sgv>`  is perfectly possible, however it would result in an invalid SVG, the same would happen if we add a `\"` to any attribute. When sequentially applying multiple random mutations, the probability of generating an input that is a valid SVG file significantly decreases.\n",
    "\n",
    "While fuzzers can run for days in a row to cover considerable behavior, the goal of this project is to utilize mutation fuzzing to cover as much code as possible during a specified number of generations. \n",
    "\n",
    "Our target is the [svglib](https://pypi.org/project/svglib/) SVG rendering library written in python. For an easier integration with the library we provide a wrapped function __parse_svg(string)__, which receives a string with the SVG content and invokes the parsing library. To ensure that all converted elements are correct, the wrapper function internally converts the parsed SVG into PDF and PNG formats. Finally, the wrapper function returns an _RLG Drawing_ object if the conversion was successfull or None if it wasn't."
   ]
  },
  {
   "cell_type": "code",
   "execution_count": null,
   "metadata": {},
   "outputs": [],
   "source": [
    "import sys\n",
    "import logging\n",
    "import os\n",
    "from svglib.svglib import svg2rlg\n",
    "from reportlab.graphics import renderPDF, renderPM"
   ]
  },
  {
   "cell_type": "code",
   "execution_count": null,
   "metadata": {},
   "outputs": [],
   "source": [
    "# Required to run svglib on Python3\n",
    "xrange = range\n",
    "\n",
    "logging.disable(logging.ERROR)\n",
    "\n",
    "RUN_EVALUATION = True\n",
    "DEBUG = True\n",
    "COUNT = 0"
   ]
  },
  {
   "cell_type": "code",
   "execution_count": null,
   "metadata": {},
   "outputs": [],
   "source": [
    "def parse_svg(data):\n",
    "    if DEBUG:\n",
    "        global COUNT\n",
    "        if COUNT % 1000 == 0:\n",
    "            print(COUNT)\n",
    "        COUNT += 1\n",
    "            \n",
    "    pdf_file = 'tmp.pdf'\n",
    "    png_file = 'tmp.png'\n",
    "    svg_file = 'tmp.svg'\n",
    "    try:\n",
    "        with open(svg_file, \"w\") as f:\n",
    "            f.write(data)\n",
    "\n",
    "        drawing = svg2rlg(svg_file)\n",
    "\n",
    "        assert(drawing is not None)\n",
    "\n",
    "        renderPDF.drawToFile(drawing, pdf_file)\n",
    "        #renderPM.drawToFile(drawing, png_file)\n",
    "        \n",
    "        return drawing\n",
    "    finally:\n",
    "        if os.path.exists(svg_file):\n",
    "            os.remove(svg_file)\n",
    "            \n",
    "        if os.path.exists(png_file):\n",
    "            os.remove(png_file)\n",
    "            \n",
    "        if os.path.exists(pdf_file):\n",
    "            os.remove(pdf_file)"
   ]
  },
  {
   "cell_type": "code",
   "execution_count": null,
   "metadata": {},
   "outputs": [],
   "source": [
    "parse_svg(\"\"\"\n",
    "<svg xmlns=\"http://www.w3.org/2000/svg\" viewBox=\"0 0 100 100\">\n",
    "  <path d=\"M17,30l19-12l43,54l-17,15zM14,84c12-20 46-61 61-72l13,19 c-17,10-50,50-60,64z\" fill=\"#C30\" stroke-linejoin=\"round\" stroke-width=\"6\" stroke=\"#C30\"></path>\n",
    "</svg>\n",
    "\"\"\")"
   ]
  },
  {
   "cell_type": "markdown",
   "metadata": {},
   "source": [
    "## Auxiliary functions\n",
    "\n",
    "The SVG format has a tree structure. In order to aid the fuzzer's implementation we provide an auxiliary function to convert an SVG string representations into Python's [ElementTree](https://docs.python.org/2/library/xml.etree.elementtree.html) for easier manipulation."
   ]
  },
  {
   "cell_type": "code",
   "execution_count": null,
   "metadata": {},
   "outputs": [],
   "source": [
    "import sys\n",
    "from lxml import etree\n",
    "\n",
    "def svg_as_tree(data):\n",
    "    \"\"\"Converts a String representation of an SVG into an ElementTree and returns its root\n",
    "\n",
    "    :param data: String representation of an SVG\n",
    "    :return: ElementTree https://docs.python.org/3/library/xml.etree.elementtree.html\n",
    "    \"\"\"\n",
    "    parser = etree.XMLParser(encoding='utf-8')\n",
    "    root = etree.fromstring(data.encode('utf-8'), parser=parser)\n",
    "    return root"
   ]
  },
  {
   "cell_type": "markdown",
   "metadata": {},
   "source": [
    "The tree representation can be used to, for example, apply mutations on internal components of the nodes, as well as move, add or remove elements. The following code illustrates how to convert from a String into an [ElementTree](https://docs.python.org/2/library/xml.etree.elementtree.html)."
   ]
  },
  {
   "cell_type": "code",
   "execution_count": null,
   "metadata": {},
   "outputs": [],
   "source": [
    "svg_string = \"\"\"<svg xmlns=\"http://www.w3.org/2000/svg\" viewBox=\"0 0 100 100\">\n",
    "  <path d=\"M19,19h58v58h-58z\" stroke=\"#000\" fill=\"none\" stroke-width=\"4\"/>\n",
    "  <path d=\"M17,30l19-12l43,54l-17,15zM14,84c12-20 46-61 61-72l13,19 c-17,10-50,50-60,64z\" fill=\"#C30\" stroke-linejoin=\"round\" stroke-width=\"6\" stroke=\"#C30\"/>\n",
    "  <cicle/>\n",
    "</svg>\n",
    "\"\"\"\n",
    "root_node = svg_as_tree(svg_string)\n",
    "print(\"%s - %s\" % (root_node.tag, root_node.attrib))"
   ]
  },
  {
   "cell_type": "markdown",
   "metadata": {},
   "source": [
    "After converting the String representation into a tree it is possible to iterate over the nodes"
   ]
  },
  {
   "cell_type": "code",
   "execution_count": null,
   "metadata": {},
   "outputs": [],
   "source": [
    "# Printing immediate child nodes:\n",
    "for child in root_node:\n",
    "    print(\"%s - %s\" % (child.tag, child.attrib))"
   ]
  },
  {
   "cell_type": "markdown",
   "metadata": {},
   "source": [
    "As well are access and manipulate the node type (_tag_) and its attributes (_attrib_)"
   ]
  },
  {
   "cell_type": "code",
   "execution_count": null,
   "metadata": {},
   "outputs": [],
   "source": [
    "# Accessing and changing properties\n",
    "first_child = root_node[0]\n",
    "print(\"old value of stroke-width: %s\" % first_child.attrib['stroke-width'])\n",
    "\n",
    "first_child.attrib['stroke-width'] = \"99\"\n",
    "print(\"new value of stroke-width: %s\" % first_child.attrib['stroke-width'])"
   ]
  },
  {
   "cell_type": "markdown",
   "metadata": {},
   "source": [
    "After the changes the tree can be converted back into a string to be used in _parse_svg()_ function."
   ]
  },
  {
   "cell_type": "code",
   "execution_count": null,
   "metadata": {},
   "outputs": [],
   "source": [
    "new_string = etree.tostring(root_node)\n",
    "print(new_string)"
   ]
  },
  {
   "cell_type": "markdown",
   "metadata": {},
   "source": [
    "# Fuzzer template\n",
    "\n",
    "The basic template from our fuzzer is based on the [MutationCoverageFuzzer](MutationFuzzer.ipynb) from the lecture.\n",
    "\n",
    "This template automatically loads a set of 10 SVG files as an initial seed."
   ]
  },
  {
   "cell_type": "code",
   "execution_count": null,
   "metadata": {},
   "outputs": [],
   "source": [
    "from Coverage import Coverage\n",
    "from MutationFuzzer import MutationCoverageFuzzer, FunctionCoverageRunner"
   ]
  },
  {
   "cell_type": "code",
   "execution_count": null,
   "metadata": {},
   "outputs": [],
   "source": [
    "class Project1MutationCoverageFuzzer(MutationCoverageFuzzer):\n",
    "    def __init__(self, min_mutations=2, max_mutations=10):\n",
    "        seed = self._get_initial_seed()\n",
    "        super().__init__(seed, min_mutations, max_mutations)\n",
    "\n",
    "    def _get_initial_seed(self):\n",
    "        \"\"\"Gets the initial seed for the fuzzer\n",
    "\n",
    "        :return: List of SVG in string format\n",
    "        \"\"\"\n",
    "\n",
    "        seed_dir = os.path.join(\".\", \"data\", \"svg-full\")\n",
    "        seed_files = list(filter(lambda f: \".svg\" in f, os.listdir(seed_dir)))\n",
    "\n",
    "        seed = []\n",
    "        for f in seed_files:\n",
    "            with open(os.path.join(seed_dir, f)) as x:\n",
    "                s = ''.join(x.readlines()).strip()\n",
    "                seed.append(s)\n",
    "\n",
    "        print(\"Seed size: \" + str(len(seed)) + \" files\")\n",
    "        return seed"
   ]
  },
  {
   "cell_type": "markdown",
   "metadata": {},
   "source": [
    "## Fuzzing the _svglib_\n",
    "\n",
    "To fuzz _svglib_ your fuzzer must execute it and inspect how much coverage it obtained with a specific input. With this goal we'll extend the [FunctionCoverageRunner](MutationFuzzer.ipynb) class from the lecture. The original class calculated coverage and was capable of handling exceptions, however, if the fuzzer triggered, for example, an infinite loop, it would not work. In this extension we add a configurable timeout for the command to ensure our library will always terminate."
   ]
  },
  {
   "cell_type": "code",
   "execution_count": null,
   "metadata": {},
   "outputs": [],
   "source": [
    "from ExpectError import ExpectTimeout, ExpectError\n",
    "\n",
    "class FunctionCoverageRunnerWithTimeout(FunctionCoverageRunner):\n",
    "    def __init__(self, function, timeout=1):\n",
    "        self._timeout = timeout\n",
    "        super().__init__(function)\n",
    "\n",
    "    def run(self, inp):\n",
    "        outcome = self.FAIL\n",
    "        result = None\n",
    "        self._coverage = []\n",
    "        \n",
    "        with ExpectError(mute=True):\n",
    "            with ExpectTimeout(self._timeout, mute=True):\n",
    "                result = self.run_function(inp)\n",
    "                outcome = self.PASS\n",
    "\n",
    "        return result, outcome"
   ]
  },
  {
   "cell_type": "code",
   "execution_count": null,
   "metadata": {},
   "outputs": [],
   "source": [
    "parse_svg_runner = FunctionCoverageRunnerWithTimeout(parse_svg)"
   ]
  },
  {
   "cell_type": "markdown",
   "metadata": {},
   "source": [
    "We also define our experiment as a set of 5 runs, with random seeds 2000-2004 with 10000 actions."
   ]
  },
  {
   "cell_type": "code",
   "execution_count": null,
   "metadata": {},
   "outputs": [],
   "source": [
    "import datetime\n",
    "import random\n",
    "\n",
    "def run_experiment(fuzzer, start_seed=2000, end_seed=2005, trials=10000):\n",
    "    print(\"Started fuzzing at %s\" % str(datetime.datetime.now()))\n",
    "\n",
    "    experiment_population = []\n",
    "    for seed in range(start_seed, end_seed):\n",
    "        print(\"Starting seed %d at %s\" % (seed, str(datetime.datetime.now())))\n",
    "        random.seed(seed)\n",
    "\n",
    "        fuzzer.reset()\n",
    "        fuzzer.runs(parse_svg_runner, trials)\n",
    "\n",
    "        experiment_population.append(fuzzer.population)\n",
    "\n",
    "    print(\"Finished fuzzing at %s\" % str(datetime.datetime.now()))\n",
    "    \n",
    "    return experiment_population"
   ]
  },
  {
   "cell_type": "markdown",
   "metadata": {},
   "source": [
    "We then initialize our fuzzer"
   ]
  },
  {
   "cell_type": "code",
   "execution_count": null,
   "metadata": {},
   "outputs": [],
   "source": [
    "mutation_fuzzer = Project1MutationCoverageFuzzer()"
   ]
  },
  {
   "cell_type": "markdown",
   "metadata": {},
   "source": [
    "And execute it multiple times to test it. __Note:__ we're running this example with only 10 trials to demonstrate the functionality. The fuzzer should be executed for 10000 trials."
   ]
  },
  {
   "cell_type": "code",
   "execution_count": null,
   "metadata": {},
   "outputs": [],
   "source": [
    "experiment_population = run_experiment(mutation_fuzzer, trials=10)"
   ]
  },
  {
   "cell_type": "markdown",
   "metadata": {},
   "source": [
    "## Obtaining the population coverage\n",
    "\n",
    "In order to obtain the overal coverage achieved by the fuzzer's population we will adapt the [population_coverage](Coverage.ipynb) function from the lecture.\n",
    "\n",
    "The following code calculates the overall coverage from a fuzzer's population:"
   ]
  },
  {
   "cell_type": "code",
   "execution_count": null,
   "metadata": {},
   "outputs": [],
   "source": [
    "import matplotlib.pyplot as plt\n",
    "\n",
    "def population_coverage(population, function):\n",
    "    cumulative_coverage = []\n",
    "    all_coverage = set()\n",
    "\n",
    "    for s in population:\n",
    "        with Coverage() as cov:\n",
    "            with ExpectError(mute=True):\n",
    "                with ExpectTimeout(1, mute=True):\n",
    "                    function(s)\n",
    "        all_coverage |= cov.coverage()\n",
    "        cumulative_coverage.append(len(all_coverage))\n",
    "\n",
    "    return all_coverage, cumulative_coverage"
   ]
  },
  {
   "cell_type": "markdown",
   "metadata": {},
   "source": [
    "# Your code\n",
    "\n",
    "Now extend the Project1MutationCoverageFuzzer class, implement your own custom mutations and fuzz _svglib_ to achieve a better coverage.\n",
    "\n",
    "## Tips\n",
    "\n",
    "* You can develop any type of mutation as well as use random mutations.\n",
    "* The commands `with ExpectError(mute=True)` and `with ExpectTimeout(1, mute=True)` remove the error output. It may be useful to set `mute=False` for debugging.\n",
    "* Your fuzzer will be restarted (`reset()`) after each execution.   \n",
    "* We recommend you to extend the class `Project1MutationCoverageFuzzer` as `class Project1MutationCoverageFuzzer(Project1MutationCoverageFuzzer): ...` to reuse the implementations for the lecture."
   ]
  },
  {
   "cell_type": "code",
   "execution_count": null,
   "metadata": {},
   "outputs": [],
   "source": [
    "class Project1MutationCoverageFuzzer(Project1MutationCoverageFuzzer):\n",
    "    # <Write your code here>\n",
    "    pass"
   ]
  },
  {
   "cell_type": "markdown",
   "metadata": {},
   "source": [
    "# Evaluation\n",
    "\n",
    "Since our experiment consists of a set of executions, we'll calculate the coverage of all populations, and return it's average as final result."
   ]
  },
  {
   "cell_type": "code",
   "execution_count": null,
   "metadata": {},
   "outputs": [],
   "source": [
    "def evaluate(populations):\n",
    "    global COUNT\n",
    "    coverages = []\n",
    "    seen_statements = set()\n",
    "\n",
    "    for idx, population in enumerate(populations):\n",
    "        COUNT = 0\n",
    "        all_coverage, cumulative_coverage = population_coverage(\n",
    "            populations[idx], parse_svg)\n",
    "\n",
    "        seen_statements |= all_coverage\n",
    "        coverages.append(len(all_coverage))\n",
    "\n",
    "        plt.plot(cumulative_coverage)\n",
    "        plt.title('Coverage of parse_svg() with random inputs')\n",
    "        plt.xlabel('# of inputs')\n",
    "        plt.ylabel('lines covered')\n",
    "        print(\"Covered lines (run %d) %d\" % (idx, len(all_coverage)))\n",
    "        print(\"Unique elements (run %d) %d\" % (idx, len(cumulative_coverage)))        \n",
    "\n",
    "    return tuple([sum(coverages) / len(coverages), len(seen_statements)])"
   ]
  },
  {
   "cell_type": "code",
   "execution_count": null,
   "metadata": {},
   "outputs": [],
   "source": [
    "print(\"Average coverage: %d - Total achieved coverage: %d\" % evaluate(experiment_population))"
   ]
  },
  {
   "cell_type": "markdown",
   "metadata": {},
   "source": [
    "## Evaluation scheme\n",
    "\n",
    "* For the evaluation your fuzzer will be executed __five__ times with random seeds __2000-2004__ and __10000__ trials in each seed.\n",
    "* In order to be approved your fuzzer should achieve an average coverage of __4400__ LOC (lines of code). \n",
    "* Bonus points will be awarded for fuzzers which reach a total of more than __5500__ unique library statements throughout the experiment, as well as to fuzzers which reach an __exceptions__ from the library in any execution (One single bonus points will be awarded for exceptions, irrespective of the number of exceptions triggered). Examples include:\n",
    "    ```    \n",
    "    Exception ignored in: <bound method Image.__del__ of <PIL.JpegImagePlugin.JpegImageFile image mode=RGB size=1280x853 at 0x1604B3F60>>\n",
    "    Traceback (most recent call last):\n",
    "      File \"/etc/anaconda3/lib/python3.6/site-packages/PIL/Image.py\", line 588, in __del__\n",
    "        def __del__(self):\n",
    "      File \"<string>\", line 5, in traceit\n",
    "      File \"<string>\", line 16, in check_time\n",
    "    TimeoutError: \n",
    "    ```\n",
    "* The grades will be based on the average coverage achieved by your fuzzer.\n",
    "* Students can be randomly selected to explain their code in order to demonstrate authorship.\n",
    "\n",
    "__The following code will be used to evaluate your fuzzer (Note: Your fuzzer must be executable by the following code)__\n"
   ]
  },
  {
   "cell_type": "code",
   "execution_count": null,
   "metadata": {},
   "outputs": [],
   "source": [
    "if RUN_EVALUATION:\n",
    "    print(\"Initializing evaluation\")\n",
    "    parse_svg_runner = FunctionCoverageRunnerWithTimeout(parse_svg)\n",
    "    mutation_fuzzer = Project1MutationCoverageFuzzer()\n",
    "    print(\"Running experiment\")\n",
    "    experiment_population = run_experiment(mutation_fuzzer, trials=10000)"
   ]
  },
  {
   "cell_type": "code",
   "execution_count": null,
   "metadata": {},
   "outputs": [],
   "source": [
    "if RUN_EVALUATION:\n",
    "    print(\"Computing results\")\n",
    "    avg_statements, total_statements = evaluate(experiment_population)\n",
    "\n",
    "    print(\"Final result: Average coverage: %d - Total achieved coverage: %d\" % (avg_statements, total_statements))"
   ]
  },
  {
   "cell_type": "code",
   "execution_count": null,
   "metadata": {},
   "outputs": [],
   "source": []
  }
 ],
 "metadata": {
  "kernelspec": {
   "display_name": "Python 3",
   "language": "python",
   "name": "python3"
  },
  "language_info": {
   "codemirror_mode": {
    "name": "ipython",
    "version": 3
   },
   "file_extension": ".py",
   "mimetype": "text/x-python",
   "name": "python",
   "nbconvert_exporter": "python",
   "pygments_lexer": "ipython3",
   "version": "3.6.6"
  },
  "toc": {
   "base_numbering": 1,
   "nav_menu": {},
   "number_sections": true,
   "sideBar": true,
   "skip_h1_title": false,
   "title_cell": "Table of Contents",
   "title_sidebar": "Contents",
   "toc_cell": false,
   "toc_position": {},
   "toc_section_display": true,
   "toc_window_display": false
  },
  "varInspector": {
   "cols": {
    "lenName": 16,
    "lenType": 16,
    "lenVar": 40
   },
   "kernels_config": {
    "python": {
     "delete_cmd_postfix": "",
     "delete_cmd_prefix": "del ",
     "library": "var_list.py",
     "varRefreshCmd": "print(var_dic_list())"
    },
    "r": {
     "delete_cmd_postfix": ") ",
     "delete_cmd_prefix": "rm(",
     "library": "var_list.r",
     "varRefreshCmd": "cat(var_dic_list()) "
    }
   },
   "types_to_exclude": [
    "module",
    "function",
    "builtin_function_or_method",
    "instance",
    "_Feature"
   ],
   "window_display": false
  }
 },
 "nbformat": 4,
 "nbformat_minor": 2
}
