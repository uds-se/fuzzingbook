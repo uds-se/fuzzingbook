{
 "cells": [
  {
   "cell_type": "markdown",
   "metadata": {
    "button": false,
    "new_sheet": false,
    "run_control": {
     "read_only": false
    }
   },
   "source": [
    "# Tracking Information Flow\n",
    "\n",
    "We have explored how one could generate better inputs that can penetrate deeper into the program in question. While doing so, we have relied on program crashes to tell us that we have succeeded in finding problems in the program. However, that is rather simplistic. What if the behavior of the program is simply incorrect, but does not lead to a crash? Can one do better?\n",
    "\n",
    "In this chapter, we explore in depth how to track information flows in Python, and how these flows can be used to determine whether a program behaved as expected."
   ]
  },
  {
   "cell_type": "code",
   "execution_count": null,
   "metadata": {},
   "outputs": [],
   "source": [
    "from bookutils import YouTubeVideo\n",
    "YouTubeVideo('WZi0dTvJ2Ug')"
   ]
  },
  {
   "cell_type": "markdown",
   "metadata": {
    "button": false,
    "new_sheet": false,
    "run_control": {
     "read_only": false
    }
   },
   "source": [
    "**Prerequisites**\n",
    "\n",
    "* You should have read the [chapter on coverage](Coverage.ipynb).\n",
    "* You should have read the [chapter on probabilistic fuzzing](ProbabilisticGrammarFuzzer.ipynb)."
   ]
  },
  {
   "cell_type": "markdown",
   "metadata": {},
   "source": [
    "We first set up our infrastructure so that we can make use of previously defined functions."
   ]
  },
  {
   "cell_type": "code",
   "execution_count": null,
   "metadata": {},
   "outputs": [],
   "source": [
    "import bookutils.setup"
   ]
  },
  {
   "cell_type": "code",
   "execution_count": null,
   "metadata": {},
   "outputs": [],
   "source": [
    "from typing import List, Any, Optional, Union"
   ]
  },
  {
   "attachments": {},
   "cell_type": "markdown",
   "metadata": {
    "slideshow": {
     "slide_type": "skip"
    }
   },
   "source": [
    "## Synopsis\n",
    "<!-- Automatically generated. Do not edit. -->\n",
    "\n",
    "To [use the code provided in this chapter](Importing.ipynb), write\n",
    "\n",
    "```python\n",
    ">>> from fuzzingbook.InformationFlow import <identifier>\n",
    "```\n",
    "\n",
    "and then make use of the following features.\n",
    "\n",
    "\n",
    "This chapter provides two wrappers to Python _strings_ that allow one to track various properties. These include information on the security properties of the input, and information on originating indexes of the input string.\n",
    "\n",
    "### Tracking String Taints\n",
    "\n",
    "`tstr` objects are replacements for Python strings that allows tracking and checking _taints_ – that is, information on from where a string originated. For instance, one can mark strings that originate from third party input with a taint of \"LOW\", meaning that they have a low security level. The taint is passed in the constructor of a `tstr` object:\n",
    "\n",
    "```python\n",
    ">>> thello = tstr('hello', taint='LOW')\n",
    "```\n",
    "A `tstr` object is fully compatible with original Python strings. For instance, we can index it and access substrings:\n",
    "\n",
    "```python\n",
    ">>> thello[:4]\n",
    "```\n",
    "However, the `tstr` object also stores the taint, which can be accessed using the `taint` attribute:\n",
    "\n",
    "```python\n",
    ">>> thello.taint\n",
    "```\n",
    "The neat thing about taints is that they propagate to all strings derived from the original tainted string.\n",
    "Indeed, any operation from a `tstr` string that results in a string fragment produces another `tstr` object that includes the original taint. For example:\n",
    "\n",
    "```python\n",
    ">>> thello[1:2].taint  # type: ignore\n",
    "```\n",
    "`tstr` objects duplicate most `str` methods, as indicated in the class diagram:\n",
    "\n",
    "### Tracking Character Origins\n",
    "\n",
    "`ostr` objects extend `tstr` objects by not only tracking a taint, but also the originating _indexes_ from the input string, This allows you to exactly track where individual characters came from. Assume you have a long string, which at index 100 contains the password `\"joshua1234\"`. Then you can save this origin information using an `ostr` as follows:\n",
    "\n",
    "```python\n",
    ">>> secret = ostr(\"joshua1234\", origin=100, taint='SECRET')\n",
    "```\n",
    "The `origin` attribute of an `ostr` provides access to a list of indexes:\n",
    "\n",
    "```python\n",
    ">>> secret.origin\n",
    ">>> secret.taint\n",
    "```\n",
    "`ostr` objects are compatible with Python strings, except that string operations return `ostr` objects (together with the saved origin an index information). An index of `-1` indicates that the corresponding character has no origin as supplied to the `ostr()` constructor:\n",
    "\n",
    "```python\n",
    ">>> secret_substr = (secret[0:4] + \"-\" + secret[6:])\n",
    ">>> secret_substr.taint\n",
    ">>> secret_substr.origin\n",
    "```\n",
    "`ostr` objects duplicate most `str` methods, as indicated in the class diagram:\n",
    "\n"
   ]
  },
  {
   "cell_type": "markdown",
   "metadata": {},
   "source": [
    "## A Vulnerable Database\n",
    "\n",
    "Say we want to implement an *in-memory database* service in Python. Here is a rather flimsy attempt. We use the following dataset."
   ]
  },
  {
   "cell_type": "code",
   "execution_count": null,
   "metadata": {},
   "outputs": [],
   "source": [
    "INVENTORY = \"\"\"\\\n",
    "1997,van,Ford,E350\n",
    "2000,car,Mercury,Cougar\n",
    "1999,car,Chevy,Venture\\\n",
    "\"\"\""
   ]
  },
  {
   "cell_type": "code",
   "execution_count": null,
   "metadata": {},
   "outputs": [],
   "source": [
    "VEHICLES = INVENTORY.split('\\n')"
   ]
  },
  {
   "cell_type": "markdown",
   "metadata": {},
   "source": [
    "Our DB is a Python class that parses its arguments and throws `SQLException` which is defined below."
   ]
  },
  {
   "cell_type": "code",
   "execution_count": null,
   "metadata": {},
   "outputs": [],
   "source": [
    "class SQLException(Exception):\n",
    "    pass"
   ]
  },
  {
   "cell_type": "markdown",
   "metadata": {},
   "source": [
    "The database is simply a Python `dict` that is exposed only through SQL queries."
   ]
  },
  {
   "cell_type": "code",
   "execution_count": null,
   "metadata": {},
   "outputs": [],
   "source": [
    "class DB:\n",
    "    def __init__(self, db={}):\n",
    "        self.db = dict(db)"
   ]
  },
  {
   "cell_type": "markdown",
   "metadata": {},
   "source": [
    "### Representing Tables\n",
    "\n",
    "The database contains tables, which are created by a method call `create_table()`. Each table data structure is a pair of values. The first one is the meta data containing column names and types. The second value is a list of values in the table."
   ]
  },
  {
   "cell_type": "code",
   "execution_count": null,
   "metadata": {},
   "outputs": [],
   "source": [
    "class DB(DB):\n",
    "    def create_table(self, table, defs):\n",
    "        self.db[table] = (defs, [])"
   ]
  },
  {
   "cell_type": "markdown",
   "metadata": {},
   "source": [
    "The table can be retrieved using the name using the `table()` method call."
   ]
  },
  {
   "cell_type": "code",
   "execution_count": null,
   "metadata": {},
   "outputs": [],
   "source": [
    "class DB(DB):\n",
    "    def table(self, t_name):\n",
    "        if t_name in self.db:\n",
    "            return self.db[t_name]\n",
    "        raise SQLException('Table (%s) was not found' % repr(t_name))"
   ]
  },
  {
   "cell_type": "markdown",
   "metadata": {},
   "source": [
    "Here is an example of how to use both.  We fill a table `inventory` with four columns: `year`, `kind`, `company`, and `model`.  Initially, our table is empty."
   ]
  },
  {
   "cell_type": "code",
   "execution_count": null,
   "metadata": {},
   "outputs": [],
   "source": [
    "def sample_db():\n",
    "    db = DB()\n",
    "    inventory_def = {'year': int, 'kind': str, 'company': str, 'model': str}\n",
    "    db.create_table('inventory', inventory_def)\n",
    "    return db"
   ]
  },
  {
   "cell_type": "markdown",
   "metadata": {},
   "source": [
    "Using `table()`, we can retrieve the table definition as well as its contents."
   ]
  },
  {
   "cell_type": "code",
   "execution_count": null,
   "metadata": {},
   "outputs": [],
   "source": [
    "db = sample_db()\n",
    "db.table('inventory')"
   ]
  },
  {
   "cell_type": "markdown",
   "metadata": {},
   "source": [
    "We also define `column()` for retrieving the column definition from a table declaration."
   ]
  },
  {
   "cell_type": "code",
   "execution_count": null,
   "metadata": {},
   "outputs": [],
   "source": [
    "class DB(DB):\n",
    "    def column(self, table_decl, c_name):\n",
    "        if c_name in table_decl: \n",
    "            return table_decl[c_name]\n",
    "        raise SQLException('Column (%s) was not found' % repr(c_name))"
   ]
  },
  {
   "cell_type": "code",
   "execution_count": null,
   "metadata": {},
   "outputs": [],
   "source": [
    "db = sample_db()\n",
    "decl, rows = db.table('inventory')\n",
    "db.column(decl, 'year')"
   ]
  },
  {
   "cell_type": "markdown",
   "metadata": {},
   "source": [
    "### Executing SQL Statements\n",
    "\n",
    "The `sql()` method of `DB` executes SQL statements.  It inspects its arguments, and dispatches the query based on the kind of SQL statement to be executed."
   ]
  },
  {
   "cell_type": "code",
   "execution_count": null,
   "metadata": {},
   "outputs": [],
   "source": [
    "class DB(DB):\n",
    "    def do_select(self, query):\n",
    "        ...\n",
    "\n",
    "    def do_update(self, query):\n",
    "        ...\n",
    "\n",
    "    def do_insert(self, query):\n",
    "        ...\n",
    "\n",
    "    def do_delete(self, query):\n",
    "        ...\n",
    "\n",
    "    def sql(self, query):\n",
    "        methods = [('select ', self.do_select),\n",
    "                   ('update ', self.do_update),\n",
    "                   ('insert into ', self.do_insert),\n",
    "                   ('delete from', self.do_delete)]\n",
    "        for key, method in methods:\n",
    "            if query.startswith(key):\n",
    "                return method(query[len(key):])\n",
    "        raise SQLException('Unknown SQL (%s)' % query)"
   ]
  },
  {
   "cell_type": "markdown",
   "metadata": {},
   "source": [
    "Here's an example of how to use the `DB` class:"
   ]
  },
  {
   "cell_type": "code",
   "execution_count": null,
   "metadata": {},
   "outputs": [],
   "source": [
    "some_db = DB()\n",
    "some_db.sql('select year from inventory')"
   ]
  },
  {
   "cell_type": "markdown",
   "metadata": {},
   "source": [
    "However, at this point, the individual methods for handling SQL statements are not yet defined. Let us do this in the next steps."
   ]
  },
  {
   "cell_type": "markdown",
   "metadata": {},
   "source": [
    "### Excursion: Implementing SQL Statements"
   ]
  },
  {
   "cell_type": "markdown",
   "metadata": {},
   "source": [
    "#### Selecting Data\n",
    "\n",
    "The `do_select()` method handles SQL `select` statements to retrieve data from a table."
   ]
  },
  {
   "cell_type": "code",
   "execution_count": null,
   "metadata": {},
   "outputs": [],
   "source": [
    "class DB(DB):\n",
    "    def do_select(self, query):\n",
    "        FROM, WHERE = ' from ', ' where '\n",
    "        table_start = query.find(FROM)\n",
    "        if table_start < 0:\n",
    "            raise SQLException('no table specified')\n",
    "\n",
    "        where_start = query.find(WHERE)\n",
    "        select = query[:table_start]\n",
    "\n",
    "        if where_start >= 0:\n",
    "            t_name = query[table_start + len(FROM):where_start]\n",
    "            where = query[where_start + len(WHERE):]\n",
    "        else:\n",
    "            t_name = query[table_start + len(FROM):]\n",
    "            where = ''\n",
    "        _, table = self.table(t_name)\n",
    "\n",
    "        if where:\n",
    "            selected = self.expression_clause(table, \"(%s)\" % where)\n",
    "            selected_rows = [hm for i, data, hm in selected if data]\n",
    "        else:\n",
    "            selected_rows = table\n",
    "\n",
    "        rows = self.expression_clause(selected_rows, \"(%s)\" % select)\n",
    "        return [data for i, data, hm in rows]"
   ]
  },
  {
   "cell_type": "markdown",
   "metadata": {},
   "source": [
    "The `expression_clause()` method is used for two purposes:\n",
    "\n",
    "1. In the form `select` $x$, $y$, $z$ `from` $t$, it _evaluates_ (and returns) the expressions $x$, $y$, $z$ in the contexts of the selected rows.\n",
    "2. If a clause `where` $p$ is given, it also evaluates $p$ in the context of the rows and includes the rows in the selection only if $p$ holds.\n",
    "\n",
    "To evaluate expressions like $x$, $y$, $z$ or $p$, the method `expression_clause()` makes use of the Python `eval()` evaluation function."
   ]
  },
  {
   "cell_type": "code",
   "execution_count": null,
   "metadata": {},
   "outputs": [],
   "source": [
    "class DB(DB):\n",
    "    def expression_clause(self, table, statement):\n",
    "        selected = []\n",
    "        for i, hm in enumerate(table):\n",
    "            selected.append((i, self.my_eval(statement, {}, hm), hm))\n",
    "\n",
    "        return selected"
   ]
  },
  {
   "cell_type": "markdown",
   "metadata": {},
   "source": [
    "If `eval()` fails for whatever reason, we raise an exception:"
   ]
  },
  {
   "cell_type": "code",
   "execution_count": null,
   "metadata": {},
   "outputs": [],
   "source": [
    "class DB(DB):\n",
    "    def my_eval(self, statement, g, l):\n",
    "        try:\n",
    "            return eval(statement, g, l)\n",
    "        except Exception:\n",
    "            raise SQLException('Invalid WHERE (%s)' % repr(statement))"
   ]
  },
  {
   "cell_type": "markdown",
   "metadata": {},
   "source": [
    "**Note:** Using `eval()` here introduces some important security issues, which we will discuss later in this chapter."
   ]
  },
  {
   "cell_type": "markdown",
   "metadata": {},
   "source": [
    "Here's how we can use `sql()` to issue a query.  Note that the table is yet empty."
   ]
  },
  {
   "cell_type": "code",
   "execution_count": null,
   "metadata": {},
   "outputs": [],
   "source": [
    "db = sample_db()\n",
    "db.sql('select year from inventory')"
   ]
  },
  {
   "cell_type": "code",
   "execution_count": null,
   "metadata": {},
   "outputs": [],
   "source": [
    "db = sample_db()\n",
    "db.sql('select year from inventory where year == 2018')"
   ]
  },
  {
   "cell_type": "markdown",
   "metadata": {},
   "source": [
    "#### Inserting Data\n",
    "\n",
    "The `do_insert()` method handles SQL `insert` statements."
   ]
  },
  {
   "cell_type": "code",
   "execution_count": null,
   "metadata": {},
   "outputs": [],
   "source": [
    "class DB(DB):\n",
    "    def do_insert(self, query):\n",
    "        VALUES = ' values '\n",
    "        table_end = query.find('(')\n",
    "        t_name = query[:table_end].strip()\n",
    "        names_end = query.find(')')\n",
    "        decls, table = self.table(t_name)\n",
    "        names = [i.strip() for i in query[table_end + 1:names_end].split(',')]\n",
    "\n",
    "        # verify columns exist\n",
    "        for k in names:\n",
    "            self.column(decls, k)\n",
    "\n",
    "        values_start = query.find(VALUES)\n",
    "\n",
    "        if values_start < 0:\n",
    "            raise SQLException('Invalid INSERT (%s)' % repr(query))\n",
    "\n",
    "        values = [\n",
    "            i.strip() for i in query[values_start + len(VALUES) + 1:-1].split(',')\n",
    "        ]\n",
    "\n",
    "        if len(names) != len(values):\n",
    "            raise SQLException(\n",
    "                'names(%s) != values(%s)' % (repr(names), repr(values)))\n",
    "\n",
    "        # dict lookups happen in C code, so we can't use that\n",
    "        kvs = {}\n",
    "        for k,v in zip(names, values):\n",
    "            for key,kval in decls.items():\n",
    "                if k == key:\n",
    "                    kvs[key] = self.convert(kval, v)\n",
    "        table.append(kvs)"
   ]
  },
  {
   "cell_type": "markdown",
   "metadata": {},
   "source": [
    "In SQL, a column can come in any supported data type.  To ensure it is stored using the type originally declared, we need the ability to convert the values to specific types which is provided by `convert()`."
   ]
  },
  {
   "cell_type": "code",
   "execution_count": null,
   "metadata": {},
   "outputs": [],
   "source": [
    "import ast"
   ]
  },
  {
   "cell_type": "code",
   "execution_count": null,
   "metadata": {},
   "outputs": [],
   "source": [
    "class DB(DB):\n",
    "    def convert(self, cast, value):\n",
    "        try:\n",
    "            return cast(ast.literal_eval(value))\n",
    "        except:\n",
    "            raise SQLException('Invalid Conversion %s(%s)' % (cast, value))"
   ]
  },
  {
   "cell_type": "markdown",
   "metadata": {},
   "source": [
    "Here is an example of how to use the SQL `insert` command:"
   ]
  },
  {
   "cell_type": "code",
   "execution_count": null,
   "metadata": {},
   "outputs": [],
   "source": [
    "db = sample_db()\n",
    "db.sql('insert into inventory (year, kind, company, model) values (1997, \"van\", \"Ford\", \"E350\")')\n",
    "db.table('inventory')"
   ]
  },
  {
   "cell_type": "markdown",
   "metadata": {},
   "source": [
    "With the database filled, we can also run more complex queries:"
   ]
  },
  {
   "cell_type": "code",
   "execution_count": null,
   "metadata": {},
   "outputs": [],
   "source": [
    "db.sql('select year + 1, kind from inventory')"
   ]
  },
  {
   "cell_type": "code",
   "execution_count": null,
   "metadata": {},
   "outputs": [],
   "source": [
    "db.sql('select year, kind from inventory where year == 1997')"
   ]
  },
  {
   "cell_type": "markdown",
   "metadata": {},
   "source": [
    "#### Updating Data\n",
    "\n",
    "Similarly, `do_update()` handles SQL `update` statements."
   ]
  },
  {
   "cell_type": "code",
   "execution_count": null,
   "metadata": {},
   "outputs": [],
   "source": [
    "class DB(DB):\n",
    "    def do_update(self, query):\n",
    "        SET, WHERE = ' set ', ' where '\n",
    "        table_end = query.find(SET)\n",
    "\n",
    "        if table_end < 0:\n",
    "            raise SQLException('Invalid UPDATE (%s)' % repr(query))\n",
    "\n",
    "        set_end = table_end + 5\n",
    "        t_name = query[:table_end]\n",
    "        decls, table = self.table(t_name)\n",
    "        names_end = query.find(WHERE)\n",
    "\n",
    "        if names_end >= 0:\n",
    "            names = query[set_end:names_end]\n",
    "            where = query[names_end + len(WHERE):]\n",
    "        else:\n",
    "            names = query[set_end:]\n",
    "            where = ''\n",
    "\n",
    "        sets = [[i.strip() for i in name.split('=')]\n",
    "                for name in names.split(',')]\n",
    "\n",
    "        # verify columns exist\n",
    "        for k, v in sets:\n",
    "            self.column(decls, k)\n",
    "\n",
    "        if where:\n",
    "            selected = self.expression_clause(table, \"(%s)\" % where)\n",
    "            updated = [hm for i, d, hm in selected if d]\n",
    "        else:\n",
    "            updated = table\n",
    "\n",
    "        for hm in updated:\n",
    "            for k, v in sets:\n",
    "                # we can not do dict lookups because it is implemented in C.\n",
    "                for key, kval in decls.items():\n",
    "                    if key == k:\n",
    "                        hm[key] = self.convert(kval, v)\n",
    "\n",
    "        return \"%d records were updated\" % len(updated)"
   ]
  },
  {
   "cell_type": "markdown",
   "metadata": {},
   "source": [
    "Here is an example.  Let us first fill the database again with values:"
   ]
  },
  {
   "cell_type": "code",
   "execution_count": null,
   "metadata": {},
   "outputs": [],
   "source": [
    "db = sample_db()\n",
    "db.sql('insert into inventory (year, kind, company, model) values (1997, \"van\", \"Ford\", \"E350\")')\n",
    "db.sql('select year from inventory')"
   ]
  },
  {
   "cell_type": "markdown",
   "metadata": {},
   "source": [
    "Now we can update things:"
   ]
  },
  {
   "cell_type": "code",
   "execution_count": null,
   "metadata": {},
   "outputs": [],
   "source": [
    "db.sql('update inventory set year = 1998 where year == 1997')\n",
    "db.sql('select year from inventory')"
   ]
  },
  {
   "cell_type": "code",
   "execution_count": null,
   "metadata": {},
   "outputs": [],
   "source": [
    "db.table('inventory')"
   ]
  },
  {
   "cell_type": "markdown",
   "metadata": {},
   "source": [
    "#### Deleting Data\n",
    "\n",
    "Finally, SQL `delete` statements are handled by `do_delete()`."
   ]
  },
  {
   "cell_type": "code",
   "execution_count": null,
   "metadata": {},
   "outputs": [],
   "source": [
    "class DB(DB):\n",
    "    def do_delete(self, query):\n",
    "        WHERE = ' where '\n",
    "        table_end = query.find(WHERE)\n",
    "        if table_end < 0:\n",
    "            raise SQLException('Invalid DELETE (%s)' % query)\n",
    "\n",
    "        t_name = query[:table_end].strip()\n",
    "        _, table = self.table(t_name)\n",
    "        where = query[table_end + len(WHERE):]\n",
    "        selected = self.expression_clause(table, \"%s\" % where)\n",
    "        deleted = [i for i, d, hm in selected if d]\n",
    "        for i in sorted(deleted, reverse=True):\n",
    "            del table[i]\n",
    "\n",
    "        return \"%d records were deleted\" % len(deleted)"
   ]
  },
  {
   "cell_type": "markdown",
   "metadata": {},
   "source": [
    "Here is an example.  Let us first fill the database again with values:"
   ]
  },
  {
   "cell_type": "code",
   "execution_count": null,
   "metadata": {},
   "outputs": [],
   "source": [
    "db = sample_db()\n",
    "db.sql('insert into inventory (year, kind, company, model) values (1997, \"van\", \"Ford\", \"E350\")')\n",
    "db.sql('select year from inventory')"
   ]
  },
  {
   "cell_type": "markdown",
   "metadata": {},
   "source": [
    "Now we can delete data:"
   ]
  },
  {
   "cell_type": "code",
   "execution_count": null,
   "metadata": {},
   "outputs": [],
   "source": [
    "db.sql('delete from inventory where company == \"Ford\"')"
   ]
  },
  {
   "cell_type": "markdown",
   "metadata": {},
   "source": [
    "Our database is now empty:"
   ]
  },
  {
   "cell_type": "code",
   "execution_count": null,
   "metadata": {},
   "outputs": [],
   "source": [
    "db.sql('select year from inventory')"
   ]
  },
  {
   "cell_type": "markdown",
   "metadata": {},
   "source": [
    "### End of Excursion"
   ]
  },
  {
   "cell_type": "markdown",
   "metadata": {},
   "source": [
    "Here is how our database can be used."
   ]
  },
  {
   "cell_type": "code",
   "execution_count": null,
   "metadata": {},
   "outputs": [],
   "source": [
    "db = DB()"
   ]
  },
  {
   "cell_type": "markdown",
   "metadata": {},
   "source": [
    "We first create a table in our database with the correct data types."
   ]
  },
  {
   "cell_type": "code",
   "execution_count": null,
   "metadata": {},
   "outputs": [],
   "source": [
    "inventory_def = {'year': int, 'kind': str, 'company': str, 'model': str}\n",
    "db.create_table('inventory', inventory_def)"
   ]
  },
  {
   "cell_type": "markdown",
   "metadata": {},
   "source": [
    "Here is a simple convenience function to update the table using our dataset."
   ]
  },
  {
   "cell_type": "code",
   "execution_count": null,
   "metadata": {},
   "outputs": [],
   "source": [
    "def update_inventory(sqldb, vehicle):\n",
    "    inventory_def = sqldb.db['inventory'][0]\n",
    "    k, v = zip(*inventory_def.items())\n",
    "    val = [repr(cast(val)) for cast, val in zip(v, vehicle.split(','))]\n",
    "    sqldb.sql('insert into inventory (%s) values (%s)' % (','.join(k),\n",
    "                                                          ','.join(val)))"
   ]
  },
  {
   "cell_type": "code",
   "execution_count": null,
   "metadata": {},
   "outputs": [],
   "source": [
    "for V in VEHICLES:\n",
    "    update_inventory(db, V)"
   ]
  },
  {
   "cell_type": "markdown",
   "metadata": {},
   "source": [
    "Our database now contains the same dataset as `VEHICLES` under `INVENTORY` table."
   ]
  },
  {
   "cell_type": "code",
   "execution_count": null,
   "metadata": {},
   "outputs": [],
   "source": [
    "db.db"
   ]
  },
  {
   "cell_type": "markdown",
   "metadata": {},
   "source": [
    "Here is a sample select statement."
   ]
  },
  {
   "cell_type": "code",
   "execution_count": null,
   "metadata": {},
   "outputs": [],
   "source": [
    "db.sql('select year,kind from inventory')"
   ]
  },
  {
   "cell_type": "code",
   "execution_count": null,
   "metadata": {},
   "outputs": [],
   "source": [
    "db.sql(\"select company,model from inventory where kind == 'car'\")"
   ]
  },
  {
   "cell_type": "markdown",
   "metadata": {},
   "source": [
    "We can run updates on it."
   ]
  },
  {
   "cell_type": "code",
   "execution_count": null,
   "metadata": {},
   "outputs": [],
   "source": [
    "db.sql(\"update inventory set year = 1998, company = 'Suzuki' where kind == 'van'\")"
   ]
  },
  {
   "cell_type": "code",
   "execution_count": null,
   "metadata": {},
   "outputs": [],
   "source": [
    "db.db"
   ]
  },
  {
   "cell_type": "markdown",
   "metadata": {},
   "source": [
    "It can even do mathematics on the fly!"
   ]
  },
  {
   "cell_type": "code",
   "execution_count": null,
   "metadata": {},
   "outputs": [],
   "source": [
    "db.sql('select int(year)+10 from inventory')"
   ]
  },
  {
   "cell_type": "markdown",
   "metadata": {},
   "source": [
    "Adding a new row to our table."
   ]
  },
  {
   "cell_type": "code",
   "execution_count": null,
   "metadata": {},
   "outputs": [],
   "source": [
    "db.sql(\"insert into inventory (year, kind, company, model) values (1, 'charriot', 'Rome', 'Quadriga')\")"
   ]
  },
  {
   "cell_type": "code",
   "execution_count": null,
   "metadata": {},
   "outputs": [],
   "source": [
    "db.db"
   ]
  },
  {
   "cell_type": "markdown",
   "metadata": {},
   "source": [
    "Which we then delete."
   ]
  },
  {
   "cell_type": "code",
   "execution_count": null,
   "metadata": {},
   "outputs": [],
   "source": [
    "db.sql(\"delete from inventory where year < 1900\")"
   ]
  },
  {
   "cell_type": "markdown",
   "metadata": {
    "tags": []
   },
   "source": [
    "### Fuzzing SQL\n",
    "\n",
    "To verify that everything is OK, let us fuzz. First we define our grammar."
   ]
  },
  {
   "cell_type": "markdown",
   "metadata": {},
   "source": [
    "#### Excursion: Defining a SQL grammar"
   ]
  },
  {
   "cell_type": "code",
   "execution_count": null,
   "metadata": {
    "tags": []
   },
   "outputs": [],
   "source": [
    "import string"
   ]
  },
  {
   "cell_type": "code",
   "execution_count": null,
   "metadata": {},
   "outputs": [],
   "source": [
    "from Grammars import START_SYMBOL, Grammar, Expansion, \\\n",
    "    is_valid_grammar, extend_grammar"
   ]
  },
  {
   "cell_type": "code",
   "execution_count": null,
   "metadata": {},
   "outputs": [],
   "source": [
    "EXPR_GRAMMAR: Grammar = {\n",
    "    \"<start>\": [\"<expr>\"],\n",
    "    \"<expr>\": [\"<bexpr>\", \"<aexpr>\", \"(<expr>)\", \"<term>\"],\n",
    "    \"<bexpr>\": [\n",
    "        \"<aexpr><lt><aexpr>\",\n",
    "        \"<aexpr><gt><aexpr>\",\n",
    "        \"<expr>==<expr>\",\n",
    "        \"<expr>!=<expr>\",\n",
    "    ],\n",
    "    \"<aexpr>\": [\n",
    "        \"<aexpr>+<aexpr>\", \"<aexpr>-<aexpr>\", \"<aexpr>*<aexpr>\",\n",
    "        \"<aexpr>/<aexpr>\", \"<word>(<exprs>)\", \"<expr>\"\n",
    "    ],\n",
    "    \"<exprs>\": [\"<expr>,<exprs>\", \"<expr>\"],\n",
    "    \"<lt>\": [\"<\"],\n",
    "    \"<gt>\": [\">\"],\n",
    "    \"<term>\": [\"<number>\", \"<word>\"],\n",
    "    \"<number>\": [\"<integer>.<integer>\", \"<integer>\", \"-<number>\"],\n",
    "    \"<integer>\": [\"<digit><integer>\", \"<digit>\"],\n",
    "    \"<word>\": [\"<word><letter>\", \"<word><digit>\", \"<letter>\"],\n",
    "    \"<digit>\":\n",
    "    list(string.digits),\n",
    "    \"<letter>\":\n",
    "    list(string.ascii_letters + '_:.')\n",
    "}\n",
    "\n",
    "assert is_valid_grammar(EXPR_GRAMMAR)"
   ]
  },
  {
   "cell_type": "code",
   "execution_count": null,
   "metadata": {},
   "outputs": [],
   "source": [
    "PRINTABLE_CHARS: List[str] = [i for i in string.printable \n",
    "                                    if i not in \"<>'\\\"\\t\\n\\r\\x0b\\x0c\\x00\"] + ['<lt>', '<gt>']"
   ]
  },
  {
   "cell_type": "code",
   "execution_count": null,
   "metadata": {},
   "outputs": [],
   "source": [
    "INVENTORY_GRAMMAR = extend_grammar(EXPR_GRAMMAR,\n",
    "    {\n",
    "        '<start>': ['<query>'],\n",
    "        '<query>': [\n",
    "            'select <exprs> from <table>',\n",
    "            'select <exprs> from <table> where <bexpr>',\n",
    "            'insert into <table> (<names>) values (<literals>)',\n",
    "            'update <table> set <assignments> where <bexpr>',\n",
    "            'delete from <table> where <bexpr>',\n",
    "        ],\n",
    "        '<table>': ['<word>'],\n",
    "        '<names>': ['<column>,<names>', '<column>'],\n",
    "        '<column>': ['<word>'],\n",
    "        '<literals>': ['<literal>', '<literal>,<literals>'],\n",
    "        '<literal>': ['<number>', \"'<chars>'\"],\n",
    "        '<assignments>': ['<kvp>,<assignments>', '<kvp>'],\n",
    "        '<kvp>': ['<column>=<value>'],\n",
    "        '<value>': ['<word>'],\n",
    "        '<chars>': ['<char>', '<char><chars>'],\n",
    "        '<char>': PRINTABLE_CHARS,  # type: ignore\n",
    "    })\n",
    "\n",
    "assert is_valid_grammar(INVENTORY_GRAMMAR)"
   ]
  },
  {
   "cell_type": "markdown",
   "metadata": {},
   "source": [
    "As can be seen from the source of our database, the functions always check whether the table name is correct. Hence, we modify the grammar to choose our particular table so that it will have a better chance of reaching deeper. We will see in the later sections how this can be done automatically."
   ]
  },
  {
   "cell_type": "code",
   "execution_count": null,
   "metadata": {},
   "outputs": [],
   "source": [
    "INVENTORY_GRAMMAR_F = extend_grammar(INVENTORY_GRAMMAR, \n",
    "                                     {'<table>': ['inventory']})"
   ]
  },
  {
   "cell_type": "markdown",
   "metadata": {},
   "source": [
    "#### End of Excursion"
   ]
  },
  {
   "cell_type": "code",
   "execution_count": null,
   "metadata": {},
   "outputs": [],
   "source": [
    "from GrammarFuzzer import GrammarFuzzer"
   ]
  },
  {
   "cell_type": "code",
   "execution_count": null,
   "metadata": {},
   "outputs": [],
   "source": [
    "gf = GrammarFuzzer(INVENTORY_GRAMMAR_F)\n",
    "for _ in range(10):\n",
    "    query = gf.fuzz()\n",
    "    print(repr(query))\n",
    "    try:\n",
    "        res = db.sql(query)\n",
    "        print(repr(res))\n",
    "    except SQLException as e:\n",
    "        print(\"> \", e)\n",
    "        pass\n",
    "    except:\n",
    "        traceback.print_exc()\n",
    "        break\n",
    "    print()"
   ]
  },
  {
   "cell_type": "markdown",
   "metadata": {},
   "source": [
    "Fuzzing does not seem to have triggered any crashes.  However, are crashes the only errors that we should be worried about?"
   ]
  },
  {
   "cell_type": "markdown",
   "metadata": {},
   "source": [
    "### The Evil of Eval\n",
    "\n",
    "In our database implementation – notably in the `expression_clause()` method -, we have made use of `eval()` to evaluate expressions using the Python interpreter.  This allows us to unleash the full power of Python expressions within our SQL statements."
   ]
  },
  {
   "cell_type": "code",
   "execution_count": null,
   "metadata": {},
   "outputs": [],
   "source": [
    "db.sql('select year from inventory where year < 2000')"
   ]
  },
  {
   "cell_type": "markdown",
   "metadata": {},
   "source": [
    "In the above query, the clause `year < 2000` is evaluated using `expression_clause()` using Python in the context of each row; hence, `year < 2000` evaluates to either `True` or `False`."
   ]
  },
  {
   "cell_type": "markdown",
   "metadata": {},
   "source": [
    "The same holds for the expressions being `select`ed:"
   ]
  },
  {
   "cell_type": "code",
   "execution_count": null,
   "metadata": {},
   "outputs": [],
   "source": [
    "db.sql('select year - 1900 if year < 2000 else year - 2000 from inventory')"
   ]
  },
  {
   "cell_type": "markdown",
   "metadata": {},
   "source": [
    "This works because `year - 1900 if year < 2000 else year - 2000` is a valid Python expression.  (It is not a valid SQL expression, though.)"
   ]
  },
  {
   "cell_type": "markdown",
   "metadata": {},
   "source": [
    "The problem with the above is that there is _no limitation_ to what the Python expression can do.  What if the user tries the following?"
   ]
  },
  {
   "cell_type": "code",
   "execution_count": null,
   "metadata": {},
   "outputs": [],
   "source": [
    "db.sql('select __import__(\"os\").popen(\"pwd\").read() from inventory')"
   ]
  },
  {
   "cell_type": "markdown",
   "metadata": {},
   "source": [
    "The above statement effectively reads from the users' file system.  Instead of `os.popen(\"pwd\").read()`, it could execute arbitrary Python commands – to access data, install software, run a background process.  This is where \"the full power of Python expressions\" turns back on us."
   ]
  },
  {
   "cell_type": "markdown",
   "metadata": {},
   "source": [
    "What we want is to allow our _program_ to make full use of its power; yet, the _user_ (or any third party) should not be entrusted to do the same.  Hence, we need to differentiate between (trusted) _input from the program_ and (untrusted) _input from the user_.  "
   ]
  },
  {
   "attachments": {},
   "cell_type": "markdown",
   "metadata": {},
   "source": [
    "One method that allows such differentiation is that of *dynamic taint analysis*. The idea is to identify the functions that accept user input as *sources* that *taint* any string that comes in through them, and those functions that perform dangerous operations as *sinks*. Finally, we bless certain functions as *taint sanitizers*. The idea is that an input from the source should never reach the sink without undergoing sanitization first. This allows us to use a stronger oracle than simply checking for crashes."
   ]
  },
  {
   "cell_type": "markdown",
   "metadata": {
    "button": false,
    "new_sheet": true,
    "run_control": {
     "read_only": false
    },
    "toc-hr-collapsed": true
   },
   "source": [
    "## Tracking String Taints\n",
    "\n",
    "There are various levels of taint tracking that one can perform. The simplest is to track that a string fragment originated in a specific environment, and has not undergone a taint removal process. For this, we simply need to wrap the original string with an environment identifier (the _taint_) with `tstr`, and produce `tstr` instances on each operation that results in another string fragment.  The attribute `taint` holds a label identifying the environment this instance was derived."
   ]
  },
  {
   "cell_type": "markdown",
   "metadata": {},
   "source": [
    "### A Class for Tainted Strings\n",
    "\n",
    "For capturing information flows we need a new string class. The idea is to use the new tainted string class `tstr` as a wrapper on the original `str` class. However, `str` is an *immutable* class. Hence, it does not call its `__init__()` method after being constructed. This means that any subclasses of `str` also will not get the `__init__()` method called. If we want to get our initialization routine called, we need to [hook into `__new__()`](https://docs.python.org/3/reference/datamodel.html#basic-customization) and return an instance of our own class.  We combine this with our initialization code in `__init__()`."
   ]
  },
  {
   "cell_type": "code",
   "execution_count": null,
   "metadata": {},
   "outputs": [],
   "source": [
    "class tstr(str):\n",
    "    \"\"\"Wrapper for strings, saving taint information\"\"\"\n",
    "\n",
    "    def __new__(cls, value, *args, **kw):\n",
    "        \"\"\"Create a tstr() instance. Used internally.\"\"\"\n",
    "        return str.__new__(cls, value)\n",
    "\n",
    "    def __init__(self, value: Any, taint: Any = None, **kwargs) -> None:\n",
    "        \"\"\"Constructor.\n",
    "        `value` is the string value the `tstr` object is to be constructed from.\n",
    "        `taint` is an (optional) taint to be propagated to derived strings.\"\"\"\n",
    "        self.taint: Any = taint"
   ]
  },
  {
   "cell_type": "code",
   "execution_count": null,
   "metadata": {},
   "outputs": [],
   "source": [
    "class tstr(tstr):\n",
    "    def __repr__(self) -> tstr:\n",
    "        \"\"\"Return a representation.\"\"\"\n",
    "        return tstr(str.__repr__(self), taint=self.taint)"
   ]
  },
  {
   "cell_type": "code",
   "execution_count": null,
   "metadata": {},
   "outputs": [],
   "source": [
    "class tstr(tstr):\n",
    "    def __str__(self) -> str:\n",
    "        \"\"\"Convert to string\"\"\"\n",
    "        return str.__str__(self)"
   ]
  },
  {
   "cell_type": "markdown",
   "metadata": {},
   "source": [
    "For example, if we wrap `\"hello\"` in `tstr`, then we should be able to access its taint:"
   ]
  },
  {
   "cell_type": "code",
   "execution_count": null,
   "metadata": {},
   "outputs": [],
   "source": [
    "thello: tstr = tstr('hello', taint='LOW')"
   ]
  },
  {
   "cell_type": "code",
   "execution_count": null,
   "metadata": {},
   "outputs": [],
   "source": [
    "thello.taint"
   ]
  },
  {
   "cell_type": "code",
   "execution_count": null,
   "metadata": {},
   "outputs": [],
   "source": [
    "repr(thello).taint  # type: ignore"
   ]
  },
  {
   "attachments": {},
   "cell_type": "markdown",
   "metadata": {},
   "source": [
    "By default, when we wrap a string, it is tainted. Hence, we also need a way to clear the taint in the string. One way is to simply return a `str` instance as above. However, one may sometimes wish to remove the taint from an existing instance. This is accomplished with `clear_taint()`. During `clear_taint()`, we simply set the taint to `None`. This method comes with a paired method `has_taint()` which checks whether a `tstr` instance has a taint."
   ]
  },
  {
   "cell_type": "code",
   "execution_count": null,
   "metadata": {},
   "outputs": [],
   "source": [
    "class tstr(tstr):\n",
    "    def clear_taint(self):\n",
    "        \"\"\"Remove taint\"\"\"\n",
    "        self.taint = None\n",
    "        return self\n",
    "\n",
    "    def has_taint(self):\n",
    "        \"\"\"Check if taint is present\"\"\"\n",
    "        return self.taint is not None"
   ]
  },
  {
   "cell_type": "markdown",
   "metadata": {},
   "source": [
    "### String Operators\n",
    "\n",
    "To propagate the taint, we have to extend string functions, such as operators.  We can do so in one single big step, overloading all string methods and operators."
   ]
  },
  {
   "cell_type": "markdown",
   "metadata": {},
   "source": [
    "When we create a new string from an existing tainted string, we propagate its taint."
   ]
  },
  {
   "cell_type": "code",
   "execution_count": null,
   "metadata": {},
   "outputs": [],
   "source": [
    "class tstr(tstr):\n",
    "    def create(self, s):\n",
    "        return tstr(s, taint=self.taint)"
   ]
  },
  {
   "cell_type": "markdown",
   "metadata": {},
   "source": [
    "The `make_str_wrapper()` function creates a wrapper around an existing string method which attaches the taint to the result of the method:"
   ]
  },
  {
   "cell_type": "code",
   "execution_count": null,
   "metadata": {},
   "outputs": [],
   "source": [
    "class tstr(tstr):\n",
    "    @staticmethod\n",
    "    def make_str_wrapper(fun):\n",
    "        \"\"\"Make `fun` (a `str` method) a method in `tstr`\"\"\"\n",
    "        def proxy(self, *args, **kwargs):\n",
    "            res = fun(self, *args, **kwargs)\n",
    "            return self.create(res)\n",
    "\n",
    "        if hasattr(fun, '__doc__'):\n",
    "            # Copy docstring\n",
    "            proxy.__doc__ = fun.__doc__\n",
    "\n",
    "        return proxy"
   ]
  },
  {
   "cell_type": "markdown",
   "metadata": {},
   "source": [
    "We do this for all string methods that return a string:"
   ]
  },
  {
   "cell_type": "code",
   "execution_count": null,
   "metadata": {},
   "outputs": [],
   "source": [
    "def informationflow_init_1():\n",
    "    for name in ['__format__', '__mod__', '__rmod__', '__getitem__',\n",
    "                 '__add__', '__mul__', '__rmul__',\n",
    "                 'capitalize', 'casefold', 'center', 'encode',\n",
    "                 'expandtabs', 'format', 'format_map', 'join',\n",
    "                 'ljust', 'lower', 'lstrip', 'replace',\n",
    "                 'rjust', 'rstrip', 'strip', 'swapcase', 'title', 'translate', 'upper']:\n",
    "        fun = getattr(str, name)\n",
    "        setattr(tstr, name, tstr.make_str_wrapper(fun))"
   ]
  },
  {
   "cell_type": "code",
   "execution_count": null,
   "metadata": {},
   "outputs": [],
   "source": [
    "informationflow_init_1()"
   ]
  },
  {
   "cell_type": "code",
   "execution_count": null,
   "metadata": {},
   "outputs": [],
   "source": [
    "INITIALIZER_LIST = [informationflow_init_1]"
   ]
  },
  {
   "cell_type": "code",
   "execution_count": null,
   "metadata": {},
   "outputs": [],
   "source": [
    "def initialize():\n",
    "    for fn in INITIALIZER_LIST:\n",
    "        fn()"
   ]
  },
  {
   "cell_type": "markdown",
   "metadata": {},
   "source": [
    "The one missing operator is `+` with a regular string on the left side and a tainted string on the right side.  Python supports a `__radd__()` method which is invoked if the associated object is used on the right side of an addition."
   ]
  },
  {
   "cell_type": "code",
   "execution_count": null,
   "metadata": {},
   "outputs": [],
   "source": [
    "class tstr(tstr):\n",
    "    def __radd__(self, value):\n",
    "        \"\"\"Return value + self, as a `tstr` object\"\"\"\n",
    "        return self.create(value + str(self))"
   ]
  },
  {
   "cell_type": "markdown",
   "metadata": {},
   "source": [
    "With this, we are already done.  Let us create a string `thello` with a taint `LOW`."
   ]
  },
  {
   "cell_type": "code",
   "execution_count": null,
   "metadata": {},
   "outputs": [],
   "source": [
    "thello = tstr('hello', taint='LOW')"
   ]
  },
  {
   "cell_type": "markdown",
   "metadata": {},
   "source": [
    "Now, any substring will also be tainted:"
   ]
  },
  {
   "cell_type": "code",
   "execution_count": null,
   "metadata": {},
   "outputs": [],
   "source": [
    "thello[0].taint  # type: ignore"
   ]
  },
  {
   "cell_type": "code",
   "execution_count": null,
   "metadata": {},
   "outputs": [],
   "source": [
    "thello[1:3].taint  # type: ignore"
   ]
  },
  {
   "cell_type": "markdown",
   "metadata": {},
   "source": [
    "String additions will return a `tstr` object with the taint:"
   ]
  },
  {
   "cell_type": "code",
   "execution_count": null,
   "metadata": {},
   "outputs": [],
   "source": [
    "(tstr('foo', taint='HIGH') + 'bar').taint  # type: ignore"
   ]
  },
  {
   "cell_type": "markdown",
   "metadata": {},
   "source": [
    "Our `__radd__()` method ensures this also works if the `tstr` occurs on the right side of a string addition:"
   ]
  },
  {
   "cell_type": "code",
   "execution_count": null,
   "metadata": {},
   "outputs": [],
   "source": [
    "('foo' + tstr('bar', taint='HIGH')).taint  # type: ignore"
   ]
  },
  {
   "cell_type": "code",
   "execution_count": null,
   "metadata": {},
   "outputs": [],
   "source": [
    "thello += ', world'  # type: ignore"
   ]
  },
  {
   "cell_type": "code",
   "execution_count": null,
   "metadata": {},
   "outputs": [],
   "source": [
    "thello.taint  # type: ignore"
   ]
  },
  {
   "cell_type": "markdown",
   "metadata": {},
   "source": [
    "Other operators such as multiplication also work:"
   ]
  },
  {
   "cell_type": "code",
   "execution_count": null,
   "metadata": {},
   "outputs": [],
   "source": [
    "(thello * 5).taint  # type: ignore"
   ]
  },
  {
   "cell_type": "code",
   "execution_count": null,
   "metadata": {},
   "outputs": [],
   "source": [
    "('hw %s' % thello).taint  # type: ignore"
   ]
  },
  {
   "cell_type": "code",
   "execution_count": null,
   "metadata": {},
   "outputs": [],
   "source": [
    "(tstr('hello %s', taint='HIGH') % 'world').taint  # type: ignore"
   ]
  },
  {
   "cell_type": "markdown",
   "metadata": {},
   "source": [
    "## Tracking Untrusted Input\n",
    "\n",
    "So, what can one do with tainted strings?  We reconsider the `DB` example.  We define a \"better\" `TrustedDB` which only accepts strings tainted as `\"TRUSTED\"`."
   ]
  },
  {
   "cell_type": "code",
   "execution_count": null,
   "metadata": {},
   "outputs": [],
   "source": [
    "class TrustedDB(DB):\n",
    "    def sql(self, s):\n",
    "        assert isinstance(s, tstr), \"Need a tainted string\"\n",
    "        assert s.taint == 'TRUSTED', \"Need a string with trusted taint\"\n",
    "        return super().sql(s)"
   ]
  },
  {
   "cell_type": "markdown",
   "metadata": {},
   "source": [
    "Feeding a string with an \"unknown\" (i.e., non-existing) trust level will cause `TrustedDB` to fail:"
   ]
  },
  {
   "cell_type": "code",
   "execution_count": null,
   "metadata": {},
   "outputs": [],
   "source": [
    "bdb = TrustedDB(db.db)"
   ]
  },
  {
   "cell_type": "code",
   "execution_count": null,
   "metadata": {},
   "outputs": [],
   "source": [
    "from ExpectError import ExpectError"
   ]
  },
  {
   "cell_type": "code",
   "execution_count": null,
   "metadata": {},
   "outputs": [],
   "source": [
    "with ExpectError():\n",
    "    bdb.sql(\"select year from INVENTORY\")"
   ]
  },
  {
   "attachments": {},
   "cell_type": "markdown",
   "metadata": {},
   "source": [
    "Additionally, any user input would be originally tagged with `\"UNTRUSTED\"` as taint.  If we place an untrusted string into our better calculator, it will also fail:"
   ]
  },
  {
   "cell_type": "code",
   "execution_count": null,
   "metadata": {},
   "outputs": [],
   "source": [
    "bad_user_input = tstr('__import__(\"os\").popen(\"ls\").read()', taint='UNTRUSTED')\n",
    "with ExpectError():\n",
    "    bdb.sql(bad_user_input)"
   ]
  },
  {
   "cell_type": "markdown",
   "metadata": {},
   "source": [
    "Hence, somewhere along the computation, we have to turn the \"untrusted\" inputs into \"trusted\" strings.  This process is called *sanitization*.  A simple sanitization function for our purposes could ensure that the input consists only of few allowed characters (not including letters or quotes); if this is the case, then the input gets a new `\"TRUSTED\"` taint.  If not, we turn the string into an (untrusted) empty string; other alternatives would be to raise an error or to escape or delete \"untrusted\" characters."
   ]
  },
  {
   "cell_type": "code",
   "execution_count": null,
   "metadata": {},
   "outputs": [],
   "source": [
    "import re"
   ]
  },
  {
   "cell_type": "code",
   "execution_count": null,
   "metadata": {},
   "outputs": [],
   "source": [
    "def sanitize(user_input):\n",
    "    assert isinstance(user_input, tstr)\n",
    "    if re.match(\n",
    "            r'^select +[-a-zA-Z0-9_, ()]+ from +[-a-zA-Z0-9_, ()]+$', user_input):\n",
    "        return tstr(user_input, taint='TRUSTED')\n",
    "    else:\n",
    "        return tstr('', taint='UNTRUSTED')"
   ]
  },
  {
   "cell_type": "code",
   "execution_count": null,
   "metadata": {},
   "outputs": [],
   "source": [
    "good_user_input = tstr(\"select year,model from inventory\", taint='UNTRUSTED')\n",
    "sanitized_input = sanitize(good_user_input)\n",
    "sanitized_input"
   ]
  },
  {
   "cell_type": "code",
   "execution_count": null,
   "metadata": {},
   "outputs": [],
   "source": [
    "sanitized_input.taint"
   ]
  },
  {
   "cell_type": "code",
   "execution_count": null,
   "metadata": {},
   "outputs": [],
   "source": [
    "bdb.sql(sanitized_input)"
   ]
  },
  {
   "cell_type": "markdown",
   "metadata": {},
   "source": [
    "Let us now try out our untrusted input:"
   ]
  },
  {
   "cell_type": "code",
   "execution_count": null,
   "metadata": {},
   "outputs": [],
   "source": [
    "sanitized_input = sanitize(bad_user_input)\n",
    "sanitized_input"
   ]
  },
  {
   "cell_type": "code",
   "execution_count": null,
   "metadata": {},
   "outputs": [],
   "source": [
    "sanitized_input.taint"
   ]
  },
  {
   "cell_type": "code",
   "execution_count": null,
   "metadata": {},
   "outputs": [],
   "source": [
    "with ExpectError():\n",
    "    bdb.sql(sanitized_input)"
   ]
  },
  {
   "attachments": {},
   "cell_type": "markdown",
   "metadata": {},
   "source": [
    "Similarly, we can prevent SQL and code injections discussed in [the chapter on Web fuzzing](WebFuzzer.ipynb)."
   ]
  },
  {
   "cell_type": "markdown",
   "metadata": {
    "toc-hr-collapsed": true
   },
   "source": [
    "## Taint Aware Fuzzing\n",
    "\n",
    "We can also use tainting to _direct fuzzing to those grammar rules that are likely to generate dangerous inputs._ The idea here is to identify inputs generated by our fuzzer that lead to untrusted execution. First we define the exception to be thrown when a tainted value reaches a dangerous operation."
   ]
  },
  {
   "cell_type": "code",
   "execution_count": null,
   "metadata": {},
   "outputs": [],
   "source": [
    "class Tainted(Exception):\n",
    "    def __init__(self, v):\n",
    "        self.v = v\n",
    "\n",
    "    def __str__(self):\n",
    "        return 'Tainted[%s]' % self.v"
   ]
  },
  {
   "cell_type": "markdown",
   "metadata": {},
   "source": [
    "### TaintedDB\n",
    "\n",
    "Next, since `my_eval()` is the most dangerous operation in the `DB` class, we define a new class `TaintedDB` that overrides the `my_eval()` to throw an exception whenever an untrusted string reaches this part."
   ]
  },
  {
   "cell_type": "code",
   "execution_count": null,
   "metadata": {},
   "outputs": [],
   "source": [
    "class TaintedDB(DB):\n",
    "    def my_eval(self, statement, g, l):\n",
    "        if statement.taint != 'TRUSTED':\n",
    "            raise Tainted(statement)\n",
    "        try:\n",
    "            return eval(statement, g, l)\n",
    "        except:\n",
    "            raise SQLException('Invalid SQL (%s)' % repr(statement))"
   ]
  },
  {
   "cell_type": "markdown",
   "metadata": {},
   "source": [
    "We initialize an instance of `TaintedDB`"
   ]
  },
  {
   "cell_type": "code",
   "execution_count": null,
   "metadata": {},
   "outputs": [],
   "source": [
    "tdb = TaintedDB()"
   ]
  },
  {
   "cell_type": "code",
   "execution_count": null,
   "metadata": {},
   "outputs": [],
   "source": [
    "tdb.db = db.db"
   ]
  },
  {
   "cell_type": "markdown",
   "metadata": {},
   "source": [
    "Then we start fuzzing."
   ]
  },
  {
   "cell_type": "code",
   "execution_count": null,
   "metadata": {},
   "outputs": [],
   "source": [
    "import traceback"
   ]
  },
  {
   "cell_type": "code",
   "execution_count": null,
   "metadata": {},
   "outputs": [],
   "source": [
    "for _ in range(10):\n",
    "    query = gf.fuzz()\n",
    "    print(repr(query))\n",
    "    try:\n",
    "        res = tdb.sql(tstr(query, taint='UNTRUSTED'))\n",
    "        print(repr(res))\n",
    "    except SQLException as e:\n",
    "        pass\n",
    "    except Tainted as e:\n",
    "        print(\"> \", e)\n",
    "    except:\n",
    "        traceback.print_exc()\n",
    "        break\n",
    "    print()"
   ]
  },
  {
   "cell_type": "markdown",
   "metadata": {},
   "source": [
    "One can see that `insert`, `update`, `select` and `delete` statements on an existing table lead to taint exceptions. We can now focus on these specific kinds of inputs. However, this is not the only thing we can do. We will see how we can identify specific portions of input that reached tainted execution using character origins in the later sections. But before that, we explore other uses of taints."
   ]
  },
  {
   "cell_type": "markdown",
   "metadata": {
    "toc-hr-collapsed": true
   },
   "source": [
    "## Preventing Privacy Leaks\n",
    "\n",
    "Using taints, we can also ensure that secret information does not leak out.  We can assign a special taint `\"SECRET\"` to strings whose information must not leak out:"
   ]
  },
  {
   "cell_type": "code",
   "execution_count": null,
   "metadata": {},
   "outputs": [],
   "source": [
    "secrets = tstr('<Plenty of secret keys>', taint='SECRET')"
   ]
  },
  {
   "cell_type": "markdown",
   "metadata": {},
   "source": [
    "Accessing any substring of `secrets` will propagate the taint:"
   ]
  },
  {
   "cell_type": "code",
   "execution_count": null,
   "metadata": {},
   "outputs": [],
   "source": [
    "secrets[1:3].taint  # type: ignore"
   ]
  },
  {
   "cell_type": "markdown",
   "metadata": {},
   "source": [
    "Consider the _heartbeat_ security leak from [the chapter on Fuzzing](Fuzzer.ipynb), in which a server would accidentally reply not only the user input sent to it, but also secret memory.  If the reply consists only of the user input, there is no taint associated with it:"
   ]
  },
  {
   "cell_type": "code",
   "execution_count": null,
   "metadata": {},
   "outputs": [],
   "source": [
    "user_input = \"hello\"\n",
    "reply = user_input"
   ]
  },
  {
   "cell_type": "code",
   "execution_count": null,
   "metadata": {},
   "outputs": [],
   "source": [
    "isinstance(reply, tstr)"
   ]
  },
  {
   "cell_type": "markdown",
   "metadata": {},
   "source": [
    "If, however, the reply contains _any_ part of the secret, the reply will be tainted:"
   ]
  },
  {
   "cell_type": "code",
   "execution_count": null,
   "metadata": {},
   "outputs": [],
   "source": [
    "reply = user_input + secrets[0:5]"
   ]
  },
  {
   "cell_type": "code",
   "execution_count": null,
   "metadata": {},
   "outputs": [],
   "source": [
    "reply"
   ]
  },
  {
   "cell_type": "code",
   "execution_count": null,
   "metadata": {},
   "outputs": [],
   "source": [
    "reply.taint  # type: ignore"
   ]
  },
  {
   "cell_type": "markdown",
   "metadata": {},
   "source": [
    "The output function of our server would now ensure that the data sent back does not contain any secret information:"
   ]
  },
  {
   "cell_type": "code",
   "execution_count": null,
   "metadata": {},
   "outputs": [],
   "source": [
    "def send_back(s):\n",
    "    assert not isinstance(s, tstr) and not s.taint == 'SECRET'  # type: ignore\n",
    "    ..."
   ]
  },
  {
   "cell_type": "code",
   "execution_count": null,
   "metadata": {},
   "outputs": [],
   "source": [
    "with ExpectError():\n",
    "    send_back(reply)"
   ]
  },
  {
   "cell_type": "markdown",
   "metadata": {
    "button": false,
    "new_sheet": true,
    "run_control": {
     "read_only": false
    },
    "toc-hr-collapsed": false
   },
   "source": [
    "Our `tstr` solution can help to identify information leaks – but it is by no means complete.  If we actually take the `heartbeat()` implementation from [the chapter on Fuzzing](Fuzzer.ipynb), we will see that _any_ reply is marked as `SECRET` – even those not even accessing secret memory:"
   ]
  },
  {
   "cell_type": "code",
   "execution_count": null,
   "metadata": {},
   "outputs": [],
   "source": [
    "from Fuzzer import heartbeat"
   ]
  },
  {
   "cell_type": "code",
   "execution_count": null,
   "metadata": {},
   "outputs": [],
   "source": [
    "reply = heartbeat('hello', 5, memory=secrets)"
   ]
  },
  {
   "cell_type": "code",
   "execution_count": null,
   "metadata": {},
   "outputs": [],
   "source": [
    "reply.taint  # type: ignore"
   ]
  },
  {
   "cell_type": "markdown",
   "metadata": {},
   "source": [
    "Why is this?  If we look into the implementation of `heartbeat()`, we will see that it first builds a long string `memory` from the (non-secret) reply and the (secret) memory, before returning the first characters from `memory`.\n",
    "```python\n",
    "    # Store reply in memory\n",
    "    memory = reply + memory[len(reply):]\n",
    "```\n",
    "At this point, the whole memory still is tainted as `SECRET`, _including_ the non-secret part from `reply`."
   ]
  },
  {
   "cell_type": "markdown",
   "metadata": {},
   "source": [
    "We may be able to circumvent the issue by tagging the `reply` as `PUBLIC` – but then, this taint would be in conflict with the `SECRET` tag of `memory`.  What happens if we compose a string from two differently tainted strings?"
   ]
  },
  {
   "cell_type": "code",
   "execution_count": null,
   "metadata": {},
   "outputs": [],
   "source": [
    "thilo = tstr(\"High\", taint='HIGH') + tstr(\"Low\", taint='LOW')"
   ]
  },
  {
   "cell_type": "markdown",
   "metadata": {},
   "source": [
    "It turns out that in this case, the `__add__()` method takes precedence over the `__radd__()` method, which means that the right-hand `\"Low\"` string is treated as a regular (non-tainted) string."
   ]
  },
  {
   "cell_type": "code",
   "execution_count": null,
   "metadata": {},
   "outputs": [],
   "source": [
    "thilo"
   ]
  },
  {
   "cell_type": "code",
   "execution_count": null,
   "metadata": {},
   "outputs": [],
   "source": [
    "thilo.taint  # type: ignore"
   ]
  },
  {
   "cell_type": "markdown",
   "metadata": {},
   "source": [
    "We could set up the `__add__()` and other methods with special handling for conflicting taints.  However, the way this conflict should be resolved would be highly _application-dependent_:\n",
    "\n",
    "* If we use taints to indicate _privacy levels_, `SECRET` privacy should take precedence over `PUBLIC` privacy.  Any combination of a `SECRET`-tainted string and a `PUBLIC`-tainted string thus should have a `SECRET` taint.\n",
    "\n",
    "* If we use taints to indicate _origins_ of information, an `UNTRUSTED` origin should take precedence over a `TRUSTED` origin.  Any combination of an `UNTRUSTED`-tainted string and a `TRUSTED`-tainted string thus should have an `UNTRUSTED` taint.\n",
    "\n",
    "Of course, such conflict resolutions can be implemented.  But even so, they will not help us in the `heartbeat()` example differentiating secret from non-secret output data."
   ]
  },
  {
   "cell_type": "markdown",
   "metadata": {},
   "source": [
    "## Tracking Individual Characters\n",
    "\n",
    "Fortunately, there is a better, more generic way to solve the above problems.  The key to composition of differently tainted strings is to assign taints not only to strings, but actually to every bit of information – in our case, characters.  If every character has a taint on its own, a new composition of characters will simply inherit this very taint _per character_.  To this end, we introduce a second bit of information named _origin_."
   ]
  },
  {
   "attachments": {},
   "cell_type": "markdown",
   "metadata": {},
   "source": [
    "Distinguishing various untrusted sources may be accomplished by originating each instance as separate instance (called *colors* in dynamic origin research). You will see an instance of this technique in the chapter on [Grammar Mining](GrammarMiner.ipynb)."
   ]
  },
  {
   "attachments": {},
   "cell_type": "markdown",
   "metadata": {},
   "source": [
    "In this section, we carry *character level* origins. That is, given a fragment that resulted from a portion of the original originated string, one will be able to tell which portion of the input string the fragment was taken from. In essence, each input character index from an originated source gets its own color."
   ]
  },
  {
   "cell_type": "markdown",
   "metadata": {},
   "source": [
    "More complex origining such as *bitmap origins* are possible where a single character may result from multiple origined character indexes (such as *checksum* operations on strings). We do not consider these in this chapter."
   ]
  },
  {
   "cell_type": "markdown",
   "metadata": {
    "tags": [],
    "toc-hr-collapsed": true
   },
   "source": [
    "### A Class for Tracking Character Origins\n",
    "\n",
    "Let us introduce a class `ostr` which, like `tstr`, carries a taint for each string, and additionally an _origin_ for each character that indicates its source.  It is a consecutive number in a particular range (by default, starting with zero) indicating its _position_ within a specific origin."
   ]
  },
  {
   "cell_type": "code",
   "execution_count": null,
   "metadata": {},
   "outputs": [],
   "source": [
    "class ostr(str):\n",
    "    \"\"\"Wrapper for strings, saving taint and origin information\"\"\"\n",
    "    DEFAULT_ORIGIN = 0\n",
    "\n",
    "    def __new__(cls, value, *args, **kw):\n",
    "        \"\"\"Create an ostr() instance. Used internally.\"\"\"\n",
    "        return str.__new__(cls, value)\n",
    "\n",
    "    def __init__(self, value: Any, taint: Any = None,\n",
    "                 origin: Optional[Union[int, List[int]]] = None, **kwargs) -> None:\n",
    "        \"\"\"Constructor.\n",
    "        `value` is the string value the `ostr` object is to be constructed from.\n",
    "        `taint` is an (optional) taint to be propagated to derived strings.\n",
    "        `origin` (optional) is either\n",
    "        - an integer denoting the index of the first character in `value`, or\n",
    "        - a list of integers denoting the origins of the characters in `value`,\n",
    "        \"\"\"\n",
    "        self.taint = taint\n",
    "\n",
    "        if origin is None:\n",
    "            origin = ostr.DEFAULT_ORIGIN\n",
    "        if isinstance(origin, int):\n",
    "            self.origin = list(range(origin, origin + len(self)))\n",
    "        else:\n",
    "            self.origin = origin\n",
    "        assert len(self.origin) == len(self)"
   ]
  },
  {
   "cell_type": "markdown",
   "metadata": {},
   "source": [
    "As with `tstr`, above, we implement methods for conversion into (regular) Python strings:"
   ]
  },
  {
   "cell_type": "code",
   "execution_count": null,
   "metadata": {},
   "outputs": [],
   "source": [
    "class ostr(ostr):\n",
    "    def create(self, s):\n",
    "        return ostr(s, taint=self.taint, origin=self.origin)"
   ]
  },
  {
   "cell_type": "code",
   "execution_count": null,
   "metadata": {},
   "outputs": [],
   "source": [
    "class ostr(ostr):\n",
    "    UNKNOWN_ORIGIN = -1\n",
    "\n",
    "    def __repr__(self):\n",
    "        # handle escaped chars\n",
    "        origin = [ostr.UNKNOWN_ORIGIN]\n",
    "        for s, o in zip(str(self), self.origin):\n",
    "            origin.extend([o] * (len(repr(s)) - 2))\n",
    "\n",
    "        origin.append(ostr.UNKNOWN_ORIGIN)\n",
    "        return ostr(str.__repr__(self), taint=self.taint, origin=origin)"
   ]
  },
  {
   "cell_type": "code",
   "execution_count": null,
   "metadata": {},
   "outputs": [],
   "source": [
    "class ostr(ostr):\n",
    "    def __str__(self):\n",
    "        return str.__str__(self)"
   ]
  },
  {
   "cell_type": "markdown",
   "metadata": {},
   "source": [
    "By default, character origins start with `0`:"
   ]
  },
  {
   "cell_type": "code",
   "execution_count": null,
   "metadata": {},
   "outputs": [],
   "source": [
    "othello = ostr('hello')\n",
    "assert othello.origin == [0, 1, 2, 3, 4]"
   ]
  },
  {
   "cell_type": "markdown",
   "metadata": {},
   "source": [
    "We can also specify the starting origin as below -- `6..10`"
   ]
  },
  {
   "cell_type": "code",
   "execution_count": null,
   "metadata": {},
   "outputs": [],
   "source": [
    "tworld = ostr('world', origin=6)\n",
    "assert tworld.origin == [6, 7, 8, 9, 10]"
   ]
  },
  {
   "cell_type": "code",
   "execution_count": null,
   "metadata": {},
   "outputs": [],
   "source": [
    "a = ostr(\"hello\\tworld\")"
   ]
  },
  {
   "cell_type": "code",
   "execution_count": null,
   "metadata": {},
   "outputs": [],
   "source": [
    "repr(a).origin  # type: ignore"
   ]
  },
  {
   "cell_type": "markdown",
   "metadata": {},
   "source": [
    "`str()` returns a `str` instance without origin or taint information:"
   ]
  },
  {
   "cell_type": "code",
   "execution_count": null,
   "metadata": {},
   "outputs": [],
   "source": [
    "assert type(str(othello)) == str"
   ]
  },
  {
   "cell_type": "markdown",
   "metadata": {},
   "source": [
    "`repr()`, however, keeps the origin information for the original string:"
   ]
  },
  {
   "cell_type": "code",
   "execution_count": null,
   "metadata": {},
   "outputs": [],
   "source": [
    "repr(othello)"
   ]
  },
  {
   "cell_type": "code",
   "execution_count": null,
   "metadata": {},
   "outputs": [],
   "source": [
    "repr(othello).origin  # type: ignore"
   ]
  },
  {
   "cell_type": "markdown",
   "metadata": {},
   "source": [
    "Just as with taints, we can clear origins and check whether an origin is present:"
   ]
  },
  {
   "cell_type": "code",
   "execution_count": null,
   "metadata": {},
   "outputs": [],
   "source": [
    "class ostr(ostr):\n",
    "    def clear_taint(self):\n",
    "        self.taint = None\n",
    "        return self\n",
    "\n",
    "    def has_taint(self):\n",
    "        return self.taint is not None"
   ]
  },
  {
   "cell_type": "code",
   "execution_count": null,
   "metadata": {},
   "outputs": [],
   "source": [
    "class ostr(ostr):\n",
    "    def clear_origin(self):\n",
    "        self.origin = [self.UNKNOWN_ORIGIN] * len(self)\n",
    "        return self\n",
    "\n",
    "    def has_origin(self):\n",
    "        return any(origin != self.UNKNOWN_ORIGIN for origin in self.origin)"
   ]
  },
  {
   "cell_type": "code",
   "execution_count": null,
   "metadata": {},
   "outputs": [],
   "source": [
    "othello = ostr('Hello')\n",
    "assert othello.has_origin()"
   ]
  },
  {
   "cell_type": "code",
   "execution_count": null,
   "metadata": {},
   "outputs": [],
   "source": [
    "othello.clear_origin()\n",
    "assert not othello.has_origin()"
   ]
  },
  {
   "cell_type": "markdown",
   "metadata": {},
   "source": [
    "In the remainder of this section, we re-implement various string methods such that they also keep track of origins.  If this is too tedious for you, jump right [to the next section](#Checking-Origins) which gives a number of usage examples."
   ]
  },
  {
   "cell_type": "markdown",
   "metadata": {},
   "source": [
    "### Excursion: Implementing String Methods"
   ]
  },
  {
   "attachments": {},
   "cell_type": "markdown",
   "metadata": {
    "toc-hr-collapsed": false
   },
   "source": [
    "#### Create\n",
    "\n",
    "We need to create new substrings that are wrapped in `ostr` objects. However, we also want to allow our subclasses to create their own instances. Hence, we again provide a `create()` method that produces a new `ostr` instance."
   ]
  },
  {
   "cell_type": "code",
   "execution_count": null,
   "metadata": {},
   "outputs": [],
   "source": [
    "class ostr(ostr):\n",
    "    def create(self, res, origin=None):\n",
    "        return ostr(res, taint=self.taint, origin=origin)"
   ]
  },
  {
   "cell_type": "code",
   "execution_count": null,
   "metadata": {},
   "outputs": [],
   "source": [
    "othello = ostr('hello', taint='HIGH')\n",
    "otworld = othello.create('world', origin=6)"
   ]
  },
  {
   "cell_type": "code",
   "execution_count": null,
   "metadata": {},
   "outputs": [],
   "source": [
    "otworld.origin"
   ]
  },
  {
   "cell_type": "code",
   "execution_count": null,
   "metadata": {},
   "outputs": [],
   "source": [
    "otworld.taint"
   ]
  },
  {
   "cell_type": "code",
   "execution_count": null,
   "metadata": {},
   "outputs": [],
   "source": [
    "assert (othello.origin, otworld.origin) == (\n",
    "    [0, 1, 2, 3, 4], [6, 7, 8, 9, 10])"
   ]
  },
  {
   "cell_type": "markdown",
   "metadata": {},
   "source": [
    "#### Index\n",
    "\n",
    "In Python, indexing is provided through `__getitem__()`. Indexing on positive integers is simple enough. However, it has two additional wrinkles. The first is that, if the index is negative, that many characters are counted from the end of the string which lies just after the last character. That is, the last character has a negative index `-1`"
   ]
  },
  {
   "cell_type": "code",
   "execution_count": null,
   "metadata": {},
   "outputs": [],
   "source": [
    "class ostr(ostr):\n",
    "    def __getitem__(self, key):\n",
    "        res = super().__getitem__(key)\n",
    "        if isinstance(key, int):\n",
    "            key = len(self) + key if key < 0 else key\n",
    "            return self.create(res, [self.origin[key]])\n",
    "        elif isinstance(key, slice):\n",
    "            return self.create(res, self.origin[key])\n",
    "        else:\n",
    "            assert False"
   ]
  },
  {
   "cell_type": "code",
   "execution_count": null,
   "metadata": {},
   "outputs": [],
   "source": [
    "ohello = ostr('hello', taint='HIGH')\n",
    "assert (ohello[0], ohello[-1]) == ('h', 'o')\n",
    "ohello[0].taint"
   ]
  },
  {
   "cell_type": "markdown",
   "metadata": {},
   "source": [
    "The other wrinkle is that `__getitem__()` can accept a slice. We discuss this next."
   ]
  },
  {
   "cell_type": "markdown",
   "metadata": {},
   "source": [
    "#### Slices\n",
    "\n",
    "The Python `slice` operator `[n:m]` relies on the object being an `iterator`. Hence, we define the `__iter__()` method, which returns a custom `iterator`."
   ]
  },
  {
   "cell_type": "code",
   "execution_count": null,
   "metadata": {},
   "outputs": [],
   "source": [
    "class ostr(ostr):\n",
    "    def __iter__(self):\n",
    "        return ostr_iterator(self)"
   ]
  },
  {
   "cell_type": "markdown",
   "metadata": {},
   "source": [
    "The `__iter__()` method requires a supporting `iterator` object. The `iterator` is used to save the state of the current iteration, which it does by keeping a reference to the original `ostr`, and the current index of iteration `_str_idx`."
   ]
  },
  {
   "cell_type": "code",
   "execution_count": null,
   "metadata": {},
   "outputs": [],
   "source": [
    "class ostr_iterator():\n",
    "    def __init__(self, ostr):\n",
    "        self._ostr = ostr\n",
    "        self._str_idx = 0\n",
    "\n",
    "    def __next__(self):\n",
    "        if self._str_idx == len(self._ostr):\n",
    "            raise StopIteration\n",
    "        # calls ostr getitem should be ostr\n",
    "        c = self._ostr[self._str_idx]\n",
    "        assert isinstance(c, ostr)\n",
    "        self._str_idx += 1\n",
    "        return c"
   ]
  },
  {
   "cell_type": "markdown",
   "metadata": {},
   "source": [
    "Bringing all these together:"
   ]
  },
  {
   "cell_type": "code",
   "execution_count": null,
   "metadata": {},
   "outputs": [],
   "source": [
    "thw = ostr('hello world', taint='HIGH')\n",
    "thw[0:5]"
   ]
  },
  {
   "cell_type": "code",
   "execution_count": null,
   "metadata": {},
   "outputs": [],
   "source": [
    "assert thw[0:5].has_taint()\n",
    "assert thw[0:5].has_origin()"
   ]
  },
  {
   "cell_type": "code",
   "execution_count": null,
   "metadata": {},
   "outputs": [],
   "source": [
    "thw[0:5].taint"
   ]
  },
  {
   "cell_type": "code",
   "execution_count": null,
   "metadata": {},
   "outputs": [],
   "source": [
    "thw[0:5].origin"
   ]
  },
  {
   "cell_type": "markdown",
   "metadata": {},
   "source": [
    "#### Splits"
   ]
  },
  {
   "cell_type": "code",
   "execution_count": null,
   "metadata": {},
   "outputs": [],
   "source": [
    "def make_split_wrapper(fun):\n",
    "    def proxy(self, *args, **kwargs):\n",
    "        lst = fun(self, *args, **kwargs)\n",
    "        return [self.create(elem) for elem in lst]\n",
    "    return proxy"
   ]
  },
  {
   "cell_type": "code",
   "execution_count": null,
   "metadata": {},
   "outputs": [],
   "source": [
    "for name in ['split', 'rsplit', 'splitlines']:\n",
    "    fun = getattr(str, name)\n",
    "    setattr(ostr, name, make_split_wrapper(fun))"
   ]
  },
  {
   "cell_type": "code",
   "execution_count": null,
   "metadata": {},
   "outputs": [],
   "source": [
    "othello = ostr('hello world', taint='LOW')\n",
    "othello == 'hello world'"
   ]
  },
  {
   "cell_type": "code",
   "execution_count": null,
   "metadata": {},
   "outputs": [],
   "source": [
    "othello.split()[0].taint  # type: ignore"
   ]
  },
  {
   "cell_type": "markdown",
   "metadata": {},
   "source": [
    "(Exercise for the reader: handle _partitions_, i.e., splitting a string by substrings)"
   ]
  },
  {
   "cell_type": "markdown",
   "metadata": {},
   "source": [
    "#### Concatenation\n",
    "\n",
    "If two origined strings are concatenated together, it may be desirable to transfer the origins from each to the corresponding portion of the resulting string. The concatenation of strings is accomplished by overriding `__add__()`."
   ]
  },
  {
   "cell_type": "code",
   "execution_count": null,
   "metadata": {},
   "outputs": [],
   "source": [
    "class ostr(ostr):\n",
    "    def __add__(self, other):\n",
    "        if isinstance(other, ostr):\n",
    "            return self.create(str.__add__(self, other),\n",
    "                               (self.origin + other.origin))\n",
    "        else:\n",
    "            return self.create(str.__add__(self, other),\n",
    "                               (self.origin + [self.UNKNOWN_ORIGIN for i in other]))"
   ]
  },
  {
   "cell_type": "raw",
   "metadata": {},
   "source": [
    "Testing concatenations between two `ostr` instances:"
   ]
  },
  {
   "cell_type": "code",
   "execution_count": null,
   "metadata": {},
   "outputs": [],
   "source": [
    "othello = ostr(\"hello\")\n",
    "otworld = ostr(\"world\", origin=6)\n",
    "othw = othello + otworld\n",
    "assert othw.origin == [0, 1, 2, 3, 4, 6, 7, 8, 9, 10]  # type: ignore"
   ]
  },
  {
   "cell_type": "markdown",
   "metadata": {},
   "source": [
    "What if a `ostr` is concatenated with a `str`?"
   ]
  },
  {
   "cell_type": "code",
   "execution_count": null,
   "metadata": {},
   "outputs": [],
   "source": [
    "space = \"  \"\n",
    "th_w = othello + space + otworld\n",
    "assert th_w.origin == [\n",
    "    0,\n",
    "    1,\n",
    "    2,\n",
    "    3,\n",
    "    4,\n",
    "    ostr.UNKNOWN_ORIGIN,\n",
    "    ostr.UNKNOWN_ORIGIN,\n",
    "    6,\n",
    "    7,\n",
    "    8,\n",
    "    9,\n",
    "    10]"
   ]
  },
  {
   "cell_type": "markdown",
   "metadata": {},
   "source": [
    "One wrinkle here is that when adding a `ostr` and a `str`, the user may place the `str` first, in which case, the `__add__()` method will be called on the `str` instance. Not on the `ostr` instance. However, Python provides a solution. If one defines `__radd__()` on the `ostr` instance, that method will be called rather than `str.__add__()`"
   ]
  },
  {
   "cell_type": "code",
   "execution_count": null,
   "metadata": {},
   "outputs": [],
   "source": [
    "class ostr(ostr):\n",
    "    def __radd__(self, other):\n",
    "        origin = other.origin if isinstance(other, ostr) else [\n",
    "            self.UNKNOWN_ORIGIN for i in other]\n",
    "        return self.create(str.__add__(other, self), (origin + self.origin))"
   ]
  },
  {
   "cell_type": "markdown",
   "metadata": {},
   "source": [
    "We test it out:"
   ]
  },
  {
   "cell_type": "code",
   "execution_count": null,
   "metadata": {},
   "outputs": [],
   "source": [
    "shello = \"hello\"\n",
    "otworld = ostr(\"world\")\n",
    "thw = shello + otworld\n",
    "assert thw.origin == [ostr.UNKNOWN_ORIGIN] * len(shello) + [0, 1, 2, 3, 4]  # type: ignore"
   ]
  },
  {
   "attachments": {},
   "cell_type": "markdown",
   "metadata": {},
   "source": [
    "These methods: `slicing` and `concatenation` is sufficient to implement other string methods that result in a string, and does not change the character underneath (i.e. no case change). Hence, we look at a helper method next."
   ]
  },
  {
   "attachments": {},
   "cell_type": "markdown",
   "metadata": {},
   "source": [
    "#### Extract Origin String\n",
    "\n",
    "Given a specific input index, the method `x()` extracts the corresponding originated portion from a `ostr`. As a convenience it supports `slices` along with `ints`."
   ]
  },
  {
   "cell_type": "code",
   "execution_count": null,
   "metadata": {},
   "outputs": [],
   "source": [
    "class ostr(ostr):\n",
    "    class TaintException(Exception):\n",
    "        pass\n",
    "\n",
    "    def x(self, i=0):\n",
    "        \"\"\"Extract substring at index/slice `i`\"\"\"\n",
    "        if not self.origin:\n",
    "            raise origin.TaintException('Invalid request idx')\n",
    "        if isinstance(i, int):\n",
    "            return [self[p]\n",
    "                    for p in [k for k, j in enumerate(self.origin) if j == i]]\n",
    "        elif isinstance(i, slice):\n",
    "            r = range(i.start or 0, i.stop or len(self), i.step or 1)\n",
    "            return [self[p]\n",
    "                    for p in [k for k, j in enumerate(self.origin) if j in r]]"
   ]
  },
  {
   "cell_type": "code",
   "execution_count": null,
   "metadata": {},
   "outputs": [],
   "source": [
    "thw = ostr('hello world', origin=100)"
   ]
  },
  {
   "cell_type": "code",
   "execution_count": null,
   "metadata": {},
   "outputs": [],
   "source": [
    "assert thw.x(101) == ['e']"
   ]
  },
  {
   "cell_type": "code",
   "execution_count": null,
   "metadata": {},
   "outputs": [],
   "source": [
    "assert thw.x(slice(101, 105)) == ['e', 'l', 'l', 'o']"
   ]
  },
  {
   "cell_type": "markdown",
   "metadata": {},
   "source": [
    "#### Replace"
   ]
  },
  {
   "cell_type": "markdown",
   "metadata": {},
   "source": [
    "The `replace()` method replaces a portion of the string with another."
   ]
  },
  {
   "cell_type": "code",
   "execution_count": null,
   "metadata": {},
   "outputs": [],
   "source": [
    "class ostr(ostr):\n",
    "    def replace(self, a, b, n=None):\n",
    "        old_origin = self.origin\n",
    "        b_origin = b.origin if isinstance(\n",
    "            b, ostr) else [self.UNKNOWN_ORIGIN] * len(b)\n",
    "        mystr = str(self)\n",
    "        i = 0\n",
    "\n",
    "        while True:\n",
    "            if n and i >= n:\n",
    "                break\n",
    "            idx = mystr.find(a)\n",
    "            if idx == -1:\n",
    "                break\n",
    "            last = idx + len(a)\n",
    "            mystr = mystr.replace(a, b, 1)\n",
    "            partA, partB = old_origin[0:idx], old_origin[last:]\n",
    "            old_origin = partA + b_origin + partB\n",
    "            i += 1\n",
    "\n",
    "        return self.create(mystr, old_origin)"
   ]
  },
  {
   "cell_type": "code",
   "execution_count": null,
   "metadata": {},
   "outputs": [],
   "source": [
    "my_str = ostr(\"aa cde aa\")\n",
    "res = my_str.replace('aa', 'bb')\n",
    "assert res, res.origin == ('bb', 'cde', 'bb',\n",
    "                           [ostr.UNKNOWN_ORIGIN, ostr.UNKNOWN_ORIGIN,\n",
    "                            2, 3, 4, 5, 6,\n",
    "                            ostr.UNKNOWN_ORIGIN, ostr.UNKNOWN_ORIGIN])"
   ]
  },
  {
   "cell_type": "code",
   "execution_count": null,
   "metadata": {},
   "outputs": [],
   "source": [
    "my_str = ostr(\"aa cde aa\")\n",
    "res = my_str.replace('aa', ostr('bb', origin=100))\n",
    "assert (\n",
    "    res, res.origin) == (\n",
    "        ('bb cde bb'), [\n",
    "            100, 101, 2, 3, 4, 5, 6, 100, 101])"
   ]
  },
  {
   "cell_type": "markdown",
   "metadata": {},
   "source": [
    "#### Split"
   ]
  },
  {
   "cell_type": "markdown",
   "metadata": {},
   "source": [
    "We essentially have to re-implement split operations, and split by space is slightly different from other splits."
   ]
  },
  {
   "cell_type": "code",
   "execution_count": null,
   "metadata": {},
   "outputs": [],
   "source": [
    "class ostr(ostr):\n",
    "    def _split_helper(self, sep, splitted):\n",
    "        result_list = []\n",
    "        last_idx = 0\n",
    "        first_idx = 0\n",
    "        sep_len = len(sep)\n",
    "\n",
    "        for s in splitted:\n",
    "            last_idx = first_idx + len(s)\n",
    "            item = self[first_idx:last_idx]\n",
    "            result_list.append(item)\n",
    "            first_idx = last_idx + sep_len\n",
    "        return result_list\n",
    "\n",
    "    def _split_space(self, splitted):\n",
    "        result_list = []\n",
    "        last_idx = 0\n",
    "        first_idx = 0\n",
    "        sep_len = 0\n",
    "        for s in splitted:\n",
    "            last_idx = first_idx + len(s)\n",
    "            item = self[first_idx:last_idx]\n",
    "            result_list.append(item)\n",
    "            v = str(self[last_idx:])\n",
    "            sep_len = len(v) - len(v.lstrip(' '))\n",
    "            first_idx = last_idx + sep_len\n",
    "        return result_list\n",
    "\n",
    "    def rsplit(self, sep=None, maxsplit=-1):\n",
    "        splitted = super().rsplit(sep, maxsplit)\n",
    "        if not sep:\n",
    "            return self._split_space(splitted)\n",
    "        return self._split_helper(sep, splitted)\n",
    "\n",
    "    def split(self, sep=None, maxsplit=-1):\n",
    "        splitted = super().split(sep, maxsplit)\n",
    "        if not sep:\n",
    "            return self._split_space(splitted)\n",
    "        return self._split_helper(sep, splitted)"
   ]
  },
  {
   "cell_type": "code",
   "execution_count": null,
   "metadata": {},
   "outputs": [],
   "source": [
    "my_str = ostr('ab cdef ghij kl')\n",
    "ab, cdef, ghij, kl = my_str.rsplit(sep=' ')\n",
    "assert (ab.origin, cdef.origin, ghij.origin,\n",
    "        kl.origin) == ([0, 1], [3, 4, 5, 6], [8, 9, 10, 11], [13, 14])\n",
    "\n",
    "my_str = ostr('ab cdef ghij kl', origin=list(range(0, 15)))\n",
    "ab, cdef, ghij, kl = my_str.rsplit(sep=' ')\n",
    "assert(ab.origin, cdef.origin, kl.origin) == ([0, 1], [3, 4, 5, 6], [13, 14])"
   ]
  },
  {
   "cell_type": "code",
   "execution_count": null,
   "metadata": {},
   "outputs": [],
   "source": [
    "my_str = ostr('ab   cdef ghij    kl', origin=100, taint='HIGH')\n",
    "ab, cdef, ghij, kl = my_str.rsplit()\n",
    "assert (ab.origin, cdef.origin, ghij.origin,\n",
    "        kl.origin) == ([100, 101], [105, 106, 107, 108], [110, 111, 112, 113],\n",
    "                       [118, 119])\n",
    "\n",
    "my_str = ostr('ab   cdef ghij    kl', origin=list(range(0, 20)), taint='HIGH')\n",
    "ab, cdef, ghij, kl = my_str.split()\n",
    "assert (ab.origin, cdef.origin, kl.origin) == ([0, 1], [5, 6, 7, 8], [18, 19])\n",
    "assert ab.taint == 'HIGH'"
   ]
  },
  {
   "cell_type": "markdown",
   "metadata": {},
   "source": [
    "#### Strip"
   ]
  },
  {
   "cell_type": "code",
   "execution_count": null,
   "metadata": {},
   "outputs": [],
   "source": [
    "class ostr(ostr):\n",
    "    def strip(self, cl=None):\n",
    "        return self.lstrip(cl).rstrip(cl)\n",
    "\n",
    "    def lstrip(self, cl=None):\n",
    "        res = super().lstrip(cl)\n",
    "        i = self.find(res)\n",
    "        return self[i:]\n",
    "\n",
    "    def rstrip(self, cl=None):\n",
    "        res = super().rstrip(cl)\n",
    "        return self[0:len(res)]"
   ]
  },
  {
   "cell_type": "code",
   "execution_count": null,
   "metadata": {},
   "outputs": [],
   "source": [
    "my_str1 = ostr(\"  abc  \")\n",
    "v = my_str1.strip()\n",
    "assert v, v.origin == ('abc', [2, 3, 4])"
   ]
  },
  {
   "cell_type": "code",
   "execution_count": null,
   "metadata": {},
   "outputs": [],
   "source": [
    "my_str1 = ostr(\"  abc  \")\n",
    "v = my_str1.lstrip()\n",
    "assert (v, v.origin) == ('abc  ', [2, 3, 4, 5, 6])"
   ]
  },
  {
   "cell_type": "code",
   "execution_count": null,
   "metadata": {},
   "outputs": [],
   "source": [
    "my_str1 = ostr(\"  abc  \")\n",
    "v = my_str1.rstrip()\n",
    "assert (v, v.origin) == ('  abc', [0, 1, 2, 3, 4])"
   ]
  },
  {
   "cell_type": "markdown",
   "metadata": {},
   "source": [
    "#### Expand Tabs"
   ]
  },
  {
   "cell_type": "code",
   "execution_count": null,
   "metadata": {},
   "outputs": [],
   "source": [
    "class ostr(ostr):\n",
    "    def expandtabs(self, n=8):\n",
    "        parts = self.split('\\t')\n",
    "        res = super().expandtabs(n)\n",
    "        all_parts = []\n",
    "        for i, p in enumerate(parts):\n",
    "            all_parts.extend(p.origin)\n",
    "            if i < len(parts) - 1:\n",
    "                l = len(all_parts) % n\n",
    "                all_parts.extend([p.origin[-1]] * l)\n",
    "        return self.create(res, all_parts)"
   ]
  },
  {
   "cell_type": "code",
   "execution_count": null,
   "metadata": {},
   "outputs": [],
   "source": [
    "my_s = str(\"ab\\tcd\")\n",
    "my_ostr = ostr(\"ab\\tcd\")\n",
    "v1 = my_s.expandtabs(4)\n",
    "v2 = my_ostr.expandtabs(4)"
   ]
  },
  {
   "cell_type": "code",
   "execution_count": null,
   "metadata": {},
   "outputs": [],
   "source": [
    "assert str(v1) == str(v2)\n",
    "assert (len(v1), repr(v2), v2.origin) == (6, \"'ab  cd'\", [0, 1, 1, 1, 3, 4])"
   ]
  },
  {
   "cell_type": "code",
   "execution_count": null,
   "metadata": {},
   "outputs": [],
   "source": [
    "class ostr(ostr):\n",
    "    def join(self, iterable):\n",
    "        mystr = ''\n",
    "        myorigin = []\n",
    "        sep_origin = self.origin\n",
    "        lst = list(iterable)\n",
    "        for i, s in enumerate(lst):\n",
    "            sorigin = s.origin if isinstance(s, ostr) else [\n",
    "                self.UNKNOWN_ORIGIN] * len(s)\n",
    "            myorigin.extend(sorigin)\n",
    "            mystr += str(s)\n",
    "            if i < len(lst) - 1:\n",
    "                myorigin.extend(sep_origin)\n",
    "                mystr += str(self)\n",
    "        res = super().join(iterable)\n",
    "        assert len(res) == len(mystr)\n",
    "        return self.create(res, myorigin)"
   ]
  },
  {
   "cell_type": "code",
   "execution_count": null,
   "metadata": {},
   "outputs": [],
   "source": [
    "my_str = ostr(\"ab cd\", origin=100)\n",
    "(v1, v2), v3 = my_str.split(), 'ef'\n",
    "assert (v1.origin, v2.origin) == ([100, 101], [103, 104])  # type: ignore"
   ]
  },
  {
   "cell_type": "code",
   "execution_count": null,
   "metadata": {},
   "outputs": [],
   "source": [
    "v4 = ostr('').join([v2, v3, v1])\n",
    "assert (\n",
    "    v4, v4.origin) == (\n",
    "        'cdefab', [\n",
    "            103, 104, ostr.UNKNOWN_ORIGIN, ostr.UNKNOWN_ORIGIN, 100, 101])"
   ]
  },
  {
   "cell_type": "code",
   "execution_count": null,
   "metadata": {},
   "outputs": [],
   "source": [
    "my_str = ostr(\"ab cd\", origin=100)\n",
    "(v1, v2), v3 = my_str.split(), 'ef'\n",
    "assert (v1.origin, v2.origin) == ([100, 101], [103, 104])  # type: ignore"
   ]
  },
  {
   "cell_type": "code",
   "execution_count": null,
   "metadata": {},
   "outputs": [],
   "source": [
    "v4 = ostr(',').join([v2, v3, v1])\n",
    "assert (v4, v4.origin) == ('cd,ef,ab',\n",
    "                           [103, 104, 0, ostr.UNKNOWN_ORIGIN, ostr.UNKNOWN_ORIGIN, 0, 100, 101])  # type: ignore"
   ]
  },
  {
   "cell_type": "markdown",
   "metadata": {},
   "source": [
    "#### Partitions"
   ]
  },
  {
   "cell_type": "code",
   "execution_count": null,
   "metadata": {},
   "outputs": [],
   "source": [
    "class ostr(ostr):\n",
    "    def partition(self, sep):\n",
    "        partA, sep, partB = super().partition(sep)\n",
    "        return (self.create(partA, self.origin[0:len(partA)]),\n",
    "                self.create(sep,\n",
    "                            self.origin[len(partA):len(partA) + len(sep)]),\n",
    "                self.create(partB, self.origin[len(partA) + len(sep):]))\n",
    "\n",
    "    def rpartition(self, sep):\n",
    "        partA, sep, partB = super().rpartition(sep)\n",
    "        return (self.create(partA, self.origin[0:len(partA)]),\n",
    "                self.create(sep,\n",
    "                            self.origin[len(partA):len(partA) + len(sep)]),\n",
    "                self.create(partB, self.origin[len(partA) + len(sep):]))"
   ]
  },
  {
   "cell_type": "markdown",
   "metadata": {},
   "source": [
    "#### Justify"
   ]
  },
  {
   "cell_type": "code",
   "execution_count": null,
   "metadata": {},
   "outputs": [],
   "source": [
    "class ostr(ostr):\n",
    "    def ljust(self, width, fillchar=' '):\n",
    "        res = super().ljust(width, fillchar)\n",
    "        initial = len(res) - len(self)\n",
    "        if isinstance(fillchar, tstr):\n",
    "            t = fillchar.x()\n",
    "        else:\n",
    "            t = self.UNKNOWN_ORIGIN\n",
    "        return self.create(res, [t] * initial + self.origin)"
   ]
  },
  {
   "cell_type": "code",
   "execution_count": null,
   "metadata": {},
   "outputs": [],
   "source": [
    "class ostr(ostr):\n",
    "    def rjust(self, width, fillchar=' '):\n",
    "        res = super().rjust(width, fillchar)\n",
    "        final = len(res) - len(self)\n",
    "        if isinstance(fillchar, tstr):\n",
    "            t = fillchar.x()\n",
    "        else:\n",
    "            t = self.UNKNOWN_ORIGIN\n",
    "        return self.create(res, self.origin + [t] * final)"
   ]
  },
  {
   "cell_type": "markdown",
   "metadata": {},
   "source": [
    "#### mod"
   ]
  },
  {
   "cell_type": "code",
   "execution_count": null,
   "metadata": {},
   "outputs": [],
   "source": [
    "class ostr(ostr):\n",
    "    def __mod__(self, s):\n",
    "        # nothing else implemented for the time being\n",
    "        assert isinstance(s, str)\n",
    "        s_origin = s.origin if isinstance(\n",
    "            s, ostr) else [self.UNKNOWN_ORIGIN] * len(s)\n",
    "        i = self.find('%s')\n",
    "        assert i >= 0\n",
    "        res = super().__mod__(s)\n",
    "        r_origin = self.origin[:]\n",
    "        r_origin[i:i + 2] = s_origin\n",
    "        return self.create(res, origin=r_origin)"
   ]
  },
  {
   "cell_type": "code",
   "execution_count": null,
   "metadata": {},
   "outputs": [],
   "source": [
    "class ostr(ostr):\n",
    "    def __rmod__(self, s):\n",
    "        # nothing else implemented for the time being\n",
    "        assert isinstance(s, str)\n",
    "        r_origin = s.origin if isinstance(\n",
    "            s, ostr) else [self.UNKNOWN_ORIGIN] * len(s)\n",
    "        i = s.find('%s')\n",
    "        assert i >= 0\n",
    "        res = super().__rmod__(s)\n",
    "        s_origin = self.origin[:]\n",
    "        r_origin[i:i + 2] = s_origin\n",
    "        return self.create(res, origin=r_origin)"
   ]
  },
  {
   "cell_type": "code",
   "execution_count": null,
   "metadata": {},
   "outputs": [],
   "source": [
    "a = ostr('hello %s world', origin=100)\n",
    "a"
   ]
  },
  {
   "cell_type": "code",
   "execution_count": null,
   "metadata": {},
   "outputs": [],
   "source": [
    "(a % 'good').origin"
   ]
  },
  {
   "cell_type": "code",
   "execution_count": null,
   "metadata": {},
   "outputs": [],
   "source": [
    "b = 'hello %s world'\n",
    "c = ostr('bad', origin=10)\n",
    "(b % c).origin"
   ]
  },
  {
   "cell_type": "markdown",
   "metadata": {},
   "source": [
    "#### String methods that do not change origin"
   ]
  },
  {
   "cell_type": "code",
   "execution_count": null,
   "metadata": {},
   "outputs": [],
   "source": [
    "class ostr(ostr):\n",
    "    def swapcase(self):\n",
    "        return self.create(str(self).swapcase(), self.origin)\n",
    "\n",
    "    def upper(self):\n",
    "        return self.create(str(self).upper(), self.origin)\n",
    "\n",
    "    def lower(self):\n",
    "        return self.create(str(self).lower(), self.origin)\n",
    "\n",
    "    def capitalize(self):\n",
    "        return self.create(str(self).capitalize(), self.origin)\n",
    "\n",
    "    def title(self):\n",
    "        return self.create(str(self).title(), self.origin)"
   ]
  },
  {
   "cell_type": "code",
   "execution_count": null,
   "metadata": {},
   "outputs": [],
   "source": [
    "a = ostr('aa', origin=100).upper()\n",
    "a, a.origin"
   ]
  },
  {
   "cell_type": "markdown",
   "metadata": {},
   "source": [
    "#### General wrappers"
   ]
  },
  {
   "cell_type": "markdown",
   "metadata": {},
   "source": [
    "These are not strictly needed for operation, but can be useful for tracing."
   ]
  },
  {
   "cell_type": "code",
   "execution_count": null,
   "metadata": {},
   "outputs": [],
   "source": [
    "def make_basic_str_wrapper(fun):  # type: ignore\n",
    "    def proxy(*args, **kwargs):\n",
    "        res = fun(*args, **kwargs)\n",
    "        return res\n",
    "    return proxy"
   ]
  },
  {
   "cell_type": "code",
   "execution_count": null,
   "metadata": {},
   "outputs": [],
   "source": [
    "import inspect"
   ]
  },
  {
   "cell_type": "code",
   "execution_count": null,
   "metadata": {},
   "outputs": [],
   "source": [
    "import types"
   ]
  },
  {
   "cell_type": "code",
   "execution_count": null,
   "metadata": {},
   "outputs": [],
   "source": [
    "def informationflow_init_2():\n",
    "    ostr_members = [name for name, fn in inspect.getmembers(ostr, callable)\n",
    "                    if isinstance(fn, types.FunctionType) and fn.__qualname__.startswith('ostr')]\n",
    "\n",
    "    for name, fn in inspect.getmembers(str, callable):\n",
    "        if name not in set(['__class__', '__new__', '__str__', '__init__',\n",
    "                            '__repr__', '__getattribute__']) | set(ostr_members):\n",
    "            setattr(ostr, name, make_basic_str_wrapper(fn))"
   ]
  },
  {
   "cell_type": "code",
   "execution_count": null,
   "metadata": {},
   "outputs": [],
   "source": [
    "informationflow_init_2()"
   ]
  },
  {
   "cell_type": "code",
   "execution_count": null,
   "metadata": {},
   "outputs": [],
   "source": [
    "INITIALIZER_LIST.append(informationflow_init_2)"
   ]
  },
  {
   "cell_type": "markdown",
   "metadata": {},
   "source": [
    "#### Methods yet to be translated"
   ]
  },
  {
   "cell_type": "markdown",
   "metadata": {},
   "source": [
    "These methods generate strings from other strings. However, we do not have the right implementations for any of these. Hence these are marked as dangerous until we can generate the right translations."
   ]
  },
  {
   "cell_type": "code",
   "execution_count": null,
   "metadata": {
    "code_folding": []
   },
   "outputs": [],
   "source": [
    "def make_str_abort_wrapper(fun):\n",
    "    def proxy(*args, **kwargs):\n",
    "        raise ostr.TaintException(\n",
    "            '%s Not implemented in `ostr`' %\n",
    "            fun.__name__)\n",
    "    return proxy"
   ]
  },
  {
   "cell_type": "code",
   "execution_count": null,
   "metadata": {
    "code_folding": []
   },
   "outputs": [],
   "source": [
    "def informationflow_init_3():\n",
    "    for name, fn in inspect.getmembers(str, callable):\n",
    "        # Omitted 'splitlines' as this is needed for formatting output in\n",
    "        # IPython/Jupyter\n",
    "        if name in ['__format__', 'format_map', 'format',\n",
    "                    '__mul__', '__rmul__', 'center', 'zfill', 'decode', 'encode']:\n",
    "            setattr(ostr, name, make_str_abort_wrapper(fn))"
   ]
  },
  {
   "cell_type": "code",
   "execution_count": null,
   "metadata": {},
   "outputs": [],
   "source": [
    "informationflow_init_3()"
   ]
  },
  {
   "cell_type": "code",
   "execution_count": null,
   "metadata": {},
   "outputs": [],
   "source": [
    "INITIALIZER_LIST.append(informationflow_init_3)"
   ]
  },
  {
   "attachments": {},
   "cell_type": "markdown",
   "metadata": {},
   "source": [
    "While generating proxy wrappers for string operations can handle most common cases of transmission of information flow, some operations involving strings can not be overridden. For example, consider the following."
   ]
  },
  {
   "cell_type": "markdown",
   "metadata": {},
   "source": [
    "### End of Excursion"
   ]
  },
  {
   "cell_type": "markdown",
   "metadata": {
    "tags": []
   },
   "source": [
    "### Checking Origins\n",
    "\n",
    "With all this implemented, we now have full-fledged `ostr` strings where we can easily check the origin of each and every character.  \n",
    "\n",
    "To check whether a string originates from another string, we can convert the origin to a set and resort to standard set operations:"
   ]
  },
  {
   "cell_type": "code",
   "execution_count": null,
   "metadata": {},
   "outputs": [],
   "source": [
    "s = ostr(\"hello\", origin=100)\n",
    "s[1]"
   ]
  },
  {
   "cell_type": "code",
   "execution_count": null,
   "metadata": {},
   "outputs": [],
   "source": [
    "s[1].origin"
   ]
  },
  {
   "cell_type": "code",
   "execution_count": null,
   "metadata": {},
   "outputs": [],
   "source": [
    "set(s[1].origin) <= set(s.origin)"
   ]
  },
  {
   "cell_type": "code",
   "execution_count": null,
   "metadata": {},
   "outputs": [],
   "source": [
    "t = ostr(\"world\", origin=200)"
   ]
  },
  {
   "cell_type": "code",
   "execution_count": null,
   "metadata": {},
   "outputs": [],
   "source": [
    "set(s.origin) <= set(t.origin)"
   ]
  },
  {
   "cell_type": "code",
   "execution_count": null,
   "metadata": {},
   "outputs": [],
   "source": [
    "u = s + t + \"!\""
   ]
  },
  {
   "cell_type": "code",
   "execution_count": null,
   "metadata": {},
   "outputs": [],
   "source": [
    "u.origin"
   ]
  },
  {
   "cell_type": "code",
   "execution_count": null,
   "metadata": {},
   "outputs": [],
   "source": [
    "ostr.UNKNOWN_ORIGIN in u.origin"
   ]
  },
  {
   "cell_type": "markdown",
   "metadata": {},
   "source": [
    "### Privacy Leaks Revisited\n",
    "\n",
    "Let us apply it to see whether we can come up with a satisfactory solution for checking the `heartbeat()` function against information leakage."
   ]
  },
  {
   "cell_type": "code",
   "execution_count": null,
   "metadata": {},
   "outputs": [],
   "source": [
    "SECRET_ORIGIN = 1000"
   ]
  },
  {
   "cell_type": "markdown",
   "metadata": {},
   "source": [
    "We define a \"secret\" that must not leak out:"
   ]
  },
  {
   "cell_type": "code",
   "execution_count": null,
   "metadata": {},
   "outputs": [],
   "source": [
    "secret = ostr('<again, some super-secret input>', origin=SECRET_ORIGIN)"
   ]
  },
  {
   "cell_type": "markdown",
   "metadata": {},
   "source": [
    "Each and every character in `secret` has an origin starting with `SECRET_ORIGIN`:"
   ]
  },
  {
   "cell_type": "code",
   "execution_count": null,
   "metadata": {},
   "outputs": [],
   "source": [
    "print(secret.origin)"
   ]
  },
  {
   "cell_type": "markdown",
   "metadata": {},
   "source": [
    "If we now invoke `heartbeat()` with a given string, the origin of the reply should all be `UNKNOWN_ORIGIN` (from the input), and none of the characters should have a `SECRET_ORIGIN`."
   ]
  },
  {
   "cell_type": "code",
   "execution_count": null,
   "metadata": {},
   "outputs": [],
   "source": [
    "hello_s = heartbeat('hello', 5, memory=secret)\n",
    "hello_s"
   ]
  },
  {
   "cell_type": "code",
   "execution_count": null,
   "metadata": {},
   "outputs": [],
   "source": [
    "assert isinstance(hello_s, ostr)"
   ]
  },
  {
   "cell_type": "code",
   "execution_count": null,
   "metadata": {},
   "outputs": [],
   "source": [
    "print(hello_s.origin)"
   ]
  },
  {
   "cell_type": "markdown",
   "metadata": {},
   "source": [
    "We can verify that the secret did not leak out by formulating appropriate assertions:"
   ]
  },
  {
   "cell_type": "code",
   "execution_count": null,
   "metadata": {},
   "outputs": [],
   "source": [
    "assert hello_s.origin == [ostr.UNKNOWN_ORIGIN] * len(hello_s)"
   ]
  },
  {
   "cell_type": "code",
   "execution_count": null,
   "metadata": {},
   "outputs": [],
   "source": [
    "assert all(origin == ostr.UNKNOWN_ORIGIN for origin in hello_s.origin)"
   ]
  },
  {
   "cell_type": "code",
   "execution_count": null,
   "metadata": {},
   "outputs": [],
   "source": [
    "assert not any(origin >= SECRET_ORIGIN for origin in hello_s.origin)"
   ]
  },
  {
   "cell_type": "markdown",
   "metadata": {},
   "source": [
    "All assertions pass, again confirming that no secret leaked out."
   ]
  },
  {
   "cell_type": "markdown",
   "metadata": {},
   "source": [
    "Let us now go and exploit `heartbeat()` to reveal its secrets.  As `heartbeat()` is unchanged, it is as vulnerable as it was:"
   ]
  },
  {
   "cell_type": "code",
   "execution_count": null,
   "metadata": {},
   "outputs": [],
   "source": [
    "hello_s = heartbeat('hello', 32, memory=secret)\n",
    "hello_s"
   ]
  },
  {
   "cell_type": "markdown",
   "metadata": {},
   "source": [
    "Now, however, the reply _does_ contain secret information:"
   ]
  },
  {
   "cell_type": "code",
   "execution_count": null,
   "metadata": {},
   "outputs": [],
   "source": [
    "assert isinstance(hello_s, ostr)"
   ]
  },
  {
   "cell_type": "code",
   "execution_count": null,
   "metadata": {},
   "outputs": [],
   "source": [
    "print(hello_s.origin)"
   ]
  },
  {
   "cell_type": "code",
   "execution_count": null,
   "metadata": {},
   "outputs": [],
   "source": [
    "with ExpectError():\n",
    "    assert hello_s.origin == [ostr.UNKNOWN_ORIGIN] * len(hello_s)"
   ]
  },
  {
   "cell_type": "code",
   "execution_count": null,
   "metadata": {},
   "outputs": [],
   "source": [
    "with ExpectError():\n",
    "    assert all(origin == ostr.UNKNOWN_ORIGIN for origin in hello_s.origin)"
   ]
  },
  {
   "cell_type": "code",
   "execution_count": null,
   "metadata": {},
   "outputs": [],
   "source": [
    "with ExpectError():\n",
    "    assert not any(origin >= SECRET_ORIGIN for origin in hello_s.origin)"
   ]
  },
  {
   "cell_type": "markdown",
   "metadata": {},
   "source": [
    "We can now integrate these assertions into the `heartbeat()` function, causing it to fail before leaking information.  Additionally (or alternatively?), we can also rewrite our output functions not to give out any secret information.  We will leave these two exercises for the reader."
   ]
  },
  {
   "cell_type": "markdown",
   "metadata": {
    "toc-hr-collapsed": true
   },
   "source": [
    "## Taint-Directed Fuzzing\n",
    "\n",
    "The previous _Taint Aware Fuzzing_ was a bit unsatisfactory in that we could not focus on the specific parts of the grammar that led to dangerous operations. We fix that with _taint directed fuzzing_ using `TrackingDB`.\n",
    "\n",
    "The idea here is to track the origins of each character that reaches `eval`. Then, track it back to the grammar nodes that generated it, and increase the probability of using those nodes again."
   ]
  },
  {
   "cell_type": "markdown",
   "metadata": {},
   "source": [
    "### TrackingDB\n",
    "\n",
    "The `TrackingDB` is similar to `TaintedDB`. The difference is that, if we find that the execution has reached the `my_eval`, we simply raise the `Tainted`."
   ]
  },
  {
   "cell_type": "code",
   "execution_count": null,
   "metadata": {},
   "outputs": [],
   "source": [
    "class TrackingDB(TaintedDB):\n",
    "    def my_eval(self, statement, g, l):\n",
    "        if statement.origin:\n",
    "            raise Tainted(statement)\n",
    "        try:\n",
    "            return eval(statement, g, l)\n",
    "        except:\n",
    "            raise SQLException('Invalid SQL (%s)' % repr(statement))"
   ]
  },
  {
   "cell_type": "markdown",
   "metadata": {},
   "source": [
    "Next, we need a specially crafted fuzzer that preserves the taints."
   ]
  },
  {
   "cell_type": "markdown",
   "metadata": {},
   "source": [
    "### TaintedGrammarFuzzer\n",
    "\n",
    "We define a `TaintedGrammarFuzzer` class that ensures that the taints propagate to the derivation tree. This is similar to the `GrammarFuzzer` from the [chapter on grammar fuzzers](GrammarFuzzer.ipynb) except that the origins and taints are preserved."
   ]
  },
  {
   "cell_type": "code",
   "execution_count": null,
   "metadata": {},
   "outputs": [],
   "source": [
    "import random"
   ]
  },
  {
   "cell_type": "code",
   "execution_count": null,
   "metadata": {},
   "outputs": [],
   "source": [
    "from GrammarFuzzer import GrammarFuzzer"
   ]
  },
  {
   "cell_type": "code",
   "execution_count": null,
   "metadata": {},
   "outputs": [],
   "source": [
    "from Parser import canonical"
   ]
  },
  {
   "cell_type": "code",
   "execution_count": null,
   "metadata": {},
   "outputs": [],
   "source": [
    "class TaintedGrammarFuzzer(GrammarFuzzer):\n",
    "    def __init__(self,\n",
    "                 grammar,\n",
    "                 start_symbol=START_SYMBOL,\n",
    "                 expansion_switch=1,\n",
    "                 log=False):\n",
    "        self.tainted_start_symbol = ostr(\n",
    "            start_symbol, origin=[1] * len(start_symbol))\n",
    "        self.expansion_switch = expansion_switch\n",
    "        self.log = log\n",
    "        self.grammar = grammar\n",
    "        self.c_grammar = canonical(grammar)\n",
    "        self.init_tainted_grammar()\n",
    "\n",
    "    def expansion_cost(self, expansion, seen=set()):\n",
    "        symbols = [e for e in expansion if e in self.c_grammar]\n",
    "        if len(symbols) == 0:\n",
    "            return 1\n",
    "\n",
    "        if any(s in seen for s in symbols):\n",
    "            return float('inf')\n",
    "\n",
    "        return sum(self.symbol_cost(s, seen) for s in symbols) + 1\n",
    "\n",
    "    def fuzz_tree(self):\n",
    "        tree = (self.tainted_start_symbol, [])\n",
    "        nt_leaves = [tree]\n",
    "        expansion_trials = 0\n",
    "        while nt_leaves:\n",
    "            idx = random.randint(0, len(nt_leaves) - 1)\n",
    "            key, children = nt_leaves[idx]\n",
    "            expansions = self.ct_grammar[key]\n",
    "            if expansion_trials < self.expansion_switch:\n",
    "                expansion = random.choice(expansions)\n",
    "            else:\n",
    "                costs = [self.expansion_cost(e) for e in expansions]\n",
    "                m = min(costs)\n",
    "                all_min = [i for i, c in enumerate(costs) if c == m]\n",
    "                expansion = expansions[random.choice(all_min)]\n",
    "\n",
    "            new_leaves = [(token, []) for token in expansion]\n",
    "            new_nt_leaves = [e for e in new_leaves if e[0] in self.ct_grammar]\n",
    "            children[:] = new_leaves\n",
    "            nt_leaves[idx:idx + 1] = new_nt_leaves\n",
    "            if self.log:\n",
    "                print(\"%-40s\" % (key + \" -> \" + str(expansion)))\n",
    "            expansion_trials += 1\n",
    "        return tree\n",
    "\n",
    "    def fuzz(self):\n",
    "        self.derivation_tree = self.fuzz_tree()\n",
    "        return self.tree_to_string(self.derivation_tree)"
   ]
  },
  {
   "cell_type": "markdown",
   "metadata": {},
   "source": [
    "We use a specially prepared tainted grammar for fuzzing. We mark each individual definition, each individual rule, and each individual token with a separate origin (we chose a token boundary of 10 here, after inspecting the grammar). This allows us to track exactly which parts of the grammar were involved in the operations we are interested in."
   ]
  },
  {
   "cell_type": "code",
   "execution_count": null,
   "metadata": {},
   "outputs": [],
   "source": [
    "class TaintedGrammarFuzzer(TaintedGrammarFuzzer):\n",
    "    def init_tainted_grammar(self):\n",
    "        key_increment, alt_increment, token_increment = 1000, 100, 10\n",
    "        key_origin = key_increment\n",
    "        self.ct_grammar = {}\n",
    "        for key, val in self.c_grammar.items():\n",
    "            key_origin += key_increment\n",
    "            os = []\n",
    "            for v in val:\n",
    "                ts = []\n",
    "                key_origin += alt_increment\n",
    "                for t in v:\n",
    "                    nt = ostr(t, origin=key_origin)\n",
    "                    key_origin += token_increment\n",
    "                    ts.append(nt)\n",
    "                os.append(ts)\n",
    "            self.ct_grammar[key] = os\n",
    "\n",
    "        # a use tracking grammar\n",
    "        self.ctp_grammar = {}\n",
    "        for key, val in self.ct_grammar.items():\n",
    "            self.ctp_grammar[key] = [(v, dict(use=0)) for v in val]"
   ]
  },
  {
   "cell_type": "markdown",
   "metadata": {},
   "source": [
    "As before, we initialize the `TrackingDB`"
   ]
  },
  {
   "cell_type": "code",
   "execution_count": null,
   "metadata": {},
   "outputs": [],
   "source": [
    "trdb = TrackingDB(db.db)"
   ]
  },
  {
   "cell_type": "markdown",
   "metadata": {},
   "source": [
    "Finally, we need to ensure that the taints are preserved, when the tree is converted back to a string. For this, we define the `tainted_tree_to_string()`"
   ]
  },
  {
   "cell_type": "code",
   "execution_count": null,
   "metadata": {},
   "outputs": [],
   "source": [
    "class TaintedGrammarFuzzer(TaintedGrammarFuzzer):\n",
    "    def tree_to_string(self, tree):\n",
    "        symbol, children, *_ = tree\n",
    "        e = ostr('')\n",
    "        if children:\n",
    "            return e.join([self.tree_to_string(c) for c in children])\n",
    "        else:\n",
    "            return e if symbol in self.c_grammar else symbol"
   ]
  },
  {
   "cell_type": "markdown",
   "metadata": {},
   "source": [
    "We define `update_grammar()` that accepts a set of origins that reached the dangerous operations and the derivation tree of the original string used for fuzzing to update the enhanced grammar."
   ]
  },
  {
   "cell_type": "code",
   "execution_count": null,
   "metadata": {},
   "outputs": [],
   "source": [
    "class TaintedGrammarFuzzer(TaintedGrammarFuzzer):\n",
    "    def update_grammar(self, origin, dtree):\n",
    "        def update_tree(dtree, origin):\n",
    "            key, children = dtree\n",
    "            if children:\n",
    "                updated_children = [update_tree(c, origin) for c in children]\n",
    "                corigin = set.union(\n",
    "                    *[o for (key, children, o) in updated_children])\n",
    "                corigin = corigin.union(set(key.origin))\n",
    "                return (key, children, corigin)\n",
    "            else:\n",
    "                my_origin = set(key.origin).intersection(origin)\n",
    "                return (key, [], my_origin)\n",
    "\n",
    "        key, children, oset = update_tree(dtree, set(origin))\n",
    "        for key, alts in self.ctp_grammar.items():\n",
    "            for alt, o in alts:\n",
    "                alt_origins = set([i for token in alt for i in token.origin])\n",
    "                if alt_origins.intersection(oset):\n",
    "                    o['use'] += 1"
   ]
  },
  {
   "cell_type": "markdown",
   "metadata": {},
   "source": [
    "With these, we are now ready to fuzz."
   ]
  },
  {
   "cell_type": "code",
   "execution_count": null,
   "metadata": {},
   "outputs": [],
   "source": [
    "def tree_type(tree):\n",
    "    key, children = tree\n",
    "    return (type(key), key, [tree_type(c) for c in children])"
   ]
  },
  {
   "cell_type": "code",
   "execution_count": null,
   "metadata": {},
   "outputs": [],
   "source": [
    "tgf = TaintedGrammarFuzzer(INVENTORY_GRAMMAR_F)\n",
    "x = None\n",
    "for _ in range(10):\n",
    "    qtree = tgf.fuzz_tree()\n",
    "    query = tgf.tree_to_string(qtree)\n",
    "    assert isinstance(query, ostr)\n",
    "    try:\n",
    "        print(repr(query))\n",
    "        res = trdb.sql(query)\n",
    "        print(repr(res))\n",
    "    except SQLException as e:\n",
    "        print(e)\n",
    "    except Tainted as e:\n",
    "        print(e)\n",
    "        origin = e.args[0].origin\n",
    "        tgf.update_grammar(origin, qtree)\n",
    "    except:\n",
    "        traceback.print_exc()\n",
    "        break\n",
    "    print()"
   ]
  },
  {
   "cell_type": "markdown",
   "metadata": {},
   "source": [
    "We can now inspect our enhanced grammar to see how many times each rule was used."
   ]
  },
  {
   "cell_type": "code",
   "execution_count": null,
   "metadata": {},
   "outputs": [],
   "source": [
    "tgf.ctp_grammar"
   ]
  },
  {
   "cell_type": "markdown",
   "metadata": {},
   "source": [
    "From here, the idea is to focus on the rules that reached dangerous operations more often, and increase the probability of the values of that kind."
   ]
  },
  {
   "cell_type": "markdown",
   "metadata": {
    "toc-hr-collapsed": false
   },
   "source": [
    "### The Limits of Taint Tracking\n",
    "\n",
    "While our framework can detect information leakage, it is by no means perfect.  There are several ways in which taints can get lost and information thus may still leak out."
   ]
  },
  {
   "cell_type": "markdown",
   "metadata": {},
   "source": [
    "#### Conversions\n",
    "\n",
    "We only track taints and origins through _strings_ and _characters_.  If we convert these to numbers (or other data), the information is lost."
   ]
  },
  {
   "cell_type": "markdown",
   "metadata": {},
   "source": [
    "As an example, consider this function, converting individual characters to numbers and back:"
   ]
  },
  {
   "cell_type": "code",
   "execution_count": null,
   "metadata": {},
   "outputs": [],
   "source": [
    "def strip_all_info(s):\n",
    "    t = \"\"\n",
    "    for c in s:\n",
    "        t += chr(ord(c))\n",
    "    return t"
   ]
  },
  {
   "cell_type": "code",
   "execution_count": null,
   "metadata": {},
   "outputs": [],
   "source": [
    "othello = ostr(\"Secret\")\n",
    "othello"
   ]
  },
  {
   "cell_type": "code",
   "execution_count": null,
   "metadata": {},
   "outputs": [],
   "source": [
    "othello.origin  # type: ignore"
   ]
  },
  {
   "cell_type": "markdown",
   "metadata": {},
   "source": [
    "The taints and origins will not propagate through the number conversion:"
   ]
  },
  {
   "cell_type": "code",
   "execution_count": null,
   "metadata": {},
   "outputs": [],
   "source": [
    "thello_stripped = strip_all_info(thello)\n",
    "thello_stripped"
   ]
  },
  {
   "cell_type": "code",
   "execution_count": null,
   "metadata": {},
   "outputs": [],
   "source": [
    "with ExpectError():\n",
    "    thello_stripped.origin"
   ]
  },
  {
   "cell_type": "markdown",
   "metadata": {},
   "source": [
    "This issue could be addressed by extending numbers with taints and origins, just as we did for strings.  At some point, however, this will still break down, because as soon as an internal C function in the Python library is reached, the taint will not propagate into and across the C function.  (Unless one starts implementing dynamic taints for these, that is.)"
   ]
  },
  {
   "cell_type": "markdown",
   "metadata": {},
   "source": [
    "#### Internal C libraries"
   ]
  },
  {
   "cell_type": "markdown",
   "metadata": {},
   "source": [
    "As we mentioned before, calls to _internal_ C libraries do not propagate taints. For example, while the following preserves the taints,"
   ]
  },
  {
   "cell_type": "code",
   "execution_count": null,
   "metadata": {},
   "outputs": [],
   "source": [
    "hello = ostr('hello', origin=100)\n",
    "world = ostr('world', origin=200)\n",
    "(hello + ' ' + world).origin"
   ]
  },
  {
   "cell_type": "markdown",
   "metadata": {},
   "source": [
    "a call to a `join` that should be equivalent will fail."
   ]
  },
  {
   "cell_type": "code",
   "execution_count": null,
   "metadata": {},
   "outputs": [],
   "source": [
    "with ExpectError():\n",
    "    ''.join([hello, ' ', world]).origin  # type: ignore"
   ]
  },
  {
   "cell_type": "markdown",
   "metadata": {},
   "source": [
    "#### Implicit Information Flow\n",
    "\n",
    "Even if one could taint all data in a program, there still would be means to break information flow – notably by turning explicit flow into _implicit_ flow, or data flow into _control flow_.  Here is an example:"
   ]
  },
  {
   "cell_type": "code",
   "execution_count": null,
   "metadata": {},
   "outputs": [],
   "source": [
    "def strip_all_info_again(s):\n",
    "    t = \"\"\n",
    "    for c in s:\n",
    "        if c == 'a':\n",
    "            t += 'a'\n",
    "        elif c == 'b':\n",
    "            t += 'b'\n",
    "        elif c == 'c':\n",
    "            t += 'c'\n",
    "    ..."
   ]
  },
  {
   "cell_type": "markdown",
   "metadata": {},
   "source": [
    "With such a function, there is no explicit data flow between the characters in `s` and the characters in `t`; yet, the strings would be identical.  This problem frequently occurs in programs that process and manipulate external input."
   ]
  },
  {
   "attachments": {},
   "cell_type": "markdown",
   "metadata": {},
   "source": [
    "#### Enforcing Tainting\n",
    "\n",
    "Both, conversions and implicit information flow are one of several possibilities how taint and origin information get lost.  To address the problem, the best solution is to _always assume the worst from untainted strings_:\n",
    "\n",
    "* As it comes to trust, an untainted string should be treated as _possibly untrusted_, and hence not relied upon unless sanitized.\n",
    "\n",
    "* As it comes to privacy, an untainted string should be treated as _possibly secret_, and hence not leaked out.\n",
    "\n",
    "As a consequence, your program should always have two kinds of taints: one for explicitly trusted (or secret) and one for explicitly untrusted (or non-secret).  If a taint gets lost along the way, you may have to restore it from its sources – not unlike the string methods discussed above.  The benefit is a trusted application, in which each and every information flow can be checked at runtime, with violations quickly discovered through automated tests."
   ]
  },
  {
   "cell_type": "markdown",
   "metadata": {},
   "source": [
    "## Synopsis"
   ]
  },
  {
   "cell_type": "markdown",
   "metadata": {},
   "source": [
    "This chapter provides two wrappers to Python _strings_ that allow one to track various properties. These include information on the security properties of the input, and information on originating indexes of the input string."
   ]
  },
  {
   "cell_type": "markdown",
   "metadata": {},
   "source": [
    "### Tracking String Taints\n",
    "\n",
    "`tstr` objects are replacements for Python strings that allows tracking and checking _taints_ – that is, information on from where a string originated. For instance, one can mark strings that originate from third party input with a taint of \"LOW\", meaning that they have a low security level. The taint is passed in the constructor of a `tstr` object:"
   ]
  },
  {
   "cell_type": "code",
   "execution_count": null,
   "metadata": {},
   "outputs": [],
   "source": [
    "thello = tstr('hello', taint='LOW')"
   ]
  },
  {
   "cell_type": "markdown",
   "metadata": {},
   "source": [
    "A `tstr` object is fully compatible with original Python strings. For instance, we can index it and access substrings:"
   ]
  },
  {
   "cell_type": "code",
   "execution_count": null,
   "metadata": {},
   "outputs": [],
   "source": [
    "thello[:4]"
   ]
  },
  {
   "cell_type": "markdown",
   "metadata": {},
   "source": [
    "However, the `tstr` object also stores the taint, which can be accessed using the `taint` attribute:"
   ]
  },
  {
   "cell_type": "code",
   "execution_count": null,
   "metadata": {},
   "outputs": [],
   "source": [
    "thello.taint"
   ]
  },
  {
   "cell_type": "markdown",
   "metadata": {},
   "source": [
    "The neat thing about taints is that they propagate to all strings derived from the original tainted string.\n",
    "Indeed, any operation from a  `tstr` string that results in a string fragment produces another `tstr` object that includes the original taint. For example:"
   ]
  },
  {
   "cell_type": "code",
   "execution_count": null,
   "metadata": {},
   "outputs": [],
   "source": [
    "thello[1:2].taint  # type: ignore"
   ]
  },
  {
   "cell_type": "markdown",
   "metadata": {},
   "source": [
    "`tstr` objects duplicate most `str` methods, as indicated in the class diagram:"
   ]
  },
  {
   "cell_type": "code",
   "execution_count": null,
   "metadata": {},
   "outputs": [],
   "source": [
    "# ignore\n",
    "from ClassDiagram import display_class_hierarchy\n",
    "display_class_hierarchy(tstr)"
   ]
  },
  {
   "cell_type": "markdown",
   "metadata": {},
   "source": [
    "### Tracking Character Origins\n",
    "\n",
    "`ostr` objects extend `tstr` objects by not only tracking a taint, but also the originating _indexes_ from the input string, This allows you to exactly track where individual characters came from. Assume you have a long string, which at index 100 contains the password `\"joshua1234\"`. Then you can save this origin information using an `ostr` as follows:"
   ]
  },
  {
   "cell_type": "code",
   "execution_count": null,
   "metadata": {},
   "outputs": [],
   "source": [
    "secret = ostr(\"joshua1234\", origin=100, taint='SECRET')"
   ]
  },
  {
   "cell_type": "markdown",
   "metadata": {},
   "source": [
    "The `origin` attribute of an `ostr` provides access to a list of indexes:"
   ]
  },
  {
   "cell_type": "code",
   "execution_count": null,
   "metadata": {},
   "outputs": [],
   "source": [
    "secret.origin"
   ]
  },
  {
   "cell_type": "code",
   "execution_count": null,
   "metadata": {},
   "outputs": [],
   "source": [
    "secret.taint"
   ]
  },
  {
   "cell_type": "markdown",
   "metadata": {},
   "source": [
    "`ostr` objects are compatible with Python strings, except that string operations return `ostr` objects (together with the saved origin an index information). An index of `-1` indicates that the corresponding character has no origin as supplied to the `ostr()` constructor:"
   ]
  },
  {
   "cell_type": "code",
   "execution_count": null,
   "metadata": {
    "tags": []
   },
   "outputs": [],
   "source": [
    "secret_substr = (secret[0:4] + \"-\" + secret[6:])\n",
    "secret_substr.taint"
   ]
  },
  {
   "cell_type": "code",
   "execution_count": null,
   "metadata": {},
   "outputs": [],
   "source": [
    "secret_substr.origin"
   ]
  },
  {
   "cell_type": "markdown",
   "metadata": {},
   "source": [
    "`ostr` objects duplicate most `str` methods, as indicated in the class diagram:"
   ]
  },
  {
   "cell_type": "code",
   "execution_count": null,
   "metadata": {},
   "outputs": [],
   "source": [
    "# ignore\n",
    "display_class_hierarchy(ostr)"
   ]
  },
  {
   "attachments": {},
   "cell_type": "markdown",
   "metadata": {
    "button": false,
    "new_sheet": true,
    "run_control": {
     "read_only": false
    }
   },
   "source": [
    "## Lessons Learned\n",
    "\n",
    "* String-based and character-based taints allow dynamically tracking the information flow from input to the internals of a system and back to the output.\n",
    "\n",
    "* Checking taints allows discovering untrusted inputs and information leakage at runtime.\n",
    "\n",
    "* Data conversions and implicit data flow may strip taint information; the resulting untainted strings should be treated as having the worst possible taint.\n",
    "\n",
    "* Taints can be used in conjunction with fuzzing to provide a more robust indication of incorrect behavior than to simply rely on program crashes."
   ]
  },
  {
   "cell_type": "markdown",
   "metadata": {
    "button": false,
    "new_sheet": false,
    "run_control": {
     "read_only": false
    }
   },
   "source": [
    "## Next Steps\n",
    "\n",
    "An even better alternative to our taint-directed fuzzing is to make use of _symbolic_ techniques that take the semantics of the program under test into account.  The chapter on [flow fuzzing](FlowFuzzer.ipynb) introduces these symbolic techniques for the purpose of exploring information flows; the subsequent chapter on [symbolic fuzzing](SymbolicFuzzer.ipynb) then shows how to make full-fledged use of symbolic execution for covering code.  Similarly, [search based fuzzing](SearchBasedFuzzer.ipynb) can often provide a cheaper exploration strategy."
   ]
  },
  {
   "cell_type": "markdown",
   "metadata": {},
   "source": [
    "## Background\n",
    "\n",
    "Taint analysis on Python using a library approach as we implemented in this chapter was discussed by Conti et al. \\cite{Conti2010}."
   ]
  },
  {
   "cell_type": "markdown",
   "metadata": {
    "button": false,
    "new_sheet": true,
    "run_control": {
     "read_only": false
    }
   },
   "source": [
    "## Exercises"
   ]
  },
  {
   "cell_type": "markdown",
   "metadata": {
    "button": false,
    "new_sheet": false,
    "run_control": {
     "read_only": false
    },
    "toc-hr-collapsed": true
   },
   "source": [
    "### Exercise 1: Tainted Numbers\n",
    "\n",
    "Introduce a class `tint` (for tainted integer) that, like `tstr`, has a taint attribute that gets passed on from `tint` to `tint`."
   ]
  },
  {
   "cell_type": "markdown",
   "metadata": {
    "button": false,
    "new_sheet": false,
    "run_control": {
     "read_only": false
    },
    "solution2": "hidden",
    "solution2_first": true
   },
   "source": [
    "#### Part 1: Creation\n",
    "\n",
    "Implement the `tint` class such that taints are set:\n",
    "\n",
    "```python\n",
    "x = tint(42, taint='SECRET')\n",
    "assert x.taint == 'SECRET'\n",
    "```"
   ]
  },
  {
   "cell_type": "markdown",
   "metadata": {
    "slideshow": {
     "slide_type": "skip"
    },
    "solution2": "hidden"
   },
   "source": [
    "**Solution.** This is pretty straightforward, as we can apply the same scheme as for `tstr`:"
   ]
  },
  {
   "cell_type": "code",
   "execution_count": null,
   "metadata": {
    "slideshow": {
     "slide_type": "skip"
    },
    "solution2": "hidden"
   },
   "outputs": [],
   "source": [
    "class tint(int):\n",
    "    def __new__(cls, value, *args, **kw):\n",
    "        return int.__new__(cls, value)\n",
    "\n",
    "    def __init__(self, value, taint=None, **kwargs):\n",
    "        self.taint = taint"
   ]
  },
  {
   "cell_type": "code",
   "execution_count": null,
   "metadata": {
    "slideshow": {
     "slide_type": "skip"
    },
    "solution2": "hidden"
   },
   "outputs": [],
   "source": [
    "x = tint(42, taint='SECRET')\n",
    "assert x.taint == 'SECRET'"
   ]
  },
  {
   "cell_type": "markdown",
   "metadata": {
    "button": false,
    "new_sheet": false,
    "run_control": {
     "read_only": false
    },
    "solution2": "hidden",
    "solution2_first": true
   },
   "source": [
    "#### Part 2: Arithmetic expressions\n",
    "\n",
    "Ensure that taints get passed along arithmetic expressions; support addition, subtraction, multiplication, and division operators.\n",
    "```python\n",
    "y = x + 1\n",
    "assert y.taint == 'SECRET'\n",
    "```"
   ]
  },
  {
   "cell_type": "markdown",
   "metadata": {
    "slideshow": {
     "slide_type": "skip"
    },
    "solution2": "hidden"
   },
   "source": [
    "**Solution.** As with `tstr`, we implement a `create()` method and a convenience function to quickly define all arithmetic operations:"
   ]
  },
  {
   "cell_type": "code",
   "execution_count": null,
   "metadata": {
    "slideshow": {
     "slide_type": "skip"
    },
    "solution2": "hidden"
   },
   "outputs": [],
   "source": [
    "class tint(tint):\n",
    "    def create(self, n):\n",
    "        # print(\"New tint from\", n)\n",
    "        return tint(n, taint=self.taint)"
   ]
  },
  {
   "cell_type": "markdown",
   "metadata": {
    "slideshow": {
     "slide_type": "skip"
    },
    "solution2": "hidden"
   },
   "source": [
    "The `make_int_wrapper()` function creates a wrapper around an existing `int` method which attaches the taint to the result of the method:"
   ]
  },
  {
   "cell_type": "code",
   "execution_count": null,
   "metadata": {
    "slideshow": {
     "slide_type": "skip"
    },
    "solution2": "hidden"
   },
   "outputs": [],
   "source": [
    "def make_int_wrapper(fun):\n",
    "    def proxy(self, *args, **kwargs):\n",
    "        res = fun(self, *args, **kwargs)\n",
    "        # print(fun, args, kwargs, \"=\", repr(res))\n",
    "        return self.create(res)\n",
    "    return proxy"
   ]
  },
  {
   "cell_type": "markdown",
   "metadata": {
    "slideshow": {
     "slide_type": "skip"
    },
    "solution2": "hidden"
   },
   "source": [
    "We do this for all arithmetic operators:"
   ]
  },
  {
   "cell_type": "code",
   "execution_count": null,
   "metadata": {
    "slideshow": {
     "slide_type": "skip"
    },
    "solution2": "hidden"
   },
   "outputs": [],
   "source": [
    "for name in ['__add__', '__radd__', '__mul__', '__rmul__', '__sub__',\n",
    "             '__floordiv__', '__truediv__']:\n",
    "    fun = getattr(int, name)\n",
    "    setattr(tint, name, make_int_wrapper(fun))"
   ]
  },
  {
   "cell_type": "code",
   "execution_count": null,
   "metadata": {
    "slideshow": {
     "slide_type": "skip"
    },
    "solution2": "hidden"
   },
   "outputs": [],
   "source": [
    "x = tint(42, taint='SECRET')\n",
    "y = x + 1\n",
    "y.taint  # type: ignore"
   ]
  },
  {
   "cell_type": "markdown",
   "metadata": {
    "button": false,
    "new_sheet": false,
    "run_control": {
     "read_only": false
    },
    "solution2": "hidden",
    "solution2_first": true
   },
   "source": [
    "#### Part 3: Passing taints from integers to strings\n",
    "\n",
    "Converting a tainted integer into a string (using `repr()`) should yield a tainted string:\n",
    "```python\n",
    "x_s = repr(x)\n",
    "assert x_s.taint == 'SECRET'\n",
    "```"
   ]
  },
  {
   "cell_type": "markdown",
   "metadata": {
    "slideshow": {
     "slide_type": "skip"
    },
    "solution2": "hidden"
   },
   "source": [
    "**Solution.** We define the string conversion functions such that they return a tainted string (`tstr`):"
   ]
  },
  {
   "cell_type": "code",
   "execution_count": null,
   "metadata": {
    "slideshow": {
     "slide_type": "skip"
    },
    "solution2": "hidden"
   },
   "outputs": [],
   "source": [
    "class tint(tint):\n",
    "    def __repr__(self) -> tstr:\n",
    "        s = int.__repr__(self)\n",
    "        return tstr(s, taint=self.taint)"
   ]
  },
  {
   "cell_type": "code",
   "execution_count": null,
   "metadata": {
    "slideshow": {
     "slide_type": "skip"
    },
    "solution2": "hidden"
   },
   "outputs": [],
   "source": [
    "class tint(tint):\n",
    "    def __str__(self) -> tstr:\n",
    "        return tstr(int.__str__(self), taint=self.taint)"
   ]
  },
  {
   "cell_type": "code",
   "execution_count": null,
   "metadata": {
    "button": false,
    "new_sheet": false,
    "run_control": {
     "read_only": false
    },
    "slideshow": {
     "slide_type": "skip"
    },
    "solution2": "hidden"
   },
   "outputs": [],
   "source": [
    "x = tint(42, taint='SECRET')\n",
    "x_s = repr(x)"
   ]
  },
  {
   "cell_type": "code",
   "execution_count": null,
   "metadata": {
    "button": false,
    "new_sheet": false,
    "run_control": {
     "read_only": false
    },
    "slideshow": {
     "slide_type": "skip"
    },
    "solution2": "hidden"
   },
   "outputs": [],
   "source": [
    "assert isinstance(x_s, tstr)\n",
    "assert x_s.taint == 'SECRET'"
   ]
  },
  {
   "cell_type": "markdown",
   "metadata": {
    "solution2": "hidden",
    "solution2_first": true
   },
   "source": [
    "#### Part 4: Passing taints from strings to integers\n",
    "\n",
    "Converting a tainted object (with a `taint` attribute) to an integer should pass that taint:\n",
    "\n",
    "```python\n",
    "password = tstr('1234', taint='NOT_EXACTLY_SECRET')\n",
    "x = tint(password)\n",
    "assert x == 1234\n",
    "assert x.taint == 'NOT_EXACTLY_SECRET'\n",
    "```"
   ]
  },
  {
   "attachments": {},
   "cell_type": "markdown",
   "metadata": {
    "slideshow": {
     "slide_type": "skip"
    },
    "solution2": "hidden"
   },
   "source": [
    "**Solution.** This can be done by having the `__init__()` constructor check for a `taint` attribute:"
   ]
  },
  {
   "cell_type": "code",
   "execution_count": null,
   "metadata": {
    "slideshow": {
     "slide_type": "skip"
    },
    "solution2": "hidden"
   },
   "outputs": [],
   "source": [
    "class tint(tint):\n",
    "    def __init__(self, value, taint=None, **kwargs):\n",
    "        if taint is not None:\n",
    "            self.taint = taint\n",
    "        else:\n",
    "            self.taint = getattr(value, 'taint', None)"
   ]
  },
  {
   "cell_type": "code",
   "execution_count": null,
   "metadata": {
    "slideshow": {
     "slide_type": "skip"
    },
    "solution2": "hidden"
   },
   "outputs": [],
   "source": [
    "password = tstr('1234', taint='NOT_EXACTLY_SECRET')\n",
    "x = tint(password)"
   ]
  },
  {
   "cell_type": "code",
   "execution_count": null,
   "metadata": {
    "slideshow": {
     "slide_type": "skip"
    },
    "solution2": "hidden"
   },
   "outputs": [],
   "source": [
    "assert x == 1234"
   ]
  },
  {
   "cell_type": "code",
   "execution_count": null,
   "metadata": {
    "slideshow": {
     "slide_type": "skip"
    },
    "solution2": "hidden"
   },
   "outputs": [],
   "source": [
    "assert x.taint == 'NOT_EXACTLY_SECRET'"
   ]
  },
  {
   "cell_type": "markdown",
   "metadata": {
    "button": false,
    "new_sheet": false,
    "run_control": {
     "read_only": false
    },
    "solution": "hidden",
    "solution2": "hidden",
    "solution2_first": true,
    "solution_first": true,
    "toc-hr-collapsed": true
   },
   "source": [
    "### Exercise 2: Information Flow Testing\n",
    "\n",
    "Generate tests that ensure a _maximum_ of information flow, propagating specific taints as much as possible.  Implement an appropriate fitness function for [search-based testing](SearchBasedFuzzer.ipynb) and let the search-based fuzzer search for solutions."
   ]
  },
  {
   "cell_type": "markdown",
   "metadata": {
    "button": false,
    "new_sheet": false,
    "run_control": {
     "read_only": false
    },
    "slideshow": {
     "slide_type": "skip"
    },
    "solution": "hidden",
    "solution2": "hidden"
   },
   "source": [
    "**Solution.** This will become a section on its own; as of now, it is an exercise for the reader."
   ]
  }
 ],
 "metadata": {
  "ipub": {
   "bibliography": "fuzzingbook.bib",
   "toc": true
  },
  "kernelspec": {
   "display_name": "Python 3",
   "language": "python",
   "name": "python3"
  },
  "language_info": {
   "codemirror_mode": {
    "name": "ipython",
    "version": 3
   },
   "file_extension": ".py",
   "mimetype": "text/x-python",
   "name": "python",
   "nbconvert_exporter": "python",
   "pygments_lexer": "ipython3",
   "version": "3.10.2 (main, Apr 22 2022, 17:40:25) [Clang 13.1.6 (clang-1316.0.21.2.3)]"
  },
  "toc": {
   "base_numbering": 1,
   "nav_menu": {},
   "number_sections": true,
   "sideBar": true,
   "skip_h1_title": true,
   "title_cell": "",
   "title_sidebar": "Contents",
   "toc_cell": false,
   "toc_position": {},
   "toc_section_display": true,
   "toc_window_display": true
  },
  "toc-autonumbering": false,
  "varInspector": {
   "cols": {
    "lenName": 16,
    "lenType": 16,
    "lenVar": 40
   },
   "kernels_config": {
    "python": {
     "delete_cmd_postfix": "",
     "delete_cmd_prefix": "del ",
     "library": "var_list.py",
     "varRefreshCmd": "print(var_dic_list())"
    },
    "r": {
     "delete_cmd_postfix": ") ",
     "delete_cmd_prefix": "rm(",
     "library": "var_list.r",
     "varRefreshCmd": "cat(var_dic_list()) "
    }
   },
   "types_to_exclude": [
    "module",
    "function",
    "builtin_function_or_method",
    "instance",
    "_Feature"
   ],
   "window_display": false
  },
  "vscode": {
   "interpreter": {
    "hash": "4185989cf89c47c310c2629adcadd634093b57a2c49dffb5ae8d0d14fa302f2b"
   }
  }
 },
 "nbformat": 4,
 "nbformat_minor": 4
}
