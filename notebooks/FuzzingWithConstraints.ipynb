{
 "cells": [
  {
   "cell_type": "markdown",
   "id": "76619533",
   "metadata": {
    "button": false,
    "new_sheet": false,
    "run_control": {
     "read_only": false
    }
   },
   "source": [
    "# Fuzzing with Constraints\n",
    "\n",
    "In previous chapters, we have seen how [Grammar-Based Fuzzing](GrammarFuzzer.ipynb) allows us to efficiently generate myriads of syntactically valid inputs.\n",
    "However, there are _semantic_ input features that cannot be expressed in a context-free grammar, such as\n",
    "\n",
    "* \"$X$ is the length of $Y$\";\n",
    "* \"$X$ is an identifier previously declared\"; or\n",
    "* \"$X$ should be longer than 4,096 bytes\".\n",
    "\n",
    "In this chapter, we show how the [ISLa](https://rindphi.github.io/isla/) framework allows us to express such features as _constraints_ added to a grammar.\n",
    "By having ISLa solve these constraints automatically, we produce inputs that are not only _syntactically_ valid, but actually _semantically_ valid.\n",
    "Furthermore, such constraints allow us to very precisely _shape_ the inputs we want for testing."
   ]
  },
  {
   "cell_type": "code",
   "execution_count": null,
   "id": "371d240d",
   "metadata": {},
   "outputs": [],
   "source": [
    "from bookutils import YouTubeVideo\n",
    "YouTubeVideo(\"dgaGuwn-1OU\")"
   ]
  },
  {
   "cell_type": "markdown",
   "id": "88ec37bf",
   "metadata": {
    "button": false,
    "new_sheet": false,
    "run_control": {
     "read_only": false
    }
   },
   "source": [
    "**Prerequisites**\n",
    "\n",
    "* You should have read the [chapter on grammars](Grammars.ipynb).\n",
    "* The chapter on [generators and filters](GeneratorGrammarFuzzer.ipynb) addresses a similar problem, but with program code instead of constraints."
   ]
  },
  {
   "cell_type": "code",
   "execution_count": null,
   "id": "b383c5ed",
   "metadata": {
    "button": false,
    "new_sheet": false,
    "run_control": {
     "read_only": false
    },
    "slideshow": {
     "slide_type": "skip"
    }
   },
   "outputs": [],
   "source": [
    "import bookutils.setup"
   ]
  },
  {
   "cell_type": "code",
   "execution_count": null,
   "id": "286a4c94",
   "metadata": {},
   "outputs": [],
   "source": [
    "# ignore\n",
    "import sys"
   ]
  },
  {
   "cell_type": "code",
   "execution_count": null,
   "id": "a9e1f132",
   "metadata": {},
   "outputs": [],
   "source": [
    "# ignore\n",
    "if sys.version_info < (3, 10):\n",
    "    print(\"This code requires Python 3.10 or later\")\n",
    "    sys.exit(0)"
   ]
  },
  {
   "attachments": {},
   "cell_type": "markdown",
   "id": "74cd055b",
   "metadata": {
    "slideshow": {
     "slide_type": "skip"
    }
   },
   "source": [
    "## Synopsis\n",
    "<!-- Automatically generated. Do not edit. -->\n",
    "\n",
    "To [use the code provided in this chapter](Importing.ipynb), write\n",
    "\n",
    "```python\n",
    ">>> from fuzzingbook.FuzzingWithConstraints import <identifier>\n",
    "```\n",
    "\n",
    "and then make use of the following features.\n",
    "\n",
    "\n",
    "This chapter introduces the _ISLa framework_, consisting of \n",
    "* the _ISLa specification language_, allowing to add _constraints_ to a grammar\n",
    "* the _ISLa solver_, solving these constraints to produce semantically (and syntactically) valid inputs\n",
    "* the _ISLa checker_, checking given inputs for whether they satisfy these constraints.\n",
    "\n",
    "A typical usage of the ISLa solver is as follows.\n",
    "First, install ISLa, using \n",
    "```shell\n",
    "$ pip install isla-solver\n",
    "```\n",
    "Then, you can import the solver as\n",
    "\n",
    "```python\n",
    ">>> from isla.solver import ISLaSolver  # type: ignore\n",
    "```\n",
    "The ISLa solver needs two things. First, a _grammar_ - say, US phone numbers.\n",
    "\n",
    "```python\n",
    ">>> from Grammars import US_PHONE_GRAMMAR\n",
    "```\n",
    "Second, you need _constraints_ – a string expressing a condition over one or more grammar elements.\n",
    "Common functions include\n",
    "* `str.len()`, returning the length of a string\n",
    "* `str.to.int()`, converting a string to an integer\n",
    "\n",
    "Here, we instantiate the ISLa solver with a constraint stating that the area code should be above 900:\n",
    "\n",
    "```python\n",
    ">>> solver = ISLaSolver(US_PHONE_GRAMMAR, \n",
    ">>>             \"\"\"\n",
    ">>>             str.to.int(<area>) > 900\n",
    ">>>             \"\"\")\n",
    "```\n",
    "With that, invoking `solver.solve()` returns a _solution_ for the constraints.\n",
    "\n",
    "```python\n",
    ">>> str(solver.solve())\n",
    "'(901)910-7342'\n",
    "```\n",
    "`solve()` returns a derivation tree, which typically is converted into a string using `str()` as above. The `print()` function does this implicitly.\n",
    "\n",
    "Subsequent calls of `solve()` return more solutions:\n",
    "\n",
    "```python\n",
    ">>> for _ in range(10):\n",
    ">>>     print(solver.solve())\n",
    "(901)565-8296\n",
    "(901)440-0369\n",
    "(901)608-6457\n",
    "(901)700-3479\n",
    "(901)326-1972\n",
    "(901)814-1878\n",
    "(901)294-0408\n",
    "(901)705-1344\n",
    "(901)689-0159\n",
    "(920)209-7853\n",
    "\n",
    "```\n",
    "We see that the solver produces a number of inputs that all satisfy the constraint - the area code is always more than 900.\n",
    "\n",
    "The `ISLaSolver()` constructor provides several additional parameters to configure the solver, as documented below.\n",
    "Additional `ISLaSolver` methods allow checking inputs against constraints, and provide additional functionality.\n",
    "\n",
    "![](PICS/FuzzingWithConstraints-synopsis-1.svg)\n",
    "\n",
    "The ISLa functionality is also available on the command line:\n",
    "\n",
    "```python\n",
    ">>> !isla --help\n",
    "usage: isla [-h] [-v] {solve,fuzz,check,parse,create} ...\n",
    "\n",
    "The ISLa command line interface.\n",
    "\n",
    "options:\n",
    "  -h, --help            show this help message and exit\n",
    "  -v, --version         Print the ISLa version number\n",
    "\n",
    "Commands:\n",
    "  {solve,fuzz,check,parse,create}\n",
    "    solve               create solutions to ISLa constraints or check their\n",
    "                        unsatisfiability\n",
    "    fuzz                pass solutions to an ISLa constraint to a test subject\n",
    "    check               check whether an input satisfies an ISLa constraint\n",
    "    parse               parse an input into a derivation tree if it satisfies\n",
    "                        an ISLa constraint\n",
    "    create              create grammar and constraint stubs\n",
    "\n",
    "```\n"
   ]
  },
  {
   "cell_type": "markdown",
   "id": "93f11201",
   "metadata": {},
   "source": [
    "## Semantic Input Properties"
   ]
  },
  {
   "cell_type": "markdown",
   "id": "0ca854cf",
   "metadata": {},
   "source": [
    "In this book, we have frequently used [grammars](Grammars.ipynb) to [systematically generate inputs](GrammarFuzzer.ipynb) that [cover input structure](GrammarCoverageFuzzer.ipynb) and more.\n",
    "But while it is relatively easy to express the _syntax_ of an input using a grammar, there are input properties that _cannot_ be expressed using a grammar.\n",
    "Such input properties are called _semantic_ properties."
   ]
  },
  {
   "cell_type": "markdown",
   "id": "c2b7c2bd",
   "metadata": {},
   "source": [
    "Let us illustrate semantic properties using a simple example.\n",
    "We want to test some system that is configured by two settings, a _page size_ and a _buffer size_. \n",
    "Both these come as integer numbers as part of a human-readable configuration file.\n",
    "The _syntax_ of this file is given by the following grammar:"
   ]
  },
  {
   "cell_type": "code",
   "execution_count": null,
   "id": "3e8cb79d",
   "metadata": {},
   "outputs": [],
   "source": [
    "from Grammars import Grammar, is_valid_grammar, syntax_diagram, crange"
   ]
  },
  {
   "cell_type": "code",
   "execution_count": null,
   "id": "e207e7fc",
   "metadata": {},
   "outputs": [],
   "source": [
    "import string"
   ]
  },
  {
   "cell_type": "code",
   "execution_count": null,
   "id": "398f0dce",
   "metadata": {},
   "outputs": [],
   "source": [
    "CONFIG_GRAMMAR: Grammar = {\n",
    "    \"<start>\": [\"<config>\"],\n",
    "    \"<config>\": [\n",
    "        \"pagesize=<pagesize>\\n\"\n",
    "        \"bufsize=<bufsize>\"\n",
    "    ],\n",
    "    \"<pagesize>\": [\"<int>\"],\n",
    "    \"<bufsize>\": [\"<int>\"],\n",
    "    \"<int>\": [\"<leaddigit><digits>\"],\n",
    "    \"<digits>\": [\"\", \"<digit><digits>\"],\n",
    "    \"<digit>\": list(\"0123456789\"),\n",
    "    \"<leaddigit>\": list(\"123456789\")\n",
    "}"
   ]
  },
  {
   "cell_type": "code",
   "execution_count": null,
   "id": "82f60456",
   "metadata": {
    "tags": []
   },
   "outputs": [],
   "source": [
    "assert is_valid_grammar(CONFIG_GRAMMAR)"
   ]
  },
  {
   "cell_type": "markdown",
   "id": "3201949c",
   "metadata": {},
   "source": [
    "Here's a visualization of this grammar as a railroad diagram, showing its structure:"
   ]
  },
  {
   "cell_type": "code",
   "execution_count": null,
   "id": "5c66275f",
   "metadata": {},
   "outputs": [],
   "source": [
    "# ignore\n",
    "syntax_diagram(CONFIG_GRAMMAR)"
   ]
  },
  {
   "cell_type": "markdown",
   "id": "c2ff4e64",
   "metadata": {},
   "source": [
    "Using this grammar, we can now use any of our grammar-based fuzzers to generate valid inputs.\n",
    "For instance:"
   ]
  },
  {
   "cell_type": "code",
   "execution_count": null,
   "id": "77f36f41",
   "metadata": {},
   "outputs": [],
   "source": [
    "from GrammarFuzzer import GrammarFuzzer, DerivationTree"
   ]
  },
  {
   "cell_type": "code",
   "execution_count": null,
   "id": "aac93fc0",
   "metadata": {},
   "outputs": [],
   "source": [
    "fuzzer = GrammarFuzzer(CONFIG_GRAMMAR)"
   ]
  },
  {
   "cell_type": "code",
   "execution_count": null,
   "id": "e9af0141",
   "metadata": {},
   "outputs": [],
   "source": [
    "for i in range(10):\n",
    "    print(i)\n",
    "    print(fuzzer.fuzz())"
   ]
  },
  {
   "cell_type": "markdown",
   "id": "70fe9cd2",
   "metadata": {},
   "source": [
    "So far, so good - and indeed, these random values will help us test our (hypothetical) system.\n",
    "But what if we want to _control_ these values further, putting our system to the test?"
   ]
  },
  {
   "cell_type": "markdown",
   "id": "2cd32fe5",
   "metadata": {},
   "source": [
    "A grammar gives us _some_ control. If we want to ensure a page size of at least 100,000, for instance, a rule like\n",
    "```python\n",
    "\"<bufsize>\": [\"<leaddigit><digit><digit><digit><digit><digit>\"]\n",
    "```\n",
    "would do the job.\n",
    "We could also express that the page size should be an odd number, by having it end in an odd digit.\n",
    "But if we want to state that the page size should be, say, a multiple of 8, or larger or less than the buffer size, we are out of luck."
   ]
  },
  {
   "cell_type": "markdown",
   "id": "7233e308",
   "metadata": {},
   "source": [
    "In the [chapter on fuzzing with generators](GeneratorGrammarFuzzer.ipynb), we have seen how to attach _program code_ to individual rules - program code that would either _generate_ individual elements right away or _filter_ only these that satisfy specific conditions."
   ]
  },
  {
   "cell_type": "markdown",
   "id": "476f62c8",
   "metadata": {},
   "source": [
    "Attaching code makes things very flexible, but also has several disadvantages:\n",
    "\n",
    "* First, it is pretty hard to generate inputs that satisfy multiple constraints at once.\n",
    "In essence, you have to code your own _strategy_ for generating inputs, which at some point negates the advantage of having an abstract representation such as a grammar.\n",
    "* Second, your code is not portable. While a grammar can be easily adapted to _any_ grammar-based fuzzer, adding, say, Python code, ties you to the Python environment forever.\n",
    "* Third, program code can only be used for _producing_ inputs or _checking_ inputs, but not both. This, again, is a downside compared to a pure grammar representation."
   ]
  },
  {
   "cell_type": "markdown",
   "id": "3e800960",
   "metadata": {},
   "source": [
    "Hence, we are looking to a more _general_ way to express semantic properties - and also a more _declarative_ way to express semantic properties."
   ]
  },
  {
   "cell_type": "markdown",
   "id": "78f7cdf6",
   "metadata": {},
   "source": [
    "### Excursion: Unrestricted Grammars"
   ]
  },
  {
   "attachments": {},
   "cell_type": "markdown",
   "id": "e163a786",
   "metadata": {},
   "source": [
    "One very general solution to this problem would be to use _unrestricted_ grammars rather than the _context-free_ grammars we have used so far.\n",
    "In an unrestricted grammar, one can have multiple symbols also on the left-hand side of an expansion rule, making them very flexible.\n",
    "In fact, unrestricted grammars are _Turing-universal_, meaning that they can express any feature that could also be expressed in program code; and they could thus check and produce arbitrary strings with arbitrary features. (If they finish, that is – unrestricted grammars also suffer from the halting problem.)\n",
    "The downside is that there is literally no programming support for unrestricted grammars – we'd have to implement all arithmetics, strings, and other functionality from scratch in a grammar, which is - well - not fun."
   ]
  },
  {
   "cell_type": "markdown",
   "id": "1e84f753",
   "metadata": {},
   "source": [
    "### End of Excursion"
   ]
  },
  {
   "cell_type": "markdown",
   "id": "0cd821cb",
   "metadata": {},
   "source": [
    "## Specifying Constraints"
   ]
  },
  {
   "cell_type": "markdown",
   "id": "c20ac501",
   "metadata": {},
   "source": [
    "In recent work, _Dominic Steinhöfel_ and _Andreas Zeller_ (one of the authors of this book) have presented an infrastructure that allows producing inputs with _arbitrary properties_, but without having to go through the trouble of implementing producers or checkers.\n",
    "Instead, they suggest a dedicated _language_ for specifiying inputs, named [ISLa](https://rindphi.github.io/isla/) (for input specification language).\n",
    "_ISLa_ combines a standard context-free _grammar_ with _constraints_ that express _semantic_ properties of the inputs and their elements.\n",
    "ISLa can be used as a _fuzzer_ (producing inputs that satisfy the constraints) as well as a _checker_ (checking inputs whether they satisfy the given constraints)."
   ]
  },
  {
   "cell_type": "markdown",
   "id": "6d1a17d7",
   "metadata": {},
   "source": [
    "Let us illustrate ISLa by example. ISLa comes as a Python package named `isla-solver` that can be easily installed using `pip`:\n",
    "\n",
    "```shell\n",
    "$ pip install isla-solver\n",
    "```\n",
    "\n",
    "This also installs all dependent packages."
   ]
  },
  {
   "cell_type": "markdown",
   "id": "473959be",
   "metadata": {},
   "source": [
    "The core of ISLa is the _ISLa Solver_ – the component that actually _solves_ constraints to produce satisfying inputs."
   ]
  },
  {
   "cell_type": "code",
   "execution_count": null,
   "id": "918b8ac1",
   "metadata": {},
   "outputs": [],
   "source": [
    "import isla  # type: ignore"
   ]
  },
  {
   "cell_type": "code",
   "execution_count": null,
   "id": "9e4fcb78",
   "metadata": {},
   "outputs": [],
   "source": [
    "from isla.solver import ISLaSolver  # type: ignore"
   ]
  },
  {
   "cell_type": "markdown",
   "id": "1f671384",
   "metadata": {},
   "source": [
    "The constructor of an `ISLaSolver` takes two mandatory arguments.\n",
    "* The _grammar_ is the grammar the solver should produce inputs from.\n",
    "* The _constraint_ is the constraint the produced inputs should satisfy."
   ]
  },
  {
   "cell_type": "markdown",
   "id": "57381334",
   "metadata": {},
   "source": [
    "To express a constraint, we have a variety of _functions_ and _predicates_ at our disposition.\n",
    "These can be applied to individual elements of the grammar, notably their nonterminals.\n",
    "The function `str.len()`, for instance, returns the length of a string.\n",
    "If we want to have inputs in which the page size has at least 6 digits, we can write:"
   ]
  },
  {
   "cell_type": "code",
   "execution_count": null,
   "id": "9f6fc3dd",
   "metadata": {},
   "outputs": [],
   "source": [
    "solver = ISLaSolver(CONFIG_GRAMMAR, 'str.len(<pagesize>) >= 6')"
   ]
  },
  {
   "cell_type": "markdown",
   "id": "15e4f97b-e920-4021-ba0c-0088185351bb",
   "metadata": {},
   "source": [
    "The method `solve()` returns the next produced string from the ISLa solver, as a _derivation tree_ (seen in the [Chapter on fuzzing with grammars](GrammarFuzzer.ipynb)).\n",
    "To convert these into a string, we can use the `str()` converter:"
   ]
  },
  {
   "cell_type": "code",
   "execution_count": null,
   "id": "4989280e-ddf8-4c2b-81a9-b7862e906ec3",
   "metadata": {},
   "outputs": [],
   "source": [
    "str(solver.solve())"
   ]
  },
  {
   "attachments": {},
   "cell_type": "markdown",
   "id": "f43126e4-4fb4-435c-be61-1966c6260320",
   "metadata": {},
   "source": [
    "The `print()` method converts its arguments to strings implicitly.\n",
    "To get, say, the next 10 solutions, we can thus write"
   ]
  },
  {
   "cell_type": "code",
   "execution_count": null,
   "id": "035571b5",
   "metadata": {},
   "outputs": [],
   "source": [
    "for _ in range(10):\n",
    "    print(solver.solve())"
   ]
  },
  {
   "cell_type": "markdown",
   "id": "6e41cd49",
   "metadata": {},
   "source": [
    "... and we see that, indeed, each page size has exactly six digits."
   ]
  },
  {
   "cell_type": "markdown",
   "id": "f2dba947-7523-482a-abba-a71823d61a75",
   "metadata": {},
   "source": [
    "### Excursion: Derivation Trees"
   ]
  },
  {
   "cell_type": "markdown",
   "id": "4723868a-b463-4e57-a35b-13d8c5f7fa8e",
   "metadata": {},
   "source": [
    "If you inspect a derivation tree as returned from `solve()` directly, you will get quite a structure:"
   ]
  },
  {
   "cell_type": "code",
   "execution_count": null,
   "id": "434a8a9c-14a4-42bc-a3c8-6cfe3fafac79",
   "metadata": {},
   "outputs": [],
   "source": [
    "solution = solver.solve()\n",
    "solution"
   ]
  },
  {
   "cell_type": "markdown",
   "id": "dbbe1a8c-41c2-4cd0-b266-149c253320f7",
   "metadata": {},
   "source": [
    "We can easily visualize the tree, revealing its structure:"
   ]
  },
  {
   "cell_type": "code",
   "execution_count": null,
   "id": "59b5933d",
   "metadata": {},
   "outputs": [],
   "source": [
    "# ignore\n",
    "from Parser import EarleyParser  # minor dependency\n",
    "from GrammarFuzzer import display_tree"
   ]
  },
  {
   "cell_type": "code",
   "execution_count": null,
   "id": "a05ec520-48ac-486e-88c9-a6c7604486d3",
   "metadata": {},
   "outputs": [],
   "source": [
    "display_tree(solution)"
   ]
  },
  {
   "cell_type": "markdown",
   "id": "7add9ac1-c7ef-4782-9c5a-7a992bf12b31",
   "metadata": {},
   "source": [
    "By converting the derivation tree into a string, we get the represented string:"
   ]
  },
  {
   "cell_type": "code",
   "execution_count": null,
   "id": "891f8bc4-f2a6-4376-9628-e099477aa8f7",
   "metadata": {},
   "outputs": [],
   "source": [
    "str(solution)"
   ]
  },
  {
   "cell_type": "markdown",
   "id": "4443ecd1-1dd3-4a1b-bee7-a5449c820520",
   "metadata": {},
   "source": [
    "`print()` does this implicitly, so `print`ing the solution gives us the string:"
   ]
  },
  {
   "cell_type": "code",
   "execution_count": null,
   "id": "5fed8e1c-6218-497a-8a68-6be6f04020a6",
   "metadata": {},
   "outputs": [],
   "source": [
    "print(solution)"
   ]
  },
  {
   "cell_type": "markdown",
   "id": "406fe997-77fa-4acf-849a-4da6e3254b50",
   "metadata": {},
   "source": [
    "Unless you want to inspect the derivation tree or access its elements, converting it into a string makes it more manageable."
   ]
  },
  {
   "cell_type": "markdown",
   "id": "0c667f85-5a6f-40c8-b8c5-9d2488e38afe",
   "metadata": {},
   "source": [
    "### End of Excursion"
   ]
  },
  {
   "cell_type": "markdown",
   "id": "9048ad09",
   "metadata": {},
   "source": [
    "To express a minimum numeric value, we can use a more elegant way.\n",
    "The function `str.to_int()`, for instance, converts a string into an integer.\n",
    "To obtain a page size that of at least 100000, we can thus also write"
   ]
  },
  {
   "cell_type": "code",
   "execution_count": null,
   "id": "b899651c-9ddd-4d81-83be-bef3c64afca1",
   "metadata": {},
   "outputs": [],
   "source": [
    "solver = ISLaSolver(CONFIG_GRAMMAR,\n",
    "                    'str.to.int(<pagesize>) >= 100000')"
   ]
  },
  {
   "cell_type": "code",
   "execution_count": null,
   "id": "e5dbd6fc-00cd-4193-a00f-d0c4a2e0b614",
   "metadata": {},
   "outputs": [],
   "source": [
    "print(solver.solve())"
   ]
  },
  {
   "cell_type": "markdown",
   "id": "8cc30857",
   "metadata": {},
   "source": [
    "If we want the page size to be in the range of 100 to 200, we can state this as a logical conjunction (using `and`)"
   ]
  },
  {
   "cell_type": "code",
   "execution_count": null,
   "id": "75683696",
   "metadata": {},
   "outputs": [],
   "source": [
    "solver = ISLaSolver(CONFIG_GRAMMAR, \n",
    "                    '''\n",
    "                    str.to.int(<pagesize>) >= 100 and \n",
    "                    str.to.int(<pagesize>) <= 200\n",
    "                    ''')\n",
    "print(solver.solve())"
   ]
  },
  {
   "cell_type": "markdown",
   "id": "a0de0eac",
   "metadata": {},
   "source": [
    "And if we want the page size to be a multiple of seven, we can write"
   ]
  },
  {
   "cell_type": "code",
   "execution_count": null,
   "id": "f99bd224",
   "metadata": {
    "tags": []
   },
   "outputs": [],
   "source": [
    "solver = ISLaSolver(CONFIG_GRAMMAR, \n",
    "                    '''\n",
    "                    str.to.int(<pagesize>) mod 7 = 0\n",
    "                    ''')\n",
    "print(solver.solve())"
   ]
  },
  {
   "cell_type": "code",
   "execution_count": null,
   "id": "fdd0335e",
   "metadata": {},
   "outputs": [],
   "source": [
    "from bookutils import quiz"
   ]
  },
  {
   "cell_type": "code",
   "execution_count": null,
   "id": "28120dfd",
   "metadata": {},
   "outputs": [],
   "source": [
    "quiz(\"Which of the following constraints expresses \"\n",
    "     \"that the page size and the buffer size \"\n",
    "     \"have to be equal? Try it out!\",\n",
    "     [\n",
    "         \"`<pagesize> is <bufsize>`\",\n",
    "         \"`str.to.int(<pagesize>) = str.to.int(<bufsize>)`\",\n",
    "         \"`<pagesize> = <bufsize>`\",\n",
    "         \"`atoi(<pagesize>) == atoi(<bufsize>)`\",\n",
    "     ], \"[4 ** 0.5, 9 ** 0.5]\")"
   ]
  },
  {
   "attachments": {},
   "cell_type": "markdown",
   "id": "f863aeb2",
   "metadata": {},
   "source": [
    "Indeed, ISLa constraints can also involve multiple elements. Expressing equality between two elements is easy, and uses a single equal sign. (There's no assignment in ISLa the `=` could be confused with.)"
   ]
  },
  {
   "cell_type": "code",
   "execution_count": null,
   "id": "8d94f485",
   "metadata": {},
   "outputs": [],
   "source": [
    "solver = ISLaSolver(CONFIG_GRAMMAR, \n",
    "                    '''\n",
    "                    <pagesize> = <bufsize>\n",
    "                    ''')\n",
    "print(solver.solve())"
   ]
  },
  {
   "cell_type": "markdown",
   "id": "ad7658fd",
   "metadata": {},
   "source": [
    "We can also use numerical constraints, stating that the buffer size should always be exactly one more than the page size:"
   ]
  },
  {
   "cell_type": "code",
   "execution_count": null,
   "id": "6f62782a",
   "metadata": {},
   "outputs": [],
   "source": [
    "solver = ISLaSolver(CONFIG_GRAMMAR, \n",
    "                    '''\n",
    "                    str.to.int(<pagesize>) > 1024 and\n",
    "                    str.to.int(<bufsize>) = str.to.int(<pagesize>) + 1\n",
    "                    ''')\n",
    "print(solver.solve())"
   ]
  },
  {
   "cell_type": "markdown",
   "id": "3fe9034b",
   "metadata": {},
   "source": [
    "All the above functions (like `str.to.int()`) actually stem from the _SMT-LIB_ library for _satisfiability modulo theories_ (SMT), a standard for expressing constraints for constraint solvers (like ISLa).\n",
    "The [list of all theories defined in SMT-LIB](https://smtlib.cs.uiowa.edu/theories.shtml) lists dozens of functions and predicates that can be used in ISLa constraints."
   ]
  },
  {
   "cell_type": "code",
   "execution_count": null,
   "id": "d2c0b3ad",
   "metadata": {},
   "outputs": [],
   "source": [
    "quiz(\"Which constraints are necessary to \"\n",
    "     \"ensure that all digits are between 1 and 3?\",\n",
    "     [\n",
    "         \"`str.to.int(<digit>) >= 1`\",\n",
    "         \"`str.to.int(<digit>) <= 3`\",\n",
    "         \"`str.to.int(<leaddigit>) >= 1`\",\n",
    "         \"`str.to.int(<leaddigit>) <= 3`\",\n",
    "     ], \"[1 ** 0, 4 ** 0.5, 16 ** 0.5]\")"
   ]
  },
  {
   "cell_type": "markdown",
   "id": "63565c2d",
   "metadata": {
    "tags": []
   },
   "source": [
    "### Excursion: Using SMT-LIB Syntax"
   ]
  },
  {
   "cell_type": "markdown",
   "id": "0f04e42c",
   "metadata": {},
   "source": [
    "Instead of the above \"infix\" syntax which is familiar to programmers, ISLa also supports full SMT-LIB syntax.\n",
    "Instead of writing $f(x_1, x_2, x_3, \\dots)$ for a function $f$ and its arguments $x_1 \\dots x_n$, SMT-LIB uses a \"prefix\" LISP-like syntax in which all functions and operators are written as $(f x_1 x_2 x_3 \\dots)$.\n",
    "The above predicate would thus be written as"
   ]
  },
  {
   "cell_type": "code",
   "execution_count": null,
   "id": "bbe79723",
   "metadata": {},
   "outputs": [],
   "source": [
    "solver = ISLaSolver(CONFIG_GRAMMAR, \n",
    "                '''\n",
    "                (and\n",
    "                  (> (str.to.int <pagesize>) 1024)\n",
    "                  (= (str.to.int <bufsize>)\n",
    "                     (+ (str.to.int <pagesize>) 1)))\n",
    "                ''')\n",
    "print(solver.solve())"
   ]
  },
  {
   "cell_type": "markdown",
   "id": "c28b7d73",
   "metadata": {},
   "source": [
    "Note that for boolean operators such as `and`, we still use the ISLa infix syntax; having ISLa handle these operators is more efficient than passing them on to the constraint solver."
   ]
  },
  {
   "cell_type": "markdown",
   "id": "27156f09",
   "metadata": {},
   "source": [
    "### End of Excursion"
   ]
  },
  {
   "cell_type": "markdown",
   "id": "b7ff1b09-eb1e-4b90-8738-3ff6e690b6fd",
   "metadata": {},
   "source": [
    "## ISLa on the Command Line"
   ]
  },
  {
   "cell_type": "markdown",
   "id": "de99f7e2-e48f-4351-aef0-6cd1182d331b",
   "metadata": {},
   "source": [
    "When you install `isla-solver`, you also get an `isla` command-line tool.\n",
    "This allows you to create inputs from the command line or shell scripts."
   ]
  },
  {
   "cell_type": "markdown",
   "id": "93af8e01-6a86-40e9-9140-5239a2463325",
   "metadata": {},
   "source": [
    "Let us first create a _grammar file_ suitable for `isla`. `isla` accepts grammars in Fuzzingbook format; they need to define a variable named `grammar`."
   ]
  },
  {
   "cell_type": "code",
   "execution_count": null,
   "id": "71fc003c-21ff-4d43-8ea3-1eb76a00c16c",
   "metadata": {},
   "outputs": [],
   "source": [
    "with open('grammar.py', 'w') as f:\n",
    "    f.write('grammar = ')\n",
    "    f.write(str(CONFIG_GRAMMAR))"
   ]
  },
  {
   "cell_type": "code",
   "execution_count": null,
   "id": "5781e7cf-8024-4358-9bf2-579c38e2ae80",
   "metadata": {},
   "outputs": [],
   "source": [
    "from bookutils import print_file"
   ]
  },
  {
   "cell_type": "code",
   "execution_count": null,
   "id": "83cee5b6-e441-47e7-9857-5ee524b2f307",
   "metadata": {},
   "outputs": [],
   "source": [
    "print_file('grammar.py')"
   ]
  },
  {
   "cell_type": "markdown",
   "id": "a4c2f941-2431-48de-aa42-2b552c5d6f77",
   "metadata": {},
   "source": [
    "With this, we can use `isla` as a grammar fuzzer, plain and simple\n",
    "By default, `isla solve` produces one single matching output:"
   ]
  },
  {
   "cell_type": "code",
   "execution_count": null,
   "id": "d4171b67-ca54-4e34-bbd2-9afc13bab108",
   "metadata": {},
   "outputs": [],
   "source": [
    "!isla solve grammar.py"
   ]
  },
  {
   "cell_type": "markdown",
   "id": "ac191770-40ab-48b1-a58c-0c43838a16e6",
   "metadata": {},
   "source": [
    "The true power of `isla`, however, comes to be as we (again) add _constraints_ to be solved - either in separate _constraint files_ or (easier) directly on the command line:"
   ]
  },
  {
   "cell_type": "code",
   "execution_count": null,
   "id": "3ec6eed7-67f1-409e-a361-8f996728b40d",
   "metadata": {},
   "outputs": [],
   "source": [
    "!isla solve grammar.py --constraint '<pagesize> = <bufsize>'"
   ]
  },
  {
   "cell_type": "code",
   "execution_count": null,
   "id": "6ed33140-5bf2-4f79-8c25-19c6042f59eb",
   "metadata": {},
   "outputs": [],
   "source": [
    "!isla solve grammar.py \\\n",
    "    --constraint '<pagesize> = <bufsize> and str.to.int(<pagesize>) > 10000'"
   ]
  },
  {
   "cell_type": "markdown",
   "id": "c86bff4b-1d7a-4cd2-b8bf-70d1bb7a682a",
   "metadata": {},
   "source": [
    "The `isla` executable provides several options and commands, and is a great alternative on the command line."
   ]
  },
  {
   "cell_type": "code",
   "execution_count": null,
   "id": "b5b8c2ba-cea7-4fcf-81ac-639260277963",
   "metadata": {},
   "outputs": [],
   "source": [
    "!isla --help"
   ]
  },
  {
   "cell_type": "markdown",
   "id": "fcf359da",
   "metadata": {
    "tags": []
   },
   "source": [
    "## Accessing Elements"
   ]
  },
  {
   "cell_type": "markdown",
   "id": "fef0bfb9",
   "metadata": {},
   "source": [
    "So far, we have accessed nonterminals simply by referencing their name, as in `<bufsize>` or `<pagesize>`.\n",
    "However, in some cases, this simple method is not sufficient.\n",
    "In our configuration grammar, for instance, we may want to access (or constrain) `<int>` elements.\n",
    "However, we do not want to constrain _all_ integers at once, but only those in a particular _context_ – say, those that occur as a part of a `<pagesize>` element, or only those that occur as part of a `<config>` element."
   ]
  },
  {
   "attachments": {},
   "cell_type": "markdown",
   "id": "c031c671",
   "metadata": {},
   "source": [
    "To this end, ISLa allows referencing _parts_ of a given element, using two special operators."
   ]
  },
  {
   "cell_type": "markdown",
   "id": "fb62d267",
   "metadata": {},
   "source": [
    "The expression `<a>.<b>` refers to the _immediate_ subpart `<b>` of some element `<a>`.\n",
    "That is, `<b>` has to appear in one of the expansion rules of `<a>`.\n",
    "For instance, `<pagesize>.<int>` refers to the `<int>` element of a page size.\n",
    "Here is an example using the dot operator:"
   ]
  },
  {
   "cell_type": "code",
   "execution_count": null,
   "id": "44671d25",
   "metadata": {},
   "outputs": [],
   "source": [
    "solver = ISLaSolver(CONFIG_GRAMMAR, \n",
    "                '''\n",
    "                <pagesize>.<int> = <bufsize>.<int>\n",
    "                ''')\n",
    "print(solver.solve())"
   ]
  },
  {
   "cell_type": "markdown",
   "id": "a1c08932",
   "metadata": {},
   "source": [
    "The expression `<a>..<b>`, however, refers to _any_ subpart `<b>` of some element `<a>`. That is, `<b>` can appear in the expansion of `<a>`, but also in the expansion of any subelement (and any subelement thereof).\n",
    "Here is an example using the double dot operator, enforcing _every_ digit in a `<config>` element to be `7`:"
   ]
  },
  {
   "cell_type": "code",
   "execution_count": null,
   "id": "942ed25a",
   "metadata": {},
   "outputs": [],
   "source": [
    "from ExpectError import ExpectError"
   ]
  },
  {
   "cell_type": "code",
   "execution_count": null,
   "id": "9d75a50b",
   "metadata": {},
   "outputs": [],
   "source": [
    "solver = ISLaSolver(CONFIG_GRAMMAR, \n",
    "            '''\n",
    "            <config>..<digit> = \"7\" and <config>..<leaddigit> = \"7\"\n",
    "            ''')\n",
    "print(solver.solve())"
   ]
  },
  {
   "attachments": {},
   "cell_type": "markdown",
   "id": "447bdd52",
   "metadata": {},
   "source": [
    "To reason about dots and double dots, it helps to visualize the string in question as a _derivation tree_ discussed in the [chapter on grammar-based fuzzing](GrammarFuzzer.ipynb).\n",
    "The derivation tree of the input \n",
    "```\n",
    "pagesize=12\n",
    "bufsize=34\n",
    "```\n",
    "for instance, looks like this:"
   ]
  },
  {
   "cell_type": "code",
   "execution_count": null,
   "id": "9132892f",
   "metadata": {},
   "outputs": [],
   "source": [
    "# ignore\n",
    "inp = 'pagesize=12\\nbufsize=34'\n",
    "parser = EarleyParser(CONFIG_GRAMMAR)\n",
    "tree = next(parser.parse(inp))\n",
    "display_tree(tree)"
   ]
  },
  {
   "cell_type": "markdown",
   "id": "09303e40",
   "metadata": {},
   "source": [
    "In this tree, the `.` syntax refers to _immediate_ children. `<bufsize>.<int>` is the one `<int>` node that is the immediate descendant of `<bufsize>` (but not any other `<int>` node).\n",
    "In contrast, `<config>..<digit>` refers to _all_ `<digit>` descendants of the `<config>` node."
   ]
  },
  {
   "cell_type": "markdown",
   "id": "d0499b87",
   "metadata": {},
   "source": [
    "If an element has multiple *immediate* children of the same type, one can use the special `<a>[$n$]` syntax to access the $n$-th child of type `<a>`. To access the first child, $n$ is equal to one, not zero, as in the [XPath abbreviated syntax](https://www.w3.org/TR/1999/REC-xpath-19991116/#path-abbrev). In our configuration grammar, there is no expansion including the same nonterminal more than once, so we do not need this feature.\n",
    "\n",
    "For a demonstration of indexed dots, consider the following grammar, which produces lines of three \"a\" or \"b\" characters:"
   ]
  },
  {
   "cell_type": "code",
   "execution_count": null,
   "id": "bc2d3bc1-6bc5-4263-98e1-34bd8ce74ef5",
   "metadata": {},
   "outputs": [],
   "source": [
    "LINES_OF_THREE_AS_OR_BS_GRAMMAR: Grammar = {\n",
    "    '<start>': ['<A>'],\n",
    "    '<A>': ['<B><B><B>', '<B><B><B>\\n<A>'],\n",
    "    '<B>': ['a', 'b']\n",
    "}"
   ]
  },
  {
   "cell_type": "code",
   "execution_count": null,
   "id": "f8854080-828a-4964-b10e-6446a233704d",
   "metadata": {},
   "outputs": [],
   "source": [
    "fuzzer = GrammarFuzzer(LINES_OF_THREE_AS_OR_BS_GRAMMAR)\n",
    "for i in range(5):\n",
    "    print(i)\n",
    "    print(fuzzer.fuzz())"
   ]
  },
  {
   "cell_type": "markdown",
   "id": "17c97d39-c2f4-4865-be3f-6da2f6a883ed",
   "metadata": {},
   "source": [
    "We can force, say, the second character in a line to always be a \"b:\""
   ]
  },
  {
   "cell_type": "code",
   "execution_count": null,
   "id": "deec24f2",
   "metadata": {},
   "outputs": [],
   "source": [
    "solver = ISLaSolver(LINES_OF_THREE_AS_OR_BS_GRAMMAR, \n",
    "            '''\n",
    "            <A>.<B>[2] = \"b\"\n",
    "            ''')\n",
    "\n",
    "for i in range(5):\n",
    "    print(i)\n",
    "    print(solver.solve())"
   ]
  },
  {
   "cell_type": "markdown",
   "id": "31ab7ada",
   "metadata": {},
   "source": [
    "## Quantifiers"
   ]
  },
  {
   "cell_type": "markdown",
   "id": "83d5b6c4",
   "metadata": {},
   "source": [
    "By default, all nonterminals in ISLa constraints are _universally_ quantified - that is, any constraint applying to, say, some `<int>` element applies to _all_ `<int>` elements in the resulting string.\n",
    "If you only want to constrain _one_ element, though, you have to (and can) specify this in ISLa, using an _existential quantifier_."
   ]
  },
  {
   "cell_type": "markdown",
   "id": "7d6886c3",
   "metadata": {},
   "source": [
    "To use an existential quantifier in ISLa, use the construct\n",
    "```\n",
    "exists TYPE VARIABLE in CONTEXT:\n",
    "    (CONSTRAINT)\n",
    "```\n",
    "where `VARIABLE` is some identifier, `TYPE` is its type (as a nonterminal), and `CONTEXT` is the context (again a nonterminal) in which the constraint should hold.\n",
    "`CONSTRAINT` is again a constraint expression, in which you now can make use of `VARIABLE` as the element whose existence you assume."
   ]
  },
  {
   "cell_type": "markdown",
   "id": "baeb1c1e",
   "metadata": {},
   "source": [
    "Let us illustrate existential quantification again using a simple example.\n",
    "We want to make sure that at least one integer in our generated string has a value of more than 1000.\n",
    "So we write"
   ]
  },
  {
   "cell_type": "code",
   "execution_count": null,
   "id": "63263e05",
   "metadata": {},
   "outputs": [],
   "source": [
    "solver = ISLaSolver(CONFIG_GRAMMAR, \n",
    "            '''\n",
    "            exists <int> i in <start>:\n",
    "                str.to.int(i) > 1000\n",
    "            ''')\n",
    "\n",
    "for _ in range(10):\n",
    "    print(solver.solve())"
   ]
  },
  {
   "cell_type": "markdown",
   "id": "79f8e04e",
   "metadata": {},
   "source": [
    "We note that all generated inputs satisfy the constraint of having at least one integer that satisfies the constraint."
   ]
  },
  {
   "cell_type": "markdown",
   "id": "396f6948-dfc9-426f-901d-b518e1196242",
   "metadata": {},
   "source": [
    "Specifying a variable name is optional; if you omit it, you can use the quantified nonterminal instead.\n",
    "The above constraint can thus also be expressed in a more compact fashion:"
   ]
  },
  {
   "cell_type": "code",
   "execution_count": null,
   "id": "65046282-1b38-4310-b79e-fc05907d39c1",
   "metadata": {},
   "outputs": [],
   "source": [
    "solver = ISLaSolver(CONFIG_GRAMMAR, \n",
    "            '''\n",
    "            exists <int> in <start>:\n",
    "                str.to.int(<int>) > 1000\n",
    "            ''')\n",
    "\n",
    "print(solver.solve())"
   ]
  },
  {
   "cell_type": "markdown",
   "id": "fa61bece",
   "metadata": {},
   "source": [
    "Besides existential quantification, there also is _universal_ quantification, using the `forall` keyword instead of `exists`.\n",
    "If we want _all_ elements in some context to satisfy a constraint, this comes in handy."
   ]
  },
  {
   "cell_type": "code",
   "execution_count": null,
   "id": "5c83ead2",
   "metadata": {},
   "outputs": [],
   "source": [
    "solver = ISLaSolver(CONFIG_GRAMMAR, \n",
    "            '''\n",
    "            forall <int> in <start>:\n",
    "                str.to.int(<int>) > 1000\n",
    "            ''')\n",
    "\n",
    "for _ in range(10):\n",
    "    print(solver.solve())"
   ]
  },
  {
   "cell_type": "markdown",
   "id": "5680dc33",
   "metadata": {},
   "source": [
    "We see that all `<int>` elements satisfy the constraint."
   ]
  },
  {
   "attachments": {},
   "cell_type": "markdown",
   "id": "8d85d1d4",
   "metadata": {},
   "source": [
    "By default, all nonterminals that are re-used directly in constraints are universally quantified within the `<start>` symbol, so the above can actually be simplified to"
   ]
  },
  {
   "cell_type": "code",
   "execution_count": null,
   "id": "779634a6",
   "metadata": {},
   "outputs": [],
   "source": [
    "solver = ISLaSolver(CONFIG_GRAMMAR, \n",
    "            '''\n",
    "            str.to.int(<int>) > 1000\n",
    "            ''')\n",
    "\n",
    "for _ in range(10):\n",
    "    print(solver.solve())"
   ]
  },
  {
   "cell_type": "markdown",
   "id": "907bc023",
   "metadata": {},
   "source": [
    "... and you realize that in all our initial constraints, we always had an implicit universal quantification."
   ]
  },
  {
   "cell_type": "markdown",
   "id": "a37cf34a",
   "metadata": {},
   "source": [
    "## Picking Expansions"
   ]
  },
  {
   "cell_type": "markdown",
   "id": "fb094f75",
   "metadata": {},
   "source": [
    "Sometimes, we'd like a quantifier to apply only for a specific expansion alternative of a nonterminal.\n",
    "The form\n",
    "```\n",
    "forall TYPE VARIABLE=PATTERN in CONTEXT:\n",
    "    (CONSTRAINT)\n",
    "```\n",
    "means that the CONSTRAINT only applies to a VARIABLE that actually matches the expansion given in PATTERN.\n",
    "(Again, we can replace `forall` with `exists`, and make this an existential quantification rather than a universal quantification.)"
   ]
  },
  {
   "cell_type": "markdown",
   "id": "ac94fbc7-3c94-4f91-8f95-c78a58f26c6f",
   "metadata": {},
   "source": [
    "Here's an example of using `forall`:"
   ]
  },
  {
   "cell_type": "code",
   "execution_count": null,
   "id": "6674fafe",
   "metadata": {},
   "outputs": [],
   "source": [
    "solver = ISLaSolver(CONFIG_GRAMMAR, \n",
    "            '''\n",
    "            forall <int>=\"<leaddigit><digits>\" in <start>:\n",
    "                (<leaddigit> = \"7\")\n",
    "            ''')"
   ]
  },
  {
   "cell_type": "markdown",
   "id": "46da2aae",
   "metadata": {},
   "source": [
    "This ensures that when `<int>` is expanded to a lead digit followed by more digits, the lead digit becomes `7`.\n",
    "The effect is that all `<int>` values now start with a `7` digit:"
   ]
  },
  {
   "cell_type": "code",
   "execution_count": null,
   "id": "4bd0d0b0",
   "metadata": {},
   "outputs": [],
   "source": [
    "str(solver.solve())"
   ]
  },
  {
   "cell_type": "markdown",
   "id": "8934e88e",
   "metadata": {},
   "source": [
    "Likewise, we can constrain `<int>` as a whole, and thus ensure that all numbers are greater than 100:"
   ]
  },
  {
   "cell_type": "code",
   "execution_count": null,
   "id": "5725feab-1f54-476b-bf26-98a35b1fb406",
   "metadata": {},
   "outputs": [],
   "source": [
    "solver = ISLaSolver(CONFIG_GRAMMAR, \n",
    "            '''\n",
    "            forall <int> in <start>:\n",
    "                (str.to.int(<int>) > 100)\n",
    "            ''')\n",
    "\n",
    "str(solver.solve())"
   ]
  },
  {
   "cell_type": "markdown",
   "id": "597e2b5c-c43a-4230-ad64-0aa333930d63",
   "metadata": {},
   "source": [
    "By default, all variables are universally quantified in `<start>`, so the above can also be expressed as"
   ]
  },
  {
   "cell_type": "code",
   "execution_count": null,
   "id": "9fff23c3-822c-402a-b1f7-0f23caf3b5c6",
   "metadata": {},
   "outputs": [],
   "source": [
    "solver = ISLaSolver(CONFIG_GRAMMAR, \n",
    "            '''\n",
    "            str.to.int(<int>) > 100\n",
    "            ''')\n",
    "\n",
    "str(solver.solve())"
   ]
  },
  {
   "cell_type": "markdown",
   "id": "6217547d",
   "metadata": {},
   "source": [
    "## Matching Expansion Elements"
   ]
  },
  {
   "attachments": {},
   "cell_type": "markdown",
   "id": "3068a08a",
   "metadata": {},
   "source": [
    "In a quantification pattern, we can also _name_ individual nonterminal elements and use them in our constraints.\n",
    "This is done by replacing the nonterminal `<ID>` with the special form `{<ID> VARIABLE}` (in curly braces) which then makes the variable `VARIABLE` a placeholder for the value matched by `ID`; `VARIABLE` can then be used in constraints."
   ]
  },
  {
   "cell_type": "markdown",
   "id": "59d96553",
   "metadata": {},
   "source": [
    "Here is an example. In the expansion `<leaddigit><int>`, we want to ensure that the `<leaddigit>` is always `9`.\n",
    "Using the special brace form, we make `lead` a variable holding the value of `<leaddigit>`, and can then use it in a constraint:"
   ]
  },
  {
   "cell_type": "code",
   "execution_count": null,
   "id": "5c6efe08",
   "metadata": {},
   "outputs": [],
   "source": [
    "solver = ISLaSolver(CONFIG_GRAMMAR, \n",
    "            '''\n",
    "            forall <int> i=\"{<leaddigit> lead}<digits>\" in <start>:\n",
    "                (lead = \"9\")\n",
    "            ''')"
   ]
  },
  {
   "cell_type": "markdown",
   "id": "146beb34",
   "metadata": {},
   "source": [
    "This (again) ensures that all lead digits should be `9`:"
   ]
  },
  {
   "cell_type": "code",
   "execution_count": null,
   "id": "704eb3c3",
   "metadata": {},
   "outputs": [],
   "source": [
    "for _ in range(10):\n",
    "    print(solver.solve())"
   ]
  },
  {
   "cell_type": "markdown",
   "id": "366bac30-feb1-4bac-8991-077e94c17067",
   "metadata": {},
   "source": [
    "Could we express the above in a simpler fashion? Yes! For one, we can refer to `<leaddigit>` directly rather than introducing variables like `i` and `lead`:"
   ]
  },
  {
   "cell_type": "code",
   "execution_count": null,
   "id": "b58e065d-ef7d-4320-971c-6feec74fc715",
   "metadata": {},
   "outputs": [],
   "source": [
    "solver = ISLaSolver(CONFIG_GRAMMAR, \n",
    "            '''\n",
    "            forall <int>=\"<leaddigit><digits>\" in <start>:\n",
    "                (<leaddigit> = \"9\")\n",
    "            ''')\n",
    "print(solver.solve())"
   ]
  },
  {
   "cell_type": "markdown",
   "id": "3ef24b8f",
   "metadata": {},
   "source": [
    "Furthermore, using implicit universal quantification and the dot notation introduced earlier, we could write, for instance"
   ]
  },
  {
   "cell_type": "code",
   "execution_count": null,
   "id": "73834f05",
   "metadata": {},
   "outputs": [],
   "source": [
    "solver = ISLaSolver(CONFIG_GRAMMAR, \n",
    "            '''\n",
    "            <int>.<leaddigit> = \"9\"\n",
    "            ''')\n",
    "print(solver.solve())"
   ]
  },
  {
   "cell_type": "markdown",
   "id": "f87e3b47-2889-4171-a7fc-50b246e70463",
   "metadata": {},
   "source": [
    "or just"
   ]
  },
  {
   "cell_type": "code",
   "execution_count": null,
   "id": "175be19e-2112-4b5f-9bba-c658db6b4c82",
   "metadata": {},
   "outputs": [],
   "source": [
    "solver = ISLaSolver(CONFIG_GRAMMAR, \n",
    "            '''\n",
    "            <leaddigit> = \"9\"\n",
    "            ''')\n",
    "print(solver.solve())"
   ]
  },
  {
   "cell_type": "markdown",
   "id": "e2256f3a",
   "metadata": {},
   "source": [
    "and obtain the same result (not necessarily the exact same values, though, due to randomness):"
   ]
  },
  {
   "cell_type": "markdown",
   "id": "7c09a756",
   "metadata": {},
   "source": [
    "But while universal quantification and dot notation are sufficient for many cases, the pattern matching notation is more general and more flexible – even if it may be harder to read."
   ]
  },
  {
   "cell_type": "markdown",
   "id": "5957e659",
   "metadata": {},
   "source": [
    "## Checking Strings"
   ]
  },
  {
   "cell_type": "markdown",
   "id": "9fab7e00-3053-4f91-b782-d99c91e2f4a7",
   "metadata": {},
   "source": [
    "Using an `ISLaSolver`, we can also check if an string satisfies the constraints.\n",
    "This can be applied to inputs, but also to _outputs_; ISLa constraints can thus server as _oracles_ – that is, _predicates_ that check a test result."
   ]
  },
  {
   "cell_type": "markdown",
   "id": "c264847b-998f-47cf-b5ac-ad37ba60fbdb",
   "metadata": {},
   "source": [
    "Let us check if in a given string, `<pagesize>` and `<bufsize>` are the same."
   ]
  },
  {
   "cell_type": "code",
   "execution_count": null,
   "id": "60085464",
   "metadata": {},
   "outputs": [],
   "source": [
    "constraint = '<pagesize> = <bufsize>'\n",
    "solver = ISLaSolver(CONFIG_GRAMMAR, constraint)"
   ]
  },
  {
   "cell_type": "markdown",
   "id": "ea689310",
   "metadata": {},
   "source": [
    "To check the tree, we can pass it into the `evaluate()` method of the `solver` – and find that the given input does _not_ satisfy our constraint."
   ]
  },
  {
   "cell_type": "code",
   "execution_count": null,
   "id": "aae16603",
   "metadata": {},
   "outputs": [],
   "source": [
    "solver.check('pagesize=12\\nbufsize=34')"
   ]
  },
  {
   "cell_type": "markdown",
   "id": "bdae179d",
   "metadata": {},
   "source": [
    "If we repeat the above, however, with an input that satisfies the constraint, we obtain a `True` result."
   ]
  },
  {
   "cell_type": "code",
   "execution_count": null,
   "id": "3b4ab9e5",
   "metadata": {},
   "outputs": [],
   "source": [
    "solver.check('pagesize=27\\nbufsize=27')"
   ]
  },
  {
   "cell_type": "markdown",
   "id": "c146e9ff-b58c-4743-9d41-62a6d6eeecd7",
   "metadata": {},
   "source": [
    "Checking constraints is much more efficient than solving them, as ISLa does not have to search for possible solutions."
   ]
  },
  {
   "cell_type": "markdown",
   "id": "0f8b28ce",
   "metadata": {},
   "source": [
    "## Case Studies\n",
    "\n",
    "Let us further illustrate ISLa using a few case studies."
   ]
  },
  {
   "cell_type": "markdown",
   "id": "7bf5464f",
   "metadata": {},
   "source": [
    "### Matching Identifiers in XML"
   ]
  },
  {
   "cell_type": "markdown",
   "id": "20bd8738",
   "metadata": {},
   "source": [
    "The Extensible Markup Language (XML) is a typical example of an input language that cannot be fully expressed using a context-free grammar.\n",
    "The problem is not so much expressing the _syntax_ of XML – the basics are fairly easy:"
   ]
  },
  {
   "cell_type": "code",
   "execution_count": null,
   "id": "3aa33f37",
   "metadata": {},
   "outputs": [],
   "source": [
    "XML_GRAMMAR: Grammar = {\n",
    "    \"<start>\": [\"<xml-tree>\"],\n",
    "    \"<xml-tree>\": [\"<open-tag><xml-content><close-tag>\"],\n",
    "    \"<open-tag>\": [\"<<id>>\"],\n",
    "    \"<close-tag>\": [\"</<id>>\"],\n",
    "    \"<xml-content>\": [\"Text\", \"<xml-tree>\"],\n",
    "    \"<id>\": [\"<letter>\", \"<id><letter>\"],\n",
    "    \"<letter>\": crange('a', 'z')\n",
    "}"
   ]
  },
  {
   "cell_type": "code",
   "execution_count": null,
   "id": "874854b1",
   "metadata": {},
   "outputs": [],
   "source": [
    "assert is_valid_grammar(XML_GRAMMAR)"
   ]
  },
  {
   "cell_type": "code",
   "execution_count": null,
   "id": "e017975d",
   "metadata": {},
   "outputs": [],
   "source": [
    "# ignore\n",
    "syntax_diagram(XML_GRAMMAR)"
   ]
  },
  {
   "cell_type": "markdown",
   "id": "7edc51ce",
   "metadata": {},
   "source": [
    "The problem becomes evident when we produce inputs from the grammar: The `<id>` elements in `<open-tag>` and `<close-tag>` do not match."
   ]
  },
  {
   "cell_type": "code",
   "execution_count": null,
   "id": "cbf25c83",
   "metadata": {},
   "outputs": [],
   "source": [
    "fuzzer = GrammarFuzzer(XML_GRAMMAR)\n",
    "fuzzer.fuzz()"
   ]
  },
  {
   "cell_type": "markdown",
   "id": "a7afbb85",
   "metadata": {},
   "source": [
    "If we want the tag IDs to match, we need to come up with a _finite_ set of tags (as in, say, HTML); then we can extend the grammar with one rule for each tag - `<body>...</body>`, `<p>...</p>`, `<strong>...</strong>`, and so on.\n",
    "For an _infinite_ set of tags, though, as in our grammar, expressing that the two tag IDs must match is not possible in a context-free grammar."
   ]
  },
  {
   "cell_type": "markdown",
   "id": "f272db66",
   "metadata": {},
   "source": [
    "With ISLa, however, constraining the grammar is easy.\n",
    "All we need is the rule that constrains the `<xml-tree>`:"
   ]
  },
  {
   "cell_type": "code",
   "execution_count": null,
   "id": "81218746",
   "metadata": {},
   "outputs": [],
   "source": [
    "solver = ISLaSolver(XML_GRAMMAR, \n",
    "            '''\n",
    "            <xml-tree>.<open-tag>.<id> = <xml-tree>.<close-tag>.<id>\n",
    "            ''', max_number_smt_instantiations=1)\n",
    "\n",
    "for _ in range(3):\n",
    "    print(solver.solve())"
   ]
  },
  {
   "cell_type": "markdown",
   "id": "9ab2abc5-197a-4281-be7d-8f69fa98ad5b",
   "metadata": {},
   "source": [
    "and we see that the `<id>` tags now indeed match each other."
   ]
  },
  {
   "cell_type": "markdown",
   "id": "7e265eed-bf23-40b2-ab1f-c43bf81a9499",
   "metadata": {},
   "source": [
    "### Excursion: Solver Configuration Parameters"
   ]
  },
  {
   "cell_type": "markdown",
   "id": "51cb2673-4df8-497d-a6dc-6f0e1fa487e1",
   "metadata": {},
   "source": [
    "The configuration parameter `max_number_smt_instantiations` we passed to the `ISLaSolver` object above limits the number of calls to ISLa's underlying SMT solver. Generally, higher numbers lead to more inputs generated per time. Many of those will look structurally similar, though. If we aim for structurally diverse inputs and do not care about, e.g., the names of tags, it can make sense to choose a lower value for this parameter. This is what happens with `max_number_smt_instantiations=10`, which is the current default:"
   ]
  },
  {
   "cell_type": "code",
   "execution_count": null,
   "id": "716cfdfb-bcb2-4a7a-b3d9-9f6d983a5259",
   "metadata": {},
   "outputs": [],
   "source": [
    "solver = ISLaSolver(XML_GRAMMAR, \n",
    "            '''\n",
    "            <xml-tree>.<open-tag>.<id> = <xml-tree>.<close-tag>.<id>\n",
    "            ''', max_number_smt_instantiations=10)\n",
    "\n",
    "for _ in range(3):\n",
    "    print(solver.solve())"
   ]
  },
  {
   "cell_type": "markdown",
   "id": "ea992ebf-5d80-4bca-9ee2-c8377fd755d7",
   "metadata": {},
   "source": [
    "The parameter `max_number_free_instantiations` serves a similar purpose: ISla randomly instantiates nonterminal symbols whose values are not restricted by a constraint. It chooses&mdash;surprise!&mdash;at most `max_number_free_instantiations` such random instantiations.\n",
    "\n",
    "Other configuration parameters of interest are `structural_predicates` and `semantic_predicates`, which let you extend the ISLa language by passing custom structural and semantic predicates to the solver. You can use all the predicates in these sets inside the ISLa constraint to solve. Per default, the semantic predicate `count(in_tree, NEEDLE, NUM)` and the following structural predicates are available:\n",
    "\n",
    "- `after(node_1, node_2)`\n",
    "- `before(node_1, node_2)`\n",
    "- `consecutive(node_1, node_2)`\n",
    "- `count(in_tree, NEEDLE, NUM)`\n",
    "- `different_position(node_1, node_2)`\n",
    "- `direct_child(node_1, node_2)`\n",
    "- `inside(node_1, node_2)`\n",
    "- `level(PRED, NONTERMINAL, node_1, node_2)`\n",
    "- `nth(N, node_1, node_2)`\n",
    "- `same_position(node_1, node_2)`"
   ]
  },
  {
   "cell_type": "markdown",
   "id": "1ec88c69-5b74-4205-bd67-8f28efdecc7e",
   "metadata": {},
   "source": [
    "### End of Excursion"
   ]
  },
  {
   "cell_type": "markdown",
   "id": "353c90ea",
   "metadata": {},
   "source": [
    "In contrast to the \"input generator\" solution in the [chapter on generators](GeneratorGrammarFuzzer), our constraint-based solution is purely declarative - and can also be used to parse and check inputs.\n",
    "Plus, of course, we can easily add more constraints:"
   ]
  },
  {
   "cell_type": "code",
   "execution_count": null,
   "id": "abd57a96",
   "metadata": {},
   "outputs": [],
   "source": [
    "solver = ISLaSolver(XML_GRAMMAR, \n",
    "            '''\n",
    "            <xml-tree>.<open-tag>.<id> = <xml-tree>.<close-tag>.<id>\n",
    "            and\n",
    "            str.len(<id>) > 10\n",
    "            ''', max_number_smt_instantiations=1)\n",
    "\n",
    "for _ in range(3):\n",
    "    print(solver.solve())"
   ]
  },
  {
   "cell_type": "markdown",
   "id": "acc5c358",
   "metadata": {},
   "source": [
    "### Definitions and Usages in Programming Languages\n",
    "\n",
    "When testing compilers with generated program code, one often encounters the problem that before _using_ an identifier, one has to _declare_ it first - specifying its type, some initial value, and more."
   ]
  },
  {
   "cell_type": "markdown",
   "id": "69bb6e09",
   "metadata": {},
   "source": [
    "This problem is easily illustrated in the following grammar, which produces _sequences of assignments_.\n",
    "Variable names consist of a single lowercase letter; values can only be digits; assignments are separated by semicolons."
   ]
  },
  {
   "cell_type": "code",
   "execution_count": null,
   "id": "051c04c4",
   "metadata": {},
   "outputs": [],
   "source": [
    "LANG_GRAMMAR: Grammar = {\n",
    "    \"<start>\":\n",
    "        [\"<stmt>\"],\n",
    "    \"<stmt>\":\n",
    "        [\"<assgn>\", \"<assgn>; <stmt>\"],\n",
    "    \"<assgn>\":\n",
    "        [\"<lhs> := <rhs>\"],\n",
    "    \"<lhs>\":\n",
    "        [\"<var>\"],\n",
    "    \"<rhs>\":\n",
    "        [\"<var>\", \"<digit>\"],\n",
    "    \"<var>\": list(string.ascii_lowercase),\n",
    "    \"<digit>\": list(string.digits)\n",
    "}"
   ]
  },
  {
   "cell_type": "code",
   "execution_count": null,
   "id": "0e7267b1",
   "metadata": {},
   "outputs": [],
   "source": [
    "assert is_valid_grammar(LANG_GRAMMAR)"
   ]
  },
  {
   "cell_type": "code",
   "execution_count": null,
   "id": "c8e26d19",
   "metadata": {},
   "outputs": [],
   "source": [
    "syntax_diagram(LANG_GRAMMAR)"
   ]
  },
  {
   "cell_type": "markdown",
   "id": "5126ae1e",
   "metadata": {},
   "source": [
    "Here are some assignment sequences produced by the grammar:"
   ]
  },
  {
   "cell_type": "code",
   "execution_count": null,
   "id": "dc16685f",
   "metadata": {},
   "outputs": [],
   "source": [
    "fuzzer = GrammarFuzzer(LANG_GRAMMAR)"
   ]
  },
  {
   "cell_type": "code",
   "execution_count": null,
   "id": "782b8aa5",
   "metadata": {},
   "outputs": [],
   "source": [
    "for _ in range(10):\n",
    "    print(fuzzer.fuzz())"
   ]
  },
  {
   "cell_type": "markdown",
   "id": "d60c24d4",
   "metadata": {},
   "source": [
    "We see that the assignment _syntax_ is similar to what we have in common programming languages.\n",
    "The _semantics_, however, are, well, questionable, as we commonly access variables whose values have not been previously defined.\n",
    "Again, this is a _semantic_ property that cannot be expressed in a context-free grammar alone."
   ]
  },
  {
   "attachments": {},
   "cell_type": "markdown",
   "id": "244515ff",
   "metadata": {},
   "source": [
    "What we need here is a constraint specifying that on the right-hand side of an assignment, we can only have variable names that occur on the left-hand side.\n",
    "In ISLa, we achieve this through the following constraint:"
   ]
  },
  {
   "cell_type": "code",
   "execution_count": null,
   "id": "7ff03421",
   "metadata": {},
   "outputs": [],
   "source": [
    "solver = ISLaSolver(LANG_GRAMMAR, \n",
    "            '''\n",
    "            forall <rhs> in <assgn>:\n",
    "                exists <assgn> declaration:\n",
    "                    <rhs>.<var> = declaration.<lhs>.<var>\n",
    "            ''',\n",
    "            max_number_smt_instantiations=1,\n",
    "            max_number_free_instantiations=1)"
   ]
  },
  {
   "cell_type": "code",
   "execution_count": null,
   "id": "34556bfc",
   "metadata": {},
   "outputs": [],
   "source": [
    "for _ in range(10):\n",
    "    print(solver.solve())"
   ]
  },
  {
   "cell_type": "markdown",
   "id": "b92597ba",
   "metadata": {},
   "source": [
    "This is much better already, but not perfect yet - we might still have assignments like `a := a` or `a := b; b := 5`.\n",
    "That is because our constraints do not yet take care of _ordering_ – in a `<rhs>` element, we can only use variables that are defined earlier."
   ]
  },
  {
   "cell_type": "markdown",
   "id": "f2cd187c",
   "metadata": {},
   "source": [
    "For this purpose, ISLa provides a `before()` predicate: `before(A, B)` expresses that the element `A` must occur before the element `B`.\n",
    "With `before()`, we can rewrite our constraint as"
   ]
  },
  {
   "cell_type": "code",
   "execution_count": null,
   "id": "71621ad9",
   "metadata": {},
   "outputs": [],
   "source": [
    "solver = ISLaSolver(LANG_GRAMMAR, \n",
    "            '''\n",
    "            forall <rhs> in <assgn>:\n",
    "                exists <assgn> declaration:\n",
    "                    (before(declaration, <assgn>) and\n",
    "                     <rhs>.<var> = declaration.<lhs>.<var>)\n",
    "            ''',\n",
    "            max_number_free_instantiations=1,\n",
    "            max_number_smt_instantiations=1)"
   ]
  },
  {
   "cell_type": "markdown",
   "id": "b0b7bcfb",
   "metadata": {},
   "source": [
    "... and thus ensure that on the right-hand-side of assignments, we only use identifiers defined earlier."
   ]
  },
  {
   "cell_type": "code",
   "execution_count": null,
   "id": "b15fd9a5-1320-4f17-b139-0bfc716c8a7f",
   "metadata": {},
   "outputs": [],
   "source": [
    "for _ in range(10):\n",
    "    print(solver.solve())"
   ]
  },
  {
   "cell_type": "markdown",
   "id": "e8022bb4",
   "metadata": {},
   "source": [
    "In case you find that the assignment sequences are too short, you can use the ISLa `count()` predicate.\n",
    "`count(VARIABLE, NONTERMINAL, N)` ensures that the number of NONTERMINALs in VARIABLE is exactly N.\n",
    "To have statements with exactly 5 assignments, write"
   ]
  },
  {
   "cell_type": "code",
   "execution_count": null,
   "id": "67d2232b",
   "metadata": {},
   "outputs": [],
   "source": [
    "solver = ISLaSolver(LANG_GRAMMAR, \n",
    "            '''\n",
    "            forall <rhs> in <assgn>:\n",
    "                exists <assgn> declaration:\n",
    "                    (before(declaration, <assgn>) and\n",
    "                     <rhs>.<var> = declaration.<lhs>.<var>)\n",
    "            and\n",
    "            count(start, \"<assgn>\", \"5\")\n",
    "            ''', \n",
    "            max_number_smt_instantiations=1,\n",
    "            max_number_free_instantiations=1)"
   ]
  },
  {
   "cell_type": "code",
   "execution_count": null,
   "id": "64db3b6b-1a03-478e-b498-bf7891b7bc76",
   "metadata": {},
   "outputs": [],
   "source": [
    "for _ in range(10):\n",
    "    print(solver.solve())"
   ]
  },
  {
   "cell_type": "markdown",
   "id": "8935932c",
   "metadata": {},
   "source": [
    "## Synopsis"
   ]
  },
  {
   "cell_type": "markdown",
   "id": "29e72aef",
   "metadata": {},
   "source": [
    "This chapter introduces the [ISLa](https://rindphi.github.io/isla/) framework, consisting of \n",
    "* the _ISLa specification language_, allowing to add _constraints_ to a grammar\n",
    "* the _ISLa solver_, solving these constraints to produce semantically (and syntactically) valid inputs\n",
    "* the _ISLa checker_, checking given inputs for whether they satisfy these constraints."
   ]
  },
  {
   "cell_type": "markdown",
   "id": "04a22bca",
   "metadata": {},
   "source": [
    "A typical usage of the ISLa solver is as follows.\n",
    "First, install ISLa, using \n",
    "```shell\n",
    "$ pip install isla-solver\n",
    "```\n",
    "Then, you can import the solver as"
   ]
  },
  {
   "cell_type": "code",
   "execution_count": null,
   "id": "5c746541",
   "metadata": {
    "tags": []
   },
   "outputs": [],
   "source": [
    "from isla.solver import ISLaSolver  # type: ignore"
   ]
  },
  {
   "cell_type": "markdown",
   "id": "e0565a30",
   "metadata": {},
   "source": [
    "The ISLa solver needs two things. First, a _grammar_ - say, US phone numbers."
   ]
  },
  {
   "cell_type": "code",
   "execution_count": null,
   "id": "16fb0c80",
   "metadata": {},
   "outputs": [],
   "source": [
    "from Grammars import US_PHONE_GRAMMAR"
   ]
  },
  {
   "cell_type": "markdown",
   "id": "d40aa06b",
   "metadata": {},
   "source": [
    "Second, you need _constraints_ – a string expressing a condition over one or more grammar elements.\n",
    "Common functions include\n",
    "* `str.len()`, returning the length of a string\n",
    "* `str.to.int()`, converting a string to an integer"
   ]
  },
  {
   "cell_type": "markdown",
   "id": "b1f52612",
   "metadata": {},
   "source": [
    "Here, we instantiate the ISLa solver with a constraint stating that the area code should be above 900:"
   ]
  },
  {
   "cell_type": "code",
   "execution_count": null,
   "id": "f9f6670a",
   "metadata": {},
   "outputs": [],
   "source": [
    "solver = ISLaSolver(US_PHONE_GRAMMAR, \n",
    "            \"\"\"\n",
    "            str.to.int(<area>) > 900\n",
    "            \"\"\")"
   ]
  },
  {
   "cell_type": "markdown",
   "id": "ce7a752d",
   "metadata": {},
   "source": [
    "With that, invoking `solver.solve()` returns a _solution_ for the constraints."
   ]
  },
  {
   "cell_type": "code",
   "execution_count": null,
   "id": "9655f046-9686-4b36-abb6-7a285c8f9919",
   "metadata": {},
   "outputs": [],
   "source": [
    "str(solver.solve())"
   ]
  },
  {
   "cell_type": "markdown",
   "id": "604e9cd1-cc8d-4988-952a-adcdfbe9ea81",
   "metadata": {},
   "source": [
    "`solve()` returns a derivation tree, which typically is converted into a string using `str()` as above. The `print()` function does this implicitly."
   ]
  },
  {
   "cell_type": "markdown",
   "id": "a9f69c33-b274-41e9-b8e1-ecbd7267119c",
   "metadata": {},
   "source": [
    "Subsequent calls of `solve()` return more solutions:"
   ]
  },
  {
   "cell_type": "code",
   "execution_count": null,
   "id": "22923e91",
   "metadata": {},
   "outputs": [],
   "source": [
    "for _ in range(10):\n",
    "    print(solver.solve())"
   ]
  },
  {
   "cell_type": "markdown",
   "id": "22ddee2b",
   "metadata": {},
   "source": [
    "We see that the solver produces a number of inputs that all satisfy the constraint - the area code is always more than 900."
   ]
  },
  {
   "cell_type": "markdown",
   "id": "d1b40c79",
   "metadata": {},
   "source": [
    "The `ISLaSolver()` constructor provides several additional parameters to configure the solver, as documented below.\n",
    "Additional `ISLaSolver` methods allow checking inputs against constraints, and provide additional functionality."
   ]
  },
  {
   "cell_type": "code",
   "execution_count": null,
   "id": "54a3eeec-ff7e-48ad-b3b0-5beaafb79fb7",
   "metadata": {},
   "outputs": [],
   "source": [
    "# ignore\n",
    "from ClassDiagram import display_class_hierarchy"
   ]
  },
  {
   "cell_type": "code",
   "execution_count": null,
   "id": "f90bca25-2466-448d-a12e-a8afd45d7141",
   "metadata": {},
   "outputs": [],
   "source": [
    "# ignore\n",
    "display_class_hierarchy([ISLaSolver],\n",
    "                         public_methods=[\n",
    "                            ISLaSolver.__init__,\n",
    "                            ISLaSolver.solve,\n",
    "                            ISLaSolver.check,\n",
    "                            ISLaSolver.parse,\n",
    "                        ])"
   ]
  },
  {
   "cell_type": "markdown",
   "id": "b3fd6d14-10ff-4ac5-8c08-126808a9c8bb",
   "metadata": {},
   "source": [
    "The ISLa functionality is also available on the command line:"
   ]
  },
  {
   "cell_type": "code",
   "execution_count": null,
   "id": "0d06486f-8d9f-4162-9da7-f86bd25b975a",
   "metadata": {},
   "outputs": [],
   "source": [
    "!isla --help"
   ]
  },
  {
   "cell_type": "markdown",
   "id": "20044f68",
   "metadata": {
    "button": false,
    "new_sheet": true,
    "run_control": {
     "read_only": false
    }
   },
   "source": [
    "## Lessons Learned\n",
    "\n",
    "* Using ISLa, we can add and solve _constraints_ to grammars, allowing to express _semantic properties_ of our test inputs\n",
    "* Declaring constraints (and have a solver solve them) is much more versatile than adding generator code, and language-independent, too\n",
    "* Using ISLa is fun :-)"
   ]
  },
  {
   "cell_type": "markdown",
   "id": "d50b8cfc",
   "metadata": {
    "button": false,
    "new_sheet": false,
    "run_control": {
     "read_only": false
    }
   },
   "source": [
    "## Next Steps\n",
    "\n",
    "In the next chapters, we will continue to focus on semantics.\n",
    "Among others, we will learn how to\n",
    "\n",
    "* [mine grammars from existing inputs](GrammarMiner.ipynb)\n",
    "* use [symbolic fuzzing](SymbolicFuzzer.ipynb) - that is, using constraint solvers to reach particular locations\n",
    "* use [concolic fuzzing](ConcolicFuzzer.ipynb) - that is, combining symbolic fuzzing with concrete runs for higher efficiency"
   ]
  },
  {
   "cell_type": "markdown",
   "id": "cddb0711",
   "metadata": {},
   "source": [
    "## Background\n",
    "\n",
    "* ISLa is presented in the paper [\"Input Invariants\"](https://publications.cispa.saarland/3596/) at ESEC/FSE 2022.\n",
    "* The [ISLa project](https://github.com/rindPHI/isla) contains the full source code and a complete reference."
   ]
  },
  {
   "cell_type": "markdown",
   "id": "c0f3583e",
   "metadata": {
    "button": false,
    "new_sheet": true,
    "run_control": {
     "read_only": false
    }
   },
   "source": [
    "## Exercises"
   ]
  },
  {
   "cell_type": "markdown",
   "id": "df09d867",
   "metadata": {
    "button": false,
    "new_sheet": true,
    "run_control": {
     "read_only": false
    }
   },
   "source": [
    "### Exercise 1: String Encodings\n",
    "\n",
    "A common way of representing strings is _length-prefixed strings_, a representation made popular by the _PASCAL_ programming language.\n",
    "A length-prefixed string starts with a few bytes that encode the length $L$ of the string, followed by the $L$ actual characters.\n",
    "For instance, assuming that two bytes are used to encode the length, the string `\"Hello\"` could be represented as the sequence\n",
    "\n",
    "```\n",
    "0x00 0x05 'H' 'e' 'l' 'l' 'o'\n",
    "```"
   ]
  },
  {
   "cell_type": "markdown",
   "id": "0f5f3156",
   "metadata": {
    "button": false,
    "new_sheet": true,
    "run_control": {
     "read_only": false
    }
   },
   "source": [
    "#### Part 1: Syntax\n",
    "\n",
    "Write a grammar that defines the syntax of length-prefixed strings."
   ]
  },
  {
   "cell_type": "markdown",
   "id": "c990687f",
   "metadata": {
    "button": false,
    "new_sheet": true,
    "run_control": {
     "read_only": false
    }
   },
   "source": [
    "**Solution.** This is actually pretty easy:"
   ]
  },
  {
   "cell_type": "code",
   "execution_count": null,
   "id": "9d4956b6",
   "metadata": {},
   "outputs": [],
   "source": [
    "import string"
   ]
  },
  {
   "cell_type": "code",
   "execution_count": null,
   "id": "d82fc265",
   "metadata": {},
   "outputs": [],
   "source": [
    "PASCAL_STRING_GRAMMAR: Grammar = {\n",
    "    \"<start>\": [\"<string>\"],\n",
    "    \"<string>\": [\"<length><chars>\"],\n",
    "    \"<length>\": [\"<byte>\"],\n",
    "    \"<byte>\": crange('\\x00', '\\xff'),\n",
    "    \"<chars>\": [\"\", \"<char><chars>\"],\n",
    "    \"<char>\": list(string.printable),\n",
    "}"
   ]
  },
  {
   "cell_type": "code",
   "execution_count": null,
   "id": "eb79cc85",
   "metadata": {
    "tags": []
   },
   "outputs": [],
   "source": [
    "assert is_valid_grammar(PASCAL_STRING_GRAMMAR)"
   ]
  },
  {
   "cell_type": "code",
   "execution_count": null,
   "id": "5fc1511b",
   "metadata": {},
   "outputs": [],
   "source": [
    "fuzzer = GrammarFuzzer(PASCAL_STRING_GRAMMAR)"
   ]
  },
  {
   "cell_type": "code",
   "execution_count": null,
   "id": "453aa873",
   "metadata": {},
   "outputs": [],
   "source": [
    "for _ in range(10):\n",
    "    print(repr(fuzzer.fuzz()))"
   ]
  },
  {
   "cell_type": "markdown",
   "id": "0ebb3119",
   "metadata": {
    "button": false,
    "new_sheet": true,
    "run_control": {
     "read_only": false
    }
   },
   "source": [
    "#### Part 2: Semantics\n",
    "\n",
    "Use ISLa to produce valid length-prefixed strings.\n",
    "Make use of the [SMT-LIB string library](https://smtlib.cs.uiowa.edu/theories-UnicodeStrings.shtml) to find appropriate conversion functions."
   ]
  },
  {
   "cell_type": "markdown",
   "id": "ee402aa8",
   "metadata": {},
   "source": [
    "**Solution.** \n",
    "The function we need is `str.to_code(c)` to convert a single character to its ordinal value (e.g. `str.to_code('0x03') = 3`).\n",
    "With this, we can formulate an appropriate constraint:"
   ]
  },
  {
   "cell_type": "code",
   "execution_count": null,
   "id": "486858b3-9b71-4396-a448-3c4d2b3fdda6",
   "metadata": {},
   "outputs": [],
   "source": [
    "solver = ISLaSolver(PASCAL_STRING_GRAMMAR, \n",
    "            '''\n",
    "            str.to_code(<string>.<length>.<byte>) =\n",
    "            str.len(<string>.<chars>)\n",
    "            ''')"
   ]
  },
  {
   "cell_type": "code",
   "execution_count": null,
   "id": "321ecd82",
   "metadata": {},
   "outputs": [],
   "source": [
    "for _ in range(10):\n",
    "    # Get the solution\n",
    "    solution = solver.solve()\n",
    "    print(f'Solution: {repr(str(solution))}', end=' ')\n",
    "\n",
    "    # Print statistics\n",
    "    low_byte = solution.filter(lambda n: n.value == \"<length>\")[0][1]\n",
    "    chars = solution.filter(lambda n: n.value == \"<chars>\")[0][1]\n",
    "    print(f'(<length> = {ord(str(low_byte))}, len(<chars>) = {len(str(chars))})')\n",
    "    print()"
   ]
  },
  {
   "cell_type": "code",
   "execution_count": null,
   "id": "8a36208b-b07f-4007-9781-4083f147663b",
   "metadata": {},
   "outputs": [],
   "source": [
    "# ignore\n",
    "# We're done, so we can clean up:\n",
    "import os\n",
    "\n",
    "with ExpectError(FileNotFoundError, mute=True):\n",
    "    os.remove('grammar.py')"
   ]
  }
 ],
 "metadata": {
  "ipub": {
   "bibliography": "fuzzingbook.bib",
   "toc": true
  },
  "kernelspec": {
   "display_name": "Python 3 (ipykernel)",
   "language": "python",
   "name": "python3"
  },
  "language_info": {
   "codemirror_mode": {
    "name": "ipython",
    "version": 3
   },
   "file_extension": ".py",
   "mimetype": "text/x-python",
   "name": "python",
   "nbconvert_exporter": "python",
   "pygments_lexer": "ipython3",
   "version": "3.10.2"
  },
  "toc": {
   "base_numbering": 1,
   "nav_menu": {},
   "number_sections": true,
   "sideBar": true,
   "skip_h1_title": true,
   "title_cell": "",
   "title_sidebar": "Contents",
   "toc_cell": false,
   "toc_position": {},
   "toc_section_display": true,
   "toc_window_display": true
  },
  "toc-autonumbering": false
 },
 "nbformat": 4,
 "nbformat_minor": 5
}
