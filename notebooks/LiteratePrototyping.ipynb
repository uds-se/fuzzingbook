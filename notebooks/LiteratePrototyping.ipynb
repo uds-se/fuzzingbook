{
 "cells": [
  {
   "attachments": {},
   "cell_type": "markdown",
   "metadata": {},
   "source": [
    "# Literate Prototyping\n",
    "\n",
    "As scholars in Software Engineering, and as such, we teach others how to build software.  When I get asked what the most important rules for great and long-lasting software are, I usually tell these:\n",
    "\n",
    "1. Have a **repository** for your code where people can contribute\n",
    "2. Make sure that **anyone can build** your software automatically from the source\n",
    "3. Have **automatic tests** that you can run anytime to prevent errors after changes\n",
    "4. Be **open for extension** such that your code can be extended and reused without having to touch core functionality\n",
    "5. Have **examples and tutorials** that allow newcomers to quickly grasp how to use your code.\n",
    "\n",
    "Following these rules will get you the most important benefits of software engineering.  We know this, as we apply them in the software we build ourselves.  Yet, for decades, we have run into the same problems again and again, eventually rendering all the above efforts useless.  Which are these problems?"
   ]
  },
  {
   "attachments": {},
   "cell_type": "markdown",
   "metadata": {},
   "source": [
    "## Research Software: Smelling Heaps of Wire and Duct Tape\n",
    "\n",
    "Much of our research consists of building software.  Not only do we build software for _conducting_ research; the software that we produce and its evaluation actually is the *result* of research.  If we have an idea on how to automatically test software, for instance, we evaluate whether the idea works by implementing the idea in a piece of software and running it on a number of (software) subjects.\n",
    "\n",
    "You would assume that we have some plan in the beginning, craft some elegant algorithm, and then build the software according to plan.  That might be true.  Problem is, though, that the original plan seldom works perfectly, and we need to come up with new, different ideas – which again have to be implemented.  Since these were not planned for in the original software design, the software structure quickly deteriorates, and this becomes a problem.  For decades, our typical software life cycle went like this:\n",
    "\n",
    "1. A PhD student builds some tool for a \"classic\" language, say Java or C.\n",
    "2. While building the tool, research frequently changes course.  Some ideas don't work.  We try out other ideas, which were not planned initially.  We extend the code again and again, but make little effort to get it to work beyond our subject programs.\n",
    "3. We eventually have a tool with several 10,000 lines of code, badly documented, and not very well-structured.\n",
    "4. Every time a new student comes along, the PhD student spends days and weeks introducing the new student to her code.  The new student spends weeks just figuring out how to do things.  Eventually, she manages to get things done, but then, there are only two weeks left before the thesis is due.  She spends one week on the evaluation, and one week on the write-up.  None of the results are reusable.\n",
    "5. When the PhD student leaves, her code is effectively dead.\n",
    "\n",
    "This is how it has always been.  Ask me for the source code of some project that one of my students wrote five years ago.  I can send it to you, no problem, but you won't get it to run; the language has evolved, the tools have evolved – and there is no one left who can tell you how to do things.  Sorry.\n",
    "\n",
    "Is there something we can do to improve things?"
   ]
  },
  {
   "cell_type": "markdown",
   "metadata": {},
   "source": [
    "## Literate Programming to the Rescue?\n",
    "\n",
    "The problem of passing knowledge about code has been around for decades.  Tools like [Javadoc]() provide standards on how to document code (or at least its function interfaces).  Knuth's concept of [literate programming]() allows having a single document that contains both _code_ and an _explanation of all its components_ and how they fit together, resulting in beautifully typeset books that describe all details of the code."
   ]
  },
  {
   "cell_type": "code",
   "execution_count": null,
   "metadata": {},
   "outputs": [],
   "source": [
    "# Have a cweb example!"
   ]
  },
  {
   "cell_type": "markdown",
   "metadata": {},
   "source": [
    "The problem with these techniques is that they describe the _static_ structure of the code, without pointing out any of its _dynamic_ features.  Yet, programmers do not only learn code by reading and understanding it, but also by _executing_ it, by means of _examples_ that illustrate how code is supposed to be used, and the typical results it produces.  If code produces more than just raw data, we need means to put these into diagrams, graphs, and pictures, features any good textbook would use.  "
   ]
  },
  {
   "attachments": {},
   "cell_type": "markdown",
   "metadata": {},
   "source": [
    "## Notebooks Join Code, Text, and Examples\n",
    "\n",
    "This is where the concept of _notebooks_ comes into play.  In a single document, Jupyter Notebooks bring together\n",
    "\n",
    "1. **Code definitions** (functions, constants, classes, ...)\n",
    "2. **Text** (with rich typesetting and \\LaTeX formulas)\n",
    "3. **Code examples** (to be executed right as you enter them)\n",
    "4. **Output** (of the above examples, can be anything that JavaScript produces)\n",
    "5. **Tests** (that check the above outputs against expected values)\n",
    "\n",
    "Like literate programming, Jupyter Notebooks allow joining (and document) code pieces with illustrative text.  Unlike literate programming, however, they also allow including _examples_, lots of examples, which make use of the definitions just entered, and whose rich outputs are visualized right away."
   ]
  },
  {
   "cell_type": "markdown",
   "metadata": {},
   "source": [
    "Let me illustrate these features with – an example.  The `triangle()` program classifies a triangle of lengths $a$, $b$, $c$ into one of three categories – equilateral, scalene, or isosceles.  We can include its definition right within the notebook:"
   ]
  },
  {
   "cell_type": "code",
   "execution_count": null,
   "metadata": {},
   "outputs": [],
   "source": [
    "def triangle(a, b, c):\n",
    "    if a == b:\n",
    "        if b == c:\n",
    "            return 'equilateral'\n",
    "        else:\n",
    "            return 'isosceles'\n",
    "    else:\n",
    "        if b == c:\n",
    "            return 'isosceles'\n",
    "        else:\n",
    "            if a == c:\n",
    "                return 'isosceles'\n",
    "            else:\n",
    "                return 'scalene'"
   ]
  },
  {
   "cell_type": "markdown",
   "metadata": {},
   "source": [
    "In a notebook, we can now go and illustrate how `triangle()` works, showing both an expression and its result:"
   ]
  },
  {
   "cell_type": "code",
   "execution_count": null,
   "metadata": {},
   "outputs": [],
   "source": [
    "triangle(2, 2, 3)"
   ]
  },
  {
   "cell_type": "markdown",
   "metadata": {},
   "source": [
    "We can also integrate a set of tests to ensure that `triangle()` does the right thing.  These checks would be executed every time the program runs."
   ]
  },
  {
   "cell_type": "code",
   "execution_count": null,
   "metadata": {},
   "outputs": [],
   "source": [
    "assert triangle(1, 1, 1) == 'equilateral'\n",
    "assert triangle(3, 4, 5) == 'scalene'"
   ]
  },
  {
   "cell_type": "markdown",
   "metadata": {},
   "source": [
    "We can also include a function that _draws_ a triangle."
   ]
  },
  {
   "cell_type": "code",
   "execution_count": null,
   "metadata": {},
   "outputs": [],
   "source": [
    "import drawSvg as draw"
   ]
  },
  {
   "cell_type": "code",
   "execution_count": null,
   "metadata": {},
   "outputs": [],
   "source": [
    "d = draw.Drawing(120, 120, origin='center')\n",
    "triangle = draw.Path(stroke_width=2, stroke='green', fill='black', fill_opacity=0.1)\n",
    "triangle.M(0, 0)\n",
    "triangle.l(0, 100)\n",
    "triangle.l(100, 100)\n",
    "triangle.Z()\n",
    "d.append(triangle)\n",
    "d"
   ]
  },
  {
   "cell_type": "markdown",
   "metadata": {},
   "source": [
    "Compared to Knuth's literate programming, notebooks do not provide a \"weaving\" feature that allows you to compose a function from several small code pieces, all defined individually.  However, in a notebook, you can use programming language features to decompose a function into several small helpers, which than can all be illustrated with examples individually.  And while one can have examples in literate programming, these have to be created and maintained manually, including their results (and tests).  Only notebooks combine all of the above in a single, self-contained package."
   ]
  },
  {
   "cell_type": "markdown",
   "metadata": {},
   "source": [
    "## Prototyping\n",
    "\n",
    "Notebooks by themselves are language-agnostic; you can use them with any language you like."
   ]
  },
  {
   "cell_type": "markdown",
   "metadata": {},
   "source": [
    "## Jupyter Notebooks as Productivity Boosters\n",
    "\n",
    "One particular nice feature of Python is that it is _interactive_ – you create a function, try it out, alter it a bit, try it out again.  As they allow you to keep track of all your interactions and their results, Jupyter notebooks are a great way of developing a prototype step by step.  As shown in the above examples, output is not limited to strings; you can produce arbitrary graphics and diagrams.  And you can (and should) add text and examples that explain and illustrate what you do."
   ]
  },
  {
   "cell_type": "markdown",
   "metadata": {},
   "source": [
    "These examples also serve as _tests_, as they would execute the code you just tried out.  You can throw in _assertions_ to check code against expectations:"
   ]
  },
  {
   "cell_type": "code",
   "execution_count": null,
   "metadata": {},
   "outputs": [],
   "source": [
    "assert triangle(1, 1, 2) == 'isosceles'\n",
    "assert triangle(2, 2, 2) == 'equilateral'"
   ]
  },
  {
   "cell_type": "markdown",
   "metadata": {},
   "source": [
    "Bringing together code, examples, tests, evaluation, and documentation, the whole notebook is something you can then pass on to students and co-workers to toy with and expand."
   ]
  },
  {
   "cell_type": "markdown",
   "metadata": {},
   "source": [
    "## Our Consequences for Research\n",
    "\n"
   ]
  },
  {
   "cell_type": "markdown",
   "metadata": {},
   "source": [
    "With Python prototypes and Jupyter notebooks, this process gets very different:\n",
    "\n",
    "1. A PhD student builds a prototype in Python (possibly also for Python).\n",
    "2. As the prototype quickly yields results and is easy to change, the code can stay clean.  Iterations are much quicker.\n",
    "3. Once the technique is settled, we create a Jupyter notebook that documents it.\n",
    "4. We can give this notebook to students, who can then easily extend the technique further as part of their research; or port the technique towards some \"classic\" language such as C or Java.  Since they have a clear and documented blueprint, they can start working very quickly.\n",
    "5. The notebook remains as executable, reproducible, and extensible research long after all its authors have left."
   ]
  },
  {
   "cell_type": "markdown",
   "metadata": {},
   "source": [
    "We would not want to endorse Python for program analysis or anything – feel free to use what you like.  What we want to point out, though, is the power of prototyping and literate programming – and Python and Jupyter Notebooks do a great job at this."
   ]
  },
  {
   "cell_type": "markdown",
   "metadata": {},
   "source": [
    "## Our Consequences for Teaching\n",
    "\n",
    "The Python/Notebook style also has advantages for teaching.  Obviously, interactive notebooks make for great course material – students can try out and extend algorithms as they like.  In the classroom, we typically do live coding; we start with some predefined parts and then show how the central algorithms work.  Live coding also allows for plenty of interaction – we can demonstrate alternative solutions, give live quizzes, ask the audience what they think would happen if we execute a particular line of code.  For more conventional lectures, Jupyter notebooks can be converted into very pretty slide shows.  And again, all this is enabled by the simple code and the speed of prototyping in Python."
   ]
  },
  {
   "cell_type": "markdown",
   "metadata": {},
   "source": [
    "## Lessons Learned"
   ]
  }
 ],
 "metadata": {
  "kernelspec": {
   "display_name": "Python 3",
   "language": "python",
   "name": "python3"
  },
  "language_info": {
   "codemirror_mode": {
    "name": "ipython",
    "version": 3
   },
   "file_extension": ".py",
   "mimetype": "text/x-python",
   "name": "python",
   "nbconvert_exporter": "python",
   "pygments_lexer": "ipython3",
   "version": "3.6.8"
  }
 },
 "nbformat": 4,
 "nbformat_minor": 2
}
