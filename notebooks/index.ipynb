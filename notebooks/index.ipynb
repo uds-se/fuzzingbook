{
 "cells": [
  {
   "cell_type": "markdown",
   "metadata": {},
   "source": [
    "# About this Book\n",
    "\n",
    "__Welcome to \"The Fuzzing Book\"!__ \n",
    "Software has bugs, and catching bugs can involve lots of effort.  This book addresses this problem by _automating_ software testing, specifically by _generating tests automatically_.  Recent years have seen the development of novel techniques that lead to dramatic improvements in test generation and software testing.  They now are mature enough to be assembled in a book – even with executable code. "
   ]
  },
  {
   "cell_type": "code",
   "execution_count": null,
   "metadata": {},
   "outputs": [],
   "source": [
    "from bookutils import YouTubeVideo\n",
    "YouTubeVideo(\"w4u5gCgPlmg\")"
   ]
  },
  {
   "cell_type": "markdown",
   "metadata": {},
   "source": [
    "## A Textbook for Paper, Screen, and Keyboard\n",
    "\n",
    "You can use this book in four ways:\n",
    "\n",
    "* You can __read chapters in your browser__.  Check out the list of chapters in the menu above, or start right away with the [introduction to testing](Intro_Testing.ipynb) or the [introduction to fuzzing](Fuzzer.ipynb).  All code is available for download.\n",
    "\n",
    "* You can __interact with chapters as Jupyter Notebooks__ (beta).  This allows you to edit and extend the code, experimenting _live in your browser._  Simply select \"Resources → Edit as Notebook\" at the top of each chapter. <a href=\"https://mybinder.org/v2/gh/uds-se/fuzzingbook/master?filepath=docs/notebooks/Fuzzer.ipynb\" target=_blank>Try interacting with the introduction to fuzzing.</a>\n",
    "\n",
    "* You can __use the code in your own projects__.  You can download the code as Python programs; simply select \"Resources → Download Code\" for one chapter or \"Resources → All Code\" for all chapters.  These code files can be executed, yielding (hopefully) the same results as the notebooks.  Even easier: [Install the fuzzingbook Python package](Importing.ipynb).\n",
    "\n",
    "* You can __present chapters as slides__.  This allows for presenting the material in lectures.  Just select \"Resources → View slides\" at the top of each chapter. <a href=\"https://www.fuzzingbook.org/slides/Fuzzer.slides.html\" target=_blank>Try viewing the slides for the introduction to fuzzing.</a>"
   ]
  },
  {
   "cell_type": "markdown",
   "metadata": {},
   "source": [
    "## Who this Book is for\n",
    "\n",
    "This work is designed as a _textbook_ for a course in software testing or security testing; as _supplementary material_ in a software testing, security testing, or software engineering course; and as a _resource for software developers_. We cover random fuzzing, mutation-based fuzzing, grammar-based test generation, symbolic testing, and much more, illustrating all techniques with code examples that you can try out yourself."
   ]
  },
  {
   "cell_type": "markdown",
   "metadata": {},
   "source": [
    "## News\n",
    "\n",
    "This book is _work in progress._  All chapters planned are out now, but we keep on refining text and code with [minor and major releases.](ReleaseNotes.ipynb)  To get notified on updates, <a href=\"https://mastodon.social/invite/3CvrkW9t\">follow us on Mastodon</a>.\n",
    "\n",
    "<!--\n",
    "<iframe allowfullscreen sandbox=\"allow-top-navigation allow-scripts allow-popups allow-popups-to-escape-sandbox\" width=\"400\" height=\"400\" frameBorder=\"0\" src=\"https://mastofeed.com/apiv2/feed?userurl=https%3A%2F%2Fmastodon.social%2Fusers%2FTheFuzzingBook&theme=auto&size=80&header=false&replies=false&boosts=false\"></iframe>\n",
    "-->"
   ]
  },
  {
   "cell_type": "markdown",
   "metadata": {},
   "source": [
    "<link rel=\"stylesheet\" href=\"/html/mastodon-timeline.css\" />\n",
    "<script src=\"/html/mastodon-timeline.js\"></script>\n",
    "<div class=\"mt-timeline\">\n",
    "  <div id=\"mt-body\" class=\"mt-body\" role=\"feed\">\n",
    "    <div class=\"loading-spinner\"></div>\n",
    "  </div>\n",
    "</div>"
   ]
  },
  {
   "cell_type": "markdown",
   "metadata": {},
   "source": [
    "## About the Authors\n",
    "\n",
    "This book is written by _Andreas Zeller, Rahul Gopinath, Marcel Böhme, Gordon Fraser, and Christian Holler_.  All of us are long-standing experts in software testing and test generation; and we have written or contributed to some of the most important test generators and fuzzers on the planet.  As an example, if you are reading this in a Firefox, Chrome, or Edge Web browser, you can do so safely partly because of us, as _the very techniques listed in this book have found more than 2,600 bugs in their JavaScript interpreters so far._  We are happy to share our expertise and making it accessible to the public."
   ]
  },
  {
   "cell_type": "markdown",
   "metadata": {},
   "source": [
    "## Frequently Asked Questions"
   ]
  },
  {
   "cell_type": "markdown",
   "metadata": {},
   "source": [
    "### Troubleshooting"
   ]
  },
  {
   "cell_type": "markdown",
   "metadata": {},
   "source": [
    "#### Why does it take so long to start an interactive notebook?\n",
    "\n",
    "The interactive notebook uses the [mybinder.org](https://mybinder.org) service, which runs notebooks on their own servers.  Starting Jupyter through mybinder.org normally takes about 30 seconds, depending on your Internet connection. If, however, you are the first to invoke binder after a book update, binder recreates its environment, which will take a few minutes.  Reload the page occasionally."
   ]
  },
  {
   "attachments": {},
   "cell_type": "markdown",
   "metadata": {},
   "source": [
    "#### The interactive notebook does not work!\n",
    "\n",
    "mybinder.org imposes a [limit of 100 concurrent users for a repository](https://mybinder.readthedocs.io/en/latest/user-guidelines.html).  Also, as listed on the [mybinder.org status and reliability page](https://mybinder.readthedocs.io/en/latest/reliability.html),\n",
    "\n",
    "> As mybinder.org is a research pilot project, the main goal for the project is to understand usage patterns and workloads for future project evolution. While we strive for site reliability and availability, we want our users to understand the intent of this service is research and we offer no guarantees of its performance in mission critical uses."
   ]
  },
  {
   "cell_type": "markdown",
   "metadata": {},
   "source": [
    "There are alternatives to mybinder.org; see below."
   ]
  },
  {
   "attachments": {},
   "cell_type": "markdown",
   "metadata": {},
   "source": [
    "#### Do I have alternatives to the interactive notebook?\n",
    "\n",
    "If mybinder.org does not work or match your needs, you have a number of alternatives:\n",
    "\n",
    "1. **Download the Python code** (using the menu at the top) and edit and run it in your favorite environment.  This is easy to do and does not require lots of resources.\n",
    "\n",
    "2. **Download the Jupyter Notebooks** (using the menu at the top) and open them in Jupyter.  Here's [how to install jupyter notebook on your machine](https://www.dataquest.io/blog/jupyter-notebook-tutorial/).\n",
    "\n",
    "3. If you want to use the book in a classroom, and depend on your users having access to the interactive notebooks, consider using or deploying a [JupyterHub](http://jupyter.org/hub) or [BinderHub](https://github.com/jupyterhub/binderhub) instance."
   ]
  },
  {
   "cell_type": "markdown",
   "metadata": {},
   "source": [
    "#### Can I run the code on my Windows machine?"
   ]
  },
  {
   "attachments": {},
   "cell_type": "markdown",
   "metadata": {},
   "source": [
    "We try to keep the code as general as possible, but occasionally, when we interact with the operating system, we assume a Unix-like environment (because that is what Binder provides).  To run these examples on your own Windows machine, you can install a Linux Subsystem or a Linux Virtual Machine."
   ]
  },
  {
   "cell_type": "markdown",
   "metadata": {},
   "source": [
    "#### Can't you run your own dedicated cloud service?\n",
    "\n",
    "Technically, yes; but this would cost money and effort, which we'd rather spend on the book at this point.  If you'd like to host a [JupyterHub](http://jupyter.org/hub) or [BinderHub](https://github.com/jupyterhub/binderhub) instance for the public, please _do so_ and let us know."
   ]
  },
  {
   "cell_type": "markdown",
   "metadata": {},
   "source": [
    "### Content"
   ]
  },
  {
   "cell_type": "markdown",
   "metadata": {},
   "source": [
    "#### Can I use your code in my own programs?\n",
    "\n",
    "Yes!  See the [installation instructions](Importing.ipynb) for details."
   ]
  },
  {
   "cell_type": "markdown",
   "metadata": {},
   "source": [
    "#### Which content has come up?\n",
    "\n",
    "See the [release notes](ReleaseNotes.ipynb) for details."
   ]
  },
  {
   "cell_type": "markdown",
   "metadata": {},
   "source": [
    "#### How do I cite your work?\n",
    "\n",
    "Thanks for referring to our work!  Once the book is complete, you will be able to cite it in the traditional way.  In the meantime, just click on the \"cite\" button at the bottom of the Web page for each chapter to get a citation entry."
   ]
  },
  {
   "cell_type": "markdown",
   "metadata": {},
   "source": [
    "#### Can you cite my paper?  And possibly write a chapter about it?\n",
    "\n",
    "We're always happy to get suggestions!  If we missed an important reference, we will of course add it.  If you'd like specific material to be covered, the best way is to _write a notebook_ yourself; see our [Guide for Authors](Guide_for_Authors.ipynb) for instructions on coding and writing.  We can then refer to it or even host it."
   ]
  },
  {
   "cell_type": "markdown",
   "metadata": {},
   "source": [
    "### Teaching and Coursework"
   ]
  },
  {
   "cell_type": "markdown",
   "metadata": {},
   "source": [
    "#### Can I use your material in my course?\n",
    "\n",
    "Of course!  Just respect the [license](https://github.com/uds-se/fuzzingbook/blob/master/LICENSE.md) (including attribution and share alike).  If you want to use the material for commercial purposes, contact us."
   ]
  },
  {
   "cell_type": "markdown",
   "metadata": {},
   "source": [
    "#### Can I extend or adapt your material?\n",
    "\n",
    "Yes!  Again, please see the [license](https://github.com/uds-se/fuzzingbook/blob/master/LICENSE.md) for details."
   ]
  },
  {
   "cell_type": "markdown",
   "metadata": {},
   "source": [
    "#### How can I run a course based on the book?\n",
    "\n",
    "We have successfully used the material in various courses.  \n",
    "\n",
    "* Initially, we used the slides and code and did _live coding_ in lectures to illustrate how a technique works. \n",
    "\n",
    "* Now, the goal of the book is to be completely self-contained; that is, it should work without additional support.  Hence, we now give out completed chapters to students in a _flipped classroom_ setting, with the students working on the notebooks at their leisure.  We would meet in the classroom to discuss experiences with past notebooks and discuss future notebooks.\n",
    "\n",
    "* We have the students work on exercises from the book or work on larger (fuzzing) projects.  We also have students who use the book as a base for their research; indeed, it is very easy to prototype in Python for Python.\n",
    "\n",
    "When running a course, [do not rely on mybinder.org](#Troubleshooting) – it will not provide sufficient resources for a larger group of students.  Instead, [install and run your own hub.](#Do-I-have-alternatives-to-the-interactive-notebook?)"
   ]
  },
  {
   "cell_type": "markdown",
   "metadata": {},
   "source": [
    "#### Are there specific subsets I can focus on?\n",
    "\n",
    "We have compiled a number of [tours through the book](Tours.ipynb) for various audiences.  Our [Sitemap](00_Table_of_Contents.ipynb) lists the dependencies between the individual chapters."
   ]
  },
  {
   "cell_type": "markdown",
   "metadata": {},
   "source": [
    "#### How can I extend or adapt your slides?\n",
    "\n",
    "Download the Jupyter Notebooks (using the menu at the top) and adapt the notebooks at your leisure (see above), including \"Slide Type\" settings.  Then,\n",
    "\n",
    "1. Download slides from Jupyter Notebook; or\n",
    "2. Use the RISE extension ([instructions](http://www.blog.pythonlibrary.org/2018/09/25/creating-presentations-with-jupyter-notebook/)) to present your slides right out of Jupyter notebook."
   ]
  },
  {
   "cell_type": "markdown",
   "metadata": {},
   "source": [
    "#### Do you provide PDFs of your material?\n",
    "\n",
    "At this point, we do not provide support for PDF versions.  We will be producing PDF and print versions after the book is complete."
   ]
  },
  {
   "cell_type": "markdown",
   "metadata": {},
   "source": [
    "### Other Issues"
   ]
  },
  {
   "attachments": {},
   "cell_type": "markdown",
   "metadata": {},
   "source": [
    "#### I have a question, comment, or a suggestion.  What do I do?\n",
    "\n",
    "You can post to [@TheFuzzingBook@mastodon.social on Mastodon](https://mastodon.social/@TheFuzzingBook), allowing the community of readers to chime in.\n",
    "For bugs that you'd like to get fixed, report an issue on the [development page](https://github.com/uds-se/fuzzingbook/issues)."
   ]
  },
  {
   "cell_type": "markdown",
   "metadata": {},
   "source": [
    "#### I have reported an issue two weeks ago.  When will it be addressed?\n",
    "\n",
    "We prioritize issues as follows:\n",
    "\n",
    "1. Bugs in code published on fuzzingbook.org\n",
    "2. Bugs in text published on fuzzingbook.org\n",
    "3. Writing missing chapters\n",
    "4. Issues in yet unpublished code or text\n",
    "5. Issues related to development or construction\n",
    "6. Things marked as \"beta\"\n",
    "7. Everything else"
   ]
  },
  {
   "cell_type": "markdown",
   "metadata": {},
   "source": [
    "#### How can I solve problems myself?\n",
    "\n",
    "We're glad you ask that.  The [development page](https://github.com/uds-se/fuzzingbook/) has all sources and some supplementary material.  Pull requests that fix issues are very welcome."
   ]
  },
  {
   "cell_type": "markdown",
   "metadata": {},
   "source": [
    "#### How can I contribute?\n",
    "\n",
    "Again, we're glad you're here!  We are happy to accept \n",
    "\n",
    "* **Code fixes and improvements.**  Please place any code under the MIT license such that we can easily include it.\n",
    "* **Additional text, chapters, and notebooks** on specialized topics.  We plan to set up a special folder for third-party contributions.\n",
    "\n",
    "See our [Guide for Authors](Guide_for_Authors.ipynb) for instructions on coding and writing."
   ]
  }
 ],
 "metadata": {
  "ipub": {
   "bibliography": "fuzzingbook.bib",
   "listcode": true,
   "listfigures": true,
   "listtables": true,
   "titlepage": {
    "author": "Andreas Zeller, Rahul Gopinath, Marcel Böhme, Gordon Fraser, and Christian Holler",
    "subtitle": "Tools and Techniques for Generating Software Tests",
    "title": "The Fuzzing Book"
   },
   "toc": true
  },
  "kernelspec": {
   "display_name": "Python 3",
   "language": "python",
   "name": "python3"
  },
  "language_info": {
   "codemirror_mode": {
    "name": "ipython",
    "version": 3
   },
   "file_extension": ".py",
   "mimetype": "text/x-python",
   "name": "python",
   "nbconvert_exporter": "python",
   "pygments_lexer": "ipython3",
   "version": "3.11.6"
  },
  "toc": {
   "base_numbering": 1,
   "nav_menu": {},
   "number_sections": true,
   "sideBar": true,
   "skip_h1_title": true,
   "title_cell": "",
   "title_sidebar": "Contents",
   "toc_cell": false,
   "toc_position": {},
   "toc_section_display": true,
   "toc_window_display": true
  },
  "toc-autonumbering": false
 },
 "nbformat": 4,
 "nbformat_minor": 4
}
